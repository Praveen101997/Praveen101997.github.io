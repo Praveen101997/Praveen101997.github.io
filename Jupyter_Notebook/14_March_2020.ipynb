{
 "cells": [
  {
   "cell_type": "markdown",
   "metadata": {},
   "source": [
    "**------------------------Questions Covered-----------------------------**"
   ]
  },
  {
   "cell_type": "markdown",
   "metadata": {},
   "source": [
    "***1\tArray\thttps://www.geeksforgeeks.org/space-optimization-using-bit-manipulations/\tPep_JavaIP_1Arrays_46SpaceOptimizationUsingBits\tBitManipulation\t\t\t\t\t\t\t\t\t\t\t\t\t\t\t\t\t\t\t\t\t\t\t\n",
    "1\tArray\thttps://www.geeksforgeeks.org/mos-algorithm-query-square-root-decomposition-set-1-introduction/\tSQUARE ROOT DECOMPOSTION (enough said :p)\t\t\t\t\t\t\t\t\t\t\t\t\t\t\t\t\t\t\t\t\t\t\t\t\n",
    "2\tSearching & Sorting\thttps://www.geeksforgeeks.org/majority-element/\tPep_JavaIP_2SnS_48MajorityElement\t\t\t\t\t\t\t\t\t\t\t\t\t\t\t\t\t\t\t\t\t\t\t\t\n",
    "2\tSearching & Sorting\thttps://www.geeksforgeeks.org/searching-array-adjacent-differ-k/\tPep_JavaIP_2SnS_49SearchingInAnArray\t\t\t\t\t\t\t\t\t\t\t\t\t\t\t\t\t\t\t\t\t\t\t\t\n",
    "2\tSearching & Sorting\thttps://www.geeksforgeeks.org/find-a-repeating-and-a-missing-number/\tPep_JavaIP_2SnS_50FindRepeatingAndMissing\t\t\t\t\t\t\t\t\t\t\t\t\t\t\t\t\t\t\t\t\t\t\t\t\n",
    "2\tSearching & Sorting\thttps://www.geeksforgeeks.org/ceiling-in-a-sorted-array/\tPep_JavaIP_2SnS_51Ceiling\t\t\t\t\t\t\t\t\t\t\t\t\t\t\t\t\t\t\t\t\t\t\t\t\n",
    "2\tSearching & Sorting\thttps://www.geeksforgeeks.org/find-a-pair-with-the-given-difference/\tvariation of simple problem\t\t\t\t\t\t\t\t\t\t\t\t\t\t\t\t\t\t\t\t\t\t\t\t\n",
    "2\tSearching & Sorting\thttps://www.geeksforgeeks.org/find-four-elements-that-sum-to-a-given-value-set-2/\tPep_JavaIP_2SnS_53QuadrupletSum\t\t\t\t\t\t\t\t\t\t\t\t\t\t\t\t\t\t\t\t\t\t\t\t\n",
    "2\tSearching & Sorting\thttps://www.geeksforgeeks.org/median-of-two-sorted-arrays-of-different-sizes/\tPep_JavaIP_2SnS_54MedianOfTwoSortedArrays\tbreaker\t\t\t\t\t\t\t\t\t\t\t\t\t\t\t\t\t\t\t\t\t\t\t\n",
    "2\tSearching & Sorting\thttps://www.geeksforgeeks.org/maximum-sum-such-that-no-two-elements-are-adjacent/\tinclusion- exclusion\t\t\t\t\t\t\t\t\t\t\t\t\t\t\t\t\t\t\t\t\t\t\t\t\n",
    "2\tSearching & Sorting\thttps://www.geeksforgeeks.org/find-common-elements-three-sorted-arrays/\tvariation of intersection of arrays\t\t\t\t\t\t\t\t\t\t\t\t\t\t\t\t\t\t\t\t\t\t\t\t\n",
    "2\tSearching & Sorting\thttps://www.geeksforgeeks.org/count-triplets-with-sum-smaller-that-a-given-value/\t\t\t\t\t\t\t\t\t\t\t\t\t\t\t\t\t\t\t\t\t\t\t\t\t\n",
    "2\tSearching & Sorting\thttps://www.geeksforgeeks.org/merge-two-sorted-arrays-o1-extra-space/\tnot so easy to understand\tbreaker\t\t\t\t\t\t\t\t\t\t\t\t\t\t\t\t\t\t\t\t\t\t\t\n",
    "2\tSearching & Sorting\thttps://www.geeksforgeeks.org/3-way-quicksort-dutch-national-flag/\tPep_JavaIP_2SnS_593WayPartition\t\t\t\t\t\t\t\t\t\t\t\t\t\t\t\t\t\t\t\t\t\t\t\t\n",
    "2\tSearching & Sorting\thttps://www.geeksforgeeks.org/counting-sort/\tPep_JavaIP_2SnS_60CountingSort***"
   ]
  },
  {
   "cell_type": "code",
   "execution_count": 1,
   "metadata": {},
   "outputs": [],
   "source": [
    "import java.util.*;\n",
    "import java.io.*;\n",
    "import java.util.Arrays;\n",
    "String[] args =new String[0];"
   ]
  },
  {
   "cell_type": "markdown",
   "metadata": {},
   "source": [
    "## **46. Space optimization using bit manipulations**\n",
    "https://www.geeksforgeeks.org/space-optimization-using-bit-manipulations/"
   ]
  },
  {
   "cell_type": "code",
   "execution_count": 2,
   "metadata": {},
   "outputs": [],
   "source": [
    "/*\n",
    "There are many situations where we use integer values as index in array to see presence or absence, \n",
    "we can use bit manipulations to optimize space in such problems.\n",
    "\n",
    "Let us consider below problem as an example.\n",
    "\n",
    "Given two numbers say a and b, \n",
    "mark the multiples of 2 and 5 between a and b using less than O(|b – a|) space and output each of the multiples.\n",
    "\n",
    "Note : \n",
    "    We have to mark the multiples \n",
    "    i.e save (key, value) pairs in memory such that each key either have value as 1 or 0 representing as multiple of 2 or 5 or not respectively.\n",
    "*/"
   ]
  },
  {
   "cell_type": "code",
   "execution_count": 3,
   "metadata": {},
   "outputs": [],
   "source": [
    "/*\n",
    "Examples :\n",
    "\n",
    "Input : 2 10\n",
    "Output : 2 4 5 6 8 10\n",
    "\n",
    "Input: 60 95\n",
    "Output: 60 62 64 65 66 68 70 72 74 75 76 78 \n",
    "        80 82 84 85 86 88 90 92 94 95\n",
    "*/"
   ]
  },
  {
   "cell_type": "code",
   "execution_count": 4,
   "metadata": {},
   "outputs": [],
   "source": [
    "/*\n",
    "Approach 1 (Simple):\n",
    "Hash the indices in an array from a to b and mark each of the indices as 1 or 0.\n",
    "Space complexity : O(max(a, b))\n",
    "*/"
   ]
  },
  {
   "cell_type": "markdown",
   "metadata": {},
   "source": [
    "<img src = \"https://media.geeksforgeeks.org/wp-content/uploads/Array1.png\"/>"
   ]
  },
  {
   "cell_type": "code",
   "execution_count": 5,
   "metadata": {},
   "outputs": [],
   "source": [
    "/*\n",
    "Approach 2 (Better than simple):\n",
    "Save memory, by translating a to 0th index and b to (b-a)th index.\n",
    "Space complexity : O(|b-a|).\n",
    "\n",
    "Simply hash |b – a| positions of an array as 0 and 1.\n",
    "*/"
   ]
  },
  {
   "cell_type": "markdown",
   "metadata": {},
   "source": [
    "<img src =\"https://media.geeksforgeeks.org/wp-content/uploads/Array_updated.png\"/>"
   ]
  },
  {
   "cell_type": "code",
   "execution_count": 6,
   "metadata": {},
   "outputs": [
    {
     "name": "stdout",
     "output_type": "stream",
     "text": [
      "MULTIPLES of 2 and 5:\n",
      "2 4 5 6 8 10 "
     ]
    }
   ],
   "source": [
    "// Driver code \n",
    "public static void main(String[] args) \n",
    "{ \n",
    "    int a = 2, b = 10; \n",
    "    int size = Math.abs(b - a) + 1; \n",
    "    int array[] = new int[size]; \n",
    "\n",
    "    // Iterate through a to b, If  \n",
    "    // it is a multiple of 2 or 5  \n",
    "    // Mark index in array as 1 \n",
    "    for (int i = a; i <= b; i++) \n",
    "        if (i % 2 == 0 || i % 5 == 0) \n",
    "            array[i - a] = 1; \n",
    "\n",
    "    System.out.println(\"MULTIPLES of 2\"\n",
    "                          + \" and 5:\"); \n",
    "    for (int i = a; i <= b; i++) \n",
    "        if (array[i - a] == 1) \n",
    "            System.out.printf(i + \" \"); \n",
    "} \n",
    "main(args)"
   ]
  },
  {
   "cell_type": "code",
   "execution_count": 7,
   "metadata": {},
   "outputs": [],
   "source": [
    "/*\n",
    "Approach 3 (Using Bit Manipulations):\n",
    "\n",
    "Here is a space optimized which uses bit manipulation technique \n",
    "that can be applied to problems mapping binary values in arrays.\n",
    "Size of int variable in 64-bit compiler is 4 bytes. \n",
    "1 byte is represented by 8 bit positions in memory. \n",
    "So, an integer in memory is represented by 32 bit positions(4 Bytes) \n",
    "these 32 bit positions can be used instead of just one index to hash binary values.\n",
    "*/"
   ]
  },
  {
   "cell_type": "markdown",
   "metadata": {},
   "source": [
    "<img src = \"https://media.geeksforgeeks.org/wp-content/uploads/Array_32bit.png\"/>"
   ]
  },
  {
   "cell_type": "code",
   "execution_count": 8,
   "metadata": {},
   "outputs": [],
   "source": [
    "// index >> 5 corresponds to dividing index by 32  \n",
    "// index & 31 corresponds to modulo operation of  \n",
    "// index by 32  \n",
    "\n",
    "// Function to check value of bit position whether  \n",
    "// it is zero or one  \n",
    "static boolean checkbit(int array[], int index)  \n",
    "{  \n",
    "        int val = array[index >> 5] & (1 << (index & 31)); \n",
    "        if (val == 0) \n",
    "            return false; \n",
    "        return true;  \n",
    "}  \n",
    "\n",
    "// Sets value of bit for corresponding index  \n",
    "static void setbit(int array[], int index)  \n",
    "{  \n",
    "        array[index >> 5] |= (1 << (index & 31));  \n",
    "} "
   ]
  },
  {
   "cell_type": "code",
   "execution_count": 9,
   "metadata": {},
   "outputs": [
    {
     "name": "stdout",
     "output_type": "stream",
     "text": [
      "MULTIPLES of 2 and 5:\n",
      "2 4 5 6 8 10 "
     ]
    }
   ],
   "source": [
    "// Driver code \n",
    "public static void main(String args[]) \n",
    "{ \n",
    "    int a = 2, b = 10;  \n",
    "    int size = Math.abs(b-a); \n",
    "\n",
    "    // Size that will be used is actual_size/32  \n",
    "    // ceil is used to initialize the array with  \n",
    "    // positive number \n",
    "    size = (int)Math.ceil((double)size / 32); \n",
    "\n",
    "    // Array is dynamically initialized as  \n",
    "    // we are calculating size at run time  \n",
    "    int[] array = new int[size]; \n",
    "\n",
    "    // Iterate through every index from a to b and  \n",
    "    // call setbit() if it is a multiple of 2 or 5  \n",
    "    for (int i = a; i <= b; i++)  \n",
    "        if (i % 2 == 0 || i % 5 == 0)  \n",
    "            setbit(array, i - a); \n",
    "\n",
    "    System.out.println(\"MULTIPLES of 2 and 5:\"); \n",
    "    for (int i = a; i <= b; i++)  \n",
    "        if (checkbit(array, i - a))  \n",
    "            System.out.print(i + \" \");  \n",
    "} \n",
    "main(args)"
   ]
  },
  {
   "cell_type": "markdown",
   "metadata": {},
   "source": [
    "## **47. MO’s Algorithm (Query Square Root Decomposition) | Set 1 (Introduction)**\n",
    "https://www.geeksforgeeks.org/mos-algorithm-query-square-root-decomposition-set-1-introduction/"
   ]
  },
  {
   "cell_type": "code",
   "execution_count": 10,
   "metadata": {},
   "outputs": [],
   "source": [
    "/*\n",
    "Let us consider the following problem to understand MO’s Algorithm.\n",
    "\n",
    "We are given an array and a set of query ranges, we are required to find the sum of every query range.\n",
    "*/"
   ]
  },
  {
   "cell_type": "code",
   "execution_count": 11,
   "metadata": {},
   "outputs": [],
   "source": [
    "/*\n",
    "Example:\n",
    "\n",
    "Input:  arr[]   = {1, 1, 2, 1, 3, 4, 5, 2, 8};\n",
    "        query[] = [0, 4], [1, 3] [2, 4]\n",
    "Output: Sum of arr[] elements in range [0, 4] is 8\n",
    "        Sum of arr[] elements in range [1, 3] is 4  \n",
    "        Sum of arr[] elements in range [2, 4] is 6\n",
    "*/"
   ]
  },
  {
   "cell_type": "code",
   "execution_count": 12,
   "metadata": {},
   "outputs": [],
   "source": [
    "/*\n",
    "A Naive Solution is to run a loop from L to R and calculate the sum of elements in given range for every query [L, R].\n",
    "The time complexity of above solution is O(mn).\n",
    "*/"
   ]
  },
  {
   "cell_type": "markdown",
   "metadata": {},
   "source": [
    "**https://ideone.com/xelssq**"
   ]
  },
  {
   "cell_type": "code",
   "execution_count": 13,
   "metadata": {},
   "outputs": [],
   "source": [
    "/*\n",
    "The idea of MO’s algorithm is to pre-process all queries so that result of one query can be used in next query. \n",
    "Below are steps.\n",
    "Let a[0…n-1] be input array and q[0..m-1] be array of queries.\n",
    "\n",
    "1. Sort all queries in a way that queries with L values from 0 to √n – 1 are put together, \n",
    "    then all queries from √n to 2*√n – 1, and so on. \n",
    "    All queries within a block are sorted in increasing order of R values.\n",
    "2. Process all queries one by one in a way that every query uses sum computed in the previous query.\n",
    "    i.   Let ‘sum’ be sum of previous query.\n",
    "    ii.  Remove extra elements of previous query. \n",
    "         For example if previous query is [0, 8] and current query is [3, 9], \n",
    "         then we subtract a[0],a[1] and a[2] from sum\n",
    "    iii. Add new elements of current query. In the same example as above, we add a[9] to sum.\n",
    "*/"
   ]
  },
  {
   "cell_type": "code",
   "execution_count": 14,
   "metadata": {},
   "outputs": [],
   "source": [
    "/*\n",
    "The great thing about this algorithm is, \n",
    "in step 2, \n",
    "index variable for R change at most O(n * √n) times throughout the run \n",
    "and same for L changes its value at most O(m * √n) times \n",
    "(See below, after the code, for details). \n",
    "All these bounds are possible only because the queries are sorted first in blocks of √n size.\n",
    "\n",
    "The preprocessing part takes O(m Log m) time.\n",
    "Processing all queries takes O(n * √n) + O(m * √n) = O((m+n) * √n) time.\n",
    "*/"
   ]
  },
  {
   "cell_type": "markdown",
   "metadata": {},
   "source": [
    "**https://ideone.com/vpW9Yr**"
   ]
  },
  {
   "cell_type": "code",
   "execution_count": 15,
   "metadata": {},
   "outputs": [],
   "source": [
    "/*\n",
    "Important Observations:\n",
    "\n",
    "1. All queries are known beforehead so that they can be preprocessed\n",
    "2. It cannot work for problems where we have update operations also mixed with sum queries.\n",
    "3. MO’s algorithm can only be used for query problems where a query can be computed from results of the previous query. \n",
    "   One more such example is maximum or minimum.\n",
    "*/"
   ]
  },
  {
   "cell_type": "code",
   "execution_count": 16,
   "metadata": {},
   "outputs": [],
   "source": [
    "/*\n",
    "How much currR is moved? \n",
    "    For each block, queries are sorted in increasing order of R. \n",
    "    So, for a block, currR moves in increasing order. \n",
    "    In worst case, before beginning of every block, currR at extreme right and current block moves it back the extreme left. \n",
    "    This means that for every block, currR moves at most O(n). \n",
    "    Since there are O(√n) blocks, total movement of currR is O(n * √n).\n",
    "    \n",
    "How much currL is moved? \n",
    "    Since all queries are sorted in a way that L values are grouped by blocks, \n",
    "    movement is O(√n) when we move from one query to another quert. \n",
    "    For m queries, total movement of currL is O(m * √n)\n",
    "*/"
   ]
  },
  {
   "cell_type": "markdown",
   "metadata": {},
   "source": [
    "***http://blog.anudeep2011.com/mos-algorithm/***"
   ]
  },
  {
   "cell_type": "markdown",
   "metadata": {},
   "source": [
    "## **48. Majority Element**\n",
    "https://www.geeksforgeeks.org/majority-element/"
   ]
  },
  {
   "cell_type": "code",
   "execution_count": 17,
   "metadata": {},
   "outputs": [],
   "source": [
    "/*\n",
    "Write a function which takes an array \n",
    "and prints the majority element (if it exists), \n",
    "otherwise prints “No Majority Element”. \n",
    "A majority element in an array A[] of size n is an element that appears more than n/2 times \n",
    "(and hence there is at most one such element).\n",
    "*/"
   ]
  },
  {
   "cell_type": "code",
   "execution_count": 18,
   "metadata": {},
   "outputs": [],
   "source": [
    "/*\n",
    "Examples :\n",
    "\n",
    "Input : {3, 3, 4, 2, 4, 4, 2, 4, 4}\n",
    "Output : 4 \n",
    "\n",
    "Input : {3, 3, 4, 2, 4, 4, 2, 4}\n",
    "Output : No Majority Element\n",
    "*/"
   ]
  },
  {
   "cell_type": "code",
   "execution_count": 19,
   "metadata": {},
   "outputs": [],
   "source": [
    "/*\n",
    "METHOD 1 (Basic)\n",
    "\n",
    "The basic solution is to have two loops and keep track of maximum count for all different elements. \n",
    "If maximum count becomes greater than n/2 then break the loops and return the element having maximum count. \n",
    "If maximum count doesn’t become more than n/2 then majority element doesn’t exist.\n",
    "\n",
    "Time Complexity : O(n*n).\n",
    "Auxiliary Space : O(1).\n",
    "*/"
   ]
  },
  {
   "cell_type": "code",
   "execution_count": 20,
   "metadata": {},
   "outputs": [],
   "source": [
    "/*\n",
    "METHOD 2 (Using Binary Search Tree)\n",
    "\n",
    "Insert elements in BST one by one and if an element is already present then increment the count of the node. \n",
    "At any stage, if count of a node becomes more than n/2 then return.\n",
    "The method works well for the cases where n/2+1 occurrences of the majority element is present in the starting of the array, \n",
    "for example {1, 1, 1, 1, 1, 2, 3, 4}.\n",
    "\n",
    "Time Complexity : If a Binary Search Tree is used then time complexity will be O(n^2). \n",
    "                  If a self-balancing-binary-search tree is used then O(nlogn)\n",
    "Auxiliary Space : O(n)\n",
    "*/"
   ]
  },
  {
   "cell_type": "code",
   "execution_count": 21,
   "metadata": {},
   "outputs": [],
   "source": [
    "/*\n",
    "METHOD 3 (Using Moore’s Voting Algorithm)\n",
    "Time Complexity: O(n)\n",
    "Auxiliary Space : O(1)\n",
    "\n",
    "This is a two step process.\n",
    "\n",
    "NOTE :  This Method only works when we are given that majority element do exist in the array , \n",
    "        otherwise this method won’t work , \n",
    "        as in the problem definition we said that majority element may or may not exist but for applying this approach you can assume that majority element do exist in the given input array\n",
    "\n",
    "1. The first step gives the element that may be majority element in the array. \n",
    "   If there is a majority element in an array, then this step will definitely return majority element, \n",
    "   otherwise it will return candidate for majority element.\n",
    "2. Check if the element obtained from above step is majority element.\n",
    "   This step is necessary as we are not always sure that element return by first step is majority element.\n",
    "*/"
   ]
  },
  {
   "cell_type": "code",
   "execution_count": 22,
   "metadata": {},
   "outputs": [],
   "source": [
    "/*\n",
    "1. Finding a Candidate :\n",
    "The algorithm for first phase that works in O(n) is known as Moore’s Voting Algorithm. \n",
    "Basic idea of the algorithm is that \n",
    "if we cancel out each occurrence of an element e with all the other elements that are different from e \n",
    "then e will exist till end if it is a majority element.\n",
    "\n",
    "findCandidate(a[], size)\n",
    "1.  Initialize index and count of majority element\n",
    "     maj_index = 0, count = 1\n",
    "2.  Loop for i = 1 to size – 1\n",
    "    (a) If a[maj_index] == a[i]\n",
    "          count++\n",
    "    (b) Else\n",
    "        count--;\n",
    "    (c) If count == 0\n",
    "          maj_index = i;\n",
    "          count = 1\n",
    "3.  Return a[maj_index]\n",
    "\n",
    "Above algorithm loops through each element and maintains a count of a[maj_index]. \n",
    "If the next element is same then increment the count, \n",
    "if the next element is not same then decrement the count, \n",
    "and if the count reaches 0 then changes the maj_index to the current element and set the count again to 1. \n",
    "So, the first phase of the algorithm gives us a candidate element.\n",
    "*/"
   ]
  },
  {
   "cell_type": "code",
   "execution_count": 23,
   "metadata": {},
   "outputs": [],
   "source": [
    "/*\n",
    "2. Check if the element obtained in step 1 is majority element or not :\n",
    "\n",
    "printMajority (a[], size)\n",
    "1.  Find the candidate for majority\n",
    "2.  If candidate is majority. i.e., appears more than n/2 times.\n",
    "       Print the candidate\n",
    "3.  Else\n",
    "       Print \"No Majority Element\"\n",
    "\n",
    "In the second phase we need to check if the candidate is really a majority element. \n",
    "Second phase is simple and can be easily done in O(n). \n",
    "We just need to check if count of the candidate element is greater than n/2.\n",
    "*/"
   ]
  },
  {
   "cell_type": "code",
   "execution_count": 24,
   "metadata": {},
   "outputs": [],
   "source": [
    "/*\n",
    "Example :\n",
    "Let the array be A[] = 2, 2, 3, 5, 2, 2, 6\n",
    "\n",
    "- Initialize maj_index = 0, count = 1\n",
    "- Next element is 2, which is same as a[maj_index] => count = 2\n",
    "- Next element is 3, which is different from a[maj_index] => count = 1\n",
    "- Next element is 5, which is different from a[maj_index] => count = 0\n",
    "- Since count = 0, change candidate for majority element to 5 => maj_index = 3, count = 1\n",
    "- Next element is 2, which is different from a[maj_index] => count = 0\n",
    "- Since count = 0, change candidate for majority element to 2 => maj_index = 4\n",
    "- Next element is 2, which is same as a[maj_index] => count = 2\n",
    "- Next element is 6, which is different from a[maj_index] => count = 1\n",
    "- Finally candidate for majority element is 2.\n",
    "*/"
   ]
  },
  {
   "cell_type": "code",
   "execution_count": 25,
   "metadata": {},
   "outputs": [],
   "source": [
    "/* Function to print Majority Element */\n",
    "void printMajority(int a[], int size)  \n",
    "{ \n",
    "    /* Find the candidate for Majority*/\n",
    "    int cand = findCandidate(a, size); \n",
    "\n",
    "    /* Print the candidate if it is Majority*/\n",
    "    if (isMajority(a, size, cand)) \n",
    "        System.out.println(\" \" + cand + \" \"); \n",
    "    else \n",
    "        System.out.println(\"No Majority Element\"); \n",
    "} "
   ]
  },
  {
   "cell_type": "code",
   "execution_count": 26,
   "metadata": {},
   "outputs": [],
   "source": [
    "/* Function to find the candidate for Majority */\n",
    "int findCandidate(int a[], int size)  \n",
    "{ \n",
    "    int maj_index = 0, count = 1; \n",
    "    int i; \n",
    "    for (i = 1; i < size; i++)  \n",
    "    { \n",
    "        if (a[maj_index] == a[i]) \n",
    "            count++; \n",
    "        else\n",
    "            count--; \n",
    "        if (count == 0) \n",
    "        { \n",
    "            maj_index = i; \n",
    "            count = 1; \n",
    "        } \n",
    "    } \n",
    "    return a[maj_index]; \n",
    "} "
   ]
  },
  {
   "cell_type": "code",
   "execution_count": 27,
   "metadata": {},
   "outputs": [],
   "source": [
    "/* Function to check if the candidate occurs more \n",
    "   than n/2 times */\n",
    "boolean isMajority(int a[], int size, int cand)  \n",
    "{ \n",
    "    int i, count = 0; \n",
    "    for (i = 0; i < size; i++)  \n",
    "    { \n",
    "        if (a[i] == cand) \n",
    "            count++; \n",
    "    } \n",
    "    if (count > size / 2)  \n",
    "        return true; \n",
    "    else\n",
    "        return false; \n",
    "} "
   ]
  },
  {
   "cell_type": "code",
   "execution_count": 28,
   "metadata": {},
   "outputs": [
    {
     "name": "stdout",
     "output_type": "stream",
     "text": [
      "No Majority Element\n"
     ]
    }
   ],
   "source": [
    "/* Driver program to test the above functions */\n",
    "public static void main(String[] args)  \n",
    "{ \n",
    "    int a[] = new int[]{1, 3, 3, 1, 2}; \n",
    "    int size = a.length; \n",
    "    printMajority(a, size); \n",
    "} \n",
    "main(args)"
   ]
  },
  {
   "cell_type": "code",
   "execution_count": 29,
   "metadata": {},
   "outputs": [],
   "source": [
    "/*\n",
    "METHOD 4 (Using Hashmap) :\n",
    "This method is somewhat similar to Moore voting algorithm in terms of time complexity, \n",
    "but in this case there is no need of second step of Moore voting algorithm.\n",
    "But as usual, here space complexity becomes O(n).\n",
    "In Hashmap(key-value pair), at value,\n",
    "maintain a count for each element(key) and whenever count is greater than half of array length, \n",
    "we are just returning that key(majority element).\n",
    "\n",
    "Time Complexity : O(n)\n",
    "Auxiliary Space : O(n)\n",
    "*/"
   ]
  },
  {
   "cell_type": "code",
   "execution_count": 30,
   "metadata": {},
   "outputs": [
    {
     "name": "stdout",
     "output_type": "stream",
     "text": [
      "Majority found :- 2\n"
     ]
    }
   ],
   "source": [
    "private static void findMajority(int[] arr)  \n",
    "{ \n",
    "    HashMap<Integer,Integer> map = new HashMap<Integer, Integer>(); \n",
    "\n",
    "    for(int i = 0; i < arr.length; i++) { \n",
    "        if (map.containsKey(arr[i])) { \n",
    "                int count = map.get(arr[i]) +1; \n",
    "                if (count > arr.length /2) { \n",
    "                    System.out.println(\"Majority found :- \" + arr[i]); \n",
    "                    return; \n",
    "                } else\n",
    "                    map.put(arr[i], count); \n",
    "\n",
    "        } \n",
    "        else\n",
    "            map.put(arr[i],1); \n",
    "        } \n",
    "        System.out.println(\" No Majority element\"); \n",
    "} \n",
    "\n",
    "\n",
    "/* Driver program to test the above functions */\n",
    "public static void main(String[] args)  \n",
    "{ \n",
    "    int a[] = new int[]{2,2,2,2,5,5,2,3,3}; \n",
    "\n",
    "    findMajority(a); \n",
    "} \n",
    "\n",
    "main(args)"
   ]
  },
  {
   "cell_type": "markdown",
   "metadata": {},
   "source": [
    "***https://youtu.be/uwogtyFiDLg***"
   ]
  },
  {
   "cell_type": "markdown",
   "metadata": {},
   "source": [
    "## **49. Searching in an array where adjacent differ by at most k**\n",
    "https://www.geeksforgeeks.org/searching-array-adjacent-differ-k/"
   ]
  },
  {
   "cell_type": "code",
   "execution_count": 31,
   "metadata": {},
   "outputs": [],
   "source": [
    "/*\n",
    "A step array is an array of integer where each element has a difference of at most k with its neighbor. \n",
    "Given a key x, we need to find the index value of x if multiple element exist return the first occurrence of the key.\n",
    "*/"
   ]
  },
  {
   "cell_type": "code",
   "execution_count": 32,
   "metadata": {},
   "outputs": [],
   "source": [
    "/*\n",
    "Examples:\n",
    "\n",
    "Input : arr[] = {4, 5, 6, 7, 6}\n",
    "           k = 1\n",
    "           x = 6\n",
    "Output : 2\n",
    "The first index of 6 is 2.\n",
    "\n",
    "Input : arr[] = {20, 40, 50, 70, 70, 60}  \n",
    "          k = 20\n",
    "          x = 60\n",
    "Output : 5\n",
    "The index of 60 is 5\n",
    "*/"
   ]
  },
  {
   "cell_type": "code",
   "execution_count": 33,
   "metadata": {},
   "outputs": [],
   "source": [
    "/*\n",
    "The above solution can be Optimized using the fact that difference between all adjacent elements is at most k. \n",
    "The idea is to start comparing from the leftmost element and find the difference between current array element and x. \n",
    "Let this difference be ‘diff’. \n",
    "From the given property of array, we always know that x must be at-least ‘diff/k’ away, \n",
    "so instead of searching one by one, we jump ‘diff/k’.\n",
    "*/"
   ]
  },
  {
   "cell_type": "code",
   "execution_count": 34,
   "metadata": {},
   "outputs": [],
   "source": [
    "// x is the element to be searched  \n",
    "// in arr[0..n-1] such that all  \n",
    "// elements differ by at-most k. \n",
    "static int search(int arr[], int n,  \n",
    "                        int x, int k) \n",
    "{ \n",
    "\n",
    "    // Traverse the given array starting \n",
    "    // from leftmost element \n",
    "    int i = 0; \n",
    "\n",
    "    while (i < n) { \n",
    "\n",
    "        // If x is found at index i \n",
    "        if (arr[i] == x) \n",
    "            return i; \n",
    "\n",
    "        // Jump the difference between  \n",
    "        // current array element and x \n",
    "        // divided by k We use max here \n",
    "        // to make sure that i moves  \n",
    "        // at-least one step ahead. \n",
    "        i = i + Math.max(1, Math.abs(arr[i]  \n",
    "                                  - x) / k); \n",
    "    } \n",
    "\n",
    "    System.out.println(\"number is \" +  \n",
    "                            \"not present!\"); \n",
    "    return -1; \n",
    "}"
   ]
  },
  {
   "cell_type": "code",
   "execution_count": 35,
   "metadata": {},
   "outputs": [
    {
     "name": "stdout",
     "output_type": "stream",
     "text": [
      "Element 6 is present at index 5\n"
     ]
    }
   ],
   "source": [
    "// Driver program to test above function \n",
    "public static void main(String[] args) \n",
    "{ \n",
    "\n",
    "    int arr[] = { 2, 4, 5, 7, 7, 6 }; \n",
    "    int x = 6; \n",
    "    int k = 2; \n",
    "    int n = arr.length; \n",
    "\n",
    "    System.out.println(\"Element \" + x + \n",
    "                    \" is present at index \"\n",
    "                    + search(arr, n, x, k)); \n",
    "} \n",
    "main(args);"
   ]
  },
  {
   "cell_type": "markdown",
   "metadata": {},
   "source": [
    "## **50. Find the repeating and the missing | Added 3 new methods**\n",
    "https://www.geeksforgeeks.org/find-a-repeating-and-a-missing-number/"
   ]
  },
  {
   "cell_type": "code",
   "execution_count": 36,
   "metadata": {},
   "outputs": [],
   "source": [
    "/*\n",
    "Given an unsorted array of size n. \n",
    "Array elements are in the range from 1 to n. \n",
    "One number from set {1, 2, …n} is missing and one number occurs twice in the array. \n",
    "Find these two numbers.\n",
    "*/"
   ]
  },
  {
   "cell_type": "code",
   "execution_count": 37,
   "metadata": {},
   "outputs": [],
   "source": [
    "/*\n",
    "Examples:\n",
    "\n",
    "Input: arr[] = {3, 1, 3}\n",
    "Output: Missing = 2, Repeating = 3\n",
    "Explanation: In the array, \n",
    "2 is missing and 3 occurs twice \n",
    "\n",
    "Input: arr[] = {4, 3, 6, 2, 1, 1}\n",
    "Output: Missing = 5, Repeating = 1\n",
    "*/"
   ]
  },
  {
   "cell_type": "code",
   "execution_count": 38,
   "metadata": {},
   "outputs": [],
   "source": [
    "/*\n",
    "Method 5 (Use XOR)\n",
    "Time Complexity: O(n)\n",
    "Approach:\n",
    "\n",
    "Let x and y be the desired output elements.\n",
    "1. Calculate XOR of all the array elements.\n",
    "    xor1 = arr[0]^arr[1]^arr[2]…..arr[n-1]\n",
    "\n",
    "2. XOR the result with all numbers from 1 to n\n",
    "    xor1 = xor1^1^2^…..^n\n",
    "\n",
    "3. In the result xor1, \n",
    "    all elements would nullify each other except x and y. \n",
    "    All the bits that are set in xor1 will be set in either x or y. \n",
    "    So if we take any set bit (We have chosen the rightmost set bit in code) of xor1 and divide the elements of the array in two sets – one set of elements with same bit set and other set with same bit not set. \n",
    "    By doing so, we will get x in one set and y in another set. \n",
    "    Now if we do XOR of all the elements in first set, we will get x, and by doing same in other set we will get y..\n",
    "*/"
   ]
  },
  {
   "cell_type": "code",
   "execution_count": 39,
   "metadata": {},
   "outputs": [],
   "source": [
    "static int x, y; \n",
    "\n",
    "static void getTwoElements(int arr[], int n) \n",
    "{ \n",
    "    /* Will hold xor of all elements \n",
    "   and numbers from 1 to n  */\n",
    "    int xor1; \n",
    "\n",
    "    /* Will have only single set bit of xor1 */\n",
    "    int set_bit_no; \n",
    "\n",
    "    int i; \n",
    "    x = 0; \n",
    "    y = 0; \n",
    "\n",
    "    xor1 = arr[0]; \n",
    "\n",
    "    /* Get the xor of all array elements  */\n",
    "    for (i = 1; i < n; i++) \n",
    "        xor1 = xor1 ^ arr[i]; \n",
    "\n",
    "    /* XOR the previous result with numbers from  \n",
    "   1 to n*/\n",
    "    for (i = 1; i <= n; i++) \n",
    "        xor1 = xor1 ^ i; \n",
    "\n",
    "    /* Get the rightmost set bit in set_bit_no */\n",
    "    set_bit_no = xor1 & ~(xor1 - 1); \n",
    "\n",
    "    /* Now divide elements into two sets by comparing \n",
    "        rightmost set bit of xor1 with the bit at the same  \n",
    "        position in each element. Also, get XORs of two \n",
    "        sets. The two XORs are the output elements. The  \n",
    "        following two for loops serve the purpose */\n",
    "    for (i = 0; i < n; i++) { \n",
    "        if ((arr[i] & set_bit_no) != 0) \n",
    "            /* arr[i] belongs to first set */\n",
    "            x = x ^ arr[i]; \n",
    "\n",
    "        else\n",
    "            /* arr[i] belongs to second set*/\n",
    "            y = y ^ arr[i]; \n",
    "    } \n",
    "    for (i = 1; i <= n; i++) { \n",
    "        if ((i & set_bit_no) != 0) \n",
    "            /* i belongs to first set */\n",
    "            x = x ^ i; \n",
    "\n",
    "        else\n",
    "            /* i belongs to second set*/\n",
    "            y = y ^ i; \n",
    "    } \n",
    "\n",
    "    /* *x and *y hold the desired output elements */\n",
    "} "
   ]
  },
  {
   "cell_type": "code",
   "execution_count": 40,
   "metadata": {},
   "outputs": [
    {
     "name": "stdout",
     "output_type": "stream",
     "text": [
      " The missing element is  7and the repeating number is 1\n"
     ]
    }
   ],
   "source": [
    "/* Driver program to test above function */\n",
    "public static void main(String[] args) \n",
    "{ \n",
    "    int arr[] = { 1, 3, 4, 5, 1, 6, 2 }; \n",
    "\n",
    "    int n = arr.length; \n",
    "    getTwoElements(arr, n); \n",
    "    System.out.println(\" The missing element is  \"\n",
    "                       + x + \"and the \"\n",
    "                       + \"repeating number is \"\n",
    "                       + y); \n",
    "} \n",
    "main(args)"
   ]
  },
  {
   "cell_type": "markdown",
   "metadata": {},
   "source": [
    "## **51. Ceiling in a sorted array**\n",
    "https://www.geeksforgeeks.org/ceiling-in-a-sorted-array/"
   ]
  },
  {
   "cell_type": "code",
   "execution_count": 41,
   "metadata": {},
   "outputs": [],
   "source": [
    "/*\n",
    "Given a sorted array and a value x, \n",
    "the ceiling of x is the smallest element in array greater than or equal to x, \n",
    "and the floor is the greatest element smaller than or equal to x. \n",
    "Assume than the array is sorted in non-decreasing order. \n",
    "Write efficient functions to find floor and ceiling of x.\n",
    "*/"
   ]
  },
  {
   "cell_type": "code",
   "execution_count": 42,
   "metadata": {},
   "outputs": [],
   "source": [
    "/*\n",
    "Examples :\n",
    "\n",
    "For example, let the input array be {1, 2, 8, 10, 10, 12, 19}\n",
    "For x = 0:    floor doesn't exist in array,  ceil  = 1\n",
    "For x = 1:    floor  = 1,  ceil  = 1\n",
    "For x = 5:    floor  = 2,  ceil  = 8\n",
    "For x = 20:   floor  = 19,  ceil doesn't exist in array\n",
    "*/"
   ]
  },
  {
   "cell_type": "code",
   "execution_count": 43,
   "metadata": {},
   "outputs": [],
   "source": [
    "/*\n",
    "Method 1 (Linear Search)\n",
    "Algorithm to search ceiling of x:\n",
    "1) If x is smaller than or equal to the first element in array then return 0(index of first element)\n",
    "2) Else Linearly search for an index i such that x lies between arr[i] and arr[i+1].\n",
    "3) If we do not find an index i in step 2, then return -1\n",
    "*/"
   ]
  },
  {
   "cell_type": "code",
   "execution_count": 44,
   "metadata": {},
   "outputs": [],
   "source": [
    "/*\n",
    "Method 2 (Binary Search)\n",
    "Instead of using linear search, binary search is used here to find out the index. \n",
    "Binary search reduces time complexity to O(Logn).\n",
    "*/"
   ]
  },
  {
   "cell_type": "code",
   "execution_count": 45,
   "metadata": {},
   "outputs": [],
   "source": [
    "/* Function to get index of  \n",
    "   ceiling of x in arr[low..high]*/\n",
    "static int ceilSearch(int arr[], int low, int high, int x) \n",
    "{ \n",
    "  int mid;     \n",
    "\n",
    "  /* If x is smaller than or equal to the  \n",
    "     first element, then return the first element */\n",
    "  if(x <= arr[low]) \n",
    "    return low;  \n",
    "\n",
    "  /* If x is greater than the last  \n",
    "     element, then return -1 */\n",
    "  if(x > arr[high]) \n",
    "    return -1;   \n",
    "\n",
    "  /* get the index of middle element  \n",
    "     of arr[low..high]*/\n",
    "  mid = (low + high)/2;  /* low + (high - low)/2 */\n",
    "\n",
    "  /* If x is same as middle element,  \n",
    "     then return mid */\n",
    "  if(arr[mid] == x) \n",
    "    return mid; \n",
    "\n",
    "  /* If x is greater than arr[mid], then  \n",
    "     either arr[mid + 1] is ceiling of x or  \n",
    "     ceiling lies in arr[mid+1...high] */ \n",
    "  else if(arr[mid] < x) \n",
    "  { \n",
    "    if(mid + 1 <= high && x <= arr[mid+1]) \n",
    "      return mid + 1; \n",
    "    else\n",
    "      return ceilSearch(arr, mid+1, high, x); \n",
    "  } \n",
    "\n",
    "  /* If x is smaller than arr[mid],  \n",
    "     then either arr[mid] is ceiling of x  \n",
    "     or ceiling lies in arr[mid-1...high] */   \n",
    "  else\n",
    "  { \n",
    "    if(mid - 1 >= low && x > arr[mid-1]) \n",
    "      return mid; \n",
    "    else    \n",
    "      return ceilSearch(arr, low, mid - 1, x); \n",
    "  } \n",
    "} "
   ]
  },
  {
   "cell_type": "code",
   "execution_count": 46,
   "metadata": {},
   "outputs": [
    {
     "name": "stdout",
     "output_type": "stream",
     "text": [
      "ceiling of 8 is 8\n"
     ]
    }
   ],
   "source": [
    "/* Driver program to check above functions */\n",
    "public static void main (String[] args) \n",
    "{ \n",
    "   int arr[] = {1, 2, 8, 10, 10, 12, 19}; \n",
    "   int n = arr.length; \n",
    "   int x = 8; \n",
    "   int index = ceilSearch(arr, 0, n-1, x); \n",
    "   if(index == -1) \n",
    "     System.out.println(\"Ceiling of \"+x+\" doesn't exist in array\"); \n",
    "   else \n",
    "     System.out.println(\"ceiling of \"+x+\" is \"+arr[index]); \n",
    "}   \n",
    "main(args)"
   ]
  },
  {
   "cell_type": "markdown",
   "metadata": {},
   "source": [
    "***https://youtu.be/Nzm9emAkSCM***"
   ]
  },
  {
   "cell_type": "markdown",
   "metadata": {},
   "source": [
    "## **52. Find a pair with the given difference**\n",
    "https://www.geeksforgeeks.org/find-a-pair-with-the-given-difference/"
   ]
  },
  {
   "cell_type": "code",
   "execution_count": 47,
   "metadata": {},
   "outputs": [],
   "source": [
    "/*\n",
    "Given an unsorted array and a number n, \n",
    "find if there exists a pair of elements in the array whose difference is n.\n",
    "*/"
   ]
  },
  {
   "cell_type": "code",
   "execution_count": 48,
   "metadata": {},
   "outputs": [],
   "source": [
    "/*\n",
    "Examples:\n",
    "\n",
    "Input: arr[] = {5, 20, 3, 2, 50, 80}, n = 78\n",
    "Output: Pair Found: (2, 80)\n",
    "\n",
    "Input: arr[] = {90, 70, 20, 80, 50}, n = 45\n",
    "Output: No Such Pair\n",
    "*/"
   ]
  },
  {
   "cell_type": "code",
   "execution_count": 49,
   "metadata": {},
   "outputs": [],
   "source": [
    "/*\n",
    "The simplest method is to run two loops, \n",
    "the outer loop picks the first element (smaller element) \n",
    "and the inner loop looks for the element picked by outer loop plus n. \n",
    "Time complexity of this method is O(n^2).\n",
    "*/"
   ]
  },
  {
   "cell_type": "code",
   "execution_count": 50,
   "metadata": {},
   "outputs": [],
   "source": [
    "/*\n",
    "We can use sorting and Binary Search to improve time complexity to O(nLogn). \n",
    "The first step is to sort the array in ascending order. \n",
    "Once the array is sorted, \n",
    "traverse the array from left to right, and for each element arr[i], binary search for arr[i] + n in arr[i+1..n-1]. \n",
    "If the element is found, return the pair.\n",
    "\n",
    "Both first and second steps take O(nLogn). So overall complexity is O(nLogn).\n",
    "*/"
   ]
  },
  {
   "cell_type": "code",
   "execution_count": 51,
   "metadata": {},
   "outputs": [],
   "source": [
    "/*\n",
    "The second step of the above algorithm can be improved to O(n). \n",
    "The first step remain same. \n",
    "The idea for second step is take two index variables i and j, initialize them as 0 and 1 respectively. \n",
    "Now run a linear loop. \n",
    "If arr[j] – arr[i] is smaller than n, we need to look for greater arr[j], so increment j. \n",
    "If arr[j] – arr[i] is greater than n, we need to look for greater arr[i], so increment i. \n",
    "*/"
   ]
  },
  {
   "cell_type": "code",
   "execution_count": 52,
   "metadata": {},
   "outputs": [],
   "source": [
    "/*\n",
    "The following code is only for the second step of the algorithm, it assumes that the array is already sorted.\n",
    "*/"
   ]
  },
  {
   "cell_type": "code",
   "execution_count": 53,
   "metadata": {},
   "outputs": [],
   "source": [
    "// The function assumes that the array is sorted \n",
    "static boolean findPair(int arr[],int n) \n",
    "{ \n",
    "    int size = arr.length; \n",
    "\n",
    "    // Initialize positions of two elements \n",
    "    int i = 0, j = 1; \n",
    "\n",
    "    // Search for a pair \n",
    "    while (i < size && j < size) \n",
    "    { \n",
    "        if (i != j && arr[j]-arr[i] == n) \n",
    "        { \n",
    "            System.out.print(\"Pair Found: \"+ \n",
    "                             \"( \"+arr[i]+\", \"+ arr[j]+\" )\"); \n",
    "            return true; \n",
    "        } \n",
    "        else if (arr[j] - arr[i] < n) \n",
    "            j++; \n",
    "        else\n",
    "            i++; \n",
    "    } \n",
    "\n",
    "    System.out.print(\"No such pair\"); \n",
    "    return false; \n",
    "} "
   ]
  },
  {
   "cell_type": "code",
   "execution_count": 54,
   "metadata": {},
   "outputs": [
    {
     "name": "stdout",
     "output_type": "stream",
     "text": [
      "Pair Found: ( 40, 100 )"
     ]
    }
   ],
   "source": [
    "// Driver program to test above function \n",
    "public static void main (String[] args) \n",
    "{ \n",
    "    int arr[] = {1, 8, 30, 40, 100}; \n",
    "    int n = 60; \n",
    "    findPair(arr,n); \n",
    "} \n",
    "main(args)"
   ]
  },
  {
   "cell_type": "markdown",
   "metadata": {},
   "source": [
    "***https://youtu.be/qODOVGzk6Zc***"
   ]
  },
  {
   "cell_type": "markdown",
   "metadata": {},
   "source": [
    "## **53. Find four elements that sum to a given value | Set 2 ( O(n^2Logn) Solution)**\n",
    "https://www.geeksforgeeks.org/find-four-elements-that-sum-to-a-given-value-set-2/"
   ]
  },
  {
   "cell_type": "code",
   "execution_count": 55,
   "metadata": {},
   "outputs": [],
   "source": [
    "/*\n",
    "Given an array of integers, \n",
    "find any one combination of four elements in the array whose sum is equal to a given value X.\n",
    "For example, \n",
    "    if the given array is {10, 2, 3, 4, 5, 9, 7, 8} and X = 23, \n",
    "    then your function should print “3 5 7 8” (3 + 5 + 7 + 8 = 23).\n",
    "*/"
   ]
  },
  {
   "cell_type": "code",
   "execution_count": 56,
   "metadata": {},
   "outputs": [],
   "source": [
    "/*\n",
    "Let the input array be A[].\n",
    "\n",
    "1. Create an auxiliary array aux[] and store sum of all possible pairs in aux[]. \n",
    "    The size of aux[] will be n*(n-1)/2 where n is the size of A[].\n",
    "2. Sort the auxiliary array aux[].\n",
    "3. Now the problem reduces to find two elements in aux[] with sum equal to X. \n",
    "We can use method 1 of this post to find the two elements efficiently. \n",
    "\n",
    "There is following important point to note though. \n",
    "An element of aux[] represents a pair from A[]. \n",
    "While picking two elements from aux[], we must check whether the two elements have an element of A[] in common. \n",
    "For example, if first element sum of A[1] and A[2], and second element is sum of A[2] and A[4], \n",
    "             then these two elements of aux[] don’t represent four distinct elements of input array A[].\n",
    "*/"
   ]
  },
  {
   "cell_type": "markdown",
   "metadata": {},
   "source": [
    "***https://ideone.com/oci8yN***"
   ]
  },
  {
   "cell_type": "code",
   "execution_count": 57,
   "metadata": {},
   "outputs": [],
   "source": [
    "/*\n",
    "Hashing Based Solution : O(n2Logn)\n",
    "1. Store sums of all pairs in a hash table\n",
    "2. Traverse through all pairs again and search for X – (current pair sum) in the hash table.\n",
    "3. If a pair is found with the required sum, \n",
    "   then make sure that all elements are distinct array elements and an element is not considered more than once.\n",
    "Below image is a dry run of the above approach:\n",
    "*/"
   ]
  },
  {
   "cell_type": "markdown",
   "metadata": {},
   "source": [
    "<img src = \"https://media.geeksforgeeks.org/wp-content/cdn-uploads/20190702113336/FourElementsThatSumToAGivenValue1-1024x474.png\"/>"
   ]
  },
  {
   "cell_type": "code",
   "execution_count": 58,
   "metadata": {},
   "outputs": [],
   "source": [
    "static class pair \n",
    "{  \n",
    "    int first, second;  \n",
    "    public pair(int first, int second)  \n",
    "    {  \n",
    "        this.first = first;  \n",
    "        this.second = second;  \n",
    "    }  \n",
    "} "
   ]
  },
  {
   "cell_type": "code",
   "execution_count": 59,
   "metadata": {},
   "outputs": [],
   "source": [
    "// The function finds four elements  \n",
    "// with given sum X \n",
    "static void findFourElements(int arr[],  \n",
    "                             int n, int X) \n",
    "{ \n",
    "    // Store sums of all pairs in a hash table \n",
    "    HashMap<Integer,         \n",
    "            pair> mp = new HashMap<Integer, \n",
    "                                   pair>(); \n",
    "    for (int i = 0; i < n - 1; i++) \n",
    "        for (int j = i + 1; j < n; j++) \n",
    "            mp.put(arr[i] + arr[j], \n",
    "                    new pair(i, j)); \n",
    "  \n",
    "    // Traverse through all pairs and search \n",
    "    // for X - (current pair sum).  \n",
    "    for (int i = 0; i < n - 1; i++) \n",
    "    { \n",
    "        for (int j = i + 1; j < n; j++) \n",
    "        { \n",
    "            int sum = arr[i] + arr[j]; \n",
    "  \n",
    "            // If X - sum is present in hash table,          \n",
    "            if (mp.containsKey(X - sum)) \n",
    "            { \n",
    "  \n",
    "                // Making sure that all elements are \n",
    "                // distinct array elements and an element \n",
    "                // is not considered more than once. \n",
    "                pair p = mp.get(X - sum); \n",
    "                if (p.first != i && p.first != j && \n",
    "                    p.second != i && p.second != j) \n",
    "                { \n",
    "                    System.out.print(arr[i] + \", \" + arr[j] +  \n",
    "                                              \", \" + arr[p.first] +  \n",
    "                                              \", \" + arr[p.second]); \n",
    "                    return; \n",
    "                } \n",
    "            } \n",
    "        } \n",
    "    } \n",
    "} "
   ]
  },
  {
   "cell_type": "code",
   "execution_count": 60,
   "metadata": {},
   "outputs": [
    {
     "name": "stdout",
     "output_type": "stream",
     "text": [
      "20, 30, 40, 1"
     ]
    }
   ],
   "source": [
    "// Driver Code \n",
    "public static void main(String[] args)  \n",
    "{ \n",
    "    int arr[] = {10, 20, 30, 40, 1, 2}; \n",
    "    int n = arr.length; \n",
    "    int X = 91; \n",
    "    findFourElements(arr, n, X); \n",
    "} \n",
    "main(args)"
   ]
  },
  {
   "cell_type": "markdown",
   "metadata": {},
   "source": [
    "## **54. Median of two sorted arrays of different sizes**\n",
    "https://www.geeksforgeeks.org/median-of-two-sorted-arrays-of-different-sizes/"
   ]
  },
  {
   "cell_type": "code",
   "execution_count": 61,
   "metadata": {},
   "outputs": [],
   "source": [
    "/*\n",
    "This is an extension of median of two sorted arrays of equal size problem. \n",
    "Here we handle arrays of unequal size also.\n",
    "*/"
   ]
  },
  {
   "cell_type": "code",
   "execution_count": 62,
   "metadata": {},
   "outputs": [],
   "source": [
    "/*\n",
    "Method 1: (Linear and Simpler Approach)\n",
    "Here we need to find the median of the two sorted arrays of different sizes\n",
    "so we keep two variables to point to the arrays and one used to count the no of elements read. \n",
    "We used a simple Merge based O(n) solution \n",
    "just we are not merging the array instead we are keeping track of the last element read till we reach the median\n",
    "There are two cases :\n",
    "    Case 1: m+n is odd\n",
    "        Then we will find a clear median at (m+n)/2 index in the array obtained after merging both the arrays \n",
    "        so we just traverse both the arrays and keep the last value in m1 after the loop, \n",
    "        m1 will contain the value of the median\n",
    "    Case 2: m+n is even\n",
    "        Median will be average of elements at index ((m+n)/2 – 1) and (m+n)/2 in the array obtained after merging both the arrays \n",
    "        so we need to keep track of not only the last element but also the second last element (m2 is used for this) \n",
    "        so we traverse both the arrays and keep the last value in m1 and second last value in m2 after the loop, \n",
    "        (m1+m2)/2 will contain the value of the median.\n",
    "*/"
   ]
  },
  {
   "cell_type": "markdown",
   "metadata": {},
   "source": [
    "***https://ideone.com/UjYPXf***"
   ]
  },
  {
   "cell_type": "code",
   "execution_count": 63,
   "metadata": {},
   "outputs": [],
   "source": [
    "/*\n",
    "Method 2: (Effective but a little Complex Approach)\n",
    "Time Complexity: O(LogM + LogN)\n",
    "The approach discussed in this post is similar to method 2 of equal the size post. \n",
    "The basic idea is same, \n",
    "we find the median of two arrays and compare the medians to discard almost half of the elements in both arrays. \n",
    "Since the number of elements may differ here, there are many base cases that need to be handled separately. \n",
    "Before we proceed to complete solution, let us first talk about all base cases.\n",
    "\n",
    "Let the two arrays be A[N] and B[M]. \n",
    "In the following explanation, it is assumed that N is smaller than or equal to M.\n",
    "Base cases:\n",
    "The smaller array has only one element\n",
    "Case 0: N = 0, M = 2\n",
    "Case 1: N = 1, M = 1.\n",
    "Case 2: N = 1, M is odd\n",
    "Case 3: N = 1, M is even\n",
    "The smaller array has only two elements\n",
    "Case 4: N = 2, M = 2\n",
    "Case 5: N = 2, M is odd\n",
    "Case 6: N = 2, M is even\n",
    "*/"
   ]
  },
  {
   "cell_type": "code",
   "execution_count": 64,
   "metadata": {},
   "outputs": [],
   "source": [
    "/*\n",
    "Case 0: \n",
    "    There are no elements in first array, \n",
    "        return median of second array. \n",
    "    If second array is also empty, \n",
    "        return -1.\n",
    "        \n",
    "Case 1: \n",
    "    There is only one element in both arrays, \n",
    "    so output the average of A[0] and B[0].\n",
    "    \n",
    "Case 2: \n",
    "    N = 1, M is odd\n",
    "    Let B[5] = {5, 10, 12, 15, 20}\n",
    "    First find the middle element of B[], which is 12 for above array. \n",
    "    There are following 4 sub-cases.\n",
    "        …2.1 If A[0] is smaller than 10, the median is average of 10 and 12.\n",
    "        …2.2 If A[0] lies between 10 and 12, the median is average of A[0] and 12.\n",
    "        …2.3 If A[0] lies between 12 and 15, the median is average of 12 and A[0].\n",
    "        …2.4 If A[0] is greater than 15, the median is average of 12 and 15.\n",
    "    In all the sub-cases, we find that 12 is fixed. \n",
    "    So, we need to find the median of B[ M / 2 – 1 ], B[ M / 2 + 1], A[ 0 ] and take its average with B[ M / 2 ].\n",
    "    \n",
    "Case 3: \n",
    "    N = 1, M is even\n",
    "    Let B[4] = {5, 10, 12, 15}\n",
    "    First find the middle items in B[], which are 10 and 12 in above example. \n",
    "    There are following 3 sub-cases.\n",
    "        …3.1 If A[0] is smaller than 10, the median is 10.\n",
    "        …3.2 If A[0] lies between 10 and 12, the median is A[0].\n",
    "        …3.3 If A[0] is greater than 12, the median is 12.\n",
    "    So, in this case, find the median of three elements \n",
    "        B[ M / 2 – 1 ], B[ M / 2] and A[ 0 ].\n",
    "    \n",
    "Case 4: \n",
    "    N = 2, M = 2\n",
    "    There are four elements in total. So we find the median of 4 elements.\n",
    "    \n",
    "Case 5: \n",
    "    N = 2, M is odd\n",
    "    Let B[5] = {5, 10, 12, 15, 20}\n",
    "    The median is given by median of following three elements: \n",
    "        B[M/2], max(A[0], B[M/2 – 1]), min(A[1], B[M/2 + 1]).\n",
    "    \n",
    "Case 6: \n",
    "    N = 2, M is even\n",
    "    Let B[4] = {5, 10, 12, 15}\n",
    "    The median is given by median of following four elements: \n",
    "        B[M/2], B[M/2 – 1], max(A[0], B[M/2 – 2]), min(A[1], B[M/2 + 1])\n",
    "        \n",
    "Remaining Cases:\n",
    "    Once we have handled the above base cases, following is the remaining process.\n",
    "        1) Find the middle item of A[] and middle item of B[].\n",
    "            …..1.1) If the middle item of A[] is greater than middle item of B[], \n",
    "                    ignore the last half of A[], let length of ignored part is idx. Also, cut down B[] by idx from the start.\n",
    "            …..1.2) else, \n",
    "                    ignore the first half of A[], let length of ignored part is idx. Also, cut down B[] by idx from the last.\n",
    "*/"
   ]
  },
  {
   "cell_type": "markdown",
   "metadata": {},
   "source": [
    "***https://ideone.com/dZirsb***"
   ]
  },
  {
   "cell_type": "markdown",
   "metadata": {},
   "source": [
    "## **55. Maximum sum such that no two elements are adjacent**\n",
    "https://www.geeksforgeeks.org/maximum-sum-such-that-no-two-elements-are-adjacent/"
   ]
  },
  {
   "cell_type": "code",
   "execution_count": 65,
   "metadata": {},
   "outputs": [],
   "source": [
    "/*\n",
    "Given an array of positive numbers, \n",
    "find the maximum sum of a subsequence with the constraint that no 2 numbers in the sequence should be adjacent in the array. \n",
    "So,\n",
    "3 2 7 10 should return 13 (sum of 3 and 10) \n",
    "or 3 2 5 10 7 should return 15 (sum of 3, 5 and 7).\n",
    "Answer the question in most efficient way.\n",
    "Time Complexity: O(n)\n",
    "*/"
   ]
  },
  {
   "cell_type": "code",
   "execution_count": 66,
   "metadata": {},
   "outputs": [],
   "source": [
    "/*\n",
    "Examples :\n",
    "\n",
    "Input : arr[] = {5, 5, 10, 100, 10, 5}\n",
    "Output : 110\n",
    "\n",
    "Input : arr[] = {1, 2, 3}\n",
    "Output : 4\n",
    "\n",
    "Input : arr[] = {1, 20, 3}\n",
    "Output : 20\n",
    "*/"
   ]
  },
  {
   "cell_type": "code",
   "execution_count": 67,
   "metadata": {},
   "outputs": [],
   "source": [
    "/*\n",
    "Algorithm:\n",
    "Loop for all elements in arr[] \n",
    "and maintain two sums incl and excl \n",
    "where incl = Max sum including the previous element \n",
    "and excl = Max sum excluding the previous element.\n",
    "\n",
    "Max sum excluding the current element will be max(incl, excl) \n",
    "and max sum including the current element will be excl + current element \n",
    "(Note that only excl is considered because elements cannot be adjacent).\n",
    "\n",
    "At the end of the loop return max of incl and excl.\n",
    "*/"
   ]
  },
  {
   "cell_type": "code",
   "execution_count": 68,
   "metadata": {},
   "outputs": [],
   "source": [
    "/*\n",
    "Example:\n",
    "\n",
    "  arr[] = {5,  5, 10, 40, 50, 35}\n",
    "\n",
    "  incl = 5 \n",
    "  excl = 0\n",
    "\n",
    "  For i = 1 (current element is 5)\n",
    "  incl =  (excl + arr[i])  = 5\n",
    "  excl =  max(5, 0) = 5\n",
    "\n",
    "  For i = 2 (current element is 10)\n",
    "  incl =  (excl + arr[i]) = 15\n",
    "  excl =  max(5, 5) = 5\n",
    "\n",
    "  For i = 3 (current element is 40)\n",
    "  incl = (excl + arr[i]) = 45\n",
    "  excl = max(5, 15) = 15\n",
    "\n",
    "  For i = 4 (current element is 50)\n",
    "  incl = (excl + arr[i]) = 65\n",
    "  excl =  max(45, 15) = 45\n",
    "\n",
    "  For i = 5 (current element is 35)\n",
    "  incl =  (excl + arr[i]) = 80\n",
    "  excl =  max(65, 45) = 65\n",
    "\n",
    "And 35 is the last element. So, answer is max(incl, excl) =  80\n",
    "*/"
   ]
  },
  {
   "cell_type": "code",
   "execution_count": 69,
   "metadata": {},
   "outputs": [],
   "source": [
    "/*Function to return max sum such that no two elements \n",
    "  are adjacent */\n",
    "int FindMaxSum(int arr[], int n) \n",
    "{ \n",
    "    int incl = arr[0]; \n",
    "    int excl = 0; \n",
    "    int excl_new; \n",
    "    int i; \n",
    "\n",
    "    for (i = 1; i < n; i++) \n",
    "    { \n",
    "        /* current max excluding i */\n",
    "        excl_new = (incl > excl) ? incl : excl; \n",
    "\n",
    "        /* current max including i */\n",
    "        incl = excl + arr[i]; \n",
    "        excl = excl_new; \n",
    "    } \n",
    "\n",
    "    /* return max of incl and excl */\n",
    "    return ((incl > excl) ? incl : excl); \n",
    "} "
   ]
  },
  {
   "cell_type": "code",
   "execution_count": 70,
   "metadata": {},
   "outputs": [
    {
     "name": "stdout",
     "output_type": "stream",
     "text": [
      "110\n"
     ]
    }
   ],
   "source": [
    "// Driver program to test above functions \n",
    "public static void main(String[] args) \n",
    "{  \n",
    "    int arr[] = new int[]{5, 5, 10, 100, 10, 5}; \n",
    "    System.out.println(FindMaxSum(arr, arr.length)); \n",
    "} \n",
    "main(args);"
   ]
  },
  {
   "cell_type": "markdown",
   "metadata": {},
   "source": [
    "***https://youtu.be/6w60Zi1NtL8***"
   ]
  },
  {
   "cell_type": "markdown",
   "metadata": {},
   "source": [
    "## **56. Find common elements in three sorted arrays**\n",
    "https://www.geeksforgeeks.org/find-common-elements-three-sorted-arrays/"
   ]
  },
  {
   "cell_type": "code",
   "execution_count": 71,
   "metadata": {},
   "outputs": [],
   "source": [
    "/*\n",
    "Given three arrays sorted in non-decreasing order, print all common elements in these arrays.\n",
    "*/"
   ]
  },
  {
   "cell_type": "code",
   "execution_count": 72,
   "metadata": {},
   "outputs": [],
   "source": [
    "/*\n",
    "Examples:\n",
    "\n",
    "Input:\n",
    "ar1[] = {1, 5, 10, 20, 40, 80}\n",
    "ar2[] = {6, 7, 20, 80, 100}\n",
    "ar3[] = {3, 4, 15, 20, 30, 70, 80, 120}\n",
    "Output: 20, 80\n",
    "\n",
    "Input:\n",
    "ar1[] = {1, 5, 5}\n",
    "ar2[] = {3, 4, 5, 5, 10}\n",
    "ar3[] = {5, 5, 10, 20}\n",
    "Output: 5, 5\n",
    "*/"
   ]
  },
  {
   "cell_type": "code",
   "execution_count": 73,
   "metadata": {},
   "outputs": [],
   "source": [
    "/*\n",
    "A simple solution is to first find intersection of two arrays (https://www.geeksforgeeks.org/union-and-intersection-of-two-sorted-arrays-2/) and store the intersection in a temporary array, \n",
    "then find the intersection of third array and temporary array.\n",
    "\n",
    "Time complexity of this solution is O(n1 + n2 + n3) where n1, n2 and n3 are sizes of ar1[], ar2[] and ar3[] respectively.\n",
    "\n",
    "The above solution requires extra space and two loops, \n",
    "we can find the common elements using a single loop and without extra space.\n",
    "*/"
   ]
  },
  {
   "cell_type": "code",
   "execution_count": 74,
   "metadata": {},
   "outputs": [],
   "source": [
    "/*\n",
    "Let the current element traversed in ar1[] be x, in ar2[] be y and in ar3[] be z. \n",
    "\n",
    "We can have following cases inside the loop.\n",
    "    If x, y and z are same, we can simply print any of them as common element and move ahead in all three arrays.\n",
    "    Else If x < y, we can move ahead in ar1[] as x cannot be a common element.\n",
    "    Else If x > z and y > z), we can simply move ahead in ar3[] as z cannot be a common element.\n",
    "Below image is a dry run of the above approach:\n",
    "*/"
   ]
  },
  {
   "cell_type": "markdown",
   "metadata": {},
   "source": [
    "<img src = \"https://media.geeksforgeeks.org/wp-content/cdn-uploads/20190704124815/FindCommonElementsinThreeSortedArrays.png\"/>"
   ]
  },
  {
   "cell_type": "code",
   "execution_count": 75,
   "metadata": {},
   "outputs": [],
   "source": [
    "// This function prints common elements in ar1 \n",
    "void findCommon(int ar1[], int ar2[], int ar3[]) \n",
    "{ \n",
    "    // Initialize starting indexes for ar1[], ar2[] and ar3[] \n",
    "    int i = 0, j = 0, k = 0; \n",
    "\n",
    "    // Iterate through three arrays while all arrays have elements \n",
    "    while (i < ar1.length && j < ar2.length && k < ar3.length) \n",
    "    { \n",
    "         // If x = y and y = z, print any of them and move ahead \n",
    "         // in all arrays \n",
    "         if (ar1[i] == ar2[j] && ar2[j] == ar3[k]) \n",
    "         {   System.out.print(ar1[i]+\" \");   i++; j++; k++; } \n",
    "\n",
    "         // x < y \n",
    "         else if (ar1[i] < ar2[j]) \n",
    "             i++; \n",
    "\n",
    "         // y < z \n",
    "         else if (ar2[j] < ar3[k]) \n",
    "             j++; \n",
    "\n",
    "         // We reach here when x > y and z < y, i.e., z is smallest \n",
    "         else\n",
    "             k++; \n",
    "    } \n",
    "} "
   ]
  },
  {
   "cell_type": "code",
   "execution_count": 76,
   "metadata": {},
   "outputs": [
    {
     "name": "stdout",
     "output_type": "stream",
     "text": [
      "Common elements are 20 80 "
     ]
    }
   ],
   "source": [
    "// Driver code to test above \n",
    "public static void main(String args[]) \n",
    "{ \n",
    "    int ar1[] = {1, 5, 10, 20, 40, 80}; \n",
    "    int ar2[] = {6, 7, 20, 80, 100}; \n",
    "    int ar3[] = {3, 4, 15, 20, 30, 70, 80, 120}; \n",
    "\n",
    "    System.out.print(\"Common elements are \"); \n",
    "    findCommon(ar1, ar2, ar3); \n",
    "} \n",
    "main(args)"
   ]
  },
  {
   "cell_type": "code",
   "execution_count": 77,
   "metadata": {},
   "outputs": [],
   "source": [
    "/*\n",
    "Time complexity of the above solution is O(n1 + n2 + n3). \n",
    "In the worst case, \n",
    "    the largest sized array may have all small elements and middle-sized array has all middle elements.\n",
    "*/"
   ]
  },
  {
   "cell_type": "markdown",
   "metadata": {},
   "source": [
    "***https://youtu.be/ilKK8bimP24***"
   ]
  },
  {
   "cell_type": "markdown",
   "metadata": {},
   "source": [
    "## **57. Count triplets with sum smaller than a given value**\n",
    "https://www.geeksforgeeks.org/count-triplets-with-sum-smaller-that-a-given-value/"
   ]
  },
  {
   "cell_type": "code",
   "execution_count": 78,
   "metadata": {},
   "outputs": [],
   "source": [
    "/*\n",
    "Given an array of distinct integers and a sum value. \n",
    "Find count of triplets with sum smaller than given sum value. \n",
    "Expected Time Complexity is O(n^2).\n",
    "*/"
   ]
  },
  {
   "cell_type": "code",
   "execution_count": 79,
   "metadata": {},
   "outputs": [],
   "source": [
    "/*\n",
    "Examples:\n",
    "\n",
    "Input : arr[] = {-2, 0, 1, 3}\n",
    "        sum = 2.\n",
    "Output : 2\n",
    "Explanation :  Below are triplets with sum less than 2\n",
    "               (-2, 0, 1) and (-2, 0, 3) \n",
    "\n",
    "Input : arr[] = {5, 1, 3, 4, 7}\n",
    "        sum = 12.\n",
    "Output : 4\n",
    "Explanation :  Below are triplets with sum less than 12\n",
    "               (1, 3, 4), (1, 3, 5), (1, 3, 7) and \n",
    "               (1, 4, 5)\n",
    "*/"
   ]
  },
  {
   "cell_type": "code",
   "execution_count": 80,
   "metadata": {},
   "outputs": [],
   "source": [
    "/*\n",
    "A Simple Solution is to run three loops to consider all triplets one by one. \n",
    "For every triplet, \n",
    "    compare the sums and increment count if triplet sum is smaller than given sum.\n",
    "    \n",
    "Time complexity is O(n^3).\n",
    "*/"
   ]
  },
  {
   "cell_type": "code",
   "execution_count": 81,
   "metadata": {},
   "outputs": [
    {
     "name": "stdout",
     "output_type": "stream",
     "text": [
      "4\n"
     ]
    }
   ],
   "source": [
    "static int arr[] = new int[]{5, 1, 3, 4, 7}; \n",
    "\n",
    "static int countTriplets(int n, int sum) \n",
    "{ \n",
    "    // Initialize result \n",
    "    int ans = 0; \n",
    "\n",
    "    // Fix the first element as A[i] \n",
    "    for (int i = 0; i < n-2; i++) \n",
    "    { \n",
    "       // Fix the second element as A[j] \n",
    "       for (int j = i+1; j < n-1; j++) \n",
    "       { \n",
    "           // Now look for the third number \n",
    "           for (int k = j+1; k < n; k++) \n",
    "               if (arr[i] + arr[j] + arr[k] < sum) \n",
    "                   ans++; \n",
    "       } \n",
    "    } \n",
    "\n",
    "    return ans; \n",
    "} \n",
    "\n",
    "// Driver method to test the above function \n",
    "public static void main(String[] args)  \n",
    "{ \n",
    "    int sum = 12;  \n",
    "    System.out.println(countTriplets(arr.length, sum)); \n",
    "} \n",
    "main(args)"
   ]
  },
  {
   "cell_type": "code",
   "execution_count": 82,
   "metadata": {},
   "outputs": [],
   "source": [
    "/*\n",
    "An Efficient Solution can count triplets in O(n^2) by sorting the array first, \n",
    "and then using method 1 of below cell method\n",
    "*/"
   ]
  },
  {
   "cell_type": "code",
   "execution_count": 83,
   "metadata": {},
   "outputs": [],
   "source": [
    "/*\n",
    "Given an array A[] and a number x, check for pair in A[] with sum as x\n",
    "\n",
    "METHOD 1 (Use Sorting)\n",
    "\n",
    "Algorithm :\n",
    "\n",
    "hasArrayTwoCandidates (A[], ar_size, sum)\n",
    "1) Sort the array in non-decreasing order.\n",
    "2) Initialize two index variables to find the candidate \n",
    "   elements in the sorted array.\n",
    "       (a) Initialize first to the leftmost index: l = 0\n",
    "       (b) Initialize second  the rightmost index:  r = ar_size-1\n",
    "3) Loop while l < r.\n",
    "       (a) If (A[l] + A[r] == sum)  then return 1\n",
    "       (b) Else if( A[l] + A[r] <  sum )  then l++\n",
    "       (c) Else r--    \n",
    "4) No candidates in whole array - return 0\n",
    "*/"
   ]
  },
  {
   "cell_type": "code",
   "execution_count": 84,
   "metadata": {},
   "outputs": [],
   "source": [
    "/*\n",
    "1) Sort the input array in increasing order.\n",
    "2) Initialize result as 0.\n",
    "3) Run a loop from i = 0 to n-2.  An iteration of this loop finds all\n",
    "   triplets with arr[i] as first element.\n",
    "     a) Initialize other two elements as corner elements of subarray\n",
    "        arr[i+1..n-1], i.e., j = i+1 and k = n-1\n",
    "     b) Move j and k toward each other until they meet, i.e., while (j = sum), then do k--\n",
    "\n",
    "            // Else for current i and j, there can (k-j) possible third elements\n",
    "            // that satisfy the constraint.\n",
    "            (ii) Else Do ans += (k - j) followed by j++ \n",
    "*/"
   ]
  },
  {
   "cell_type": "code",
   "execution_count": 85,
   "metadata": {},
   "outputs": [],
   "source": [
    "static int arr[] = new int[]{5, 1, 3, 4, 7}; \n",
    "\n",
    "static int countTriplets(int n, int sum) \n",
    "{ \n",
    "    // Sort input array \n",
    "    Arrays.sort(arr); \n",
    "\n",
    "    // Initialize result \n",
    "    int ans = 0; \n",
    "\n",
    "    // Every iteration of loop counts triplet with \n",
    "    // first element as arr[i]. \n",
    "    for (int i = 0; i < n - 2; i++) \n",
    "    { \n",
    "        // Initialize other two elements as corner elements \n",
    "        // of subarray arr[j+1..k] \n",
    "        int j = i + 1, k = n - 1; \n",
    "\n",
    "        // Use Meet in the Middle concept \n",
    "        while (j < k) \n",
    "        { \n",
    "            // If sum of current triplet is more or equal, \n",
    "            // move right corner to look for smaller values \n",
    "            if (arr[i] + arr[j] + arr[k] >= sum) \n",
    "                k--; \n",
    "\n",
    "            // Else move left corner \n",
    "            else\n",
    "            { \n",
    "                // This is important. For current i and j, there \n",
    "                // can be total k-j third elements. \n",
    "                ans += (k - j); \n",
    "                j++; \n",
    "            } \n",
    "        } \n",
    "    } \n",
    "    return ans; \n",
    "} "
   ]
  },
  {
   "cell_type": "code",
   "execution_count": 86,
   "metadata": {},
   "outputs": [
    {
     "name": "stdout",
     "output_type": "stream",
     "text": [
      "4\n"
     ]
    }
   ],
   "source": [
    "// Driver method to test the above function \n",
    "public static void main(String[] args)  \n",
    "{ \n",
    "    int sum = 12;  \n",
    "    System.out.println(countTriplets(arr.length, sum)); \n",
    "} \n",
    "main(args)"
   ]
  },
  {
   "cell_type": "markdown",
   "metadata": {},
   "source": [
    "***https://youtu.be/7nso5Dgc6CI***"
   ]
  },
  {
   "cell_type": "markdown",
   "metadata": {},
   "source": [
    "## **58. Merge two sorted arrays with O(1) extra space**\n",
    "https://www.geeksforgeeks.org/merge-two-sorted-arrays-o1-extra-space/"
   ]
  },
  {
   "cell_type": "code",
   "execution_count": 87,
   "metadata": {},
   "outputs": [],
   "source": [
    "/*\n",
    "We are given two sorted array. \n",
    "We need to merge these two arrays \n",
    "such that the initial numbers (after complete sorting) are in the first array \n",
    "and the remaining numbers are in the second array. \n",
    "Extra space allowed in O(1).\n",
    "*/"
   ]
  },
  {
   "cell_type": "code",
   "execution_count": 88,
   "metadata": {},
   "outputs": [],
   "source": [
    "/*\n",
    "Example:\n",
    "\n",
    "Input: ar1[] = {10};\n",
    "       ar2[] = {2, 3};\n",
    "Output: ar1[] = {2}\n",
    "        ar2[] = {3, 10}  \n",
    "\n",
    "Input: ar1[] = {1, 5, 9, 10, 15, 20};\n",
    "       ar2[] = {2, 3, 8, 13};\n",
    "Output: ar1[] = {1, 2, 3, 5, 8, 9}\n",
    "        ar2[] = {10, 13, 15, 20} \n",
    "*/"
   ]
  },
  {
   "cell_type": "code",
   "execution_count": 89,
   "metadata": {},
   "outputs": [],
   "source": [
    "/*\n",
    "This task is simple and O(m+n) if we are allowed to use extra space. \n",
    "But it becomes really complicated when extra space is not allowed and doesn’t look possible in less than O(m*n) worst case time.\n",
    "*/"
   ]
  },
  {
   "cell_type": "code",
   "execution_count": 90,
   "metadata": {},
   "outputs": [],
   "source": [
    "/*\n",
    "The idea is to begin from last element of ar2[] and search it in ar1[]. \n",
    "If there is a greater element in ar1[], then we move last element of ar1[] to ar2[]. \n",
    "To keep ar1[] and ar2[] sorted, we need to place last element of ar2[] at correct place in ar1[]. \n",
    "We can use Insertion Sort type of insertion for this. \n",
    "Below is algorithm:\n",
    "*/"
   ]
  },
  {
   "cell_type": "code",
   "execution_count": 91,
   "metadata": {},
   "outputs": [],
   "source": [
    "/*\n",
    "1) Iterate through every element of ar2[] starting from last \n",
    "   element. Do following for every element ar2[i]\n",
    "    a) Store last element of ar1[i]: last = ar1[i]\n",
    "    b) Loop from last element of ar1[] while element ar1[j] is \n",
    "       smaller than ar2[i].\n",
    "          ar1[j+1] = ar1[j] // Move element one position ahead\n",
    "          j--\n",
    "    c) If any element of ar1[] was moved or (j != m-1)\n",
    "          ar1[j+1] = ar2[i] \n",
    "          ar2[i] = last  \n",
    "*/"
   ]
  },
  {
   "cell_type": "code",
   "execution_count": 92,
   "metadata": {},
   "outputs": [
    {
     "name": "stdout",
     "output_type": "stream",
     "text": [
      "After Merging nFirst Array: [1, 2, 3, 5, 8, 9]\n",
      "Second Array:  [10, 13, 15, 20]\n"
     ]
    }
   ],
   "source": [
    "static int arr1[] = new int[]{1, 5, 9, 10, 15, 20}; \n",
    "static int arr2[] = new int[]{2, 3, 8, 13}; \n",
    "\n",
    "static void merge(int m, int n) \n",
    "{ \n",
    "    // Iterate through all elements of ar2[] starting from \n",
    "    // the last element \n",
    "    for (int i=n-1; i>=0; i--) \n",
    "    { \n",
    "        /* Find the smallest element greater than ar2[i]. Move all \n",
    "           elements one position ahead till the smallest greater \n",
    "           element is not found */\n",
    "        int j, last = arr1[m-1]; \n",
    "        for (j=m-2; j >= 0 && arr1[j] > arr2[i]; j--) \n",
    "            arr1[j+1] = arr1[j]; \n",
    "\n",
    "        // If there was a greater element \n",
    "        if (j != m-2 || last > arr2[i]) \n",
    "        { \n",
    "            arr1[j+1] = arr2[i]; \n",
    "            arr2[i] = last; \n",
    "        } \n",
    "    } \n",
    "} \n",
    "\n",
    "// Driver method to test the above function \n",
    "public static void main(String[] args)  \n",
    "{ \n",
    "    merge(arr1.length,arr2.length); \n",
    "    System.out.print(\"After Merging nFirst Array: \"); \n",
    "    System.out.println(Arrays.toString(arr1)); \n",
    "    System.out.print(\"Second Array:  \"); \n",
    "    System.out.println(Arrays.toString(arr2)); \n",
    "} \n",
    "main(args)"
   ]
  },
  {
   "cell_type": "code",
   "execution_count": 93,
   "metadata": {},
   "outputs": [],
   "source": [
    "/*\n",
    "Time Complexity: The worst case time complexity of code/algorithm is O(m*n). \n",
    "The worst case occurs when all elements of ar1[] are greater than all elements of ar2[].\n",
    "*/"
   ]
  },
  {
   "cell_type": "markdown",
   "metadata": {},
   "source": [
    "<img src = \"https://media.geeksforgeeks.org/wp-content/cdn-uploads/Merge-two-sorted-Arrays.png\"/>"
   ]
  },
  {
   "cell_type": "markdown",
   "metadata": {},
   "source": [
    "***Efficient Method***\n",
    "***https://www.geeksforgeeks.org/efficiently-merging-two-sorted-arrays-with-o1-extra-space/***"
   ]
  },
  {
   "cell_type": "markdown",
   "metadata": {},
   "source": [
    "## **59. 3-Way QuickSort (Dutch National Flag)**\n",
    "https://www.geeksforgeeks.org/3-way-quicksort-dutch-national-flag/"
   ]
  },
  {
   "cell_type": "code",
   "execution_count": 94,
   "metadata": {},
   "outputs": [],
   "source": [
    "/*\n",
    "n simple QuickSort algorithm, \n",
    "we select an element as pivot, partition the array around pivot and recur for subarrays on left and right of pivot.\n",
    "*/"
   ]
  },
  {
   "cell_type": "code",
   "execution_count": 95,
   "metadata": {},
   "outputs": [],
   "source": [
    "/*\n",
    "Consider an array which has many redundant elements. \n",
    "For example, \n",
    "    {1, 4, 2, 4, 2, 4, 1, 2, 4, 1, 2, 2, 2, 2, 4, 1, 4, 4, 4}. \n",
    "        If 4 is picked as pivot in Simple QuickSort, \n",
    "        we fix only one 4 and recursively process remaining occurrences.\n",
    "*/"
   ]
  },
  {
   "cell_type": "code",
   "execution_count": 96,
   "metadata": {},
   "outputs": [],
   "source": [
    "/*\n",
    "The idea of 3 way QuickSort is to process all occurrences of pivot and is based on Dutch National Flag algorithm.\n",
    "\n",
    "In 3 Way QuickSort, an array arr[l..r] is divided in 3 parts:\n",
    "    a) arr[l..i] elements less than pivot.\n",
    "    b) arr[i+1..j-1] elements equal to pivot.\n",
    "    c) arr[j..r] elements greater than pivot.\n",
    "Below is the implementation of above algorithm.\n",
    "*/"
   ]
  },
  {
   "cell_type": "markdown",
   "metadata": {},
   "source": [
    "***https://ideone.com/JUYB5p***"
   ]
  },
  {
   "cell_type": "code",
   "execution_count": 97,
   "metadata": {},
   "outputs": [],
   "source": [
    "/*\n",
    "Another Implementation using Dutch National Flag Algorithm\n",
    "*/"
   ]
  },
  {
   "cell_type": "code",
   "execution_count": null,
   "metadata": {},
   "outputs": [],
   "source": []
  },
  {
   "cell_type": "markdown",
   "metadata": {},
   "source": [
    "## **60. Counting Sort**\n",
    "https://www.geeksforgeeks.org/counting-sort/"
   ]
  },
  {
   "cell_type": "code",
   "execution_count": 98,
   "metadata": {},
   "outputs": [],
   "source": [
    "/*\n",
    "Counting sort is a sorting technique based on keys between a specific range. \n",
    "It works by counting the number of objects having distinct key values (kind of hashing). \n",
    "Then doing some arithmetic to calculate the position of each object in the output sequence.\n",
    "*/"
   ]
  },
  {
   "cell_type": "code",
   "execution_count": 99,
   "metadata": {},
   "outputs": [],
   "source": [
    "/*\n",
    "Let us understand it with the help of an example.\n",
    "\n",
    "For simplicity, consider the data in the range 0 to 9. \n",
    "Input data: 1, 4, 1, 2, 7, 5, 2\n",
    "  1) Take a count array to store the count of each unique object.\n",
    "  Index:     0  1  2  3  4  5  6  7  8  9\n",
    "  Count:     0  2  2  0   1  1  0  1  0  0\n",
    "\n",
    "  2) Modify the count array such that each element at each index \n",
    "  stores the sum of previous counts. \n",
    "  Index:     0  1  2  3  4  5  6  7  8  9\n",
    "  Count:     0  2  4  4  5  6  6  7  7  7\n",
    "\n",
    "The modified count array indicates the position of each object in \n",
    "the output sequence.\n",
    " \n",
    "  3) Output each object from the input sequence followed by \n",
    "  decreasing its count by 1.\n",
    "  Process the input data: 1, 4, 1, 2, 7, 5, 2. Position of 1 is 2.\n",
    "  Put data 1 at index 2 in output. Decrease count by 1 to place \n",
    "  next data 1 at an index 1 smaller than this index.\n",
    "\n",
    "Time Complexity: O(n+k) where n is the number of elements in input array and k is the range of input.\n",
    "Auxiliary Space: O(n+k)\n",
    "*/"
   ]
  },
  {
   "cell_type": "code",
   "execution_count": 100,
   "metadata": {},
   "outputs": [],
   "source": [
    "void sort(char arr[]) \n",
    "{ \n",
    "    int n = arr.length; \n",
    "\n",
    "    // The output character array that will have sorted arr \n",
    "    char output[] = new char[n]; \n",
    "\n",
    "    // Create a count array to store count of inidividul \n",
    "    // characters and initialize count array as 0 \n",
    "    int count[] = new int[256]; \n",
    "    for (int i=0; i<256; ++i) \n",
    "        count[i] = 0; \n",
    "\n",
    "    // store count of each character \n",
    "    for (int i=0; i<n; ++i) \n",
    "        ++count[arr[i]]; \n",
    "\n",
    "    // Change count[i] so that count[i] now contains actual \n",
    "    // position of this character in output array \n",
    "    for (int i=1; i<=255; ++i) \n",
    "        count[i] += count[i-1]; \n",
    "\n",
    "    // Build the output character array \n",
    "    // To make it stable we are operating in reverse order. \n",
    "    for (int i = n-1; i>=0; i--) \n",
    "    { \n",
    "        output[count[arr[i]]-1] = arr[i]; \n",
    "        --count[arr[i]]; \n",
    "    } \n",
    "\n",
    "    // Copy the output array to arr, so that arr now \n",
    "    // contains sorted characters \n",
    "    for (int i = 0; i<n; ++i) \n",
    "        arr[i] = output[i]; \n",
    "} "
   ]
  },
  {
   "cell_type": "code",
   "execution_count": 101,
   "metadata": {},
   "outputs": [
    {
     "name": "stdout",
     "output_type": "stream",
     "text": [
      "Sorted character array is eeeefggkkorss"
     ]
    }
   ],
   "source": [
    "// Driver method \n",
    "public static void main(String args[]) \n",
    "{ \n",
    "    char arr[] = {'g', 'e', 'e', 'k', 's', 'f', 'o', \n",
    "                'r', 'g', 'e', 'e', 'k', 's'\n",
    "                }; \n",
    "\n",
    "    sort(arr); \n",
    "\n",
    "    System.out.print(\"Sorted character array is \"); \n",
    "    for (int i=0; i<arr.length; ++i) \n",
    "        System.out.print(arr[i]); \n",
    "} \n",
    "main(args)"
   ]
  },
  {
   "cell_type": "code",
   "execution_count": 102,
   "metadata": {},
   "outputs": [],
   "source": [
    "/*\n",
    "The problem with the previous counting sort was that we could not sort the elements if we have negative numbers in it. \n",
    "Because there are no negative array indices. \n",
    "So what we do is, we find the minimum element and we will store count of that minimum element at zero index.\n",
    "*/"
   ]
  },
  {
   "cell_type": "code",
   "execution_count": 103,
   "metadata": {},
   "outputs": [
    {
     "name": "stdout",
     "output_type": "stream",
     "text": [
      "-10 -5 -3 -1 0 5 8 10 \n"
     ]
    }
   ],
   "source": [
    "static void countSort(int[] arr)  \n",
    "{ \n",
    "    int max = Arrays.stream(arr).max().getAsInt(); \n",
    "    int min = Arrays.stream(arr).min().getAsInt(); \n",
    "    int range = max - min + 1; \n",
    "    int count[] = new int[range]; \n",
    "    int output[] = new int[arr.length]; \n",
    "    for (int i = 0; i < arr.length; i++)  \n",
    "    { \n",
    "        count[arr[i] - min]++; \n",
    "    } \n",
    "\n",
    "    for (int i = 1; i < count.length; i++)  \n",
    "    { \n",
    "        count[i] += count[i - 1]; \n",
    "    } \n",
    "\n",
    "    for (int i = arr.length - 1; i >= 0; i--)  \n",
    "    { \n",
    "        output[count[arr[i] - min] - 1] = arr[i]; \n",
    "        count[arr[i] - min]--; \n",
    "    } \n",
    "\n",
    "    for (int i = 0; i < arr.length; i++) \n",
    "    { \n",
    "        arr[i] = output[i]; \n",
    "    } \n",
    "} \n",
    "\n",
    "static void printArray(int[] arr)  \n",
    "{ \n",
    "    for (int i = 0; i < arr.length; i++)  \n",
    "    { \n",
    "        System.out.print(arr[i] + \" \"); \n",
    "    } \n",
    "    System.out.println(\"\"); \n",
    "} \n",
    "\n",
    "// Driver code \n",
    "public static void main(String[] args) \n",
    "{ \n",
    "    int[] arr = {-5, -10, 0, -3, 8, 5, -1, 10}; \n",
    "    countSort(arr); \n",
    "    printArray(arr); \n",
    "} \n",
    "main(args);"
   ]
  },
  {
   "cell_type": "code",
   "execution_count": 104,
   "metadata": {},
   "outputs": [],
   "source": [
    "/*\n",
    "Points to be noted:\n",
    "1. Counting sort is efficient if the range of input data is not significantly greater than the number of objects to be sorted. \n",
    "   Consider the situation where the input sequence is between range 1 to 10K and the data is 10, 5, 10K, 5K.\n",
    "2. It is not a comparison based sorting. It running time complexity is O(n) with space proportional to the range of data.\n",
    "3. It is often used as a sub-routine to another sorting algorithm like radix sort.\n",
    "4. Counting sort uses a partial hashing to count the occurrence of the data object in O(1).\n",
    "5. Counting sort can be extended to work for negative inputs also.\n",
    "*/"
   ]
  },
  {
   "cell_type": "markdown",
   "metadata": {},
   "source": [
    "***https://youtu.be/7zuGmKfUt7s***"
   ]
  },
  {
   "cell_type": "code",
   "execution_count": null,
   "metadata": {},
   "outputs": [],
   "source": []
  }
 ],
 "metadata": {
  "kernelspec": {
   "display_name": "Java",
   "language": "java",
   "name": "java"
  },
  "language_info": {
   "codemirror_mode": "java",
   "file_extension": ".jshell",
   "mimetype": "text/x-java-source",
   "name": "Java",
   "pygments_lexer": "java",
   "version": "11.0.6+8-LTS"
  },
  "toc": {
   "base_numbering": 1,
   "nav_menu": {},
   "number_sections": true,
   "sideBar": true,
   "skip_h1_title": false,
   "title_cell": "Table of Contents",
   "title_sidebar": "Contents",
   "toc_cell": false,
   "toc_position": {
    "height": "calc(100% - 180px)",
    "left": "10px",
    "top": "150px",
    "width": "303.542px"
   },
   "toc_section_display": true,
   "toc_window_display": true
  }
 },
 "nbformat": 4,
 "nbformat_minor": 2
}
