{
 "cells": [
  {
   "cell_type": "markdown",
   "metadata": {},
   "source": [
    "**------------------------Questions Covered-----------------------------**"
   ]
  },
  {
   "cell_type": "markdown",
   "metadata": {},
   "source": [
    "***5\tBackTracking\thttps://www.geeksforgeeks.org/find-maximum-number-possible-by-doing-at-most-k-swaps/\tPep_JavaIP_5Backtracking_169LargestNumberwithKswaps\t\t\t\t\t\t\t\t\t\t\t\t\t\t\t\t\t\t\t\t\t\t\t\t\n",
    "5\tBackTracking\thttps://www.geeksforgeeks.org/find-paths-from-corner-cell-to-middle-cell-in-maze/\tPep_JavaIP_5Backtracking_170FindPathsFromCornertoMiddleCell\t\t\t\t\t\t\t\t\t\t\t\t\t\t\t\t\t\t\t\t\t\t\t\t\n",
    "5\tBackTracking\thttps://www.hackerrank.com/challenges/arithmetic-expressions/problem\tPep_JavaIP_5Backtracking_171ArithmeticExpression\t\t\t\t\t\t\t\t\t\t\t\t\t\t\t\t\t\t\t\t\t\t\t\t\n",
    "5\tBackTracking\thttps://www.hackerrank.com/challenges/crossword-puzzle/problem\tPep_JavaIP_5Backtracking_172Crossword\tbreaker\t\t\t\t\t\t\t\t\t\t\t\t\t\t\t\t\t\t\t\t\t\t\t\n",
    "6\tGreedy\thttps://www.geeksforgeeks.org/greedy-algorithms-set-1-activity-selection-problem/\tPep_JavaIP_6Greedy_173ActivitySelectionProblem\t\t\t\t\t\t\t\t\t\t\t\t\t\t\t\t\t\t\t\t\t\t\t\t\n",
    "6\tGreedy\thttps://www.geeksforgeeks.org/job-sequencing-problem-set-1-greedy-algorithm/\tPep_JavaIP_6Greedy_171JobSequencingProblem\t\t\t\t\t\t\t\t\t\t\t\t\t\t\t\t\t\t\t\t\t\t\t\t\n",
    "6\tGreedy\thttps://www.geeksforgeeks.org/greedy-algorithm-egyptian-fraction/\tPep_JavaIP_6Greedy_172EgyptianFraction\t\t\t\t\t\t\t\t\t\t\t\t\t\t\t\t\t\t\t\t\t\t\t\t\n",
    "6\tGreedy\thttps://www.geeksforgeeks.org/fractional-knapsack-problem/\tPep_JavaIP_6Greedy_173FractionalKnapSack\t\t\t\t\t\t\t\t\t\t\t\t\t\t\t\t\t\t\t\t\t\t\t\t\n",
    "6\tGreedy\thttps://www.geeksforgeeks.org/greedy-algorithm-to-find-minimum-number-of-coins/\tPep_JavaIP_6Greedy_174MinimumNumberofCoins\t\t\t\t\t\t\t\t\t\t\t\t\t\t\t\t\t\t\t\t\t\t\t\t\n",
    "6\tGreedy\thttps://www.geeksforgeeks.org/dynamic-programming-set-20-maximum-length-chain-of-pairs/\tPep_JavaIP_6Greedy_175MaximumLengthChainofPairs\t\t\t\t\t\t\t\t\t\t\t\t\t\t\t\t\t\t\t\t\t\t\t\t\n",
    "6\tGreedy\thttps://www.geeksforgeeks.org/find-minimum-time-to-finish-all-jobs-with-given-constraints/\tPep_JavaIP_6Greedy_176MinimumTimeToFinishAllJobs\t\t\t\t\t\t\t\t\t\t\t\t\t\t\t\t\t\t\t\t\t\t\t\t\n",
    "6\tGreedy\thttps://www.geeksforgeeks.org/job-sequencing-using-disjoint-set-union/\tPep_JavaIP_6Greedy_177JobSequencing\t\t\t\t\t\t\t\t\t\t\t\t\t\t\t\t\t\t\t\t\t\t\t\t\n",
    "6\tGreedy\thttps://www.geeksforgeeks.org/minimum-sum-two-numbers-formed-digits-array-2/\tPep_JavaIP_6Greedy_178MinimumSumof2NumbersFormedFromDigitsOfArray\t\t\t\t\t\t\t\t\t\t\t\t\t\t\t\t\t\t\t\t\t\t\t\t\n",
    "6\tGreedy\thttps://www.geeksforgeeks.org/find-smallest-number-with-given-number-of-digits-and-digit-sum/\tPep_JavaIP_6Greedy_179SmallestNumber\t\t\t\t\t\t\t\t\t\t\t\t\t\t\t\t\t\t\t\t\t\t\t\t\n",
    "6\tGreedy\thttps://www.geeksforgeeks.org/minimum-sum-absolute-difference-pairs-two-arrays/\tPep_JavaIP_6Greedy_180AbsoluteDifferences\t\t\t\t\t\t\t\t\t\t\t\t\t\t\t\t\t\t\t\t\t\t\t\t\n",
    "6\tGreedy\thttps://www.geeksforgeeks.org/maximize-sum-consecutive-differences-circular-array/***"
   ]
  },
  {
   "cell_type": "code",
   "execution_count": 1,
   "metadata": {},
   "outputs": [],
   "source": [
    "import java.util.*;\n",
    "import java.io.*;\n",
    "import java.util.Arrays;\n",
    "String[] args =new String[0];"
   ]
  },
  {
   "cell_type": "markdown",
   "metadata": {},
   "source": [
    "## **166. Find Maximum number possible by doing at-most K swaps**\n",
    "https://www.geeksforgeeks.org/find-maximum-number-possible-by-doing-at-most-k-swaps/"
   ]
  },
  {
   "cell_type": "code",
   "execution_count": 2,
   "metadata": {},
   "outputs": [],
   "source": [
    "/*\n",
    "Given a positive integer, find maximum integer possible by doing at-most K swap operations on its digits.\n",
    "*/"
   ]
  },
  {
   "cell_type": "code",
   "execution_count": 3,
   "metadata": {},
   "outputs": [],
   "source": [
    "/*\n",
    "Examples:\n",
    "\n",
    "Input: M = 254, K = 1\n",
    "Output: 524\n",
    "\n",
    "Input: M = 254, K = 2\n",
    "Output: 542\n",
    "\n",
    "Input: M = 68543, K = 1 \n",
    "Output: 86543\n",
    "\n",
    "Input: M = 7599, K = 2\n",
    "Output: 9975\n",
    "\n",
    "Input: M = 76543, K = 1 \n",
    "Output: 76543\n",
    "\n",
    "Input: M = 129814999, K = 4\n",
    "Output: 999984211\n",
    "*/"
   ]
  },
  {
   "cell_type": "code",
   "execution_count": 4,
   "metadata": {},
   "outputs": [],
   "source": [
    "/*\n",
    "Idea is to consider every digit and swap it with digits following it one at a time and see if it leads to the maximum number.\n",
    "We repeat the process K times. \n",
    "\n",
    "The code can be further optimized if we swap only if current digit is less than the following digit.\n",
    "*/"
   ]
  },
  {
   "cell_type": "markdown",
   "metadata": {},
   "source": [
    "***https://ideone.com/Ta2tqm***"
   ]
  },
  {
   "cell_type": "code",
   "execution_count": 5,
   "metadata": {},
   "outputs": [
    {
     "name": "stdout",
     "output_type": "stream",
     "text": [
      "999914218\n"
     ]
    }
   ],
   "source": [
    "private static String findMaximumNum(String str, int k) {\n",
    "    Map<Integer, Deque<Integer>> map = new HashMap<>();\n",
    "    char[] arr = str.toCharArray();\n",
    "    for (int i = 0; i < arr.length; i++) {\n",
    "        Deque<Integer> tq = map.get(arr[i] - '0');\n",
    "        if (tq == null) {\n",
    "            tq = new LinkedList<>();\n",
    "            map.put(arr[i] - '0', tq);\n",
    "        }\n",
    "        tq.add(i);\n",
    "    }\n",
    "    int count = 0;\n",
    "    for (int i = 0; i < arr.length; i++) {\n",
    "        for (int j = 9; j > arr[i] - '0';) {\n",
    "            char tp = arr[i];\n",
    "            if (map.get(j) != null && !map.get(j).isEmpty()) {\n",
    "                count++;\n",
    "                int index = map.get(j).removeFirst();\n",
    "                arr[i] = arr[index];\n",
    "                arr[index] = tp;\n",
    "            } else {\n",
    "                j--;\n",
    "            }\n",
    "            if (count == k) {\n",
    "                String ss = \"\";\n",
    "                for (char ch : arr) {\n",
    "                    ss += ch;\n",
    "                }\n",
    "                return ss;\n",
    "            }\n",
    "        }\n",
    "    }\n",
    "    return str;\n",
    "}\n",
    "System.out.println(findMaximumNum(\"129814999\", 4));"
   ]
  },
  {
   "cell_type": "markdown",
   "metadata": {},
   "source": [
    "## **167. Find paths from corner cell to middle cell in maze**\n",
    "https://www.geeksforgeeks.org/find-paths-from-corner-cell-to-middle-cell-in-maze/"
   ]
  },
  {
   "cell_type": "code",
   "execution_count": 6,
   "metadata": {},
   "outputs": [],
   "source": [
    "/*\n",
    "Given a square maze containing positive numbers, \n",
    "find all paths from a corner cell (any of the extreme four corners) to the middle cell.\n",
    "We can move exactly n steps from a cell in 4 directions i.e. North, East, West and South where n is value of the cell,\n",
    "\n",
    "We can move to \n",
    "mat[i+n][j], \n",
    "mat[i-n][j], \n",
    "mat[i][j+n], \n",
    "and mat[i][j-n] \n",
    "from a cell mat[i][j] \n",
    "\n",
    "where n is value of mat[i][j].\n",
    "*/"
   ]
  },
  {
   "cell_type": "code",
   "execution_count": 7,
   "metadata": {},
   "outputs": [],
   "source": [
    "/*\n",
    "Example\n",
    "\n",
    "Input:  9 x 9 maze\n",
    "[ 3, 5, 4, 4, 7, 3, 4, 6, 3 ]\n",
    "[ 6, 7, 5, 6, 6, 2, 6, 6, 2 ]\n",
    "[ 3, 3, 4, 3, 2, 5, 4, 7, 2 ]\n",
    "[ 6, 5, 5, 1, 2, 3, 6, 5, 6 ]\n",
    "[ 3, 3, 4, 3, 0, 1, 4, 3, 4 ]\n",
    "[ 3, 5, 4, 3, 2, 2, 3, 3, 5 ]\n",
    "[ 3, 5, 4, 3, 2, 6, 4, 4, 3 ]\n",
    "[ 3, 5, 1, 3, 7, 5, 3, 6, 4 ]\n",
    "[ 6, 2, 4, 3, 4, 5, 4, 5, 1 ]\n",
    "\n",
    "Output:\n",
    "(0, 0) -> (0, 3) -> (0, 7) -> \n",
    "(6, 7) -> (6, 3) -> (3, 3) -> \n",
    "(3, 4) -> (5, 4) -> (5, 2) -> \n",
    "(1, 2) -> (1, 7) -> (7, 7) ->\n",
    "(7, 1) -> (2, 1) -> (2, 4) -> \n",
    "(4, 4) -> MID\n",
    "*/"
   ]
  },
  {
   "cell_type": "code",
   "execution_count": 8,
   "metadata": {},
   "outputs": [],
   "source": [
    "/*\n",
    "The idea is to use backtracking. \n",
    "We start with each corner cell of the maze and recursively checks if it leads to the solution or not. \n",
    "Following is the Backtracking algorithm –\n",
    "\n",
    "If destination is reached\n",
    "    1. print the path\n",
    "Else\n",
    "    1. Mark current cell as visited and add it to path array.\n",
    "    2. Move forward in all 4 allowed directions and recursively check if any of them leads to a solution.\n",
    "    3. If none of the above solutions work then mark this cell as not visited and remove it from path array.\n",
    "    \n",
    "Below is its C++ implementation\n",
    "*/"
   ]
  },
  {
   "cell_type": "markdown",
   "metadata": {},
   "source": [
    "***https://ideone.com/Dxr26t***"
   ]
  },
  {
   "cell_type": "markdown",
   "metadata": {},
   "source": [
    "## **168. Arithmetic Expressions**\n",
    "https://www.hackerrank.com/challenges/arithmetic-expressions/problem"
   ]
  },
  {
   "cell_type": "code",
   "execution_count": 9,
   "metadata": {},
   "outputs": [],
   "source": [
    "/*\n",
    "5-year-old Shinchan had just started learning mathematics. \n",
    "Meanwhile, one of his studious classmates, Kazama, had already written a basic calculator which supports only three operations on integers: multiplication , addition , and subtraction . \n",
    "Since he had just learned about these operations, he didn't know about operator precedence, \n",
    "and so, in his calculator, all operators had the same precedence and were left-associative.\n",
    "\n",
    "As always, Shinchan started to irritate him with his silly questions. \n",
    "He gave Kazama a list of  integers and asked him to insert one of the above operators between each pair of consecutive integers such that the result obtained after feeding the resulting expression in Kazama's calculator is divisible by 101 . \n",
    "At his core, Shinchan is actually a good guy, so he only gave lists of integers for which an answer exists.\n",
    "\n",
    "Can you help Kazama create the required expression? \n",
    "If multiple solutions exist, print any one of them.\n",
    "*/"
   ]
  },
  {
   "cell_type": "code",
   "execution_count": 10,
   "metadata": {},
   "outputs": [],
   "source": [
    "/*\n",
    "Sample Input 0\n",
    "\n",
    "3\n",
    "22 79 21\n",
    "\n",
    "Sample Output 0\n",
    "22*79-21\n",
    "\n",
    "Explanation \n",
    "Solution 1: 22x79-21 = 1717 and 171/101 = 17  so it is perfectly divisible by 101\n",
    "Solution 2: 22+79x21 = 2121 and 2121/101 = 21  so it is perfectly divisible by 101\n",
    "*/"
   ]
  },
  {
   "cell_type": "code",
   "execution_count": 11,
   "metadata": {},
   "outputs": [],
   "source": [
    "private static boolean solve(boolean[][] dp, long sumSoFar, int currentElement, long[] elements,\n",
    "        List<Character> elementsUsed) {\n",
    "    long modVal = 101L;\n",
    "    sumSoFar %= modVal;\n",
    "\n",
    "    if (currentElement == elements.length && sumSoFar == 0) {\n",
    "        return true;\n",
    "    } else if (currentElement == elements.length) {\n",
    "        return false;\n",
    "    }\n",
    "\n",
    "    if (sumSoFar == 0) {\n",
    "        elementsUsed.add('*');\n",
    "        return solve(dp, sumSoFar, currentElement + 1, elements, elementsUsed);\n",
    "    }\n",
    "\n",
    "    if (dp[(int) sumSoFar + 101][currentElement]) {\n",
    "        return false;\n",
    "    }\n",
    "\n",
    "    long moddedElement = (elements[currentElement]) % modVal;\n",
    "\n",
    "    elementsUsed.add('+');\n",
    "    if (solve(dp, (sumSoFar + moddedElement) % modVal, currentElement + 1, elements, elementsUsed)) {\n",
    "        return true;\n",
    "    }\n",
    "    elementsUsed.remove(elementsUsed.size() - 1);\n",
    "\n",
    "    elementsUsed.add('-');\n",
    "    if (solve(dp, (sumSoFar - moddedElement) % modVal, currentElement + 1, elements, elementsUsed)) {\n",
    "        return true;\n",
    "    }\n",
    "    elementsUsed.remove(elementsUsed.size() - 1);\n",
    "\n",
    "    elementsUsed.add('*');\n",
    "    if (solve(dp, (sumSoFar * moddedElement) % modVal, currentElement + 1, elements, elementsUsed)) {\n",
    "        return true;\n",
    "    }\n",
    "    elementsUsed.remove(elementsUsed.size() - 1);\n",
    "\n",
    "    dp[(int) sumSoFar + 101][currentElement] = true;\n",
    "\n",
    "    return false;\n",
    "}"
   ]
  },
  {
   "cell_type": "code",
   "execution_count": 12,
   "metadata": {},
   "outputs": [
    {
     "name": "stdout",
     "output_type": "stream",
     "text": [
      "55+3-45*33-25"
     ]
    }
   ],
   "source": [
    "public static void main(String[] args) {\n",
    "// Scanner scn = new Scanner(System.in);\n",
    "// int numberOfElements = scn.nextInt();\n",
    "// long[] elements = new long[numberOfElements];\n",
    "//  for (int i = 0; i < numberOfElements; i++) {\n",
    "//      elements[i] = scn.nextLong();\n",
    "//  }\n",
    "    int numberOfElements  = 5;\n",
    "    long[] elements = {55, 3, 45, 33, 25};\n",
    "\n",
    "    List<Character> elementsUsed = new ArrayList<>();\n",
    "    boolean[][] dp = new boolean[202][numberOfElements];\n",
    "    solve(dp, elements[0], 1, elements, elementsUsed);\n",
    "\n",
    "    int i = 1;\n",
    "    System.out.print(elements[0]);\n",
    "    for (Character elementUsed : elementsUsed) {\n",
    "        System.out.print(elementUsed + \"\" + elements[i++]);\n",
    "    }\n",
    "\n",
    "// scn.close();\n",
    "}\n",
    "main(args);"
   ]
  },
  {
   "cell_type": "markdown",
   "metadata": {},
   "source": [
    "## **169. Crossword Puzzle**\n",
    "https://www.hackerrank.com/challenges/crossword-puzzle/problem"
   ]
  },
  {
   "cell_type": "code",
   "execution_count": 13,
   "metadata": {},
   "outputs": [],
   "source": [
    "/*\n",
    "A 10 x 10  Crossword grid is provided to you, \n",
    "along with a set of words (or names of places) which need to be filled into the grid. \n",
    "Cells are marked either + or -. Cells marked with a - are to be filled with the word list.\n",
    "*/"
   ]
  },
  {
   "cell_type": "code",
   "execution_count": 14,
   "metadata": {},
   "outputs": [],
   "source": [
    "/*\n",
    "Sample Input 0\n",
    "\n",
    "+-++++++++\n",
    "+-++++++++\n",
    "+-++++++++\n",
    "+-----++++\n",
    "+-+++-++++\n",
    "+-+++-++++\n",
    "+++++-++++\n",
    "++------++\n",
    "+++++-++++\n",
    "+++++-++++\n",
    "LONDON;DELHI;ICELAND;ANKARA\n",
    "\n",
    "Sample Output 0\n",
    "\n",
    "+L++++++++\n",
    "+O++++++++\n",
    "+N++++++++\n",
    "+DELHI++++\n",
    "+O+++C++++\n",
    "+N+++E++++\n",
    "+++++L++++\n",
    "++ANKARA++\n",
    "+++++N++++\n",
    "+++++D++++\n",
    "Sample Input 1\n",
    "\n",
    "+-++++++++\n",
    "+-++++++++\n",
    "+-------++\n",
    "+-++++++++\n",
    "+-++++++++\n",
    "+------+++\n",
    "+-+++-++++\n",
    "+++++-++++\n",
    "+++++-++++\n",
    "++++++++++\n",
    "AGRA;NORWAY;ENGLAND;GWALIOR\n",
    "\n",
    "Sample Output 1\n",
    "\n",
    "+E++++++++\n",
    "+N++++++++\n",
    "+GWALIOR++\n",
    "+L++++++++\n",
    "+A++++++++\n",
    "+NORWAY+++\n",
    "+D+++G++++\n",
    "+++++R++++\n",
    "+++++A++++\n",
    "++++++++++\n",
    "Sample Input 2\n",
    "\n",
    "XXXXXX-XXX\n",
    "XX------XX\n",
    "XXXXXX-XXX\n",
    "XXXXXX-XXX\n",
    "XXX------X\n",
    "XXXXXX-X-X\n",
    "XXXXXX-X-X\n",
    "XXXXXXXX-X\n",
    "XXXXXXXX-X\n",
    "XXXXXXXX-X\n",
    "ICELAND;MEXICO;PANAMA;ALMATY\n",
    "\n",
    "Sample Output 2\n",
    "\n",
    "XXXXXXIXXX\n",
    "XXMEXICOXX\n",
    "XXXXXXEXXX\n",
    "XXXXXXLXXX\n",
    "XXXPANAMAX\n",
    "XXXXXXNXLX\n",
    "XXXXXXDXMX\n",
    "XXXXXXXXAX\n",
    "XXXXXXXXTX\n",
    "XXXXXXXXYX\n",
    "*/"
   ]
  },
  {
   "cell_type": "code",
   "execution_count": 15,
   "metadata": {},
   "outputs": [],
   "source": [
    "private static void upwh(boolean[] dipict, char[][] cross, int i, int j) {\n",
    "    // TODO Auto-generated method stub\n",
    "    for (int r = 0; r < dipict.length; r++) {\n",
    "        if (dipict[r] == true) {\n",
    "            cross[i][j+r] = '-';\n",
    "        }\n",
    "    }\n",
    "}"
   ]
  },
  {
   "cell_type": "code",
   "execution_count": 16,
   "metadata": {},
   "outputs": [],
   "source": [
    "private static boolean[] pwh(String word, char[][] bord, int i, int j) {\n",
    "    boolean[] dipict = new boolean[word.length()];\n",
    "    for (int c = 0; c < word.length(); c++) {\n",
    "\n",
    "        if (bord[i][j+c] == '-') {\n",
    "            bord[i][j + c] = word.charAt(c);\n",
    "            dipict[c] = true;\n",
    "        }\n",
    "    }\n",
    "    return dipict;\n",
    "}"
   ]
  },
  {
   "cell_type": "code",
   "execution_count": 17,
   "metadata": {},
   "outputs": [],
   "source": [
    "private static boolean cpwh(String word, char[][] bord, int i, int j) {\n",
    "    for (int r = 0; r < word.length(); r++) {\n",
    "        if (j + r == bord.length) {\n",
    "            return false;\n",
    "        }\n",
    "        if (bord[i][j + r] != '-' && bord[i][j + r] != word.charAt(r)) {\n",
    "            return false;\n",
    "        }\n",
    "    }\n",
    "    if (j >= 1 && bord[i][j - 1] != '+') {\n",
    "        return false;\n",
    "    } else if (j + word.length() < bord.length && bord[i][j + word.length()] != '+') {\n",
    "        return false;\n",
    "    }\n",
    "    return true;\n",
    "}"
   ]
  },
  {
   "cell_type": "code",
   "execution_count": 18,
   "metadata": {},
   "outputs": [],
   "source": [
    "private static void upwv(boolean[] dipict, char[][] cross, int i, int j) {\n",
    "    for (int c = 0; c < dipict.length; c++) {\n",
    "        if (dipict[c] == true) {\n",
    "            cross[i][j + c] = '-';\n",
    "        }\n",
    "    }\n",
    "}"
   ]
  },
  {
   "cell_type": "code",
   "execution_count": 19,
   "metadata": {},
   "outputs": [],
   "source": [
    "private static boolean[] pwv(String word, char[][] bord, int i, int j) {\n",
    "    boolean[] dipict = new boolean[word.length()];\n",
    "    for (int r = 0; r < word.length(); r++) {\n",
    "\n",
    "        if (bord[i + r][j] == '-') {\n",
    "            bord[i+r][j] = word.charAt(r);\n",
    "            dipict[r] = true;\n",
    "        }\n",
    "    }\n",
    "    return dipict;\n",
    "}"
   ]
  },
  {
   "cell_type": "code",
   "execution_count": 20,
   "metadata": {},
   "outputs": [],
   "source": [
    "private static boolean cpwv(String word, char[][] bord, int i, int j) {\n",
    "    for (int r = 0; r < word.length(); r++) {\n",
    "        if (i + r == bord.length) {\n",
    "            return false;\n",
    "        }\n",
    "        if (bord[i + r][j] != '-' && bord[i + r][j] != word.charAt(r)) {\n",
    "            return false;\n",
    "        }\n",
    "    }\n",
    "    if (i >= 1 && bord[i - 1][j] != '+') {\n",
    "        return false;\n",
    "    } else if (i + word.length() < bord.length && bord[i + word.length()][j] != '+') {\n",
    "        return false;\n",
    "    }\n",
    "    return true;\n",
    "}"
   ]
  },
  {
   "cell_type": "code",
   "execution_count": 21,
   "metadata": {},
   "outputs": [],
   "source": [
    "static void solve(String[] word, char[][] board, int widx) {\n",
    "\n",
    "    if (widx == word.length) {\n",
    "        for (int i = 0; i < board.length; i++) {\n",
    "            for (int j = 0; j < board.length; j++) {\n",
    "                System.out.print(board[i][j]);\n",
    "            }\n",
    "            System.out.println();\n",
    "        }\n",
    "        return;\n",
    "    }\n",
    "    for (int i = 0; i < board.length; i++) {\n",
    "        for (int j = 0; j < board[i].length; j++) {\n",
    "\n",
    "            if (cpwv(word[widx], board, i, j)) {\n",
    "                boolean dipict[] = pwv(word[widx], board, i, j);\n",
    "\n",
    "                solve(word, board, widx + 1);\n",
    "                upwv(dipict, board, i, j);\n",
    "            }\n",
    "\n",
    "            if (cpwh(word[widx], board, i, j)) {\n",
    "                boolean[] dipict = pwh(word[widx], board, i, j);\n",
    "                solve(word, board, widx + 1);\n",
    "                upwh(dipict, board, i, j);\n",
    "            }\n",
    "        }\n",
    "    }\n",
    "}"
   ]
  },
  {
   "cell_type": "code",
   "execution_count": 22,
   "metadata": {},
   "outputs": [
    {
     "name": "stdout",
     "output_type": "stream",
     "text": [
      "+e++++++++\n",
      "+n++++++++\n",
      "+gwalior++\n",
      "+l++++++++\n",
      "+a++++++++\n",
      "+norway+++\n",
      "+d+++g++++\n",
      "+++++r++++\n",
      "+++++a++++\n",
      "++++++++++\n",
      "+england++\n",
      "+n++++++++\n",
      "+gwalior++\n",
      "+l++++++++\n",
      "+a++++++++\n",
      "+norway+++\n",
      "+d+++g++++\n",
      "+++++r++++\n",
      "+++++a++++\n",
      "++++++++++\n"
     ]
    }
   ],
   "source": [
    "public static void main(String[] args) {\n",
    "    char[][] board = { { '+', '-', '+', '+', '+', '+', '+', '+', '+', '+' },\n",
    "            { '+', '-', '+', '+', '+', '+', '+', '+', '+', '+' },\n",
    "            { '+', '-', '-', '-', '-', '-', '-', '-', '+', '+' },\n",
    "            { '+', '-', '+', '+', '+', '+', '+', '+', '+', '+' },\n",
    "            { '+', '-', '+', '+', '+', '+', '+', '+', '+', '+' },\n",
    "\n",
    "            { '+', '-', '-', '-', '-', '-', '-', '+', '+', '+' },\n",
    "            { '+', '-', '+', '+', '+', '-', '+', '+', '+', '+' },\n",
    "            { '+', '+', '+', '+', '+', '-', '+', '+', '+', '+' },\n",
    "            { '+', '+', '+', '+', '+', '-', '+', '+', '+', '+' },\n",
    "            { '+', '+', '+', '+', '+', '+', '+', '+', '+', '+' },\n",
    "\n",
    "    };\n",
    "    String[] s = { \"agra\", \"england\", \"gwalior\", \"norway\" };\n",
    "    solve(s, board, 0);\n",
    "\n",
    "}\n",
    "main(args);"
   ]
  },
  {
   "cell_type": "markdown",
   "metadata": {},
   "source": [
    "***https://ideone.com/DFzXJf***"
   ]
  },
  {
   "cell_type": "markdown",
   "metadata": {},
   "source": [
    "***https://ideone.com/GMNkh8***"
   ]
  },
  {
   "cell_type": "markdown",
   "metadata": {},
   "source": [
    "## **170. Activity Selection Problem | Greedy Algo-1**\n",
    "https://www.geeksforgeeks.org/activity-selection-problem-greedy-algo-1/"
   ]
  },
  {
   "cell_type": "code",
   "execution_count": 23,
   "metadata": {},
   "outputs": [],
   "source": [
    "/*\n",
    "Greedy is an algorithmic paradigm that builds up a solution piece by piece, \n",
    "always choosing the next piece that offers the most obvious and immediate benefit. \n",
    "Greedy algorithms are used for optimization problems. \n",
    "\n",
    "An optimization problem can be solved using Greedy if the problem has the following property: \n",
    "    At every step, we can make a choice that looks best at the moment, \n",
    "    and we get the optimal solution of the complete problem.\n",
    "\n",
    "If a Greedy Algorithm can solve a problem, \n",
    "    then it generally becomes the best method to solve that problem \n",
    "    as the Greedy algorithms are in general more efficient than other techniques like Dynamic Programming. \n",
    "    But Greedy algorithms cannot always be applied. \n",
    "    \n",
    "    For example, Fractional Knapsack problem can be solved using Greedy, \n",
    "    but 0-1 Knapsack cannot be solved using Greedy.\n",
    "*/"
   ]
  },
  {
   "cell_type": "code",
   "execution_count": 24,
   "metadata": {},
   "outputs": [],
   "source": [
    "/*\n",
    "Following are some standard algorithms that are Greedy algorithms.\n",
    "1) Kruskal’s Minimum Spanning Tree (MST): \n",
    "    In Kruskal’s algorithm, \n",
    "        we create a MST by picking edges one by one. \n",
    "        The Greedy Choice is to pick the smallest weight edge that doesn’t cause a cycle in the MST constructed so far.\n",
    "\n",
    "2) Prim’s Minimum Spanning Tree: \n",
    "    In Prim’s algorithm also, \n",
    "        we create a MST by picking edges one by one. \n",
    "        We maintain two sets: \n",
    "            a set of the vertices already included in MST \n",
    "            and the set of the vertices not yet included. \n",
    "        The Greedy Choice is to pick the smallest weight edge that connects the two sets.\n",
    "\n",
    "3) Dijkstra’s Shortest Path: \n",
    "    The Dijkstra’s algorithm \n",
    "        is very similar to Prim’s algorithm. \n",
    "        The shortest path tree is built up, edge by edge. \n",
    "        We maintain two sets: \n",
    "            a set of the vertices already included in the tree \n",
    "            and the set of the vertices not yet included. \n",
    "        The Greedy Choice is to pick the edge that connects the two sets \n",
    "        and is on the smallest weight path from source to the set that contains not yet included vertices.\n",
    "\n",
    "4) Huffman Coding: \n",
    "    Huffman Coding \n",
    "        is a loss-less compression technique. \n",
    "        It assigns variable-length bit codes to different characters. \n",
    "        The Greedy Choice is to assign least bit length code to the most frequent character.\n",
    "*/"
   ]
  },
  {
   "cell_type": "code",
   "execution_count": 25,
   "metadata": {},
   "outputs": [],
   "source": [
    "/*\n",
    "Let us consider the Activity Selection problem as our first example of Greedy algorithms. \n",
    "Following is the problem statement.\n",
    "    You are given n activities with their start and finish times. \n",
    "    Select the maximum number of activities that can be performed by a single person, \n",
    "    assuming that a person can only work on a single activity at a time.\n",
    "*/"
   ]
  },
  {
   "cell_type": "code",
   "execution_count": 26,
   "metadata": {},
   "outputs": [],
   "source": [
    "/*\n",
    "Example:\n",
    "\n",
    "Example 1 : Consider the following 3 activities sorted by\n",
    "by finish time.\n",
    "     start[]  =  {10, 12, 20};\n",
    "     finish[] =  {20, 25, 30};\n",
    "A person can perform at most two activities. The \n",
    "maximum set of activities that can be executed \n",
    "is {0, 2} [ These are indexes in start[] and \n",
    "finish[] ]\n",
    "\n",
    "Example 2 : Consider the following 6 activities \n",
    "sorted by by finish time.\n",
    "     start[]  =  {1, 3, 0, 5, 8, 5};\n",
    "     finish[] =  {2, 4, 6, 7, 9, 9};\n",
    "A person can perform at most four activities. The \n",
    "maximum set of activities that can be executed \n",
    "is {0, 1, 3, 4} [ These are indexes in start[] and \n",
    "finish[] ]\n",
    "*/"
   ]
  },
  {
   "cell_type": "code",
   "execution_count": 27,
   "metadata": {},
   "outputs": [],
   "source": [
    "/*\n",
    "The greedy choice is to always pick the next activity whose finish time is least among the remaining activities \n",
    "and the start time is more than or equal to the finish time of previously selected activity. \n",
    "We can sort the activities according to their finishing time so that we always consider the next activity as minimum finishing time activity.\n",
    "\n",
    "1) Sort the activities according to their finishing time\n",
    "2) Select the first activity from the sorted array and print it.\n",
    "3) Do following for remaining activities in the sorted array.\n",
    "    a) If the start time of this activity is greater than or equal to the finish time of previously selected activity \n",
    "            then select this activity and print it.\n",
    "*/"
   ]
  },
  {
   "cell_type": "code",
   "execution_count": 28,
   "metadata": {},
   "outputs": [],
   "source": [
    "// Prints a maximum set of activities that can be done by a single \n",
    "// person, one at a time. \n",
    "//  n   -->  Total number of activities \n",
    "//  s[] -->  An array that contains start time of all activities \n",
    "//  f[] -->  An array that contains finish time of all activities \n",
    "public static void printMaxActivities(int s[], int f[], int n) \n",
    "{ \n",
    "    int i, j; \n",
    "       \n",
    "    System.out.print(\"Following activities are selected : n \"); \n",
    "       \n",
    "    // The first activity always gets selected \n",
    "    i = 0; \n",
    "    System.out.print(i+\" \"); \n",
    "       \n",
    "    // Consider rest of the activities \n",
    "    for (j = 1; j < n; j++) \n",
    "    { \n",
    "         // If this activity has start time greater than or \n",
    "         // equal to the finish time of previously selected \n",
    "         // activity, then select it \n",
    "         if (s[j] >= f[i]) \n",
    "         { \n",
    "              System.out.print(j+\" \"); \n",
    "              i = j; \n",
    "          } \n",
    "     } \n",
    "} "
   ]
  },
  {
   "cell_type": "code",
   "execution_count": 29,
   "metadata": {},
   "outputs": [
    {
     "name": "stdout",
     "output_type": "stream",
     "text": [
      "Following activities are selected : n 0 1 3 4 "
     ]
    }
   ],
   "source": [
    "// driver program to test above function \n",
    "public static void main(String[] args) \n",
    "{ \n",
    "    int s[] =  {1, 3, 0, 5, 8, 5}; \n",
    "    int f[] =  {2, 4, 6, 7, 9, 9}; \n",
    "    int n = s.length; \n",
    "         \n",
    "    printMaxActivities(s, f, n); \n",
    "}\n",
    "main(args);"
   ]
  },
  {
   "cell_type": "markdown",
   "metadata": {},
   "source": [
    "<img src = \"https://media.geeksforgeeks.org/wp-content/cdn-uploads/20190710130947/ActivitySelectionProblem-1024x916.png\"/>"
   ]
  },
  {
   "cell_type": "markdown",
   "metadata": {},
   "source": [
    "**Introduction :** ***https://youtu.be/HzeK7g8cD0Y***"
   ]
  },
  {
   "cell_type": "markdown",
   "metadata": {},
   "source": [
    "**Algorithm :** ***https://youtu.be/poWB2UCuozA***"
   ]
  },
  {
   "cell_type": "markdown",
   "metadata": {},
   "source": [
    "## **171. Job Sequencing Problem**\n",
    "https://www.geeksforgeeks.org/job-sequencing-problem/"
   ]
  },
  {
   "cell_type": "code",
   "execution_count": 30,
   "metadata": {},
   "outputs": [],
   "source": [
    "/*\n",
    "Given an array of jobs where every job has a deadline and associated profit if the job is finished before the deadline. \n",
    "It is also given that every job takes single unit of time, \n",
    "so the minimum possible deadline for any job is 1. \n",
    "\n",
    "How to maximize total profit if only one job can be scheduled at a time.\n",
    "*/"
   ]
  },
  {
   "cell_type": "code",
   "execution_count": 31,
   "metadata": {},
   "outputs": [],
   "source": [
    "/*\n",
    "Examples:\n",
    "\n",
    "Input: Four Jobs with following \n",
    "deadlines and profits\n",
    "JobID  Deadline  Profit\n",
    "  a      4        20   \n",
    "  b      1        10\n",
    "  c      1        40  \n",
    "  d      1        30\n",
    "Output: Following is maximum \n",
    "profit sequence of jobs\n",
    "        c, a   \n",
    "\n",
    "\n",
    "Input:  Five Jobs with following\n",
    "deadlines and profits\n",
    "JobID   Deadline  Profit\n",
    "  a       2        100\n",
    "  b       1        19\n",
    "  c       2        27\n",
    "  d       1        25\n",
    "  e       3        15\n",
    "Output: Following is maximum \n",
    "profit sequence of jobs\n",
    "        c, a, e\n",
    "*/"
   ]
  },
  {
   "cell_type": "code",
   "execution_count": 32,
   "metadata": {},
   "outputs": [],
   "source": [
    "/*\n",
    "A Simple Solution \n",
    "    is to generate all subsets of given set of jobs and check individual subset for feasibility of jobs in that subset. \n",
    "    Keep track of maximum profit among all feasible subsets. \n",
    "    The time complexity of this solution is exponential.\n",
    "*/"
   ]
  },
  {
   "cell_type": "code",
   "execution_count": 33,
   "metadata": {},
   "outputs": [],
   "source": [
    "/*\n",
    "This is a standard Greedy Algorithm problem. Following is algorithm.\n",
    "\n",
    "1) Sort all jobs in decreasing order of profit.\n",
    "2) Initialize the result sequence as first job in sorted jobs.\n",
    "3) Do following for remaining n-1 jobs\n",
    "    a) If the current job can fit in the current result sequence without missing the deadline, \n",
    "           add current job to the result. \n",
    "       Else \n",
    "           ignore the current job.\n",
    "*/"
   ]
  },
  {
   "cell_type": "markdown",
   "metadata": {},
   "source": [
    "***https://ideone.com/pNSBqY***"
   ]
  },
  {
   "cell_type": "code",
   "execution_count": 34,
   "metadata": {},
   "outputs": [],
   "source": [
    "/*\n",
    "Time Complexity of the above solution is O(n2). \n",
    "It can be optimized using Disjoint Set Data Structure.\n",
    "*/"
   ]
  },
  {
   "cell_type": "markdown",
   "metadata": {},
   "source": [
    "***https://www.geeksforgeeks.org/job-sequencing-using-disjoint-set-union/***"
   ]
  },
  {
   "cell_type": "markdown",
   "metadata": {},
   "source": [
    "***https://youtu.be/R6Skj4bT1HE***"
   ]
  },
  {
   "cell_type": "markdown",
   "metadata": {},
   "source": [
    "## **172. Greedy Algorithm for Egyptian Fraction**\n",
    "https://www.geeksforgeeks.org/greedy-algorithm-egyptian-fraction/"
   ]
  },
  {
   "cell_type": "code",
   "execution_count": 35,
   "metadata": {},
   "outputs": [],
   "source": [
    "/*\n",
    "Every positive fraction can be represented as sum of unique unit fractions. \n",
    "A fraction is unit fraction if numerator is 1 and denominator is a positive integer, \n",
    "    for example 1/3 is a unit fraction. \n",
    "Such a representation is called Egyptian Fraction as it was used by ancient Egyptians.\n",
    "*/"
   ]
  },
  {
   "cell_type": "code",
   "execution_count": 36,
   "metadata": {},
   "outputs": [],
   "source": [
    "/*\n",
    "Following are few examples:\n",
    "\n",
    "Egyptian Fraction Representation of 2/3 is 1/2 + 1/6\n",
    "Egyptian Fraction Representation of 6/14 is 1/3 + 1/11 + 1/231\n",
    "Egyptian Fraction Representation of 12/13 is 1/2 + 1/3 + 1/12 + 1/156\n",
    "*/"
   ]
  },
  {
   "cell_type": "code",
   "execution_count": 37,
   "metadata": {},
   "outputs": [],
   "source": [
    "/*\n",
    "For a given number of the form ‘nr/dr’ where dr > nr, \n",
    "first find the greatest possible unit fraction, \n",
    "    then recur for the remaining part. \n",
    "For example, \n",
    "    consider 6/14, we first find ceiling of 14/6, \n",
    "        i.e., 3. \n",
    "    So the first unit fraction becomes 1/3, \n",
    "        then recur for (6/14 – 1/3) i.e., 4/42.\n",
    "*/"
   ]
  },
  {
   "cell_type": "code",
   "execution_count": 38,
   "metadata": {},
   "outputs": [],
   "source": [
    "static void printEgyptian(int nr, int dr) { \n",
    "    // If either numerator or  \n",
    "    // denominator is 0  \n",
    "    if (dr == 0 || nr == 0) { \n",
    "        return; \n",
    "    } \n",
    "\n",
    "    // If numerator divides denominator,  \n",
    "    // then simple division makes  \n",
    "    // the fraction in 1/n form  \n",
    "    if (dr % nr == 0) { \n",
    "        System.out.print(\"1/\" + dr / nr); \n",
    "        return; \n",
    "    } \n",
    "\n",
    "    // If denominator divides numerator,  \n",
    "    // then the given number is not fraction  \n",
    "    if (nr % dr == 0) { \n",
    "        System.out.print(nr / dr); \n",
    "        return; \n",
    "    } \n",
    "\n",
    "    // If numerator is more than denominator  \n",
    "    if (nr > dr) { \n",
    "        System.out.print(nr / dr + \" + \"); \n",
    "        printEgyptian(nr % dr, dr); \n",
    "        return; \n",
    "    } \n",
    "\n",
    "    // We reach here dr > nr and dr%nr  \n",
    "    // is non-zero. Find ceiling of  \n",
    "    // dr/nr and print it as first  \n",
    "    // fraction  \n",
    "    int n = dr / nr + 1; \n",
    "    System.out.print(\"1/\" + n + \" + \"); \n",
    "\n",
    "    // Recur for remaining part  \n",
    "    printEgyptian(nr * n - dr, dr * n); \n",
    "} "
   ]
  },
  {
   "cell_type": "code",
   "execution_count": 39,
   "metadata": {},
   "outputs": [
    {
     "name": "stdout",
     "output_type": "stream",
     "text": [
      "Egyptian Fraction Representation of 6/14 is\n",
      " 1/3 + 1/11 + 1/231"
     ]
    }
   ],
   "source": [
    "// Driver Code  \n",
    "public static void main(String[] args) { \n",
    "    int nr = 6, dr = 14; \n",
    "    System.out.print(\"Egyptian Fraction Representation of \"\n",
    "            + nr + \"/\" + dr + \" is\\n \"); \n",
    "    printEgyptian(nr, dr); \n",
    "} \n",
    "main(args);"
   ]
  },
  {
   "cell_type": "code",
   "execution_count": 40,
   "metadata": {},
   "outputs": [],
   "source": [
    "/*\n",
    "The Greedy algorithm works because a fraction is always reduced to a form \n",
    "where denominator is greater than numerator and numerator doesn’t divide denominator. \n",
    "For such reduced forms, \n",
    "    the highlighted recursive call is made for reduced numerator. \n",
    "So the recursive calls keep on reducing the numerator till it reaches 1.\n",
    "*/"
   ]
  },
  {
   "cell_type": "markdown",
   "metadata": {},
   "source": [
    "## **173. Fractional Knapsack Problem**\n",
    "https://www.geeksforgeeks.org/fractional-knapsack-problem/"
   ]
  },
  {
   "cell_type": "code",
   "execution_count": 41,
   "metadata": {},
   "outputs": [],
   "source": [
    "/*\n",
    "Given weights and values of n items, \n",
    "we need to put these items in a knapsack of capacity W to get the maximum total value in the knapsack.\n",
    "*/"
   ]
  },
  {
   "cell_type": "code",
   "execution_count": 42,
   "metadata": {},
   "outputs": [],
   "source": [
    "/*\n",
    "In the 0-1 Knapsack problem, we are not allowed to break items. We either take the whole item or don’t take it.\n",
    "\n",
    "Input:\n",
    "  Items as (value, weight) pairs\n",
    "  arr[] = {{60, 10}, {100, 20}, {120, 30}}\n",
    "  Knapsack Capacity, W = 50;\n",
    "Output:\n",
    "  Maximum possible value = 220\n",
    "  by taking items of weight 20 and 30 kg \n",
    "*/"
   ]
  },
  {
   "cell_type": "code",
   "execution_count": 43,
   "metadata": {},
   "outputs": [],
   "source": [
    "/*\n",
    "In Fractional Knapsack, \n",
    "    we can break items for maximizing the total value of knapsack. \n",
    "    This problem in which we can break an item is also called the fractional knapsack problem.\n",
    "\n",
    "Input : \n",
    "   Same as above\n",
    "Output :\n",
    "   Maximum possible value = 240\n",
    "   By taking full items of 10 kg, 20 kg and \n",
    "   2/3rd of last item of 30 kg\n",
    "*/"
   ]
  },
  {
   "cell_type": "code",
   "execution_count": 44,
   "metadata": {},
   "outputs": [],
   "source": [
    "/*\n",
    "A brute-force solution \n",
    "    would be to try all possible subset with all different fraction but that will be too much time taking.\n",
    "*/"
   ]
  },
  {
   "cell_type": "code",
   "execution_count": 45,
   "metadata": {},
   "outputs": [],
   "source": [
    "/*\n",
    "An efficient solution \n",
    "    is to use Greedy approach. \n",
    "    The basic idea of the greedy approach is to calculate the ratio value/weight for each item and sort the item on basis of this ratio.\n",
    "    Then take the item with the highest ratio and add them until we can’t add the next item as a whole \n",
    "    and at the end add the next item as much as we can. \n",
    "    Which will always be the optimal solution to this problem.\n",
    "    \n",
    "As main time taking step is sorting, the whole problem can be solved in O(n log n) only.\n",
    "*/"
   ]
  },
  {
   "cell_type": "code",
   "execution_count": 46,
   "metadata": {},
   "outputs": [],
   "source": [
    "// item value class \n",
    "static class ItemValue  \n",
    "{ \n",
    "    Double cost; \n",
    "    double wt, val, ind; \n",
    "\n",
    "    // item value function \n",
    "    public ItemValue(int wt, int val, int ind) \n",
    "    { \n",
    "        this.wt = wt; \n",
    "        this.val = val; \n",
    "        this.ind = ind; \n",
    "        cost = new Double(val/wt ); \n",
    "    } \n",
    "} "
   ]
  },
  {
   "cell_type": "code",
   "execution_count": 47,
   "metadata": {},
   "outputs": [],
   "source": [
    "// function to get maximum value \n",
    "private static double getMaxValue(int[] wt, \n",
    "                    int[] val, int capacity) \n",
    "{ \n",
    "    ItemValue[] iVal = new ItemValue[wt.length]; \n",
    "\n",
    "    for(int i = 0; i < wt.length; i++) \n",
    "    { \n",
    "        iVal[i] = new ItemValue(wt[i], val[i], i); \n",
    "    } \n",
    "\n",
    "    //sorting items by value; \n",
    "    Arrays.sort(iVal, new Comparator<ItemValue>()  \n",
    "    { \n",
    "        @Override\n",
    "        public int compare(ItemValue o1, ItemValue o2)  \n",
    "        { \n",
    "            return o2.cost.compareTo(o1.cost) ; \n",
    "        } \n",
    "    }); \n",
    "\n",
    "\n",
    "    double totalValue = 0d; \n",
    "\n",
    "    for(ItemValue i: iVal) \n",
    "    { \n",
    "\n",
    "        int curWt = (int) i.wt; \n",
    "        int curVal = (int) i.val; \n",
    "\n",
    "        if (capacity - curWt >= 0) \n",
    "        { \n",
    "            // this weight can be picked while \n",
    "            capacity = capacity-curWt; \n",
    "            totalValue += curVal; \n",
    "\n",
    "        } \n",
    "        else\n",
    "        { \n",
    "            // item cant be picked whole \n",
    "            double fraction = ((double)capacity/(double)curWt); \n",
    "            totalValue += (curVal*fraction); \n",
    "            capacity = (int)(capacity - (curWt*fraction)); \n",
    "            break; \n",
    "        } \n",
    "\n",
    "\n",
    "    } \n",
    "\n",
    "    return totalValue; \n",
    "} "
   ]
  },
  {
   "cell_type": "code",
   "execution_count": 48,
   "metadata": {},
   "outputs": [
    {
     "name": "stdout",
     "output_type": "stream",
     "text": [
      "Maximum value we can obtain = 240.0\n"
     ]
    }
   ],
   "source": [
    "// Time complexity O(n log n) \n",
    "public static void main(String[] args) \n",
    "{ \n",
    "    int[] wt = {10, 40, 20, 30}; \n",
    "    int[] val = {60, 40, 100, 120}; \n",
    "    int capacity = 50; \n",
    "\n",
    "    double maxValue = getMaxValue(wt, val, capacity); \n",
    "    System.out.println(\"Maximum value we can obtain = \" +  \n",
    "                        maxValue); \n",
    "\n",
    "} \n",
    "main(args);"
   ]
  },
  {
   "cell_type": "markdown",
   "metadata": {},
   "source": [
    "***https://youtu.be/m1p-eWxrt6g***"
   ]
  },
  {
   "cell_type": "markdown",
   "metadata": {},
   "source": [
    "## **174. Greedy Algorithm to find Minimum number of Coins**\n",
    "https://www.geeksforgeeks.org/greedy-algorithm-to-find-minimum-number-of-coins/"
   ]
  },
  {
   "cell_type": "code",
   "execution_count": 49,
   "metadata": {},
   "outputs": [],
   "source": [
    "/*\n",
    "Given a value V, if we want to make change for V Rs, \n",
    "and we have infinite supply of each of the denominations in Indian currency, \n",
    "    i.e., we have infinite supply of { 1, 2, 5, 10, 20, 50, 100, 500, 1000} valued coins/notes, \n",
    "what is the minimum number of coins and/or notes needed to make the change?\n",
    "*/"
   ]
  },
  {
   "cell_type": "code",
   "execution_count": 50,
   "metadata": {},
   "outputs": [],
   "source": [
    "/*\n",
    "Examples:\n",
    "\n",
    "Input: V = 70\n",
    "Output: 2\n",
    "We need a 50 Rs note and a 20 Rs note.\n",
    "\n",
    "Input: V = 121\n",
    "Output: 3\n",
    "We need a 100 Rs note, a 20 Rs note and a \n",
    "1 Rs coin. \n",
    "*/"
   ]
  },
  {
   "cell_type": "code",
   "execution_count": 51,
   "metadata": {},
   "outputs": [],
   "source": [
    "/*\n",
    "The idea is simple Greedy Algorithm. \n",
    "Start from largest possible denomination and keep adding denominations \n",
    "    while remaining value is greater than 0. Below is complete algorithm.\n",
    "\n",
    "1) Initialize result as empty.\n",
    "2) find the largest denomination that is \n",
    "   smaller than V.\n",
    "3) Add found denomination to result. Subtract \n",
    "   value of found denomination from V.\n",
    "4) If V becomes 0, then print result.  \n",
    "   Else repeat steps 2 and 3 for new value of V\n",
    "Below is the implementation of above algorithm.\n",
    "*/"
   ]
  },
  {
   "cell_type": "code",
   "execution_count": 52,
   "metadata": {},
   "outputs": [],
   "source": [
    "// All denominations of Indian Currency  \n",
    "static int deno[] = {1, 2, 5, 10, 20, 50, 100, 500, 1000}; \n",
    "static int n = deno.length; "
   ]
  },
  {
   "cell_type": "code",
   "execution_count": 53,
   "metadata": {},
   "outputs": [],
   "source": [
    "static void findMin(int V) \n",
    "{ \n",
    "    // Initialize result  \n",
    "    Vector<Integer> ans = new Vector<>(); \n",
    "\n",
    "    // Traverse through all denomination  \n",
    "    for (int i = n - 1; i >= 0; i--) \n",
    "    { \n",
    "        // Find denominations  \n",
    "        while (V >= deno[i])  \n",
    "        { \n",
    "            V -= deno[i]; \n",
    "            ans.add(deno[i]); \n",
    "        } \n",
    "    } \n",
    "\n",
    "    // Print result  \n",
    "    for (int i = 0; i < ans.size(); i++) \n",
    "    { \n",
    "        System.out.print(\" \" + ans.elementAt(i)); \n",
    "    } \n",
    "}"
   ]
  },
  {
   "cell_type": "code",
   "execution_count": 54,
   "metadata": {},
   "outputs": [
    {
     "name": "stdout",
     "output_type": "stream",
     "text": [
      "Following is minimal number of change for 93:  50 20 20 2 1"
     ]
    }
   ],
   "source": [
    "// Driver code  \n",
    "public static void main(String[] args)  \n",
    "{ \n",
    "    int n = 93; \n",
    "    System.out.print(\"Following is minimal number of change for \" + n + \": \"); \n",
    "    findMin(n); \n",
    "\n",
    "} \n",
    "main(args);"
   ]
  },
  {
   "cell_type": "markdown",
   "metadata": {},
   "source": [
    "**Related Link** ***https://www.geeksforgeeks.org/find-minimum-number-of-coins-that-make-a-change/***"
   ]
  },
  {
   "cell_type": "markdown",
   "metadata": {},
   "source": [
    "***https://youtu.be/KTaEeTWRwgg***"
   ]
  },
  {
   "cell_type": "markdown",
   "metadata": {},
   "source": [
    "## **175. Maximum Length Chain of Pairs | DP-20**\n",
    "https://www.geeksforgeeks.org/maximum-length-chain-of-pairs-dp-20/"
   ]
  },
  {
   "cell_type": "code",
   "execution_count": 55,
   "metadata": {},
   "outputs": [],
   "source": [
    "/*\n",
    "You are given n pairs of numbers. \n",
    "In every pair, \n",
    "    the first number is always smaller than the second number. \n",
    "A pair (c, d) can follow another pair (a, b) if b < c. Chain of pairs can be formed in this fashion. \n",
    "Find the longest chain which can be formed from a given set of pairs.\n",
    "*/"
   ]
  },
  {
   "cell_type": "code",
   "execution_count": 56,
   "metadata": {},
   "outputs": [],
   "source": [
    "/*\n",
    "For example, \n",
    "\n",
    "if the given pairs are {{5, 24}, {39, 60}, {15, 28}, {27, 40}, {50, 90} }, \n",
    "\n",
    "then the longest chain that can be formed is of length 3, \n",
    "and the chain is {{5, 24}, {27, 40}, {50, 90}}\n",
    "*/"
   ]
  },
  {
   "cell_type": "code",
   "execution_count": 57,
   "metadata": {},
   "outputs": [],
   "source": [
    "/*\n",
    "Time Complexity: O(n^2) where n is the number of pairs.\n",
    "\n",
    "This problem is a variation of standard Longest Increasing Subsequence problem (below link). \n",
    "Following is a simple two step process.\n",
    "    1) Sort given pairs in increasing order of first (or smaller) element. \n",
    "        Why do not need sorting? \n",
    "            Consider the example {{6, 8}, {3, 4}} to understand the need of sorting. \n",
    "            If we proceed to second step without sorting, we get output as 1. \n",
    "            But the correct output is 2.\n",
    "    2) Now run a modified LIS process \n",
    "        where we compare the second element of already finalized LIS with the first element of new LIS being constructed.\n",
    "*/"
   ]
  },
  {
   "cell_type": "markdown",
   "metadata": {},
   "source": [
    "***https://www.geeksforgeeks.org/longest-increasing-subsequence-dp-3/***"
   ]
  },
  {
   "cell_type": "code",
   "execution_count": 58,
   "metadata": {},
   "outputs": [],
   "source": [
    "class Pair{ \n",
    "    int a; \n",
    "    int b; \n",
    "      \n",
    "    public Pair(int a, int b) { \n",
    "        this.a = a; \n",
    "        this.b = b; \n",
    "    } \n",
    "}"
   ]
  },
  {
   "cell_type": "code",
   "execution_count": 59,
   "metadata": {},
   "outputs": [],
   "source": [
    "// This function assumes that arr[] is sorted in increasing order \n",
    "// according the first (or smaller) values in pairs. \n",
    "static int maxChainLength(Pair arr[], int n) \n",
    "{ \n",
    "   int i, j, max = 0; \n",
    "   int mcl[] = new int[n]; \n",
    "\n",
    "   /* Initialize MCL (max chain length) values for all indexes */\n",
    "   for ( i = 0; i < n; i++ ) \n",
    "      mcl[i] = 1; \n",
    "\n",
    "   /* Compute optimized chain length values in bottom up manner */\n",
    "   for ( i = 1; i < n; i++ ) \n",
    "      for ( j = 0; j < i; j++ ) \n",
    "         if ( arr[i].a > arr[j].b && mcl[i] < mcl[j] + 1) \n",
    "            mcl[i] = mcl[j] + 1; \n",
    "\n",
    "   // mcl[i] now stores the maximum chain length ending with pair i \n",
    "\n",
    "   /* Pick maximum of all MCL values */\n",
    "   for ( i = 0; i < n; i++ ) \n",
    "      if ( max < mcl[i] ) \n",
    "         max = mcl[i]; \n",
    "\n",
    "   return max; \n",
    "} "
   ]
  },
  {
   "cell_type": "code",
   "execution_count": 60,
   "metadata": {},
   "outputs": [
    {
     "name": "stdout",
     "output_type": "stream",
     "text": [
      "Length of maximum size chain is 3\n"
     ]
    }
   ],
   "source": [
    "/* Driver program to test above function */\n",
    "public static void main(String[] args)  \n",
    "{ \n",
    "    Pair arr[] = new Pair[] {new Pair(5,24), new Pair(15, 25), \n",
    "                              new Pair (27, 40), new Pair(50, 60)}; \n",
    "    System.out.println(\"Length of maximum size chain is \" +  \n",
    "                              maxChainLength(arr, arr.length)); \n",
    "} \n",
    "main(args);"
   ]
  },
  {
   "cell_type": "markdown",
   "metadata": {},
   "source": [
    "***https://youtu.be/v-HIXptqM3Q***"
   ]
  },
  {
   "cell_type": "markdown",
   "metadata": {},
   "source": [
    "## **176. Find minimum time to finish all jobs with given constraints**\n",
    "https://www.geeksforgeeks.org/find-minimum-time-to-finish-all-jobs-with-given-constraints/"
   ]
  },
  {
   "cell_type": "code",
   "execution_count": 61,
   "metadata": {},
   "outputs": [],
   "source": [
    "/*\n",
    "Given an array of jobs with different time requirements. \n",
    "There are K identical assignees available \n",
    "and we are also given how much time an assignee takes to do one unit of the job. \n",
    "Find the minimum time to finish all jobs with following constraints.\n",
    "\n",
    "    1. An assignee can be assigned only contiguous jobs. \n",
    "        For example, \n",
    "        an assignee cannot be assigned jobs 1 and 3, but not 2.\n",
    "    2. Two assignees cannot share (or co-assigned) a job, \n",
    "        i.e., a job cannot be partially assigned to one assignee and partially to other.\n",
    "*/"
   ]
  },
  {
   "cell_type": "code",
   "execution_count": 62,
   "metadata": {},
   "outputs": [],
   "source": [
    "/*\n",
    "Input :\n",
    "\n",
    "K:     Number of assignees available.\n",
    "T:     Time taken by an assignee to finish one unit \n",
    "       of job\n",
    "job[]: An array that represents time requirements of different jobs.\n",
    "*/"
   ]
  },
  {
   "cell_type": "code",
   "execution_count": 63,
   "metadata": {},
   "outputs": [],
   "source": [
    "/*\n",
    "Examples :\n",
    "\n",
    "Input:  k = 2, T = 5, job[] = {4, 5, 10}\n",
    "Output: 50\n",
    "The minimum time required to finish all the jobs is 50.\n",
    "There are 2 assignees available. We get this time by \n",
    "assigning {4, 5} to first assignee and {10} to second \n",
    "assignee.\n",
    "\n",
    "Input:  k = 4, T = 5, job[] = {10, 7, 8, 12, 6, 8}\n",
    "Output: 75\n",
    "We get this time by assigning {10} {7, 8} {12} and {6, 8}\n",
    "*/"
   ]
  },
  {
   "cell_type": "code",
   "execution_count": 64,
   "metadata": {},
   "outputs": [],
   "source": [
    "/*\n",
    "The idea is to use Binary Search. \n",
    "    Think if we have a function (say isPossible()) \n",
    "        that tells us if it’s possible to finish all jobs within a given time and number of available assignees. \n",
    "    We can solve this problem by doing a binary search for the answer. \n",
    "        If the middle point of binary search is not possible, \n",
    "            then search in second half, \n",
    "        else \n",
    "            search in first half. \n",
    "    Lower bound for Binary Search for minimum time can be set as 0. \n",
    "    The upper bound can be obtained by adding all given job times.\n",
    "\n",
    "Now how to implement isPossible()? \n",
    "    This function can be implemented using Greedy Approach. \n",
    "    Since we want to know if it is possible to finish all jobs within a given time, \n",
    "    we traverse through all jobs and keep assigning jobs to current assignee one by one \n",
    "    while a job can be assigned within the given time limit. \n",
    "    When time taken by current assignee exceeds the given time, \n",
    "        create a new assignee and start assigning jobs to it. \n",
    "    If the number of assignees becomes more than k, \n",
    "        then return false, \n",
    "    else \n",
    "        return true.\n",
    "*/"
   ]
  },
  {
   "cell_type": "code",
   "execution_count": 65,
   "metadata": {},
   "outputs": [],
   "source": [
    "// Utility function to get  \n",
    "// maximum element in job[0..n-1] \n",
    "static int getMax(int arr[], int n) \n",
    "{ \n",
    "    int result = arr[0]; \n",
    "    for (int i=1; i<n; i++) \n",
    "        if (arr[i] > result) \n",
    "            result = arr[i]; \n",
    "    return result; \n",
    "} "
   ]
  },
  {
   "cell_type": "code",
   "execution_count": 66,
   "metadata": {},
   "outputs": [],
   "source": [
    "// Returns true if it is possible to finish jobs[]  \n",
    "// within given time 'time' \n",
    "static boolean isPossible(int time, int K,  int job[], int n) \n",
    "{ \n",
    "    // cnt is count of current  \n",
    "    // assignees required for jobs \n",
    "    int cnt = 1; \n",
    "\n",
    "    // time assigned to current assignee \n",
    "    int curr_time = 0;  \n",
    "\n",
    "    for (int i = 0; i < n;) \n",
    "    { \n",
    "        // If time assigned to current assignee  \n",
    "        // exceeds max, increment count of assignees. \n",
    "        if (curr_time + job[i] > time) { \n",
    "            curr_time = 0; \n",
    "            cnt++; \n",
    "        } \n",
    "\n",
    "        // Else add time of job to current  \n",
    "        // time and move to next job. \n",
    "        else \n",
    "        { \n",
    "            curr_time += job[i]; \n",
    "            i++; \n",
    "        } \n",
    "    } \n",
    "\n",
    "    // Returns true if count \n",
    "    // is smaller than k \n",
    "    return (cnt <= K); \n",
    "} "
   ]
  },
  {
   "cell_type": "code",
   "execution_count": 67,
   "metadata": {},
   "outputs": [],
   "source": [
    "// Returns minimum time required to  \n",
    "// finish given array of jobs \n",
    "// k --> number of assignees \n",
    "// T --> Time required by every assignee to finish 1 unit \n",
    "// m --> Number of jobs \n",
    "static int findMinTime(int K, int T, int job[], int n) \n",
    "{ \n",
    "    // Set start and end for binary search \n",
    "    // end provides an upper limit on time \n",
    "    int end = 0, start = 0; \n",
    "    for (int i = 0; i < n; ++i) \n",
    "        end += job[i]; \n",
    "\n",
    "    // Initialize answer \n",
    "    int ans = end;  \n",
    "\n",
    "    // Find the job that takes maximum time \n",
    "    int job_max = getMax(job, n); \n",
    "\n",
    "    // Do binary search for  \n",
    "    // minimum feasible time \n",
    "    while (start <= end) \n",
    "    { \n",
    "        int mid = (start + end) / 2; \n",
    "\n",
    "        // If it is possible to finish jobs in mid time \n",
    "        if (mid >= job_max && isPossible(mid, K, job, n)) \n",
    "        { \n",
    "            // Update answer \n",
    "            ans = Math.min(ans, mid);  \n",
    "\n",
    "            end = mid - 1; \n",
    "        } \n",
    "\n",
    "        else\n",
    "            start = mid + 1; \n",
    "    } \n",
    "\n",
    "    return (ans * T); \n",
    "} "
   ]
  },
  {
   "cell_type": "code",
   "execution_count": 68,
   "metadata": {},
   "outputs": [
    {
     "name": "stdout",
     "output_type": "stream",
     "text": [
      "75\n"
     ]
    }
   ],
   "source": [
    "// Driver program \n",
    "public static void main(String arg[]) \n",
    "{ \n",
    "    int job[] = {10, 7, 8, 12, 6, 8}; \n",
    "    int n = job.length; \n",
    "    int k = 4, T = 5; \n",
    "    System.out.println(findMinTime(k, T, job, n)); \n",
    "} \n",
    "main(args);"
   ]
  },
  {
   "cell_type": "markdown",
   "metadata": {},
   "source": [
    "## **177. Job Sequencing Problem | Set 2 (Using Disjoint Set)**\n",
    "https://www.geeksforgeeks.org/job-sequencing-using-disjoint-set-union/"
   ]
  },
  {
   "cell_type": "code",
   "execution_count": 69,
   "metadata": {},
   "outputs": [],
   "source": [
    "/*\n",
    "Given a set of n jobs where each job i has a deadline di >=1 and profit pi>=0. \n",
    "Only one job can be scheduled at a time. \n",
    "Each job takes 1 unit of time to complete. \n",
    "We earn the profit if and only if the job is completed by its deadline. \n",
    "The task is to find the subset of jobs that maximizes profit.\n",
    "*/"
   ]
  },
  {
   "cell_type": "code",
   "execution_count": 70,
   "metadata": {},
   "outputs": [],
   "source": [
    "/*\n",
    "Examples:\n",
    "\n",
    "Input: Four Jobs with following deadlines and profits\n",
    "JobID Deadline Profit\n",
    "   a      4      20\n",
    "   b      1      10\n",
    "   c      1      40\n",
    "   d      1      30\n",
    "Output: Following is maximum profit sequence of jobs:\n",
    "       c, a\n",
    "Input: Five Jobs with following deadlines and profits\n",
    "JobID Deadline Profit\n",
    "   a     2       100\n",
    "   b     1       19\n",
    "   c     2       27\n",
    "   d     1       25\n",
    "   e     3       15\n",
    "Output: Following is maximum profit sequence of jobs:\n",
    "       c, a, e\n",
    "*/"
   ]
  },
  {
   "cell_type": "code",
   "execution_count": 71,
   "metadata": {},
   "outputs": [],
   "source": [
    "/*\n",
    "1. Sort all jobs in decreasing order of profit.\n",
    "2. Initialize the result sequence as first job in sorted jobs.\n",
    "3. Do following for remaining n-1 jobs\n",
    "    i. If the current job can fit in the current result sequence without missing the deadline, \n",
    "           add current job to the result. \n",
    "        Else \n",
    "            ignore the current job.\n",
    "*/"
   ]
  },
  {
   "cell_type": "code",
   "execution_count": 72,
   "metadata": {},
   "outputs": [],
   "source": [
    "/*\n",
    "The costly operation in the Greedy solution is to assign a free slot for a job. \n",
    "We were traversing each and every slot for a job and assigning the greatest possible time slot(<deadline) which was available.\n",
    "*/"
   ]
  },
  {
   "cell_type": "code",
   "execution_count": 73,
   "metadata": {},
   "outputs": [],
   "source": [
    "/*\n",
    "What does greatest time slot means?\n",
    "\n",
    "Suppose that a job J1 has a deadline of time t = 5. \n",
    "We assign the greatest time slot which is free and less than the deadline \n",
    "    i.e 4-5 for this job. \n",
    "Now another job J2 with deadline of 5 comes in, \n",
    "    so the time slot allotted will be 3-4 since 4-5 has already been allotted to job J1.\n",
    "*/"
   ]
  },
  {
   "cell_type": "code",
   "execution_count": 74,
   "metadata": {},
   "outputs": [],
   "source": [
    "/*\n",
    "Why to assign greatest time slot(free) to a job?\n",
    "\n",
    "Now we assign the greatest possible time slot since \n",
    "if we assign a time slot even lesser than the available one \n",
    "    than there might be some other job which will miss its deadline.\n",
    "Example:\n",
    "J1 with deadline d1 = 5, profit 40\n",
    "J2 with deadline d2 = 1, profit 20\n",
    "Suppose that for job J1 we assigned time slot of 0-1. \n",
    "Now job J2 cannot be performed since we will perform Job J1 during that time slot.\n",
    "*/"
   ]
  },
  {
   "cell_type": "code",
   "execution_count": 75,
   "metadata": {},
   "outputs": [],
   "source": [
    "/*\n",
    "Using Disjoint Set for Job Sequencing\n",
    "\n",
    "All time slots are individual sets initially. \n",
    "We first find the maximum deadline of all jobs. \n",
    "Let the max deadline be m. \n",
    "We create m+1 individual sets. \n",
    "If a job is assigned a time slot of t where t => 0, \n",
    "    then the job is scheduled during [t-1, t]. \n",
    "So a set with value X represents the time slot [X-1, X].\n",
    "We need to keep track of the greatest time slot available which can be allotted to a given job having deadline. \n",
    "We use the parent array of Disjoint Set Data structures for this purpose. \n",
    "The root of the tree is always the latest available slot. \n",
    "If for a deadline d, there is no slot available, \n",
    "    then root would be 0. \n",
    "    \n",
    "Below are detailed steps.\n",
    "*/"
   ]
  },
  {
   "cell_type": "code",
   "execution_count": 76,
   "metadata": {},
   "outputs": [],
   "source": [
    "/*\n",
    "Initialize Disjoint Set: Creates initial disjoint sets.\n",
    "\n",
    "// m is maximum deadline of a job\n",
    "parent = new int[m + 1];\n",
    "\n",
    "// Every node is a parent of itself\n",
    "for (int i = 0; i ≤ m; i++)\n",
    "    parent[i] = i;\n",
    "    \n",
    "=============================================================\n",
    "    \n",
    "Find : Finds the latest time slot available.\n",
    "\n",
    "// Returns the maximum available time slot\n",
    "find(s)\n",
    "{\n",
    "    // Base case\n",
    "    if (s == parent[s])\n",
    "       return s;\n",
    "\n",
    "    // Recursive call with path compression\n",
    "    return parent[s] = find(parent[s]);\n",
    "} \n",
    "\n",
    "=============================================================\n",
    "\n",
    "Union :\n",
    "\n",
    " Merges two sets.  \n",
    "// Makes u as parent of v.\n",
    "union(u, v)\n",
    "{\n",
    "   // update the greatest available\n",
    "   // free slot to u\n",
    "   parent[v] = u;\n",
    "} \n",
    "*/"
   ]
  },
  {
   "cell_type": "code",
   "execution_count": 77,
   "metadata": {},
   "outputs": [],
   "source": [
    "/*\n",
    "How come find returns the latest available time slot?\n",
    "\n",
    "Initially all time slots are individual slots. \n",
    "So the time slot returned is always maximum. \n",
    "\n",
    "When we assign a time slot ‘t’ to a job, we do union of ‘t’ with ‘t-1’ in a way that ‘t-1’ becomes parent of ‘t’. \n",
    "To do this we call union(t-1, t). \n",
    "    This means that all future queries for time slot t would now return the latest time slot available for set represented by t-1.\n",
    "*/"
   ]
  },
  {
   "cell_type": "code",
   "execution_count": 78,
   "metadata": {},
   "outputs": [],
   "source": [
    "// A Simple Disjoint Set Data Structure \n",
    "class DisjointSet \n",
    "{ \n",
    "    int parent[]; \n",
    "  \n",
    "    // Constructor \n",
    "    DisjointSet(int n) \n",
    "    { \n",
    "        parent = new int[n + 1]; \n",
    "  \n",
    "        // Every node is a parent of itself \n",
    "        for (int i = 0; i <= n; i++) \n",
    "            parent[i] = i; \n",
    "    } \n",
    "  \n",
    "    // Path Compression \n",
    "    int find(int s) \n",
    "    { \n",
    "        /* Make the parent of the nodes in the path \n",
    "           from u--> parent[u] point to parent[u] */\n",
    "        if (s == parent[s]) \n",
    "            return s; \n",
    "        return parent[s] = find(parent[s]); \n",
    "    } \n",
    "  \n",
    "    // Makes u as parent of v. \n",
    "    void merge(int u, int v) \n",
    "    { \n",
    "        //update the greatest available \n",
    "        //free slot to u \n",
    "        parent[v] = u; \n",
    "    } \n",
    "} "
   ]
  },
  {
   "cell_type": "code",
   "execution_count": 79,
   "metadata": {},
   "outputs": [],
   "source": [
    "class Job implements Comparator<Job> \n",
    "{ \n",
    "    // Each job has a unique-id, profit and deadline \n",
    "    char id; \n",
    "    int deadline, profit; \n",
    "  \n",
    "    // Constructors \n",
    "    public Job() { } \n",
    "    public Job(char id,int deadline,int profit) \n",
    "    { \n",
    "        this.id = id; \n",
    "        this.deadline = deadline; \n",
    "        this.profit = profit; \n",
    "    }\n",
    "    \n",
    "    // Used to sort in descending order on the basis \n",
    "    // of profit for each job \n",
    "    public int compare(Job j1, Job j2) \n",
    "    { \n",
    "        return j1.profit > j2.profit? -1: 1; \n",
    "    } \n",
    "} "
   ]
  },
  {
   "cell_type": "code",
   "execution_count": 80,
   "metadata": {},
   "outputs": [],
   "source": [
    "// Returns the maximum deadline from the set of jobs \n",
    "public static int findMaxDeadline(ArrayList<Job> arr) \n",
    "{ \n",
    "    int ans = Integer.MIN_VALUE; \n",
    "    for (Job temp : arr) \n",
    "        ans = Math.max(temp.deadline, ans); \n",
    "    return ans; \n",
    "} "
   ]
  },
  {
   "cell_type": "code",
   "execution_count": 81,
   "metadata": {},
   "outputs": [],
   "source": [
    "// Prints optimal job sequence \n",
    "public static void printJobScheduling(ArrayList<Job> arr) \n",
    "{ \n",
    "    // Sort Jobs in descending order on the basis \n",
    "    // of their profit \n",
    "    Collections.sort(arr, new Job()); \n",
    "\n",
    "    // Find the maximum deadline among all jobs and \n",
    "    // create a disjoint set data structure with \n",
    "    // maxDeadline disjoint sets initially. \n",
    "    int maxDeadline = findMaxDeadline(arr); \n",
    "    DisjointSet dsu = new DisjointSet(maxDeadline); \n",
    "\n",
    "    // Traverse through all the jobs \n",
    "    for (Job temp : arr) \n",
    "    { \n",
    "        // Find the maximum available free slot for \n",
    "        // this job (corresponding to its deadline) \n",
    "        int availableSlot = dsu.find(temp.deadline); \n",
    "\n",
    "\n",
    "        // If maximum available free slot is greater \n",
    "        // than 0, then free slot available \n",
    "        if (availableSlot > 0) \n",
    "        { \n",
    "            // This slot is taken by this job 'i' \n",
    "            // so we need to update the greatest free \n",
    "            // slot. Note that, in merge, we make \n",
    "            // first parameter as parent of second \n",
    "            // parameter.  So future queries for \n",
    "            // availableSlot will return maximum slot \n",
    "            // from set of \"availableSlot - 1\" \n",
    "            dsu.merge(dsu.find(availableSlot - 1), \n",
    "                               availableSlot); \n",
    "            System.out.print(temp.id + \" \"); \n",
    "        } \n",
    "    } \n",
    "    System.out.println(); \n",
    "} "
   ]
  },
  {
   "cell_type": "code",
   "execution_count": 82,
   "metadata": {},
   "outputs": [
    {
     "name": "stdout",
     "output_type": "stream",
     "text": [
      "Following jobs need to be executed for maximum profit\n",
      "a c e \n"
     ]
    }
   ],
   "source": [
    "public static void main(String args[]) \n",
    "{ \n",
    "    ArrayList<Job> arr=new ArrayList<Job>(); \n",
    "    arr.add(new Job('a',2,100)); \n",
    "    arr.add(new Job('b',1,19)); \n",
    "    arr.add(new Job('c',2,27)); \n",
    "    arr.add(new Job('d',1,25)); \n",
    "    arr.add(new Job('e',3,15)); \n",
    "    System.out.println(\"Following jobs need to be \"+ \n",
    "                       \"executed for maximum profit\"); \n",
    "    printJobScheduling(arr); \n",
    "} \n",
    "main(args);"
   ]
  },
  {
   "cell_type": "markdown",
   "metadata": {},
   "source": [
    "## **178. Minimum sum of two numbers formed from digits of an array**\n",
    "https://www.geeksforgeeks.org/minimum-sum-two-numbers-formed-digits-array-2/"
   ]
  },
  {
   "cell_type": "code",
   "execution_count": 83,
   "metadata": {},
   "outputs": [],
   "source": [
    "/*\n",
    "Given an array of digits (values are from 0 to 9), \n",
    "find the minimum possible sum of two numbers formed from digits of the array. \n",
    "All digits of given array must be used to form the two numbers.\n",
    "*/"
   ]
  },
  {
   "cell_type": "code",
   "execution_count": 84,
   "metadata": {},
   "outputs": [],
   "source": [
    "/*\n",
    "Examples:\n",
    "\n",
    "Input: [6, 8, 4, 5, 2, 3]\n",
    "Output: 604\n",
    "The minimum sum is formed by numbers \n",
    "358 and 246\n",
    "\n",
    "Input: [5, 3, 0, 7, 4]\n",
    "Output: 82\n",
    "The minimum sum is formed by numbers \n",
    "35 and 047 \n",
    "*/"
   ]
  },
  {
   "cell_type": "code",
   "execution_count": 85,
   "metadata": {},
   "outputs": [],
   "source": [
    "/*\n",
    "Since we want to minimize the sum of two numbers to be formed, \n",
    "we must divide all digits in two halves and assign half-half digits to them. \n",
    "We also need to make sure that the leading digits are smaller.\n",
    "\n",
    "We build a Min Heap with the elements of the given array, which takes O(n) worst time. \n",
    "Now we retrieve min values (2 at a time) of array, \n",
    "    by polling from the Priority Queue and append these two min values to our numbers, till the heap becomes empty, \n",
    "    i.e., all the elements of array get exhausted. \n",
    "We return the sum of two formed numbers, which is our required answer. \n",
    "Overall complexity is O(nlogn) as push() operation takes O(logn) and it’s repeated n times.\n",
    "*/"
   ]
  },
  {
   "cell_type": "code",
   "execution_count": 86,
   "metadata": {},
   "outputs": [],
   "source": [
    "// Returns sum of two numbers formed \n",
    "// from all digits in a[] \n",
    "public static long solve(int[] a) \n",
    "{ \n",
    "    // min Heap \n",
    "    PriorityQueue<Integer> pq = new PriorityQueue<Integer>(); \n",
    "\n",
    "    // to store the 2 numbers formed by array elements to \n",
    "    // minimize the required sum \n",
    "    StringBuilder num1 = new StringBuilder(); \n",
    "    StringBuilder num2 = new StringBuilder(); \n",
    "\n",
    "    // Adding elements in Priority Queue \n",
    "    for (int x : a) \n",
    "        pq.add(x); \n",
    "\n",
    "    // checking if the priority queue is non empty \n",
    "    while (!pq.isEmpty()) \n",
    "    { \n",
    "        num1.append(pq.poll()+ \"\"); \n",
    "        if (!pq.isEmpty()) \n",
    "            num2.append(pq.poll()+ \"\"); \n",
    "    } \n",
    "\n",
    "    // the required sum calculated \n",
    "    long sum = Long.parseLong(num1.toString()) + \n",
    "               Long.parseLong(num2.toString()); \n",
    "\n",
    "    return sum; \n",
    "} "
   ]
  },
  {
   "cell_type": "code",
   "execution_count": 87,
   "metadata": {},
   "outputs": [
    {
     "name": "stdout",
     "output_type": "stream",
     "text": [
      "The required sum is 604\n"
     ]
    }
   ],
   "source": [
    "int arr[] = {6, 8, 4, 5, 2, 3}; \n",
    "System.out.println(\"The required sum is \"+ solve(arr)); "
   ]
  },
  {
   "cell_type": "code",
   "execution_count": 88,
   "metadata": {},
   "outputs": [],
   "source": [
    "/*\n",
    "Anothor method:\n",
    "Time Complexity : O(nLogN)\n",
    "\n",
    "We can follow another approach also like this, \n",
    "as we need two numbers such that their sum is minimum, \n",
    "then we would also need two minimum numbers. \n",
    "\n",
    "If we arrange our array in ascending order \n",
    "    then we can two digits that will form the smallest numbers,\n",
    "e.g, 2 3 4 5 6 8, now we can get two numbers starting from 2 and 3. Now first part is done. \n",
    "\n",
    "Now we have to form such that they would contain small digits, \n",
    "    i.e pick digits alternatively from array extend your two numbers.\n",
    "i.e 246, 358. \n",
    "Now if we see analyze this, \n",
    "    then we can pick even indexed numbers for num1 and odd number for num2.\n",
    "*/"
   ]
  },
  {
   "cell_type": "code",
   "execution_count": 89,
   "metadata": {},
   "outputs": [],
   "source": [
    "//Returns sum of two numbers formed \n",
    "//from all digits in a[] \n",
    "static int minSum(int a[], int n){ \n",
    "\n",
    " // sort the elements \n",
    " Arrays.sort(a); \n",
    "\n",
    " int num1 = 0; \n",
    " int num2 = 0; \n",
    " for(int i = 0;i<n;i++){ \n",
    "     if(i%2==0) \n",
    "         num1 = num1*10+a[i]; \n",
    "     else num2 = num2*10+a[i]; \n",
    " } \n",
    " return num2+num1; \n",
    "} "
   ]
  },
  {
   "cell_type": "code",
   "execution_count": 90,
   "metadata": {},
   "outputs": [
    {
     "name": "stdout",
     "output_type": "stream",
     "text": [
      "The required sum is  82\n"
     ]
    }
   ],
   "source": [
    "int arr[] = {5, 3, 0, 7, 4};  \n",
    "int n = arr.length; \n",
    "System.out.println(\"The required sum is  \" + minSum(arr, n)); "
   ]
  },
  {
   "cell_type": "markdown",
   "metadata": {},
   "source": [
    "## **179. Find smallest number with given number of digits and sum of digits**\n",
    "https://www.geeksforgeeks.org/find-smallest-number-with-given-number-of-digits-and-digit-sum/"
   ]
  },
  {
   "cell_type": "code",
   "execution_count": 91,
   "metadata": {},
   "outputs": [],
   "source": [
    "/*\n",
    "How to find the smallest number with given digit sum s and number of digits d?\n",
    "*/"
   ]
  },
  {
   "cell_type": "code",
   "execution_count": 92,
   "metadata": {},
   "outputs": [],
   "source": [
    "/*\n",
    "Examples :\n",
    "\n",
    "Input  : s = 9, d = 2\n",
    "Output : 18\n",
    "There are many other possible numbers \n",
    "like 45, 54, 90, etc with sum of digits\n",
    "as 9 and number of digits as 2. The \n",
    "smallest of them is 18.\n",
    "\n",
    "Input  : s = 20, d = 3\n",
    "Output : 299\n",
    "*/"
   ]
  },
  {
   "cell_type": "code",
   "execution_count": 93,
   "metadata": {},
   "outputs": [],
   "source": [
    "/*\n",
    "A Simple Solution is to consider all m digit numbers and keep track of minimum number with digit sum as s. \n",
    "A close upper bound on time complexity of this solution is O(10^m).\n",
    "*/"
   ]
  },
  {
   "cell_type": "code",
   "execution_count": 94,
   "metadata": {},
   "outputs": [],
   "source": [
    "/*\n",
    "There is a Greedy approach to solve the problem. \n",
    "TIme Complexity : O(m)\n",
    "\n",
    "The idea is to one by one fill all digits from rightmost to leftmost (or from least significant digit to most significant).\n",
    "We initially deduct 1 from sum s so that we have smallest digit at the end. \n",
    "After deducting 1, \n",
    "    we apply greedy approach. \n",
    "We compare remaining sum with 9, \n",
    "if remaining sum is more than 9, \n",
    "    we put 9 at the current position, \n",
    "else \n",
    "    we put the remaining sum. \n",
    "    \n",
    "Since we fill digits from right to left, we put the highest digits on the right side. \n",
    "\n",
    "Below is implementation of the idea.\n",
    "*/"
   ]
  },
  {
   "cell_type": "code",
   "execution_count": 95,
   "metadata": {},
   "outputs": [],
   "source": [
    "// Function to print the smallest possible number with digit sum 's' \n",
    "// and 'm' number of digits \n",
    "static void findSmallest(int m, int s) \n",
    "{ \n",
    "    // If sum of digits is 0, then a number is possible \n",
    "    // only if number of digits is 1 \n",
    "    if (s == 0) \n",
    "    { \n",
    "        System.out.print(m == 1 ? \"Smallest number is 0\" : \"Not possible\"); \n",
    "\n",
    "        return ; \n",
    "    } \n",
    "\n",
    "    // Sum greater than the maximum possible sum \n",
    "    if (s > 9*m) \n",
    "    { \n",
    "        System.out.println(\"Not possible\"); \n",
    "        return ; \n",
    "    } \n",
    "\n",
    "    // Create an array to store digits of result \n",
    "    int[] res = new int[m]; \n",
    "\n",
    "    // deduct sum by one to account for cases later \n",
    "    // (There must be 1 left for the most significant \n",
    "    //  digit) \n",
    "    s -= 1; \n",
    "\n",
    "    // Fill last m-1 digits (from right to left) \n",
    "    for (int i=m-1; i>0; i--) \n",
    "    { \n",
    "        // If sum is still greater than 9, \n",
    "        // digit must be 9 \n",
    "        if (s > 9) \n",
    "        { \n",
    "            res[i] = 9; \n",
    "            s -= 9; \n",
    "        } \n",
    "        else\n",
    "        { \n",
    "            res[i] = s; \n",
    "            s = 0; \n",
    "        } \n",
    "    } \n",
    "\n",
    "    // Whatever is left should be the most significant \n",
    "    // digit \n",
    "    res[0] = s + 1;  // The initially subtracted 1 is \n",
    "                    // incorporated here \n",
    "\n",
    "    System.out.print(\"Smallest number is \"); \n",
    "    for (int i=0; i<m; i++) \n",
    "        System.out.print(res[i]); \n",
    "} "
   ]
  },
  {
   "cell_type": "code",
   "execution_count": 96,
   "metadata": {},
   "outputs": [
    {
     "name": "stdout",
     "output_type": "stream",
     "text": [
      "Smallest number is 18"
     ]
    }
   ],
   "source": [
    "int s = 9, m = 2; \n",
    "findSmallest(m, s); "
   ]
  },
  {
   "cell_type": "markdown",
   "metadata": {},
   "source": [
    "## **180. Minimum sum of absolute difference of pairs of two arrays**\n",
    "https://www.geeksforgeeks.org/minimum-sum-absolute-difference-pairs-two-arrays/"
   ]
  },
  {
   "cell_type": "code",
   "execution_count": 97,
   "metadata": {},
   "outputs": [],
   "source": [
    "/*\n",
    "Given two arrays a[] and b[] of equal length n. \n",
    "The task is to pair each element of array a to an element in array b, \n",
    "    such that sum S of absolute differences of all the pairs is minimum.\n",
    "\n",
    "Suppose, two elements a[i] and a[j] (i != j) of a are paired with elements b[p] and b[q] of b respectively,\n",
    "then p should not be equal to q.\n",
    "*/"
   ]
  },
  {
   "cell_type": "code",
   "execution_count": 98,
   "metadata": {},
   "outputs": [],
   "source": [
    "/*\n",
    "Examples:\n",
    "\n",
    "Input :  a[] = {3, 2, 1}\n",
    "         b[] = {2, 1, 3}\n",
    "Output : 0\n",
    "\n",
    "Input :  n = 4\n",
    "         a[] = {4, 1, 8, 7}\n",
    "         b[] = {2, 3, 6, 5}\n",
    "Output : 6\n",
    "*/"
   ]
  },
  {
   "cell_type": "code",
   "execution_count": 99,
   "metadata": {},
   "outputs": [],
   "source": [
    "/*\n",
    "The solution to the problem is a simple greedy approach. It consists of two steps.\n",
    "\n",
    "Step 1 : Sort both the arrays in O (n log n) time.\n",
    "Step 2 : Find absolute difference of each pair of corresponding elements (elements at same index) of both arrays \n",
    "         and add the result to the sum S. The time complexity of this step is O(n).\n",
    "\n",
    "Hence, the overall time complexity of the program is O(n log n).\n",
    "*/"
   ]
  },
  {
   "cell_type": "code",
   "execution_count": 100,
   "metadata": {},
   "outputs": [],
   "source": [
    "// Returns minimum possible pairwise  \n",
    "// absolute difference of two arrays. \n",
    "static long findMinSum(long a[], long b[], long n) \n",
    "{ \n",
    "    // Sort both arrays \n",
    "    Arrays.sort(a); \n",
    "    Arrays.sort(b); \n",
    "\n",
    "    // Find sum of absolute differences \n",
    "    long sum = 0 ; \n",
    "    for (int i = 0; i < n; i++) \n",
    "        sum = sum + Math.abs(a[i] - b[i]); \n",
    "\n",
    "    return sum; \n",
    "} "
   ]
  },
  {
   "cell_type": "code",
   "execution_count": 101,
   "metadata": {},
   "outputs": [
    {
     "name": "stdout",
     "output_type": "stream",
     "text": [
      "6\n"
     ]
    }
   ],
   "source": [
    "// Driver code \n",
    "public static void main(String[] args)  \n",
    "{ \n",
    "    // Both a[] and b[] must be of same size. \n",
    "    long a[] = {4, 1, 8, 7}; \n",
    "    long b[] = {2, 3, 6, 5}; \n",
    "    int n = a.length; \n",
    "    System.out.println(findMinSum(a, b, n)); \n",
    "} \n",
    "main(args);"
   ]
  },
  {
   "cell_type": "markdown",
   "metadata": {},
   "source": [
    "## **181. Maximize sum of consecutive differences in a circular array**\n",
    "https://www.geeksforgeeks.org/maximize-sum-consecutive-differences-circular-array/"
   ]
  },
  {
   "cell_type": "code",
   "execution_count": 102,
   "metadata": {},
   "outputs": [],
   "source": [
    "/*\n",
    "Given an array of n elements. \n",
    "Consider array as circular array i.e element after an is a1. \n",
    "The task is to find maximum sum of the difference between consecutive elements with rearrangement of array element allowed \n",
    "i.e after rearrangement of element find |a1 – a2| + |a2 – a3| + …… + |an – 1 – an| + |an – a1|.\n",
    "*/"
   ]
  },
  {
   "cell_type": "code",
   "execution_count": 103,
   "metadata": {},
   "outputs": [],
   "source": [
    "/*\n",
    "Examples:\n",
    "\n",
    "Input : arr[] = { 4, 2, 1, 8 }\n",
    "Output : 18\n",
    "Rearrange given array as : { 1, 8, 2, 4 }\n",
    "Sum of difference between consecutive element\n",
    "= |1 - 8| + |8 - 2| + |2 - 4| + |4 - 1|\n",
    "= 7 + 6 + 2 + 3\n",
    "= 18.\n",
    "\n",
    "Input : arr[] = { 10, 12, 15 }\n",
    "Output : 10\n",
    "*/"
   ]
  },
  {
   "cell_type": "code",
   "execution_count": 104,
   "metadata": {},
   "outputs": [],
   "source": [
    "/*\n",
    "The idea is to use Greedy Approach and try to bring elements having greater difference closer.\n",
    "\n",
    "Consider the sorted permutation of the given array a1, a1, a2,…., an – 1, an such that a1 < a2 < a3…. < an – 1 < an.\n",
    "\n",
    "Now, to obtain the answer having maximum sum of difference between consecutive element, \n",
    "arrange element in following manner:\n",
    "    a1, an, a2, an-1,…., an/2, a(n/2) + 1\n",
    "We can observe that the arrangement produces the optimal answer, \n",
    "    as all a1, a2, a3,….., a(n/2)-1, an/2 are subtracted twice \n",
    "    while a(n/2)+1, a(n/2)+2, a(n/2)+3,….., an – 1, an are added twice.\n",
    "*/"
   ]
  },
  {
   "cell_type": "code",
   "execution_count": 105,
   "metadata": {},
   "outputs": [],
   "source": [
    "// Return the maximum Sum of difference between \n",
    "// consecutive elements. \n",
    "static int maxSum(int arr[], int n) \n",
    "{ \n",
    "    int sum = 0; \n",
    "\n",
    "    // Sorting the array. \n",
    "    Arrays.sort(arr); \n",
    "\n",
    "    // Subtracting a1, a2, a3,....., a(n/2)-1,  \n",
    "    // an/2 twice and adding a(n/2)+1, a(n/2)+2,  \n",
    "    // a(n/2)+3,....., an - 1, an twice. \n",
    "    for (int i = 0; i < n/2; i++) \n",
    "    { \n",
    "        sum -= (2 * arr[i]); \n",
    "        sum += (2 * arr[n - i - 1]); \n",
    "    } \n",
    "\n",
    "    return sum; \n",
    "} "
   ]
  },
  {
   "cell_type": "code",
   "execution_count": 106,
   "metadata": {},
   "outputs": [
    {
     "name": "stdout",
     "output_type": "stream",
     "text": [
      "18\n"
     ]
    }
   ],
   "source": [
    "// Driver Program \n",
    "public static void main (String[] args) \n",
    "{ \n",
    "    int arr[] = { 4, 2, 1, 8 }; \n",
    "    int n = arr.length; \n",
    "    System.out.println(maxSum(arr, n)); \n",
    "} \n",
    "main(args);"
   ]
  },
  {
   "cell_type": "code",
   "execution_count": 107,
   "metadata": {},
   "outputs": [],
   "source": [
    "/*\n",
    "Time Complexity: O(nlogn).\n",
    "Auxiliary Space : O(1)\n",
    "*/"
   ]
  },
  {
   "cell_type": "code",
   "execution_count": null,
   "metadata": {},
   "outputs": [],
   "source": []
  }
 ],
 "metadata": {
  "kernelspec": {
   "display_name": "Java",
   "language": "java",
   "name": "java"
  },
  "language_info": {
   "codemirror_mode": "java",
   "file_extension": ".jshell",
   "mimetype": "text/x-java-source",
   "name": "Java",
   "pygments_lexer": "java",
   "version": "11.0.6+8-LTS"
  },
  "toc": {
   "base_numbering": 1,
   "nav_menu": {},
   "number_sections": true,
   "sideBar": true,
   "skip_h1_title": false,
   "title_cell": "Table of Contents",
   "title_sidebar": "Contents",
   "toc_cell": false,
   "toc_position": {
    "height": "calc(100% - 180px)",
    "left": "10px",
    "top": "150px",
    "width": "341.484px"
   },
   "toc_section_display": true,
   "toc_window_display": true
  }
 },
 "nbformat": 4,
 "nbformat_minor": 2
}
