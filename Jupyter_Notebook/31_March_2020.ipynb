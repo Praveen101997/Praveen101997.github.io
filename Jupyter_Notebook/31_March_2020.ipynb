{
 "cells": [
  {
   "cell_type": "markdown",
   "metadata": {},
   "source": [
    "**------------------------Questions Covered-----------------------------**"
   ]
  },
  {
   "cell_type": "markdown",
   "metadata": {},
   "source": [
    "***10\tGeneric Trees\thttps://www.geeksforgeeks.org/second-largest-element-n-ary-tree/\t\t\t\t\t\t\t\t\t\t\t\t\t\t\t\t\t\t\t\t\t\t\t\t\t\n",
    "10\tGeneric Trees\thttps://www.geeksforgeeks.org/node-maximum-sum-immediate-children-n-ary-tree/\t\t\t\t\t\t\t\t\t\t\t\t\t\t\t\t\t\t\t\t\t\t\t\t\t\n",
    "10\tGeneric Trees\thttps://www.geeksforgeeks.org/given-n-ary-tree-count-number-nodes-number-children-parent/\t\t\t\t\t\t\t\t\t\t\t\t\t\t\t\t\t\t\t\t\t\t\t\t\t\n",
    "10\tGeneric Trees\thttps://www.geeksforgeeks.org/construct-full-k-ary-tree-preorder-traversal/\t\t\t\t\t\t\t\t\t\t\t\t\t\t\t\t\t\t\t\t\t\t\t\t\t\n",
    "10\tGeneric Trees\thttps://www.geeksforgeeks.org/creating-tree-left-child-right-sibling-representation/\t\tbreaker\t\t\t\t\t\t\t\t\t\t\t\t\t\t\t\t\t\t\t\t\t\t\t\n",
    "10\tGeneric Trees\thttps://www.geeksforgeeks.org/left-child-right-sibling-representation-tree/\t\t\t\t\t\t\t\t\t\t\t\t\t\t\t\t\t\t\t\t\t\t\t\t\t\n",
    "10\tGeneric Trees\thttps://www.geeksforgeeks.org/longest-path-undirected-tree/\t\t\t\t\t\t\t\t\t\t\t\t\t\t\t\t\t\t\t\t\t\t\t\t\t\n",
    "10\tGeneric Trees\thttps://www.careercup.com/question?id=10508082\t\t\t\t\t\t\t\t\t\t\t\t\t\t\t\t\t\t\t\t\t\t\t\t\t\n",
    "10\tGeneric Trees\thttps://www.geeksforgeeks.org/diameter-n-ary-tree/\tclass ques but imp\t\t\t\t\t\t\t\t\t\t\t\t\t\t\t\t\t\t\t\t\t\t\t\t\n",
    "10\tBinary Trees\thttps://www.geeksforgeeks.org/clone-binary-tree-random-pointers/\tvery nice problem\tbreaker\t\t\t\t\t\t\t\t\t\t\t\t\t\t\t\t\t\t\t\t\t\t\t\n",
    "10\tBinary Trees\thttps://www.geeksforgeeks.org/count-subtress-sum-given-value-x/\t\t\t\t\t\t\t\t\t\t\t\t\t\t\t\t\t\t\t\t\t\t\t\t\t\n",
    "10\tBinary Trees\thttps://www.geeksforgeeks.org/inorder-tree-traversal-without-recursion/\t\t\t\t\t\t\t\t\t\t\t\t\t\t\t\t\t\t\t\t\t\t\t\t\t\n",
    "10\tBinary Trees\thttps://www.geeksforgeeks.org/inorder-tree-traversal-without-recursion-and-without-stack/\tmorris traversal\tbreaker\t\t\t\t\t\t\t\t\t\t\t\t\t\t\t\t\t\t\t\t\t\t\t\n",
    "10\tBinary Trees\thttps://www.geeksforgeeks.org/morris-traversal-for-preorder/\t\tbreaker\thttps://www.geeksforgeeks.org/iterative-preorder-traversal/\t\t\t\t\t\t\t\t\t\t\t\t\t\t\t\t\t\t\t\t\t\t\n",
    "10\tBinary Trees\thttps://www.geeksforgeeks.org/iterative-postorder-traversal/\t\t\t\t\t\t\t\t\t\t\t\t\t\t\t\t\t\t\t\t\t\t\t\t\t\n",
    "10\tBinary Trees\thttps://www.geeksforgeeks.org/diagonal-traversal-of-binary-tree/***"
   ]
  },
  {
   "cell_type": "code",
   "execution_count": 1,
   "metadata": {},
   "outputs": [],
   "source": [
    "import java.util.*;\n",
    "import java.io.*;\n",
    "import java.util.Arrays;\n",
    "String[] args =new String[0];"
   ]
  },
  {
   "cell_type": "markdown",
   "metadata": {},
   "source": [
    "## **301. Second Largest element in n-ary tree**\n",
    "https://www.geeksforgeeks.org/second-largest-element-n-ary-tree/"
   ]
  },
  {
   "cell_type": "code",
   "execution_count": 2,
   "metadata": {},
   "outputs": [],
   "source": [
    "/*\n",
    "Given an N-ary tree, \n",
    "find and return the node with second largest value in the given tree. \n",
    "Return NULL if no node with required value is present.\n",
    "\n",
    "For example, in the given tree\n",
    "        Second largest node is 20.\n",
    "*/"
   ]
  },
  {
   "cell_type": "markdown",
   "metadata": {},
   "source": [
    "<img src = \"https://media.geeksforgeeks.org/wp-content/uploads/BST_LCA.gif\"/>"
   ]
  },
  {
   "cell_type": "code",
   "execution_count": 3,
   "metadata": {},
   "outputs": [],
   "source": [
    "/*\n",
    "A simple solution \n",
    "\n",
    "    is to traverse the array twice.\n",
    "In the first traversal \n",
    "    find the maximum value node. \n",
    "In the second traversal \n",
    "    find the greatest element node less than the element obtained in first traversal. \n",
    "    \n",
    "The time complexity of this solution is O(n).\n",
    "*/"
   ]
  },
  {
   "cell_type": "code",
   "execution_count": 4,
   "metadata": {},
   "outputs": [],
   "source": [
    "/*\n",
    "An Efficient Solution \n",
    "    can be to find the second largest element in a single traversal.\n",
    "\n",
    "Below is the complete algorithm for doing this:\n",
    "\n",
    "1) Initialize two nodes first and second to NULL as,\n",
    "   first = second = NULL\n",
    "2) Start traversing the tree,\n",
    "   a) If the current node data say root->key is greater\n",
    "      than first->key then update first and second as,\n",
    "      second = first\n",
    "      first = root\n",
    "   b) If the current node data is in between first and \n",
    "      second, then update second to store the value\n",
    "      of current node as\n",
    "        second = root\n",
    "3) Return the node stored in second.\n",
    "*/"
   ]
  },
  {
   "cell_type": "markdown",
   "metadata": {},
   "source": [
    "***https://ideone.com/CHgTEp***"
   ]
  },
  {
   "cell_type": "markdown",
   "metadata": {},
   "source": [
    "## **302. Node having maximum sum of immediate children and itself in n-ary tree**\n",
    "https://www.geeksforgeeks.org/node-maximum-sum-immediate-children-n-ary-tree/"
   ]
  },
  {
   "cell_type": "code",
   "execution_count": 5,
   "metadata": {},
   "outputs": [],
   "source": [
    "/*\n",
    "Given an N-Ary tree, \n",
    "find and return the node for which sum of data of all children and the node itself is maximum. \n",
    "In the sum, data of node itself and data of its immediate children is to be taken.\n",
    "*/"
   ]
  },
  {
   "cell_type": "code",
   "execution_count": 6,
   "metadata": {},
   "outputs": [],
   "source": [
    "/*\n",
    "For example in the given tree,\n",
    "    maxSum Node = 4 with maximum sum of 28\n",
    "*/"
   ]
  },
  {
   "cell_type": "markdown",
   "metadata": {},
   "source": [
    "<img src = \"https://media.geeksforgeeks.org/wp-content/uploads/maxsum-1.png\"/>"
   ]
  },
  {
   "cell_type": "code",
   "execution_count": 7,
   "metadata": {},
   "outputs": [],
   "source": [
    "/*\n",
    "The idea is we will maintain \n",
    "    a integer variable maxsum which contains the maximum sum yet, \n",
    "    and a resnode node pointer which points to the node with maximum sum.\n",
    "Traverse the tree and maintain the sum of root and data of all its immediate children in currsum integer variable \n",
    "and update the maxsum variable accordingly.\n",
    "*/"
   ]
  },
  {
   "cell_type": "code",
   "execution_count": 8,
   "metadata": {},
   "outputs": [],
   "source": [
    "// Structure of a node of an n-ary tree  \n",
    "static class Node  \n",
    "{  \n",
    "    int key;  \n",
    "    Vector<Node> child; \n",
    "    Node() \n",
    "    { \n",
    "        child = new Vector<Node>(); \n",
    "    } \n",
    "};  \n",
    "  \n",
    "// Utility function to create a new tree node  \n",
    "static Node newNode(int key)  \n",
    "{  \n",
    "    Node temp = new Node();  \n",
    "    temp.key = key;  \n",
    "    return temp;  \n",
    "}  \n",
    "  \n",
    "static int maxsum; \n",
    "  \n",
    "// resultant node with max sum of children  \n",
    "// and node  \n",
    "static Node resNode; \n",
    "  \n",
    "// Helper function to find the node  \n",
    "static void maxSumUtil(Node root)  \n",
    "{  \n",
    "    // Base Case  \n",
    "    if (root == null)  \n",
    "        return;  \n",
    "  \n",
    "    // curr contains the sum of the root and  \n",
    "    // its children  \n",
    "    int currsum = root.key;  \n",
    "  \n",
    "    // total no of children  \n",
    "    int count = root.child.size();  \n",
    "  \n",
    "    // for every child call recursively  \n",
    "    for (int i = 0; i < count; i++) \n",
    "    {  \n",
    "        currsum += root.child.get(i).key;  \n",
    "        maxSumUtil(root.child.get(i));  \n",
    "    }  \n",
    "  \n",
    "    // if curr is greater than sum, update it  \n",
    "    if (currsum > maxsum) \n",
    "    {  \n",
    "  \n",
    "        // resultant node  \n",
    "        resNode = root;  \n",
    "        maxsum = currsum;  \n",
    "    }  \n",
    "    return;  \n",
    "}  \n",
    "  \n",
    "// Function to find the node having max sum of  \n",
    "// children and node  \n",
    "static int maxSum(Node root)  \n",
    "{  \n",
    "      \n",
    "    // sum of node and its children  \n",
    "    int maxsum = 0;  \n",
    "  \n",
    "    maxSumUtil(root);  \n",
    "  \n",
    "    // return the key of resultant node  \n",
    "    return resNode.key;  \n",
    "}  "
   ]
  },
  {
   "cell_type": "code",
   "execution_count": 9,
   "metadata": {},
   "outputs": [
    {
     "name": "stdout",
     "output_type": "stream",
     "text": [
      "4"
     ]
    }
   ],
   "source": [
    "// Driver code  \n",
    "public static void main(String args[]) \n",
    "{  \n",
    "    /* Let us create below tree  \n",
    "                1  \n",
    "            / | \\  \n",
    "            2 3 4  \n",
    "        / \\ / | \\ \\  \n",
    "        5 6 7 8 9 10  \n",
    "    */\n",
    "  \n",
    "    Node root = newNode(1);  \n",
    "    (root.child).add(newNode(2));  \n",
    "    (root.child).add(newNode(3));  \n",
    "    (root.child).add(newNode(4));  \n",
    "    (root.child.get(0).child).add(newNode(5));  \n",
    "    (root.child.get(0).child).add(newNode(6));  \n",
    "    (root.child.get(2).child).add(newNode(5));  \n",
    "    (root.child.get(2).child).add(newNode(6));  \n",
    "    (root.child.get(2).child).add(newNode(6));  \n",
    "  \n",
    "    System.out.print( maxSum(root) );  \n",
    "} \n",
    "main(args);"
   ]
  },
  {
   "cell_type": "markdown",
   "metadata": {},
   "source": [
    "***https://youtu.be/bo3IUFopia8***"
   ]
  },
  {
   "cell_type": "markdown",
   "metadata": {},
   "source": [
    "## **303. Given a n-ary tree, count number of nodes which have more number of children than parents**\n",
    "https://www.geeksforgeeks.org/given-n-ary-tree-count-number-nodes-number-children-parent/"
   ]
  },
  {
   "cell_type": "code",
   "execution_count": 10,
   "metadata": {},
   "outputs": [],
   "source": [
    "/*\n",
    "Given a N-ary tree represented as adjacency list,\n",
    "we need to write a program to count all such nodes in this tree which has more number of children than its parent.\n",
    "*/"
   ]
  },
  {
   "cell_type": "markdown",
   "metadata": {},
   "source": [
    "<img src = \"https://media.geeksforgeeks.org/wp-content/uploads/n-ary-tree.png\"/>"
   ]
  },
  {
   "cell_type": "code",
   "execution_count": 11,
   "metadata": {},
   "outputs": [],
   "source": [
    "/*\n",
    "In the above tree, \n",
    "the count will be 1 as there is\n",
    "only one such node which is ‘2’ which has more number of children than its parent. \n",
    "2 has three children (4, 5 and 6) whereas its parent, 1 has only two children (2 and 3).\n",
    "*/"
   ]
  },
  {
   "cell_type": "code",
   "execution_count": 12,
   "metadata": {},
   "outputs": [],
   "source": [
    "/*\n",
    "Time Complexity: O( n ) , where n is the number of nodes in the tree.\n",
    "\n",
    "--We can solve this problem using both BFS and DFS algorithms. \n",
    "     We will explain here in details about how to solve this problem using BFS algorithm.\n",
    "--As the tree is represented using adjacency list representation.\n",
    "     So, for any node say ‘u’ the number of children of this node can be given as adj[u].size().\n",
    "--Now the idea is to apply BFS on the given tree and \n",
    "     while traversing the children of a node ‘u’ say ‘v’ we will simply check is adj[v].size() > adj[u].size().\n",
    "\n",
    "Below is the implementation of above idea:\n",
    "*/"
   ]
  },
  {
   "cell_type": "code",
   "execution_count": 13,
   "metadata": {},
   "outputs": [
    {
     "name": "stdout",
     "output_type": "stream",
     "text": [
      "1"
     ]
    }
   ],
   "source": [
    "// function to count number of nodes \n",
    "// which has more children than its parent \n",
    "static int countNodes(Vector<Integer> adj[], int root) \n",
    "{  \n",
    "    int count = 0; \n",
    "  \n",
    "    // queue for applying BFS \n",
    "    Queue<Integer> q = new LinkedList<>(); \n",
    "  \n",
    "    // BFS algorithm \n",
    "    q.add(root); \n",
    "      \n",
    "    while (!q.isEmpty()) \n",
    "    { \n",
    "        int node = q.peek(); \n",
    "        q.remove(); \n",
    "  \n",
    "        // traverse children of node \n",
    "        for( int i=0;i<adj[node].size();i++) \n",
    "        {  \n",
    "            // children of node \n",
    "            int children = adj[node].get(i); \n",
    "  \n",
    "            // if number of childs of children \n",
    "            // is greater than number of childs \n",
    "            // of node, then increment count \n",
    "            if (adj[children].size() > adj[node].size()) \n",
    "                count++; \n",
    "            q.add(children); \n",
    "        } \n",
    "    } \n",
    "    return count; \n",
    "} \n",
    "  \n",
    "// Driver code \n",
    "public static void main(String[] args) \n",
    "{  \n",
    "    // adjacency list for n-array tree \n",
    "    Vector<Integer> []adj = new Vector[10]; \n",
    "    for(int i= 0; i < 10 ; i++) { \n",
    "        adj[i] = new Vector<>(); \n",
    "    } \n",
    "      \n",
    "    // conn array tree as shown \n",
    "    // in above diagram \n",
    "    adj[1].add(2); \n",
    "    adj[1].add(3); \n",
    "    adj[2].add(4); \n",
    "    adj[2].add(5); \n",
    "    adj[2].add(6); \n",
    "    adj[3].add(9); \n",
    "    adj[5].add(7); \n",
    "    adj[5].add(8); \n",
    "  \n",
    "    int root = 1; \n",
    "  \n",
    "    System.out.print(countNodes(adj, root)); \n",
    "} \n",
    "main(args);"
   ]
  },
  {
   "cell_type": "markdown",
   "metadata": {},
   "source": [
    "***https://youtu.be/7lB1zyIbCN0**"
   ]
  },
  {
   "cell_type": "markdown",
   "metadata": {},
   "source": [
    "## **304. Construct the full k-ary tree from its preorder traversal**\n",
    "https://www.geeksforgeeks.org/construct-full-k-ary-tree-preorder-traversal/"
   ]
  },
  {
   "cell_type": "code",
   "execution_count": 14,
   "metadata": {},
   "outputs": [],
   "source": [
    "/*\n",
    "Given an array which contains the preorder traversal of full k-ary tree, \n",
    "construct the full k-ary tree and print its postorder traversal. \n",
    "A full k-ary tree is a tree where each node has either 0 or k children.\n",
    "*/"
   ]
  },
  {
   "cell_type": "code",
   "execution_count": 15,
   "metadata": {},
   "outputs": [],
   "source": [
    "/*\n",
    "Examples:\n",
    "\n",
    "Input : preorder[] = {1, 2, 5, 6, 7, \n",
    "                     3, 8, 9, 10, 4}\n",
    "        k = 3\n",
    "Output : Postorder traversal of constructed \n",
    "         full k-ary tree is: 5 6 7 2 8 9 10 \n",
    "         3 4 1 \n",
    "         Tree formed is:         1\n",
    "                             /   |   \\\n",
    "                           2     3    4\n",
    "                          /|\\   /|\\\n",
    "                         5 6 7 8 9 10\n",
    "\n",
    "Input : preorder[] = {1, 2, 5, 6, 7, 3, 4}\n",
    "        k = 3 \n",
    "Output : Postorder traversal of constructed \n",
    "         full k-ary tree is: 5 6 7 2 3 4 1\n",
    "         Tree formed is:        1\n",
    "                             /  |  \\\n",
    "                           2    3   4\n",
    "                          /|\\   \n",
    "                         5 6 7 \n",
    "*/"
   ]
  },
  {
   "cell_type": "markdown",
   "metadata": {},
   "source": [
    "**Related Link :**  ***https://www.geeksforgeeks.org/construct-a-special-tree-from-given-preorder-traversal/***"
   ]
  },
  {
   "cell_type": "code",
   "execution_count": 16,
   "metadata": {},
   "outputs": [],
   "source": [
    "/*\n",
    "In Preorder traversal, \n",
    "    first root node is processed then followed by the left subtree and right subtree. \n",
    "Because of this, \n",
    "    to construct a full k-ary tree, \n",
    "        we just need to keep on creating the nodes without bothering about the previous constructed nodes. \n",
    "        We can use this to build the tree recursively.\n",
    "Following are the steps to solve the problem:\n",
    "1. Find the height of the tree.\n",
    "2. Traverse the preorder array and recursively add each node\n",
    "*/"
   ]
  },
  {
   "cell_type": "code",
   "execution_count": 17,
   "metadata": {},
   "outputs": [
    {
     "name": "stdout",
     "output_type": "stream",
     "text": [
      "Postorder traversal of constructed full k-ary tree is: \n",
      "5 6 7 2 8 9 10 3 4 1 \n"
     ]
    }
   ],
   "source": [
    "// Structure of a node of an n-ary tree \n",
    "static class Node  \n",
    "{ \n",
    "    int key; \n",
    "    Vector<Node> child; \n",
    "}; \n",
    "  \n",
    "// Utility function to create a new tree  \n",
    "// node with k children \n",
    "static Node newNode(int value) \n",
    "{ \n",
    "    Node nNode = new Node(); \n",
    "    nNode.key = value; \n",
    "    nNode.child= new Vector<Node>(); \n",
    "    return nNode; \n",
    "} \n",
    "  \n",
    "static int ind; \n",
    "  \n",
    "// Function to build full k-ary tree \n",
    "static Node BuildKaryTree(int A[], int n,  \n",
    "                          int k, int h) \n",
    "{ \n",
    "    // For null tree \n",
    "    if (n <= 0) \n",
    "        return null; \n",
    "  \n",
    "    Node nNode = newNode(A[ind]); \n",
    "    if (nNode == null) \n",
    "    { \n",
    "        System.out.println(\"Memory error\" ); \n",
    "        return null; \n",
    "    } \n",
    "  \n",
    "    // For adding k children to a node \n",
    "    for (int i = 0; i < k; i++) \n",
    "    { \n",
    "  \n",
    "        // Check if ind is in range of array \n",
    "        // Check if height of the tree is greater than 1 \n",
    "        if (ind < n - 1 && h > 1)  \n",
    "        { \n",
    "            ind++; \n",
    "  \n",
    "            // Recursively add each child \n",
    "            nNode.child.add(BuildKaryTree(A, n, k, h - 1)); \n",
    "        }  \n",
    "        else\n",
    "        { \n",
    "            nNode.child.add(null); \n",
    "        } \n",
    "    } \n",
    "    return nNode; \n",
    "} \n",
    "  \n",
    "// Function to find the height of the tree \n",
    "static Node BuildKaryTree_1(int[] A, int n, int k, int in) \n",
    "{ \n",
    "    int height = (int)Math.ceil(Math.log((double)n * (k - 1) + 1) /  \n",
    "                                Math.log((double)k)); \n",
    "    ind = in; \n",
    "    return BuildKaryTree(A, n, k, height); \n",
    "} \n",
    "  \n",
    "// Function to print postorder traversal of the tree \n",
    "static void postord(Node root, int k) \n",
    "{ \n",
    "    if (root == null) \n",
    "        return; \n",
    "    for (int i = 0; i < k; i++) \n",
    "        postord(root.child.get(i), k); \n",
    "    System.out.print(root.key + \" \"); \n",
    "} \n",
    "  \n",
    "// Driver Code \n",
    "public static void main(String args[]) \n",
    "{ \n",
    "    int ind = 0; \n",
    "    int k = 3, n = 10; \n",
    "    int preorder[] = { 1, 2, 5, 6, 7, 3, 8, 9, 10, 4 }; \n",
    "    Node root = BuildKaryTree_1(preorder, n, k, ind); \n",
    "    System.out.println(\"Postorder traversal of \" +  \n",
    "                       \"constructed full k-ary tree is: \"); \n",
    "    postord(root, k); \n",
    "    System.out.println(); \n",
    "} \n",
    "main(args);"
   ]
  },
  {
   "cell_type": "markdown",
   "metadata": {},
   "source": [
    "## **305. Creating a tree with Left-Child Right-Sibling Representation**\n",
    "https://www.geeksforgeeks.org/creating-tree-left-child-right-sibling-representation/"
   ]
  },
  {
   "cell_type": "code",
   "execution_count": 18,
   "metadata": {},
   "outputs": [],
   "source": [
    "/*\n",
    "Left-Child Right-Sibling Representation \n",
    "    is a different representation of an n-ary tree\n",
    "    where instead of holding a reference to each and every child node,\n",
    "        a node holds just two references,\n",
    "            --first a reference to it’s first child, \n",
    "            --and the other to it’s immediate next sibling. \n",
    "        This new transformation not only removes the need of advance knowledge of the number of children a node has, \n",
    "        but also limits the number of references to a maximum of two, thereby making it so much easier to code.\n",
    "\n",
    "At each node, link children of same parent from left to right.\n",
    "Parent should be linked with only first child.\n",
    "*/"
   ]
  },
  {
   "cell_type": "code",
   "execution_count": 19,
   "metadata": {},
   "outputs": [],
   "source": [
    "/*\n",
    "Examples:\n",
    "\n",
    "Left Child Right Sibling tree representation\n",
    "      10\n",
    "      |  \n",
    "      2 -> 3 -> 4 -> 5\n",
    "      |    |  \n",
    "      6    7 -> 8 -> 9\n",
    "*/"
   ]
  },
  {
   "cell_type": "markdown",
   "metadata": {},
   "source": [
    "**Prerequisite :** ***Left-Child Right-Sibling Representation of Tree***\n",
    "\n",
    "***https://www.geeksforgeeks.org/left-child-right-sibling-representation-tree/***"
   ]
  },
  {
   "cell_type": "code",
   "execution_count": 20,
   "metadata": {},
   "outputs": [
    {
     "name": "stdout",
     "output_type": "stream",
     "text": [
      "10 2 3 4 6 5 7 8 9 "
     ]
    }
   ],
   "source": [
    "static class NodeTemp \n",
    "{ \n",
    "    int data; \n",
    "    NodeTemp next, child; \n",
    "    public NodeTemp(int data) \n",
    "    { \n",
    "        this.data = data; \n",
    "        next = child = null; \n",
    "    } \n",
    "} \n",
    "\n",
    "// Adds a sibling to a list with starting with n \n",
    "static public NodeTemp addSibling(NodeTemp node, int data) \n",
    "{ \n",
    "    if(node == null) \n",
    "        return null; \n",
    "    while(node.next != null) \n",
    "        node = node.next; \n",
    "    return(node.next = new NodeTemp(data)); \n",
    "} \n",
    "\n",
    "// Add child Node to a Node \n",
    "static public NodeTemp addChild(NodeTemp node,int data) \n",
    "{ \n",
    "    if(node == null) \n",
    "        return null; \n",
    "\n",
    "    // Check if child is not empty. \n",
    "    if(node.child != null) \n",
    "        return(addSibling(node.child,data)); \n",
    "    else\n",
    "        return(node.child = new NodeTemp(data)); \n",
    "} \n",
    "\n",
    "// Traverses tree in level order \n",
    "static public void traverseTree(NodeTemp root) \n",
    "{ \n",
    "    if(root == null) \n",
    "        return; \n",
    "    while(root != null) \n",
    "    { \n",
    "        System.out.print(root.data + \" \"); \n",
    "        if(root.child != null) \n",
    "            traverseTree(root.child); \n",
    "        root = root.next; \n",
    "    } \n",
    "} \n",
    "\n",
    "// Driver code \n",
    "public static void main(String args[]) \n",
    "{ \n",
    "\n",
    "    /*   Let us create below tree \n",
    "    *           10 \n",
    "    *     /   /    \\   \\ \n",
    "    *    2  3      4   5 \n",
    "    *              |   /  | \\ \n",
    "    *              6   7  8  9   */\n",
    "\n",
    "    // Left child right sibling \n",
    "    /*  10 \n",
    "    *    | \n",
    "    *    2 -> 3 -> 4 -> 5 \n",
    "    *              |    | \n",
    "    *              6    7 -> 8 -> 9  */\n",
    "\n",
    "    NodeTemp root = new NodeTemp(10); \n",
    "    NodeTemp n1 = addChild(root,2); \n",
    "    NodeTemp n2 = addChild(root,3); \n",
    "    NodeTemp n3 = addChild(root,4); \n",
    "    NodeTemp n4 = addChild(n3,6); \n",
    "    NodeTemp n5 = addChild(root,5); \n",
    "    NodeTemp n6 = addChild(n5,7); \n",
    "    NodeTemp n7 = addChild(n5,8); \n",
    "    NodeTemp n8 = addChild(n5,9); \n",
    "\n",
    "    traverseTree(root); \n",
    "} \n",
    "main(args);"
   ]
  },
  {
   "cell_type": "markdown",
   "metadata": {},
   "source": [
    "## **306. Left-Child Right-Sibling Representation of Tree**\n",
    "https://www.geeksforgeeks.org/left-child-right-sibling-representation-tree/"
   ]
  },
  {
   "cell_type": "code",
   "execution_count": 21,
   "metadata": {},
   "outputs": [],
   "source": [
    "/*\n",
    "An n-ary tree in computer science is a collection of nodes normally represented hierarchically in the following fashion.\n",
    "\n",
    "1. The tree starts at the root node.\n",
    "2. Each node of the tree holds a list of references to its child nodes.\n",
    "3. The number of children a node has is less than or equal to n.\n",
    "\n",
    "A typical representation of n-ary tree uses an array of n references (or pointers) to store children\n",
    "(Note that n is an upper bound on number of children). \n",
    "\n",
    "Can we do better? \n",
    "    the idea of Left-Child Right- Sibling representation is to store only two pointers in every node.\n",
    "*/"
   ]
  },
  {
   "cell_type": "code",
   "execution_count": 22,
   "metadata": {},
   "outputs": [],
   "source": [
    "/*\n",
    "Advantages :\n",
    "1. This representation saves up memory by limiting the maximum number of references required per node to two.\n",
    "2. It is easier to code.\n",
    "\n",
    "Disadvantages :\n",
    "1. Basic operations like searching/insertion/deletion tend to take a longer time \n",
    "    because in order to find the appropriate position we would have to traverse through all the siblings of the node to be searched/inserted/deleted (in the worst case).\n",
    "*/"
   ]
  },
  {
   "cell_type": "markdown",
   "metadata": {},
   "source": [
    "<img src = \"https://media.geeksforgeeks.org/wp-content/uploads/500px-N-ary_to_binary.svg_-300x180.png\"/>"
   ]
  },
  {
   "cell_type": "code",
   "execution_count": 23,
   "metadata": {},
   "outputs": [],
   "source": [
    "/*\n",
    "An Example Problem :\n",
    "\n",
    "Now let’s see a problem and try to solve it using both the discussed representations for clarity.\n",
    "\n",
    "Given a family tree. Find the kth child of some member X in the tree.\n",
    "The user inputs two things.\n",
    "    1. A character P (representing the parent whose child is to be found)\n",
    "    2. An integer k (representing the child number)\n",
    "\n",
    "The problem in itself looks pretty easy. \n",
    "The only issue here is that the maximum number of children a node can have is unspecified which makes it rather tricky to construct the tree.\n",
    "\n",
    "Example:\n",
    "Consider the following family tree.\n",
    "*/"
   ]
  },
  {
   "cell_type": "markdown",
   "metadata": {},
   "source": [
    "<img src = \"https://media.geeksforgeeks.org/wp-content/uploads/Untitled-Diagram.jpg\"/>"
   ]
  },
  {
   "cell_type": "code",
   "execution_count": 24,
   "metadata": {},
   "outputs": [],
   "source": [
    "/*\n",
    "Input : A 2\n",
    "Output : C\n",
    "In this case, the user wishes to know A's\n",
    "second child which according to the figure\n",
    "is C.\n",
    "\n",
    "Input : F 3\n",
    "Output : K\n",
    "Similar to the first case, the user wishes \n",
    "to know F's third child which is K.\n",
    "*/"
   ]
  },
  {
   "cell_type": "code",
   "execution_count": 25,
   "metadata": {},
   "outputs": [],
   "source": [
    "/*\n",
    "Method 2 : (Left-Child Right-Sibling Representation)\n",
    "\n",
    "In this method, \n",
    "    we change the structure of the family tree. \n",
    "In the standard tree, \n",
    "    each parent node is connected to all of its children. \n",
    "Here as discussed above, \n",
    "    instead of having each node store pointers to all of its children, \n",
    "    a node will store pointer to just one of its child.\n",
    "Apart from this the node will also store a pointer to its immediate right sibling.\n",
    "\n",
    "The image below is the Left-Child Right-Sibling equivalent of the example used above.\n",
    "*/"
   ]
  },
  {
   "cell_type": "markdown",
   "metadata": {},
   "source": [
    "<img src = \"https://media.geeksforgeeks.org/wp-content/uploads/new.jpeg\"/>"
   ]
  },
  {
   "cell_type": "code",
   "execution_count": 26,
   "metadata": {},
   "outputs": [
    {
     "name": "stdout",
     "output_type": "stream",
     "text": [
      "F's second child is : J \n",
      "A's seventh child is : Error : Does not exist\n"
     ]
    }
   ],
   "source": [
    "// A Node to represent left child  \n",
    "// right sibling representation. \n",
    "static class Node  \n",
    "{ \n",
    "    char val; \n",
    "    Node child; \n",
    "    Node next; \n",
    "    Node(char P)  \n",
    "    { \n",
    "        val = P; \n",
    "        child = null; \n",
    "        next = null; \n",
    "    } \n",
    "}; \n",
    "\n",
    "// Traverses given n-ary tree to find K-th \n",
    "// child of P. \n",
    "static void printKthChild(Node root, char P, int k)  \n",
    "{ \n",
    "    if (root == null) \n",
    "        return; \n",
    "\n",
    "    // If P is present at root itself \n",
    "    if (root.val == P)  \n",
    "    { \n",
    "        // Traverse children of root starting \n",
    "        // from left child \n",
    "        Node t = root.child; \n",
    "        int i = 1; \n",
    "        while (t != null && i < k)  \n",
    "        { \n",
    "            t = t.next; \n",
    "            i++; \n",
    "        } \n",
    "        if (t == null) \n",
    "            System.out.print(\"Error : Does not exist\\n\"); \n",
    "        else\n",
    "            System.out.print(t.val + \" \" + \"\\n\"); \n",
    "        return; \n",
    "    } \n",
    "    printKthChild(root.child, P, k); \n",
    "    printKthChild(root.next, P, k); \n",
    "} \n",
    "\n",
    "// Driver code \n",
    "public static void main(String[] args) \n",
    "{ \n",
    "    Node root = new Node('A'); \n",
    "    root.child = new Node('B'); \n",
    "    root.child.next = new Node('C'); \n",
    "    root.child.next.next = new Node('D'); \n",
    "    root.child.next.next.next = new Node('E'); \n",
    "    root.child.child = new Node('F'); \n",
    "    root.child.child.next = new Node('G'); \n",
    "    root.child.next.next.child = new Node('H'); \n",
    "    root.child.next.next.child.child = new Node('L'); \n",
    "    root.child.next.next.child.child.next = new Node('M'); \n",
    "    root.child.child.child = new Node('I'); \n",
    "    root.child.child.child.next = new Node('J'); \n",
    "    root.child.child.child.next.next = new Node('K'); \n",
    "\n",
    "    // Print F's 2nd child \n",
    "    char P = 'F'; \n",
    "    System.out.print(\"F's second child is : \"); \n",
    "    printKthChild(root, P, 2); \n",
    "\n",
    "    P = 'A'; \n",
    "    System.out.print(\"A's seventh child is : \"); \n",
    "    printKthChild(root, P, 7); \n",
    "} \n",
    "main(args);"
   ]
  },
  {
   "cell_type": "markdown",
   "metadata": {},
   "source": [
    "## **307. Longest path in an undirected tree**\n",
    "https://www.geeksforgeeks.org/longest-path-undirected-tree/"
   ]
  },
  {
   "cell_type": "code",
   "execution_count": 27,
   "metadata": {},
   "outputs": [],
   "source": [
    "/*\n",
    "Given an undirected tree, we need to find the longest path of this tree where a path is defined as a sequence of nodes.\n",
    "*/"
   ]
  },
  {
   "cell_type": "code",
   "execution_count": 28,
   "metadata": {},
   "outputs": [],
   "source": [
    "/*\n",
    "Example:\n",
    "\n",
    "Input : Below shown Tree using adjacency list \n",
    "        representation:\n",
    "Output : 5\n",
    "In below tree longest path is of length 5\n",
    "from node 5 to node 7\n",
    "*/"
   ]
  },
  {
   "cell_type": "markdown",
   "metadata": {},
   "source": [
    "<img src = \"http://media.geeksforgeeks.org/wp-content/uploads/longestPathInTree.png\"/>"
   ]
  },
  {
   "cell_type": "markdown",
   "metadata": {},
   "source": [
    "**Related Link :**  ***https://www.geeksforgeeks.org/diameter-n-ary-tree/***"
   ]
  },
  {
   "cell_type": "code",
   "execution_count": 29,
   "metadata": {},
   "outputs": [],
   "source": [
    "/*\n",
    "In this post, an efficient solution is discussed. \n",
    "We can find longest path using two BFSs. \n",
    "The idea is based on the following fact: \n",
    "    If we start BFS from any node x and find a node with the longest distance from x, \n",
    "        it must be an end point of the longest path. \n",
    "        It can be proved using contradiction. \n",
    "    So our algorithm reduces to simple two BFSs. \n",
    "        First BFS to find an end point of the longest path \n",
    "        and second BFS from this end point to find the actual longest path. \n",
    "    For the proof of why does this algorithm works, \n",
    "        there is nice explanation here Proof of correctness: \n",
    "            Algorithm for diameter of a tree in graph theory(Link below)\n",
    "As we can see in above diagram, \n",
    "    if we start our BFS from node-0, \n",
    "        the node at the farthest distance from it will be node-5, \n",
    "        now if we start our BFS from node-5 the node at the farthest distance will be node-7, \n",
    "        finally, path from node-5 to node-7 will constitute our longest path.\n",
    "*/"
   ]
  },
  {
   "cell_type": "markdown",
   "metadata": {},
   "source": [
    "***https://stackoverflow.com/questions/20010472/proof-of-correctness-algorithm-for-diameter-of-a-tree-in-graph-theory***"
   ]
  },
  {
   "cell_type": "code",
   "execution_count": 30,
   "metadata": {},
   "outputs": [
    {
     "name": "stdout",
     "output_type": "stream",
     "text": [
      "Longest path is from 5 to 7 of length 5\n"
     ]
    }
   ],
   "source": [
    "// Utility Pair class for storing maximum distance  \n",
    "// Node with its distance \n",
    "static class Pair<T,V> { \n",
    "    T first; // maximum distance Node \n",
    "    V second; // distance of maximum distance node \n",
    "\n",
    "    //Constructor \n",
    "    Pair(T first, V second) { \n",
    "        this.first = first; \n",
    "        this.second = second; \n",
    "    } \n",
    "} \n",
    "\n",
    "// This class represents a undirected graph using adjacency list  \n",
    "static class Graph { \n",
    "    int V; // No. of vertices  \n",
    "    LinkedList<Integer>[] adj; //Adjacency List  \n",
    "\n",
    "    // Constructor  \n",
    "    Graph(int V) { \n",
    "        this.V = V; \n",
    "        // Initializing Adjacency List \n",
    "        adj = new LinkedList[V]; \n",
    "        for(int i = 0; i < V; ++i) { \n",
    "            adj[i] = new LinkedList<Integer>(); \n",
    "        } \n",
    "    } \n",
    "\n",
    "    // function to add an edge to graph  \n",
    "    void addEdge(int s, int d) { \n",
    "        adj[s].add(d); // Add d to s's list.  \n",
    "        adj[d].add(s); // Since the graph is undirected  \n",
    "    } \n",
    "\n",
    "\n",
    "    // method returns farthest node and its distance from node u  \n",
    "    Pair<Integer, Integer> bfs(int u) { \n",
    "        int[] dis = new int[V]; \n",
    "\n",
    "        // mark all distance with -1  \n",
    "        Arrays.fill(dis, -1); \n",
    "\n",
    "        Queue<Integer> q = new LinkedList<>(); \n",
    "\n",
    "        q.add(u); \n",
    "\n",
    "        // distance of u from u will be 0  \n",
    "        dis[u] = 0; \n",
    "        while (!q.isEmpty()) { \n",
    "            int t = q.poll(); \n",
    "\n",
    "            // loop for all adjacent nodes of node-t  \n",
    "            for(int i = 0; i < adj[t].size(); ++i) { \n",
    "                int v = adj[t].get(i); \n",
    "\n",
    "                // push node into queue only if  \n",
    "                // it is not visited already  \n",
    "                if(dis[v] == -1) { \n",
    "                    q.add(v); \n",
    "                    // make distance of v, one more  \n",
    "                    // than distance of t  \n",
    "                    dis[v] = dis[t] + 1; \n",
    "                } \n",
    "            } \n",
    "        } \n",
    "\n",
    "        int maxDis = 0; \n",
    "        int nodeIdx = 0; \n",
    "\n",
    "        // get farthest node distance and its index  \n",
    "        for(int i = 0; i < V; ++i) { \n",
    "            if(dis[i] > maxDis) { \n",
    "                maxDis = dis[i]; \n",
    "                nodeIdx = i; \n",
    "            } \n",
    "        } \n",
    "\n",
    "        return new Pair<Integer, Integer>(nodeIdx, maxDis); \n",
    "    } \n",
    "\n",
    "    // method prints longest path of given tree  \n",
    "    void longestPathLength() { \n",
    "        Pair<Integer, Integer> t1, t2; \n",
    "\n",
    "        // first bfs to find one end point of  \n",
    "        // longest path  \n",
    "        t1 = bfs(0); \n",
    "\n",
    "        // second bfs to find actual longest path  \n",
    "        t2 = bfs(t1.first); \n",
    "\n",
    "        System.out.println(\"Longest path is from \"+ t1.first  \n",
    "        + \" to \"+ t2.first +\" of length \"+t2.second); \n",
    "    } \n",
    "} \n",
    "\n",
    "// Driver code to test above methods  \n",
    "public static void main(String[] args){ \n",
    "    // Create a graph given in the example  \n",
    "\n",
    "    Graph graph = new Graph(10); \n",
    "    graph.addEdge(0, 1);  \n",
    "    graph.addEdge(1, 2);  \n",
    "    graph.addEdge(2, 3);  \n",
    "    graph.addEdge(2, 9);  \n",
    "    graph.addEdge(2, 4);  \n",
    "    graph.addEdge(4, 5);  \n",
    "    graph.addEdge(1, 6);  \n",
    "    graph.addEdge(6, 7);  \n",
    "    graph.addEdge(6, 8);  \n",
    "\n",
    "    graph.longestPathLength(); \n",
    "} \n",
    "main(args);"
   ]
  },
  {
   "cell_type": "markdown",
   "metadata": {},
   "source": [
    "## **308. Amazon Interview QUestion**\n",
    "https://www.careercup.com/question?id=10508082"
   ]
  },
  {
   "cell_type": "code",
   "execution_count": 31,
   "metadata": {},
   "outputs": [],
   "source": [
    "/*\n",
    "View Question Link for Solution\n",
    "*/"
   ]
  },
  {
   "cell_type": "markdown",
   "metadata": {},
   "source": [
    "## **309. Diameter of an N-ary tree**\n",
    "https://www.geeksforgeeks.org/diameter-n-ary-tree/"
   ]
  },
  {
   "cell_type": "code",
   "execution_count": 32,
   "metadata": {},
   "outputs": [],
   "source": [
    "/*\n",
    "The diameter of an N-ary tree is the longest path present between any two nodes of the tree. \n",
    "These two nodes must be two leaf nodes. \n",
    "\n",
    "The following examples have the longest path[diameter] shaded.\n",
    "*/"
   ]
  },
  {
   "cell_type": "markdown",
   "metadata": {},
   "source": [
    "**Example 1**"
   ]
  },
  {
   "cell_type": "markdown",
   "metadata": {},
   "source": [
    "<img src = \"https://media.geeksforgeeks.org/wp-content/cdn-uploads/diameterNary.png\"/>"
   ]
  },
  {
   "cell_type": "markdown",
   "metadata": {},
   "source": [
    "**Example 2 :**\n",
    "<img src = \"https://media.geeksforgeeks.org/wp-content/cdn-uploads/diameterN2.png\"/>"
   ]
  },
  {
   "cell_type": "markdown",
   "metadata": {},
   "source": [
    "**PreRequisite :**  ***https://www.geeksforgeeks.org/diameter-of-a-binary-tree/***"
   ]
  },
  {
   "cell_type": "code",
   "execution_count": 33,
   "metadata": {},
   "outputs": [],
   "source": [
    "/*\n",
    "The path can either start from one of the node and goes up to one of the LCAs of these nodes \n",
    "and again come down to the deepest node of some other subtree or can exist as a diameter of one of the child of the current node.\n",
    "The solution will exist in any one of these:\n",
    "I] Diameter of one of the children of the current node\n",
    "II] Sum of Height of highest two subtree + 1\n",
    "*/"
   ]
  },
  {
   "cell_type": "code",
   "execution_count": 34,
   "metadata": {},
   "outputs": [
    {
     "name": "stdout",
     "output_type": "stream",
     "text": [
      "7\n"
     ]
    }
   ],
   "source": [
    "// Structure of a node of an n-ary tree \n",
    "static class Node \n",
    "{ \n",
    "    char key; \n",
    "    Vector<Node> child; \n",
    "}; \n",
    "  \n",
    "// Utility function to create a new tree node \n",
    "static Node newNode(int key) \n",
    "{ \n",
    "    Node temp = new Node(); \n",
    "    temp.key = (char) key; \n",
    "    temp.child = new Vector<Node>(); \n",
    "    return temp; \n",
    "} \n",
    "  \n",
    "// Utility function that will return the depth \n",
    "// of the tree \n",
    "static int depthOfTree(Node ptr) \n",
    "{ \n",
    "    // Base case \n",
    "    if (ptr == null) \n",
    "        return 0; \n",
    "  \n",
    "    int maxdepth = 0; \n",
    "  \n",
    "    // Check for all children and find \n",
    "    // the maximum depth \n",
    "    for (Node it : ptr.child) \n",
    "  \n",
    "        maxdepth = Math.max(maxdepth, \n",
    "                            depthOfTree(it)); \n",
    "  \n",
    "    return maxdepth + 1; \n",
    "} \n",
    "  \n",
    "// Function to calculate the diameter \n",
    "// of the tree \n",
    "static int diameter(Node ptr) \n",
    "{ \n",
    "    // Base case \n",
    "    if (ptr == null) \n",
    "        return 0; \n",
    "  \n",
    "    // Find top two highest children \n",
    "    int max1 = 0, max2 = 0; \n",
    "    for (Node it : ptr.child) \n",
    "    { \n",
    "        int h = depthOfTree(it); \n",
    "        if (h > max1) \n",
    "        { \n",
    "            max2 = max1; \n",
    "            max1 = h; \n",
    "        } \n",
    "        else if (h > max2) \n",
    "        max2 = h; \n",
    "    } \n",
    "  \n",
    "    // Iterate over each child for diameter \n",
    "    int maxChildDia = 0; \n",
    "    for (Node it : ptr.child) \n",
    "        maxChildDia = Math.max(maxChildDia,  \n",
    "                               diameter(it)); \n",
    "  \n",
    "    return Math.max(maxChildDia, max1 + max2 + 1); \n",
    "} \n",
    "  \n",
    "// Driver Code \n",
    "public static void main(String[] args) \n",
    "{ \n",
    "    /* Let us create below tree \n",
    "    *         A \n",
    "    *         / / \\ \\ \n",
    "    *     B F D E \n",
    "    *     / \\     | /|\\ \n",
    "    *     K J G C H I \n",
    "    *     /\\         \\ \n",
    "    * N M         L \n",
    "    */\n",
    "    Node root = newNode('A'); \n",
    "    (root.child).add(newNode('B')); \n",
    "    (root.child).add(newNode('F')); \n",
    "    (root.child).add(newNode('D')); \n",
    "    (root.child).add(newNode('E')); \n",
    "    (root.child.get(0).child).add(newNode('K')); \n",
    "    (root.child.get(0).child).add(newNode('J')); \n",
    "    (root.child.get(2).child).add(newNode('G')); \n",
    "    (root.child.get(3).child).add(newNode('C')); \n",
    "    (root.child.get(3).child).add(newNode('H')); \n",
    "    (root.child.get(3).child).add(newNode('I')); \n",
    "    (root.child.get(0).child.get(0).child).add(newNode('N')); \n",
    "    (root.child.get(0).child.get(0).child).add(newNode('M')); \n",
    "    (root.child.get(3).child.get(2).child).add(newNode('L')); \n",
    "  \n",
    "    System.out.print(diameter(root) + \"\\n\"); \n",
    "} \n",
    "main(args);"
   ]
  },
  {
   "cell_type": "markdown",
   "metadata": {},
   "source": [
    "## **310. Clone a Binary Tree with Random Pointers**\n",
    "https://www.geeksforgeeks.org/clone-binary-tree-random-pointers/"
   ]
  },
  {
   "cell_type": "code",
   "execution_count": 35,
   "metadata": {},
   "outputs": [],
   "source": [
    "/*\n",
    "Given a Binary Tree where every node has following structure.\n",
    "\n",
    "struct node {  \n",
    "    int key; \n",
    "    struct node *left,*right,*random;\n",
    "} \n",
    "The random pointer points to any random node of the binary tree and can even point to NULL, clone the given binary tree.\n",
    "*/"
   ]
  },
  {
   "cell_type": "code",
   "execution_count": 36,
   "metadata": {},
   "outputs": [],
   "source": [
    "/*\n",
    "Method 1 (Use Hashing)\n",
    "The idea is to store mapping from given tree nodes to clone tree nodes in hashtable. Following are detailed steps.\n",
    "\n",
    "1) Recursively traverse the given Binary and copy key value, left pointer and right pointer to clone tree. \n",
    "    While copying, store the mapping from given tree node to clone tree node in a hashtable. \n",
    "    In the following pseudo code, \n",
    "        ‘cloneNode’ is currently visited node of clone tree and ‘treeNode’ is currently visited node of given tree.\n",
    "\n",
    "   cloneNode->key  = treeNode->key\n",
    "   cloneNode->left = treeNode->left\n",
    "   cloneNode->right = treeNode->right\n",
    "   map[treeNode] = cloneNode \n",
    "   \n",
    "2) Recursively traverse both trees and set random pointers using entries from hash table.\n",
    "\n",
    "   cloneNode->random = map[treeNode->random] \n",
    "   \n",
    "Following is C++ implementation of above idea. \n",
    "The following implementation uses unordered_map from C++ STL. \n",
    "\n",
    "Note that map doesn’t implement hash table, it actually is based on self-balancing binary search tree.\n",
    "*/"
   ]
  },
  {
   "cell_type": "markdown",
   "metadata": {},
   "source": [
    "***https://ideone.com/cIX9dF***"
   ]
  },
  {
   "cell_type": "markdown",
   "metadata": {},
   "source": [
    "## **311. Count subtrees that sum up to a given value x only using single recursive function**\n",
    "https://www.geeksforgeeks.org/count-subtress-sum-given-value-x/"
   ]
  },
  {
   "cell_type": "code",
   "execution_count": 37,
   "metadata": {},
   "outputs": [],
   "source": [
    "/*\n",
    "Given a binary tree containing n nodes. \n",
    "The problem is to count subtrees having total node’s data sum equal to a given value using only single recursive functionx.\n",
    "*/"
   ]
  },
  {
   "cell_type": "code",
   "execution_count": 38,
   "metadata": {},
   "outputs": [],
   "source": [
    "/*\n",
    "Examples:\n",
    "\n",
    "Input : \n",
    "             5\n",
    "           /   \\  \n",
    "        -10     3\n",
    "        /  \\   /  \\\n",
    "       9    8 -4   7\n",
    "       \n",
    "       x = 7\n",
    "\n",
    "Output : 2\n",
    "There are 2 subtrees with sum 7.\n",
    "\n",
    "1st one is leaf node:\n",
    "7.\n",
    "\n",
    "2nd one is:\n",
    "\n",
    "      -10\n",
    "     /   \\\n",
    "    9     8\n",
    "*/"
   ]
  },
  {
   "cell_type": "code",
   "execution_count": 39,
   "metadata": {},
   "outputs": [],
   "source": [
    "/*\n",
    "Time Complexity: O(n).\n",
    "\n",
    "Approach:\n",
    "\n",
    "countSubtreesWithSumX(root, count, x)\n",
    "    if !root then\n",
    "        return 0\n",
    "        \n",
    "    ls = countSubtreesWithSumX(root->left, count, x)\n",
    "    rs = countSubtreesWithSumX(root->right, count, x)\n",
    "    sum = ls + rs + root->data\n",
    "    \n",
    "    if sum == x then\n",
    "    count++\n",
    "    return sum\n",
    "\n",
    "countSubtreesWithSumXUtil(root, x)\n",
    "    if !root then\n",
    "        return 0\n",
    "    \n",
    "    Initialize count = 0\n",
    "    ls = countSubtreesWithSumX(root->left, count, x)\n",
    "    rs = countSubtreesWithSumX(root->right, count, x)\n",
    "    \n",
    "    if (ls + rs + root->data) == x\n",
    "        count++\n",
    "    return count\n",
    "*/"
   ]
  },
  {
   "cell_type": "code",
   "execution_count": 40,
   "metadata": {},
   "outputs": [],
   "source": [
    "// structure of a node  \n",
    "// of binary tree  \n",
    "static class Node \n",
    "{  \n",
    "    int data;  \n",
    "    Node left, right;  \n",
    "} \n",
    "  \n",
    "static class INT \n",
    "{ \n",
    "    int v; \n",
    "    INT(int a) \n",
    "    { \n",
    "        v = a; \n",
    "    } \n",
    "} \n",
    "  \n",
    "// function to get a new node  \n",
    "static Node getNode(int data)  \n",
    "{  \n",
    "    // allocate space  \n",
    "    Node newNode = new Node();  \n",
    "  \n",
    "    // put in the data  \n",
    "    newNode.data = data;  \n",
    "    newNode.left = newNode.right = null;  \n",
    "    return newNode;  \n",
    "}  \n",
    "  \n",
    "// function to count subtress that  \n",
    "// sum up to a given value x  \n",
    "static int countSubtreesWithSumX(Node root,  INT count, int x)  \n",
    "{  \n",
    "    // if tree is empty  \n",
    "    if (root == null)  \n",
    "        return 0;  \n",
    "  \n",
    "    // sum of nodes in the left subtree  \n",
    "    int ls = countSubtreesWithSumX(root.left,  count, x);  \n",
    "  \n",
    "    // sum of nodes in the right subtree  \n",
    "    int rs = countSubtreesWithSumX(root.right,  count, x);  \n",
    "  \n",
    "    // sum of nodes in the subtree  \n",
    "    // rooted with 'root.data'  \n",
    "    int sum = ls + rs + root.data;  \n",
    "  \n",
    "    // if true  \n",
    "    if (sum == x)  \n",
    "        count.v++;  \n",
    "  \n",
    "    // return subtree's nodes sum  \n",
    "    return sum;  \n",
    "}  \n",
    "  \n",
    "// utility function to  \n",
    "// count subtress that  \n",
    "// sum up to a given value x  \n",
    "static int countSubtreesWithSumXUtil(Node root, int x)  \n",
    "{  \n",
    "    // if tree is empty  \n",
    "    if (root == null)  \n",
    "        return 0;  \n",
    "  \n",
    "    INT count = new INT(0);  \n",
    "  \n",
    "    // sum of nodes in the left subtree  \n",
    "    int ls = countSubtreesWithSumX(root.left, count, x);  \n",
    "  \n",
    "    // sum of nodes in the right subtree  \n",
    "    int rs = countSubtreesWithSumX(root.right,  count, x);  \n",
    "  \n",
    "    // if tree's nodes sum == x  \n",
    "    if ((ls + rs + root.data) == x)  \n",
    "        count.v++;  \n",
    "  \n",
    "    // required count of subtrees  \n",
    "    return count.v;  \n",
    "}  "
   ]
  },
  {
   "cell_type": "code",
   "execution_count": 41,
   "metadata": {},
   "outputs": [
    {
     "name": "stdout",
     "output_type": "stream",
     "text": [
      "Count = 2\n"
     ]
    }
   ],
   "source": [
    "// Driver Code \n",
    "public static void main(String args[]) \n",
    "{  \n",
    "    /* binary tree creation      \n",
    "                5  \n",
    "            / \\  \n",
    "        -10     3  \n",
    "        / \\ / \\  \n",
    "        9 8 -4 7  \n",
    "    */\n",
    "    Node root = getNode(5);  \n",
    "    root.left = getNode(-10);  \n",
    "    root.right = getNode(3);  \n",
    "    root.left.left = getNode(9);  \n",
    "    root.left.right = getNode(8);  \n",
    "    root.right.left = getNode(-4);  \n",
    "    root.right.right = getNode(7);  \n",
    "  \n",
    "    int x = 7;  \n",
    "  \n",
    "    System.out.println(\"Count = \" +  \n",
    "           countSubtreesWithSumXUtil(root, x));  \n",
    "}  \n",
    "main(args);"
   ]
  },
  {
   "cell_type": "markdown",
   "metadata": {},
   "source": [
    "## **312. Inorder Tree Traversal without Recursion**\n",
    "https://www.geeksforgeeks.org/inorder-tree-traversal-without-recursion/"
   ]
  },
  {
   "cell_type": "code",
   "execution_count": 42,
   "metadata": {},
   "outputs": [],
   "source": [
    "/*\n",
    "Time Complexity: O(n)\n",
    "\n",
    "Using Stack is the obvious way to traverse tree without recursion. \n",
    "Below is an algorithm for traversing binary tree using stack. \n",
    "See this for step wise step execution of the algorithm.\n",
    "\n",
    "1) Create an empty stack S.\n",
    "2) Initialize current node as root\n",
    "3) Push the current node to S and set current = current->left until current is NULL\n",
    "4) If current is NULL and stack is not empty then \n",
    "     a) Pop the top item from stack.\n",
    "     b) Print the popped item, set current = popped_item->right \n",
    "     c) Go to step 3.\n",
    "5) If current is NULL and stack is empty then we are done.\n",
    "*/"
   ]
  },
  {
   "cell_type": "code",
   "execution_count": 43,
   "metadata": {},
   "outputs": [],
   "source": [
    "/*\n",
    "Let us consider the below tree for example\n",
    "\n",
    "            1\n",
    "          /   \\\n",
    "        2      3\n",
    "      /  \\\n",
    "    4     5\n",
    "\n",
    "Step 1 Creates an empty stack: S = NULL\n",
    "\n",
    "Step 2 sets current as address of root: current -> 1\n",
    "\n",
    "Step 3 Pushes the current node and set current = current->left until current is NULL\n",
    "     current -> 1\n",
    "     push 1: Stack S -> 1\n",
    "     current -> 2\n",
    "     push 2: Stack S -> 2, 1\n",
    "     current -> 4\n",
    "     push 4: Stack S -> 4, 2, 1\n",
    "     current = NULL\n",
    "\n",
    "Step 4 pops from S\n",
    "     a) Pop 4: Stack S -> 2, 1\n",
    "     b) print \"4\"\n",
    "     c) current = NULL //right of 4  and go to step 3\n",
    "Since current is NULL step 3 doesn't do anything. \n",
    "\n",
    "Step 4 pops again.\n",
    "     a) Pop 2: Stack S -> 1\n",
    "     b) print \"2\"\n",
    "     c) current -> 5 //right of 2  and go to step 3\n",
    "\n",
    "Step 3 pushes 5 to stack and makes current NULL\n",
    "     Stack S -> 5, 1\n",
    "     current = NULL\n",
    "\n",
    "Step 4 pops from S\n",
    "     a) Pop 5: Stack S -> 1\n",
    "     b) print \"5\"\n",
    "     c) current = NULL //right of 5  and go to step 3\n",
    "Since current is NULL step 3 doesn't do anything\n",
    "\n",
    "Step 4 pops again.\n",
    "     a) Pop 1: Stack S -> NULL\n",
    "     b) print \"1\"\n",
    "     c) current -> 3 //right of 5  \n",
    "\n",
    "Step 3 pushes 3 to stack and makes current NULL\n",
    "     Stack S -> 3\n",
    "     current = NULL\n",
    "\n",
    "Step 4 pops from S\n",
    "     a) Pop 3: Stack S -> NULL\n",
    "     b) print \"3\"\n",
    "     c) current = NULL //right of 3  \n",
    "\n",
    "Traversal is done now as stack S is empty and current is NULL.\n",
    "*/"
   ]
  },
  {
   "cell_type": "code",
   "execution_count": 44,
   "metadata": {},
   "outputs": [],
   "source": [
    "/* Class containing left and right child of \n",
    "current node and key value*/\n",
    "class Node \n",
    "{ \n",
    "    int data; \n",
    "    Node left, right; \n",
    "  \n",
    "    public Node(int item) \n",
    "    { \n",
    "        data = item; \n",
    "        left = right = null; \n",
    "    } \n",
    "} "
   ]
  },
  {
   "cell_type": "code",
   "execution_count": 45,
   "metadata": {},
   "outputs": [
    {
     "name": "stdout",
     "output_type": "stream",
     "text": [
      "4 2 5 1 3 "
     ]
    }
   ],
   "source": [
    "/* Class to print the inorder traversal */\n",
    "class BinaryTree \n",
    "{ \n",
    "    Node root; \n",
    "    void inorder() \n",
    "    { \n",
    "        if (root == null) \n",
    "            return; \n",
    "  \n",
    "  \n",
    "        Stack<Node> s = new Stack<Node>(); \n",
    "        Node curr = root; \n",
    "  \n",
    "        // traverse the tree \n",
    "        while (curr != null || s.size() > 0) \n",
    "        { \n",
    "  \n",
    "            /* Reach the left most Node of the \n",
    "            curr Node */\n",
    "            while (curr !=  null) \n",
    "            { \n",
    "                /* place pointer to a tree node on \n",
    "                   the stack before traversing \n",
    "                  the node's left subtree */\n",
    "                s.push(curr); \n",
    "                curr = curr.left; \n",
    "            } \n",
    "  \n",
    "            /* Current must be NULL at this point */\n",
    "            curr = s.pop(); \n",
    "  \n",
    "            System.out.print(curr.data + \" \"); \n",
    "  \n",
    "            /* we have visited the node and its \n",
    "               left subtree.  Now, it's right \n",
    "               subtree's turn */\n",
    "            curr = curr.right; \n",
    "        } \n",
    "    } \n",
    "  \n",
    "    public static void main(String args[]) \n",
    "    { \n",
    "  \n",
    "        /* creating a binary tree and entering \n",
    "        the nodes */\n",
    "        BinaryTree tree = new BinaryTree(); \n",
    "        tree.root = new Node(1); \n",
    "        tree.root.left = new Node(2); \n",
    "        tree.root.right = new Node(3); \n",
    "        tree.root.left.left = new Node(4); \n",
    "        tree.root.left.right = new Node(5); \n",
    "        tree.inorder(); \n",
    "    } \n",
    "} \n",
    "BinaryTree.main(args);"
   ]
  },
  {
   "cell_type": "markdown",
   "metadata": {},
   "source": [
    "***https://youtu.be/VsxLHGUqAKs***"
   ]
  },
  {
   "cell_type": "markdown",
   "metadata": {},
   "source": [
    "**Related Link :** ***https://www.geeksforgeeks.org/inorder-tree-traversal-without-recursion-and-without-stack/***"
   ]
  },
  {
   "cell_type": "markdown",
   "metadata": {},
   "source": [
    "## **313. Inorder Tree Traversal without recursion and without stack!**\n",
    "https://www.geeksforgeeks.org/inorder-tree-traversal-without-recursion-and-without-stack/"
   ]
  },
  {
   "cell_type": "code",
   "execution_count": 46,
   "metadata": {},
   "outputs": [],
   "source": [
    "/*\n",
    " In this traversal, \n",
    " we first create links to Inorder successor and print the data using these links,\n",
    " and finally revert the changes to restore original tree.\n",
    " */"
   ]
  },
  {
   "cell_type": "code",
   "execution_count": 47,
   "metadata": {},
   "outputs": [],
   "source": [
    "/*\n",
    "1. Initialize current as root \n",
    "2. While current is not NULL\n",
    "   If the current does not have left child\n",
    "      a) Print current’s data\n",
    "      b) Go to the right, i.e., current = current->right\n",
    "   Else\n",
    "      a) Make current as the right child of the rightmost \n",
    "         node in current's left subtree\n",
    "      b) Go to this left child, i.e., current = current->left\n",
    "*/"
   ]
  },
  {
   "cell_type": "code",
   "execution_count": 48,
   "metadata": {},
   "outputs": [],
   "source": [
    "/*\n",
    "Time Complexity : O(n)\n",
    "If we take a closer look, \n",
    "    we can notice that every edge of the tree is traversed at most two times. \n",
    "And in the worst case, \n",
    "    the same number of extra edges (as input tree) are created and removed.\n",
    "*/"
   ]
  },
  {
   "cell_type": "code",
   "execution_count": 49,
   "metadata": {},
   "outputs": [],
   "source": [
    "/* A binary tree tNode has data, a pointer to left child \n",
    "   and a pointer to right child */\n",
    "class tNode { \n",
    "    int data; \n",
    "    tNode left, right; \n",
    "  \n",
    "    tNode(int item) \n",
    "    { \n",
    "        data = item; \n",
    "        left = right = null; \n",
    "    } \n",
    "} "
   ]
  },
  {
   "cell_type": "code",
   "execution_count": 50,
   "metadata": {},
   "outputs": [
    {
     "name": "stdout",
     "output_type": "stream",
     "text": [
      "4 2 5 1 3 "
     ]
    }
   ],
   "source": [
    "class BinaryTree { \n",
    "    tNode root; \n",
    "  \n",
    "    /* Function to traverse a binary tree without recursion and  \n",
    "       without stack */\n",
    "    void MorrisTraversal(tNode root) \n",
    "    { \n",
    "        tNode current, pre; \n",
    "  \n",
    "        if (root == null) \n",
    "            return; \n",
    "  \n",
    "        current = root; \n",
    "        while (current != null) { \n",
    "            if (current.left == null) { \n",
    "                System.out.print(current.data + \" \"); \n",
    "                current = current.right; \n",
    "            } \n",
    "            else { \n",
    "                /* Find the inorder predecessor of current */\n",
    "                pre = current.left; \n",
    "                while (pre.right != null && pre.right != current) \n",
    "                    pre = pre.right; \n",
    "  \n",
    "                /* Make current as right child of its inorder predecessor */\n",
    "                if (pre.right == null) { \n",
    "                    pre.right = current; \n",
    "                    current = current.left; \n",
    "                } \n",
    "  \n",
    "                /* Revert the changes made in the 'if' part to restore the  \n",
    "                    original tree i.e., fix the right child of predecessor*/\n",
    "                else { \n",
    "                    pre.right = null; \n",
    "                    System.out.print(current.data + \" \"); \n",
    "                    current = current.right; \n",
    "                } /* End of if condition pre->right == NULL */\n",
    "  \n",
    "            } /* End of if condition current->left == NULL*/\n",
    "  \n",
    "        } /* End of while */\n",
    "    } \n",
    "  \n",
    "    public static void main(String args[]) \n",
    "    { \n",
    "        /* Constructed binary tree is \n",
    "               1 \n",
    "             /   \\ \n",
    "            2      3 \n",
    "          /  \\ \n",
    "        4     5 \n",
    "        */\n",
    "        BinaryTree tree = new BinaryTree(); \n",
    "        tree.root = new tNode(1); \n",
    "        tree.root.left = new tNode(2); \n",
    "        tree.root.right = new tNode(3); \n",
    "        tree.root.left.left = new tNode(4); \n",
    "        tree.root.left.right = new tNode(5); \n",
    "  \n",
    "        tree.MorrisTraversal(tree.root); \n",
    "    } \n",
    "} \n",
    "BinaryTree.main(args);"
   ]
  },
  {
   "cell_type": "markdown",
   "metadata": {},
   "source": [
    "## **314. Morris traversal for Preorder**\n",
    "https://www.geeksforgeeks.org/morris-traversal-for-preorder/"
   ]
  },
  {
   "cell_type": "code",
   "execution_count": 51,
   "metadata": {},
   "outputs": [],
   "source": [
    "/*\n",
    "Using Morris Traversal, we can traverse the tree without using stack and recursion.\n",
    "*/"
   ]
  },
  {
   "cell_type": "markdown",
   "metadata": {},
   "source": [
    "**Related Link**  ***https://www.geeksforgeeks.org/inorder-tree-traversal-without-recursion-and-without-stack/***"
   ]
  },
  {
   "cell_type": "code",
   "execution_count": 52,
   "metadata": {},
   "outputs": [],
   "source": [
    "/*\n",
    "1. If left child is null, \n",
    "        print the current node data. Move to right child.\n",
    "    Else, \n",
    "        Make the right child of the inorder predecessor point to the current node. \n",
    "        Two cases arise:\n",
    "        a) The right child of the inorder predecessor already points to the current node. \n",
    "            --Set right child to NULL. \n",
    "            --Move to right child of current node.\n",
    "        b) The right child is NULL. \n",
    "            --Set it to current node.\n",
    "            --Print current node’s data and move to left child of current node.\n",
    "2. Iterate until current node is not NULL.\n",
    "\n",
    "Following is the implementation of the above algorithm.\n",
    "*/"
   ]
  },
  {
   "cell_type": "code",
   "execution_count": 53,
   "metadata": {},
   "outputs": [],
   "source": [
    "// A binary tree node \n",
    "class Node { \n",
    "      \n",
    "    int data; \n",
    "    Node left, right; \n",
    "      \n",
    "    Node(int item) { \n",
    "        data = item; \n",
    "        left = right = null; \n",
    "    } \n",
    "} "
   ]
  },
  {
   "cell_type": "code",
   "execution_count": 54,
   "metadata": {},
   "outputs": [
    {
     "name": "stdout",
     "output_type": "stream",
     "text": [
      "1 2 4 8 9 5 10 11 3 6 7 \n",
      "1 2 4 8 9 5 10 11 3 6 7 "
     ]
    }
   ],
   "source": [
    "class BinaryTree { \n",
    "      \n",
    "    Node root; \n",
    "      \n",
    "    void morrisTraversalPreorder() \n",
    "    { \n",
    "        morrisTraversalPreorder(root); \n",
    "    } \n",
    "  \n",
    "    // Preorder traversal without recursion and without stack \n",
    "    void morrisTraversalPreorder(Node node) { \n",
    "        while (node != null) { \n",
    "  \n",
    "            // If left child is null, print the current node data. Move to \n",
    "            // right child. \n",
    "            if (node.left == null) { \n",
    "                System.out.print(node.data + \" \"); \n",
    "                node = node.right; \n",
    "            } else { \n",
    "  \n",
    "                // Find inorder predecessor \n",
    "                Node current = node.left; \n",
    "                while (current.right != null && current.right != node) { \n",
    "                    current = current.right; \n",
    "                } \n",
    "  \n",
    "                // If the right child of inorder predecessor  \n",
    "                // already points to this node \n",
    "                if (current.right == node) { \n",
    "                    current.right = null; \n",
    "                    node = node.right; \n",
    "                } \n",
    "   \n",
    "                // If right child doesn't point to this node, then print \n",
    "                // this node and make right child point to this node \n",
    "                else { \n",
    "                    System.out.print(node.data + \" \"); \n",
    "                    current.right = node; \n",
    "                    node = node.left; \n",
    "                } \n",
    "            } \n",
    "        } \n",
    "    } \n",
    "      \n",
    "    void preorder() \n",
    "    { \n",
    "        preorder(root); \n",
    "    } \n",
    "  \n",
    "    // Function for Standard preorder traversal \n",
    "    void preorder(Node node) { \n",
    "        if (node != null) { \n",
    "            System.out.print(node.data + \" \"); \n",
    "            preorder(node.left); \n",
    "            preorder(node.right); \n",
    "        } \n",
    "    } \n",
    "      \n",
    "    // Driver programs to test above functions \n",
    "    public static void main(String args[]) { \n",
    "        BinaryTree tree = new BinaryTree(); \n",
    "        tree.root = new Node(1); \n",
    "        tree.root.left = new Node(2); \n",
    "        tree.root.right = new Node(3); \n",
    "        tree.root.left.left = new Node(4); \n",
    "        tree.root.left.right = new Node(5); \n",
    "        tree.root.right.left = new Node(6); \n",
    "        tree.root.right.right = new Node(7); \n",
    "        tree.root.left.left.left = new Node(8); \n",
    "        tree.root.left.left.right = new Node(9); \n",
    "        tree.root.left.right.left = new Node(10); \n",
    "        tree.root.left.right.right = new Node(11); \n",
    "        tree.morrisTraversalPreorder(); \n",
    "        System.out.println(\"\"); \n",
    "        tree.preorder(); \n",
    "          \n",
    "    } \n",
    "}\n",
    "BinaryTree.main(args);"
   ]
  },
  {
   "cell_type": "code",
   "execution_count": 55,
   "metadata": {},
   "outputs": [],
   "source": [
    "/*\n",
    "Limitations:\n",
    "\n",
    "Morris traversal modifies the tree during the process. \n",
    "It establishes the right links while moving down the tree and resets the right links while moving up the tree. \n",
    "So the algorithm cannot be applied if write operations are not allowed.\n",
    "*/"
   ]
  },
  {
   "cell_type": "markdown",
   "metadata": {},
   "source": [
    "***https://youtu.be/fLwUTc0kQHI***"
   ]
  },
  {
   "cell_type": "markdown",
   "metadata": {},
   "source": [
    "## **315. Iterative Postorder Traversal | Set 1 (Using Two Stacks)**\n",
    "https://www.geeksforgeeks.org/iterative-postorder-traversal/"
   ]
  },
  {
   "cell_type": "code",
   "execution_count": 56,
   "metadata": {},
   "outputs": [],
   "source": [
    "/*\n",
    " In this post, iterative postorder traversal is discussed, \n",
    " which is more complex than the other two traversals \n",
    " (due to its nature of non-tail recursion, there is an extra statement after the final recursive call to itself). \n",
    " Postorder traversal can easily be done using two stacks, though. \n",
    " --The idea is to push reverse postorder traversal to a stack. \n",
    " --Once we have the reversed postorder traversal in a stack, \n",
    "     --we can just pop all items one by one from the stack and print them; \n",
    "     --this order of printing will be in postorder because of the LIFO property of stacks. \n",
    "     --Now the question is, how to get reversed postorder elements in a stack \n",
    "         – the second stack is used for this purpose.\n",
    " */"
   ]
  },
  {
   "cell_type": "markdown",
   "metadata": {},
   "source": [
    "**Related Link :**\n",
    "\n",
    "**Iterative Inorder :**   ***https://www.geeksforgeeks.org/inorder-tree-traversal-without-recursion/***\n",
    "\n",
    "**Iterative Preorder :**   ***https://www.geeksforgeeks.org/iterative-preorder-traversal/***"
   ]
  },
  {
   "cell_type": "code",
   "execution_count": 57,
   "metadata": {},
   "outputs": [],
   "source": [
    "/*\n",
    "For example, in the following tree, \n",
    "we need to get 1, 3, 7, 6, 2, 5, 4 in a stack. \n",
    "If take a closer look at this sequence, \n",
    "    we can observe that this sequence is very similar to the preorder traversal.\n",
    "    The only difference is that the right child is visited before left child, \n",
    "    and therefore the sequence is “root right left” instead of “root left right”.\n",
    "*/"
   ]
  },
  {
   "cell_type": "code",
   "execution_count": 58,
   "metadata": {},
   "outputs": [],
   "source": [
    "/*\n",
    "So, we can do something like iterative preorder traversal with the following differences:\n",
    "a) Instead of printing an item, we push it to a stack.\n",
    "b) We push the left subtree before the right subtree.\n",
    "*/"
   ]
  },
  {
   "cell_type": "code",
   "execution_count": 59,
   "metadata": {},
   "outputs": [],
   "source": [
    "/*\n",
    "Following is the complete algorithm. \n",
    "After step 2, we get the reverse of a postorder traversal in the second stack. \n",
    "We use the first stack to get the correct order.\n",
    "\n",
    "1. Push root to first stack.\n",
    "2. Loop while first stack is not empty\n",
    "   2.1 Pop a node from first stack and push it to second stack\n",
    "   2.2 Push left and right children of the popped node to first stack\n",
    "3. Print contents of second stack\n",
    "*/"
   ]
  },
  {
   "cell_type": "markdown",
   "metadata": {},
   "source": [
    "<img src = \"https://media.geeksforgeeks.org/wp-content/cdn-uploads/BinaryTree.png\"/>"
   ]
  },
  {
   "cell_type": "code",
   "execution_count": 60,
   "metadata": {},
   "outputs": [],
   "source": [
    "/*\n",
    "Following are the steps to print postorder traversal of the above tree using two stacks.\n",
    "\n",
    "1. Push 1 to first stack.\n",
    "      First stack: 1\n",
    "      Second stack: Empty\n",
    "\n",
    "2. Pop 1 from first stack and push it to second stack. \n",
    "   Push left and right children of 1 to first stack\n",
    "      First stack: 2, 3\n",
    "      Second stack: 1\n",
    "\n",
    "3. Pop 3 from first stack and push it to second stack. \n",
    "   Push left and right children of 3 to first stack\n",
    "      First stack: 2, 6, 7\n",
    "      Second stack: 1, 3\n",
    "\n",
    "4. Pop 7 from first stack and push it to second stack.\n",
    "      First stack: 2, 6\n",
    "      Second stack: 1, 3, 7\n",
    "\n",
    "5. Pop 6 from first stack and push it to second stack.\n",
    "      First stack: 2\n",
    "      Second stack: 1, 3, 7, 6\n",
    "\n",
    "6. Pop 2 from first stack and push it to second stack. \n",
    "   Push left and right children of 2 to first stack\n",
    "      First stack: 4, 5\n",
    "      Second stack: 1, 3, 7, 6, 2\n",
    "\n",
    "7. Pop 5 from first stack and push it to second stack.\n",
    "      First stack: 4\n",
    "      Second stack: 1, 3, 7, 6, 2, 5\n",
    "\n",
    "8. Pop 4 from first stack and push it to second stack.\n",
    "      First stack: Empty\n",
    "      Second stack: 1, 3, 7, 6, 2, 5, 4\n",
    "\n",
    "The algorithm stops here since there are no more items in the first stack. \n",
    "Observe that the contents of second stack are in postorder fashion. Print them.\n",
    "*/"
   ]
  },
  {
   "cell_type": "code",
   "execution_count": 61,
   "metadata": {},
   "outputs": [],
   "source": [
    "static class node { \n",
    "    int data; \n",
    "    node left, right; \n",
    "\n",
    "    public node(int data) \n",
    "    { \n",
    "        this.data = data; \n",
    "    } \n",
    "} \n",
    "  \n",
    "// Two stacks as used in explanation \n",
    "static Stack<node> s1, s2; \n",
    "\n",
    "static void postOrderIterative(node root) \n",
    "{ \n",
    "    // Create two stacks \n",
    "    s1 = new Stack<>(); \n",
    "    s2 = new Stack<>(); \n",
    "\n",
    "    if (root == null) \n",
    "        return; \n",
    "\n",
    "    // push root to first stack \n",
    "    s1.push(root); \n",
    "\n",
    "    // Run while first stack is not empty \n",
    "    while (!s1.isEmpty()) { \n",
    "        // Pop an item from s1 and push it to s2 \n",
    "        node temp = s1.pop(); \n",
    "        s2.push(temp); \n",
    "\n",
    "        // Push left and right children of \n",
    "        // removed item to s1 \n",
    "        if (temp.left != null) \n",
    "            s1.push(temp.left); \n",
    "        if (temp.right != null) \n",
    "            s1.push(temp.right); \n",
    "    } \n",
    "\n",
    "    // Print all elements of second stack \n",
    "    while (!s2.isEmpty()) { \n",
    "        node temp = s2.pop(); \n",
    "        System.out.print(temp.data + \" \"); \n",
    "    } \n",
    "} \n"
   ]
  },
  {
   "cell_type": "code",
   "execution_count": 62,
   "metadata": {},
   "outputs": [
    {
     "name": "stdout",
     "output_type": "stream",
     "text": [
      "4 5 2 6 7 3 1 "
     ]
    }
   ],
   "source": [
    "public static void main(String[] args) \n",
    "{ \n",
    "    // Let us construct the tree \n",
    "    // shown in above figure \n",
    "\n",
    "    node root = null; \n",
    "    root = new node(1); \n",
    "    root.left = new node(2); \n",
    "    root.right = new node(3); \n",
    "    root.left.left = new node(4); \n",
    "    root.left.right = new node(5); \n",
    "    root.right.left = new node(6); \n",
    "    root.right.right = new node(7); \n",
    "\n",
    "    postOrderIterative(root); \n",
    "} \n",
    "main(args);"
   ]
  },
  {
   "cell_type": "markdown",
   "metadata": {},
   "source": [
    "***https://youtu.be/G7tvjUGMBJ4***"
   ]
  },
  {
   "cell_type": "markdown",
   "metadata": {},
   "source": [
    "## **316. Diagonal Traversal of Binary Tree**\n",
    "https://www.geeksforgeeks.org/diagonal-traversal-of-binary-tree/"
   ]
  },
  {
   "cell_type": "code",
   "execution_count": 63,
   "metadata": {},
   "outputs": [],
   "source": [
    "/*\n",
    "Consider lines of slope -1 passing between nodes. \n",
    "Given a Binary Tree, \n",
    "    print all diagonal elements in a binary tree belonging to same line.\n",
    "*/"
   ]
  },
  {
   "cell_type": "markdown",
   "metadata": {},
   "source": [
    "***Input : Root of below tree***\n",
    "<img src = \"https://media.geeksforgeeks.org/wp-content/uploads/d1-1.png\"/>"
   ]
  },
  {
   "cell_type": "markdown",
   "metadata": {},
   "source": [
    "***Output : \n",
    "<br>\n",
    "Diagonal Traversal of binary tree : \n",
    "<br>\n",
    " 8 10 14\n",
    " <br>\n",
    " 3 6 7 13\n",
    " <br>\n",
    " 1 4***"
   ]
  },
  {
   "cell_type": "code",
   "execution_count": 64,
   "metadata": {},
   "outputs": [],
   "source": [
    "/*\n",
    "The idea is to use map.\n",
    "We use different slope distances and use them as key in map. \n",
    "Value in map is vector (or dynamic array) of nodes. \n",
    "We traverse the tree to store values in map. \n",
    "Once map is built, \n",
    "    we print contents of it.\n",
    "\n",
    "Below is implementation of above idea.\n",
    "*/"
   ]
  },
  {
   "cell_type": "code",
   "execution_count": 65,
   "metadata": {},
   "outputs": [],
   "source": [
    "import java.util.Map.*;\n",
    "\n",
    "// Tree node \n",
    "static class Node{ \n",
    "    int data; \n",
    "    Node left; \n",
    "    Node right; \n",
    "\n",
    "    //constructor \n",
    "    Node(int data) \n",
    "    { \n",
    "        this.data=data; \n",
    "        left = null; \n",
    "        right =null; \n",
    "    } \n",
    "} "
   ]
  },
  {
   "cell_type": "code",
   "execution_count": 66,
   "metadata": {},
   "outputs": [],
   "source": [
    "/* root - root of the binary tree \n",
    "   d -  distance of current line from rightmost \n",
    "        -topmost slope. \n",
    "   diagonalPrint - HashMap to store Diagonal \n",
    "                   elements (Passed by Reference) */\n",
    "static void diagonalPrintUtil(Node root,int d, \n",
    "        HashMap<Integer,Vector<Integer>> diagonalPrint){ \n",
    "\n",
    "     // Base case \n",
    "    if (root == null) \n",
    "        return; \n",
    "\n",
    "    // get the list at the particular d value \n",
    "    Vector<Integer> k = diagonalPrint.get(d); \n",
    "\n",
    "    // k is null then create a vector and store the data \n",
    "    if (k == null) \n",
    "    { \n",
    "        k = new Vector<>(); \n",
    "        k.add(root.data); \n",
    "    } \n",
    "\n",
    "    // k is not null then update the list \n",
    "    else\n",
    "    { \n",
    "        k.add(root.data); \n",
    "    } \n",
    "\n",
    "    // Store all nodes of same line together as a vector \n",
    "    diagonalPrint.put(d,k); \n",
    "\n",
    "    // Increase the vertical distance if left child \n",
    "    diagonalPrintUtil(root.left, d + 1, diagonalPrint); \n",
    "\n",
    "    // Vertical distance remains same for right child \n",
    "    diagonalPrintUtil(root.right, d, diagonalPrint); \n",
    "} \n",
    "\n",
    "// Print diagonal traversal of given binary tree \n",
    "static void diagonalPrint(Node root) \n",
    "{ \n",
    "    // create a map of vectors to store Diagonal elements \n",
    "    HashMap<Integer,Vector<Integer>> diagonalPrint = new HashMap<>(); \n",
    "    diagonalPrintUtil(root, 0, diagonalPrint); \n",
    "\n",
    "    System.out.println(\"Diagonal Traversal of Binnary Tree\"); \n",
    "    for (Entry<Integer, Vector<Integer>> entry : diagonalPrint.entrySet()) \n",
    "    { \n",
    "        System.out.println(entry.getValue()); \n",
    "    } \n",
    "} "
   ]
  },
  {
   "cell_type": "code",
   "execution_count": 67,
   "metadata": {},
   "outputs": [
    {
     "name": "stdout",
     "output_type": "stream",
     "text": [
      "Diagonal Traversal of Binnary Tree\n",
      "[8, 10, 14]\n",
      "[3, 6, 7, 13]\n",
      "[1, 4]\n"
     ]
    }
   ],
   "source": [
    "// Driver program \n",
    "public static void main(String[] args) { \n",
    "\n",
    "    Node root = new Node(8); \n",
    "    root.left = new Node(3); \n",
    "    root.right = new Node(10); \n",
    "    root.left.left = new Node(1); \n",
    "    root.left.right = new Node(6); \n",
    "    root.right.right = new Node(14); \n",
    "    root.right.right.left = new Node(13); \n",
    "    root.left.right.left = new Node(4); \n",
    "    root.left.right.right = new Node(7); \n",
    "\n",
    "    diagonalPrint(root); \n",
    "} \n",
    "main(args);"
   ]
  },
  {
   "cell_type": "code",
   "execution_count": null,
   "metadata": {},
   "outputs": [],
   "source": []
  }
 ],
 "metadata": {
  "kernelspec": {
   "display_name": "Java",
   "language": "java",
   "name": "java"
  },
  "language_info": {
   "codemirror_mode": "java",
   "file_extension": ".jshell",
   "mimetype": "text/x-java-source",
   "name": "Java",
   "pygments_lexer": "java",
   "version": "11.0.6+8-LTS"
  },
  "toc": {
   "base_numbering": 1,
   "nav_menu": {},
   "number_sections": true,
   "sideBar": true,
   "skip_h1_title": false,
   "title_cell": "Table of Contents",
   "title_sidebar": "Contents",
   "toc_cell": false,
   "toc_position": {},
   "toc_section_display": true,
   "toc_window_display": true
  }
 },
 "nbformat": 4,
 "nbformat_minor": 2
}
