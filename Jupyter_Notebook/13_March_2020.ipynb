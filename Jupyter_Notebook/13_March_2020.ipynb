{
 "cells": [
  {
   "cell_type": "markdown",
   "metadata": {},
   "source": [
    "**------------------------Questions Covered-----------------------------**"
   ]
  },
  {
   "cell_type": "markdown",
   "metadata": {},
   "source": [
    "***1\tArray\thttps://www.geeksforgeeks.org/largest-sum-subarray-least-k-numbers/\tPep_JavaIP_1Arrays_31LargestSubarraySumwithAtleastK\t\n",
    "Sliding Window, Kadanes\n",
    "1\tArray\thttps://www.geeksforgeeks.org/form-minimum-number-from-given-sequence/\tPep_JavaIP_1Arrays_32MinimumNumberDISequence\tMiscellanous\t\t\t\t\t\t\t\t\t\t\t\t\t\t\t\t\t\t\t\t\t\t\n",
    "1\tArray\thttps://www.geeksforgeeks.org/find-smallest-value-represented-sum-subset-given-array/\tPep_JavaIP_1Arrays_33SmalestPossiblePositiveNumber\tMaths\t\t\t\t\t\t\t\t\t\t\t\t\t\t\t\t\t\t\t\t\t\t\t\n",
    "1\tArray\thttps://www.geeksforgeeks.org/generate-all-possible-sorted-arrays-from-alternate-elements-of-two-given-arrays/\tPep_JavaIP_1Arrays_34GenerateAllPossibleSortedArrays\tRecursionInArrays\t\t\t\t\t\t\t\t\t\t\t\t\t\t\t\t\t\t\t\t\t\t\t\n",
    "1\tArray\thttps://leetcode.com/problems/next-permutation/description/\tPep_JavaIP_1Arrays_35NextPermutation\tMiscellanous\t\t\t\t\t\t\t\t\t\t\t\t\t\t\t\t\t\t\t\t\t\t\n",
    "1\tArray\thttps://www.geeksforgeeks.org/given-an-array-arr-find-the-maximum-j-i-such-that-arrj-arri/\tPep_JavaIP_1Arrays_36Maximumjminusi\tLeftRightTraversal\t\t\t\t\t\t\t\t\t\t\t\t\t\t\t\t\t\t\t\t\t\t\n",
    "1\tArray\thttps://leetcode.com/problems/maximum-sum-of-3-non-overlapping-subarrays/description/\tPep_JavaIP_37MaximumSumof3NonOverlappingSubarrays\tLeftRightTraversal\t\t\t\t\t\t\t\t\t\t\t\t\t\t\t\t\t\t\t\t\t\t\t\n",
    "1\tArray\thttps://www.geeksforgeeks.org/number-subarrays-maximum-value-given-range/\tPep_JavaIP_1Arrays_38CountSAsWithMaxInRange\tMaths\t\t\t\t\t\t\t\t\t\t\t\t\t\t\t\t\t\t\t\t\t\t\t\n",
    "1\tArray\thttps://www.geeksforgeeks.org/print-all-possible-combinations-of-r-elements-in-a-given-array-of-size-n/\tPep_JavaIP_1Arrays_39NCRCombinations\tRecursionInArrays\t\t\t\t\t\t\t\t\t\t\t\t\t\t\t\t\t\t\t\t\t\t\t\n",
    "1\tArray\thttps://www.geeksforgeeks.org/longest-subarray-sum-divisible-k/\tPep_JavaIP_1Arrays_40LongestSubArrayDivisibleByK\tSliding Window\t\t\t\t\t\t\t\t\t\t\t\t\t\t\t\t\t\t\t\t\t\t\t\n",
    "1\tArray\thttps://www.geeksforgeeks.org/find-minimum-number-of-merge-operations-to-make-an-array-palindrome/\tPep_JavaIP_1Arrays_41MinimumMergeOpsRequiredToCreatePalindrome\t2 Pointer Method\t\t\t\t\t\t\t\t\t\t\t\t\t\t\t\t\t\t\t\t\t\t\t\n",
    "1\tArray\thttps://www.geeksforgeeks.org/reorder-a-array-according-to-given-indexes/\tPep_JavaIP_1Arrays_42ReorderArrayIndexwise\tReorderArray\t\t\t\t\t\t\t\t\t\t\t\t\t\t\t\t\t\t\t\t\t\t\t\n",
    "1\tArray\thttps://www.codechef.com/JAN18/problems/MAXSC/\tPep_JavaIP_1Arrays_43MaxSCCodeChef\tMiscellanous\t\t\t\t\t\t\t\t\t\t\t\t\t\t\t\t\t\t\t\t\t\t\t\n",
    "1\tArray\thttps://www.geeksforgeeks.org/rearrange-array-maximum-minimum-form-set-2-o1-extra-space/\tPep_JavaIP_1Arrays_44RearrangeMaximumMinimumForm\t2InfoOnSameIndex\t\t\t\t\t\t\t\t\t\t\t\t\t\t\t\t\t\t\t\t\t\t\n",
    "1\tArray\thttps://www.geeksforgeeks.org/given-an-array-of-numbers-arrange-the-numbers-to-form-the-biggest-number/\tPep_JavaIP_45RearrangePrintBiggestNumber***"
   ]
  },
  {
   "cell_type": "code",
   "execution_count": 4,
   "metadata": {
    "run_control": {
     "marked": false
    }
   },
   "outputs": [],
   "source": [
    "import java.util.*;\n",
    "import java.io.*;\n",
    "import java.util.Arrays;\n",
    "String[] args =new String[0];"
   ]
  },
  {
   "cell_type": "markdown",
   "metadata": {},
   "source": [
    "## **31. Largest sum subarray with at-least k numbers**\n",
    "https://www.geeksforgeeks.org/largest-sum-subarray-least-k-numbers/"
   ]
  },
  {
   "cell_type": "code",
   "execution_count": 5,
   "metadata": {
    "run_control": {
     "marked": false
    }
   },
   "outputs": [],
   "source": [
    "/*\n",
    "Given an array, find the subarray (containing at least k numbers) which has the largest sum.\n",
    "\n",
    "Examples:\n",
    "\n",
    "Input : arr[] = {-4, -2, 1, -3} \n",
    "            k = 2\n",
    "Output : -1\n",
    "The sub array is {-2, 1}\n",
    "\n",
    "Input : arr[] = {1, 1, 1, 1, 1, 1} \n",
    "            k = 2\n",
    "Output : 6 \n",
    "The sub array is {1, 1, 1, 1, 1, 1}\n",
    "*/"
   ]
  },
  {
   "cell_type": "code",
   "execution_count": 6,
   "metadata": {
    "run_control": {
     "marked": false
    }
   },
   "outputs": [],
   "source": [
    "/*\n",
    "This problem is an extension of Largest Sum Subarray Problem. (https://www.geeksforgeeks.org/largest-sum-contiguous-subarray/)\n",
    "1) We first compute maximum sum till every index and store it in an array maxSum[].\n",
    "2) After filling the array, we use the sliding window concept of size k. \n",
    "   Keep track of sum of current k elements. \n",
    "   To compute sum of current window, remove first element of previous window and add current element. \n",
    "   After getting the sum of current window, we add the maxSum of the previous window, \n",
    "   if it is greater than current max, then update it else not.\n",
    "\n",
    "Below is the implementation of above approach:\n",
    "Time Complexity: O(n)\n",
    "*/"
   ]
  },
  {
   "cell_type": "code",
   "execution_count": 7,
   "metadata": {
    "run_control": {
     "marked": false
    }
   },
   "outputs": [],
   "source": [
    "// Returns maximum sum of a subarray with at-least \n",
    "// k elements. \n",
    "static int maxSumWithK(int a[], int n, int k) \n",
    "{ \n",
    "    // maxSum[i] is going to store maximum sum \n",
    "    // till index i such that a[i] is part of the \n",
    "    // sum. \n",
    "    int maxSum[] = new int [n]; \n",
    "    maxSum[0] = a[0]; \n",
    "\n",
    "    // We use Kadane's algorithm to fill maxSum[] \n",
    "    // Below code is taken from method 3 of \n",
    "    // https://www.geeksforgeeks.org/largest-sum-contiguous-subarray/ \n",
    "    int curr_max = a[0]; \n",
    "    for (int i = 1; i < n; i++) \n",
    "    { \n",
    "        curr_max = Math.max(a[i], curr_max+a[i]); \n",
    "        maxSum[i] = curr_max; \n",
    "    } \n",
    "\n",
    "    // Sum of first k elements \n",
    "    int sum = 0; \n",
    "    for (int i = 0; i < k; i++) \n",
    "        sum += a[i]; \n",
    "\n",
    "    // Use the concept of sliding window \n",
    "    int result = sum; \n",
    "    for (int i = k; i < n; i++) \n",
    "    { \n",
    "        // Compute sum of k elements ending \n",
    "        // with a[i]. \n",
    "        sum = sum + a[i] - a[i-k]; \n",
    "\n",
    "        // Update result if required \n",
    "        result = Math.max(result, sum); \n",
    "\n",
    "        // Include maximum sum till [i-k] also \n",
    "        // if it increases overall max. \n",
    "        result = Math.max(result, sum + maxSum[i-k]); \n",
    "    } \n",
    "    return result; \n",
    "} "
   ]
  },
  {
   "cell_type": "code",
   "execution_count": 8,
   "metadata": {
    "run_control": {
     "marked": false
    }
   },
   "outputs": [
    {
     "name": "stdout",
     "output_type": "stream",
     "text": [
      "-4\n"
     ]
    }
   ],
   "source": [
    "int arr[] = {1, 2, 3, -10, -3}; \n",
    "int k = 4; \n",
    "System.out.println(maxSumWithK(arr, arr.length, k));"
   ]
  },
  {
   "cell_type": "markdown",
   "metadata": {},
   "source": [
    "## **32. Form minimum number from given sequence**\n",
    "https://www.geeksforgeeks.org/form-minimum-number-from-given-sequence/"
   ]
  },
  {
   "cell_type": "code",
   "execution_count": 9,
   "metadata": {
    "run_control": {
     "marked": false
    }
   },
   "outputs": [],
   "source": [
    "/*\n",
    "Given a pattern containing only I’s and D’s. \n",
    "I for increasing and D for decreasing. Devise an algorithm to print the minimum number following that pattern. \n",
    "Digits from 1-9 and digits can’t repeat.\n",
    "\n",
    "Examples:\n",
    "\n",
    "   Input: D        Output: 21\n",
    "   Input: I        Output: 12\n",
    "   Input: DD       Output: 321\n",
    "   Input: II       Output: 123\n",
    "   Input: DIDI     Output: 21435\n",
    "   Input: IIDDD    Output: 126543\n",
    "   Input: DDIDDIID Output: 321654798 \n",
    "*/"
   ]
  },
  {
   "cell_type": "code",
   "execution_count": 10,
   "metadata": {
    "run_control": {
     "marked": false
    }
   },
   "outputs": [],
   "source": [
    "/*\n",
    "Method 4 (Using two pointers)\n",
    "Observation\n",
    "\n",
    "1. Since we have to find minimum number without repeating digits, maximum length of output can be 9 (using each 1-9 digits once)\n",
    "2. Length of the output will be exactly one greater than input length.\n",
    "3. The idea is to iterate over the string and do the following if current character is ‘I’ or string is ended.\n",
    "        i.Assign count in increasing order to each element from current-1 to the next left index of ‘I’ (or starting index is reached).\n",
    "        ii.Increase the count by 1.\n",
    "\n",
    "Time Complexity : O(N)\n",
    "Auxiliary Space : O(1)\n",
    "*/"
   ]
  },
  {
   "cell_type": "code",
   "execution_count": 11,
   "metadata": {
    "run_control": {
     "marked": false
    }
   },
   "outputs": [],
   "source": [
    "/*\n",
    "Input  :  IDID\n",
    "Output : 13254\n",
    "\n",
    "Input  :  I\n",
    "Output : 12\n",
    "\n",
    "Input  :  DD\n",
    "Output : 321\n",
    "\n",
    "Input  :  II\n",
    "Output : 123\n",
    "\n",
    "Input  :  DIDI\n",
    "Output : 21435\n",
    "\n",
    "Input  :  IIDDD\n",
    "Output : 126543\n",
    "\n",
    "Input  :  DDIDDIID\n",
    "Output : 321654798\n",
    "*/"
   ]
  },
  {
   "cell_type": "code",
   "execution_count": 12,
   "metadata": {
    "run_control": {
     "marked": false
    }
   },
   "outputs": [],
   "source": [
    "// Returns minimum number made from given sequence without repeating digits \n",
    "static String getMinNumberForPattern(String seq) \n",
    "{ \n",
    "    int n = seq.length(); \n",
    "\n",
    "    if (n >= 9) \n",
    "        return \"-1\"; \n",
    "\n",
    "    char result[] = new char[n + 1]; \n",
    "\n",
    "    int count = 1; \n",
    "\n",
    "    // The loop runs for each input character as well as  \n",
    "    // one additional time for assigning rank to each remaining characters \n",
    "    for (int i = 0; i <= n; i++) \n",
    "    { \n",
    "        if (i == n || seq.charAt(i) == 'I') \n",
    "        { \n",
    "            for (int j = i - 1; j >= -1; j--) \n",
    "            { \n",
    "                result[j + 1] = (char) ((int) '0' + count++); \n",
    "                if (j >= 0 && seq.charAt(j) == 'I') \n",
    "                    break; \n",
    "            } \n",
    "        } \n",
    "    } \n",
    "    return new String(result); \n",
    "} "
   ]
  },
  {
   "cell_type": "code",
   "execution_count": 13,
   "metadata": {
    "run_control": {
     "marked": false
    }
   },
   "outputs": [
    {
     "name": "stdout",
     "output_type": "stream",
     "text": [
      "13254\n",
      "12\n",
      "321\n",
      "123\n",
      "21435\n",
      "126543\n",
      "321654798\n"
     ]
    }
   ],
   "source": [
    "String inputs[] = { \"IDID\", \"I\", \"DD\", \"II\", \"DIDI\", \"IIDDD\", \"DDIDDIID\" }; \n",
    "\n",
    "for(String input : inputs) \n",
    "{ \n",
    "    System.out.println(getMinNumberForPattern(input)); \n",
    "} "
   ]
  },
  {
   "cell_type": "markdown",
   "metadata": {},
   "source": [
    "## **33. Find the smallest positive integer value that cannot be represented as sum of any subset of a given array**\n",
    "https://www.geeksforgeeks.org/find-smallest-value-represented-sum-subset-given-array/"
   ]
  },
  {
   "cell_type": "code",
   "execution_count": 14,
   "metadata": {
    "run_control": {
     "marked": false
    }
   },
   "outputs": [],
   "source": [
    "/*\n",
    "Given a sorted array (sorted in non-decreasing order) of positive numbers, \n",
    "find the smallest positive integer value that cannot be represented as sum of elements of any subset of given set.\n",
    "Expected time complexity is O(n).\n",
    "*/"
   ]
  },
  {
   "cell_type": "code",
   "execution_count": 15,
   "metadata": {
    "run_control": {
     "marked": false
    }
   },
   "outputs": [],
   "source": [
    "/*\n",
    "Examples:\n",
    "\n",
    "Input:  arr[] = {1, 3, 6, 10, 11, 15};\n",
    "Output: 2\n",
    "\n",
    "Input:  arr[] = {1, 1, 1, 1};\n",
    "Output: 5\n",
    "\n",
    "Input:  arr[] = {1, 1, 3, 4};\n",
    "Output: 10\n",
    "\n",
    "Input:  arr[] = {1, 2, 5, 10, 20, 40};\n",
    "Output: 4\n",
    "\n",
    "Input:  arr[] = {1, 2, 3, 4, 5, 6};\n",
    "Output: 22\n",
    "*/"
   ]
  },
  {
   "cell_type": "code",
   "execution_count": 16,
   "metadata": {
    "run_control": {
     "marked": false
    }
   },
   "outputs": [],
   "source": [
    "/*\n",
    "A Simple Solution is to start from value 1 and check all values one by one if they can sum to values in the given array. \n",
    "This solution is very inefficient as it reduces to subset sum problem which is a well known NP Complete Problem.\n",
    "*/"
   ]
  },
  {
   "cell_type": "code",
   "execution_count": 17,
   "metadata": {
    "run_control": {
     "marked": false
    }
   },
   "outputs": [],
   "source": [
    "/*\n",
    "We can solve this problem in O(n) time using a simple loop. \n",
    "Let the input array be arr[0..n-1]. \n",
    "We initialize the result as 1 (smallest possible outcome) and traverse the given array. \n",
    "Let the smallest element that cannot be represented by elements at indexes from 0 to (i-1) be ‘res’, \n",
    "there are following two possibilities when we consider element at index i:\n",
    "\n",
    "1) We decide that ‘res’ is the final result: \n",
    "    If arr[i] is greater than ‘res’, \n",
    "    then we found the gap which is ‘res’ because the elements after arr[i] are also going to be greater than ‘res’.\n",
    "\n",
    "2) The value of ‘res’ is incremented after considering arr[i]: \n",
    "    The value of ‘res’ is incremented by arr[i] \n",
    "    (why? If elements from 0 to (i-1) can represent 1 to ‘res-1’, \n",
    "          then elements from 0 to i can represent from 1 to ‘res + arr[i] – 1’ be adding ‘arr[i]’ to all subsets that represent 1 to ‘res’)\n",
    "*/"
   ]
  },
  {
   "cell_type": "code",
   "execution_count": 18,
   "metadata": {
    "run_control": {
     "marked": false
    }
   },
   "outputs": [],
   "source": [
    "// Returns the smallest number that cannot be represented as sum \n",
    "// of subset of elements from set represented by sorted array arr[0..n-1] \n",
    "int findSmallest(int arr[], int n)  \n",
    "{ \n",
    "    int res = 1; // Initialize result \n",
    "\n",
    "    // Traverse the array and increment 'res' if arr[i] is \n",
    "    // smaller than or equal to 'res'. \n",
    "    for (int i = 0; i < n && arr[i] <= res; i++) \n",
    "        res = res + arr[i]; \n",
    "\n",
    "    return res; \n",
    "} "
   ]
  },
  {
   "cell_type": "code",
   "execution_count": 19,
   "metadata": {
    "run_control": {
     "marked": false
    }
   },
   "outputs": [
    {
     "name": "stdout",
     "output_type": "stream",
     "text": [
      "2\n",
      "4\n",
      "5\n",
      "10\n"
     ]
    }
   ],
   "source": [
    "int arr1[] = {1, 3, 4, 5}; \n",
    "int n1 = arr1.length; \n",
    "System.out.println(findSmallest(arr1, n1)); \n",
    "\n",
    "int arr2[] = {1, 2, 6, 10, 11, 15}; \n",
    "int n2 = arr2.length; \n",
    "System.out.println(findSmallest(arr2, n2)); \n",
    "\n",
    "int arr3[] = {1, 1, 1, 1}; \n",
    "int n3 = arr3.length; \n",
    "System.out.println(findSmallest(arr3, n3)); \n",
    "\n",
    "int arr4[] = {1, 1, 3, 4}; \n",
    "int n4 = arr4.length; \n",
    "System.out.println(findSmallest(arr4, n4)); "
   ]
  },
  {
   "cell_type": "markdown",
   "metadata": {},
   "source": [
    "## **34. Generate all possible sorted arrays from alternate elements of two given sorted arrays**\n",
    "https://www.geeksforgeeks.org/generate-all-possible-sorted-arrays-from-alternate-elements-of-two-given-arrays/"
   ]
  },
  {
   "cell_type": "code",
   "execution_count": 20,
   "metadata": {
    "run_control": {
     "marked": false
    }
   },
   "outputs": [],
   "source": [
    "/*\n",
    "Given two sorted arrays A and B, \n",
    "generate all possible arrays such that first element is taken from A then from B then from A and so on in increasing order till the arrays exhausted. \n",
    "The generated arrays should end with an element from B.\n",
    "*/"
   ]
  },
  {
   "cell_type": "code",
   "execution_count": 21,
   "metadata": {
    "run_control": {
     "marked": false
    }
   },
   "outputs": [],
   "source": [
    "/*\n",
    "For Example\n",
    " \n",
    "A = {10, 15, 25}\n",
    "B = {1, 5, 20, 30}\n",
    "\n",
    "The resulting arrays are:\n",
    "  10 20\n",
    "  10 20 25 30\n",
    "  10 30\n",
    "  15 20\n",
    "  15 20 25 30\n",
    "  15 30\n",
    "  25 30\n",
    "*/"
   ]
  },
  {
   "cell_type": "code",
   "execution_count": 22,
   "metadata": {
    "run_control": {
     "marked": false
    }
   },
   "outputs": [],
   "source": [
    "/*\n",
    "The idea is to use recursion. \n",
    "In the recursive function, a flag is passed to indicate whether current element in output should be taken from ‘A’ or ‘B’.\n",
    "*/"
   ]
  },
  {
   "cell_type": "code",
   "execution_count": 23,
   "metadata": {
    "run_control": {
     "marked": false
    }
   },
   "outputs": [],
   "source": [
    "/* Function to generates and prints all sorted arrays from alternate \n",
    "   elements of 'A[i..m-1]' and 'B[j..n-1]' \n",
    "   If 'flag' is true, then current element is to be included from A  \n",
    "   otherwise from B. \n",
    "   'len' is the index in output array C[]. We print output array   \n",
    "   each time before including a character from A only if length of  \n",
    "   output array is greater than 0. We try than all possible  \n",
    "   combinations */\n",
    "void generateUtil(int A[], int B[], int C[], int i, int j, int m, int n, \n",
    "        int len, boolean flag)  \n",
    "{ \n",
    "    if (flag) // Include valid element from A \n",
    "    { \n",
    "        // Print output if there is at least one 'B' in output array 'C' \n",
    "        if (len != 0)  \n",
    "            printArr(C, len + 1); \n",
    "\n",
    "        // Recur for all elements of A after current index \n",
    "        for (int k = i; k < m; k++)  \n",
    "        { \n",
    "            if (len == 0)  \n",
    "            { \n",
    "                /* this block works for the very first call to include \n",
    "                the first element in the output array */\n",
    "                C[len] = A[k]; \n",
    "\n",
    "                // don't increment lem as B is included yet \n",
    "                generateUtil(A, B, C, k + 1, j, m, n, len, !flag); \n",
    "            }  \n",
    "\n",
    "            /* include valid element from A and recur */\n",
    "            else if (A[k] > C[len])  \n",
    "            { \n",
    "                    C[len + 1] = A[k]; \n",
    "                    generateUtil(A, B, C, k + 1, j, m, n, len + 1, !flag); \n",
    "            } \n",
    "        } \n",
    "    }  \n",
    "\n",
    "    /* Include valid element from B and recur */\n",
    "    else\n",
    "    { \n",
    "        for (int l = j; l < n; l++)  \n",
    "        { \n",
    "            if (B[l] > C[len])  \n",
    "            { \n",
    "                C[len + 1] = B[l]; \n",
    "                generateUtil(A, B, C, i, l + 1, m, n, len + 1, !flag); \n",
    "            } \n",
    "        } \n",
    "    } \n",
    "} "
   ]
  },
  {
   "cell_type": "code",
   "execution_count": 24,
   "metadata": {
    "run_control": {
     "marked": false
    }
   },
   "outputs": [
    {
     "name": "stdout",
     "output_type": "stream",
     "text": [
      "10 20 \n",
      "10 20 25 30 \n",
      "10 30 \n",
      "15 20 \n",
      "15 20 25 30 \n",
      "15 30 \n",
      "25 30 \n"
     ]
    }
   ],
   "source": [
    "/* Wrapper function */\n",
    "void generate(int A[], int B[], int m, int n)  \n",
    "{ \n",
    "    int C[] = new int[m + n]; \n",
    "\n",
    "    /* output array */\n",
    "    generateUtil(A, B, C, 0, 0, m, n, 0, true); \n",
    "} \n",
    "\n",
    "// A utility function to print an array \n",
    "void printArr(int arr[], int n)  \n",
    "{ \n",
    "    for (int i = 0; i < n; i++) \n",
    "        System.out.print(arr[i] + \" \"); \n",
    "    System.out.println(\"\"); \n",
    "} \n",
    "\n",
    "public static void main(String[] args)  \n",
    "{  \n",
    "    int A[] = {10, 15, 25}; \n",
    "    int B[] = {5, 20, 30}; \n",
    "    int n = A.length; \n",
    "    int m = B.length; \n",
    "    generate(A, B, n, m); \n",
    "} \n",
    "main(args)"
   ]
  },
  {
   "cell_type": "markdown",
   "metadata": {},
   "source": [
    "## **35. Next Permutation**\n",
    "https://leetcode.com/problems/next-permutation/description/"
   ]
  },
  {
   "cell_type": "code",
   "execution_count": 25,
   "metadata": {
    "run_control": {
     "marked": false
    }
   },
   "outputs": [],
   "source": [
    "/*\n",
    "Implement next permutation, which rearranges numbers into the lexicographically next greater permutation of numbers.\n",
    "If such arrangement is not possible, it must rearrange it as the lowest possible order (ie, sorted in ascending order).\n",
    "The replacement must be in-place and use only constant extra memory.\n",
    "Here are some examples. Inputs are in the left-hand column and its corresponding outputs are in the right-hand column.\n",
    "\n",
    "1,2,3 → 1,3,2\n",
    "3,2,1 → 1,2,3\n",
    "1,1,5 → 1,5,1\n",
    "*/"
   ]
  },
  {
   "cell_type": "markdown",
   "metadata": {},
   "source": [
    "https://leetcode.com/problems/next-permutation/solution/"
   ]
  },
  {
   "cell_type": "markdown",
   "metadata": {},
   "source": [
    "<img src = \"https://leetcode.com/media/original_images/31_Next_Permutation.gif\"/>"
   ]
  },
  {
   "cell_type": "code",
   "execution_count": 26,
   "metadata": {
    "run_control": {
     "marked": false
    }
   },
   "outputs": [],
   "source": [
    "/*\n",
    "Algorithm\n",
    "\n",
    "First, we observe that for any given sequence that is in descending order, no next larger permutation is possible. \n",
    "For example, no next permutation is possible for the following array:\n",
    "[9, 5, 4, 3, 1]\n",
    "\n",
    "We need to find the first pair of two successive numbers a[i] and a[i−1], from the right, which satisfy a[i] > a[i-1]. \n",
    "Now, no rearrangements to the right of a[i-1]a[i−1] can create a larger permutation since that subarray consists of numbers in descending order. \n",
    "Thus, we need to rearrange the numbers to the right of a[i-1]a[i−1] including itself.\n",
    "\n",
    "Now, what kind of rearrangement will produce the next larger number? \n",
    "We want to create the permutation just larger than the current one. \n",
    "Therefore, we need to replace the number a[i-1]a[i−1] with the number which is just larger than itself among the numbers lying to its right section, say a[j]a[j].\n",
    "\n",
    "\n",
    "We swap the numbers a[i-1]a[i−1] and a[j]a[j]. \n",
    "We now have the correct number at index i-1i−1. \n",
    "But still the current permutation isn't the permutation that we are looking for.\n",
    "We need the smallest permutation that can be formed by using the numbers only to the right of a[i-1]a[i−1]. \n",
    "Therefore, we need to place those numbers in ascending order to get their smallest permutation.\n",
    "\n",
    "But, recall that while scanning the numbers from the right, we simply kept decrementing the index until we found the pair a[i]a[i] and a[i-1]a[i−1] where, a[i] > a[i-1]a[i]>a[i−1]. \n",
    "Thus, all numbers to the right of a[i-1]a[i−1] were already sorted in descending order. \n",
    "Furthermore, swapping a[i-1]a[i−1] and a[j]a[j] didn't change that order. \n",
    "Therefore, we simply need to reverse the numbers following a[i-1]a[i−1] to get the next smallest lexicographic permutation.\n",
    "*/"
   ]
  },
  {
   "cell_type": "markdown",
   "metadata": {},
   "source": [
    "<img src = \"https://leetcode.com/media/original_images/31_nums_graph.png\"/>"
   ]
  },
  {
   "cell_type": "code",
   "execution_count": 27,
   "metadata": {
    "run_control": {
     "marked": false
    }
   },
   "outputs": [],
   "source": [
    "public class Solution {\n",
    "    public static void nextPermutation(int[] nums) {\n",
    "        int i = nums.length - 2;\n",
    "        while (i >= 0 && nums[i + 1] <= nums[i]) {\n",
    "            i--;\n",
    "        }\n",
    "        if (i >= 0) {\n",
    "            int j = nums.length - 1;\n",
    "            while (j >= 0 && nums[j] <= nums[i]) {\n",
    "                j--;\n",
    "            }\n",
    "            swap(nums, i, j);\n",
    "        }\n",
    "        reverse(nums, i + 1);\n",
    "    }\n",
    "\n",
    "    private static void reverse(int[] nums, int start) {\n",
    "        int i = start, j = nums.length - 1;\n",
    "        while (i < j) {\n",
    "            swap(nums, i, j);\n",
    "            i++;\n",
    "            j--;\n",
    "        }\n",
    "    }\n",
    "\n",
    "    private static void swap(int[] nums, int i, int j) {\n",
    "        int temp = nums[i];\n",
    "        nums[i] = nums[j];\n",
    "        nums[j] = temp;\n",
    "    }\n",
    "}\n",
    "\n",
    "\n",
    "void printArr(int[] arr){\n",
    "    for(int val:arr){\n",
    "        System.out.print(val+\" \");\n",
    "    }\n",
    "    System.out.println();\n",
    "}"
   ]
  },
  {
   "cell_type": "code",
   "execution_count": 28,
   "metadata": {
    "run_control": {
     "marked": false
    }
   },
   "outputs": [
    {
     "name": "stdout",
     "output_type": "stream",
     "text": [
      "1 3 2 \n",
      "1 2 3 \n",
      "1 5 1 \n"
     ]
    }
   ],
   "source": [
    "int[] arr1 = {1,2,3};\n",
    "int[] arr2 = {3,2,1};\n",
    "int[] arr3 = {1,1,5};\n",
    "Solution.nextPermutation(arr1);\n",
    "Solution.nextPermutation(arr2);\n",
    "Solution.nextPermutation(arr3);\n",
    "printArr(arr1);\n",
    "printArr(arr2);\n",
    "printArr(arr3);"
   ]
  },
  {
   "cell_type": "markdown",
   "metadata": {},
   "source": [
    "## **36. Given an array arr[], find the maximum j – i such that arr[j] > arr[i]**\n",
    "https://www.geeksforgeeks.org/given-an-array-arr-find-the-maximum-j-i-such-that-arrj-arri/"
   ]
  },
  {
   "cell_type": "code",
   "execution_count": 29,
   "metadata": {
    "run_control": {
     "marked": false
    }
   },
   "outputs": [],
   "source": [
    "/*\n",
    "Given an array arr[], find the maximum j – i such that arr[j] > arr[i].\n",
    "Examples :\n",
    "\n",
    "  Input: {34, 8, 10, 3, 2, 80, 30, 33, 1}\n",
    "  Output: 6  (j = 7, i = 1)\n",
    "\n",
    "  Input: {9, 2, 3, 4, 5, 6, 7, 8, 18, 0}\n",
    "  Output: 8 ( j = 8, i = 0)\n",
    "\n",
    "  Input:  {1, 2, 3, 4, 5, 6}\n",
    "  Output: 5  (j = 5, i = 0)\n",
    "\n",
    "  Input:  {6, 5, 4, 3, 2, 1}\n",
    "  Output: -1 \n",
    "*/"
   ]
  },
  {
   "cell_type": "code",
   "execution_count": 30,
   "metadata": {
    "run_control": {
     "marked": false
    }
   },
   "outputs": [],
   "source": [
    "/*\n",
    "Method 1 (Simple but Inefficient)\n",
    "Run two loops. \n",
    "In the outer loop, pick elements one by one from left. \n",
    "In the inner loop, compare the picked element with the elements starting from right side. \n",
    "Stop the inner loop when you see an element greater than the picked element and keep updating the maximum j-i so far.\n",
    "\n",
    "Time Complexity : O(n^2)\n",
    "*/"
   ]
  },
  {
   "cell_type": "code",
   "execution_count": 31,
   "metadata": {
    "run_control": {
     "marked": false
    }
   },
   "outputs": [],
   "source": [
    "/* For a given array arr[], returns the maximum j-i such that \n",
    "   arr[j] > arr[i] */\n",
    "int maxIndexDiff(int arr[], int n)  \n",
    "{ \n",
    "    int maxDiff = -1; \n",
    "    int i, j; \n",
    "\n",
    "    for (i = 0; i < n; ++i)  \n",
    "    { \n",
    "        for (j = n - 1; j > i; --j)  \n",
    "        { \n",
    "            if (arr[j] > arr[i] && maxDiff < (j - i)) \n",
    "                maxDiff = j - i; \n",
    "        } \n",
    "    } \n",
    "\n",
    "    return maxDiff; \n",
    "}"
   ]
  },
  {
   "cell_type": "code",
   "execution_count": 32,
   "metadata": {
    "run_control": {
     "marked": false
    }
   },
   "outputs": [
    {
     "name": "stdout",
     "output_type": "stream",
     "text": [
      "8\n"
     ]
    }
   ],
   "source": [
    "int arr[] = {9, 2, 3, 4, 5, 6, 7, 8, 18, 0}; \n",
    "int n = arr.length; \n",
    "int maxDiff = maxIndexDiff(arr, n); \n",
    "System.out.println(maxDiff); "
   ]
  },
  {
   "cell_type": "code",
   "execution_count": 33,
   "metadata": {
    "run_control": {
     "marked": false
    }
   },
   "outputs": [],
   "source": [
    "/*\n",
    "Method 3 (Efficient)\n",
    "To solve this problem, \n",
    "we need to get two optimum indexes of arr[]: left index i and right index j. \n",
    "For an element arr[i], we do not need to consider arr[i] for left index if there is an element smaller than arr[i] on left side of arr[i]. \n",
    "Similarly, if there is a greater element on right side of arr[j] then we do not need to consider this j for right index. \n",
    "So we construct two auxiliary arrays LMin[] and RMax[] \n",
    "such that LMin[i] holds the smallest element on left side of arr[i] including arr[i], \n",
    "and RMax[j] holds the greatest element on right side of arr[j] including arr[j]. \n",
    "After constructing these two auxiliary arrays, we traverse both of these arrays from left to right. \n",
    "While traversing LMin[] and RMa[] if we see that LMin[i] is greater than RMax[j], \n",
    "then we must move ahead in LMin[] (or do i++) because all elements on left of LMin[i] are greater than or equal to LMin[i]. \n",
    "Otherwise we must move ahead in RMax[j] to look for a greater j – i value.\n",
    "*/"
   ]
  },
  {
   "cell_type": "code",
   "execution_count": 34,
   "metadata": {
    "run_control": {
     "marked": false
    }
   },
   "outputs": [],
   "source": [
    "/* For a given array arr[], returns the maximum j-i such that \n",
    "   arr[j] > arr[i] */\n",
    "int maxIndexDiff(int arr[], int n)  \n",
    "{ \n",
    "    int maxDiff; \n",
    "    int i, j; \n",
    "\n",
    "    int RMax[] = new int[n]; \n",
    "    int LMin[] = new int[n]; \n",
    "\n",
    "    /* Construct LMin[] such that LMin[i] stores the minimum value \n",
    "       from (arr[0], arr[1], ... arr[i]) */\n",
    "    LMin[0] = arr[0]; \n",
    "    for (i = 1; i < n; ++i) \n",
    "        LMin[i] = Math.min(arr[i], LMin[i - 1]); \n",
    "\n",
    "    /* Construct RMax[] such that RMax[j] stores the maximum value \n",
    "       from (arr[j], arr[j+1], ..arr[n-1]) */\n",
    "    RMax[n - 1] = arr[n - 1]; \n",
    "    for (j = n - 2; j >= 0; --j) \n",
    "        RMax[j] = Math.max(arr[j], RMax[j + 1]); \n",
    "\n",
    "    /* Traverse both arrays from left to right to find optimum j - i \n",
    "       This process is similar to merge() of MergeSort */\n",
    "    i = 0; j = 0; maxDiff = -1; \n",
    "    while (j < n && i < n)  \n",
    "    { \n",
    "        if (LMin[i] < RMax[j])  \n",
    "        { \n",
    "            maxDiff = Math.max(maxDiff, j - i); \n",
    "            j = j + 1; \n",
    "        }  \n",
    "        else \n",
    "            i = i + 1; \n",
    "    } \n",
    "\n",
    "    return maxDiff; \n",
    "} "
   ]
  },
  {
   "cell_type": "code",
   "execution_count": 35,
   "metadata": {
    "run_control": {
     "marked": false
    }
   },
   "outputs": [
    {
     "name": "stdout",
     "output_type": "stream",
     "text": [
      "8\n"
     ]
    }
   ],
   "source": [
    "int arr[] = {9, 2, 3, 4, 5, 6, 7, 8, 18, 0}; \n",
    "int n = arr.length; \n",
    "int maxDiff = maxIndexDiff(arr, n); \n",
    "System.out.println(maxDiff); "
   ]
  },
  {
   "cell_type": "markdown",
   "metadata": {},
   "source": [
    "## **37. Maximum Sum of 3 Non-Overlapping Subarrays**\n",
    "https://leetcode.com/problems/maximum-sum-of-3-non-overlapping-subarrays/description/"
   ]
  },
  {
   "cell_type": "code",
   "execution_count": 36,
   "metadata": {
    "run_control": {
     "marked": false
    }
   },
   "outputs": [],
   "source": [
    "/*\n",
    "In a given array nums of positive integers, find three non-overlapping subarrays with maximum sum.\n",
    "\n",
    "Each subarray will be of size k, and we want to maximize the sum of all 3*k entries.\n",
    "\n",
    "Return the result as a list of indices representing the starting position of each interval (0-indexed). \n",
    "If there are multiple answers, return the lexicographically smallest one.\n",
    "*/"
   ]
  },
  {
   "cell_type": "code",
   "execution_count": 37,
   "metadata": {
    "run_control": {
     "marked": false
    }
   },
   "outputs": [],
   "source": [
    "/*\n",
    "Example:\n",
    "\n",
    "Input: [1,2,1,2,6,7,5,1], 2\n",
    "Output: [0, 3, 5]\n",
    "Explanation: Subarrays [1, 2], [2, 6], [7, 5] correspond to the starting indices [0, 3, 5].\n",
    "We could have also taken [2, 1], but an answer of [1, 3, 5] would be lexicographically larger.\n",
    "*/"
   ]
  },
  {
   "cell_type": "code",
   "execution_count": 38,
   "metadata": {
    "run_control": {
     "marked": false
    }
   },
   "outputs": [],
   "source": [
    "/*\n",
    "Approach #1: Ad-Hoc [Accepted]\n",
    "\n",
    "Intuition\n",
    "It is natural to consider an array W of each interval's sum, \n",
    "where each interval is the given length K. \n",
    "To create W, we can either use prefix sums, or manage the sum of the interval as a window slides along the array.\n",
    "\n",
    "From there, we approach the reduced problem: \n",
    "    Given some array W and an integer K, what is the lexicographically smallest tuple of indices (i, j, k) with i + K <= j and j + K <= k that maximizes W[i] + W[j] + W[k]?\n",
    "*/"
   ]
  },
  {
   "cell_type": "code",
   "execution_count": 39,
   "metadata": {
    "run_control": {
     "marked": false
    }
   },
   "outputs": [],
   "source": [
    "/*\n",
    "Algorithm\n",
    "\n",
    "Suppose we fixed j. We would like to know on the intervals i∈[0,j−K] and k∈[j+K,len(W)−1], \n",
    "where the largest value of W[i]W[i] (and respectively W[k]W[k]) occurs first. (Here, first means the smaller index.)\n",
    "\n",
    "We can solve these problems with dynamic programming. \n",
    "For example, \n",
    "if we know that i is where the largest value of W[i]W[i] occurs first on [0,5], then on [0,6] the first occurrence of the largest W[i]W[i] must be either i or 6. \n",
    "If say, 6 is better, then we set best = 6.\n",
    "\n",
    "At the end, \n",
    "left[z] will be the first occurrence of the largest value of W[i] on the interval i∈[0,z], \n",
    "and right[z] will be the same but on the interval i∈[z,len(W)−1]. \n",
    "This means that for some choice j, the candidate answer must be (left[j-K], j, right[j+K]). \n",
    "We take the candidate that produces the maximum W[i] + W[j] + W[k].\n",
    "*/"
   ]
  },
  {
   "cell_type": "code",
   "execution_count": 40,
   "metadata": {
    "run_control": {
     "marked": false
    }
   },
   "outputs": [],
   "source": [
    "class Solution {\n",
    "    public static int[] maxSumOfThreeSubarrays(int[] nums, int K) {\n",
    "        //W is an array of sums of windows\n",
    "        int[] W = new int[nums.length - K + 1];\n",
    "        int sum = 0;\n",
    "        for (int i = 0; i < nums.length; i++) {\n",
    "            sum += nums[i];\n",
    "            if (i >= K) sum -= nums[i-K];\n",
    "            if (i >= K-1) W[i-K+1] = sum;\n",
    "        }\n",
    "\n",
    "        int[] left = new int[W.length];\n",
    "        int best = 0;\n",
    "        for (int i = 0; i < W.length; i++) {\n",
    "            if (W[i] > W[best]) best = i;\n",
    "            left[i] = best;\n",
    "        }\n",
    "\n",
    "        int[] right = new int[W.length];\n",
    "        best = W.length - 1;\n",
    "        for (int i = W.length - 1; i >= 0; i--) {\n",
    "            if (W[i] >= W[best]) best = i;\n",
    "            right[i] = best;\n",
    "        }\n",
    "\n",
    "        int[] ans = new int[]{-1, -1, -1};\n",
    "        for (int j = K; j < W.length - K; j++) {\n",
    "            int i = left[j - K], k = right[j + K];\n",
    "            if (ans[0] == -1 || W[i] + W[j] + W[k] >\n",
    "                    W[ans[0]] + W[ans[1]] + W[ans[2]]) {\n",
    "\n",
    "                ans[0] = i;\n",
    "                ans[1] = j;\n",
    "                ans[2] = k;\n",
    "            }\n",
    "        }\n",
    "        return ans;\n",
    "    }\n",
    "}"
   ]
  },
  {
   "cell_type": "code",
   "execution_count": 41,
   "metadata": {
    "run_control": {
     "marked": false
    }
   },
   "outputs": [
    {
     "name": "stdout",
     "output_type": "stream",
     "text": [
      "0 3 5 "
     ]
    }
   ],
   "source": [
    "int[] arr = {1,2,1,2,6,7,5,1};\n",
    "int[] res = Solution.maxSumOfThreeSubarrays(arr,2);\n",
    "for(int val:res){\n",
    "    System.out.print(val+\" \");\n",
    "}"
   ]
  },
  {
   "cell_type": "markdown",
   "metadata": {},
   "source": [
    "## **38. Number of subarrays with maximum values in given range**\n",
    "https://www.geeksforgeeks.org/number-subarrays-maximum-value-given-range/"
   ]
  },
  {
   "cell_type": "code",
   "execution_count": 42,
   "metadata": {
    "run_control": {
     "marked": false
    }
   },
   "outputs": [],
   "source": [
    "/*\n",
    "Given an array of N elements and L and R, \n",
    "print the number of sub-arrays such that the value of the maximum array element in that subarray is at least L and at most R.\n",
    "\n",
    "Examples:\n",
    "\n",
    "Input : arr[] = {2, 0, 11, 3, 0}\n",
    "          L = 1, R = 10\n",
    "Output : 4 \n",
    "Explanation: the sub-arrays {2}, {2, 0}, {3} \n",
    "and {3, 0} have maximum in range 1-10.\n",
    "\n",
    "Input : arr[] = {3, 4, 1}\n",
    "          L = 2, R = 4 \n",
    "Output : 5\n",
    "Explanation: the sub-arrays are {3}, {4}, \n",
    "{3, 4}, {4, 1} and {3, 4, 1} \n",
    "*/"
   ]
  },
  {
   "cell_type": "code",
   "execution_count": 43,
   "metadata": {
    "run_control": {
     "marked": false
    }
   },
   "outputs": [],
   "source": [
    "/*\n",
    "A naive approach will be to iterate for every sub-array \n",
    "and find the number of sub-arrays with maximum in range L-R. \n",
    "Time complexity of this solution is O(n*n)\n",
    "*/"
   ]
  },
  {
   "cell_type": "code",
   "execution_count": 44,
   "metadata": {
    "run_control": {
     "marked": false
    }
   },
   "outputs": [],
   "source": [
    "/*\n",
    "An efficient approach is based on below facts :\n",
    "\n",
    "Any element > R is never included in any subarray.\n",
    "Any number of elements smaller than L can be included in subarray as long as there is at least one single element between L and R inclusive.\n",
    "The number of all possible subarrays of an array of size N is N * (N + 1)/2. Let countSubarrays(N) = N * (N + 1)/2\n",
    "We keep track of two counts in current subarray.\n",
    "    1) Count of all elements smaller than or equal to R. We call it inc.\n",
    "    2) Count of all elements smaller than L. We call it exc.\n",
    "\n",
    "Our answer for current subarray is countSubarrays(inc) – countSubarrays(exc). \n",
    "We basically remove all those subarrays which are formed by only elements smaller than L.\n",
    "\n",
    "Time Complexity: O(n)\n",
    "*/"
   ]
  },
  {
   "cell_type": "code",
   "execution_count": 45,
   "metadata": {
    "run_control": {
     "marked": false
    }
   },
   "outputs": [],
   "source": [
    "// function to calculate N*(N+1)/2 \n",
    "static long countSubarrys(long n)  \n",
    "{ \n",
    "    return n * (n + 1) / 2; \n",
    "} \n",
    "  \n",
    "// function to count the number of  \n",
    "// sub-arrays with maximum greater \n",
    "// then L and less then R. \n",
    "static long countSubarrays(int a[], int n, \n",
    "                             int L, int R)  \n",
    "{ \n",
    "    long res = 0; \n",
    "  \n",
    "    // exc is going to store count of elements \n",
    "    // smaller than L in current valid subarray. \n",
    "    // inc is going to store count of elements \n",
    "    // smaller than or equal to R. \n",
    "    long exc = 0, inc = 0; \n",
    "  \n",
    "    // traverse through all elements of the array \n",
    "    for (int i = 0; i < n; i++) { \n",
    "  \n",
    "    // If the element is greater than R, \n",
    "    // add current value to result and reset \n",
    "    // values of exc and inc. \n",
    "    if (a[i] > R) { \n",
    "        res += (countSubarrys(inc) - countSubarrys(exc)); \n",
    "        inc = 0; \n",
    "        exc = 0; \n",
    "    } \n",
    "  \n",
    "    // if it is less than L, then it is included \n",
    "    // in the sub-arrays \n",
    "    else if (a[i] < L) { \n",
    "        exc++; \n",
    "        inc++; \n",
    "    } \n",
    "  \n",
    "    // if >= L and <= R, then count of \n",
    "    // subarrays formed by previous chunk \n",
    "    // of elements formed by only smaller \n",
    "    // elements is reduced from result. \n",
    "    else { \n",
    "        res -= countSubarrys(exc); \n",
    "        exc = 0; \n",
    "        inc++; \n",
    "    } \n",
    "    } \n",
    "  \n",
    "    // Update result. \n",
    "    res += (countSubarrys(inc) - countSubarrys(exc)); \n",
    "  \n",
    "    // returns the count of sub-arrays \n",
    "    return res; \n",
    "} "
   ]
  },
  {
   "cell_type": "code",
   "execution_count": 46,
   "metadata": {
    "run_control": {
     "marked": false
    }
   },
   "outputs": [
    {
     "name": "stdout",
     "output_type": "stream",
     "text": [
      "4"
     ]
    }
   ],
   "source": [
    "// Driver code \n",
    "public static void main(String arg[])  \n",
    "{ \n",
    "    int a[] = {2, 0, 11, 3, 0}; \n",
    "    int n = a.length; \n",
    "    int l = 1, r = 10; \n",
    "    System.out.print(countSubarrays(a, n, l, r)); \n",
    "} \n",
    "main(args)"
   ]
  },
  {
   "cell_type": "markdown",
   "metadata": {},
   "source": [
    "## **39. Print all possible combinations of r elements in a given array of size n**\n",
    "https://www.geeksforgeeks.org/print-all-possible-combinations-of-r-elements-in-a-given-array-of-size-n/"
   ]
  },
  {
   "cell_type": "code",
   "execution_count": 47,
   "metadata": {
    "run_control": {
     "marked": false
    }
   },
   "outputs": [],
   "source": [
    "/*\n",
    "Given an array of size n, generate and print all possible combinations of r elements in array. \n",
    "For example, \n",
    "if input array is {1, 2, 3, 4} and r is 2, \n",
    "then output should be {1, 2}, {1, 3}, {1, 4}, {2, 3}, {2, 4} and {3, 4}.\n",
    "*/"
   ]
  },
  {
   "cell_type": "code",
   "execution_count": 48,
   "metadata": {
    "run_control": {
     "marked": false
    }
   },
   "outputs": [],
   "source": [
    "/*\n",
    "Method 1 (Fix Elements and Recur)\n",
    "We create a temporary array ‘data[]’ which stores all outputs one by one. \n",
    "The idea is to start from first index (index = 0) in data[], \n",
    "one by one fix elements at this index and recur for remaining indexes. \n",
    "Let the input array be {1, 2, 3, 4, 5} and r be 3. \n",
    "We first fix 1 at index 0 in data[], \n",
    "then recur for remaining indexes, \n",
    "then we fix 2 at index 0 and recur. \n",
    "Finally, we fix 3 and recur for remaining indexes. \n",
    "When number of elements in data[] becomes equal to r (size of a combination), we print data[].\n",
    "\n",
    "Following diagram shows recursion tree for same input.\n",
    "*/"
   ]
  },
  {
   "cell_type": "markdown",
   "metadata": {},
   "source": [
    "<img src = \"https://media.geeksforgeeks.org/wp-content/uploads/tree12345.png\"/>"
   ]
  },
  {
   "cell_type": "code",
   "execution_count": 49,
   "metadata": {
    "run_control": {
     "marked": false
    }
   },
   "outputs": [],
   "source": [
    "/* arr[]  ---> Input Array \n",
    "data[] ---> Temporary array to store current combination \n",
    "start & end ---> Staring and Ending indexes in arr[] \n",
    "index  ---> Current index in data[] \n",
    "r ---> Size of a combination to be printed */\n",
    "static void combinationUtil(int arr[], int data[], int start, \n",
    "                            int end, int index, int r) \n",
    "{ \n",
    "    // Current combination is ready to be printed, print it \n",
    "    if (index == r) \n",
    "    { \n",
    "        for (int j=0; j<r; j++) \n",
    "            System.out.print(data[j]+\" \"); \n",
    "        System.out.println(\"\"); \n",
    "        return; \n",
    "    } \n",
    "\n",
    "    // replace index with all possible elements. The condition \n",
    "    // \"end-i+1 >= r-index\" makes sure that including one element \n",
    "    // at index will make a combination with remaining elements \n",
    "    // at remaining positions \n",
    "    for (int i=start; i<=end && end-i+1 >= r-index; i++) \n",
    "    { \n",
    "        data[index] = arr[i]; \n",
    "        combinationUtil(arr, data, i+1, end, index+1, r); \n",
    "    } \n",
    "} \n",
    "\n",
    "// The main function that prints all combinations of size r \n",
    "// in arr[] of size n. This function mainly uses combinationUtil() \n",
    "static void printCombination(int arr[], int n, int r) \n",
    "{ \n",
    "    // A temporary array to store all combination one by one \n",
    "    int data[]=new int[r]; \n",
    "\n",
    "    // Print all combination using temprary array 'data[]' \n",
    "    combinationUtil(arr, data, 0, n-1, 0, r); \n",
    "} "
   ]
  },
  {
   "cell_type": "code",
   "execution_count": 50,
   "metadata": {
    "run_control": {
     "marked": false
    }
   },
   "outputs": [
    {
     "name": "stdout",
     "output_type": "stream",
     "text": [
      "1 2 3 \n",
      "1 2 4 \n",
      "1 2 5 \n",
      "1 3 4 \n",
      "1 3 5 \n",
      "1 4 5 \n",
      "2 3 4 \n",
      "2 3 5 \n",
      "2 4 5 \n",
      "3 4 5 \n"
     ]
    }
   ],
   "source": [
    "/*Driver function to check for above function*/\n",
    "public static void main (String[] args) { \n",
    "    int arr[] = {1, 2, 3, 4, 5}; \n",
    "    int r = 3; \n",
    "    int n = arr.length; \n",
    "    printCombination(arr, n, r); \n",
    "} \n",
    "main(args)"
   ]
  },
  {
   "cell_type": "code",
   "execution_count": 51,
   "metadata": {
    "run_control": {
     "marked": false
    }
   },
   "outputs": [],
   "source": [
    "/*\n",
    "Method 2 (Include and Exclude every element)\n",
    "Like the above method, We create a temporary array data[]. \n",
    "The idea here is similar to Subset Sum Problem. (https://www.geeksforgeeks.org/subset-sum-problem-dp-25/)\n",
    "We one by one consider every element of input array, and recur for two cases:\n",
    "\n",
    "1) The element is included in current combination (We put the element in data[] and increment next available index in data[])\n",
    "2) The element is excluded in current combination (We do not put the element and do not change index)\n",
    "\n",
    "When number of elements in data[] become equal to r (size of a combination), we print it.\n",
    "\n",
    "This method is mainly based on Pascal’s Identity, i.e. ncr = n-1cr + n-1cr-1\n",
    "\n",
    "Following is implementation of method 2.\n",
    "*/"
   ]
  },
  {
   "cell_type": "code",
   "execution_count": 52,
   "metadata": {
    "run_control": {
     "marked": false
    }
   },
   "outputs": [],
   "source": [
    "/*\n",
    "PASCAL RULE :\n",
    "\n",
    "In mathematics, Pascal's rule (or Pascal's formula) is a combinatorial identity about binomial coefficients. \n",
    "It states that for positive natural numbers n and k,\n",
    "where right side of = is a binomial coefficient; \n",
    "one interpretation of which is the coefficient of the x^k term in the expansion of (1 + x)^n. \n",
    "There is no restriction on the relative sizes of n and k, since, \n",
    "if n < k the value of the binomial coefficient is zero and the identity remains valid.\n",
    "*/\n"
   ]
  },
  {
   "cell_type": "markdown",
   "metadata": {},
   "source": [
    "<img src = \"https://wikimedia.org/api/rest_v1/media/math/render/svg/50fc81ac7a665ee200b71104e64d7c31d9abcbb0\"/>"
   ]
  },
  {
   "cell_type": "code",
   "execution_count": 53,
   "metadata": {
    "run_control": {
     "marked": false
    }
   },
   "outputs": [],
   "source": [
    "/* arr[]  ---> Input Array \n",
    "data[] ---> Temporary array to store current combination \n",
    "start & end ---> Staring and Ending indexes in arr[] \n",
    "index  ---> Current index in data[] \n",
    "r ---> Size of a combination to be printed */\n",
    "static void combinationUtil(int arr[], int n, int r, int index, \n",
    "                            int data[], int i) \n",
    "{ \n",
    "    // Current combination is ready to be printed, print it \n",
    "    if (index == r) \n",
    "    { \n",
    "        for (int j=0; j<r; j++) \n",
    "            System.out.print(data[j]+\" \"); \n",
    "        System.out.println(\"\"); \n",
    "    return; \n",
    "    } \n",
    "\n",
    "    // When no more elements are there to put in data[] \n",
    "    if (i >= n) \n",
    "    return; \n",
    "\n",
    "    // current is included, put next at next location \n",
    "    data[index] = arr[i]; \n",
    "    combinationUtil(arr, n, r, index+1, data, i+1); \n",
    "\n",
    "    // current is excluded, replace it with next (Note that \n",
    "    // i+1 is passed, but index is not changed) \n",
    "    combinationUtil(arr, n, r, index, data, i+1); \n",
    "} \n",
    "\n",
    "// The main function that prints all combinations of size r \n",
    "// in arr[] of size n. This function mainly uses combinationUtil() \n",
    "static void printCombination(int arr[], int n, int r) \n",
    "{ \n",
    "    // A temporary array to store all combination one by one \n",
    "    int data[]=new int[r]; \n",
    "\n",
    "    // Print all combination using temprary array 'data[]' \n",
    "    combinationUtil(arr, n, r, 0, data, 0); \n",
    "} "
   ]
  },
  {
   "cell_type": "code",
   "execution_count": 54,
   "metadata": {
    "run_control": {
     "marked": false
    }
   },
   "outputs": [
    {
     "name": "stdout",
     "output_type": "stream",
     "text": [
      "1 2 3 \n",
      "1 2 4 \n",
      "1 2 5 \n",
      "1 3 4 \n",
      "1 3 5 \n",
      "1 4 5 \n",
      "2 3 4 \n",
      "2 3 5 \n",
      "2 4 5 \n",
      "3 4 5 \n"
     ]
    }
   ],
   "source": [
    "/*Driver function to check for above function*/\n",
    "public static void main (String[] args) { \n",
    "    int arr[] = {1, 2, 3, 4, 5}; \n",
    "    int r = 3; \n",
    "    int n = arr.length; \n",
    "    printCombination(arr, n, r); \n",
    "}\n",
    "main(args)"
   ]
  },
  {
   "cell_type": "code",
   "execution_count": 55,
   "metadata": {
    "run_control": {
     "marked": false
    }
   },
   "outputs": [],
   "source": [
    "/*\n",
    "How to handle duplicates in method 2?\n",
    "Like method 1, we can following two things to handle duplicates.\n",
    "1) Add code to sort the array before calling combinationUtil() in printCombination()\n",
    "2) Add following lines between two recursive calls of combinationUtil() in combinationUtil()\n",
    "\n",
    "        // Since the elements are sorted, all occurrences of an element\n",
    "        // must be together\n",
    "        while (arr[i] == arr[i+1])\n",
    "             i++; \n",
    "*/"
   ]
  },
  {
   "cell_type": "markdown",
   "metadata": {},
   "source": [
    "## **40. Longest subarray with sum divisible by k**\n",
    "https://www.geeksforgeeks.org/longest-subarray-sum-divisible-k/"
   ]
  },
  {
   "cell_type": "code",
   "execution_count": 56,
   "metadata": {
    "run_control": {
     "marked": false
    }
   },
   "outputs": [],
   "source": [
    "/*\n",
    "Given an arr[] containing n integers and a positive integer k. \n",
    "The problem is to find the length of the longest subarray with sum of the elements divisible by the given value k.\n",
    "\n",
    "Examples:\n",
    "\n",
    "Input : arr[] = {2, 7, 6, 1, 4, 5}, k = 3\n",
    "Output : 4\n",
    "The subarray is {7, 6, 1, 4} with sum 18,\n",
    "which is divisible by 3.\n",
    "\n",
    "Input : arr[] = {-2, 2, -5, 12, -11, -1, 7}\n",
    "Output : 5\n",
    "\n",
    "*/"
   ]
  },
  {
   "cell_type": "code",
   "execution_count": 57,
   "metadata": {
    "run_control": {
     "marked": false
    }
   },
   "outputs": [],
   "source": [
    "/*\n",
    "Method 1 (Naive Approach): \n",
    "Consider all the subarrays and return the length of the subarray with sum divisible by k and has the longest length.\n",
    "Time Complexity: O(n^2).\n",
    "*/"
   ]
  },
  {
   "cell_type": "code",
   "execution_count": 58,
   "metadata": {
    "run_control": {
     "marked": false
    }
   },
   "outputs": [],
   "source": [
    "/*\n",
    "Method 2 (Efficient Approach): \n",
    "Create an array mod_arr[] where mod_arr[i] stores (sum(arr[0]+arr[1]..+arr[i]) % k). \n",
    "Create a hash table having tuple as (ele, idx), \n",
    "where ele represents an element of mod_arr[] and idx represents the element’s index of first occurrence in mod_arr[]. \n",
    "Now, traverse mod_arr[] from i = 0 to n \n",
    "and follow the steps given below.\n",
    "\n",
    "If mod_arr[i] == 0, then update maxLen = (i + 1).\n",
    "Else if mod_arr[i] is not present in the hash table, then create tuple (mod_arr[i], i) in the hash table.\n",
    "Else, get the value associated with mod_arr[i] in the hash table. Let this be idx.\n",
    "If maxLen < (i – idx), then update maxLen = (i – idx).\n",
    "Finally return maxLen.\n",
    "\n",
    "Time Complexity: O(n).\n",
    "Auxiliary Space: O(n^2).\n",
    "*/"
   ]
  },
  {
   "cell_type": "code",
   "execution_count": 59,
   "metadata": {
    "run_control": {
     "marked": false
    }
   },
   "outputs": [],
   "source": [
    "// function to find the longest subarray \n",
    "// with sum divisible by k \n",
    "static int longSubarrWthSumDivByK(int arr[],  \n",
    "                                  int n, int k) \n",
    "{ \n",
    "    // unodered map 'um' implemented as \n",
    "    // hash table \n",
    "    HashMap<Integer, Integer> um= new HashMap<Integer, Integer>(); \n",
    "\n",
    "    // 'mod_arr[i]' stores (sum[0..i] % k) \n",
    "    int mod_arr[]= new int[n]; \n",
    "    int max = 0; \n",
    "    int curr_sum = 0; \n",
    "\n",
    "    // traverse arr[] and build up the \n",
    "    // array 'mod_arr[]' \n",
    "    for (int i = 0; i < n; i++) \n",
    "    { \n",
    "        curr_sum += arr[i]; \n",
    "\n",
    "        // as the sum can be negative,  \n",
    "        // taking modulo twice \n",
    "        mod_arr[i] = ((curr_sum % k) + k) % k;      \n",
    "    }  \n",
    "\n",
    "    for (int i = 0; i < n; i++) \n",
    "    { \n",
    "        // if true then sum(0..i) is  \n",
    "        // divisible by k \n",
    "        if (mod_arr[i] == 0) \n",
    "            // update 'max' \n",
    "            max = i + 1; \n",
    "\n",
    "        // if value 'mod_arr[i]' not present in 'um' \n",
    "        // then store it in 'um' with index of its \n",
    "        // first occurrence      \n",
    "        else if (um.containsKey(mod_arr[i]) == false) \n",
    "            um.put(mod_arr[i] , i); \n",
    "\n",
    "        else\n",
    "            // if true, then update 'max' \n",
    "            if (max < (i - um.get(mod_arr[i]))) \n",
    "                max = i - um.get(mod_arr[i]);          \n",
    "    } \n",
    "\n",
    "    // required length of longest subarray with \n",
    "    // sum divisible by 'k' \n",
    "    return max; \n",
    "} "
   ]
  },
  {
   "cell_type": "code",
   "execution_count": 60,
   "metadata": {
    "run_control": {
     "marked": false
    }
   },
   "outputs": [
    {
     "name": "stdout",
     "output_type": "stream",
     "text": [
      "Length = 4\n"
     ]
    }
   ],
   "source": [
    "public static void main (String[] args)  \n",
    "{ \n",
    "    int arr[] = {2, 7, 6, 1, 4, 5}; \n",
    "    int n = arr.length; \n",
    "    int k = 3; \n",
    "\n",
    "    System.out.println(\"Length = \"+  \n",
    "                        longSubarrWthSumDivByK(arr, n, k)); \n",
    "\n",
    "} \n",
    "main(args)"
   ]
  },
  {
   "cell_type": "markdown",
   "metadata": {},
   "source": [
    "## **41. Find minimum number of merge operations to make an array palindrome**\n",
    "https://www.geeksforgeeks.org/find-minimum-number-of-merge-operations-to-make-an-array-palindrome/"
   ]
  },
  {
   "cell_type": "markdown",
   "metadata": {},
   "source": [
    "https://youtu.be/wBGxPHXAPM4"
   ]
  },
  {
   "cell_type": "code",
   "execution_count": 61,
   "metadata": {
    "run_control": {
     "marked": false
    }
   },
   "outputs": [],
   "source": [
    "/*\n",
    "Given an array of positive integers. \n",
    "We need to make the given array a ‘Palindrome’. \n",
    "Only allowed operation on array is merge. \n",
    "Merging two adjacent elements means replacing them with their sum. \n",
    "The task is to find minimum number of merge operations required to make given array a ‘Palindrome’.\n",
    "\n",
    "To make an array a palindromic, \n",
    "we can simply apply merging operations n-1 times \n",
    "where n is the size of array (Note a single element array is alway palindrome similar to single character string). \n",
    "In that case, \n",
    "size of array will be reduced to 1. \n",
    "But in this problem we are asked to do it in minimum number of operations.\n",
    "\n",
    "Expected time complexity is O(n).\n",
    "*/"
   ]
  },
  {
   "cell_type": "code",
   "execution_count": 62,
   "metadata": {
    "run_control": {
     "marked": false
    }
   },
   "outputs": [],
   "source": [
    "/*\n",
    "Example :\n",
    "\n",
    "Input : arr[] = {15, 4, 15}\n",
    "Output : 0\n",
    "Array is already a palindrome. So we\n",
    "do not need any merge operation.\n",
    "\n",
    "Input : arr[] = {1, 4, 5, 1}\n",
    "Output : 1\n",
    "We can make given array palindrome with\n",
    "minimum one merging (merging 4 and 5 to\n",
    "make 9)\n",
    "\n",
    "Input : arr[] = {11, 14, 15, 99}\n",
    "Output : 3\n",
    "We need to merge all elements to make\n",
    "a palindrome.\n",
    "*/"
   ]
  },
  {
   "cell_type": "code",
   "execution_count": 63,
   "metadata": {
    "run_control": {
     "marked": false
    }
   },
   "outputs": [],
   "source": [
    "/*\n",
    "Let f(i, j) be minimum merging operations to make subarray arr[i..j] a palindrome. \n",
    "If i == j answer is 0. We start i from 0 and j from n-1.\n",
    "\n",
    "If arr[i] == arr[j], then there is no need to do any merging operations at index i or index j. \n",
    "    Our answer in this case will be f(i+1, j-1).\n",
    "Else, we need to do merging operations. Following cases arise.\n",
    "    If arr[i] > arr[j], then we should do merging operation at index j. \n",
    "    We merge index j-1 and j, and update arr[j-1] = arr[j-1] + arr[j]. Our answer in this case will be 1 + f(i, j-1).\n",
    "    \n",
    "    For the case when arr[i] < arr[j], update arr[i+1] = arr[i+1] + arr[i]. Our answer in this case will be 1 + f(i+1, j).\n",
    "    \n",
    "Our answer will be f(0, n-1), where n is size of array arr[].\n",
    "\n",
    "Therefore this problem can be solved iteratively using two pointers \n",
    "(first pointer pointing to start of the array and second pointer pointing to last element of the array) method and keeping count of total merging operations done till now.\n",
    "\n",
    "Below is implementation of above idea.\n",
    "\n",
    "Time complexity for the given program is : O(n)\n",
    "*/"
   ]
  },
  {
   "cell_type": "code",
   "execution_count": 64,
   "metadata": {
    "run_control": {
     "marked": false
    }
   },
   "outputs": [],
   "source": [
    "// Returns minimum number of count operations \n",
    "// required to make arr[] palindrome \n",
    "static int findMinOps(int[] arr, int n) \n",
    "{ \n",
    "    int ans = 0; // Initialize result \n",
    "    // Start from two corners \n",
    "    for (int i=0,j=n-1; i<=j;) \n",
    "    { \n",
    "        // If corner elements are same, \n",
    "        // problem reduces arr[i+1..j-1] \n",
    "        if (arr[i] == arr[j]) \n",
    "        { \n",
    "            i++; \n",
    "            j--; \n",
    "        } \n",
    "        // If left element is greater, then \n",
    "        // we merge right two elements \n",
    "        else if (arr[i] > arr[j]) \n",
    "        { \n",
    "            // need to merge from tail. \n",
    "            j--; \n",
    "            arr[j] += arr[j+1] ; \n",
    "            ans++; \n",
    "        } \n",
    "\n",
    "        // Else we merge left two elements \n",
    "        else\n",
    "        { \n",
    "            i++; \n",
    "            arr[i] += arr[i-1]; \n",
    "            ans++; \n",
    "        } \n",
    "    } \n",
    "    return ans; \n",
    "} "
   ]
  },
  {
   "cell_type": "code",
   "execution_count": 65,
   "metadata": {
    "run_control": {
     "marked": false
    }
   },
   "outputs": [
    {
     "name": "stdout",
     "output_type": "stream",
     "text": [
      "Count of minimum operations is 1\n"
     ]
    }
   ],
   "source": [
    "int arr[] = new int[]{1, 4, 5, 9, 1} ; \n",
    "System.out.println(\"Count of minimum operations is \"+ \n",
    "                        findMinOps(arr, arr.length)); "
   ]
  },
  {
   "cell_type": "markdown",
   "metadata": {},
   "source": [
    "## **42. Reorder an array according to given indexes**\n",
    "https://www.geeksforgeeks.org/reorder-a-array-according-to-given-indexes/"
   ]
  },
  {
   "cell_type": "code",
   "execution_count": 66,
   "metadata": {
    "run_control": {
     "marked": false
    }
   },
   "outputs": [],
   "source": [
    "/*\n",
    "Given two integer arrays of same size, “arr[]” and “index[]”, \n",
    "reorder elements in “arr[]” according to given index array. \n",
    "It is not allowed to given array arr’s length.\n",
    "\n",
    "Expected time complexity O(n) and auxiliary space O(1)\n",
    "*/"
   ]
  },
  {
   "cell_type": "code",
   "execution_count": 67,
   "metadata": {
    "run_control": {
     "marked": false
    }
   },
   "outputs": [],
   "source": [
    "/*\n",
    "Example:\n",
    "\n",
    "Input:  arr[]   = [10, 11, 12];\n",
    "        index[] = [1, 0, 2];\n",
    "Output: arr[]   = [11, 10, 12]\n",
    "        index[] = [0,  1,  2] \n",
    "\n",
    "Input:  arr[]   = [50, 40, 70, 60, 90]\n",
    "        index[] = [3,  0,  4,  1,  2]\n",
    "Output: arr[]   = [40, 60, 90, 50, 70]\n",
    "        index[] = [0,  1,  2,  3,   4] \n",
    "*/"
   ]
  },
  {
   "cell_type": "code",
   "execution_count": 68,
   "metadata": {
    "run_control": {
     "marked": false
    }
   },
   "outputs": [],
   "source": [
    "/*\n",
    "A Simple Solution is to use an auxiliary array temp[] of same size as given arrays. \n",
    "Traverse the given array and put all elements at their correct place in temp[] using index[]. \n",
    "Finally copy temp[] to arr[] and set all values of index[i] as i.\n",
    "*/"
   ]
  },
  {
   "cell_type": "code",
   "execution_count": 69,
   "metadata": {
    "run_control": {
     "marked": false
    }
   },
   "outputs": [
    {
     "name": "stdout",
     "output_type": "stream",
     "text": [
      "Reordered array is: \n",
      "[40, 60, 90, 50, 70]\n",
      "Modified Index array is:\n",
      "[0, 1, 2, 3, 4]\n"
     ]
    }
   ],
   "source": [
    "static int arr[] = new int[]{50, 40, 70, 60, 90}; \n",
    "static int index[] = new int[]{3,  0,  4,  1,  2}; \n",
    "\n",
    "// Method to reorder elements of arr[] according \n",
    "// to index[] \n",
    "static void reorder() \n",
    "{ \n",
    "    int temp[] = new int[arr.length]; \n",
    "\n",
    "    // arr[i] should be present at index[i] index \n",
    "    for (int i=0; i<arr.length; i++) \n",
    "        temp[index[i]] = arr[i]; \n",
    "        \n",
    "    // Copy temp[] to arr[] \n",
    "    for (int i=0; i<arr.length; i++) \n",
    "    {  \n",
    "       arr[i]   = temp[i]; \n",
    "       index[i] = i; \n",
    "    } \n",
    "} \n",
    "\n",
    "// Driver method to test the above function \n",
    "public static void main(String[] args)  \n",
    "{ \n",
    "    reorder(); \n",
    "    System.out.println(\"Reordered array is: \"); \n",
    "    System.out.println(Arrays.toString(arr)); \n",
    "    System.out.println(\"Modified Index array is:\"); \n",
    "    System.out.println(Arrays.toString(index)); \n",
    "\n",
    "} \n",
    "main(args)"
   ]
  },
  {
   "cell_type": "code",
   "execution_count": 70,
   "metadata": {
    "run_control": {
     "marked": false
    }
   },
   "outputs": [],
   "source": [
    "/*\n",
    "We can solve it Without Auxiliary Array. Below is algorithm.\n",
    "\n",
    "1) Do following for every element arr[i]\n",
    "   a) While index[i] is not equal to i\n",
    "       (i)  Store array and index values of the target (or \n",
    "            correct) position where arr[i] should be placed.\n",
    "            The correct position for arr[i] is index[i]\n",
    "       (ii) Place arr[i] at its correct position. Also\n",
    "            update index value of correct position.\n",
    "       (iii) Copy old values of correct position (Stored in\n",
    "            step (i)) to arr[i] and index[i] as the while \n",
    "            loop continues for i.\n",
    "Below is implementation of above algorithm.\n",
    "*/"
   ]
  },
  {
   "cell_type": "code",
   "execution_count": 71,
   "metadata": {
    "run_control": {
     "marked": false
    }
   },
   "outputs": [],
   "source": [
    "static int arr[] = new int[]{50, 40, 70, 60, 90}; \n",
    "static int index[] = new int[]{3,  0,  4,  1,  2}; \n",
    "\n",
    "// Method to reorder elements of arr[] according \n",
    "// to index[] \n",
    "static void reorder() \n",
    "{ \n",
    "    // Fix all elements one by one \n",
    "    for (int i=0; i<arr.length; i++) \n",
    "    { \n",
    "        // While index[i] and arr[i] are not fixed \n",
    "        while (index[i] != i) \n",
    "        { \n",
    "            // Store values of the target (or correct)  \n",
    "            // position before placing arr[i] there \n",
    "            int  oldTargetI  = index[index[i]]; \n",
    "            char oldTargetE  = (char)arr[index[i]]; \n",
    "\n",
    "            // Place arr[i] at its target (or correct) \n",
    "            // position. Also copy corrected index for \n",
    "            // new position \n",
    "            arr[index[i]] = arr[i]; \n",
    "            index[index[i]] = index[i]; \n",
    "\n",
    "            // Copy old target values to arr[i] and \n",
    "            // index[i] \n",
    "            index[i] = oldTargetI; \n",
    "            arr[i]   = oldTargetE; \n",
    "        } \n",
    "    } \n",
    "}"
   ]
  },
  {
   "cell_type": "code",
   "execution_count": 72,
   "metadata": {
    "run_control": {
     "marked": false
    }
   },
   "outputs": [
    {
     "name": "stdout",
     "output_type": "stream",
     "text": [
      "Reordered array is: \n",
      "[40, 60, 90, 50, 70]\n",
      "Modified Index array is:\n",
      "[0, 1, 2, 3, 4]\n"
     ]
    }
   ],
   "source": [
    "public static void main(String[] args)  \n",
    "{ \n",
    "    reorder(); \n",
    "    System.out.println(\"Reordered array is: \"); \n",
    "    System.out.println(Arrays.toString(arr)); \n",
    "    System.out.println(\"Modified Index array is:\"); \n",
    "    System.out.println(Arrays.toString(index)); \n",
    "} \n",
    "main(args)"
   ]
  },
  {
   "cell_type": "markdown",
   "metadata": {},
   "source": [
    "## **43. Maximum Score**\n",
    "https://www.codechef.com/JAN18/problems/MAXSC/"
   ]
  },
  {
   "cell_type": "code",
   "execution_count": 73,
   "metadata": {
    "run_control": {
     "marked": false
    }
   },
   "outputs": [],
   "source": [
    "/*\n",
    "You are given N integer sequences A1, A2, ..., AN. \n",
    "Each of these sequences contains N elements. \n",
    "You should pick N elements, one from each sequence; \n",
    "let's denote the element picked from sequence Ai by Ei. \n",
    "For each i (2 ≤ i ≤ N), Ei should be strictly greater than Ei-1.\n",
    "\n",
    "Compute the maximum possible value of E1 + E2 + ... + EN. \n",
    "If it's impossible to pick the elements E1, E2, ..., EN, print -1 instead.\n",
    "*/"
   ]
  },
  {
   "cell_type": "code",
   "execution_count": 74,
   "metadata": {
    "run_control": {
     "marked": false
    }
   },
   "outputs": [],
   "source": [
    "/*\n",
    "Example\n",
    "Input:\n",
    "\n",
    "1\n",
    "3\n",
    "1 2 3\n",
    "4 5 6\n",
    "7 8 9\n",
    "\n",
    "Output:\n",
    "\n",
    "18\n",
    "Explanation\n",
    "Example case 1: \n",
    "To maximise the score, \n",
    "pick 3 from the first row, 6 from the second row and 9 from the third row. \n",
    "The resulting sum is E1+E2+E3 = 3+6+9 = 18.\n",
    "*/"
   ]
  },
  {
   "cell_type": "code",
   "execution_count": 75,
   "metadata": {
    "run_control": {
     "marked": false
    }
   },
   "outputs": [],
   "source": [
    "public static void main(String[]args){\n",
    "    Scanner sc=new Scanner(System.in);\n",
    "    int t = sc.nextInt();\n",
    "    while(t-->0){\n",
    "        int n = sc.nextInt();\n",
    "        boolean flag2=false;\n",
    "        int[][] ar =new int[n][n];\n",
    "        for(int i=0;i<n;i++)\n",
    "            for(int j=0;j<n;j++)\n",
    "                ar[i][j]=sc.nextInt();\n",
    "        long sum=0;\n",
    "        int max1=Integer.MAX_VALUE;\n",
    "        for(int i=n-1;i>=0;i--) {\n",
    "            boolean flag=false;\n",
    "            int max=Integer.MIN_VALUE;\n",
    "            for(int j=0;j<n;j++) {\n",
    "                if(max<max1 ){\n",
    "                    if(max<ar[i][j] && ar[i][j]<max1){\n",
    "                        max=ar[i][j];\n",
    "                        flag=true;\n",
    "                    }\n",
    "                    //System.out.println(max+\"++\"+ar[i][j]+\" \"+max1);\n",
    "                }\n",
    "            }  \n",
    "            if(!flag){\n",
    "                flag2=true;\n",
    "                break;\n",
    "            }\n",
    "            //System.out.println(max+\"+++\"); \n",
    "            max1=max;\n",
    "            sum+=max;\n",
    "        } \n",
    "        if(!flag2)\n",
    "            System.out.println(sum);\n",
    "        else \n",
    "            System.out.println(-1);\n",
    "    }\n",
    "}"
   ]
  },
  {
   "cell_type": "code",
   "execution_count": 76,
   "metadata": {
    "run_control": {
     "marked": false
    }
   },
   "outputs": [
    {
     "name": "stdout",
     "output_type": "stream",
     "text": [
      "1 3 1 2 3 4 5 6 7 8 9\n",
      "18\n"
     ]
    }
   ],
   "source": [
    "main(args)"
   ]
  },
  {
   "cell_type": "markdown",
   "metadata": {},
   "source": [
    "## **44. Rearrange an array in maximum minimum form | Set 2 (O(1) extra space)**\n",
    "https://www.geeksforgeeks.org/rearrange-array-maximum-minimum-form-set-2-o1-extra-space/"
   ]
  },
  {
   "cell_type": "code",
   "execution_count": 77,
   "metadata": {
    "run_control": {
     "marked": false
    }
   },
   "outputs": [],
   "source": [
    "/*\n",
    "Given a sorted array of positive integers, \n",
    "rearrange the array alternately \n",
    "i.e first element should be the maximum value, second minimum value, third-second max, fourth-second min and so on.\n",
    "*/"
   ]
  },
  {
   "cell_type": "code",
   "execution_count": 78,
   "metadata": {
    "run_control": {
     "marked": false
    }
   },
   "outputs": [],
   "source": [
    "/*\n",
    "Examples:\n",
    "\n",
    "Input: arr[] = {1, 2, 3, 4, 5, 6, 7}\n",
    "Output: arr[] = {7, 1, 6, 2, 5, 3, 4}\n",
    "\n",
    "Input: arr[] = {1, 2, 3, 4, 5, 6}\n",
    "Output: arr[] = {6, 1, 5, 2, 4, 3}\n",
    "*/"
   ]
  },
  {
   "cell_type": "code",
   "execution_count": 79,
   "metadata": {
    "run_control": {
     "marked": false
    }
   },
   "outputs": [],
   "source": [
    "/*\n",
    "A solution that requires O(n) time and O(1) extra space is discussed. \n",
    "The idea is to use multiplication and modular trick to store two elements at an index.\n",
    "*/"
   ]
  },
  {
   "cell_type": "code",
   "execution_count": 80,
   "metadata": {
    "run_control": {
     "marked": false
    }
   },
   "outputs": [],
   "source": [
    "/*\n",
    "even index : remaining maximum element.\n",
    "odd index  : remaining minimum element.\n",
    " \n",
    "max_index : Index of remaining maximum element\n",
    "            (Moves from right to left)\n",
    "min_index : Index of remaining minimum element\n",
    "            (Moves from left to right)\n",
    "\n",
    "Initialize: max_index = 'n-1'\n",
    "            min_index = 0  \n",
    "            max_element = arr[max_index] + 1 //can be any element which is more than the maximum value in array\n",
    "\n",
    "For i = 0 to n-1            \n",
    "    If 'i' is even\n",
    "       arr[i] += arr[max_index] % max_element * max_element \n",
    "       max_index--     \n",
    "    ELSE // if 'i' is odd\n",
    "       arr[i] +=  arr[min_index] % max_element * max_element\n",
    "       min_index++\n",
    "*/"
   ]
  },
  {
   "cell_type": "code",
   "execution_count": 81,
   "metadata": {
    "code_folding": [
     2
    ],
    "run_control": {
     "marked": false
    }
   },
   "outputs": [],
   "source": [
    "/*\n",
    "How does expression “arr[i] += arr[max_index] % max_element * max_element” work ?\n",
    "The purpose of this expression is to store two elements at index arr[i]. \n",
    "arr[max_index] is stored as multiplier and “arr[i]” is stored as remainder. \n",
    "For example in {1 2 3 4 5 6 7 8 9},\n",
    "max_element is 10 and we store 91 at index 0. With 91, \n",
    "we can get original element as 91%10 and new element as 91/10.\n",
    "*/"
   ]
  },
  {
   "cell_type": "code",
   "execution_count": 84,
   "metadata": {
    "run_control": {
     "marked": false
    }
   },
   "outputs": [],
   "source": [
    "// Prints max at first position, min at second \n",
    "// position second max at third position, second \n",
    "// min at fourth position and so on. \n",
    "public static void rearrange(int arr[], int n) \n",
    "{ \n",
    "    // initialize index of first minimum and first \n",
    "    // maximum element \n",
    "    int max_idx = n - 1, min_idx = 0; \n",
    "\n",
    "    // store maximum element of array \n",
    "    int max_elem = arr[n - 1] + 1; \n",
    "\n",
    "    // traverse array elements \n",
    "    for (int i = 0; i < n; i++) { \n",
    "        // at even index : we have to put \n",
    "        // maximum element \n",
    "        if (i % 2 == 0) { \n",
    "            arr[i] += (arr[max_idx] % max_elem) * max_elem; \n",
    "            max_idx--; \n",
    "        } \n",
    "\n",
    "        // at odd index : we have to put minimum element \n",
    "        else { \n",
    "            arr[i] += (arr[min_idx] % max_elem) * max_elem; \n",
    "            min_idx++; \n",
    "        } \n",
    "    } \n",
    "\n",
    "    // array elements back to it's original form \n",
    "    for (int i = 0; i < n; i++) \n",
    "        arr[i] = arr[i] / max_elem; \n",
    "} "
   ]
  },
  {
   "cell_type": "code",
   "execution_count": 94,
   "metadata": {
    "code_folding": [],
    "run_control": {
     "marked": false
    }
   },
   "outputs": [
    {
     "name": "stdout",
     "output_type": "stream",
     "text": [
      "Original Array\n",
      "1 2 3 4 5 6 7 8 9 \n",
      "Modified Array\n",
      "9 1 8 2 7 3 6 4 5 "
     ]
    }
   ],
   "source": [
    "// Driver code \n",
    "public static void main(String args[]) \n",
    "{ \n",
    "    int arr[] = { 1, 2, 3, 4, 5, 6, 7, 8, 9 }; \n",
    "    int n = arr.length; \n",
    "\n",
    "    System.out.println(\"Original Array\"); \n",
    "    for (int i = 0; i < n; i++) \n",
    "        System.out.print(arr[i] + \" \"); \n",
    "\n",
    "    rearrange(arr, n); \n",
    "\n",
    "    System.out.print(\"\\nModified Array\\n\"); \n",
    "    for (int i = 0; i < n; i++) \n",
    "        System.out.print(arr[i] + \" \"); \n",
    "} \n",
    "main(args)"
   ]
  },
  {
   "cell_type": "markdown",
   "metadata": {},
   "source": [
    "## **45. Arrange given numbers to form the biggest number | Set 1**\n",
    "https://www.geeksforgeeks.org/given-an-array-of-numbers-arrange-the-numbers-to-form-the-biggest-number/"
   ]
  },
  {
   "cell_type": "code",
   "execution_count": 87,
   "metadata": {
    "cell_style": "center",
    "run_control": {
     "marked": false
    }
   },
   "outputs": [],
   "source": [
    "/*\n",
    "Given an array of numbers, \n",
    "arrange them in a way that yields the largest value. \n",
    "For example, \n",
    "if the given numbers are {54, 546, 548, 60}, \n",
    "the arrangement 6054854654 gives the largest value. \n",
    "And if the given numbers are {1, 34, 3, 98, 9, 76, 45, 4}, \n",
    "then the arrangement 998764543431 gives the largest value.\n",
    "*/"
   ]
  },
  {
   "cell_type": "code",
   "execution_count": 88,
   "metadata": {
    "cell_style": "center",
    "run_control": {
     "marked": false
    }
   },
   "outputs": [],
   "source": [
    "/*\n",
    "A simple solution \n",
    "that comes to our mind is to sort all numbers in descending order, \n",
    "but simply sorting doesn’t work. \n",
    "For example, 548 is greater than 60, but in output 60 comes before 548. \n",
    "As a second example, 98 is greater than 9, but 9 comes before 98 in output.\n",
    "*/"
   ]
  },
  {
   "cell_type": "code",
   "execution_count": 89,
   "metadata": {
    "run_control": {
     "marked": false
    }
   },
   "outputs": [],
   "source": [
    "/*\n",
    "In the used sorting algorithm, \n",
    "instead of using the default comparison, write a comparison function myCompare() and use it to sort numbers.\n",
    "\n",
    "Given two numbers X and Y,\n",
    "how should myCompare() decide which number to put first – \n",
    "we compare two numbers XY (Y appended at the end of X) and YX (X appended at the end of Y). \n",
    "If XY is larger, then X should come before Y in output, \n",
    "else Y should come before. \n",
    "\n",
    "For example, \n",
    "let X and Y be 542 and 60. \n",
    "To compare X and Y, we compare 54260 and 60542. \n",
    "Since 60542 is greater than 54260,\n",
    "we put Y first.\n",
    "*/"
   ]
  },
  {
   "cell_type": "code",
   "execution_count": 91,
   "metadata": {
    "run_control": {
     "marked": false
    }
   },
   "outputs": [],
   "source": [
    "// The main function that prints the  \n",
    "// arrangement with the largest value. \n",
    "// The function accepts a vector of strings     \n",
    "static void printLargest(Vector<String> arr){ \n",
    "\n",
    "    Collections.sort(arr, new Comparator<String>(){ \n",
    "        // A comparison function which is used by  \n",
    "        // sort() in printLargest() \n",
    "        @Override\n",
    "        public int compare(String X, String Y) { \n",
    "\n",
    "            // first append Y at the end of X \n",
    "            String XY=X + Y; \n",
    "\n",
    "            // then append X at the end of Y \n",
    "            String YX=Y + X; \n",
    "\n",
    "            // Now see which of the two formed numbers is greater \n",
    "            return XY.compareTo(YX) > 0 ? -1:1; \n",
    "        } \n",
    "    }); \n",
    "\n",
    "    Iterator it = arr.iterator(); \n",
    "\n",
    "    while(it.hasNext()) \n",
    "        System.out.print(it.next()); \n",
    "\n",
    "} "
   ]
  },
  {
   "cell_type": "code",
   "execution_count": 93,
   "metadata": {
    "run_control": {
     "marked": false
    }
   },
   "outputs": [
    {
     "name": "stdout",
     "output_type": "stream",
     "text": [
      "6054854654"
     ]
    }
   ],
   "source": [
    "// driver program \n",
    "public static void main (String[] args) { \n",
    "\n",
    "    Vector<String> arr; \n",
    "    arr = new Vector<>(); \n",
    "\n",
    "    //output should be 6054854654 \n",
    "    arr.add(\"54\"); \n",
    "    arr.add(\"546\"); \n",
    "    arr.add(\"548\"); \n",
    "    arr.add(\"60\"); \n",
    "    printLargest(arr); \n",
    "} \n",
    "main(args)"
   ]
  },
  {
   "cell_type": "code",
   "execution_count": null,
   "metadata": {
    "run_control": {
     "marked": false
    }
   },
   "outputs": [],
   "source": []
  }
 ],
 "metadata": {
  "kernelspec": {
   "display_name": "Java",
   "language": "java",
   "name": "java"
  },
  "language_info": {
   "codemirror_mode": "java",
   "file_extension": ".jshell",
   "mimetype": "text/x-java-source",
   "name": "Java",
   "pygments_lexer": "java",
   "version": "11.0.6+8-LTS"
  },
  "toc": {
   "base_numbering": 1,
   "nav_menu": {},
   "number_sections": false,
   "sideBar": true,
   "skip_h1_title": false,
   "title_cell": "Table of Contents",
   "title_sidebar": "Contents",
   "toc_cell": false,
   "toc_position": {},
   "toc_section_display": true,
   "toc_window_display": true
  }
 },
 "nbformat": 4,
 "nbformat_minor": 2
}
