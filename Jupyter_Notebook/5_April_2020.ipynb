{
 "cells": [
  {
   "cell_type": "markdown",
   "metadata": {},
   "source": [
    "**------------------------Questions Covered-----------------------------**"
   ]
  },
  {
   "cell_type": "markdown",
   "metadata": {},
   "source": [
    "***11\tBinary Search Trees\thttps://www.geeksforgeeks.org/inorder-predecessor-successor-given-key-bst/\t\t\t\t\t\t\t\t\t\t\t\t\t\t\t\t\t\t\t\t\t\t\t\t\t\n",
    "11\tBinary Search Trees\thttps://www.geeksforgeeks.org/given-n-appointments-find-conflicting-appointments/\t\t\t\t\t\t\t\t\t\t\t\t\t\t\t\t\t\t\t\t\t\t\t\t\t\n",
    "11\tBinary Search Trees\thttps://www.geeksforgeeks.org/data-structure-for-future-reservations-for-a-single-resource/\t\t\t\t\t\t\t\t\t\t\t\t\t\t\t\t\t\t\t\t\t\t\t\t\t\n",
    "11\tBinary Search Trees\thttps://www.geeksforgeeks.org/count-bst-subtrees-that-lie-in-given-range/\t\t\t\t\t\t\t\t\t\t\t\t\t\t\t\t\t\t\t\t\t\t\t\t\t\n",
    "11\tBinary Search Trees\thttps://www.geeksforgeeks.org/replace-every-element-with-the-least-greater-element-on-its-right/\t\t\t\t\t\t\t\t\t\t\t\t\t\t\t\t\t\t\t\t\t\t\t\t\t\n",
    "11\tBinary Search Trees\thttps://www.geeksforgeeks.org/find-closest-element-binary-search-tree/\t\t\t\t\t\t\t\t\t\t\t\t\t\t\t\t\t\t\t\t\t\t\t\t\t\n",
    "11\tBinary Search Trees\thttps://www.geeksforgeeks.org/sum-k-smallest-elements-bst/\t\t\t\t\t\t\t\t\t\t\t\t\t\t\t\t\t\t\t\t\t\t\t\t\t\n",
    "11\tBinary Search Trees\thttps://www.geeksforgeeks.org/maximum-element-two-nodes-bst/\t\t\t\t\t\t\t\t\t\t\t\t\t\t\t\t\t\t\t\t\t\t\t\t\t\n",
    "11\tBinary Search Trees\thttps://www.geeksforgeeks.org/binary-search-tree-insert-parent-pointer/\t\t\t\t\t\t\t\t\t\t\t\t\t\t\t\t\t\t\t\t\t\t\t\t\t\n",
    "11\tBinary Search Trees\thttps://www.geeksforgeeks.org/largest-bst-binary-tree-set-2/\timportant\t\thttps://www.geeksforgeeks.org/find-the-largest-subtree-in-a-tree-that-is-also-a-bst/\t\t\t\t\t\t\t\t\t\t\t\t\t\t\t\t\t\t\t\t\t\t\n",
    "11\tBinary Search Trees\thttps://www.geeksforgeeks.org/leaf-nodes-preorder-binary-search-tree/\t\t\t\t\t\t\t\t\t\t\t\t\t\t\t\t\t\t\t\t\t\t\t\t\t\n",
    "11\tBinary Search Trees\thttps://www.geeksforgeeks.org/find-median-bst-time-o1-space/\tmorris traversal application\t\t\t\t\t\t\t\t\t\t\t\t\t\t\t\t\t\t\t\t\t\t\t\t\n",
    "11\tBinary Search Trees\thttps://www.geeksforgeeks.org/avl-tree-set-1-insertion/\t\t\t\t\t\t\t\t\t\t\t\t\t\t\t\t\t\t\t\t\t\t\t\t\t\n",
    "11\tBinary Search Trees\thttps://www.geeksforgeeks.org/avl-tree-set-2-deletion/***"
   ]
  },
  {
   "cell_type": "code",
   "execution_count": 1,
   "metadata": {},
   "outputs": [],
   "source": [
    "import java.util.*;\n",
    "import java.io.*;\n",
    "String[] args =new String[0];"
   ]
  },
  {
   "cell_type": "markdown",
   "metadata": {},
   "source": [
    "## **376. Inorder predecessor and successor for a given key in BST**\n",
    "https://www.geeksforgeeks.org/inorder-predecessor-successor-given-key-bst/"
   ]
  },
  {
   "cell_type": "code",
   "execution_count": 2,
   "metadata": {},
   "outputs": [],
   "source": [
    "/*\n",
    "There is BST given with root node with key part as integer only. The structure of each node is as follows:\n",
    "\n",
    "struct Node \n",
    "{ \n",
    "\tint key; \n",
    "\tstruct Node *left, *right ; \n",
    "};\n",
    "\n",
    "You need to find the inorder successor and predecessor of a given key. \n",
    "In case the given key is not found in BST, \n",
    "    then return the two values within which this key will lie.\n",
    "*/"
   ]
  },
  {
   "cell_type": "code",
   "execution_count": 3,
   "metadata": {},
   "outputs": [],
   "source": [
    "/*\n",
    "Following is the algorithm to reach the desired result. Its a recursive method:\n",
    "\n",
    "Input: root node, key\n",
    "output: predecessor node, successor node\n",
    "\n",
    "1. If root is NULL\n",
    "      then return\n",
    "2. if key is found then\n",
    "    a. If its left subtree is not null\n",
    "        Then predecessor will be the right most \n",
    "        child of left subtree or left child itself.\n",
    "    b. If its right subtree is not null\n",
    "        The successor will be the left most child \n",
    "        of right subtree or right child itself.\n",
    "    return\n",
    "3. If key is smaller then root node\n",
    "        set the successor as root\n",
    "        search recursively into left subtree\n",
    "    else\n",
    "        set the predecessor as root\n",
    "        search recursively into right subtree\n",
    "*/"
   ]
  },
  {
   "cell_type": "markdown",
   "metadata": {},
   "source": [
    "***https://ideone.com/otZwxr***"
   ]
  },
  {
   "cell_type": "code",
   "execution_count": 4,
   "metadata": {},
   "outputs": [],
   "source": [
    "/*\n",
    "Another Approach :\n",
    "\n",
    "We can also find the inorder successor and inorder predecessor using inorder traversal . \n",
    "Check if the current node is smaller than the given key for predecessor and for successor, \n",
    "check if it is greater than the given key . \n",
    "\n",
    "If it is greater than the given key \n",
    "    then, check if it is smaller than the already stored value in successor then, update it . \n",
    "\n",
    "At last, get the predecessor and successor stored in q(successor) and p(predecessor).\n",
    "*/"
   ]
  },
  {
   "cell_type": "markdown",
   "metadata": {},
   "source": [
    "***https://ideone.com/2rLygZ***"
   ]
  },
  {
   "cell_type": "markdown",
   "metadata": {},
   "source": [
    "***https://youtu.be/1FSDhZRZ7bw***"
   ]
  },
  {
   "cell_type": "markdown",
   "metadata": {},
   "source": [
    "## **377. Given n appointments, find all conflicting appointments**\n",
    "https://www.geeksforgeeks.org/given-n-appointments-find-conflicting-appointments/"
   ]
  },
  {
   "cell_type": "code",
   "execution_count": 5,
   "metadata": {},
   "outputs": [],
   "source": [
    "/*\n",
    "Given n appointments, find all conflicting appointments.\n",
    "\n",
    "An appointment is conflicting, if it conflicts with any of the previous appointments in array.\n",
    "*/"
   ]
  },
  {
   "cell_type": "code",
   "execution_count": 6,
   "metadata": {},
   "outputs": [],
   "source": [
    "/*\n",
    "Examples:\n",
    "\n",
    "Input: appointments[] = { {1, 5} {3, 7}, {2, 6}, {10, 15}, {5, 6}, {4, 100}}\n",
    "Output: Following are conflicting intervals\n",
    "[3,7] Conflicts with [1,5]\n",
    "[2,6] Conflicts with [1,5]\n",
    "[5,6] Conflicts with [3,7]\n",
    "[4,100] Conflicts with [1,5]\n",
    "*/"
   ]
  },
  {
   "cell_type": "code",
   "execution_count": 7,
   "metadata": {},
   "outputs": [],
   "source": [
    "/*\n",
    "A Simple Solution is to one by one process all appointments from second appointment to last. \n",
    "For every appointment i, \n",
    "    check if it conflicts with i-1, i-2, … 0. \n",
    "\n",
    "The time complexity of this method is O(n^2).\n",
    "\n",
    "We can use Interval Tree to solve this problem in O(nLogn) time. \n",
    "\n",
    "Following is detailed algorithm.\n",
    "\n",
    "1) Create an Interval Tree, initially with the first appointment.\n",
    "2) Do following for all other appointments starting from the second one.\n",
    "   a) Check if the current appointment conflicts with any of the existing \n",
    "     appointments in Interval Tree.  If conflicts, then print the current\n",
    "     appointment.  This step can be done O(Logn) time.\n",
    "   b) Insert the current appointment in Interval Tree. This step also can\n",
    "      be done O(Logn) time.\n",
    "*/"
   ]
  },
  {
   "cell_type": "markdown",
   "metadata": {},
   "source": [
    "**Interval Tree :**   ***https://www.geeksforgeeks.org/interval-tree/***"
   ]
  },
  {
   "cell_type": "markdown",
   "metadata": {},
   "source": [
    "***https://ideone.com/0Gq98J***"
   ]
  },
  {
   "cell_type": "code",
   "execution_count": 8,
   "metadata": {},
   "outputs": [],
   "source": [
    "/*\n",
    "Note that the above implementation uses simple Binary Search Tree insert operations. \n",
    "Therefore, \n",
    "    time complexity of the above implementation is more than O(nLogn). \n",
    "\n",
    "We can use Red-Black Tree or AVL Tree balancing techniques to make the above implementation O(nLogn).\n",
    "*/"
   ]
  },
  {
   "cell_type": "markdown",
   "metadata": {},
   "source": [
    "**Red-Black Tree :**   ***https://www.geeksforgeeks.org/red-black-tree-set-1-introduction-2/***\n",
    "<br>\n",
    "**AVL Tree :**   ***https://www.geeksforgeeks.org/avl-tree-set-1-insertion/***"
   ]
  },
  {
   "cell_type": "markdown",
   "metadata": {},
   "source": [
    "## **378. Data Structure for a single resource reservations**\n",
    "https://www.geeksforgeeks.org/data-structure-for-future-reservations-for-a-single-resource/"
   ]
  },
  {
   "cell_type": "code",
   "execution_count": 9,
   "metadata": {},
   "outputs": [],
   "source": [
    "/*\n",
    "Design a data structure to do reservations of future jobs on a single machine under following constraints.\n",
    "\n",
    "1) Every job requires exactly k time units of the machine.\n",
    "2) The machine can do only one job at a time.\n",
    "3) Time is part of the system. \n",
    "   Future Jobs keep coming at different times. \n",
    "   Reservation of a future job is done only if there is no existing reservation within k time frame (after and before)\n",
    "4) Whenever a job finishes (or its reservation time plus k becomes equal to current time), it is removed from system.\n",
    "*/"
   ]
  },
  {
   "cell_type": "code",
   "execution_count": 10,
   "metadata": {},
   "outputs": [],
   "source": [
    "/*\n",
    "Example:\n",
    "\n",
    "Let time taken by a job (or k) be = 4\n",
    "\n",
    "At time 0: Reservation request for a job at time 2 in \n",
    "           future comes in, reservation is done as machine \n",
    "           will be available (no conflicting reservations)\n",
    "Reservations {2}\n",
    "\n",
    "At time 3: Reservation requests at times 15, 7, 20 and 3.\n",
    "           Job at 7, 15 and 20 can be reserved, but at 3 \n",
    "           cannot be reserved as it conflicts with a \n",
    "           reserved at 2.\n",
    "Reservations {2, 7, 15, 20}\n",
    "\n",
    "At time 6: Reservation requests at times 30, 17, 35 and 45\n",
    "           Jobs at 30, 35 and 45 are reserved, but at 17  \n",
    "           cannot be reserved as it conflicts with a reserved \n",
    "           at 15.\n",
    "Reservations {7, 15, 30, 35, 45}.\n",
    "Note that job at 2 is removed as it must be finished by 6.\n",
    "*/"
   ]
  },
  {
   "cell_type": "code",
   "execution_count": 11,
   "metadata": {},
   "outputs": [],
   "source": [
    "/*\n",
    "One solution is to keep all future reservations sorted in array. \n",
    "    Time complexity of checking for conflicts can be done in O(Logn) using Binary Search, \n",
    "        but insertions and deletions take O(n) time.\n",
    "\n",
    "Hashing cannot be used here as the search is not exact search, \n",
    "    but a search within k time frame.\n",
    "\n",
    "The idea is to use Binary Search Tree to maintain set of reserved jobs. \n",
    "    For every reservation request, \n",
    "        insert it only when there is no conflicting reservation. \n",
    "    While inserting job, \n",
    "        do “within k time frame check”. \n",
    "    If there is a k distant node on insertion path from root, \n",
    "        then reject the reservation request, \n",
    "    otherwise \n",
    "        do the reservation.\n",
    "*/"
   ]
  },
  {
   "cell_type": "code",
   "execution_count": 12,
   "metadata": {},
   "outputs": [],
   "source": [
    "/*\n",
    "// A BST node to store future reservations \n",
    "struct node \n",
    "{ \n",
    "\tint time; // reservation time \n",
    "\tstruct node *left, *right; \n",
    "}; \n",
    "\n",
    "// A utility function to create a new BST node \n",
    "struct node *newNode(int item) \n",
    "{ \n",
    "\tstruct node *temp = \n",
    "\t\t(struct node *)malloc(sizeof(struct node)); \n",
    "\ttemp->time = item; \n",
    "\ttemp->left = temp->right = NULL; \n",
    "\treturn temp; \n",
    "} \n",
    "*/"
   ]
  },
  {
   "cell_type": "code",
   "execution_count": 13,
   "metadata": {},
   "outputs": [],
   "source": [
    "/*\n",
    "// BST insert to process a new reservation request at \n",
    "//a given time (future time). This function does \n",
    "//reservation only if there is no existing job within \n",
    "//k time frame of new job \n",
    "struct node* insert(struct node* root, int time, int k) \n",
    "{ \n",
    "\t// If the tree is empty, return a new node \n",
    "\tif (root == NULL) return newNode(time); \n",
    "\n",
    "\t// Check if this job conflicts with existing \n",
    "\t// reservations \n",
    "\tif ((time-k < root->time) && (time+k > root->time)) \n",
    "\t\treturn root; \n",
    "\n",
    "\t// Otherwise, recur down the tree\n",
    "\tif (time < root->time) \n",
    "\t\troot->left = insert(root->left, time, k); \n",
    "\telse\n",
    "\t\troot->right = insert(root->right, time, k); \n",
    "\n",
    "\t// return the (unchanged) node pointer\n",
    "\treturn root; \n",
    "}\n",
    "*/"
   ]
  },
  {
   "cell_type": "code",
   "execution_count": 14,
   "metadata": {},
   "outputs": [],
   "source": [
    "/*\n",
    "Deletion of job is simple BST delete operation.\n",
    "\n",
    "A normal BST takes O(h) time for insert and delete operations. \n",
    "We can use self-balancing binary search trees like AVL, Red-Black, .. to do both operations in O(Log n) time.\n",
    "*/"
   ]
  },
  {
   "cell_type": "markdown",
   "metadata": {},
   "source": [
    "**BST delete :**   ***http://geeksquiz.com/binary-search-tree-set-2-delete/***"
   ]
  },
  {
   "cell_type": "markdown",
   "metadata": {},
   "source": [
    "## **379. Count BST subtrees that lie in given range**\n",
    "https://www.geeksforgeeks.org/count-bst-subtrees-that-lie-in-given-range/"
   ]
  },
  {
   "cell_type": "code",
   "execution_count": 15,
   "metadata": {},
   "outputs": [],
   "source": [
    "/*\n",
    "Given a Binary Search Tree (BST) of integer values and a range [low, high], \n",
    "    return count of nodes where all the nodes under that node (or subtree rooted with that node) lie in the given range.\n",
    "*/"
   ]
  },
  {
   "cell_type": "code",
   "execution_count": 16,
   "metadata": {},
   "outputs": [],
   "source": [
    "/*\n",
    "Examples:\n",
    "\n",
    "Input:\n",
    "        10\n",
    "      /    \\\n",
    "    5       50\n",
    "   /       /  \\\n",
    " 1       40   100\n",
    "Range: [5, 45]\n",
    "Output:  1 \n",
    "There is only 1 node whose subtree is in the given range.\n",
    "The node is 40 \n",
    "\n",
    "\n",
    "Input:\n",
    "        10\n",
    "      /    \\\n",
    "    5       50\n",
    "   /       /  \\\n",
    " 1       40   100\n",
    "Range: [1, 45]\n",
    "Output:  3 \n",
    "There are three nodes whose subtree is in the given range.\n",
    "The nodes are 1, 5 and 40 \n",
    "*/"
   ]
  },
  {
   "cell_type": "code",
   "execution_count": 17,
   "metadata": {},
   "outputs": [],
   "source": [
    "/*\n",
    "The idea is to traverse the given Binary Search Tree (BST) in bottom up manner. \n",
    "For every node, recur for its subtrees, \n",
    "    if subtrees are in range and the nodes is also in range, \n",
    "        then increment count and return true (to tell the parent about its status). \n",
    "    Count is passed as a pointer so that it can be incremented across all function calls.\n",
    "*/"
   ]
  },
  {
   "cell_type": "code",
   "execution_count": 18,
   "metadata": {},
   "outputs": [],
   "source": [
    "// A BST node \n",
    "static class node { \n",
    "    int data; \n",
    "    node left, right; \n",
    "}; \n",
    "\n",
    "// int class \n",
    "static class INT { \n",
    "    int a; \n",
    "} \n",
    "\n",
    "// A utility function to check if data of root is \n",
    "// in range from low to high \n",
    "static boolean inRange(node root, int low, int high) \n",
    "{ \n",
    "    return root.data >= low && root.data <= high; \n",
    "} "
   ]
  },
  {
   "cell_type": "code",
   "execution_count": 19,
   "metadata": {},
   "outputs": [],
   "source": [
    "// A recursive function to get count \n",
    "// of nodes whose subtree is in range \n",
    "// from low to hgih. This function returns \n",
    "// true if nodes in subtree rooted under \n",
    "// 'root' are in range. \n",
    "static boolean getCountUtil(node root, int low, \n",
    "                            int high, INT count) \n",
    "{ \n",
    "    // Base case \n",
    "    if (root == null) \n",
    "        return true; \n",
    "\n",
    "    // Recur for left and right subtrees \n",
    "    boolean l = getCountUtil(root.left, \n",
    "                             low, high, count); \n",
    "    boolean r = getCountUtil(root.right, \n",
    "                             low, high, count); \n",
    "\n",
    "    // If both left and right subtrees are \n",
    "    // in range and current node is also in \n",
    "    // range, then increment count and return true \n",
    "    if (l && r && inRange(root, low, high)) { \n",
    "        ++count.a; \n",
    "        return true; \n",
    "    } \n",
    "\n",
    "    return false; \n",
    "} "
   ]
  },
  {
   "cell_type": "code",
   "execution_count": 20,
   "metadata": {},
   "outputs": [],
   "source": [
    "// A wrapper over getCountUtil(). \n",
    "// This function initializes count as 0 \n",
    "// and calls getCountUtil() \n",
    "static INT getCount(node root, int low, int high) \n",
    "{ \n",
    "    INT count = new INT(); \n",
    "    count.a = 0; \n",
    "    getCountUtil(root, low, high, count); \n",
    "    return count; \n",
    "} \n",
    "\n",
    "// Utility function to create new node \n",
    "static node newNode(int data) \n",
    "{ \n",
    "    node temp = new node(); \n",
    "    temp.data = data; \n",
    "    temp.left = temp.right = null; \n",
    "    return (temp); \n",
    "} "
   ]
  },
  {
   "cell_type": "code",
   "execution_count": 21,
   "metadata": {},
   "outputs": [
    {
     "name": "stdout",
     "output_type": "stream",
     "text": [
      "Count of subtrees in [5, 45] is 1\n"
     ]
    }
   ],
   "source": [
    "// Driver code \n",
    "public static void main(String args[]) \n",
    "{ \n",
    "    // Let us con the BST shown in the above figure \n",
    "    node root = newNode(10); \n",
    "    root.left = newNode(5); \n",
    "    root.right = newNode(50); \n",
    "    root.left.left = newNode(1); \n",
    "    root.right.left = newNode(40); \n",
    "    root.right.right = newNode(100); \n",
    "    /* Let us coned BST shown in above example  \n",
    "    10  \n",
    "    / \\  \n",
    "    5 50  \n",
    "    / / \\  \n",
    "    1 40 100 */\n",
    "    int l = 5; \n",
    "    int h = 45; \n",
    "    System.out.println(\"Count of subtrees in [\" + l + \", \"\n",
    "                       + h + \"] is \" + getCount(root, l, h).a); \n",
    "} \n",
    "main(args);"
   ]
  },
  {
   "cell_type": "markdown",
   "metadata": {},
   "source": [
    "## **380. Replace every element with the least greater element on its right**\n",
    "https://www.geeksforgeeks.org/replace-every-element-with-the-least-greater-element-on-its-right/"
   ]
  },
  {
   "cell_type": "code",
   "execution_count": 22,
   "metadata": {},
   "outputs": [],
   "source": [
    "/*\n",
    "Given an array of integers, \n",
    "    replace every element with the least greater element on its right side in the array.\n",
    "If there are no greater element on right side, \n",
    "    replace it with -1.\n",
    "*/"
   ]
  },
  {
   "cell_type": "code",
   "execution_count": 23,
   "metadata": {},
   "outputs": [],
   "source": [
    "/*\n",
    "Examples:\n",
    "\n",
    "Input:  [8, 58, 71, 18, 31, 32, 63, 92, 43, 3, 91, 93, 25, 80, 28]\n",
    "Output: [18, 63, 80, 25, 32, 43, 80, 93, 80, 25, 93, -1, 28, -1, -1]\n",
    "*/"
   ]
  },
  {
   "cell_type": "code",
   "execution_count": 24,
   "metadata": {},
   "outputs": [],
   "source": [
    "/*\n",
    "A naive method is \n",
    "    to run two loops. \n",
    "    The outer loop will one by one pick array elements from left to right. \n",
    "    The inner loop will find the smallest element greater than the picked element on its right side. \n",
    "    \n",
    "    Finally the outer loop will replace the picked element with the element found by inner loop. \n",
    "    \n",
    "    The time complexity of this method will be O(n^2).\n",
    "*/"
   ]
  },
  {
   "cell_type": "code",
   "execution_count": 25,
   "metadata": {},
   "outputs": [],
   "source": [
    "/*\n",
    "A tricky solution would be \n",
    "    to use Binary Search Trees. \n",
    "    We start scanning the array from right to left and insert each element into the BST. \n",
    "    For each inserted element, \n",
    "        we replace it in the array by its inorder successor in BST. \n",
    "    If the element inserted is the maximum so far (i.e. its inorder successor doesn’t exists),\n",
    "        we replace it by -1.\n",
    "*/"
   ]
  },
  {
   "cell_type": "markdown",
   "metadata": {},
   "source": [
    "***https://ideone.com/KSALOm***"
   ]
  },
  {
   "cell_type": "code",
   "execution_count": 26,
   "metadata": {},
   "outputs": [],
   "source": [
    "/*\n",
    "Worst case time complexity of above solution is also O(n^2) as it uses BST. \n",
    "\n",
    "The worst case will happen \n",
    "    when array is sorted in ascending or descending order.\n",
    "    \n",
    "The complexity can easily be reduced to O(nlogn) by using balanced trees like red-black trees.\n",
    "*/"
   ]
  },
  {
   "cell_type": "markdown",
   "metadata": {},
   "source": [
    "## **381. Find the closest element in Binary Search Tree**\n",
    "https://www.geeksforgeeks.org/find-closest-element-binary-search-tree/"
   ]
  },
  {
   "cell_type": "code",
   "execution_count": 27,
   "metadata": {},
   "outputs": [],
   "source": [
    "/*\n",
    "Given a binary search tree and a target node K. \n",
    "The task is to find the node with minimum absolute difference with given target value K.\n",
    "*/"
   ]
  },
  {
   "cell_type": "markdown",
   "metadata": {},
   "source": [
    "<img src = \"https://www.geeksforgeeks.org/wp-content/uploads/BinarySearchTree-300x210.png\"/>"
   ]
  },
  {
   "cell_type": "code",
   "execution_count": 28,
   "metadata": {},
   "outputs": [],
   "source": [
    "/*\n",
    "Examples:\n",
    "\n",
    "// For above binary search tree\n",
    "Input  :  k = 4\n",
    "Output :  4\n",
    "\n",
    "Input  :  k = 18\n",
    "Output :  17\n",
    "\n",
    "Input  :  k = 12\n",
    "Output :  9\n",
    "*/"
   ]
  },
  {
   "cell_type": "code",
   "execution_count": 29,
   "metadata": {},
   "outputs": [],
   "source": [
    "/*\n",
    "A simple solution for this problem \n",
    "    is to store Inorder traversal of given binary search tree in an auxiliary array \n",
    "    and then by taking absolute difference of each element \n",
    "        find the node having minimum absolute difference with given target value K in linear time.\n",
    "*/"
   ]
  },
  {
   "cell_type": "code",
   "execution_count": 30,
   "metadata": {},
   "outputs": [],
   "source": [
    "/*\n",
    "An efficient solution for this problem is to take advantage of characteristics of BST. \n",
    "Here is the algorithm to solve this problem :\n",
    "\n",
    "--If target value K is present in given BST, \n",
    "    then it’s the node having minimum absolute difference.\n",
    "--If target value K is less than the value of current node \n",
    "    then move to the left child.\n",
    "--If target value K is greater than the value of current node \n",
    "    then move to the right child.\n",
    "    \n",
    "Time complexity : O(h) where h is height of given Binary Search Tree.\n",
    "*/"
   ]
  },
  {
   "cell_type": "code",
   "execution_count": 31,
   "metadata": {},
   "outputs": [],
   "source": [
    "static int min_diff, min_diff_key; \n",
    "        \n",
    "/*  A binary tree node has key, pointer to left child \n",
    "and a pointer to right child */\n",
    "static class Node \n",
    "{ \n",
    "    int key; \n",
    "      \n",
    "    Node  left,  right; \n",
    "}; \n",
    "   \n",
    "/*  Utility that allocates a new node with the \n",
    "  given key and null left and right pointers.  */\n",
    "  \n",
    "static Node  newnode(int key) \n",
    "{ \n",
    "      \n",
    "    Node  node = new Node(); \n",
    "    node.key = key; \n",
    "    node.left = node.right  = null; \n",
    "    return (node); \n",
    "} "
   ]
  },
  {
   "cell_type": "code",
   "execution_count": 32,
   "metadata": {},
   "outputs": [],
   "source": [
    "// Function to find node with minimum absolute \n",
    "// difference with given K \n",
    "// min_diff   -. minimum difference till now \n",
    "// min_diff_key  -. node having minimum absolute \n",
    "//                   difference with K \n",
    "static void maxDiffUtil(Node  ptr, int k) \n",
    "{ \n",
    "    if (ptr == null) \n",
    "        return ; \n",
    "   \n",
    "    // If k itself is present \n",
    "    if (ptr.key == k) \n",
    "    { \n",
    "        min_diff_key = k; \n",
    "        return; \n",
    "    } \n",
    "   \n",
    "    // update min_diff and min_diff_key by checking \n",
    "    // current node value \n",
    "    if (min_diff > Math.abs(ptr.key - k)) \n",
    "    { \n",
    "        min_diff = Math.abs(ptr.key - k); \n",
    "        min_diff_key = ptr.key; \n",
    "    } \n",
    "   \n",
    "    // if k is less than ptr.key then move in \n",
    "    // left subtree else in right subtree \n",
    "    if (k < ptr.key) \n",
    "        maxDiffUtil(ptr.left, k); \n",
    "    else\n",
    "        maxDiffUtil(ptr.right, k); \n",
    "} "
   ]
  },
  {
   "cell_type": "code",
   "execution_count": 33,
   "metadata": {},
   "outputs": [],
   "source": [
    "// Wrapper over maxDiffUtil() \n",
    "static int maxDiff(Node  root, int k) \n",
    "{ \n",
    "    // Initialize minimum difference \n",
    "    min_diff = 999999999; min_diff_key = -1; \n",
    "   \n",
    "    // Find value of min_diff_key (Closest key \n",
    "    // in tree with k) \n",
    "    maxDiffUtil(root, k); \n",
    "   \n",
    "    return min_diff_key; \n",
    "} "
   ]
  },
  {
   "cell_type": "code",
   "execution_count": 34,
   "metadata": {},
   "outputs": [
    {
     "name": "stdout",
     "output_type": "stream",
     "text": [
      "17\n"
     ]
    }
   ],
   "source": [
    "// Driver program to run the case \n",
    "public static void main(String args[]) \n",
    "{ \n",
    "      \n",
    "     Node  root = newnode(9); \n",
    "    root.left    = newnode(4); \n",
    "    root.right   = newnode(17); \n",
    "    root.left.left = newnode(3); \n",
    "    root.left.right = newnode(6); \n",
    "    root.left.right.left = newnode(5); \n",
    "    root.left.right.right = newnode(7); \n",
    "    root.right.right = newnode(22); \n",
    "    root.right.right.left = newnode(20); \n",
    "    int k = 18; \n",
    "    System.out.println( maxDiff(root, k)); \n",
    "      \n",
    "}\n",
    "main(args);"
   ]
  },
  {
   "cell_type": "markdown",
   "metadata": {},
   "source": [
    "## **382. Sum of k smallest elements in BST**\n",
    "https://www.geeksforgeeks.org/sum-k-smallest-elements-bst/"
   ]
  },
  {
   "cell_type": "code",
   "execution_count": 35,
   "metadata": {},
   "outputs": [],
   "source": [
    "/*\n",
    "Given Binary Search Tree. \n",
    "The task is \n",
    "    to find sum of all elements smaller than and equal to Kth smallest element.\n",
    "*/"
   ]
  },
  {
   "cell_type": "code",
   "execution_count": 36,
   "metadata": {},
   "outputs": [],
   "source": [
    "/*\n",
    "Examples:\n",
    "\n",
    "Input :  K = 3\n",
    "              8\n",
    "            /   \\\n",
    "           7     10\n",
    "         /      /   \\\n",
    "        2      9     13\n",
    "Output : 17\n",
    "Explanation : Kth smallest element is 8 so sum of all\n",
    "              element smaller then or equal to 8 are\n",
    "              2 + 7 + 8\n",
    "\n",
    "Input : K = 5\n",
    "           8\n",
    "         /   \\\n",
    "        5    11\n",
    "      /  \\\n",
    "     2    7\n",
    "      \\\n",
    "       3\n",
    "Output :  25\n",
    "*/"
   ]
  },
  {
   "cell_type": "code",
   "execution_count": 37,
   "metadata": {},
   "outputs": [],
   "source": [
    "/*\n",
    "Method 1 (Does not changes BST node structure)\n",
    "\n",
    "Time complexity : O(k)\n",
    "\n",
    "The idea is to traverse BST in inorder traversal. \n",
    "\n",
    "Note that Inorder traversal of BST accesses elements in sorted (or increasing) order. \n",
    "While traversing, \n",
    "    we keep track of count of visited Nodes and keep adding Nodes until the count becomes k.\n",
    "*/"
   ]
  },
  {
   "cell_type": "markdown",
   "metadata": {},
   "source": [
    "***https://ideone.com/Nd7QsK***"
   ]
  },
  {
   "cell_type": "code",
   "execution_count": 38,
   "metadata": {},
   "outputs": [],
   "source": [
    "/*\n",
    "Method 2 (Efficient and changes structure of BST)\n",
    "\n",
    "Time Complexity: O(h) where h is height of tree.\n",
    "\n",
    "We can find the required sum in O(h) time where h is height of BST. \n",
    "Idea is similar to Kth-th smallest element in BST . \n",
    "\n",
    "Here we use augmented tree data structure \n",
    "    to solve this problem efficiently in O(h) time [ h is height of BST ] .\n",
    "*/"
   ]
  },
  {
   "cell_type": "markdown",
   "metadata": {},
   "source": [
    "***https://ideone.com/wo0lS2***"
   ]
  },
  {
   "cell_type": "markdown",
   "metadata": {},
   "source": [
    "## **383. Maximum element between two nodes of BST**\n",
    "https://www.geeksforgeeks.org/maximum-element-two-nodes-bst/"
   ]
  },
  {
   "cell_type": "code",
   "execution_count": 39,
   "metadata": {},
   "outputs": [],
   "source": [
    "/*\n",
    "Given an array of N elements and two integers A, B which belongs to the given array. \n",
    "\n",
    "Create a Binary Search Tree by inserting element from arr[0] to arr[n-1]. \n",
    "The task is to \n",
    "    find the maximum element in the path from A to B.\n",
    "*/"
   ]
  },
  {
   "cell_type": "code",
   "execution_count": 40,
   "metadata": {},
   "outputs": [],
   "source": [
    "/*\n",
    "Examples :\n",
    "\n",
    "Input : arr[] = { 18, 36, 9, 6, 12, 10, 1, 8 }, \n",
    "        a = 1, \n",
    "        b = 10.\n",
    "\n",
    "Output : 12\n",
    "\n",
    "Explanation : Path from 1 to 10 contains { 1, 6, 9, 12, 10 }. Maximum element is 12.\n",
    "*/"
   ]
  },
  {
   "cell_type": "markdown",
   "metadata": {},
   "source": [
    "<img src = \"https://media.geeksforgeeks.org/wp-content/uploads/tree8.png\"/>"
   ]
  },
  {
   "cell_type": "code",
   "execution_count": 41,
   "metadata": {},
   "outputs": [],
   "source": [
    "/*\n",
    "Time complexity : O(h) where h is height of BST\n",
    "\n",
    "The idea is to find Lowest Common Ancestor of node ‘a’ and node ‘b’. \n",
    "Then search maximum node between LCA and ‘a’, \n",
    "    also find maximum node between LCA and ‘b’. \n",
    "Answer will be maximum node of two.\n",
    "*/"
   ]
  },
  {
   "cell_type": "code",
   "execution_count": 42,
   "metadata": {},
   "outputs": [],
   "source": [
    "static class Node \n",
    "{ \n",
    "     Node left, right; \n",
    "    int data; \n",
    "} \n",
    "   \n",
    "// Create and return a pointer of new Node. \n",
    "static Node createNode(int x) \n",
    "{ \n",
    "    Node p = new Node(); \n",
    "    p . data = x; \n",
    "    p . left = p . right = null; \n",
    "    return p; \n",
    "} \n",
    "   \n",
    "// Insert a new Node in Binary Search Tree. \n",
    "static void insertNode( Node root, int x) \n",
    "{ \n",
    "    Node p = root, q = null; \n",
    "   \n",
    "    while (p != null) \n",
    "    { \n",
    "        q = p; \n",
    "        if (p . data < x) \n",
    "            p = p . right; \n",
    "        else\n",
    "            p = p . left; \n",
    "    } \n",
    "   \n",
    "    if (q == null) \n",
    "        p = createNode(x); \n",
    "    else\n",
    "    { \n",
    "        if (q . data < x) \n",
    "            q . right = createNode(x); \n",
    "        else\n",
    "            q . left = createNode(x); \n",
    "    } \n",
    "} "
   ]
  },
  {
   "cell_type": "code",
   "execution_count": 43,
   "metadata": {},
   "outputs": [],
   "source": [
    "// Return the maximum element between a Node \n",
    "// and its given ancestor. \n",
    "static int maxelpath(Node q, int x) \n",
    "{ \n",
    "    Node p = q; \n",
    "   \n",
    "    int mx = -1; \n",
    "   \n",
    "    // Traversing the path between ansector and \n",
    "    // Node and finding maximum element. \n",
    "    while (p . data != x) \n",
    "    { \n",
    "        if (p . data > x) \n",
    "        { \n",
    "            mx = Math.max(mx, p . data); \n",
    "            p = p . left; \n",
    "        } \n",
    "        else\n",
    "        { \n",
    "            mx = Math.max(mx, p . data); \n",
    "            p = p . right; \n",
    "        } \n",
    "    } \n",
    "   \n",
    "    return Math.max(mx, x); \n",
    "} \n",
    "   \n",
    "// Return maximum element in the path between \n",
    "// two given Node of BST. \n",
    "static int maximumElement( Node root, int x, int y) \n",
    "{ \n",
    "    Node p = root; \n",
    "   \n",
    "    // Finding the LCA of Node x and Node y \n",
    "    while ((x < p . data && y < p . data) || \n",
    "        (x > p . data && y > p . data)) \n",
    "    { \n",
    "        // Checking if both the Node lie on the \n",
    "        // left side of the parent p. \n",
    "        if (x < p . data && y < p . data) \n",
    "            p = p . left; \n",
    "   \n",
    "        // Checking if both the Node lie on the \n",
    "        // right side of the parent p. \n",
    "        else if (x > p . data && y > p . data) \n",
    "            p = p . right; \n",
    "    } \n",
    "   \n",
    "    // Return the maximum of maximum elements occur \n",
    "    // in path from ancestor to both Node. \n",
    "    return Math.max(maxelpath(p, x), maxelpath(p, y)); \n",
    "} "
   ]
  },
  {
   "cell_type": "code",
   "execution_count": 44,
   "metadata": {},
   "outputs": [
    {
     "name": "stdout",
     "output_type": "stream",
     "text": [
      "12\n"
     ]
    }
   ],
   "source": [
    "// Driver Code \n",
    "public static void main(String args[]) \n",
    "{ \n",
    "    int arr[] = { 18, 36, 9, 6, 12, 10, 1, 8 }; \n",
    "    int a = 1, b = 10; \n",
    "    int n =arr.length; \n",
    "   \n",
    "    // Creating the root of Binary Search Tree \n",
    "     Node root = createNode(arr[0]); \n",
    "   \n",
    "    // Inserting Nodes in Binary Search Tree \n",
    "    for (int i = 1; i < n; i++) \n",
    "        insertNode(root, arr[i]); \n",
    "   \n",
    "    System.out.println( maximumElement(root, a, b) ); \n",
    "   \n",
    "} \n",
    "main(args);"
   ]
  },
  {
   "cell_type": "markdown",
   "metadata": {},
   "source": [
    "## **384. Binary Search Tree insert with Parent Pointer**\n",
    "https://www.geeksforgeeks.org/binary-search-tree-insert-parent-pointer/"
   ]
  },
  {
   "cell_type": "code",
   "execution_count": 45,
   "metadata": {},
   "outputs": [],
   "source": [
    "/*\n",
    "How to insert in a tree where parent pointer needs to be maintained. \n",
    "Parent pointers are helpful to quickly find ancestors of a node, LCA of two nodes, successor of a node, etc.\n",
    "*/"
   ]
  },
  {
   "cell_type": "markdown",
   "metadata": {},
   "source": [
    "**Related Link :**  ***http://quiz.geeksforgeeks.org/binary-search-tree-set-1-search-and-insertion/***"
   ]
  },
  {
   "cell_type": "code",
   "execution_count": 46,
   "metadata": {},
   "outputs": [],
   "source": [
    "/*\n",
    "In recursive calls of simple insertion, \n",
    "we return pointer of root of subtree created in a subtree. \n",
    "\n",
    "So the idea is to store this pointer for left and right subtrees. \n",
    "We set parent pointers of this returned pointers after the recursive calls.\n",
    "This makes sure that all parent pointers are set during insertion.\n",
    "Parent of root is set to NULL.\n",
    "We handle this by assigning parent as NULL by default to all newly allocated nodes.\n",
    "*/"
   ]
  },
  {
   "cell_type": "code",
   "execution_count": 47,
   "metadata": {},
   "outputs": [],
   "source": [
    "static class Node  \n",
    "{  \n",
    "    int key;  \n",
    "    Node left, right, parent;  \n",
    "} \n",
    "  \n",
    "// A utility function to create a new BST Node  \n",
    "static Node newNode(int item)  \n",
    "{  \n",
    "    Node temp = new Node();  \n",
    "    temp.key = item;  \n",
    "    temp.left = null; \n",
    "    temp.right = null;  \n",
    "    temp.parent = null;  \n",
    "    return temp;  \n",
    "} "
   ]
  },
  {
   "cell_type": "code",
   "execution_count": 48,
   "metadata": {},
   "outputs": [],
   "source": [
    "// A utility function to do inorder traversal of BST  \n",
    "static void inorder(Node root)  \n",
    "{  \n",
    "    if (root != null)  \n",
    "    {  \n",
    "        inorder(root.left);  \n",
    "        System.out.print(\"Node : \"+ root.key + \" , \");  \n",
    "        if (root.parent == null)  \n",
    "        System.out.println(\"Parent : NULL\");  \n",
    "        else\n",
    "        System.out.println(\"Parent : \" + root.parent.key);  \n",
    "        inorder(root.right);  \n",
    "    }  \n",
    "}  \n",
    "  \n",
    "/* A utility function to insert a new Node with  \n",
    "given key in BST */\n",
    "static Node insert(Node node, int key)  \n",
    "{  \n",
    "    /* If the tree is empty, return a new Node */\n",
    "    if (node == null) return newNode(key);  \n",
    "  \n",
    "    /* Otherwise, recur down the tree */\n",
    "    if (key < node.key)  \n",
    "    {  \n",
    "        Node lchild = insert(node.left, key);  \n",
    "        node.left = lchild;  \n",
    "  \n",
    "        // Set parent of root of left subtree  \n",
    "        lchild.parent = node;  \n",
    "    }  \n",
    "    else if (key > node.key)  \n",
    "    {  \n",
    "        Node rchild = insert(node.right, key);  \n",
    "        node.right = rchild;  \n",
    "  \n",
    "        // Set parent of root of right subtree  \n",
    "        rchild.parent = node;  \n",
    "    }  \n",
    "  \n",
    "    /* return the (unchanged) Node pointer */\n",
    "    return node;  \n",
    "}"
   ]
  },
  {
   "cell_type": "code",
   "execution_count": 49,
   "metadata": {},
   "outputs": [
    {
     "name": "stdout",
     "output_type": "stream",
     "text": [
      "Node : 20 , Parent : 30\n",
      "Node : 30 , Parent : 50\n",
      "Node : 40 , Parent : 30\n",
      "Node : 50 , Parent : NULL\n",
      "Node : 60 , Parent : 70\n",
      "Node : 70 , Parent : 50\n",
      "Node : 80 , Parent : 70\n"
     ]
    }
   ],
   "source": [
    "// Driver Program to test above functions  \n",
    "public static void main(String[] args)  \n",
    "{  \n",
    "    /* Let us create following BST  \n",
    "            50  \n",
    "        /     \\  \n",
    "        30     70  \n",
    "        / \\ / \\  \n",
    "    20 40 60 80 */\n",
    "    Node root = null;  \n",
    "    root = insert(root, 50);  \n",
    "    insert(root, 30);  \n",
    "    insert(root, 20);  \n",
    "    insert(root, 40);  \n",
    "    insert(root, 70);  \n",
    "    insert(root, 60);  \n",
    "    insert(root, 80);  \n",
    "  \n",
    "    // print iNoder traversal of the BST  \n",
    "    inorder(root);  \n",
    "} \n",
    "main(args);"
   ]
  },
  {
   "cell_type": "markdown",
   "metadata": {},
   "source": [
    "## **385. Largest BST in a Binary Tree | Set 2**\n",
    "https://www.geeksforgeeks.org/largest-bst-binary-tree-set-2/"
   ]
  },
  {
   "cell_type": "code",
   "execution_count": 50,
   "metadata": {},
   "outputs": [],
   "source": [
    "/*\n",
    "Given a Binary Tree, \n",
    "    write a function that returns the size of the largest subtree which is also a Binary Search Tree (BST). \n",
    "If the complete Binary Tree is BST, \n",
    "    then return the size of the whole tree.\n",
    "*/"
   ]
  },
  {
   "cell_type": "code",
   "execution_count": 51,
   "metadata": {},
   "outputs": [],
   "source": [
    "/*\n",
    "Examples:\n",
    "\n",
    "Input: \n",
    "      5\n",
    "    /  \\\n",
    "   2    4\n",
    " /  \\\n",
    "1    3\n",
    "\n",
    "Output: 3 \n",
    "The following subtree is the \n",
    "maximum size BST subtree \n",
    "   2  \n",
    " /  \\\n",
    "1    3\n",
    "\n",
    "\n",
    "Input: \n",
    "       50\n",
    "     /    \\\n",
    "  30       60\n",
    " /  \\     /  \\ \n",
    "5   20   45    70\n",
    "              /  \\\n",
    "            65    80\n",
    "Output: 5\n",
    "The following subtree is the\n",
    "maximum size BST subtree \n",
    "      60\n",
    "     /  \\ \n",
    "   45    70\n",
    "        /  \\\n",
    "      65    80\n",
    "*/"
   ]
  },
  {
   "cell_type": "markdown",
   "metadata": {},
   "source": [
    "**Related Link :**  ***https://www.geeksforgeeks.org/find-the-largest-subtree-in-a-tree-that-is-also-a-bst/***"
   ]
  },
  {
   "cell_type": "code",
   "execution_count": 52,
   "metadata": {},
   "outputs": [],
   "source": [
    "/*\n",
    "Time Complexity : O(n)\n",
    "\n",
    "A Tree is BST if following is true for every node x.\n",
    "\n",
    "1. The largest value in left subtree (of x) is smaller than value of x.\n",
    "2. The smallest value in right subtree (of x) is greater than value of x.\n",
    "\n",
    "We traverse tree in bottom up manner. \n",
    "For every traversed node,\n",
    "    we return maximum and minimum values in subtree rooted with it. \n",
    "    If any node follows above properties and size of\n",
    "*/"
   ]
  },
  {
   "cell_type": "markdown",
   "metadata": {},
   "source": [
    "***https://ideone.com/Bj3NNY***"
   ]
  },
  {
   "cell_type": "markdown",
   "metadata": {},
   "source": [
    "## **386. Leaf nodes from Preorder of a Binary Search Tree**\n",
    "https://www.geeksforgeeks.org/leaf-nodes-preorder-binary-search-tree/"
   ]
  },
  {
   "cell_type": "code",
   "execution_count": 53,
   "metadata": {},
   "outputs": [],
   "source": [
    "/*\n",
    "Given a Preorder traversal of a Binary Search Tree. \n",
    "The task is to print leaf nodes of the Binary Search Tree from the given preorder.\n",
    "*/"
   ]
  },
  {
   "cell_type": "code",
   "execution_count": 54,
   "metadata": {},
   "outputs": [],
   "source": [
    "/*\n",
    "Examples:\n",
    "\n",
    "Input : preorder[] = {890, 325, 290, 530, 965};\n",
    "Output : 290 530 965\n",
    "Explanation : Tree represented is,\n",
    "      890\n",
    "     /   \\\n",
    "  325    965\n",
    "  /  \\\n",
    "290   530\n",
    "\n",
    "Input : preorder[] = { 3, 2, 4 };\n",
    "Output : 2 4\n",
    "*/"
   ]
  },
  {
   "cell_type": "code",
   "execution_count": 55,
   "metadata": {},
   "outputs": [],
   "source": [
    "/*\n",
    "Time Complexity: O(n log n)\n",
    "Auxiliary Space: O(n)\n",
    "\n",
    "Method 1: (Simple)\n",
    "\n",
    "The idea is to find Iorder, \n",
    "    then traverse the tree in preorder fashion (using both inorder and postorder traversals) \n",
    "    and while traversing print leaf nodes.\n",
    "\n",
    "How to traverse in preorder fashion using two arrays representing inorder and preorder traversals?\n",
    "\n",
    "We iterate the preorder array and for each element find that element in the inorder array. \n",
    "For searching, we can use binary search, since inorder traversal of binary search tree is always sorted.\n",
    "Now, for each element of preorder array, in binary search we set the range [L, R].\n",
    "And when L == R, leaf node is found.\n",
    "So, initially, L = 0 and R = n – 1 for first element (i.e root) of preorder array. \n",
    "Now, to search for element on the left subtree of root,\n",
    "    set L = 0 and R = index of root – 1. \n",
    "Also, for all element of right subtree set L = index of root + 1 and R = n -1.\n",
    "Recursively, follow this, until L == R.\n",
    "\n",
    "Below is implementation of this approach:\n",
    "*/"
   ]
  },
  {
   "cell_type": "code",
   "execution_count": 56,
   "metadata": {},
   "outputs": [],
   "source": [
    "// Binary Search \n",
    "static int binarySearch(int inorder[], int l,  \n",
    "                        int r, int d) \n",
    "{ \n",
    "    int mid = (l + r) >> 1; \n",
    "  \n",
    "    if (inorder[mid] == d) \n",
    "        return mid; \n",
    "  \n",
    "    else if (inorder[mid] > d) \n",
    "        return binarySearch(inorder, l, \n",
    "                            mid - 1, d); \n",
    "  \n",
    "    else\n",
    "        return binarySearch(inorder,  \n",
    "                            mid + 1, r, d); \n",
    "} \n",
    "  \n",
    "// Point to the index in preorder. \n",
    "static int ind; "
   ]
  },
  {
   "cell_type": "code",
   "execution_count": 57,
   "metadata": {},
   "outputs": [],
   "source": [
    "// Function to print Leaf Nodes by  \n",
    "// doing preorder traversal of tree \n",
    "// using preorder and inorder arrays. \n",
    "static void leafNodesRec(int preorder[],  \n",
    "                         int inorder[], \n",
    "                         int l, int r, int n) \n",
    "{ \n",
    "    // If l == r, therefore no right or left subtree. \n",
    "    // So, it must be leaf Node, print it. \n",
    "    if(l == r) \n",
    "    { \n",
    "        System.out.printf(\"%d \", inorder[l]); \n",
    "        ind = ind + 1; \n",
    "        return; \n",
    "    } \n",
    "  \n",
    "    // If array is out of bound, return. \n",
    "    if (l < 0 || l > r || r >= n) \n",
    "        return; \n",
    "  \n",
    "    // Finding the index of preorder element \n",
    "    // in inorder array using binary search. \n",
    "    int loc = binarySearch(inorder, l, r,  \n",
    "                           preorder[ind]); \n",
    "  \n",
    "    // Incrementing the index. \n",
    "    ind = ind + 1; \n",
    "  \n",
    "    // Finding on the left subtree. \n",
    "    leafNodesRec(preorder, inorder, \n",
    "                    l, loc - 1, n); \n",
    "  \n",
    "    // Finding on the right subtree. \n",
    "    leafNodesRec(preorder, inorder,  \n",
    "                    loc + 1, r, n); \n",
    "} \n",
    "  \n",
    "// Finds leaf nodes from given preorder traversal. \n",
    "static void leafNodes(int preorder[], int n) \n",
    "{ \n",
    "    // To store inorder traversal \n",
    "    int inorder[] = new int[n];  \n",
    "  \n",
    "    // Copy the preorder into another array. \n",
    "    for (int i = 0; i < n; i++) \n",
    "        inorder[i] = preorder[i]; \n",
    "  \n",
    "    // Finding the inorder by sorting the array. \n",
    "    Arrays.sort(inorder); \n",
    "  \n",
    "    // Print the Leaf Nodes. \n",
    "    leafNodesRec(preorder, inorder, 0, n - 1, n); \n",
    "} "
   ]
  },
  {
   "cell_type": "code",
   "execution_count": 58,
   "metadata": {},
   "outputs": [
    {
     "name": "stdout",
     "output_type": "stream",
     "text": [
      "290 530 965 "
     ]
    }
   ],
   "source": [
    "// Driver Code \n",
    "public static void main(String args[]) \n",
    "{ \n",
    "    int preorder[] = { 890, 325, 290, 530, 965 }; \n",
    "    int n = preorder.length; \n",
    "  \n",
    "    leafNodes(preorder, n); \n",
    "} \n",
    "main(args);"
   ]
  },
  {
   "cell_type": "code",
   "execution_count": 59,
   "metadata": {},
   "outputs": [],
   "source": [
    "/*\n",
    "Time Complexity: O(n)\n",
    "\n",
    "Method 2:(using Stack)\n",
    "\n",
    "The idea is to use the property of the Binary Search Tree and stack.\n",
    "\n",
    "Traverse the array using two pointer i and j to the array,\n",
    "    initially i = 0 and j = 1.\n",
    "Whenever a[i] > a[j], we can say a[j] is left part of a[i], \n",
    "    since preorder traversal follows Visit -> Left -> Right. \n",
    "    So, we push a[i] into the stack.\n",
    "For those points voilating the rule, \n",
    "    we start to pop element from the stack till a[i] > top element of the stack \n",
    "    and break when it doesn’t and print the corresponding jth value.\n",
    "*/"
   ]
  },
  {
   "cell_type": "code",
   "execution_count": 60,
   "metadata": {},
   "outputs": [],
   "source": [
    "/*\n",
    "Algorithm:\n",
    "\n",
    "1. Set i = 0, j = 1.\n",
    "2. Traverse the preorder array.\n",
    "3. If a[i] > a[j], push a[i] to the stack.\n",
    "4. Else\n",
    "   While (stack is not empty)\n",
    "     if (a[j] > top of stack)\n",
    "       pop element from the stack;\n",
    "       set found = true;\n",
    "     else\n",
    "       break;\n",
    "5. if (found == true)\n",
    "     print a[i];\n",
    "*/"
   ]
  },
  {
   "cell_type": "code",
   "execution_count": 61,
   "metadata": {},
   "outputs": [],
   "source": [
    "/*\n",
    "How this algorithm works?\n",
    "\n",
    "Preorder traversal traverse in the order: \n",
    "    Visit, Left, Right.\n",
    "And we know left node of any node in BST is always less than node. \n",
    "So preorder traversal will first traverse from root to leftmost node. \n",
    "Therefore,\n",
    "    preorder will be in decreasing order first. \n",
    "Now, after decreasing order there may be node which is greater or which break the decreasing order. \n",
    "So, there can be case like this :\n",
    "*/"
   ]
  },
  {
   "cell_type": "markdown",
   "metadata": {},
   "source": [
    "<img src = \"https://media.geeksforgeeks.org/wp-content/uploads/LeafNodeFromPreorder.png\"/>"
   ]
  },
  {
   "cell_type": "code",
   "execution_count": 62,
   "metadata": {},
   "outputs": [],
   "source": [
    "/*\n",
    "In case 1, \n",
    "    20 is leaf node whereas \n",
    "in case 2, \n",
    "    20 is not the leaf node.\n",
    "\n",
    "So, our problem is how to identify if we have to print 20 as leaf node or not?\n",
    "\n",
    "This is solved using stack.\n",
    "While running above algorithm on case 1 and case 2,\n",
    "    when i = 2 and j = 3, state of stack will be same in both the case :\n",
    "*/"
   ]
  },
  {
   "cell_type": "markdown",
   "metadata": {},
   "source": [
    "<img src = \"https://media.geeksforgeeks.org/wp-content/uploads/LeafFromPreorder.png\"/>"
   ]
  },
  {
   "cell_type": "code",
   "execution_count": 63,
   "metadata": {},
   "outputs": [],
   "source": [
    "/*\n",
    "So, node 65 will pop 20 and 50 from the stack.\n",
    "This is because 65 is the right child of a node which is before 20.\n",
    "This information we store using found variable.\n",
    "So, 20 is a root node.\n",
    "\n",
    "While in case 2, \n",
    "    40 will not able to pop any element from the stack.\n",
    "    Because 40 is right node of a node which is after 20.\n",
    "    So, 20 is not a leaf node.\n",
    "\n",
    "Note: In the algorithm,\n",
    "    we will not be able to check condition of leaf node of rightmost node or rightmost element of the preorder. \n",
    "    So, simply print the rightmost node because we know this will always be leaf node in preorder traversal.\n",
    "*/"
   ]
  },
  {
   "cell_type": "code",
   "execution_count": 64,
   "metadata": {},
   "outputs": [],
   "source": [
    "// Print the leaf node from the given preorder of BST.  \n",
    "static void leafNode(int preorder[], int n)  \n",
    "{  \n",
    "    Stack<Integer> s = new Stack<Integer> ();  \n",
    "    for (int i = 0, j = 1; j < n; i++, j++)  \n",
    "    {  \n",
    "        boolean found = false;  \n",
    "  \n",
    "        if (preorder[i] > preorder[j])  \n",
    "            s.push(preorder[i]);  \n",
    "  \n",
    "        else\n",
    "        {  \n",
    "            while (!s.isEmpty())  \n",
    "            {  \n",
    "                if (preorder[j] > s.peek())  \n",
    "                {  \n",
    "                    s.pop();  \n",
    "                    found = true;  \n",
    "                }  \n",
    "                else\n",
    "                    break;  \n",
    "            }  \n",
    "        }  \n",
    "  \n",
    "        if (found)  \n",
    "            System.out.print(preorder[i] + \" \");  \n",
    "    }  \n",
    "  \n",
    "    // Since rightmost element is always leaf node.  \n",
    "    System.out.println(preorder[n - 1]);  \n",
    "}  "
   ]
  },
  {
   "cell_type": "code",
   "execution_count": 65,
   "metadata": {},
   "outputs": [
    {
     "name": "stdout",
     "output_type": "stream",
     "text": [
      "290 530 965\n"
     ]
    }
   ],
   "source": [
    "// Driver code  \n",
    "public static void main(String[] args)  \n",
    "{  \n",
    "    int preorder[] = { 890, 325, 290, 530, 965 };  \n",
    "    int n = preorder.length;  \n",
    "  \n",
    "    leafNode(preorder, n);  \n",
    "}  \n",
    "main(args);"
   ]
  },
  {
   "cell_type": "markdown",
   "metadata": {},
   "source": [
    "**Related Link :**   ***https://www.geeksforgeeks.org/leaf-nodes-preorder-binary-search-treeusing-recursion/***"
   ]
  },
  {
   "cell_type": "markdown",
   "metadata": {},
   "source": [
    "## **387. Find median of BST in O(n) time and O(1) space**\n",
    "https://www.geeksforgeeks.org/find-median-bst-time-o1-space/"
   ]
  },
  {
   "cell_type": "code",
   "execution_count": 66,
   "metadata": {},
   "outputs": [],
   "source": [
    "/*\n",
    "Given a Binary Search Tree, find median of it.\n",
    "\n",
    "If no. of nodes are even: \n",
    "    then median = ((n/2th node + (n+1)/2th node) /2\n",
    "If no. of nodes are odd : \n",
    "    then median = (n+1)/2th node.\n",
    "\n",
    "For example, median of below BST is 12.\n",
    "*/"
   ]
  },
  {
   "cell_type": "markdown",
   "metadata": {},
   "source": [
    "<img src = \"https://media.geeksforgeeks.org/wp-content/cdn-uploads/BST.gif\"/>"
   ]
  },
  {
   "cell_type": "code",
   "execution_count": 67,
   "metadata": {},
   "outputs": [],
   "source": [
    "/*\n",
    "More Examples:\n",
    "\n",
    " Given BST(with odd no. of nodes) is : \n",
    "                    6\n",
    "                 /    \\\n",
    "                3       8\n",
    "              /   \\    /  \\\n",
    "             1     4  7    9\n",
    "\n",
    "Inorder of Given BST will be : 1, 3, 4, 6, 7, 8, 9\n",
    "So, here median will 6.\n",
    "\n",
    "Given BST(with even no. of nodes) is :  \n",
    "                    6\n",
    "                 /    \\\n",
    "                3       8\n",
    "              /   \\    /  \n",
    "             1     4  7    \n",
    "\n",
    "Inorder of Given BST will be : 1, 3, 4, 6, 7, 8\n",
    "So, here median will  (4+6)/2 = 5.\n",
    "*/"
   ]
  },
  {
   "cell_type": "code",
   "execution_count": 68,
   "metadata": {},
   "outputs": [],
   "source": [
    "/*\n",
    "To find the median,\n",
    "    we need to find the Inorder of the BST because its Inorder will be in sorted order \n",
    "    and then find the median i.e.\n",
    "\n",
    "The idea is based on K’th smallest element in BST using O(1) Extra Space\n",
    "\n",
    "The task is very simple if we are allowed to use extra space \n",
    "but Inorder traversal using recursion and stack both uses Space which is not allowed here. \n",
    "\n",
    "So, the solution is to do Morris Inorder traversal as it doesn’t require any extra space.\n",
    "*/"
   ]
  },
  {
   "cell_type": "markdown",
   "metadata": {},
   "source": [
    "**K’th smallest element in BST using O(1) Extra Space :**   ***https://www.geeksforgeeks.org/kth-smallest-element-in-bst-using-o1-extra-space/***"
   ]
  },
  {
   "cell_type": "markdown",
   "metadata": {},
   "source": [
    "**Morris Inorder traversal :**   ***https://www.geeksforgeeks.org/inorder-tree-traversal-without-recursion-and-without-stack/****"
   ]
  },
  {
   "cell_type": "code",
   "execution_count": 69,
   "metadata": {},
   "outputs": [],
   "source": [
    "/*\n",
    "Implementation:\n",
    "1- Count the no. of nodes in the given BST\n",
    "   using Morris Inorder Traversal.\n",
    "2- Then Perform Morris Inorder traversal one \n",
    "   more time by counting nodes and by checking if \n",
    "   count is equal to the median point.\n",
    "   To consider even no. of nodes an extra pointer\n",
    "   pointing to the previous node is used.\n",
    "*/"
   ]
  },
  {
   "cell_type": "code",
   "execution_count": 70,
   "metadata": {},
   "outputs": [],
   "source": [
    "/* A binary search tree Node has data, pointer  \n",
    "to left child and a pointer to right child */\n",
    "static class Node  \n",
    "{  \n",
    "    int data;  \n",
    "    Node left, right;  \n",
    "} \n",
    "  \n",
    "// A utility function to create a new BST node  \n",
    "static Node newNode(int item)  \n",
    "{  \n",
    "    Node temp = new Node();  \n",
    "    temp.data = item;  \n",
    "    temp.left = null; \n",
    "    temp.right = null;  \n",
    "    return temp;  \n",
    "}  \n",
    "  \n",
    "/* A utility function to insert a new node with  \n",
    "given key in BST */\n",
    "static Node insert(Node node, int key)  \n",
    "{  \n",
    "    /* If the tree is empty, return a new node */\n",
    "    if (node == null) return newNode(key);  \n",
    "  \n",
    "    /* Otherwise, recur down the tree */\n",
    "    if (key < node.data)  \n",
    "        node.left = insert(node.left, key);  \n",
    "    else if (key > node.data)  \n",
    "        node.right = insert(node.right, key);  \n",
    "  \n",
    "    /* return the (unchanged) node pointer */\n",
    "    return node;  \n",
    "}  "
   ]
  },
  {
   "cell_type": "code",
   "execution_count": 71,
   "metadata": {},
   "outputs": [],
   "source": [
    "/* Function to count nodes in a binary search tree  \n",
    "using Morris Inorder traversal*/\n",
    "static int counNodes(Node root)  \n",
    "{  \n",
    "    Node current, pre;  \n",
    "  \n",
    "    // Initialise count of nodes as 0  \n",
    "    int count = 0;  \n",
    "  \n",
    "    if (root == null)  \n",
    "        return count;  \n",
    "  \n",
    "    current = root;  \n",
    "    while (current != null)  \n",
    "    {  \n",
    "        if (current.left == null)  \n",
    "        {  \n",
    "            // Count node if its left is NULL  \n",
    "            count++;  \n",
    "  \n",
    "            // Move to its right  \n",
    "            current = current.right;  \n",
    "        }  \n",
    "        else\n",
    "        {  \n",
    "            /* Find the inorder predecessor of current */\n",
    "            pre = current.left;  \n",
    "  \n",
    "            while (pre.right != null &&  \n",
    "                pre.right != current)  \n",
    "                pre = pre.right;  \n",
    "  \n",
    "            /* Make current as right child of its  \n",
    "            inorder predecessor */\n",
    "            if(pre.right == null)  \n",
    "            {  \n",
    "                pre.right = current;  \n",
    "                current = current.left;  \n",
    "            }  \n",
    "  \n",
    "            /* Revert the changes made in if part to  \n",
    "            restore the original tree i.e., fix  \n",
    "            the right child of predecssor */\n",
    "            else\n",
    "            {  \n",
    "                pre.right = null;  \n",
    "  \n",
    "                // Increment count if the current  \n",
    "                // node is to be visited  \n",
    "                count++;  \n",
    "                current = current.right;  \n",
    "            } /* End of if condition pre->right == NULL */\n",
    "        } /* End of if condition current->left == NULL*/\n",
    "    } /* End of while */\n",
    "  \n",
    "    return count;  \n",
    "}  "
   ]
  },
  {
   "cell_type": "code",
   "execution_count": 72,
   "metadata": {},
   "outputs": [],
   "source": [
    "/* Function to find median in O(n) time and O(1) space  \n",
    "using Morris Inorder traversal*/\n",
    "static int findMedian(Node root)  \n",
    "{  \n",
    "if (root == null)  \n",
    "        return 0;  \n",
    "  \n",
    "    int count = counNodes(root);  \n",
    "    int currCount = 0;  \n",
    "    Node current = root, pre = null, prev = null;  \n",
    "  \n",
    "    while (current != null)  \n",
    "    {  \n",
    "        if (current.left == null)  \n",
    "        {  \n",
    "            // count current node  \n",
    "            currCount++;  \n",
    "  \n",
    "            // check if current node is the median  \n",
    "            // Odd case  \n",
    "            if (count % 2 != 0 && currCount == (count+1)/2)  \n",
    "                return prev.data;  \n",
    "  \n",
    "            // Even case  \n",
    "            else if (count % 2 == 0 && currCount == (count/2)+1)  \n",
    "                return (prev.data + current.data)/2;  \n",
    "  \n",
    "            // Update prev for even no. of nodes  \n",
    "            prev = current;  \n",
    "  \n",
    "            //Move to the right  \n",
    "            current = current.right;  \n",
    "        }  \n",
    "        else\n",
    "        {  \n",
    "            /* Find the inorder predecessor of current */\n",
    "            pre = current.left;  \n",
    "            while (pre.right != null && pre.right != current)  \n",
    "                pre = pre.right;  \n",
    "  \n",
    "            /* Make current as right child of its inorder predecessor */\n",
    "            if (pre.right == null)  \n",
    "            {  \n",
    "                pre.right = current;  \n",
    "                current = current.left;  \n",
    "            }  \n",
    "  \n",
    "            /* Revert the changes made in if part to restore the original  \n",
    "            tree i.e., fix the right child of predecssor */\n",
    "            else\n",
    "            {  \n",
    "                pre.right = null;  \n",
    "  \n",
    "                prev = pre;  \n",
    "  \n",
    "                // Count current node  \n",
    "                currCount++;  \n",
    "  \n",
    "                // Check if the current node is the median  \n",
    "                if (count % 2 != 0 && currCount == (count+1)/2 )  \n",
    "                    return current.data;  \n",
    "  \n",
    "                else if (count%2==0 && currCount == (count/2)+1)  \n",
    "                    return (prev.data+current.data)/2;  \n",
    "  \n",
    "                // update prev node for the case of even  \n",
    "                // no. of nodes  \n",
    "                prev = current;  \n",
    "                current = current.right;  \n",
    "  \n",
    "            } /* End of if condition pre->right == NULL */\n",
    "        } /* End of if condition current->left == NULL*/\n",
    "    } /* End of while */\n",
    "    return -1; \n",
    "}  "
   ]
  },
  {
   "cell_type": "code",
   "execution_count": 73,
   "metadata": {},
   "outputs": [
    {
     "name": "stdout",
     "output_type": "stream",
     "text": [
      "Median of BST is 50\n"
     ]
    }
   ],
   "source": [
    "/* Driver code*/\n",
    "public static void main(String[] args)  \n",
    "{  \n",
    "  \n",
    "    /* Let us create following BST  \n",
    "                50  \n",
    "            / \\  \n",
    "            30 70  \n",
    "            / \\ / \\  \n",
    "        20 40 60 80 */\n",
    "    Node root = null;  \n",
    "    root = insert(root, 50);  \n",
    "    insert(root, 30);  \n",
    "    insert(root, 20);  \n",
    "    insert(root, 40);  \n",
    "    insert(root, 70);  \n",
    "    insert(root, 60);  \n",
    "    insert(root, 80);  \n",
    "  \n",
    "    System.out.println(\"Median of BST is \" + findMedian(root));  \n",
    "} \n",
    "main(args);"
   ]
  },
  {
   "cell_type": "markdown",
   "metadata": {},
   "source": [
    "## **388. AVL Tree | Set 1 (Insertion)**\n",
    "https://www.geeksforgeeks.org/avl-tree-set-1-insertion/"
   ]
  },
  {
   "cell_type": "code",
   "execution_count": 74,
   "metadata": {},
   "outputs": [],
   "source": [
    "/*\n",
    "View Question link for full description\n",
    "*/"
   ]
  },
  {
   "cell_type": "markdown",
   "metadata": {},
   "source": [
    "## **389. AVL Tree | Set 2 (Deletion)**\n",
    "https://www.geeksforgeeks.org/avl-tree-set-2-deletion/"
   ]
  },
  {
   "cell_type": "code",
   "execution_count": 75,
   "metadata": {},
   "outputs": [],
   "source": [
    "/*\n",
    "View Question link for full description\n",
    "*/"
   ]
  },
  {
   "cell_type": "code",
   "execution_count": null,
   "metadata": {},
   "outputs": [],
   "source": []
  }
 ],
 "metadata": {
  "kernelspec": {
   "display_name": "Java",
   "language": "java",
   "name": "java"
  },
  "language_info": {
   "codemirror_mode": "java",
   "file_extension": ".jshell",
   "mimetype": "text/x-java-source",
   "name": "Java",
   "pygments_lexer": "java",
   "version": "11.0.6+8-LTS"
  },
  "toc": {
   "base_numbering": 1,
   "nav_menu": {},
   "number_sections": true,
   "sideBar": true,
   "skip_h1_title": false,
   "title_cell": "Table of Contents",
   "title_sidebar": "Contents",
   "toc_cell": false,
   "toc_position": {},
   "toc_section_display": true,
   "toc_window_display": true
  }
 },
 "nbformat": 4,
 "nbformat_minor": 2
}
