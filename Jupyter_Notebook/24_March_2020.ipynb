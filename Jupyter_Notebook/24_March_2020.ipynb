{
 "cells": [
  {
   "cell_type": "markdown",
   "metadata": {},
   "source": [
    "**------------------------Questions Covered-----------------------------**"
   ]
  },
  {
   "cell_type": "markdown",
   "metadata": {},
   "source": [
    "***7\tDynamic Programming\thttps://www.geeksforgeeks.org/dynamic-programming-set-15-longest-bitonic-subsequence/\tfinished\t\t\t\t\t\t\t\t\t\t\t\t\t\t\t\t\t\t\t\t\t\t\t\t\n",
    "7\tDynamic Programming\thttps://www.geeksforgeeks.org/maximum-sum-bi-tonic-sub-sequence/\tfinished\t\t\t\t\t\t\t\t\t\t\t\t\t\t\t\t\t\t\t\t\t\t\t\t\n",
    "7\tDynamic Programming\thttps://www.geeksforgeeks.org/lcs-longest-common-subsequence-three-strings/\tfinished\t\t\t\t\t\t\t\t\t\t\t\t\t\t\t\t\t\t\t\t\t\t\t\t\n",
    "7\tDynamic Programming\thttps://www.geeksforgeeks.org/friends-pairing-problem/\tfinished\t\t\t\t\t\t\t\t\t\t\t\t\t\t\t\t\t\t\t\t\t\t\t\t\n",
    "7\tDynamic Programming\thttps://www.geeksforgeeks.org/dynamic-programming-building-bridges/\tfinished\t\t\t\t\t\t\t\t\t\t\t\t\t\t\t\t\t\t\t\t\t\t\t\t\n",
    "7\tDynamic Programming\thttps://www.geeksforgeeks.org/dynamic-programming-set-18-partition-problem/\tfinished\t\t\t\t\t\t\t\t\t\t\t\t\t\t\t\t\t\t\t\t\t\t\t\t\n",
    "7\tDynamic Programming\thttps://www.geeksforgeeks.org/count-number-of-ways-to-partition-a-set-into-k-subsets/\tfinished\t\t\t\t\t\t\t\t\t\t\t\t\t\t\t\t\t\t\t\t\t\t\t\t\n",
    "7\tDynamic Programming\thttps://www.geeksforgeeks.org/dynamic-programming-set-12-longest-palindromic-subsequence/\tfinished\t\t\t\t\t\t\t\t\t\t\t\t\t\t\t\t\t\t\t\t\t\t\t\t\n",
    "7\tDynamic Programming\thttps://www.geeksforgeeks.org/dynamic-programming-set-11-egg-dropping-puzzle/\tfinished\t\t\t\t\t\t\t\t\t\t\t\t\t\t\t\t\t\t\t\t\t\t\t\t\n",
    "7\tDynamic Programming\thttps://www.geeksforgeeks.org/dynamic-programming-set-21-box-stacking-problem/\ttbd\t\t\t\t\t\t\t\t\t\t\t\t\t\t\t\t\t\t\t\t\t\t\t\t\n",
    "7\tDynamic Programming\thttps://www.geeksforgeeks.org/dynamic-programming-set-24-optimal-binary-search-tree/\tfinished\t\t\t\t\t\t\t\t\t\t\t\t\t\t\t\t\t\t\t\t\t\t\t\t\n",
    "7\tDynamic Programming\thttps://www.geeksforgeeks.org/dynamic-programming-set-28-minimum-insertions-to-form-a-palindrome/\tdone\t\t\t\t\t\t\t\t\t\t\t\t\t\t\t\t\t\t\t\t\t\t\t\t\n",
    "7\tDynamic Programming\thttps://www.geeksforgeeks.org/dynamic-programming-set-36-cut-a-rope-to-maximize-product/\tdone\t\t\t\t\t\t\t\t\t\t\t\t\t\t\t\t\t\t\t\t\t\t\t\t\n",
    "7\tDynamic Programming\thttps://www.geeksforgeeks.org/dynamic-programming-set-31-optimal-strategy-for-a-game/\tfinished\t\t\t\t\t\t\t\t\t\t\t\t\t\t\t\t\t\t\t\t\t\t\t\t\n",
    "7\tDynamic Programming\thttps://www.geeksforgeeks.org/dynamic-programming-set-32-word-break-problem/\tfinished***"
   ]
  },
  {
   "cell_type": "code",
   "execution_count": 1,
   "metadata": {},
   "outputs": [],
   "source": [
    "import java.util.*;\n",
    "import java.io.*;\n",
    "import java.util.Arrays;\n",
    "String[] args =new String[0];"
   ]
  },
  {
   "cell_type": "markdown",
   "metadata": {},
   "source": [
    "## **196. Longest Bitonic Subsequence | DP-15**\n",
    "https://www.geeksforgeeks.org/longest-bitonic-subsequence-dp-15/"
   ]
  },
  {
   "cell_type": "code",
   "execution_count": 2,
   "metadata": {},
   "outputs": [],
   "source": [
    "/*\n",
    "Given an array arr[0 … n-1] containing n positive integers, \n",
    "    a subsequence of arr[] is called Bitonic if it is first increasing, then decreasing. \n",
    "Write a function that takes an array as argument and returns the length of the longest bitonic subsequence.\n",
    "\n",
    "A sequence, sorted in increasing order is considered Bitonic with the decreasing part as empty. \n",
    "Similarly, decreasing order sequence is considered Bitonic with the increasing part as empty.\n",
    "*/"
   ]
  },
  {
   "cell_type": "code",
   "execution_count": 3,
   "metadata": {},
   "outputs": [],
   "source": [
    "/*\n",
    "Examples:\n",
    "\n",
    "Input arr[] = {1, 11, 2, 10, 4, 5, 2, 1};\n",
    "Output: 6 (A Longest Bitonic Subsequence of length 6 is 1, 2, 10, 4, 2, 1)\n",
    "\n",
    "Input arr[] = {12, 11, 40, 5, 3, 1}\n",
    "Output: 5 (A Longest Bitonic Subsequence of length 5 is 12, 11, 5, 3, 1)\n",
    "\n",
    "Input arr[] = {80, 60, 30, 40, 20, 10}\n",
    "Output: 5 (A Longest Bitonic Subsequence of length 5 is 80, 60, 30, 20, 10)\n",
    "*/"
   ]
  },
  {
   "cell_type": "code",
   "execution_count": 4,
   "metadata": {},
   "outputs": [],
   "source": [
    "/*\n",
    "Solution\n",
    "\n",
    "This problem is a variation of standard Longest Increasing Subsequence (LIS) problem. \n",
    "Let the input array be arr[] of length n. \n",
    "We need to construct two arrays lis[] and lds[] using Dynamic Programming solution of LIS problem. \n",
    "    lis[i] stores the length of the Longest Increasing subsequence ending with arr[i]. \n",
    "    lds[i] stores the length of the longest Decreasing subsequence starting from arr[i]. \n",
    "Finally, we need to return the max value of lis[i] + lds[i] – 1 where i is from 0 to n-1.\n",
    "\n",
    "Following is the implementation of the above Dynamic Programming solution.\n",
    "\n",
    "Time Complexity: O(n^2)\n",
    "Auxiliary Space: O(n)\n",
    "*/"
   ]
  },
  {
   "cell_type": "markdown",
   "metadata": {},
   "source": [
    "**Longest Increasing Subsequence (LIS) :**  ***https://www.geeksforgeeks.org/longest-increasing-subsequence-dp-3/***"
   ]
  },
  {
   "cell_type": "code",
   "execution_count": 5,
   "metadata": {},
   "outputs": [],
   "source": [
    "/* lbs() returns the length of the Longest Bitonic Subsequence in \n",
    "arr[] of size n. The function mainly creates two temporary arrays \n",
    "lis[] and lds[] and returns the maximum lis[i] + lds[i] - 1. \n",
    "\n",
    "lis[i] ==> Longest Increasing subsequence ending with arr[i] \n",
    "lds[i] ==> Longest decreasing subsequence starting with arr[i] \n",
    "*/\n",
    "static int lbs( int arr[], int n ) \n",
    "{ \n",
    "    int i, j; \n",
    "\n",
    "    /* Allocate memory for LIS[] and initialize LIS values as 1 for \n",
    "        all indexes */\n",
    "    int[] lis = new int[n]; \n",
    "    for (i = 0; i < n; i++) \n",
    "        lis[i] = 1; \n",
    "\n",
    "    /* Compute LIS values from left to right */\n",
    "    for (i = 1; i < n; i++) \n",
    "        for (j = 0; j < i; j++) \n",
    "            if (arr[i] > arr[j] && lis[i] < lis[j] + 1) \n",
    "                lis[i] = lis[j] + 1; \n",
    "\n",
    "    /* Allocate memory for lds and initialize LDS values for \n",
    "        all indexes */\n",
    "    int[] lds = new int [n]; \n",
    "    for (i = 0; i < n; i++) \n",
    "        lds[i] = 1; \n",
    "\n",
    "    /* Compute LDS values from right to left */\n",
    "    for (i = n-2; i >= 0; i--) \n",
    "        for (j = n-1; j > i; j--) \n",
    "            if (arr[i] > arr[j] && lds[i] < lds[j] + 1) \n",
    "                lds[i] = lds[j] + 1; \n",
    "\n",
    "\n",
    "    /* Return the maximum value of lis[i] + lds[i] - 1*/\n",
    "    int max = lis[0] + lds[0] - 1; \n",
    "    for (i = 1; i < n; i++) \n",
    "        if (lis[i] + lds[i] - 1 > max) \n",
    "            max = lis[i] + lds[i] - 1; \n",
    "\n",
    "    return max; \n",
    "} "
   ]
  },
  {
   "cell_type": "code",
   "execution_count": 6,
   "metadata": {},
   "outputs": [
    {
     "name": "stdout",
     "output_type": "stream",
     "text": [
      "Length of LBS is 7\n"
     ]
    }
   ],
   "source": [
    "public static void main (String[] args) \n",
    "{ \n",
    "    int arr[] = {0, 8, 4, 12, 2, 10, 6, 14, 1, 9, 5, \n",
    "                13, 3, 11, 7, 15}; \n",
    "    int n = arr.length; \n",
    "    System.out.println(\"Length of LBS is \"+ lbs( arr, n )); \n",
    "}\n",
    "main(args);"
   ]
  },
  {
   "cell_type": "markdown",
   "metadata": {},
   "source": [
    "**Visualisation :** ***https://youtu.be/CxpfBdPaRTE***\n",
    "\n",
    "**Explanation :** ***https://youtu.be/CZ8eM2f3_gY***"
   ]
  },
  {
   "cell_type": "markdown",
   "metadata": {},
   "source": [
    "## **197. Maximum sum Bi-tonic Sub-sequence**\n",
    "https://www.geeksforgeeks.org/maximum-sum-bi-tonic-sub-sequence/"
   ]
  },
  {
   "cell_type": "code",
   "execution_count": 7,
   "metadata": {},
   "outputs": [],
   "source": [
    "/*\n",
    "Given an array of integers. \n",
    "    A subsequence of arr[] is called Bitonic if it is first increasing, then decreasing.\n",
    "*/"
   ]
  },
  {
   "cell_type": "code",
   "execution_count": 8,
   "metadata": {},
   "outputs": [],
   "source": [
    "/*\n",
    "Examples :\n",
    "\n",
    "Input : arr[] = {1, 15, 51, 45, 33, 100, 12, 18, 9}\n",
    "Output : 194\n",
    "Explanation : Bi-tonic Sub-sequence are :\n",
    "             {1, 51, 9} or {1, 50, 100, 18, 9} or\n",
    "             {1, 15, 51, 100, 18, 9}  or \n",
    "             {1, 15, 45, 100, 12, 9}  or \n",
    "             {1, 15, 45, 100, 18, 9} .. so on            \n",
    "Maximum sum Bi-tonic sub-sequence is \n",
    "        1 + 15 + 51 + 100 + 18 + 9 = 194   \n",
    "\n",
    "Input : arr[] = {80, 60, 30, 40, 20, 10} \n",
    "Output : 210  \n",
    "*/"
   ]
  },
  {
   "cell_type": "code",
   "execution_count": 9,
   "metadata": {},
   "outputs": [],
   "source": [
    "/*\n",
    "Time complexity : O(n^2)\n",
    "This problem is a variation of \n",
    "    standard Longest Increasing Subsequence (LIS) problem and \n",
    "    longest Bitonic Sub-sequence.\n",
    "\n",
    "We construct two arrays MSIBS[] and MSDBS[]. \n",
    "    MSIBS[i] stores the sum of the Increasing subsequence ending with arr[i]. \n",
    "    MSDBS[i] stores the sum of the Decreasing subsequence starting from arr[i].\n",
    "Finally, we need to return the max sum of MSIBS[i] + MSDBS[i] – Arr[i].\n",
    "*/"
   ]
  },
  {
   "cell_type": "markdown",
   "metadata": {},
   "source": [
    "**Longest Increasing Subsequence (LIS)** ***https://www.geeksforgeeks.org/dynamic-programming-set-3-longest-increasing-subsequence/***\n",
    "\n",
    "**longest Bitonic Sub-sequence** ***https://www.geeksforgeeks.org/dynamic-programming-set-15-longest-bitonic-subsequence/***"
   ]
  },
  {
   "cell_type": "code",
   "execution_count": 10,
   "metadata": {},
   "outputs": [],
   "source": [
    "// Function return maximum sum \n",
    "// of Bi-tonic sub-sequence \n",
    "static int MaxSumBS(int arr[], int n) \n",
    "{ \n",
    "    int max_sum = Integer.MIN_VALUE; \n",
    "\n",
    "    // MSIBS[i] ==> Maximum sum Increasing Bi-tonic \n",
    "    // subsequence ending with arr[i] \n",
    "    // MSDBS[i] ==> Maximum sum Decreasing Bi-tonic \n",
    "    // subsequence starting with arr[i] \n",
    "    // Initialize MSDBS and MSIBS values as arr[i] for \n",
    "    // all indexes \n",
    "    int MSIBS[] = new int[n]; \n",
    "    int MSDBS[] = new int[n]; \n",
    "    for (int i = 0; i < n; i++) { \n",
    "        MSDBS[i] = arr[i]; \n",
    "        MSIBS[i] = arr[i]; \n",
    "    } \n",
    "\n",
    "    // Compute MSIBS values from left to right */ \n",
    "    for (int i = 1; i < n; i++) \n",
    "        for (int j = 0; j < i; j++) \n",
    "            if (arr[i] > arr[j] && MSIBS[i] < MSIBS[j] + arr[i]) \n",
    "                MSIBS[i] = MSIBS[j] + arr[i]; \n",
    "\n",
    "    // Compute MSDBS values from right to left \n",
    "    for (int i = n - 2; i >= 0; i--) \n",
    "        for (int j = n - 1; j > i; j--) \n",
    "            if (arr[i] > arr[j] && MSDBS[i] < MSDBS[j] + arr[i]) \n",
    "                MSDBS[i] = MSDBS[j] + arr[i]; \n",
    "\n",
    "    // Find the maximum value of MSIBS[i] + \n",
    "    // MSDBS[i] - arr[i] \n",
    "    for (int i = 0; i < n; i++) \n",
    "        max_sum = Math.max(max_sum, (MSDBS[i] + MSIBS[i] - arr[i])); \n",
    "\n",
    "    // return max sum of bi-tonic \n",
    "    // sub-sequence \n",
    "    return max_sum; \n",
    "} "
   ]
  },
  {
   "cell_type": "code",
   "execution_count": 11,
   "metadata": {},
   "outputs": [
    {
     "name": "stdout",
     "output_type": "stream",
     "text": [
      "Maximum Sum : 194\n"
     ]
    }
   ],
   "source": [
    "// Driver program \n",
    "public static void main(String[] args) \n",
    "{ \n",
    "    int arr[] = { 1, 15, 51, 45, 33, 100, 12, 18, 9 }; \n",
    "    int n = arr.length; \n",
    "    System.out.println(\"Maximum Sum : \" + MaxSumBS(arr, n)); \n",
    "} \n",
    "main(args);"
   ]
  },
  {
   "cell_type": "markdown",
   "metadata": {},
   "source": [
    "## **198. LCS (Longest Common Subsequence) of three strings**\n",
    "https://www.geeksforgeeks.org/lcs-longest-common-subsequence-three-strings/"
   ]
  },
  {
   "cell_type": "code",
   "execution_count": 12,
   "metadata": {},
   "outputs": [],
   "source": [
    "/*\n",
    "Given 3 strings of all having length < 100,\n",
    "    the task is to find the longest common sub-sequence in all three given sequences.\n",
    "*/"
   ]
  },
  {
   "cell_type": "code",
   "execution_count": 13,
   "metadata": {},
   "outputs": [],
   "source": [
    "/*\n",
    "Examples:\n",
    "\n",
    "Input : str1 = \"geeks\"  \n",
    "        str2 = \"geeksfor\"  \n",
    "        str3 = \"geeksforgeeks\"\n",
    "Output : 5\n",
    "Longest common subsequence is \"geeks\"\n",
    "i.e., length = 5\n",
    "\n",
    "Input : str1 = \"abcd1e2\"  \n",
    "        str2 = \"bc12ea\"  \n",
    "        str3 = \"bd1ea\"\n",
    "Output : 3\n",
    "Longest common subsequence is \"b1e\" \n",
    "i.e. length = 3.\n",
    "*/"
   ]
  },
  {
   "cell_type": "code",
   "execution_count": 14,
   "metadata": {},
   "outputs": [],
   "source": [
    "/*\n",
    "This problem is simply an extension of LCS\n",
    "\n",
    "Let the input sequences be X[0..m-1], Y[0..n-1] and Z[0..o-1] of lengths m, n and o respectively. \n",
    "\n",
    "And let L(X[0..m-1], Y[0..n-1], Z[0..o-1]) be the lengths of LCS of the three sequences X, Y and Z. \n",
    "\n",
    "Following is the implementation:\n",
    "*/"
   ]
  },
  {
   "cell_type": "markdown",
   "metadata": {},
   "source": [
    "**LCS** ***https://www.geeksforgeeks.org/dynamic-programming-set-4-longest-common-subsequence/***"
   ]
  },
  {
   "cell_type": "code",
   "execution_count": 15,
   "metadata": {},
   "outputs": [],
   "source": [
    "/*\n",
    "The idea is to take a 3D array to store the length of common subsequence in all 3 given sequences \n",
    "    i. e., L[m + 1][n + 1][o + 1]\n",
    "\n",
    "1- If any of the string is empty \n",
    "        then there is no common subsequence at all \n",
    "        then\n",
    "            L[i][j][k] = 0\n",
    "\n",
    "2- If the characters of all sequences match (or X[i] == Y[j] ==Z[k]) \n",
    "        then\n",
    "            L[i][j][k] = 1 + L[i-1][j-1][k-1]\n",
    "\n",
    "3- If the characters of both sequences do not match (or X[i] != Y[j] || X[i] != Z[k] || Y[j] !=Z[k]) \n",
    "        then\n",
    "            L[i][j][k] = max(L[i-1][j][k], L[i][j-1][k], L[i][j][k-1])\n",
    "*/"
   ]
  },
  {
   "cell_type": "code",
   "execution_count": 16,
   "metadata": {},
   "outputs": [],
   "source": [
    "/* Returns length of LCS for X[0..m-1], Y[0..n-1] \n",
    "   and Z[0..o-1] */\n",
    "static int lcsOf3(String X, String Y, String Z, int m, int n, int o) \n",
    "{ \n",
    "    int[][][] L = new int[m+1][n+1][o+1]; \n",
    "\n",
    "    /* Following steps build L[m+1][n+1][o+1] in \n",
    "       bottom up fashion. Note that L[i][j][k] \n",
    "       contains length of LCS of X[0..i-1] and \n",
    "       Y[0..j-1]  and Z[0.....k-1]*/\n",
    "    for (int i=0; i<=m; i++) \n",
    "    { \n",
    "        for (int j=0; j<=n; j++) \n",
    "        { \n",
    "            for (int k=0; k<=o; k++) \n",
    "            { \n",
    "                if (i == 0 || j == 0||k==0) \n",
    "                    L[i][j][k] = 0; \n",
    "\n",
    "                else if (X.charAt(i - 1) == Y.charAt(j - 1)  \n",
    "                            && X.charAt(i - 1)==Z.charAt(k - 1)) \n",
    "                    L[i][j][k] = L[i-1][j-1][k-1] + 1; \n",
    "\n",
    "                else\n",
    "                    L[i][j][k] = Math.max(Math.max(L[i-1][j][k], \n",
    "                                                   L[i][j-1][k]), \n",
    "                                                   L[i][j][k-1]); \n",
    "            } \n",
    "        } \n",
    "    } \n",
    "\n",
    "    /* L[m][n][o] contains length of LCS for \n",
    "      X[0..n-1] and Y[0..m-1] and Z[0..o-1]*/\n",
    "    return L[m][n][o]; \n",
    "}"
   ]
  },
  {
   "cell_type": "code",
   "execution_count": 17,
   "metadata": {},
   "outputs": [
    {
     "name": "stdout",
     "output_type": "stream",
     "text": [
      "Length of LCS is 2\n"
     ]
    }
   ],
   "source": [
    "/* Driver program to test above function */\n",
    "public static void main(String args[]) \n",
    "{ \n",
    "    String X = \"AGGT12\"; \n",
    "    String Y = \"12TXAYB\"; \n",
    "    String Z = \"12XBA\"; \n",
    "\n",
    "    int m = X.length(); \n",
    "    int n = Y.length(); \n",
    "    int o = Z.length(); \n",
    "\n",
    "    System.out.println(\"Length of LCS is \" + \n",
    "                            lcsOf3(X, Y,Z, m, n, o)); \n",
    "\n",
    "} \n",
    "main(args);"
   ]
  },
  {
   "cell_type": "code",
   "execution_count": 18,
   "metadata": {},
   "outputs": [],
   "source": [
    "/*\n",
    "Another approach: (Using recursion)\n",
    "*/"
   ]
  },
  {
   "cell_type": "code",
   "execution_count": 19,
   "metadata": {},
   "outputs": [],
   "source": [
    "static String X = \"AGGT12\"; \n",
    "static String Y = \"12TXAYB\"; \n",
    "static String Z = \"12XBA\"; \n",
    "\n",
    "static int[][][] dp = new int[100][100][100]; "
   ]
  },
  {
   "cell_type": "code",
   "execution_count": 20,
   "metadata": {},
   "outputs": [],
   "source": [
    "/* Returns length of LCS for X[0..m-1],  \n",
    "Y[0..n-1] and Z[0..o-1] */\n",
    "static int lcsOf3(int i, int j, int k)  \n",
    "{ \n",
    "    if (i == -1 || j == -1 || k == -1) \n",
    "    { \n",
    "        return 0; \n",
    "    } \n",
    "    if (dp[i][j][k] != -1)  \n",
    "    { \n",
    "        return dp[i][j][k]; \n",
    "    } \n",
    "\n",
    "    if (X.charAt(i) == Y.charAt(j) && \n",
    "        Y.charAt(j) == Z.charAt(k)) \n",
    "    { \n",
    "        return dp[i][j][k] = 1 + lcsOf3(i - 1, j - 1, k - 1); \n",
    "    } else { \n",
    "        return dp[i][j][k] = Math.max(Math.max(lcsOf3(i - 1, j, k), \n",
    "                                               lcsOf3(i, j - 1, k)), \n",
    "                                               lcsOf3(i, j, k - 1)); \n",
    "    } \n",
    "} "
   ]
  },
  {
   "cell_type": "code",
   "execution_count": 21,
   "metadata": {},
   "outputs": [
    {
     "name": "stdout",
     "output_type": "stream",
     "text": [
      "Length of LCS is 2"
     ]
    }
   ],
   "source": [
    "// Driver code  \n",
    "public static void main(String[] args) \n",
    "{ \n",
    "\n",
    "    for (int i = 0; i < 100; i++) \n",
    "    { \n",
    "        for (int j = 0; j < 100; j++)  \n",
    "        { \n",
    "            for (int k = 0; k < 100; k++)  \n",
    "            { \n",
    "                dp[i][j][k] = -1; \n",
    "            } \n",
    "        } \n",
    "    } \n",
    "    int m = X.length(); \n",
    "    int n = Y.length(); \n",
    "    int o = Z.length(); \n",
    "\n",
    "    System.out.print(\"Length of LCS is \"\n",
    "            + lcsOf3(m - 1, n - 1, o - 1)); \n",
    "} \n",
    "main(args);"
   ]
  },
  {
   "cell_type": "markdown",
   "metadata": {},
   "source": [
    "## **199. Friends Pairing Problem**\n",
    "https://www.geeksforgeeks.org/friends-pairing-problem/"
   ]
  },
  {
   "cell_type": "code",
   "execution_count": 22,
   "metadata": {},
   "outputs": [],
   "source": [
    "/*\n",
    "Given n friends, \n",
    "    each one can remain single or can be paired up with some other friend. \n",
    "    Each friend can be paired only once. \n",
    "Find out the total number of ways in which friends can remain single or can be paired up.\n",
    "*/"
   ]
  },
  {
   "cell_type": "code",
   "execution_count": 23,
   "metadata": {},
   "outputs": [],
   "source": [
    "/*\n",
    "Examples :\n",
    "\n",
    "Input  : n = 3\n",
    "Output : 4\n",
    "\n",
    "Explanation\n",
    "{1}, {2}, {3} : all single\n",
    "{1}, {2, 3} : 2 and 3 paired but 1 is single.\n",
    "{1, 2}, {3} : 1 and 2 are paired but 3 is single.\n",
    "{1, 3}, {2} : 1 and 3 are paired but 2 is single.\n",
    "Note that {1, 2} and {2, 1} are considered same.\n",
    "*/"
   ]
  },
  {
   "cell_type": "code",
   "execution_count": 24,
   "metadata": {},
   "outputs": [],
   "source": [
    "/*\n",
    "f(n) = ways n people can remain single \n",
    "       or pair up.\n",
    "\n",
    "For n-th person there are two choices:\n",
    "    1) n-th person remains single, we recur for f(n - 1)\n",
    "    2) n-th person pairs up with any of the remaining n - 1 persons. We get (n - 1) * f(n - 2)\n",
    "\n",
    "Therefore we can recursively write f(n) as:\n",
    "    f(n) = f(n - 1) + (n - 1) * f(n - 2)\n",
    "*/"
   ]
  },
  {
   "cell_type": "code",
   "execution_count": 25,
   "metadata": {},
   "outputs": [],
   "source": [
    "// Returns count of ways n people \n",
    "// can remain single or paired up. \n",
    "static int countFriendsPairings(int n) \n",
    "{ \n",
    "    int dp[] = new int[n + 1]; \n",
    "\n",
    "    // Filling dp[] in bottom-up manner using \n",
    "    // recursive formula explained above. \n",
    "    for (int i = 0; i <= n; i++) { \n",
    "        if (i <= 2) \n",
    "            dp[i] = i; \n",
    "        else\n",
    "            dp[i] = dp[i - 1] + (i - 1) * dp[i - 2]; \n",
    "    } \n",
    "\n",
    "    return dp[n]; \n",
    "} "
   ]
  },
  {
   "cell_type": "code",
   "execution_count": 26,
   "metadata": {},
   "outputs": [
    {
     "name": "stdout",
     "output_type": "stream",
     "text": [
      "10\n"
     ]
    }
   ],
   "source": [
    "// Driver code \n",
    "public static void main(String[] args) \n",
    "{ \n",
    "    int n = 4; \n",
    "    System.out.println(countFriendsPairings(n)); \n",
    "}\n",
    "main(args);"
   ]
  },
  {
   "cell_type": "code",
   "execution_count": 27,
   "metadata": {},
   "outputs": [],
   "source": [
    "/*\n",
    "Time Complexity : O(n)\n",
    "Auxiliary Space : O(n)\n",
    "\n",
    "Another approach: (Using recursion)\n",
    "*/"
   ]
  },
  {
   "cell_type": "code",
   "execution_count": 28,
   "metadata": {},
   "outputs": [],
   "source": [
    "static int[] dp = new int[1000]; "
   ]
  },
  {
   "cell_type": "code",
   "execution_count": 29,
   "metadata": {},
   "outputs": [],
   "source": [
    "// Returns count of ways n people \n",
    "// can remain single or paired up. \n",
    "static int countFriendsPairings(int n) \n",
    "{ \n",
    "    if (dp[n] != -1) \n",
    "        return dp[n]; \n",
    "\n",
    "    if (n > 2) \n",
    "        return dp[n] = countFriendsPairings(n - 1) + (n - 1) * countFriendsPairings(n - 2); \n",
    "    else\n",
    "        return dp[n] = n; \n",
    "} "
   ]
  },
  {
   "cell_type": "code",
   "execution_count": 30,
   "metadata": {},
   "outputs": [
    {
     "name": "stdout",
     "output_type": "stream",
     "text": [
      "10\n"
     ]
    }
   ],
   "source": [
    "// Driver code \n",
    "public static void main(String[] args) \n",
    "{ \n",
    "    for (int i = 0; i < 1000; i++) \n",
    "        dp[i] = -1; \n",
    "    int n = 4; \n",
    "    System.out.println(countFriendsPairings(n)); \n",
    "} \n",
    "main(args);"
   ]
  },
  {
   "cell_type": "code",
   "execution_count": 31,
   "metadata": {},
   "outputs": [],
   "source": [
    "/*\n",
    "Time Complexity : O(n)\n",
    "Auxiliary Space : O(n)\n",
    "\n",
    "Since above formula is similar to fibonacci number, \n",
    "    we can optimize the space with an iterative solution.\n",
    "Time Complexity : O(n)\n",
    "Auxiliary Space : O(1)\n",
    "*/"
   ]
  },
  {
   "cell_type": "code",
   "execution_count": 32,
   "metadata": {},
   "outputs": [
    {
     "name": "stdout",
     "output_type": "stream",
     "text": [
      "10\n"
     ]
    }
   ],
   "source": [
    "// Returns count of ways n people \n",
    "// can remain single or paired up. \n",
    "static int countFriendsPairings(int n) \n",
    "{ \n",
    "    int a = 1, b = 2, c = 0; \n",
    "    if (n <= 2) { \n",
    "        return n; \n",
    "    } \n",
    "    for (int i = 3; i <= n; i++) { \n",
    "        c = b + (i - 1) * a; \n",
    "        a = b; \n",
    "        b = c; \n",
    "    } \n",
    "    return c; \n",
    "} \n",
    "\n",
    "// Driver code \n",
    "public static void main(String[] args) \n",
    "{ \n",
    "    int n = 4; \n",
    "    System.out.println(countFriendsPairings(n)); \n",
    "} \n",
    "main(args);"
   ]
  },
  {
   "cell_type": "markdown",
   "metadata": {},
   "source": [
    "***https://youtu.be/jRKbOe88UYo***"
   ]
  },
  {
   "cell_type": "markdown",
   "metadata": {},
   "source": [
    "## **200. Dynamic Programming | Building Bridges**\n",
    "https://www.geeksforgeeks.org/dynamic-programming-building-bridges/"
   ]
  },
  {
   "cell_type": "code",
   "execution_count": 33,
   "metadata": {},
   "outputs": [],
   "source": [
    "/*\n",
    "Consider a 2-D map with a horizontal river passing through its center. \n",
    "There are n cities on the southern bank with x-coordinates a(1) … a(n) and \n",
    "          n cities on the northern bank with x-coordinates b(1) … b(n). \n",
    "\n",
    "You want to connect as many north-south pairs of cities as possible with bridges such that no two bridges cross. \n",
    "When connecting cities, \n",
    "    you can only connect city a(i) on the northern bank to city b(i) on the southern bank. \n",
    "\n",
    "Maximum number of bridges that can be built to connect north-south pairs with the aforementioned constraints.\n",
    "*/"
   ]
  },
  {
   "cell_type": "markdown",
   "metadata": {},
   "source": [
    "<img src = \"https://media.geeksforgeeks.org/wp-content/uploads/build_bridge.jpg\"/>"
   ]
  },
  {
   "cell_type": "code",
   "execution_count": 34,
   "metadata": {},
   "outputs": [],
   "source": [
    "/*\n",
    "The values in the upper bank can be considered as the northern x-coordinates of the cities and \n",
    "the values in the bottom bank can be considered as the corresponding southern x-coordinates of the cities \n",
    "    to which the northern x-coordinate city can be connected.\n",
    "*/"
   ]
  },
  {
   "cell_type": "code",
   "execution_count": 35,
   "metadata": {},
   "outputs": [],
   "source": [
    "/*\n",
    "Examples:\n",
    "\n",
    "Input : 6 4 2 1\n",
    "        2 3 6 5\n",
    "Output : Maximum number of bridges = 2\n",
    "Explanation: Let the north-south x-coordinates\n",
    "be written in increasing order.\n",
    "\n",
    "1  2  3  4  5  6\n",
    "  \\  \\\n",
    "   \\  \\        For the north-south pairs\n",
    "    \\  \\       (2, 6) and (1, 5)\n",
    "     \\  \\      the bridges can be built.\n",
    "      \\  \\     We can consider other pairs also,\n",
    "       \\  \\    but then only one bridge can be built \n",
    "        \\  \\   because more than one bridge built will\n",
    "         \\  \\  then cross each other.\n",
    "          \\  \\\n",
    "1  2  3  4  5  6 \n",
    "\n",
    "Input : 8 1 4 3 5 2 6 7 \n",
    "        1 2 3 4 5 6 7 8\n",
    "Output : Maximum number of bridges = 5\n",
    "*/"
   ]
  },
  {
   "cell_type": "markdown",
   "metadata": {},
   "source": [
    "**LIS :** ***https://www.geeksforgeeks.org/dynamic-programming-set-3-longest-increasing-subsequence/***"
   ]
  },
  {
   "cell_type": "code",
   "execution_count": 36,
   "metadata": {},
   "outputs": [],
   "source": [
    "/*\n",
    "Approach: It is a variation of LIS problem. The following are the steps to solve the problem.\n",
    "\n",
    "    1. Sort the north-south pairs on the basis of increasing order of south x-coordinates.\n",
    "    2. If two south x-coordinates are same, then sort on the basis of increasing order of north x-coordinates.\n",
    "    3. Now find the Longest Increasing Subsequence of the north x-coordinates.\n",
    "    4. One thing to note that \n",
    "        in the increasing subsequence a value can be greater as well as can be equal to its previous value.\n",
    "\n",
    "Time Complexity: O(n^2)\n",
    "*/"
   ]
  },
  {
   "cell_type": "markdown",
   "metadata": {},
   "source": [
    "***https://ideone.com/T1RbXT***"
   ]
  },
  {
   "cell_type": "markdown",
   "metadata": {},
   "source": [
    "## **201 Partition problem | DP-18**\n",
    "https://www.geeksforgeeks.org/partition-problem-dp-18/"
   ]
  },
  {
   "cell_type": "code",
   "execution_count": 37,
   "metadata": {},
   "outputs": [],
   "source": [
    "/*\n",
    "Partition problem is to determine \n",
    "    whether a given set can be partitioned into two subsets \n",
    "    such that the sum of elements in both subsets is same.\n",
    "*/"
   ]
  },
  {
   "cell_type": "code",
   "execution_count": 38,
   "metadata": {},
   "outputs": [],
   "source": [
    "/*\n",
    "Examples:\n",
    "\n",
    "arr[] = {1, 5, 11, 5}\n",
    "Output: true \n",
    "The array can be partitioned as {1, 5, 5} and {11}\n",
    "\n",
    "arr[] = {1, 5, 3}\n",
    "Output: false \n",
    "The array cannot be partitioned into equal sum sets.\n",
    "*/"
   ]
  },
  {
   "cell_type": "code",
   "execution_count": 39,
   "metadata": {},
   "outputs": [],
   "source": [
    "/*\n",
    "Following are the two main steps to solve this problem:\n",
    "    1) Calculate sum of the array. \n",
    "       If sum is odd, \n",
    "           there can not be two subsets with equal sum, \n",
    "           so return false.\n",
    "    2) If sum of array elements is even, \n",
    "            calculate sum/2 and find a subset of array with sum equal to sum/2.\n",
    "*/"
   ]
  },
  {
   "cell_type": "code",
   "execution_count": 40,
   "metadata": {},
   "outputs": [],
   "source": [
    "/*\n",
    "The first step is simple. \n",
    "The second step is crucial, \n",
    "    it can be solved either using recursion or Dynamic Programming.\n",
    "*/"
   ]
  },
  {
   "cell_type": "code",
   "execution_count": 41,
   "metadata": {},
   "outputs": [],
   "source": [
    "/*\n",
    "Recursive Solution\n",
    "Time Complexity: O(2^n) \n",
    "    In worst case, this solution tries two possibilities (whether to include or exclude) for every element.\n",
    "\n",
    "Following is the recursive property of the second step mentioned above.\n",
    "\n",
    "Let isSubsetSum(arr, n, sum/2) be the function that returns true \n",
    "    if there is a subset of arr[0..n-1] with sum equal to sum/2\n",
    "\n",
    "The isSubsetSum problem can be divided into two subproblems\n",
    " a) isSubsetSum() without considering last element \n",
    "    (reducing n to n-1)\n",
    " b) isSubsetSum considering the last element \n",
    "    (reducing sum/2 by arr[n-1] and n to n-1)\n",
    "    \n",
    "If any of the above the above subproblems return true, \n",
    "    then return true. \n",
    "    \n",
    "isSubsetSum (arr, n, sum/2) = isSubsetSum (arr, n-1, sum/2) ||\n",
    "                              isSubsetSum (arr, n-1, sum/2 - arr[n-1])\n",
    "*/"
   ]
  },
  {
   "cell_type": "code",
   "execution_count": 42,
   "metadata": {},
   "outputs": [],
   "source": [
    "// A utility function that returns true if there is a \n",
    "// subset of arr[] with sun equal to given sum \n",
    "static boolean isSubsetSum (int arr[], int n, int sum) \n",
    "{ \n",
    "    // Base Cases \n",
    "    if (sum == 0) \n",
    "        return true; \n",
    "    if (n == 0 && sum != 0) \n",
    "        return false; \n",
    "\n",
    "    // If last element is greater than sum, then ignore it \n",
    "    if (arr[n-1] > sum) \n",
    "        return isSubsetSum (arr, n-1, sum); \n",
    "\n",
    "    /* else, check if sum can be obtained by any of \n",
    "       the following \n",
    "    (a) including the last element \n",
    "    (b) excluding the last element \n",
    "    */\n",
    "    return isSubsetSum (arr, n-1, sum) || \n",
    "           isSubsetSum (arr, n-1, sum-arr[n-1]); \n",
    "} "
   ]
  },
  {
   "cell_type": "code",
   "execution_count": 43,
   "metadata": {},
   "outputs": [],
   "source": [
    "// Returns true if arr[] can be partitioned in two \n",
    "// subsets of equal sum, otherwise false \n",
    "static boolean findPartition (int arr[], int n) \n",
    "{ \n",
    "    // Calculate sum of the elements in array \n",
    "    int sum = 0; \n",
    "    for (int i = 0; i < n; i++) \n",
    "        sum += arr[i]; \n",
    "\n",
    "    // If sum is odd, there cannot be two subsets \n",
    "    // with equal sum \n",
    "    if (sum%2 != 0) \n",
    "        return false; \n",
    "\n",
    "    // Find if there is subset with sum equal to half \n",
    "    // of total sum \n",
    "    return isSubsetSum (arr, n, sum/2); \n",
    "} "
   ]
  },
  {
   "cell_type": "code",
   "execution_count": 44,
   "metadata": {},
   "outputs": [
    {
     "name": "stdout",
     "output_type": "stream",
     "text": [
      "Can be divided into two subsets of equal sum\n"
     ]
    }
   ],
   "source": [
    "/*Driver function to check for above function*/\n",
    "public static void main (String[] args) \n",
    "{ \n",
    "\n",
    "    int arr[] = {3, 1, 5, 9, 12}; \n",
    "    int n = arr.length; \n",
    "    if (findPartition(arr, n) == true) \n",
    "        System.out.println(\"Can be divided into two \"+ \n",
    "                            \"subsets of equal sum\"); \n",
    "    else\n",
    "        System.out.println(\"Can not be divided into \" + \n",
    "                            \"two subsets of equal sum\"); \n",
    "} \n",
    "main(args);"
   ]
  },
  {
   "cell_type": "code",
   "execution_count": 45,
   "metadata": {},
   "outputs": [],
   "source": [
    "/*\n",
    "Dynamic Programming Solution\n",
    "\n",
    "The problem can be solved using dynamic programming \n",
    "    when the sum of the elements is not too big. \n",
    "We can create a 2D array part[][] of size (sum/2)*(n+1). \n",
    "And we can construct the solution in bottom up manner such that every filled entry has following property\n",
    "*/"
   ]
  },
  {
   "cell_type": "code",
   "execution_count": 46,
   "metadata": {},
   "outputs": [],
   "source": [
    "/*\n",
    "part[i][j] = true if a subset of {arr[0], arr[1], ..arr[j-1]} has sum equal to i, \n",
    "            otherwise false\n",
    "*/"
   ]
  },
  {
   "cell_type": "code",
   "execution_count": 47,
   "metadata": {},
   "outputs": [],
   "source": [
    "// Returns true if arr[] can be partitioned in two subsets of \n",
    "// equal sum, otherwise false \n",
    "static boolean findPartition (int arr[], int n) \n",
    "{ \n",
    "    int sum = 0; \n",
    "    int i, j; \n",
    "\n",
    "    // Calculate sum of all elements \n",
    "    for (i = 0; i < n; i++) \n",
    "        sum += arr[i]; \n",
    "\n",
    "    if (sum%2 != 0) \n",
    "        return false; \n",
    "\n",
    "    boolean part[][]=new boolean[sum/2+1][n+1]; \n",
    "\n",
    "    // initialize top row as true \n",
    "    for (i = 0; i <= n; i++) \n",
    "        part[0][i] = true; \n",
    "\n",
    "    // initialize leftmost column, except part[0][0], as 0 \n",
    "    for (i = 1; i <= sum/2; i++) \n",
    "        part[i][0] = false; \n",
    "\n",
    "    // Fill the partition table in botton up manner \n",
    "    for (i = 1; i <= sum/2; i++) \n",
    "    { \n",
    "        for (j = 1; j <= n; j++) \n",
    "        { \n",
    "            part[i][j] = part[i][j-1]; \n",
    "            if (i >= arr[j-1]) \n",
    "                part[i][j] = part[i][j] || \n",
    "                             part[i - arr[j-1]][j-1]; \n",
    "        } \n",
    "    } \n",
    "\n",
    "    /* // uncomment this part to print table \n",
    "    for (i = 0; i <= sum/2; i++) \n",
    "    { \n",
    "        for (j = 0; j <= n; j++) \n",
    "            printf (\"%4d\", part[i][j]); \n",
    "        printf(\"\\n\"); \n",
    "    } */\n",
    "\n",
    "    return part[sum/2][n]; \n",
    "} "
   ]
  },
  {
   "cell_type": "code",
   "execution_count": 48,
   "metadata": {},
   "outputs": [
    {
     "name": "stdout",
     "output_type": "stream",
     "text": [
      "Can be divided into two subsets of equal sum\n"
     ]
    }
   ],
   "source": [
    "/*Driver function to check for above function*/\n",
    "public static void main (String[] args) \n",
    "{ \n",
    "    int arr[] = {3, 1, 1, 2, 2,1}; \n",
    "    int n = arr.length; \n",
    "    if (findPartition(arr, n) == true) \n",
    "        System.out.println(\"Can be divided into two \"+\n",
    "                           \"subsets of equal sum\"); \n",
    "    else\n",
    "        System.out.println(\"Can not be divided into\"+\n",
    "                        \" two subsets of equal sum\"); \n",
    "} \n",
    "main(args);"
   ]
  },
  {
   "cell_type": "code",
   "execution_count": 49,
   "metadata": {},
   "outputs": [],
   "source": [
    "/*\n",
    "Following diagram shows the values in partition table.\n",
    "Time Complexity: O(sum*n)\n",
    "Auxiliary Space: O(sum*n)\n",
    "*/"
   ]
  },
  {
   "cell_type": "markdown",
   "metadata": {},
   "source": [
    "<img src = \"https://media.geeksforgeeks.org/wp-content/uploads/dynamicprogramming.jpg\"/>"
   ]
  },
  {
   "cell_type": "markdown",
   "metadata": {},
   "source": [
    "## **202 Count number of ways to partition a set into k subsets**\n",
    "https://www.geeksforgeeks.org/count-number-of-ways-to-partition-a-set-into-k-subsets/"
   ]
  },
  {
   "cell_type": "code",
   "execution_count": 50,
   "metadata": {},
   "outputs": [],
   "source": [
    "/*\n",
    "Given two numbers n and k \n",
    "    where n represents number of elements in a set, \n",
    "find number of ways to partition the set into k subsets.\n",
    "*/"
   ]
  },
  {
   "cell_type": "code",
   "execution_count": 51,
   "metadata": {},
   "outputs": [],
   "source": [
    "/*\n",
    "Example:\n",
    "\n",
    "Input: n = 3, k = 2\n",
    "Output: 3\n",
    "Explanation: Let the set be {1, 2, 3}, we can partition\n",
    "             it into 2 subsets in following ways\n",
    "             {{1,2}, {3}},  {{1}, {2,3}},  {{1,3}, {2}}  \n",
    "\n",
    "Input: n = 3, k = 1\n",
    "Output: 1\n",
    "Explanation: There is only one way {{1, 2, 3}}\n",
    "*/"
   ]
  },
  {
   "cell_type": "code",
   "execution_count": 52,
   "metadata": {},
   "outputs": [],
   "source": [
    "/*\n",
    "Let S(n, k) be total number of partitions of n elements into k sets. \n",
    "\n",
    "Value of S(n, k) can be defined recursively as,\n",
    "    S(n, k) = k*S(n-1, k) + S(n-1, k-1) \n",
    "S(n, k) is called Stirling numbers of the second kind\n",
    "*/"
   ]
  },
  {
   "cell_type": "markdown",
   "metadata": {},
   "source": [
    "**Stirling numbers of the second kind :** ***https://en.wikipedia.org/wiki/Stirling_numbers_of_the_second_kind***"
   ]
  },
  {
   "cell_type": "code",
   "execution_count": 53,
   "metadata": {},
   "outputs": [],
   "source": [
    "/*\n",
    "How does above recursive formula work?\n",
    "\n",
    "When we add a (n+1)’th element to k partitions, there are two possibilities.\n",
    "    1) It is added as a single element set to existing partitions, i.e, S(n, k-1)\n",
    "    2) It is added to all sets of every partition, i.e., k*S(n, k)\n",
    "\n",
    "Therefore S(n+1, k) = k*S(n, k) + S(n, k-1) which means S(n, k) = k*S(n-1, k) + S(n-1, k-1)\n",
    "\n",
    "Below is recursive solution based on above formula.\n",
    "*/"
   ]
  },
  {
   "cell_type": "code",
   "execution_count": 54,
   "metadata": {},
   "outputs": [
    {
     "name": "stdout",
     "output_type": "stream",
     "text": [
      "3\n"
     ]
    }
   ],
   "source": [
    "// Returns count of different  \n",
    "// partitions of n elements in \n",
    "// k subsets \n",
    "public static int countP(int n, int k) \n",
    "{ \n",
    "   // Base cases \n",
    "   if (n == 0 || k == 0 || k > n) \n",
    "      return 0; \n",
    "   if (k == 1 || k == n) \n",
    "      return 1; \n",
    "\n",
    "   // S(n+1, k) = k*S(n, k) + S(n, k-1) \n",
    "   return (k * countP(n - 1, k)  \n",
    "          + countP(n - 1, k - 1)); \n",
    "} \n",
    "\n",
    "// Driver program \n",
    "public static void main(String args[]) \n",
    "{ \n",
    "   System.out.println(countP(3, 2)); \n",
    "\n",
    "} \n",
    "main(args);"
   ]
  },
  {
   "cell_type": "code",
   "execution_count": 55,
   "metadata": {},
   "outputs": [],
   "source": [
    "/*\n",
    "The time complexity of above recursive solution is exponential. \n",
    "The solution can be optimized as there are overlapping subproblems. \n",
    "For example, \n",
    "    below is recursion tree of countP(10,7). \n",
    "The subproblem countP(8,6) or CP(8,6) is called multiple times.\n",
    "*/"
   ]
  },
  {
   "cell_type": "code",
   "execution_count": 56,
   "metadata": {},
   "outputs": [],
   "source": [
    "/*\n",
    "CP() represents countP()\n",
    "\n",
    "             CP(10,7)\n",
    "           /        \\\n",
    "       CP(9,7)       CP(9,6) \n",
    "       /    \\       /    \\\n",
    "  CP(8,7) CP(8,6) CP(8,6)  CP(8,5)\n",
    "    / \\    / \\     / \\       / \\\n",
    "\n",
    "  Partial Recursion Tree for countP(10, 7) \n",
    "  to highlight overlapping subproblems.\n",
    "*/"
   ]
  },
  {
   "cell_type": "code",
   "execution_count": 57,
   "metadata": {},
   "outputs": [],
   "source": [
    "/*\n",
    "So this problem has both properties of a dynamic programming problem. \n",
    "Like other typical Dynamic Programming(DP) problems, \n",
    "    recomputations of same subproblems can be avoided by constructing a temporary array dp[][] in bottom up manner \n",
    "    using the above recursive formula.\n",
    "\n",
    "Time Complexity: O(n x k)\n",
    "Auxiliary Space: O(n x k)\n",
    "\n",
    "Below is the implementation of Dynamic Programming Solution.\n",
    "*/"
   ]
  },
  {
   "cell_type": "code",
   "execution_count": 58,
   "metadata": {},
   "outputs": [],
   "source": [
    "// Returns count of different partitions of n  \n",
    "// elements in k subsets  \n",
    "static int countP(int n, int k)  \n",
    "{  \n",
    "    // Table to store results of subproblems  \n",
    "    int[][] dp = new int[n+1][k+1];  \n",
    "      \n",
    "    // Base cases  \n",
    "    for (int i = 0; i <= n; i++)  \n",
    "        dp[i][0] = 0;  \n",
    "    for (int i = 0; i <= k; i++)  \n",
    "        dp[0][k] = 0;  \n",
    "      \n",
    "    // Fill rest of the entries in dp[][] \n",
    "    // in bottom up manner  \n",
    "    for (int i = 1; i <= n; i++)  \n",
    "        for (int j = 1; j <= k; j++)  \n",
    "            if (j == 1 || i == j)  \n",
    "                dp[i][j] = 1;  \n",
    "            else\n",
    "                dp[i][j] = j * dp[i - 1][j] + dp[i - 1][j - 1];  \n",
    "          \n",
    "    return dp[n][k];  \n",
    "      \n",
    "}  "
   ]
  },
  {
   "cell_type": "code",
   "execution_count": 59,
   "metadata": {},
   "outputs": [
    {
     "name": "stdout",
     "output_type": "stream",
     "text": [
      "15\n"
     ]
    }
   ],
   "source": [
    "// Driver program  \n",
    "public static void main(String[] args )  \n",
    "{  \n",
    "    System.out.println(countP(5, 2));  \n",
    "}  \n",
    "main(args);"
   ]
  },
  {
   "cell_type": "markdown",
   "metadata": {},
   "source": [
    "## **203 Longest Palindromic Subsequence | DP-12**\n",
    "https://www.geeksforgeeks.org/longest-palindromic-subsequence-dp-12/"
   ]
  },
  {
   "cell_type": "code",
   "execution_count": 60,
   "metadata": {},
   "outputs": [],
   "source": [
    "/*\n",
    "Given a sequence, \n",
    "    find the length of the longest palindromic subsequence in it.\n",
    "*/"
   ]
  },
  {
   "cell_type": "markdown",
   "metadata": {},
   "source": [
    "<img src = \"https://media.geeksforgeeks.org/wp-content/cdn-uploads/longest-palindromic-subsequence.png\"/>"
   ]
  },
  {
   "cell_type": "code",
   "execution_count": 61,
   "metadata": {},
   "outputs": [],
   "source": [
    "/*\n",
    "As another example, \n",
    "    if the given sequence is “BBABCBCAB”, \n",
    "        then the output should be 7 as “BABCBAB” is the longest palindromic subseuqnce in it. \n",
    "    “BBBBB” and “BBCBB” are also palindromic subsequences of the given sequence, but not the longest ones.\n",
    "*/"
   ]
  },
  {
   "cell_type": "code",
   "execution_count": 62,
   "metadata": {},
   "outputs": [],
   "source": [
    "/*\n",
    "The naive solution for this problem is to generate all subsequences of the given sequence and \n",
    "find the longest palindromic subsequence. \n",
    "\n",
    "This solution is exponential in term of time complexity. \n",
    "\n",
    "Let us see how this problem possesses both important properties of a Dynamic Programming (DP) Problem \n",
    "and can efficiently solved using Dynamic Programming.\n",
    "*/"
   ]
  },
  {
   "cell_type": "code",
   "execution_count": 63,
   "metadata": {},
   "outputs": [],
   "source": [
    "/*\n",
    "1) Optimal Substructure:\n",
    "\n",
    "Let X[0..n-1] be the input sequence of length n \n",
    "and L(0, n-1) be the length of the longest palindromic subsequence of X[0..n-1].\n",
    "\n",
    "If last and first characters of X are same, \n",
    "    then L(0, n-1) = L(1, n-2) + 2.\n",
    "Else \n",
    "    L(0, n-1) = MAX (L(1, n-1), L(0, n-2)).\n",
    "*/"
   ]
  },
  {
   "cell_type": "code",
   "execution_count": 64,
   "metadata": {},
   "outputs": [],
   "source": [
    "/*\n",
    "Following is a general recursive solution with all cases handled.\n",
    "\n",
    "// Every single character is a palindrome of length 1\n",
    "L(i, i) = 1 for all indexes i in given sequence\n",
    "\n",
    "// IF first and last characters are not same\n",
    "If (X[i] != X[j])  \n",
    "    L(i, j) =  max{L(i + 1, j),L(i, j - 1)} \n",
    "\n",
    "// If there are only 2 characters and both are same\n",
    "Else if (j == i + 1) \n",
    "    L(i, j) = 2  \n",
    "\n",
    "// If there are more than two characters, and first and last \n",
    "// characters are same\n",
    "Else \n",
    "    L(i, j) =  L(i + 1, j - 1) + 2\n",
    "*/"
   ]
  },
  {
   "cell_type": "code",
   "execution_count": 65,
   "metadata": {},
   "outputs": [],
   "source": [
    "/*\n",
    "2) Overlapping Subproblems\n",
    "\n",
    "Following is simple recursive implementation of the LPS problem. \n",
    "The implementation simply follows the recursive structure mentioned above.\n",
    "*/"
   ]
  },
  {
   "cell_type": "code",
   "execution_count": 66,
   "metadata": {},
   "outputs": [
    {
     "ename": "CompilationException",
     "evalue": "",
     "output_type": "error",
     "traceback": [
      "\u001b[1m\u001b[30m|   \u001b[1m\u001b[30m\u001b[0m\u001b[1m\u001b[30m\u001b[41m\u001b[0m\u001b[1m\u001b[30m// A utility function to get max of two integers  \u001b[0m",
      "\u001b[1m\u001b[31mcannot find symbol\u001b[0m",
      "\u001b[1m\u001b[31m  symbol:   class \u001b[0m",
      "",
      "\u001b[1m\u001b[30m|   \u001b[1m\u001b[30m\u001b[0m\u001b[1m\u001b[30m\u001b[41m\u001b[0m\u001b[1m\u001b[30m// A utility function to get max of two integers  \u001b[0m",
      "\u001b[1m\u001b[31mstatic import only from classes and interfaces\u001b[0m",
      "",
      "\u001b[1m\u001b[30m|   \u001b[1m\u001b[30m\u001b[0m\u001b[1m\u001b[30m\u001b[41mstatic\u001b[0m\u001b[1m\u001b[30m int max(int x, int y) { \u001b[0m",
      "\u001b[1m\u001b[31mModifier 'static'  not permitted in top-level declarations, ignored\u001b[0m",
      ""
     ]
    }
   ],
   "source": [
    "// A utility function to get max of two integers  \n",
    "static int max(int x, int y) { \n",
    "    return (x > y) ? x : y; \n",
    "} "
   ]
  },
  {
   "cell_type": "code",
   "execution_count": 67,
   "metadata": {},
   "outputs": [],
   "source": [
    "// Returns the length of the longest palindromic subsequence in seq  \n",
    "\n",
    "static int lps(char seq[], int i, int j) { \n",
    "// Base Case 1: If there is only 1 character  \n",
    "    if (i == j) { \n",
    "        return 1; \n",
    "    } \n",
    "\n",
    "// Base Case 2: If there are only 2 characters and both are same  \n",
    "    if (seq[i] == seq[j] && i + 1 == j) { \n",
    "        return 2; \n",
    "    } \n",
    "\n",
    "// If the first and last characters match  \n",
    "    if (seq[i] == seq[j]) { \n",
    "        return lps(seq, i + 1, j - 1) + 2; \n",
    "    } \n",
    "\n",
    "// If the first and last characters do not match  \n",
    "    return max(lps(seq, i, j - 1), lps(seq, i + 1, j)); \n",
    "} "
   ]
  },
  {
   "cell_type": "code",
   "execution_count": 68,
   "metadata": {},
   "outputs": [
    {
     "ename": "UnresolvedReferenceException",
     "evalue": "Attempt to use definition snippet with unresolved references in MethodSnippet:lps/(char seq[],int,int)int-// Returns the length of the longest palindromic subsequence in seq  \n\nstatic int lps(char seq[], int i, int j) { \n// Base Case 1: If there is only 1 character  \n    if (i == j) { \n        return 1; \n    } \n\n// Base Case 2: If there are only 2 characters and both are same  \n    if (seq[i] == seq[j] && i + 1 == j) { \n        return 2; \n    } \n\n// If the first and last characters match  \n    if (seq[i] == seq[j]) { \n        return lps(seq, i + 1, j - 1) + 2; \n    } \n\n// If the first and last characters do not match  \n    return max(lps(seq, i, j - 1), lps(seq, i + 1, j)); \n} ",
     "output_type": "error",
     "traceback": [
      "\u001b[1m\u001b[30m|   \u001b[1m\u001b[30m// Returns the length of the longest palindromic subsequence in seq  \u001b[0m",
      "\u001b[1m\u001b[30m|   \u001b[1m\u001b[30m\u001b[0m",
      "\u001b[1m\u001b[30m|   \u001b[1m\u001b[30mstatic int lps(char seq[], int i, int j) { \u001b[0m",
      "\u001b[1m\u001b[30m|   \u001b[1m\u001b[30m// Base Case 1: If there is only 1 character  \u001b[0m",
      "\u001b[1m\u001b[30m|   \u001b[1m\u001b[30m    if (i == j) { \u001b[0m",
      "\u001b[1m\u001b[30m|   \u001b[1m\u001b[30m        return 1; \u001b[0m",
      "\u001b[1m\u001b[30m|   \u001b[1m\u001b[30m    } \u001b[0m",
      "\u001b[1m\u001b[30m|   \u001b[1m\u001b[30m\u001b[0m",
      "\u001b[1m\u001b[30m|   \u001b[1m\u001b[30m// Base Case 2: If there are only 2 characters and both are same  \u001b[0m",
      "\u001b[1m\u001b[30m|   \u001b[1m\u001b[30m    if (seq[i] == seq[j] && i + 1 == j) { \u001b[0m",
      "\u001b[1m\u001b[30m|   \u001b[1m\u001b[30m        return 2; \u001b[0m",
      "\u001b[1m\u001b[30m|   \u001b[1m\u001b[30m    } \u001b[0m",
      "\u001b[1m\u001b[30m|   \u001b[1m\u001b[30m\u001b[0m",
      "\u001b[1m\u001b[30m|   \u001b[1m\u001b[30m// If the first and last characters match  \u001b[0m",
      "\u001b[1m\u001b[30m|   \u001b[1m\u001b[30m    if (seq[i] == seq[j]) { \u001b[0m",
      "\u001b[1m\u001b[30m|   \u001b[1m\u001b[30m        return lps(seq, i + 1, j - 1) + 2; \u001b[0m",
      "\u001b[1m\u001b[30m|   \u001b[1m\u001b[30m    } \u001b[0m",
      "\u001b[1m\u001b[30m|   \u001b[1m\u001b[30m\u001b[0m",
      "\u001b[1m\u001b[30m|   \u001b[1m\u001b[30m// If the first and last characters do not match  \u001b[0m",
      "\u001b[1m\u001b[30m|   \u001b[1m\u001b[30m    return max(lps(seq, i, j - 1), lps(seq, i + 1, j)); \u001b[0m",
      "\u001b[1m\u001b[30m|   \u001b[1m\u001b[30m} \u001b[0m",
      "\u001b[1m\u001b[31mUnresolved dependencies:\u001b[0m",
      "\u001b[1m\u001b[31m   - method max(int,int)\u001b[0m"
     ]
    }
   ],
   "source": [
    "/* Driver program to test above function */\n",
    "public static void main(String[] args) { \n",
    "    String seq = \"GEEKSFORGEEKS\"; \n",
    "    int n = seq.length(); \n",
    "    System.out.printf(\"The length of the LPS is %d\", lps(seq.toCharArray(), 0, n - 1)); \n",
    "} \n",
    "main(args);"
   ]
  },
  {
   "cell_type": "code",
   "execution_count": 69,
   "metadata": {},
   "outputs": [],
   "source": [
    "/*\n",
    "Considering the above implementation, \n",
    "    following is a partial recursion tree for a sequence of length 6 with all different characters.\n",
    "\n",
    "               L(0, 5)\n",
    "             /        \\ \n",
    "            /          \\  \n",
    "        L(1,5)          L(0,4)\n",
    "       /    \\            /    \\\n",
    "      /      \\          /      \\\n",
    "  L(2,5)    L(1,4)  L(1,4)  L(0,3)\n",
    "  \n",
    "In the above partial recursion tree, \n",
    "    L(1, 4) is being solved twice. \n",
    "If we draw the complete recursion tree, \n",
    "    then we can see that there are many subproblems which are solved again and again. \n",
    "\n",
    "Since same suproblems are called again, \n",
    "    this problem has Overlapping Subprolems property. \n",
    "\n",
    "So LPS problem has both properties of a dynamic programming problem. \n",
    "Like other typical Dynamic Programming(DP) problems, \n",
    "    recomputations of same subproblems can be avoided by constructing a temporary array L[][] in bottom up manner.\n",
    "*/"
   ]
  },
  {
   "cell_type": "code",
   "execution_count": 70,
   "metadata": {},
   "outputs": [
    {
     "ename": "CompilationException",
     "evalue": "",
     "output_type": "error",
     "traceback": [
      "\u001b[1m\u001b[30m|   \u001b[1m\u001b[30m\u001b[0m\u001b[1m\u001b[30m\u001b[41m\u001b[0m\u001b[1m\u001b[30m// A utility function to get max of two integers \u001b[0m",
      "\u001b[1m\u001b[31mcannot find symbol\u001b[0m",
      "\u001b[1m\u001b[31m  symbol:   class \u001b[0m",
      "",
      "\u001b[1m\u001b[30m|   \u001b[1m\u001b[30m\u001b[0m\u001b[1m\u001b[30m\u001b[41m\u001b[0m\u001b[1m\u001b[30m// A utility function to get max of two integers \u001b[0m",
      "\u001b[1m\u001b[31mstatic import only from classes and interfaces\u001b[0m",
      "",
      "\u001b[1m\u001b[30m|   \u001b[1m\u001b[30m\u001b[0m\u001b[1m\u001b[30m\u001b[41mstatic\u001b[0m\u001b[1m\u001b[30m int max (int x, int y) \u001b[0m",
      "\u001b[1m\u001b[31mModifier 'static'  not permitted in top-level declarations, ignored\u001b[0m",
      ""
     ]
    }
   ],
   "source": [
    "// A utility function to get max of two integers \n",
    "static int max (int x, int y) \n",
    "{ \n",
    "    return (x > y)? x : y; \n",
    "} "
   ]
  },
  {
   "cell_type": "code",
   "execution_count": 71,
   "metadata": {},
   "outputs": [],
   "source": [
    "// Returns the length of the longest  \n",
    "// palindromic subsequence in seq \n",
    "static int lps(String seq) \n",
    "{ \n",
    "    int n = seq.length(); \n",
    "    int i, j, cl; \n",
    "    // Create a table to store results of subproblems \n",
    "    int L[][] = new int[n][n];  \n",
    "\n",
    "    // Strings of length 1 are palindrome of lentgh 1 \n",
    "    for (i = 0; i < n; i++) \n",
    "        L[i][i] = 1; \n",
    "\n",
    "    // Build the table. Note that the lower  \n",
    "    // diagonal values of table are \n",
    "    // useless and not filled in the process.  \n",
    "    // The values are filled in a manner similar \n",
    "    //  to Matrix Chain Multiplication DP solution (See \n",
    "    // https://www.geeksforgeeks.org/matrix-chain-multiplication-dp-8/).  \n",
    "    // cl is length of substring \n",
    "    for (cl=2; cl<=n; cl++) \n",
    "    { \n",
    "        for (i=0; i<n-cl+1; i++) \n",
    "        { \n",
    "            j = i+cl-1; \n",
    "            if (seq.charAt(i) == seq.charAt(j) && cl == 2) \n",
    "                L[i][j] = 2; \n",
    "            else if (seq.charAt(i) == seq.charAt(j)) \n",
    "                L[i][j] = L[i+1][j-1] + 2; \n",
    "            else\n",
    "                L[i][j] = max(L[i][j-1], L[i+1][j]); \n",
    "        } \n",
    "    } \n",
    "\n",
    "    return L[0][n-1]; \n",
    "}"
   ]
  },
  {
   "cell_type": "code",
   "execution_count": 72,
   "metadata": {},
   "outputs": [
    {
     "ename": "UnresolvedReferenceException",
     "evalue": "Attempt to use definition snippet with unresolved references in MethodSnippet:lps/(String)int-// Returns the length of the longest  \n// palindromic subsequence in seq \nstatic int lps(String seq) \n{ \n    int n = seq.length(); \n    int i, j, cl; \n    // Create a table to store results of subproblems \n    int L[][] = new int[n][n];  \n\n    // Strings of length 1 are palindrome of lentgh 1 \n    for (i = 0; i < n; i++) \n        L[i][i] = 1; \n\n    // Build the table. Note that the lower  \n    // diagonal values of table are \n    // useless and not filled in the process.  \n    // The values are filled in a manner similar \n    //  to Matrix Chain Multiplication DP solution (See \n    // https://www.geeksforgeeks.org/matrix-chain-multiplication-dp-8/).  \n    // cl is length of substring \n    for (cl=2; cl<=n; cl++) \n    { \n        for (i=0; i<n-cl+1; i++) \n        { \n            j = i+cl-1; \n            if (seq.charAt(i) == seq.charAt(j) && cl == 2) \n                L[i][j] = 2; \n            else if (seq.charAt(i) == seq.charAt(j)) \n                L[i][j] = L[i+1][j-1] + 2; \n            else\n                L[i][j] = max(L[i][j-1], L[i+1][j]); \n        } \n    } \n\n    return L[0][n-1]; \n}",
     "output_type": "error",
     "traceback": [
      "\u001b[1m\u001b[30m|   \u001b[1m\u001b[30m// Returns the length of the longest  \u001b[0m",
      "\u001b[1m\u001b[30m|   \u001b[1m\u001b[30m// palindromic subsequence in seq \u001b[0m",
      "\u001b[1m\u001b[30m|   \u001b[1m\u001b[30mstatic int lps(String seq) \u001b[0m",
      "\u001b[1m\u001b[30m|   \u001b[1m\u001b[30m{ \u001b[0m",
      "\u001b[1m\u001b[30m|   \u001b[1m\u001b[30m    int n = seq.length(); \u001b[0m",
      "\u001b[1m\u001b[30m|   \u001b[1m\u001b[30m    int i, j, cl; \u001b[0m",
      "\u001b[1m\u001b[30m|   \u001b[1m\u001b[30m    // Create a table to store results of subproblems \u001b[0m",
      "\u001b[1m\u001b[30m|   \u001b[1m\u001b[30m    int L[][] = new int[n][n];  \u001b[0m",
      "\u001b[1m\u001b[30m|   \u001b[1m\u001b[30m\u001b[0m",
      "\u001b[1m\u001b[30m|   \u001b[1m\u001b[30m    // Strings of length 1 are palindrome of lentgh 1 \u001b[0m",
      "\u001b[1m\u001b[30m|   \u001b[1m\u001b[30m    for (i = 0; i < n; i++) \u001b[0m",
      "\u001b[1m\u001b[30m|   \u001b[1m\u001b[30m        L[i][i] = 1; \u001b[0m",
      "\u001b[1m\u001b[30m|   \u001b[1m\u001b[30m\u001b[0m",
      "\u001b[1m\u001b[30m|   \u001b[1m\u001b[30m    // Build the table. Note that the lower  \u001b[0m",
      "\u001b[1m\u001b[30m|   \u001b[1m\u001b[30m    // diagonal values of table are \u001b[0m",
      "\u001b[1m\u001b[30m|   \u001b[1m\u001b[30m    // useless and not filled in the process.  \u001b[0m",
      "\u001b[1m\u001b[30m|   \u001b[1m\u001b[30m    // The values are filled in a manner similar \u001b[0m",
      "\u001b[1m\u001b[30m|   \u001b[1m\u001b[30m    //  to Matrix Chain Multiplication DP solution (See \u001b[0m",
      "\u001b[1m\u001b[30m|   \u001b[1m\u001b[30m    // https://www.geeksforgeeks.org/matrix-chain-multiplication-dp-8/).  \u001b[0m",
      "\u001b[1m\u001b[30m|   \u001b[1m\u001b[30m    // cl is length of substring \u001b[0m",
      "\u001b[1m\u001b[30m|   \u001b[1m\u001b[30m    for (cl=2; cl<=n; cl++) \u001b[0m",
      "\u001b[1m\u001b[30m|   \u001b[1m\u001b[30m    { \u001b[0m",
      "\u001b[1m\u001b[30m|   \u001b[1m\u001b[30m        for (i=0; i<n-cl+1; i++) \u001b[0m",
      "\u001b[1m\u001b[30m|   \u001b[1m\u001b[30m        { \u001b[0m",
      "\u001b[1m\u001b[30m|   \u001b[1m\u001b[30m            j = i+cl-1; \u001b[0m",
      "\u001b[1m\u001b[30m|   \u001b[1m\u001b[30m            if (seq.charAt(i) == seq.charAt(j) && cl == 2) \u001b[0m",
      "\u001b[1m\u001b[30m|   \u001b[1m\u001b[30m                L[i][j] = 2; \u001b[0m",
      "\u001b[1m\u001b[30m|   \u001b[1m\u001b[30m            else if (seq.charAt(i) == seq.charAt(j)) \u001b[0m",
      "\u001b[1m\u001b[30m|   \u001b[1m\u001b[30m                L[i][j] = L[i+1][j-1] + 2; \u001b[0m",
      "\u001b[1m\u001b[30m|   \u001b[1m\u001b[30m            else\u001b[0m",
      "\u001b[1m\u001b[30m|   \u001b[1m\u001b[30m                L[i][j] = max(L[i][j-1], L[i+1][j]); \u001b[0m",
      "\u001b[1m\u001b[30m|   \u001b[1m\u001b[30m        } \u001b[0m",
      "\u001b[1m\u001b[30m|   \u001b[1m\u001b[30m    } \u001b[0m",
      "\u001b[1m\u001b[30m|   \u001b[1m\u001b[30m\u001b[0m",
      "\u001b[1m\u001b[30m|   \u001b[1m\u001b[30m    return L[0][n-1]; \u001b[0m",
      "\u001b[1m\u001b[30m|   \u001b[1m\u001b[30m}\u001b[0m",
      "\u001b[1m\u001b[31mUnresolved dependencies:\u001b[0m",
      "\u001b[1m\u001b[31m   - method max(int,int)\u001b[0m"
     ]
    }
   ],
   "source": [
    "/* Driver program to test above functions */\n",
    "public static void main(String args[]) \n",
    "{ \n",
    "    String seq = \"GEEKSFORGEEKS\"; \n",
    "    int n = seq.length(); \n",
    "    System.out.println(\"The lnegth of the lps is \"+ lps(seq)); \n",
    "} \n",
    "main(args);"
   ]
  },
  {
   "cell_type": "markdown",
   "metadata": {},
   "source": [
    "***https://youtu.be/TLaGwTnd3HY***"
   ]
  },
  {
   "cell_type": "markdown",
   "metadata": {},
   "source": [
    "**Related Link**\n",
    "\n",
    "***https://www.geeksforgeeks.org/print-longest-palindromic-subsequence/***\n",
    "\n",
    "***https://www.geeksforgeeks.org/longest-palindrome-subsequence-space/***"
   ]
  },
  {
   "cell_type": "markdown",
   "metadata": {},
   "source": [
    "## **204 Egg Dropping Puzzle | DP-11**\n",
    "https://www.geeksforgeeks.org/egg-dropping-puzzle-dp-11/"
   ]
  },
  {
   "cell_type": "code",
   "execution_count": 73,
   "metadata": {},
   "outputs": [],
   "source": [
    "/*\n",
    "The following is a description of the instance of this famous puzzle \n",
    "    involving n=2 eggs and a building with k=36 floors.\n",
    "    \n",
    "Suppose that we wish to know which stories in a 36-story building are safe to drop eggs from, \n",
    "and which will cause the eggs to break on landing. \n",
    "\n",
    "We make a few assumptions:\n",
    "\n",
    "    An egg that survives a fall can be used again.\n",
    "    A broken egg must be discarded.\n",
    "    The effect of a fall is the same for all eggs.\n",
    "    If an egg breaks when dropped, \n",
    "        then it would break if dropped from a higher floor.\n",
    "    If an egg survives a fall \n",
    "        then it would survive a shorter fall.\n",
    "    It is not ruled out that the first-floor windows break eggs, \n",
    "        nor is it ruled out that the 36th-floor do not cause an egg to break.\n",
    "\n",
    "If only one egg is available and we wish to be sure of obtaining the right result, \n",
    "    the experiment can be carried out in only one way. \n",
    "    Drop the egg from the first-floor window; \n",
    "        if it survives, \n",
    "            drop it from the second floor window. \n",
    "            Continue upward until it breaks. \n",
    "    In the worst case, this method may require 36 droppings. \n",
    "\n",
    "Suppose 2 eggs are available. \n",
    "    What is the least number of egg-droppings that is guaranteed to work in all cases?\n",
    "\n",
    "The problem is not actually to find the critical floor, \n",
    "    but merely to decide floors from which eggs should be dropped so that total number of trials are minimized.\n",
    "*/"
   ]
  },
  {
   "cell_type": "code",
   "execution_count": 74,
   "metadata": {},
   "outputs": [],
   "source": [
    "/*\n",
    "In this post, \n",
    "we will discuss solution to a general problem with n eggs and k floors.\n",
    "\n",
    "The solution is to try dropping an egg from every floor (from 1 to k) \n",
    "and recursively calculate the minimum number of droppings needed in worst case. \n",
    "The floor which gives the minimum value in worst case is going to be part of the solution.\n",
    "\n",
    "In the following solutions, \n",
    "    we return the minimum number of trials in worst case; \n",
    "    these solutions can be easily modified to print floor numbers of every trials also.\n",
    "*/"
   ]
  },
  {
   "cell_type": "code",
   "execution_count": 75,
   "metadata": {},
   "outputs": [],
   "source": [
    "/*\n",
    "1) Optimal Substructure:\n",
    "\n",
    "When we drop an egg from a floor x, \n",
    "there can be two cases \n",
    "    (1) The egg breaks \n",
    "    (2) The egg doesn’t break.\n",
    "\n",
    "1) If the egg breaks after dropping from xth floor, \n",
    "        then we only need to check for floors lower than x with remaining eggs; \n",
    "        so the problem reduces to x-1 floors and n-1 eggs\n",
    "2) If the egg doesn’t break after dropping from the xth floor, \n",
    "        then we only need to check for floors higher than x; \n",
    "        so the problem reduces to k-x floors and n eggs.\n",
    "\n",
    "Since we need to minimize the number of trials in worst case, \n",
    "    we take the maximum of two cases. \n",
    "\n",
    "We consider the max of above two cases for every floor and choose the floor which yields minimum number of trials.\n",
    "*/"
   ]
  },
  {
   "cell_type": "code",
   "execution_count": 76,
   "metadata": {},
   "outputs": [],
   "source": [
    "/*\n",
    "k ==> Number of floors\n",
    "n ==> Number of Eggs\n",
    "\n",
    "eggDrop(n, k) ==> Minimum number of trials needed to find the critical\n",
    "                    floor in worst case.\n",
    "eggDrop(n, k) = 1 + min{max(eggDrop(n - 1, x - 1), eggDrop(n, k - x)): \n",
    "                 x in {1, 2, ..., k}}\n",
    "*/"
   ]
  },
  {
   "cell_type": "code",
   "execution_count": 77,
   "metadata": {},
   "outputs": [],
   "source": [
    "/*\n",
    "2) Overlapping Subproblems\n",
    "    Following is recursive implementation that simply follows the recursive structure mentioned above.\n",
    "*/"
   ]
  },
  {
   "cell_type": "code",
   "execution_count": 78,
   "metadata": {},
   "outputs": [
    {
     "name": "stdout",
     "output_type": "stream",
     "text": [
      "Minimum number of trials in worst case with 2 eggs and 10 floors is 4"
     ]
    }
   ],
   "source": [
    "/* Function to get minimum number of  \n",
    "trials needed in worst case with n  \n",
    "eggs and k floors */\n",
    "static int eggDrop(int n, int k)  \n",
    "{  \n",
    "    // If there are no floors, then  \n",
    "    // no trials needed. OR if there  \n",
    "    // is one floor, one trial needed.  \n",
    "    if (k == 1 || k == 0)  \n",
    "        return k;  \n",
    "\n",
    "    // We need k trials for one egg  \n",
    "    // and k floors  \n",
    "    if (n == 1)  \n",
    "        return k;  \n",
    "\n",
    "    int min = Integer.MAX_VALUE;  \n",
    "    int x, res;  \n",
    "\n",
    "    // Consider all droppings from  \n",
    "    //1st floor to kth floor and  \n",
    "    // return the minimum of these  \n",
    "    // values plus 1.  \n",
    "    for (x = 1; x <= k; x++)  \n",
    "    {  \n",
    "        res = Math.max(eggDrop(n-1, x-1),  \n",
    "                    eggDrop(n, k-x));  \n",
    "        if (res < min)  \n",
    "            min = res;  \n",
    "    }  \n",
    "\n",
    "    return min + 1;  \n",
    "}  \n",
    "\n",
    "// Driver code  \n",
    "public static void main(String args[])  \n",
    "{  \n",
    "    int n = 2, k = 10;  \n",
    "    System.out.print(\"Minimum number of \"\n",
    "        + \"trials in worst case with \"\n",
    "            + n + \" eggs and \" + k  \n",
    "    + \" floors is \" + eggDrop(n, k));  \n",
    "}  \n",
    "main(args);"
   ]
  },
  {
   "cell_type": "code",
   "execution_count": 79,
   "metadata": {},
   "outputs": [],
   "source": [
    "/*\n",
    "It should be noted that the above function computes the same subproblems again and again. \n",
    "See the following partial recursion tree, \n",
    "    E(2, 2) is being evaluated twice. \n",
    "There will many repeated subproblems when you draw the complete recursion tree even for small values of n and k.\n",
    "*/"
   ]
  },
  {
   "cell_type": "code",
   "execution_count": 80,
   "metadata": {},
   "outputs": [],
   "source": [
    "/*\n",
    "                         E(2,4)\n",
    "                           |                      \n",
    "          ------------------------------------- \n",
    "          |             |           |         |   \n",
    "          |             |           |         |       \n",
    "      x=1/          x=2/      x=3/     x=4/ \n",
    "        /             /         ....      ....\n",
    "       /             /    \n",
    " E(1,0)  E(2,3)     E(1,1)  E(2,2)\n",
    "          /  /...         /  \n",
    "      x=1/                 .....\n",
    "        /    \n",
    "     E(1,0)  E(2,2)\n",
    "            /   \n",
    "            ......\n",
    "\n",
    "Partial recursion tree for 2 eggs and 4 floors.\n",
    "*/"
   ]
  },
  {
   "cell_type": "code",
   "execution_count": 81,
   "metadata": {},
   "outputs": [],
   "source": [
    "/*\n",
    "Dynamic Programming Solution\n",
    "\n",
    "    Following are the implementations for Egg Dropping problem using Dynamic Programming.\n",
    "*/"
   ]
  },
  {
   "cell_type": "code",
   "execution_count": 82,
   "metadata": {},
   "outputs": [
    {
     "ename": "CompilationException",
     "evalue": "",
     "output_type": "error",
     "traceback": [
      "\u001b[1m\u001b[30m|   \u001b[1m\u001b[30m\u001b[0m\u001b[1m\u001b[30m\u001b[41m\u001b[0m\u001b[1m\u001b[30m// A utility function to get maximum of two integers \u001b[0m",
      "\u001b[1m\u001b[31mcannot find symbol\u001b[0m",
      "\u001b[1m\u001b[31m  symbol:   class \u001b[0m",
      "",
      "\u001b[1m\u001b[30m|   \u001b[1m\u001b[30m\u001b[0m\u001b[1m\u001b[30m\u001b[41m\u001b[0m\u001b[1m\u001b[30m// A utility function to get maximum of two integers \u001b[0m",
      "\u001b[1m\u001b[31mstatic import only from classes and interfaces\u001b[0m",
      "",
      "\u001b[1m\u001b[30m|   \u001b[1m\u001b[30m\u001b[0m\u001b[1m\u001b[30m\u001b[41mstatic\u001b[0m\u001b[1m\u001b[30m int max(int a, int b) \u001b[0m",
      "\u001b[1m\u001b[31mModifier 'static'  not permitted in top-level declarations, ignored\u001b[0m",
      ""
     ]
    }
   ],
   "source": [
    "// A utility function to get maximum of two integers \n",
    "static int max(int a, int b) \n",
    "{ \n",
    "    return (a > b)? a: b; \n",
    "} "
   ]
  },
  {
   "cell_type": "code",
   "execution_count": 83,
   "metadata": {},
   "outputs": [],
   "source": [
    "/* Function to get minimum number of trials needed in worst \n",
    "case with n eggs and k floors */\n",
    "static int eggDrop(int n, int k) \n",
    "{ \n",
    "   /* A 2D table where entery eggFloor[i][j] will represent minimum \n",
    "   number of trials needed for i eggs and j floors. */\n",
    "    int eggFloor[][] = new int[n+1][k+1]; \n",
    "    int res; \n",
    "    int i, j, x; \n",
    "\n",
    "    // We need one trial for one floor and0 trials for 0 floors \n",
    "    for (i = 1; i <= n; i++) \n",
    "    { \n",
    "        eggFloor[i][1] = 1; \n",
    "        eggFloor[i][0] = 0; \n",
    "    } \n",
    "\n",
    "   // We always need j trials for one egg and j floors. \n",
    "    for (j = 1; j <= k; j++) \n",
    "        eggFloor[1][j] = j; \n",
    "\n",
    "    // Fill rest of the entries in table using optimal substructure \n",
    "    // property \n",
    "    for (i = 2; i <= n; i++) \n",
    "    { \n",
    "        for (j = 2; j <= k; j++) \n",
    "        { \n",
    "            eggFloor[i][j] = Integer.MAX_VALUE; \n",
    "            for (x = 1; x <= j; x++) \n",
    "            { \n",
    "                 res = 1 + max(eggFloor[i-1][x-1], eggFloor[i][j-x]); \n",
    "                 if (res < eggFloor[i][j]) \n",
    "                    eggFloor[i][j] = res; \n",
    "            } \n",
    "        } \n",
    "    } \n",
    "\n",
    "    // eggFloor[n][k] holds the result \n",
    "    return eggFloor[n][k]; \n",
    "\n",
    "}"
   ]
  },
  {
   "cell_type": "code",
   "execution_count": 84,
   "metadata": {},
   "outputs": [
    {
     "ename": "UnresolvedReferenceException",
     "evalue": "Attempt to use definition snippet with unresolved references in MethodSnippet:eggDrop/(int,int)int-/* Function to get minimum number of trials needed in worst \ncase with n eggs and k floors */\nstatic int eggDrop(int n, int k) \n{ \n   /* A 2D table where entery eggFloor[i][j] will represent minimum \n   number of trials needed for i eggs and j floors. */\n    int eggFloor[][] = new int[n+1][k+1]; \n    int res; \n    int i, j, x; \n\n    // We need one trial for one floor and0 trials for 0 floors \n    for (i = 1; i <= n; i++) \n    { \n        eggFloor[i][1] = 1; \n        eggFloor[i][0] = 0; \n    } \n\n   // We always need j trials for one egg and j floors. \n    for (j = 1; j <= k; j++) \n        eggFloor[1][j] = j; \n\n    // Fill rest of the entries in table using optimal substructure \n    // property \n    for (i = 2; i <= n; i++) \n    { \n        for (j = 2; j <= k; j++) \n        { \n            eggFloor[i][j] = Integer.MAX_VALUE; \n            for (x = 1; x <= j; x++) \n            { \n                 res = 1 + max(eggFloor[i-1][x-1], eggFloor[i][j-x]); \n                 if (res < eggFloor[i][j]) \n                    eggFloor[i][j] = res; \n            } \n        } \n    } \n\n    // eggFloor[n][k] holds the result \n    return eggFloor[n][k]; \n\n}",
     "output_type": "error",
     "traceback": [
      "\u001b[1m\u001b[30m|   \u001b[1m\u001b[30m/* Function to get minimum number of trials needed in worst \u001b[0m",
      "\u001b[1m\u001b[30m|   \u001b[1m\u001b[30mcase with n eggs and k floors */\u001b[0m",
      "\u001b[1m\u001b[30m|   \u001b[1m\u001b[30mstatic int eggDrop(int n, int k) \u001b[0m",
      "\u001b[1m\u001b[30m|   \u001b[1m\u001b[30m{ \u001b[0m",
      "\u001b[1m\u001b[30m|   \u001b[1m\u001b[30m   /* A 2D table where entery eggFloor[i][j] will represent minimum \u001b[0m",
      "\u001b[1m\u001b[30m|   \u001b[1m\u001b[30m   number of trials needed for i eggs and j floors. */\u001b[0m",
      "\u001b[1m\u001b[30m|   \u001b[1m\u001b[30m    int eggFloor[][] = new int[n+1][k+1]; \u001b[0m",
      "\u001b[1m\u001b[30m|   \u001b[1m\u001b[30m    int res; \u001b[0m",
      "\u001b[1m\u001b[30m|   \u001b[1m\u001b[30m    int i, j, x; \u001b[0m",
      "\u001b[1m\u001b[30m|   \u001b[1m\u001b[30m\u001b[0m",
      "\u001b[1m\u001b[30m|   \u001b[1m\u001b[30m    // We need one trial for one floor and0 trials for 0 floors \u001b[0m",
      "\u001b[1m\u001b[30m|   \u001b[1m\u001b[30m    for (i = 1; i <= n; i++) \u001b[0m",
      "\u001b[1m\u001b[30m|   \u001b[1m\u001b[30m    { \u001b[0m",
      "\u001b[1m\u001b[30m|   \u001b[1m\u001b[30m        eggFloor[i][1] = 1; \u001b[0m",
      "\u001b[1m\u001b[30m|   \u001b[1m\u001b[30m        eggFloor[i][0] = 0; \u001b[0m",
      "\u001b[1m\u001b[30m|   \u001b[1m\u001b[30m    } \u001b[0m",
      "\u001b[1m\u001b[30m|   \u001b[1m\u001b[30m\u001b[0m",
      "\u001b[1m\u001b[30m|   \u001b[1m\u001b[30m   // We always need j trials for one egg and j floors. \u001b[0m",
      "\u001b[1m\u001b[30m|   \u001b[1m\u001b[30m    for (j = 1; j <= k; j++) \u001b[0m",
      "\u001b[1m\u001b[30m|   \u001b[1m\u001b[30m        eggFloor[1][j] = j; \u001b[0m",
      "\u001b[1m\u001b[30m|   \u001b[1m\u001b[30m\u001b[0m",
      "\u001b[1m\u001b[30m|   \u001b[1m\u001b[30m    // Fill rest of the entries in table using optimal substructure \u001b[0m",
      "\u001b[1m\u001b[30m|   \u001b[1m\u001b[30m    // property \u001b[0m",
      "\u001b[1m\u001b[30m|   \u001b[1m\u001b[30m    for (i = 2; i <= n; i++) \u001b[0m",
      "\u001b[1m\u001b[30m|   \u001b[1m\u001b[30m    { \u001b[0m",
      "\u001b[1m\u001b[30m|   \u001b[1m\u001b[30m        for (j = 2; j <= k; j++) \u001b[0m",
      "\u001b[1m\u001b[30m|   \u001b[1m\u001b[30m        { \u001b[0m",
      "\u001b[1m\u001b[30m|   \u001b[1m\u001b[30m            eggFloor[i][j] = Integer.MAX_VALUE; \u001b[0m",
      "\u001b[1m\u001b[30m|   \u001b[1m\u001b[30m            for (x = 1; x <= j; x++) \u001b[0m",
      "\u001b[1m\u001b[30m|   \u001b[1m\u001b[30m            { \u001b[0m",
      "\u001b[1m\u001b[30m|   \u001b[1m\u001b[30m                 res = 1 + max(eggFloor[i-1][x-1], eggFloor[i][j-x]); \u001b[0m",
      "\u001b[1m\u001b[30m|   \u001b[1m\u001b[30m                 if (res < eggFloor[i][j]) \u001b[0m",
      "\u001b[1m\u001b[30m|   \u001b[1m\u001b[30m                    eggFloor[i][j] = res; \u001b[0m",
      "\u001b[1m\u001b[30m|   \u001b[1m\u001b[30m            } \u001b[0m",
      "\u001b[1m\u001b[30m|   \u001b[1m\u001b[30m        } \u001b[0m",
      "\u001b[1m\u001b[30m|   \u001b[1m\u001b[30m    } \u001b[0m",
      "\u001b[1m\u001b[30m|   \u001b[1m\u001b[30m\u001b[0m",
      "\u001b[1m\u001b[30m|   \u001b[1m\u001b[30m    // eggFloor[n][k] holds the result \u001b[0m",
      "\u001b[1m\u001b[30m|   \u001b[1m\u001b[30m    return eggFloor[n][k]; \u001b[0m",
      "\u001b[1m\u001b[30m|   \u001b[1m\u001b[30m\u001b[0m",
      "\u001b[1m\u001b[30m|   \u001b[1m\u001b[30m}\u001b[0m",
      "\u001b[1m\u001b[31mUnresolved dependencies:\u001b[0m",
      "\u001b[1m\u001b[31m   - method max(int,int)\u001b[0m"
     ]
    }
   ],
   "source": [
    "/* Driver program to test to pront printDups*/\n",
    "public static void  main(String args[] ) \n",
    "{ \n",
    "    int n = 2, k = 10; \n",
    "    System.out.println(\"Minimum number of trials in worst case with \"+n+\"  eggs and \"+k+ \n",
    "             \" floors is \"+eggDrop(n, k));    \n",
    "} \n",
    "main(args);"
   ]
  },
  {
   "cell_type": "code",
   "execution_count": 85,
   "metadata": {},
   "outputs": [],
   "source": [
    "/*\n",
    "Time Complexity: O(nk^2)\n",
    "Auxiliary Space: O(nk)\n",
    "*/"
   ]
  },
  {
   "cell_type": "markdown",
   "metadata": {},
   "source": [
    "**Related Link** ***https://www.geeksforgeeks.org/eggs-dropping-puzzle-binomial-coefficient-and-binary-search-solution/***"
   ]
  },
  {
   "cell_type": "markdown",
   "metadata": {},
   "source": [
    "***https://www.geeksforgeeks.org/egg-dropping-puzzle-with-2-eggs-and-k-floors/***\n",
    "\n",
    "***http://geeksquiz.com/puzzle-set-35-2-eggs-and-100-floors/***"
   ]
  },
  {
   "cell_type": "markdown",
   "metadata": {},
   "source": [
    "***https://youtu.be/KVfxgpI3Tv0***"
   ]
  },
  {
   "cell_type": "markdown",
   "metadata": {},
   "source": [
    "## **205 Box Stacking Problem | DP-22**\n",
    "https://www.geeksforgeeks.org/box-stacking-problem-dp-22/"
   ]
  },
  {
   "cell_type": "code",
   "execution_count": 86,
   "metadata": {},
   "outputs": [],
   "source": [
    "/*\n",
    "You are given a set of n types of rectangular 3-D boxes, \n",
    "    where the i^th box has height h(i), width w(i) and depth d(i) (all real numbers). \n",
    "You want to create a stack of boxes which is as tall as possible, \n",
    "    but you can only stack a box on top of another box \n",
    "        if the dimensions of the 2-D base of the lower box are each strictly larger than those of the 2-D base of the higher box. \n",
    "    Of course, you can rotate a box so that any side functions as its base. \n",
    "It is also allowable to use multiple instances of the same type of box.\n",
    "*/"
   ]
  },
  {
   "cell_type": "code",
   "execution_count": 87,
   "metadata": {},
   "outputs": [],
   "source": [
    "/*\n",
    "The Box Stacking problem is a variation of LIS problem. We need to build a maximum height stack.\n",
    "*/"
   ]
  },
  {
   "cell_type": "code",
   "execution_count": 88,
   "metadata": {},
   "outputs": [],
   "source": [
    "/*\n",
    "Following are the key points to note in the problem statement:\n",
    "\n",
    "1) A box can be placed on top of another box \n",
    "    only if both width and depth of the upper placed box are smaller than width and depth of the lower box respectively.\n",
    "2) We can rotate boxes such that width is smaller than depth. \n",
    "    For example, \n",
    "        if there is a box with dimensions {1x2x3} where 1 is height, 2×3 is base, \n",
    "            then there can be three possibilities, {1x2x3}, {2x1x3} and {3x1x2}\n",
    "3) We can use multiple instances of boxes.\n",
    "    What it means is, \n",
    "        we can have two different rotations of a box as part of our maximum height stack.\n",
    "\n",
    "Following is the solution based on DP solution of LIS problem.\n",
    "\n",
    "1) Generate all 3 rotations of all boxes. \n",
    "    The size of rotation array becomes 3 times the size of original array. \n",
    "    For simplicity, we consider depth as always smaller than or equal to width.\n",
    "\n",
    "2) Sort the above generated 3n boxes in decreasing order of base area.\n",
    "\n",
    "3) After sorting the boxes, the problem is same as LIS with following optimal substructure property.\n",
    "    MSH(i) = Maximum possible Stack Height with box i at top of stack\n",
    "    MSH(i) = { Max ( MSH(j) ) + height(i) } where j < i and width(j) > width(i) and depth(j) > depth(i).\n",
    "    \n",
    "    If there is no such j then MSH(i) = height(i)\n",
    "\n",
    "4) To get overall maximum height, we return max(MSH(i)) where 0 < i < n\n",
    "*/"
   ]
  },
  {
   "cell_type": "code",
   "execution_count": 89,
   "metadata": {},
   "outputs": [],
   "source": [
    "/* Representation of a box */\n",
    "static class Box implements Comparable<Box>{ \n",
    "\n",
    "    // h --> height, w --> width, \n",
    "    // d --> depth \n",
    "    int h, w, d, area; \n",
    "\n",
    "    // for simplicity of solution, \n",
    "    // always keep w <= d \n",
    "\n",
    "    /*Constructor to initialise object*/\n",
    "    public Box(int h, int w, int d) { \n",
    "        this.h = h; \n",
    "        this.w = w; \n",
    "        this.d = d; \n",
    "    } \n",
    "\n",
    "    /*To sort the box array on the basis \n",
    "    of area in decreasing order of area */\n",
    "    @Override\n",
    "    public int compareTo(Box o) { \n",
    "        return o.area-this.area; \n",
    "    } \n",
    "} "
   ]
  },
  {
   "cell_type": "code",
   "execution_count": 90,
   "metadata": {},
   "outputs": [],
   "source": [
    "/* Returns the height of the tallest \n",
    "stack that can be formed with give  \n",
    "type of boxes */\n",
    "static int maxStackHeight( Box arr[], int n){ \n",
    "\n",
    "    Box[] rot = new Box[n*3]; \n",
    "\n",
    "    /* New Array of boxes is created -  \n",
    "    considering all 3 possible rotations,  \n",
    "    with width always greater than equal \n",
    "    to width */\n",
    "    for(int i = 0;i < n;i++){ \n",
    "        Box box = arr[i]; \n",
    "\n",
    "        /* Orignal Box*/\n",
    "        rot[3*i] = new Box(box.h, Math.max(box.w,box.d),  \n",
    "                                Math.min(box.w,box.d)); \n",
    "\n",
    "        /* First rotation of box*/\n",
    "        rot[3*i + 1] = new Box(box.w, Math.max(box.h,box.d),  \n",
    "                                   Math.min(box.h,box.d)); \n",
    "\n",
    "        /* Second rotation of box*/\n",
    "        rot[3*i + 2] = new Box(box.d, Math.max(box.w,box.h), \n",
    "                                   Math.min(box.w,box.h)); \n",
    "    } \n",
    "\n",
    "    /* Calculating base area of  \n",
    "    each of the boxes.*/\n",
    "    for(int i = 0; i < rot.length; i++) \n",
    "        rot[i].area = rot[i].w * rot[i].d; \n",
    "\n",
    "    /* Sorting the Boxes on the bases  \n",
    "    of Area in non Increasing order.*/\n",
    "    Arrays.sort(rot); \n",
    "\n",
    "    int count = 3 * n; \n",
    "\n",
    "    /* Initialize msh values for all  \n",
    "    indexes  \n",
    "    msh[i] --> Maximum possible Stack Height \n",
    "               with box i on top */\n",
    "    int[]msh = new int[count]; \n",
    "    for (int i = 0; i < count; i++ ) \n",
    "        msh[i] = rot[i].h; \n",
    "\n",
    "    /* Computing optimized msh[]  \n",
    "    values in bottom up manner */\n",
    "    for(int i = 0; i < count; i++){ \n",
    "        msh[i] = 0; \n",
    "        Box box = rot[i]; \n",
    "        int val = 0; \n",
    "\n",
    "        for(int j = 0; j < i; j++){ \n",
    "            Box prevBox = rot[j]; \n",
    "            if(box.w < prevBox.w && box.d < prevBox.d){ \n",
    "                val = Math.max(val, msh[j]); \n",
    "            } \n",
    "        } \n",
    "        msh[i] = val + box.h; \n",
    "    } \n",
    "\n",
    "    int max = -1; \n",
    "\n",
    "    /* Pick maximum of all msh values */\n",
    "    for(int i = 0; i < count; i++){ \n",
    "        max = Math.max(max, msh[i]); \n",
    "    } \n",
    "\n",
    "    return max; \n",
    "}"
   ]
  },
  {
   "cell_type": "code",
   "execution_count": 91,
   "metadata": {},
   "outputs": [
    {
     "name": "stdout",
     "output_type": "stream",
     "text": [
      "The maximum possible height of stack is 60\n"
     ]
    }
   ],
   "source": [
    "/* Driver program to test above function */\n",
    "public static void main(String[] args) { \n",
    "\n",
    "    Box[] arr = new Box[4]; \n",
    "    arr[0] = new Box(4, 6, 7); \n",
    "    arr[1] = new Box(1, 2, 3); \n",
    "    arr[2] = new Box(4, 5, 6); \n",
    "    arr[3] = new Box(10, 12, 32); \n",
    "\n",
    "    System.out.println(\"The maximum possible \"+ \n",
    "                       \"height of stack is \" +  \n",
    "                       maxStackHeight(arr,4)); \n",
    "} \n",
    "main(args);"
   ]
  },
  {
   "cell_type": "code",
   "execution_count": 92,
   "metadata": {},
   "outputs": [],
   "source": [
    "/*\n",
    "In the above program, \n",
    "given input boxes are {4, 6, 7}, {1, 2, 3}, {4, 5, 6}, {10, 12, 32}.\n",
    "Following are all rotations of the boxes in decreasing order of base area.\n",
    "\n",
    "   10 x 12 x 32\n",
    "   12 x 10 x 32\n",
    "   32 x 10 x 12\n",
    "   4 x 6 x 7\n",
    "   4 x 5 x 6\n",
    "   6 x 4 x 7\n",
    "   5 x 4 x 6\n",
    "   7 x 4 x 6\n",
    "   6 x 4 x 5\n",
    "   1 x 2 x 3\n",
    "   2 x 1 x 3\n",
    "   3 x 1 x 2\n",
    "The height 60 is obtained by boxes { {3, 1, 2}, {1, 2, 3}, {6, 4, 5}, {4, 5, 6}, {4, 6, 7}, {32, 10, 12}, {10, 12, 32}}\n",
    "\n",
    "Time Complexity: O(n^2)\n",
    "Auxiliary Space: O(n)\n",
    "*/"
   ]
  },
  {
   "cell_type": "markdown",
   "metadata": {},
   "source": [
    "***https://youtu.be/KgWy0fY0dRM***"
   ]
  },
  {
   "cell_type": "markdown",
   "metadata": {},
   "source": [
    "## **206 Optimal Binary Search Tree | DP-24**\n",
    "https://www.geeksforgeeks.org/optimal-binary-search-tree-dp-24/"
   ]
  },
  {
   "cell_type": "code",
   "execution_count": 93,
   "metadata": {},
   "outputs": [],
   "source": [
    "/*\n",
    "Given a sorted array keys[0.. n-1] of search keys \n",
    "and an array freq[0.. n-1] of frequency counts, \n",
    "where freq[i] is the number of searches to keys[i]. \n",
    "\n",
    "Construct a binary search tree of all keys such that the total cost of all the searches is as small as possible.\n",
    "\n",
    "Let us first define the cost of a BST. \n",
    "The cost of a BST node is level of that node multiplied by its frequency. \n",
    "Level of root is 1.\n",
    "*/"
   ]
  },
  {
   "cell_type": "code",
   "execution_count": 94,
   "metadata": {},
   "outputs": [],
   "source": [
    "/*\n",
    "Examples:\n",
    "\n",
    "\n",
    "\n",
    "Input:  keys[] = {10, 12}, freq[] = {34, 50}\n",
    "There can be following two possible BSTs \n",
    "        10                       12\n",
    "          \\                     / \n",
    "           12                 10\n",
    "          I                     II\n",
    "Frequency of searches of 10 and 12 are 34 and 50 respectively.\n",
    "The cost of tree I is 34*1 + 50*2 = 134\n",
    "The cost of tree II is 50*1 + 34*2 = 118 \n",
    "\n",
    "\n",
    "Input:  keys[] = {10, 12, 20}, freq[] = {34, 8, 50}\n",
    "There can be following possible BSTs\n",
    "    10                12                 20         10              20\n",
    "      \\             /    \\              /             \\            /\n",
    "      12          10     20           12               20         10  \n",
    "        \\                            /                 /           \\\n",
    "         20                        10                12             12  \n",
    "     I               II             III             IV             V\n",
    "Among all possible BSTs, cost of the fifth BST is minimum.  \n",
    "Cost of the fifth BST is 1*50 + 2*34 + 3*8 = 142\n",
    "*/"
   ]
  },
  {
   "cell_type": "code",
   "execution_count": 95,
   "metadata": {},
   "outputs": [],
   "source": [
    "/*\n",
    "1) Optimal Substructure:\n",
    "The optimal cost for freq[i..j] can be recursively calculated using formula given below.\n",
    "\n",
    "We need to calculate optCost(0, n-1) to find the result.\n",
    "\n",
    "The idea of above formula is simple, \n",
    "    we one by one try all nodes as root (r varies from i to j in second term). \n",
    "    When we make rth node as root, \n",
    "        we recursively calculate optimal cost from i to r-1 and r+1 to j.\n",
    "        \n",
    "We add sum of frequencies from i to j (see first term in the above formula),\n",
    "    this is added because every search will go through root and one comparison will be done for every search.\n",
    "*/"
   ]
  },
  {
   "cell_type": "markdown",
   "metadata": {},
   "source": [
    "<img src = \"https://www.geeksforgeeks.org/wp-content/ql-cache/quicklatex.com-944d3ae84f7f1459635e4d28f884fb49_l3.svg\"/>"
   ]
  },
  {
   "cell_type": "code",
   "execution_count": 96,
   "metadata": {},
   "outputs": [],
   "source": [
    "/*\n",
    "2) Overlapping Subproblems\n",
    "    Following is recursive implementation that simply follows the recursive structure mentioned above.\n",
    "*/"
   ]
  },
  {
   "cell_type": "code",
   "execution_count": 97,
   "metadata": {},
   "outputs": [],
   "source": [
    "// A recursive function to calculate cost of \n",
    "    // optimal binary search tree \n",
    "static int optCost(int freq[], int i, int j) \n",
    "{ \n",
    "   // Base cases \n",
    "   if (j < i)      // no elements in this subarray \n",
    "     return 0; \n",
    "   if (j == i)     // one element in this subarray \n",
    "     return freq[i]; \n",
    "\n",
    "   // Get sum of freq[i], freq[i+1], ... freq[j] \n",
    "   int fsum = sum(freq, i, j); \n",
    "\n",
    "   // Initialize minimum value \n",
    "   int min = Integer.MAX_VALUE; \n",
    "\n",
    "   // One by one consider all elements as root and  \n",
    "       // recursively find cost of the BST, compare the  \n",
    "       // cost with min and update min if needed \n",
    "   for (int r = i; r <= j; ++r) \n",
    "   { \n",
    "       int cost = optCost(freq, i, r-1) +  \n",
    "                      optCost(freq, r+1, j); \n",
    "       if (cost < min) \n",
    "          min = cost; \n",
    "   } \n",
    "\n",
    "   // Return minimum value \n",
    "   return min + fsum; \n",
    "} \n"
   ]
  },
  {
   "cell_type": "code",
   "execution_count": 98,
   "metadata": {},
   "outputs": [],
   "source": [
    "// The main function that calculates minimum cost of \n",
    "    // a Binary Search Tree. It mainly uses optCost() to \n",
    "    // find the optimal cost. \n",
    "static int optimalSearchTree(int keys[], int freq[], int n) \n",
    "{ \n",
    "     // Here array keys[] is assumed to be sorted in  \n",
    "         // increasing order. If keys[] is not sorted, then \n",
    "         // add code to sort keys, and rearrange freq[]  \n",
    "         // accordingly. \n",
    "     return optCost(freq, 0, n-1); \n",
    "} "
   ]
  },
  {
   "cell_type": "code",
   "execution_count": 99,
   "metadata": {},
   "outputs": [],
   "source": [
    "// A utility function to get sum of array elements  \n",
    "    // freq[i] to freq[j] \n",
    "static int sum(int freq[], int i, int j) \n",
    "{ \n",
    "    int s = 0; \n",
    "    for (int k = i; k <=j; k++) \n",
    "       s += freq[k]; \n",
    "    return s; \n",
    "} "
   ]
  },
  {
   "cell_type": "code",
   "execution_count": 100,
   "metadata": {},
   "outputs": [
    {
     "name": "stdout",
     "output_type": "stream",
     "text": [
      "Cost of Optimal BST is 142\n"
     ]
    }
   ],
   "source": [
    "// Driver code \n",
    "public static void main(String[] args) { \n",
    "    int keys[] = {10, 12, 20}; \n",
    "    int freq[] = {34, 8, 50}; \n",
    "    int n = keys.length; \n",
    "    System.out.println(\"Cost of Optimal BST is \" + \n",
    "                     optimalSearchTree(keys, freq, n)); \n",
    "} \n",
    "main(args);"
   ]
  },
  {
   "cell_type": "code",
   "execution_count": 101,
   "metadata": {},
   "outputs": [],
   "source": [
    "/*\n",
    "Time complexity of the above naive recursive approach is exponential. \n",
    "It should be noted that the above function computes the same subproblems again and again. \n",
    "We can see many subproblems being repeated in the following recursion tree for freq[1..4].\n",
    "*/"
   ]
  },
  {
   "cell_type": "markdown",
   "metadata": {},
   "source": [
    "<img src = \"https://media.geeksforgeeks.org/wp-content/uploads/matrixchainmultiplication.png\"/>"
   ]
  },
  {
   "cell_type": "code",
   "execution_count": 102,
   "metadata": {},
   "outputs": [],
   "source": [
    "/*\n",
    "Dynamic Programming Solution\n",
    "\n",
    "Following is implementation for optimal BST problem using Dynamic Programming. \n",
    "\n",
    "We use an auxiliary array cost[n][n] to store the solutions of subproblems. \n",
    "cost[0][n-1] will hold the final result. \n",
    "The challenge in implementation is, \n",
    "\n",
    "all diagonal values must be filled first, \n",
    "then the values which lie on the line just above the diagonal. \n",
    "\n",
    "In other words, we must first fill all cost[i][i] values, \n",
    "then all cost[i][i+1] values, \n",
    "then all cost[i][i+2] values. \n",
    "\n",
    "So how to fill the 2D array in such manner> \n",
    "The idea used in the implementation is same as Matrix Chain Multiplication problem, \n",
    "we use a variable ‘L’ for chain length and increment ‘L’, one by one. \n",
    "We calculate column number ‘j’ using the values of ‘i’ and ‘L’.\n",
    "*/"
   ]
  },
  {
   "cell_type": "code",
   "execution_count": 103,
   "metadata": {},
   "outputs": [],
   "source": [
    "/* A Dynamic Programming based function that calculates \n",
    "    minimum cost of a Binary Search Tree.  */\n",
    "static int optimalSearchTree(int keys[], int freq[], int n) { \n",
    "\n",
    "    /* Create an auxiliary 2D matrix to store results of  \n",
    "       subproblems */\n",
    "    int cost[][] = new int[n + 1][n + 1]; \n",
    "\n",
    "    /* cost[i][j] = Optimal cost of binary search tree that  \n",
    "       can be formed from keys[i] to keys[j]. cost[0][n-1]  \n",
    "       will store the resultant cost */\n",
    "\n",
    "    // For a single key, cost is equal to frequency of the key \n",
    "    for (int i = 0; i < n; i++) \n",
    "        cost[i][i] = freq[i]; \n",
    "\n",
    "    // Now we need to consider chains of length 2, 3, ... . \n",
    "    // L is chain length. \n",
    "    for (int L = 2; L <= n; L++) { \n",
    "\n",
    "        // i is row number in cost[][] \n",
    "        for (int i = 0; i <= n - L + 1; i++) { \n",
    "\n",
    "            // Get column number j from row number i and  \n",
    "            // chain length L \n",
    "            int j = i + L - 1; \n",
    "            cost[i][j] = Integer.MAX_VALUE; \n",
    "\n",
    "            // Try making all keys in interval keys[i..j] as root \n",
    "            for (int r = i; r <= j; r++) { \n",
    "\n",
    "                // c = cost when keys[r] becomes root of this subtree \n",
    "                int c = ((r > i) ? cost[i][r - 1] : 0) \n",
    "                        + ((r < j) ? cost[r + 1][j] : 0) + sum(freq, i, j); \n",
    "                if (c < cost[i][j]) \n",
    "                    cost[i][j] = c; \n",
    "            } \n",
    "        } \n",
    "    } \n",
    "    return cost[0][n - 1]; \n",
    "}"
   ]
  },
  {
   "cell_type": "code",
   "execution_count": 104,
   "metadata": {},
   "outputs": [],
   "source": [
    "// A utility function to get sum of array elements  \n",
    "// freq[i] to freq[j] \n",
    "static int sum(int freq[], int i, int j) { \n",
    "    int s = 0; \n",
    "    for (int k = i; k <= j; k++) { \n",
    "        if (k >= freq.length) \n",
    "            continue; \n",
    "        s += freq[k]; \n",
    "    } \n",
    "    return s; \n",
    "} "
   ]
  },
  {
   "cell_type": "code",
   "execution_count": 105,
   "metadata": {},
   "outputs": [
    {
     "name": "stdout",
     "output_type": "stream",
     "text": [
      "Cost of Optimal BST is 142\n"
     ]
    }
   ],
   "source": [
    "public static void main(String[] args) { \n",
    "\n",
    "    int keys[] = { 10, 12, 20 }; \n",
    "    int freq[] = { 34, 8, 50 }; \n",
    "    int n = keys.length; \n",
    "    System.out.println(\"Cost of Optimal BST is \"\n",
    "            + optimalSearchTree(keys, freq, n)); \n",
    "} \n",
    "main(args);"
   ]
  },
  {
   "cell_type": "code",
   "execution_count": 106,
   "metadata": {},
   "outputs": [],
   "source": [
    "/*\n",
    "Notes\n",
    "\n",
    "1) The time complexity of the above solution is O(n^4). \n",
    "   The time complexity can be easily reduced to O(n^3) by \n",
    "       pre-calculating sum of frequencies instead of calling sum() again and again.\n",
    "\n",
    "2) In the above solutions, \n",
    "   we have computed optimal cost only. \n",
    "   The solutions can be easily modified to store the structure of BSTs also. \n",
    "   We can create another auxiliary array of size n to store the structure of tree. \n",
    "   All we need to do is, store the chosen ‘r’ in the innermost loop.\n",
    "*/"
   ]
  },
  {
   "cell_type": "markdown",
   "metadata": {},
   "source": [
    "## **207 Minimum insertions to form a palindrome | DP-28**\n",
    "https://www.geeksforgeeks.org/minimum-insertions-to-form-a-palindrome-dp-28/"
   ]
  },
  {
   "cell_type": "code",
   "execution_count": 107,
   "metadata": {},
   "outputs": [],
   "source": [
    "/*\n",
    "Given a string str, \n",
    "the task is to find the minimum number of characters to be inserted to convert it to palindrome.\n",
    "\n",
    "Before we go further, let us understand with few examples:\n",
    "\n",
    "- ab: Number of insertions required is 1 \n",
    "        i.e. bab\n",
    "- aa: Number of insertions required is 0 \n",
    "        i.e. aa\n",
    "- abcd: Number of insertions required is 3 \n",
    "        i.e. dcbabcd\n",
    "- abcda: Number of insertions required is 2 \n",
    "        i.e. adcbcda which is same as number of insertions in the substring bcd(Why?).\n",
    "- abcde: Number of insertions required is 4 \n",
    "        i.e. edcbabcde\n",
    "*/"
   ]
  },
  {
   "cell_type": "code",
   "execution_count": 108,
   "metadata": {},
   "outputs": [],
   "source": [
    "/*\n",
    "Let the input string be str[l……h]. The problem can be broken down into three parts:\n",
    "\n",
    "1. Find the minimum number of insertions in the substring str[l+1,…….h].\n",
    "2. Find the minimum number of insertions in the substring str[l…….h-1].\n",
    "3. Find the minimum number of insertions in the substring str[l+1……h-1].\n",
    "*/"
   ]
  },
  {
   "cell_type": "code",
   "execution_count": 109,
   "metadata": {},
   "outputs": [],
   "source": [
    "/*\n",
    "Recursive Approach: The minimum number of insertions in the string str[l…..h] can be given as:\n",
    "\n",
    "minInsertions(str[l+1…..h-1]) \n",
    "    if str[l] is equal to str[h]\n",
    "min(minInsertions(str[l…..h-1]), minInsertions(str[l+1…..h])) + 1 \n",
    "    otherwise\n",
    "*/"
   ]
  },
  {
   "cell_type": "code",
   "execution_count": 110,
   "metadata": {},
   "outputs": [],
   "source": [
    "// Recursive function to find minimum number \n",
    "// of insertions \n",
    "static int findMinInsertions(char str[], int l, \n",
    "                                         int h) \n",
    "{ \n",
    "    // Base Cases \n",
    "    if (l > h) return Integer.MAX_VALUE; \n",
    "    if (l == h) return 0; \n",
    "    if (l == h - 1) return (str[l] == str[h])? 0 : 1; \n",
    "\n",
    "    // Check if the first and last characters \n",
    "    // are same. On the basis of the  comparison \n",
    "    // result, decide which subrpoblem(s) to call \n",
    "    return (str[l] == str[h])? \n",
    "        findMinInsertions(str, l + 1, h - 1): \n",
    "        (Integer.min(findMinInsertions(str, l, h - 1), \n",
    "        findMinInsertions(str, l + 1, h)) + 1); \n",
    "} "
   ]
  },
  {
   "cell_type": "code",
   "execution_count": 111,
   "metadata": {},
   "outputs": [
    {
     "name": "stdout",
     "output_type": "stream",
     "text": [
      "3\n"
     ]
    }
   ],
   "source": [
    "// Driver program to test above functions \n",
    "public static void main(String args[]) \n",
    "{ \n",
    "    String str= \"geeks\"; \n",
    "    System.out.println(findMinInsertions(str.toCharArray(), \n",
    "                                      0, str.length()-1)); \n",
    "} \n",
    "main(args);"
   ]
  },
  {
   "cell_type": "code",
   "execution_count": 112,
   "metadata": {},
   "outputs": [],
   "source": [
    "/*\n",
    "Dynamic Programming based Solution\n",
    "\n",
    "If we observe the above approach carefully, \n",
    "    we can find that it exhibits overlapping subproblems.\n",
    "Suppose we want to find the minimum number of insertions in string “abcde”:\n",
    "\n",
    "                      abcde\n",
    "            /       |      \\\n",
    "           /        |        \\\n",
    "           bcde         abcd       bcd  <- case 3 is discarded as str[l] != str[h]\n",
    "       /   |   \\       /   |   \\\n",
    "      /    |    \\     /    |    \\\n",
    "     cde   bcd  cd   bcd abc bc\n",
    "   / | \\  / | \\ /|\\ / | \\\n",
    "de cd d cd bc c………………….\n",
    "\n",
    "The substrings in bold show that the recursion to be terminated and \n",
    "the recursion tree cannot originate from there. \n",
    "\n",
    "Substring in the same color indicates overlapping subproblems.\n",
    "\n",
    "How to re-use solutions of subproblems? \n",
    "    Memoization technique is used to avoid similar subproblem recalls. \n",
    "    We can create a table to store results of subproblems \n",
    "        so that they can be used directly if same subproblem is encountered again.\n",
    "        \n",
    "Time complexity: O(N^2)\n",
    "Auxiliary Space: O(N^2)\n",
    "*/"
   ]
  },
  {
   "cell_type": "code",
   "execution_count": 113,
   "metadata": {},
   "outputs": [],
   "source": [
    "/*\n",
    "The below table represents the stored values for the string abcde.\n",
    "\n",
    "a b c d e\n",
    "----------\n",
    "0 1 2 3 4\n",
    "0 0 1 2 3 \n",
    "0 0 0 1 2 \n",
    "0 0 0 0 1 \n",
    "0 0 0 0 0\n",
    "*/"
   ]
  },
  {
   "cell_type": "code",
   "execution_count": 114,
   "metadata": {},
   "outputs": [],
   "source": [
    "/*\n",
    "How to fill the table?\n",
    "\n",
    "The table should be filled in diagonal fashion. \n",
    "For the string abcde, 0….4, the following should be order in which the table is filled:\n",
    "\n",
    "Gap = 1: (0, 1) (1, 2) (2, 3) (3, 4)\n",
    "\n",
    "Gap = 2: (0, 2) (1, 3) (2, 4)\n",
    "\n",
    "Gap = 3: (0, 3) (1, 4)\n",
    "\n",
    "Gap = 4: (0, 4)\n",
    "*/"
   ]
  },
  {
   "cell_type": "code",
   "execution_count": 115,
   "metadata": {},
   "outputs": [],
   "source": [
    "// A DP function to find minimum number \n",
    "// of insersions \n",
    "static int findMinInsertionsDP(char str[], int n) \n",
    "{ \n",
    "    // Create a table of size n*n. table[i][j] \n",
    "    // will store minumum number of insertions \n",
    "    // needed to convert str[i..j] to a palindrome. \n",
    "    int table[][] = new int[n][n]; \n",
    "    int l, h, gap; \n",
    "\n",
    "    // Fill the table \n",
    "    for (gap = 1; gap < n; ++gap) \n",
    "    for (l = 0, h = gap; h < n; ++l, ++h) \n",
    "        table[l][h] = (str[l] == str[h])? \n",
    "                       table[l+1][h-1] : \n",
    "                      (Integer.min(table[l][h-1], \n",
    "                             table[l+1][h]) + 1); \n",
    "\n",
    "    // Return minimum number of insertions \n",
    "    // for str[0..n-1] \n",
    "    return table[0][n-1]; \n",
    "} "
   ]
  },
  {
   "cell_type": "code",
   "execution_count": 116,
   "metadata": {},
   "outputs": [
    {
     "name": "stdout",
     "output_type": "stream",
     "text": [
      "3\n"
     ]
    }
   ],
   "source": [
    "// Driver program to test above function. \n",
    "public static void main(String args[]) \n",
    "{ \n",
    "    String str = \"geeks\"; \n",
    "    System.out.println( \n",
    "    findMinInsertionsDP(str.toCharArray(), str.length())); \n",
    "} \n",
    "main(args);"
   ]
  },
  {
   "cell_type": "code",
   "execution_count": 117,
   "metadata": {},
   "outputs": [],
   "source": [
    "/*\n",
    "Another Dynamic Programming Solution (Variation of Longest Common Subsequence Problem)\n",
    "Time complexity: O(N^2)\n",
    "Auxiliary Space: O(N^2)\n",
    "\n",
    "The problem of finding minimum insertions can also be solved using Longest Common Subsequence (LCS) Problem. \n",
    "If we find out LCS of string and its reverse, \n",
    "    we know how many maximum characters can form a palindrome. \n",
    "    We need insert remaining characters. \n",
    "\n",
    "Following are the steps.\n",
    "\n",
    "    Find the length of LCS of input string and its reverse. Let the length be ‘l’.\n",
    "    The minimum number insertions needed is length of input string minus ‘l’.\n",
    "*/"
   ]
  },
  {
   "cell_type": "code",
   "execution_count": 118,
   "metadata": {},
   "outputs": [],
   "source": [
    "/* Returns length of LCS for X[0..m-1], \n",
    "   Y[0..n-1]. See http://goo.gl/bHQVP for \n",
    "   details of this function */\n",
    "static int lcs( String X, String Y, int m, int n ) \n",
    "{ \n",
    "    int L[][] = new int[n+1][n+1]; \n",
    "    int i, j; \n",
    "\n",
    "    /* Following steps build L[m+1][n+1] in \n",
    "       bottom up fashion. Note that L[i][j] \n",
    "       contains length of LCS of X[0..i-1] \n",
    "       and Y[0..j-1] */\n",
    "    for (i=0; i<=m; i++) \n",
    "    { \n",
    "        for (j=0; j<=n; j++) \n",
    "        { \n",
    "            if (i == 0 || j == 0) \n",
    "                L[i][j] = 0; \n",
    "\n",
    "            else if (X.charAt(i-1) == Y.charAt(j-1)) \n",
    "                L[i][j] = L[i-1][j-1] + 1; \n",
    "\n",
    "            else\n",
    "                L[i][j] = Integer.max(L[i-1][j], L[i][j-1]); \n",
    "        } \n",
    "    } \n",
    "\n",
    "    /* L[m][n] contains length of LCS for \n",
    "       X[0..n-1] and Y[0..m-1] */\n",
    "    return L[m][n]; \n",
    "} "
   ]
  },
  {
   "cell_type": "code",
   "execution_count": 119,
   "metadata": {},
   "outputs": [],
   "source": [
    "// LCS based function to find minimum number \n",
    "// of insersions \n",
    "static int findMinInsertionsLCS(String str, int n) \n",
    "{ \n",
    "    // Using StringBuffer to reverse a String \n",
    "    StringBuffer sb = new StringBuffer(str); \n",
    "    sb.reverse(); \n",
    "    String revString = sb.toString(); \n",
    "\n",
    "    // The output is length of string minus \n",
    "    // length of lcs of str and it reverse \n",
    "    return (n - lcs(str, revString , n, n)); \n",
    "} "
   ]
  },
  {
   "cell_type": "code",
   "execution_count": 120,
   "metadata": {},
   "outputs": [
    {
     "name": "stdout",
     "output_type": "stream",
     "text": [
      "3\n"
     ]
    }
   ],
   "source": [
    "// Driver program to test above functions \n",
    "public static void main(String args[]) \n",
    "{ \n",
    "    String str = \"geeks\"; \n",
    "    System.out.println( \n",
    "    findMinInsertionsLCS(str, str.length())); \n",
    "} \n",
    "main(args);"
   ]
  },
  {
   "cell_type": "markdown",
   "metadata": {},
   "source": [
    "**Related Link :** ***https://www.geeksforgeeks.org/minimum-number-appends-needed-make-string-palindrome/***"
   ]
  },
  {
   "cell_type": "markdown",
   "metadata": {},
   "source": [
    "## **208 Maximum Product Cutting | DP-36**\n",
    "https://www.geeksforgeeks.org/maximum-product-cutting-dp-36/"
   ]
  },
  {
   "cell_type": "code",
   "execution_count": 121,
   "metadata": {},
   "outputs": [],
   "source": [
    "/*\n",
    "Given a rope of length n meters, \n",
    "cut the rope in different parts of integer lengths in a way that maximizes product of lengths of all parts. \n",
    "\n",
    "You must make at least one cut. \n",
    "Assume that the length of rope is more than 2 meters.\n",
    "*/"
   ]
  },
  {
   "cell_type": "code",
   "execution_count": 122,
   "metadata": {},
   "outputs": [],
   "source": [
    "/*\n",
    "Examples:\n",
    "\n",
    "Input: n = 2\n",
    "Output: 1 (Maximum obtainable product is 1*1)\n",
    "\n",
    "Input: n = 3\n",
    "Output: 2 (Maximum obtainable product is 1*2)\n",
    "\n",
    "Input: n = 4\n",
    "Output: 4 (Maximum obtainable product is 2*2)\n",
    "\n",
    "Input: n = 5\n",
    "Output: 6 (Maximum obtainable product is 2*3)\n",
    "\n",
    "Input: n = 10\n",
    "Output: 36 (Maximum obtainable product is 3*3*4)\n",
    "*/"
   ]
  },
  {
   "cell_type": "markdown",
   "metadata": {},
   "source": [
    "**Related Link :** ***https://www.geeksforgeeks.org/dynamic-programming-set-13-cutting-a-rod/***"
   ]
  },
  {
   "cell_type": "code",
   "execution_count": 123,
   "metadata": {},
   "outputs": [],
   "source": [
    "/*\n",
    "1) Optimal Substructure:\n",
    "\n",
    "This problem is similar to Rod Cutting Problem. \n",
    "We can get the maximum product by making a cut at different positions and comparing the values obtained after a cut. \n",
    "We can recursively call the same function for a piece obtained after a cut.\n",
    "\n",
    "Let maxProd(n) be the maximum product for a rope of length n. maxProd(n) can be written as following.\n",
    "\n",
    "    maxProd(n) = max(i*(n-i), maxProdRec(n-i)*i) for all i in {1, 2, 3 .. n}\n",
    "*/"
   ]
  },
  {
   "cell_type": "code",
   "execution_count": 124,
   "metadata": {},
   "outputs": [],
   "source": [
    "/*\n",
    "2) Overlapping Subproblems\n",
    "\n",
    "Following is simple recursive implementation of the problem. \n",
    "The implementation simply follows the recursive structure mentioned above.\n",
    "*/"
   ]
  },
  {
   "cell_type": "code",
   "execution_count": 125,
   "metadata": {},
   "outputs": [
    {
     "name": "stdout",
     "output_type": "stream",
     "text": [
      "Maximum Product is 36\n"
     ]
    }
   ],
   "source": [
    "// The main function that returns  \n",
    "// maximum product obtainable from  \n",
    "// a rope of length n \n",
    "static int maxProd(int n) \n",
    "{ \n",
    "    // Base cases \n",
    "    if (n == 0 || n == 1) return 0; \n",
    "\n",
    "    // Make a cut at different places \n",
    "    // and take the maximum of all \n",
    "    int max_val = 0; \n",
    "    for (int i = 1; i < n; i++) \n",
    "    max_val = Math.max(max_val, \n",
    "              Math.max(i * (n - i), \n",
    "               maxProd(n - i) * i)); \n",
    "\n",
    "    // Return the maximum of all values \n",
    "    return max_val; \n",
    "}    \n",
    "\n",
    "/* Driver program to test above functions */\n",
    "public static void main(String[] args) \n",
    "{ \n",
    "    System.out.println(\"Maximum Product is \" \n",
    "                        + maxProd(10)); \n",
    "} \n",
    "main(args);"
   ]
  },
  {
   "cell_type": "code",
   "execution_count": 126,
   "metadata": {},
   "outputs": [],
   "source": [
    "/*\n",
    "Considering the above implementation, following is recursion tree for a Rope of length 5\n",
    "\n",
    "In this partial recursion tree, \n",
    "mP(3) is being solved twice. \n",
    "\n",
    "We can see that there are many subproblems which are solved again and again.\n",
    "\n",
    "Like other typical Dynamic Programming(DP) problems, \n",
    "recomputations of same subproblems can be avoided by constructing a temporary array val[] in bottom up manner.\n",
    "\n",
    "Time Complexity of the Dynamic Programming solution is O(n^2) and it requires O(n) extra space\n",
    "*/"
   ]
  },
  {
   "cell_type": "markdown",
   "metadata": {},
   "source": [
    "<img src = \"https://media.geeksforgeeks.org/wp-content/cdn-uploads/maximium-product-cutting.png\"/>"
   ]
  },
  {
   "cell_type": "code",
   "execution_count": 127,
   "metadata": {},
   "outputs": [
    {
     "name": "stdout",
     "output_type": "stream",
     "text": [
      "0 0 1 2 4 6 9 12 18 27 36 \n",
      "Maximum Product is 36\n"
     ]
    }
   ],
   "source": [
    "// A Dynamic Programming solution for Max Product Problem \n",
    "int maxProds(int n) \n",
    "{ \n",
    "   int[] val = new int[n+1]; \n",
    "   val[0] = val[1] = 0; \n",
    "   \n",
    "   // Build the table val[] in bottom up manner and return \n",
    "   // the last entry from the table \n",
    "   for (int i = 1; i <= n; i++) \n",
    "   { \n",
    "      int max_val = 0; \n",
    "      for (int j = 1; j <= i/2; j++) \n",
    "         max_val = Math.max(max_val, Math.max((i-j)*j, j*val[i-j])); \n",
    "      val[i] = max_val; \n",
    "   } \n",
    "    \n",
    "   for(int v:val){\n",
    "       System.out.print(v+\" \");\n",
    "   }\n",
    "   System.out.println();\n",
    "   return val[n];\n",
    "}\n",
    "/* Driver program to test above functions */\n",
    "public static void main(String[] args) \n",
    "{ \n",
    "    System.out.println(\"Maximum Product is \" \n",
    "                        + maxProds(10)); \n",
    "} \n",
    "main(args);"
   ]
  },
  {
   "cell_type": "code",
   "execution_count": 128,
   "metadata": {},
   "outputs": [],
   "source": [
    "/*\n",
    "A Tricky Solution:\n",
    "If we see some examples of this problems, \n",
    "    we can easily observe following pattern.\n",
    "    \n",
    "The maximum product can be obtained be repeatedly cutting parts of size 3 while size is greater than 4, \n",
    "keeping the last part as size of 2 or 3 or 4. \n",
    "\n",
    "For example, \n",
    "n = 10,\n",
    "    the maximum product is obtained by 3, 3, 4. \n",
    "For n = 11, \n",
    "    the maximum product is obtained by 3, 3, 3, 2. \n",
    "    \n",
    "Following is the implementation of this approach.\n",
    "*/"
   ]
  },
  {
   "cell_type": "code",
   "execution_count": 129,
   "metadata": {},
   "outputs": [
    {
     "name": "stdout",
     "output_type": "stream",
     "text": [
      "Maximum Product is 36\n"
     ]
    }
   ],
   "source": [
    "/* The main function that returns the  \n",
    "    max possible product */\n",
    "static int maxProd(int n) \n",
    "{ \n",
    "      \n",
    "    // n equals to 2 or 3 must be handled \n",
    "    // explicitly \n",
    "    if (n == 2 || n == 3) \n",
    "        return (n-1); \n",
    "  \n",
    "    // Keep removing parts of size 3  \n",
    "    // while n is greater than 4 \n",
    "    int res = 1; \n",
    "    while (n > 4) \n",
    "    { \n",
    "        n -= 3; \n",
    "          \n",
    "        // Keep multiplying 3 to res \n",
    "        res *= 3;  \n",
    "    } \n",
    "      \n",
    "    // The last part multiplied by  \n",
    "    // previous parts \n",
    "    return (n * res);  \n",
    "} \n",
    "  \n",
    "/* Driver program to test above functions */\n",
    "public static void main(String[] args) \n",
    "{ \n",
    "        System.out.println(\"Maximum Product is \"\n",
    "                            + maxProd(10)); \n",
    "}\n",
    "main(args);"
   ]
  },
  {
   "cell_type": "markdown",
   "metadata": {},
   "source": [
    "## **209 Optimal Strategy for a Game | DP-31**\n",
    "https://www.geeksforgeeks.org/optimal-strategy-for-a-game-dp-31/"
   ]
  },
  {
   "cell_type": "code",
   "execution_count": 130,
   "metadata": {},
   "outputs": [],
   "source": [
    "/*\n",
    "Problem statement: \n",
    "Consider a row of n coins of values v1 . . . vn, where n is even. \n",
    "We play a game against an opponent by alternating turns. \n",
    "\n",
    "In each turn, \n",
    "a player selects either the first or last coin from the row, \n",
    "removes it from the row permanently, and receives the value of the coin. \n",
    "\n",
    "Determine the maximum possible amount of money we can definitely win if we move first.\n",
    "\n",
    "Note: The opponent is as clever as the user.\n",
    "*/"
   ]
  },
  {
   "cell_type": "code",
   "execution_count": 131,
   "metadata": {},
   "outputs": [],
   "source": [
    "/*\n",
    "Let us understand the problem with few examples:\n",
    "\n",
    "1. 5, 3, 7, 10 : The user collects maximum value as 15(10 + 5)\n",
    "\n",
    "2. 8, 15, 3, 7 : The user collects maximum value as 22(7 + 15)\n",
    "\n",
    "Does choosing the best at each move give an optimal solution?\n",
    "\n",
    "No. In the second example, this is how the game can finish:\n",
    "\n",
    "1.\n",
    "    User chooses 8.\n",
    "    Opponent chooses 15.\n",
    "    User chooses 7.\n",
    "    Opponent chooses 3.\n",
    "Total value collected by user is 15(8 + 7)\n",
    "\n",
    "2.\n",
    "    User chooses 7.\n",
    "    Opponent chooses 8.\n",
    "    User chooses 15.\n",
    "    Opponent chooses 3.\n",
    "Total value collected by user is 22(7 + 15)\n",
    "\n",
    "So if the user follows the second game state, \n",
    "maximum value can be collected although the first move is not the best.\n",
    "*/"
   ]
  },
  {
   "cell_type": "code",
   "execution_count": 132,
   "metadata": {},
   "outputs": [],
   "source": [
    "/*\n",
    "There are two choices:\n",
    "\n",
    "1. The user chooses the ith coin with value Vi: \n",
    "    The opponent either chooses (i+1)th coin or jth coin. \n",
    "    The opponent intends to choose the coin which leaves the user with minimum value.\n",
    "    \n",
    "    i.e. The user can collect the value Vi + min(F(i+2, j), F(i+1, j-1) )\n",
    "\n",
    "2. The user chooses the jth coin with value Vj: \n",
    "    The opponent either chooses ith coin or (j-1)th coin. \n",
    "    The opponent intends to choose the coin which leaves the user with minimum value.\n",
    "\n",
    "    i.e. The user can collect the value Vj + min(F(i+1, j-1), F(i, j-2) )\n",
    "*/"
   ]
  },
  {
   "cell_type": "markdown",
   "metadata": {},
   "source": [
    "<img src = \"https://media.geeksforgeeks.org/wp-content/cdn-uploads/coinGame1.png\"/>"
   ]
  },
  {
   "cell_type": "markdown",
   "metadata": {},
   "source": [
    "<img src= \"https://media.geeksforgeeks.org/wp-content/cdn-uploads/coinGame21.png\"/>"
   ]
  },
  {
   "cell_type": "code",
   "execution_count": 133,
   "metadata": {},
   "outputs": [],
   "source": [
    "/*\n",
    "Following is recursive solution that is based on above two choices. \n",
    "We take the maximum of two choices.\n",
    "\n",
    "F(i, j)  represents the maximum value the user can collect from \n",
    "         i'th coin to j'th coin.\n",
    "\n",
    "    F(i, j)  = Max(Vi + min(F(i+2, j), F(i+1, j-1) ), \n",
    "                   Vj + min(F(i+1, j-1), F(i, j-2) )) \n",
    "Base Cases\n",
    "    F(i, j)  = Vi           If j == i\n",
    "    F(i, j)  = max(Vi, Vj)  If j == i+1\n",
    "*/"
   ]
  },
  {
   "cell_type": "code",
   "execution_count": 134,
   "metadata": {},
   "outputs": [],
   "source": [
    "/*\n",
    "Why Dynamic Programming?\n",
    "\n",
    "The above relation exhibits overlapping sub-problems. \n",
    "In the above relation, \n",
    "    F(i+1, j-1) is calculated twice.\n",
    "*/"
   ]
  },
  {
   "cell_type": "code",
   "execution_count": 135,
   "metadata": {},
   "outputs": [],
   "source": [
    "// Returns optimal value possible that a player \n",
    "// can collect from an array of coins of size n. \n",
    "// Note than n must be even \n",
    "static int optimalStrategyOfGame(int arr[], int n) \n",
    "{ \n",
    "    // Create a table to store solutions of subproblems \n",
    "    int table[][] = new int[n][n]; \n",
    "    int gap, i, j, x, y, z; \n",
    "\n",
    "    // Fill table using above recursive formula. \n",
    "    // Note that the tableis filled in diagonal \n",
    "    // fashion (similar to http://goo.gl/PQqoS), \n",
    "    // from diagonal elements to table[0][n-1] \n",
    "    // which is the result. \n",
    "    for (gap = 0; gap < n; ++gap) { \n",
    "        for (i = 0, j = gap; j < n; ++i, ++j) { \n",
    "\n",
    "            // Here x is value of F(i+2, j), \n",
    "            // y is F(i+1, j-1) and z is \n",
    "            // F(i, j-2) in above recursive formula \n",
    "            x = ((i + 2) <= j) ? table[i + 2][j] : 0; \n",
    "            y = ((i + 1) <= (j - 1)) ? table[i + 1][j - 1] : 0; \n",
    "            z = (i <= (j - 2)) ? table[i][j - 2] : 0; \n",
    "\n",
    "            table[i][j] = Math.max(arr[i] + Math.min(x, y),  \n",
    "                                   arr[j] + Math.min(y, z)); \n",
    "        } \n",
    "    } \n",
    "\n",
    "    return table[0][n - 1]; \n",
    "} "
   ]
  },
  {
   "cell_type": "code",
   "execution_count": 136,
   "metadata": {},
   "outputs": [
    {
     "name": "stdout",
     "output_type": "stream",
     "text": [
      "22\n",
      "4\n",
      "42\n"
     ]
    }
   ],
   "source": [
    "// Driver program \n",
    "public static void main(String[] args) \n",
    "{ \n",
    "    int arr1[] = { 8, 15, 3, 7 }; \n",
    "    int n = arr1.length; \n",
    "    System.out.println(\"\" + optimalStrategyOfGame(arr1, n)); \n",
    "\n",
    "    int arr2[] = { 2, 2, 2, 2 }; \n",
    "    n = arr2.length; \n",
    "    System.out.println(\"\" + optimalStrategyOfGame(arr2, n)); \n",
    "\n",
    "    int arr3[] = { 20, 30, 2, 2, 2, 10 }; \n",
    "    n = arr3.length; \n",
    "    System.out.println(\"\" + optimalStrategyOfGame(arr3, n)); \n",
    "} \n",
    "main(args);"
   ]
  },
  {
   "cell_type": "markdown",
   "metadata": {},
   "source": [
    "**Related Link** ***https://www.geeksforgeeks.org/optimal-strategy-for-a-game-set-2/***"
   ]
  },
  {
   "cell_type": "markdown",
   "metadata": {},
   "source": [
    "## **210 Word Break Problem | DP-32**\n",
    "https://www.geeksforgeeks.org/word-break-problem-dp-32/"
   ]
  },
  {
   "cell_type": "code",
   "execution_count": 137,
   "metadata": {},
   "outputs": [],
   "source": [
    "/*\n",
    "Given an input string and a dictionary of words, \n",
    "find out if the input string can be segmented into a space-separated sequence of dictionary words. \n",
    "*/"
   ]
  },
  {
   "cell_type": "code",
   "execution_count": 138,
   "metadata": {},
   "outputs": [],
   "source": [
    "/*\n",
    "See following examples for more details.\n",
    "\n",
    "Consider the following dictionary \n",
    "{ i, like, sam, sung, samsung, mobile, ice, \n",
    "  cream, icecream, man, go, mango}\n",
    "\n",
    "Input:  ilike\n",
    "Output: Yes \n",
    "The string can be segmented as \"i like\".\n",
    "\n",
    "Input:  ilikesamsung\n",
    "Output: Yes\n",
    "The string can be segmented as \"i like samsung\" \n",
    "or \"i like sam sung\".\n",
    "*/"
   ]
  },
  {
   "cell_type": "code",
   "execution_count": 139,
   "metadata": {},
   "outputs": [],
   "source": [
    "/*\n",
    "Recursive implementation:\n",
    "\n",
    "The idea is simple, \n",
    "we consider each prefix and search it in dictionary. \n",
    "If the prefix is present in dictionary, \n",
    "    we recur for rest of the string (or suffix). \n",
    "If the recursive call for suffix returns true, \n",
    "    we return true, \n",
    "otherwise \n",
    "    we try next prefix. \n",
    "\n",
    "If we have tried all prefixes and none of them resulted in a solution,\n",
    "    we return false.\n",
    "*/"
   ]
  },
  {
   "cell_type": "code",
   "execution_count": 140,
   "metadata": {},
   "outputs": [
    {
     "name": "stdout",
     "output_type": "stream",
     "text": [
      "true\n",
      "true\n",
      "true\n",
      "true\n",
      "true\n",
      "false\n"
     ]
    }
   ],
   "source": [
    "// set to hold dictionary values \n",
    "private static Set<String> dictionary = new HashSet<>(); \n",
    "\n",
    "public static void main(String []args) \n",
    "{ \n",
    "\n",
    "    // array of strings to be added in dictionary set. \n",
    "    String temp_dictionary[] = {\"mobile\",\"samsung\",\"sam\",\"sung\",  \n",
    "                        \"man\",\"mango\",\"icecream\",\"and\",  \n",
    "                        \"go\",\"i\",\"like\",\"ice\",\"cream\"}; \n",
    "\n",
    "    // loop to add all strings in dictionary set  \n",
    "    for (String temp :temp_dictionary) \n",
    "    { \n",
    "        dictionary.add(temp); \n",
    "    } \n",
    "\n",
    "    // sample input cases \n",
    "    System.out.println(wordBreak(\"ilikesamsung\")); \n",
    "    System.out.println(wordBreak(\"iiiiiiii\")); \n",
    "    System.out.println(wordBreak(\"\")); \n",
    "    System.out.println(wordBreak(\"ilikelikeimangoiii\")); \n",
    "    System.out.println(wordBreak(\"samsungandmango\")); \n",
    "    System.out.println(wordBreak(\"samsungandmangok\")); \n",
    "\n",
    "} \n",
    "\n",
    "// returns true if the word can be segmented into parts such \n",
    "// that each part is contained in dictionary \n",
    "public static boolean wordBreak(String word) \n",
    "{ \n",
    "    int size = word.length(); \n",
    "\n",
    "    // base case \n",
    "    if (size == 0) \n",
    "    return true; \n",
    "\n",
    "    //else check for all words \n",
    "    for (int i = 1; i <= size; i++) \n",
    "    { \n",
    "        // Now we will first divide the word into two parts , \n",
    "        // the prefix will have a length of i and check if it is  \n",
    "        // present in dictionary ,if yes then we will check for  \n",
    "        // suffix of length size-i recursively. if both prefix and  \n",
    "        // suffix are present the word is found in dictionary. \n",
    "\n",
    "        if (dictionary.contains(word.substring(0,i)) &&  \n",
    "                wordBreak(word.substring(i,size))) \n",
    "        return true; \n",
    "    } \n",
    "\n",
    "    // if all cases failed then return false \n",
    "    return false; \n",
    "} \n",
    "main(args);"
   ]
  },
  {
   "cell_type": "code",
   "execution_count": 141,
   "metadata": {},
   "outputs": [],
   "source": [
    "/*\n",
    "Dynamic Programming\n",
    "\n",
    "Why Dynamic Programming? \n",
    "The above problem exhibits overlapping sub-problems. \n",
    "For example, \n",
    "    see the following partial recursion tree for string “abcde” in worst case.\n",
    "*/"
   ]
  },
  {
   "cell_type": "markdown",
   "metadata": {},
   "source": [
    "<img src=\"https://media.geeksforgeeks.org/wp-content/cdn-uploads/wordBreak1.png\"/>"
   ]
  },
  {
   "cell_type": "markdown",
   "metadata": {},
   "source": [
    "***https://ideone.com/36qp3O***"
   ]
  },
  {
   "cell_type": "code",
   "execution_count": 142,
   "metadata": {},
   "outputs": [],
   "source": [
    "/*\n",
    "Optimized Dynamic Programming:\n",
    "\n",
    "In this approach, apart from the dp table,\n",
    "    we also maintain all the indexes which have matched earlier. \n",
    "Then we will check the substrings from those indexes to the current index. \n",
    "If anyone of that matches then we can divide the string up to that index.\n",
    "\n",
    "In this program, we are using some extra space. \n",
    "    However, its time complexity is O(n*s) \n",
    "        where s is the length of the largest string in the dictionary \n",
    "        and n is the length of the given string.\n",
    "*/"
   ]
  },
  {
   "cell_type": "markdown",
   "metadata": {},
   "source": [
    "***https://ideone.com/4crMpO***"
   ]
  },
  {
   "cell_type": "markdown",
   "metadata": {},
   "source": [
    "**Related Link**\n",
    "\n",
    "***https://www.geeksforgeeks.org/word-break-problem-trie-solution/***\n",
    "\n",
    "***https://www.geeksforgeeks.org/word-break-problem-using-backtracking/***"
   ]
  }
 ],
 "metadata": {
  "kernelspec": {
   "display_name": "Java",
   "language": "java",
   "name": "java"
  },
  "language_info": {
   "codemirror_mode": "java",
   "file_extension": ".jshell",
   "mimetype": "text/x-java-source",
   "name": "Java",
   "pygments_lexer": "java",
   "version": "11.0.6+8-LTS"
  },
  "toc": {
   "base_numbering": 1,
   "nav_menu": {},
   "number_sections": true,
   "sideBar": true,
   "skip_h1_title": false,
   "title_cell": "Table of Contents",
   "title_sidebar": "Contents",
   "toc_cell": false,
   "toc_position": {},
   "toc_section_display": true,
   "toc_window_display": true
  }
 },
 "nbformat": 4,
 "nbformat_minor": 2
}
