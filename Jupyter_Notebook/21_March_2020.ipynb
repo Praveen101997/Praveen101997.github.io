{
 "cells": [
  {
   "cell_type": "markdown",
   "metadata": {},
   "source": [
    "  **------------------------Questions Covered-----------------------------**"
   ]
  },
  {
   "cell_type": "markdown",
   "metadata": {},
   "source": [
    "***5\tBackTracking\thttps://www.geeksforgeeks.org/backtracking-set-1-the-knights-tour-problem/\tPep_JavaIP_5Backtracking_154KnightsTour\t\t\t\t\t\t\t\t\t\t\t\t\t\t\t\t\t\t\t\t\t\t\t\t\n",
    "5\tBackTracking\thttps://www.geeksforgeeks.org/backttracking-set-2-rat-in-a-maze/\tPep_JavaIP_5Backtracking_155RatInAMaze\t\t\t\t\t\t\t\t\t\t\t\t\t\t\t\t\t\t\t\t\t\t\t\t\n",
    "5\tBackTracking\thttps://www.geeksforgeeks.org/backtracking-set-7-suduku/\tPep_JavaIP_5Backtracking_156Sudoku\t\t\t\t\t\t\t\t\t\t\t\t\t\t\t\t\t\t\t\t\t\t\t\t\n",
    "5\tBackTracking\thttps://www.geeksforgeeks.org/remove-invalid-parentheses/\tPep_JavaIP_5Backtracking_157RemoveParenthesis\t\t\t\t\t\t\t\t\t\t\t\t\t\t\t\t\t\t\t\t\t\t\t\t\n",
    "5\tBackTracking\thttps://www.geeksforgeeks.org/word-break-problem-using-backtracking/\tPep_JavaIP_5Backtracking_158WordBreakProblem\t\t\t\t\t\t\t\t\t\t\t\t\t\t\t\t\t\t\t\t\t\t\t\t\n",
    "5\tBackTracking\thttps://www.geeksforgeeks.org/print-palindromic-partitions-string/\tPep_JavaIP_5Backtracking_159PrintAllPalindromicPartitions\t\t\t\t\t\t\t\t\t\t\t\t\t\t\t\t\t\t\t\t\t\t\t\t\n",
    "5\tBackTracking\thttps://www.geeksforgeeks.org/find-shortest-safe-route-in-a-path-with-landmines/\tPep_JavaIP_5Backtracking_160ShortestSafePathLandMines\t\t\t\t\t\t\t\t\t\t\t\t\t\t\t\t\t\t\t\t\t\t\t\t\n",
    "5\tBackTracking\thttps://www.geeksforgeeks.org/combinational-sum/\tPep_JavaIP_5Backtracking_161CombinationalSum\t\t\t\t\t\t\t\t\t\t\t\t\t\t\t\t\t\t\t\t\t\t\t\t\n",
    "5\tBackTracking\thttps://www.geeksforgeeks.org/partition-set-k-subsets-equal-sum/\tPep_JavaIP_5Backtracking_162PartitionKSubsetsEqualSum\t\t\t\t\t\t\t\t\t\t\t\t\t\t\t\t\t\t\t\t\t\t\t\t\n",
    "5\tBackTracking\thttps://www.geeksforgeeks.org/longest-possible-route-in-a-matrix-with-hurdles/\tPep_JavaIP_5Backtracking_163LongestRouteInMatrix\t\t\t\t\t\t\t\t\t\t\t\t\t\t\t\t\t\t\t\t\t\t\t\t\n",
    "5\tBackTracking\thttps://www.geeksforgeeks.org/backtracking-set-8-solving-cryptarithmetic-puzzles/\tPep_JavaIP_5Backtracking_164CryptoArithmetic\tbreaker\t\t\t\t\t\t\t\t\t\t\t\t\t\t\t\t\t\t\t\t\t\t\t\n",
    "5\tBackTracking\thttps://www.geeksforgeeks.org/match-a-pattern-and-string-without-using-regular-expressions/\tPep_JavaIP_5Backtracking_165MatchPatternAndString\t\t\t\t\t\t\t\t\t\t\t\t\t\t\t\t\t\t\t\t\t\t\t\t\n",
    "5\tBackTracking\thttps://www.geeksforgeeks.org/find-if-there-is-a-path-of-more-than-k-length-from-a-source/\tPep_JavaIP_5Backtracking_166HasPathLongerThanK\t\t\t\t\t\t\t\t\t\t\t\t\t\t\t\t\t\t\t\t\t\t\t\t\n",
    "5\tBackTracking\thttps://www.geeksforgeeks.org/backtracking-set-7-hamiltonian-cycle/\tPep_JavaIP_5Backtracking_167HamiltonianCycle\t\t\t\t\t\t\t\t\t\t\t\t\t\t\t\t\t\t\t\t\t\t\t\t\n",
    "5\tBackTracking\thttps://www.geeksforgeeks.org/tug-of-war/\tPep_JavaIP_5Backtracking_168TugOfWar***"
   ]
  },
  {
   "cell_type": "code",
   "execution_count": 1,
   "metadata": {},
   "outputs": [],
   "source": [
    "import java.util.*;\n",
    "import java.io.*;\n",
    "import java.util.Arrays;\n",
    "String[] args =new String[0];"
   ]
  },
  {
   "cell_type": "markdown",
   "metadata": {},
   "source": [
    "## **151. The Knight’s tour problem | Backtracking-1**\n",
    "https://www.geeksforgeeks.org/the-knights-tour-problem-backtracking-1/"
   ]
  },
  {
   "cell_type": "code",
   "execution_count": 2,
   "metadata": {},
   "outputs": [],
   "source": [
    "/*\n",
    "Backtracking is an algorithmic paradigm that tries different solutions until finds a solution that “works”. \n",
    "Problems which are typically solved using backtracking technique have following property in common. \n",
    "    -These problems can only be solved by trying every possible configuration and each configuration is tried only once. \n",
    "    -A Naive solution for these problems is to try all configurations and output a configuration that follows given problem constraints. \n",
    "    -Backtracking works in incremental way and is an optimization over the Naive solution where all possible configurations are generated and tried.\n",
    "*/"
   ]
  },
  {
   "cell_type": "code",
   "execution_count": 3,
   "metadata": {},
   "outputs": [],
   "source": [
    "/*\n",
    "For example, \n",
    "    consider the following Knight’s Tour problem.\n",
    "    The knight is placed on the first block of an empty board and, moving according to the rules of chess, \n",
    "    must visit each square exactly once.\n",
    "*/"
   ]
  },
  {
   "cell_type": "code",
   "execution_count": 4,
   "metadata": {},
   "outputs": [],
   "source": [
    "/*\n",
    "Path followed by Knight to cover all the cells\n",
    "\n",
    "Following is chessboard with 8 x 8 cells. \n",
    "Numbers in cells indicate move number of Knight.\n",
    "*/"
   ]
  },
  {
   "cell_type": "markdown",
   "metadata": {},
   "source": [
    "<img src = \"https://media.geeksforgeeks.org/wp-content/cdn-uploads/knight-tour-problem1.png\"/>"
   ]
  },
  {
   "cell_type": "code",
   "execution_count": 5,
   "metadata": {},
   "outputs": [],
   "source": [
    "/*\n",
    "Naive Algorithm for Knight’s tour\n",
    "\n",
    "The Naive Algorithm is to generate all tours one by one and \n",
    "check if the generated tour satisfies the constraints.\n",
    "\n",
    "while there are untried tours\n",
    "{ \n",
    "   generate the next tour \n",
    "   if this tour covers all squares \n",
    "   { \n",
    "      print this path;\n",
    "   }\n",
    "}\n",
    "*/"
   ]
  },
  {
   "cell_type": "code",
   "execution_count": 6,
   "metadata": {},
   "outputs": [],
   "source": [
    "/*\n",
    "Backtracking works in an incremental way to attack problems. \n",
    "Typically, we start from an empty solution vector and one by one add items \n",
    "(Meaning of item varies from problem to problem. In context of Knight’s tour problem, an item is a Knight’s move). \n",
    "When we add an item, we check if adding the current item violates the problem constraint, \n",
    "if it does \n",
    "    then we remove the item and try other alternatives. \n",
    "If none of the alternatives work out \n",
    "    then we go to previous stage and remove the item added in the previous stage. \n",
    "If we reach the initial stage back \n",
    "    then we say that no solution exists. \n",
    "If adding an item doesn’t violate constraints \n",
    "    then we recursively add items one by one. \n",
    "If the solution vector becomes complete \n",
    "    then we print the solution.\n",
    "*/"
   ]
  },
  {
   "cell_type": "code",
   "execution_count": 7,
   "metadata": {},
   "outputs": [],
   "source": [
    "/*\n",
    "Backtracking Algorithm for Knight’s tour\n",
    "Following is the Backtracking algorithm for Knight’s tour problem.\n",
    "\n",
    "If all squares are visited \n",
    "    print the solution\n",
    "Else\n",
    "   a) Add one of the next moves to solution vector and recursively \n",
    "      check if this move leads to a solution. (A Knight can make maximum \n",
    "      eight moves. We choose one of the 8 moves in this step).\n",
    "   b) If the move chosen in the above step doesn't lead to a solution\n",
    "      then remove this move from the solution vector and try other \n",
    "      alternative moves.\n",
    "   c) If none of the alternatives work then return false (Returning false \n",
    "      will remove the previously added item in recursion and if false is \n",
    "      returned by the initial call of recursion then \"no solution exists\" )\n",
    "*/"
   ]
  },
  {
   "cell_type": "code",
   "execution_count": 8,
   "metadata": {},
   "outputs": [],
   "source": [
    "/*\n",
    "Following are implementations for Knight’s tour problem. \n",
    "It prints one of the possible solutions in 2D matrix form. \n",
    "Basically, \n",
    "    the output is a 2D 8*8 matrix with numbers from 0 to 63 and these numbers show steps made by Knight.\n",
    "*/"
   ]
  },
  {
   "cell_type": "code",
   "execution_count": 9,
   "metadata": {},
   "outputs": [],
   "source": [
    "static int N = 8; \n",
    "\n",
    "/* A utility function to check if i,j are \n",
    "   valid indexes for N*N chessboard */\n",
    "static boolean isSafe(int x, int y, int sol[][]) { \n",
    "    return (x >= 0 && x < N && y >= 0 && \n",
    "            y < N && sol[x][y] == -1); \n",
    "} \n",
    "\n",
    "/* A utility function to print solution \n",
    "   matrix sol[N][N] */\n",
    "static void printSolution(int sol[][]) { \n",
    "    for (int x = 0; x < N; x++) { \n",
    "        for (int y = 0; y < N; y++) \n",
    "            System.out.print(sol[x][y] + \" \"); \n",
    "        System.out.println(); \n",
    "    } \n",
    "} "
   ]
  },
  {
   "cell_type": "code",
   "execution_count": 10,
   "metadata": {},
   "outputs": [],
   "source": [
    "/* This function solves the Knight Tour problem \n",
    "   using Backtracking.  This  function mainly \n",
    "   uses solveKTUtil() to solve the problem. It \n",
    "   returns false if no complete tour is possible, \n",
    "   otherwise return true and prints the tour. \n",
    "   Please note that there may be more than one \n",
    "   solutions, this function prints one of the \n",
    "   feasible solutions.  */\n",
    "static boolean solveKT() { \n",
    "    int sol[][] = new int[8][8]; \n",
    "\n",
    "    /* Initialization of solution matrix */\n",
    "    for (int x = 0; x < N; x++) \n",
    "        for (int y = 0; y < N; y++) \n",
    "            sol[x][y] = -1; \n",
    "\n",
    "   /* xMove[] and yMove[] define next move of Knight. \n",
    "      xMove[] is for next value of x coordinate \n",
    "      yMove[] is for next value of y coordinate */\n",
    "    int xMove[] = {2, 1, -1, -2, -2, -1, 1, 2}; \n",
    "    int yMove[] = {1, 2, 2, 1, -1, -2, -2, -1}; \n",
    "\n",
    "    // Since the Knight is initially at the first block \n",
    "    sol[0][0] = 0; \n",
    "\n",
    "    /* Start from 0,0 and explore all tours using \n",
    "       solveKTUtil() */\n",
    "    if (!solveKTUtil(0, 0, 1, sol, xMove, yMove)) { \n",
    "        System.out.println(\"Solution does not exist\"); \n",
    "        return false; \n",
    "    } else\n",
    "        printSolution(sol); \n",
    "\n",
    "    return true; \n",
    "} "
   ]
  },
  {
   "cell_type": "code",
   "execution_count": 11,
   "metadata": {},
   "outputs": [],
   "source": [
    "/* A recursive utility function to solve Knight \n",
    "   Tour problem */\n",
    "static boolean solveKTUtil(int x, int y, int movei, \n",
    "                           int sol[][], int xMove[], \n",
    "                           int yMove[]) { \n",
    "    int k, next_x, next_y; \n",
    "    if (movei == N * N) \n",
    "        return true; \n",
    "\n",
    "    /* Try all next moves from the current coordinate \n",
    "        x, y */\n",
    "    for (k = 0; k < 8; k++) { \n",
    "        next_x = x + xMove[k]; \n",
    "        next_y = y + yMove[k]; \n",
    "        if (isSafe(next_x, next_y, sol)) { \n",
    "            sol[next_x][next_y] = movei; \n",
    "            if (solveKTUtil(next_x, next_y, movei + 1, \n",
    "                            sol, xMove, yMove)) \n",
    "                return true; \n",
    "            else\n",
    "                sol[next_x][next_y] = -1;// backtracking \n",
    "        } \n",
    "    } \n",
    "\n",
    "    return false; \n",
    "} "
   ]
  },
  {
   "cell_type": "code",
   "execution_count": 12,
   "metadata": {},
   "outputs": [
    {
     "name": "stdout",
     "output_type": "stream",
     "text": [
      "0 59 38 33 30 17 8 63 \n",
      "37 34 31 60 9 62 29 16 \n",
      "58 1 36 39 32 27 18 7 \n",
      "35 48 41 26 61 10 15 28 \n",
      "42 57 2 49 40 23 6 19 \n",
      "47 50 45 54 25 20 11 14 \n",
      "56 43 52 3 22 13 24 5 \n",
      "51 46 55 44 53 4 21 12 \n"
     ]
    },
    {
     "data": {
      "text/plain": [
       "true"
      ]
     },
     "execution_count": 12,
     "metadata": {},
     "output_type": "execute_result"
    }
   ],
   "source": [
    "solveKT();"
   ]
  },
  {
   "cell_type": "markdown",
   "metadata": {},
   "source": [
    "**Related Link :** ***https://www.geeksforgeeks.org/warnsdorffs-algorithm-knights-tour-problem/***"
   ]
  },
  {
   "cell_type": "markdown",
   "metadata": {},
   "source": [
    "## **152. Rat in a Maze | Backtracking-2**\n",
    "https://www.geeksforgeeks.org/rat-in-a-maze-backtracking-2/"
   ]
  },
  {
   "cell_type": "code",
   "execution_count": 13,
   "metadata": {},
   "outputs": [],
   "source": [
    "/*\n",
    "A Maze is given as N*N binary matrix of blocks \n",
    "    where source block is the upper left most block i.e., maze[0][0] \n",
    "          and destination block is lower rightmost block i.e., maze[N-1][N-1]. \n",
    "    A rat starts from source and has to reach the destination. The rat can move only in two directions: forward and down.\n",
    "In the maze matrix, 0 means the block is a dead end and 1 means the block can be used in the path from source to destination. \n",
    "\n",
    "Note that this is a simple version of the typical Maze problem. For example, a more complex version can be that the rat can move in 4 directions and a more complex version can be with a limited number of moves.\n",
    "*/"
   ]
  },
  {
   "cell_type": "code",
   "execution_count": 14,
   "metadata": {},
   "outputs": [],
   "source": [
    "/*\n",
    "Following is an example maze.\n",
    "\n",
    "Gray blocks are dead ends (value = 0). \n",
    "*/"
   ]
  },
  {
   "cell_type": "markdown",
   "metadata": {},
   "source": [
    "<img src = \"https://www.geeksforgeeks.org/wp-content/uploads/ratinmaze_filled11-300x260.png\"/>"
   ]
  },
  {
   "cell_type": "code",
   "execution_count": 15,
   "metadata": {},
   "outputs": [],
   "source": [
    "/*\n",
    "Following is binary matrix representation of the above maze.\n",
    "\n",
    "                {1, 0, 0, 0}\n",
    "                {1, 1, 0, 1}\n",
    "                {0, 1, 0, 0}\n",
    "                {1, 1, 1, 1}\n",
    "Following is a maze with highlighted solution path.\n",
    "*/"
   ]
  },
  {
   "cell_type": "markdown",
   "metadata": {},
   "source": [
    "<img src = \"https://www.geeksforgeeks.org/wp-content/uploads/ratinmaze_filled_path1-300x267.png\"/>"
   ]
  },
  {
   "cell_type": "code",
   "execution_count": 16,
   "metadata": {},
   "outputs": [],
   "source": [
    "/*\n",
    "Following is the solution matrix (output of program) for the above input matrx.\n",
    "\n",
    "                {1, 0, 0, 0}\n",
    "                {1, 1, 0, 0}\n",
    "                {0, 1, 0, 0}\n",
    "                {0, 1, 1, 1}\n",
    " All enteries in solution path are marked as 1.\n",
    " */"
   ]
  },
  {
   "cell_type": "code",
   "execution_count": 17,
   "metadata": {},
   "outputs": [],
   "source": [
    "/*\n",
    "Following is the solution matrix (output of program) for the above input matrx.\n",
    "\n",
    "                {1, 0, 0, 0}\n",
    "                {1, 1, 0, 0}\n",
    "                {0, 1, 0, 0}\n",
    "                {0, 1, 1, 1}\n",
    " All enteries in solution path are marked as 1.\n",
    " */"
   ]
  },
  {
   "cell_type": "code",
   "execution_count": 18,
   "metadata": {},
   "outputs": [],
   "source": [
    "/*\n",
    "Backtracking Algorithm\n",
    "\n",
    "If destination is reached\n",
    "    print the solution matrix\n",
    "Else\n",
    "   a) Mark current cell in solution matrix as 1. \n",
    "   b) Move forward in the horizontal direction and recursively check if this \n",
    "       move leads to a solution. \n",
    "   c) If the move chosen in the above step doesn't lead to a solution\n",
    "       then move down and check if this move leads to a solution. \n",
    "   d) If none of the above solutions works then unmark this cell as 0 \n",
    "       (BACKTRACK) and return false.\n",
    "*/"
   ]
  },
  {
   "cell_type": "code",
   "execution_count": 19,
   "metadata": {},
   "outputs": [],
   "source": [
    "// Size of the maze \n",
    "static int N; \n",
    "\n",
    "/* A utility function to print solution matrix  \n",
    "sol[N][N] */\n",
    "void printSolution(int sol[][]) \n",
    "{ \n",
    "    for (int i = 0; i < N; i++) { \n",
    "        for (int j = 0; j < N; j++) \n",
    "            System.out.print(\" \" + sol[i][j] + \" \"); \n",
    "        System.out.println(); \n",
    "    } \n",
    "} \n",
    "\n",
    "/* A utility function to check if x, y is valid  \n",
    "    index for N*N maze */\n",
    "boolean isSafe(int maze[][], int x, int y) \n",
    "{ \n",
    "    // if (x, y outside maze) return false \n",
    "    return (x >= 0 && x < N && y >= 0 && y < N && maze[x][y] == 1); \n",
    "}"
   ]
  },
  {
   "cell_type": "code",
   "execution_count": 20,
   "metadata": {},
   "outputs": [],
   "source": [
    "/* This function solves the Maze problem using  \n",
    "Backtracking. It mainly uses solveMazeUtil()  \n",
    "to solve the problem. It returns false if no  \n",
    "path is possible, otherwise return true and  \n",
    "prints the path in the form of 1s. Please note  \n",
    "that there may be more than one solutions, this  \n",
    "function prints one of the feasible solutions.*/\n",
    "boolean solveMaze(int maze[][]) \n",
    "{ \n",
    "    int sol[][] = new int[N][N]; \n",
    "\n",
    "    if (solveMazeUtil(maze, 0, 0, sol) == false) { \n",
    "        System.out.print(\"Solution doesn't exist\"); \n",
    "        return false; \n",
    "    } \n",
    "\n",
    "    printSolution(sol); \n",
    "    return true; \n",
    "} "
   ]
  },
  {
   "cell_type": "code",
   "execution_count": 21,
   "metadata": {},
   "outputs": [],
   "source": [
    "/* A recursive utility function to solve Maze  \n",
    "problem */\n",
    "boolean solveMazeUtil(int maze[][], int x, int y, \n",
    "                      int sol[][]) \n",
    "{ \n",
    "    // if (x, y is goal) return true \n",
    "    if (x == N - 1 && y == N - 1) { \n",
    "        sol[x][y] = 1; \n",
    "        return true; \n",
    "    } \n",
    "\n",
    "    // Check if maze[x][y] is valid \n",
    "    if (isSafe(maze, x, y) == true) { \n",
    "        // mark x, y as part of solution path \n",
    "        sol[x][y] = 1; \n",
    "\n",
    "        /* Move forward in x direction */\n",
    "        if (solveMazeUtil(maze, x + 1, y, sol)) \n",
    "            return true; \n",
    "\n",
    "        /* If moving in x direction doesn't give  \n",
    "        solution then Move down in y direction */\n",
    "        if (solveMazeUtil(maze, x, y + 1, sol)) \n",
    "            return true; \n",
    "\n",
    "        /* If none of the above movements works then  \n",
    "        BACKTRACK: unmark x, y as part of solution  \n",
    "        path */\n",
    "        sol[x][y] = 0; \n",
    "        return false; \n",
    "    } \n",
    "\n",
    "    return false; \n",
    "} "
   ]
  },
  {
   "cell_type": "code",
   "execution_count": 22,
   "metadata": {},
   "outputs": [
    {
     "name": "stdout",
     "output_type": "stream",
     "text": [
      " 1  0  0  0 \n",
      " 1  1  0  0 \n",
      " 0  1  0  0 \n",
      " 0  1  1  1 \n"
     ]
    }
   ],
   "source": [
    "public static void main(String args[]) \n",
    "{  \n",
    "    int maze[][] = { { 1, 0, 0, 0 }, \n",
    "                     { 1, 1, 0, 1 }, \n",
    "                     { 0, 1, 0, 0 }, \n",
    "                     { 1, 1, 1, 1 } }; \n",
    "\n",
    "    N = maze.length; \n",
    "    solveMaze(maze); \n",
    "} \n",
    "main(args);"
   ]
  },
  {
   "cell_type": "markdown",
   "metadata": {},
   "source": [
    "***https://youtu.be/PwxGTHraMNg***"
   ]
  },
  {
   "cell_type": "markdown",
   "metadata": {},
   "source": [
    "**Related Link :** ***https://www.geeksforgeeks.org/count-number-ways-reach-destination-maze/*** "
   ]
  },
  {
   "cell_type": "markdown",
   "metadata": {},
   "source": [
    "## **153. Sudoku | Backtracking-7**\n",
    "https://www.geeksforgeeks.org/sudoku-backtracking-7/"
   ]
  },
  {
   "cell_type": "code",
   "execution_count": 23,
   "metadata": {},
   "outputs": [],
   "source": [
    "/*\n",
    "Given a partially filled 9×9 2D array ‘grid[9][9]’, \n",
    "the goal is to assign digits (from 1 to 9) to the empty cells \n",
    "so that every row, column, and subgrid of size 3×3 contains exactly one instance of the digits from 1 to 9.\n",
    "*/"
   ]
  },
  {
   "cell_type": "markdown",
   "metadata": {},
   "source": [
    "<img src = \"https://media.geeksforgeeks.org/wp-content/uploads/sudoku.jpg\"/>"
   ]
  },
  {
   "cell_type": "code",
   "execution_count": 24,
   "metadata": {},
   "outputs": [],
   "source": [
    "/*\n",
    "Naive Algorithm\n",
    "The Naive Algorithm is to generate all possible configurations of numbers from 1 to 9 to fill the empty cells. \n",
    "Try every configuration one by one until the correct configuration is found.\n",
    "*/"
   ]
  },
  {
   "cell_type": "code",
   "execution_count": 25,
   "metadata": {},
   "outputs": [],
   "source": [
    "/*\n",
    "Backtracking Algorithm\n",
    "Like all other Backtracking problems, \n",
    "we can solve Sudoku by one by one assigning numbers to empty cells. \n",
    "Before assigning a number, we check whether it is safe to assign. \n",
    "We basically check that the same number is not present in the current row, current column and current 3X3 subgrid. \n",
    "After checking for safety, we assign the number, and recursively check whether this assignment leads to a solution or not. \n",
    "If the assignment doesn’t lead to a solution, \n",
    "    then we try the next number for the current empty cell. \n",
    "And if none of the number (1 to 9) leads to a solution, \n",
    "    we return false.\n",
    "*/"
   ]
  },
  {
   "cell_type": "code",
   "execution_count": 26,
   "metadata": {},
   "outputs": [],
   "source": [
    "/*\n",
    "Pseudo-Code\n",
    "\n",
    "Find row, col of an unassigned cell\n",
    "  If there is none, return true\n",
    "  For digits from 1 to 9\n",
    "    a) If there is no conflict for digit at row, col\n",
    "        assign digit to row, col and recursively try fill in rest of grid\n",
    "    b) If recursion successful, return true\n",
    "    c) Else, remove digit and try another\n",
    "  If all digits have been tried and nothing worked, return false\n",
    "*/"
   ]
  },
  {
   "cell_type": "code",
   "execution_count": 27,
   "metadata": {},
   "outputs": [],
   "source": [
    "public static boolean isSafe(int[][] board,  \n",
    "                             int row, int col,  \n",
    "                             int num)  \n",
    "{ \n",
    "    // row has the unique (row-clash) \n",
    "    for (int d = 0; d < board.length; d++)  \n",
    "    { \n",
    "        // if the number we are trying to  \n",
    "        // place is already present in  \n",
    "        // that row, return false; \n",
    "        if (board[row][d] == num)  \n",
    "        { \n",
    "            return false; \n",
    "        } \n",
    "    } \n",
    "      \n",
    "    // column has the unique numbers (column-clash) \n",
    "    for (int r = 0; r < board.length; r++) \n",
    "    { \n",
    "        // if the number we are trying to \n",
    "        // place is already present in \n",
    "        // that column, return false; \n",
    "  \n",
    "        if (board[r][col] == num) \n",
    "        { \n",
    "            return false; \n",
    "        } \n",
    "    } \n",
    "  \n",
    "    // corresponding square has \n",
    "    // unique number (box-clash) \n",
    "    int sqrt = (int) Math.sqrt(board.length); \n",
    "    int boxRowStart = row - row % sqrt; \n",
    "    int boxColStart = col - col % sqrt; \n",
    "  \n",
    "    for (int r = boxRowStart; \n",
    "             r < boxRowStart + sqrt; r++)  \n",
    "    { \n",
    "        for (int d = boxColStart;  \n",
    "                 d < boxColStart + sqrt; d++)  \n",
    "        { \n",
    "            if (board[r][d] == num)  \n",
    "            { \n",
    "                return false; \n",
    "            } \n",
    "        } \n",
    "    } \n",
    "  \n",
    "        // if there is no clash, it's safe \n",
    "    return true; \n",
    "} "
   ]
  },
  {
   "cell_type": "code",
   "execution_count": 28,
   "metadata": {},
   "outputs": [],
   "source": [
    "public static boolean solveSudoku(int[][] board, int n)  \n",
    "{ \n",
    "    int row = -1; \n",
    "    int col = -1; \n",
    "    boolean isEmpty = true; \n",
    "    for (int i = 0; i < n; i++) \n",
    "    { \n",
    "        for (int j = 0; j < n; j++)  \n",
    "        { \n",
    "            if (board[i][j] == 0)  \n",
    "            { \n",
    "                row = i; \n",
    "                col = j; \n",
    "                  \n",
    "                // we still have some remaining \n",
    "                // missing values in Sudoku \n",
    "                isEmpty = false;  \n",
    "                break; \n",
    "            } \n",
    "        } \n",
    "        if (!isEmpty) \n",
    "        { \n",
    "            break; \n",
    "        } \n",
    "    } \n",
    "  \n",
    "    // no empty space left \n",
    "    if (isEmpty)  \n",
    "    { \n",
    "        return true; \n",
    "    } \n",
    "  \n",
    "    // else for each-row backtrack \n",
    "    for (int num = 1; num <= n; num++) \n",
    "    { \n",
    "        if (isSafe(board, row, col, num)) \n",
    "        { \n",
    "            board[row][col] = num; \n",
    "            if (solveSudoku(board, n))  \n",
    "            { \n",
    "                // print(board, n); \n",
    "                return true; \n",
    "            }  \n",
    "            else\n",
    "            { \n",
    "                board[row][col] = 0; // replace it \n",
    "            } \n",
    "        } \n",
    "    } \n",
    "    return false; \n",
    "} "
   ]
  },
  {
   "cell_type": "code",
   "execution_count": 29,
   "metadata": {},
   "outputs": [],
   "source": [
    "public static void print(int[][] board, int N) \n",
    "{ \n",
    "    // we got the answer, just print it \n",
    "    for (int r = 0; r < N; r++) \n",
    "    { \n",
    "        for (int d = 0; d < N; d++) \n",
    "        { \n",
    "            System.out.print(board[r][d]); \n",
    "            System.out.print(\" \"); \n",
    "        } \n",
    "        System.out.print(\"\\n\"); \n",
    "          \n",
    "        if ((r + 1) % (int) Math.sqrt(N) == 0)  \n",
    "        { \n",
    "            System.out.print(\"\"); \n",
    "        } \n",
    "    } \n",
    "} "
   ]
  },
  {
   "cell_type": "code",
   "execution_count": 30,
   "metadata": {},
   "outputs": [
    {
     "name": "stdout",
     "output_type": "stream",
     "text": [
      "3 1 6 5 7 8 4 9 2 \n",
      "5 2 9 1 3 4 7 6 8 \n",
      "4 8 7 6 2 9 5 3 1 \n",
      "2 6 3 4 1 5 9 8 7 \n",
      "9 7 4 8 6 3 1 2 5 \n",
      "8 5 1 7 9 2 6 4 3 \n",
      "1 3 8 9 4 7 2 5 6 \n",
      "6 9 2 3 5 1 8 7 4 \n",
      "7 4 5 2 8 6 3 1 9 \n"
     ]
    }
   ],
   "source": [
    "// Driver Code \n",
    "public static void main(String args[]) \n",
    "{ \n",
    "  \n",
    "    int[][] board = new int[][] \n",
    "    { \n",
    "            {3, 0, 6, 5, 0, 8, 4, 0, 0}, \n",
    "            {5, 2, 0, 0, 0, 0, 0, 0, 0}, \n",
    "            {0, 8, 7, 0, 0, 0, 0, 3, 1}, \n",
    "            {0, 0, 3, 0, 1, 0, 0, 8, 0}, \n",
    "            {9, 0, 0, 8, 6, 3, 0, 0, 5}, \n",
    "            {0, 5, 0, 0, 9, 0, 6, 0, 0}, \n",
    "            {1, 3, 0, 0, 0, 0, 2, 5, 0}, \n",
    "            {0, 0, 0, 0, 0, 0, 0, 7, 4}, \n",
    "            {0, 0, 5, 2, 0, 6, 3, 0, 0} \n",
    "    }; \n",
    "    int N = board.length; \n",
    "  \n",
    "    if (solveSudoku(board, N)) \n",
    "    { \n",
    "        print(board, N); // print solution \n",
    "    }  \n",
    "    else\n",
    "    { \n",
    "        System.out.println(\"No solution\"); \n",
    "    } \n",
    "} \n",
    "main(args);"
   ]
  },
  {
   "cell_type": "markdown",
   "metadata": {},
   "source": [
    "**VISUALISATION** ***https://youtu.be/_vWRZiDUGHU***"
   ]
  },
  {
   "cell_type": "markdown",
   "metadata": {},
   "source": [
    "**EXPLANATION** ***https://youtu.be/l7f9-GNH1j8***"
   ]
  },
  {
   "cell_type": "markdown",
   "metadata": {},
   "source": [
    "## **154. Remove Invalid Parentheses**\n",
    "https://www.geeksforgeeks.org/remove-invalid-parentheses/"
   ]
  },
  {
   "cell_type": "code",
   "execution_count": 31,
   "metadata": {},
   "outputs": [],
   "source": [
    "/*\n",
    "An expression will be given which can contain open and close parentheses and optionally some characters, \n",
    "No other operator will be there in string. \n",
    "We need to remove minimum number of parentheses to make the input string valid. \n",
    "If more than one valid output are possible removing same number of parentheses \n",
    "    then print all such output.\n",
    "*/"
   ]
  },
  {
   "cell_type": "code",
   "execution_count": 32,
   "metadata": {},
   "outputs": [],
   "source": [
    "/*\n",
    "Examples:\n",
    "\n",
    "Input  : str = “()())()” -\n",
    "Output : ()()() (())()\n",
    "There are two possible solutions\n",
    "\"()()()\" and \"(())()\"\n",
    "\n",
    "Input  : str = (v)())()\n",
    "Output : (v)()()  (v())()\n",
    "*/"
   ]
  },
  {
   "cell_type": "code",
   "execution_count": 33,
   "metadata": {},
   "outputs": [],
   "source": [
    "/*\n",
    "As we need to generate all possible output we will backtrack among all states by removing one opening or closing bracket \n",
    "and check if they are valid if invalid then add the removed bracket back and go for next state. \n",
    "We will use BFS for moving through states, \n",
    "    use of BFS will assure removal of minimal number of brackets \n",
    "    because we traverse into states level by level and each level corresponds to one extra bracket removal. \n",
    "Other than this BFS involve no recursion so overhead of passing parameters is also saved.\n",
    "\n",
    "Below code has a method isValidString to check validity of string, it counts open and closed parenthesis at each index ignoring non-parenthesis character. \n",
    "If at any instant count of close parenthesis becomes more than open \n",
    "    then we return false \n",
    "else \n",
    "    we keep update the count variable.\n",
    "*/"
   ]
  },
  {
   "cell_type": "code",
   "execution_count": 34,
   "metadata": {},
   "outputs": [],
   "source": [
    "// method checks if character is parenthesis(open \n",
    "// or closed) \n",
    "static boolean isParenthesis(char c) \n",
    "{ \n",
    "    return ((c == '(') || (c == ')')); \n",
    "} \n",
    "  \n",
    "// method returns true if string contains valid \n",
    "// parenthesis \n",
    "static boolean isValidString(String str) \n",
    "{ \n",
    "    int cnt = 0; \n",
    "    for (int i = 0; i < str.length(); i++) \n",
    "    { \n",
    "        if (str.charAt(i) == '(') \n",
    "            cnt++; \n",
    "        else if (str.charAt(i) == ')') \n",
    "            cnt--; \n",
    "        if (cnt < 0) \n",
    "            return false; \n",
    "    } \n",
    "    return (cnt == 0); \n",
    "} "
   ]
  },
  {
   "cell_type": "code",
   "execution_count": 35,
   "metadata": {},
   "outputs": [],
   "source": [
    "// method to remove invalid parenthesis \n",
    "static void removeInvalidParenthesis(String str) \n",
    "{ \n",
    "    if (str.isEmpty()) \n",
    "        return; \n",
    "  \n",
    "    // visit set to ignore already visited string \n",
    "    HashSet<String> visit = new HashSet<String>(); \n",
    "  \n",
    "    // queue to maintain BFS \n",
    "    Queue<String> q = new LinkedList<>(); \n",
    "    String temp; \n",
    "    boolean level = false; \n",
    "  \n",
    "    // pushing given string as  \n",
    "    // starting node into queue \n",
    "    q.add(str); \n",
    "    visit.add(str); \n",
    "    while (!q.isEmpty()) \n",
    "    { \n",
    "        str = q.peek(); q.remove(); \n",
    "        if (isValidString(str)) \n",
    "        { \n",
    "            System.out.println(str); \n",
    "  \n",
    "            // If answer is found, make level true \n",
    "            // so that valid string of only that level \n",
    "            // are processed. \n",
    "            level = true; \n",
    "        } \n",
    "        if (level) \n",
    "            continue; \n",
    "        for (int i = 0; i < str.length(); i++) \n",
    "        { \n",
    "            if (!isParenthesis(str.charAt(i))) \n",
    "                continue; \n",
    "  \n",
    "            // Removing parenthesis from str and \n",
    "            // pushing into queue,if not visited already \n",
    "            temp = str.substring(0, i) + str.substring(i + 1); \n",
    "            if (!visit.contains(temp)) \n",
    "            { \n",
    "                q.add(temp); \n",
    "                visit.add(temp); \n",
    "            } \n",
    "        } \n",
    "    } \n",
    "} "
   ]
  },
  {
   "cell_type": "code",
   "execution_count": 36,
   "metadata": {},
   "outputs": [
    {
     "name": "stdout",
     "output_type": "stream",
     "text": [
      "(())()\n",
      "()()()\n",
      "(v)\n",
      "()v\n"
     ]
    }
   ],
   "source": [
    "// Driver Code \n",
    "public static void main(String[] args)  \n",
    "{ \n",
    "    String expression = \"()())()\"; \n",
    "    removeInvalidParenthesis(expression); \n",
    "  \n",
    "    expression = \"()v)\"; \n",
    "    removeInvalidParenthesis(expression); \n",
    "} \n",
    "main(args);"
   ]
  },
  {
   "cell_type": "markdown",
   "metadata": {},
   "source": [
    "## **155. Word Break Problem using Backtracking**\n",
    "https://www.geeksforgeeks.org/word-break-problem-using-backtracking/"
   ]
  },
  {
   "cell_type": "code",
   "execution_count": 37,
   "metadata": {},
   "outputs": [],
   "source": [
    "/*\n",
    "Given a valid sentence without any spaces between the words and a dictionary of valid English words, \n",
    "find all possible ways to break the sentence in individual dictionary words.\n",
    "*/"
   ]
  },
  {
   "cell_type": "code",
   "execution_count": 38,
   "metadata": {},
   "outputs": [],
   "source": [
    "/*\n",
    "Example\n",
    "\n",
    "Consider the following dictionary \n",
    "{ i, like, sam, sung, samsung, mobile, ice, \n",
    "  cream, icecream, man, go, mango}\n",
    "\n",
    "Input: \"ilikesamsungmobile\"\n",
    "Output: i like sam sung mobile\n",
    "        i like samsung mobile\n",
    "\n",
    "Input: \"ilikeicecreamandmango\"\n",
    "Output: i like ice cream and man go\n",
    "        i like ice cream and mango\n",
    "        i like icecream and man go\n",
    "        i like icecream and mango\n",
    "*/"
   ]
  },
  {
   "cell_type": "markdown",
   "metadata": {},
   "source": [
    "**Related Link :** ***https://www.geeksforgeeks.org/dynamic-programming-set-32-word-break-problem/***"
   ]
  },
  {
   "cell_type": "code",
   "execution_count": 39,
   "metadata": {},
   "outputs": [],
   "source": [
    "/*\n",
    "The Dynamic Programming solution only finds whether it is possible to break a word or not. \n",
    "Here we need to print all possible word breaks.\n",
    "\n",
    "We start scanning the sentence from left. \n",
    "As we find a valid word, we need to check whether rest of the sentence can make valid words or not. \n",
    "Because in some situations the first found word from left side can leave a remaining portion which is not further separable. \n",
    "So in that case we should come back and leave the current found word and keep on searching for the next word. \n",
    "And this process is recursive because to find out whether the right portion is separable or not, we need the same logic. \n",
    "So we will use recursion and backtracking to solve this problem. \n",
    "\n",
    "To keep track of the found words we will use a stack. \n",
    "Whenever the right portion of the string does not make valid words, \n",
    "we pop the top string from stack and continue finding.\n",
    "*/"
   ]
  },
  {
   "cell_type": "markdown",
   "metadata": {},
   "source": [
    "***https://ideone.com/PrR8w3***"
   ]
  },
  {
   "cell_type": "markdown",
   "metadata": {},
   "source": [
    "## **156. Print all palindromic partitions of a string**\n",
    "https://www.geeksforgeeks.org/print-palindromic-partitions-string/"
   ]
  },
  {
   "cell_type": "code",
   "execution_count": 40,
   "metadata": {},
   "outputs": [],
   "source": [
    "/*\n",
    "Given a string s, partition s such that every string of the partition is a palindrome. \n",
    "Return all possible palindrome partitioning of s.\n",
    "*/"
   ]
  },
  {
   "cell_type": "code",
   "execution_count": 41,
   "metadata": {},
   "outputs": [],
   "source": [
    "/*\n",
    "Example :\n",
    "\n",
    "Input  : s = \"bcc\"\n",
    "Output : [[\"b\", \"c\", \"c\"], [\"b\", \"cc\"]]\n",
    "\n",
    "Input  : s = \"geeks\"\n",
    "Output : [[\"g\", \"e\", \"e\", \"k\", \"s\"], \n",
    "          [\"g\", \"ee\", \"k\", \"s\"]]\n",
    "*/"
   ]
  },
  {
   "cell_type": "code",
   "execution_count": 42,
   "metadata": {},
   "outputs": [],
   "source": [
    "/*\n",
    "We have to list the all possible partitions so we will think in the direction of recursion. \n",
    "When we are on index i, we incrementally check all substrings starting from i for being palindromic. \n",
    "If found, \n",
    "    we recursively solve the problem for the remaining string and add this in our solution.\n",
    "*/"
   ]
  },
  {
   "cell_type": "code",
   "execution_count": 43,
   "metadata": {},
   "outputs": [],
   "source": [
    "/*\n",
    "Following is the solution-\n",
    "\n",
    "1. We will maintain a 2-dimensional vector for storing all possible partitions \n",
    "   and a temporary vector for storing the current partition, \n",
    "   new starting index of string to check partitions as we have already checked partitions before this index.\n",
    "2. Now keep on iterating further on string and check if it is palindrome or not.\n",
    "3. If it is a palindrome than add this string in current partitions vector. \n",
    "   Recurse on this new string if it is not the end of the string. \n",
    "   After coming back again change the current partition vector to the old one as it might have changed in the recursive step.\n",
    "4. If we reach the end of string while iterating than we have our partitions in our temporary vector so we will add it in results.\n",
    "*/"
   ]
  },
  {
   "cell_type": "code",
   "execution_count": 44,
   "metadata": {},
   "outputs": [],
   "source": [
    "// Returns true if str is palindrome, else false \n",
    "static boolean checkPalindrome(String str) \n",
    "{ \n",
    "    int len = str.length(); \n",
    "    len--; \n",
    "    for (int i=0; i<len; i++) \n",
    "    { \n",
    "        if (str.charAt(i) != str.charAt(len)) \n",
    "            return false; \n",
    "        len--; \n",
    "    } \n",
    "    return true; \n",
    "} "
   ]
  },
  {
   "cell_type": "code",
   "execution_count": 45,
   "metadata": {},
   "outputs": [],
   "source": [
    "// Prints the partition list \n",
    "static void printSolution(ArrayList<ArrayList<String>> partitions) \n",
    "{ \n",
    "    for(ArrayList<String> i: partitions) \n",
    "    { \n",
    "        for(String j: i) \n",
    "        { \n",
    "            System.out.print(j+\" \"); \n",
    "        } \n",
    "        System.out.println(); \n",
    "    } \n",
    "} "
   ]
  },
  {
   "cell_type": "code",
   "execution_count": 46,
   "metadata": {},
   "outputs": [],
   "source": [
    "// Goes through all indexes and recursively add remaining \n",
    "// partitions if current string is palindrome. \n",
    "static ArrayList<ArrayList<String>> addStrings(ArrayList< \n",
    "   ArrayList<String>> v, String s, ArrayList<String> temp,  \n",
    "                                         int index) \n",
    "{ \n",
    "    int len = s.length(); \n",
    "    String str = \"\"; \n",
    "    ArrayList<String> current = new ArrayList<>(temp); \n",
    "\n",
    "    if (index == 0) \n",
    "        temp.clear(); \n",
    "\n",
    "    // Iterate over the string \n",
    "    for (int i = index; i < len; ++i) \n",
    "    { \n",
    "        str = str + s.charAt(i); \n",
    "\n",
    "        // check whether the substring is  \n",
    "        // palindromic or not \n",
    "        if (checkPalindrome(str)) \n",
    "        { \n",
    "            // if palindrome add it to temp list \n",
    "            temp.add(str); \n",
    "\n",
    "            if (i + 1 < len) \n",
    "            {     \n",
    "                // recurr to get all the palindromic \n",
    "                // partitions for the substrings \n",
    "                v = addStrings(v,s,temp,i+1); \n",
    "            } \n",
    "            else\n",
    "            { \n",
    "                // if end of the string is reached  \n",
    "                // add temp to v \n",
    "                v.add(temp); \n",
    "            } \n",
    "\n",
    "            // temp is reinitialize with the  \n",
    "            // current i. \n",
    "            temp = new ArrayList<>(current); \n",
    "        } \n",
    "    } \n",
    "    return v; \n",
    "} "
   ]
  },
  {
   "cell_type": "code",
   "execution_count": 47,
   "metadata": {},
   "outputs": [],
   "source": [
    "// Generates all palindromic partitions of 's' and \n",
    "// stores the result in 'v'. \n",
    "static void partition(String s, ArrayList<ArrayList<String>> v) \n",
    "{ \n",
    "    // temporary ArrayList to store each \n",
    "    // palindromic string \n",
    "    ArrayList<String> temp = new ArrayList<>(); \n",
    "\n",
    "    // calling addString method it adds all   \n",
    "    // the palindromic partitions to v \n",
    "    v = addStrings(v, s, temp, 0); \n",
    "\n",
    "    // printing the solution \n",
    "    printSolution(v); \n",
    "} "
   ]
  },
  {
   "cell_type": "code",
   "execution_count": 48,
   "metadata": {},
   "outputs": [
    {
     "name": "stdout",
     "output_type": "stream",
     "text": [
      "g e e k s \n",
      "g ee k s \n"
     ]
    }
   ],
   "source": [
    "// Driver code \n",
    "public static void main(String args[]) \n",
    "{ \n",
    "    String s = \"geeks\"; \n",
    "    ArrayList<ArrayList<String>> partitions = new ArrayList<>(); \n",
    "    partition(s, partitions); \n",
    "}\n",
    "main(args);"
   ]
  },
  {
   "cell_type": "markdown",
   "metadata": {},
   "source": [
    "## **157. Find shortest safe route in a path with landmines**\n",
    "https://www.geeksforgeeks.org/find-shortest-safe-route-in-a-path-with-landmines/"
   ]
  },
  {
   "cell_type": "code",
   "execution_count": 49,
   "metadata": {},
   "outputs": [],
   "source": [
    "/*\n",
    "Given a path in the form of a rectangular matrix having few landmines arbitrarily placed (marked as 0), \n",
    "calculate length of the shortest safe route possible from any cell in the first column to any cell in the last column of the matrix. \n",
    "We have to avoid landmines and their four adjacent cells (left, right, above and below) as they are also unsafe. \n",
    "We are allowed to move to only adjacent cells which are not landmines. i.e. the route cannot contains any diagonal moves.\n",
    "*/"
   ]
  },
  {
   "cell_type": "code",
   "execution_count": 50,
   "metadata": {},
   "outputs": [],
   "source": [
    "/*\n",
    "Examples:\n",
    "\n",
    "Input: \n",
    "A 12 x 10 matrix with landmines marked as 0\n",
    "\n",
    "[ 1  1  1  1  1  1  1  1  1  1 ]\n",
    "[ 1  0  1  1  1  1  1  1  1  1 ]\n",
    "[ 1  1  1  0  1  1  1  1  1  1 ]\n",
    "[ 1  1  1  1  0  1  1  1  1  1 ]\n",
    "[ 1  1  1  1  1  1  1  1  1  1 ]\n",
    "[ 1  1  1  1  1  0  1  1  1  1 ]\n",
    "[ 1  0  1  1  1  1  1  1  0  1 ]\n",
    "[ 1  1  1  1  1  1  1  1  1  1 ]\n",
    "[ 1  1  1  1  1  1  1  1  1  1 ]\n",
    "[ 0  1  1  1  1  0  1  1  1  1 ]\n",
    "[ 1  1  1  1  1  1  1  1  1  1 ]\n",
    "[ 1  1  1  0  1  1  1  1  1  1 ]\n",
    "\n",
    "Output:  \n",
    "Length of shortest safe route is 13 (Highlighted in Bold)\n",
    "*/"
   ]
  },
  {
   "cell_type": "code",
   "execution_count": 51,
   "metadata": {},
   "outputs": [],
   "source": [
    "/*\n",
    "The idea is to use Backtracking. \n",
    "We first mark all adjacent cells of the landmines as unsafe. \n",
    "Then for each safe cell of first column of the matrix, \n",
    "    we move forward in all allowed directions and recursively checks if they leads to the destination or not. \n",
    "If destination is found, \n",
    "    we update the value of shortest path \n",
    "else \n",
    "    if none of the above solutions work \n",
    "        we return false from our function.\n",
    "*/"
   ]
  },
  {
   "cell_type": "markdown",
   "metadata": {},
   "source": [
    "***https://ideone.com/7nAQaP***"
   ]
  },
  {
   "cell_type": "code",
   "execution_count": 52,
   "metadata": {},
   "outputs": [],
   "source": [
    "/*\n",
    "Another method: \n",
    "It can be solved in polynomial time with the help of Breadth First Search. \n",
    "Enqueue the cells with 1 value in the queue with the distance as 0. \n",
    "As the BFS proceeds, \n",
    "    shortest path to each cell from the first column is computed. \n",
    "Finally for the reachable cells in the last column, output the minimum distance.\n",
    "*/"
   ]
  },
  {
   "cell_type": "markdown",
   "metadata": {},
   "source": [
    "***https://ideone.com/nZGiZ9***"
   ]
  },
  {
   "cell_type": "markdown",
   "metadata": {},
   "source": [
    "## **158. Combinational Sum**\n",
    "https://www.geeksforgeeks.org/combinational-sum/"
   ]
  },
  {
   "cell_type": "code",
   "execution_count": 53,
   "metadata": {},
   "outputs": [],
   "source": [
    "/*\n",
    "Given an array of positive integers arr[] and a sum x, \n",
    "find all unique combinations in arr[] where the sum is equal to x. \n",
    "The same repeated number may be chosen from arr[] unlimited number of times. \n",
    "Elements in a combination (a1, a2, …, ak) must be printed in non-descending order. (ie, a1 <= a2 <= … <= ak).\n",
    "The combinations themselves must be sorted in ascending order, \n",
    "i.e., the combination with smallest first element should be printed first. \n",
    "If there is no combination possible the print \"Empty\" (without quotes).\n",
    "*/"
   ]
  },
  {
   "cell_type": "code",
   "execution_count": 54,
   "metadata": {},
   "outputs": [],
   "source": [
    "/*\n",
    "Examples:\n",
    "\n",
    "Input : arr[] = 2, 4, 6, 8 \n",
    "            x = 8\n",
    "Output : [2, 2, 2, 2]\n",
    "         [2, 2, 4]\n",
    "         [2, 6]\n",
    "         [4, 4]\n",
    "         [8]\n",
    "*/"
   ]
  },
  {
   "cell_type": "code",
   "execution_count": 55,
   "metadata": {},
   "outputs": [],
   "source": [
    "/*\n",
    "Since the problem is to get all the possible results, not the best or the number of result, \n",
    "thus we don’t need to consider DP(dynamic programming), recursion is needed to handle it.\n",
    "\n",
    "We should use the following algorithm.\n",
    "\n",
    "1. Sort the array(non-decreasing).\n",
    "2. First remove all the duplicates from array.\n",
    "3. Then use recursion and backtracking to solve \n",
    "   the problem.\n",
    "   (A) If at any time sub-problem sum == 0 then \n",
    "       add that array to the result (vector of \n",
    "       vectors).\n",
    "   (B) Else if sum if negative then ignore that \n",
    "       sub-problem.\n",
    "   (C) Else insert the present array in that \n",
    "       index to the current vector and call \n",
    "       the function with sum = sum-ar[index] and\n",
    "       index = index, then pop that element from \n",
    "       current index (backtrack) and call the \n",
    "       function with sum = sum and index = index+1 \n",
    "*/"
   ]
  },
  {
   "cell_type": "markdown",
   "metadata": {},
   "source": [
    "***https://ideone.com/xG1y5h***"
   ]
  },
  {
   "cell_type": "markdown",
   "metadata": {},
   "source": [
    "## **159. Partition of a set into K subsets with equal sum**\n",
    "https://www.geeksforgeeks.org/partition-set-k-subsets-equal-sum/"
   ]
  },
  {
   "cell_type": "code",
   "execution_count": 56,
   "metadata": {},
   "outputs": [],
   "source": [
    "/*\n",
    "Given an integer array of N elements, \n",
    "    the task is to divide this array into K non-empty subsets such that the sum of elements in every subset is same. \n",
    "All elements of this array should be part of exactly one partition.\n",
    "*/"
   ]
  },
  {
   "cell_type": "code",
   "execution_count": 57,
   "metadata": {},
   "outputs": [],
   "source": [
    "/*\n",
    "Examples:\n",
    "\n",
    "Input : arr = [2, 1, 4, 5, 6], K = 3\n",
    "Output : Yes\n",
    "we can divide above array into 3 parts with equal\n",
    "sum as [[2, 4], [1, 5], [6]]\n",
    "\n",
    "Input  : arr = [2, 1, 5, 5, 6], K = 3\n",
    "Output : No\n",
    "It is not possible to divide above array into 3\n",
    "parts with equal sum\n",
    "*/"
   ]
  },
  {
   "cell_type": "code",
   "execution_count": 58,
   "metadata": {},
   "outputs": [],
   "source": [
    "/*\n",
    "We can solve this problem recursively, \n",
    "    we keep an array for sum of each partition and a boolean array to check whether an element is already taken into some partition or not.\n",
    "First we need to check some base cases,\n",
    "    -If K is 1, \n",
    "        then we already have our answer, complete array is only subset with same sum.\n",
    "    -If N < K, \n",
    "        then it is not possible to divide array into subsets with equal sum, \n",
    "        because we can’t divide the array into more than N parts.\n",
    "    -If sum of array is not divisible by K, \n",
    "        then it is not possible to divide the array. \n",
    "        We will proceed only if k divides sum. \n",
    "        Our goal reduces to divide array into K parts where sum of each part should be array_sum/K\n",
    "        \n",
    "In below code a recursive method is written which tries to add array element into some subset. \n",
    "If sum of this subset reaches required sum, \n",
    "    we iterate for next part recursively, \n",
    "otherwise \n",
    "    we backtrack for different set of elements. \n",
    "If number of subsets whose sum reaches the required sum is (K-1), \n",
    "    we flag that it is possible to partition array into K parts with equal sum, \n",
    "    because remaining elements already have a sum equal to required sum.\n",
    "*/"
   ]
  },
  {
   "cell_type": "code",
   "execution_count": 59,
   "metadata": {},
   "outputs": [],
   "source": [
    "// Recursive Utility method to check K equal sum \n",
    "// subsetition of array \n",
    "/** \n",
    "    array         - given input array \n",
    "    subsetSum array - sum to store each subset of the array \n",
    "    taken         - boolean array to check whether element \n",
    "                    is taken into sum partition or not \n",
    "    K             - number of partitions needed \n",
    "    N             - total number of element in array \n",
    "    curIdx         - current subsetSum index \n",
    "    limitIdx     - lastIdx from where array element should \n",
    "                    be taken */\n",
    "static boolean isKPartitionPossibleRec(int arr[], int subsetSum[], boolean taken[], \n",
    "                int subset, int K, int N, int curIdx, int limitIdx) \n",
    "{ \n",
    "    if (subsetSum[curIdx] == subset) \n",
    "    { \n",
    "        /* current index (K - 2) represents (K - 1) subsets of equal \n",
    "            sum last partition will already remain with sum 'subset'*/\n",
    "        if (curIdx == K - 2) \n",
    "            return true; \n",
    "  \n",
    "        // recursive call for next subsetition \n",
    "        return isKPartitionPossibleRec(arr, subsetSum, taken, subset, \n",
    "                                            K, N, curIdx + 1, N - 1); \n",
    "    } \n",
    "  \n",
    "    // start from limitIdx and include elements into current partition \n",
    "    for (int i = limitIdx; i >= 0; i--) \n",
    "    { \n",
    "        // if already taken, continue \n",
    "        if (taken[i]) \n",
    "            continue; \n",
    "        int tmp = subsetSum[curIdx] + arr[i]; \n",
    "  \n",
    "        // if temp is less than subset then only include the element \n",
    "        // and call recursively \n",
    "        if (tmp <= subset) \n",
    "        { \n",
    "            // mark the element and include into current partition sum \n",
    "            taken[i] = true; \n",
    "            subsetSum[curIdx] += arr[i]; \n",
    "            boolean nxt = isKPartitionPossibleRec(arr, subsetSum, taken, \n",
    "                                            subset, K, N, curIdx, i - 1); \n",
    "  \n",
    "            // after recursive call unmark the element and remove from \n",
    "            // subsetition sum \n",
    "            taken[i] = false; \n",
    "            subsetSum[curIdx] -= arr[i]; \n",
    "            if (nxt) \n",
    "                return true; \n",
    "        } \n",
    "    } \n",
    "    return false; \n",
    "} "
   ]
  },
  {
   "cell_type": "code",
   "execution_count": 60,
   "metadata": {},
   "outputs": [],
   "source": [
    "// Method returns true if arr can be partitioned into K subsets \n",
    "// with equal sum \n",
    "static boolean isKPartitionPossible(int arr[], int N, int K) \n",
    "{ \n",
    "    // If K is 1, then complete array will be our answer \n",
    "    if (K == 1) \n",
    "        return true; \n",
    "  \n",
    "    // If total number of partitions are more than N, then \n",
    "    // division is not possible \n",
    "    if (N < K) \n",
    "        return false; \n",
    "  \n",
    "    // if array sum is not divisible by K then we can't divide \n",
    "    // array into K partitions \n",
    "    int sum = 0; \n",
    "    for (int i = 0; i < N; i++) \n",
    "        sum += arr[i]; \n",
    "    if (sum % K != 0) \n",
    "        return false; \n",
    "  \n",
    "    // the sum of each subset should be subset (= sum / K) \n",
    "    int subset = sum / K; \n",
    "    int []subsetSum = new int[K]; \n",
    "    boolean []taken = new boolean[N]; \n",
    "  \n",
    "    // Initialize sum of each subset from 0 \n",
    "    for (int i = 0; i < K; i++) \n",
    "        subsetSum[i] = 0; \n",
    "  \n",
    "    // mark all elements as not taken \n",
    "    for (int i = 0; i < N; i++) \n",
    "        taken[i] = false; \n",
    "  \n",
    "    // initialize first subsubset sum as last element of \n",
    "    // array and mark that as taken \n",
    "    subsetSum[0] = arr[N - 1]; \n",
    "    taken[N - 1] = true; \n",
    "  \n",
    "    // call recursive method to check K-substitution condition \n",
    "    return isKPartitionPossibleRec(arr, subsetSum, taken, \n",
    "                                    subset, K, N, 0, N - 1); \n",
    "}"
   ]
  },
  {
   "cell_type": "code",
   "execution_count": 61,
   "metadata": {},
   "outputs": [
    {
     "name": "stdout",
     "output_type": "stream",
     "text": [
      "Partitions into equal sum is possible.\n"
     ]
    }
   ],
   "source": [
    "// Driver code  \n",
    "public static void main(String[] args) \n",
    "{ \n",
    "    int arr[] = {2, 1, 4, 5, 3, 3}; \n",
    "    int N = arr.length; \n",
    "    int K = 3; \n",
    "  \n",
    "    if (isKPartitionPossible(arr, N, K)) \n",
    "        System.out.println(\"Partitions into equal sum is possible.\"); \n",
    "    else\n",
    "        System.out.println(\"Partitions into equal sum is not possible.\"); \n",
    "} \n",
    "main(args);"
   ]
  },
  {
   "cell_type": "markdown",
   "metadata": {},
   "source": [
    "## **160. Longest Possible Route in a Matrix with Hurdles**\n",
    "https://www.geeksforgeeks.org/longest-possible-route-in-a-matrix-with-hurdles/"
   ]
  },
  {
   "cell_type": "code",
   "execution_count": 62,
   "metadata": {},
   "outputs": [],
   "source": [
    "/*\n",
    "Given an M x N matrix, \n",
    "with a few hurdles arbitrarily placed, \n",
    "calculate the length of longest possible route possible from source to destination within the matrix. \n",
    "We are allowed to move to only adjacent cells which are not hurdles. \n",
    "The route cannot contains any diagonal moves and a location once visited in a particular path cannot be visited again.\n",
    "*/"
   ]
  },
  {
   "cell_type": "code",
   "execution_count": 63,
   "metadata": {},
   "outputs": [],
   "source": [
    "/*\n",
    "For example, \n",
    "    longest path with no hurdles from source to destination is highlighted for below matrix. \n",
    "    The length of the path is 24.\n",
    "*/"
   ]
  },
  {
   "cell_type": "markdown",
   "metadata": {},
   "source": [
    "<img src = \"https://www.geeksforgeeks.org/wp-content/uploads/matrix_highlight-660x231.png\"/>"
   ]
  },
  {
   "cell_type": "code",
   "execution_count": 64,
   "metadata": {},
   "outputs": [],
   "source": [
    "/*\n",
    "The idea is to use Backtracking. \n",
    "We start from the source cell of the matrix, move forward in all four allowed directions \n",
    "and recursively checks if they leads to the solution or not. \n",
    "\n",
    "If destination is found, \n",
    "    we update the value of longest path \n",
    "else if none of the above solutions work \n",
    "    we return false from our function.\n",
    "\n",
    "Below is C++ implementation of above idea –\n",
    "*/"
   ]
  },
  {
   "cell_type": "markdown",
   "metadata": {},
   "source": [
    "***https://ideone.com/BoWGLE***"
   ]
  },
  {
   "cell_type": "markdown",
   "metadata": {},
   "source": [
    "## **161. Solving Cryptarithmetic Puzzles | Backtracking-8**\n",
    "https://www.geeksforgeeks.org/solving-cryptarithmetic-puzzles-backtracking-8/"
   ]
  },
  {
   "cell_type": "code",
   "execution_count": 65,
   "metadata": {},
   "outputs": [],
   "source": [
    "/*\n",
    "Newspapers and magazines often have crypt-arithmetic puzzles of the form:\n",
    "\n",
    "  SEND\n",
    "+ MORE\n",
    "--------\n",
    " MONEY\n",
    "-------- \n",
    "*/"
   ]
  },
  {
   "cell_type": "code",
   "execution_count": 66,
   "metadata": {},
   "outputs": [],
   "source": [
    "/*\n",
    "The goal here is to assign each letter a digit from 0 to 9 so that the arithmetic works out correctly. \n",
    "The rules are that all occurrences of a letter must be assigned the same digit, \n",
    "and no digit can be assigned to more than one letter.\n",
    "\n",
    "    -First, create a list of all the characters that need assigning to pass to Solve\n",
    "    -If all characters are assigned, return true if puzzle is solved, false otherwise\n",
    "    -Otherwise, consider the first unassigned character\n",
    "    -for (every possible choice among the digits not in use)\n",
    "\n",
    "make that choice and then recursively try to assign the rest of the characters\n",
    "if recursion successful, \n",
    "    return true\n",
    "if !successful, \n",
    "    unmake assignment and try another digit\n",
    "\n",
    "If all digits have been tried and nothing worked, return false to trigger backtracking.\n",
    "*/"
   ]
  },
  {
   "cell_type": "code",
   "execution_count": 67,
   "metadata": {},
   "outputs": [],
   "source": [
    "/* ExhaustiveSolve \n",
    "* --------------- \n",
    "* This is the \"not-very-smart\" version of cryptarithmetic solver. It takes \n",
    "* the puzzle itself (with the 3 strings for the two addends and sum) and a \n",
    "* string of letters as yet unassigned. If no more letters to assign \n",
    "* then we've hit a base-case, if the current letter-to-digit mapping solves \n",
    "* the puzzle, we're done, otherwise we return false to trigger backtracking \n",
    "* If we have letters to assign, we take the first letter from that list, and \n",
    "* try assigning it the digits from 0 to 9 and then recursively working \n",
    "* through solving puzzle from here. If we manage to make a good assignment \n",
    "* that works, we've succeeded, else we need to unassign that choice and try \n",
    "* another digit. This version is easy to write, since it uses a simple \n",
    "* approach (quite similar to permutations if you think about it) but it is \n",
    "* not so smart because it doesn't take into account the structure of the \n",
    "* puzzle constraints (for example, once the two digits for the addends have \n",
    "* been assigned, there is no reason to try anything other than the correct \n",
    "* digit for the sum) yet it tries a lot of useless combos regardless \n",
    "*/\n",
    "/*\n",
    "bool ExhaustiveSolve(puzzleT puzzle, string lettersToAssign) \n",
    "{ \n",
    "\tif (lettersToAssign.empty()) // no more choices to make \n",
    "\t\treturn PuzzleSolved(puzzle); // checks arithmetic to see if works \n",
    "\tfor (int digit = 0; digit <= 9; digit++) // try all digits \n",
    "\t{ \n",
    "\t\tif (AssignLetterToDigit(lettersToAssign[0], digit)) \n",
    "\t\t{ \n",
    "\t\t\tif (ExhaustiveSolve(puzzle, lettersToAssign.substr(1))) \n",
    "\t\t\t\treturn true; \n",
    "\t\t\tUnassignLetterFromDigit(lettersToAssign[0], digit); \n",
    "\t\t} \n",
    "\t} \n",
    "\treturn false; // nothing worked, need to backtrack \n",
    "} \n",
    "*/"
   ]
  },
  {
   "cell_type": "code",
   "execution_count": 68,
   "metadata": {},
   "outputs": [],
   "source": [
    "/*\n",
    "The algorithm above actually has a lot in common with the permutations algorithm, \n",
    "it pretty much just creates all arrangements of the mapping from characters to digits \n",
    "and tries each until one works or all have been successfully tried. \n",
    "\n",
    "For a large puzzle, this could take a while.\n",
    "\n",
    "A smarter algorithm could take into account the structure of the puzzle and avoid going down dead-end paths. \n",
    "For example, \n",
    "    if we assign the characters starting from the one’s place and \n",
    "    moving to the left, at each stage, we can verify the correctness of what we have so far before we continue onwards. \n",
    "This definitely complicates the code but leads to a tremendous improvement in efficiency, \n",
    "    making it much more feasible to solve large puzzles.\n",
    "*/"
   ]
  },
  {
   "cell_type": "code",
   "execution_count": 69,
   "metadata": {},
   "outputs": [],
   "source": [
    "/*\n",
    "Below pseudocode, in this case, has more special cases, but the same general design\n",
    "\n",
    "-Start by examining the rightmost digit of the topmost row, with a carry of 0\n",
    "-If we are beyond the leftmost digit of the puzzle, return true if no carry, false otherwise\n",
    "-If we are currently trying to assign a char in one of the addends\n",
    " If char already assigned, just recur on the row beneath this one, adding value into the sum\n",
    " If not assigned, then\n",
    "     -for (every possible choice among the digits not in use)\n",
    "      make that choice and then on row beneath this one, if successful, return true\n",
    "      if !successful, unmake assignment and try another digit\n",
    "     -return false if no assignment worked to trigger backtracking\n",
    "-Else if trying to assign a char in the sum\n",
    "-If char assigned & matches correct,\n",
    " recur on next column to the left with carry, if success return true,\n",
    "-If char assigned & doesn’t match, return false\n",
    "-If char unassigned & correct digit already used, return false\n",
    "-If char unassigned & correct digit unused,\n",
    " assign it and recur on next column to left with carry, if success return true\n",
    "-return false to trigger backtracking\n",
    "*/"
   ]
  },
  {
   "cell_type": "markdown",
   "metadata": {},
   "source": [
    "**Related Link :** \n",
    "\n",
    "***http://see.stanford.edu/materials/icspacs106b/H19-RecBacktrackExamples.pdf***\n",
    "\n",
    "***https://www.geeksforgeeks.org/c-code-article-backtracking-set-8-solving-cryptarithmetic-puzzles/?ref=rp***"
   ]
  },
  {
   "cell_type": "markdown",
   "metadata": {},
   "source": [
    "## **162. Match a pattern and String without using regular expressions**\n",
    "https://www.geeksforgeeks.org/match-a-pattern-and-string-without-using-regular-expressions/"
   ]
  },
  {
   "cell_type": "code",
   "execution_count": 70,
   "metadata": {},
   "outputs": [],
   "source": [
    "/*\n",
    "Given a string, find out if string follows a given pattern or not without using any regular expressions.\n",
    "*/"
   ]
  },
  {
   "cell_type": "code",
   "execution_count": 71,
   "metadata": {},
   "outputs": [],
   "source": [
    "/*\n",
    "Examples:\n",
    "\n",
    "Input: \n",
    "string - GraphTreesGraph\n",
    "pattern - aba\n",
    "Output: \n",
    "a->Graph\n",
    "b->Trees\n",
    "\n",
    "Input: \n",
    "string - GraphGraphGraph\n",
    "pattern - aaa\n",
    "Output: \n",
    "a->Graph\n",
    "\n",
    "Input: \n",
    "string - GeeksforGeeks\n",
    "pattern - GfG\n",
    "Output: \n",
    "G->Geeks\n",
    "f->for\n",
    "\n",
    "Input: \n",
    "string - GeeksforGeeks\n",
    "pattern - GG\n",
    "Output: \n",
    "No solution exists\n",
    "*/"
   ]
  },
  {
   "cell_type": "code",
   "execution_count": 72,
   "metadata": {},
   "outputs": [],
   "source": [
    "/*\n",
    "We can solve this problem with the help of Backtracking. \n",
    "For each character in the pattern, \n",
    "if the character is not seen before, \n",
    "    we consider all possible sub-strings and recurse to see if it leads to the solution or not. \n",
    "We maintain a map that stores sub-string mapped to a pattern character. \n",
    "If pattern character is seen before, \n",
    "    we use the same sub-string present in the map. \n",
    "If we found a solution, \n",
    "    for each distinct character in the pattern, we print string mapped to it using our map.\n",
    "\n",
    "Below is C++ implementation of above idea –\n",
    "*/"
   ]
  },
  {
   "cell_type": "markdown",
   "metadata": {},
   "source": [
    "***https://ideone.com/YLsQaX***"
   ]
  },
  {
   "cell_type": "markdown",
   "metadata": {},
   "source": [
    "## **163. Find if there is a path of more than k length from a source**\n",
    "https://www.geeksforgeeks.org/find-if-there-is-a-path-of-more-than-k-length-from-a-source/"
   ]
  },
  {
   "cell_type": "code",
   "execution_count": 73,
   "metadata": {},
   "outputs": [],
   "source": [
    "/*\n",
    "Given a graph, a source vertex in the graph and a number k, \n",
    "find if there is a simple path (without any cycle) starting from given source and ending at any other vertex.\n",
    "*/"
   ]
  },
  {
   "cell_type": "markdown",
   "metadata": {},
   "source": [
    "<img src = \"https://media.geeksforgeeks.org/wp-content/uploads/graphhh.png\"/>"
   ]
  },
  {
   "cell_type": "code",
   "execution_count": 74,
   "metadata": {},
   "outputs": [],
   "source": [
    "/*\n",
    "Example:\n",
    "Input  : Source s = 0, k = 58\n",
    "Output : True\n",
    "There exists a simple path 0 -> 7 -> 1\n",
    "-> 2 -> 8 -> 6 -> 5 -> 3 -> 4\n",
    "Which has a total distance of 60 km which\n",
    "is more than 58.\n",
    "\n",
    "Input  : Source s = 0, k = 62\n",
    "Output : False\n",
    "\n",
    "In the above graph, the longest simple\n",
    "path has distance 61 (0 -> 7 -> 1-> 2\n",
    " -> 3 -> 4 -> 5-> 6 -> 8, so output \n",
    "should be false for any input greater \n",
    "than 61.\n",
    "*/"
   ]
  },
  {
   "cell_type": "code",
   "execution_count": 75,
   "metadata": {},
   "outputs": [],
   "source": [
    "/*\n",
    "One important thing to note is, \n",
    "    simply doing BFS or DFS and picking the longest edge at every step would not work. \n",
    "The reason is, \n",
    "    a shorter edge can produce longer path due to higher weight edges connected through it.\n",
    "\n",
    "The idea is to use Backtracking. \n",
    "We start from given source, explore all paths from current vertex. \n",
    "We keep track of current distance from source. \n",
    "If distance becomes more than k, \n",
    "    we return true. \n",
    "If a path doesn’t produces more than k distance, \n",
    "    we backtrack.\n",
    "\n",
    "How do we make sure that the path is simple and we don’t loop in a cycle? \n",
    "    The idea is to keep track of current path vertices in an array. \n",
    "    Whenever we add a vertex to path, we check if it already exists or not in current path. \n",
    "    If it exists, \n",
    "        we ignore the edge.\n",
    "\n",
    "Below is implementation of above idea.\n",
    "*/"
   ]
  },
  {
   "cell_type": "markdown",
   "metadata": {},
   "source": [
    "***https://ideone.com/YBWA7E***"
   ]
  },
  {
   "cell_type": "code",
   "execution_count": 76,
   "metadata": {},
   "outputs": [],
   "source": [
    "/*\n",
    "Explanation:\n",
    "From the source node, we one-by-one visit all the paths and check if the total weight is greater than k for each path. \n",
    "So, the worst case will be when the number of possible paths is maximum. \n",
    "This is the case when every node is connected to every other node.\n",
    "Beginning from the source node we have n-1 adjacent nodes. \n",
    "The time needed for a path to connect any two nodes is 2. \n",
    "    One for joining the source and the next adjacent vertex. \n",
    "    One for breaking the connection between the source and the old adjacent vertex.\n",
    "After selecting a node out of n-1 adjacent nodes, \n",
    "    we are left with n-2 adjacent nodes (as the source node is already included in the path) \n",
    "    and so on at every step of selecting a node our problem reduces by 1 node.\n",
    "\n",
    "We can write this in the form of a recurrence relation as: \n",
    "    F(n) = n*(2+F(n-1))\n",
    "This expands to: \n",
    "    2n + 2n*(n-1) + 2n*(n-1)*(n-2) + ……. + 2n(n-1)(n-2)(n-3)…..1\n",
    "As n times 2n(n-1)(n-2)(n-3)….1 is greater than the given expression \n",
    "    so we can safely say time complexity is: n*2*n!\n",
    "Here in the question the first node is defined so time complexity becomes\n",
    "F(n-1) = 2(n-1)*(n-1)! = 2*n*(n-1)! – 2*1*(n-1)! = 2*n!-2*(n-1)! = O(n!)\n",
    "*/"
   ]
  },
  {
   "cell_type": "markdown",
   "metadata": {},
   "source": [
    "## **164. Hamiltonian Cycle | Backtracking-6**\n",
    "https://www.geeksforgeeks.org/hamiltonian-cycle-backtracking-6/"
   ]
  },
  {
   "cell_type": "code",
   "execution_count": 77,
   "metadata": {},
   "outputs": [],
   "source": [
    "/*\n",
    "Hamiltonian Path in an undirected graph is a path that visits each vertex exactly once. \n",
    "\n",
    "A Hamiltonian cycle (or Hamiltonian circuit) is a Hamiltonian Path such that there is an edge (in the graph) from the last vertex to the first vertex of the Hamiltonian Path. \n",
    "\n",
    "Determine whether a given graph contains Hamiltonian Cycle or not. \n",
    "If it contains, then prints the path. \n",
    "\n",
    "Following are the input and output of the required function.\n",
    "Input:\n",
    "A 2D array graph[V][V] where V is the number of vertices in graph and graph[V][V] is adjacency matrix representation of the graph. \n",
    "A value graph[i][j] is 1 if there is a direct edge from i to j, otherwise graph[i][j] is 0.\n",
    "\n",
    "Output:\n",
    "An array path[V] that should contain the Hamiltonian Path. \n",
    "path[i] should represent the ith vertex in the Hamiltonian Path. \n",
    "The code should also return false if there is no Hamiltonian Cycle in the graph.\n",
    "*/"
   ]
  },
  {
   "cell_type": "code",
   "execution_count": 78,
   "metadata": {},
   "outputs": [],
   "source": [
    "/*\n",
    "For example, a Hamiltonian Cycle in the following graph is {0, 1, 2, 4, 3, 0}.\n",
    "\n",
    "(0)--(1)--(2)\n",
    " |   / \\   |\n",
    " |  /   \\  | \n",
    " | /     \\ |\n",
    "(3)-------(4)\n",
    "And the following graph doesn’t contain any Hamiltonian Cycle.\n",
    "\n",
    "(0)--(1)--(2)\n",
    " |   / \\   |\n",
    " |  /   \\  | \n",
    " | /     \\ |\n",
    "(3)      (4) \n",
    "*/"
   ]
  },
  {
   "cell_type": "code",
   "execution_count": 79,
   "metadata": {},
   "outputs": [],
   "source": [
    "/*\n",
    "Naive Algorithm\n",
    "Generate all possible configurations of vertices and print a configuration that satisfies the given constraints. There will be n! (n factorial) configurations.\n",
    "\n",
    "while there are untried conflagrations\n",
    "{\n",
    "   generate the next configuration\n",
    "   if ( there are edges between two consecutive vertices of this\n",
    "      configuration and there is an edge from the last vertex to \n",
    "      the first ).\n",
    "   {\n",
    "      print this configuration;\n",
    "      break;\n",
    "   }\n",
    "}\n",
    "*/"
   ]
  },
  {
   "cell_type": "code",
   "execution_count": 80,
   "metadata": {},
   "outputs": [],
   "source": [
    "/*\n",
    "Backtracking Algorithm\n",
    "Create an empty path array and add vertex 0 to it. \n",
    "Add other vertices, \n",
    "    starting from the vertex 1. \n",
    "Before adding a vertex, \n",
    "    check for whether it is adjacent to the previously added vertex and not already added. \n",
    "If we find such a vertex, \n",
    "    we add the vertex as part of the solution. \n",
    "If we do not find a vertex \n",
    "    then we return false.\n",
    "*/"
   ]
  },
  {
   "cell_type": "code",
   "execution_count": 81,
   "metadata": {},
   "outputs": [],
   "source": [
    "final int V = 5; \n",
    "int path[]; \n",
    "\n",
    "/* A utility function to check if the vertex v can be \n",
    "   added at index 'pos'in the Hamiltonian Cycle \n",
    "   constructed so far (stored in 'path[]') */\n",
    "boolean isSafe(int v, int graph[][], int path[], int pos) \n",
    "{ \n",
    "    /* Check if this vertex is an adjacent vertex of \n",
    "       the previously added vertex. */\n",
    "    if (graph[path[pos - 1]][v] == 0) \n",
    "        return false; \n",
    "\n",
    "    /* Check if the vertex has already been included. \n",
    "       This step can be optimized by creating an array \n",
    "       of size V */\n",
    "    for (int i = 0; i < pos; i++) \n",
    "        if (path[i] == v) \n",
    "            return false; \n",
    "\n",
    "    return true; \n",
    "}"
   ]
  },
  {
   "cell_type": "code",
   "execution_count": 82,
   "metadata": {},
   "outputs": [],
   "source": [
    "/* A recursive utility function to solve hamiltonian \n",
    "   cycle problem */\n",
    "boolean hamCycleUtil(int graph[][], int path[], int pos) \n",
    "{ \n",
    "    /* base case: If all vertices are included in \n",
    "       Hamiltonian Cycle */\n",
    "    if (pos == V) \n",
    "    { \n",
    "        // And if there is an edge from the last included \n",
    "        // vertex to the first vertex \n",
    "        if (graph[path[pos - 1]][path[0]] == 1) \n",
    "            return true; \n",
    "        else\n",
    "            return false; \n",
    "    } \n",
    "\n",
    "    // Try different vertices as a next candidate in \n",
    "    // Hamiltonian Cycle. We don't try for 0 as we \n",
    "    // included 0 as starting point in hamCycle() \n",
    "    for (int v = 1; v < V; v++) \n",
    "    { \n",
    "        /* Check if this vertex can be added to Hamiltonian \n",
    "           Cycle */\n",
    "        if (isSafe(v, graph, path, pos)) \n",
    "        { \n",
    "            path[pos] = v; \n",
    "\n",
    "            /* recur to construct rest of the path */\n",
    "            if (hamCycleUtil(graph, path, pos + 1) == true) \n",
    "                return true; \n",
    "\n",
    "            /* If adding vertex v doesn't lead to a solution, \n",
    "               then remove it */\n",
    "            path[pos] = -1; \n",
    "        } \n",
    "    } \n",
    "\n",
    "    /* If no vertex can be added to Hamiltonian Cycle \n",
    "       constructed so far, then return false */\n",
    "    return false; \n",
    "} "
   ]
  },
  {
   "cell_type": "code",
   "execution_count": 83,
   "metadata": {},
   "outputs": [],
   "source": [
    "/* A utility function to print solution */\n",
    "void printSolution(int path[]) \n",
    "{ \n",
    "    System.out.println(\"Solution Exists: Following\" + \n",
    "                       \" is one Hamiltonian Cycle\"); \n",
    "    for (int i = 0; i < V; i++) \n",
    "        System.out.print(\" \" + path[i] + \" \"); \n",
    "\n",
    "    // Let us print the first vertex again to show the \n",
    "    // complete cycle \n",
    "    System.out.println(\" \" + path[0] + \" \"); \n",
    "} "
   ]
  },
  {
   "cell_type": "code",
   "execution_count": 84,
   "metadata": {},
   "outputs": [],
   "source": [
    "/* This function solves the Hamiltonian Cycle problem using \n",
    "   Backtracking. It mainly uses hamCycleUtil() to solve the \n",
    "   problem. It returns false if there is no Hamiltonian Cycle \n",
    "   possible, otherwise return true and prints the path. \n",
    "   Please note that there may be more than one solutions, \n",
    "   this function prints one of the feasible solutions. */\n",
    "int hamCycle(int graph[][]) \n",
    "{ \n",
    "    path = new int[V]; \n",
    "    for (int i = 0; i < V; i++) \n",
    "        path[i] = -1; \n",
    "\n",
    "    /* Let us put vertex 0 as the first vertex in the path. \n",
    "       If there is a Hamiltonian Cycle, then the path can be \n",
    "       started from any point of the cycle as the graph is \n",
    "       undirected */\n",
    "    path[0] = 0; \n",
    "    if (hamCycleUtil(graph, path, 1) == false) \n",
    "    { \n",
    "        System.out.println(\"\\nSolution does not exist\"); \n",
    "        return 0; \n",
    "    } \n",
    "\n",
    "    printSolution(path); \n",
    "    return 1; \n",
    "} "
   ]
  },
  {
   "cell_type": "code",
   "execution_count": 85,
   "metadata": {},
   "outputs": [
    {
     "name": "stdout",
     "output_type": "stream",
     "text": [
      "Solution Exists: Following is one Hamiltonian Cycle\n",
      " 0  1  2  4  3  0 \n",
      "\n",
      "Solution does not exist\n"
     ]
    }
   ],
   "source": [
    "// driver program to test above function \n",
    "public static void main(String args[]) \n",
    "{ \n",
    "    /* Let us create the following graph \n",
    "       (0)--(1)--(2) \n",
    "        |   / \\   | \n",
    "        |  /   \\  | \n",
    "        | /     \\ | \n",
    "       (3)-------(4)    */\n",
    "    int graph1[][] = {{0, 1, 0, 1, 0}, \n",
    "        {1, 0, 1, 1, 1}, \n",
    "        {0, 1, 0, 0, 1}, \n",
    "        {1, 1, 0, 0, 1}, \n",
    "        {0, 1, 1, 1, 0}, \n",
    "    }; \n",
    "\n",
    "    // Print the solution \n",
    "    hamCycle(graph1); \n",
    "\n",
    "    /* Let us create the following graph \n",
    "       (0)--(1)--(2) \n",
    "        |   / \\   | \n",
    "        |  /   \\  | \n",
    "        | /     \\ | \n",
    "       (3)       (4)    */\n",
    "    int graph2[][] = {{0, 1, 0, 1, 0}, \n",
    "        {1, 0, 1, 1, 1}, \n",
    "        {0, 1, 0, 0, 1}, \n",
    "        {1, 1, 0, 0, 0}, \n",
    "        {0, 1, 1, 0, 0}, \n",
    "    }; \n",
    "\n",
    "    // Print the solution \n",
    "    hamCycle(graph2); \n",
    "} \n",
    "main(args);"
   ]
  },
  {
   "cell_type": "code",
   "execution_count": 86,
   "metadata": {},
   "outputs": [],
   "source": [
    "/*\n",
    "Note that the above code always prints cycle starting from 0. \n",
    "The starting point should not matter as the cycle can be started from any point. \n",
    "If you want to change the starting point, you should make two changes to the above code.\n",
    "    Change “path[0] = 0;” to “path[0] = s;” where s is your new starting point. \n",
    "    Also change loop “for (int v = 1; v < V; v++)\" in hamCycleUtil() to \"for (int v = 0; v < V; v++)\".\n",
    "*/"
   ]
  },
  {
   "cell_type": "markdown",
   "metadata": {},
   "source": [
    "## **165. Tug of War**\n",
    "https://www.geeksforgeeks.org/tug-of-war/"
   ]
  },
  {
   "cell_type": "code",
   "execution_count": 87,
   "metadata": {},
   "outputs": [],
   "source": [
    "/*\n",
    "Given a set of n integers, \n",
    "divide the set in two subsets of n/2 sizes each such that the difference of the sum of two subsets is as minimum as possible. \n",
    "If n is even, then sizes of two subsets must be strictly n/2 and \n",
    "if n is odd, then size of one subset must be (n-1)/2 and size of other subset must be (n+1)/2.\n",
    "\n",
    "For example, \n",
    "\n",
    "let given set be {3, 4, 5, -3, 100, 1, 89, 54, 23, 20}, the size of set is 10. \n",
    "Output for this set should be {4, 100, 1, 23, 20} and {3, 5, -3, 89, 54}. \n",
    "Both output subsets are of size 5 and sum of elements in both subsets is same (148 and 148).\n",
    "\n",
    "Let us consider another example where n is odd. \n",
    "\n",
    "Let given set be {23, 45, -34, 12, 0, 98, -99, 4, 189, -1, 4}. \n",
    "The output subsets should be {45, -34, 12, 98, -1} and {23, 0, -99, 4, 189, 4}. \n",
    "The sums of elements in two subsets are 120 and 121 respectively.\n",
    "\n",
    "The following solution tries every possible subset of half size. \n",
    "If one subset of half size is formed, the remaining elements form the other subset. \n",
    "We initialize current set as empty and one by one build it. \n",
    "There are two possibilities for every element, \n",
    "    either it is part of current set, \n",
    "    or it is part of the remaining elements (other subset). \n",
    "We consider both possibilities for every element. \n",
    "\n",
    "When the size of current set becomes n/2, \n",
    "    we check whether this solutions is better than the best solution available so far. \n",
    "    If it is, \n",
    "        then we update the best solution.\n",
    "*/"
   ]
  },
  {
   "cell_type": "code",
   "execution_count": 88,
   "metadata": {},
   "outputs": [],
   "source": [
    "public int min_diff; \n",
    "\n",
    "// function that tries every possible solution \n",
    "// by calling itself recursively \n",
    "void TOWUtil(int arr[], int n, boolean curr_elements[], \n",
    "           int no_of_selected_elements, boolean soln[], \n",
    "           int sum, int curr_sum, int curr_position) \n",
    "{ \n",
    "    // checks whether the it is going out of bound \n",
    "    if (curr_position == n) \n",
    "        return; \n",
    "\n",
    "    // checks that the numbers of elements left  \n",
    "    // are not less than the number of elements \n",
    "    // required to form the solution \n",
    "    if ((n / 2 - no_of_selected_elements) > \n",
    "            (n - curr_position)) \n",
    "        return; \n",
    "\n",
    "    // consider the cases when current element  \n",
    "    // is not included in the solution \n",
    "    TOWUtil(arr, n, curr_elements,  \n",
    "           no_of_selected_elements, soln, sum, \n",
    "           curr_sum, curr_position+1); \n",
    "\n",
    "    // add the current element to the solution \n",
    "    no_of_selected_elements++; \n",
    "    curr_sum = curr_sum + arr[curr_position]; \n",
    "    curr_elements[curr_position] = true; \n",
    "\n",
    "    // checks if a solution is formed \n",
    "    if (no_of_selected_elements == n / 2) \n",
    "    { \n",
    "        // checks if the solution formed is \n",
    "        // better than the best solution so \n",
    "        // far \n",
    "        if (Math.abs(sum / 2 - curr_sum) < \n",
    "                              min_diff) \n",
    "        { \n",
    "            min_diff = Math.abs(sum / 2 - \n",
    "                              curr_sum); \n",
    "            for (int i = 0; i < n; i++) \n",
    "                soln[i] = curr_elements[i]; \n",
    "        } \n",
    "    } \n",
    "    else\n",
    "    { \n",
    "        // consider the cases where current  \n",
    "        // element is included in the  \n",
    "        // solution \n",
    "        TOWUtil(arr, n, curr_elements,  \n",
    "                no_of_selected_elements,  \n",
    "                soln, sum, curr_sum,  \n",
    "                curr_position + 1); \n",
    "    } \n",
    "\n",
    "    // removes current element before  \n",
    "    // returning to the caller of this \n",
    "    // function \n",
    "    curr_elements[curr_position] = false; \n",
    "} "
   ]
  },
  {
   "cell_type": "code",
   "execution_count": 89,
   "metadata": {},
   "outputs": [],
   "source": [
    "// main function that generate an arr \n",
    "void tugOfWar(int arr[]) \n",
    "{ \n",
    "    int n = arr.length;  \n",
    "\n",
    "    // the boolean array that contains the  \n",
    "    // inclusion and exclusion of an element \n",
    "    // in current set. The number excluded \n",
    "    // automatically form the other set \n",
    "    boolean[] curr_elements = new boolean[n]; \n",
    "\n",
    "    // The inclusion/exclusion array for  \n",
    "    // final solution \n",
    "    boolean[] soln = new boolean[n]; \n",
    "\n",
    "    min_diff = Integer.MAX_VALUE; \n",
    "\n",
    "    int sum = 0; \n",
    "    for (int i = 0; i < n; i++) \n",
    "    { \n",
    "        sum += arr[i]; \n",
    "        curr_elements[i] = soln[i] = false; \n",
    "    } \n",
    "\n",
    "    // Find the solution using recursive  \n",
    "    // function TOWUtil() \n",
    "    TOWUtil(arr, n, curr_elements, 0,  \n",
    "            soln, sum, 0, 0); \n",
    "\n",
    "    // Print the solution \n",
    "    System.out.print(\"The first subset is: \"); \n",
    "    for (int i = 0; i < n; i++) \n",
    "    { \n",
    "        if (soln[i] == true) \n",
    "            System.out.print(arr[i] + \" \"); \n",
    "    } \n",
    "    System.out.print(\"\\nThe second subset is: \"); \n",
    "    for (int i = 0; i < n; i++) \n",
    "    { \n",
    "        if (soln[i] == false) \n",
    "            System.out.print(arr[i] + \" \"); \n",
    "    } \n",
    "}"
   ]
  },
  {
   "cell_type": "code",
   "execution_count": 90,
   "metadata": {},
   "outputs": [
    {
     "name": "stdout",
     "output_type": "stream",
     "text": [
      "The first subset is: 45 -34 12 98 -1 \n",
      "The second subset is: 23 0 -99 4 189 4 "
     ]
    }
   ],
   "source": [
    "// Driver program to test above functions \n",
    "public static void main (String[] args)  \n",
    "{ \n",
    "    int arr[] = {23, 45, -34, 12, 0, 98, \n",
    "                 -99, 4, 189, -1, 4}; \n",
    "    tugOfWar(arr); \n",
    "} \n",
    "main(args);"
   ]
  },
  {
   "cell_type": "code",
   "execution_count": null,
   "metadata": {},
   "outputs": [],
   "source": []
  }
 ],
 "metadata": {
  "kernelspec": {
   "display_name": "Java",
   "language": "java",
   "name": "java"
  },
  "language_info": {
   "codemirror_mode": "java",
   "file_extension": ".jshell",
   "mimetype": "text/x-java-source",
   "name": "Java",
   "pygments_lexer": "java",
   "version": "11.0.6+8-LTS"
  },
  "toc": {
   "base_numbering": 1,
   "nav_menu": {},
   "number_sections": true,
   "sideBar": true,
   "skip_h1_title": false,
   "title_cell": "Table of Contents",
   "title_sidebar": "Contents",
   "toc_cell": false,
   "toc_position": {
    "height": "calc(100% - 180px)",
    "left": "10px",
    "top": "150px",
    "width": "273.188px"
   },
   "toc_section_display": true,
   "toc_window_display": true
  }
 },
 "nbformat": 4,
 "nbformat_minor": 2
}
