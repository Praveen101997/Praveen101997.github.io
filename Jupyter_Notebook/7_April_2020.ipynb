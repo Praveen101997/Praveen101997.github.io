{
 "cells": [
  {
   "cell_type": "markdown",
   "metadata": {},
   "source": [
    "**------------------------Questions Covered-----------------------------**"
   ]
  },
  {
   "cell_type": "markdown",
   "metadata": {},
   "source": [
    "***12\t\n",
    "Order Statistics & Heap & Hash\n",
    "https://www.geeksforgeeks.org/a-data-structure-question/\talgorithm designing\tbreaker\t\t\t\t\t\t\t\t\t\t\t\t\t\t\t\t\t\t\t\t\t\t\t\n",
    "12\t\n",
    "Order Statistics & Heap & Hash\n",
    "https://www.geeksforgeeks.org/cuckoo-hashing/\t\tbreaker\t\t\t\t\t\t\t\t\t\t\t\t\t\t\t\t\t\t\t\t\t\t\t\n",
    "12\t\n",
    "Order Statistics & Heap & Hash\n",
    "https://www.geeksforgeeks.org/find-number-of-employees-under-every-manager/\tPep_JavaIP_12OrderStatsHeapHash_409NumberOfEmployees\t\t\t\t\t\t\t\t\t\t\t\t\t\t\t\t\t\t\t\t\t\t\t\t\n",
    "12\t\n",
    "Order Statistics & Heap & Hash\n",
    "https://www.geeksforgeeks.org/find-itinerary-from-a-given-list-of-tickets/\tPep_JavaIP_12OrderStatsHeapHash_410ItineraryFromGivenListofTickets\t\t\t\t\t\t\t\t\t\t\t\t\t\t\t\t\t\t\t\t\t\t\t\t\n",
    "12\t\n",
    "Order Statistics & Heap & Hash\n",
    "https://www.geeksforgeeks.org/check-if-an-array-can-be-divided-into-pairs-whose-sum-is-divisible-by-k/\tPep_JavaIP_12OrderStatsHeapHash_411CheckPairsDivisibleByK\t\t\t\t\t\t\t\t\t\t\t\t\t\t\t\t\t\t\t\t\t\t\t\t\n",
    "12\t\n",
    "Order Statistics & Heap & Hash\n",
    "https://www.geeksforgeeks.org/find-the-largest-subarray-with-0-sum/\tPep_JavaIP_12OrderStatsHeapHash_412LargestSubarrayWith0Sum\t\t\t\t\t\t\t\t\t\t\t\t\t\t\t\t\t\t\t\t\t\t\t\t\n",
    "12\t\n",
    "Order Statistics & Heap & Hash\n",
    "https://www.geeksforgeeks.org/count-distinct-elements-in-every-window-of-size-k/\tPep_JavaIP_12OrderStatsHeapHash_413CountDistinctElemetnsInWindowOfSizeK\t\t\t\t\t\t\t\t\t\t\t\t\t\t\t\t\t\t\t\t\t\t\t\t\n",
    "12\t\n",
    "Order Statistics & Heap & Hash\n",
    "https://www.geeksforgeeks.org/design-a-data-structure-that-supports-insert-delete-search-and-getrandom-in-constant-time/\tPep_JavaIP_12OrderStatsHeapHash_414MyDS\t\t\t\t\t\t\t\t\t\t\t\t\t\t\t\t\t\t\t\t\t\t\t\t\n",
    "12\t\n",
    "Order Statistics & Heap & Hash\n",
    "https://www.geeksforgeeks.org/length-largest-subarray-contiguous-elements-set-2/\tPep_JavaIP_12OrderStatsHeapHash_415LongestSubarrayWithContiguousElements\t\t\t\t\t\t\t\t\t\t\t\t\t\t\t\t\t\t\t\t\t\t\t\t\n",
    "12\t\n",
    "Order Statistics & Heap & Hash\n",
    "https://www.geeksforgeeks.org/group-shifted-string/\tPep_JavaIP_12OrderStatsHeapHash_416GroupShiftedStrings\t\t\t\t\t\t\t\t\t\t\t\t\t\t\t\t\t\t\t\t\t\t\t\t\n",
    "12\t\n",
    "Order Statistics & Heap & Hash\n",
    "https://www.geeksforgeeks.org/palindrome-substring-queries/\tvery tough\tbreaker\t\t\t\t\t\t\t\t\t\t\t\t\t\t\t\t\t\t\t\t\t\t\t\n",
    "12\t\n",
    "Order Statistics & Heap & Hash\n",
    "https://www.geeksforgeeks.org/find-four-elements-a-b-c-and-d-in-an-array-such-that-ab-cd/\tPep_JavaIP_12OrderStatsHeapHash_418FourElements\t\t\t\t\t\t\t\t\t\t\t\t\t\t\t\t\t\t\t\t\t\t\t\t\n",
    "12\t\n",
    "Order Statistics & Heap & Hash\n",
    "https://www.geeksforgeeks.org/subarrays-distinct-elements/\tPep_JavaIP_12OrderStatsHeapHash_419SubarraysLengthSum\t\t\t\t\t\t\t\t\t\t\t\t\t\t\t\t\t\t\t\t\t\t\t\t\n",
    "12\t\n",
    "Order Statistics & Heap & Hash\n",
    "https://www.geeksforgeeks.org/find-recurring-sequence-fraction/\tdifferent question\t\t\t\t\t\t\t\t\t\t\t\t\t\t\t\t\t\t\t\t\t\t\t\t\n",
    "12\t\n",
    "Order Statistics & Heap & Hash\n",
    "https://www.geeksforgeeks.org/k-maximum-sum-combinations-two-arrays/***"
   ]
  },
  {
   "cell_type": "code",
   "execution_count": 1,
   "metadata": {},
   "outputs": [],
   "source": [
    "import java.util.*;\n",
    "import java.io.*;\n",
    "String[] args =new String[0];"
   ]
  },
  {
   "cell_type": "markdown",
   "metadata": {},
   "source": [
    "## **405. Design an efficient data structure for given operations**\n",
    "https://www.geeksforgeeks.org/a-data-structure-question/"
   ]
  },
  {
   "cell_type": "code",
   "execution_count": 2,
   "metadata": {},
   "outputs": [],
   "source": [
    "/*\n",
    "Design a Data Structure for the following operations. \n",
    "The data structure should be efficient enough to accommodate the operations according to their frequency.\n",
    "*/"
   ]
  },
  {
   "cell_type": "code",
   "execution_count": 3,
   "metadata": {},
   "outputs": [],
   "source": [
    "/*\n",
    "1) findMin() : Returns the minimum item.\n",
    "   Frequency: Most frequent\n",
    "\n",
    "2) findMax() : Returns the maximum item.\n",
    "    Frequency: Most frequent\n",
    "\n",
    "3) deleteMin() : Delete the minimum item.\n",
    "    Frequency: Moderate frequent \n",
    "\n",
    "4) deleteMax() : Delete the maximum item.\n",
    "    Frequency: Moderate frequent \n",
    "\n",
    "5) Insert() : Inserts an item.\n",
    "    Frequency: Least frequent\n",
    "\n",
    "6) Delete() : Deletes an item.\n",
    "    Frequency: Least frequent. \n",
    "*/"
   ]
  },
  {
   "cell_type": "code",
   "execution_count": 4,
   "metadata": {},
   "outputs": [],
   "source": [
    "/*\n",
    "A simple solution \n",
    "    is to maintain a sorted array where smallest element is at first position and largest element is at last. \n",
    "    \n",
    "    The time complexity of findMin(), findMAx() and deleteMax() is O(1). \n",
    "    But time complexities of deleteMin(), insert() and delete() will be O(n).\n",
    "*/"
   ]
  },
  {
   "cell_type": "code",
   "execution_count": 5,
   "metadata": {},
   "outputs": [],
   "source": [
    "/*\n",
    "Can we do the most frequent two operations in O(1) and other operations in O(Logn) time?.\n",
    "\n",
    "The idea is to use two binary heaps (one max and one min heap). \n",
    "The main challenge is,\n",
    "    while deleting an item, we need to delete from both min-heap and max-heap. \n",
    "    So, we need some kind of mutual data structure. \n",
    "    \n",
    "    In the following design, \n",
    "        we have used doubly linked list as a mutual data structure.\n",
    "    The doubly linked list contains all input items and indexes of corresponding min and max heap nodes. \n",
    "    The nodes of min and max heaps store addresses of nodes of doubly linked list.\n",
    "    The root node of min heap stores the address of minimum item in doubly linked list. \n",
    "    Similarly, \n",
    "    root of max heap stores address of maximum item in doubly linked list. \n",
    "    \n",
    "Following are the details of operations.\n",
    "*/"
   ]
  },
  {
   "cell_type": "code",
   "execution_count": 6,
   "metadata": {},
   "outputs": [],
   "source": [
    "/*\n",
    "1) findMax(): We get the address of maximum value node from root of Max Heap. \n",
    "        So this is a O(1) operation.\n",
    "\n",
    "1) findMin(): We get the address of minimum value node from root of Min Heap. \n",
    "        So this is a O(1) operation.\n",
    "\n",
    "3) deleteMin(): We get the address of minimum value node from root of Min Heap.\n",
    "                We use this address to find the node in doubly linked list. \n",
    "                From the doubly linked list, we get node of Max Heap. \n",
    "                We delete node from all three. \n",
    "        We can delete a node from doubly linked list in O(1) time. \n",
    "        delete() operations for max and min heaps take O(Logn) time.\n",
    "\n",
    "4) deleteMax(): is similar to deleteMin()\n",
    "\n",
    "5) Insert() We always insert at the beginning of linked list in O(1) time. \n",
    "        Inserting the address in Max and Min Heaps take O(Logn) time. \n",
    "        So overall complexity is O(Logn)\n",
    "\n",
    "6) Delete() We first search the item in Linked List. \n",
    "        Once the item is found in O(n) time, we delete it from linked list. \n",
    "        Then using the indexes stored in linked list, we delete it from Min Heap and Max Heaps in O(Logn) time. \n",
    "*/"
   ]
  },
  {
   "cell_type": "code",
   "execution_count": 7,
   "metadata": {},
   "outputs": [],
   "source": [
    "/*\n",
    "So overall complexity of this operation is O(n).\n",
    "\n",
    "The Delete operation can be optimized to O(Logn) \n",
    "    by using a balanced binary search tree instead of doubly linked list as a mutual data structure. \n",
    "    Use of balanced binary search \n",
    "        will not effect time complexity of other operations \n",
    "        as it will act as a mutual data structure like doubly Linked List.\n",
    "*/"
   ]
  },
  {
   "cell_type": "markdown",
   "metadata": {},
   "source": [
    "<img src = \"https://media.geeksforgeeks.org/wp-content/cdn-uploads/data-structure1.png\"/>"
   ]
  },
  {
   "cell_type": "markdown",
   "metadata": {},
   "source": [
    "***https://ideone.com/nDIRjY***"
   ]
  },
  {
   "cell_type": "markdown",
   "metadata": {},
   "source": [
    "## **406. Cuckoo Hashing – Worst case O(1) Lookup!**\n",
    "https://www.geeksforgeeks.org/cuckoo-hashing/"
   ]
  },
  {
   "cell_type": "code",
   "execution_count": 8,
   "metadata": {},
   "outputs": [],
   "source": [
    "/*\n",
    "Background :\n",
    "\n",
    "There are three basic operations that must be supported by a hash table (or a dictionary):\n",
    "\n",
    "1. Lookup(key): return true if key is there in the table, else false\n",
    "2. Insert(key): adds the item ‘key’ to the table if not already present\n",
    "3. Delete(key): removes ‘key’ from the table\n",
    "*/"
   ]
  },
  {
   "cell_type": "code",
   "execution_count": 9,
   "metadata": {},
   "outputs": [],
   "source": [
    "/*\n",
    "View Question Link for full description\n",
    "*/"
   ]
  },
  {
   "cell_type": "markdown",
   "metadata": {},
   "source": [
    "## **407. Find number of Employees Under every Employee**\n",
    "https://www.geeksforgeeks.org/find-number-of-employees-under-every-manager/"
   ]
  },
  {
   "cell_type": "code",
   "execution_count": 10,
   "metadata": {},
   "outputs": [],
   "source": [
    "/*\n",
    "Given a dictionary that contains mapping of employee and his manager as a number of (employee, manager) pairs like below.\n",
    "{ \"A\", \"C\" },\n",
    "{ \"B\", \"C\" },\n",
    "{ \"C\", \"F\" },\n",
    "{ \"D\", \"E\" },\n",
    "{ \"E\", \"F\" },\n",
    "{ \"F\", \"F\" } \n",
    "\n",
    "In this example \n",
    "C is manager of A, \n",
    "C is also manager of B, \n",
    "F is manager of C \n",
    "and so on.\n",
    "*/"
   ]
  },
  {
   "cell_type": "code",
   "execution_count": 11,
   "metadata": {},
   "outputs": [],
   "source": [
    "/*\n",
    "Write a function to get no of employees under each manager in the hierarchy not just their direct reports. \n",
    "It may be assumed that an employee directly reports to only one manager. \n",
    "In the above dictionary the root node/ceo is listed as reporting to himself.\n",
    "\n",
    "Output should be a Dictionary that contains following.\n",
    "\n",
    "A - 0  \n",
    "B - 0\n",
    "C - 2\n",
    "D - 0\n",
    "E - 1\n",
    "F - 5 \n",
    "*/"
   ]
  },
  {
   "cell_type": "code",
   "execution_count": 12,
   "metadata": {},
   "outputs": [],
   "source": [
    "/*\n",
    "This question might be solved differently but i followed this and found interesting, so sharing:\n",
    "\n",
    " 1. Create a reverse map with Manager->DirectReportingEmployee \n",
    "    combination. Off-course employee will be multiple so Value \n",
    "    in Map is List of Strings.\n",
    "        \"C\" --> \"A\", \"B\",\n",
    "        \"E\" --> \"D\" \n",
    "        \"F\" --> \"C\", \"E\", \"F\"\n",
    "\n",
    " \n",
    "2. Now use the given employee-manager map to iterate  and at \n",
    "   the same time use newly reverse map to find the count of \n",
    "   employees under manager.\n",
    "   \n",
    "   Let the map created in step 2 be 'mngrEmpMap' \n",
    "   Do following for every employee 'emp'.\n",
    "     a) If 'emp' is not present in 'mngrEmpMap' \n",
    "          Count under 'emp' is 0 [Nobody reports to 'emp']\n",
    "     b) If 'emp' is present in 'mngrEmpMap' \n",
    "          Use the list of direct reports from map 'mngrEmpMap'\n",
    "          and recursively calculate number of total employees\n",
    "          under 'emp'. \n",
    "*/"
   ]
  },
  {
   "cell_type": "code",
   "execution_count": 13,
   "metadata": {},
   "outputs": [],
   "source": [
    "/*\n",
    "A trick in step 2.b is to use memorization(Dynamic programming) \n",
    "    while finding number of employees under a manager \n",
    "    so that we don’t need to find number of employees again for any of the employees. \n",
    "\n",
    "In the below code populateResultUtil() \n",
    "    is the recursive function that uses memoization to avoid re-computation of same results.\n",
    "*/"
   ]
  },
  {
   "cell_type": "code",
   "execution_count": 14,
   "metadata": {},
   "outputs": [],
   "source": [
    "// A hashmap to store result. It stores count of employees \n",
    "// under every employee, the count may by 0 also \n",
    "static Map<String,Integer> result = new HashMap<String, Integer>(); "
   ]
  },
  {
   "cell_type": "code",
   "execution_count": 15,
   "metadata": {},
   "outputs": [],
   "source": [
    "// This is a recursive function to fill count for 'mgr' using \n",
    "// mngrEmpMap.  This function uses memoization to avoid re- \n",
    "// computations of subproblems. \n",
    "private static int populateResultUtil(String mngr, \n",
    "                           Map<String, List<String>> mngrEmpMap) \n",
    "{ \n",
    "    int count = 0; \n",
    "\n",
    "    // means employee is not a manager of any other employee \n",
    "    if (!mngrEmpMap.containsKey(mngr)) \n",
    "    { \n",
    "        result.put(mngr, 0); \n",
    "        return 0; \n",
    "    } \n",
    "\n",
    "    // this employee count has already been done by this \n",
    "    // method, so avoid re-computation \n",
    "    else if (result.containsKey(mngr)) \n",
    "        count = result.get(mngr); \n",
    "\n",
    "    else\n",
    "    { \n",
    "        List<String> directReportEmpList = mngrEmpMap.get(mngr); \n",
    "        count = directReportEmpList.size(); \n",
    "        for (String directReportEmp: directReportEmpList) \n",
    "           count +=  populateResultUtil(directReportEmp, mngrEmpMap); \n",
    "\n",
    "        result.put(mngr, count); \n",
    "    } \n",
    "    return count; \n",
    "} "
   ]
  },
  {
   "cell_type": "code",
   "execution_count": 16,
   "metadata": {},
   "outputs": [],
   "source": [
    "// This function populates 'result' for given input 'dataset' \n",
    "private static void populateResult(Map<String, String> dataSet) \n",
    "{ \n",
    "    // To store reverse of original map, each key will have 0 \n",
    "    // to multiple values \n",
    "    Map<String, List<String>> mngrEmpMap = \n",
    "                              new HashMap<String, List<String>>(); \n",
    "\n",
    "    // To fill mngrEmpMap, iterate through the given map \n",
    "    for (Map.Entry<String,String> entry: dataSet.entrySet()) \n",
    "    { \n",
    "        String emp = entry.getKey(); \n",
    "        String mngr = entry.getValue(); \n",
    "        if (!emp.equals(mngr)) // excluding emp-emp entry \n",
    "        { \n",
    "            // Get the previous list of direct reports under \n",
    "            // current 'mgr' and add the current 'emp' to the list \n",
    "            List<String> directReportList = mngrEmpMap.get(mngr); \n",
    "\n",
    "            // If 'emp' is the first employee under 'mgr' \n",
    "            if (directReportList == null) \n",
    "            { \n",
    "                directReportList = new ArrayList<String>(); \n",
    "                // add a new entry for the mngr with empty directReportList \n",
    "                mngrEmpMap.put(mngr, directReportList); \n",
    "            } \n",
    "            directReportList.add(emp); \n",
    "        } \n",
    "    } \n",
    "\n",
    "    // Now use manager-Emp map built above to populate result  \n",
    "    // with use of populateResultUtil() \n",
    "\n",
    "    // note- we are iterating over original emp-manager map and \n",
    "    // will use mngr-emp map in helper to get the count \n",
    "    for (String mngr: dataSet.keySet()) \n",
    "        populateResultUtil(mngr, mngrEmpMap); \n",
    "} "
   ]
  },
  {
   "cell_type": "code",
   "execution_count": 17,
   "metadata": {},
   "outputs": [
    {
     "name": "stdout",
     "output_type": "stream",
     "text": [
      "result = {A=0, B=0, C=2, D=0, E=1, F=5}\n"
     ]
    }
   ],
   "source": [
    "// Driver function \n",
    "public static void main(String[] args) \n",
    "{ \n",
    "    Map<String, String> dataSet = new HashMap<String, String>(); \n",
    "    dataSet.put(\"A\", \"C\"); \n",
    "    dataSet.put(\"B\", \"C\"); \n",
    "    dataSet.put(\"C\", \"F\"); \n",
    "    dataSet.put(\"D\", \"E\"); \n",
    "    dataSet.put(\"E\", \"F\"); \n",
    "    dataSet.put(\"F\", \"F\"); \n",
    "\n",
    "    populateResult(dataSet); \n",
    "    System.out.println(\"result = \" + result); \n",
    "} \n",
    "main(args);"
   ]
  },
  {
   "cell_type": "markdown",
   "metadata": {},
   "source": [
    "## **408. Find Itinerary from a given list of tickets**\n",
    "https://www.geeksforgeeks.org/find-itinerary-from-a-given-list-of-tickets/"
   ]
  },
  {
   "cell_type": "code",
   "execution_count": 18,
   "metadata": {},
   "outputs": [],
   "source": [
    "/*\n",
    "Given a list of tickets, find itinerary in order using the given list.\n",
    "\n",
    "It may be assumed that the input list of tickets is not cyclic \n",
    "and there is one ticket from every city except final destination\n",
    "*/"
   ]
  },
  {
   "cell_type": "code",
   "execution_count": 19,
   "metadata": {},
   "outputs": [],
   "source": [
    "/*\n",
    "One Solution is to build a graph and do Topological Sorting of the graph. \n",
    "Time complexity of this solution is O(n).\n",
    "*/"
   ]
  },
  {
   "cell_type": "markdown",
   "metadata": {},
   "source": [
    "**Topological Sorting :**  ***https://www.geeksforgeeks.org/topological-sorting/***"
   ]
  },
  {
   "cell_type": "code",
   "execution_count": 20,
   "metadata": {},
   "outputs": [],
   "source": [
    "/*\n",
    "We can also use hashing to avoid building a graph. \n",
    "The idea is to first find the starting point. \n",
    "A starting point would never be on ‘to’ side of a ticket. \n",
    "Once we find the starting point, \n",
    "    we can simply traverse the given map to print itinerary in order. \n",
    "    \n",
    "Following are steps.\n",
    "\n",
    "1) Create a HashMap of given pair of tickets.  Let the created \n",
    "   HashMap be 'dataset'. Every entry of 'dataset' is of the form \n",
    "   \"from->to\" like \"Chennai\" -> \"Banglore\"\n",
    "\n",
    "2) Find the starting point of itinerary.\n",
    "     a) Create a reverse HashMap.  Let the reverse be 'reverseMap'\n",
    "        Entries of 'reverseMap' are of the form \"to->form\". \n",
    "        Following is 'reverseMap' for above example.\n",
    "        \"Banglore\"-> \"Chennai\" \n",
    "        \"Delhi\"   -> \"Bombay\" \n",
    "        \"Chennai\" -> \"Goa\"\n",
    "        \"Goa\"     ->  \"Delhi\"\n",
    " \n",
    "     b) Traverse 'dataset'.  For every key of dataset, check if it\n",
    "        is there in 'reverseMap'.  If a key is not present, then we \n",
    "        found the starting point. In the above example, \"Bombay\" is\n",
    "        starting point.\n",
    "\n",
    "3) Start from above found starting point and traverse the 'dataset' \n",
    "   to print itinerary.\n",
    "\n",
    "All of the above steps require O(n) time so \n",
    "\n",
    "overall time complexity is O(n).\n",
    "*/"
   ]
  },
  {
   "cell_type": "code",
   "execution_count": 21,
   "metadata": {},
   "outputs": [],
   "source": [
    "// This function populates 'result' for given input 'dataset' \n",
    "private static void printResult(Map<String, String> dataSet) \n",
    "{ \n",
    "    // To store reverse of given map \n",
    "    Map<String, String> reverseMap = new HashMap<String, String>(); \n",
    "\n",
    "    // To fill reverse map, iterate through the given map \n",
    "    for (Map.Entry<String,String> entry: dataSet.entrySet()) \n",
    "        reverseMap.put(entry.getValue(), entry.getKey()); \n",
    "\n",
    "    // Find the starting point of itinerary \n",
    "    String start = null; \n",
    "    for (Map.Entry<String,String> entry: dataSet.entrySet()) \n",
    "    { \n",
    "          if (!reverseMap.containsKey(entry.getKey())) \n",
    "          { \n",
    "               start = entry.getKey(); \n",
    "               break; \n",
    "          } \n",
    "    } \n",
    "\n",
    "    // If we could not find a starting point, then something wrong \n",
    "    // with input \n",
    "    if (start == null) \n",
    "    { \n",
    "       System.out.println(\"Invalid Input\"); \n",
    "       return; \n",
    "    } \n",
    "\n",
    "    // Once we have starting point, we simple need to go next, next \n",
    "    // of next using given hash map \n",
    "    String to = dataSet.get(start); \n",
    "    while (to != null) \n",
    "    { \n",
    "        System.out.print(start +  \"->\" + to + \", \"); \n",
    "        start = to; \n",
    "        to = dataSet.get(to); \n",
    "    } \n",
    "} "
   ]
  },
  {
   "cell_type": "code",
   "execution_count": 22,
   "metadata": {},
   "outputs": [
    {
     "name": "stdout",
     "output_type": "stream",
     "text": [
      "Bombay->Delhi, Delhi->Goa, Goa->Chennai, Chennai->Banglore, "
     ]
    }
   ],
   "source": [
    "// Driver function \n",
    "public static void main(String[] args) \n",
    "{ \n",
    "    Map<String, String> dataSet = new HashMap<String, String>(); \n",
    "    dataSet.put(\"Chennai\", \"Banglore\"); \n",
    "    dataSet.put(\"Bombay\", \"Delhi\"); \n",
    "    dataSet.put(\"Goa\", \"Chennai\"); \n",
    "    dataSet.put(\"Delhi\", \"Goa\"); \n",
    "\n",
    "    printResult(dataSet); \n",
    "} \n",
    "main(args);"
   ]
  },
  {
   "cell_type": "markdown",
   "metadata": {},
   "source": [
    "## **409. Check if an array can be divided into pairs whose sum is divisible by k**\n",
    "https://www.geeksforgeeks.org/check-if-an-array-can-be-divided-into-pairs-whose-sum-is-divisible-by-k/"
   ]
  },
  {
   "cell_type": "code",
   "execution_count": 23,
   "metadata": {},
   "outputs": [],
   "source": [
    "/*\n",
    "Given an array of integers and a number k, \n",
    "write a function that returns true \n",
    "    if given array can be divided into pairs such that sum of every pair is divisible by k.\n",
    "*/"
   ]
  },
  {
   "cell_type": "code",
   "execution_count": 24,
   "metadata": {},
   "outputs": [],
   "source": [
    "/*\n",
    "Examples:\n",
    "\n",
    "Input: arr[] = {9, 7, 5, 3},\n",
    "k = 6\n",
    "Output: True\n",
    "We can divide array into (9, 3) and\n",
    "(7, 5). Sum of both of these pairs\n",
    "is a multiple of 6.\n",
    "\n",
    "Input: arr[] = {92, 75, 65, 48, 45, 35},\n",
    "k = 10\n",
    "Output: True\n",
    "We can divide array into (92, 48), (75, 65)\n",
    "and (45, 35). Sum of all these pairs is a\n",
    "multiple of 10.\n",
    "\n",
    "Input: arr[] = {91, 74, 66, 48}, k = 10\n",
    "Output: False\n",
    "*/"
   ]
  },
  {
   "cell_type": "code",
   "execution_count": 25,
   "metadata": {},
   "outputs": [],
   "source": [
    "/*\n",
    "A Simple Solution is to iterate through every element arr[i]. \n",
    "Find if there is another not yet visited element that has remainder as (k – arr[i]%k). \n",
    "If there is no such element, \n",
    "    return false. \n",
    "If a pair is found, \n",
    "    then mark both elements as visited.\n",
    "\n",
    "Time complexity of this solution is O(n^2) and it requires O(n) extra space.\n",
    "*/"
   ]
  },
  {
   "cell_type": "code",
   "execution_count": 26,
   "metadata": {},
   "outputs": [],
   "source": [
    "/*\n",
    "An Efficient Solution is to use Hashing.\n",
    "\n",
    "1) If length of given array is odd, return false. \n",
    "    An odd length array cannot be divided into pairs.\n",
    "2) Traverse input array and count occurrences of \n",
    "    all reminders. \n",
    "      freq[arr[i] % k]++\n",
    "3) Traverse input array again. \n",
    "   a) Find the remainder of the current element.\n",
    "   b) If remainder divides k into two halves, then\n",
    "      there must be even occurrences of it as it \n",
    "      forms pair with itself only.\n",
    "   c) If the remainder is 0, then there must be \n",
    "      even occurrences.\n",
    "   c) Else, number of occurrences of current \n",
    "      the remainder must be equal to a number of \n",
    "      occurrences of \"k - current remainder\".\n",
    "*/"
   ]
  },
  {
   "cell_type": "code",
   "execution_count": 27,
   "metadata": {},
   "outputs": [],
   "source": [
    "/*\n",
    "An efficient approach is to use a map in C++ STL.\n",
    "The map is typically implemented using Red-Black Tree and takes O(Log n) time for access.\n",
    "Therefore time complexity of below implementation is O(n Log n),\n",
    "but the algorithm can be easily implemented in O(n) time using a hash table.\n",
    "*/"
   ]
  },
  {
   "cell_type": "markdown",
   "metadata": {},
   "source": [
    "<img src = \"https://media.geeksforgeeks.org/wp-content/cdn-uploads/20190702121044/ArrayPairSumDivisibility-768x970.png\"/>"
   ]
  },
  {
   "cell_type": "code",
   "execution_count": 28,
   "metadata": {},
   "outputs": [],
   "source": [
    "// Returns true if arr[0..n-1] can be divided into pairs \n",
    "// with sum divisible by k. \n",
    "static boolean canPairs(int ar[], int k)  \n",
    "{ \n",
    "    // An odd length array cannot be divided into pairs \n",
    "    if (ar.length % 2 == 1) \n",
    "        return false; \n",
    "\n",
    "    // Create a frequency array to count occurrences \n",
    "    // of all remainders when divided by k. \n",
    "    HashMap<Integer, Integer> hm = new HashMap<>(); \n",
    "\n",
    "    // Count occurrences of all remainders \n",
    "    for (int i = 0; i < ar.length; i++)  \n",
    "    { \n",
    "        int rem = ar[i] % k; \n",
    "        if (!hm.containsKey(rem))  \n",
    "        { \n",
    "            hm.put(rem, 0); \n",
    "        } \n",
    "        hm.put(rem, hm.get(rem) + 1); \n",
    "    } \n",
    "\n",
    "    // Traverse input array and use freq[] to decide \n",
    "    // if given array can be divided in pairs \n",
    "    for (int i = 0; i < ar.length; i++)  \n",
    "    { \n",
    "         // Remainder of current element \n",
    "        int rem = ar[i] % k; \n",
    "\n",
    "        // If remainder with current element divides \n",
    "        // k into two halves. \n",
    "        if (2 * rem == k)  \n",
    "        { \n",
    "            // Then there must be even occurrences of \n",
    "            // such remainder \n",
    "            if (hm.get(rem) % 2 == 1) \n",
    "                return false; \n",
    "        }  \n",
    "\n",
    "        // If remainder is 0, then there must be two  \n",
    "        // elements with 0 remainder \n",
    "        else if (rem == 0)  \n",
    "        { \n",
    "            // Then there must be even occurrences of \n",
    "            // such remainder \n",
    "            if (hm.get(rem) % 2 == 1) \n",
    "                return false; \n",
    "        } \n",
    "\n",
    "        // Else number of occurrences of remainder \n",
    "        // must be equal to number of occurrences of \n",
    "        // k - remainder \n",
    "        else \n",
    "        { \n",
    "            if (hm.get(k - rem) != hm.get(rem)) \n",
    "                return false; \n",
    "        } \n",
    "    } \n",
    "    return true; \n",
    "}"
   ]
  },
  {
   "cell_type": "code",
   "execution_count": 29,
   "metadata": {},
   "outputs": [
    {
     "name": "stdout",
     "output_type": "stream",
     "text": [
      "True\n"
     ]
    }
   ],
   "source": [
    "// Driver program to test above functions \n",
    "public static void main(String[] args)  \n",
    "{ \n",
    "    int arr[] = { 92, 75, 65, 48, 45, 35 }; \n",
    "    int k = 10; \n",
    "    boolean ans = canPairs(arr, k); \n",
    "    if (ans) \n",
    "        System.out.println(\"True\"); \n",
    "    else\n",
    "        System.out.println(\"False\"); \n",
    "\n",
    "} \n",
    "main(args);"
   ]
  },
  {
   "cell_type": "markdown",
   "metadata": {},
   "source": [
    "## **410. Find the length of largest subarray with 0 sum**\n",
    "https://www.geeksforgeeks.org/find-the-largest-subarray-with-0-sum/"
   ]
  },
  {
   "cell_type": "code",
   "execution_count": 30,
   "metadata": {},
   "outputs": [],
   "source": [
    "/*\n",
    "Given an array of integers, find the length of the longest sub-array with sum equals to 0.\n",
    "*/"
   ]
  },
  {
   "cell_type": "code",
   "execution_count": 31,
   "metadata": {},
   "outputs": [],
   "source": [
    "/*\n",
    "Examples :\n",
    "\n",
    "Input: arr[] = {15, -2, 2, -8, 1, 7, 10, 23};\n",
    "Output: 5\n",
    "Explanation: The longest sub-array with \n",
    "elements summing up-to 0 is {-2, 2, -8, 1, 7}\n",
    "\n",
    "Input: arr[] = {1, 2, 3}\n",
    "Output: 0\n",
    "Explanation:There is no subarray with 0 sum\n",
    "\n",
    "Input:  arr[] = {1, 0, 3}\n",
    "Output:  1\n",
    "Explanation: The longest sub-array with \n",
    "elements summing up-to 0 is {0}\n",
    "*/"
   ]
  },
  {
   "cell_type": "code",
   "execution_count": 32,
   "metadata": {},
   "outputs": [],
   "source": [
    "/*\n",
    "Naive Approach: \n",
    "This involves the use of brute force where two nested loops are used. \n",
    "The outer loop is used to fix the starting position of the sub array, and\n",
    "the inner loop is used for the ending position of the sub-array \n",
    "    and if the sum of elements is equal to zero then increase the count.\n",
    "\n",
    "Algorithm:\n",
    "1. Consider all sub-arrays one by one and check the sum of every sub-array.\n",
    "2. Run two loops: \n",
    "        the outer loop picks the starting point i and \n",
    "        the inner loop tries all sub-arrays starting from i.\n",
    "        \n",
    "Complexity Analysis:\n",
    "Time Complexity: O(n^2) due to the use of nested loops.\n",
    "Space complexity: O(1) as no extra space is used.\n",
    "*/"
   ]
  },
  {
   "cell_type": "code",
   "execution_count": 33,
   "metadata": {},
   "outputs": [],
   "source": [
    "// Returns length of the largest subarray \n",
    "// with 0 sum \n",
    "static int maxLen(int arr[], int n) \n",
    "{ \n",
    "    int max_len = 0; \n",
    "\n",
    "    // Pick a starting point \n",
    "    for (int i = 0; i < n; i++) { \n",
    "        // Initialize curr_sum for every \n",
    "        // starting point \n",
    "        int curr_sum = 0; \n",
    "\n",
    "        // try all subarrays starting with 'i' \n",
    "        for (int j = i; j < n; j++) { \n",
    "            curr_sum += arr[j]; \n",
    "\n",
    "            // If curr_sum becomes 0, then update \n",
    "            // max_len \n",
    "            if (curr_sum == 0) \n",
    "                max_len = Math.max(max_len, j - i + 1); \n",
    "        } \n",
    "    } \n",
    "    return max_len; \n",
    "} "
   ]
  },
  {
   "cell_type": "code",
   "execution_count": 34,
   "metadata": {},
   "outputs": [
    {
     "name": "stdout",
     "output_type": "stream",
     "text": [
      "Length of the longest 0 sum subarray is 5\n"
     ]
    }
   ],
   "source": [
    "public static void main(String args[]) \n",
    "{ \n",
    "    int arr[] = { 15, -2, 2, -8, 1, 7, 10, 23 }; \n",
    "    int n = arr.length; \n",
    "    System.out.println(\"Length of the longest 0 sum \"\n",
    "                       + \"subarray is \" + maxLen(arr, n)); \n",
    "} \n",
    "main(args);"
   ]
  },
  {
   "cell_type": "code",
   "execution_count": 35,
   "metadata": {},
   "outputs": [],
   "source": [
    "/*\n",
    "Efficient Approach: \n",
    "\n",
    "The brute force solution is calculating the sum of each and every sub-array \n",
    "    and checking whether the sum is zero or not. \n",
    "Let’s now try to improve the time complexity by taking an extra space of ‘n’ length. \n",
    "The new array will store the sum of all the elements up to that index. \n",
    "The sum-index pair will be stored in a hash-map.\n",
    "A Hash map allows insertion and deletion of key-value pair in constant time.\n",
    "\n",
    "Therefore, the time complexity remains unaffected.\n",
    "\n",
    "So, if the same value appears twice in the array, \n",
    "    it will be guaranteed that the particular array will be a zero-sum sub-array.\n",
    "*/"
   ]
  },
  {
   "cell_type": "code",
   "execution_count": 36,
   "metadata": {},
   "outputs": [],
   "source": [
    "/*\n",
    "Mathematical Proof:\n",
    "\n",
    "prefix(i) = arr[0] + arr[1] +…+ arr[i]\n",
    "prefix(j) = arr[0] + arr[1] +…+ arr[j], j>i\n",
    "if prefix(i) == prefix(j) then prefix(j) – prefix(i) = 0 that means \n",
    "    arr[i+1] + .. + arr[j] = 0, So a sub-array has zero sum , \n",
    "    and the length of that sub-array is j-i+1\n",
    "*/"
   ]
  },
  {
   "cell_type": "code",
   "execution_count": 37,
   "metadata": {},
   "outputs": [],
   "source": [
    "/*\n",
    "Algorithm:\n",
    "1. Create a extra space, \n",
    "    an array of length n (prefix), a variable (sum) , length (max_len) \n",
    "    and a hash map (hm) to store sum-index pair as a key-value pair\n",
    "2. Move along the input array from starting to the end\n",
    "3. For every index update the value of sum = sum + array[i]\n",
    "4. Check for every index, if the current sum is present in the hash map or not\n",
    "5. If present \n",
    "        update the value of max_len to maximum of difference of two indices \n",
    "        (current index and index in the hash-map) and max_len\n",
    "6. Else \n",
    "        Put the value (sum) in the hash map, with the index as a key-value pair.\n",
    "7. Print the maximum length (max_len)\n",
    "\n",
    "Complexity Analysis:\n",
    "Time Complexity: O(n), as use of good hashing function will allow insertion and retrieval operations in O(1) time.\n",
    "Space Complexity: O(n), for the use of extra space to store the prefix array and hashmap.\n",
    "*/"
   ]
  },
  {
   "cell_type": "markdown",
   "metadata": {},
   "source": [
    "<img src = \"https://media.geeksforgeeks.org/wp-content/cdn-uploads/20190702111822/LenghtOfLargestSubarrayWithOSum.png\"/>"
   ]
  },
  {
   "cell_type": "code",
   "execution_count": 38,
   "metadata": {},
   "outputs": [],
   "source": [
    "// Returns length of the maximum length subarray with 0 sum \n",
    "static int maxLen(int arr[]) \n",
    "{ \n",
    "    // Creates an empty hashMap hM \n",
    "    HashMap<Integer, Integer> hM = new HashMap<Integer, Integer>(); \n",
    "\n",
    "    int sum = 0; // Initialize sum of elements \n",
    "    int max_len = 0; // Initialize result \n",
    "\n",
    "    // Traverse through the given array \n",
    "    for (int i = 0; i < arr.length; i++) { \n",
    "        // Add current element to sum \n",
    "        sum += arr[i]; \n",
    "\n",
    "        if (arr[i] == 0 && max_len == 0) \n",
    "            max_len = 1; \n",
    "\n",
    "        if (sum == 0) \n",
    "            max_len = i + 1; \n",
    "\n",
    "        // Look this sum in hash table \n",
    "        Integer prev_i = hM.get(sum); \n",
    "\n",
    "        // If this sum is seen before, then update max_len \n",
    "        // if required \n",
    "        if (prev_i != null) \n",
    "            max_len = Math.max(max_len, i - prev_i); \n",
    "        else // Else put this sum in hash table \n",
    "            hM.put(sum, i); \n",
    "    } \n",
    "\n",
    "    return max_len; \n",
    "} "
   ]
  },
  {
   "cell_type": "code",
   "execution_count": 39,
   "metadata": {},
   "outputs": [
    {
     "name": "stdout",
     "output_type": "stream",
     "text": [
      "Length of the longest 0 sum subarray is 5\n"
     ]
    }
   ],
   "source": [
    "// Drive method \n",
    "public static void main(String arg[]) \n",
    "{ \n",
    "    int arr[] = { 15, -2, 2, -8, 1, 7, 10, 23 }; \n",
    "    System.out.println(\"Length of the longest 0 sum subarray is \"\n",
    "                       + maxLen(arr)); \n",
    "} \n",
    "main(args);"
   ]
  },
  {
   "cell_type": "markdown",
   "metadata": {},
   "source": [
    "## **411. Count distinct elements in every window of size k**\n",
    "https://www.geeksforgeeks.org/count-distinct-elements-in-every-window-of-size-k/"
   ]
  },
  {
   "cell_type": "code",
   "execution_count": 40,
   "metadata": {},
   "outputs": [],
   "source": [
    "/*\n",
    "Given an array of size n and an integer k, return the count of distinct numbers in all windows of size k.\n",
    "*/"
   ]
  },
  {
   "cell_type": "code",
   "execution_count": 41,
   "metadata": {},
   "outputs": [],
   "source": [
    "/*\n",
    "Example:\n",
    "\n",
    "Input: arr[] = {1, 2, 1, 3, 4, 2, 3};\n",
    "       k = 4\n",
    "Output: 3 4 4 3\n",
    "\n",
    "Explanation:\n",
    "First window is {1, 2, 1, 3}, count of distinct numbers is 3\n",
    "Second window is {2, 1, 3, 4} count of distinct numbers is 4\n",
    "Third window is {1, 3, 4, 2} count of distinct numbers is 4\n",
    "Fourth window is {3, 4, 2, 3} count of distinct numbers is 3\n",
    "\n",
    "Input: arr[] = {1, 2, 4, 4};\n",
    "       k = 2\n",
    "Output: 2 2 1\n",
    "\n",
    "Explanation:\n",
    "First window is {1, 2}, count of distinct numbers is 2\n",
    "First window is {2, 4}, count of distinct numbers is 2\n",
    "First window is {4, 4}, count of distinct numbers is 1\n",
    "*/"
   ]
  },
  {
   "cell_type": "code",
   "execution_count": 42,
   "metadata": {},
   "outputs": [],
   "source": [
    "/*\n",
    "Naive Approach: \n",
    "\n",
    "The naive solution is to traverse the given array considering every window in it \n",
    "and keeping a count on the distinct elements of the window.\n",
    "\n",
    "Algorithm:\n",
    "\n",
    "1. For every index i from 0 to len_array(n) – k, i.e \n",
    "    n – k, traverse the array from i to i + k. This is the window\n",
    "2. Traverse the window, from i to that index and check if the element is present or not.\n",
    "3. If the element is not present in the prefix of the array, i.e \n",
    "    no duplicate element is present from i to index-1, \n",
    "        then increase the count.\n",
    "4. Print the count.\n",
    "\n",
    "Complexity Analysis:\n",
    "\n",
    "1. Time complexity: O(nk^2).\n",
    "        The time complexity can be improved to O(n*k*log k) \n",
    "            by modifying countWindowDistinct() by the use of sorting. \n",
    "        The function can further be optimized to use hashing to find distinct elements in a window. \n",
    "            With hashing the time complexity becomes O(n*k).\n",
    "2. Space Complexity: O(1) we no any extra space is needed.\n",
    "*/"
   ]
  },
  {
   "cell_type": "code",
   "execution_count": 43,
   "metadata": {},
   "outputs": [],
   "source": [
    "// Counts distinct elements in window of size k \n",
    "static int countWindowDistinct(int win[], int k) \n",
    "{ \n",
    "    int dist_count = 0; \n",
    "\n",
    "    // Traverse the window \n",
    "    for (int i = 0; i < k; i++) \n",
    "    { \n",
    "        // Check if element arr[i] exists in arr[0..i-1] \n",
    "        int j; \n",
    "        for (j = 0; j < i; j++) \n",
    "           if (win[i] == win[j]) \n",
    "              break; \n",
    "        if (j == i) \n",
    "            dist_count++; \n",
    "    } \n",
    "    return dist_count; \n",
    "}"
   ]
  },
  {
   "cell_type": "code",
   "execution_count": 44,
   "metadata": {},
   "outputs": [],
   "source": [
    "// Counts distinct elements in all windows of size k \n",
    "static void countDistinct(int arr[], int n, int k) \n",
    "{ \n",
    "    // Traverse through every window \n",
    "    for (int i = 0; i <= n - k; i++) \n",
    "       System.out.println(countWindowDistinct \n",
    "                          (Arrays.copyOfRange(arr, i, arr.length), k)); \n",
    "} "
   ]
  },
  {
   "cell_type": "code",
   "execution_count": 45,
   "metadata": {},
   "outputs": [
    {
     "name": "stdout",
     "output_type": "stream",
     "text": [
      "3\n",
      "4\n",
      "4\n",
      "3\n"
     ]
    }
   ],
   "source": [
    "// Driver method \n",
    "public static void main(String args[]) \n",
    "{ \n",
    "     int arr[] = {1, 2, 1, 3, 4, 2, 3},  k = 4; \n",
    "\n",
    "     countDistinct(arr, arr.length, k); \n",
    "} \n",
    "main(args);"
   ]
  },
  {
   "cell_type": "code",
   "execution_count": 46,
   "metadata": {},
   "outputs": [],
   "source": [
    "/*\n",
    "Efficient Approach: \n",
    "\n",
    "So, there is an efficient solution using hashing, \n",
    "    though hashing requires extra O(n) space but the time complexity will improve. \n",
    "    \n",
    "The trick is to use the count of the previous window while sliding the window. \n",
    "To do this a hash map can be used that stores elements of the current window. \n",
    "---The hash-map is also operated on by simultaneous addition and removal of an element while keeping track of distinct elements. \n",
    "---The problem deals with finding the count of distinct elements in a window of length k, \n",
    "        at any step while shifting the window and discarding all the computation done in the previous step, \n",
    "            even though k – 1 elements are same from the previous adjacent window. \n",
    "\n",
    "For example,\n",
    "    assume that elements from index i to i + k – 1 are stored in a Hash Map as an element-frequency pair. \n",
    "    So, while updating the Hash Map in range i + 1 to i + k, \n",
    "        reduce the frequency of the i-th element by 1 and \n",
    "        increase the frequency of (i + k)-th element by 1.\n",
    "\n",
    "Insertion and deletion from the HashMap takes constant time.\n",
    "*/"
   ]
  },
  {
   "cell_type": "code",
   "execution_count": 47,
   "metadata": {},
   "outputs": [],
   "source": [
    "/*\n",
    "Algorithm:\n",
    "1. Create an empty hash map. Let the hash map be hM.\n",
    "2. Initialize the count of distinct element as dist_count to 0.\n",
    "3. Traverse through the first window and insert elements of the first window to hM. \n",
    "   The elements are used as key and their counts as the value in hM. Also, keep updating dist_count\n",
    "4. Print distinct count for the first window.\n",
    "5. Traverse through the remaining array (or other windows).\n",
    "6. Remove the first element of the previous window\n",
    "    -If the removed element appeared only once, \n",
    "        remove it from hM and decrease the distinct count,i.e. do “dist_count–“\n",
    "    -else (appeared multiple times in hM), \n",
    "        then decrement its count in hM\n",
    "7. Add the current element (last element of the new window)\n",
    "    -If the added element is not present in hM, \n",
    "        add it to hM and increase the distinct count,i.e. do “dist_count++”\n",
    "    -Else (the added element appeared multiple times), \n",
    "        increment its count in hM\n",
    "*/"
   ]
  },
  {
   "cell_type": "markdown",
   "metadata": {},
   "source": [
    "<img src = \"https://media.geeksforgeeks.org/wp-content/cdn-uploads/20190702115832/CountdistinctElementsIneveryWindow.png\"/>"
   ]
  },
  {
   "cell_type": "code",
   "execution_count": 48,
   "metadata": {},
   "outputs": [],
   "source": [
    "static void countDistinct(int arr[], int k) \n",
    "{ \n",
    "    // Creates an empty hashMap hM \n",
    "    HashMap<Integer, Integer> hM = \n",
    "                  new HashMap<Integer, Integer>(); \n",
    "\n",
    "    // initialize distinct element  count for \n",
    "    // current window \n",
    "    int dist_count = 0; \n",
    "\n",
    "    // Traverse the first window and store count \n",
    "    // of every element in hash map \n",
    "    for (int i = 0; i < k; i++) \n",
    "    { \n",
    "        if (hM.get(arr[i]) == null) \n",
    "        { \n",
    "            hM.put(arr[i], 1); \n",
    "            dist_count++; \n",
    "        } \n",
    "        else\n",
    "        { \n",
    "           int count = hM.get(arr[i]); \n",
    "           hM.put(arr[i], count+1); \n",
    "        } \n",
    "    } \n",
    "\n",
    "    // Print count of first window \n",
    "    System.out.println(dist_count); \n",
    "\n",
    "    // Traverse through the remaining array \n",
    "    for (int i = k; i < arr.length; i++) \n",
    "    { \n",
    "\n",
    "        // Remove first element of previous window \n",
    "        // If there was only one occurrence, then \n",
    "        // reduce distinct count. \n",
    "        if (hM.get(arr[i-k]) == 1) \n",
    "        { \n",
    "            hM.remove(arr[i-k]); \n",
    "            dist_count--; \n",
    "        } \n",
    "        else // reduce count of the removed element \n",
    "        { \n",
    "           int count = hM.get(arr[i-k]); \n",
    "           hM.put(arr[i-k], count-1); \n",
    "        } \n",
    "\n",
    "        // Add new element of current window \n",
    "        // If this element appears first time, \n",
    "        // increment distinct element count \n",
    "        if (hM.get(arr[i]) == null) \n",
    "        { \n",
    "            hM.put(arr[i], 1); \n",
    "            dist_count++; \n",
    "        } \n",
    "        else // Increment distinct element count \n",
    "        { \n",
    "           int count = hM.get(arr[i]); \n",
    "           hM.put(arr[i], count+1); \n",
    "        } \n",
    "\n",
    "       // Print count of current window \n",
    "        System.out.println(dist_count); \n",
    "    } \n",
    "} "
   ]
  },
  {
   "cell_type": "code",
   "execution_count": 49,
   "metadata": {},
   "outputs": [
    {
     "name": "stdout",
     "output_type": "stream",
     "text": [
      "3\n",
      "4\n",
      "4\n",
      "3\n"
     ]
    }
   ],
   "source": [
    "// Driver method \n",
    "public static void main(String arg[]) \n",
    "{ \n",
    "    int arr[] =  {1, 2, 1, 3, 4, 2, 3}; \n",
    "    int k = 4; \n",
    "    countDistinct(arr, k); \n",
    "} \n",
    "main(args);"
   ]
  },
  {
   "cell_type": "code",
   "execution_count": 50,
   "metadata": {},
   "outputs": [],
   "source": [
    "/*\n",
    "Complexity Analysis:\n",
    "\n",
    "Time complexity O(n). \n",
    "    As single traversal of the array is required.\n",
    "Space Compelxity O(n). \n",
    "    Since, the hashmap requires linear space.\n",
    "*/"
   ]
  },
  {
   "cell_type": "markdown",
   "metadata": {},
   "source": [
    "## **412. Design a data structure that supports insert, delete, search and getRandom in constant time**\n",
    "https://www.geeksforgeeks.org/design-a-data-structure-that-supports-insert-delete-search-and-getrandom-in-constant-time/"
   ]
  },
  {
   "cell_type": "code",
   "execution_count": 51,
   "metadata": {},
   "outputs": [],
   "source": [
    "/*\n",
    "Design a data structure that supports the following operations in Θ(1) time.\n",
    "\n",
    "insert(x): Inserts an item x to the data structure if not already present.\n",
    "\n",
    "remove(x): Removes an item x from the data structure if present.\n",
    "\n",
    "search(x): Searches an item x in the data structure.\n",
    "\n",
    "getRandom(): Returns a random element from current set of elements\n",
    "*/"
   ]
  },
  {
   "cell_type": "code",
   "execution_count": 52,
   "metadata": {},
   "outputs": [],
   "source": [
    "/*\n",
    "We can use hashing to support first 3 operations in Θ(1) time.\n",
    "\n",
    "How to do the 4th operation? \n",
    "The idea is to use a resizable array (ArrayList in Java, vector in C) together with hashing. \n",
    "Resizable arrays support insert in Θ(1) amortized time complexity.\n",
    "\n",
    "To implement getRandom(),\n",
    "    we can simply pick a random number from 0 to size-1 \n",
    "    (size is the number of current elements) and return the element at that index. \n",
    "    \n",
    "    The hash map stores array values as keys and array indexes as values.\n",
    "*/"
   ]
  },
  {
   "cell_type": "code",
   "execution_count": 53,
   "metadata": {},
   "outputs": [],
   "source": [
    "/*\n",
    "Following are detailed operations.\n",
    "\n",
    "insert(x)\n",
    "1) Check if x is already present by doing a hash map lookup.\n",
    "2) If not present, then insert it at the end of the array.\n",
    "3) Add in the hash table also, x is added as key and last array index as the index.\n",
    "\n",
    "remove(x)\n",
    "1) Check if x is present by doing a hash map lookup.\n",
    "2) If present, then find its index and remove it from a hash map.\n",
    "3) Swap the last element with this element in an array and remove the last element.\n",
    "Swapping is done because the last element can be removed in O(1) time.\n",
    "4) Update index of the last element in a hash map.\n",
    "\n",
    "getRandom()\n",
    "1) Generate a random number from 0 to last index.\n",
    "2) Return the array element at the randomly generated index.\n",
    "\n",
    "search(x)\n",
    "Do a lookup for x in hash map.\n",
    "*/"
   ]
  },
  {
   "cell_type": "code",
   "execution_count": 54,
   "metadata": {},
   "outputs": [],
   "source": [
    "class MyDS \n",
    "{ \n",
    "   ArrayList<Integer> arr;   // A resizable array \n",
    "  \n",
    "   // A hash where keys are array elements and vlaues are \n",
    "   // indexes in arr[] \n",
    "   HashMap<Integer, Integer>  hash; \n",
    "  \n",
    "   // Constructor (creates arr[] and hash) \n",
    "   public MyDS() \n",
    "   { \n",
    "       arr = new ArrayList<Integer>(); \n",
    "       hash = new HashMap<Integer, Integer>(); \n",
    "   } \n",
    "  \n",
    "   // A Theta(1) function to add an element to MyDS \n",
    "   // data structure \n",
    "   void add(int x) \n",
    "   { \n",
    "      // If ekement is already present, then noting to do \n",
    "      if (hash.get(x) != null) \n",
    "          return; \n",
    "  \n",
    "      // Else put element at the end of arr[] \n",
    "      int s = arr.size(); \n",
    "      arr.add(x); \n",
    "  \n",
    "      // And put in hash also \n",
    "      hash.put(x, s); \n",
    "   } \n",
    "  \n",
    "   // A Theta(1) function to remove an element from MyDS \n",
    "   // data structure \n",
    "   void remove(int x) \n",
    "   { \n",
    "       // Check if element is present \n",
    "       Integer index = hash.get(x); \n",
    "       if (index == null) \n",
    "          return; \n",
    "  \n",
    "       // If present, then remove element from hash \n",
    "       hash.remove(x); \n",
    "  \n",
    "       // Swap element with last element so that remove from \n",
    "       // arr[] can be done in O(1) time \n",
    "       int size = arr.size(); \n",
    "       Integer last = arr.get(size-1); \n",
    "       Collections.swap(arr, index,  size-1); \n",
    "  \n",
    "       // Remove last element (This is O(1)) \n",
    "       arr.remove(size-1); \n",
    "  \n",
    "       // Update hash table for new index of last element \n",
    "       hash.put(last, index); \n",
    "    } \n",
    "  \n",
    "    // Returns a random element from MyDS \n",
    "    int getRandom() \n",
    "    { \n",
    "       // Find a random index from 0 to size - 1 \n",
    "       Random rand = new Random();  // Choose a different seed \n",
    "       int index = rand.nextInt(arr.size()); \n",
    "  \n",
    "       // Return element at randomly picked index \n",
    "       return arr.get(index); \n",
    "    } \n",
    "  \n",
    "    // Returns index of element if element is present, otherwise null \n",
    "    Integer search(int x) \n",
    "    { \n",
    "       return hash.get(x); \n",
    "    } \n",
    "} "
   ]
  },
  {
   "cell_type": "code",
   "execution_count": 55,
   "metadata": {},
   "outputs": [
    {
     "name": "stdout",
     "output_type": "stream",
     "text": [
      "2\n",
      "3\n",
      "30\n"
     ]
    }
   ],
   "source": [
    "public static void main (String[] args) \n",
    "{ \n",
    "    MyDS ds = new MyDS(); \n",
    "    ds.add(10); \n",
    "    ds.add(20); \n",
    "    ds.add(30); \n",
    "    ds.add(40); \n",
    "    System.out.println(ds.search(30)); \n",
    "    ds.remove(20); \n",
    "    ds.add(50); \n",
    "    System.out.println(ds.search(50)); \n",
    "    System.out.println(ds.getRandom()); \n",
    "} \n",
    "main(args);"
   ]
  },
  {
   "cell_type": "markdown",
   "metadata": {},
   "source": [
    "## **413. Length of the largest subarray with contiguous elements | Set 2**\n",
    "https://www.geeksforgeeks.org/length-largest-subarray-contiguous-elements-set-2/"
   ]
  },
  {
   "cell_type": "code",
   "execution_count": 56,
   "metadata": {},
   "outputs": [],
   "source": [
    "/*\n",
    "Given an array of integers, \n",
    "    find length of the longest subarray which contains numbers that can be arranged in a continuous sequence.\n",
    "*/"
   ]
  },
  {
   "cell_type": "code",
   "execution_count": 57,
   "metadata": {},
   "outputs": [],
   "source": [
    "/*\n",
    "In below link\n",
    "    we have discussed a solution that assumes that elements in given array are distinct. \n",
    "    Here we discuss a solution that works even if the input array has duplicates.\n",
    "*/"
   ]
  },
  {
   "cell_type": "markdown",
   "metadata": {},
   "source": [
    "***https://www.geeksforgeeks.org/length-largest-subarray-contiguous-elements-set-1/***"
   ]
  },
  {
   "cell_type": "code",
   "execution_count": 58,
   "metadata": {},
   "outputs": [],
   "source": [
    "/*\n",
    "Examples:\n",
    "\n",
    "Input:  arr[] = {10, 12, 11};\n",
    "Output: Length of the longest contiguous subarray is 3\n",
    "\n",
    "Input:  arr[] = {10, 12, 12, 10, 10, 11, 10};\n",
    "Output: Length of the longest contiguous subarray is 2 \n",
    "*/"
   ]
  },
  {
   "cell_type": "code",
   "execution_count": 59,
   "metadata": {},
   "outputs": [],
   "source": [
    "/*\n",
    "The idea is similar to previous post. \n",
    "\n",
    "In the previous post, \n",
    "    we checked whether maximum value minus minimum value is equal to ending index minus starting index or not. \n",
    "    Since duplicate elements are allowed, \n",
    "        we also need to check if the subarray contains duplicate elements or not. \n",
    "        \n",
    "        For example, the array {12, 14, 12} follows the first property, \n",
    "            but numbers in it are not contiguous elements.\n",
    "To check duplicate elements in a subarray,\n",
    "    we create a hash set for every subarray and if we find an element already in hash,\n",
    "        we don’t consider the current subarray.\n",
    "\n",
    "Following is the implementation of the above idea.\n",
    "\n",
    "Time complexity of the above solution is O(n^2) under the assumption that hash set operations like add() \n",
    "and contains() work in O(1) time.\n",
    "\n",
    "*/"
   ]
  },
  {
   "cell_type": "code",
   "execution_count": 60,
   "metadata": {},
   "outputs": [],
   "source": [
    "// This function prints all distinct elements \n",
    "static int findLength(int arr[]) \n",
    "{ \n",
    "    int n = arr.length; \n",
    "    int max_len = 1; // Inialize result \n",
    "\n",
    "    // One by one fix the starting points \n",
    "    for (int i=0; i<n-1; i++) \n",
    "    { \n",
    "        // Create an empty hash set and add i'th element \n",
    "        // to it. \n",
    "        HashSet<Integer> set = new HashSet<>(); \n",
    "        set.add(arr[i]); \n",
    "\n",
    "        // Initialize max and min in current subarray \n",
    "        int mn = arr[i], mx = arr[i]; \n",
    "\n",
    "        // One by one fix ending points \n",
    "        for (int j=i+1; j<n; j++) \n",
    "        { \n",
    "            // If current element is already in hash set, then \n",
    "            // this subarray cannot contain contiguous elements \n",
    "            if (set.contains(arr[j])) \n",
    "                break; \n",
    "\n",
    "            // Else add curremt element to hash set and update \n",
    "            // min, max if required. \n",
    "            set.add(arr[j]); \n",
    "            mn = Math.min(mn, arr[j]); \n",
    "            mx = Math.max(mx, arr[j]); \n",
    "\n",
    "            // We have already cheched for duplicates, now check \n",
    "            // for other property and update max_len if needed \n",
    "            if (mx-mn == j-i) \n",
    "                max_len = Math.max(max_len, mx-mn+1); \n",
    "        } \n",
    "    } \n",
    "    return max_len; // Return result \n",
    "} "
   ]
  },
  {
   "cell_type": "code",
   "execution_count": 61,
   "metadata": {},
   "outputs": [
    {
     "name": "stdout",
     "output_type": "stream",
     "text": [
      "Length of the longest contiguous subarray is 2\n"
     ]
    }
   ],
   "source": [
    "// Driver method to test above method \n",
    "public static void main (String[] args) \n",
    "{ \n",
    "   int arr[] =  {10, 12, 12, 10, 10, 11, 10}; \n",
    "   System.out.println(\"Length of the longest contiguous subarray is \" + \n",
    "                       findLength(arr)); \n",
    "} \n",
    "main(args);"
   ]
  },
  {
   "cell_type": "markdown",
   "metadata": {},
   "source": [
    "## **414. Group Shifted String**\n",
    "https://www.geeksforgeeks.org/group-shifted-string/"
   ]
  },
  {
   "cell_type": "code",
   "execution_count": 62,
   "metadata": {},
   "outputs": [],
   "source": [
    "/*\n",
    "Given an array of strings (all lowercase letters), \n",
    "the task is to group them in such a way that all strings in a group are shifted versions of each other. \n",
    "Two string S and T are called shifted if,\n",
    "\n",
    "S.length = T.length \n",
    "and\n",
    "S[i] = T[i] + K for \n",
    "1 <= i <= S.length  for a constant integer K\n",
    "*/"
   ]
  },
  {
   "cell_type": "code",
   "execution_count": 63,
   "metadata": {},
   "outputs": [],
   "source": [
    "/*\n",
    "For example \n",
    "\n",
    "strings {acd, dfg, wyz, yab, mop} are shifted versions of each other.\n",
    "\n",
    "Input  : str[] = {\"acd\", \"dfg\", \"wyz\", \"yab\", \"mop\",\n",
    "                 \"bdfh\", \"a\", \"x\", \"moqs\"};\n",
    "\n",
    "Output : a x\n",
    "         acd dfg wyz yab mop\n",
    "         bdfh moqs\n",
    "All shifted strings are grouped together.\n",
    "*/"
   ]
  },
  {
   "cell_type": "code",
   "execution_count": 64,
   "metadata": {},
   "outputs": [],
   "source": [
    "/*\n",
    "We can see a pattern among string of one group, \n",
    "the difference between consecutive characters for all character of string are equal. \n",
    "\n",
    "As in above example take acd, dfg and mop\n",
    "\n",
    "a c d -> 2 1\n",
    "d f g -> 2 1\n",
    "m o p -> 2 1\n",
    "\n",
    "Since the differences are same, \n",
    "    we can use this to identify strings that belong to same group. \n",
    "\n",
    "The idea is to form a string of differences as key. \n",
    "If a string with same difference string is found,\n",
    "    then this string also belongs to same group. \n",
    "    \n",
    "For example,\n",
    "    above three strings have same difference string, that is “21”.\n",
    "\n",
    "In below implementation, \n",
    "    we add ‘a’ to every difference and store 21 as “ba”.\n",
    "*/"
   ]
  },
  {
   "cell_type": "markdown",
   "metadata": {},
   "source": [
    "***https://ideone.com/thJKI1***"
   ]
  },
  {
   "cell_type": "markdown",
   "metadata": {},
   "source": [
    "## **415. Palindrome Substring Queries**\n",
    "https://www.geeksforgeeks.org/palindrome-substring-queries/"
   ]
  },
  {
   "cell_type": "code",
   "execution_count": 65,
   "metadata": {},
   "outputs": [],
   "source": [
    "/*\n",
    "Given a string and several queries on the substrings of the given input string \n",
    "    to check whether the substring is a palindrome or not.\n",
    "*/"
   ]
  },
  {
   "cell_type": "code",
   "execution_count": 66,
   "metadata": {},
   "outputs": [],
   "source": [
    "/*\n",
    "Examples :\n",
    "\n",
    "Suppose our input string is “abaaabaaaba” and the queries- [0, 10], [5, 8], [2, 5], [5, 9]\n",
    "\n",
    "We have to tell that the substring having the starting and ending indices as above is a palindrome or not.\n",
    "\n",
    "[0, 10] → Substring is “abaaabaaaba” which is a palindrome.\n",
    "[5, 8] → Substring is “baaa” which is not a palindrome.\n",
    "[2, 5] → Substring is “aaab” which is not a palindrome.\n",
    "[5, 9] → Substring is “baaab” which is a palindrome.\n",
    "\n",
    "Let us assume that there are Q such queries to be answered and N be the length of our input string.\n",
    "\n",
    "There are the following two ways to answer these queries\n",
    "1. Method 1 (Naive)\n",
    "2. Method 2 (Cumulative Hash)\n",
    "*/"
   ]
  },
  {
   "cell_type": "code",
   "execution_count": 67,
   "metadata": {},
   "outputs": [],
   "source": [
    "/*\n",
    "Method 1 (Naive)\n",
    "\n",
    "One by one we go through all the substrings of the queries \n",
    "and check whether the substring under consideration is a palindrome or not.\n",
    "Since there are Q queries and each query can take O(N) worse case time to answer, \n",
    "    this method takes O(Q.N) time in the worst case. \n",
    "    \n",
    "Although this is an in-place/space-efficient algorithm, but still there are more efficient method to do this.\n",
    "*/"
   ]
  },
  {
   "cell_type": "code",
   "execution_count": 68,
   "metadata": {},
   "outputs": [],
   "source": [
    "/*\n",
    "Mathod 2 (Cumulative Hash)\n",
    "\n",
    "View Question Link\n",
    "*/"
   ]
  },
  {
   "cell_type": "markdown",
   "metadata": {},
   "source": [
    "## **416. Find four elements a, b, c and d in an array such that a+b = c+d**\n",
    "https://www.geeksforgeeks.org/find-four-elements-a-b-c-and-d-in-an-array-such-that-ab-cd/"
   ]
  },
  {
   "cell_type": "code",
   "execution_count": 69,
   "metadata": {},
   "outputs": [],
   "source": [
    "/*\n",
    "Given an array of distinct integers, \n",
    "    find if there are two pairs (a, b) and (c, d) \n",
    "    such that a+b = c+d, and a, b, c and d are distinct elements.\n",
    "    \n",
    "If there are multiple answers, \n",
    "    then print any of them.\n",
    "*/"
   ]
  },
  {
   "cell_type": "code",
   "execution_count": 70,
   "metadata": {},
   "outputs": [],
   "source": [
    "/*\n",
    "Example:\n",
    "\n",
    "Input:   {3, 4, 7, 1, 2, 9, 8}\n",
    "Output:  (3, 8) and (4, 7)\n",
    "Explanation: 3+8 = 4+7\n",
    "\n",
    "Input:   {3, 4, 7, 1, 12, 9};\n",
    "Output:  (4, 12) and (7, 9)\n",
    "Explanation: 4+12 = 7+9\n",
    "\n",
    "Input:  {65, 30, 7, 90, 1, 9, 8};\n",
    "Output:  No pairs found\n",
    "*/"
   ]
  },
  {
   "cell_type": "code",
   "execution_count": 71,
   "metadata": {},
   "outputs": [],
   "source": [
    "/*\n",
    "A Simple Solution is to run four loops to generate all possible quadruples of array element. \n",
    "For every quadruple (a, b, c, d), check if (a+b) = (c+d). \n",
    "Time complexity of this solution is O(n^4).\n",
    "*/"
   ]
  },
  {
   "cell_type": "code",
   "execution_count": 72,
   "metadata": {},
   "outputs": [],
   "source": [
    "/*\n",
    "An Efficient Solution can solve this problem in O(n2) time.\n",
    "The idea is to use hashing. We use sum as key and pair as value in hash table.\n",
    "\n",
    "Loop i = 0 to n-1 :\n",
    "    Loop j = i + 1 to n-1 :\n",
    "        calculate sum\n",
    "        If in hash table any index already exist\n",
    "            Then print (i, j) and previous pair \n",
    "            from hash table  \n",
    "        Else update hash table\n",
    "    EndLoop;\n",
    "EndLoop;\n",
    "\n",
    "Below are implementations of above idea. \n",
    "In below implementation, \n",
    "    map is used instead of hash. \n",
    "    \n",
    "Time complexity of map insert and search is actually O(Log n) instead of O(1). \n",
    "So below implementation is O(n^2 Log n).\n",
    "*/"
   ]
  },
  {
   "cell_type": "code",
   "execution_count": 73,
   "metadata": {},
   "outputs": [],
   "source": [
    "// Class to represent a pair \n",
    "class pair \n",
    "{ \n",
    "    int first, second; \n",
    "    pair(int f,int s) \n",
    "    { \n",
    "        first = f; second = s; \n",
    "    } \n",
    "}; \n",
    "\n",
    "boolean findPairs(int arr[]) \n",
    "{ \n",
    "    // Create an empty Hash to store mapping from sum to \n",
    "    // pair indexes \n",
    "    HashMap<Integer,pair> map = new HashMap<Integer,pair>(); \n",
    "    int n=arr.length; \n",
    "\n",
    "    // Traverse through all possible pairs of arr[] \n",
    "    for (int i=0; i<n; ++i) \n",
    "    { \n",
    "        for (int j=i+1; j<n; ++j) \n",
    "        { \n",
    "            // If sum of current pair is not in hash, \n",
    "            // then store it and continue to next pair \n",
    "            int sum = arr[i]+arr[j]; \n",
    "            if (!map.containsKey(sum)) \n",
    "                map.put(sum,new pair(i,j)); \n",
    "\n",
    "            else // Else (Sum already present in hash) \n",
    "            { \n",
    "                // Find previous pair \n",
    "                pair p = map.get(sum); \n",
    "\n",
    "                // Since array elements are distinct, we don't \n",
    "                // need to check if any element is common among pairs \n",
    "                System.out.println(\"(\"+arr[p.first]+\", \"+arr[p.second]+ \n",
    "                                  \") and (\"+arr[i]+\", \"+arr[j]+\")\"); \n",
    "                return true; \n",
    "            } \n",
    "        } \n",
    "    } \n",
    "    return false; \n",
    "} "
   ]
  },
  {
   "cell_type": "code",
   "execution_count": 74,
   "metadata": {},
   "outputs": [
    {
     "name": "stdout",
     "output_type": "stream",
     "text": [
      "(3, 8) and (4, 7)\n"
     ]
    }
   ],
   "source": [
    "// Testing program \n",
    "public static void main(String args[]) \n",
    "{ \n",
    "    int arr[] = {3, 4, 7, 1, 2, 9, 8}; \n",
    "    findPairs(arr); \n",
    "} \n",
    "main(args);"
   ]
  },
  {
   "cell_type": "markdown",
   "metadata": {},
   "source": [
    "## **417. Subarrays with distinct elements**\n",
    "https://www.geeksforgeeks.org/subarrays-distinct-elements/"
   ]
  },
  {
   "cell_type": "code",
   "execution_count": 75,
   "metadata": {},
   "outputs": [],
   "source": [
    "/*\n",
    "Given an array, \n",
    "    the task is to calculate the sum of lengths of contiguous subarrays having all elements distinct.\n",
    "*/"
   ]
  },
  {
   "cell_type": "code",
   "execution_count": 76,
   "metadata": {},
   "outputs": [],
   "source": [
    "/*\n",
    "Examples:\n",
    "\n",
    "Input :  arr[] = {1, 2, 3}\n",
    "Output : 10\n",
    "{1, 2, 3} is a subarray of length 3 with \n",
    "distinct elements. Total length of length\n",
    "three = 3.\n",
    "{1, 2}, {2, 3} are 2 subarray of length 2 \n",
    "with distinct elements. Total length of \n",
    "lengths two = 2 + 2 = 4\n",
    "{1}, {2}, {3} are 3 subarrays of length 1\n",
    "with distinct element. Total lengths of \n",
    "length one = 1 + 1 + 1 = 3\n",
    "Sum of lengths = 3 + 4 + 3 = 10\n",
    "\n",
    "Input :  arr[] = {1, 2, 1}\n",
    "Output : 7\n",
    "\n",
    "Input :  arr[] = {1, 2, 3, 4}\n",
    "Output : 20\n",
    "*/"
   ]
  },
  {
   "cell_type": "code",
   "execution_count": 77,
   "metadata": {},
   "outputs": [],
   "source": [
    "/*\n",
    "A simple solution is to consider all subarrays and for every subarray \n",
    "check if it has distinct elements or not using hashing. \n",
    "And add lengths of all subarrays having distinct elements. \n",
    "If we use hashing to find distinct elements, \n",
    "    then this approach takes O(n^2) time under the assumption that hashing search and insert operations take O(1) time.\n",
    "*/"
   ]
  },
  {
   "cell_type": "code",
   "execution_count": 78,
   "metadata": {},
   "outputs": [],
   "source": [
    "/*\n",
    "An efficient solution is based on the fact that \n",
    "if we know all elements in a subarray arr[i..j] are distinct, \n",
    "sum of all lengths of distinct element subarrays in this sub array is ((j-i+1)*(j-i+2))/2. \n",
    "\n",
    "How? \n",
    "the possible lengths of subarrays are 1, 2, 3,……, j – i +1. \n",
    "So, the sum will be ((j – i +1)*(j – i +2))/2.\n",
    "*/"
   ]
  },
  {
   "cell_type": "code",
   "execution_count": 79,
   "metadata": {},
   "outputs": [],
   "source": [
    "/*\n",
    "We first find largest subarray (with distinct elements) starting from first element. \n",
    "We count sum of lengths in this subarray using above formula. \n",
    "For finding next subarray of the distinct element,\n",
    "    we increment starting point, i and ending point, j unless (i+1, j) are distinct.\n",
    "If not possible, \n",
    "    then we increment i again and move forward the same way.\n",
    "*/"
   ]
  },
  {
   "cell_type": "code",
   "execution_count": 80,
   "metadata": {},
   "outputs": [],
   "source": [
    "// Returns sum of lengths of all subarrays \n",
    "// with distinct elements. \n",
    "public static int sumoflength(int[] arr, int n)  \n",
    "{ \n",
    "\n",
    "    // For maintaining distinct elements. \n",
    "    Set<Integer> s = new HashSet<>(); \n",
    "\n",
    "    // Initialize ending point and result \n",
    "    int j = 0, ans = 0; \n",
    "\n",
    "    // Fix starting point \n",
    "    for (int i = 0; i < n; i++) \n",
    "    { \n",
    "        while (j < n && !s.contains(arr[j])) \n",
    "        { \n",
    "            s.add(arr[i]); \n",
    "            j++; \n",
    "        } \n",
    "\n",
    "        // Calculating and adding all possible length \n",
    "        // subarrays in arr[i..j] \n",
    "        ans += ((j - i) * (j - i + 1)) / 2; \n",
    "\n",
    "        // Remove arr[i] as we pick new stating point \n",
    "        // from next \n",
    "        s.remove(arr[i]); \n",
    "    } \n",
    "\n",
    "    return ans; \n",
    "} "
   ]
  },
  {
   "cell_type": "code",
   "execution_count": 81,
   "metadata": {},
   "outputs": [
    {
     "name": "stdout",
     "output_type": "stream",
     "text": [
      "20\n"
     ]
    }
   ],
   "source": [
    "// Driver Code \n",
    "public static void main(String[] args)  \n",
    "{ \n",
    "    int[] arr = { 1, 2, 3, 4 }; \n",
    "    int n = arr.length; \n",
    "\n",
    "    System.out.println(sumoflength(arr, n)); \n",
    "} \n",
    "main(args);"
   ]
  },
  {
   "cell_type": "code",
   "execution_count": 82,
   "metadata": {},
   "outputs": [],
   "source": [
    "/*\n",
    "Time Complexity of this solution is O(n). \n",
    "Note that the inner loop runs n times in total as j goes from 0 to n across all outer loops. \n",
    "So we do O(2n) operations which is same as O(n).\n",
    "*/"
   ]
  },
  {
   "cell_type": "markdown",
   "metadata": {},
   "source": [
    "## **418. Find Recurring Sequence in a Fraction**\n",
    "https://www.geeksforgeeks.org/find-recurring-sequence-fraction/"
   ]
  },
  {
   "cell_type": "code",
   "execution_count": 83,
   "metadata": {},
   "outputs": [],
   "source": [
    "/*\n",
    "Given a fraction, find recurring sequence of digits if exists, otherwise print “No recurring sequence”\n",
    "*/"
   ]
  },
  {
   "cell_type": "code",
   "execution_count": 84,
   "metadata": {},
   "outputs": [],
   "source": [
    "/*\n",
    "Examples:\n",
    "\n",
    "Input  : Numerator = 8, Denominator = 3\n",
    "Output : Recurring sequence is 6 \n",
    "Explanation : 8/3 = 2.66666666.......  \n",
    "\n",
    "Input : Numerator = 50, Denominator = 22\n",
    "Output : Recurring sequence is 27\n",
    "Explanation : 50/22 = 2.272727272..... \n",
    "\n",
    "Input : Numerator = 11, Denominator = 2\n",
    "Output : No recurring sequence\n",
    "Explanation : 11/2 = 5.5 \n",
    "*/"
   ]
  },
  {
   "cell_type": "code",
   "execution_count": 85,
   "metadata": {},
   "outputs": [],
   "source": [
    "/*\n",
    "When does the fractional part repeat ?\n",
    "\n",
    "Let us simulate the process of converting fraction to decimal. \n",
    "Let us look at the part where we have already figured out the integer part which is floor(numerator/denominator). \n",
    "Now we are left with ( remainder = numerator%denominator ) / denominator.\n",
    "If you remember the process of converting to decimal, at each step we do the following :\n",
    "\n",
    "1. Multiply the remainder by 10.\n",
    "2. Append remainder / denominator to result.\n",
    "3. Remainder = remainder % denominator.\n",
    "4. At any moment, if remainder becomes 0, we are done.\n",
    "\n",
    "However, when there is a recurring sequence, remainder never becomes 0. \n",
    "\n",
    "For example \n",
    "    if you look at 1/3, the remainder never becomes 0.\n",
    "\n",
    "Below is one important observation :\n",
    "\n",
    "If we start with remainder ‘rem’ and if the remainder repeats at any point of time,\n",
    "    the digits between the two occurrence of ‘rem’ keep repeating.\n",
    "\n",
    "So the idea is to store seen remainders in a map. \n",
    "Whenever a remainder repeats, \n",
    "    we return the sequence before the next occurrence. \n",
    "*/"
   ]
  },
  {
   "cell_type": "markdown",
   "metadata": {},
   "source": [
    "***https://ideone.com/SFlMHh***"
   ]
  },
  {
   "cell_type": "markdown",
   "metadata": {},
   "source": [
    "## **419. K maximum sum combinations from two arrays**\n",
    "https://www.geeksforgeeks.org/k-maximum-sum-combinations-two-arrays/"
   ]
  },
  {
   "cell_type": "code",
   "execution_count": 86,
   "metadata": {},
   "outputs": [],
   "source": [
    "/*\n",
    "Given two equally sized arrays (A, B) and N (size of both arrays).\n",
    "\n",
    "A sum combination is made by adding one element from array A and another element of array B. \n",
    "Display the maximum K valid sum combinations from all the possible sum combinations.\n",
    "*/"
   ]
  },
  {
   "cell_type": "code",
   "execution_count": 87,
   "metadata": {},
   "outputs": [],
   "source": [
    "/*\n",
    "Examples:\n",
    "\n",
    "Input :  A[] : {3, 2} \n",
    "         B[] : {1, 4}\n",
    "         K : 2 [Number of maximum sum\n",
    "               combinations to be printed]\n",
    "Output : 7    // (A : 3) + (B : 4)\n",
    "         6    // (A : 2) + (B : 4)\n",
    "\n",
    "Input :  A[] : {4, 2, 5, 1}\n",
    "         B[] : {8, 0, 3, 5}\n",
    "         K : 3\n",
    "Output : 13   // (A : 5) + (B : 8)\n",
    "         12   // (A : 4) + (B :  8)\n",
    "         10   // (A : 2) + (B : 8) \n",
    "*/"
   ]
  },
  {
   "cell_type": "code",
   "execution_count": 88,
   "metadata": {},
   "outputs": [],
   "source": [
    "/*\n",
    "Approach 1 (Naive Algorithm) :\n",
    "\n",
    "Time Complexity : O(N^2)\n",
    "\n",
    "We can use Brute force through all the possible combinations \n",
    "    that can be made by taking one element from array A and another from array B and inserting them to a max heap. \n",
    "In a max heap maximum element is at the root node so \n",
    "    whenever we pop from max heap we get the maximum element present in the heap. \n",
    "After inserting all the sum combinations we take out K elements from max heap and display it.\n",
    "*/"
   ]
  },
  {
   "cell_type": "code",
   "execution_count": 89,
   "metadata": {},
   "outputs": [
    {
     "name": "stdout",
     "output_type": "stream",
     "text": [
      "13\n",
      "12\n",
      "10\n"
     ]
    }
   ],
   "source": [
    "// function to display first K  \n",
    "// maximum sum combinations \n",
    "static void KMaxCombinations(int A[], int B[], int N, \n",
    "                                               int K) \n",
    "{ \n",
    "    // max heap. \n",
    "    PriorityQueue<Integer> pq = \n",
    "                        new PriorityQueue<Integer>(Collections.reverseOrder()); \n",
    "\n",
    "    // insert all the possible  \n",
    "    // combinations in max heap. \n",
    "    for (int i = 0; i < N; i++) \n",
    "        for (int j = 0; j < N; j++) \n",
    "            pq.add(A[i] + B[j]); \n",
    "\n",
    "    // pop first N elements  \n",
    "    // from max heap and  \n",
    "    // display them. \n",
    "    int count = 0; \n",
    "\n",
    "    while (count < K) \n",
    "    { \n",
    "        System.out.println(pq.peek()); \n",
    "        pq.remove(); \n",
    "        count++; \n",
    "    } \n",
    "} \n",
    "\n",
    "public static void main (String[] args)  \n",
    "{ \n",
    "    int A[] = { 4, 2, 5, 1 }; \n",
    "    int B[] = { 8, 0, 5, 3 }; \n",
    "    int N = A.length; \n",
    "    int K = 3; \n",
    "\n",
    "    KMaxCombinations(A, B, N, K); \n",
    "\n",
    "} \n",
    "main(args);"
   ]
  },
  {
   "cell_type": "code",
   "execution_count": 90,
   "metadata": {},
   "outputs": [],
   "source": [
    "/*\n",
    "Approach 2 (Sorting, Max heap, Map) :\n",
    "\n",
    "Time Complexity :\n",
    "O(N log N) assuming K <= N\n",
    "\n",
    "Instead of brute forcing through all the possible sum combinations \n",
    "    we should find a way to limit our search space to possible candidate sum combinations.\n",
    "1. Sort both arrays array A and array B.\n",
    "2. Create a max heap \n",
    "    i.e priority_queue in C++ to store the sum combinations along with the indices of elements from both arrays A and B \n",
    "        which make up the sum. \n",
    "    Heap is ordered by the sum.\n",
    "3. Initialize the heap with the maximum possible sum combination \n",
    "    i.e (A[N – 1] + B[N – 1] where N is the size of array) \n",
    "    and with the indices of elements from both arrays (N – 1, N – 1). \n",
    "    The tuple inside max heap will be (A[N-1] + B[N – 1], N – 1, N – 1). \n",
    "    Heap is ordered by first value i.e sum of both elements.\n",
    "4. Pop the heap to get the current largest sum and along with the indices of the element that make up the sum. \n",
    "    Let the tuple be (sum, i, j).\n",
    "4.1. Next insert (A[i – 1] + B[j], i – 1, j) and (A[i] + B[j – 1], i, j – 1) into the max heap \n",
    "    but make sure that the pair of indices i.e (i – 1, j) and (i, j – 1) are not\n",
    "    already present in the max heap. To check this we can use set in C++.\n",
    "4.2 Go back to 4 until K times.\n",
    "*/"
   ]
  },
  {
   "cell_type": "markdown",
   "metadata": {},
   "source": [
    "***https://ideone.com/phZEtb***"
   ]
  },
  {
   "cell_type": "code",
   "execution_count": null,
   "metadata": {},
   "outputs": [],
   "source": []
  }
 ],
 "metadata": {
  "kernelspec": {
   "display_name": "Java",
   "language": "java",
   "name": "java"
  },
  "language_info": {
   "codemirror_mode": "java",
   "file_extension": ".jshell",
   "mimetype": "text/x-java-source",
   "name": "Java",
   "pygments_lexer": "java",
   "version": "11.0.6+8-LTS"
  },
  "toc": {
   "base_numbering": 1,
   "nav_menu": {},
   "number_sections": true,
   "sideBar": true,
   "skip_h1_title": false,
   "title_cell": "Table of Contents",
   "title_sidebar": "Contents",
   "toc_cell": false,
   "toc_position": {},
   "toc_section_display": true,
   "toc_window_display": true
  }
 },
 "nbformat": 4,
 "nbformat_minor": 2
}
