{
 "cells": [
  {
   "cell_type": "markdown",
   "metadata": {},
   "source": [
    "**------------------------Questions Covered-----------------------------**"
   ]
  },
  {
   "cell_type": "markdown",
   "metadata": {},
   "source": [
    "***1\tArray\thttps://www.codechef.com/JAN18/problems/KCON/\tPep_JavaIP_1Arrays_1Kcon\tKadanes\t\t\t\t\t\t\t\t\t\t\t\t\t\t\t\t\t\t\t\t\t\t\t\n",
    "1\tArray\thttps://www.geeksforgeeks.org/find-subarray-with-given-sum/\tPep_JavaIP_1Arrays_2TarSub\t2 Pointer method\thttps://www.geeksforgeeks.org/minimum-length-subarray-sum-greater-given-value/\t\t\t\t\t\t\t\t\t\t\t\t\t\t\t\t\t\t\t\t\t\t\n",
    "1\tArray\thttps://www.geeksforgeeks.org/equilibrium-index-of-an-array/\tPep_JavaIP_1Arrays_3Equilibrium_point\tLeftRightTraversal\t\t\t\t\t\t\t\t\t\t\t\t\t\t\t\t\t\t\t\t\t\t\t\n",
    "1\tArray\thttps://www.geeksforgeeks.org/dynamic-programming-set-14-maximum-sum-increasing-subsequence/\tPep_JavaIP_1Arrays_4Max_sum_increasing_subsequence\tLIS\t\t\t\t\t\t\t\t\t\t\t\t\t\t\t\t\t\t\t\t\t\t\t\n",
    "1\tArray\thttps://www.geeksforgeeks.org/convert-array-into-zig-zag-fashion/\tPep_JavaIP_1Arrays_5Zigzag_array\tSolve the Spot\t\t\t\t\t\t\t\t\t\t\t\t\t\t\t\t\t\t\t\t\t\t\t\n",
    "1\tArray\thttps://www.geeksforgeeks.org/find-a-pair-with-the-given-difference/\tPep_JavaIP_1Arrays_6findpair\t2 Pointer method\t\t\t\t\t\t\t\t\t\t\t\t\t\t\t\t\t\t\t\t\t\t\t\n",
    "1\tArray\thttps://www.geeksforgeeks.org/chocolate-distribution-problem/\tPep_JavaIP_1Arrays_7Chocolate\tSliding Window\t\t\t\t\t\t\t\t\t\t\t\t\t\t\t\t\t\t\t\t\t\t\t\n",
    "1\tArray\thttps://www.geeksforgeeks.org/minimum-number-platforms-required-railwaybus-station/\tPep_JavaIP_1Arrays_8platforms\tMergeSort\t\t\t\t\t\t\t\t\t\t\t\t\t\t\t\t\t\t\t\t\t\t\t\n",
    "1\tArray\thttps://www.geeksforgeeks.org/trapping-rain-water/\tPep_JavaIP_1Arrays_9Trappingrainwater\tLeftRightTraversal\t\t\t\t\t\t\t\t\t\t\t\t\t\t\t\t\t\t\t\t\t\t\t\n",
    "1\tArray\thttps://www.geeksforgeeks.org/stock-buy-sell/\tPep_JavaIP_1Arrays_10StockBuySell\t2 Pointer method\t\t\t\t\t\t\t\t\t\t\t\t\t\t\t\t\t\t\t\t\t\t\t\n",
    "1\tArray\thttps://www.geeksforgeeks.org/inplace-rotate-square-matrix-by-90-degrees/\tPep_JavaIP_1Arrays_11rotatearray90\tMatrixRotation\t\t\t\t\t\t\t\t\t\t\t\t\t\t\t\t\t\t\t\t\t\t\t\n",
    "1\tArray\thttps://www.geeksforgeeks.org/find-k-pairs-smallest-sums-two-arrays/\tPep_JavaIP_1Arrays_12kpairsmallest\tMiscellanous\t\t\t\t\t\t\t\t\t\t\t\t\t\t\t\t\t\t\t\t\t\t\n",
    "1\tArray\thttps://www.geeksforgeeks.org/search-an-element-in-a-sorted-and-pivoted-array/\tPep_JavaIP_1Arrays_14searchInSortedAndRotated\tBinarySearch\t\t\t\t\t\t\t\t\t\t\t\t\t\t\t\t\t\t\t\t\t\t\t\n",
    "1\tArray\thttps://www.geeksforgeeks.org/given-a-sorted-and-rotated-array-find-if-there-is-a-pair-with-a-given-sum/\tPep_JavaIP_1Arrays_15PairSumInSortedAndRotated\tBinarySearch\t\t\t\t\t\t\t\t\t\t\t\t\t\t\t\t\t\t\t\t\t\t\t\n",
    "1\tArray\thttps://www.geeksforgeeks.org/maximum-sum-iarri-among-rotations-given-array/\tPep_JavaIP_1Arrays_16MaxsumIArrIForRotationsOfArray***"
   ]
  },
  {
   "cell_type": "code",
   "execution_count": 1,
   "metadata": {},
   "outputs": [],
   "source": [
    "import java.util.*;\n",
    "import java.io.*;\n",
    "import java.util.Arrays;\n",
    "String[] args =new String[0];"
   ]
  },
  {
   "cell_type": "markdown",
   "metadata": {},
   "source": [
    "## **1. K-Concatenation**\n",
    "https://www.codechef.com/JAN18/problems/KCON/"
   ]
  },
  {
   "cell_type": "code",
   "execution_count": 2,
   "metadata": {},
   "outputs": [],
   "source": [
    "/*\n",
    "You are given an array A with size N (indexed from 0) and an integer K. \n",
    "Let's define another array B with size N · K as the array that's formed by concatenating K copies of array A.\n",
    "\n",
    "For example, \n",
    "if A = {1, 2} and K = 3, \n",
    "then B = {1, 2, 1, 2, 1, 2}.\n",
    "\n",
    "You have to find the maximum subarray sum of the array B. \n",
    "Fomally, you should compute the maximum value of Bi + Bi+1 + Bi+2 + ... + Bj, where 0 ≤ i ≤ j < N · K.\n",
    "*/"
   ]
  },
  {
   "cell_type": "code",
   "execution_count": 3,
   "metadata": {},
   "outputs": [],
   "source": [
    "/*\n",
    "The problem is to find the maximum sub array of concatenatedarr.\n",
    "Maximum SubArray of an array A is a continuous SubArray within the array A that has the largest Sum.\n",
    "The best method for finding Maximum SubArray is Kadanae's algorithm.\n",
    "\n",
    "Here you have to find the Maximum SubArray for an array concatenated_arr which is a k-times repetitive array of A. \n",
    "For e.g.. if A is {3, 2, -1} and K is 3 then B will be {3, 2, -1, 3, 2, -1, 3, 2, -1}. \n",
    "\n",
    "Method:\n",
    "The maximum SubArray of concatenated_arr can be the sum of all its elements.\n",
    "For e.g.. if A is {3, 2, -1} and K is 3, then B will be {3, 2, -1, 3, 2, -1, 3, 2, -1}.\n",
    "The sum of all the elements in concatenated_arr will give us 12. To find this one we don't need to create the array concatenated_arr.\n",
    "We can simply find the sum of all the elements in array A and we can mutilply it with K.\n",
    "But wait, we can omit the last term in it so that the sum will become 13.\n",
    "For this one we can use prefix and suffix calculations.\n",
    "Eg:\n",
    "A is repeated k times in concatenatedarr.\n",
    "Consider the first repetition of A is A1, second is A2 and so on. \n",
    "So now our B array(if K=8) will be {A1, A2, A3, A4, A5, A6, A7, A8}. \n",
    "If you omit the first two elements in A1 and the last two elements in A8, you might also get the maxsub array.\n",
    "So here we can check whether it is possible to omit some initial elements in A1 and some Final elements in A8. \n",
    "We use prefix and suffix variables for that to calculate the sum of A1 and A10 specifically and he adds the remaining elements \n",
    "i.e answer = {prefix + sum_of_elements(A2) + sum_of_elements(A3) + sum_of_elements(A4) + sum_of_elements(A5) + sum_of_elements(A6) + sum_of_elements(A7) + suffix} , \n",
    "which in simplified form becomes {prefix + sum_of_elements(A)*(k-2) + suffix}.\n",
    "*/"
   ]
  },
  {
   "cell_type": "code",
   "execution_count": 4,
   "metadata": {},
   "outputs": [],
   "source": [
    "int mod  = (int) Math.pow(10,9)+7;\n",
    "public int kConcatenationMaxSum(int[] ar, int k) {\n",
    "    long kadanes= kadanesAlgo(ar);\n",
    "    if(k==1){\n",
    "        return (int)kadanes;\n",
    "    }\n",
    "    long prefixSum= prefixSum(ar);\n",
    "    long suffixSum=suffixSum(ar);\n",
    "    long sum=0;\n",
    "    for (int i1 : ar) {\n",
    "        sum += i1;\n",
    "    }\n",
    "    if(sum>0){\n",
    "        return (int)(Math.max(((sum*(k-2))%mod+suffixSum%mod+prefixSum%mod)%mod,kadanes%mod));\n",
    "    }\n",
    "    else{\n",
    "        return (int)(Math.max((prefixSum%mod+suffixSum%mod)%mod,kadanes%mod));\n",
    "    }\n",
    "\n",
    "}\n",
    "public  long kadanesAlgo(int[] ar){\n",
    "\n",
    "    long currentSum=0;\n",
    "    long maxSum=Integer.MIN_VALUE;\n",
    "    for(int i=0;i<ar.length;i++){\n",
    "        currentSum=currentSum>0?(currentSum+ar[i])%mod:ar[i];\n",
    "        maxSum=Math.max(currentSum,maxSum);\n",
    "    }\n",
    "    return maxSum<0?0:maxSum%mod;\n",
    "\n",
    "}\n",
    "\n",
    "\n",
    "public  long prefixSum(int[] ar){\n",
    "\n",
    "    long currentSum=0;\n",
    "    long maxSum=Integer.MIN_VALUE;\n",
    "    for(int i=0;i<ar.length;i++){\n",
    "        currentSum= (currentSum+ar[i])%mod;\n",
    "        maxSum=Math.max(maxSum,currentSum);\n",
    "    }\n",
    "    return maxSum;\n",
    "\n",
    "\n",
    "}\n",
    "\n",
    "public  long suffixSum(int[] ar){\n",
    "\n",
    "\n",
    "    long currentSum=0;\n",
    "    long maxSum=Integer.MIN_VALUE;\n",
    "    for(int i=ar.length-1;i>=0;i--){\n",
    "        currentSum=(currentSum+ar[i])%mod;\n",
    "        maxSum=Math.max(currentSum,maxSum);\n",
    "    }\n",
    "    return maxSum;\n",
    "\n",
    "}"
   ]
  },
  {
   "cell_type": "code",
   "execution_count": 5,
   "metadata": {},
   "outputs": [
    {
     "name": "stdout",
     "output_type": "stream",
     "text": [
      "13\n"
     ]
    }
   ],
   "source": [
    "int[] arr = {3,2,-1};\n",
    "System.out.println(kConcatenationMaxSum(arr,3))"
   ]
  },
  {
   "cell_type": "code",
   "execution_count": 6,
   "metadata": {},
   "outputs": [
    {
     "name": "stdout",
     "output_type": "stream",
     "text": [
      "13\n"
     ]
    }
   ],
   "source": [
    "class Solution {\n",
    "    static final long M=(long)Math.pow(10,9)+7;\n",
    "    public static int kConcatenationMaxSum(int[] arr, int k) {\n",
    "        int n=arr.length;\n",
    "        long res=0;\n",
    "        long last=0;\n",
    "        long sum=0;\n",
    "        long sumMax=0;\n",
    "    \n",
    "        // ordinary maximum subarray sum problem to find maximum\n",
    "        for(int j=0;j<n;++j){\n",
    "            long r = Math.max((long)arr[j],arr[j]+last);\n",
    "            res=Math.max(res,r);\n",
    "            last=r;\n",
    "            sum+=arr[j];\n",
    "            if(sumMax<sum){\n",
    "                sumMax=sum;\n",
    "            }\n",
    "        }\n",
    "        \n",
    "        // if there were more repeatations, we recaucluate the res\n",
    "        if(k>1 && sumMax>0){\n",
    "            if(sum>0){\n",
    "                res = Math.max(res, last+(k-2)*sum+sumMax);\n",
    "            }else{\n",
    "                res =Math.max(res,last+sumMax);\n",
    "            }\n",
    "        }\n",
    "        return (int)(res%M);\n",
    "    }\n",
    "}\n",
    "int[] arr = {3,2,-1};\n",
    "System.out.println(Solution.kConcatenationMaxSum(arr,3))"
   ]
  },
  {
   "cell_type": "markdown",
   "metadata": {},
   "source": [
    "## **2. Find subarray with given sum | Set 1 (Nonnegative Numbers)**\n",
    "https://www.geeksforgeeks.org/find-subarray-with-given-sum/"
   ]
  },
  {
   "cell_type": "code",
   "execution_count": 7,
   "metadata": {},
   "outputs": [],
   "source": [
    "/*\n",
    "Given an unsorted array of nonnegative integers, find a continuous subarray which adds to a given number.\n",
    "Examples :\n",
    "\n",
    "Input: arr[] = {1, 4, 20, 3, 10, 5}, sum = 33\n",
    "Ouptut: Sum found between indexes 2 and 4\n",
    "\n",
    "\n",
    "\n",
    "Input: arr[] = {1, 4, 0, 0, 3, 10, 5}, sum = 7\n",
    "Ouptut: Sum found between indexes 1 and 4\n",
    "\n",
    "Input: arr[] = {1, 4}, sum = 0\n",
    "Output: No subarray found\n",
    "\n",
    "There may be more than one subarrays with sum as the given sum. The following solutions print first such subarray.\n",
    "*/"
   ]
  },
  {
   "cell_type": "code",
   "execution_count": 8,
   "metadata": {},
   "outputs": [],
   "source": [
    "/*\n",
    "Initialize a variable curr_sum as the first element. \n",
    "curr_sum indicates the sum of the current subarray. \n",
    "Start from the second element and add all elements one by one to the curr_sum. \n",
    "If curr_sum becomes equal to the sum, then print the solution. \n",
    "If curr_sum exceeds the sum, then remove trailing elements while curr_sum is greater than the sum.\n",
    "\n",
    "Following is the implementation of the above approach.\n",
    "*/"
   ]
  },
  {
   "cell_type": "code",
   "execution_count": 9,
   "metadata": {},
   "outputs": [],
   "source": [
    "int subArraySum(int arr[], int n, int sum)  \n",
    "    { \n",
    "        int curr_sum = arr[0], start = 0, i; \n",
    "  \n",
    "        // Pick a starting point \n",
    "        for (i = 1; i <= n; i++)  \n",
    "        { \n",
    "            // If curr_sum exceeds the sum, then remove the starting elements \n",
    "            while (curr_sum > sum && start < i-1) \n",
    "            { \n",
    "                curr_sum = curr_sum - arr[start]; \n",
    "                start++; \n",
    "            } \n",
    "              \n",
    "            // If curr_sum becomes equal to sum, then return true \n",
    "            if (curr_sum == sum)  \n",
    "            { \n",
    "                int p = i-1; \n",
    "                System.out.println(\"Sum found between indexes \" + start \n",
    "                        + \" and \" + p); \n",
    "                return 1; \n",
    "            } \n",
    "              \n",
    "            // Add this element to curr_sum \n",
    "            if (i < n) \n",
    "            curr_sum = curr_sum + arr[i]; \n",
    "              \n",
    "        } \n",
    "  \n",
    "        System.out.println(\"No subarray found\"); \n",
    "        return 0; \n",
    "    }"
   ]
  },
  {
   "cell_type": "code",
   "execution_count": 10,
   "metadata": {},
   "outputs": [
    {
     "name": "stdout",
     "output_type": "stream",
     "text": [
      "Sum found between indexes 1 and 4\n"
     ]
    },
    {
     "data": {
      "text/plain": [
       "1"
      ]
     },
     "execution_count": 10,
     "metadata": {},
     "output_type": "execute_result"
    }
   ],
   "source": [
    "int arr[] = {15, 2, 4, 8, 9, 5, 10, 23}; \n",
    "int n = arr.length; \n",
    "int sum = 23; \n",
    "subArraySum(arr, n, sum); "
   ]
  },
  {
   "cell_type": "markdown",
   "metadata": {},
   "source": [
    "## **3. Equilibrium index of an array**\n",
    "https://www.geeksforgeeks.org/equilibrium-index-of-an-array/"
   ]
  },
  {
   "cell_type": "code",
   "execution_count": 11,
   "metadata": {},
   "outputs": [],
   "source": [
    "/*\n",
    "Equilibrium index of an array is an index such that the sum of elements at lower indexes is equal to the sum of elements at higher indexes. For example, in an array A:\n",
    "\n",
    "Example :\n",
    "\n",
    "Input: A[] = {-7, 1, 5, 2, -4, 3, 0}\n",
    "Output: 3\n",
    "3 is an equilibrium index, because:\n",
    "A[0] + A[1] + A[2] = A[4] + A[5] + A[6]\n",
    "\n",
    "\n",
    "\n",
    "Input: A[] = {1, 2, 3}\n",
    "Output: -1\n",
    "\n",
    "Write a function int equilibrium(int[] arr, int n); that given a sequence arr[] of size n, returns an equilibrium index (if any) or -1 if no equilibrium indexes exist.\n",
    "*/"
   ]
  },
  {
   "cell_type": "code",
   "execution_count": 12,
   "metadata": {},
   "outputs": [],
   "source": [
    "/*\n",
    "The idea is to get the total sum of the array first. \n",
    "Then Iterate through the array and keep updating the left sum which is initialized as zero. \n",
    "In the loop, we can get the right sum by subtracting the elements one by one. \n",
    "\n",
    "1) Initialize leftsum  as 0\n",
    "2) Get the total sum of the array as sum\n",
    "3) Iterate through the array and for each index i, do following.\n",
    "    a)  Update sum to get the right sum.  \n",
    "           sum = sum - arr[i] \n",
    "       // sum is now right sum\n",
    "    b) If leftsum is equal to sum, then return current index. \n",
    "       // update leftsum for next iteration.\n",
    "    c) leftsum = leftsum + arr[i]\n",
    "4) return -1 \n",
    "// If we come out of loop without returning then\n",
    "// there is no equilibrium index\n",
    "The image below shows the dry run of the above approach:\n",
    "*/"
   ]
  },
  {
   "cell_type": "markdown",
   "metadata": {},
   "source": [
    "<img src=\"https://media.geeksforgeeks.org/wp-content/cdn-uploads/20190620123235/Equilibrium-index-of-an-array1.png\" alt=\"IMG 3 Preview\" title=\"IMG 3\" style=\"width:500px;height:600px\"/>"
   ]
  },
  {
   "cell_type": "code",
   "execution_count": 13,
   "metadata": {},
   "outputs": [],
   "source": [
    "int equilibrium(int arr[], int n) \n",
    "    { \n",
    "        int sum = 0; // initialize sum of whole array \n",
    "        int leftsum = 0; // initialize leftsum \n",
    "  \n",
    "        /* Find sum of the whole array */\n",
    "        for (int i = 0; i < n; ++i) \n",
    "            sum += arr[i]; \n",
    "  \n",
    "        for (int i = 0; i < n; ++i) { \n",
    "            sum -= arr[i]; // sum is now right sum for index i \n",
    "  \n",
    "            if (leftsum == sum) \n",
    "                return i; \n",
    "  \n",
    "            leftsum += arr[i]; \n",
    "        } \n",
    "  \n",
    "        /* If no equilibrium index found, then return 0 */\n",
    "        return -1; \n",
    "    } "
   ]
  },
  {
   "cell_type": "code",
   "execution_count": 14,
   "metadata": {},
   "outputs": [
    {
     "name": "stdout",
     "output_type": "stream",
     "text": [
      "First equilibrium index is 3\n"
     ]
    }
   ],
   "source": [
    "int arr[] = { -7, 1, 5, 2, -4, 3, 0 }; \n",
    "        int arr_size = arr.length; \n",
    "        System.out.println(\"First equilibrium index is \" +  \n",
    "                          equilibrium(arr, arr_size));"
   ]
  },
  {
   "cell_type": "markdown",
   "metadata": {},
   "source": [
    "## **4. Maximum Sum Increasing Subsequence | DP-14**\n",
    "https://www.geeksforgeeks.org/maximum-sum-increasing-subsequence-dp-14/"
   ]
  },
  {
   "cell_type": "code",
   "execution_count": 15,
   "metadata": {},
   "outputs": [],
   "source": [
    "/*\n",
    "Given an array of n positive integers. Write a program to find the sum of maximum sum subsequence of the given array such that the integers in the subsequence are sorted in increasing order. \n",
    "For example, \n",
    "if input is {1, 101, 2, 3, 100, 4, 5}, \n",
    "then output should be 106 (1 + 2 + 3 + 100), \n",
    "if the input array is {3, 4, 5, 10}, \n",
    "then output should be 22 (3 + 4 + 5 + 10) \n",
    "and if the input array is {10, 5, 4, 3}, \n",
    "then output should be 10\n",
    "*/"
   ]
  },
  {
   "cell_type": "code",
   "execution_count": 16,
   "metadata": {},
   "outputs": [],
   "source": [
    "/*\n",
    "This problem is a variation of standard Longest Increasing Subsequence (LIS) problem. \n",
    "We need a slight change in the Dynamic Programming solution of LIS problem. \n",
    "All we need to change is to use sum as a criteria instead of length of increasing subsequence.\n",
    "\n",
    "Following are the Dynamic Programming solution to the problem :\n",
    "*/"
   ]
  },
  {
   "cell_type": "code",
   "execution_count": 17,
   "metadata": {},
   "outputs": [],
   "source": [
    "static int maxSumIS(int arr[], int n) \n",
    "    { \n",
    "        int i, j, max = 0; \n",
    "        int msis[] = new int[n]; \n",
    "  \n",
    "        /* Initialize msis values  \n",
    "           for all indexes */\n",
    "        for (i = 0; i < n; i++) \n",
    "            msis[i] = arr[i]; \n",
    "  \n",
    "        /* Compute maximum sum values \n",
    "           in bottom up manner */\n",
    "        for (i = 1; i < n; i++) \n",
    "            for (j = 0; j < i; j++) \n",
    "                if (arr[i] > arr[j] && \n",
    "                    msis[i] < msis[j] + arr[i]) \n",
    "                    msis[i] = msis[j] + arr[i]; \n",
    "  \n",
    "        /* Pick maximum of all \n",
    "           msis values */\n",
    "        for (i = 0; i < n; i++) \n",
    "            if (max < msis[i]) \n",
    "                max = msis[i]; \n",
    "  \n",
    "        return max; \n",
    "    } "
   ]
  },
  {
   "cell_type": "code",
   "execution_count": 18,
   "metadata": {},
   "outputs": [
    {
     "name": "stdout",
     "output_type": "stream",
     "text": [
      "Sum of maximum sum increasing subsequence is 106\n"
     ]
    }
   ],
   "source": [
    "int arr[] = new int[]{1, 101, 2, 3, 100, 4, 5}; \n",
    "int n = arr.length; \n",
    "System.out.println(\"Sum of maximum sum \"+ \n",
    "                            \"increasing subsequence is \"+ \n",
    "                              maxSumIS(arr, n)); "
   ]
  },
  {
   "cell_type": "markdown",
   "metadata": {},
   "source": [
    "## **5. Convert array into Zig-Zag fashion**\n",
    "https://www.geeksforgeeks.org/convert-array-into-zig-zag-fashion/"
   ]
  },
  {
   "cell_type": "code",
   "execution_count": 19,
   "metadata": {},
   "outputs": [],
   "source": [
    "/*\n",
    "Given an array of DISTINCT elements, rearrange the elements of array in zig-zag fashion in O(n) time. \n",
    "The converted array should be in form a < b > c < d > e < f.\n",
    "Example:\n",
    "\n",
    "Input: arr[] = {4, 3, 7, 8, 6, 2, 1}\n",
    "Output: arr[] = {3, 7, 4, 8, 2, 6, 1}\n",
    "\n",
    "\n",
    "\n",
    "Input: arr[] = {1, 4, 3, 2}\n",
    "Output: arr[] = {1, 4, 2, 3}\n",
    "*/"
   ]
  },
  {
   "cell_type": "code",
   "execution_count": 20,
   "metadata": {},
   "outputs": [],
   "source": [
    "/*\n",
    "A Simple Solution is to first sort the array. \n",
    "After sorting, exclude the first element, swap the remaining elements in pairs. \n",
    "(i.e. keep arr[0] as it is, swap arr[1] and arr[2], swap arr[3] and arr[4], and so on).\n",
    "\n",
    "Time complexity: O(N log N) since we need to sort the array first.\n",
    "\n",
    "We can convert in O(n) time using an efficient approach. The idea is to use a modified one pass of bubble sort.\n",
    "\n",
    "Maintain a flag for representing which order(i.e. < or >) currently we need.\n",
    "If the current two elements are not in that order then swap those elements otherwise not.\n",
    "Let us see the main logic using three consecutive elements A, B, C.\n",
    "\n",
    "Suppose we are processing B and C currently and the current relation is ‘<', but we have B > C. \n",
    "Since current relation is ‘<' previous relation must be '>‘ i.e., A must be greater than B. \n",
    "So, the relation is A > B and B > C. We can deduce A > C. \n",
    "So if we swap B and C then the relation is A > C and C < B. \n",
    "Finally we get the desired order A C B\n",
    "\n",
    "Refer this for more explanation.\n",
    "\n",
    "Below image is a dry run of the above approach:\n",
    "*/"
   ]
  },
  {
   "cell_type": "markdown",
   "metadata": {},
   "source": [
    "<img src=\"https://media.geeksforgeeks.org/wp-content/cdn-uploads/20190620131651/Convert-array-into-Zig-Zag-fashion.png\" alt=\"IMG 4 Preview\" title=\"IMG 4\" style=\"width:700px;height:900px\"/>"
   ]
  },
  {
   "cell_type": "code",
   "execution_count": 21,
   "metadata": {},
   "outputs": [],
   "source": [
    "// Java program to sort an array in Zig-Zag form \n",
    "import java.util.Arrays; \n",
    "\n",
    "class Test \n",
    "{ \n",
    "\tstatic int arr[] = new int[]{4, 3, 7, 8, 6, 2, 1}; \n",
    "\t\n",
    "\t// Method for zig-zag conversion of array \n",
    "\tstatic void zigZag() \n",
    "\t{ \n",
    "\t\t// Flag true indicates relation \"<\" is expected, \n",
    "\t\t// else \">\" is expected. The first expected relation \n",
    "\t\t// is \"<\" \n",
    "\t\tboolean flag = true; \n",
    "\t\t\n",
    "\t\tint temp =0; \n",
    "\t\n",
    "\t\tfor (int i=0; i<=arr.length-2; i++) \n",
    "\t\t{ \n",
    "\t\t\tif (flag) /* \"<\" relation expected */\n",
    "\t\t\t{ \n",
    "\t\t\t\t/* If we have a situation like A > B > C, \n",
    "\t\t\t\twe get A > B < C by swapping B and C */\n",
    "\t\t\t\tif (arr[i] > arr[i+1]) \n",
    "\t\t\t\t{ \n",
    "\t\t\t\t\t// swap \n",
    "\t\t\t\t\ttemp = arr[i]; \n",
    "\t\t\t\t\tarr[i] = arr[i+1]; \n",
    "\t\t\t\t\tarr[i+1] = temp; \n",
    "\t\t\t\t} \n",
    "\t\t\t\t\n",
    "\t\t\t} \n",
    "\t\t\telse /* \">\" relation expected */\n",
    "\t\t\t{ \n",
    "\t\t\t\t/* If we have a situation like A < B < C, \n",
    "\t\t\t\twe get A < C > B by swapping B and C */\n",
    "\t\t\t\tif (arr[i] < arr[i+1]) \n",
    "\t\t\t\t{ \n",
    "\t\t\t\t\t// swap \n",
    "\t\t\t\t\ttemp = arr[i]; \n",
    "\t\t\t\t\tarr[i] = arr[i+1]; \n",
    "\t\t\t\t\tarr[i+1] = temp; \n",
    "\t\t\t\t} \n",
    "\t\t\t} \n",
    "\t\t\tflag = !flag; /* flip flag */\n",
    "\t\t} \n",
    "\t} \n",
    "\t\n",
    "\t// Driver method to test the above function \n",
    "\tpublic static void main() \n",
    "\t{ \n",
    "\t\tzigZag(); \n",
    "\t\tSystem.out.println(Arrays.toString(arr)); \n",
    "\t} \n",
    "} \n"
   ]
  },
  {
   "cell_type": "code",
   "execution_count": 22,
   "metadata": {},
   "outputs": [
    {
     "name": "stdout",
     "output_type": "stream",
     "text": [
      "[3, 7, 4, 8, 2, 6, 1]\n"
     ]
    }
   ],
   "source": [
    "Test.main()"
   ]
  },
  {
   "cell_type": "code",
   "execution_count": 23,
   "metadata": {},
   "outputs": [],
   "source": [
    "static int arr[] = new int[]{4, 3, 7, 8, 6, 2, 1}; "
   ]
  },
  {
   "cell_type": "code",
   "execution_count": 24,
   "metadata": {},
   "outputs": [],
   "source": [
    "// Method for zig-zag conversion of array \n",
    "static void zigZag() \n",
    "{ \n",
    "\t// Flag true indicates relation \"<\" is expected, \n",
    "\t// else \">\" is expected. The first expected relation \n",
    "\t// is \"<\" \n",
    "\tboolean flag = true; \n",
    "\t\n",
    "\tint temp =0; \n",
    "\n",
    "\tfor (int i=0; i<=arr.length-2; i++) \n",
    "\t{ \n",
    "\t\tif (flag) /* \"<\" relation expected */\n",
    "\t\t{ \n",
    "\t\t\t/* If we have a situation like A > B > C, \n",
    "\t\t\twe get A > B < C by swapping B and C */\n",
    "\t\t\tif (arr[i] > arr[i+1]) \n",
    "\t\t\t{ \n",
    "                // swap \n",
    "\t\t\t\ttemp = arr[i]; \n",
    "\t\t\t\tarr[i] = arr[i+1]; \n",
    "\t\t\t\tarr[i+1] = temp; \n",
    "\t\t\t} \n",
    "\t\t\t\n",
    "\t\t} \n",
    "\t\telse /* \">\" relation expected */\n",
    "\t\t{ \n",
    "\t\t\t/* If we have a situation like A < B < C, \n",
    "\t\t\twe get A < C > B by swapping B and C */\n",
    "\t\t\tif (arr[i] < arr[i+1]) \n",
    "\t\t\t{ \n",
    "\t\t\t\t// swap \n",
    "\t\t\t\ttemp = arr[i]; \n",
    "\t\t\t\tarr[i] = arr[i+1]; \n",
    "\t\t\t\tarr[i+1] = temp; \n",
    "\t\t\t} \n",
    "\t\t} \n",
    "\t\tflag = !flag; /* flip flag */\n",
    "\t} \n",
    "} "
   ]
  },
  {
   "cell_type": "code",
   "execution_count": 25,
   "metadata": {
    "scrolled": true
   },
   "outputs": [
    {
     "name": "stdout",
     "output_type": "stream",
     "text": [
      "[3, 7, 4, 8, 2, 6, 1]\n"
     ]
    }
   ],
   "source": [
    "zigZag(); \n",
    "System.out.println(Arrays.toString(arr)); "
   ]
  },
  {
   "cell_type": "markdown",
   "metadata": {},
   "source": [
    "## **6. Find a pair with the given difference**\n",
    "https://www.geeksforgeeks.org/find-a-pair-with-the-given-difference/"
   ]
  },
  {
   "cell_type": "code",
   "execution_count": 26,
   "metadata": {},
   "outputs": [],
   "source": [
    "/*\n",
    "Given an unsorted array and a number n, find if there exists a pair of elements in the array whose difference is n.\n",
    "Examples:\n",
    "\n",
    "Input: arr[] = {5, 20, 3, 2, 50, 80}, n = 78\n",
    "Output: Pair Found: (2, 80)\n",
    "\n",
    "Input: arr[] = {90, 70, 20, 80, 50}, n = 45\n",
    "Output: No Such Pair\n",
    "*/"
   ]
  },
  {
   "cell_type": "code",
   "execution_count": 27,
   "metadata": {},
   "outputs": [],
   "source": [
    "/*The simplest method is to run two loops, \n",
    "the outer loop picks the first element (smaller element) and the inner loop looks for the element picked by outer loop plus n. \n",
    "Time complexity of this method is O(n^2).\n",
    "\n",
    "We can use sorting and Binary Search to improve time complexity to O(nLogn). \n",
    "The first step is to sort the array in ascending order. \n",
    "Once the array is sorted, traverse the array from left to right, and for each element arr[i], binary search for arr[i] + n in arr[i+1..n-1]. \n",
    "If the element is found, return the pair.\n",
    "Both first and second steps take O(nLogn). So overall complexity is O(nLogn).\n",
    "\n",
    "The second step of the above algorithm can be improved to O(n). \n",
    "The first step remain same. The idea for second step is take two index variables i and j, initialize them as 0 and 1 respectively. \n",
    "Now run a linear loop. If arr[j] – arr[i] is smaller than n, we need to look for greater arr[j], so increment j. \n",
    "If arr[j] – arr[i] is greater than n, we need to look for greater arr[i], so increment i.\n",
    "The following code is only for the second step of the algorithm, it assumes that the array is already sorted.\n",
    "*/"
   ]
  },
  {
   "cell_type": "code",
   "execution_count": 28,
   "metadata": {},
   "outputs": [],
   "source": [
    "static boolean findPair(int arr[],int n) \n",
    "    { \n",
    "        int size = arr.length; \n",
    "  \n",
    "        // Initialize positions of two elements \n",
    "        int i = 0, j = 1; \n",
    "  \n",
    "        // Search for a pair \n",
    "        while (i < size && j < size) \n",
    "        { \n",
    "            if (i != j && arr[j]-arr[i] == n) \n",
    "            { \n",
    "                System.out.print(\"Pair Found: \"+ \n",
    "                                 \"( \"+arr[i]+\", \"+ arr[j]+\" )\"); \n",
    "                return true; \n",
    "            } \n",
    "            else if (arr[j] - arr[i] < n) \n",
    "                j++; \n",
    "            else\n",
    "                i++; \n",
    "        } \n",
    "  \n",
    "        System.out.print(\"No such pair\"); \n",
    "        return false; \n",
    "    } "
   ]
  },
  {
   "cell_type": "code",
   "execution_count": 29,
   "metadata": {},
   "outputs": [
    {
     "name": "stdout",
     "output_type": "stream",
     "text": [
      "Pair Found: ( 40, 100 )"
     ]
    },
    {
     "data": {
      "text/plain": [
       "true"
      ]
     },
     "execution_count": 29,
     "metadata": {},
     "output_type": "execute_result"
    }
   ],
   "source": [
    "int arr[] = {1, 8, 30, 40, 100}; \n",
    "int n = 60; \n",
    "findPair(arr,n);"
   ]
  },
  {
   "cell_type": "markdown",
   "metadata": {},
   "source": [
    "## **7. Chocolate Distribution Problem**\n",
    "https://www.geeksforgeeks.org/chocolate-distribution-problem/"
   ]
  },
  {
   "cell_type": "code",
   "execution_count": 30,
   "metadata": {},
   "outputs": [],
   "source": [
    "/*\n",
    "Given an array of n integers where each value represents number of chocolates in a packet. \n",
    "Each packet can have variable number of chocolates. \n",
    "There are m students, the task is to distribute chocolate packets such that:\n",
    "\n",
    "Each student gets one packet.\n",
    "The difference between the number of chocolates in packet with maximum chocolates and packet with minimum chocolates given to the students is minimum.\n",
    "Examples:\n",
    "\n",
    "Input : arr[] = {7, 3, 2, 4, 9, 12, 56}\n",
    "m = 3\n",
    "Output: Minimum Difference is 2\n",
    "We have seven packets of chocolates and\n",
    "we need to pick three packets for 3 students\n",
    "If we pick 2, 3 and 4, we get the minimum\n",
    "difference between maximum and minimum packet\n",
    "sizes.\n",
    "\n",
    "\n",
    "\n",
    "Input : arr[] = {3, 4, 1, 9, 56, 7, 9, 12}\n",
    "m = 5\n",
    "Output: Minimum Difference is 6\n",
    "The set goes like 3,4,7,9,9 and the output\n",
    "is 9-3 = 6\n",
    "\n",
    "Input : arr[] = {12, 4, 7, 9, 2, 23, 25, 41,\n",
    "30, 40, 28, 42, 30, 44, 48,\n",
    "43, 50}\n",
    "m = 7\n",
    "Output: Minimum Difference is 10\n",
    "We need to pick 7 packets. We pick 40, 41,\n",
    "42, 44, 48, 43 and 50 to minimize difference\n",
    "between maximum and minimum.\n",
    "*/"
   ]
  },
  {
   "cell_type": "code",
   "execution_count": 31,
   "metadata": {},
   "outputs": [],
   "source": [
    "/*\n",
    "A simple solution is to generate all subsets of size m of arr[0..n-1]. \n",
    "For every subset, find the difference between the maximum and minimum elements in it. Finally, return the minimum difference.\n",
    "\n",
    "An efficient solution is based on the observation that to minimize the difference, we must choose consecutive elements from a sorted packet. \n",
    "We first sort the array arr[0..n-1], then find the subarray of size m with the minimum difference between last and first elements.\n",
    "\n",
    "Below image is a dry run of the above approach:\n",
    "*/"
   ]
  },
  {
   "cell_type": "markdown",
   "metadata": {},
   "source": [
    "<img src=\"https://media.geeksforgeeks.org/wp-content/cdn-uploads/20190620132657/Chocolate-Distribution-Problem.png\" alt=\"IMG 7 Preview\" title=\"IMG 7\" style=\"width:750px;height:900px\"/>"
   ]
  },
  {
   "cell_type": "code",
   "execution_count": 32,
   "metadata": {},
   "outputs": [],
   "source": [
    "// arr[0..n-1] represents sizes of packets. m is number of students. \n",
    "// Returns minimum difference between maximum and minimum values of distribution. \n",
    "    static int findMinDiff(int arr[], int n, int m) \n",
    "    { \n",
    "        // if there are no chocolates or number of students is 0 \n",
    "        if (m == 0 || n == 0) \n",
    "            return 0; \n",
    "       \n",
    "        // Sort the given packets \n",
    "        Arrays.sort(arr); \n",
    "       \n",
    "        // Number of students cannot be more than number of packets \n",
    "        if (n < m) \n",
    "           return -1; \n",
    "       \n",
    "        // Largest number of chocolates \n",
    "        int min_diff = Integer.MAX_VALUE; \n",
    "       \n",
    "        // Find the subarray of size m such that difference between last \n",
    "        // (maximum in case of sorted) and first (minimum in case of sorted) \n",
    "        // elements of subarray is minimum. \n",
    "        int first = 0, last = 0; \n",
    "        for (int i = 0; i + m - 1 < n; i++) \n",
    "        { \n",
    "            int diff = arr[i+m-1] - arr[i]; \n",
    "            if (diff < min_diff) \n",
    "            { \n",
    "                min_diff = diff; \n",
    "                first = i; \n",
    "                last = i + m - 1; \n",
    "            } \n",
    "        } \n",
    "        return (arr[last] - arr[first]); \n",
    "    } "
   ]
  },
  {
   "cell_type": "code",
   "execution_count": 33,
   "metadata": {},
   "outputs": [
    {
     "name": "stdout",
     "output_type": "stream",
     "text": [
      "Minimum difference is 10\n"
     ]
    }
   ],
   "source": [
    "int arr[] = {12, 4, 7, 9, 2, 23, \n",
    "            25, 41, 30, 40, 28, \n",
    "            42, 30, 44, 48, 43, 50}; \n",
    "                     \n",
    "int m = 7;  // Number of students \n",
    "          \n",
    "int n = arr.length; \n",
    "System.out.println(\"Minimum difference is \"\n",
    "                + findMinDiff(arr, n, m));"
   ]
  },
  {
   "cell_type": "markdown",
   "metadata": {},
   "source": [
    "## **8. Minimum Number of Platforms Required for a Railway/Bus Station**\n",
    "https://www.geeksforgeeks.org/minimum-number-platforms-required-railwaybus-station/"
   ]
  },
  {
   "cell_type": "code",
   "execution_count": 34,
   "metadata": {},
   "outputs": [],
   "source": [
    "/*\n",
    "Given arrival and departure times of all trains that reach a railway station, the task is to find the minimum number of platforms required for the railway station so that no train waits.\n",
    "We are given two arrays which represent arrival and departure times of trains that stop\n",
    "\n",
    "Examples:\n",
    "\n",
    "Input: arr[] = {9:00, 9:40, 9:50, 11:00, 15:00, 18:00}\n",
    "dep[] = {9:10, 12:00, 11:20, 11:30, 19:00, 20:00}\n",
    "Output: 3\n",
    "There are at-most three trains at a time (time between 11:00 to 11:20)\n",
    "*/"
   ]
  },
  {
   "cell_type": "code",
   "execution_count": 35,
   "metadata": {},
   "outputs": [],
   "source": [
    "/*\n",
    "We need to find the maximum number of trains that are there on the given railway station at a time. \n",
    "A Simple Solution is to take every interval one by one and find the number of intervals that overlap with it. \n",
    "Keep track of maximum number of intervals that overlap with an interval. Finally return the maximum value. \n",
    "Time Complexity of this solution is O(n2).\n",
    "\n",
    "We can solve the above problem in O(N Log N) time. The idea is to consider all events in sorted order. \n",
    "Once we have all events in sorted order, we can trace the number of trains at any time keeping track of trains that have arrived, but not departed.\n",
    "\n",
    "For example consider the above example.\n",
    "\n",
    "    arr[]  = {9:00,  9:40, 9:50,  11:00, 15:00, 18:00}\n",
    "    dep[]  = {9:10, 12:00, 11:20, 11:30, 19:00, 20:00}\n",
    "\n",
    "All events sorted by time.\n",
    "Total platforms at any time can be obtained by subtracting total \n",
    "departures from total arrivals by that time.\n",
    " Time     Event Type     Total Platforms Needed at this Time                               \n",
    " 9:00       Arrival                  1\n",
    " 9:10       Departure                0\n",
    " 9:40       Arrival                  1\n",
    " 9:50       Arrival                  2\n",
    " 11:00      Arrival                  3 \n",
    " 11:20      Departure                2\n",
    " 11:30      Departure                1\n",
    " 12:00      Departure                0\n",
    " 15:00      Arrival                  1\n",
    " 18:00      Arrival                  2 \n",
    " 19:00      Departure                1\n",
    " 20:00      Departure                0\n",
    "\n",
    "Minimum Platforms needed on railway station = Maximum platforms needed at any time \n",
    "                                           = 3  \n",
    "Below is the implementation of the above approach. \n",
    "Note that the implementation doesn’t create a single sorted list of all events, \n",
    "rather it individually sorts arr[] and dep[] arrays, and then uses merge process of merge sort to process them together as a single sorted array.\n",
    "\n",
    "Note : This approach assumes that trains are arriving and departing on same date.\n",
    "*/"
   ]
  },
  {
   "cell_type": "code",
   "execution_count": 36,
   "metadata": {},
   "outputs": [],
   "source": [
    "// Returns minimum number of platforms reqquired \n",
    "static int findPlatform(int arr[], int dep[], int n) \n",
    "{ \n",
    "   // Sort arrival and departure arrays \n",
    "   Arrays.sort(arr); \n",
    "   Arrays.sort(dep); \n",
    "   \n",
    "   // plat_needed indicates number of platforms \n",
    "   // needed at a time \n",
    "   int plat_needed = 1, result = 1; \n",
    "   int i = 1, j = 0; \n",
    "   \n",
    "   // Similar to merge in merge sort to process  \n",
    "   // all events in sorted order \n",
    "   while (i < n && j < n) \n",
    "   { \n",
    "      // If next event in sorted order is arrival,  \n",
    "      // increment count of platforms needed \n",
    "      if (arr[i] <= dep[j]) \n",
    "      { \n",
    "          plat_needed++; \n",
    "          i++; \n",
    "   \n",
    "          // Update result if needed  \n",
    "          if (plat_needed > result)  \n",
    "              result = plat_needed; \n",
    "      } \n",
    "   \n",
    "      // Else decrement count of platforms needed \n",
    "      else\n",
    "      { \n",
    "          plat_needed--; \n",
    "          j++; \n",
    "      } \n",
    "   } \n",
    "   \n",
    "   return result; \n",
    "} "
   ]
  },
  {
   "cell_type": "code",
   "execution_count": 37,
   "metadata": {},
   "outputs": [
    {
     "name": "stdout",
     "output_type": "stream",
     "text": [
      "Minimum Number of Platforms Required = 3\n"
     ]
    }
   ],
   "source": [
    "public static void main() \n",
    "{ \n",
    "    int arr[] = {900, 940, 950, 1100, 1500, 1800}; \n",
    "    int dep[] = {910, 1200, 1120, 1130, 1900, 2000}; \n",
    "    int n = arr.length; \n",
    "    System.out.println(\"Minimum Number of Platforms Required = \"\n",
    "                        + findPlatform(arr, dep, n)); \n",
    "} \n",
    "main();"
   ]
  },
  {
   "cell_type": "markdown",
   "metadata": {},
   "source": [
    "## **9. Trapping Rain Water**\n",
    "https://www.geeksforgeeks.org/trapping-rain-water/"
   ]
  },
  {
   "cell_type": "code",
   "execution_count": 38,
   "metadata": {},
   "outputs": [],
   "source": [
    "/*\n",
    "Given n non-negative integers representing an elevation map where the width of each bar is 1, \n",
    "compute how much water it is able to trap after raining.\n",
    "Examples:\n",
    "\n",
    "Input: arr[]   = {2, 0, 2}\n",
    "Output: 2\n",
    "Structure is like below\n",
    "| |\n",
    "|_|\n",
    "We can trap 2 units of water in the middle gap.\n",
    "\n",
    "Input: arr[]   = {3, 0, 0, 2, 0, 4}\n",
    "Output: 10\n",
    "Structure is like below\n",
    "     |\n",
    "|    |\n",
    "|  | |\n",
    "|__|_| \n",
    "We can trap \"3*2 units\" of water between 3 an 2,\n",
    "\"1 unit\" on top of bar 2 and \"3 units\" between 2 \n",
    "and 4.  See below diagram also.\n",
    "\n",
    "Input: arr[] = [0, 1, 0, 2, 1, 0, 1, 3, 2, 1, 2, 1]\n",
    "Output: 6\n",
    "       | \n",
    "   |   || |\n",
    "_|_||_||||||\n",
    "Trap \"1 unit\" between first 1 and 2, \"4 units\" between\n",
    "first 2 and 3 and \"1 unit\" between second last 1 and last 2 \n",
    "*/\n"
   ]
  },
  {
   "cell_type": "markdown",
   "metadata": {},
   "source": [
    "<img src=\"https://www.geeksforgeeks.org/wp-content/uploads/watertrap.png\"/>\n"
   ]
  },
  {
   "cell_type": "code",
   "execution_count": 39,
   "metadata": {},
   "outputs": [],
   "source": [
    "/*\n",
    "An element of the array can store water if there are higher bars on left and right. \n",
    "We can find the amount of water to be stored in every element by finding the heights of bars on left and right sides. \n",
    "The idea is to compute the amount of water that can be stored in every element of array. \n",
    "For example, consider the array {3, 0, 0, 2, 0, 4}, \n",
    "we can store three units of water at indexes 1 and 2, \n",
    "and one unit of water at index 3, \n",
    "and three units of water at index 4.\n",
    "\n",
    "An Efficient Solution is to pre-compute highest bar on left and right of every bar in O(n) time. \n",
    "Then use these pre-computed values to find the amount of water in every array element.\n",
    "\n",
    "Below is the implementation of this solution.\n",
    "*/"
   ]
  },
  {
   "cell_type": "code",
   "execution_count": 40,
   "metadata": {},
   "outputs": [],
   "source": [
    "static int arr[] = new int[] { 0, 1, 0, 2, 1, 0, 1, 3, 2, 1, 2, 1 }; \n",
    "\n",
    "// Method for maximum amount of water \n",
    "static int findWater(int n) \n",
    "{ \n",
    "    // left[i] contains height of tallest bar to the \n",
    "    // left of i'th bar including itself \n",
    "    int left[] = new int[n]; \n",
    "\n",
    "    // Right [i] contains height of tallest bar to \n",
    "    // the right of ith bar including itself \n",
    "    int right[] = new int[n]; \n",
    "\n",
    "    // Initialize result \n",
    "    int water = 0; \n",
    "\n",
    "    // Fill left array \n",
    "    left[0] = arr[0]; \n",
    "    for (int i = 1; i < n; i++) \n",
    "        left[i] = Math.max(left[i - 1], arr[i]); \n",
    "\n",
    "    // Fill right array \n",
    "    right[n - 1] = arr[n - 1]; \n",
    "    for (int i = n - 2; i >= 0; i--) \n",
    "        right[i] = Math.max(right[i + 1], arr[i]); \n",
    "\n",
    "    // Calculate the accumulated water element by element \n",
    "    // consider the amount of water on i'th bar, the \n",
    "    // amount of water accumulated on this particular \n",
    "    // bar will be equal to min(left[i], right[i]) - arr[i] . \n",
    "    for (int i = 0; i < n; i++) \n",
    "        water += Math.min(left[i], right[i]) - arr[i]; \n",
    "\n",
    "    return water; \n",
    "} "
   ]
  },
  {
   "cell_type": "code",
   "execution_count": 41,
   "metadata": {},
   "outputs": [
    {
     "name": "stdout",
     "output_type": "stream",
     "text": [
      "Maximum water that can be accumulated is 6\n"
     ]
    }
   ],
   "source": [
    "System.out.println(\"Maximum water that can be accumulated is \" + findWater(arr.length)); "
   ]
  },
  {
   "cell_type": "markdown",
   "metadata": {},
   "source": [
    "## **10. Stock Buy Sell to Maximize Profit**\n",
    "https://www.geeksforgeeks.org/stock-buy-sell/"
   ]
  },
  {
   "cell_type": "code",
   "execution_count": 42,
   "metadata": {},
   "outputs": [],
   "source": [
    "/*\n",
    "The cost of a stock on each day is given in an array, \n",
    "find the max profit that you can make by buying and selling in those days. \n",
    "For example, if the given array is {100, 180, 260, 310, 40, 535, 695}, \n",
    "the maximum profit can earned by buying on day 0, selling on day 3. Again buy on day 4 and sell on day 6. \n",
    "If the given array of prices is sorted in decreasing order, then profit cannot be earned at all.\n",
    "*/"
   ]
  },
  {
   "cell_type": "code",
   "execution_count": 43,
   "metadata": {},
   "outputs": [],
   "source": [
    "/*\n",
    "Naive approach: \n",
    "A simple approach is to try buying the stocks and selling them on every single day \n",
    "when profitable and keep updating the maximum profit so far.\n",
    "*/"
   ]
  },
  {
   "cell_type": "code",
   "execution_count": 44,
   "metadata": {},
   "outputs": [],
   "source": [
    "static int maxProfit(int price[], int start, int end) \n",
    "{ \n",
    "  \n",
    "    // If the stocks can't be bought \n",
    "    if (end <= start) \n",
    "        return 0; \n",
    "  \n",
    "    // Initialise the profit \n",
    "    int profit = 0; \n",
    "  \n",
    "    // The day at which the stock \n",
    "    // must be bought \n",
    "    for (int i = start; i < end; i++)  \n",
    "    { \n",
    "  \n",
    "        // The day at which the \n",
    "        // stock must be sold \n",
    "        for (int j = i + 1; j <= end; j++) \n",
    "        { \n",
    "  \n",
    "            // If byuing the stock at ith day and \n",
    "            // selling it at jth day is profitable \n",
    "            if (price[j] > price[i])  \n",
    "            { \n",
    "  \n",
    "                // Update the current profit \n",
    "                int curr_profit = price[j] - price[i] \n",
    "                                + maxProfit(price, start, i - 1) \n",
    "                                + maxProfit(price, j + 1, end); \n",
    "  \n",
    "                // Update the maximum profit so far \n",
    "                profit = Math.max(profit, curr_profit); \n",
    "            } \n",
    "        } \n",
    "    } \n",
    "    return profit; \n",
    "} "
   ]
  },
  {
   "cell_type": "code",
   "execution_count": 45,
   "metadata": {},
   "outputs": [
    {
     "name": "stdout",
     "output_type": "stream",
     "text": [
      "865"
     ]
    }
   ],
   "source": [
    "int price[] = { 100, 180, 260, 310, \n",
    "                40, 535, 695 }; \n",
    "int n = price.length; \n",
    "\n",
    "System.out.print(maxProfit(price, 0, n - 1)); "
   ]
  },
  {
   "cell_type": "code",
   "execution_count": 46,
   "metadata": {},
   "outputs": [],
   "source": [
    "/*\n",
    "Efficient approach: If we are allowed to buy and sell only once, then we can use following algorithm. \n",
    "Maximum difference between two elements. Here we are allowed to buy and sell multiple times.\n",
    "Following is algorithm for this problem.\n",
    "\n",
    "Find the local minima and store it as starting index. If not exists, return.\n",
    "Find the local maxima. and store it as ending index. If we reach the end, set the end as ending index.\n",
    "Update the solution (Increment count of buy sell pairs)\n",
    "Repeat the above steps if end is not reached.\n",
    "*/"
   ]
  },
  {
   "cell_type": "code",
   "execution_count": 47,
   "metadata": {},
   "outputs": [],
   "source": [
    "class Interval { \n",
    "    int buy, sell; \n",
    "} \n",
    "  \n",
    "class StockBuySell { \n",
    "    // This function finds the buy sell schedule for maximum profit \n",
    "    void stockBuySell(int price[], int n) \n",
    "    { \n",
    "        // Prices must be given for at least two days \n",
    "        if (n == 1) \n",
    "            return; \n",
    "  \n",
    "        int count = 0; \n",
    "  \n",
    "        // solution array \n",
    "        ArrayList<Interval> sol = new ArrayList<Interval>(); \n",
    "  \n",
    "        // Traverse through given price array \n",
    "        int i = 0; \n",
    "        while (i < n - 1) { \n",
    "            // Find Local Minima. Note that the limit is (n-2) as we are \n",
    "            // comparing present element to the next element. \n",
    "            while ((i < n - 1) && (price[i + 1] <= price[i])) \n",
    "                i++; \n",
    "  \n",
    "            // If we reached the end, break as no further solution possible \n",
    "            if (i == n - 1) \n",
    "                break; \n",
    "  \n",
    "            Interval e = new Interval(); \n",
    "            e.buy = i++; \n",
    "            // Store the index of minima \n",
    "  \n",
    "            // Find Local Maxima.  Note that the limit is (n-1) as we are \n",
    "            // comparing to previous element \n",
    "            while ((i < n) && (price[i] >= price[i - 1])) \n",
    "                i++; \n",
    "  \n",
    "            // Store the index of maxima \n",
    "            e.sell = i - 1; \n",
    "            sol.add(e); \n",
    "  \n",
    "            // Increment number of buy/sell \n",
    "            count++; \n",
    "        } \n",
    "  \n",
    "        // print solution \n",
    "        if (count == 0) \n",
    "            System.out.println(\"There is no day when buying the stock \"\n",
    "                               + \"will make profit\"); \n",
    "        else\n",
    "            for (int j = 0; j < count; j++) \n",
    "                System.out.println(\"Buy on day: \" + sol.get(j).buy \n",
    "                                   + \"        \"\n",
    "                                   + \"Sell on day : \" + sol.get(j).sell); \n",
    "  \n",
    "        return; \n",
    "    } \n",
    "}"
   ]
  },
  {
   "cell_type": "code",
   "execution_count": 48,
   "metadata": {},
   "outputs": [
    {
     "name": "stdout",
     "output_type": "stream",
     "text": [
      "Buy on day: 0        Sell on day : 3\n",
      "Buy on day: 4        Sell on day : 6\n"
     ]
    }
   ],
   "source": [
    "StockBuySell stock = new StockBuySell(); \n",
    "  \n",
    "// stock prices on consecutive days \n",
    "int price[] = { 100, 180, 260, 310, 40, 535, 695 }; \n",
    "int n = price.length; \n",
    "\n",
    "// fucntion call \n",
    "stock.stockBuySell(price, n); "
   ]
  },
  {
   "cell_type": "markdown",
   "metadata": {},
   "source": [
    "## **11. Rotate a matrix by 90 degree without using any extra space | Set 2**\n",
    "https://www.geeksforgeeks.org/rotate-matrix-90-degree-without-using-extra-space-set-2/"
   ]
  },
  {
   "cell_type": "code",
   "execution_count": 49,
   "metadata": {},
   "outputs": [],
   "source": [
    "/*\n",
    "Given a square matrix, turn it by 90 degrees in anti-clockwise direction without using any extra space.\n",
    "\n",
    "Examples:\n",
    "\n",
    "Input\n",
    " 1  2  3\n",
    " 4  5  6\n",
    " 7  8  9\n",
    "Output:\n",
    " 3  6  9 \n",
    " 2  5  8 \n",
    " 1  4  7 \n",
    "\n",
    "Input:\n",
    " 1  2  3  4 \n",
    " 5  6  7  8 \n",
    " 9 10 11 12 \n",
    "13 14 15 16 \n",
    "Output:\n",
    " 4  8 12 16 \n",
    " 3  7 11 15 \n",
    " 2  6 10 14 \n",
    " 1  5  9 13\n",
    "*/"
   ]
  },
  {
   "cell_type": "code",
   "execution_count": 50,
   "metadata": {},
   "outputs": [],
   "source": [
    "/*\n",
    "There are two steps :\n",
    "\n",
    "- Find transpose of matrix.\n",
    "- Reverse columns of the transpose.\n",
    "\n",
    "Illustration of above steps :\n",
    "\n",
    "Let the given matrix be\n",
    "1  2  3  4\n",
    "5  6  7  8\n",
    "9  10 11 12\n",
    "13 14 15 16\n",
    "\n",
    "First we find transpose.\n",
    "1 5 9 13\n",
    "2 6 10 14\n",
    "3 7 11 15\n",
    "4 8 12 16\n",
    "\n",
    "Then we reverse elements of every column.\n",
    "4 8 12 16\n",
    "3 7 11 15\n",
    "2 6 10 14\n",
    "1 5  9 13\n",
    "*/"
   ]
  },
  {
   "cell_type": "code",
   "execution_count": 51,
   "metadata": {},
   "outputs": [],
   "source": [
    "class GFG { \n",
    "  \n",
    "    // After transpose we swap elements of \n",
    "    // column one by one for finding left \n",
    "    // rotation of matrix by 90 degree \n",
    "    static void reverseColumns(int arr[][]) \n",
    "    { \n",
    "        for (int i = 0; i < arr[0].length; i++) \n",
    "            for (int j = 0, k = arr[0].length - 1; j < k; j++, k--) { \n",
    "                int temp = arr[j][i]; \n",
    "                arr[j][i] = arr[k][i]; \n",
    "                arr[k][i] = temp; \n",
    "            } \n",
    "    } \n",
    "  \n",
    "    // Function for do transpose of matrix \n",
    "    static void transpose(int arr[][]) \n",
    "    { \n",
    "        for (int i = 0; i < arr.length; i++) \n",
    "            for (int j = i; j < arr[0].length; j++) { \n",
    "                int temp = arr[j][i]; \n",
    "                arr[j][i] = arr[i][j]; \n",
    "                arr[i][j] = temp; \n",
    "            } \n",
    "    } \n",
    "  \n",
    "    // Function for print matrix \n",
    "    static void printMatrix(int arr[][]) \n",
    "    { \n",
    "        for (int i = 0; i < arr.length; i++) { \n",
    "            for (int j = 0; j < arr[0].length; j++) \n",
    "                System.out.print(arr[i][j] + \" \"); \n",
    "            System.out.println(\"\"); \n",
    "        } \n",
    "    } \n",
    "  \n",
    "    // Function to anticlockwise rotate \n",
    "    // matrix by 90 degree \n",
    "    static void rotate90(int arr[][]) \n",
    "    { \n",
    "        transpose(arr); \n",
    "        reverseColumns(arr); \n",
    "    } \n",
    "}"
   ]
  },
  {
   "cell_type": "code",
   "execution_count": 52,
   "metadata": {},
   "outputs": [
    {
     "name": "stdout",
     "output_type": "stream",
     "text": [
      "4 8 12 16 \n",
      "3 7 11 15 \n",
      "2 6 10 14 \n",
      "1 5 9 13 \n"
     ]
    }
   ],
   "source": [
    "int arr[][] = { { 1, 2, 3, 4 }, \n",
    "                { 5, 6, 7, 8 }, \n",
    "                { 9, 10, 11, 12 }, \n",
    "                { 13, 14, 15, 16 } }; \n",
    "\n",
    "GFG.rotate90(arr); \n",
    "GFG.printMatrix(arr);"
   ]
  },
  {
   "cell_type": "markdown",
   "metadata": {},
   "source": [
    "## **12. Find k pairs with smallest sums in two arrays**\n",
    "https://www.geeksforgeeks.org/find-k-pairs-smallest-sums-two-arrays/"
   ]
  },
  {
   "cell_type": "code",
   "execution_count": 53,
   "metadata": {},
   "outputs": [],
   "source": [
    "/*\n",
    "Given two integer arrays arr1[] and arr2[] sorted in ascending order and an integer k.\n",
    "Find k pairs with smallest sums such that one element of a pair belongs to arr1[] and other element belongs to arr2[]\n",
    "\n",
    "Examples:\n",
    "\n",
    "Input :  arr1[] = {1, 7, 11}\n",
    "         arr2[] = {2, 4, 6}\n",
    "         k = 3\n",
    "Output : [1, 2],\n",
    "         [1, 4],\n",
    "         [1, 6]\n",
    "Explanation: The first 3 pairs are returned \n",
    "from the sequence [1, 2], [1, 4], [1, 6], \n",
    "[7, 2], [7, 4], [11, 2], [7, 6], [11, 4], \n",
    "[11, 6]\n",
    "*/"
   ]
  },
  {
   "cell_type": "code",
   "execution_count": 54,
   "metadata": {},
   "outputs": [],
   "source": [
    "/*\n",
    "We one by one find k smallest sum pairs, starting from least sum pair. \n",
    "The idea is to keep track of all elements of arr2[] which have been already considered for every element arr1[i1] so that in an iteration we only consider next element. \n",
    "For this purpose, we use an index array index2[] to track the indexes of next elements in the other array. \n",
    "It simply means that which element of second array to be added with the element of first array in each and every iteration. \n",
    "We increment value in index array for the element that forms next minimum value pair.\n",
    "*/"
   ]
  },
  {
   "cell_type": "code",
   "execution_count": 55,
   "metadata": {},
   "outputs": [],
   "source": [
    "class KSmallestPair \n",
    "{ \n",
    "    // Function to find k pairs with least sum such \n",
    "    // that one elemennt of a pair is from arr1[] and \n",
    "    // other element is from arr2[] \n",
    "    static void kSmallestPair(int arr1[], int n1, int arr2[], \n",
    "                                            int n2, int k) \n",
    "    { \n",
    "        if (k > n1*n2) \n",
    "        { \n",
    "            System.out.print(\"k pairs don't exist\"); \n",
    "            return ; \n",
    "        } \n",
    "       \n",
    "        // Stores current index in arr2[] for \n",
    "        // every element of arr1[]. Initially \n",
    "        // all values are considered 0. \n",
    "        // Here current index is the index before \n",
    "        // which all elements are considered as \n",
    "        // part of output. \n",
    "        int index2[] = new int[n1]; \n",
    "       \n",
    "        while (k > 0) \n",
    "        { \n",
    "            // Initialize current pair sum as infinite \n",
    "            int min_sum = Integer.MAX_VALUE; \n",
    "            int min_index = 0; \n",
    "       \n",
    "            // To pick next pair, traverse for all  \n",
    "            // elements of arr1[], for every element, find  \n",
    "            // corresponding current element in arr2[] and \n",
    "            // pick minimum of all formed pairs. \n",
    "            for (int i1 = 0; i1 < n1; i1++) \n",
    "            { \n",
    "                // Check if current element of arr1[] plus \n",
    "                // element of array2 to be used gives  \n",
    "                // minimum sum \n",
    "                if (index2[i1] < n2 &&  \n",
    "                    arr1[i1] + arr2[index2[i1]] < min_sum) \n",
    "                { \n",
    "                    // Update index that gives minimum \n",
    "                    min_index = i1; \n",
    "       \n",
    "                    // update minimum sum \n",
    "                    min_sum = arr1[i1] + arr2[index2[i1]]; \n",
    "                } \n",
    "            } \n",
    "       \n",
    "            System.out.print(\"(\" + arr1[min_index] + \", \" + \n",
    "                            arr2[index2[min_index]]+ \") \"); \n",
    "       \n",
    "            index2[min_index]++; \n",
    "            k--; \n",
    "        } \n",
    "    } \n",
    "}"
   ]
  },
  {
   "cell_type": "code",
   "execution_count": 56,
   "metadata": {},
   "outputs": [
    {
     "name": "stdout",
     "output_type": "stream",
     "text": [
      "(1, 2) (1, 4) (3, 2) (3, 4) "
     ]
    }
   ],
   "source": [
    "int arr1[] = {1, 3, 11}; \n",
    "int n1 = arr1.length; \n",
    "\n",
    "int arr2[] = {2, 4, 8}; \n",
    "int n2 = arr2.length; \n",
    "\n",
    "int k = 4; \n",
    "KSmallestPair kp = new KSmallestPair();\n",
    "kp.kSmallestPair( arr1, n1, arr2, n2, k); "
   ]
  },
  {
   "cell_type": "markdown",
   "metadata": {},
   "source": [
    "## **13. Search an element in a sorted and rotated array**\n",
    "https://www.geeksforgeeks.org/search-an-element-in-a-sorted-and-pivoted-array/"
   ]
  },
  {
   "cell_type": "code",
   "execution_count": 57,
   "metadata": {},
   "outputs": [],
   "source": [
    "/*\n",
    "An element in a sorted array can be found in O(log n) time via binary search. \n",
    "But suppose we rotate an ascending order sorted array at some pivot unknown to you beforehand. \n",
    "So for instance, 1 2 3 4 5 might become 3 4 5 1 2. \n",
    "Devise a way to find an element in the rotated array in O(log n) time.\n",
    "*/"
   ]
  },
  {
   "cell_type": "markdown",
   "metadata": {},
   "source": [
    "<img src=\"https://www.geeksforgeeks.org/wp-content/uploads/2009/08/sortedPivotedArray.gif\"/>"
   ]
  },
  {
   "cell_type": "code",
   "execution_count": 58,
   "metadata": {},
   "outputs": [],
   "source": [
    "/*\n",
    "Input  : arr[] = {5, 6, 7, 8, 9, 10, 1, 2, 3};\n",
    "         key = 3\n",
    "Output : Found at index 8\n",
    "\n",
    "Input  : arr[] = {5, 6, 7, 8, 9, 10, 1, 2, 3};\n",
    "         key = 30\n",
    "Output : Not found\n",
    "\n",
    "Input : arr[] = {30, 40, 50, 10, 20}\n",
    "        key = 10   \n",
    "Output : Found at index 3\n",
    "*/"
   ]
  },
  {
   "cell_type": "code",
   "execution_count": 59,
   "metadata": {},
   "outputs": [],
   "source": [
    "/*\n",
    "The idea is to find the pivot point, divide the array in two sub-arrays and call binary search.\n",
    "The main idea for finding pivot is – for a sorted (in increasing order) and pivoted array, pivot element is the only element for which next element to it is smaller than it.\n",
    "Using above criteria and binary search methodology we can get pivot element in O(logn) time\n",
    "\n",
    "Input arr[] = {3, 4, 5, 1, 2}\n",
    "Element to Search = 1\n",
    "  1) Find out pivot point and divide the array in two\n",
    "      sub-arrays. (pivot = 2) //Index of 5\n",
    "  2) Now call binary search for one of the two sub-arrays.\n",
    "      (a) If element is greater than 0th element then\n",
    "             search in left array\n",
    "      (b) Else Search in right array\n",
    "          (1 will go in else as 1 < 0th element(3))\n",
    "  3) If element is found in selected sub-array then return index\n",
    "     Else return -1.\n",
    "*/"
   ]
  },
  {
   "cell_type": "code",
   "execution_count": 60,
   "metadata": {},
   "outputs": [],
   "source": [
    "/*\n",
    "Improved Solution:\n",
    "We can search an element in one pass of Binary Search. The idea is to search\n",
    "\n",
    "1) Find middle point mid = (l + h)/2\n",
    "2) If key is present at middle point, return mid.\n",
    "3) Else If arr[l..mid] is sorted\n",
    "    a) If key to be searched lies in range from arr[l]\n",
    "       to arr[mid], recur for arr[l..mid].\n",
    "    b) Else recur for arr[mid+1..h]\n",
    "4) Else (arr[mid+1..h] must be sorted)\n",
    "    a) If key to be searched lies in range from arr[mid+1]\n",
    "       to arr[h], recur for arr[mid+1..h].\n",
    "    b) Else recur for arr[l..mid] \n",
    "Below is the implementation of above idea :\n",
    "*/"
   ]
  },
  {
   "cell_type": "code",
   "execution_count": 61,
   "metadata": {},
   "outputs": [],
   "source": [
    "// Returns index of key in arr[l..h]  \n",
    "// if key is present, otherwise returns -1 \n",
    "static int search(int arr[], int l, int h, int key) \n",
    "{ \n",
    "    if (l > h)  \n",
    "        return -1; \n",
    "\n",
    "    int mid = (l+h)/2; \n",
    "    if (arr[mid] == key) \n",
    "        return mid; \n",
    "\n",
    "    /* If arr[l...mid] first subarray is sorted */\n",
    "    if (arr[l] <= arr[mid]) \n",
    "    { \n",
    "        /* As this subarray is sorted, we  \n",
    "           can quickly check if key lies in  \n",
    "           half or other half */\n",
    "        if (key >= arr[l] && key <= arr[mid]) \n",
    "           return search(arr, l, mid-1, key); \n",
    "        /*If key not lies in first half subarray,  \n",
    "       Divide other half  into two subarrays, \n",
    "       such that we can quickly check if key lies  \n",
    "       in other half */\n",
    "        return search(arr, mid+1, h, key); \n",
    "    } \n",
    "\n",
    "    /* If arr[l..mid] first subarray is not sorted,  \n",
    "       then arr[mid... h] must be sorted subarry*/\n",
    "    if (key >= arr[mid] && key <= arr[h]) \n",
    "        return search(arr, mid+1, h, key); \n",
    "\n",
    "    return search(arr, l, mid-1, key); \n",
    "} "
   ]
  },
  {
   "cell_type": "code",
   "execution_count": 62,
   "metadata": {},
   "outputs": [
    {
     "name": "stdout",
     "output_type": "stream",
     "text": [
      "Index: 2\n"
     ]
    }
   ],
   "source": [
    "int arr[] = {4, 5, 6, 7, 8, 9, 1, 2, 3}; \n",
    "int n = arr.length; \n",
    "int key = 6; \n",
    "int i = search(arr, 0, n-1, key); \n",
    "if (i != -1)  \n",
    "    System.out.println(\"Index: \" + i); \n",
    "else\n",
    "    System.out.println(\"Key not found\"); "
   ]
  },
  {
   "cell_type": "markdown",
   "metadata": {},
   "source": [
    "## **14. Given a sorted and rotated array, find if there is a pair with a given sum**\n",
    "https://www.geeksforgeeks.org/given-a-sorted-and-rotated-array-find-if-there-is-a-pair-with-a-given-sum/"
   ]
  },
  {
   "cell_type": "code",
   "execution_count": 63,
   "metadata": {},
   "outputs": [],
   "source": [
    "/*\n",
    "Given an array that is sorted and then rotated around an unknown point. \n",
    "Find if the array has a pair with a given sum ‘x’. It may be assumed that all elements in the array are distinct.\n",
    "Examples :\n",
    "\n",
    "Input: arr[] = {11, 15, 6, 8, 9, 10}, x = 16\n",
    "Output: true\n",
    "There is a pair (6, 10) with sum 16\n",
    "\n",
    "Input: arr[] = {11, 15, 26, 38, 9, 10}, x = 35\n",
    "Output: true\n",
    "There is a pair (26, 9) with sum 35\n",
    "\n",
    "Input: arr[] = {11, 15, 26, 38, 9, 10}, x = 45\n",
    "Output: false\n",
    "There is no pair with sum 45.\n",
    "*/"
   ]
  },
  {
   "cell_type": "code",
   "execution_count": 64,
   "metadata": {},
   "outputs": [],
   "source": [
    "/*\n",
    "The idea is to first find the largest element in array which is the pivot point also and the element just after largest is the smallest element. \n",
    "Once we have indexes largest and smallest elements, we use similar meet in middle algorithm (as discussed here in method 1) to find if there is a pair. \n",
    "The only thing new here is indexes are incremented and decremented in rotational manner using modular arithmetic.\n",
    "*/"
   ]
  },
  {
   "cell_type": "code",
   "execution_count": 65,
   "metadata": {},
   "outputs": [],
   "source": [
    "/*\n",
    "METHOD 1 (Use Sorting)\n",
    "\n",
    "Algorithm :\n",
    "\n",
    "hasArrayTwoCandidates (A[], ar_size, sum)\n",
    "1) Sort the array in non-decreasing order.\n",
    "2) Initialize two index variables to find the candidate \n",
    "   elements in the sorted array.\n",
    "       (a) Initialize first to the leftmost index: l = 0\n",
    "       (b) Initialize second  the rightmost index:  r = ar_size-1\n",
    "3) Loop while l < r.\n",
    "       (a) If (A[l] + A[r] == sum)  then return 1\n",
    "       (b) Else if( A[l] + A[r] <  sum )  then l++\n",
    "       (c) Else r--    \n",
    "4) No candidates in whole array - return 0\n",
    "*/"
   ]
  },
  {
   "cell_type": "code",
   "execution_count": 66,
   "metadata": {},
   "outputs": [],
   "source": [
    "/*\n",
    "How to count all pairs having sum x?\n",
    "The stepwise algo is:\n",
    "\n",
    "1. Find the pivot element of the sorted and the rotated array. The pivot element is the largest element in the array. The smallest element will be adjacent to it.\n",
    "2. Use two pointers (say left and right) with the left pointer pointing to the smallest element and the right pointer pointing to largest element.\n",
    "3. Find the sum of the elements pointed by both the pointers.\n",
    "4. If the sum is equal to x, then increment the count. If the sum is less than x, then to increase sum move the left pointer to next position by incrementing it in a rotational manner. \n",
    "   If the sum is greater than x, then to decrease sum move the right pointer to next position by decrementing it in rotational manner.\n",
    "5. Repeat step 3 and 4 until the left pointer is not equal to the right pointer or until the left pointer is not equal to right pointer – 1.\n",
    "6. Print final count.\n",
    "*/"
   ]
  },
  {
   "cell_type": "code",
   "execution_count": 67,
   "metadata": {},
   "outputs": [],
   "source": [
    "static int pairsInSortedRotated(int arr[],  \n",
    "                                int n, int x) \n",
    "{ \n",
    "    // Find the pivot element.  \n",
    "    // Pivot element is largest  \n",
    "    // element of array. \n",
    "    int i; \n",
    "    for (i = 0; i < n - 1; i++) \n",
    "        if (arr[i] > arr[i + 1]) \n",
    "            break; \n",
    "      \n",
    "    // l is index of \n",
    "    // smallest element. \n",
    "    int l = (i + 1) % n;  \n",
    "      \n",
    "    // r is index of  \n",
    "    // largest element. \n",
    "    int r = i; \n",
    "      \n",
    "    // Variable to store \n",
    "    // count of number \n",
    "    // of pairs. \n",
    "    int cnt = 0; \n",
    "  \n",
    "    // Find sum of pair  \n",
    "    // formed by arr[l]  \n",
    "    // and arr[r] and  \n",
    "    // update l, r and  \n",
    "    // cnt accordingly. \n",
    "    while (l != r) \n",
    "    { \n",
    "        // If we find a pair with  \n",
    "        // sum x, then increment  \n",
    "        // cnt, move l and r to  \n",
    "        // next element. \n",
    "        if (arr[l] + arr[r] == x) \n",
    "        { \n",
    "            cnt++; \n",
    "              \n",
    "            // This condition is required  \n",
    "            // to be checked, otherwise  \n",
    "            // l and r will cross each  \n",
    "            // other and loop will never  \n",
    "            // terminate. \n",
    "            if(l == (r - 1 + n) % n) \n",
    "            { \n",
    "                return cnt; \n",
    "            } \n",
    "              \n",
    "            l = (l + 1) % n; \n",
    "            r = (r - 1 + n) % n; \n",
    "        } \n",
    "  \n",
    "        // If current pair sum  \n",
    "        // is less, move to  \n",
    "        // the higher sum side. \n",
    "        else if (arr[l] + arr[r] < x) \n",
    "            l = (l + 1) % n; \n",
    "          \n",
    "        // If current pair sum  \n",
    "        // is greater, move  \n",
    "        // to the lower sum side. \n",
    "        else\n",
    "            r = (n + r - 1) % n; \n",
    "    } \n",
    "      \n",
    "    return cnt; \n",
    "} "
   ]
  },
  {
   "cell_type": "code",
   "execution_count": 68,
   "metadata": {},
   "outputs": [
    {
     "name": "stdout",
     "output_type": "stream",
     "text": [
      "2\n"
     ]
    }
   ],
   "source": [
    "public static void main (String[] args)  \n",
    "{ \n",
    "    int arr[] = {11, 15, 6, 7, 9, 10}; \n",
    "    int sum = 16; \n",
    "    int n = arr.length; \n",
    "  \n",
    "    System.out.println( \n",
    "            pairsInSortedRotated(arr, n, sum)); \n",
    "} \n",
    "\n",
    "main(args)"
   ]
  },
  {
   "cell_type": "markdown",
   "metadata": {},
   "source": [
    "## **15. Maximum sum of i*arr[i] among all rotations of a given array**\n",
    "https://www.geeksforgeeks.org/maximum-sum-iarri-among-rotations-given-array/"
   ]
  },
  {
   "cell_type": "code",
   "execution_count": 69,
   "metadata": {},
   "outputs": [],
   "source": [
    "/*\n",
    "Given an array arr[] of n integers, find the maximum that maximizes the sum of the value of i*arr[i] where i varies from 0 to n-1.\n",
    "\n",
    "Examples :\n",
    "\n",
    "Input : arr[] = {8, 3, 1, 2}\n",
    "Output : 29\n",
    "Explanation : Let us see all rotations\n",
    "{8, 3, 1, 2} = 8*0 + 3*1 + 1*2 + 2*3 = 11\n",
    "{3, 1, 2, 8} = 3*0 + 1*1 + 2*2 + 8*3 = 29\n",
    "{1, 2, 8, 3} = 1*0 + 2*1 + 8*2 + 3*3 = 27\n",
    "{2, 8, 3, 1} = 2*0 + 8*1 + 3*2 + 1*1 = 17\n",
    "\n",
    "Input : arr[] = {3, 2, 1}\n",
    "Output : 7\n",
    "*/"
   ]
  },
  {
   "cell_type": "code",
   "execution_count": 70,
   "metadata": {},
   "outputs": [],
   "source": [
    "/*\n",
    "Method 1 (Naive Solution : O(n2) )\n",
    "A simple solution is to try all possible rotations. Compute sum of i*arr[i] for every rotation and return maximum sum. \n",
    "*/"
   ]
  },
  {
   "cell_type": "code",
   "execution_count": 71,
   "metadata": {},
   "outputs": [],
   "source": [
    "/*\n",
    "Method 2 (Efficient Solution : O(n) )\n",
    "The idea is to compute value of a rotation using value of previous rotation. \n",
    "When we rotate an array by one, following changes happen in sum of i*arr[i].\n",
    "1) Multiplier of arr[i-1] changes from 0 to n-1, i.e., arr[i-1] * (n-1) is added to current value.\n",
    "2) Multipliers of other terms is decremented by 1. i.e., (cum_sum – arr[i-1]) is subtracted from current value where cum_sum is sum of all numbers.\n",
    "\n",
    "next_val = curr_val - (cum_sum - arr[i-1]) + arr[i-1] * (n-1);\n",
    "\n",
    "next_val = Value of &Sum;i*arr[i] after one rotation.\n",
    "curr_val = Current value of &Sum;i*arr[i] \n",
    "cum_sum = Sum of all array elements, i.e., &Sum;arr[i].\n",
    "\n",
    "Lets take example {1, 2, 3}. Current value is 1*0+2*1+3*2\n",
    "= 8. Shifting it by one will make it {2, 3, 1} and next value\n",
    "will be 8 - (6 - 1) + 1*2 = 5 which is same as 2*0 + 3*1 + 1*2\n",
    "*/"
   ]
  },
  {
   "cell_type": "code",
   "execution_count": 72,
   "metadata": {},
   "outputs": [
    {
     "name": "stdout",
     "output_type": "stream",
     "text": [
      "29\n"
     ]
    }
   ],
   "source": [
    "static int maxSum(int arr[], int n) \n",
    "{ \n",
    "    // Compute sum of all array elements \n",
    "    int cum_sum = 0; \n",
    "    for (int i = 0; i < n; i++) \n",
    "        cum_sum += arr[i]; \n",
    "\n",
    "    // Compute sum of i*arr[i] for  \n",
    "    // initial configuration. \n",
    "    int curr_val = 0; \n",
    "    for (int i = 0; i < n; i++) \n",
    "        curr_val += i * arr[i]; \n",
    "\n",
    "    // Initialize result \n",
    "    int res = curr_val; \n",
    "\n",
    "    // Compute values for other iterations \n",
    "    for (int i = 1; i < n; i++) \n",
    "    { \n",
    "        // Compute next value using previous \n",
    "        // value in O(1) time \n",
    "        int next_val = curr_val - (cum_sum - \n",
    "                      arr[i-1]) + arr[i-1] * \n",
    "                      (n-1); \n",
    "\n",
    "        // Update current value \n",
    "        curr_val = next_val; \n",
    "\n",
    "        // Update result if required \n",
    "        res = Math.max(res, next_val); \n",
    "    } \n",
    "\n",
    "    return res; \n",
    "}\n",
    "public static void main(String[] args) \n",
    "{ \n",
    "    int arr[] = {8, 3, 1, 2}; \n",
    "    int n = arr.length; \n",
    "    System.out.println(maxSum(arr, n)); \n",
    "} \n",
    "main(args)\n",
    "    "
   ]
  },
  {
   "cell_type": "code",
   "execution_count": 73,
   "metadata": {},
   "outputs": [],
   "source": [
    "/*\n",
    "Method 3 (Using pivot: O(n) ):\n",
    "\n",
    "The pivot method can be used if the array is a sorted array or a rotated sorted array.\n",
    "For example: {1, 2, 3, 4} or {2, 3, 4, 1}, {3, 4, 1, 2} etc.\n",
    "\n",
    "Below is the implementation using pivot.\n",
    "*/"
   ]
  },
  {
   "cell_type": "code",
   "execution_count": 74,
   "metadata": {},
   "outputs": [
    {
     "name": "stdout",
     "output_type": "stream",
     "text": [
      "29\n"
     ]
    }
   ],
   "source": [
    "class Problem_15\n",
    "{ \n",
    "  \n",
    "    // function definition  \n",
    "    static int maxSum(int arr[], int n)  \n",
    "    { \n",
    "        int sum = 0; \n",
    "        int i; \n",
    "        int pivot = findPivot(arr, n); \n",
    "\n",
    "        // difference in pivot and index of \n",
    "        // last element of array \n",
    "        int diff = n - 1 - pivot;  \n",
    "        for(i = 0; i < n; i++) \n",
    "        {  \n",
    "            sum= sum + ((i + diff) % n) * arr[i]; \n",
    "        } \n",
    "        return sum; \n",
    "    } \n",
    "\n",
    "    // function to find pivot \n",
    "    static int findPivot(int arr[], int n) \n",
    "    { \n",
    "        int i; \n",
    "        for(i = 0; i < n; i++) \n",
    "        { \n",
    "            if(arr[i] > arr[(i + 1) % n]) \n",
    "                return i; \n",
    "        } \n",
    "        return 0; \n",
    "    } \n",
    "\n",
    "    // Driver code \n",
    "    public static void main(String args[]) \n",
    "    { \n",
    "        // rotated input array \n",
    "        int arr[] = {8, 3, 1, 2};  \n",
    "        int n = arr.length; \n",
    "        int max = maxSum(arr,n);  \n",
    "        System.out.println(max); \n",
    "\n",
    "    } \n",
    "} \n",
    "Problem_15.main(args)"
   ]
  },
  {
   "cell_type": "code",
   "execution_count": null,
   "metadata": {},
   "outputs": [],
   "source": []
  }
 ],
 "metadata": {
  "kernelspec": {
   "display_name": "Java",
   "language": "java",
   "name": "java"
  },
  "language_info": {
   "codemirror_mode": "java",
   "file_extension": ".jshell",
   "mimetype": "text/x-java-source",
   "name": "Java",
   "pygments_lexer": "java",
   "version": "11.0.6+8-LTS"
  }
 },
 "nbformat": 4,
 "nbformat_minor": 2
}
