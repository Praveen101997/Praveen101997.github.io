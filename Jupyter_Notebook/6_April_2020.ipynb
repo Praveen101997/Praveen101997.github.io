{
 "cells": [
  {
   "cell_type": "markdown",
   "metadata": {},
   "source": [
    "**------------------------Questions Covered-----------------------------**"
   ]
  },
  {
   "cell_type": "markdown",
   "metadata": {},
   "source": [
    "**12\t\n",
    "Order Statistics & Heap & Hash\n",
    "https://www.geeksforgeeks.org/k-largestor-smallest-elements-in-an-array/\tPep_JavaIP_12OrderStatsHeapHash_392KthLargest\n",
    "12\t\n",
    "Order Statistics & Heap & Hash\n",
    "https://www.geeksforgeeks.org/next-greater-element/\tPep_JavaIP_12OrderStatsHeapHash_393NextGreaterElement\t\t\t\t\t\t\t\t\t\t\t\t\t\t\t\t\t\t\t\t\t\t\t\t\n",
    "12\t\n",
    "Order Statistics & Heap & Hash\n",
    "https://www.geeksforgeeks.org/kth-smallestlargest-element-unsorted-array/\tPep_JavaIP_12OrderStatsHeapHash_394KLargeNumbers\t\t\t\t\t\t\t\t\t\t\t\t\t\t\t\t\t\t\t\t\t\t\t\t\n",
    "12\t\n",
    "Order Statistics & Heap & Hash\n",
    "https://www.geeksforgeeks.org/sliding-window-maximum-maximum-of-all-subarrays-of-size-k/\tPep_JavaIP_12OrderStatsHeapHash_395SlidingWindowMaximum\t\t\t\t\t\t\t\t\t\t\t\t\t\t\t\t\t\t\t\t\t\t\t\t\n",
    "12\t\n",
    "Order Statistics & Heap & Hash\n",
    "https://www.geeksforgeeks.org/find-the-smallest-positive-number-missing-from-an-unsorted-array/\tPep_JavaIP_12OrderStatsHeapHash_396SmallestPositiveNumber\t\t\t\t\t\t\t\t\t\t\t\t\t\t\t\t\t\t\t\t\t\t\t\t\n",
    "12\t\n",
    "Order Statistics & Heap & Hash\n",
    "https://www.geeksforgeeks.org/find-the-maximum-repeating-number-in-ok-time/\tPep_JavaIP_12OrderStatsHeapHash_397MaximumRepeatingNumber\t\t\t\t\t\t\t\t\t\t\t\t\t\t\t\t\t\t\t\t\t\t\t\t\n",
    "12\t\n",
    "Order Statistics & Heap & Hash\n",
    "https://www.geeksforgeeks.org/online-algorithm-for-checking-palindrome-in-a-stream/\tPep_JavaIP_12OrderStatsHeapHash_398OnlineAlgoPalindrome\t\t\t\t\t\t\t\t\t\t\t\t\t\t\t\t\t\t\t\t\t\t\t\t\n",
    "12\t\n",
    "Order Statistics & Heap & Hash\n",
    "https://www.geeksforgeeks.org/kth-largest-element-in-a-stream/\tPep_JavaIP_12OrderStatsHeapHash_399KthLargestInStream\t\t\t\t\t\t\t\t\t\t\t\t\t\t\t\t\t\t\t\t\t\t\t\t\n",
    "12\t\n",
    "Order Statistics & Heap & Hash\n",
    "https://www.geeksforgeeks.org/k-th-smallest-element-removing-integers-natural-numbers/\tPep_JavaIP_12OrderStatsHeapHash_400KthSmallestElement\t\t\t\t\t\t\t\t\t\t\t\t\t\t\t\t\t\t\t\t\t\t\t\t\n",
    "12\t\n",
    "Order Statistics & Heap & Hash\n",
    "https://www.geeksforgeeks.org/find-surpasser-count-of-each-element-in-array/\tPep_JavaIP_12OrderStatsHeapHash_401SurpasserCountOfEachElement\t\t\t\t\t\t\t\t\t\t\t\t\t\t\t\t\t\t\t\t\t\t\t\t\n",
    "12\t\n",
    "Order Statistics & Heap & Hash\n",
    "https://www.geeksforgeeks.org/a-pancake-sorting-question/\tPep_JavaIP_12OrderStatsHeapHash_402PancakeSorting\t\t\t\t\t\t\t\t\t\t\t\t\t\t\t\t\t\t\t\t\t\t\t\t\n",
    "12\t\n",
    "Order Statistics & Heap & Hash\n",
    "https://www.geeksforgeeks.org/k-numbers-difference-maximum-minimum-k-number-minimized/\tPep_JavaIP_12OrderStatsHeapHash_403KMaxMin\t\t\t\t\t\t\t\t\t\t\t\t\t\t\t\t\t\t\t\t\t\t\t\t\n",
    "12\t\n",
    "Order Statistics & Heap & Hash\n",
    "https://www.geeksforgeeks.org/find-k-closest-elements-given-value/\tPep_JavaIP_12OrderStatsHeapHash_404KClosestElements\t\t\t\t\t\t\t\t\t\t\t\t\t\t\t\t\t\t\t\t\t\t\t\t\n",
    "12\t\n",
    "Order Statistics & Heap & Hash\n",
    "https://www.geeksforgeeks.org/tournament-tree-and-binary-heap/\tPep_JavaIP_12OrderStatsHeapHash_405TournamentTree\tbreaker\t\t\t\t\t\t\t\t\t\t\t\t\t\t\t\t\t\t\t\t\t\t\t\n",
    "12\t\n",
    "Order Statistics & Heap & Hash\n",
    "https://www.geeksforgeeks.org/connect-n-ropes-minimum-cost/\tPep_JavaIP_12OrderStatsHeapHash_406JoinRopes\t\t\t\t\t\t\t\t\t\t\t\t\t\t\t\t\t\t\t\t\t\t\t\t\n",
    "12\t\n",
    "Order Statistics & Heap & Hash\n",
    "https://www.geeksforgeeks.org/a-data-structure-question/\talgorithm designing**\n"
   ]
  },
  {
   "cell_type": "code",
   "execution_count": 1,
   "metadata": {},
   "outputs": [],
   "source": [
    "import java.util.*;\n",
    "import java.io.*;\n",
    "String[] args =new String[0];"
   ]
  },
  {
   "cell_type": "markdown",
   "metadata": {},
   "source": [
    "## **390. k largest(or smallest) elements in an array | added Min Heap method**\n",
    "https://www.geeksforgeeks.org/k-largestor-smallest-elements-in-an-array/"
   ]
  },
  {
   "cell_type": "code",
   "execution_count": 2,
   "metadata": {},
   "outputs": [],
   "source": [
    "/*\n",
    "Question: \n",
    "Write an efficient program for printing k largest elements in an array. \n",
    "Elements in array can be in any order.\n",
    "*/"
   ]
  },
  {
   "cell_type": "code",
   "execution_count": 3,
   "metadata": {},
   "outputs": [],
   "source": [
    "/*\n",
    "For example, \n",
    "if given array is [1, 23, 12, 9, 30, 2, 50] and \n",
    "you are asked for the largest 3 elements i.e., k = 3 then your program should print 50, 30 and 23.\n",
    "*/"
   ]
  },
  {
   "cell_type": "code",
   "execution_count": 4,
   "metadata": {},
   "outputs": [],
   "source": [
    "public String findKLargest(int[] nums, int k) {\n",
    "\n",
    "    //we will remove n-k smaller elements and at the end kth largest will be there.\n",
    "    PriorityQueue<Integer> min_heap=new PriorityQueue<Integer>(Comparator.reverseOrder());\n",
    "    int[] out = new int[k];\n",
    "    int count = 0;\n",
    "    for(int i=0;i<nums.length;i++)\n",
    "    {\n",
    "        min_heap.add(nums[i]); //add element;\n",
    "    }\n",
    "    while(k-->0){\n",
    "        out[count++] = min_heap.poll(); //remove the smallest element;\n",
    "    }\n",
    "    \n",
    "    return Arrays.toString(out);\n",
    "\n",
    "}"
   ]
  },
  {
   "cell_type": "code",
   "execution_count": 5,
   "metadata": {},
   "outputs": [
    {
     "name": "stdout",
     "output_type": "stream",
     "text": [
      "[50, 30, 23]\n"
     ]
    }
   ],
   "source": [
    "public static void main(String[] args){\n",
    "    int[] arr = {1, 23, 12, 9, 30, 2, 50};\n",
    "    int k = 3;\n",
    "    System.out.println(findKLargest(arr,k));\n",
    "}\n",
    "main(args);"
   ]
  },
  {
   "cell_type": "code",
   "execution_count": 6,
   "metadata": {},
   "outputs": [],
   "source": [
    "/*\n",
    "For Other Methods View Quesion Link\n",
    "*/"
   ]
  },
  {
   "cell_type": "markdown",
   "metadata": {},
   "source": [
    "## **391. Next Greater Element**\n",
    "https://www.geeksforgeeks.org/next-greater-element/"
   ]
  },
  {
   "cell_type": "code",
   "execution_count": 7,
   "metadata": {},
   "outputs": [],
   "source": [
    "/*\n",
    "Given an array, \n",
    "print the Next Greater Element (NGE) for every element.\n",
    "The Next greater Element for an element x is the first greater element on the right side of x in array.\n",
    "Elements for which no greater element exist, consider next greater element as -1.\n",
    "*/"
   ]
  },
  {
   "cell_type": "code",
   "execution_count": 8,
   "metadata": {},
   "outputs": [],
   "source": [
    "/*\n",
    "Examples:\n",
    "\n",
    "1. For any array, rightmost element always has next greater element as -1.\n",
    "2. For an array which is sorted in decreasing order, all elements have next greater element as -1.\n",
    "3. For the input array [4, 5, 2, 25}, the next greater elements for each element are as follows.\n",
    "\n",
    "Element       NGE\n",
    "   4      -->   5\n",
    "   5      -->   25\n",
    "   2      -->   25\n",
    "   25     -->   -1\n",
    "   \n",
    "4. For the input array [13, 7, 6, 12}, the next greater elements for each element are as follows.\n",
    "\n",
    "  Element        NGE\n",
    "   13      -->    -1\n",
    "   7       -->     12\n",
    "   6       -->     12\n",
    "   12      -->     -1\n",
    "*/"
   ]
  },
  {
   "cell_type": "code",
   "execution_count": 9,
   "metadata": {},
   "outputs": [],
   "source": [
    "/*\n",
    "Method 1 (Simple)\n",
    "Time Complexity: O(n^2). The worst case occurs when all elements are sorted in decreasing order.\n",
    "\n",
    "Use two loops: \n",
    "    The outer loop picks all the elements one by one. \n",
    "    The inner loop looks for the first greater element for the element picked by the outer loop. \n",
    "    If a greater element is found \n",
    "        then that element is printed as next, \n",
    "    otherwise \n",
    "        -1 is printed.\n",
    "*/"
   ]
  },
  {
   "cell_type": "code",
   "execution_count": 10,
   "metadata": {},
   "outputs": [],
   "source": [
    "/*\n",
    "Method 2 (Using Stack)\n",
    "Time Complexity: O(n).\n",
    "\n",
    "-- Push the first element to stack.\n",
    "-- Pick rest of the elements one by one and follow the following steps in loop.\n",
    "    1. Mark the current element as next.\n",
    "    2. If stack is not empty, compare top element of stack with next.\n",
    "    3. If next is greater than the top element,\n",
    "            Pop element from stack. \n",
    "        next is the next greater element for the popped element.\n",
    "    4. Keep popping from the stack while the popped element is smaller than next. \n",
    "        next becomes the next greater element for all such popped elements\n",
    "-- Finally, push the next in the stack.\n",
    "-- After the loop in step 2 is over, pop all the elements from stack and print -1 as next element for them.\n",
    "*/"
   ]
  },
  {
   "cell_type": "markdown",
   "metadata": {},
   "source": [
    "<img src = \"https://media.geeksforgeeks.org/wp-content/cdn-uploads/20190626132057/NextGreaterElement-949x1024.png\"/>"
   ]
  },
  {
   "cell_type": "code",
   "execution_count": 11,
   "metadata": {},
   "outputs": [],
   "source": [
    "static class stack  \n",
    "{ \n",
    "    int top; \n",
    "    int items[] = new int[100]; \n",
    "\n",
    "    // Stack functions to be used by printNGE \n",
    "    void push(int x)  \n",
    "    { \n",
    "        if (top == 99)  \n",
    "        { \n",
    "            System.out.println(\"Stack full\"); \n",
    "        }  \n",
    "        else \n",
    "        { \n",
    "            items[++top] = x; \n",
    "        } \n",
    "    } \n",
    "\n",
    "    int pop()  \n",
    "    { \n",
    "        if (top == -1)  \n",
    "        { \n",
    "            System.out.println(\"Underflow error\"); \n",
    "            return -1; \n",
    "        }  \n",
    "        else \n",
    "        { \n",
    "            int element = items[top]; \n",
    "            top--; \n",
    "            return element; \n",
    "        } \n",
    "    } \n",
    "\n",
    "    boolean isEmpty()  \n",
    "    { \n",
    "        return (top == -1) ? true : false; \n",
    "    } \n",
    "} "
   ]
  },
  {
   "cell_type": "code",
   "execution_count": 12,
   "metadata": {},
   "outputs": [],
   "source": [
    "/* prints element and NGE pair for  \n",
    "   all elements of arr[] of size n */\n",
    "static void printNGE(int arr[], int n)  \n",
    "{ \n",
    "    int i = 0; \n",
    "    stack s = new stack(); \n",
    "    s.top = -1; \n",
    "    int element, next; \n",
    "\n",
    "    /* push the first element to stack */\n",
    "    s.push(arr[0]); \n",
    "\n",
    "    // iterate for rest of the elements \n",
    "    for (i = 1; i < n; i++)  \n",
    "    { \n",
    "        next = arr[i]; \n",
    "\n",
    "        if (s.isEmpty() == false)  \n",
    "        { \n",
    "\n",
    "            // if stack is not empty, then  \n",
    "            // pop an element from stack \n",
    "            element = s.pop(); \n",
    "\n",
    "            /* If the popped element is smaller than  \n",
    "               next, then a) print the pair b) keep  \n",
    "               popping while elements are smaller and  \n",
    "               stack is not empty */\n",
    "            while (element < next)  \n",
    "            { \n",
    "                System.out.println(element + \" --> \" + next); \n",
    "                if (s.isEmpty() == true) \n",
    "                    break; \n",
    "                element = s.pop(); \n",
    "            } \n",
    "\n",
    "            /* If element is greater than next, then  \n",
    "               push the element back */\n",
    "            if (element > next) \n",
    "                s.push(element); \n",
    "        } \n",
    "\n",
    "        /* push next to stack so that we can find next \n",
    "           greater for it */\n",
    "        s.push(next); \n",
    "    } \n",
    "\n",
    "    /* After iterating over the loop, the remaining  \n",
    "       elements in stack do not have the next greater  \n",
    "       element, so print -1 for them */\n",
    "    while (s.isEmpty() == false)  \n",
    "    { \n",
    "        element = s.pop(); \n",
    "        next = -1; \n",
    "        System.out.println(element + \" -- \" + next); \n",
    "    } \n",
    "} "
   ]
  },
  {
   "cell_type": "code",
   "execution_count": 13,
   "metadata": {},
   "outputs": [
    {
     "name": "stdout",
     "output_type": "stream",
     "text": [
      "11 --> 13\n",
      "13 --> 21\n",
      "3 -- -1\n",
      "21 -- -1\n"
     ]
    }
   ],
   "source": [
    "public static void main(String[] args)  \n",
    "{ \n",
    "    int arr[] = { 11, 13, 21, 3 }; \n",
    "    int n = arr.length; \n",
    "    printNGE(arr, n); \n",
    "} \n",
    "main(args);"
   ]
  },
  {
   "cell_type": "code",
   "execution_count": 14,
   "metadata": {},
   "outputs": [],
   "source": [
    "/*\n",
    "The worst case occurs when all elements are sorted in decreasing order.\n",
    "If elements are sorted in decreasing order,\n",
    "    then every element is processed at most 4 times.\n",
    "\n",
    "1. Initially pushed to the stack.\n",
    "2. Popped from the stack when next element is being processed.\n",
    "3. Pushed back to the stack because the next element is smaller.\n",
    "4. Popped from the stack in step 3 of algorithm.\n",
    "*/"
   ]
  },
  {
   "cell_type": "markdown",
   "metadata": {},
   "source": [
    "**Related Link :**   ***https://www.geeksforgeeks.org/next-greater-element-in-same-order-as-input/***"
   ]
  },
  {
   "cell_type": "markdown",
   "metadata": {},
   "source": [
    "***https://youtu.be/sgelJuvX1bU***"
   ]
  },
  {
   "cell_type": "markdown",
   "metadata": {},
   "source": [
    "## **392. K’th Smallest/Largest Element in Unsorted Array | Set 1**\n",
    "https://www.geeksforgeeks.org/kth-smallestlargest-element-unsorted-array/"
   ]
  },
  {
   "cell_type": "code",
   "execution_count": 15,
   "metadata": {},
   "outputs": [],
   "source": [
    "/*\n",
    "Given an array and a number k where k is smaller than size of array, \n",
    "we need to find the k’th smallest element in the given array. \n",
    "It is given that ll array elements are distinct.\n",
    "*/"
   ]
  },
  {
   "cell_type": "code",
   "execution_count": 16,
   "metadata": {},
   "outputs": [],
   "source": [
    "/*\n",
    "Examples:\n",
    "\n",
    "Input: arr[] = {7, 10, 4, 3, 20, 15}\n",
    "k = 3\n",
    "Output: 7\n",
    "\n",
    "Input: arr[] = {7, 10, 4, 3, 20, 15}\n",
    "k = 4\n",
    "Output: 10\n",
    "*/"
   ]
  },
  {
   "cell_type": "code",
   "execution_count": 17,
   "metadata": {},
   "outputs": [],
   "source": [
    "/*\n",
    "Method 1 (Simple Solution)\n",
    "A simple solution is to sort the given array using a O(N log N) sorting algorithm like Merge Sort, Heap Sort, etc \n",
    "and return the element at index k-1 in the sorted array.\n",
    "\n",
    "Time Complexity of this solution is O(N Log N)\n",
    "*/"
   ]
  },
  {
   "cell_type": "code",
   "execution_count": 18,
   "metadata": {},
   "outputs": [
    {
     "name": "stdout",
     "output_type": "stream",
     "text": [
      "K'th smallest element is 5"
     ]
    }
   ],
   "source": [
    "// Function to return k'th smallest  \n",
    "// element in a given array \n",
    "public static int kthSmallest(Integer [] arr,  \n",
    "                                     int k)  \n",
    "{ \n",
    "    // Sort the given array \n",
    "    Arrays.sort(arr); \n",
    "\n",
    "    // Return k'th element in  \n",
    "    // the sorted array \n",
    "    return arr[k-1]; \n",
    "}  \n",
    "\n",
    "// driver program \n",
    "public static void main(String[] args)  \n",
    "{ \n",
    "    Integer arr[] = new Integer[]{12, 3, 5, 7, 19}; \n",
    "    int k = 2; \n",
    "    System.out.print( \"K'th smallest element is \"+ \n",
    "                        kthSmallest(arr, k) );      \n",
    "} \n",
    "main(args);"
   ]
  },
  {
   "cell_type": "code",
   "execution_count": 19,
   "metadata": {},
   "outputs": [],
   "source": [
    "/*\n",
    "Method 4 (QuickSelect)\n",
    "\n",
    "This is an optimization over method 1 if QuickSort is used as a sorting algorithm in first step.\n",
    "In QuickSort, \n",
    "    we pick a pivot element, \n",
    "    then move the pivot element to its correct position \n",
    "    and partition the array around it. \n",
    "\n",
    "The idea is, not to do complete quicksort,\n",
    "but stop at the point where pivot itself is k’th smallest element.\n",
    "Also, not to recur for both left and right sides of pivot, \n",
    "    but recur for one of them according to the position of pivot. \n",
    "    \n",
    "The worst case time complexity of this method is O(n^2), \n",
    "but it works in O(n) on average.\n",
    "*/"
   ]
  },
  {
   "cell_type": "code",
   "execution_count": 20,
   "metadata": {},
   "outputs": [],
   "source": [
    "// Standard partition process of QuickSort.  \n",
    "// It considers the last element as pivot  \n",
    "// and moves all smaller element to left of \n",
    "// it and greater elements to right \n",
    "public static int partition(Integer [] arr, int l,  \n",
    "                                           int r) \n",
    "{ \n",
    "    int x = arr[r], i = l; \n",
    "    for (int j = l; j <= r - 1; j++) \n",
    "    { \n",
    "        if (arr[j] <= x) \n",
    "        { \n",
    "            //Swapping arr[i] and arr[j] \n",
    "            int temp = arr[i]; \n",
    "            arr[i] = arr[j]; \n",
    "            arr[j] = temp; \n",
    "\n",
    "            i++; \n",
    "        } \n",
    "    } \n",
    "\n",
    "    //Swapping arr[i] and arr[r] \n",
    "    int temp = arr[i]; \n",
    "    arr[i] = arr[r]; \n",
    "    arr[r] = temp; \n",
    "\n",
    "    return i; \n",
    "} "
   ]
  },
  {
   "cell_type": "code",
   "execution_count": 21,
   "metadata": {},
   "outputs": [],
   "source": [
    "// This function returns k'th smallest element  \n",
    "// in arr[l..r] using QuickSort based method.  \n",
    "// ASSUMPTION: ALL ELEMENTS IN ARR[] ARE DISTINCT \n",
    "public static int kthSmallest(Integer[] arr, int l,  \n",
    "                                     int r, int k) \n",
    "{ \n",
    "    // If k is smaller than number of elements \n",
    "    // in array \n",
    "    if (k > 0 && k <= r - l + 1) \n",
    "    { \n",
    "        // Partition the array around last  \n",
    "        // element and get position of pivot  \n",
    "        // element in sorted array \n",
    "        int pos = partition(arr, l, r); \n",
    "\n",
    "        // If position is same as k \n",
    "        if (pos-l == k-1) \n",
    "            return arr[pos]; \n",
    "\n",
    "        // If position is more, recur for \n",
    "        // left subarray \n",
    "        if (pos-l > k-1)  \n",
    "            return kthSmallest(arr, l, pos-1, k); \n",
    "\n",
    "        // Else recur for right subarray \n",
    "        return kthSmallest(arr, pos+1, r, k-pos+l-1); \n",
    "    } \n",
    "\n",
    "    // If k is more than number of elements \n",
    "    // in array \n",
    "    return Integer.MAX_VALUE; \n",
    "}"
   ]
  },
  {
   "cell_type": "code",
   "execution_count": 22,
   "metadata": {},
   "outputs": [
    {
     "name": "stdout",
     "output_type": "stream",
     "text": [
      "K'th smallest element is 5"
     ]
    }
   ],
   "source": [
    "// Driver program to test above methods  \n",
    "public static void main(String[] args) \n",
    "{ \n",
    "    Integer arr[] = new Integer[]{12, 3, 5, 7, 4, 19, 26}; \n",
    "    int k = 3; \n",
    "    System.out.print( \"K'th smallest element is \" + \n",
    "                 kthSmallest(arr, 0, arr.length - 1, k) ); \n",
    "} \n",
    "main(args);"
   ]
  },
  {
   "cell_type": "markdown",
   "metadata": {},
   "source": [
    "## **393. Sliding Window Maximum (Maximum of all subarrays of size k)**\n",
    "https://www.geeksforgeeks.org/sliding-window-maximum-maximum-of-all-subarrays-of-size-k/"
   ]
  },
  {
   "cell_type": "code",
   "execution_count": 23,
   "metadata": {},
   "outputs": [],
   "source": [
    "/*\n",
    "Given an array and an integer K, find the maximum for each and every contiguous subarray of size k.\n",
    "*/"
   ]
  },
  {
   "cell_type": "code",
   "execution_count": 24,
   "metadata": {},
   "outputs": [],
   "source": [
    "/*\n",
    "Examples :\n",
    "\n",
    "Input: arr[] = {1, 2, 3, 1, 4, 5, 2, 3, 6}, K = 3\n",
    "Output: 3 3 4 5 5 5 6\n",
    "\n",
    "Input: arr[] = {8, 5, 10, 7, 9, 4, 15, 12, 90, 13}, K = 4\n",
    "Output: 10 10 10 15 15 90 90\n",
    "*/"
   ]
  },
  {
   "cell_type": "code",
   "execution_count": 25,
   "metadata": {},
   "outputs": [],
   "source": [
    "/*\n",
    "Method 1 (Simple)\n",
    "\n",
    "Time Complexity : \n",
    "    The outer loop runs n-k+1 times and the inner loop runs k times for every iteration of outer loop. \n",
    "    So time complexity is O((n-k+1)*k) which can also be written as O(N * K).\n",
    "\n",
    "Run two loops. \n",
    "\n",
    "In the outer loop, take all subarrays of size K. \n",
    "In the inner loop, get the maximum of the current subarray.\n",
    "*/"
   ]
  },
  {
   "cell_type": "code",
   "execution_count": 26,
   "metadata": {},
   "outputs": [
    {
     "name": "stdout",
     "output_type": "stream",
     "text": [
      "3 4 5 6 7 8 9 10 "
     ]
    }
   ],
   "source": [
    "// Method to find the maximum for each and every contiguous subarray of size k. \n",
    "static void printKMax(int arr[], int n, int k) \n",
    "{ \n",
    "    int j, max; \n",
    "\n",
    "    for (int i = 0; i <= n - k; i++) { \n",
    "\n",
    "        max = arr[i]; \n",
    "\n",
    "        for (j = 1; j < k; j++) { \n",
    "            if (arr[i + j] > max) \n",
    "                max = arr[i + j]; \n",
    "        } \n",
    "        System.out.print(max + \" \"); \n",
    "    } \n",
    "} \n",
    "\n",
    "// Driver method \n",
    "public static void main(String args[]) \n",
    "{ \n",
    "    int arr[] = { 1, 2, 3, 4, 5, 6, 7, 8, 9, 10 }; \n",
    "    int k = 3; \n",
    "    printKMax(arr, arr.length, k); \n",
    "} \n",
    "main(args);"
   ]
  },
  {
   "cell_type": "code",
   "execution_count": 27,
   "metadata": {},
   "outputs": [],
   "source": [
    "/*\n",
    "Method 3 (A O(n) method: use Deque) \n",
    "\n",
    "Time Complexity: O(n). \n",
    "    It seems more than O(n) at first look. \n",
    "    If we take a closer look, we can observe that every element of array is added and removed at most once. \n",
    "    So there are total 2n operations.\n",
    "Auxiliary Space: O(k)\n",
    "\n",
    "We create a Deque, Qi of capacity k, that stores only useful elements of current window of k elements. \n",
    "An element is useful \n",
    "    if it is in current window \n",
    "    and is greater than all other elements on left side of it in current window. \n",
    "\n",
    "We process all array elements one by one and maintain Qi to contain useful elements of current window \n",
    "and these useful elements are maintained in sorted order. \n",
    "The element at front of the Qi is the largest\n",
    "and element at rear of Qi is the smallest of current window. \n",
    "*/"
   ]
  },
  {
   "cell_type": "markdown",
   "metadata": {},
   "source": [
    "<img src = \"https://media.geeksforgeeks.org/wp-content/cdn-uploads/20190626175333/SlidingWindowMaximum.png\"/>"
   ]
  },
  {
   "cell_type": "code",
   "execution_count": 28,
   "metadata": {},
   "outputs": [
    {
     "name": "stdout",
     "output_type": "stream",
     "text": [
      "78 90 90 90 89"
     ]
    }
   ],
   "source": [
    "// A Dequeue (Double ended queue) based method for printing maximum element of \n",
    "// all subarrays of size k \n",
    "static void printMax(int arr[], int n, int k) \n",
    "{ \n",
    "    // Create a Double Ended Queue, Qi that will store indexes of array elements \n",
    "    // The queue will store indexes of useful elements in every window and it will \n",
    "    // maintain decreasing order of values from front to rear in Qi, i.e., \n",
    "    // arr[Qi.front[]] to arr[Qi.rear()] are sorted in decreasing order \n",
    "    Deque<Integer> Qi = new LinkedList<Integer>(); \n",
    "\n",
    "    /* Process first k (or first window) elements of array */\n",
    "    int i; \n",
    "    for (i = 0; i < k; ++i) { \n",
    "        // For every element, the previous smaller elements are useless so \n",
    "        // remove them from Qi \n",
    "        while (!Qi.isEmpty() && arr[i] >= arr[Qi.peekLast()]) \n",
    "            Qi.removeLast(); // Remove from rear \n",
    "\n",
    "        // Add new element at rear of queue \n",
    "        Qi.addLast(i); \n",
    "    } \n",
    "\n",
    "    // Process rest of the elements, i.e., from arr[k] to arr[n-1] \n",
    "    for (; i < n; ++i) { \n",
    "        // The element at the front of the queue is the largest element of \n",
    "        // previous window, so print it \n",
    "        System.out.print(arr[Qi.peek()] + \" \"); \n",
    "\n",
    "        // Remove the elements which are out of this window \n",
    "        while ((!Qi.isEmpty()) && Qi.peek() <= i - k) \n",
    "            Qi.removeFirst(); \n",
    "\n",
    "        // Remove all elements smaller than the currently \n",
    "        // being added element (remove useless elements) \n",
    "        while ((!Qi.isEmpty()) && arr[i] >= arr[Qi.peekLast()]) \n",
    "            Qi.removeLast(); \n",
    "\n",
    "        // Add current element at the rear of Qi \n",
    "        Qi.addLast(i); \n",
    "    } \n",
    "\n",
    "    // Print the maximum element of last window \n",
    "    System.out.print(arr[Qi.peek()]); \n",
    "} \n",
    "\n",
    "// Driver program to test above functions \n",
    "public static void main(String[] args) \n",
    "{ \n",
    "    int arr[] = { 12, 1, 78, 90, 57, 89, 56 }; \n",
    "    int k = 3; \n",
    "    printMax(arr, arr.length, k); \n",
    "} \n",
    "main(args);"
   ]
  },
  {
   "cell_type": "code",
   "execution_count": 29,
   "metadata": {},
   "outputs": [],
   "source": [
    "/*\n",
    "For other Methods view question link\n",
    "*/"
   ]
  },
  {
   "cell_type": "markdown",
   "metadata": {},
   "source": [
    "## **394. Find the smallest positive number missing from an unsorted array | Set 1**\n",
    "https://www.geeksforgeeks.org/find-the-smallest-positive-number-missing-from-an-unsorted-array/"
   ]
  },
  {
   "cell_type": "markdown",
   "metadata": {},
   "source": [
    "**Related Link :**\n",
    "<br>\n",
    "***https://www.geeksforgeeks.org/find-the-smallest-positive-number-missing-from-an-unsorted-array-set-2/?ref=rp***\n",
    "<br>\n",
    "***https://www.geeksforgeeks.org/find-the-smallest-positive-number-missing-from-an-unsorted-array-set-3/?ref=rp***\n",
    "<br>\n",
    "***https://www.geeksforgeeks.org/find-the-smallest-positive-number-missing-from-an-unsorted-array-hashing-implementation/?ref=rp***"
   ]
  },
  {
   "cell_type": "code",
   "execution_count": 30,
   "metadata": {},
   "outputs": [],
   "source": [
    "/*\n",
    "Given an unsorted array with both positive and negative elements including 0. \n",
    "The task is to find the smallest positive number missing from the array in O(N) time.\n",
    "*/"
   ]
  },
  {
   "cell_type": "code",
   "execution_count": 31,
   "metadata": {},
   "outputs": [],
   "source": [
    "/*\n",
    "Examples:\n",
    "\n",
    "Input: arr[] = {-5, 2, 0, -1, -10, 15}\n",
    "Output: 1\n",
    "\n",
    "Input: arr[] = {0, 1, 2, 3, 4, 5}\n",
    "Output: 6\n",
    "\n",
    "Input: arr[] = {1, 1, 1, 0, -1, -2}\n",
    "Output: 2\n",
    "*/"
   ]
  },
  {
   "cell_type": "code",
   "execution_count": 32,
   "metadata": {},
   "outputs": [],
   "source": [
    "/*\n",
    "1. We can use hashing to solve this problem. \n",
    "2. The idea is to build a hash table of all positive elements in the given array. \n",
    "3. Once the hash table is built. \n",
    "4. We can look in the hash table for all positive integers, starting from 1.\n",
    "5. As soon as we find a number which is not there in the hash table, we return it.\n",
    "\n",
    "Time Complexity: O(N)\n",
    "Auxiliary Space: O(N)\n",
    "*/"
   ]
  },
  {
   "cell_type": "code",
   "execution_count": 33,
   "metadata": {},
   "outputs": [
    {
     "name": "stdout",
     "output_type": "stream",
     "text": [
      "Smallest positive missing number is : 2\n"
     ]
    }
   ],
   "source": [
    "// Function to find the smallest positive  \n",
    "// missing number  \n",
    "static int missingNumber(int a[], int n)  \n",
    "{ \n",
    "    // Declaring an unordered_map  \n",
    "    Map<Integer, Integer> mp = new LinkedHashMap<>(); \n",
    "\n",
    "    // if array value is positive  \n",
    "    // store it in map  \n",
    "    for (int i = 0; i < n; i++)  \n",
    "    { \n",
    "        if (a[i] > 0)  \n",
    "        { \n",
    "            mp.put(a[i], mp.get(a[i]) == null ? 1 : mp.get(a[i]) + 1); \n",
    "        } \n",
    "    } \n",
    "\n",
    "    // index value set to 1  \n",
    "    int index = 1; \n",
    "\n",
    "    // Return the first value starting  \n",
    "    // from 1 which does not exists in map  \n",
    "    while (true)  \n",
    "    { \n",
    "        if (!mp.containsKey(index))  \n",
    "        { \n",
    "            return index; \n",
    "        } \n",
    "\n",
    "        index++; \n",
    "    } \n",
    "} \n",
    "\n",
    "// Driver code  \n",
    "public static void main(String[] args)  \n",
    "{ \n",
    "    int a[] = {1, 1, 1, 0, -1, -2}; \n",
    "    int size = a.length; \n",
    "\n",
    "    System.out.println(\"Smallest positive missing number is : \"\n",
    "            + missingNumber(a, size)); \n",
    "} \n",
    "main(args);"
   ]
  },
  {
   "cell_type": "code",
   "execution_count": 34,
   "metadata": {},
   "outputs": [],
   "source": [
    "/*\n",
    "Method 2\n",
    "*/"
   ]
  },
  {
   "cell_type": "code",
   "execution_count": 35,
   "metadata": {},
   "outputs": [
    {
     "name": "stdout",
     "output_type": "stream",
     "text": [
      "4\n"
     ]
    }
   ],
   "source": [
    "// Function to find the smallest \n",
    "// positive missing number \n",
    "static int findMissingPositive(int arr[], int n) \n",
    "{ \n",
    "    // Default smallest Positive Integer \n",
    "    int m = 1; \n",
    "  \n",
    "    // Store values in set which are \n",
    "    // greater than variable m \n",
    "    HashSet<Integer> x = new HashSet<Integer>(); \n",
    "  \n",
    "    for (int i = 0; i < n; i++) \n",
    "    { \n",
    "        // Store value when m is less than \n",
    "        // current index of given array \n",
    "        if (m < arr[i]) \n",
    "        { \n",
    "            x.add(arr[i]); \n",
    "        } \n",
    "        else if (m == arr[i]) \n",
    "        { \n",
    "            // Increment m when it is equal \n",
    "            // to current element \n",
    "            m = m + 1; \n",
    "  \n",
    "            while (x.contains(m))  \n",
    "            { \n",
    "                x.remove(m); \n",
    "  \n",
    "                // Increment m when it is one of the \n",
    "                // element of the set \n",
    "                m = m + 1; \n",
    "            } \n",
    "        } \n",
    "    } \n",
    "  \n",
    "    // Return the required answer \n",
    "    return m; \n",
    "} \n",
    "  \n",
    "// Driver code \n",
    "public static void main(String[] args)  \n",
    "{ \n",
    "    int arr[] = { 2, 3, -7, 6, 8, 1, -10, 15 }; \n",
    "  \n",
    "    int n = arr.length; \n",
    "  \n",
    "    // Function call \n",
    "    System.out.println(findMissingPositive(arr, n)); \n",
    "} \n",
    "main(args);"
   ]
  },
  {
   "cell_type": "markdown",
   "metadata": {},
   "source": [
    "## **395. Find the maximum repeating number in O(n) time and O(1) extra space**\n",
    "https://www.geeksforgeeks.org/find-the-maximum-repeating-number-in-ok-time/"
   ]
  },
  {
   "cell_type": "code",
   "execution_count": 36,
   "metadata": {},
   "outputs": [],
   "source": [
    "/*\n",
    "Given an array of size n, \n",
    "the array contains numbers in range from 0 to k-1 where k is a positive integer and k <= n. \n",
    "Find the maximum repeating number in this array. \n",
    "\n",
    "For example, \n",
    "    let k be 10 \n",
    "    the given array be arr[] = {1, 2, 2, 2, 0, 2, 0, 2, 3, 8, 0, 9, 2, 3},\n",
    "    \n",
    "    the maximum repeating number would be 2. \n",
    "    \n",
    "Expected time complexity is O(n) and extra space allowed is O(1). \n",
    "Modifications to array are allowed.\n",
    "*/"
   ]
  },
  {
   "cell_type": "code",
   "execution_count": 37,
   "metadata": {},
   "outputs": [],
   "source": [
    "/*\n",
    "The naive approach \n",
    "    is to run two loops, \n",
    "    the outer loop picks an element one by one, \n",
    "    the inner loop counts number of occurrences of the picked element. \n",
    "    \n",
    "    Finally return the element with maximum count.\n",
    "    \n",
    "Time complexity of this approach is O(n^2).\n",
    "*/"
   ]
  },
  {
   "cell_type": "code",
   "execution_count": 38,
   "metadata": {},
   "outputs": [],
   "source": [
    "/*\n",
    "A better approach \n",
    "    is to create a count array of size k \n",
    "    and initialize all elements of count[] as 0. \n",
    "    Iterate through all elements of input array, \n",
    "    and for every element arr[i], increment count[arr[i]].\n",
    "    Finally, iterate through count[] and return the index with maximum value. \n",
    "    \n",
    "This approach takes O(n) time, but requires O(k) space.\n",
    "*/"
   ]
  },
  {
   "cell_type": "code",
   "execution_count": 39,
   "metadata": {},
   "outputs": [],
   "source": [
    "/*\n",
    "Following is the O(n) time and O(1) extra space approach.\n",
    "\n",
    "Let us understand the approach with a simple example \n",
    "where arr[] = {2, 3, 3, 5, 3, 4, 1, 7}, k = 8, n = 8 (number of elements in arr[]).\n",
    "\n",
    "1) Iterate though input array arr[],\n",
    "    for every element arr[i], \n",
    "        increment arr[arr[i]%k] by k (arr[] becomes {2, 11, 11, 29, 11, 12, 1, 15 })\n",
    "\n",
    "2) Find the maximum value in the modified array (maximum value is 29). \n",
    "    Index of the maximum value is the maximum repeating element (index of 29 is 3).\n",
    "\n",
    "3) If we want to get the original array back, \n",
    "    we can iterate through the array one more time and do arr[i] = arr[i] % k where i varies from 0 to n-1.\n",
    "*/"
   ]
  },
  {
   "cell_type": "code",
   "execution_count": 40,
   "metadata": {},
   "outputs": [],
   "source": [
    "/*\n",
    "How does the above algorithm work? \n",
    "\n",
    "Since we use arr[i]%k as index and add value k at the index arr[i]%k, \n",
    "the index which is equal to maximum repeating element will have the maximum value in the end. \n",
    "\n",
    "Note that k is added maximum number of times at the index equal to maximum repeating element \n",
    "and all array elements are smaller than k.\n",
    "*/"
   ]
  },
  {
   "cell_type": "code",
   "execution_count": 41,
   "metadata": {},
   "outputs": [],
   "source": [
    "// Returns maximum repeating element in arr[0..n-1]. \n",
    "// The array elements are in range from 0 to k-1 \n",
    "static int maxRepeating(int arr[], int n, int k) \n",
    "{ \n",
    "    // Iterate though input array, for every element \n",
    "    // arr[i], increment arr[arr[i]%k] by k \n",
    "    for (int i = 0; i< n; i++) \n",
    "        arr[(arr[i]%k)] += k; \n",
    "\n",
    "    // Find index of the maximum repeating element \n",
    "    int max = arr[0], result = 0; \n",
    "    for (int i = 1; i < n; i++) \n",
    "    { \n",
    "        if (arr[i] > max) \n",
    "        { \n",
    "            max = arr[i]; \n",
    "            result = i; \n",
    "        } \n",
    "    } \n",
    "\n",
    "    /* Uncomment this code to get the original array back \n",
    "    for (int i = 0; i< n; i++) \n",
    "      arr[i] = arr[i]%k; */\n",
    "\n",
    "    // Return index of the maximum element \n",
    "    return result; \n",
    "} "
   ]
  },
  {
   "cell_type": "code",
   "execution_count": 42,
   "metadata": {},
   "outputs": [
    {
     "name": "stdout",
     "output_type": "stream",
     "text": [
      "Maximum repeating element is: 3\n"
     ]
    }
   ],
   "source": [
    "/*Driver function to check for above function*/\n",
    "public static void main (String[] args) \n",
    "{ \n",
    "\n",
    "    int arr[] = {2, 3, 3, 5, 3, 4, 1, 7}; \n",
    "    int n = arr.length; \n",
    "    int k=8; \n",
    "    System.out.println(\"Maximum repeating element is: \" + \n",
    "                       maxRepeating(arr,n,k)); \n",
    "} \n",
    "main(args);"
   ]
  },
  {
   "cell_type": "markdown",
   "metadata": {},
   "source": [
    "## **396. Online algorithm for checking palindrome in a stream**\n",
    "https://www.geeksforgeeks.org/online-algorithm-for-checking-palindrome-in-a-stream/"
   ]
  },
  {
   "cell_type": "code",
   "execution_count": 43,
   "metadata": {},
   "outputs": [],
   "source": [
    "/*\n",
    "Given a stream of characters (characters are received one by one), \n",
    "write a function that prints ‘Yes’ \n",
    "    if a character makes the complete string palindrome, \n",
    "else \n",
    "    prints ‘No’.\n",
    "*/"
   ]
  },
  {
   "cell_type": "code",
   "execution_count": 44,
   "metadata": {},
   "outputs": [],
   "source": [
    "/*\n",
    "Examples:\n",
    "\n",
    "Input: str[] = \"abcba\"\n",
    "Output: a Yes   // \"a\" is palindrome\n",
    "        b No    // \"ab\" is not palindrome\n",
    "        c No    // \"abc\" is not palindrome\n",
    "        b No    // \"abcb\" is not palindrome\n",
    "        a Yes   // \"abcba\" is palindrome\n",
    "\n",
    "Input: str[] = \"aabaacaabaa\"\n",
    "Output:  a Yes   // \"a\" is palindrome\n",
    "         a Yes   // \"aa\" is palindrome\n",
    "         b No    // \"aab\" is not palindrome \n",
    "         a No    // \"aaba\" is not palindrome  \n",
    "         a Yes   // \"aabaa\" is palindrome  \n",
    "         c No    // \"aabaac\" is not palindrome  \n",
    "         a No    // \"aabaaca\" is not palindrome  \n",
    "         a No    // \"aabaacaa\" is not palindrome  \n",
    "         b No    // \"aabaacaab\" is not palindrome  \n",
    "         a No    // \"aabaacaaba\" is not palindrome  \n",
    "         a Yes   // \"aabaacaabaa\" is palindrome  \n",
    "*/"
   ]
  },
  {
   "cell_type": "code",
   "execution_count": 45,
   "metadata": {},
   "outputs": [],
   "source": [
    "/*\n",
    "Let input string be str[0..n-1]. \n",
    "\n",
    "A Simple Solution is to do following for every character str[i] in input string. \n",
    "Check if substring str[0…i] is palindrome, \n",
    "    then print yes, \n",
    "else \n",
    "    print no.\n",
    "*/"
   ]
  },
  {
   "cell_type": "code",
   "execution_count": 46,
   "metadata": {},
   "outputs": [],
   "source": [
    "/*\n",
    "A Better Solution is to use the idea of Rolling Hash used in Rabin Karp algorithm. \n",
    "The idea is to keep track of reverse of first half and second half \n",
    "(we also use first half and reverse of second half) for every index. \n",
    "\n",
    "Below is complete algorithm.\n",
    "\n",
    "  1) The first character is always a palindrome, so print yes for \n",
    "     first character.\n",
    "\n",
    "  2) Initialize reverse of first half as \"a\" and second half as \"b\".  \n",
    "     Let the hash value of first half reverse be 'firstr' and that of \n",
    "     second half be 'second'.\n",
    "\n",
    "  3) Iterate through string starting from second character, do following\n",
    "      for every character str[i], i.e., i varies from 1 to n-1.\n",
    "     a) If 'firstr' and 'second' are same, then character by character \n",
    "        check the substring ending with current character and print \n",
    "        \"Yes\" if palindrome.\n",
    "        Note that if hash values match, then strings need not be same.\n",
    "        For example, hash values of \"ab\" and \"ba\" are same, but strings\n",
    "        are different. That is why we check complete string after hash.\n",
    "\n",
    "     b) Update 'firstr' and 'second' for next iteration.  \n",
    "           If 'i' is even, then add next character to the beginning of \n",
    "                           'firstr' and end of second half and update \n",
    "                            hash values.\n",
    "           If 'i' is odd,  then keep 'firstr' as it is, remove leading \n",
    "                           character from second and append a next \n",
    "                           character at end.\n",
    "*/"
   ]
  },
  {
   "cell_type": "code",
   "execution_count": 47,
   "metadata": {},
   "outputs": [],
   "source": [
    "/*\n",
    "Let us see all steps for example string “abcba”\n",
    "\n",
    "Initial values of ‘firstr’ and ‘second’\n",
    "     firstr’ = hash(“a”), ‘second’ = hash(“b”)\n",
    "     \n",
    "Start from second character, i.e.,\n",
    "\n",
    "i = 1\n",
    "     a) Compare ‘firstr’ and ‘second’, they don’t match, so print no.\n",
    "     b) Calculate hash values for next iteration, i.e., i = 2\n",
    "     Since i is odd, ‘firstr’ is not changed and ‘second’ becomes hash(“c”)\n",
    "\n",
    "i = 2\n",
    "     a) Compare ‘firstr’ and ‘second’, they don’t match, so print no.\n",
    "     b) Calculate hash values for next iteration, i.e., i = 3\n",
    "     Since i is even, ‘firstr’ becomes hash(“ba”) and ‘second’ becomes hash(“cb”)\n",
    "\n",
    "i = 3\n",
    "     a) Compare ‘first’ and ‘second’, they don’t match, so print no.\n",
    "     b) Calculate hash values for next iteration, i.e., i = 4\n",
    "     Since i is odd, ‘firstr’ is not changed and ‘second’ becomes hash(“ba”)\n",
    "\n",
    "i = 4\n",
    "     a) ‘firstr’ and ‘second’ match, compare the whole strings, they match, so print yes\n",
    "     b) We don’t need to calculate next hash values as this is last index\n",
    "     \n",
    "The idea of using rolling hashes is, \n",
    "    next hash value can be calculated from previous in O(1) time \n",
    "        by just doing some constant number of arithmetic operations.\n",
    "*/"
   ]
  },
  {
   "cell_type": "code",
   "execution_count": 48,
   "metadata": {},
   "outputs": [],
   "source": [
    "// d is the number of characters in  \n",
    "// input alphabet \n",
    "static final int d = 256; \n",
    "\n",
    "// q is a prime number used for  \n",
    "// evaluating Rabin Karp's Rolling hash \n",
    "static final int q = 103; "
   ]
  },
  {
   "cell_type": "code",
   "execution_count": 49,
   "metadata": {},
   "outputs": [],
   "source": [
    "static void checkPalindromes(String str) \n",
    "{ \n",
    "    // Length of input string \n",
    "    int N = str.length(); \n",
    "\n",
    "    // A single character is always a palindrome \n",
    "    System.out.println(str.charAt(0)+\" Yes\"); \n",
    "\n",
    "    // Return if string has only one character \n",
    "    if (N == 1) return; \n",
    "\n",
    "    // Initialize first half reverse and second  \n",
    "    // half for as firstr and second characters \n",
    "    int firstr  = str.charAt(0) % q; \n",
    "    int second = str.charAt(1) % q; \n",
    "\n",
    "    int h = 1, i, j; \n",
    "\n",
    "    // Now check for palindromes from second  \n",
    "    // character onward \n",
    "    for (i = 1; i < N; i++) \n",
    "    { \n",
    "        // If the hash values of 'firstr' and \n",
    "        // 'second' match, then only check  \n",
    "        // individual characters \n",
    "        if (firstr == second) \n",
    "        { \n",
    "            /* Check if str[0..i] is palindrome \n",
    "            using simple character by character  \n",
    "             match */\n",
    "            for (j = 0; j < i/2; j++) \n",
    "            { \n",
    "                if (str.charAt(j) != str.charAt(i  \n",
    "                                           - j)) \n",
    "                    break; \n",
    "            } \n",
    "            System.out.println((j == i/2) ?  \n",
    "              str.charAt(i) + \" Yes\": str.charAt(i)+ \n",
    "              \" No\"); \n",
    "        } \n",
    "        else System.out.println(str.charAt(i)+ \" No\"); \n",
    "\n",
    "        // Calculate hash values for next iteration. \n",
    "        // Don't calculate hash for next characters \n",
    "        // if this is the last character of string \n",
    "        if (i != N - 1) \n",
    "        { \n",
    "            // If i is even (next i is odd)  \n",
    "            if (i % 2 == 0) \n",
    "            { \n",
    "                // Add next character after first  \n",
    "                // half at beginning of 'firstr' \n",
    "                h = (h * d) % q; \n",
    "                firstr  = (firstr + h *str.charAt(i /  \n",
    "                                             2)) % q; \n",
    "\n",
    "                // Add next character after second  \n",
    "                // half at the end of second half. \n",
    "                second = (second * d + str.charAt(i +  \n",
    "                                            1)) % q; \n",
    "            } \n",
    "            else\n",
    "            { \n",
    "                // If next i is odd (next i is even) \n",
    "                // then we need not to change firstr, \n",
    "                // we need to remove first character \n",
    "                // of second and append a character \n",
    "                // to it. \n",
    "                second = (d * (second + q - str.charAt( \n",
    "                         (i + 1) / 2) * h) % q + \n",
    "                           str.charAt(i + 1)) % q; \n",
    "            } \n",
    "        } \n",
    "    } \n",
    "} "
   ]
  },
  {
   "cell_type": "code",
   "execution_count": 50,
   "metadata": {},
   "outputs": [
    {
     "name": "stdout",
     "output_type": "stream",
     "text": [
      "a Yes\n",
      "a Yes\n",
      "b No\n",
      "a No\n",
      "a Yes\n",
      "c No\n",
      "a No\n",
      "a No\n",
      "b No\n",
      "a No\n",
      "a Yes\n"
     ]
    }
   ],
   "source": [
    "/* Driver program to test above function */\n",
    "public static void main(String args[]) \n",
    "{ \n",
    "    String txt = \"aabaacaabaa\"; \n",
    "    checkPalindromes(txt); \n",
    "} \n",
    "main(args);"
   ]
  },
  {
   "cell_type": "code",
   "execution_count": 51,
   "metadata": {},
   "outputs": [],
   "source": [
    "/*\n",
    "The worst case time complexity of the above solution remains O(n*n), \n",
    "but in general, \n",
    "    it works much better than simple approach as we avoid complete substring comparison \n",
    "    most of the time by first comparing hash values. \n",
    "    \n",
    "The worst case occurs for input strings with all same characters like “aaaaaa”.\n",
    "*/"
   ]
  },
  {
   "cell_type": "markdown",
   "metadata": {},
   "source": [
    "## **397. K’th largest element in a stream**\n",
    "https://www.geeksforgeeks.org/kth-largest-element-in-a-stream/"
   ]
  },
  {
   "cell_type": "code",
   "execution_count": 52,
   "metadata": {},
   "outputs": [],
   "source": [
    "/*\n",
    "Given an infinite stream of integers, find the k’th largest element at any point of time.\n",
    "Extra space allowed is O(k).\n",
    "*/"
   ]
  },
  {
   "cell_type": "code",
   "execution_count": 53,
   "metadata": {},
   "outputs": [],
   "source": [
    "/*\n",
    "Example:\n",
    "\n",
    "Input:\n",
    "stream[] = {10, 20, 11, 70, 50, 40, 100, 5, ...}\n",
    "k = 3\n",
    "\n",
    "Output:    {_,   _, 10, 11, 20, 40, 50,  50, ...}\n",
    "*/"
   ]
  },
  {
   "cell_type": "code",
   "execution_count": 54,
   "metadata": {},
   "outputs": [],
   "source": [
    "/*\n",
    "A Simple Solution is to keep an array of size k. \n",
    "The idea is to keep the array sorted so that the k’th largest element can be found in O(1) time \n",
    "(we just need to return first element of array if array is sorted in increasing order)\n",
    "\n",
    "How to process a new element of stream?\n",
    "For every new element in stream, \n",
    "    check if the new element is smaller than current k’th largest element. \n",
    "    If yes,\n",
    "        then ignore it. \n",
    "    If no, \n",
    "        then remove the smallest element from array \n",
    "        and insert new element in sorted order. \n",
    "Time complexity of processing a new element is O(k).\n",
    "*/"
   ]
  },
  {
   "cell_type": "code",
   "execution_count": 55,
   "metadata": {},
   "outputs": [],
   "source": [
    "/*\n",
    "A Better Solution is to use a Self Balancing Binary Search Tree of size k. \n",
    "The k’th largest element can be found in O(Logk) time.\n",
    "\n",
    "How to process a new element of stream?\n",
    "For every new element in stream, \n",
    "    check if the new element is smaller than current k’th largest element. \n",
    "    If yes, \n",
    "        then ignore it. \n",
    "    If no, \n",
    "        then remove the smallest element from the tree \n",
    "        and insert new element. \n",
    "Time complexity of processing a new element is O(Logk).\n",
    "*/"
   ]
  },
  {
   "cell_type": "code",
   "execution_count": 56,
   "metadata": {},
   "outputs": [],
   "source": [
    "/*\n",
    "An Efficient Solution is to use Min Heap of size k to store k largest elements of stream. \n",
    "The k’th largest element is always at root and can be found in O(1) time.\n",
    "\n",
    "How to process a new element of stream?\n",
    "Compare the new element with root of heap. \n",
    "If new element is smaller, \n",
    "    then ignore it. \n",
    "Otherwise replace root with new element and call heapify for the root of modified heap. \n",
    "\n",
    "Time complexity of finding the k’th largest element is O(Logk).\n",
    "*/"
   ]
  },
  {
   "cell_type": "markdown",
   "metadata": {},
   "source": [
    "***https://ideone.com/XAg16m***"
   ]
  },
  {
   "cell_type": "markdown",
   "metadata": {},
   "source": [
    "## **398. K-th smallest element after removing some integers from natural numbers**\n",
    "https://www.geeksforgeeks.org/k-th-smallest-element-removing-integers-natural-numbers/"
   ]
  },
  {
   "cell_type": "code",
   "execution_count": 57,
   "metadata": {},
   "outputs": [],
   "source": [
    "/*\n",
    "Given an array arr[] of size ‘n’ and a positive integer k. \n",
    "Consider series of natural numbers and remove arr[0], arr[1], arr[2], …, arr[p] from it.\n",
    "\n",
    "Now the task is to find k-th smallest number in the remaining set of natural numbers.\n",
    "If no such number exists print “-1”.\n",
    "*/"
   ]
  },
  {
   "cell_type": "code",
   "execution_count": 58,
   "metadata": {},
   "outputs": [],
   "source": [
    "/*\n",
    "Examples :\n",
    "\n",
    "Input : arr[] = { 1 } and k = 1.\n",
    "Output: 2\n",
    "Natural numbers are {1, 2, 3, 4, .... }\n",
    "After removing {1}, we get {2, 3, 4, ...}.\n",
    "Now, K-th smallest element = 2.\n",
    "\n",
    "Input : arr[] = {1, 3}, k = 4.\n",
    "Output : 6\n",
    "First 5 Natural number {1, 2, 3, 4, 5, 6,  .. }\n",
    "After removing {1, 3}, we get {2, 4, 5, 6, ... }.\n",
    "*/"
   ]
  },
  {
   "cell_type": "code",
   "execution_count": 59,
   "metadata": {},
   "outputs": [],
   "source": [
    "/*\n",
    "Method 1 (Simple):\n",
    "Time Complexity : O(n).\n",
    "\n",
    "Make an auxiliary array b[] for presence/absence of natural numbers and initialize all with 0. \n",
    "Make all the integer equal to 1 which are present in array arr[] i.e b[arr[i]] = 1. \n",
    "Now, \n",
    "    run a loop and decrement k whenever unmarked cell is encountered. \n",
    "When the value of k is 0, we get the answer.\n",
    "\n",
    "Below is implementation of this approach:\n",
    "*/"
   ]
  },
  {
   "cell_type": "code",
   "execution_count": 60,
   "metadata": {},
   "outputs": [
    {
     "name": "stdout",
     "output_type": "stream",
     "text": [
      "2\n"
     ]
    }
   ],
   "source": [
    "static final int MAX = 1000000; \n",
    "\n",
    "// Return the K-th smallest element. \n",
    "static int ksmallest(int arr[], int n, int k) \n",
    "{ \n",
    "    // Making an array, and mark \n",
    "    // all number as unmarked. \n",
    "    int b[] = new int[MAX]; \n",
    "\n",
    "    // Marking the number present \n",
    "    // in the given array. \n",
    "    for (int i = 0; i < n; i++) { \n",
    "        b[arr[i]] = 1; \n",
    "    } \n",
    "\n",
    "    for (int j = 1; j < MAX; j++) { \n",
    "        // If j is unmarked, reduce k by 1. \n",
    "        if (b[j] != 1) { \n",
    "            k--; \n",
    "        } \n",
    "\n",
    "        // If k is 0 return j. \n",
    "        if (k != 1) { \n",
    "            return j; \n",
    "        } \n",
    "    } \n",
    "    return Integer.MAX_VALUE; \n",
    "} \n",
    "\n",
    "// Driven code \n",
    "public static void main(String[] args) \n",
    "{ \n",
    "    int k = 1; \n",
    "    int arr[] = { 1 }; \n",
    "    int n = arr.length; \n",
    "    System.out.println(ksmallest(arr, n, k)); \n",
    "} \n",
    "main(args);"
   ]
  },
  {
   "cell_type": "code",
   "execution_count": 61,
   "metadata": {},
   "outputs": [],
   "source": [
    "/*\n",
    "Method 2 (Efficient):\n",
    "\n",
    "First, sort the array arr[].\n",
    "Observe, there will be arr[0] – 1 numbers between 0 and arr[0], \n",
    "similarly, arr[1] – arr[0] – 1 numbers between arr[0] and arr[1] \n",
    "and so on. \n",
    "\n",
    "So, if k lies between arr[i] – arr[i+1] – 1, \n",
    "    then return K-th smallest element in the range. \n",
    "Else \n",
    "    reduce k by arr[i] – arr[i+1] – 1 \n",
    "    \n",
    "    i.e., k = k – (arr[i] – arr[i+1] – 1).\n",
    "\n",
    "Algorithm to solve the problem:\n",
    "\n",
    "1. Sort the array arr[].\n",
    "2. For i = 1 to k. Find c = arr[i+1] - arr[i] -1.\n",
    "  a) if k - c <= 0, return arr[i-1] + k.\n",
    "  b) else k = k - c.\n",
    "Below is implementation of this approach:\n",
    "*/"
   ]
  },
  {
   "cell_type": "code",
   "execution_count": 62,
   "metadata": {},
   "outputs": [
    {
     "name": "stdout",
     "output_type": "stream",
     "text": [
      "2\n"
     ]
    }
   ],
   "source": [
    "// Return the K-th \n",
    "// smallest element. \n",
    "static int ksmallest(int arr[], \n",
    "                     int n, int k) \n",
    "{ \n",
    "    // sort(arr, arr+n); \n",
    "    Arrays.sort(arr); \n",
    "\n",
    "    // Checking if k lies \n",
    "    // before 1st element \n",
    "    if (k < arr[0]) \n",
    "        return k; \n",
    "\n",
    "    // If k is the first \n",
    "    // element of array arr[]. \n",
    "    if (k == arr[0]) \n",
    "        return arr[0] + 1; \n",
    "\n",
    "    // If k is more \n",
    "    // than last element \n",
    "    if (k > arr[n - 1]) \n",
    "        return k + n; \n",
    "\n",
    "    // If first element \n",
    "    // of array is 1. \n",
    "    if (arr[0] == 1) \n",
    "        k--; \n",
    "\n",
    "    // Reducing k by numbers \n",
    "    // before arr[0]. \n",
    "    else\n",
    "        k -= (arr[0] - 1); \n",
    "\n",
    "    // Finding k'th smallest \n",
    "    // element after removing \n",
    "    // array elements. \n",
    "    for (int i = 1; i < n; i++) { \n",
    "        // Finding count of \n",
    "        // element between i-th \n",
    "        // and (i-1)-th element. \n",
    "        int c = arr[i] - arr[i - 1] - 1; \n",
    "        if (k <= c) \n",
    "            return arr[i - 1] + k; \n",
    "        else\n",
    "            k -= c; \n",
    "    } \n",
    "\n",
    "    return arr[n - 1] + k; \n",
    "} \n",
    "\n",
    "// Driven Code \n",
    "public static void main(String[] args) \n",
    "{ \n",
    "    int k = 1; \n",
    "    int arr[] = { 1 }; \n",
    "    int n = arr.length; \n",
    "    System.out.println(ksmallest(arr, n, k)); \n",
    "} \n",
    "main(args);"
   ]
  },
  {
   "cell_type": "markdown",
   "metadata": {},
   "source": [
    "**Related Link :**   ***https://www.geeksforgeeks.org/k-th-smallest-element-removing-given-integers-natural-numbers-set-2/***"
   ]
  },
  {
   "cell_type": "markdown",
   "metadata": {},
   "source": [
    "## **399. Find Surpasser Count of each element in array**\n",
    "https://www.geeksforgeeks.org/find-surpasser-count-of-each-element-in-array/"
   ]
  },
  {
   "cell_type": "code",
   "execution_count": 63,
   "metadata": {},
   "outputs": [],
   "source": [
    "/*\n",
    "A surpasser of an element of an array is a greater element to its right, \n",
    "therefore x[j] is a surpasser of x[i] if i < j and x[i] < x[j]. \n",
    "The surpasser count of an element is the number of surpassers. \n",
    "\n",
    "Given an array of distinct integers, \n",
    "    for each element of the array \n",
    "    \n",
    "    find its surpasser count i.e. count the number of elements to the right that are greater than that element.\n",
    "*/"
   ]
  },
  {
   "cell_type": "code",
   "execution_count": 64,
   "metadata": {},
   "outputs": [],
   "source": [
    "/*\n",
    "Examples :\n",
    "\n",
    "Input:  [2, 7, 5, 3, 0, 8, 1]\n",
    "Output: [4, 1, 1, 1, 2, 0, 0]\n",
    "*/"
   ]
  },
  {
   "cell_type": "code",
   "execution_count": 65,
   "metadata": {},
   "outputs": [],
   "source": [
    "/*\n",
    "Method 1 (Naive)\n",
    "\n",
    "The naive solution would be to run two loops. \n",
    "For each element of the array, \n",
    "    we count all elements greater than it to its right. \n",
    "\n",
    "The complexity of this solution is O(n^2)\n",
    "*/"
   ]
  },
  {
   "cell_type": "code",
   "execution_count": 66,
   "metadata": {},
   "outputs": [
    {
     "name": "stdout",
     "output_type": "stream",
     "text": [
      "Given array is \n",
      "2 7 5 3 0 8 1 \n",
      "Surpasser Count of array is \n",
      "4 1 1 1 2 0 0 "
     ]
    }
   ],
   "source": [
    "// Function to find surpasser count of  \n",
    "// each element in array \n",
    "static void findSurpasser(int arr[], int n) \n",
    "{ \n",
    "    for (int i = 0; i < n; i++) \n",
    "    { \n",
    "\n",
    "        // stores surpasser count for  \n",
    "        // element arr[i] \n",
    "        int count = 0; \n",
    "        for (int j = i + 1; j < n; j++) \n",
    "            if (arr[j] > arr[i]) \n",
    "                count++; \n",
    "\n",
    "        System.out.print(count +\" \"); \n",
    "    } \n",
    "} \n",
    "\n",
    "/* Function to print an array */\n",
    "static void printArray(int arr[], int n) \n",
    "{ \n",
    "    for (int i = 0; i < n; i++) \n",
    "        System.out.print( arr[i] + \" \"); \n",
    "\n",
    "    System.out.println(); \n",
    "} \n",
    "\n",
    "// Driver program to test above functions \n",
    "public static void main (String[] args)  \n",
    "{ \n",
    "    int arr[] = { 2, 7, 5, 3, 0, 8, 1 }; \n",
    "    int n = arr.length; \n",
    "\n",
    "    System.out.println(\"Given array is \"); \n",
    "    printArray(arr, n); \n",
    "\n",
    "    System.out.println(\"Surpasser Count of\"\n",
    "                           + \" array is \"); \n",
    "    findSurpasser(arr, n); \n",
    "} \n",
    "main(args);"
   ]
  },
  {
   "cell_type": "markdown",
   "metadata": {},
   "source": [
    "***https://www.geeksforgeeks.org/counting-inversions/***"
   ]
  },
  {
   "cell_type": "code",
   "execution_count": 67,
   "metadata": {},
   "outputs": [],
   "source": [
    "/*\n",
    "Method 2 (Uses Merge Sort)\n",
    "Time complexity of above solution is O(nlogn).\n",
    "\n",
    "For any element of the array, \n",
    "    we can easily find out number of elements to the right that are greater than that element \n",
    "    if we know number of elements to its right that are less than that element. \n",
    "    \n",
    "    The idea is to count the number of inversions for each element of the array using merge sort. \n",
    "    \n",
    "    So, surpasser count of an element at position i will be equal to “n – i – inversion-count” at that position \n",
    "        where n is the size of the array.\n",
    "\n",
    "We have already discussed how to find inversion count of complete array above link. \n",
    "We have modified the discussed approach to find number of inversions for each element of the array \n",
    "    instead of returning inversion count of whole array. \n",
    "Also, as all elements of the array are distinct, \n",
    "    we maintain a map that stores inversion count for each element of the array.\n",
    "*/"
   ]
  },
  {
   "cell_type": "markdown",
   "metadata": {},
   "source": [
    "***https://ideone.com/ysR3I3***"
   ]
  },
  {
   "cell_type": "markdown",
   "metadata": {},
   "source": [
    "## **400. A Pancake Sorting Problem**\n",
    "https://www.geeksforgeeks.org/a-pancake-sorting-question/"
   ]
  },
  {
   "cell_type": "markdown",
   "metadata": {},
   "source": [
    "**Related Link :**   ***https://www.geeksforgeeks.org/pancake-sorting/***"
   ]
  },
  {
   "cell_type": "code",
   "execution_count": 68,
   "metadata": {},
   "outputs": [],
   "source": [
    "/*\n",
    "Given an unsorted array, sort the given array. You are allowed to do only following operation on array.\n",
    "\n",
    "flip(arr, i): Reverse array from 0 to i \n",
    "\n",
    "Imagine a hypothetical machine where flip(i) always takes O(1) time.\n",
    "\n",
    "Write an efficient program for sorting a given array in O(nLogn) time on the given machine.\n",
    "*/"
   ]
  },
  {
   "cell_type": "code",
   "execution_count": 69,
   "metadata": {},
   "outputs": [],
   "source": [
    "/*\n",
    "We can use insertion sort that uses binary search. \n",
    "The idea is to run a loop from second element to last element (from i = 1 to n-1),\n",
    "    and one by one insert arr[i] in arr[0..i-1] (like standard insertion sort algorithm).\n",
    "When we insert an element arr[i], \n",
    "    we can use binary search to find position of arr[i] in O(Logi) time. \n",
    "    \n",
    "Once we have the position, we can use some flip operations to put arr[i] at its new place.\n",
    "\n",
    "Following are abstract steps.\n",
    "\n",
    "// Standard Insertion Sort Loop that starts from second element\n",
    "for (i=1; i  O(n)\n",
    "{\n",
    "  int key = arr[i];\n",
    "\n",
    "  // Find index of ceiling of arr[i] in arr[0..i-1] using binary search\n",
    "  j = celiSearch(arr, key, 0, i-1); ----> O(logn) (See this)\n",
    "    \n",
    "  // Apply some flip operations to put arr[i] at correct place\n",
    "} \n",
    "\n",
    "Since flip operation takes O(1) on given hypothetical machine, \n",
    "    total running time of above algorithm is O(nlogn).\n",
    "*/"
   ]
  },
  {
   "cell_type": "code",
   "execution_count": 70,
   "metadata": {},
   "outputs": [],
   "source": [
    "/*\n",
    "Let us see how does the above algorithm work. \n",
    "ceilSearch() actually returns the index of the smallest element which is greater than arr[i] in arr[0..i-1].\n",
    "If there is no such element, \n",
    "    it returns -1. \n",
    "    \n",
    "Let the returned value be j. \n",
    "    If j is -1, \n",
    "        then we don’t need to do anything as arr[i] is already the greatest element among arr[0..i]. \n",
    "    Otherwise \n",
    "        we need to put arr[i] just before arr[j].\n",
    "\n",
    "So how to apply flip operations to put arr[i] \n",
    "    just before arr[j] using values of i and j. \n",
    "\n",
    "Let us take an example to understand this. \n",
    "\n",
    "Let i be 6 and \n",
    "current array be {12, 15, 18, 30, 35, 40, 20, 6, 90, 80}. \n",
    "\n",
    "To put 20 at its new place, \n",
    "    the array should be changed to {12, 15, 18, 20, 30, 35, 40, 6, 90, 80}. \n",
    "    \n",
    "We apply following steps to put 20 at its new place.\n",
    "\n",
    "1) Find j using ceilSearch (In the above example j is 3).\n",
    "2) flip(arr, j-1) (array becomes {18, 15, 12, 30, 35, 40, 20, 6, 90, 80})\n",
    "3) flip(arr, i-1); (array becomes {40, 35, 30, 12, 15, 18, 20, 6, 90, 80})\n",
    "4) flip(arr, i); (array becomes {20, 18, 15, 12, 30, 35, 40, 6, 90, 80})\n",
    "5) flip(arr, j); (array becomes {12, 15, 18, 20, 30, 35, 40, 6, 90, 80})\n",
    "\n",
    "Following is the implementation of the above algorithm.\n",
    "*/"
   ]
  },
  {
   "cell_type": "code",
   "execution_count": 71,
   "metadata": {},
   "outputs": [],
   "source": [
    "/* A Binary Search based function to get index of ceiling of x in  \n",
    "arr[low..high] */\n",
    "static int ceilSearch(int arr[], int low, int high, int x)  \n",
    "{  \n",
    "    int mid;  \n",
    "  \n",
    "    /* If x is smaller than or equal to the first element,  \n",
    "    then return the first element */\n",
    "    if(x <= arr[low])  \n",
    "        return low;  \n",
    "  \n",
    "    /* If x is greater than the last element, then return -1 */\n",
    "    if(x > arr[high])  \n",
    "        return -1;  \n",
    "  \n",
    "    /* get the index of middle element of arr[low..high]*/\n",
    "//     low + (high - low)/2  \n",
    "    mid = (low + high)/2;  \n",
    "  \n",
    "    /* If x is same as middle element, then return mid */\n",
    "    if(arr[mid] == x)  \n",
    "        return mid;  \n",
    "  \n",
    "    /* If x is greater than arr[mid], then either arr[mid + 1]  \n",
    "    is ceiling of x, or ceiling lies in arr[mid+1...high] */\n",
    "    if(arr[mid] < x)  \n",
    "    {  \n",
    "        if(mid + 1 <= high && x <= arr[mid+1])  \n",
    "            return mid + 1;  \n",
    "        else\n",
    "            return ceilSearch(arr, mid+1, high, x);  \n",
    "    }  \n",
    "  \n",
    "    /* If x is smaller than arr[mid], then either arr[mid]  \n",
    "    is ceiling of x or ceiling lies in arr[mid-1...high] */\n",
    "    if (mid - 1 >= low && x > arr[mid-1])  \n",
    "        return mid;  \n",
    "    else\n",
    "        return ceilSearch(arr, low, mid - 1, x);  \n",
    "}  "
   ]
  },
  {
   "cell_type": "code",
   "execution_count": 72,
   "metadata": {},
   "outputs": [],
   "source": [
    "/* Reverses arr[0..i] */\n",
    "static void flip(int arr[], int i)  \n",
    "{  \n",
    "    int temp, start = 0;  \n",
    "    while (start < i)  \n",
    "    {  \n",
    "        temp = arr[start];  \n",
    "        arr[start] = arr[i];  \n",
    "        arr[i] = temp;  \n",
    "        start++;  \n",
    "        i--;  \n",
    "    }  \n",
    "}  "
   ]
  },
  {
   "cell_type": "code",
   "execution_count": 73,
   "metadata": {},
   "outputs": [],
   "source": [
    "/* Function to sort an array using insertion sort, binary search and flip */\n",
    "static void insertionSort(int arr[], int size)  \n",
    "{  \n",
    "    int i;  \n",
    "  \n",
    "    // Start from the second element and one by one insert arr[i]  \n",
    "    // in already sorted arr[0..i-1]  \n",
    "    for(i = 1; i < size; i++)  \n",
    "    {  \n",
    "        // Find the smallest element in arr[0..i-1] which is also greater than  \n",
    "        // or equal to arr[i]  \n",
    "        int j = ceilSearch(arr, 0, i-1, arr[i]);  \n",
    "  \n",
    "        // Check if there was no element greater than arr[i]  \n",
    "        if (j != -1)  \n",
    "        {  \n",
    "            // Put arr[i] before arr[j] using following four flip operations  \n",
    "            flip(arr, j-1);  \n",
    "            flip(arr, i-1);  \n",
    "            flip(arr, i);  \n",
    "            flip(arr, j);  \n",
    "        }  \n",
    "    }  \n",
    "} "
   ]
  },
  {
   "cell_type": "code",
   "execution_count": 74,
   "metadata": {},
   "outputs": [
    {
     "name": "stdout",
     "output_type": "stream",
     "text": [
      "6 12 18 20 30 35 35 40 80 90 "
     ]
    }
   ],
   "source": [
    "/* A utility function to print an array of size n */\n",
    "static void printArray(int arr[], int n)  \n",
    "{  \n",
    "    int i;  \n",
    "    for (i = 0; i < n; ++i)  \n",
    "        System.out.print(arr[i] + \" \");  \n",
    "}  \n",
    "  \n",
    "/* Driver program to test insertion sort */\n",
    "public static void main(String[] args)  \n",
    "{  \n",
    "    int arr[] = {18, 40, 35, 12, 30, 35, 20, 6, 90, 80};  \n",
    "    int n = arr.length;  \n",
    "    insertionSort(arr, n);  \n",
    "    printArray(arr, n);  \n",
    "}  \n",
    "\n",
    "main(args);"
   ]
  },
  {
   "cell_type": "markdown",
   "metadata": {},
   "source": [
    "## **401. Choose k array elements such that difference of maximum and minimum is minimized**\n",
    "https://www.geeksforgeeks.org/k-numbers-difference-maximum-minimum-k-number-minimized/"
   ]
  },
  {
   "cell_type": "code",
   "execution_count": 75,
   "metadata": {},
   "outputs": [],
   "source": [
    "/*\n",
    "Given an array of n integers and a positive number k. \n",
    "\n",
    "We are allowed to take any k integers from the given array. \n",
    "The task is to find the minimum possible value of the difference between maximum and minimum of K numbers.\n",
    "*/"
   ]
  },
  {
   "cell_type": "code",
   "execution_count": 76,
   "metadata": {},
   "outputs": [],
   "source": [
    "/*\n",
    "Examples:\n",
    "\n",
    "Input : arr[] = {10, 100, 300, 200, 1000, 20, 30}\n",
    "        k = 3\n",
    "Output : 20\n",
    "20 is the minimum possible difference between any\n",
    "maximum and minimum of any k numbers.\n",
    "Given k = 3, we get the result 20 by selecting \n",
    "integers {10, 20, 30}.\n",
    "max(10, 20, 30) - max(10, 20, 30) = 30 - 10 = 20.\n",
    "\n",
    "Input : arr[] = {1, 2, 3, 4, 10, 20, 30, 40, \n",
    "                                   100, 200}.\n",
    "        k = 4      \n",
    "Output : 3\n",
    "*/"
   ]
  },
  {
   "cell_type": "code",
   "execution_count": 77,
   "metadata": {},
   "outputs": [],
   "source": [
    "/*\n",
    "Time Complexity: O(nlogn).\n",
    "\n",
    "The idea is to sort the array and choose k continuous integers. \n",
    "\n",
    "Why continuous? \n",
    "    let the chosen k integers be arr[0], arr[1],,..arr[r], arr[r+x]…, arr[k-1], \n",
    "    all in increasing order but not continuous in the sorted array. \n",
    "    \n",
    "This means there exists an integer p which lies between arr[r] and arr[r+x],. \n",
    "So if p is included and arr[0] is removed, \n",
    "    then the new difference will be arr[r] – arr[1] whereas old difference was arr[r] – arr[0]. \n",
    "\n",
    "And we know arr[0] <= arr[1] <= ..<= arr[k-1] \n",
    "    so minimum difference reduces or remain same. \n",
    "\n",
    "If we perform same procedure for other p like number, \n",
    "    we get the minimum difference.\n",
    "*/"
   ]
  },
  {
   "cell_type": "code",
   "execution_count": 78,
   "metadata": {},
   "outputs": [],
   "source": [
    "/*\n",
    "Algorithm to solve the problem:\n",
    "\n",
    "1. Sort the Array.\n",
    "2. Calculate the maximum(k numbers) – minimum(k numbers) for each group of k consecutive integers.\n",
    "3. Return minimum of all values obtained in step 2.\n",
    "*/"
   ]
  },
  {
   "cell_type": "code",
   "execution_count": 79,
   "metadata": {},
   "outputs": [],
   "source": [
    "// Return minimum difference of  \n",
    "// maximum and minimum of k  \n",
    "// elements of arr[0..n-1]. \n",
    "static int minDiff(int arr[], int n, int k) { \n",
    "    int result = Integer.MAX_VALUE; \n",
    "  \n",
    "    // Sorting the array. \n",
    "    Arrays.sort(arr); \n",
    "  \n",
    "    // Find minimum value among  \n",
    "    // all K size subarray. \n",
    "    for (int i = 0; i <= n - k; i++) \n",
    "    result = Math.min(result, arr[i + k - 1] - arr[i]); \n",
    "  \n",
    "    return result; \n",
    "} "
   ]
  },
  {
   "cell_type": "code",
   "execution_count": 80,
   "metadata": {},
   "outputs": [
    {
     "name": "stdout",
     "output_type": "stream",
     "text": [
      "20\n"
     ]
    }
   ],
   "source": [
    "// Driver code \n",
    "public static void main(String[] args) { \n",
    "    int arr[] = {10, 100, 300, 200, 1000, 20, 30}; \n",
    "    int n = arr.length; \n",
    "    int k = 3; \n",
    "  \n",
    "    System.out.println(minDiff(arr, n, k)); \n",
    "} \n",
    "main(args);"
   ]
  },
  {
   "cell_type": "markdown",
   "metadata": {},
   "source": [
    "## **402. Find k closest elements to a given value**\n",
    "https://www.geeksforgeeks.org/find-k-closest-elements-given-value/"
   ]
  },
  {
   "cell_type": "code",
   "execution_count": 81,
   "metadata": {},
   "outputs": [],
   "source": [
    "/*\n",
    "Given a sorted array arr[] and a value X, find the k closest elements to X in arr[].\n",
    "\n",
    "Note that if the element is present in array, \n",
    "    then it should not be in output, only the other closest elements are required\n",
    "*/"
   ]
  },
  {
   "cell_type": "code",
   "execution_count": 82,
   "metadata": {},
   "outputs": [],
   "source": [
    "/*\n",
    "Examples:\n",
    "\n",
    "Input: K = 4, X = 35\n",
    "       arr[] = {12, 16, 22, 30, 35, 39, 42, \n",
    "               45, 48, 50, 53, 55, 56}\n",
    "Output: 30 39 42 45\n",
    "*/"
   ]
  },
  {
   "cell_type": "code",
   "execution_count": 83,
   "metadata": {},
   "outputs": [],
   "source": [
    "/*\n",
    "A simple solution is to do linear search for k closest elements.\n",
    "1) Start from the first element and search for the crossover point \n",
    "  (The point before which elements are smaller than or equal to X and after which elements are greater). \n",
    "  This step takes O(n) time.\n",
    "2) Once we find the crossover point, \n",
    "  we can compare elements on both sides of crossover point to print k closest elements. \n",
    "  This step takes O(k) time.\n",
    "\n",
    "The time complexity of the above solution is O(n).\n",
    "*/"
   ]
  },
  {
   "cell_type": "code",
   "execution_count": 84,
   "metadata": {},
   "outputs": [],
   "source": [
    "/*\n",
    "An Optimized Solution is to find k elements in O(Logn + k) time. \n",
    "\n",
    "The idea is to use Binary Search to find the crossover point. \n",
    "Once we find index of crossover point, we can print k closest elements in O(k) time.\n",
    "*/"
   ]
  },
  {
   "cell_type": "code",
   "execution_count": 85,
   "metadata": {},
   "outputs": [],
   "source": [
    "/* Function to find the cross over point (the point before \n",
    "   which elements are smaller than or equal to x and after \n",
    "   which greater than x)*/\n",
    "int findCrossOver(int arr[], int low, int high, int x) \n",
    "{ \n",
    "    // Base cases \n",
    "    if (arr[high] <= x) // x is greater than all \n",
    "        return high; \n",
    "    if (arr[low] > x)  // x is smaller than all \n",
    "        return low; \n",
    "\n",
    "    // Find the middle point \n",
    "    int mid = (low + high)/2;  /* low + (high - low)/2 */\n",
    "\n",
    "    /* If x is same as middle element, then return mid */\n",
    "    if (arr[mid] <= x && arr[mid+1] > x) \n",
    "        return mid; \n",
    "\n",
    "    /* If x is greater than arr[mid], then either arr[mid + 1] \n",
    "      is ceiling of x or ceiling lies in arr[mid+1...high] */\n",
    "    if(arr[mid] < x) \n",
    "        return findCrossOver(arr, mid+1, high, x); \n",
    "\n",
    "    return findCrossOver(arr, low, mid - 1, x); \n",
    "} \n",
    "\n",
    "// This function prints k closest elements to x in arr[]. \n",
    "// n is the number of elements in arr[] \n",
    "void printKclosest(int arr[], int x, int k, int n) \n",
    "{ \n",
    "    // Find the crossover point \n",
    "    int l = findCrossOver(arr, 0, n-1, x);  \n",
    "    int r = l+1;   // Right index to search \n",
    "    int count = 0; // To keep track of count of elements \n",
    "                   // already printed \n",
    "\n",
    "    // If x is present in arr[], then reduce left index \n",
    "    // Assumption: all elements in arr[] are distinct \n",
    "    if (arr[l] == x) l--; \n",
    "\n",
    "    // Compare elements on left and right of crossover \n",
    "    // point to find the k closest elements \n",
    "    while (l >= 0 && r < n && count < k) \n",
    "    { \n",
    "        if (x - arr[l] < arr[r] - x) \n",
    "            System.out.print(arr[l--]+\" \"); \n",
    "        else\n",
    "            System.out.print(arr[r++]+\" \"); \n",
    "        count++; \n",
    "    } \n",
    "\n",
    "    // If there are no more elements on right side, then \n",
    "    // print left elements \n",
    "    while (count < k && l >= 0) \n",
    "    { \n",
    "        System.out.print(arr[l--]+\" \"); \n",
    "        count++; \n",
    "    } \n",
    "\n",
    "\n",
    "    // If there are no more elements on left side, then \n",
    "    // print right elements \n",
    "    while (count < k && r < n) \n",
    "    { \n",
    "        System.out.print(arr[r++]+\" \"); \n",
    "        count++; \n",
    "    } \n",
    "} "
   ]
  },
  {
   "cell_type": "code",
   "execution_count": 86,
   "metadata": {},
   "outputs": [
    {
     "name": "stdout",
     "output_type": "stream",
     "text": [
      "39 30 42 45 "
     ]
    }
   ],
   "source": [
    "/* Driver program to check above functions */\n",
    "public static void main(String args[]) \n",
    "{ \n",
    "    int arr[] = {12, 16, 22, 30, 35, 39, 42, \n",
    "                 45, 48, 50, 53, 55, 56\n",
    "                }; \n",
    "    int n = arr.length; \n",
    "    int x = 35, k = 4; \n",
    "    printKclosest(arr, x, 4, n); \n",
    "} \n",
    "main(args);"
   ]
  },
  {
   "cell_type": "markdown",
   "metadata": {},
   "source": [
    "## **403. Tournament Tree (Winner Tree) and Binary Heap**\n",
    "https://www.geeksforgeeks.org/tournament-tree-and-binary-heap/"
   ]
  },
  {
   "cell_type": "code",
   "execution_count": 87,
   "metadata": {},
   "outputs": [],
   "source": [
    "/*\n",
    "View Question Link for Better Understanding\n",
    "*/"
   ]
  },
  {
   "cell_type": "markdown",
   "metadata": {},
   "source": [
    "## **404. Connect n ropes with minimum cost**\n",
    "https://www.geeksforgeeks.org/connect-n-ropes-minimum-cost/"
   ]
  },
  {
   "cell_type": "code",
   "execution_count": 88,
   "metadata": {},
   "outputs": [],
   "source": [
    "/*\n",
    "There are given n ropes of different lengths, \n",
    "we need to connect these ropes into one rope. \n",
    "The cost to connect two ropes is equal to sum of their lengths. \n",
    "We need to connect the ropes with minimum cost.\n",
    "*/"
   ]
  },
  {
   "cell_type": "code",
   "execution_count": 89,
   "metadata": {},
   "outputs": [],
   "source": [
    "/*\n",
    "For example if we are given 4 ropes of lengths 4, 3, 2 and 6. We can connect the ropes in following ways.\n",
    "\n",
    "1) First connect ropes of lengths 2 and 3. Now we have three ropes of lengths 4, 6 and 5.\n",
    "2) Now connect ropes of lengths 4 and 5. Now we have two ropes of lengths 6 and 9.\n",
    "3) Finally connect the two ropes and all ropes have connected.\n",
    "\n",
    "Total cost for connecting all ropes is 5 + 9 + 15 = 29. \n",
    "This is the optimized cost for connecting ropes. \n",
    "Other ways of connecting ropes would always have same or more cost. \n",
    "\n",
    "For example, \n",
    "    if we connect 4 and 6 first (we get three strings of 3, 2 and 10), \n",
    "            then connect 10 and 3 (we get two strings of 13 and 2). \n",
    "    Finally we connect 13 and 2. \n",
    "    Total cost in this way is 10 + 13 + 15 = 38.\n",
    "*/"
   ]
  },
  {
   "cell_type": "code",
   "execution_count": 90,
   "metadata": {},
   "outputs": [],
   "source": [
    "/*\n",
    "A simple implementation with STL in JAVA\n",
    "Following is a simple implementation that uses priority_queue available in STL. \n",
    "*/"
   ]
  },
  {
   "cell_type": "code",
   "execution_count": 91,
   "metadata": {},
   "outputs": [
    {
     "name": "stdout",
     "output_type": "stream",
     "text": [
      "Total cost for connecting ropes is 29\n"
     ]
    }
   ],
   "source": [
    "static int minCost(int arr[], int n) \n",
    "{ \n",
    "    // Create a priority queue \n",
    "    PriorityQueue<Integer> pq = new PriorityQueue<Integer>(); \n",
    "\n",
    "    // Adding items to the pQueue \n",
    "    for (int i = 0; i < n; i++) { \n",
    "        pq.add(arr[i]); \n",
    "    } \n",
    "\n",
    "    // Initialize result \n",
    "    int res = 0; \n",
    "\n",
    "    // While size of priority queue \n",
    "    // is more than 1 \n",
    "    while (pq.size() > 1) { \n",
    "        // Extract shortest two ropes from pq \n",
    "        int first = pq.poll(); \n",
    "        int second = pq.poll(); \n",
    "\n",
    "        // Connect the ropes: update result \n",
    "        // and insert the new rope to pq \n",
    "        res += first + second; \n",
    "        pq.add(first + second); \n",
    "    } \n",
    "\n",
    "    return res; \n",
    "} \n",
    "\n",
    "// Driver program to test above function \n",
    "public static void main(String args[]) \n",
    "{ \n",
    "    int len[] = { 4, 3, 2, 6 }; \n",
    "    int size = len.length; \n",
    "    System.out.println(\"Total cost for connecting\"\n",
    "                       + \" ropes is \" + minCost(len, size)); \n",
    "} \n",
    "main(args);"
   ]
  },
  {
   "cell_type": "code",
   "execution_count": 92,
   "metadata": {},
   "outputs": [],
   "source": [
    "/*\n",
    "For Other Method View Quesion Link\n",
    "*/"
   ]
  },
  {
   "cell_type": "code",
   "execution_count": null,
   "metadata": {},
   "outputs": [],
   "source": []
  }
 ],
 "metadata": {
  "kernelspec": {
   "display_name": "Java",
   "language": "java",
   "name": "java"
  },
  "language_info": {
   "codemirror_mode": "java",
   "file_extension": ".jshell",
   "mimetype": "text/x-java-source",
   "name": "Java",
   "pygments_lexer": "java",
   "version": "11.0.6+8-LTS"
  },
  "toc": {
   "base_numbering": 1,
   "nav_menu": {},
   "number_sections": true,
   "sideBar": true,
   "skip_h1_title": false,
   "title_cell": "Table of Contents",
   "title_sidebar": "Contents",
   "toc_cell": false,
   "toc_position": {},
   "toc_section_display": true,
   "toc_window_display": true
  }
 },
 "nbformat": 4,
 "nbformat_minor": 2
}
