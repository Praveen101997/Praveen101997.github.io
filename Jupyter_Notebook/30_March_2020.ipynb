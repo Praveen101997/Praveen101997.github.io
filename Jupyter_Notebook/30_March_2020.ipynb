{
 "cells": [
  {
   "cell_type": "markdown",
   "metadata": {},
   "source": [
    "**------------------------Questions Covered-----------------------------**"
   ]
  },
  {
   "cell_type": "markdown",
   "metadata": {},
   "source": [
    "***9\tLinkedList\thttps://www.geeksforgeeks.org/subtract-two-numbers-represented-as-linked-lists/\tPep_JavaIP_9LinkedList_289Subtract2LinkedLists\t\t\t\t\t\t\t\t\t\t\t\t\t\t\t\t\t\t\t\t\t\t\t\t\n",
    "9\tLinkedList\thttps://www.geeksforgeeks.org/find-pair-given-sum-sorted-singly-linked-without-extra-space/\tPep_JavaIP_9LinkedList_290TargetPairSum\t\t\t\t\t\t\t\t\t\t\t\t\t\t\t\t\t\t\t\t\t\t\t\t\n",
    "9\tLinkedList\thttps://www.geeksforgeeks.org/multiply-two-numbers-represented-linked-lists/\tPep_JavaIP_9LinkedList_291Multiply\t\t\t\t\t\t\t\t\t\t\t\t\t\t\t\t\t\t\t\t\t\t\t\t\n",
    "9\tLinkedList\thttps://www.geeksforgeeks.org/merge-two-sorted-lists-place/\t\t\t\t\t\t\t\t\t\t\t\t\t\t\t\t\t\t\t\t\t\t\t\t\t\n",
    "9\tLinkedList\thttps://www.geeksforgeeks.org/rotate-linked-list-block-wise/\t\t\t\t\t\t\t\t\t\t\t\t\t\t\t\t\t\t\t\t\t\t\t\t\t\n",
    "9\tLinkedList\thttps://www.geeksforgeeks.org/josephus-circle-using-circular-linked-list/\tPep_JavaIP_9LinkedList_294JosephusCircle\t\t\t\t\t\t\t\t\t\t\t\t\t\t\t\t\t\t\t\t\t\t\t\t\n",
    "9\tLinkedList\thttps://www.geeksforgeeks.org/count-triplets-sorted-doubly-linked-list-whose-sum-equal-given-value-x/\tPep_JavaIP_9LinkedList_295TripletsinDoublyLinkedList\t\t\t\t\t\t\t\t\t\t\t\t\t\t\t\t\t\t\t\t\t\t\t\t\n",
    "9\tLinkedList\thttps://www.geeksforgeeks.org/sort-biotonic-doubly-linked-list/\tPep_JavaIP_9LinkedList_296SortBiotonicDoublyLinkedList\t\t\t\t\t\t\t\t\t\t\t\t\t\t\t\t\t\t\t\t\t\t\t\t\n",
    "9\tLinkedList\thttps://www.geeksforgeeks.org/sort-k-sorted-doubly-linked-list/\t\t\t\t\t\t\t\t\t\t\t\t\t\t\t\t\t\t\t\t\t\t\t\t\t\n",
    "10\tGeneric Trees\thttps://www.geeksforgeeks.org/check-mirror-n-ary-tree/\t\t\t\t\t\t\t\t\t\t\t\t\t\t\t\t\t\t\t\t\t\t\t\t\t\n",
    "10\tGeneric Trees\thttps://www.geeksforgeeks.org/serialize-deserialize-n-ary-tree/\tVERY VERY VERY IMPORTANT\t\t\t\t\t\t\t\t\t\t\t\t\t\t\t\t\t\t\t\t\t\t\t\t\n",
    "10\tGeneric Trees\thttps://www.geeksforgeeks.org/immediate-smaller-element-n-ary-tree/\t\t\t\t\t\t\t\t\t\t\t\t\t\t\t\t\t\t\t\t\t\t\t\t\t\n",
    "10\tGeneric Trees\thttps://www.geeksforgeeks.org/immediate-smaller-element-n-ary-tree/\t\t\t\t\t\t\t\t\t\t\t\t\t\t\t\t\t\t\t\t\t\t\t\t\t\n",
    "10\tGeneric Trees\thttps://www.geeksforgeeks.org/immediate-smaller-element-n-ary-tree/***"
   ]
  },
  {
   "cell_type": "code",
   "execution_count": 1,
   "metadata": {},
   "outputs": [],
   "source": [
    "import java.util.*;\n",
    "import java.io.*;\n",
    "import java.util.Arrays;\n",
    "String[] args =new String[0];"
   ]
  },
  {
   "cell_type": "markdown",
   "metadata": {},
   "source": [
    "## **286. Subtract Two Numbers represented as Linked Lists**\n",
    "https://www.geeksforgeeks.org/subtract-two-numbers-represented-as-linked-lists/"
   ]
  },
  {
   "cell_type": "code",
   "execution_count": 2,
   "metadata": {},
   "outputs": [],
   "source": [
    "/*\n",
    "Given two linked lists that represent two large positive numbers. \n",
    "Subtract the smaller number from larger one \n",
    "    and return the difference as a linked list. \n",
    "    \n",
    "Note that the input lists may be in any order, but we always need to subtract smaller from larger one.\n",
    "\n",
    "It may be assumed that there are no extra leading zeros in input lists.\n",
    "*/"
   ]
  },
  {
   "cell_type": "code",
   "execution_count": 3,
   "metadata": {},
   "outputs": [],
   "source": [
    "/*\n",
    "Examples\n",
    "\n",
    "Input  : l1 = 1 -> 0 -> 0 -> NULL,  l2 = 1 -> NULL\n",
    "Output : 0->9->9->NULL\n",
    "\n",
    "Input  : l1 = 1 -> 0 -> 0 -> NULL,  l2 = 1 -> NULL\n",
    "Output : 0->9->9->NULL\n",
    "\n",
    "Input  : l1 = 7-> 8 -> 6 -> NULL,  l2 = 7 -> 8 -> 9 NULL\n",
    "Output : 3->NULL\n",
    "*/"
   ]
  },
  {
   "cell_type": "code",
   "execution_count": 4,
   "metadata": {},
   "outputs": [],
   "source": [
    "/*\n",
    "Following are the steps.\n",
    "\n",
    "1) Calculate sizes of given two linked lists.\n",
    "2) If sizes not are same, \n",
    "        then append zeros in smaller linked list.\n",
    "3) If size are same, \n",
    "        then follow below steps:\n",
    "    a) Find the smaller valued linked list.\n",
    "    b) One by one subtract nodes of smaller sized linked list from larger size. \n",
    "       Keep track of borrow while subtracting.\n",
    "\n",
    "Following is the implementation of the above approach.\n",
    "*/"
   ]
  },
  {
   "cell_type": "code",
   "execution_count": 5,
   "metadata": {},
   "outputs": [],
   "source": [
    "/* Node Class */\n",
    "static class Node { \n",
    "    int data; \n",
    "    Node next; \n",
    "\n",
    "    // Constructor to create a new node \n",
    "    Node(int d) { \n",
    "        data = d; \n",
    "        next = null; \n",
    "    } \n",
    "} \n",
    "\n",
    "// function to display the linked list \n",
    "static void printList(Node head) \n",
    "{ \n",
    "    Node temp = head; \n",
    "    while (temp != null)  \n",
    "    { \n",
    "        System.out.print(temp.data + \" \"); \n",
    "        temp = temp.next; \n",
    "    } \n",
    "} "
   ]
  },
  {
   "cell_type": "code",
   "execution_count": 6,
   "metadata": {},
   "outputs": [],
   "source": [
    "class LinkedList \n",
    "{ \n",
    "    static Node head; // head of list \n",
    "    boolean borrow; \n",
    "  \n",
    "      \n",
    "    /* A utility function to get length of  \n",
    "    linked list */\n",
    "    int getLength(Node node)  \n",
    "    { \n",
    "        int size = 0; \n",
    "        while (node != null) \n",
    "        { \n",
    "            node = node.next; \n",
    "            size++; \n",
    "        } \n",
    "        return size; \n",
    "    } \n",
    "  \n",
    "    /* A Utility that padds zeros in front  \n",
    "    of the Node, with the given diff */\n",
    "    Node paddZeros(Node sNode, int diff) \n",
    "    { \n",
    "        if (sNode == null) \n",
    "            return null; \n",
    "  \n",
    "        Node zHead = new Node(0); \n",
    "        diff--; \n",
    "        Node temp = zHead; \n",
    "        while ((diff--) != 0) \n",
    "        { \n",
    "            temp.next = new Node(0); \n",
    "            temp = temp.next; \n",
    "        } \n",
    "        temp.next = sNode; \n",
    "        return zHead; \n",
    "    } \n",
    "  \n",
    "    /* Subtract LinkedList Helper is a recursive \n",
    "    function, move till the last Node, and  \n",
    "    subtract the digits and create the Node and \n",
    "    return the Node. If d1 < d2, we borrow the  \n",
    "    number from previous digit. */\n",
    "    Node subtractLinkedListHelper(Node l1, Node l2) \n",
    "    { \n",
    "        if (l1 == null && l2 == null && borrow == false) \n",
    "            return null; \n",
    "  \n",
    "        Node previous = subtractLinkedListHelper((l1 != null) ?  \n",
    "                                 l1.next : null, (l2 != null) ?  \n",
    "                                 l2.next : null); \n",
    "  \n",
    "        int d1 = l1.data; \n",
    "        int d2 = l2.data; \n",
    "        int sub = 0; \n",
    "  \n",
    "        /* if you have given the value value to  \n",
    "        next digit then reduce the d1 by 1 */\n",
    "        if (borrow) \n",
    "        { \n",
    "            d1--; \n",
    "            borrow = false; \n",
    "        } \n",
    "  \n",
    "        /* If d1 < d2 , then borrow the number from \n",
    "        previous digit. Add 10 to d1 and set  \n",
    "        borrow = true; */\n",
    "        if (d1 < d2) \n",
    "        { \n",
    "            borrow = true; \n",
    "            d1 = d1 + 10; \n",
    "        } \n",
    "  \n",
    "        /* subtract the digits */\n",
    "        sub = d1 - d2; \n",
    "  \n",
    "        /* Create a Node with sub value */\n",
    "        Node current = new Node(sub); \n",
    "  \n",
    "        /* Set the Next pointer as Previous */\n",
    "        current.next = previous; \n",
    "  \n",
    "        return current; \n",
    "    } \n",
    "  \n",
    "    /* This API subtracts two linked lists and  \n",
    "    returns the linked list which shall have the \n",
    "    subtracted result. */\n",
    "    Node subtractLinkedList(Node l1, Node l2) \n",
    "    { \n",
    "        // Base Case. \n",
    "        if (l1 == null && l2 == null) \n",
    "            return null; \n",
    "  \n",
    "        // In either of the case, get the lengths \n",
    "        // of both Linked list. \n",
    "        int len1 = getLength(l1); \n",
    "        int len2 = getLength(l2); \n",
    "  \n",
    "        Node lNode = null, sNode = null; \n",
    "  \n",
    "        Node temp1 = l1; \n",
    "        Node temp2 = l2; \n",
    "  \n",
    "        // If lengths differ, calculate the smaller  \n",
    "        // Node and padd zeros for smaller Node and \n",
    "        // ensure both larger Node and smaller Node \n",
    "        // has equal length. \n",
    "        if (len1 != len2) \n",
    "        { \n",
    "            lNode = len1 > len2 ? l1 : l2; \n",
    "            sNode = len1 > len2 ? l2 : l1; \n",
    "            sNode = paddZeros(sNode, Math.abs(len1 - len2)); \n",
    "        } \n",
    "  \n",
    "        else\n",
    "        { \n",
    "            // If both list lengths are equal, then  \n",
    "            // calculate the larger and smaller list.  \n",
    "            // If 5-6-7 & 5-6-8 are linked list, then  \n",
    "            // walk through linked list at last Node  \n",
    "            // as 7 < 8, larger Node is 5-6-8 and  \n",
    "            // smaller Node is 5-6-7. \n",
    "            while (l1 != null && l2 != null) \n",
    "            { \n",
    "                if (l1.data != l2.data) \n",
    "                { \n",
    "                    lNode = l1.data > l2.data ? temp1 : temp2; \n",
    "                    sNode = l1.data > l2.data ? temp2 : temp1; \n",
    "                    break; \n",
    "                } \n",
    "                l1 = l1.next; \n",
    "                l2 = l2.next; \n",
    "            } \n",
    "        } \n",
    "  \n",
    "        // After calculating larger and smaller Node, \n",
    "        // call subtractLinkedListHelper which returns \n",
    "        // the subtracted linked list. \n",
    "        borrow = false; \n",
    "        return subtractLinkedListHelper(lNode, sNode); \n",
    "    } \n",
    "}"
   ]
  },
  {
   "cell_type": "code",
   "execution_count": 7,
   "metadata": {},
   "outputs": [
    {
     "name": "stdout",
     "output_type": "stream",
     "text": [
      "0 9 9 "
     ]
    }
   ],
   "source": [
    "// Driver program to test above \n",
    "public static void main (String[] args)  \n",
    "{ \n",
    "    Node head = new Node(1); \n",
    "    head.next = new Node(0); \n",
    "    head.next.next = new Node(0); \n",
    "\n",
    "    Node head2 = new Node(1); \n",
    "\n",
    "    LinkedList ob = new LinkedList(); \n",
    "    Node result = ob.subtractLinkedList(head, head2); \n",
    "\n",
    "    printList(result); \n",
    "\n",
    "}  \n",
    "main(args);"
   ]
  },
  {
   "cell_type": "markdown",
   "metadata": {},
   "source": [
    "## **287. Find pair for given sum in a sorted singly linked without extra space**\n",
    "https://www.geeksforgeeks.org/find-pair-given-sum-sorted-singly-linked-without-extra-space/"
   ]
  },
  {
   "cell_type": "code",
   "execution_count": 8,
   "metadata": {},
   "outputs": [],
   "source": [
    "/*\n",
    "Given a sorted singly linked list and a value x, \n",
    "the task is to find pair whose sum is equal to x. \n",
    "\n",
    "We are not allowed to use any extra space \n",
    "and expected time complexity is O(n).\n",
    "*/"
   ]
  },
  {
   "cell_type": "code",
   "execution_count": 9,
   "metadata": {},
   "outputs": [],
   "source": [
    "/*\n",
    "Examples:\n",
    "\n",
    "Input : \n",
    "    head = 3-->6-->7-->8-->9-->10-->11 , x=17\n",
    "Output: \n",
    "    (6, 11), (7, 10), (8, 9)\n",
    "Hint : \n",
    "    We are allowed to modify original linked list\n",
    "*/"
   ]
  },
  {
   "cell_type": "code",
   "execution_count": 10,
   "metadata": {},
   "outputs": [],
   "source": [
    "/*\n",
    "A simple solution for this problem \n",
    "    is to take each element one by one \n",
    "    and traverse the remaining list in forward direction to find second element whose sum is equal to given value x. \n",
    "    \n",
    "Time complexity for this approach will be O(n^2).\n",
    "*/"
   ]
  },
  {
   "cell_type": "code",
   "execution_count": 11,
   "metadata": {},
   "outputs": [],
   "source": [
    "/*\n",
    "An efficient solution for this problem is based on ideas discussed in below articles.\n",
    "\n",
    "Find pair in doubly linked list : \n",
    "    We use the same algorithm that traverses linked list from both ends.\n",
    "XOR Linked list : \n",
    "    In singly linked list, we can traverse list only in forward direction. \n",
    "    We use XOR concept to convert a singly linked list to doubly linked list.\n",
    "*/"
   ]
  },
  {
   "cell_type": "markdown",
   "metadata": {},
   "source": [
    "**Find Pair In Doubly Linked List :**  ***https://www.geeksforgeeks.org/find-pairs-given-sum-doubly-linked-list/***"
   ]
  },
  {
   "cell_type": "markdown",
   "metadata": {},
   "source": [
    "**XOR Linked List :**  ***https://www.geeksforgeeks.org/xor-linked-list-a-memory-efficient-doubly-linked-list-set-2/***"
   ]
  },
  {
   "cell_type": "code",
   "execution_count": 12,
   "metadata": {},
   "outputs": [],
   "source": [
    "/*\n",
    "Time complexity : O(n)\n",
    "\n",
    "If linked list is not sorted, \n",
    "    then we can sort the list as a first step. \n",
    "\n",
    "But in that case overall time complexity would become O(n Log n).\n",
    "We can use Hashing in such cases if extra space is not a constraint.\n",
    "    The hashing based solution is same as method 2 in given (link below).\n",
    "\n",
    "\n",
    "Below are steps :\n",
    "\n",
    "1. First we need to convert our singly linked list into doubly linked list. \n",
    "    Here we are given singly linked list structure node which have only next pointer not prev pointer, \n",
    "    so to convert our singly linked list into doubly linked list we use memory efficient doubly linked list \n",
    "    ( XOR linked list ).\n",
    "2. In XOR linked list each next pointer of singly linked list contains XOR of next and prev pointer.\n",
    "3. After converting singly linked list into doubly linked list \n",
    "    we initialize two pointers variables to find the candidate elements in the sorted doubly linked list. \n",
    "    Initialize first with start of doubly linked list \n",
    "        i.e; first = head \n",
    "    and initialize second with last node of doubly linked list \n",
    "        i.e; second = last_node.\n",
    "4. Here we don’t have random access, \n",
    "    so to initialize pointer, \n",
    "    we traverse the list till last node and assign last node to second.\n",
    "5. If current sum of first and second is less than x, \n",
    "        then we move first in forward direction. \n",
    "    If current sum of first and second element is greater than x, \n",
    "        then we move second in backward direction.\n",
    "6. Loop termination conditions are also different from arrays. \n",
    "        The loop terminates when either of two pointers become NULL, \n",
    "        or they cross each other (first=next_node), \n",
    "        or they become same (first == second).\n",
    "*/"
   ]
  },
  {
   "cell_type": "markdown",
   "metadata": {},
   "source": [
    "***https://www.geeksforgeeks.org/given-an-array-a-and-a-number-x-check-for-pair-in-a-with-sum-as-x/***"
   ]
  },
  {
   "cell_type": "markdown",
   "metadata": {},
   "source": [
    "***https://ideone.com/kT74Nk***"
   ]
  },
  {
   "cell_type": "markdown",
   "metadata": {},
   "source": [
    "## **288. Multiply two numbers represented by Linked Lists**\n",
    "https://www.geeksforgeeks.org/multiply-two-numbers-represented-linked-lists/"
   ]
  },
  {
   "cell_type": "code",
   "execution_count": 13,
   "metadata": {},
   "outputs": [],
   "source": [
    "/*\n",
    "Given two numbers represented by linked lists, \n",
    "write a function that returns the multiplication of these two linked lists.\n",
    "*/"
   ]
  },
  {
   "cell_type": "code",
   "execution_count": 14,
   "metadata": {},
   "outputs": [],
   "source": [
    "/*\n",
    "Examples:\n",
    "\n",
    "Input : 9->4->6\n",
    "        8->4\n",
    "Output : 79464\n",
    "\n",
    "Input : 3->2->1\n",
    "        1->2\n",
    "Output : 3852\n",
    "*/"
   ]
  },
  {
   "cell_type": "code",
   "execution_count": 15,
   "metadata": {},
   "outputs": [],
   "source": [
    "/*\n",
    "Solution:\n",
    "\n",
    "Traverse both lists and generate the required numbers to be multiplied \n",
    "and then return the multiplied values of the two numbers.\n",
    "\n",
    "Algorithm to generate the number from linked list representation:\n",
    "1) Initialize a variable to zero\n",
    "2) Start traversing the linked list\n",
    "3) Add the value of first node to this variable\n",
    "4) From the second node, multiply the variable by 10 first \n",
    "   and then add the value of the node to this variable.\n",
    "5) Repeat step 4 until we reach the last node of the list. \n",
    "\n",
    "Use the above algorithm with both of linked lists to generate the numbers.\n",
    "\n",
    "Below is the program for multiplying two numbers represented as linked lists:\n",
    "*/"
   ]
  },
  {
   "cell_type": "code",
   "execution_count": 16,
   "metadata": {},
   "outputs": [],
   "source": [
    "// Linked list node  \n",
    "static class node  \n",
    "{  \n",
    "    int data;  \n",
    "    node next;  \n",
    "}; "
   ]
  },
  {
   "cell_type": "code",
   "execution_count": 17,
   "metadata": {},
   "outputs": [
    {
     "name": "stdout",
     "output_type": "stream",
     "text": [
      "First List is: 9->4->6\n",
      "Second List is: 8->4\n",
      "Result is: 79464\n"
     ]
    }
   ],
   "source": [
    "// Java program to Multiply two numbers  \n",
    "// represented as linked lists  \n",
    "class GFG \n",
    "{ \n",
    "    // Linked list node  \n",
    "    static class node  \n",
    "    {  \n",
    "        int data;  \n",
    "        node next;  \n",
    "    };  \n",
    "\n",
    "    // Function to create a new node  \n",
    "    // with given data  \n",
    "    static node newNode(int data)  \n",
    "    {  \n",
    "        node new_node = new node();  \n",
    "        new_node.data = data;  \n",
    "        new_node.next = null;  \n",
    "        return new_node;  \n",
    "    }  \n",
    "\n",
    "    // Function to insert a node at the  \n",
    "    // beginning of the Linked List  \n",
    "    static node push( node head_ref, int new_data)  \n",
    "    {  \n",
    "        // allocate node  \n",
    "        node new_node = newNode(new_data);  \n",
    "\n",
    "        // link the old list off the new node  \n",
    "        new_node.next = (head_ref);  \n",
    "\n",
    "        // move the head to point to the new node  \n",
    "        (head_ref) = new_node;  \n",
    "        return head_ref; \n",
    "    }  \n",
    "\n",
    "    // Multiply contents of two linked lists  \n",
    "    static long multiplyTwoLists ( node first, node second)  \n",
    "    {  \n",
    "        int num1 = 0, num2 = 0;  \n",
    "\n",
    "        // Generate numbers from linked lists  \n",
    "        while (first != null || second != null)  \n",
    "        {  \n",
    "            if (first != null)  \n",
    "            {  \n",
    "                num1 = num1*10 + first.data;  \n",
    "                first = first.next;  \n",
    "            }  \n",
    "            if (second != null)  \n",
    "            {  \n",
    "                num2 = num2*10 + second.data;  \n",
    "                second = second.next;  \n",
    "            }  \n",
    "        }  \n",
    "\n",
    "        // Return multiplication of  \n",
    "        // two numbers  \n",
    "        return num1*num2;  \n",
    "    }  \n",
    "\n",
    "    // A utility function to print a linked list  \n",
    "    static void printList( node node)  \n",
    "    {  \n",
    "        while(node != null)  \n",
    "        {  \n",
    "            System.out.printf(\"%d\", node.data);  \n",
    "            if(node.next != null)  \n",
    "                System.out.printf(\"->\");  \n",
    "            node = node.next;  \n",
    "        }  \n",
    "        System.out.printf(\"\\n\");  \n",
    "    }  \n",
    "\n",
    "    // Driver code  \n",
    "    public static void main(String args[]) \n",
    "    {  \n",
    "        node first = null;  \n",
    "        node second = null;  \n",
    "\n",
    "        // create first list 9.4.6  \n",
    "        first = push(first, 6);  \n",
    "        first = push(first, 4);  \n",
    "        first = push(first, 9);  \n",
    "        System.out.printf(\"First List is: \");  \n",
    "        printList(first);  \n",
    "\n",
    "        // create second list 8.4  \n",
    "        second = push(second, 4);  \n",
    "        second = push(second, 8);  \n",
    "        System.out.printf(\"Second List is: \");  \n",
    "        printList(second);  \n",
    "\n",
    "        // Multiply the two lists and see result  \n",
    "        System.out.printf(\"Result is: \");  \n",
    "        System.out.println(multiplyTwoLists(first, second));  \n",
    "    } \n",
    "}  \n",
    "GFG.main(args);"
   ]
  },
  {
   "cell_type": "markdown",
   "metadata": {},
   "source": [
    "## **289. Merge two sorted lists (in-place)**\n",
    "https://www.geeksforgeeks.org/merge-two-sorted-lists-place/"
   ]
  },
  {
   "cell_type": "code",
   "execution_count": 18,
   "metadata": {},
   "outputs": [],
   "source": [
    "/*\n",
    "Given two sorted lists, \n",
    "merge them so as to produce a combined sorted list (without using extra space).\n",
    "*/"
   ]
  },
  {
   "cell_type": "code",
   "execution_count": 19,
   "metadata": {},
   "outputs": [],
   "source": [
    "/*\n",
    "Examples:\n",
    "\n",
    "Input : head1: 5->7->9\n",
    "        head2: 4->6->8 \n",
    "Output : 4->5->6->7->8->9\n",
    "\n",
    "Input : head1: 1->3->5->7\n",
    "        head2: 2->4\n",
    "Output : 1->2->3->4->5->7\n",
    "*/"
   ]
  },
  {
   "cell_type": "markdown",
   "metadata": {},
   "source": [
    "**Related Link :**  ***https://www.geeksforgeeks.org/merge-two-sorted-linked-lists/***"
   ]
  },
  {
   "cell_type": "code",
   "execution_count": 20,
   "metadata": {},
   "outputs": [],
   "source": [
    "/*\n",
    "In this post, \n",
    "    a new simpler solutions are discussed. \n",
    "The idea is to one by one compare nodes and form the result list.\n",
    "*/"
   ]
  },
  {
   "cell_type": "markdown",
   "metadata": {},
   "source": [
    "**Method 1 (Recursive)**"
   ]
  },
  {
   "cell_type": "code",
   "execution_count": 21,
   "metadata": {},
   "outputs": [
    {
     "name": "stdout",
     "output_type": "stream",
     "text": [
      "0 1 2 3 4 5 "
     ]
    }
   ],
   "source": [
    "static class Node { \n",
    "    int data; \n",
    "    Node next; \n",
    "}; \n",
    "\n",
    "// Function to create newNode in a linkedlist \n",
    "static Node newNode(int key) \n",
    "{ \n",
    "    Node temp = new Node(); \n",
    "    temp.data = key; \n",
    "    temp.next = null; \n",
    "    return temp; \n",
    "} \n",
    "\n",
    "// A utility function to print linked list \n",
    "static void printList(Node node) \n",
    "{ \n",
    "    while (node != null) { \n",
    "        System.out.printf(\"%d \", node.data); \n",
    "        node = node.next; \n",
    "    } \n",
    "} \n",
    "\n",
    "// Merges two given lists in-place. This function \n",
    "// mainly compares head nodes and calls mergeUtil() \n",
    "static Node merge(Node h1, Node h2) \n",
    "{ \n",
    "    if (h1 == null) \n",
    "        return h2; \n",
    "    if (h2 == null) \n",
    "        return h1; \n",
    "\n",
    "    // start with the linked list \n",
    "    // whose head data is the least \n",
    "    if (h1.data < h2.data) { \n",
    "        h1.next = merge(h1.next, h2); \n",
    "        return h1; \n",
    "    } \n",
    "    else { \n",
    "        h2.next = merge(h1, h2.next); \n",
    "        return h2; \n",
    "    } \n",
    "} \n",
    "\n",
    "// Driver program \n",
    "public static void main(String args[]) \n",
    "{ \n",
    "    Node head1 = newNode(1); \n",
    "    head1.next = newNode(3); \n",
    "    head1.next.next = newNode(5); \n",
    "\n",
    "    // 1.3.5 LinkedList created \n",
    "\n",
    "    Node head2 = newNode(0); \n",
    "    head2.next = newNode(2); \n",
    "    head2.next.next = newNode(4); \n",
    "\n",
    "    // 0.2.4 LinkedList created \n",
    "\n",
    "    Node mergedhead = merge(head1, head2); \n",
    "\n",
    "    printList(mergedhead); \n",
    "} \n",
    "main(args);"
   ]
  },
  {
   "cell_type": "markdown",
   "metadata": {},
   "source": [
    "**Method 2 (Iterative)**"
   ]
  },
  {
   "cell_type": "code",
   "execution_count": 22,
   "metadata": {},
   "outputs": [
    {
     "name": "stdout",
     "output_type": "stream",
     "text": [
      "0 1 2 3 4 5 "
     ]
    }
   ],
   "source": [
    "static class Node { \n",
    "    int data; \n",
    "    Node next; \n",
    "} \n",
    "\n",
    "// Function to create newNode in a linkedlist \n",
    "static Node newNode(int key) \n",
    "{ \n",
    "    Node temp = new Node(); \n",
    "    temp.data = key; \n",
    "    temp.next = null; \n",
    "    return temp; \n",
    "} \n",
    "\n",
    "// A utility function to print linked list \n",
    "static void printList(Node node) \n",
    "{ \n",
    "    while (node != null) { \n",
    "        System.out.print(node.data + \" \"); \n",
    "        node = node.next; \n",
    "    } \n",
    "} \n",
    "\n",
    "// Merges two lists with headers as h1 and h2. \n",
    "// It assumes that h1's data is smaller than \n",
    "// or equal to h2's data. \n",
    "static Node mergeUtil(Node h1, Node h2) \n",
    "{ \n",
    "    // if only one node in first list \n",
    "    // simply point its head to second list \n",
    "    if (h1.next == null) { \n",
    "        h1.next = h2; \n",
    "        return h1; \n",
    "    } \n",
    "\n",
    "    // Initialize current and next pointers of \n",
    "    // both lists \n",
    "    Node curr1 = h1, next1 = h1.next; \n",
    "    Node curr2 = h2, next2 = h2.next; \n",
    "\n",
    "    while (next1 != null && curr2 != null) { \n",
    "        // if curr2 lies in between curr1 and next1 \n",
    "        // then do curr1->curr2->next1 \n",
    "        if ((curr2.data) >= (curr1.data) && (curr2.data) <= (next1.data)) { \n",
    "            next2 = curr2.next; \n",
    "            curr1.next = curr2; \n",
    "            curr2.next = next1; \n",
    "\n",
    "            // now let curr1 and curr2 to point \n",
    "            // to their immediate next pointers \n",
    "            curr1 = curr2; \n",
    "            curr2 = next2; \n",
    "        } \n",
    "        else { \n",
    "            // if more nodes in first list \n",
    "            if (next1.next != null) { \n",
    "                next1 = next1.next; \n",
    "                curr1 = curr1.next; \n",
    "            } \n",
    "\n",
    "            // else point the last node of first list \n",
    "            // to the remaining nodes of second list \n",
    "            else { \n",
    "                next1.next = curr2; \n",
    "                return h1; \n",
    "            } \n",
    "        } \n",
    "    } \n",
    "    return h1; \n",
    "} \n",
    "\n",
    "// Merges two given lists in-place. This function \n",
    "// mainly compares head nodes and calls mergeUtil() \n",
    "static Node merge(Node h1, Node h2) \n",
    "{ \n",
    "    if (h1 == null) \n",
    "        return h2; \n",
    "    if (h2 == null) \n",
    "        return h1; \n",
    "\n",
    "    // start with the linked list \n",
    "    // whose head data is the least \n",
    "    if (h1.data < h2.data) \n",
    "        return mergeUtil(h1, h2); \n",
    "    else\n",
    "        return mergeUtil(h2, h1); \n",
    "} \n",
    "\n",
    "// Driver code \n",
    "public static void main(String[] args) \n",
    "{ \n",
    "    Node head1 = newNode(1); \n",
    "    head1.next = newNode(3); \n",
    "    head1.next.next = newNode(5); \n",
    "\n",
    "    // 1->3->5 LinkedList created \n",
    "\n",
    "    Node head2 = newNode(0); \n",
    "    head2.next = newNode(2); \n",
    "    head2.next.next = newNode(4); \n",
    "\n",
    "    // 0->2->4 LinkedList created \n",
    "\n",
    "    Node mergedhead = merge(head1, head2); \n",
    "\n",
    "    printList(mergedhead); \n",
    "} \n",
    "main(args);"
   ]
  },
  {
   "cell_type": "markdown",
   "metadata": {},
   "source": [
    "## **290. Rotate Linked List block wise**\n",
    "https://www.geeksforgeeks.org/rotate-linked-list-block-wise/"
   ]
  },
  {
   "cell_type": "code",
   "execution_count": 23,
   "metadata": {},
   "outputs": [],
   "source": [
    "/*\n",
    "Given a Linked List of length n and block length k rotate in circular manner towards right/left each block by a number d. \n",
    "\n",
    "If d is positive \n",
    "    rotate towards right \n",
    "else \n",
    "    rotate towards left.\n",
    "*/"
   ]
  },
  {
   "cell_type": "code",
   "execution_count": 24,
   "metadata": {},
   "outputs": [],
   "source": [
    "/*\n",
    "Examples:\n",
    "\n",
    "Input: 1->2->3->4->5->6->7->8->9->NULL, \n",
    "        k = 3 \n",
    "        d = 1\n",
    "Output: 3->1->2->6->4->5->9->7->8->NULL\n",
    "Explanation: Here blocks of size 3 are\n",
    "rotated towards right(as d is positive) \n",
    "by 1.\n",
    " \n",
    "Input: 1->2->3->4->5->6->7->8->9->10->\n",
    "               11->12->13->14->15->NULL, \n",
    "        k = 4 \n",
    "        d = -1\n",
    "Output: 2->3->4->1->6->7->8->5->10->11\n",
    "             ->12->9->14->15->13->NULL\n",
    "Explanation: Here, at the end of linked \n",
    "list, remaining nodes are less than k, i.e.\n",
    "only three nodes are left while k is 4. \n",
    "Rotate those 3 nodes also by d.\n",
    "*/"
   ]
  },
  {
   "cell_type": "markdown",
   "metadata": {},
   "source": [
    "**Prerequisite :**  ***https://www.geeksforgeeks.org/rotate-a-linked-list/***"
   ]
  },
  {
   "cell_type": "code",
   "execution_count": 25,
   "metadata": {},
   "outputs": [],
   "source": [
    "/*\n",
    "The idea is \n",
    "if the absolute value of d is greater than the value of k, \n",
    "    then rotate the link list by d % k times. \n",
    "If d is 0, \n",
    "    no need to rotate the linked list at all.\n",
    "*/"
   ]
  },
  {
   "cell_type": "markdown",
   "metadata": {},
   "source": [
    "***https://ideone.com/iygPKk***"
   ]
  },
  {
   "cell_type": "markdown",
   "metadata": {},
   "source": [
    "## **291. Josephus Circle using circular linked list**\n",
    "https://www.geeksforgeeks.org/josephus-circle-using-circular-linked-list/"
   ]
  },
  {
   "cell_type": "code",
   "execution_count": 26,
   "metadata": {},
   "outputs": [],
   "source": [
    "/*\n",
    "There are n people standing in a circle waiting to be executed. \n",
    "The counting out begins at some point in the circle and proceeds around the circle in a fixed direction. \n",
    "\n",
    "In each step,\n",
    "    a certain number of people are skipped and the next person is executed. \n",
    "    The elimination proceeds around the circle \n",
    "        (which is becoming smaller and smaller as the executed people are removed),\n",
    "        until only the last person remains, who is given freedom. \n",
    "\n",
    "Given the total number of persons n and a number m \n",
    "which indicates that m-1 persons are skipped and m-th person is killed in circle. \n",
    "The task is to choose the place in the initial circle so that you are the last one remaining and so survive.\n",
    "*/"
   ]
  },
  {
   "cell_type": "code",
   "execution_count": 27,
   "metadata": {},
   "outputs": [],
   "source": [
    "/*\n",
    "Examples :\n",
    "\n",
    "Input : Length of circle : n = 4\n",
    "        Count to choose next : m = 2\n",
    "Output : 1\n",
    "\n",
    "Input : n = 5\n",
    "        m = 3\n",
    "Output : 4\n",
    "*/"
   ]
  },
  {
   "cell_type": "markdown",
   "metadata": {},
   "source": [
    "**Related Link :**\n",
    "\n",
    "***https://www.geeksforgeeks.org/josephus-problem-set-1-a-on-solution/***\n",
    "\n",
    "***https://www.geeksforgeeks.org/josephus-problem-using-bit-magic/***"
   ]
  },
  {
   "cell_type": "code",
   "execution_count": 28,
   "metadata": {},
   "outputs": [],
   "source": [
    "/*\n",
    "Time complexity: O(m * n)\n",
    "\n",
    "In this post a simple circular linked list based solution is discussed.\n",
    "1) Create a circular linked list of size n.\n",
    "2) Traverse through linked list and one by one delete every m-th node until there is one node left.\n",
    "3) Return value of the only left node.\n",
    "*/"
   ]
  },
  {
   "cell_type": "code",
   "execution_count": 29,
   "metadata": {},
   "outputs": [],
   "source": [
    "// Node class to store data  \n",
    "static class Node \n",
    "{ \n",
    "    public int data ; \n",
    "    public Node next; \n",
    "    public Node( int data ) \n",
    "    { \n",
    "        this.data = data; \n",
    "    } \n",
    "} "
   ]
  },
  {
   "cell_type": "code",
   "execution_count": 30,
   "metadata": {},
   "outputs": [],
   "source": [
    "/* Function to find the only person left \n",
    "after one in every m-th node is killed \n",
    "in a circle of n nodes */\n",
    "static void getJosephusPosition(int m, int n) \n",
    "{ \n",
    "    // Create a circular linked list of \n",
    "    // size N. \n",
    "    Node head = new Node(1); \n",
    "    Node prev = head; \n",
    "    for(int i = 2; i <= n; i++) \n",
    "    { \n",
    "        prev.next = new Node(i); \n",
    "        prev = prev.next; \n",
    "    } \n",
    "\n",
    "    // Connect last node to first \n",
    "    prev.next = head; \n",
    "\n",
    "    /* while only one node is left in the \n",
    "    linked list*/\n",
    "    Node ptr1 = head, ptr2 = head; \n",
    "\n",
    "    while(ptr1.next != ptr1) \n",
    "    { \n",
    "\n",
    "        // Find m-th node \n",
    "        int count = 1; \n",
    "        while(count != m) \n",
    "        { \n",
    "            ptr2 = ptr1; \n",
    "            ptr1 = ptr1.next; \n",
    "            count++; \n",
    "        } \n",
    "\n",
    "        /* Remove the m-th node */\n",
    "        ptr2.next = ptr1.next; \n",
    "        ptr1 = ptr2.next; \n",
    "    } \n",
    "    System.out.println (\"Last person left standing \" + \n",
    "             \"(Josephus Position) is \" + ptr1.data); \n",
    "} "
   ]
  },
  {
   "cell_type": "code",
   "execution_count": 31,
   "metadata": {},
   "outputs": [
    {
     "name": "stdout",
     "output_type": "stream",
     "text": [
      "Last person left standing (Josephus Position) is 13\n"
     ]
    }
   ],
   "source": [
    "/* Driver program to test above functions */\n",
    "public static void main(String args[]) \n",
    "{ \n",
    "    int n = 14, m = 2; \n",
    "    getJosephusPosition(m, n); \n",
    "} \n",
    "main(args);"
   ]
  },
  {
   "cell_type": "markdown",
   "metadata": {},
   "source": [
    "## **292. Count triplets in a sorted doubly linked list whose sum is equal to a given value x**\n",
    "https://www.geeksforgeeks.org/count-triplets-sorted-doubly-linked-list-whose-sum-equal-given-value-x/"
   ]
  },
  {
   "cell_type": "code",
   "execution_count": 32,
   "metadata": {},
   "outputs": [],
   "source": [
    "/*\n",
    "Given a sorted doubly linked list of distinct nodes(no two nodes have the same data) and a value x. \n",
    "Count triplets in the list that sum up to a given value x.\n",
    "\n",
    "Example :\n",
    "*/"
   ]
  },
  {
   "cell_type": "markdown",
   "metadata": {},
   "source": [
    "<img src = \"https://media.geeksforgeeks.org/wp-content/uploads/dll7.jpg\"/>"
   ]
  },
  {
   "cell_type": "code",
   "execution_count": 33,
   "metadata": {},
   "outputs": [],
   "source": [
    "/*\n",
    "Method 1 (Naive Approach):\n",
    "Time Complexity: O(n^3)\n",
    "Auxiliary Space: O(1)\n",
    "\n",
    "Using three nested loops generate all triplets \n",
    "and check whether elements in the triplet sum up to x or not.\n",
    "*/"
   ]
  },
  {
   "cell_type": "code",
   "execution_count": 34,
   "metadata": {},
   "outputs": [],
   "source": [
    "// Represents node of a doubly linked list \n",
    "class Node  \n",
    "{ \n",
    "    int data; \n",
    "    Node prev, next; \n",
    "    Node(int val) \n",
    "    { \n",
    "        data = val;  \n",
    "        prev = null; \n",
    "        next = null; \n",
    "    } \n",
    "} "
   ]
  },
  {
   "cell_type": "code",
   "execution_count": 35,
   "metadata": {},
   "outputs": [],
   "source": [
    "// function to count triplets in  \n",
    "// a sorted doubly linked list  \n",
    "// whose sum is equal to a given value 'x'  \n",
    "static int countTriplets(Node head, int x) \n",
    "{ \n",
    "    Node ptr1, ptr2, ptr3; \n",
    "    int count = 0; \n",
    "\n",
    "    // generate all possible triplets  \n",
    "    for (ptr1 = head; ptr1 != null; ptr1 = ptr1.next) \n",
    "        for (ptr2 = ptr1.next; ptr2 != null; ptr2 = ptr2.next) \n",
    "            for (ptr3 = ptr2.next; ptr3 != null; ptr3 = ptr3.next) \n",
    "\n",
    "                // if elements in the current triplet sum up to 'x'  \n",
    "                if ((ptr1.data + ptr2.data + ptr3.data) == x) \n",
    "\n",
    "                    // increment count \n",
    "                    count++; \n",
    "\n",
    "    // required count of triplets  \n",
    "    return count; \n",
    "} "
   ]
  },
  {
   "cell_type": "code",
   "execution_count": 36,
   "metadata": {},
   "outputs": [],
   "source": [
    "// A utility function to insert a new node at the  \n",
    "// beginning of doubly linked list \n",
    "static Node insert(Node head, int val) \n",
    "{ \n",
    "        // allocate node  \n",
    "        Node temp = new Node(val); \n",
    "\n",
    "        if (head == null) \n",
    "            head = temp; \n",
    "\n",
    "        else \n",
    "        { \n",
    "            temp.next = head; \n",
    "            head.prev = temp; \n",
    "            head = temp; \n",
    "        } \n",
    "\n",
    "        return head; \n",
    "} "
   ]
  },
  {
   "cell_type": "code",
   "execution_count": 37,
   "metadata": {},
   "outputs": [
    {
     "name": "stdout",
     "output_type": "stream",
     "text": [
      "count = 2\n"
     ]
    }
   ],
   "source": [
    "// Driver code \n",
    "public static void main(String args[]) \n",
    "{ \n",
    "        // start with an empty doubly linked list \n",
    "        Node head = null; \n",
    "\n",
    "        // insert values in sorted order \n",
    "        head = insert(head, 9); \n",
    "        head = insert(head, 8); \n",
    "        head = insert(head, 6); \n",
    "        head = insert(head, 5); \n",
    "        head = insert(head, 4); \n",
    "        head = insert(head, 2); \n",
    "        head = insert(head, 1); \n",
    "\n",
    "        int x = 17; \n",
    "        System.out.println(\"count = \" + countTriplets(head, x)); \n",
    "} \n",
    "main(args);"
   ]
  },
  {
   "cell_type": "code",
   "execution_count": 38,
   "metadata": {},
   "outputs": [],
   "source": [
    "/*\n",
    "Method 2 (Hashing):\n",
    "Time Complexity: O(n^2)\n",
    "Auxiliary Space: O(n)\n",
    "\n",
    "Create a hash table with (key, value) tuples represented as (node data, node pointer) tuples. \n",
    "Traverse the doubly linked list and store each node’s data and its pointer pair(tuple) in the hash table. \n",
    "Now, \n",
    "    generate each possible pair of nodes. \n",
    "For each pair of nodes,\n",
    "    calculate the p_sum(sum of data in the two nodes) and check whether (x-p_sum) exists in the hash table or not.\n",
    "If it exists,\n",
    "    then also verify that the two nodes in the pair are not same to the node associated with (x-p_sum) in the hash table \n",
    "    and finally increment count. \n",
    "    Return (count / 3) as each triplet is counted 3 times in the above process.\n",
    "*/"
   ]
  },
  {
   "cell_type": "code",
   "execution_count": 39,
   "metadata": {},
   "outputs": [],
   "source": [
    "// structure of node of doubly linked list \n",
    "static class Node { \n",
    "    int data; \n",
    "    Node next, prev; \n",
    "    Node(int val) \n",
    "    { \n",
    "        data = val;  \n",
    "        prev = null; \n",
    "        next = null; \n",
    "    } \n",
    "}; "
   ]
  },
  {
   "cell_type": "code",
   "execution_count": 40,
   "metadata": {},
   "outputs": [],
   "source": [
    "// function to count triplets in a sorted doubly linked list \n",
    "// whose sum is equal to a given value 'x' \n",
    "static int countTriplets(Node head, int x) \n",
    "{ \n",
    "    Node ptr, ptr1, ptr2; \n",
    "    int count = 0; \n",
    "   \n",
    "    // unordered_map 'um' implemented as hash table \n",
    "    HashMap<Integer,Node> um = new HashMap<Integer,Node>(); \n",
    "   \n",
    "    // insert the <node data, node pointer> tuple in 'um' \n",
    "    for (ptr = head; ptr != null; ptr = ptr.next) \n",
    "        um.put(ptr.data, ptr); \n",
    "   \n",
    "    // generate all possible pairs \n",
    "    for (ptr1 = head; ptr1 != null; ptr1 = ptr1.next) \n",
    "        for (ptr2 = ptr1.next; ptr2 != null; ptr2 = ptr2.next) { \n",
    "   \n",
    "            // p_sum - sum of elements in the current pair \n",
    "            int p_sum = ptr1.data + ptr2.data; \n",
    "   \n",
    "            // if 'x-p_sum' is present in 'um' and either of the two nodes \n",
    "            // are not equal to the 'um[x-p_sum]' node \n",
    "            if (um.containsKey(x - p_sum) && um.get(x - p_sum) != ptr1 \n",
    "                && um.get(x - p_sum) != ptr2) \n",
    "   \n",
    "                // increment count \n",
    "                count++; \n",
    "        } \n",
    "   \n",
    "    // required count of triplets \n",
    "    // division by 3 as each triplet is counted 3 times \n",
    "    return (count / 3); \n",
    "} "
   ]
  },
  {
   "cell_type": "code",
   "execution_count": 41,
   "metadata": {},
   "outputs": [],
   "source": [
    "// A utility function to insert a new node at the \n",
    "// beginning of doubly linked list \n",
    "static Node insert(Node head, int val) \n",
    "{ \n",
    "    // allocate node  \n",
    "    Node temp = new Node(val); \n",
    "\n",
    "    if (head == null) \n",
    "        head = temp; \n",
    "\n",
    "    else\n",
    "    { \n",
    "        temp.next = head; \n",
    "        head.prev = temp; \n",
    "        head = temp; \n",
    "    } \n",
    "\n",
    "    return head; \n",
    "} "
   ]
  },
  {
   "cell_type": "code",
   "execution_count": 42,
   "metadata": {},
   "outputs": [
    {
     "name": "stdout",
     "output_type": "stream",
     "text": [
      "Count = 2"
     ]
    }
   ],
   "source": [
    "// Driver program to test above \n",
    "public static void main(String[] args) \n",
    "{ \n",
    "    // start with an empty doubly linked list \n",
    "    Node head = null; \n",
    "   \n",
    "    // insert values in sorted order \n",
    "    head = insert(head, 9); \n",
    "    head = insert(head, 8); \n",
    "    head = insert(head, 6); \n",
    "    head = insert(head, 5); \n",
    "    head = insert(head, 4); \n",
    "    head = insert(head, 2); \n",
    "    head = insert(head, 1); \n",
    "   \n",
    "    int x = 17; \n",
    "   \n",
    "    System.out.print(\"Count = \"\n",
    "         + countTriplets(head, x)); \n",
    "} \n",
    "main(args);"
   ]
  },
  {
   "cell_type": "code",
   "execution_count": 43,
   "metadata": {},
   "outputs": [],
   "source": [
    "/*\n",
    "Method 3 Efficient Approach(Use of two pointers):\n",
    "Time Complexity: O(n^2)\n",
    "Auxiliary Space: O(1)\n",
    "\n",
    "Traverse the doubly linked list from left to right. \n",
    "For each current node during the traversal, initailze two pointers \n",
    "    first = pointer to the node next to the current node and \n",
    "    last = pointer to the last node of the list. \n",
    "Now, \n",
    "    count pairs in the list from first to last pointer that sum up to value (x – current node’s data) \n",
    "    (algorithm described in below link).\n",
    "Add this count to the total_count of triplets. \n",
    "Pointer to the last node can be found only once in the beginning.\n",
    "*/"
   ]
  },
  {
   "cell_type": "markdown",
   "metadata": {},
   "source": [
    "***https://www.geeksforgeeks.org/find-pairs-given-sum-doubly-linked-list/***"
   ]
  },
  {
   "cell_type": "code",
   "execution_count": 44,
   "metadata": {},
   "outputs": [],
   "source": [
    "// structure of node of doubly linked list \n",
    "static class Node { \n",
    "    int data; \n",
    "    Node next, prev; \n",
    "}; "
   ]
  },
  {
   "cell_type": "code",
   "execution_count": 45,
   "metadata": {},
   "outputs": [],
   "source": [
    "// function to count pairs whose sum equal to given 'value' \n",
    "static int countPairs(Node first, Node second, int value) \n",
    "{ \n",
    "    int count = 0; \n",
    "   \n",
    "    // The loop terminates when either of two pointers \n",
    "    // become null, or they cross each other (second.next \n",
    "    // == first), or they become same (first == second) \n",
    "    while (first != null && second != null &&  \n",
    "           first != second && second.next != first) { \n",
    "   \n",
    "        // pair found \n",
    "        if ((first.data + second.data) == value) { \n",
    "   \n",
    "            // increment count \n",
    "            count++; \n",
    "   \n",
    "            // move first in forward direction \n",
    "            first = first.next; \n",
    "   \n",
    "            // move second in backward direction \n",
    "            second = second.prev; \n",
    "        } \n",
    "   \n",
    "        // if sum is greater than 'value' \n",
    "        // move second in backward direction \n",
    "        else if ((first.data + second.data) > value) \n",
    "            second = second.prev; \n",
    "   \n",
    "        // else move first in forward direction \n",
    "        else\n",
    "            first = first.next; \n",
    "    } \n",
    "   \n",
    "    // required count of pairs \n",
    "    return count; \n",
    "} "
   ]
  },
  {
   "cell_type": "code",
   "execution_count": 46,
   "metadata": {},
   "outputs": [],
   "source": [
    "// function to count triplets in a sorted doubly linked list \n",
    "// whose sum is equal to a given value 'x' \n",
    "static int countTriplets(Node head, int x) \n",
    "{ \n",
    "    // if list is empty \n",
    "    if (head == null) \n",
    "        return 0; \n",
    "   \n",
    "    Node current, first, last; \n",
    "    int count = 0; \n",
    "   \n",
    "    // get pointer to the last node of \n",
    "    // the doubly linked list \n",
    "    last = head; \n",
    "    while (last.next != null) \n",
    "        last = last.next; \n",
    "   \n",
    "    // traversing the doubly linked list \n",
    "    for (current = head; current != null; current = current.next) { \n",
    "   \n",
    "        // for each current node \n",
    "        first = current.next; \n",
    "   \n",
    "        // count pairs with sum(x - current.data) in the range \n",
    "        // first to last and add it to the 'count' of triplets \n",
    "        count += countPairs(first, last, x - current.data); \n",
    "    } \n",
    "   \n",
    "    // required count of triplets \n",
    "    return count; \n",
    "} "
   ]
  },
  {
   "cell_type": "code",
   "execution_count": 47,
   "metadata": {},
   "outputs": [],
   "source": [
    "// A utility function to insert a new node at the \n",
    "// beginning of doubly linked list \n",
    "static Node insert(Node head, int data) \n",
    "{ \n",
    "    // allocate node \n",
    "    Node temp = new Node(); \n",
    "   \n",
    "    // put in the data \n",
    "    temp.data = data; \n",
    "    temp.next = temp.prev = null; \n",
    "   \n",
    "    if ((head) == null) \n",
    "        (head) = temp; \n",
    "    else { \n",
    "        temp.next = head; \n",
    "        (head).prev = temp; \n",
    "        (head) = temp; \n",
    "    } \n",
    "    return head; \n",
    "} "
   ]
  },
  {
   "cell_type": "code",
   "execution_count": 48,
   "metadata": {},
   "outputs": [
    {
     "name": "stdout",
     "output_type": "stream",
     "text": [
      "Count = 2"
     ]
    }
   ],
   "source": [
    "// Driver program to test above \n",
    "public static void main(String[] args) \n",
    "{ \n",
    "    // start with an empty doubly linked list \n",
    "    Node head = null; \n",
    "   \n",
    "    // insert values in sorted order \n",
    "    head = insert(head, 9); \n",
    "    head = insert(head, 8); \n",
    "    head = insert(head, 6); \n",
    "    head = insert(head, 5); \n",
    "    head = insert(head, 4); \n",
    "    head = insert(head, 2); \n",
    "    head = insert(head, 1); \n",
    "   \n",
    "    int x = 17; \n",
    "   \n",
    "    System.out.print(\"Count = \"\n",
    "         + countTriplets(head, x)); \n",
    "} \n",
    "main(args);"
   ]
  },
  {
   "cell_type": "markdown",
   "metadata": {},
   "source": [
    "## **293. Sort the biotonic doubly linked list**\n",
    "https://www.geeksforgeeks.org/sort-biotonic-doubly-linked-list/"
   ]
  },
  {
   "cell_type": "code",
   "execution_count": 49,
   "metadata": {},
   "outputs": [],
   "source": [
    "/*\n",
    "Sort the given biotonic doubly linked list.\n",
    "A biotonic doubly linked list is a doubly linked list \n",
    "    which is first increasing and then decreasing. \n",
    "A strictly increasing or a strictly decreasing list is also a biotonic doubly linked list.\n",
    "\n",
    "Examples:\n",
    "*/"
   ]
  },
  {
   "cell_type": "markdown",
   "metadata": {},
   "source": [
    "<img src = \"https://media.geeksforgeeks.org/wp-content/uploads/dll14.jpg\"/>"
   ]
  },
  {
   "cell_type": "code",
   "execution_count": 50,
   "metadata": {},
   "outputs": [],
   "source": [
    "/*\n",
    "Time Complexity: O(n)\n",
    "\n",
    "Approach: \n",
    "Find the first node in the list which is smaller than its previous node. \n",
    "    Let it be current. \n",
    "If no such node is present \n",
    "    then list is already sorted. \n",
    "Else \n",
    "    split the list into two lists,\n",
    "        first starting from head node till the current’s previous node and \n",
    "        second starting from current node till the end of the list. \n",
    "    Reverse the second doubly linked list. (below link) \n",
    "    Now merge the first and second sorted doubly linked list. (below link) \n",
    "    The final merged list is the required sorted doubly linked list.\n",
    "*/"
   ]
  },
  {
   "cell_type": "markdown",
   "metadata": {},
   "source": [
    "**Reverse a Doubly LinkedList :**  ***https://www.geeksforgeeks.org/reverse-a-doubly-linked-list/***"
   ]
  },
  {
   "cell_type": "markdown",
   "metadata": {},
   "source": [
    "**Merge Sort For Doubly LinkedList :**  ***https://www.geeksforgeeks.org/merge-sort-for-doubly-linked-list/***"
   ]
  },
  {
   "cell_type": "code",
   "execution_count": 51,
   "metadata": {},
   "outputs": [],
   "source": [
    "// a node of the doubly linked list \n",
    "static class Node  \n",
    "{ \n",
    "    int data; \n",
    "    Node next; \n",
    "    Node prev; \n",
    "} "
   ]
  },
  {
   "cell_type": "code",
   "execution_count": 52,
   "metadata": {},
   "outputs": [],
   "source": [
    "// Function to reverse a Doubly Linked List \n",
    "static Node reverse( Node head_ref) \n",
    "{ \n",
    "    Node temp = null; \n",
    "    Node current = head_ref; \n",
    "  \n",
    "    // swap next and prev for all nodes \n",
    "    // of doubly linked list \n",
    "    while (current != null) \n",
    "    { \n",
    "        temp = current.prev; \n",
    "        current.prev = current.next; \n",
    "        current.next = temp; \n",
    "        current = current.prev; \n",
    "    } \n",
    "  \n",
    "    // Before changing head, check for the cases  \n",
    "    // like empty list and list with only one node \n",
    "    if (temp != null) \n",
    "        head_ref = temp.prev; \n",
    "        return head_ref; \n",
    "} "
   ]
  },
  {
   "cell_type": "code",
   "execution_count": 53,
   "metadata": {},
   "outputs": [],
   "source": [
    "// Function to merge two sorted doubly linked lists \n",
    "static Node merge(Node first, Node second) \n",
    "{ \n",
    "    // If first linked list is empty \n",
    "    if (first == null) \n",
    "        return second; \n",
    "  \n",
    "    // If second linked list is empty \n",
    "    if (second == null) \n",
    "        return first; \n",
    "  \n",
    "    // Pick the smaller value \n",
    "    if (first.data < second.data) \n",
    "    { \n",
    "        first.next = merge(first.next, second); \n",
    "        first.next.prev = first; \n",
    "        first.prev = null; \n",
    "        return first; \n",
    "    }  \n",
    "    else \n",
    "    { \n",
    "        second.next = merge(first, second.next); \n",
    "        second.next.prev = second; \n",
    "        second.prev = null; \n",
    "        return second; \n",
    "    } \n",
    "} \n",
    "\n",
    "// function to sort a biotonic doubly linked list \n",
    "static Node sort(Node head) \n",
    "{ \n",
    "    // if list is empty or if it contains  \n",
    "    // a single node only \n",
    "    if (head == null || head.next == null) \n",
    "        return head; \n",
    "  \n",
    "    Node current = head.next; \n",
    "  \n",
    "    while (current != null)  \n",
    "    { \n",
    "  \n",
    "        // if true, then 'current' is the first node \n",
    "        // which is smaller than its previous node \n",
    "        if (current.data < current.prev.data) \n",
    "            break; \n",
    "  \n",
    "        // move to the next node \n",
    "        current = current.next; \n",
    "    } \n",
    "  \n",
    "    // if true, then list is already sorted \n",
    "    if (current == null) \n",
    "        return head; \n",
    "  \n",
    "    // spilt into two lists, one starting with 'head' \n",
    "    // and other starting with 'current' \n",
    "    current.prev.next = null; \n",
    "    current.prev = null; \n",
    "  \n",
    "    // reverse the list starting with 'current' \n",
    "    current = reverse(current); \n",
    "  \n",
    "    // merge the two lists and return the \n",
    "    // final merged doubly linked list \n",
    "    return merge(head, current); \n",
    "} "
   ]
  },
  {
   "cell_type": "code",
   "execution_count": 54,
   "metadata": {},
   "outputs": [],
   "source": [
    "// Function to insert a node at the beginning \n",
    "// of the Doubly Linked List \n",
    "static Node push( Node head_ref, int new_data) \n",
    "{ \n",
    "    // allocate node \n",
    "    Node new_node = new Node(); \n",
    "  \n",
    "    // put in the data \n",
    "    new_node.data = new_data; \n",
    "  \n",
    "    // since we are adding at the beginning, \n",
    "    // prev is always null \n",
    "    new_node.prev = null; \n",
    "  \n",
    "    // link the old list off the new node \n",
    "    new_node.next = (head_ref); \n",
    "  \n",
    "    // change prev of head node to new node \n",
    "    if ((head_ref) != null) \n",
    "        (head_ref).prev = new_node; \n",
    "  \n",
    "    // move the head to point to the new node \n",
    "    (head_ref) = new_node; \n",
    "    return head_ref; \n",
    "} \n",
    "  \n",
    "// Function to print nodes in a given doubly  \n",
    "// linked list \n",
    "static void printList( Node head) \n",
    "{ \n",
    "    // if list is empty \n",
    "    if (head == null) \n",
    "        System.out.println(\"Doubly Linked list empty\"); \n",
    "  \n",
    "    while (head != null) \n",
    "    { \n",
    "        System.out.print(head.data + \" \"); \n",
    "        head = head.next; \n",
    "    } \n",
    "} "
   ]
  },
  {
   "cell_type": "code",
   "execution_count": 55,
   "metadata": {},
   "outputs": [
    {
     "name": "stdout",
     "output_type": "stream",
     "text": [
      "Original Doubly linked list:n\n",
      "2 5 7 12 10 6 4 1 \n",
      "Doubly linked list after sorting:n\n",
      "1 2 4 5 6 7 10 12 "
     ]
    }
   ],
   "source": [
    "// Driver Code \n",
    "public static void main(String args[]) \n",
    "{ \n",
    "    Node head = null; \n",
    "  \n",
    "    // Create the doubly linked list: \n",
    "    // 2<.5<.7<.12<.10<.6<.4<.1 \n",
    "    head = push(head, 1); \n",
    "    head = push(head, 4); \n",
    "    head = push(head, 6); \n",
    "    head = push(head, 10); \n",
    "    head = push(head, 12); \n",
    "    head = push(head, 7); \n",
    "    head = push(head, 5); \n",
    "    head = push(head, 2); \n",
    "  \n",
    "    System.out.println(\"Original Doubly linked list:n\"); \n",
    "    printList(head); \n",
    "  \n",
    "    // sort the biotonic DLL \n",
    "    head = sort(head); \n",
    "  \n",
    "    System.out.println(\"\\nDoubly linked list after sorting:n\"); \n",
    "    printList(head); \n",
    "} \n",
    "main(args);"
   ]
  },
  {
   "cell_type": "markdown",
   "metadata": {},
   "source": [
    "## **294.Sort a k sorted doubly linked list**\n",
    "https://www.geeksforgeeks.org/sort-k-sorted-doubly-linked-list/"
   ]
  },
  {
   "cell_type": "code",
   "execution_count": 56,
   "metadata": {},
   "outputs": [],
   "source": [
    "/*\n",
    "Given a doubly linked list containing n nodes, \n",
    "where each node is at most k away from its target position in the list. \n",
    "\n",
    "The problem is to sort the given doubly linked list.\n",
    "*/"
   ]
  },
  {
   "cell_type": "code",
   "execution_count": 57,
   "metadata": {},
   "outputs": [],
   "source": [
    "/*\n",
    "For example, \n",
    "    let us consider k is 2, a node at position 7 in the sorted doubly linked list, \n",
    "    can be at positions 5, 6, 7, 8, 9 in the given doubly linked list.\n",
    "\n",
    "Examples:\n",
    "*/"
   ]
  },
  {
   "cell_type": "markdown",
   "metadata": {},
   "source": [
    "<img src = \"https://media.geeksforgeeks.org/wp-content/uploads/dll15.jpg\"/>"
   ]
  },
  {
   "cell_type": "code",
   "execution_count": 58,
   "metadata": {},
   "outputs": [],
   "source": [
    "/*\n",
    "Naive Approach: \n",
    "Sort the given doubly linked list using insertion sort technique.\n",
    "\n",
    "Time Complexity: O(nk)\n",
    "Auxiliary Space: O(1)\n",
    "*/"
   ]
  },
  {
   "cell_type": "code",
   "execution_count": 59,
   "metadata": {},
   "outputs": [],
   "source": [
    "/*\n",
    "Efficient Approach:\n",
    "\n",
    "Time Complexity: O(nLogk)\n",
    "Auxiliary Space: O(k)\n",
    "\n",
    "We can sort the list using the MIN HEAP data structure. \n",
    "\n",
    "The approach has been explained in Sort a nearly sorted (or K sorted) array. (below link)\n",
    "\n",
    "We only have to be careful while traversing the input doubly linked list \n",
    "    and adjusting the required next and previous links in the final sorted list.\n",
    "*/"
   ]
  },
  {
   "cell_type": "markdown",
   "metadata": {},
   "source": [
    "**Sort a nearly sorted :**  ***https://www.geeksforgeeks.org/nearly-sorted-algorithm/***"
   ]
  },
  {
   "cell_type": "markdown",
   "metadata": {},
   "source": [
    "***https://ideone.com/yLIWWx***"
   ]
  },
  {
   "cell_type": "markdown",
   "metadata": {},
   "source": [
    "## **295. Check mirror in n-ary tree**\n",
    "https://www.geeksforgeeks.org/check-mirror-n-ary-tree/"
   ]
  },
  {
   "cell_type": "code",
   "execution_count": 60,
   "metadata": {},
   "outputs": [],
   "source": [
    "/*\n",
    "Given two n-ary trees, \n",
    "the task is to check if they are mirror of each other or not. \n",
    "\n",
    "Print “Yes” \n",
    "    if they are mirror of each other \n",
    "else \n",
    "    “No”.\n",
    "*/"
   ]
  },
  {
   "cell_type": "code",
   "execution_count": 61,
   "metadata": {},
   "outputs": [],
   "source": [
    "/*\n",
    "Examples:\n",
    "\n",
    "Input : Node = 3, Edges = 2\n",
    "Edge 1 of first N-ary: 1 2\n",
    "Edge 2 of first N-ary: 1 3\n",
    "Edge 1 of second N-ary: 1 2\n",
    "Edge 2 of second N-ary: 1 3\n",
    "Output : Yes\n",
    "\n",
    "\n",
    "Input : Node = 3, Edges = 2\n",
    "Edge 1 of first N-ary: 1 2 \n",
    "Edge 2 of first N-ary: 1 3\n",
    "Edge 1 of second N-ary: 1 2\n",
    "Edge 2 of second N-ary: 1 3\n",
    "Output : No\n",
    "*/"
   ]
  },
  {
   "cell_type": "markdown",
   "metadata": {},
   "source": [
    "<img src = \"https://media.geeksforgeeks.org/wp-content/uploads/mirrorimage-1.png\"/>"
   ]
  },
  {
   "cell_type": "markdown",
   "metadata": {},
   "source": [
    "**Reference :**  ***https://practice.geeksforgeeks.org/problems/check-mirror-in-n-ary-tree/0***"
   ]
  },
  {
   "cell_type": "code",
   "execution_count": 62,
   "metadata": {},
   "outputs": [],
   "source": [
    "/*\n",
    "The idea is to use Queue and Stack to check if given N-ary tree are mirror of each other or not.\n",
    "\n",
    "Let first n-ary tree be t1 and second n-ary tree is t2. \n",
    "For each node in t1, \n",
    "    make stack and push its connected node in it. \n",
    "Now, for each node in t2, \n",
    "    make queue and push its connected node in it.\n",
    "Now, for each corresponding node do following:\n",
    "\n",
    "  While stack and Queue is not empty.\n",
    "  a = top element of stack;\n",
    "  b = front of stack;\n",
    "  if (a != b)\n",
    "    return false;\n",
    "  pop element from stack and queue.\n",
    "*/"
   ]
  },
  {
   "cell_type": "markdown",
   "metadata": {},
   "source": [
    "***https://ideone.com/eDpUrl***"
   ]
  },
  {
   "cell_type": "markdown",
   "metadata": {},
   "source": [
    "## **296. Serialize and Deserialize an N-ary Tree**\n",
    "https://www.geeksforgeeks.org/serialize-deserialize-n-ary-tree/"
   ]
  },
  {
   "cell_type": "code",
   "execution_count": 63,
   "metadata": {},
   "outputs": [],
   "source": [
    "/*\n",
    "Given an N-ary tree where every node has at-most N children. \n",
    "\n",
    "How to serialize and deserialze it? \n",
    "    Serialization is to store tree in a file so that it can be later restored. \n",
    "        The structure of tree must be maintained. \n",
    "    Deserialization is reading tree back from file.\n",
    "*/"
   ]
  },
  {
   "cell_type": "markdown",
   "metadata": {},
   "source": [
    "**Related Link :** ***https://www.geeksforgeeks.org/serialize-deserialize-binary-tree/***"
   ]
  },
  {
   "cell_type": "code",
   "execution_count": 64,
   "metadata": {},
   "outputs": [],
   "source": [
    "/*\n",
    "In an N-ary tree, \n",
    "    there are no designated left and right children. \n",
    "    An N-ary tree is represented by storing an array or list of child pointers with every node.\n",
    "\n",
    "The idea is to store an ‘end of children’ marker with every node. \n",
    "    The following diagram shows serialization where ‘)’ is used as end of children marker.\n",
    "*/"
   ]
  },
  {
   "cell_type": "markdown",
   "metadata": {},
   "source": [
    "<img src=  \"https://www.geeksforgeeks.org/wp-content/uploads/serialize-and-deserialize.png\"/>"
   ]
  },
  {
   "cell_type": "markdown",
   "metadata": {},
   "source": [
    "***https://ideone.com/SV7Gnh***"
   ]
  },
  {
   "cell_type": "markdown",
   "metadata": {},
   "source": [
    "## **297. Immediate Smaller element in an N-ary Tree**\n",
    "https://www.geeksforgeeks.org/immediate-smaller-element-n-ary-tree/"
   ]
  },
  {
   "cell_type": "code",
   "execution_count": 65,
   "metadata": {},
   "outputs": [],
   "source": [
    "/*\n",
    "Given an element x, task is to find the value of its immediate smaller element.\n",
    "*/"
   ]
  },
  {
   "cell_type": "markdown",
   "metadata": {},
   "source": [
    "<img src = \"https://media.geeksforgeeks.org/wp-content/uploads/sumGenericTrees-1.png\"/>"
   ]
  },
  {
   "cell_type": "code",
   "execution_count": 66,
   "metadata": {},
   "outputs": [],
   "source": [
    "/*\n",
    "Example :\n",
    "\n",
    "Input : \n",
    "    x = 30 (for above tree)\n",
    "Output : \n",
    "    Immediate smaller element is 25\n",
    "Explanation : \n",
    "    Elements 2, 15, 20 and 25 are smaller than x i.e, 30, \n",
    "    but 25 is the immediate smaller element and hence the answer.\n",
    "*/"
   ]
  },
  {
   "cell_type": "code",
   "execution_count": 67,
   "metadata": {},
   "outputs": [],
   "source": [
    "/*\n",
    "Time Complexity : O(N), \n",
    "    where N is the number of nodes in N-ary Tree.\n",
    "Auxiliary Space : O(N), \n",
    "    for recursive call(worst case when a node has N number of childs)\n",
    "*/"
   ]
  },
  {
   "cell_type": "code",
   "execution_count": 68,
   "metadata": {},
   "outputs": [],
   "source": [
    "/*\n",
    "Approach :\n",
    "\n",
    "1. Let res be the resultant node.\n",
    "2. Initialize the resultant Node as NULL.\n",
    "3. For every Node, \n",
    "        check if data of root is greater than res, but less than x. \n",
    "            if yes, \n",
    "                update res.\n",
    "4. Recursively do the same for all nodes of the given Generic Tree.\n",
    "5. Return res, and res->key would be the immediate smaller element.\n",
    "*/"
   ]
  },
  {
   "cell_type": "markdown",
   "metadata": {},
   "source": [
    "***https://ideone.com/dLBK7m***"
   ]
  },
  {
   "cell_type": "markdown",
   "metadata": {},
   "source": [
    "***https://youtu.be/sr06_O9uYQc***"
   ]
  },
  {
   "cell_type": "code",
   "execution_count": null,
   "metadata": {},
   "outputs": [],
   "source": []
  }
 ],
 "metadata": {
  "kernelspec": {
   "display_name": "Java",
   "language": "java",
   "name": "java"
  },
  "language_info": {
   "codemirror_mode": "java",
   "file_extension": ".jshell",
   "mimetype": "text/x-java-source",
   "name": "Java",
   "pygments_lexer": "java",
   "version": "11.0.6+8-LTS"
  },
  "toc": {
   "base_numbering": 1,
   "nav_menu": {},
   "number_sections": true,
   "sideBar": true,
   "skip_h1_title": false,
   "title_cell": "Table of Contents",
   "title_sidebar": "Contents",
   "toc_cell": false,
   "toc_position": {},
   "toc_section_display": true,
   "toc_window_display": true
  }
 },
 "nbformat": 4,
 "nbformat_minor": 2
}
