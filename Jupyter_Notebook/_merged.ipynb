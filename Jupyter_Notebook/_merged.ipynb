{
 "cells": [
  {
   "cell_type": "markdown",
   "metadata": {},
   "source": [
    "**------------------------Questions Covered-----------------------------**"
   ]
  },
  {
   "cell_type": "markdown",
   "metadata": {},
   "source": [
    "***1\tArray\thttps://www.codechef.com/JAN18/problems/KCON/\tPep_JavaIP_1Arrays_1Kcon\tKadanes\t\t\t\t\t\t\t\t\t\t\t\t\t\t\t\t\t\t\t\t\t\t\t\n",
    "1\tArray\thttps://www.geeksforgeeks.org/find-subarray-with-given-sum/\tPep_JavaIP_1Arrays_2TarSub\t2 Pointer method\thttps://www.geeksforgeeks.org/minimum-length-subarray-sum-greater-given-value/\t\t\t\t\t\t\t\t\t\t\t\t\t\t\t\t\t\t\t\t\t\t\n",
    "1\tArray\thttps://www.geeksforgeeks.org/equilibrium-index-of-an-array/\tPep_JavaIP_1Arrays_3Equilibrium_point\tLeftRightTraversal\t\t\t\t\t\t\t\t\t\t\t\t\t\t\t\t\t\t\t\t\t\t\t\n",
    "1\tArray\thttps://www.geeksforgeeks.org/dynamic-programming-set-14-maximum-sum-increasing-subsequence/\tPep_JavaIP_1Arrays_4Max_sum_increasing_subsequence\tLIS\t\t\t\t\t\t\t\t\t\t\t\t\t\t\t\t\t\t\t\t\t\t\t\n",
    "1\tArray\thttps://www.geeksforgeeks.org/convert-array-into-zig-zag-fashion/\tPep_JavaIP_1Arrays_5Zigzag_array\tSolve the Spot\t\t\t\t\t\t\t\t\t\t\t\t\t\t\t\t\t\t\t\t\t\t\t\n",
    "1\tArray\thttps://www.geeksforgeeks.org/find-a-pair-with-the-given-difference/\tPep_JavaIP_1Arrays_6findpair\t2 Pointer method\t\t\t\t\t\t\t\t\t\t\t\t\t\t\t\t\t\t\t\t\t\t\t\n",
    "1\tArray\thttps://www.geeksforgeeks.org/chocolate-distribution-problem/\tPep_JavaIP_1Arrays_7Chocolate\tSliding Window\t\t\t\t\t\t\t\t\t\t\t\t\t\t\t\t\t\t\t\t\t\t\t\n",
    "1\tArray\thttps://www.geeksforgeeks.org/minimum-number-platforms-required-railwaybus-station/\tPep_JavaIP_1Arrays_8platforms\tMergeSort\t\t\t\t\t\t\t\t\t\t\t\t\t\t\t\t\t\t\t\t\t\t\t\n",
    "1\tArray\thttps://www.geeksforgeeks.org/trapping-rain-water/\tPep_JavaIP_1Arrays_9Trappingrainwater\tLeftRightTraversal\t\t\t\t\t\t\t\t\t\t\t\t\t\t\t\t\t\t\t\t\t\t\t\n",
    "1\tArray\thttps://www.geeksforgeeks.org/stock-buy-sell/\tPep_JavaIP_1Arrays_10StockBuySell\t2 Pointer method\t\t\t\t\t\t\t\t\t\t\t\t\t\t\t\t\t\t\t\t\t\t\t\n",
    "1\tArray\thttps://www.geeksforgeeks.org/inplace-rotate-square-matrix-by-90-degrees/\tPep_JavaIP_1Arrays_11rotatearray90\tMatrixRotation\t\t\t\t\t\t\t\t\t\t\t\t\t\t\t\t\t\t\t\t\t\t\t\n",
    "1\tArray\thttps://www.geeksforgeeks.org/find-k-pairs-smallest-sums-two-arrays/\tPep_JavaIP_1Arrays_12kpairsmallest\tMiscellanous\t\t\t\t\t\t\t\t\t\t\t\t\t\t\t\t\t\t\t\t\t\t\n",
    "1\tArray\thttps://www.geeksforgeeks.org/search-an-element-in-a-sorted-and-pivoted-array/\tPep_JavaIP_1Arrays_14searchInSortedAndRotated\tBinarySearch\t\t\t\t\t\t\t\t\t\t\t\t\t\t\t\t\t\t\t\t\t\t\t\n",
    "1\tArray\thttps://www.geeksforgeeks.org/given-a-sorted-and-rotated-array-find-if-there-is-a-pair-with-a-given-sum/\tPep_JavaIP_1Arrays_15PairSumInSortedAndRotated\tBinarySearch\t\t\t\t\t\t\t\t\t\t\t\t\t\t\t\t\t\t\t\t\t\t\t\n",
    "1\tArray\thttps://www.geeksforgeeks.org/maximum-sum-iarri-among-rotations-given-array/\tPep_JavaIP_1Arrays_16MaxsumIArrIForRotationsOfArray***"
   ]
  },
  {
   "cell_type": "code",
   "execution_count": 1,
   "metadata": {},
   "outputs": [],
   "source": [
    "import java.util.*;\n",
    "import java.io.*;\n",
    "import java.util.Arrays;\n",
    "String[] args =new String[0];"
   ]
  },
  {
   "cell_type": "markdown",
   "metadata": {},
   "source": [
    "## **1. K-Concatenation**\n",
    "https://www.codechef.com/JAN18/problems/KCON/"
   ]
  },
  {
   "cell_type": "code",
   "execution_count": 2,
   "metadata": {},
   "outputs": [],
   "source": [
    "/*\n",
    "You are given an array A with size N (indexed from 0) and an integer K. \n",
    "Let's define another array B with size N · K as the array that's formed by concatenating K copies of array A.\n",
    "\n",
    "For example, \n",
    "if A = {1, 2} and K = 3, \n",
    "then B = {1, 2, 1, 2, 1, 2}.\n",
    "\n",
    "You have to find the maximum subarray sum of the array B. \n",
    "Fomally, you should compute the maximum value of Bi + Bi+1 + Bi+2 + ... + Bj, where 0 ≤ i ≤ j < N · K.\n",
    "*/"
   ]
  },
  {
   "cell_type": "code",
   "execution_count": 3,
   "metadata": {},
   "outputs": [],
   "source": [
    "/*\n",
    "The problem is to find the maximum sub array of concatenatedarr.\n",
    "Maximum SubArray of an array A is a continuous SubArray within the array A that has the largest Sum.\n",
    "The best method for finding Maximum SubArray is Kadanae's algorithm.\n",
    "\n",
    "Here you have to find the Maximum SubArray for an array concatenated_arr which is a k-times repetitive array of A. \n",
    "For e.g.. if A is {3, 2, -1} and K is 3 then B will be {3, 2, -1, 3, 2, -1, 3, 2, -1}. \n",
    "\n",
    "Method:\n",
    "The maximum SubArray of concatenated_arr can be the sum of all its elements.\n",
    "For e.g.. if A is {3, 2, -1} and K is 3, then B will be {3, 2, -1, 3, 2, -1, 3, 2, -1}.\n",
    "The sum of all the elements in concatenated_arr will give us 12. To find this one we don't need to create the array concatenated_arr.\n",
    "We can simply find the sum of all the elements in array A and we can mutilply it with K.\n",
    "But wait, we can omit the last term in it so that the sum will become 13.\n",
    "For this one we can use prefix and suffix calculations.\n",
    "Eg:\n",
    "A is repeated k times in concatenatedarr.\n",
    "Consider the first repetition of A is A1, second is A2 and so on. \n",
    "So now our B array(if K=8) will be {A1, A2, A3, A4, A5, A6, A7, A8}. \n",
    "If you omit the first two elements in A1 and the last two elements in A8, you might also get the maxsub array.\n",
    "So here we can check whether it is possible to omit some initial elements in A1 and some Final elements in A8. \n",
    "We use prefix and suffix variables for that to calculate the sum of A1 and A10 specifically and he adds the remaining elements \n",
    "i.e answer = {prefix + sum_of_elements(A2) + sum_of_elements(A3) + sum_of_elements(A4) + sum_of_elements(A5) + sum_of_elements(A6) + sum_of_elements(A7) + suffix} , \n",
    "which in simplified form becomes {prefix + sum_of_elements(A)*(k-2) + suffix}.\n",
    "*/"
   ]
  },
  {
   "cell_type": "code",
   "execution_count": 4,
   "metadata": {},
   "outputs": [],
   "source": [
    "int mod  = (int) Math.pow(10,9)+7;\n",
    "public int kConcatenationMaxSum(int[] ar, int k) {\n",
    "    long kadanes= kadanesAlgo(ar);\n",
    "    if(k==1){\n",
    "        return (int)kadanes;\n",
    "    }\n",
    "    long prefixSum= prefixSum(ar);\n",
    "    long suffixSum=suffixSum(ar);\n",
    "    long sum=0;\n",
    "    for (int i1 : ar) {\n",
    "        sum += i1;\n",
    "    }\n",
    "    if(sum>0){\n",
    "        return (int)(Math.max(((sum*(k-2))%mod+suffixSum%mod+prefixSum%mod)%mod,kadanes%mod));\n",
    "    }\n",
    "    else{\n",
    "        return (int)(Math.max((prefixSum%mod+suffixSum%mod)%mod,kadanes%mod));\n",
    "    }\n",
    "\n",
    "}\n",
    "public  long kadanesAlgo(int[] ar){\n",
    "\n",
    "    long currentSum=0;\n",
    "    long maxSum=Integer.MIN_VALUE;\n",
    "    for(int i=0;i<ar.length;i++){\n",
    "        currentSum=currentSum>0?(currentSum+ar[i])%mod:ar[i];\n",
    "        maxSum=Math.max(currentSum,maxSum);\n",
    "    }\n",
    "    return maxSum<0?0:maxSum%mod;\n",
    "\n",
    "}\n",
    "\n",
    "\n",
    "public  long prefixSum(int[] ar){\n",
    "\n",
    "    long currentSum=0;\n",
    "    long maxSum=Integer.MIN_VALUE;\n",
    "    for(int i=0;i<ar.length;i++){\n",
    "        currentSum= (currentSum+ar[i])%mod;\n",
    "        maxSum=Math.max(maxSum,currentSum);\n",
    "    }\n",
    "    return maxSum;\n",
    "\n",
    "\n",
    "}\n",
    "\n",
    "public  long suffixSum(int[] ar){\n",
    "\n",
    "\n",
    "    long currentSum=0;\n",
    "    long maxSum=Integer.MIN_VALUE;\n",
    "    for(int i=ar.length-1;i>=0;i--){\n",
    "        currentSum=(currentSum+ar[i])%mod;\n",
    "        maxSum=Math.max(currentSum,maxSum);\n",
    "    }\n",
    "    return maxSum;\n",
    "\n",
    "}"
   ]
  },
  {
   "cell_type": "code",
   "execution_count": 5,
   "metadata": {},
   "outputs": [
    {
     "name": "stdout",
     "output_type": "stream",
     "text": [
      "13\n"
     ]
    }
   ],
   "source": [
    "int[] arr = {3,2,-1};\n",
    "System.out.println(kConcatenationMaxSum(arr,3))"
   ]
  },
  {
   "cell_type": "code",
   "execution_count": 6,
   "metadata": {},
   "outputs": [
    {
     "name": "stdout",
     "output_type": "stream",
     "text": [
      "13\n"
     ]
    }
   ],
   "source": [
    "class Solution {\n",
    "    static final long M=(long)Math.pow(10,9)+7;\n",
    "    public static int kConcatenationMaxSum(int[] arr, int k) {\n",
    "        int n=arr.length;\n",
    "        long res=0;\n",
    "        long last=0;\n",
    "        long sum=0;\n",
    "        long sumMax=0;\n",
    "    \n",
    "        // ordinary maximum subarray sum problem to find maximum\n",
    "        for(int j=0;j<n;++j){\n",
    "            long r = Math.max((long)arr[j],arr[j]+last);\n",
    "            res=Math.max(res,r);\n",
    "            last=r;\n",
    "            sum+=arr[j];\n",
    "            if(sumMax<sum){\n",
    "                sumMax=sum;\n",
    "            }\n",
    "        }\n",
    "        \n",
    "        // if there were more repeatations, we recaucluate the res\n",
    "        if(k>1 && sumMax>0){\n",
    "            if(sum>0){\n",
    "                res = Math.max(res, last+(k-2)*sum+sumMax);\n",
    "            }else{\n",
    "                res =Math.max(res,last+sumMax);\n",
    "            }\n",
    "        }\n",
    "        return (int)(res%M);\n",
    "    }\n",
    "}\n",
    "int[] arr = {3,2,-1};\n",
    "System.out.println(Solution.kConcatenationMaxSum(arr,3))"
   ]
  },
  {
   "cell_type": "markdown",
   "metadata": {},
   "source": [
    "## **2. Find subarray with given sum | Set 1 (Nonnegative Numbers)**\n",
    "https://www.geeksforgeeks.org/find-subarray-with-given-sum/"
   ]
  },
  {
   "cell_type": "code",
   "execution_count": 7,
   "metadata": {},
   "outputs": [],
   "source": [
    "/*\n",
    "Given an unsorted array of nonnegative integers, find a continuous subarray which adds to a given number.\n",
    "Examples :\n",
    "\n",
    "Input: arr[] = {1, 4, 20, 3, 10, 5}, sum = 33\n",
    "Ouptut: Sum found between indexes 2 and 4\n",
    "\n",
    "\n",
    "\n",
    "Input: arr[] = {1, 4, 0, 0, 3, 10, 5}, sum = 7\n",
    "Ouptut: Sum found between indexes 1 and 4\n",
    "\n",
    "Input: arr[] = {1, 4}, sum = 0\n",
    "Output: No subarray found\n",
    "\n",
    "There may be more than one subarrays with sum as the given sum. The following solutions print first such subarray.\n",
    "*/"
   ]
  },
  {
   "cell_type": "code",
   "execution_count": 8,
   "metadata": {},
   "outputs": [],
   "source": [
    "/*\n",
    "Initialize a variable curr_sum as the first element. \n",
    "curr_sum indicates the sum of the current subarray. \n",
    "Start from the second element and add all elements one by one to the curr_sum. \n",
    "If curr_sum becomes equal to the sum, then print the solution. \n",
    "If curr_sum exceeds the sum, then remove trailing elements while curr_sum is greater than the sum.\n",
    "\n",
    "Following is the implementation of the above approach.\n",
    "*/"
   ]
  },
  {
   "cell_type": "code",
   "execution_count": 9,
   "metadata": {},
   "outputs": [],
   "source": [
    "int subArraySum(int arr[], int n, int sum)  \n",
    "    { \n",
    "        int curr_sum = arr[0], start = 0, i; \n",
    "  \n",
    "        // Pick a starting point \n",
    "        for (i = 1; i <= n; i++)  \n",
    "        { \n",
    "            // If curr_sum exceeds the sum, then remove the starting elements \n",
    "            while (curr_sum > sum && start < i-1) \n",
    "            { \n",
    "                curr_sum = curr_sum - arr[start]; \n",
    "                start++; \n",
    "            } \n",
    "              \n",
    "            // If curr_sum becomes equal to sum, then return true \n",
    "            if (curr_sum == sum)  \n",
    "            { \n",
    "                int p = i-1; \n",
    "                System.out.println(\"Sum found between indexes \" + start \n",
    "                        + \" and \" + p); \n",
    "                return 1; \n",
    "            } \n",
    "              \n",
    "            // Add this element to curr_sum \n",
    "            if (i < n) \n",
    "            curr_sum = curr_sum + arr[i]; \n",
    "              \n",
    "        } \n",
    "  \n",
    "        System.out.println(\"No subarray found\"); \n",
    "        return 0; \n",
    "    }"
   ]
  },
  {
   "cell_type": "code",
   "execution_count": 10,
   "metadata": {},
   "outputs": [
    {
     "name": "stdout",
     "output_type": "stream",
     "text": [
      "Sum found between indexes 1 and 4\n"
     ]
    },
    {
     "data": {
      "text/plain": [
       "1"
      ]
     },
     "execution_count": 10,
     "metadata": {},
     "output_type": "execute_result"
    }
   ],
   "source": [
    "int arr[] = {15, 2, 4, 8, 9, 5, 10, 23}; \n",
    "int n = arr.length; \n",
    "int sum = 23; \n",
    "subArraySum(arr, n, sum); "
   ]
  },
  {
   "cell_type": "markdown",
   "metadata": {},
   "source": [
    "## **3. Equilibrium index of an array**\n",
    "https://www.geeksforgeeks.org/equilibrium-index-of-an-array/"
   ]
  },
  {
   "cell_type": "code",
   "execution_count": 11,
   "metadata": {},
   "outputs": [],
   "source": [
    "/*\n",
    "Equilibrium index of an array is an index such that the sum of elements at lower indexes is equal to the sum of elements at higher indexes. For example, in an array A:\n",
    "\n",
    "Example :\n",
    "\n",
    "Input: A[] = {-7, 1, 5, 2, -4, 3, 0}\n",
    "Output: 3\n",
    "3 is an equilibrium index, because:\n",
    "A[0] + A[1] + A[2] = A[4] + A[5] + A[6]\n",
    "\n",
    "\n",
    "\n",
    "Input: A[] = {1, 2, 3}\n",
    "Output: -1\n",
    "\n",
    "Write a function int equilibrium(int[] arr, int n); that given a sequence arr[] of size n, returns an equilibrium index (if any) or -1 if no equilibrium indexes exist.\n",
    "*/"
   ]
  },
  {
   "cell_type": "code",
   "execution_count": 12,
   "metadata": {},
   "outputs": [],
   "source": [
    "/*\n",
    "The idea is to get the total sum of the array first. \n",
    "Then Iterate through the array and keep updating the left sum which is initialized as zero. \n",
    "In the loop, we can get the right sum by subtracting the elements one by one. \n",
    "\n",
    "1) Initialize leftsum  as 0\n",
    "2) Get the total sum of the array as sum\n",
    "3) Iterate through the array and for each index i, do following.\n",
    "    a)  Update sum to get the right sum.  \n",
    "           sum = sum - arr[i] \n",
    "       // sum is now right sum\n",
    "    b) If leftsum is equal to sum, then return current index. \n",
    "       // update leftsum for next iteration.\n",
    "    c) leftsum = leftsum + arr[i]\n",
    "4) return -1 \n",
    "// If we come out of loop without returning then\n",
    "// there is no equilibrium index\n",
    "The image below shows the dry run of the above approach:\n",
    "*/"
   ]
  },
  {
   "cell_type": "markdown",
   "metadata": {},
   "source": [
    "<img src=\"https://media.geeksforgeeks.org/wp-content/cdn-uploads/20190620123235/Equilibrium-index-of-an-array1.png\" alt=\"IMG 3 Preview\" title=\"IMG 3\" style=\"width:500px;height:600px\"/>"
   ]
  },
  {
   "cell_type": "code",
   "execution_count": 13,
   "metadata": {},
   "outputs": [],
   "source": [
    "int equilibrium(int arr[], int n) \n",
    "    { \n",
    "        int sum = 0; // initialize sum of whole array \n",
    "        int leftsum = 0; // initialize leftsum \n",
    "  \n",
    "        /* Find sum of the whole array */\n",
    "        for (int i = 0; i < n; ++i) \n",
    "            sum += arr[i]; \n",
    "  \n",
    "        for (int i = 0; i < n; ++i) { \n",
    "            sum -= arr[i]; // sum is now right sum for index i \n",
    "  \n",
    "            if (leftsum == sum) \n",
    "                return i; \n",
    "  \n",
    "            leftsum += arr[i]; \n",
    "        } \n",
    "  \n",
    "        /* If no equilibrium index found, then return 0 */\n",
    "        return -1; \n",
    "    } "
   ]
  },
  {
   "cell_type": "code",
   "execution_count": 14,
   "metadata": {},
   "outputs": [
    {
     "name": "stdout",
     "output_type": "stream",
     "text": [
      "First equilibrium index is 3\n"
     ]
    }
   ],
   "source": [
    "int arr[] = { -7, 1, 5, 2, -4, 3, 0 }; \n",
    "        int arr_size = arr.length; \n",
    "        System.out.println(\"First equilibrium index is \" +  \n",
    "                          equilibrium(arr, arr_size));"
   ]
  },
  {
   "cell_type": "markdown",
   "metadata": {},
   "source": [
    "## **4. Maximum Sum Increasing Subsequence | DP-14**\n",
    "https://www.geeksforgeeks.org/maximum-sum-increasing-subsequence-dp-14/"
   ]
  },
  {
   "cell_type": "code",
   "execution_count": 15,
   "metadata": {},
   "outputs": [],
   "source": [
    "/*\n",
    "Given an array of n positive integers. Write a program to find the sum of maximum sum subsequence of the given array such that the integers in the subsequence are sorted in increasing order. \n",
    "For example, \n",
    "if input is {1, 101, 2, 3, 100, 4, 5}, \n",
    "then output should be 106 (1 + 2 + 3 + 100), \n",
    "if the input array is {3, 4, 5, 10}, \n",
    "then output should be 22 (3 + 4 + 5 + 10) \n",
    "and if the input array is {10, 5, 4, 3}, \n",
    "then output should be 10\n",
    "*/"
   ]
  },
  {
   "cell_type": "code",
   "execution_count": 16,
   "metadata": {},
   "outputs": [],
   "source": [
    "/*\n",
    "This problem is a variation of standard Longest Increasing Subsequence (LIS) problem. \n",
    "We need a slight change in the Dynamic Programming solution of LIS problem. \n",
    "All we need to change is to use sum as a criteria instead of length of increasing subsequence.\n",
    "\n",
    "Following are the Dynamic Programming solution to the problem :\n",
    "*/"
   ]
  },
  {
   "cell_type": "code",
   "execution_count": 17,
   "metadata": {},
   "outputs": [],
   "source": [
    "static int maxSumIS(int arr[], int n) \n",
    "    { \n",
    "        int i, j, max = 0; \n",
    "        int msis[] = new int[n]; \n",
    "  \n",
    "        /* Initialize msis values  \n",
    "           for all indexes */\n",
    "        for (i = 0; i < n; i++) \n",
    "            msis[i] = arr[i]; \n",
    "  \n",
    "        /* Compute maximum sum values \n",
    "           in bottom up manner */\n",
    "        for (i = 1; i < n; i++) \n",
    "            for (j = 0; j < i; j++) \n",
    "                if (arr[i] > arr[j] && \n",
    "                    msis[i] < msis[j] + arr[i]) \n",
    "                    msis[i] = msis[j] + arr[i]; \n",
    "  \n",
    "        /* Pick maximum of all \n",
    "           msis values */\n",
    "        for (i = 0; i < n; i++) \n",
    "            if (max < msis[i]) \n",
    "                max = msis[i]; \n",
    "  \n",
    "        return max; \n",
    "    } "
   ]
  },
  {
   "cell_type": "code",
   "execution_count": 18,
   "metadata": {},
   "outputs": [
    {
     "name": "stdout",
     "output_type": "stream",
     "text": [
      "Sum of maximum sum increasing subsequence is 106\n"
     ]
    }
   ],
   "source": [
    "int arr[] = new int[]{1, 101, 2, 3, 100, 4, 5}; \n",
    "int n = arr.length; \n",
    "System.out.println(\"Sum of maximum sum \"+ \n",
    "                            \"increasing subsequence is \"+ \n",
    "                              maxSumIS(arr, n)); "
   ]
  },
  {
   "cell_type": "markdown",
   "metadata": {},
   "source": [
    "## **5. Convert array into Zig-Zag fashion**\n",
    "https://www.geeksforgeeks.org/convert-array-into-zig-zag-fashion/"
   ]
  },
  {
   "cell_type": "code",
   "execution_count": 19,
   "metadata": {},
   "outputs": [],
   "source": [
    "/*\n",
    "Given an array of DISTINCT elements, rearrange the elements of array in zig-zag fashion in O(n) time. \n",
    "The converted array should be in form a < b > c < d > e < f.\n",
    "Example:\n",
    "\n",
    "Input: arr[] = {4, 3, 7, 8, 6, 2, 1}\n",
    "Output: arr[] = {3, 7, 4, 8, 2, 6, 1}\n",
    "\n",
    "\n",
    "\n",
    "Input: arr[] = {1, 4, 3, 2}\n",
    "Output: arr[] = {1, 4, 2, 3}\n",
    "*/"
   ]
  },
  {
   "cell_type": "code",
   "execution_count": 20,
   "metadata": {},
   "outputs": [],
   "source": [
    "/*\n",
    "A Simple Solution is to first sort the array. \n",
    "After sorting, exclude the first element, swap the remaining elements in pairs. \n",
    "(i.e. keep arr[0] as it is, swap arr[1] and arr[2], swap arr[3] and arr[4], and so on).\n",
    "\n",
    "Time complexity: O(N log N) since we need to sort the array first.\n",
    "\n",
    "We can convert in O(n) time using an efficient approach. The idea is to use a modified one pass of bubble sort.\n",
    "\n",
    "Maintain a flag for representing which order(i.e. < or >) currently we need.\n",
    "If the current two elements are not in that order then swap those elements otherwise not.\n",
    "Let us see the main logic using three consecutive elements A, B, C.\n",
    "\n",
    "Suppose we are processing B and C currently and the current relation is ‘<', but we have B > C. \n",
    "Since current relation is ‘<' previous relation must be '>‘ i.e., A must be greater than B. \n",
    "So, the relation is A > B and B > C. We can deduce A > C. \n",
    "So if we swap B and C then the relation is A > C and C < B. \n",
    "Finally we get the desired order A C B\n",
    "\n",
    "Refer this for more explanation.\n",
    "\n",
    "Below image is a dry run of the above approach:\n",
    "*/"
   ]
  },
  {
   "cell_type": "markdown",
   "metadata": {},
   "source": [
    "<img src=\"https://media.geeksforgeeks.org/wp-content/cdn-uploads/20190620131651/Convert-array-into-Zig-Zag-fashion.png\" alt=\"IMG 4 Preview\" title=\"IMG 4\" style=\"width:700px;height:900px\"/>"
   ]
  },
  {
   "cell_type": "code",
   "execution_count": 21,
   "metadata": {},
   "outputs": [],
   "source": [
    "// Java program to sort an array in Zig-Zag form \n",
    "import java.util.Arrays; \n",
    "\n",
    "class Test \n",
    "{ \n",
    "\tstatic int arr[] = new int[]{4, 3, 7, 8, 6, 2, 1}; \n",
    "\t\n",
    "\t// Method for zig-zag conversion of array \n",
    "\tstatic void zigZag() \n",
    "\t{ \n",
    "\t\t// Flag true indicates relation \"<\" is expected, \n",
    "\t\t// else \">\" is expected. The first expected relation \n",
    "\t\t// is \"<\" \n",
    "\t\tboolean flag = true; \n",
    "\t\t\n",
    "\t\tint temp =0; \n",
    "\t\n",
    "\t\tfor (int i=0; i<=arr.length-2; i++) \n",
    "\t\t{ \n",
    "\t\t\tif (flag) /* \"<\" relation expected */\n",
    "\t\t\t{ \n",
    "\t\t\t\t/* If we have a situation like A > B > C, \n",
    "\t\t\t\twe get A > B < C by swapping B and C */\n",
    "\t\t\t\tif (arr[i] > arr[i+1]) \n",
    "\t\t\t\t{ \n",
    "\t\t\t\t\t// swap \n",
    "\t\t\t\t\ttemp = arr[i]; \n",
    "\t\t\t\t\tarr[i] = arr[i+1]; \n",
    "\t\t\t\t\tarr[i+1] = temp; \n",
    "\t\t\t\t} \n",
    "\t\t\t\t\n",
    "\t\t\t} \n",
    "\t\t\telse /* \">\" relation expected */\n",
    "\t\t\t{ \n",
    "\t\t\t\t/* If we have a situation like A < B < C, \n",
    "\t\t\t\twe get A < C > B by swapping B and C */\n",
    "\t\t\t\tif (arr[i] < arr[i+1]) \n",
    "\t\t\t\t{ \n",
    "\t\t\t\t\t// swap \n",
    "\t\t\t\t\ttemp = arr[i]; \n",
    "\t\t\t\t\tarr[i] = arr[i+1]; \n",
    "\t\t\t\t\tarr[i+1] = temp; \n",
    "\t\t\t\t} \n",
    "\t\t\t} \n",
    "\t\t\tflag = !flag; /* flip flag */\n",
    "\t\t} \n",
    "\t} \n",
    "\t\n",
    "\t// Driver method to test the above function \n",
    "\tpublic static void main() \n",
    "\t{ \n",
    "\t\tzigZag(); \n",
    "\t\tSystem.out.println(Arrays.toString(arr)); \n",
    "\t} \n",
    "} \n"
   ]
  },
  {
   "cell_type": "code",
   "execution_count": 22,
   "metadata": {},
   "outputs": [
    {
     "name": "stdout",
     "output_type": "stream",
     "text": [
      "[3, 7, 4, 8, 2, 6, 1]\n"
     ]
    }
   ],
   "source": [
    "Test.main()"
   ]
  },
  {
   "cell_type": "code",
   "execution_count": 23,
   "metadata": {},
   "outputs": [],
   "source": [
    "static int arr[] = new int[]{4, 3, 7, 8, 6, 2, 1}; "
   ]
  },
  {
   "cell_type": "code",
   "execution_count": 24,
   "metadata": {},
   "outputs": [],
   "source": [
    "// Method for zig-zag conversion of array \n",
    "static void zigZag() \n",
    "{ \n",
    "\t// Flag true indicates relation \"<\" is expected, \n",
    "\t// else \">\" is expected. The first expected relation \n",
    "\t// is \"<\" \n",
    "\tboolean flag = true; \n",
    "\t\n",
    "\tint temp =0; \n",
    "\n",
    "\tfor (int i=0; i<=arr.length-2; i++) \n",
    "\t{ \n",
    "\t\tif (flag) /* \"<\" relation expected */\n",
    "\t\t{ \n",
    "\t\t\t/* If we have a situation like A > B > C, \n",
    "\t\t\twe get A > B < C by swapping B and C */\n",
    "\t\t\tif (arr[i] > arr[i+1]) \n",
    "\t\t\t{ \n",
    "                // swap \n",
    "\t\t\t\ttemp = arr[i]; \n",
    "\t\t\t\tarr[i] = arr[i+1]; \n",
    "\t\t\t\tarr[i+1] = temp; \n",
    "\t\t\t} \n",
    "\t\t\t\n",
    "\t\t} \n",
    "\t\telse /* \">\" relation expected */\n",
    "\t\t{ \n",
    "\t\t\t/* If we have a situation like A < B < C, \n",
    "\t\t\twe get A < C > B by swapping B and C */\n",
    "\t\t\tif (arr[i] < arr[i+1]) \n",
    "\t\t\t{ \n",
    "\t\t\t\t// swap \n",
    "\t\t\t\ttemp = arr[i]; \n",
    "\t\t\t\tarr[i] = arr[i+1]; \n",
    "\t\t\t\tarr[i+1] = temp; \n",
    "\t\t\t} \n",
    "\t\t} \n",
    "\t\tflag = !flag; /* flip flag */\n",
    "\t} \n",
    "} "
   ]
  },
  {
   "cell_type": "code",
   "execution_count": 25,
   "metadata": {
    "scrolled": true
   },
   "outputs": [
    {
     "name": "stdout",
     "output_type": "stream",
     "text": [
      "[3, 7, 4, 8, 2, 6, 1]\n"
     ]
    }
   ],
   "source": [
    "zigZag(); \n",
    "System.out.println(Arrays.toString(arr)); "
   ]
  },
  {
   "cell_type": "markdown",
   "metadata": {},
   "source": [
    "## **6. Find a pair with the given difference**\n",
    "https://www.geeksforgeeks.org/find-a-pair-with-the-given-difference/"
   ]
  },
  {
   "cell_type": "code",
   "execution_count": 26,
   "metadata": {},
   "outputs": [],
   "source": [
    "/*\n",
    "Given an unsorted array and a number n, find if there exists a pair of elements in the array whose difference is n.\n",
    "Examples:\n",
    "\n",
    "Input: arr[] = {5, 20, 3, 2, 50, 80}, n = 78\n",
    "Output: Pair Found: (2, 80)\n",
    "\n",
    "Input: arr[] = {90, 70, 20, 80, 50}, n = 45\n",
    "Output: No Such Pair\n",
    "*/"
   ]
  },
  {
   "cell_type": "code",
   "execution_count": 27,
   "metadata": {},
   "outputs": [],
   "source": [
    "/*The simplest method is to run two loops, \n",
    "the outer loop picks the first element (smaller element) and the inner loop looks for the element picked by outer loop plus n. \n",
    "Time complexity of this method is O(n^2).\n",
    "\n",
    "We can use sorting and Binary Search to improve time complexity to O(nLogn). \n",
    "The first step is to sort the array in ascending order. \n",
    "Once the array is sorted, traverse the array from left to right, and for each element arr[i], binary search for arr[i] + n in arr[i+1..n-1]. \n",
    "If the element is found, return the pair.\n",
    "Both first and second steps take O(nLogn). So overall complexity is O(nLogn).\n",
    "\n",
    "The second step of the above algorithm can be improved to O(n). \n",
    "The first step remain same. The idea for second step is take two index variables i and j, initialize them as 0 and 1 respectively. \n",
    "Now run a linear loop. If arr[j] – arr[i] is smaller than n, we need to look for greater arr[j], so increment j. \n",
    "If arr[j] – arr[i] is greater than n, we need to look for greater arr[i], so increment i.\n",
    "The following code is only for the second step of the algorithm, it assumes that the array is already sorted.\n",
    "*/"
   ]
  },
  {
   "cell_type": "code",
   "execution_count": 28,
   "metadata": {},
   "outputs": [],
   "source": [
    "static boolean findPair(int arr[],int n) \n",
    "    { \n",
    "        int size = arr.length; \n",
    "  \n",
    "        // Initialize positions of two elements \n",
    "        int i = 0, j = 1; \n",
    "  \n",
    "        // Search for a pair \n",
    "        while (i < size && j < size) \n",
    "        { \n",
    "            if (i != j && arr[j]-arr[i] == n) \n",
    "            { \n",
    "                System.out.print(\"Pair Found: \"+ \n",
    "                                 \"( \"+arr[i]+\", \"+ arr[j]+\" )\"); \n",
    "                return true; \n",
    "            } \n",
    "            else if (arr[j] - arr[i] < n) \n",
    "                j++; \n",
    "            else\n",
    "                i++; \n",
    "        } \n",
    "  \n",
    "        System.out.print(\"No such pair\"); \n",
    "        return false; \n",
    "    } "
   ]
  },
  {
   "cell_type": "code",
   "execution_count": 29,
   "metadata": {},
   "outputs": [
    {
     "name": "stdout",
     "output_type": "stream",
     "text": [
      "Pair Found: ( 40, 100 )"
     ]
    },
    {
     "data": {
      "text/plain": [
       "true"
      ]
     },
     "execution_count": 29,
     "metadata": {},
     "output_type": "execute_result"
    }
   ],
   "source": [
    "int arr[] = {1, 8, 30, 40, 100}; \n",
    "int n = 60; \n",
    "findPair(arr,n);"
   ]
  },
  {
   "cell_type": "markdown",
   "metadata": {},
   "source": [
    "## **7. Chocolate Distribution Problem**\n",
    "https://www.geeksforgeeks.org/chocolate-distribution-problem/"
   ]
  },
  {
   "cell_type": "code",
   "execution_count": 30,
   "metadata": {},
   "outputs": [],
   "source": [
    "/*\n",
    "Given an array of n integers where each value represents number of chocolates in a packet. \n",
    "Each packet can have variable number of chocolates. \n",
    "There are m students, the task is to distribute chocolate packets such that:\n",
    "\n",
    "Each student gets one packet.\n",
    "The difference between the number of chocolates in packet with maximum chocolates and packet with minimum chocolates given to the students is minimum.\n",
    "Examples:\n",
    "\n",
    "Input : arr[] = {7, 3, 2, 4, 9, 12, 56}\n",
    "m = 3\n",
    "Output: Minimum Difference is 2\n",
    "We have seven packets of chocolates and\n",
    "we need to pick three packets for 3 students\n",
    "If we pick 2, 3 and 4, we get the minimum\n",
    "difference between maximum and minimum packet\n",
    "sizes.\n",
    "\n",
    "\n",
    "\n",
    "Input : arr[] = {3, 4, 1, 9, 56, 7, 9, 12}\n",
    "m = 5\n",
    "Output: Minimum Difference is 6\n",
    "The set goes like 3,4,7,9,9 and the output\n",
    "is 9-3 = 6\n",
    "\n",
    "Input : arr[] = {12, 4, 7, 9, 2, 23, 25, 41,\n",
    "30, 40, 28, 42, 30, 44, 48,\n",
    "43, 50}\n",
    "m = 7\n",
    "Output: Minimum Difference is 10\n",
    "We need to pick 7 packets. We pick 40, 41,\n",
    "42, 44, 48, 43 and 50 to minimize difference\n",
    "between maximum and minimum.\n",
    "*/"
   ]
  },
  {
   "cell_type": "code",
   "execution_count": 31,
   "metadata": {},
   "outputs": [],
   "source": [
    "/*\n",
    "A simple solution is to generate all subsets of size m of arr[0..n-1]. \n",
    "For every subset, find the difference between the maximum and minimum elements in it. Finally, return the minimum difference.\n",
    "\n",
    "An efficient solution is based on the observation that to minimize the difference, we must choose consecutive elements from a sorted packet. \n",
    "We first sort the array arr[0..n-1], then find the subarray of size m with the minimum difference between last and first elements.\n",
    "\n",
    "Below image is a dry run of the above approach:\n",
    "*/"
   ]
  },
  {
   "cell_type": "markdown",
   "metadata": {},
   "source": [
    "<img src=\"https://media.geeksforgeeks.org/wp-content/cdn-uploads/20190620132657/Chocolate-Distribution-Problem.png\" alt=\"IMG 7 Preview\" title=\"IMG 7\" style=\"width:750px;height:900px\"/>"
   ]
  },
  {
   "cell_type": "code",
   "execution_count": 32,
   "metadata": {},
   "outputs": [],
   "source": [
    "// arr[0..n-1] represents sizes of packets. m is number of students. \n",
    "// Returns minimum difference between maximum and minimum values of distribution. \n",
    "    static int findMinDiff(int arr[], int n, int m) \n",
    "    { \n",
    "        // if there are no chocolates or number of students is 0 \n",
    "        if (m == 0 || n == 0) \n",
    "            return 0; \n",
    "       \n",
    "        // Sort the given packets \n",
    "        Arrays.sort(arr); \n",
    "       \n",
    "        // Number of students cannot be more than number of packets \n",
    "        if (n < m) \n",
    "           return -1; \n",
    "       \n",
    "        // Largest number of chocolates \n",
    "        int min_diff = Integer.MAX_VALUE; \n",
    "       \n",
    "        // Find the subarray of size m such that difference between last \n",
    "        // (maximum in case of sorted) and first (minimum in case of sorted) \n",
    "        // elements of subarray is minimum. \n",
    "        int first = 0, last = 0; \n",
    "        for (int i = 0; i + m - 1 < n; i++) \n",
    "        { \n",
    "            int diff = arr[i+m-1] - arr[i]; \n",
    "            if (diff < min_diff) \n",
    "            { \n",
    "                min_diff = diff; \n",
    "                first = i; \n",
    "                last = i + m - 1; \n",
    "            } \n",
    "        } \n",
    "        return (arr[last] - arr[first]); \n",
    "    } "
   ]
  },
  {
   "cell_type": "code",
   "execution_count": 33,
   "metadata": {},
   "outputs": [
    {
     "name": "stdout",
     "output_type": "stream",
     "text": [
      "Minimum difference is 10\n"
     ]
    }
   ],
   "source": [
    "int arr[] = {12, 4, 7, 9, 2, 23, \n",
    "            25, 41, 30, 40, 28, \n",
    "            42, 30, 44, 48, 43, 50}; \n",
    "                     \n",
    "int m = 7;  // Number of students \n",
    "          \n",
    "int n = arr.length; \n",
    "System.out.println(\"Minimum difference is \"\n",
    "                + findMinDiff(arr, n, m));"
   ]
  },
  {
   "cell_type": "markdown",
   "metadata": {},
   "source": [
    "## **8. Minimum Number of Platforms Required for a Railway/Bus Station**\n",
    "https://www.geeksforgeeks.org/minimum-number-platforms-required-railwaybus-station/"
   ]
  },
  {
   "cell_type": "code",
   "execution_count": 34,
   "metadata": {},
   "outputs": [],
   "source": [
    "/*\n",
    "Given arrival and departure times of all trains that reach a railway station, the task is to find the minimum number of platforms required for the railway station so that no train waits.\n",
    "We are given two arrays which represent arrival and departure times of trains that stop\n",
    "\n",
    "Examples:\n",
    "\n",
    "Input: arr[] = {9:00, 9:40, 9:50, 11:00, 15:00, 18:00}\n",
    "dep[] = {9:10, 12:00, 11:20, 11:30, 19:00, 20:00}\n",
    "Output: 3\n",
    "There are at-most three trains at a time (time between 11:00 to 11:20)\n",
    "*/"
   ]
  },
  {
   "cell_type": "code",
   "execution_count": 35,
   "metadata": {},
   "outputs": [],
   "source": [
    "/*\n",
    "We need to find the maximum number of trains that are there on the given railway station at a time. \n",
    "A Simple Solution is to take every interval one by one and find the number of intervals that overlap with it. \n",
    "Keep track of maximum number of intervals that overlap with an interval. Finally return the maximum value. \n",
    "Time Complexity of this solution is O(n2).\n",
    "\n",
    "We can solve the above problem in O(N Log N) time. The idea is to consider all events in sorted order. \n",
    "Once we have all events in sorted order, we can trace the number of trains at any time keeping track of trains that have arrived, but not departed.\n",
    "\n",
    "For example consider the above example.\n",
    "\n",
    "    arr[]  = {9:00,  9:40, 9:50,  11:00, 15:00, 18:00}\n",
    "    dep[]  = {9:10, 12:00, 11:20, 11:30, 19:00, 20:00}\n",
    "\n",
    "All events sorted by time.\n",
    "Total platforms at any time can be obtained by subtracting total \n",
    "departures from total arrivals by that time.\n",
    " Time     Event Type     Total Platforms Needed at this Time                               \n",
    " 9:00       Arrival                  1\n",
    " 9:10       Departure                0\n",
    " 9:40       Arrival                  1\n",
    " 9:50       Arrival                  2\n",
    " 11:00      Arrival                  3 \n",
    " 11:20      Departure                2\n",
    " 11:30      Departure                1\n",
    " 12:00      Departure                0\n",
    " 15:00      Arrival                  1\n",
    " 18:00      Arrival                  2 \n",
    " 19:00      Departure                1\n",
    " 20:00      Departure                0\n",
    "\n",
    "Minimum Platforms needed on railway station = Maximum platforms needed at any time \n",
    "                                           = 3  \n",
    "Below is the implementation of the above approach. \n",
    "Note that the implementation doesn’t create a single sorted list of all events, \n",
    "rather it individually sorts arr[] and dep[] arrays, and then uses merge process of merge sort to process them together as a single sorted array.\n",
    "\n",
    "Note : This approach assumes that trains are arriving and departing on same date.\n",
    "*/"
   ]
  },
  {
   "cell_type": "code",
   "execution_count": 36,
   "metadata": {},
   "outputs": [],
   "source": [
    "// Returns minimum number of platforms reqquired \n",
    "static int findPlatform(int arr[], int dep[], int n) \n",
    "{ \n",
    "   // Sort arrival and departure arrays \n",
    "   Arrays.sort(arr); \n",
    "   Arrays.sort(dep); \n",
    "   \n",
    "   // plat_needed indicates number of platforms \n",
    "   // needed at a time \n",
    "   int plat_needed = 1, result = 1; \n",
    "   int i = 1, j = 0; \n",
    "   \n",
    "   // Similar to merge in merge sort to process  \n",
    "   // all events in sorted order \n",
    "   while (i < n && j < n) \n",
    "   { \n",
    "      // If next event in sorted order is arrival,  \n",
    "      // increment count of platforms needed \n",
    "      if (arr[i] <= dep[j]) \n",
    "      { \n",
    "          plat_needed++; \n",
    "          i++; \n",
    "   \n",
    "          // Update result if needed  \n",
    "          if (plat_needed > result)  \n",
    "              result = plat_needed; \n",
    "      } \n",
    "   \n",
    "      // Else decrement count of platforms needed \n",
    "      else\n",
    "      { \n",
    "          plat_needed--; \n",
    "          j++; \n",
    "      } \n",
    "   } \n",
    "   \n",
    "   return result; \n",
    "} "
   ]
  },
  {
   "cell_type": "code",
   "execution_count": 37,
   "metadata": {},
   "outputs": [
    {
     "name": "stdout",
     "output_type": "stream",
     "text": [
      "Minimum Number of Platforms Required = 3\n"
     ]
    }
   ],
   "source": [
    "public static void main() \n",
    "{ \n",
    "    int arr[] = {900, 940, 950, 1100, 1500, 1800}; \n",
    "    int dep[] = {910, 1200, 1120, 1130, 1900, 2000}; \n",
    "    int n = arr.length; \n",
    "    System.out.println(\"Minimum Number of Platforms Required = \"\n",
    "                        + findPlatform(arr, dep, n)); \n",
    "} \n",
    "main();"
   ]
  },
  {
   "cell_type": "markdown",
   "metadata": {},
   "source": [
    "## **9. Trapping Rain Water**\n",
    "https://www.geeksforgeeks.org/trapping-rain-water/"
   ]
  },
  {
   "cell_type": "code",
   "execution_count": 38,
   "metadata": {},
   "outputs": [],
   "source": [
    "/*\n",
    "Given n non-negative integers representing an elevation map where the width of each bar is 1, \n",
    "compute how much water it is able to trap after raining.\n",
    "Examples:\n",
    "\n",
    "Input: arr[]   = {2, 0, 2}\n",
    "Output: 2\n",
    "Structure is like below\n",
    "| |\n",
    "|_|\n",
    "We can trap 2 units of water in the middle gap.\n",
    "\n",
    "Input: arr[]   = {3, 0, 0, 2, 0, 4}\n",
    "Output: 10\n",
    "Structure is like below\n",
    "     |\n",
    "|    |\n",
    "|  | |\n",
    "|__|_| \n",
    "We can trap \"3*2 units\" of water between 3 an 2,\n",
    "\"1 unit\" on top of bar 2 and \"3 units\" between 2 \n",
    "and 4.  See below diagram also.\n",
    "\n",
    "Input: arr[] = [0, 1, 0, 2, 1, 0, 1, 3, 2, 1, 2, 1]\n",
    "Output: 6\n",
    "       | \n",
    "   |   || |\n",
    "_|_||_||||||\n",
    "Trap \"1 unit\" between first 1 and 2, \"4 units\" between\n",
    "first 2 and 3 and \"1 unit\" between second last 1 and last 2 \n",
    "*/\n"
   ]
  },
  {
   "cell_type": "markdown",
   "metadata": {},
   "source": [
    "<img src=\"https://www.geeksforgeeks.org/wp-content/uploads/watertrap.png\"/>\n"
   ]
  },
  {
   "cell_type": "code",
   "execution_count": 39,
   "metadata": {},
   "outputs": [],
   "source": [
    "/*\n",
    "An element of the array can store water if there are higher bars on left and right. \n",
    "We can find the amount of water to be stored in every element by finding the heights of bars on left and right sides. \n",
    "The idea is to compute the amount of water that can be stored in every element of array. \n",
    "For example, consider the array {3, 0, 0, 2, 0, 4}, \n",
    "we can store three units of water at indexes 1 and 2, \n",
    "and one unit of water at index 3, \n",
    "and three units of water at index 4.\n",
    "\n",
    "An Efficient Solution is to pre-compute highest bar on left and right of every bar in O(n) time. \n",
    "Then use these pre-computed values to find the amount of water in every array element.\n",
    "\n",
    "Below is the implementation of this solution.\n",
    "*/"
   ]
  },
  {
   "cell_type": "code",
   "execution_count": 40,
   "metadata": {},
   "outputs": [],
   "source": [
    "static int arr[] = new int[] { 0, 1, 0, 2, 1, 0, 1, 3, 2, 1, 2, 1 }; \n",
    "\n",
    "// Method for maximum amount of water \n",
    "static int findWater(int n) \n",
    "{ \n",
    "    // left[i] contains height of tallest bar to the \n",
    "    // left of i'th bar including itself \n",
    "    int left[] = new int[n]; \n",
    "\n",
    "    // Right [i] contains height of tallest bar to \n",
    "    // the right of ith bar including itself \n",
    "    int right[] = new int[n]; \n",
    "\n",
    "    // Initialize result \n",
    "    int water = 0; \n",
    "\n",
    "    // Fill left array \n",
    "    left[0] = arr[0]; \n",
    "    for (int i = 1; i < n; i++) \n",
    "        left[i] = Math.max(left[i - 1], arr[i]); \n",
    "\n",
    "    // Fill right array \n",
    "    right[n - 1] = arr[n - 1]; \n",
    "    for (int i = n - 2; i >= 0; i--) \n",
    "        right[i] = Math.max(right[i + 1], arr[i]); \n",
    "\n",
    "    // Calculate the accumulated water element by element \n",
    "    // consider the amount of water on i'th bar, the \n",
    "    // amount of water accumulated on this particular \n",
    "    // bar will be equal to min(left[i], right[i]) - arr[i] . \n",
    "    for (int i = 0; i < n; i++) \n",
    "        water += Math.min(left[i], right[i]) - arr[i]; \n",
    "\n",
    "    return water; \n",
    "} "
   ]
  },
  {
   "cell_type": "code",
   "execution_count": 41,
   "metadata": {},
   "outputs": [
    {
     "name": "stdout",
     "output_type": "stream",
     "text": [
      "Maximum water that can be accumulated is 6\n"
     ]
    }
   ],
   "source": [
    "System.out.println(\"Maximum water that can be accumulated is \" + findWater(arr.length)); "
   ]
  },
  {
   "cell_type": "markdown",
   "metadata": {},
   "source": [
    "## **10. Stock Buy Sell to Maximize Profit**\n",
    "https://www.geeksforgeeks.org/stock-buy-sell/"
   ]
  },
  {
   "cell_type": "code",
   "execution_count": 42,
   "metadata": {},
   "outputs": [],
   "source": [
    "/*\n",
    "The cost of a stock on each day is given in an array, \n",
    "find the max profit that you can make by buying and selling in those days. \n",
    "For example, if the given array is {100, 180, 260, 310, 40, 535, 695}, \n",
    "the maximum profit can earned by buying on day 0, selling on day 3. Again buy on day 4 and sell on day 6. \n",
    "If the given array of prices is sorted in decreasing order, then profit cannot be earned at all.\n",
    "*/"
   ]
  },
  {
   "cell_type": "code",
   "execution_count": 43,
   "metadata": {},
   "outputs": [],
   "source": [
    "/*\n",
    "Naive approach: \n",
    "A simple approach is to try buying the stocks and selling them on every single day \n",
    "when profitable and keep updating the maximum profit so far.\n",
    "*/"
   ]
  },
  {
   "cell_type": "code",
   "execution_count": 44,
   "metadata": {},
   "outputs": [],
   "source": [
    "static int maxProfit(int price[], int start, int end) \n",
    "{ \n",
    "  \n",
    "    // If the stocks can't be bought \n",
    "    if (end <= start) \n",
    "        return 0; \n",
    "  \n",
    "    // Initialise the profit \n",
    "    int profit = 0; \n",
    "  \n",
    "    // The day at which the stock \n",
    "    // must be bought \n",
    "    for (int i = start; i < end; i++)  \n",
    "    { \n",
    "  \n",
    "        // The day at which the \n",
    "        // stock must be sold \n",
    "        for (int j = i + 1; j <= end; j++) \n",
    "        { \n",
    "  \n",
    "            // If byuing the stock at ith day and \n",
    "            // selling it at jth day is profitable \n",
    "            if (price[j] > price[i])  \n",
    "            { \n",
    "  \n",
    "                // Update the current profit \n",
    "                int curr_profit = price[j] - price[i] \n",
    "                                + maxProfit(price, start, i - 1) \n",
    "                                + maxProfit(price, j + 1, end); \n",
    "  \n",
    "                // Update the maximum profit so far \n",
    "                profit = Math.max(profit, curr_profit); \n",
    "            } \n",
    "        } \n",
    "    } \n",
    "    return profit; \n",
    "} "
   ]
  },
  {
   "cell_type": "code",
   "execution_count": 45,
   "metadata": {},
   "outputs": [
    {
     "name": "stdout",
     "output_type": "stream",
     "text": [
      "865"
     ]
    }
   ],
   "source": [
    "int price[] = { 100, 180, 260, 310, \n",
    "                40, 535, 695 }; \n",
    "int n = price.length; \n",
    "\n",
    "System.out.print(maxProfit(price, 0, n - 1)); "
   ]
  },
  {
   "cell_type": "code",
   "execution_count": 46,
   "metadata": {},
   "outputs": [],
   "source": [
    "/*\n",
    "Efficient approach: If we are allowed to buy and sell only once, then we can use following algorithm. \n",
    "Maximum difference between two elements. Here we are allowed to buy and sell multiple times.\n",
    "Following is algorithm for this problem.\n",
    "\n",
    "Find the local minima and store it as starting index. If not exists, return.\n",
    "Find the local maxima. and store it as ending index. If we reach the end, set the end as ending index.\n",
    "Update the solution (Increment count of buy sell pairs)\n",
    "Repeat the above steps if end is not reached.\n",
    "*/"
   ]
  },
  {
   "cell_type": "code",
   "execution_count": 47,
   "metadata": {},
   "outputs": [],
   "source": [
    "class Interval { \n",
    "    int buy, sell; \n",
    "} \n",
    "  \n",
    "class StockBuySell { \n",
    "    // This function finds the buy sell schedule for maximum profit \n",
    "    void stockBuySell(int price[], int n) \n",
    "    { \n",
    "        // Prices must be given for at least two days \n",
    "        if (n == 1) \n",
    "            return; \n",
    "  \n",
    "        int count = 0; \n",
    "  \n",
    "        // solution array \n",
    "        ArrayList<Interval> sol = new ArrayList<Interval>(); \n",
    "  \n",
    "        // Traverse through given price array \n",
    "        int i = 0; \n",
    "        while (i < n - 1) { \n",
    "            // Find Local Minima. Note that the limit is (n-2) as we are \n",
    "            // comparing present element to the next element. \n",
    "            while ((i < n - 1) && (price[i + 1] <= price[i])) \n",
    "                i++; \n",
    "  \n",
    "            // If we reached the end, break as no further solution possible \n",
    "            if (i == n - 1) \n",
    "                break; \n",
    "  \n",
    "            Interval e = new Interval(); \n",
    "            e.buy = i++; \n",
    "            // Store the index of minima \n",
    "  \n",
    "            // Find Local Maxima.  Note that the limit is (n-1) as we are \n",
    "            // comparing to previous element \n",
    "            while ((i < n) && (price[i] >= price[i - 1])) \n",
    "                i++; \n",
    "  \n",
    "            // Store the index of maxima \n",
    "            e.sell = i - 1; \n",
    "            sol.add(e); \n",
    "  \n",
    "            // Increment number of buy/sell \n",
    "            count++; \n",
    "        } \n",
    "  \n",
    "        // print solution \n",
    "        if (count == 0) \n",
    "            System.out.println(\"There is no day when buying the stock \"\n",
    "                               + \"will make profit\"); \n",
    "        else\n",
    "            for (int j = 0; j < count; j++) \n",
    "                System.out.println(\"Buy on day: \" + sol.get(j).buy \n",
    "                                   + \"        \"\n",
    "                                   + \"Sell on day : \" + sol.get(j).sell); \n",
    "  \n",
    "        return; \n",
    "    } \n",
    "}"
   ]
  },
  {
   "cell_type": "code",
   "execution_count": 48,
   "metadata": {},
   "outputs": [
    {
     "name": "stdout",
     "output_type": "stream",
     "text": [
      "Buy on day: 0        Sell on day : 3\n",
      "Buy on day: 4        Sell on day : 6\n"
     ]
    }
   ],
   "source": [
    "StockBuySell stock = new StockBuySell(); \n",
    "  \n",
    "// stock prices on consecutive days \n",
    "int price[] = { 100, 180, 260, 310, 40, 535, 695 }; \n",
    "int n = price.length; \n",
    "\n",
    "// fucntion call \n",
    "stock.stockBuySell(price, n); "
   ]
  },
  {
   "cell_type": "markdown",
   "metadata": {},
   "source": [
    "## **11. Rotate a matrix by 90 degree without using any extra space | Set 2**\n",
    "https://www.geeksforgeeks.org/rotate-matrix-90-degree-without-using-extra-space-set-2/"
   ]
  },
  {
   "cell_type": "code",
   "execution_count": 49,
   "metadata": {},
   "outputs": [],
   "source": [
    "/*\n",
    "Given a square matrix, turn it by 90 degrees in anti-clockwise direction without using any extra space.\n",
    "\n",
    "Examples:\n",
    "\n",
    "Input\n",
    " 1  2  3\n",
    " 4  5  6\n",
    " 7  8  9\n",
    "Output:\n",
    " 3  6  9 \n",
    " 2  5  8 \n",
    " 1  4  7 \n",
    "\n",
    "Input:\n",
    " 1  2  3  4 \n",
    " 5  6  7  8 \n",
    " 9 10 11 12 \n",
    "13 14 15 16 \n",
    "Output:\n",
    " 4  8 12 16 \n",
    " 3  7 11 15 \n",
    " 2  6 10 14 \n",
    " 1  5  9 13\n",
    "*/"
   ]
  },
  {
   "cell_type": "code",
   "execution_count": 50,
   "metadata": {},
   "outputs": [],
   "source": [
    "/*\n",
    "There are two steps :\n",
    "\n",
    "- Find transpose of matrix.\n",
    "- Reverse columns of the transpose.\n",
    "\n",
    "Illustration of above steps :\n",
    "\n",
    "Let the given matrix be\n",
    "1  2  3  4\n",
    "5  6  7  8\n",
    "9  10 11 12\n",
    "13 14 15 16\n",
    "\n",
    "First we find transpose.\n",
    "1 5 9 13\n",
    "2 6 10 14\n",
    "3 7 11 15\n",
    "4 8 12 16\n",
    "\n",
    "Then we reverse elements of every column.\n",
    "4 8 12 16\n",
    "3 7 11 15\n",
    "2 6 10 14\n",
    "1 5  9 13\n",
    "*/"
   ]
  },
  {
   "cell_type": "code",
   "execution_count": 51,
   "metadata": {},
   "outputs": [],
   "source": [
    "class GFG { \n",
    "  \n",
    "    // After transpose we swap elements of \n",
    "    // column one by one for finding left \n",
    "    // rotation of matrix by 90 degree \n",
    "    static void reverseColumns(int arr[][]) \n",
    "    { \n",
    "        for (int i = 0; i < arr[0].length; i++) \n",
    "            for (int j = 0, k = arr[0].length - 1; j < k; j++, k--) { \n",
    "                int temp = arr[j][i]; \n",
    "                arr[j][i] = arr[k][i]; \n",
    "                arr[k][i] = temp; \n",
    "            } \n",
    "    } \n",
    "  \n",
    "    // Function for do transpose of matrix \n",
    "    static void transpose(int arr[][]) \n",
    "    { \n",
    "        for (int i = 0; i < arr.length; i++) \n",
    "            for (int j = i; j < arr[0].length; j++) { \n",
    "                int temp = arr[j][i]; \n",
    "                arr[j][i] = arr[i][j]; \n",
    "                arr[i][j] = temp; \n",
    "            } \n",
    "    } \n",
    "  \n",
    "    // Function for print matrix \n",
    "    static void printMatrix(int arr[][]) \n",
    "    { \n",
    "        for (int i = 0; i < arr.length; i++) { \n",
    "            for (int j = 0; j < arr[0].length; j++) \n",
    "                System.out.print(arr[i][j] + \" \"); \n",
    "            System.out.println(\"\"); \n",
    "        } \n",
    "    } \n",
    "  \n",
    "    // Function to anticlockwise rotate \n",
    "    // matrix by 90 degree \n",
    "    static void rotate90(int arr[][]) \n",
    "    { \n",
    "        transpose(arr); \n",
    "        reverseColumns(arr); \n",
    "    } \n",
    "}"
   ]
  },
  {
   "cell_type": "code",
   "execution_count": 52,
   "metadata": {},
   "outputs": [
    {
     "name": "stdout",
     "output_type": "stream",
     "text": [
      "4 8 12 16 \n",
      "3 7 11 15 \n",
      "2 6 10 14 \n",
      "1 5 9 13 \n"
     ]
    }
   ],
   "source": [
    "int arr[][] = { { 1, 2, 3, 4 }, \n",
    "                { 5, 6, 7, 8 }, \n",
    "                { 9, 10, 11, 12 }, \n",
    "                { 13, 14, 15, 16 } }; \n",
    "\n",
    "GFG.rotate90(arr); \n",
    "GFG.printMatrix(arr);"
   ]
  },
  {
   "cell_type": "markdown",
   "metadata": {},
   "source": [
    "## **12. Find k pairs with smallest sums in two arrays**\n",
    "https://www.geeksforgeeks.org/find-k-pairs-smallest-sums-two-arrays/"
   ]
  },
  {
   "cell_type": "code",
   "execution_count": 53,
   "metadata": {},
   "outputs": [],
   "source": [
    "/*\n",
    "Given two integer arrays arr1[] and arr2[] sorted in ascending order and an integer k.\n",
    "Find k pairs with smallest sums such that one element of a pair belongs to arr1[] and other element belongs to arr2[]\n",
    "\n",
    "Examples:\n",
    "\n",
    "Input :  arr1[] = {1, 7, 11}\n",
    "         arr2[] = {2, 4, 6}\n",
    "         k = 3\n",
    "Output : [1, 2],\n",
    "         [1, 4],\n",
    "         [1, 6]\n",
    "Explanation: The first 3 pairs are returned \n",
    "from the sequence [1, 2], [1, 4], [1, 6], \n",
    "[7, 2], [7, 4], [11, 2], [7, 6], [11, 4], \n",
    "[11, 6]\n",
    "*/"
   ]
  },
  {
   "cell_type": "code",
   "execution_count": 54,
   "metadata": {},
   "outputs": [],
   "source": [
    "/*\n",
    "We one by one find k smallest sum pairs, starting from least sum pair. \n",
    "The idea is to keep track of all elements of arr2[] which have been already considered for every element arr1[i1] so that in an iteration we only consider next element. \n",
    "For this purpose, we use an index array index2[] to track the indexes of next elements in the other array. \n",
    "It simply means that which element of second array to be added with the element of first array in each and every iteration. \n",
    "We increment value in index array for the element that forms next minimum value pair.\n",
    "*/"
   ]
  },
  {
   "cell_type": "code",
   "execution_count": 55,
   "metadata": {},
   "outputs": [],
   "source": [
    "class KSmallestPair \n",
    "{ \n",
    "    // Function to find k pairs with least sum such \n",
    "    // that one elemennt of a pair is from arr1[] and \n",
    "    // other element is from arr2[] \n",
    "    static void kSmallestPair(int arr1[], int n1, int arr2[], \n",
    "                                            int n2, int k) \n",
    "    { \n",
    "        if (k > n1*n2) \n",
    "        { \n",
    "            System.out.print(\"k pairs don't exist\"); \n",
    "            return ; \n",
    "        } \n",
    "       \n",
    "        // Stores current index in arr2[] for \n",
    "        // every element of arr1[]. Initially \n",
    "        // all values are considered 0. \n",
    "        // Here current index is the index before \n",
    "        // which all elements are considered as \n",
    "        // part of output. \n",
    "        int index2[] = new int[n1]; \n",
    "       \n",
    "        while (k > 0) \n",
    "        { \n",
    "            // Initialize current pair sum as infinite \n",
    "            int min_sum = Integer.MAX_VALUE; \n",
    "            int min_index = 0; \n",
    "       \n",
    "            // To pick next pair, traverse for all  \n",
    "            // elements of arr1[], for every element, find  \n",
    "            // corresponding current element in arr2[] and \n",
    "            // pick minimum of all formed pairs. \n",
    "            for (int i1 = 0; i1 < n1; i1++) \n",
    "            { \n",
    "                // Check if current element of arr1[] plus \n",
    "                // element of array2 to be used gives  \n",
    "                // minimum sum \n",
    "                if (index2[i1] < n2 &&  \n",
    "                    arr1[i1] + arr2[index2[i1]] < min_sum) \n",
    "                { \n",
    "                    // Update index that gives minimum \n",
    "                    min_index = i1; \n",
    "       \n",
    "                    // update minimum sum \n",
    "                    min_sum = arr1[i1] + arr2[index2[i1]]; \n",
    "                } \n",
    "            } \n",
    "       \n",
    "            System.out.print(\"(\" + arr1[min_index] + \", \" + \n",
    "                            arr2[index2[min_index]]+ \") \"); \n",
    "       \n",
    "            index2[min_index]++; \n",
    "            k--; \n",
    "        } \n",
    "    } \n",
    "}"
   ]
  },
  {
   "cell_type": "code",
   "execution_count": 56,
   "metadata": {},
   "outputs": [
    {
     "name": "stdout",
     "output_type": "stream",
     "text": [
      "(1, 2) (1, 4) (3, 2) (3, 4) "
     ]
    }
   ],
   "source": [
    "int arr1[] = {1, 3, 11}; \n",
    "int n1 = arr1.length; \n",
    "\n",
    "int arr2[] = {2, 4, 8}; \n",
    "int n2 = arr2.length; \n",
    "\n",
    "int k = 4; \n",
    "KSmallestPair kp = new KSmallestPair();\n",
    "kp.kSmallestPair( arr1, n1, arr2, n2, k); "
   ]
  },
  {
   "cell_type": "markdown",
   "metadata": {},
   "source": [
    "## **13. Search an element in a sorted and rotated array**\n",
    "https://www.geeksforgeeks.org/search-an-element-in-a-sorted-and-pivoted-array/"
   ]
  },
  {
   "cell_type": "code",
   "execution_count": 57,
   "metadata": {},
   "outputs": [],
   "source": [
    "/*\n",
    "An element in a sorted array can be found in O(log n) time via binary search. \n",
    "But suppose we rotate an ascending order sorted array at some pivot unknown to you beforehand. \n",
    "So for instance, 1 2 3 4 5 might become 3 4 5 1 2. \n",
    "Devise a way to find an element in the rotated array in O(log n) time.\n",
    "*/"
   ]
  },
  {
   "cell_type": "markdown",
   "metadata": {},
   "source": [
    "<img src=\"https://www.geeksforgeeks.org/wp-content/uploads/2009/08/sortedPivotedArray.gif\"/>"
   ]
  },
  {
   "cell_type": "code",
   "execution_count": 58,
   "metadata": {},
   "outputs": [],
   "source": [
    "/*\n",
    "Input  : arr[] = {5, 6, 7, 8, 9, 10, 1, 2, 3};\n",
    "         key = 3\n",
    "Output : Found at index 8\n",
    "\n",
    "Input  : arr[] = {5, 6, 7, 8, 9, 10, 1, 2, 3};\n",
    "         key = 30\n",
    "Output : Not found\n",
    "\n",
    "Input : arr[] = {30, 40, 50, 10, 20}\n",
    "        key = 10   \n",
    "Output : Found at index 3\n",
    "*/"
   ]
  },
  {
   "cell_type": "code",
   "execution_count": 59,
   "metadata": {},
   "outputs": [],
   "source": [
    "/*\n",
    "The idea is to find the pivot point, divide the array in two sub-arrays and call binary search.\n",
    "The main idea for finding pivot is – for a sorted (in increasing order) and pivoted array, pivot element is the only element for which next element to it is smaller than it.\n",
    "Using above criteria and binary search methodology we can get pivot element in O(logn) time\n",
    "\n",
    "Input arr[] = {3, 4, 5, 1, 2}\n",
    "Element to Search = 1\n",
    "  1) Find out pivot point and divide the array in two\n",
    "      sub-arrays. (pivot = 2) //Index of 5\n",
    "  2) Now call binary search for one of the two sub-arrays.\n",
    "      (a) If element is greater than 0th element then\n",
    "             search in left array\n",
    "      (b) Else Search in right array\n",
    "          (1 will go in else as 1 < 0th element(3))\n",
    "  3) If element is found in selected sub-array then return index\n",
    "     Else return -1.\n",
    "*/"
   ]
  },
  {
   "cell_type": "code",
   "execution_count": 60,
   "metadata": {},
   "outputs": [],
   "source": [
    "/*\n",
    "Improved Solution:\n",
    "We can search an element in one pass of Binary Search. The idea is to search\n",
    "\n",
    "1) Find middle point mid = (l + h)/2\n",
    "2) If key is present at middle point, return mid.\n",
    "3) Else If arr[l..mid] is sorted\n",
    "    a) If key to be searched lies in range from arr[l]\n",
    "       to arr[mid], recur for arr[l..mid].\n",
    "    b) Else recur for arr[mid+1..h]\n",
    "4) Else (arr[mid+1..h] must be sorted)\n",
    "    a) If key to be searched lies in range from arr[mid+1]\n",
    "       to arr[h], recur for arr[mid+1..h].\n",
    "    b) Else recur for arr[l..mid] \n",
    "Below is the implementation of above idea :\n",
    "*/"
   ]
  },
  {
   "cell_type": "code",
   "execution_count": 61,
   "metadata": {},
   "outputs": [],
   "source": [
    "// Returns index of key in arr[l..h]  \n",
    "// if key is present, otherwise returns -1 \n",
    "static int search(int arr[], int l, int h, int key) \n",
    "{ \n",
    "    if (l > h)  \n",
    "        return -1; \n",
    "\n",
    "    int mid = (l+h)/2; \n",
    "    if (arr[mid] == key) \n",
    "        return mid; \n",
    "\n",
    "    /* If arr[l...mid] first subarray is sorted */\n",
    "    if (arr[l] <= arr[mid]) \n",
    "    { \n",
    "        /* As this subarray is sorted, we  \n",
    "           can quickly check if key lies in  \n",
    "           half or other half */\n",
    "        if (key >= arr[l] && key <= arr[mid]) \n",
    "           return search(arr, l, mid-1, key); \n",
    "        /*If key not lies in first half subarray,  \n",
    "       Divide other half  into two subarrays, \n",
    "       such that we can quickly check if key lies  \n",
    "       in other half */\n",
    "        return search(arr, mid+1, h, key); \n",
    "    } \n",
    "\n",
    "    /* If arr[l..mid] first subarray is not sorted,  \n",
    "       then arr[mid... h] must be sorted subarry*/\n",
    "    if (key >= arr[mid] && key <= arr[h]) \n",
    "        return search(arr, mid+1, h, key); \n",
    "\n",
    "    return search(arr, l, mid-1, key); \n",
    "} "
   ]
  },
  {
   "cell_type": "code",
   "execution_count": 62,
   "metadata": {},
   "outputs": [
    {
     "name": "stdout",
     "output_type": "stream",
     "text": [
      "Index: 2\n"
     ]
    }
   ],
   "source": [
    "int arr[] = {4, 5, 6, 7, 8, 9, 1, 2, 3}; \n",
    "int n = arr.length; \n",
    "int key = 6; \n",
    "int i = search(arr, 0, n-1, key); \n",
    "if (i != -1)  \n",
    "    System.out.println(\"Index: \" + i); \n",
    "else\n",
    "    System.out.println(\"Key not found\"); "
   ]
  },
  {
   "cell_type": "markdown",
   "metadata": {},
   "source": [
    "## **14. Given a sorted and rotated array, find if there is a pair with a given sum**\n",
    "https://www.geeksforgeeks.org/given-a-sorted-and-rotated-array-find-if-there-is-a-pair-with-a-given-sum/"
   ]
  },
  {
   "cell_type": "code",
   "execution_count": 63,
   "metadata": {},
   "outputs": [],
   "source": [
    "/*\n",
    "Given an array that is sorted and then rotated around an unknown point. \n",
    "Find if the array has a pair with a given sum ‘x’. It may be assumed that all elements in the array are distinct.\n",
    "Examples :\n",
    "\n",
    "Input: arr[] = {11, 15, 6, 8, 9, 10}, x = 16\n",
    "Output: true\n",
    "There is a pair (6, 10) with sum 16\n",
    "\n",
    "Input: arr[] = {11, 15, 26, 38, 9, 10}, x = 35\n",
    "Output: true\n",
    "There is a pair (26, 9) with sum 35\n",
    "\n",
    "Input: arr[] = {11, 15, 26, 38, 9, 10}, x = 45\n",
    "Output: false\n",
    "There is no pair with sum 45.\n",
    "*/"
   ]
  },
  {
   "cell_type": "code",
   "execution_count": 64,
   "metadata": {},
   "outputs": [],
   "source": [
    "/*\n",
    "The idea is to first find the largest element in array which is the pivot point also and the element just after largest is the smallest element. \n",
    "Once we have indexes largest and smallest elements, we use similar meet in middle algorithm (as discussed here in method 1) to find if there is a pair. \n",
    "The only thing new here is indexes are incremented and decremented in rotational manner using modular arithmetic.\n",
    "*/"
   ]
  },
  {
   "cell_type": "code",
   "execution_count": 65,
   "metadata": {},
   "outputs": [],
   "source": [
    "/*\n",
    "METHOD 1 (Use Sorting)\n",
    "\n",
    "Algorithm :\n",
    "\n",
    "hasArrayTwoCandidates (A[], ar_size, sum)\n",
    "1) Sort the array in non-decreasing order.\n",
    "2) Initialize two index variables to find the candidate \n",
    "   elements in the sorted array.\n",
    "       (a) Initialize first to the leftmost index: l = 0\n",
    "       (b) Initialize second  the rightmost index:  r = ar_size-1\n",
    "3) Loop while l < r.\n",
    "       (a) If (A[l] + A[r] == sum)  then return 1\n",
    "       (b) Else if( A[l] + A[r] <  sum )  then l++\n",
    "       (c) Else r--    \n",
    "4) No candidates in whole array - return 0\n",
    "*/"
   ]
  },
  {
   "cell_type": "code",
   "execution_count": 66,
   "metadata": {},
   "outputs": [],
   "source": [
    "/*\n",
    "How to count all pairs having sum x?\n",
    "The stepwise algo is:\n",
    "\n",
    "1. Find the pivot element of the sorted and the rotated array. The pivot element is the largest element in the array. The smallest element will be adjacent to it.\n",
    "2. Use two pointers (say left and right) with the left pointer pointing to the smallest element and the right pointer pointing to largest element.\n",
    "3. Find the sum of the elements pointed by both the pointers.\n",
    "4. If the sum is equal to x, then increment the count. If the sum is less than x, then to increase sum move the left pointer to next position by incrementing it in a rotational manner. \n",
    "   If the sum is greater than x, then to decrease sum move the right pointer to next position by decrementing it in rotational manner.\n",
    "5. Repeat step 3 and 4 until the left pointer is not equal to the right pointer or until the left pointer is not equal to right pointer – 1.\n",
    "6. Print final count.\n",
    "*/"
   ]
  },
  {
   "cell_type": "code",
   "execution_count": 67,
   "metadata": {},
   "outputs": [],
   "source": [
    "static int pairsInSortedRotated(int arr[],  \n",
    "                                int n, int x) \n",
    "{ \n",
    "    // Find the pivot element.  \n",
    "    // Pivot element is largest  \n",
    "    // element of array. \n",
    "    int i; \n",
    "    for (i = 0; i < n - 1; i++) \n",
    "        if (arr[i] > arr[i + 1]) \n",
    "            break; \n",
    "      \n",
    "    // l is index of \n",
    "    // smallest element. \n",
    "    int l = (i + 1) % n;  \n",
    "      \n",
    "    // r is index of  \n",
    "    // largest element. \n",
    "    int r = i; \n",
    "      \n",
    "    // Variable to store \n",
    "    // count of number \n",
    "    // of pairs. \n",
    "    int cnt = 0; \n",
    "  \n",
    "    // Find sum of pair  \n",
    "    // formed by arr[l]  \n",
    "    // and arr[r] and  \n",
    "    // update l, r and  \n",
    "    // cnt accordingly. \n",
    "    while (l != r) \n",
    "    { \n",
    "        // If we find a pair with  \n",
    "        // sum x, then increment  \n",
    "        // cnt, move l and r to  \n",
    "        // next element. \n",
    "        if (arr[l] + arr[r] == x) \n",
    "        { \n",
    "            cnt++; \n",
    "              \n",
    "            // This condition is required  \n",
    "            // to be checked, otherwise  \n",
    "            // l and r will cross each  \n",
    "            // other and loop will never  \n",
    "            // terminate. \n",
    "            if(l == (r - 1 + n) % n) \n",
    "            { \n",
    "                return cnt; \n",
    "            } \n",
    "              \n",
    "            l = (l + 1) % n; \n",
    "            r = (r - 1 + n) % n; \n",
    "        } \n",
    "  \n",
    "        // If current pair sum  \n",
    "        // is less, move to  \n",
    "        // the higher sum side. \n",
    "        else if (arr[l] + arr[r] < x) \n",
    "            l = (l + 1) % n; \n",
    "          \n",
    "        // If current pair sum  \n",
    "        // is greater, move  \n",
    "        // to the lower sum side. \n",
    "        else\n",
    "            r = (n + r - 1) % n; \n",
    "    } \n",
    "      \n",
    "    return cnt; \n",
    "} "
   ]
  },
  {
   "cell_type": "code",
   "execution_count": 68,
   "metadata": {},
   "outputs": [
    {
     "name": "stdout",
     "output_type": "stream",
     "text": [
      "2\n"
     ]
    }
   ],
   "source": [
    "public static void main (String[] args)  \n",
    "{ \n",
    "    int arr[] = {11, 15, 6, 7, 9, 10}; \n",
    "    int sum = 16; \n",
    "    int n = arr.length; \n",
    "  \n",
    "    System.out.println( \n",
    "            pairsInSortedRotated(arr, n, sum)); \n",
    "} \n",
    "\n",
    "main(args)"
   ]
  },
  {
   "cell_type": "markdown",
   "metadata": {},
   "source": [
    "## **15. Maximum sum of i*arr[i] among all rotations of a given array**\n",
    "https://www.geeksforgeeks.org/maximum-sum-iarri-among-rotations-given-array/"
   ]
  },
  {
   "cell_type": "code",
   "execution_count": 69,
   "metadata": {},
   "outputs": [],
   "source": [
    "/*\n",
    "Given an array arr[] of n integers, find the maximum that maximizes the sum of the value of i*arr[i] where i varies from 0 to n-1.\n",
    "\n",
    "Examples :\n",
    "\n",
    "Input : arr[] = {8, 3, 1, 2}\n",
    "Output : 29\n",
    "Explanation : Let us see all rotations\n",
    "{8, 3, 1, 2} = 8*0 + 3*1 + 1*2 + 2*3 = 11\n",
    "{3, 1, 2, 8} = 3*0 + 1*1 + 2*2 + 8*3 = 29\n",
    "{1, 2, 8, 3} = 1*0 + 2*1 + 8*2 + 3*3 = 27\n",
    "{2, 8, 3, 1} = 2*0 + 8*1 + 3*2 + 1*1 = 17\n",
    "\n",
    "Input : arr[] = {3, 2, 1}\n",
    "Output : 7\n",
    "*/"
   ]
  },
  {
   "cell_type": "code",
   "execution_count": 70,
   "metadata": {},
   "outputs": [],
   "source": [
    "/*\n",
    "Method 1 (Naive Solution : O(n2) )\n",
    "A simple solution is to try all possible rotations. Compute sum of i*arr[i] for every rotation and return maximum sum. \n",
    "*/"
   ]
  },
  {
   "cell_type": "code",
   "execution_count": 71,
   "metadata": {},
   "outputs": [],
   "source": [
    "/*\n",
    "Method 2 (Efficient Solution : O(n) )\n",
    "The idea is to compute value of a rotation using value of previous rotation. \n",
    "When we rotate an array by one, following changes happen in sum of i*arr[i].\n",
    "1) Multiplier of arr[i-1] changes from 0 to n-1, i.e., arr[i-1] * (n-1) is added to current value.\n",
    "2) Multipliers of other terms is decremented by 1. i.e., (cum_sum – arr[i-1]) is subtracted from current value where cum_sum is sum of all numbers.\n",
    "\n",
    "next_val = curr_val - (cum_sum - arr[i-1]) + arr[i-1] * (n-1);\n",
    "\n",
    "next_val = Value of &Sum;i*arr[i] after one rotation.\n",
    "curr_val = Current value of &Sum;i*arr[i] \n",
    "cum_sum = Sum of all array elements, i.e., &Sum;arr[i].\n",
    "\n",
    "Lets take example {1, 2, 3}. Current value is 1*0+2*1+3*2\n",
    "= 8. Shifting it by one will make it {2, 3, 1} and next value\n",
    "will be 8 - (6 - 1) + 1*2 = 5 which is same as 2*0 + 3*1 + 1*2\n",
    "*/"
   ]
  },
  {
   "cell_type": "code",
   "execution_count": 72,
   "metadata": {},
   "outputs": [
    {
     "name": "stdout",
     "output_type": "stream",
     "text": [
      "29\n"
     ]
    }
   ],
   "source": [
    "static int maxSum(int arr[], int n) \n",
    "{ \n",
    "    // Compute sum of all array elements \n",
    "    int cum_sum = 0; \n",
    "    for (int i = 0; i < n; i++) \n",
    "        cum_sum += arr[i]; \n",
    "\n",
    "    // Compute sum of i*arr[i] for  \n",
    "    // initial configuration. \n",
    "    int curr_val = 0; \n",
    "    for (int i = 0; i < n; i++) \n",
    "        curr_val += i * arr[i]; \n",
    "\n",
    "    // Initialize result \n",
    "    int res = curr_val; \n",
    "\n",
    "    // Compute values for other iterations \n",
    "    for (int i = 1; i < n; i++) \n",
    "    { \n",
    "        // Compute next value using previous \n",
    "        // value in O(1) time \n",
    "        int next_val = curr_val - (cum_sum - \n",
    "                      arr[i-1]) + arr[i-1] * \n",
    "                      (n-1); \n",
    "\n",
    "        // Update current value \n",
    "        curr_val = next_val; \n",
    "\n",
    "        // Update result if required \n",
    "        res = Math.max(res, next_val); \n",
    "    } \n",
    "\n",
    "    return res; \n",
    "}\n",
    "public static void main(String[] args) \n",
    "{ \n",
    "    int arr[] = {8, 3, 1, 2}; \n",
    "    int n = arr.length; \n",
    "    System.out.println(maxSum(arr, n)); \n",
    "} \n",
    "main(args)\n",
    "    "
   ]
  },
  {
   "cell_type": "code",
   "execution_count": 73,
   "metadata": {},
   "outputs": [],
   "source": [
    "/*\n",
    "Method 3 (Using pivot: O(n) ):\n",
    "\n",
    "The pivot method can be used if the array is a sorted array or a rotated sorted array.\n",
    "For example: {1, 2, 3, 4} or {2, 3, 4, 1}, {3, 4, 1, 2} etc.\n",
    "\n",
    "Below is the implementation using pivot.\n",
    "*/"
   ]
  },
  {
   "cell_type": "code",
   "execution_count": 74,
   "metadata": {},
   "outputs": [
    {
     "name": "stdout",
     "output_type": "stream",
     "text": [
      "29\n"
     ]
    }
   ],
   "source": [
    "class Problem_15\n",
    "{ \n",
    "  \n",
    "    // function definition  \n",
    "    static int maxSum(int arr[], int n)  \n",
    "    { \n",
    "        int sum = 0; \n",
    "        int i; \n",
    "        int pivot = findPivot(arr, n); \n",
    "\n",
    "        // difference in pivot and index of \n",
    "        // last element of array \n",
    "        int diff = n - 1 - pivot;  \n",
    "        for(i = 0; i < n; i++) \n",
    "        {  \n",
    "            sum= sum + ((i + diff) % n) * arr[i]; \n",
    "        } \n",
    "        return sum; \n",
    "    } \n",
    "\n",
    "    // function to find pivot \n",
    "    static int findPivot(int arr[], int n) \n",
    "    { \n",
    "        int i; \n",
    "        for(i = 0; i < n; i++) \n",
    "        { \n",
    "            if(arr[i] > arr[(i + 1) % n]) \n",
    "                return i; \n",
    "        } \n",
    "        return 0; \n",
    "    } \n",
    "\n",
    "    // Driver code \n",
    "    public static void main(String args[]) \n",
    "    { \n",
    "        // rotated input array \n",
    "        int arr[] = {8, 3, 1, 2};  \n",
    "        int n = arr.length; \n",
    "        int max = maxSum(arr,n);  \n",
    "        System.out.println(max); \n",
    "\n",
    "    } \n",
    "} \n",
    "Problem_15.main(args)"
   ]
  },
  {
   "cell_type": "code",
   "execution_count": null,
   "metadata": {},
   "outputs": [],
   "source": []
  },
  {
   "cell_type": "markdown",
   "metadata": {},
   "source": [
    "**------------------------Questions Covered-----------------------------**"
   ]
  },
  {
   "cell_type": "markdown",
   "metadata": {},
   "source": [
    "***1\tArray\thttps://www.geeksforgeeks.org/rearrange-positive-and-negative-numbers-publish/\tPep_JavaIP_1Arrays_17RearrangePositiveNegative\t3WayPartition\t\t\t\t\t\t\t\t\t\t\t\t\t\t\t\t\t\t\t\t\t\t\t\n",
    "1\tArray\thttps://www.geeksforgeeks.org/three-way-partitioning-of-an-array-around-a-given-range/\tPep_JavaIP_1Arrays_18ThreeWayPartitioning\t3WayPartition\t\t\t\t\t\t\t\t\t\t\t\t\t\t\t\t\t\t\t\t\t\t\t\n",
    "1\tArray\thttps://www.geeksforgeeks.org/maximum-length-bitonic-subarray/\tPep_JavaIP_1Arrays_19LongestBitonicSubarray\t2 Pointer Method\t\t\t\t\t\t\t\t\t\t\t\t\t\t\t\t\t\t\t\t\t\t\t\n",
    "1\tArray\thttps://www.geeksforgeeks.org/largest-subarray-with-equal-number-of-0s-and-1s/\tPep_JavaIP_1Arrays_20LongestSubarrayWithEqual0sAnd1s\tSliding Window\t\t\t\t\t\t\t\t\t\t\t\t\t\t\t\t\t\t\t\t\t\t\t\n",
    "1\tArray\thttps://www.geeksforgeeks.org/maximum-product-subarray/\tPep_JavaIP_1Arrays_21MaxProductSubarray\tKadanes\t\t\t\t\t\t\t\t\t\t\t\t\t\t\t\t\t\t\t\t\t\t\t\n",
    "1\tArray\thttps://www.geeksforgeeks.org/counting-inversions/\tPep_JavaIP_1Arrays_22CountingInversions\tMergeSort\t\t\t\t\t\t\t\t\t\t\t\t\t\t\t\t\t\t\t\t\t\t\t\n",
    "1\tArray\thttps://www.geeksforgeeks.org/segregate-0s-and-1s-in-an-array-by-traversing-array-once/\tPep_JavaIP_1Arrays_23Sort01\t3WayPartition\t\t\t\t\t\t\t\t\t\t\t\t\t\t\t\t\t\t\t\t\t\t\t\n",
    "1\tArray\thttps://www.geeksforgeeks.org/sort-an-array-of-0s-1s-and-2s/\tPep_JavaIP_1Arrays_24Sort012\t3WayPartition\t\t\t\t\t\t\t\t\t\t\t\t\t\t\t\t\t\t\t\t\t\t\t\n",
    "1\tArray\thttps://www.geeksforgeeks.org/merging-intervals/\tPep_JavaIP_1Arrays_25MergingIntervals\tMiscellanous\t\t\t\t\t\t\t\t\t\t\t\t\t\t\t\t\t\t\t\t\t\t\n",
    "1\tArray\thttps://www.geeksforgeeks.org/maximum-profit-by-buying-and-selling-a-share-at-most-twice/\tPep_JavaIP_1Arrays_26StockBuySell2times\tLeftRightTraversal\t\t\t\t\t\t\t\t\t\t\t\t\t\t\t\t\t\t\t\t\t\t\t\n",
    "1\tArray\thttps://www.geeksforgeeks.org/maximum-profit-by-buying-and-selling-a-share-at-most-k-times/\tPep_JavaIP_1Arrays_27StockBuySellktimes\tDP\t\t\t\t\t\t\t\t\t\t\t\t\t\t\t\t\t\t\t\t\t\t\t\n",
    "1\tArray\thttps://www.geeksforgeeks.org/maximum-difference-between-two-elements/\tPep_JavaIP_1Arrays_28StockBuySell1time\tKadanes\t\t\t\t\t\t\t\t\t\t\t\t\t\t\t\t\t\t\t\t\t\t\t\n",
    "1\tArray\thttps://www.geeksforgeeks.org/minimize-the-maximum-difference-between-the-heights/\tPep_JavaIP_1Arrays_28MinimizeTheMaximumDifference\tGreedy\t\t\t\t\t\t\t\t\t\t\t\t\t\t\t\t\t\t\t\t\t\t\n",
    "1\tArray\thttps://www.geeksforgeeks.org/move-zeroes-end-array/\tPep_JavaIP_1Arrays_29MoveZeroesToEnd\t3WayPartition\thttps://www.geeksforgeeks.org/move-zeroes-end-array-set-2-using-single-traversal/\t\t\t\t\t\t\t\t\t\t\t\t\t\t\t\t\t\t\t\t\t\t\n",
    "1\tArray\thttps://www.geeksforgeeks.org/minimum-swaps-required-bring-elements-less-equal-k-together/\tPep_JavaIP_1Arrays_30BringLessThanKTogetherInMinSwaps***"
   ]
  },
  {
   "cell_type": "code",
   "execution_count": 8,
   "metadata": {},
   "outputs": [],
   "source": [
    "import java.util.*;\n",
    "import java.io.*;\n",
    "import java.util.Arrays;\n",
    "String[] args =new String[0];"
   ]
  },
  {
   "cell_type": "markdown",
   "metadata": {},
   "source": [
    "## **16. Rearrange positive and negative numbers in O(n) time and O(1) extra space**\n",
    "https://www.geeksforgeeks.org/rearrange-positive-and-negative-numbers-publish/"
   ]
  },
  {
   "cell_type": "code",
   "execution_count": 9,
   "metadata": {},
   "outputs": [],
   "source": [
    "/*\n",
    "An array contains both positive and negative numbers in random order. \n",
    "Rearrange the array elements so that positive and negative numbers are placed alternatively. \n",
    "Number of positive and negative numbers need not be equal. \n",
    "If there are more positive numbers they appear at the end of the array. \n",
    "If there are more negative numbers, they too appear in the end of the array.\n",
    "\n",
    "For example, \n",
    "if the input array is [-1, 2, -3, 4, 5, 6, -7, 8, 9], \n",
    "then the output should be [9, -7, 8, -3, 5, -1, 2, 4, 6]\n",
    "*/"
   ]
  },
  {
   "cell_type": "code",
   "execution_count": 10,
   "metadata": {},
   "outputs": [],
   "source": [
    "//ORDER NOT MAINTAINED\n",
    "/*\n",
    "The solution is to first separate positive and negative numbers using partition process of QuickSort. \n",
    "In the partition process, consider 0 as value of pivot element so that all negative numbers are placed before positive numbers. \n",
    "Once negative and positive numbers are separated, we start from the first negative number and first positive number, \n",
    "and swap every alternate negative number with next positive number.\n",
    "*/"
   ]
  },
  {
   "cell_type": "code",
   "execution_count": 11,
   "metadata": {},
   "outputs": [
    {
     "name": "stdout",
     "output_type": "stream",
     "text": [
      "Array after rearranging: \n",
      "4   -3   5   -1   6   -7   2   8   9   "
     ]
    }
   ],
   "source": [
    "class Alternate { \n",
    "  \n",
    "    // The main function that rearranges elements of given \n",
    "    // array.  It puts positive elements at even indexes (0, \n",
    "    // 2, ..) and negative numbers at odd indexes (1, 3, ..). \n",
    "    static void rearrange(int arr[], int n) \n",
    "    { \n",
    "        // The following few lines are similar to partition \n",
    "        // process of QuickSort.  The idea is to consider 0 \n",
    "        // as pivot and divide the array around it. \n",
    "        int i = -1, temp = 0; \n",
    "        for (int j = 0; j < n; j++) \n",
    "        { \n",
    "            if (arr[j] < 0) \n",
    "            { \n",
    "                i++; \n",
    "                temp = arr[i]; \n",
    "                arr[i] = arr[j]; \n",
    "                arr[j] = temp; \n",
    "            } \n",
    "        } \n",
    "  \n",
    "        // Now all positive numbers are at end and negative numbers at \n",
    "        // the beginning of array. Initialize indexes for starting point \n",
    "        // of positive and negative numbers to be swapped \n",
    "        int pos = i+1, neg = 0; \n",
    "  \n",
    "        // Increment the negative index by 2 and positive index by 1, i.e., \n",
    "        // swap every alternate negative number with next positive number \n",
    "        while (pos < n && neg < pos && arr[neg] < 0) \n",
    "        { \n",
    "            temp = arr[neg]; \n",
    "            arr[neg] = arr[pos]; \n",
    "            arr[pos] = temp; \n",
    "            pos++; \n",
    "            neg += 2; \n",
    "        } \n",
    "    } \n",
    "  \n",
    "    // A utility function to print an array \n",
    "    static void printArray(int arr[], int n) \n",
    "    { \n",
    "        for (int i = 0; i < n; i++) \n",
    "            System.out.print(arr[i] + \"   \"); \n",
    "    } \n",
    "  \n",
    "    /*Driver function to check for above functions*/\n",
    "    public static void main (String[] args) \n",
    "    { \n",
    "        int arr[] = {-1, 2, -3, 4, 5, 6, -7, 8, 9}; \n",
    "        int n = arr.length; \n",
    "        rearrange(arr,n); \n",
    "        System.out.println(\"Array after rearranging: \"); \n",
    "        printArray(arr,n); \n",
    "    } \n",
    "} \n",
    "Alternate.main(args)"
   ]
  },
  {
   "cell_type": "code",
   "execution_count": 12,
   "metadata": {},
   "outputs": [],
   "source": [
    "//ORDER MAINTAINED\n",
    "/*\n",
    "The above problem can be easily solved if O(n) extra space is allowed. \n",
    "It becomes interesting due to the limitations that O(1) extra space and order of appearances.\n",
    "The idea is to process array from left to right. \n",
    "While processing, find the first out of place element in the remaining unprocessed array. \n",
    "An element is out of place if it is negative and at odd index, or it is positive and at even index. \n",
    "Once we find an out of place element, we find the first element after it with opposite sign. \n",
    "We right rotate the subarray between these two elements (including these two).\n",
    "*/"
   ]
  },
  {
   "cell_type": "code",
   "execution_count": 13,
   "metadata": {},
   "outputs": [],
   "source": [
    "class RearrangeArray  \n",
    "{ \n",
    "    // Utility function to right rotate all elements  \n",
    "    // between [outofplace, cur] \n",
    "    void rightrotate(int arr[], int n, int outofplace, int cur)  \n",
    "    { \n",
    "        int tmp = arr[cur]; \n",
    "        for (int i = cur; i > outofplace; i--) \n",
    "            arr[i] = arr[i - 1]; \n",
    "        arr[outofplace] = tmp; \n",
    "    } \n",
    "  \n",
    "    void rearrange(int arr[], int n)  \n",
    "    { \n",
    "        int outofplace = -1; \n",
    "  \n",
    "        for (int index = 0; index < n; index++)  \n",
    "        { \n",
    "            if (outofplace >= 0)  \n",
    "            { \n",
    "                // find the item which must be moved into the out-of-place \n",
    "                // entry if out-of-place entry is positive and current \n",
    "                // entry is negative OR if out-of-place entry is negative \n",
    "                // and current entry is negative then right rotate \n",
    "                // \n",
    "                // [...-3, -4, -5, 6...] -->   [...6, -3, -4, -5...] \n",
    "                //      ^                          ^ \n",
    "                //      |                          | \n",
    "                //     outofplace      -->      outofplace \n",
    "                // \n",
    "                if (((arr[index] >= 0) && (arr[outofplace] < 0)) \n",
    "                        || ((arr[index] < 0) && (arr[outofplace] >= 0)))  \n",
    "                { \n",
    "                    rightrotate(arr, n, outofplace, index); \n",
    "  \n",
    "                    // the new out-of-place entry is now 2 steps ahead \n",
    "                    if (index - outofplace > 2)  \n",
    "                        outofplace = outofplace + 2; \n",
    "                    else\n",
    "                        outofplace = -1; \n",
    "                } \n",
    "            } \n",
    "  \n",
    "            // if no entry has been flagged out-of-place \n",
    "            if (outofplace == -1)  \n",
    "            { \n",
    "                // check if current entry is out-of-place \n",
    "                if (((arr[index] >= 0) && ((index & 0x01)==0)) \n",
    "                        || ((arr[index] < 0) && (index & 0x01)==1)) \n",
    "                    outofplace = index; \n",
    "            } \n",
    "        } \n",
    "    } \n",
    "   \n",
    "    // A utility function to print an array 'arr[]' of size 'n' \n",
    "    void printArray(int arr[], int n)  \n",
    "    { \n",
    "        for (int i = 0; i < n; i++) \n",
    "            System.out.print(arr[i] + \" \"); \n",
    "        System.out.println(\"\"); \n",
    "    } \n",
    "  \n",
    "} "
   ]
  },
  {
   "cell_type": "code",
   "execution_count": 14,
   "metadata": {},
   "outputs": [
    {
     "name": "stdout",
     "output_type": "stream",
     "text": [
      "Given array is \n",
      "-5 -2 5 2 4 7 1 8 0 -8 \n",
      "RearrangeD array is \n",
      "-5 5 -2 2 -8 4 7 1 8 0 \n"
     ]
    }
   ],
   "source": [
    "public static void main(String[] args)  \n",
    "{ \n",
    "    RearrangeArray rearrange = new RearrangeArray(); \n",
    "    //int arr[n] = {-5, 3, 4, 5, -6, -2, 8, 9, -1, -4}; \n",
    "    //int arr[] = {-5, -3, -4, -5, -6, 2 , 8, 9, 1 , 4}; \n",
    "    //int arr[] = {5, 3, 4, 2, 1, -2 , -8, -9, -1 , -4}; \n",
    "    //int arr[] = {-5, 3, -4, -7, -1, -2 , -8, -9, 1 , -4}; \n",
    "    int arr[] = {-5, -2, 5, 2, 4, 7, 1, 8, 0, -8}; \n",
    "    int n = arr.length; \n",
    "\n",
    "    System.out.println(\"Given array is \"); \n",
    "    rearrange.printArray(arr, n); \n",
    "\n",
    "    rearrange.rearrange(arr, n); \n",
    "\n",
    "    System.out.println(\"RearrangeD array is \"); \n",
    "    rearrange.printArray(arr, n); \n",
    "} \n",
    "main(args)"
   ]
  },
  {
   "cell_type": "markdown",
   "metadata": {},
   "source": [
    "## **17. Three way partitioning of an array around a given range**\n",
    "https://www.geeksforgeeks.org/three-way-partitioning-of-an-array-around-a-given-range/"
   ]
  },
  {
   "cell_type": "code",
   "execution_count": 15,
   "metadata": {},
   "outputs": [],
   "source": [
    "/*\n",
    "Given an array and a range [lowVal, highVal], partition the array around the range such that array is divided in three parts.\n",
    "1) All elements smaller than lowVal come first.\n",
    "2) All elements in range lowVal to highVVal come next.\n",
    "3) All elements greater than highVVal appear in the end.\n",
    "The individual elements of three sets can appear in any order.\n",
    "\n",
    "Examples:\n",
    "\n",
    "Input: arr[] = {1, 14, 5, 20, 4, 2, 54, 20, 87, 98, 3, 1, 32}  \n",
    "        lowVal = 14, highVal = 20\n",
    "Output: arr[] = {1, 5, 4, 2, 1, 3, 14, 20, 20, 98, 87, 32, 54}\n",
    "\n",
    "Input: arr[] = {1, 14, 5, 20, 4, 2, 54, 20, 87, 98, 3, 1, 32}  \n",
    "       lowVal = 20, highVal = 20       \n",
    "Output: arr[] = {1, 14, 5, 4, 2, 1, 3, 20, 20, 98, 87, 32, 54} \n",
    "*/"
   ]
  },
  {
   "cell_type": "markdown",
   "metadata": {},
   "source": [
    "<img src = \"https://media.geeksforgeeks.org/wp-content/uploads/Threewaypartitioning.png\"/>"
   ]
  },
  {
   "cell_type": "code",
   "execution_count": 16,
   "metadata": {},
   "outputs": [],
   "source": [
    "/*\n",
    "A simple solution is to sort the array. This solution does a lot of extra rearrangements and requires O(n Log n) time.\n",
    "*/"
   ]
  },
  {
   "cell_type": "code",
   "execution_count": 17,
   "metadata": {},
   "outputs": [],
   "source": [
    "/*\n",
    "An efficient solution is based on Dutch National Flag based QuickSort (https://www.geeksforgeeks.org/3-way-quicksort-dutch-national-flag/). \n",
    "We traverse given array elements from left. \n",
    "We keep track of two pointers, first (called start in below code) to store next position of smaller element (smaller than range) from beginning; \n",
    "and second (called end in below code) to store next position of greater element from end.\n",
    "Time Complexity: O(n)\n",
    "Auxiliary Space: O(1)\n",
    "*/"
   ]
  },
  {
   "cell_type": "code",
   "execution_count": 18,
   "metadata": {},
   "outputs": [],
   "source": [
    "// Partitions arr[0..n-1] around [lowVal..highVal] \n",
    "public static void threeWayPartition(int[] arr, int lowVal, int highVal) \n",
    "{ \n",
    "\n",
    "    int  n = arr.length; \n",
    "\n",
    "    // Initialize ext available positions for \n",
    "    // smaller (than range) and greater lements \n",
    "    int start = 0, end = n-1; \n",
    "\n",
    "     // Traverse elements from left \n",
    "    for(int i = 0; i <= end;) \n",
    "    { \n",
    "\n",
    "        // If current element is smaller than \n",
    "        // range, put it on next available smaller \n",
    "        // position. \n",
    "\n",
    "        if(arr[i] < lowVal) \n",
    "        { \n",
    "\n",
    "            int temp = arr[start]; \n",
    "            arr[start] = arr[i]; \n",
    "            arr[i] = temp; \n",
    "            start++; \n",
    "            i++; \n",
    "\n",
    "        } \n",
    "\n",
    "        // If current element is greater than \n",
    "        // range, put it on next available greater \n",
    "        // position. \n",
    "        else if(arr[i] > highVal) \n",
    "        { \n",
    "\n",
    "            int temp = arr[end]; \n",
    "            arr[end] = arr[i]; \n",
    "            arr[i] = temp; \n",
    "            end--; \n",
    "\n",
    "        } \n",
    "\n",
    "        else\n",
    "           i++; \n",
    "    } \n",
    "\n",
    "}"
   ]
  },
  {
   "cell_type": "code",
   "execution_count": 19,
   "metadata": {},
   "outputs": [
    {
     "name": "stdout",
     "output_type": "stream",
     "text": [
      "Modified array \n",
      "1 5 4 2 1 3 14 20 20 98 87 32 54 "
     ]
    }
   ],
   "source": [
    "int arr[] = {1, 14, 5, 20, 4, 2, 54, 20, 87, 98, 3, 1, 32}; \n",
    "\n",
    "threeWayPartition(arr, 10, 20); \n",
    "\n",
    "System.out.println(\"Modified array \"); \n",
    "for (int i=0; i < arr.length; i++) \n",
    "{ \n",
    "    System.out.print(arr[i] + \" \"); \n",
    "\n",
    "}  "
   ]
  },
  {
   "cell_type": "markdown",
   "metadata": {},
   "source": [
    "## **18. Maximum Length Bitonic Subarray | Set 1 (O(n) time and O(n) space)**\n",
    "https://www.geeksforgeeks.org/maximum-length-bitonic-subarray/"
   ]
  },
  {
   "cell_type": "code",
   "execution_count": 20,
   "metadata": {},
   "outputs": [],
   "source": [
    "/*\n",
    "Given an array A[0 … n-1] containing n positive integers, \n",
    "a subarray A[i … j] is bitonic \n",
    "if there is a k with i <= k <= j \n",
    "such that A[i] <= A[i + 1] … = A[k + 1] >= .. A[j – 1] > = A[j]. \n",
    "Write a function that takes an array as argument and returns the length of the maximum length bitonic subarray.\n",
    "Expected time complexity of the solution is O(n).\n",
    "*/"
   ]
  },
  {
   "cell_type": "code",
   "execution_count": 21,
   "metadata": {},
   "outputs": [],
   "source": [
    "/*\n",
    "Simple Examples\n",
    "1) A[] = {12, 4, 78, 90, 45, 23}, the maximum length bitonic subarray is {4, 78, 90, 45, 23} which is of length 5.\n",
    "2) A[] = {20, 4, 1, 2, 3, 4, 2, 10}, the maximum length bitonic subarray is {1, 2, 3, 4, 2} which is of length 5.\n",
    "\n",
    "Extreme Examples\n",
    "1) A[] = {10}, the single element is bitnoic, so output is 1.\n",
    "2) A[] = {10, 20, 30, 40}, the complete array itself is bitonic, so output is 4.\n",
    "3) A[] = {40, 30, 20, 10}, the complete array itself is bitonic, so output is 4.\n",
    "*/"
   ]
  },
  {
   "cell_type": "code",
   "execution_count": 22,
   "metadata": {},
   "outputs": [],
   "source": [
    "/*\n",
    "Let us consider the array {12, 4, 78, 90, 45, 23} to understand the soultion.\n",
    "1) Construct an auxiliary array inc[] from left to right such that inc[i] contains length of the nondecreaing subarray ending at arr[i].\n",
    "For A[] = {12, 4, 78, 90, 45, 23}, inc[] is {1, 1, 2, 3, 1, 1}\n",
    "\n",
    "2) Construct another array dec[] from right to left such that dec[i] contains length of nonincreasing subarray starting at arr[i].\n",
    "For A[] = {12, 4, 78, 90, 45, 23}, dec[] is {2, 1, 1, 3, 2, 1}.\n",
    "\n",
    "3) Once we have the inc[] and dec[] arrays, all we need to do is find the maximum value of (inc[i] + dec[i] – 1).\n",
    "For {12, 4, 78, 90, 45, 23}, the max value of (inc[i] + dec[i] – 1) is 5 for i = 3.\n",
    "\n",
    "Time Complexity : O(n)\n",
    "Auxiliary Space : O(n)\n",
    "*/"
   ]
  },
  {
   "cell_type": "code",
   "execution_count": 23,
   "metadata": {},
   "outputs": [],
   "source": [
    "static int bitonic(int arr[], int n) \n",
    "{ \n",
    "    int[] inc = new int[n]; // Length of increasing subarray ending  \n",
    "                            // at all indexes \n",
    "    int[] dec = new int[n]; // Length of decreasing subarray starting \n",
    "                            // at all indexes \n",
    "    int max; \n",
    "\n",
    "    // Length of increasing sequence ending at first index is 1 \n",
    "    inc[0] = 1; \n",
    "\n",
    "    // Length of increasing sequence starting at first index is 1 \n",
    "    dec[n-1] = 1; \n",
    "\n",
    "    // Step 1) Construct increasing sequence array \n",
    "    for (int i = 1; i < n; i++) \n",
    "       inc[i] = (arr[i] >= arr[i-1])? inc[i-1] + 1: 1; \n",
    "\n",
    "    // Step 2) Construct decreasing sequence array \n",
    "    for (int i = n-2; i >= 0; i--) \n",
    "        dec[i] = (arr[i] >= arr[i+1])? dec[i+1] + 1: 1; \n",
    "\n",
    "    // Step 3) Find the length of maximum length bitonic sequence \n",
    "    max = inc[0] + dec[0] - 1; \n",
    "    for (int i = 1; i < n; i++) \n",
    "        if (inc[i] + dec[i] - 1 > max) \n",
    "            max = inc[i] + dec[i] - 1; \n",
    "\n",
    "    return max; \n",
    "} "
   ]
  },
  {
   "cell_type": "code",
   "execution_count": 24,
   "metadata": {},
   "outputs": [
    {
     "name": "stdout",
     "output_type": "stream",
     "text": [
      "Length of max length Bitnoic Subarray is 5\n"
     ]
    }
   ],
   "source": [
    "int arr[] = {12, 4, 78, 90, 45, 23}; \n",
    "int n = arr.length; \n",
    "System.out.println(\"Length of max length Bitnoic Subarray is \"\n",
    "                    + bitonic(arr, n)); "
   ]
  },
  {
   "cell_type": "code",
   "execution_count": 25,
   "metadata": {},
   "outputs": [],
   "source": [
    "/*\n",
    "The idea is to check longest bitonic subarray starting at A[i]. \n",
    "From A[i], first we will check for end of ascent and then end of descent.\n",
    "Overlapping of bitonic subarrays is taken into account by recording a nextStart position when it finds two equal values when going down the slope of the current subarray. \n",
    "If length of this subarray is greater than max_len, we will update max_len. \n",
    "We continue this process till end of array is reached.\n",
    "(O(n) time and O(1) Space)\n",
    "*/"
   ]
  },
  {
   "cell_type": "code",
   "execution_count": 26,
   "metadata": {},
   "outputs": [],
   "source": [
    "// Method to find length of longest bitonic  \n",
    "// subarray \n",
    "static int maxLenBitonic(int[] A,int n) \n",
    "{ \n",
    "    // if A is empty \n",
    "    if (n == 0) \n",
    "        return 0; \n",
    "\n",
    "    // initializing max_len \n",
    "    int maxLen=1; \n",
    "\n",
    "    int start=0; \n",
    "    int nextStart=0; \n",
    "\n",
    "    int j =0; \n",
    "    while (j < n-1) \n",
    "    {  \n",
    "        // look for end of ascent        \n",
    "        while (j<n-1 && A[j]<=A[j+1]) \n",
    "            j++; \n",
    "\n",
    "        // look for end of descent        \n",
    "        while (j<n-1 && A[j]>=A[j+1]){ \n",
    "\n",
    "            // adjusting nextStart; \n",
    "            // this will be necessarily executed at least once, \n",
    "            // when we detect the start of the descent \n",
    "            if (j<n-1 && A[j]>A[j+1]) \n",
    "                nextStart=j+1; \n",
    "\n",
    "            j++; \n",
    "        } \n",
    "\n",
    "        // updating maxLen, if required \n",
    "        maxLen = Math.max(maxLen,j-(start-1)); \n",
    "\n",
    "        start=nextStart; \n",
    "    } \n",
    "\n",
    "    return maxLen; \n",
    "} "
   ]
  },
  {
   "cell_type": "code",
   "execution_count": 27,
   "metadata": {},
   "outputs": [
    {
     "name": "stdout",
     "output_type": "stream",
     "text": [
      "Length of maximal length bitonic subarray is 5\n"
     ]
    }
   ],
   "source": [
    "int A[] = {12, 4, 78, 90, 45, 23}; \n",
    "System.out.println(\"Length of maximal length bitonic \" + \n",
    "                    \"subarray is \" + maxLenBitonic(A,A.length));"
   ]
  },
  {
   "cell_type": "markdown",
   "metadata": {},
   "source": [
    "## **19. Largest subarray with equal number of 0s and 1s**\n",
    "https://www.geeksforgeeks.org/largest-subarray-with-equal-number-of-0s-and-1s/"
   ]
  },
  {
   "cell_type": "code",
   "execution_count": 28,
   "metadata": {},
   "outputs": [],
   "source": [
    "/*\n",
    "Given an array containing only 0s and 1s, \n",
    "find the largest subarray which contain equal no of 0s and 1s. \n",
    "Expected time complexity is O(n).\n",
    "Examples:\n",
    "\n",
    "Input: arr[] = {1, 0, 1, 1, 1, 0, 0}\n",
    "Output: 1 to 6 (Starting and Ending indexes of output subarray)\n",
    "\n",
    "Input: arr[] = {1, 1, 1, 1}\n",
    "Output: No such subarray\n",
    "\n",
    "Input: arr[] = {0, 0, 1, 1, 0}\n",
    "Output: 0 to 3 Or 1 to 4\n",
    "*/"
   ]
  },
  {
   "cell_type": "code",
   "execution_count": 29,
   "metadata": {},
   "outputs": [],
   "source": [
    "/*\n",
    "Method 1 (Simple)\n",
    "A simple method is to use two nested loops. \n",
    "    The outer loop picks a starting point i. \n",
    "    The inner loop considers all subarrays starting from i. \n",
    "If size of a subarray is greater than maximum size so far, then update the maximum size.\n",
    "\n",
    "In the below code, 0s are considered as -1 and sum of all values from i to j is calculated. \n",
    "If sum becomes 0, then size of this subarray is compared with largest size so far.\n",
    "\n",
    "Time Complexity: O(n^2)\n",
    "Auxiliary Space: O(1)\n",
    "*/"
   ]
  },
  {
   "cell_type": "code",
   "execution_count": 30,
   "metadata": {},
   "outputs": [
    {
     "name": "stdout",
     "output_type": "stream",
     "text": [
      "0 to 5\n"
     ]
    }
   ],
   "source": [
    "class LargestSubArray \n",
    "{ \n",
    "\n",
    "\t// This function Prints the starting and ending \n",
    "\t// indexes of the largest subarray with equal \n",
    "\t// number of 0s and 1s. Also returns the size \n",
    "\t// of such subarray. \n",
    "\n",
    "\tint findSubArray(int arr[], int n) \n",
    "\t{ \n",
    "\t\tint sum = 0; \n",
    "\t\tint maxsize = -1, startindex = 0; \n",
    "\t\tint endindex = 0; \n",
    "\n",
    "\t\t// Pick a starting point as i \n",
    "\n",
    "\t\tfor (int i = 0; i < n - 1; i++) \n",
    "\t\t{ \n",
    "\t\t\tsum = (arr[i] == 0) ? -1 : 1; \n",
    "\n",
    "\t\t\t// Consider all subarrays starting from i \n",
    "\n",
    "\t\t\tfor (int j = i + 1; j < n; j++) \n",
    "\t\t\t{ \n",
    "\t\t\t\tif(arr[j] == 0) \n",
    "\t\t\t\t\tsum += -1; \n",
    "\t\t\t\telse\n",
    "\t\t\t\t\tsum += 1; \n",
    "\n",
    "\t\t\t\t// If this is a 0 sum subarray, then \n",
    "\t\t\t\t// compare it with maximum size subarray \n",
    "\t\t\t\t// calculated so far \n",
    "\n",
    "\t\t\t\tif (sum == 0 && maxsize < j - i + 1) \n",
    "\t\t\t\t{ \n",
    "\t\t\t\t\tmaxsize = j - i + 1; \n",
    "\t\t\t\t\tstartindex = i; \n",
    "\t\t\t\t} \n",
    "\t\t\t} \n",
    "\t\t} \n",
    "\t\tendindex = startindex+maxsize-1; \n",
    "\t\tif (maxsize == -1) \n",
    "\t\t\tSystem.out.println(\"No such subarray\"); \n",
    "\t\telse\n",
    "\t\t\tSystem.out.println(startindex+\" to \"+endindex); \n",
    "\n",
    "\t\treturn maxsize; \n",
    "\t} \n",
    "\n",
    "\t/* Driver program to test the above functions */\n",
    "\n",
    "\tpublic static void main(String[] args) \n",
    "\t{ \n",
    "\t\tLargestSubArray sub; \n",
    "\t\tsub = new LargestSubArray(); \n",
    "\t\tint arr[] = {1, 0, 0, 1, 0, 1, 1}; \n",
    "\t\tint size = arr.length; \n",
    "\n",
    "\t\tsub.findSubArray(arr, size); \n",
    "\t} \n",
    "} \n",
    "LargestSubArray.main(args)"
   ]
  },
  {
   "cell_type": "code",
   "execution_count": 31,
   "metadata": {},
   "outputs": [],
   "source": [
    "/*\n",
    "Method 2 (Tricky)\n",
    "Following is a solution that uses O(n) extra space and solves the problem in O(n) time complexity.\n",
    "Let input array be arr[] of size n and maxsize be the size of output subarray.\n",
    "1) Consider all 0 values as -1. The problem now reduces to find out the maximum length subarray with sum = 0.\n",
    "2) Create a temporary array sumleft[] of size n. \n",
    "   Store the sum of all elements from arr[0] to arr[i] in sumleft[i]. \n",
    "   This can be done in O(n) time.\n",
    "3) There are two cases, \n",
    "   the output subarray may start from 0th index or may start from some other index. \n",
    "   We will return the max of the values obtained by two cases.\n",
    "4) To find the maximum length subarray starting from 0th index, scan the sumleft[] and find the maximum i where sumleft[i] = 0.\n",
    "5) Now, we need to find the subarray where subarray sum is 0 and start index is not 0. \n",
    "   This problem is equivalent to finding two indexes i & j in sumleft[] such that sumleft[i] = sumleft[j] and j-i is maximum. \n",
    "   To solve this, we can create a hash table with size = max-min+1 \n",
    "      where min is the minimum value in the sumleft[] and max is the maximum value in the sumleft[]. \n",
    "   The idea is to hash the leftmost occurrences of all different values in sumleft[]. \n",
    "   The size of hash is chosen as max-min+1 because there can be these many different possible values in sumleft[]. \n",
    "   Initialize all values in hash as -1\n",
    "6) To fill and use hash[], traverse sumleft[] from 0 to n-1. \n",
    "   If a value is not present in hash[], then store its index in hash. \n",
    "   If the value is present, then calculate the difference of current index of sumleft[] and previously stored value in hash[]. \n",
    "   If this difference is more than maxsize, then update the maxsize.\n",
    "7) To handle corner cases (all 1s and all 0s), we initialize maxsize as -1. \n",
    "   If the maxsize remains -1, then print there is no such subarray.\n",
    "   \n",
    "Time Complexity: O(n)\n",
    "Auxiliary Space: O(n)\n",
    "*/"
   ]
  },
  {
   "cell_type": "code",
   "execution_count": 32,
   "metadata": {},
   "outputs": [],
   "source": [
    "// Returns largest subarray with equal number of 0s and 1s \n",
    "\n",
    "int maxLen(int arr[], int n)  \n",
    "{ \n",
    "    // Creates an empty hashMap hM \n",
    "\n",
    "    HashMap<Integer, Integer> hM = new HashMap<Integer, Integer>(); \n",
    "\n",
    "    int sum = 0;     // Initialize sum of elements \n",
    "    int max_len = 0; // Initialize result \n",
    "    int ending_index = -1; \n",
    "    int start_index = 0; \n",
    "\n",
    "    for (int i = 0; i < n; i++)  \n",
    "    { \n",
    "        arr[i] = (arr[i] == 0) ? -1 : 1; \n",
    "    } \n",
    "\n",
    "    // Traverse through the given array \n",
    "\n",
    "    for (int i = 0; i < n; i++)  \n",
    "    { \n",
    "        // Add current element to sum \n",
    "\n",
    "        sum += arr[i]; \n",
    "\n",
    "        // To handle sum=0 at last index \n",
    "\n",
    "        if (sum == 0)  \n",
    "        { \n",
    "            max_len = i + 1; \n",
    "            ending_index = i; \n",
    "        } \n",
    "\n",
    "        // If this sum is seen before, then update max_len \n",
    "        // if required \n",
    "\n",
    "        if (hM.containsKey(sum + n))  \n",
    "        { \n",
    "            if (max_len < i - hM.get(sum + n))  \n",
    "            { \n",
    "                max_len = i - hM.get(sum + n); \n",
    "                ending_index = i; \n",
    "            } \n",
    "        }  \n",
    "        else // Else put this sum in hash table \n",
    "            hM.put(sum + n, i); \n",
    "    } \n",
    "\n",
    "    for (int i = 0; i < n; i++)  \n",
    "    { \n",
    "        arr[i] = (arr[i] == -1) ? 0 : 1; \n",
    "    } \n",
    "\n",
    "    int end = ending_index - max_len + 1; \n",
    "    System.out.println(end + \" to \" + ending_index); \n",
    "\n",
    "    return max_len; \n",
    "} "
   ]
  },
  {
   "cell_type": "code",
   "execution_count": 33,
   "metadata": {},
   "outputs": [
    {
     "name": "stdout",
     "output_type": "stream",
     "text": [
      "0 to 5\n"
     ]
    },
    {
     "data": {
      "text/plain": [
       "6"
      ]
     },
     "execution_count": 33,
     "metadata": {},
     "output_type": "execute_result"
    }
   ],
   "source": [
    "int arr[] = {1, 0, 0, 1, 0, 1, 1}; \n",
    "int n = arr.length; \n",
    "\n",
    "maxLen(arr, n); "
   ]
  },
  {
   "cell_type": "markdown",
   "metadata": {},
   "source": [
    "## **20. Maximum Product Subarray**\n",
    "https://www.geeksforgeeks.org/maximum-product-subarray/"
   ]
  },
  {
   "cell_type": "code",
   "execution_count": 34,
   "metadata": {},
   "outputs": [],
   "source": [
    "/*\n",
    "Given an array that contains both positive and negative integers, \n",
    "find the product of the maximum product subarray. Expected Time complexity is O(n) and only O(1) extra space can be used.\n",
    "Examples:\n",
    "\n",
    "Input: arr[] = {6, -3, -10, 0, 2}\n",
    "Output:   180  // The subarray is {6, -3, -10}\n",
    "\n",
    "Input: arr[] = {-1, -3, -10, 0, 60}\n",
    "Output:   60  // The subarray is {60}\n",
    "\n",
    "Input: arr[] = {-2, -3, 0, -2, -40}\n",
    "Output:   80  // The subarray is {-2, -40}\n",
    "*/"
   ]
  },
  {
   "cell_type": "code",
   "execution_count": 35,
   "metadata": {},
   "outputs": [],
   "source": [
    "/*\n",
    "The following solution assumes that the given input array always has a positive output. \n",
    "The solution works for all cases mentioned above. \n",
    "It doesn’t work for arrays like {0, 0, -20, 0}, {0, 0, 0}.. etc. \n",
    "The solution can be easily modified to handle this case.\n",
    "\n",
    "It is similar to Largest Sum Contiguous Subarray problem. \n",
    "The only thing to note here is, \n",
    "   maximum product can also be obtained by minimum (negative) product ending with the previous element multiplied by this element. \n",
    "   For example, in array {12, 2, -3, -5, -6, -2}, \n",
    "      when we are at element -2, the maximum product is multiplication of, minimum product ending with -6 and -2.\n",
    "      \n",
    "Time Complexity: O(n)\n",
    "Auxiliary Space: O(1)\n",
    "*/"
   ]
  },
  {
   "cell_type": "code",
   "execution_count": 36,
   "metadata": {},
   "outputs": [],
   "source": [
    "static int maxSubarrayProduct(int arr[]) \n",
    "{ \n",
    "    int n = arr.length; \n",
    "    // max positive product ending at the current position \n",
    "    int max_ending_here = 1; \n",
    "\n",
    "    // min negative product ending at the current position \n",
    "    int min_ending_here = 1; \n",
    "\n",
    "    // Initialize overall max product \n",
    "    int max_so_far = 1; \n",
    "    int flag = 0; \n",
    "\n",
    "    /* Traverse through the array. Following \n",
    "    values are maintained after the ith iteration: \n",
    "    max_ending_here is always 1 or some positive product \n",
    "                    ending with arr[i] \n",
    "    min_ending_here is always 1 or some negative product \n",
    "                    ending with arr[i] */\n",
    "    for (int i = 0; i < n; i++) { \n",
    "        /* If this element is positive, update max_ending_here. \n",
    "            Update min_ending_here only if min_ending_here is \n",
    "            negative */\n",
    "        if (arr[i] > 0) { \n",
    "            max_ending_here = max_ending_here * arr[i]; \n",
    "            min_ending_here = Math.min(min_ending_here * arr[i], 1); \n",
    "            flag = 1; \n",
    "        } \n",
    "\n",
    "        /* If this element is 0, then the maximum product cannot \n",
    "        end here, make both max_ending_here and min_ending \n",
    "        _here 0 \n",
    "        Assumption: Output is alway greater than or equal to 1. */\n",
    "        else if (arr[i] == 0) { \n",
    "            max_ending_here = 1; \n",
    "            min_ending_here = 1; \n",
    "        } \n",
    "\n",
    "        /* If element is negative. This is tricky \n",
    "        max_ending_here can either be 1 or positive. \n",
    "        min_ending_here can either be 1 or negative. \n",
    "        next min_ending_here will always be prev. \n",
    "        max_ending_here * arr[i] \n",
    "        next max_ending_here will be 1 if prev \n",
    "        min_ending_here is 1, otherwise \n",
    "        next max_ending_here will be  \n",
    "                    prev min_ending_here * arr[i] */\n",
    "        else { \n",
    "            int temp = max_ending_here; \n",
    "            max_ending_here = Math.max(min_ending_here * arr[i], 1); \n",
    "            min_ending_here = temp * arr[i]; \n",
    "        } \n",
    "\n",
    "        // update max_so_far, if needed \n",
    "        if (max_so_far < max_ending_here) \n",
    "            max_so_far = max_ending_here; \n",
    "    } \n",
    "\n",
    "    if (flag == 0 && max_so_far == 1) \n",
    "        return 0; \n",
    "    return max_so_far; \n",
    "} "
   ]
  },
  {
   "cell_type": "code",
   "execution_count": 37,
   "metadata": {},
   "outputs": [
    {
     "name": "stdout",
     "output_type": "stream",
     "text": [
      "Maximum Sub array product is 112\n"
     ]
    }
   ],
   "source": [
    "int arr[] = { 1, -2, -3, 0, 7, -8, -2 }; \n",
    "System.out.println(\"Maximum Sub array product is \"\n",
    "                   + maxSubarrayProduct(arr));"
   ]
  },
  {
   "cell_type": "markdown",
   "metadata": {},
   "source": [
    "## **21. Count Inversions in an array | Set 1 (Using Merge Sort)**\n",
    "https://www.geeksforgeeks.org/counting-inversions/"
   ]
  },
  {
   "cell_type": "code",
   "execution_count": 38,
   "metadata": {},
   "outputs": [],
   "source": [
    "/*\n",
    "Inversion Count for an array indicates – how far (or close) the array is from being sorted. \n",
    "If array is already sorted then inversion count is 0. \n",
    "If array is sorted in reverse order that inversion count is the maximum.\n",
    "Formally speaking, two elements a[i] and a[j] form an inversion if a[i] > a[j] and i < j\n",
    "\n",
    "Example:\n",
    "The sequence 2, 4, 1, 3, 5 has three inversions (2, 1), (4, 1), (4, 3).\n",
    "\n",
    "Time Complexity: O(n^2)\n",
    "*/"
   ]
  },
  {
   "cell_type": "code",
   "execution_count": 39,
   "metadata": {},
   "outputs": [
    {
     "name": "stdout",
     "output_type": "stream",
     "text": [
      "Number of inversions are 5\n"
     ]
    }
   ],
   "source": [
    "// Java program to count \n",
    "// inversions in an array \n",
    "class Test { \n",
    "\tstatic int arr[] = new int[] { 1, 20, 6, 4, 5 }; \n",
    "\n",
    "\tstatic int getInvCount(int n) \n",
    "\t{ \n",
    "\t\tint inv_count = 0; \n",
    "\t\tfor (int i = 0; i < n - 1; i++) \n",
    "\t\t\tfor (int j = i + 1; j < n; j++) \n",
    "\t\t\t\tif (arr[i] > arr[j]) \n",
    "\t\t\t\t\tinv_count++; \n",
    "\n",
    "\t\treturn inv_count; \n",
    "\t} \n",
    "\n",
    "\t// Driver method to test the above function \n",
    "\tpublic static void main(String[] args) \n",
    "\t{ \n",
    "\t\tSystem.out.println(\"Number of inversions are \"\n",
    "\t\t\t\t\t\t+ getInvCount(arr.length)); \n",
    "\t} \n",
    "} \n",
    "Test.main(args)"
   ]
  },
  {
   "cell_type": "code",
   "execution_count": 40,
   "metadata": {},
   "outputs": [],
   "source": [
    "/*\n",
    "METHOD 2(Enhance Merge Sort)\n",
    "Suppose we know the number of inversions in the left half and right half of the array (let be inv1 and inv2), \n",
    "what kinds of inversions are not accounted for in Inv1 + Inv2? \n",
    "The answer is – the inversions we have to count during the merge step. \n",
    "Therefore, to get number of inversions, we need to add number of inversions in left subarray, right subarray and merge().\n",
    "*/"
   ]
  },
  {
   "cell_type": "markdown",
   "metadata": {},
   "source": [
    "<img src = \"https://media.geeksforgeeks.org/wp-content/uploads/count1.jpg\"/>"
   ]
  },
  {
   "cell_type": "code",
   "execution_count": 41,
   "metadata": {},
   "outputs": [],
   "source": [
    "/*\n",
    "How to get number of inversions in merge()?\n",
    "In merge process, \n",
    "    let i is used for indexing left sub-array and j for right sub-array. \n",
    "    At any step in merge(), \n",
    "        if a[i] is greater than a[j], \n",
    "        then there are (mid – i) inversions. \n",
    "        because left and right subarrays are sorted, \n",
    "        so all the remaining elements in left-subarray (a[i+1], a[i+2] … a[mid]) will be greater than a[j]\n",
    "*/"
   ]
  },
  {
   "cell_type": "markdown",
   "metadata": {},
   "source": [
    "<img src = \"https://media.geeksforgeeks.org/wp-content/uploads/count2.jpg\"/>"
   ]
  },
  {
   "cell_type": "markdown",
   "metadata": {},
   "source": [
    "**The complete picture:**"
   ]
  },
  {
   "cell_type": "markdown",
   "metadata": {},
   "source": [
    "<img src = \"https://media.geeksforgeeks.org/wp-content/uploads/count3.jpg\"/>"
   ]
  },
  {
   "cell_type": "code",
   "execution_count": 42,
   "metadata": {},
   "outputs": [],
   "source": [
    "/*\n",
    "Time Complexity: O(N log N)\n",
    "Algorithmic Paradigm: Divide and Conquer\n",
    "*/"
   ]
  },
  {
   "cell_type": "code",
   "execution_count": 43,
   "metadata": {},
   "outputs": [],
   "source": [
    "// Function to count the number of inversions \n",
    "// during the merge process \n",
    "private static int mergeAndCount(int[] arr, int l, int m, int r) \n",
    "{ \n",
    "\n",
    "    // Left subarray \n",
    "    int[] left = Arrays.copyOfRange(arr, l, m + 1); \n",
    "\n",
    "    // Right subarray \n",
    "    int[] right = Arrays.copyOfRange(arr, m + 1, r + 1); \n",
    "\n",
    "    int i = 0, j = 0, k = l, swaps = 0; \n",
    "\n",
    "    while (i < left.length && j < right.length) { \n",
    "        if (left[i] <= right[j]) \n",
    "            arr[k++] = left[i++]; \n",
    "        else { \n",
    "            arr[k++] = right[j++]; \n",
    "            swaps += (m + 1) - (l + i); \n",
    "        } \n",
    "    } \n",
    "\n",
    "    // Fill from the rest of the left subarray \n",
    "    while (i < left.length) \n",
    "        arr[k++] = left[i++]; \n",
    "\n",
    "    // Fill from the rest of the right subarray \n",
    "    while (j < right.length) \n",
    "        arr[k++] = right[j++]; \n",
    "\n",
    "    return swaps; \n",
    "} "
   ]
  },
  {
   "cell_type": "code",
   "execution_count": 44,
   "metadata": {},
   "outputs": [],
   "source": [
    "// Merge sort function \n",
    "private static int mergeSortAndCount(int[] arr, int l, int r) \n",
    "{ \n",
    "\n",
    "    // Keeps track of the inversion count at a \n",
    "    // particular node of the recursion tree \n",
    "    int count = 0; \n",
    "\n",
    "    if (l < r) { \n",
    "        int m = (l + r) / 2; \n",
    "\n",
    "        // Total inversion count = left subarray count \n",
    "        // + right subarray count + merge count \n",
    "\n",
    "        // Left subarray count \n",
    "        count += mergeSortAndCount(arr, l, m); \n",
    "\n",
    "        // Right subarray count \n",
    "        count += mergeSortAndCount(arr, m + 1, r); \n",
    "\n",
    "        // Merge count \n",
    "        count += mergeAndCount(arr, l, m, r); \n",
    "    } \n",
    "\n",
    "    return count; \n",
    "} "
   ]
  },
  {
   "cell_type": "code",
   "execution_count": 45,
   "metadata": {},
   "outputs": [
    {
     "name": "stdout",
     "output_type": "stream",
     "text": [
      "5\n"
     ]
    }
   ],
   "source": [
    "public static void main(String[] args) \n",
    "{ \n",
    "    int[] arr = { 1, 20, 6, 4, 5 }; \n",
    "\n",
    "    System.out.println(mergeSortAndCount(arr, 0, arr.length - 1)); \n",
    "} \n",
    "main(args)"
   ]
  },
  {
   "cell_type": "markdown",
   "metadata": {},
   "source": [
    "## **22. Segregate 0s and 1s in an array**\n",
    "https://www.geeksforgeeks.org/segregate-0s-and-1s-in-an-array-by-traversing-array-once/"
   ]
  },
  {
   "cell_type": "code",
   "execution_count": 46,
   "metadata": {},
   "outputs": [],
   "source": [
    "/*\n",
    "You are given an array of 0s and 1s in random order. \n",
    "Segregate 0s on left side and 1s on right side of the array. \n",
    "Traverse array only once.\n",
    "Input array   =  [0, 1, 0, 1, 0, 0, 1, 1, 1, 0] \n",
    "Output array =  [0, 0, 0, 0, 0, 1, 1, 1, 1, 1]\n",
    "*/"
   ]
  },
  {
   "cell_type": "code",
   "execution_count": 47,
   "metadata": {},
   "outputs": [],
   "source": [
    "/*\n",
    "Method 1 (Count 0s or 1s)\n",
    "Thanks to Naveen for suggesting this method.\n",
    "1) Count the number of 0s. Let count be C.\n",
    "2) Once we have count, we can put C 0s at the beginning and 1s at the remaining n – C positions in array.\n",
    "\n",
    "Time Complexity : O(n)\n",
    "*/"
   ]
  },
  {
   "cell_type": "code",
   "execution_count": 48,
   "metadata": {},
   "outputs": [
    {
     "name": "stdout",
     "output_type": "stream",
     "text": [
      "Array after segregation is 0 0 1 1 1 1 "
     ]
    }
   ],
   "source": [
    "// Java code to Segregate 0s and 1s in an array \n",
    "class P22_i { \n",
    "      \n",
    "    // function to segregate 0s and 1s \n",
    "    static void segregate0and1(int arr[], int n) \n",
    "    { \n",
    "        int count = 0; // counts the no of zeros in arr \n",
    "      \n",
    "        for (int i = 0; i < n; i++) { \n",
    "            if (arr[i] == 0) \n",
    "                count++; \n",
    "        } \n",
    "  \n",
    "        // loop fills the arr with 0 until count \n",
    "        for (int i = 0; i < count; i++) \n",
    "            arr[i] = 0; \n",
    "  \n",
    "        // loop fills remaining arr space with 1 \n",
    "        for (int i = count; i < n; i++) \n",
    "            arr[i] = 1; \n",
    "    } \n",
    "      \n",
    "    // function to print segregated array \n",
    "    static void print(int arr[], int n) \n",
    "    { \n",
    "        System.out.print(\"Array after segregation is \"); \n",
    "        for (int i = 0; i < n; i++) \n",
    "            System.out.print(arr[i] + \" \");     \n",
    "    } \n",
    "      \n",
    "    // driver function \n",
    "    public static void main(String[] args) \n",
    "    { \n",
    "        int arr[] = new int[]{ 0, 1, 0, 1, 1, 1 }; \n",
    "        int n = arr.length; \n",
    "  \n",
    "        segregate0and1(arr, n); \n",
    "        print(arr, n); \n",
    "          \n",
    "    } \n",
    "} \n",
    "P22_i.main(args)"
   ]
  },
  {
   "cell_type": "code",
   "execution_count": 49,
   "metadata": {},
   "outputs": [],
   "source": [
    "/*\n",
    "The method 1 traverses the array two times. Method 2 does the same in a single pass.\n",
    "\n",
    "Method 2 (Use two indexes to traverse)\n",
    "Maintain two indexes. Initialize first index left as 0 and second index right as n-1.\n",
    "\n",
    "Do following while left < right\n",
    "a) Keep incrementing index left while there are 0s at it\n",
    "b) Keep decrementing index right while there are 1s at it\n",
    "c) If left < right then exchange arr[left] and arr[right]\n",
    "*/"
   ]
  },
  {
   "cell_type": "code",
   "execution_count": 50,
   "metadata": {},
   "outputs": [],
   "source": [
    "/*Function to put all 0s on left and all 1s on right*/\n",
    "void segregate0and1(int arr[], int size)  \n",
    "{ \n",
    "    /* Initialize left and right indexes */\n",
    "    int left = 0, right = size - 1; \n",
    "\n",
    "    while (left < right)  \n",
    "    { \n",
    "        /* Increment left index while we see 0 at left */\n",
    "        while (arr[left] == 0 && left < right) \n",
    "           left++; \n",
    "\n",
    "        /* Decrement right index while we see 1 at right */\n",
    "        while (arr[right] == 1 && left < right) \n",
    "            right--; \n",
    "\n",
    "        /* If left is smaller than right then there is a 1 at left \n",
    "           and a 0 at right.  Exchange arr[left] and arr[right]*/\n",
    "        if (left < right)  \n",
    "        { \n",
    "            arr[left] = 0; \n",
    "            arr[right] = 1; \n",
    "            left++; \n",
    "            right--; \n",
    "        } \n",
    "    } \n",
    "} "
   ]
  },
  {
   "cell_type": "code",
   "execution_count": 51,
   "metadata": {},
   "outputs": [
    {
     "name": "stdout",
     "output_type": "stream",
     "text": [
      "Array after segregation is 0 0 1 1 1 1 "
     ]
    }
   ],
   "source": [
    "int arr[] = new int[]{0, 1, 0, 1, 1, 1}; \n",
    "int i, arr_size = arr.length; \n",
    "\n",
    "segregate0and1(arr, arr_size); \n",
    "\n",
    "System.out.print(\"Array after segregation is \"); \n",
    "for (i = 0; i < 6; i++) \n",
    "    System.out.print(arr[i] + \" \"); "
   ]
  },
  {
   "cell_type": "markdown",
   "metadata": {},
   "source": [
    "## **23. Sort an array of 0s, 1s and 2s**\n",
    "https://www.geeksforgeeks.org/sort-an-array-of-0s-1s-and-2s/"
   ]
  },
  {
   "cell_type": "code",
   "execution_count": 52,
   "metadata": {},
   "outputs": [],
   "source": [
    "/*\n",
    "Given an array A[] consisting 0s, 1s and 2s. \n",
    "The task is to write a function that sorts the given array. \n",
    "The functions should put all 0s first, then all 1s and all 2s in last.\n",
    "\n",
    "Examples:\n",
    "Input: {0, 1, 2, 0, 1, 2}\n",
    "Output: {0, 0, 1, 1, 2, 2}\n",
    "\n",
    "Input: {0, 1, 1, 0, 1, 2, 1, 2, 0, 0, 0, 1}\n",
    "Output: {0, 0, 0, 0, 0, 1, 1, 1, 1, 1, 2, 2}\n",
    "*/"
   ]
  },
  {
   "cell_type": "code",
   "execution_count": 53,
   "metadata": {},
   "outputs": [],
   "source": [
    "/*\n",
    "The problem is similar to our old post Segregate 0s and 1s in an array, (22.)\n",
    "and both of these problems are variation of famous Dutch national flag problem.\n",
    "\n",
    "The problem was posed with three colours, here `0′, `1′ and `2′. The array is divided into four sections:\n",
    "\n",
    "1. a[1..Lo-1] zeroes (red)\n",
    "2. a[Lo..Mid-1] ones (white)\n",
    "3. a[Mid..Hi] unknown\n",
    "4. a[Hi+1..N] twos (blue)\n",
    "The unknown region is shrunk while maintaining these conditions\n",
    "\n",
    "1. Lo := 1; Mid := 1; Hi := N;\n",
    "2. while Mid <= Hi do\n",
    "    1. Invariant: a[1..Lo-1]=0 and a[Lo..Mid-1]=1 and a[Hi+1..N]=2; a[Mid..Hi] are unknown.\n",
    "    2. case a[Mid] in\n",
    "        - 0: swap a[Lo] and a[Mid]; Lo++; Mid++\n",
    "        - 1: Mid++\n",
    "        - 2: swap a[Mid] and a[Hi]; Hi–\n",
    "*/"
   ]
  },
  {
   "cell_type": "code",
   "execution_count": 54,
   "metadata": {},
   "outputs": [],
   "source": [
    "/*\n",
    "Part way through the process, \n",
    "some red, white and blue elements are known and are in the “right” place. \n",
    "The section of unknown elements, a[Mid..Hi], is shrunk by examining a[Mid]:\n",
    "\n",
    "Time Complexity: O(n)\n",
    "*/"
   ]
  },
  {
   "cell_type": "markdown",
   "metadata": {},
   "source": [
    "<img src = \"data:image/png;base64,iVBORw0KGgoAAAANSUhEUgAAAbYAAAJjCAYAAABgEjRxAAAgAElEQVR4XuxdB5xVxdX/3/be20pdsKwVRVkUxfLFQsQYg0bFIHaJxqjBoDGWWJIQE6NgSewxEVETNa4aWwqKBluwGwtWVGxRV1DpW167Zb7fOXPv2/d2X923C2/Zufn4hN175878Z+78zzlziiaEEMhyeZ6HFStWIBaLZfu1+plCQCGgEFAIKAQqEgEtG7HF43EsX74cRG7qUggoBBQCCgGFQH9CICuxEalFo9H+NA7VV4WAQkAhoBBQCDAC3Yito6ODTZDqUggoBBQCCgGFQH9EoBuxffnll0gkEv1xLKrPCgGFgEJAIaAQ6K6xtbS0wHXdrNAEfiY5/E0UnAoBhYBCoE8Q0DRNmpj8//bJS1SjGwwC3TS2Tz/9NCepEaFttdVWG8zg1UAUAgqB/oPAJ598wsSmyK3/zNn66mnRxEYekvRn1KhR66uv6r0KAYXAAEbgo48+gq7r/EddCoF8CBRFbKSpEak5joPRo0crRBUCCgGFwDpHYMmSJTBNk4lNaW3rHP5+9cKiiY3O3eiPIrZ+Nb+qswqBDQYBIjbDMPiPIrYNZlr7ZCAlERtpbNttt12fdEQ1qhBQCCgE8iHw/vvvs8amiE2tk0IIKGIrhJD6vUJAIVARCChiq4hp6BedUMTWL6ZJdVIhoBBQxKbWQLEIKGIrFil1n0JAIbBeEVDEtl7h71cvV8TWr6ZLdVYhMHARUMQ2cOe+1JH3KbFxQRyZMAAaPAh48KDz/4LL/3XefnNdHSHb8DQNDhwYMGEEvxA6hJ56VcG2qGYB9UDzAKG58DTh90n330M/L649GhX9j9ujTsjBUnflXwkELQCi6NHKAfv/n/qrpf5HP3cBYRbsID1HmOtwoIlQJy7UDUFjpLYEt1ywsaAzGs2hnIGQP7n0b3peF1Zq/MUsREZFUC9pXnVGUeJIvXIAzfD7Vrg1moNgtDpsaIxRCMHC8LjfEkc9rdWuNZsYErqTFkdq5RrUGl8mr8NgQVJH02KqeN7le+ji0aRPPy8IaqlzbmWPDPkjwUjA1nWE/X/zy4TgufI0+Gs+853ybcEDQfMa4NIDSTiaASHoiwnWIy1uh2ce9O6us58Oir9WOmfAgadF4aAKBix+OvV9SoDlx9UHlyK2PgB1A22yj4hNwBOAa2uABY6BM7UkHOEChgkIA5pnQNc0mAU+AvpobPpWbA8mXDimhlatHXqyFoPo4WQSmh5B0hSwdLlF57toW4nBg+XpCDsCQsSQCAmYsOin0BOAYWiICw+REG2B+S8bDly4CMGA7tFnrsEVAg7tHZqLkOPBMzxomsl/Cl0Crv9OuQHaREuCtiAThqvBop3XiwFmFaDlB4/ohnqnYyUsMYL2MmYN17NhaBZsy4UQSZgwoWtpxJetkzSfvGMn4BrtaEcYQ7wwb2QJrYPnNOzWQrgCeqiwlJGiIUrfptuIaxY8YcJ0JZa2Foemh+A5QMiSm2++y4MNDxpoJjW0wkAHhD0ETtKEFTIR02PwdAOa0BDWDB6MTmSqAZ5OpCq3eBaWPBfCiLN0owkTjm6hg+bV8zCIiNEWELoHVxcwaV6pEeI4g+bdZhKUJG3C9AAjYEWaLp0Im/pK/xPwHMLeYnIzYknYYYFVlomRSYP5FTQtwmXCjBtAROj87QRsxK/WaB27EJ4Dk9YE/TApACcEVC9DmzEISVGNoTatSQfCMAC9AwKGT1A+F/nCoyBhg7hdJ0L0aZz6QlMVWouk/hHi2Aa6qEc1wUV9EICV9EEsvMwLTWfW3yti6xFsA/KhPiI2B54b583ScyzYjg1Td6GbESTRgbBRzR+q8FzoRjgv8CSJt9lJVJk6TNuGFjMg6mlDroLjeAiRCN0mYNc5MPQQdF8Czdmo8OCJJHQvBNgaBD1vaqBvmb5hnTYol+ggCStEn21+aiNSowB2AwY0kpBpH6INjiRvL4kIExo1Qxtu/rZoTyXuoS7RLkKapCF0JkpX03nT1Uli0InMacfLT2x0K2tt2kpYzjDZN2I3jfoc8h93pA5Dm32+K5DieZOmHa4dQquHFtNgh2jDBMxkDF4VCQO0URchsRBT0m2uTv8Hobswkn7KpLgGVLuIizZErEEF5wHCAVxTAkhtWXEkhA5HswBXoIaEnrgHRAy4mgeddmO6eG40Vm7oklYAsGBiur6CRVqWLvVfulFoOmxLx5qEg8EhC6ZHNEYMKeAZLlzdZdxJpzU8aauwfa6n+wziDRdwk0AoIk0HmhuHrXtwDAuua6DWMVkZpCEZrPW7sDUdIQJKT6asAIHW5bgeTMOEbbuwTJ2FSZGIwq0CYloYYWFBb40iXFMFoetw9Dh0QX0JS6XT18y4t/w+4n5J/qCAaFo2noCwOuAmkzDMIfzBCJ2ws+FpcTiwEGIRsW+YTRHbgOSoHg26T4iNtA5bRGEgCcOrgsvmJh26qIKnxyGMEJIiipBGukJVQWKjXcB222AZGrRoGImaKBxRx9K55cQRckOIV8VhIcLaR37RXgAJEl1teCETcTLIkOZIH7brQNc11ix1nVoKF9yg2dxK0m2a6chBHI5uA7oB19NhafS5a6yhFuIO2pepTSI3JjF6xpeI404URoi0DsDUyRBYQJ/092KhtwGijl/t6e1IkqnOHQSTUhMlHBimDq0Y1Zk659qAZQK2gKvb8KwEol41PN1EBC7Cog26Xkv0XJAoaQPVHNocSRggfcuGa7vQLQ9x0vw0uVHquiFxyHO5PomTYELEQRxkCxu6RZpXBwza4e06RDUHoSoLhuMBSU+ORZd9CLguEDC4LRoJSwjyp6SRsY5uEAUY8BCGLnTUsnbHogOEQSwgzbOs8WkeEqx705oiIqSXSTJhRYgEDd3GMhFnAWlTtwZ6Uocdofnyzeb0BdGaYMmng03opMWzSUSY3I7tOrQwkBRJJkoTK2CbW8IQFiIk0GkxuKhmc34MAlUCqCL8Sa3kZSZNpzLTEJkcXWiGh7iI+YRF1hOBUHIwyzb0DcEkk3iM+9+h0+jCCBea+x5tVYAith4CNwAf6xNiY8HWdeCYq2FgLZ797BO8vnINGoc14MDG3WG7QI0ZhuYKWKZ/LpMLfNpTkkl4IRcJJ4YaUYO3nBfw+scfwtM2x26jJmAbQ4cnHIStailh5rmIY92kgBlai7ggu2MNYm4UL3z6Ar5c1Y5NNtoWuzY2oc7REDariyMPfyPlnY02Pr0DMRFF1BN4c+ky7LbZzqijTa0IYiOzKzUjtTO5UdKm6uoO4mYH3m75GIPqN8M29SMKbx+++QhGDEILI6k5sLEc7y1dDMPaDtsPbUTI06HpArpRgHSJbclExweTBjTHQ7vRgn+89yRaPRe11Vtj1y33xljdhaZFWEMtOBFUod3TIQwyIZLpqw0fLF+IJ1a8jTZvEPbY5DvYfdC2iBS2bLIGRLstkzhqITwTroij1XkPz3/4FFZ59TAHbY09NtsdDVoVIq7HYhAvRiI3sk6SluJ3mkgkODKy6C9ktkY71oY68NwXL6Gl9WNYIoRdtjgQW9RujmrPRMjxRQ1iVhJsmNyI/EjUE9A9C4ag8zRpAk0iirjWhqXRT/D2R6/jSxHGthvvgG8P3xGGayHum2BJ6GIrJq0Jm7RR0pA8GHTOylKBrxUaScREKxIiihfeexatbivsyPb41jZ7YTPhwhRJCFHPZtKEIYWnELUXcqDxd+MTGyMphb92dzXCho7FKz/Ca1+/D9eowg4N+2LcoI0QcV0map2rgTgQIRoXHTH0zSGbIrYByFA9HHLfEBut8zgQq1mOB16bg8se+ic6Rm6C1V+8j2sOvwqHjTsQda4Bk0TkAkc7vON5QNRxYYRj+GzZOzjtofPw2dqvkYiNxIQdv4dLDjkVW7k1LLwWsoBR11pdoI42e28VXE3g1sdvx59euheJ6iGo6qjCxUfNxOTRE0B7faEztqB/jD+rCnSwvhYxxHD3Uw/h0SUfY870qzCYDFOFSNc/T7RSDgq0X9hMbNGQjQ9jb+P8a2ZjxslX4YCNtgVZsfJrpxI7GFHeSNcggaVr38Ss636Jbx18MY7f5dtw4nHUVEUKwcYOMrRh6lqE503XP8Wsh6/ALW88hsGDQuj4wsWEHU/ARZNPxea1DUXgRqTmIGGQAUs637Qnv8BJfzoUz+vLoRubIrJiY1x67G8wdfSe0tSX76LzHbJDWl/D1eoQRy3W4gtc9Y/f4l+vP472oUOxWrNx8LAD8bvjLsEQ6BjMZ6p07ktnTlI7klQEkNJFHERkZ5I6KBJImmtx86J7cPVD10EMSpK8gHF1++HCk36NUZGtUePpUqPiBuS5GMPPB3nEmr6TCJ/rJWCbbXjt6+dx3QO/x/tfv4WqutGIf1mDa865DN8YOR6uRqeNGmg9sMWW+pLRr5QfCmtXUaxGh74Kc+6/Dv95+xksrQ2jLRnGIU2H4LLDzsbQtig0vV4OjE2g0qoMizRM35HEJ/S2eCuqqshRqx0fL30PZ8z9FT4c0ob2eAIbWWNw4Ym/wcSh4zGUtD7Cnr5T6iTJM33Da0pjK/S9q9+nEOgbYqOvOQksE6/i0AcvwEn7nYLjN94HT3z2H1z26rO4b8o12MSRHy2TUV4VCxAx+S3aoc9xyzM/xYJV2+HC712ERPw/uO6ByzH1W9fhsJE7IewLnXmbk4oHW5Zi1hq0tL+M8+b8HD889gZsu+nmePb96/HGC224+MQ/oSHlM5avRXkmQWYph8xcaMfK6KeYe+8cvLdqKb7cZDP85eir0EDnD4UkWd+cSWcW5JCge6RJdMAVBl54+xnc8PTVeFd04OxjbsZRDdvxwX0B6OA4LnQvirhp47n3nsMDC/+Ez9o/w3f2vwon7TwJEe45YBXUsKSNNBp3YFoCby+7F7NeugPnHXkxmrAx1rQuwYUPXo8x3/g5ZozZG4ML9I32wrXsyBPDENGBkPcprvj7jUg07o2z9piMWncl5rx5J55Z/C5un3obaiM1bDKms6NspUtI0yUWJwcjYnFba8XCdx/Cwwufwrk/vhTViOPr9v/gnGv/hR+dOBt7bDoGdfBQTSTtzwufafGck4nUgWu4aGfvQSJfB1+sbsElN1+FE084BWM22gI6PFz+zxsxIrIxZhzwY1R5YURooTJxSZKkKSXNiGUe1oLibLrz6LTZS+Kexx7BslgChx12AqrQgb+//CDe+OIrXDvlF6j1qmBoOkhjpDWWMDWEBb2VhqizY0rggukIB7YRxbstizDnvj/gxydNxxZDRuHj9kWY9ZcHcc4Pr8VONcNRz4ZU+vaSbHoUwoSm0zlrJ7Gx3y1p914HEm4r7n+oGZZVj8MPmYYYWnDDwivw9coR+OXUyzCMdTY6xqT1ysfVdCTXJ5fS2PoE1g2y0T4iNjrgaMdHa/6F0+77O67+yU3YVlShFUmccu8MXHrwbIyxNiNvbqCAKZI0BToK0YUDU/8Ss246HjvsfzEmbrMPQt7HuPuDB/H6V7W4Zu8fSeLQC0j29NUmSbJPglwgn/nsRVz/z7/iujPugIdVCOG/+O3Nd2PGybdjez5nK0Qe5OFGLiRhMsbw5vT6+0/jP4sexf8dOgk///ejuO2wS7AV6wgF9T95wEYnf+SijRB00Y6Odgd/eOAGbLPnYPy95RVM2Ok3OH74VqCTrHwXe2fSNiZcuF4Hrvz7n7DdTlV47b1nULP1mTi9aR+E6HxHIwE+v+pMvWqDh5CnIRx1oFkxrDJXIWQ0wLIT6HA/wY+uPxcHHHEdjtl6HOoLfS50xhVPIFpjQ7PDCOthrHbaEdeBwSHyEWzDnI/uxpOvvYK7Jt+EmnANt0iJuLPlCuTjSOljITE02gE9Cs8OQTeGQGjL8VXr8zj9+ntw0qmXYPzIrVEjiNgAS/dn2Q/T4FABjxw0iOgMduBh87rtos1LQquyeBN39QSu+PdVGG4Ow8n7n4IqEWFvW40dKnzHnU6lSp7X+cILeR7ang2bHE10i52DXCzFs1++gt898iD+8YPr0aDRDGtssqf7Y5YG6WpFpES0JM/XyBxJ59iu7iGpxZEAnaUlUSd0xPEezrjjrzjmiMuxV80IDIFNblGwEOO2HTbIkues76fPlm9pJvH0pDSX2u2otYZDuOQd+j88/OU9eOTpOGYfeyk25nNIm88eQyJMvsEFz0MLLY1cv1fE1lPkBt5zfUJs9BF6WImPv/47Lr/vPcz+8ZUY6WjocNfg14/9CMfs9guM22Qndl0nt/P8Wod0+HfsOGC24Zc3noLjDr8OOw0fDS25FE8seQK3fNWCG75zJoYh4p8V5GmR/f1jQO1qOELHvI/ewB3PPYZ7jv09LLRDC72AM/9yBw45cS721aqLsJTG2Z5Dh/K03VR5tFGthIPVeGPN/3D2U/Nx/5TLsJGoLuSdL8V78jzT4/DorEKQg0gMwg3DM1rxufYyLn/yHuy90ywcMWzjAm43dCxExCYQ6nCQRBvitcBqbxGu++vlGLbjr3DWzvugirwvdY2dAwrNQxJxGJ4JwzGgJXUIR0Cr0bDceRGz5lyHbXb6Pg7/1ncxnLz3Cn1L5BEZo96ZQLWGBJ1PdQChKqA1uQwP/28+/vLkfFx06uXYs2obCBlrwNpatnpcZC0kDYkuUhjIvMnnYppA3IjjjbXvYOaNl2LKt4/HYbtNQQg2huhhdgyh8yX2+0jJHRRmIbUs3fWdQgRFltiwqshF/ws42mpcc+v1aB28MU4/6iwMMQfDEhacuI1IVThloSayJQ9LivyjAABJbjo8x2NtzE4IuS40DW2R5bj8sasxaMS2OH2nIzCIHH6IrGlNwEXclJZ7HQk//pBbo0M3cvyE61JEoYeEnURtNYUarMTir5/Blfc+jvN+ehM2gs7zbXMEWowdmjSQGVr6VrLWFgSlkZ7qOXz+6pJglBAIW2EkzS/x67tmYsutD8SxexyLwa6AJmK+8w/RLjmTFCHAFVofWX6viK0HoA3QR/qG2Dj+ai3eW/Y3zPrru7j+vGsxNOnBDa3G2Q9OxUnfvBpNw3dl02EhSyRL357gj3VNZA0uvONkTJ/0O2zXsCVqvDV4+d0XccWyJbjugHOxMXudFXKCIFOkB89cxp/yQx+/hetfehgPH3E1qimITTyN0++8H5NOvAUHIpCQ860O8rojIq/mzTBEgr7ZgYS3DO+vbcGMJ+fh0SOuRB2J8IUGS0c5rAmQcwC595OPnAtBaowVRYf5CmY+cCv23+NSTNq00Zfec/fNpjABCETaNIiwQJvZCmF8hGubL8egnS7AjO12Q4hjr9wiTJECiUQHwpYOW7NY6g/F40DVUsy8+2LUD98Zp+73EwzWBSxSxYuIsUsIoIYUBx2w9RhMjh2L4/mWN3DxfbfinON/hb1GjmPNlEyQpKmRxpatHheZ9thxkUGWZ3ZkHqOIuzb9S1x4yyzsssdkHDn2EAwVZIoTsMh1nzwzTYOPwOgPrR5y9ojDY69BOtNiT0FThm8YegxxfQ1uf+I2fPDVVzj90F9jZO1IaDEP1VZYGgw4Vs0/dHINJlfyfJSh4TI8nBU3z4Mr2gAtCl1P4vL5f8biFUtx2TG/wabWSLhJAyGKpSRTpC6QpGVA523sZSyJmCiJNG7btmHo0qwqkjaE5eI/Xz6BK/78Z5x2zAXYb5s9UJ2IwjBqZJIDI8luLeQAQ2uNuciPY6NFKJMryBAQkimE0Y427VNc/+BtWL4qjPNPPB/DjFrUOmS/JRuki6RJYR4U7NE3lyK2vsF1Q2y1T4iNvpCovRyfr3oOZ963ANf+5BpsgQRW4Etc8Oi5OGvPyzCufgc2yxT0Mue4MtJigFZtDc66Zyqm7X8Zdm7YEXXiEzy1+Dnc9lkSV333J9jYd4AupHnQhh9HG8Kw8egnT+GGlx7EvcfOhfBaUat/iOm33IXjTrkJE4GC5MEZMmhzpPMw3h0BzyTdbTXeX/YeznjuIdx31O8wyKP4LOkFEEQGyL2pUyOgf7PLOWVD4cBYIrcktEQIcKJw6t7C+Xdcg332vRbf3Xyjgn0jfSget1FLMXtODLE66sNnuOqOi1C105n46Q7f4OBfzaQ4vEJejHQo6bEHXatBMYq10LACwGKcetPtOPfUP6GJyC7hQbOsggctdMa2GgLDhAaT5AkrChjLYCOKa+ffg0Gb7I6pO38PQ4OAC95pOwmu+xy3+1KBDGsgl/uokKa+j9vexp3Nt+G8H8/GYK8eVZQhxQ885tnwvTIDd38SUxLCljo4JRWgOWJToY2kFsNKdOC3d9+ME6aeibF6A6qtkNzME/K8kg7FKNyMHehJuyXG5UM2P3iayEgXWNHWgtpBcbTaLfjzozfjzWUxzJr+R2whamE4NVI40OTpl0OOLL4pk7wjmWx9b1GiSeHZEFocNoWaaAJPLnkOv3vkFlww40aMCW+CrWj9JV1obpi74YTJg9Rh7ZGFAY0oUuq8ggLAHSJjD4ZFIfkJrEl+jpl3/Qy1I0bhtIOuxHCEOMQhTI9IR1m0mVKsyB/A0/NtVBFbz7EbaE/2EbElEEsuw5cdn+PY5qtw8UlnYUL1CHwaj+On/5iDW46+DI1iCGsnZgFmY288uLAcA4azGuc/MQ3a0INwxp4noU68hUvnX42NtzsH399md38TLHRybQNuO4QYgjajA++tegKX3noRLvnpnQhFBL6OvYNrb/s3Lp1xK0YVjsZiLY2k/hC5PFNGirCJtVoSNYjhfy2LcP6z/8S1x85Go6iWe5shkz9Jt3Jfhg/CBcicRA56wpOpuPisZhV0Zzh7jifCr+GX/7wau+75W0wZOaqg8wid/TFxkqhvrIZt1CCBL3DN3TMxvOk0fH/cBJDuRVpGqJDxkPqTiME1LXQYJmoo5kpQrNPneGVpAsMad8KmpOHapAEV9s/nAH12gZeegpwyikywWI3Pv/4CengwhtdvjZBGZrNivFPTdnsOMPY41svWPLQ67fi0pQVbb7ktaug0kXbhrldaGrRA8tDIrGxQ3JqFEGteSdj6KjheBz78sh3hjbbBNlo1bDLX0SmrK2DyBBq8ydMc1zl+5hH22CUGp4M7Mh06cK01+Bof4vf/+iOwUSNO3vkkbBoajIgXhiloRiJSi/Lj7EgYINIlM6vU+mTQPp3BwY1DmKuxymjH3JfvwuPvvoRfTP4tth28HSIwUC8i4BMwn9DpPM72tciQR4U7CS8ycZIGFoKTcKGHBWxjBT5e+wpufPhujBy7Gw4bOwX1Zj2GoR6WTad8MrUbTSMlGvKNo32yjypi6xNYN8hG+4zYbGcVp+T55d9+g+W6jm9suzeeffvf2KRuV1w85QTo8TBCEUoLlR9XPl2gTdSmjw94culduLj5Phz5nePw9cq38c6HS/DLaX/EuPrBMHWSPPNn0KAtiKK5kAzDNONodT/AFXf8HvGaEdh2+3F45uXH8I1R++HY/U7C8CI8l5mgKPOISLIrnG2Y0vPZXo13Vy7Grx65F7f88GoMFTKFWDDeIEaKFbQguSB7u7HILInNIBl6FTR7KAxbh139Ls5rnoX99r8Uk0ZuUdDdnzZBbp+IzVwDR6+Bg+W47Lbz0Djux5g2/pt88E/ERu4EeS/KV+iRU0sIrmbApEwfegxJbxWefetT7DBuAuo1HWE2FUrPwPyXz+Z+eig+XtQpdHwVPvxoCaqrGrDJJqPhJHXUhAqGomeqwfxicpixGcPV0TYs/mgJxu64I+r43LTQGpH+Jxp7YHJENGfcTFCKNKzh4Ofn3/0Ew5t2w1Z6mIkmldDLJfLQkWRNB+ycIgUamohOYqNJJ5K8c+EcPPTm05g4cRpMrxY1bgh1RjUmjN8Tg1CDUJC2UiqsMriR8l7q5B0pXT44ZVeiA6iK4a1V72DGDedh929+G5sPbkKtWYsq18SuW+yAURy3SIzrr0NeeL4gqAfERqohZWsBPMtFDF/h9keux9NfvIud9jycUk+iQRuKQXo1Ju30LT6hky3IXLAyE2wh4bLQ2sj+e0VsPcNtID7VR8TGRjAgvhZu2MDM+2/A3955Bv83anfcdPy5GNReA1uPwCLvskIbIO0wIg4vKeCFq9DmLsdTHz2CS++4Hg0jRmPWj6/AjuHN4batQFXt4IKBwbQHREmSphwKsRg008VX4ivMuv9aLHzrLRy895E4+5DpaAAFZxe++CiCqSzJuffoSD5Ce6Hdhme+egW3zp+HOaddSf6Nvo7WmUlCHtTLrA98+d53gQ83pT6ysRqWGAItCUT193DlvX/E9jufjCljdy6kY3Um42VPiHa4egTtyWW44a5LsfkOx+PoXffiDJmcSqzAZkQCBmVBJC0hTHY224UdWoW4SOKqObfhJ6ddgEEwOWWX5Z8llUpsgrN6tKL5vr9i441HYb9vHpxyuCg4F+n2XXoxb9oeonYMq9rX4Obb/4KfnX0+qpjC8xMbx2Ozgc6DRgHcgoKlgagGDEquhe4lcNHcGzFl+gw0RYYjlKQcppSminIrSjKjOWVF2Q+nkLNOxEY5IE14rg1htuOCa8/Eq1+8j2hVPYRRy7cMjwzGTRfdgCGoQTUp7rRoU8IPebQQW2qc3Jgu6fZP53rteOS1f+Pyu65DcqiOqG4g5IVQFQvh/BPOxL7b740aUQWNzsXSL2pGp7mVQXhsVidnGTeBhL4W518xA4vjS9FiAIPMQdDXAjts0oRZZ/9Wkq+fg0XqkHTKXTi3Z+Evq/sdith6gtrAfKZPiI32mISbgKEnYDohrDXb8QVLuxFswx5egxCzXYQtA2YhZmMTWBSOFfJT9pAX2ydYQ0lu0Yg6ZwiqHAE7kgSddJC7Rb5Lph4CwkYHu6t5rgU7ZGOV9hnoVCWCjRF2DdRolHtSHobnvXwzmiDnBdZ/TISTJPHH0B5azQmGQt4gOJrOUjadZLHwHmxU9BdKYsv/o/2FNhUPwtB9l/E2wKlGyDHgml8hYTposzfBcKvw9vaqC2MAACAASURBVBG8goOGdQrSJl9ACiBfg6i2Keop3Rc7YkrHjHyXDELg3B6IeBpM+gdakGBPuSrAMVFlRhAXHajSyfhVxObmp1qTpkiZ8jnhtnESaqIV2wkhYkmRoChiY+HAHwXj6iGWTHBMGeU0JHGrRotI55Y8lx+GyRu2niRHChNRmVoUg20HrhZDwvCYSygoWzPDSOhE6hQXRomKZRZ9yn1J+T6pSxyzyVlliNg0eA4RWwxJvR2tGtE5rV4SpgQitI6Fhlr+mwzwZvmOmyAzJGV30dhzlnUu+p1tQzcdJChMW29jE7lMukUzQYnrQggjAjJIUh/o2C+AitYk9VVqXTLJshP3YEY0tCZXQY9Qq5SES6bwIpcq+papdfKmJRsFeVbK3tBICwXJ9GyzVcTWM9wG4lN9QmwEpCOADkGxNJR3zkbUopSwAuG4hniE3Nh1iJiNqqpCWeVlRHXCcdEeDvPBdFh8BZel36EI2bW8660IJcjqn9KMck4mfc0OELdXwayqg0cefl4Slr7CL+0yhKN6XGGjhvMxFuQ1dsUmR2vaMCjJECfPja+GFolhxX2PYdiUqfDCYTi6yZuQyWkuZI5KFsX5jEbSkMFeB0SCJJHT0DqgezWclo88IykPpaYNlSVICnOu7y5OTRITUbwU9TQKD/UICQ+6rUMjIikiBzJ1wRYea4rW6hhi/3kAVYccCNuMQHMjcCmBrxZHWCMBo4jNLa2ukXS3d5F0O3jzNnRymQ+xl19RxJZOaoykPMOTJXE0JIQDnUyorFMUJjbKicgZUSjlFHRELfYJQcgRiJsxhNwOrH76BdSObIQ1ZhtEdaKMEGtPMr8jmZNdzmxD5Ca9daXTSmdpnAQcLY4Oj5IkkzDgogYmbMdBSI9wGSSDtEA/1VcQ8F3lm6o5AbGvaVOiZM9NQlASZl4lUtCjdUVhCDxyCsLXSPjiSD1f/wZqmDSlaZirErAkQF6l0i20A63sIaon4tBD1XA4XZkB06qS4+EVSzTqmzYLJdTu4U6riK2HwA3Ax/qG2DiRKrlws9zNHyhtLhptyh4dtrsshfIHVEiwZxMTWe816e7MlcACRwE/TRGdf1DZmoIpi32Tju9eluANQ7onmxTDxvU3quH4Aba0gRciNmnwkqZI0yPZ1eCqBZq7BtprL+LV86/ALn+8DBg7FsKoYSyY1In8WFuVJVBohLyF8vkHJc6Vbtxk3NRE2HeB8zcPj7wOi+hcIJIzaZArPRnXSBMUMhEvOTM4IUmwhYjN93iJa3FYugtz0WIsPuPHGHPVJcBu/we4tXBDEdiIIcJlWIogti5kRM4enWHNNMtykDLGqogrfbz+GvEryqRojgKICwXK01xQPJjJ5ZVkguQkOdh0UDS3hqTWivDy/+G5Gedgqz0nYOMzfoiVRj0Gi0EwiThouihg2ZOkSo4xMlKOfyE1N9apJBFQcDbp+0SkbFb0PWJ5UrgsjYyFC9Cpoq+B4x2ZPn2NMAAzqPemQbP9FF78QplwkrOrcFwduRZJL84I5etM5WWmunqdnjSeTnq0DYsy/ftCFznHyH7J+3xFUn70LJcVNVtFTGjmLYrYSoZswD7QN8RGHyd9X6Se8FmDDBSm8NQQyZipnHnSQaLgFXgN0o1cR6oGVNWEanBZwkbIrZaHIoUrucj4nMCrzDfHyLIyDmd34JIrZPoJNKIC3eOE9yzdO5KoyRmCDsTav8AHZ5yBoS8txmff2Bbj/3ATUNMA9p9mUxBlqJCbg5R05YZEhTdJJyLTJafeE6RpUd0sMnVpMDm0QHpMFqeyBfFZCc40T5k0iL8t24FjRWG45LZfpIBBDqVGgr1TPzr3F7CeehSxHZuw3ZXXAcO2AvRqxEKUVozMXz1xIMhgpmLprODy6arMFVpxUsiQPuxs+OPyQQI6SUJs4lyL9nn3YPlFs6DXD8MWd86Bt+VYCLuOYw8puoLSolHMGVOaRnqVA09Uy8TKTHQ0H/SaMM+rp9PaIy0vCJQm0uiCoU9ycnVKepSabicEQYUBqaymu3r696WkBDpb9WmRy88EJKnxWGU7sgsyXRlxllypKRO3X+aHS/0EfMp5MouakpJvUsRWMmQD9oG+ITZe6CRRyrIrpGfQ+QR9piE+LPB9JjiNfREboF9Kgz4pDQkIUY0YxeJoNsLCRphKktBHXEQCVmk0pPM+4jI/9ozaMsmAQ7kGyZTobwh8GJZ/bXD+VyEQJnqje10Dmt2BxFvP4usfn4yRK1djxcg6DLtqLsL/ty9A6Zs0C44miYrwkZnbaWykxpHPJrWmc5waeeDRZprUq8jYyfgx2VFh0EImH38Hcih7PxLsrUcjJ160nATioQ5YYjCMYjVnSkVGjjxffYyvjpqCUPtSJFwdw34/B+H9D+cIpmgVGRCLMkT6wPqLgf/VWUla7tuBY00RayTXNKVzJUsrhedUkhpp0ZT/k0yHZEpMcrYQnTxvv2zBF6dPw8j3X8XapAHt+8dj6M9+Abt6I64vKEPWKMieztTICMlui/BQI8M8KD4MMZb7QMm7/aFToDytgiBDSUAuKR7zDRUsO3HbAYTyO5MetZ0/T4XqpWGTeoaFRR9fwlmXmqM8D3T9yuYyJyUJQ1KA6/wcgrSs7HfinylKaVBpbAOWTSpo4H1EbKR1uIhqGqqFziaM4DiFPsgOg+z+fmL/YhID+2YTWxMI02G9Y/gOAQK6sNmU1qHpHK9TSAGkrYO8+8IUfEvBqkRu5OFsJpg4KGpKmoOouGThOmDk0k0fdNj1kDA9LgSpta/Gx78+C8MevR+1bhyea+DzI4/H1jMvA6rpTNCAY0RkOCxpYb7kS3FTwiCXd0ls7ITgxDmTRcKgcGEdYT7jonOo6qKJjQpYErGR+dcRlPaYzoo6EA21w6RQW9opC3AHkTed3phr2/HlJb9GeP7NqE3GybqJVXtNxUYX/Qli0+FIGDLurHihPRD3CUfpjZe6fAeQgrXdunxQGU2kNv+0mwrypCQ28jrk2uXk9i9iaNMF6jwD8VuaEbv2Qgx2vkTSBtZuuSOG39aM+ObbIqpFMJzyYFK2RsvPHkNeJjoJZDUs4JHwYiAqc1C6fsZP9inxnTf8rgYkFGhIwX9pSKSwy7yT1Ncg9pucTMiUKBtg026KyXxNi37vz06qhiCtRN1kE6UkNjqFIyGGyJIw8AVAn1hTZ7s8Fun8JCuCE2HTKWbxs1/KXqg0tlLQGtj39g2x+UQUg85BxDodEAT5igxyW5e2fVkqszgPCEpJRNpRWJjS/ZlJQbIKeXS1a5T1Tm6q+S6pHxBtJKGRzcjf1CmGijYxdldmyVPmeS+ksrFzoOci4tjoMGW2eGfh83jnF+ejId6C4YmvEY2FsWizJux22eWo33kXiFAYXqROSsB+MUvOHsHebtQ7GYJL5E/FT0n6d3QiQiJeOoshOiV9rhAbSSTIlEYGJfJX8/icjTIgJZAwEzBQ65+3FcKN/D6jMF57G28dcxIa61aiduVXaLNCWFndhK1+czkih+4NlxxHqLp3Ic+W1OvSNDauVZY5t6nUVCV8p3mJrQiNTc6ErztR8DMZ0vUk50401ybx7ulnoG7Rk6gTayD0EJaZQzDiR2di8PRTkIzUIELe+K6AR5WsNXIYCrJ6UAwgzwivP9Kgween/lSmx5X5Dp4+l/gnsJ0gsMUvIDb6Mft7yMF1chmXvZYkJw2d/nqWxJM6pqW6eKSt+YmbyWzqJ/3iu0hz5fPndJUtOFjTZT7OoEgPOeYoYithsapb+wSBPiK2PulrRTZK5w/y3KuDtZVQ0sZn5/wabS+/iR2uvABLTz8UG1/9Lzx72ZUYuudOGHvez1hri5MHnSXNVmxBIhOkRmd1RD8FVYr1gAXtomvxye+uxsrb/4HdfvszdMw6ETVz5mHJJbdjZXUN9rjlCmjVNYBZRKHR9TCCYl8ZxDrWkCel7cGjKtKGQHU0CvvRhbjvit9g6rHfw9f/fhj1+++P1g/+h7c+WIGDr70O3ujN0REOo853tLCpijoFrhcUkYrt3cC9T2lsA3fuSx25IrZSEet6P7mDU50yK8GOJ+HVrVj7+n8xtGk0O5EsOmgXjH/0NcC2sHzJe2jYbTyiVhieWYOwQdnlfaHakLn5pM9eIfeGcjvdg+fJlrxsBZa+8yI22XUMkEzgo0PHY9Rjz8LFRljx2v8wbPsx8OrDCNVQvsYKHEORwyYdhwO02RRMxAY+0w23t+OrZ17E8NGbIqzF8Mwp07HF1CnYfPKhWPN5O0SkFoN23QHtmo46FljIlNfpiNR/ESkSuD6+TRFbHwO8ATWviK3cyaRMWp7AqoiLatdEFWf5aOOEtNqqVrx15P7Ycd7jEFUN0BwXospCB5krPR01RhihTj9rmdS2Unc/UtjilDQjinYrhtq1Hfhg/52w3bMvI241cC0u17OQ0IEqo6jw7HKR77vnfftf4IxBvjVkcmYTY4IkmVYg2ob5J5yC7aZOwaijDgP7+NcMhROijB8yETA7WNAxV4bdr++6vaG3rIhtQ5/h3hufIrZysaR9TheIGoJJijSwqNOKqpAJbXUci/ffHWOefgmJUC1ClomoZrOrP7lUV2kGDE4CLE2PXHy5gomNqtR4ERetaENDm4fP9xqLLZ94EWLYxnAME20Uz6tpqNEKZ0UpF/Y+fd73Z6GM+oHHPP0oRPkTdYG4247ajg7cd8QPseOxR2H0MQfDtgYhrIWQcDU44U59ldKrsTMHR9T3aa83+MYVsW3wU9xrA1TEViaU7FtA0UrCgfA1FkNPcpyYtjyGTw74BraizX/4cCQpvZLvikaZ8cl/TOMsDzLglf6alie5zJ717uPs1eoCcSo+aXkItcXRslcTNn/qZWDIcDbdcWYVVyBURHb/3u1dL7fGNQBdxHXKGkLuRCSIaLLCgkUBy0nUd7Tj4SN+hO0PPxRb/XAqZx6pFpR3i2PekaRExVSlz/OD4SmspWKlll7Gr4+aU8TWR8BugM0qYitzUinwnFyjDcok71YjQR7rlFaKso+sTOKj/XbB1k+9Agweyj7aLLSztwi5U/v/IJdq33G0mIQiZXa5Z49TX8kt1ZClXPTWJN7bZwy2f/G/sKtGwCI/dg6wosOpzioGPXvZ+n6K8kMmEfPd78kTl7KQkPoWN4nYYqjraMfj3zuFzZBbnPw9xIxqVLkRNj26lkBSI/qjuupU0NQEuPKEUtnKmVlFbOWgN7CeVcRW5nzLfISU9diG5tRyKFZUi7PDeE1rEm9+a2eMW/hfiJqGVA4+aXf0cxExk8ngWj/TXmVarHyvfEoVRXW79DYHb3yrCTv992V0GCNQw8kH/Xg41k7KBHa9Pk7xZEnEOC6LYgdlRn6aJNskPawN4dYO/Oewk7HVUVOw+UmHIWlVI+TWSLd404OrOYjBRYSiwGhRaEVVlVuvo670lytiq/QZqpz+KWIrcy7YakXnZlSO0pa1g5OmzbW7ajpiWLTvzthl4X/hVQ/juCXKFRmkuuR8eykVTUYhMcNVICkQr1H0HIW3h6k+3loX7+07Fts/+wrc2gb25aSw4w3hKImEFYompFg2kwKayXWfA5WpkjUZXdtgtbXh8cNPwagjD8OWJ06Ba9bCFDVBBmT2q6RUcjLDVJCnowIntsz1vy4fV8S2LtHu3+9SxFbm/PHZEmcEtBGyKeCbjswoa4kHtEXx5n47Y9zjLwKDB3P+R06sK6NpU+n8iMhkNvggO3rlxbHJEG8aqw1dJBBZ7eHzCWOx2XOvQgxpYBQprHfDILbOzPeU3Z+jqi3JWbLqdCtCdMZ25MnY7sgpGHX8VK5ObgnKu+mTF6WU88GQP1GkVuanBkVs5SI4cJ5XxFbmXHMOPSE45oky80sNjHLtCaC9Da9/ewfsvGARn7Gx4M8B2HKTS8+QwVn6OHdfhZ6y+RUbklRjTCRRtdbGB99swrYL/wsM2agzz6BMW9jPL8GxiRyJ5vg5YSh/lYyk57gHs2MN/nXMCRhz+FRs8/2j4Ol1nEeSEgtTWiuDinlygg8/eaPMtN3PcVm/3VfEtn7x709vV8RW5mxxvkdyc/driiT5KMWBRTkt21bj1UnbY9fH3gZqR/RZOY8yh1Dc4/4Zm6O7XMakqi2BN/fbHuMWkGPMCFCGDa6f7BceKK7RSr2L1G5S1UgDl2VnElQ0l3KRUskgSn3Wvgr/Ou5YNE2dim2OOx7Qazl5o6NTJTcNFrlGMpf5aa3UGVvZk62IrWwIB0wDitjKnGra/ki4pxgnIjjHpHIgLudf1FpXYdEB22P8gneAupH9n9hcOmOiKggJRNrJMWYMxi14GRg8Eo5OmqbB+Qv7v8ZGJmEKUOwktiQRm+gkNnSswkPHHosxU6di1LROYvN0SrGtwXL9Arpcvpw0ceU8UuanpkyR5QI4gJ5XxFbmZJPbCJmtOEO+R8QmJXST/r12Fd6YtD12euwdoH7DIDaXNm4tgVC77RMbaWwj4ekyWS4n5u33FrfuxOb4xKa5UmMjYnv42GOx/eG5iU2apenkkdpTxFbmp6aIrVwAB9DzitjKnGySz5nYyCXc1eCaDp+zcE231jV46zvbY0citkEbBrGxRqIlYDGxNaU0No+rJhuy+jJd/ZrcJLFRZTmNzk0pez0RGwkr6cR2XBqxadIUSTF+rLF5IT5TJZcaWcJTEVuZn5oitnIBHEDPK2Irc7KZ2GgLZI1Ng2sExGYwsb1zYBOaHn0DqBsBjTJy9NfLzzziIQHbSCDc5uHN/XbAuAXkPNIAlyuBE7H5NVg2JGIj938jAd0z4HYImFUG0LYCD59wPLafehhGHX0cEKqH4zrQwlSu1kgRG9WOp1JDitjKX/jqjK18DAdKC4rYypxpqsbtpUyRGpsiHeHCdA2Yravw2qQmecY2eAS0QlVQy+xLnz5O8XpxF17Igas7CK218fp3dsT4Ba9ADCZio5AF3Se2yozFKx4fCtCWziOssfnEBkeDQcmeKY6vYzXuPfYYjDvqSGx31HFA1WAueJv0OqCbIZiu1NioHJEituKRz3enIrbewXEgtKKIrcxZJmIj7xGT0iYJCs72C6zZAqFoG57bZyvs9czHQJ3c+PrtxRHaAslQkk2toQ4Hz+6xLb75zNtwBw/3ic2v6rwBmCKzERvl9XSSBgzLhRFbjbuOOhI7H3EExnz/RMCsg+u4MCzS2HXoTohTgBKxyRKfyhRZ7tpXxFYuggPneUVsZc41ZacgQjNYPAfniuSMFZ4Oq20Nnv/OGOz55LvwquthUqqp/nqRxpb04OgOkqaL6naBl/Ydiz2ffB1O/SBSZjg4m3g9Vai5v46VHIK6aGyukWBTs6GFkXATiCTX4K7jv4/xU6Zgu2O+D2HUwdA02G4UhmlBp2D9gNi4irUitnKXgyK2chEcOM8rYitzrumEjYJ2OdOSBiQMyggPJGMu6hNRvPPTqRh7w/0Q9YMrd79nT0Y/XFxIZwmOK6Ye+z+noGM4ArbuwjUEIis68OHPTsS2198Oe9Ag0ls5HpkC1WUgMwErM2lSsU0y6KV+LEtwVrCHSRdi0wQ8PcFVGBKOAY3G374MCy+/DKN23R2bfu8wJEQt537WTZszy2hEbKmCbISOIrYyPzXlPFIugAPoeUVsZU42yeLJhI2IbsHVPWh6Ao5mIZ40UUdmqI7PICKbwDHDXMYkZHI6CghP+CVq0syTLNmvB62OlE4iMOqvayFhOH6ORA0JJwrL0JBEDUKGB81LAkYYjg2EEmuAajK9DYbjWZz8P4IEdCMEuB40uw3CqkabGUI1abFwQMV62M1EUAVOwqISzbOS2GWhUY2zyAgkIJwE2q1BMDUgEm+H7niAHoIIJeGZVVywwTBMfo7KGEl2T8+rVYljLfMDWIePK41tHYLdz1+liK3MCaTq2XR05tlSm1mz7D288MbH2Pfg7yHkJFFl2PBckz3lNNNEIpFA2LRYYzF0PfPcbb0SG50NOtCcEOKmA9NxYNgaRFiHcONw9Dq4bgcsocE0qhElJ1DhoRpL8eTDL2LIiNHYYfdxsMh5wqiG5nlAbDXuuft+jD74cOy4yTAQ9dmUzYNOnCqa2DrznXFOas50HUO8fS2uu/NRHH30kdhskMUETkJNKGRjRVsrnn/mZRx8wGRoFpksqeY2VSb1a2mvB3mlzKVdcY8rYqu4KanYDiliK3NqSPMiwbzVdlAbNrDq3f9i+sU34Ka7/4qhRGeOg45EApGaOs5QousahOvBcz1YplFRxEYlaXQnjKTpQE92AFoVdNOCHVsDMzIYMTeGGiMMz9UQ06mwKFCnLcOvz/8d6odui7MuOB1afC1gVMMijc3rwK477oqzb70XR39rN1icjEua5Cqf2GQKFWmlJWKLYvXnn2DjnQ/Fy4ueRVPjEDiuBV03YZg2PvjfB/j5eb/BffffxyuKiE0LiI0itSs0BWiZy3+dPq6IbZ3C3a9fpoitzOkTtgeha+jQBCLCQ2LJqzjm19fiT/fdhRHRNlhaBElTQCcTlS1gmiZc14Fl6tApDVV6JuT1qbGRS7uegOFE4JguDLcdrgjBMyLQnRh0hOCZVPFbwEk4QJWFuKdhkLESnh2Bq9fw5i2ia6GH66ELD3qyFbvttBvOueVBHLHvOIQCYhPkI1jJpkhaFNILhk4GNTIrenGsXPopNt1tKp5/5jGM22o4hwMIzWQTtPA6IFANwzT8UjVJn9jC0rysciCX+aVBnbGVjeDAaUARW7lz7UkHiZiusenx69eewBl/uB9/uH0uhsZWYdalN2L272dBcz387KxzMWv2xXA8gUjEYm2N/6TILShbU26nSnzeP2OztSRCbhgwPMBbiVN/dAZOOfu3OO0Hx+HTJe/ixjvvhm6EcdShBwEhE/c8vBCH7bsNzjjjQjRsNg6/+vkMfPjW6/jWgZOx4stluOL8M/GPR57A6dffjCkTd2Nic0hjEzos0BkUVdyuxHMnP+MzuOaCJDYRx8plLdhk7IG4+ror8MvTf4C2jiTm3nIXjvzhMVj64Rs4+/zZuO8f96Ga4SdiE9ApabLS2EpckNlvVxpbr8A4IBpRxFbuNAtZpsTTNOjCxtK3HsOMS+/HbXfPxZwLz8Gt81/Gf5+cDy3pYsdx43HRJRfjhyf/AEnHQTgcYkFerxBiS2pJhDl7PXlAfobTf3Iu/jzvXbz19D+wesVH2O+Ao7Df/t/F7X/+A666+lI8s2glnvrXH3DKqediq7F7YOaZP8ARBx2C7XbZAz87+0zc96dr8PNZv8fN/3kBk/fcCWF2HiEf+IDYqLJ0uRPQF8+TgCEzqHQSWxRrln+NIZvvhVN/fCIu/83Z+HDJJ9hn4kH4LLYWX7z5NH72q+vwt4cewGCf2Og/RGxcVbtS/WT6Ar4+alMRWx8BuwE2q4itzEkVQXFQtqwl0PL2Apx6yd/x59v+iIPHb4/T/vAXHP3NvVGlGXjh+ZfwnYMOxFcrvkKoOsJxT6Sx8fELk9t60tjIx0EXiGsJVHsUiEfB5h/i9DMvwMSjLsfUfbdCfPkSjN/ze2h+aAHGb9uALz5bjMNO/D0WPXkLTjrjl2jcfjxmHPVtTD/uJNz9yAJYmoARXY0RG2+JPyx4Hofvs3OK2KiSuEHOJWSKrUhi62qKpEz/cawgjW3MJCx4cj4m7rItx7Xtv+8B+NPf58Na/ipO//kfcPu/7sVwZkPSTnVZvojdJCvUAbTM9b8uH1fEti7R7t/vUsRW5vwJ8u4jcZyJLY4v33wUJ82ah1tvvxb7b7MtLn3kSXx3xzGwbIHXXluEbx8wCf9r+RRVNVV8xsamSN/Jv7OCdpmdKvVxn9iiWhy1XCY6DFhL8MOTfoKpp9+J/Xeshbt2CcZ/8zj8+YGHsefYYfj0g9dw5Mlz8NpTN+MHP/0FNh+zC4785mhc+otZuGP+fN7HzUQrdttlL5x7652Ystd4n9hMTpRc8cTmF32VGhsBFMfaFcuw0ej98cqbL6KpkfQyHQftsy9m3fkPNLQtwqm//Av+8tA9GMGhAkRslDOS0owFE1zqxKj70xFQxKbWQ7EIKGIrFqlc93kUom3A1ig4OY61ix7GtCsX4KY7rsUp39gO+5x1Jc75/pEIxW08tuBJHHns0fh6zQqAHDF0HbqvsUmtbf1qbB1aDHVEbMkIoL2O086eiYN+dBf2G1sDb/XrGL/ncbj78WcxfqsqLPvkVRx8/E1446mbccI5v8Imo5rwy+P3x9QDjsI/n38J4ZABd9UybLz5aFzz0JM4+lu7p2ls/YHY5ISnu/uv/nopNtnuAPz3jeex45bDAc/D1H33wUV3/QsNK1/AqRfejT/Ouxubknla8zhmzyLFVBFbuV8ZP6+IrVdgHBCNKGIrd5pd2sR0dOhAjRtH+2uP4phrHsacO/+IJX+7EcdeeC/O/clRsBwXv5t1OZrvuQcTv7MvF0WpPGKLo47TpkQAczF+dNq5+O4pf8Uhu9bDXv0Wxu85Dc2P/ge7bV2NZZ++gUOO/yNeffJWHP/Tn2Oz0WMx+4wjcM6p5+P5xe/jyCMOx8eLXsQjjz+N3z8wH4fuPR4huHApKwdrbBWuxXQmYvHd/RP4etnn2GLcQXh10TMY0zgccF1M3e+buOjOf2Ljtldx8s9vxy0P34cRngdP92DDREgRW7lfWOp5RWy9BuUG35AitnKnmEKceCPTANfBe6++gKtuvhPXzZmDei2BBx5eiJN/cBxnvZ87dy4OP+IITjTFJi7/jI26sF6Pmth0Jph2TPLgExSUvRY/OetnOPqEMzHh/8aifXkL9vnO93D3Aw9i+1GN+PjD9zD9jAvxxKMP4uzzLkDj5lvinJ9M5+wb3z/xh1jw73/j5pv+iKuuuQ4XX3El9t17TzZP+pm25HjX66BLmHj//HP58q+w8+77YOFTj2PrLTdjh86jphyKi6+8DlZyDX496xrc898L2QAAIABJREFU/Nc7Uc2OIj5zc2qyfjTWEmBZ17cqYlvXiPff9yliK3PuqMgoXa7rSkcQqiQtBGcYiUQi/N9QKIRkMolwOMy/C650YiuzG73+OJE19dkwDCZuir+ji2PvyM2FyNzzYFkWj5F+T/+m+2mM9N94PM5jdhyH7+vvF+FB4w/woPmjv9N46ee0BjaEcVbqPCliq9SZqbx+KWIrc05s205t6rTR0SYebOyBcwhteAGhBQQQkGCZr++zxwPiCog6fROnDb6qqoo3dRo/ETeNMSC9YJOnzgVYENH194uImsZG46VxB5jQ2Gj8gRCgyK1vZloRW9/guiG2qoitF2a1tbUVtbW1qY0u0HSCDY42d/oZbYhBTTb6WSVrbIEG2rWGXEDQAaERfLFYjFEksqOLfkcXkXjwfL+uReevESLyaDTK5BaMlfAgrAK80ue4F5aWaiINAUVsajkUi4AitmKRynEfbXa0aQcbW2COCn4eaC2B5hNoM/1BY0sfcrqpNdBUAjMcEVi6iTUYK/0sIPANQWMLxkJYkGYeaKrBXBIegZZe5rJSj2dBQBGbWhbFIqCIrVik1H0KAYXAekVAEdt6hb9fvVwRW7+aLtVZhcDARUAR28Cd+1JHroitVMTU/QoBhcB6QUAR23qBvV++tCRio7OF0aNH98uBqk4rBBQC/RuBJUuWsOcp/dkQnJH692xUdu+LJjY6GKcDc0VslT2hqncKgQ0VASI2clRSDjob6gz33riKIjZ6XRDXRFpb8Peuwca91y3VkkJAITDQEQi8UInI6A9pasHfBzo2avz5ESia2ALX7cDFO53U6BXKNKCWmkJAIdCbCAR7TBDvmaqGUZHFaXtz5KqtchEomtjoRcFC60pq5XZCPa8QUAgoBPIhsCEF+quZ7nsESiK2vu+OeoNCQCGgEFAIKATKQ0ARW3n4qacVAgoBhYBCoMIQUMRWYROiuqMQUAgoBBQC5SGgiK08/NTTCgGFgEJAIVBhCChiq7AJUd1RCCgEFAIKgfIQUMRWHn7qaYWAQkAhoBCoMAQUsVXYhKjuKAQUAgoBhUB5CChiKw8/9bRCQCGgEFAIVBgCitgqbEJUdxQCCgGFgEKgPAQUsZWHn3paIaAQUAgoBCoMAUVsFTYhqjsKAYWAQkAhUB4CitjKw089rRBQCCgEFAIVhoAitgqbENUdhYBCQCGgECgPAUVs5eGnnlYIKAQUAgqBCkNAEVuFTYjqjkJAIaAQUAiUh4AitvLwU08rBBQCCgGFQIUhoIitwiZEdUchoBBQCCgEykNAEVt5+KmnFQIKAYWAQqDCEFDEVmETorqjEFAIKAQUAuUhoIitPPzU0woBhYBCQCFQYQgoYquwCVHdUQgoBBQCCoHyEFDEVh5+6mmFgEJAIaAQqDAEFLFV2ISo7igEFAIKAYVAeQgoYisPP/W0QkAhoBBQCFQYAorYKmxCVHcUAgoBhYBCoDwEFLGVh596WiGgEFAIKAQqDAFFbBU2Iao7CgGFgEJAIVAeAorYysNPPa0QUAgoBBQCFYaAIrYKmxDVHYWAQkAhoBAoDwFFbOXhp55WCCgEFAIKgQpDoHKJbXEzJky/ETPmPotpTesWtcXNEzD9RnrnDMx9dhoKv34xmidMx40z5uLZrJ1txcKZVwAXzMbEegCtCzHzoJlYyK/I9UwZY6b2+XUTQa/bEC+ao0Xju6wNWjOLxueYgw0EhWzfRd5xZ1ubtB4PwkxagFnWX+vCmThoJjB7vr9efeiyYk6/W4/f6gYyq2oYvYxA6cSWvilTZybOxvwNbAPN9gHzx94yzd805WaBokm3C7EFk1jmRtxJwJ2rggWBRkVsvfydVHZzPV1HJT6Xk9gqGx3VuwGIQM+ILZs2wFIb7fWk4UiJcMGk+Zg9sR5SAmT9pFMLIoKc14KmG2/EjTNmY/bimZgJnyR9CRCYmCk1Lm7GzOWNaJo5E1KhStN2Us8UpwVl7VMeyXRx80w0L27CtNnT0LR4IZoXLQDGz8a0Jl8iZo6X401d6X3qOpZA0u0FDaPbhuNrbJOaZmImAZUhfHT2N10j5TYaZ2PxTKlJdo4lTbrPNoZuH016++nt0M8XoXH2YszktZA+t9n7lPV77CpYpQtXvFE3yrWUoY305N0l9Mmfy/S1mb4WMtZarjWbc47ScMrzXeQe93T+VrqtzRzrr7OvadaKQpizeaPLt8qGic7vPuP96d9FV8E4Yx8ZgDuyGnKvINB7xOYv5CtwAWY3zMtpEqLFzveMX4SZBy3ApPnT0HIQMeJcYPoijE+Z/rJoObzoF/tkJzcref9iNM9cjsm+5liqZJnqk09K2Z4nYlve2ISWhmkYv5x2zQVY1EDEJuehaxvS3NiCaSmiTzNF9pLG1tlMF7OcvxE1sUaZiSOPY7JvYkqT2Fn7W+wLFmmmTCyciXnBOEs2cXaZownTsdgn/3S8cvUp3wrPaYrMtT5KfHfJfeq2NpvRSKY8pGvPUkhomUbzko5N5kjzr99C30X333dbmwXXX/a+5e5Xlj6x4NqA2fyBpP8+97i5W4rYemVjH+iN9IzYgvOhdGlZbu++7b7L2VQXiY+lNyI23usbMI9JqQHzUkQVtNWFDDJMJ2kfS4s8j0u/Cp7NZetTIWKbPA0t8xYBGI9p1P/lk1MaWrfNg7XL4Pd9Y4rMS2xpWnXnhpSpTfHzvgaRfdNK19b8txVhes40kQZrIdeGlrtPPSK2lAZczGaa692QZ6aZCyr/2V0Xs16A5+TlviAXaPJp60Li1F3TCc6ssmpZGSThdzDHu3MKXeuA2DItIrxRpKwvOcc90HdjNf5eQ6BnxJbTMUFuJgvgm+zSyE5KqWmaTW8TW0kmvXTJubu21X2T79wkG+b52hHSiat7G5lEV0nElq4Vd66j3MSWRdPMzziY0Nzon7t21diyvbuABJ/jXYWdR4oltl7qUzdykZrx+EW5iU0OLYcwmGbKyxTScmhsaeu/KzbrQ2PL+c7UfOYed6/tbqqhAYtArxJb6oNCunda+oeYdvbWm8RG5p6U2a+YuczRp5waG90/Dw10vpYm7RbS2IINnsx52bzMWDLvSsg98DDLdcYWeEV2/j6T0NORymVmop83N3Y5OyxEbMGYMsxKuQgsd5/yvSbrxplLo68v9d096FP6u9PN0PTzFNHnajeH4JPNxF1QY+s+1t4ittxklYNsU+PONZO5zKrBWX0x37K6RyHQHYGeEVsWUyRv3gsm+ZK6L401SeeOTrPERMye3YQFmJzXFNmY4WyS5vyQc+PKPKjOdpDddehZ+1QisTEpTV7e6brPL+lqcpHmvrlo7jzbymcK6lNi6xJqkOZUkPv8pIu5rmB4Qtr97BTU4gsEeTSzPGbhnB9t+jOBebRkYsuNR0ZIRi7ni0zJIM0cnmlezO5EkcvJho6ZgnCTTMefbua99HGnmeJTGl43p4+gX91NsMEz3Txt0+c7C+ZSaAscwzL7m9sk3Wnmze5wpYhNkVV5CJRObOW9r188XarzSY8HVaK7dY/fox7sewTUXPY9xuoNCoEiEVDElgWoTkmz2ADtItEObuvrAO0Su6Nu7wUEFLH1AoiqCYVA7yCgiK13cFStKAQUAgoBhUCFIKCIrUImQnVDIaAQUAgoBHoHAUVsvYOjakUhoBBQCCgEKgQBRWwVMhGqGwoBhYBCQCHQOwgoYusdHFUrCgGFgEJAIVAhCChiq5CJUN1QCCgEFAIKgd5BQBFb7+CoWlEIKAQUAgqBCkGgd4ktLT4rewLX7qPOVdQwdWeWBK8yyUKW5LFZQfWzoAQlcXoB+GIDuAvny+uFznQClVbtoIx2S8jgXywO+XuTO50UP5cjE0vvvLsMnPI8WmzfSl0fxWSHKfa765uRq1YVApWBQO8TW7cEyZS+xy/hUe+nvkql3ioChKyBrwU2wyKa7fEtWfqTs+4U78tZKj33+OX5HuxZMuHMFrPjGgSsd6+Y0Bvz0LM21h2uJU5WH66PQmMulShLHJm6XSHQbxDoAbHlznHH+fW6Ehv/bAGaJl2AaROBhQvnoWVBI9dO68wz1zXDR5dyKd3yExa7Gaa1062N9HEUq/1lIY+MJLeZJM6roAQNSG5Mk7IUUk3HI3cewvTCoT1Zgdk2RrmZzkdjc1BHrEvLRWbcyKhvJlUxv4beeCyiRTOpCTNlVdTO4rLZCmvmK3qZr7hlLkAy2utchzzurIVXSxUu0moFZtTo89spYX107VNXQSNb6aTOJNtdvpn0Yp8F83/2ZDWpZxQC6w+BHhBbeme7bPS5iG0eMImqmE0GFrU0oKW5sygob3AZddiklpPKKN8bGluWNgpJv1mnpEA7gebWdcMp9l3y+Sa/CnknLpQUOmuxz26kmr0kTXHLK5+wkC/bfXFCBo2NxxCU+6HqDlyIslHW8EtLmM2FaFOVyHNrkYvGy1JIqStnccucrMZllnCBLLzK+LdM48TdrKVmKbyaVh+9e6MFSb7UAp6ZryjUp+KJrbzCvMWtJ3WXQmD9IdAjYsuetTuHduJvNhc0LsK8FqBx8mTgivQSMF0/9i4lYvqI2PIXc8w+IanNOW0zlaRF1b+n48YZczG/sVlWCE9tzFmqa+eY7+ympC7aKz3rZ3XPqG6dRUAobVllbnaZz+Yv41IMcQfYUX2y5sZpmN0QFGolxT2t5lu3+S6e2PIVt8yKRTdBrBODlh6YkLOtj/T35jIVFmtCzMS5iPI0vVmYt7TFpO5WCKxXBEontnxaQjaNLfi4qLwL719kespHbF0+2L4itpQlSJbdKFhxO2ttrKDESKf5LNvmVmjDC1ZAbmLLXuyz0EZX2srKd0ZXiNhkUc00Ls+qzcxcPp4194aWRVSEHM1cYbx3ia2rUJEXgz4gtlzvT9cGu/ap2PVRaL6L1tio4nxJhXlLW0nqboXA+kagZ8SWtZBkDo1tcWalaVkxuJDGFpzn+OdgPT5j8+EtYCIqVmLOWRg0tUlkOWNjB5IiNv4cxEkjyFXss5vp7Mb0s8pSvUHLMUV2KcKabVWz5t6CSY2TMbFhHmY2L0bTtNmY1pTl7Cdj083er6xzliF0FfNpZXFsSjNFdjN1FmoyxzpjCwdkbcJsV7HrI4PYcjipZBBrGnFnFLstUJi3oKdyIRzU7xUC6xmB0omNTV5+ocCMQpKlEJvUQBrmpRVUJCACAksd6E/E7LmTsGARncVkHKZkmq9yglhkQcWgYGPBych9RhLUeeyu+eUz8XUx+LHzSKYZU96Rq9hnp5ly4uy5mLRgUUaV78wzu4KD4zOmbGbUXIUkucWMc61875BjwNxnMa2RKp4vwKT5pOXlJrZupsX0ecpWaNQXAjprbhZRdihPOyUTWzZzcBZnl0yX/OLXR94jgPTivykHnHTnKSr6uiDzPDFVIDSbQxI6nXgKLx11h0KgohDoAbHl6X8JHl7loVCcw0J578j+dD6TUnZpfF25+2d5e5kaTGH81t88FO7b+rmjX62P9QOReqtCoM8R6H1i8yXHvgoU7ZRai3XR730Mi3GWkMpMLg2s9/vURfeTnoYLi9BYunalBOGkWBz6erSV1n6xuKy/9VFpiKn+KAR6F4HeJbbe7ZtqTSGgEFAIKAQUAiUjoIitZMjUAwoBhYBCQCFQyQgoYqvk2VF9UwgoBBQCCoGSEVDEVjJk6gGFgEJAIaAQqGQEFLFV8uyovikEFAIKAYVAyQgoYisZMvWAQkAhoBBQCFQyAorYKnl2VN8UAgoBhYBCoGQE+i2xrZdYobRSH8XklpTpww7CzDxFTjNjmdIyjJSUDUUmYM6VsqnkVVHyA71RC67kl/bxA2lZO4qei+xdSs+gUty6KWdo5c5FD8adoxhs5ygy+7Ru8SgHy95+NleKwOA9KuFBbyHeM2JLr+VUdCXr3uqyX1W5axLXPPWliiXBgj3MVUTSzy8YpL7itFHZ0wJ2e0XWIN0SgqQL9nmd3FDuZrpOOlniS3JsMgVL0+R+Ta+tw7wjKXcuso27SxJs/tYoO9o0FLfMyyvXk3O4ZcxFiYuhyNvLxUkRW5FAF7ytdGLj3HdBnr/09ruUV8nQIHIV9Uz/ebFZMrJ8JBkFHLNkoi+FKPKRdtZ6bDPRvLgJ02ZPQ9PihWhetAAYHyT3pewfaTkwU3DlKdZK9xTd3852umV6SR9HERpH7sKa66LIaZb1QYl6uV5b59aZXtNtQiohZGZh0pnLG1OFWovJfpOZj7JrEuksVRXybKbpuRyzvbtYYsvVJ06W3BgUZKXUqp0CVO5xZNsD8n2r2TZXymfZjMVN03g+Fi9shlzmtOaJ5LoUiPVfWahPWfEohTR7OBcllw8quk95cErL95r3W+2qKOTaC4reIwpywAZ5Q8nEVlwaoMyPI9cHnZHVvFjpq1BWc/9D67p4it1UMma567tyEBttNi0N0zB+ObHYAiyigprBfpy1vlhnNere0Ni6t1G61J6riGVGzbf0jylf+aISP5Xsc5NeYVtWD0C2Kgnp+PLcL/aT92avtJCva5k4lqixZcxzrioPpecNTe9Txhx1HXdzI+bPnoj6kuvydR1nLmJbjsamFjRMGw+5zNMTbmd5poj10WfEVmAu+pbY8uGUJc1eN6G8izCliK3E3UTeXjKx5SOITAktU5Imqa5bVvOgSkDQ9SLOibLVrpILdRomLZguz7OmteCgLqbK4giZOpIrk352E6gk52lombeIaoRjGlWG5jpjfq3lbsSWmc29b4ite524Qqsj+7x2keypkb4ocppVGPFxugCYd0ULGi9IL1CbY466YF2UMNMl+37nGi2N2Lq+K9s6Lao/gcaelq0/6FPG811K0qQqrBdJbDm/VT4X7qqp+nMxrQVymU8DFYztrMHX/ZnM8a9bU2SuuZi8XNZezLj84sDZfl76mXUhnLIQW0ZZrzQcubTQTGT2dgbmzm9Ec7afF20WLrQTbBi/7xGxNTfOz6gQzVAUkjz8pMCdRT1L1yrka3KXVkmZZrrVgJPPdX78uScvo/ZZQY2tcyFSCR4uc4Iu9ee6ttFFAusrYpMjDIipsJk3N7GtiyKnfm8Xphd9pb7PQ8O0RiwH0LK8AY2+loDmCUitwa6aS5pAU7jOWabZuhyNrfeILXefchFbZrXvIr6rvN9qFmJLrdkGzJuwCOOf7ao9d38mE4/KILbAilKyxlbsXl8Qp+77V8E1pzS2YtHPuK9kYuNim9kOjtMnIOc5XPrEUuXkTpNc0b3PZrLMmPwsZ2wlFPtM/yDZ9JNeIDKrWbFLkc2upJpNY5vQjEaqReZLZZjdRVAo0X6eXxst7kA6t7k4jUTSJokl/rSinNMzipwW8v7KPduZpreZWIRJGE/mr+YrsGDxJFwweyLSN/KMOUrHOmPzzvW+dGzkulkwKZiL0jS2dDyk1u/Psa+4sy2guRhTZO4+5dPYcs9FlrHn/VZzEFuX885MoSG7xlaoT7lNkYE5ucCukOP4otBclExsGSbuPH3KUpuwq3DV7d1pJtuMYrDBulHEVjQ1pN9YOrGlaV6yocDkmGa2mjgbs5sWAJOpkGRgFvNfm6tYJFu5smiC3YaVXfpLN610b6f4Yo6SuOkwHJgxezYWt6Q5MBRJbBNYa0BnQVZ/DOkapXzHDMydCzSnmy4D7ZcVJTozKfAhZS0wWcA5JUuTuTfdnhU5zTgPKrg/pRWcTVsfPKcLJvHZEZFZSsjINUdpP+9cl/lf3rluJmL27CYsQGBGzkNsnZVMU6ZZmqd055Fsbv3FEZsU/qRpLLNPuYitPqWZU3e6F5ztjkDub1Vq+VnOeboRmyTpbua91Px1viNXn7Li4ZuGm4rxLM6Y704zeTFzUdJuWWyfshKbL8xwcd1002LnUU1q3cyYi7loTjPxltRLdXMaAj0itvWNYKZEVrg3xW4oBVsq1sGlYEMFbihRYyv3dX3xfKlz1Ct96NX5KU7TLaXfvbYOS3lpyff2/rhzdSGn01AWbbfkYfTqA6U7IvXq61VjJSPQL4mNRlnsJlG800gR2KVrCsVIlEU0mXlLTwK0S35JHz/gj6GIEINe70ivE5sfrlHmWNKtCX0foF0uqpnanPS07N0rJx7+91VRGFVin3p3OjbI1votsW2Qs6EGpRBQCCgEFAJlI6CIrWwIVQMKAYWAQkAhUEkIKGKrpNlQfVEIKAQUAgqBshFQxFY2hKoBhYBCQCGgEKgkBBSxVdJsqL4oBBQCCgGFQNkIKGIrG0LVgEJAIaAQUAhUEgKK2CppNlRfFAIKAYWAQqBsBBSxlQ2hakAhoBBQCCgEKgkBRWyVNBuqLwoBhYBCQCFQNgKK2MqGUDWgEFAIKAQUApWEgCK2SpoN1ReFgEJAIaAQKBsBRWxlQ6gaUAgoBBQCCoFKQkARWyXNhuqLQkAhoBBQCJSNgCK2siFUDSgEFAIKAYVAJSGgiK2SZkP1RSGgEFAIKATKRkARW9kQqgYUAgoBhYBCoJIQUMRWSbOh+qIQUAgoBBQCZSOgiK1sCFUDCgGFgEJAIVBJCChiq6TZUH1RCCgEFAIKgbIRKInYhBD8wuC/Zb9dNaAQUAgoBLIgoGka/zT4rwJJIVAKAkUTG5EZ/dloq63+n73zgK+jOP74d+/uNTV3qmnBYLBppiSACQRCDxAgxBRTQg29JX9IcEKAYEroLfRQTccQeg0OnUDooUMgmOpu6emVK/v/zN49WXKRZCGbJ2kvkVF5t7f7m7357czOzJLzNThFAlehdAY3VPguBCogpwtADpS34H4IQQZRTJKug+9oNBEuClfLv6BVhEaZr/iTIC0q+UH4VUHoxN+7Md+a35lv43cCzJ2haUPudigDARqXkBQhDq78xbQZgXbQZhzSTmSe50iD5nkOWoGSvivpr7QuN0rbCgdHfp18Nv6MfCL+t3JJhx3zuzD5lUsZTz4hD9ZmhOY5kYqfrVQBtA9RQ9yQmwdqiTRETrN58V3Bu53LYCJtyf1RFH/jaoNxZQSOlr7Fz2+DZeU3ppH43sqYYlzlPtXynfxR+i/4ieRidJLLPMOJMZIvJ8ZaWnQM3nJzjLMZamh+RAUaQg1ZkV6My2zlkMMhLeOqNK/kqZXeybPiy/Vlsih0ShMmk8X0JEr6UpkzLbfMGWEbWKUzck9lUCJjmQ86NPIOlTb9S5NOEGlHKDJAR2aByN68CPFg5XI0kSqjSJmZtaBLZmExmcVpyihdgnJ9jHjKx3dSlCiRMS2l250j1fjH//73v2Z+W3KrRulUd586TWxRFCFfS688lJogZVglMv8RmghidW1eTnfOi7+AscsL6RMYKnO1Q0rujYL4BY9S5v0O3QhHaRztGiVv9IC8sq0VWdJ+i+Js9byY4GLlGpk7HRwtaidmwVAJscVteqKchClkFImylTZFBxp+ShRfTGytfm5FWS0KqIVFEuu2DQaJkpLHJb93VGDo22hzQ7MxscVUL4RRwkGIrS5RegWUzhl9Gikfx4wx0+4sq6wFDElXFKkozwQLQ6AJRi0NzQ9U88f4rspXC7EncjG/F5yST7TgFWvsOf1MFifxIkLkLPNIbo6JoyLzEpCJIrP4MLwvzwkh8MATccrK3jEPNO1U5NvmWcniwk8WFDK0lHxVZFlZj7QZ85zlSKXTxlMRRcniRhHJwk4WNLLCSvpXUkJscz99LvEkKxvt+mglywMPVRmwgOcKfwqxee0SWzzcZEHmlNGqTEQtjhFAgBN5oARB+bnnEdvHH3+M4zjmy14WgYVBoFPEJi+0kFoQBAxddSg1UQ58ZTjM90SxlknJmx1mjWXTdpk+b3dEAZUTyykdOTiyGhdrShoU+8WDohOREdsqclssmEQXxpZMB6OMic1QWGKxCbEJgcQ3ake1WE2G2IybNbYWwqRxVwyUynNEcbYmtuT3MpY2K0rTSaHMOT3UhrQS10qLlmz1TfJRYwHF/ze0JhZlZKxMMV3EPhE9HuBoUYQVlhcw2n/xpTeGA+ZSuC32VkWHV7rcDrgxebS+5nzY9Dvh6JamzIIhIaDWt7UiNkN5WsgtMbmF2ByEzhG1nNXaWGbGoBGZyHwRkjPm2xxiM3JtWSS0tuTijwoO8liZZUJqlT4a6znmk1bXvOMUW7+IT0rHngTfWMsOuVAZkQvxlp2Y2Nqbn4KR6Ysqio/C0KzWsmAQQcSeDqWKeIbY2vN8JIMypOoTOGV8aoRqSRHghnJvORF8zyO2Dz74AM/zDLFZq21h1Lr9bKeJLQxD5Gv5VYeRldWlvIjGhRi/wpG4DLRj3EeJ4bFAdGNrJHG1ydpe3Jzmf+J2iBV2pMUtKd+K4ooVkhBOxXVmnGaGPyoaai5VYnRkaOy1iivSENUcH6BxZYpFF1syMZ1oJWSSWIet3J6RI0Rj7L45xNrKeqtYDBUnpVnJG2AWQDqy0jYsNsf1aBS89DbZyxRLM1QyBlHLsVXmGjs3QonSqnS0rUaeB3dBQOxjcfgZjBMRtVikCRm18bLFLJGQ0pxvK4sLYzlVPmNIX5COGTJ2Kscqu8V1HA8utvjEShFyMPKMcXKMmzR5nhvLWmQjHCafMA7qWETGug6k80kfYoOtlYuzgkBlSgi5GhdyIosWEzZeSxWN1aTF09niWp6HvxMOMcuMiqsUTVpcqFqsuDC2tOU96MAVKY8vGpdlE664PXSGshNRVLEjM6eFeIsocee369JP1mOm2xWLLYvSQreCsYzXTxabHUySKtSFQmyu65ovS2xVKKAq7tJCEZtYbMOGDcdVGt9pMq96KsqgoywzPWWU55AgAOWCu+AXyXh0EhUoL6QowkBsPlmIq0YysmfhN8T7Wsb9FGswUSjiuKu4khxjhojmi62tyhUJaRgiCom09Er+lsILHbxIVn+xZteOWHOxAjCK0SjneA9Meh8FYfw0N6KsQkMvrqjYSJNSnnm0DiMcGWui3GP7UChEFK0BhqmIAAAgAElEQVSQfWyFhEGI4zqVLSljiwRBhOfVGCxi9538WZ5pVgrmp0j2tITctOy3yAdDXEfckR7azxiLpT3dZzCRRYgSehTSNj3DE7BD4YgIx4tdsMlojfUU25itrM7k25YFScXyFaXuakItaIeEBkPZz3RxI7EcxK+WWLUtxBZbtBWiFUttDgFqIlcbvLNClWafTWTmGRxFUvLoksxBtHFjGwvJYN3K1Wv6JZ0OUTJ+Ga/Mp1AZ97ZBW0TkQcG4czW5ysZfQpLJ+iIhdx3v9QUQpjWho0ibLdwQ7cn7EBrcxMZCySKknb0xs2Wo8dQMCFMQ1RJ6mrLjo6IsGeEisVVTHjjtvEcxbZk57smenK7sywkq4ulwiCKZL0J07dmQ1amh3n//fWOxWWKrTvlUc68WmtiGrzzcWGoFCVygSK4cETpZ/udljHNxWBChHFG47W16GwcJQoUpZplgE3Gh5CPZeZtMrRORYxnyZUU6ncUV5Ws0v6KceKuE7+I9lrn9a0JoAVNmT6Ghod449HwimoKAId4SZGVTR/SqbLI4ohqF2EyYSGJ1xP026kRcPFGRyItoJqJgNugdsipHBhe/uURtpjaWrxCDCayIAyZiYosDSnSojZINw8CQaTEsodMFXGoJfGnJJZOKCcfspxkyEoVXMSCMzy3ZfwqJ1FSag2ay3gpI0IdYLO1eRqmLRSFBM7ElHDQVSeXSRLpMMSUouXikTL8liCN297Yltoqh02bvUchH+TSHeZTnUDL9T5EiI0sJnMA1rcaWeGxmC1HH9pignFjAxowpQY1LU1Q0QUVQMC0VJewngoFOXRzok8wB2c+K55CQmtuy/xmUSrgZlyAqEzkhBe2TdwNy1Br3Xk5arQSOyGLJEbnFJBkTUmz9yRrN86BULpPJiN+9DN98QWFoP8qRQ20evFQDYdojL0Qn8S3x8DvwRYrbvkToTKekHIIgS9bNmvns6Gyy31qCTKpdN7P0tuiX0akS+eJMarI1iTM2g9JZMjgEpZBsJt1+f6pUQ1liq1LB9IBuLTyx/WAlIi9lVsyQx4lm88KHL3DtU48zdOhIjt/+YAaqHLJYrqQFzONGaAkkE5OhCbOp5tUwy83zwDsTefbN5yj59Zy036n01xnqccjIalxHBK4Tb62I/hDXYhtjLTDk5GtRrz6vfPgK9z1+H7UDGjh4zDH08waRKnnkYn1qIjtjLWlYroXYKkEqsh72owK+G/Lk28/wxPOTGNhvMAftfhBZnSLrp6nxamICMBZlZWfMOCxjV1kSzyDuN1+X8VWJwPFpimZx56MPssdW+1Pr1JEKIeOFKCVkK/em59xvRiwaPY1PidnOe5T9iJv//haH/mJf6jvaW6+44pwkslOCL/KNeHWK6bqRzwszefTpSfx6+4PIGjqSwJlkPzIJuzbe58oeVatxyR5goEqUHJ+7/nE3b773FpmaGvbdbX+G1i2HG6SocVIxDobxZXyVgB6xb8SCEstHGg2IHJ+p4Wye/c9LTHpxkgmq2O2Xv2L5wcMYFLnURZlKsKvZzIrEv2wstiQq1fwQUQgacVMOxaiZaybdzWvffIZf1hy9+5EsmxnMAJWlVlznxvJMQkZbJlMsO5m/QegbckP5FPRsrp50FS9N/pSG+qX4487H0486VGLr5XxwZcUmQartyERszZKews1P38/Tn71Frqaeo39xBCuxLGk/IkxFyA5bjRKLt50ricgsO9N44rVneOilZ8jTzD5jDmGNgevST4dkfCE18W12tPqpPm1lia36ZNJTerTwxLbCihSzDmmJYqSZxz54koseuoYfr/FjPv3oSxqWHc6fdjqCulab3vMSW6I0JQw7CI2yI9PEPz55kcsevZXVVl+DT6a+w3L9R3H41kczQGsagnhFHqUcY7UZd2TFC1lBWxSj8ilT4OvGrxl34R/YcKMN+To/ja+/ncXpB57DQFWPJwpIlv6OpCaIxpZVchJmHnuozD5XGBUInTJvTn6b0645i9E//glffvUNTlkx7sDfkQ486t1aYy1UXKWyIyaOH6PXEgIwhKB8SqpIIWqmEOa54PFLeP31j7nqpJsZRAO1kYQNyJK9ZGyHgLRR+LHlJGaAfOWYrWcx1X+Dc++7kA8+W4Ybf3sJy3QQPNISUZ5YTY64eoMCTXoG33oFfnPreLJOfy7b8xxqSBvLxSh8Q0YJaVd+NHuSjnHHGqNWlfCdEvc/9yD3PPt31l93A2YXGnn37Q854/izGJxegpxOk6r0sYXY4kAhw3UyHaIA5UYGm7+/9BD3PvMQ66+7LlEU8M/X3+R3R53C2jXL0RBkYotG4MjKFmbcD+OKjE1d/LAAXkizbuKBp+7j6Y9fYamVhxE5WV7+16uc+utTGNZvOerFRq0sjsQXajb6WllsYYjnSZpLgSAscOfLD3Djp4+x1nLrM3XWLP73yWQuOfRclkr1oyHy4v1luVplTcxPEfgUuPmFK/j7iy8zctTaTCt9wbT/ljnjoIsY6AmZFdC6H3XzBLS0bc3sVUfN/OPVe7lj0gOsvOZ6hGmfF19+m/GHXcSwun5kSykcYceet8WGJbaeQiPV18+FJ7aVhjM7VaA+mIXyGvnNXRcxdLPN2XaJ1RlAir1uGc+EPS9mCV03J0xX9juSlX+8t6JpphmHLBmJenR88nzKGbefzYjhW/HTdTakP5M58ILLOfrwCxiZHkhDSawZF51y8ZM4AWNZtArw0EosthLFqInzb7+ElUauwOi1NiYflRh34WmcsN8ZrDlwdWqEPzzJPZI9CSE2sQLifaY5oeqyueMzO5jKpXf9lRU3Wou1VlwLP4y4+MrzOfXw0xjMINN/T0wHpZKgAollNFltLcENsvIXS0ui1vL+bP5wwR+YuVQz3zaWufjQq1jWXYKGsEJsZSLl4ZsAhFgfSf6dklw2snxbmMoJ1+xN7Wr9eP2zZbj54ItZqYN5ZfaKEi4Q9A2BBs3MDKdz0KW/oTS8gajZ4+Yxl5MT96HWxo3VOnhE9jdNWL7EalYSzUx0acBMfyZ3TrqbH/5kQ3LprNllnHD/rYxe/cds9INNqFU5vJZAFHFFxrmEyY5UErwTEoTN+K7PlQ/8jdFbbcZSWUlx0Pz1/jtZdpnh7Lvuz6k3IR5KjDuKiTmTNu7kCrGJxV6kpJsJKPG3iVez09ZbMqRfP4o6x4U3XcfoNX7K5utuSlbLWBPwJIAkDjVt8SOK3Mp+nlRKIoKbuf3xv7PBT7Zl6Zo6mvwSx192Ov93wAmMaBhITeiaOKFmpagxGXYLNtl8mrnmhXP54cjtWKZBPpnn1CtvY89f/ok1Bg6iXzgNp7CkIe72gyLlPcpzz/PXs/RSy7LSSmsQqQLnX38tG626A9tvtKm8YaYZs93Ywy5LbD1MYFXU3YUmtpVXGYbnFAjDDI77DgdcdTb7HHIzo8zuis+J9+/NoRuezlpD1oqDFEwEnx8HTiQBA3F4RNmErYuS9J2ImTRzwoTdOPDnlzO8ZnkGq/+x29/OY4ef7c/eA0eaFX8+laFGFFgIZYlPSZJ4K3tRjSmo1QXCxi/Y+d7xHLPFr9hi2fUJ1DSueng8tWsey17LrE6ORpqdHBlZZZuboyQxSvZbJK8tIq+ayEa1OOEHHHndnzjwkDsYroV0ZvLXR49h4/VPYZ1Bw6nVTSbfLqTexLh4ShKojSppI+bY/Rbv5YQU+dp/mUOuuZUrD7uQ5aOQglNLNpCAC/FC6pa8psiVPbUAL0mgjiKFcqfzUdO9HDnhP1z+6/P4QQcTKub+OC09jj51cWSgGpq9aTz+1STuevphLt79SlJKsuIck9tnAl+MORQTfhz1WDbtxKSXNvmAzZLv7QidNRKS55XiZ4w7+Y/c/OebWDKzBJ6vSLdoVrGM4hCbNqHsJkBIdkcl2Ef+W6bM13xME3+44BLOO/ocVo4GkE4JjUkT8lDpU0v8aQsKcYZeHBEbx102Mr38Ed/oEr+9+m9cuv9FrJwe2PL5QKIwHciYBYDcI4sIB50klMeLMklRCSmEIf1clynBDA6++CR+f8gpjKxbmrqig04FNLlFak3IfXvE5jONGWQYgiq8B7mvOOHmOzh47wtYz8/h6FmEqhZXgkfavTTloEjgTUnerAZmMY1Trj2FHUcfx/orr0N9SuQluaLt5zpWkU5q6YoltmqUSs/o00IT24qrrkqGJoqhR9p7nSOuuIj9Dr2V9ULZ6p/JGfeNYdcNz2bkUuviKYm+EwsmSCKtJSpPqER+o80q3qNowr9noznhmu05eo9bWC27NG7wX/a6/UK22HJvDlpilFlyznAc+kWilMFPxU4jV1yiShRRmtkO1OkifvM0drrvLxzx41+xw5D1UelZXP7wcbgjT2DfZVcj50yjyRlALnBwjQtKGkyb1bEhtjBgtttIbbkB3Lc4+obT2O2AiWxi8tpmc/Yje7PR+ucwashw+qum2G1ZITZn/sTWejpoSuTLT7L7lQ9w2VEXs0LQSMFLkwprzV6bTsWJ5YQeQmyhkgAJ0eLyJSxT4OvSbRx8w9tcfMR5HVpsc4hNUBfayBh3rPBTmJrFP756ktsnPcQ5Y6/EU4rsAokt3ncSWytOSRB5Sj6gWL8lPKbz6gcvcPqD93Hgnoey3tJrMIB60mHrAJek8olxTc5R/tKuEEhkLFP5PuDtb1/kD9dexMH7nMD6S67DoCiHk5ZIUZk7Qvgij44j/sLgW/71+T849fbLOGH/81hniQ3oHykciXJ0lVkkxTTdmtgkDSUOKgoDjSvZFX4e183T6JS44tHbeefDrzjriPEMdMSlKQsGz1jtJtmhxUMxryKQsYa+xnGKqOALLnxmIp9OL3Hi7r+jJpLAlpAaWQiY1IF2N+viojROQOBKjZFvuf31u3n+P9P545jDWCG1DM2hJusJsXW0EVt9CssSW/XJpKf0aKGJbYXhw8lK6R5Z/es3OOrqCzjgkJtZO3BxVCMnTRzLHj85m1WHrGGITUUB3hx/T/zyJ3aLK8nZpsRTnD7wm6t+xmFjb2LlmqGkovfZZ8I1/HSzsew/dD0THTbThQaT0B0bWLFqFGKUdG8J1nZI6RJh01R+ec9f2GfzPdhmuQ3QzOCqB09lwJrHMWaZValV0ym4/Un7Dq5ExDkBKkobV6QoSzcIKHglvEKWVPpDjrl5HDvvdwuj8Al1nosfOpZN1hvHD5dagwYtxCa7Uhmj1CTsOrEl25kDRYrlRxhzxaOcc/TlrBrmCV0fN+oXW2puZMjMCVNxQIsT4iVKVra2HF3gy8LdHHrDy1x8xEWs2GmLTYhNSNhDsBd3nu/NYNKXk7jzqYf4y95XGIstXSG2Svhhi8XWknmR5P8lEaaOhL/PIORb/nLD2Sy31i5svu5W9JfiUr4o1tYhEEmymjEG51W2EqUppFAI8vx+wimM3ngLNl3lJ9RHdeRUHLQe5wrGVqO4pzvKcYr4ipMv/yPb7nIQo5YaZWQtoaSZUHhNSmHFOXXGXWoCSOKMRWMdm+cFRLqAp2YSqM85/ZE7+XR2xMljTmJFE9oUmDbQ9XH5rg6jIkEXQwL3Xa588V7e+DzkxN2OYUhGSmDVkAsU9WEAKUkPaY/YZHOyTFRyKGWnMOHNG5j44tuM23M8a9bVU6dqUcWsmY49sPCI3WPrKSxShf1caGL7wfBhuLJHJUmy+kOOnHgGPx5zJGPclQnKRfa7+zf8eZeLWSG7ZLw/JHk0xr0jSkNyxGS9H++yOUEGFXhoyRPzJnPCjbuz9ebns9byo6jjDfa95gqOGnMKW9csb9xheZfEFSk1/5IgO1m5O+Im8siIIlIBYTSDgyaczNajt2LzldfHjfKcdt2pbLr9Wey45Ipkg5mU0w14vlgSmsjkDQg5SaKtrOTjyDRV9nC8/3LcTSey5R5ns3YmQ0mHnHvz7zhijwsZ6tXTX8YVZszYpA6hqMI5uzQLkniRUvlhdrviCU47+jJGap+0mg3UxQndUQrfK+GKAjakEprSY0LckrqQ1iW+yD/I4Tc+zSVHXMzynSA2sbAkidgsIpRrXMASKxGoGTz9xbPc9Y+HOHvfywyxyepeoiJbh/vHHBc7+eKKiKYgGspPof0QnSvSxFQuvftytt3yKJbvtwzZKCQni5swxEnF/Y/3NOOcwQVZbJK+0Fhu4g+PXsmeo3dirfqVTL6kSse1PY1bV0Wm/yZ1u4N8hyKfcsVt1zF2j1OpiyDj+xQznkk5aZD8QiO7uO1W/sw4KjKIcFNFUHnywVeMv+1U9MC1+NX2x7OUTtMgvgfZXyVNRhYfUkdVIhDbsdgEu+bydMbfPY53My7n7nomQ3UOX0d4KitlHlG6CKk0qt1yUhJN1UQ5mMINT9/A019P5g97XsHKKsAlTUm5ZPIaJUSb6XmbbNZiq0LG6CFdWmhiW2X4IFQw2Kz28fKc+Z/LeODzZ7hh+z/x4ivvcukHL3HH3heyhFgF4ukxbqswUT6VpFwJppAgBJeUFKd1C+TVF9z11gQeec7nd4f+jof+PY5nX/6WKw+9heWSEo+llOQKyf6TRiqBmIA9CcyQ/DbJCpPVshuh/elManqdi266kDOP/ROff/UBF15yHeNPuZdh1FDvlQmcLK4oEClc6wUmj0sUjom0NGNz0YEi8ibzyH8f4qy7HuOK407jjY/e554Hb+Oy395IjQ6lMh8qyMZ5bK5ENEpeWkdpQyWK5af4xRWP8qejL2CEqfDXFNfqEDLzUwQZwSfZl1QSpSiWlkSElskR8GXj0xxz3QNcePQlLNtB8q0JiTAR7fH+VlkS6KXskpadrNm88Pm/mPjEI5y1//k4CbHFSdpzK0OpzBLvgcWBJGkcqX4tBJkOmc63lFRARg8lHSr6GUgjwqAZV3Ky4jLXSZ6WMbfm8EjiijTWUSRkAW+qPD+glv6N4pL1kEpu4qGTuVM0SIuLbd49trnfvZD/0ahTfKuXZkAAQyhSTqfJo2iIAmO9akcIMrkzCSiR5HBJPtc0UvancutLE3kt08iv1z+Cfs5AMibRG7IqXnC5coMjdBkvdBZ0yaLupn+M5550id+O/jXLKZf+upaGcElzizRb0nkyTq59V6RIwS9x7X8u4fGpH3HMFmewgtNMf52jYLL2++OWpjEgXd8jTTZLbD2ERaqwmwtNbMNXWRrKDeQzstr3aW5+h2seu4xbX3sDd4kVufgXf2TDpdaI858rMWatSjOZFzcpZBuX+2kCXYPvZvhf8B4XPXYBk179F4MHr85Je5/JWvUrsEQS+ShllIy7yFTSiGPpVeQZYpO861ziBZRQlGnuNK558gqenHQ//TIDOGifU1l7hS1ZIlS4yidy0obYTJi+J/Fzst2vTdUTJRttrmeKtksy9LfRZ1z8yH08O2kSDYOW4fj9jmLtpUdQ52SEvvGEjESHuwVCE1fYEbH5NBdeYs+L7+aMEy5g2TCk1hMHoTTioUoOOpskVSfKUywscXUWVDOZIOKbGa/wx1vu4y/HnMuQDvZP4spjUVxMXohBgiV0RFpCNVQzz3/yCvc98jinH3oGaZNzpnGNa22uGSs/xzV345MVki0p4Uu8Enkmc9pFp3LQrmeyyrLLGlmZvUJH0jCSoBVTuSUpujkfYgujMq6jmF1qYq+rT+fEnx/Mj5dYzTy3lALJk5byH+b0gzn+6HZfrTD6nJMuPo89j7mQlcw8mUUqVWdsTnH5elKNRPYvKx7TlqoqSUoDjTQ2fcFBlx/Bw4PfJq3LuIU6+gUjuPyAv7JZ7cpk/IgoEzHbcWloN3REwm+msN/1a/LPmdNorhtoSuoMyq/AWbucy04rbUyET6aQwpHBtrs1FqLDNznotpOYOOtdfLfMoGKZXHEQe2/yew4avTP9dZqMkvr+PS/e3xJbFTJGD+nSQhPbqquuigqVqb6PKeLaRD7IU/Lq0DpFjQ816X5xSPYCQBB10ZzESGbIm8oikqMVRCUCV/YziibpV9bWLjXUtEnErmQHJ8d9qKKJoJMyTmlJalYpczJLWQXkKZvcMaGsDLXGtVcnLj1HXFmOqfRgcuO8kKKKj57JyrE7ZgWfQQLvHIkAVTOYJvso5CSWkwHUkJXEXWqMG1ScWFKqyxzlo8RiW/DYY0hCQv05ebU0ru+Sk4K/yiNdCakvqoTYJJlZSndJJKhUk5e6hnnSZQc3ledLlaGOOvp1YLFJfKCsJlxhf6l0IUEyWpxnoQlj91MOgZbRZI1brrIgic2H1kKs1FyUhYWMwiUQS0Wopmk2XulzUw4mzK1G2sskofTy2cBUwhcbMC5JNi+xSZFtKXYrwSPySbEKpyuX2tAhV5YcRpXkrZlCafimQoqkWnSg+81CajpSHrjEQNzIp9YIvca4ECVwJBVJYelkPyuuW2asSkPYpn5oEUc1Mz3Kk3dz1OoiaRMsMoDIqSMjVq65pYwEBqWobdfSCvBNDqGkeHxtyrXlqPXT9Hcz+Gqm8WQ2UkcD6fai/eO6m3o6s/wMQSpDWX2Fikr0U0vhFNJkZcLUSh6eQplktp51WWLrWfKqpt4uNLGtPHx4XJzYJGiHce6XEI9sm/jaVM1XbsVem7/pEgcwSNC/Y9xAcbi+KbxnXGWmApSUfzKuoLhqRXwsTkv2dKx8RF8n94llEChRmykTxSbpBRLunZdwfCdn0o4zYVwQuSCh6coxwQMmOdgJKTmxmzQnextS4cSpMdslXhSQivJmH3CWqqExLLKM04ArpbakeK2pFhKQET8ZJSKpa2iorb1Nf+l4I8ws0fjGK9RvsB66dsnkOJbI7P2Zs8OQBPI0rlTzl1N9XCg4TeSCWgh9ZqQ0GZWmtt39HLGLA2OFecJoYvmlIR8UqHPjUwKkz2ZXxkRKxNGJlSjFtsQmlpLYtnHtF6nmWAxSZMVVmi/x/CknsPqPN6Tfz3bDDxUZzzPl1yQAwnBqpT52i290XlekscZM3qOmrGMXs6scU3hbS6msrCTSJ2XQxGxsG1w533cr0iWc/FTKL76It8E6qLqlUVGNBJ2aKeXiJ1GesjBK5qHYmpGXzG05sqlIEJTIev3nVEEWn7WnKJhqOIqMsYIbQcmZaO24IuPTb+I9QuP2xlSSSUvgkSf7eWmKjkvKid3aC7rkPcr7M3G8OGhF5FdyXVNguZ84Q4pQ7ie1JMtke2D0iCW2aqKKntWXhSa2YcOH44jikfM5pPituLZM1GMeT+eItEu65Z2u1IKICa6lrJLsFyVJuqaKRaI9TeWnpBRXOZAXVeMlhYOTczvn+DeTkk+mXK9xeWkKruQiKSIJzxaClb0416fRD2iQ0leFEjrn0ehImL8yVdTFPSfkWJKtH0NsQiayiq6lpCEdQKZcRnshpXSWQhAyQFbCWogtTSErxFakRg4C1QFyxpbEFbZb6kH6XvLhued46ryT2PwvZ8Bqmxui9tNlUjpNoArGLoEaUuKeNP2EktdMxs9JbjklE5kh5NZ+YIAQmxYLTVIaBJ80FHVAVghYQt7lfnO2mFgn8QQWYjPnYLWy2ESRSn3GjNnnFM0c1+70/GaCD97mpQP2Yq0VlqPftXeg6wbGNTi1uIlVyyEHJmDQxI20DR6Z89rEkZvGD1x2KKRcCo5DnYZMsWyKxEgEoidl2JJjhjoYPoGQ+mfv8+/D9mX4AQdQs8u+4NTE+ZASXatKpBKvQdy5uJJpqRSRTuWIxDozEZNBXDzbVEyR5UscQRka74JE66Ziyy8J1V8gIWnJ05N7XDyTZhLRpJoJVEh/3YCSVYDM60rpt3Y8H6ZOjR/hBk1EmRoKKoWX7MmK50MyYbxUrsMAm2pUW5bYqlEqPaNPC01sqw5fJXYLCaMlBwpLNJdSknCdMXlNKbOiFgASYqvk+VbqBZpDMisH1QgLxtrT1MVvFVNgVrStz0Gr3B/HYLd4yiqHWUpFkkqFi5YajaLUE8tESVXblEvJ5AclUdnGoynBKPHzpeaHfBc76uLDRl2pYyjRl2KBmHQA4b4yuCmTXC4KLyXVS0w+V6VK7xxTwpC/ocu43JaWlb/fxCeHHEj21eeJttmGoWdegS+u1GzZnEEnpKlM21IkeE4dRKkz6ZmK8HGJTRlIRxlKJlFZiMocoaNa0hpMua4wDp6PKylrowDnqfHZgnVkiM2coVeKj9+T2pfZ5sl8cc4ZRPfcSU2+TPqyv1E3eivIDTKbcYaUJajHWLcylji2ce7IwTnPFRebVNMXlzfGmk7rOGlcUh9kDIKJuBJNn5OcOhmGeDljrOMYzDAok3MCGu+8gdLpJ9PYf0lWnPgA0cDlkkCUOILQkJRxO1TC/QUy17jxKkGXoRy2a4JJ4vyyGHd5jrjkk+hY+W0bX+68iiBO1he7Sk5BkLPYfENq4sNIy3nX5gSCOdW9FmyxxefjKjlhAll8SU0ZmcNxWwFFssaTkOTG9Ayd1NJLS2w9TGBV1N2FJrbhw4dXUfersytCi/FxNfHKW2JR/OQMFLF00qGP/uglZhyyP4M//ZJZKwyj3023wwormeotHlmTRC16tppKIcWnuvlonTMeM19KbJan4b3+Au8d9muGNs0gF7h8scU2rHj2eZAdQj5Kkc14KKkR6cmeYSa2tjrOieiUcOMUjcoJ5JK8bc7AxZeTrsOQrOvhfvM+H/96LCu/9h/ChkHMOuEPDPzl7oS5tCmerMMM2nNN3qW9qgcBS2zVI4ue1hNLbItAYrGyNWZQi1UpJyQ7fnIuwaxZ5E/YH++5f5gE5qIEzuz4c3Jnn4yXGYIOUuQzpgJlUjFyEXSyS03KRp8Uc84Yq032wWiaxoy/nEPdQw8wa9qn5oiUWQ1LsvSZZ+OM3pTmTD2BOVNMwj2E1tKkhHk6Dh3tVA/jI2vj6v6Vy5wxJ6aM/KmpGf+e65k5/v8YbPyIWaavvDoDJt6IU7cEupyinEkbQpTgentVDwKW2KpHFj2tJ5bYFoHE4jPZ5uxPxRSE7JQAACAASURBVGe+Sbx6YL5mvPsOkw/bhaXKM6nzshSKmo/6D2Hk7TdTu8zqRG6GgifOUAmF6ahe4CIYwAKbFJdmQEkiOM3hoGX47GOe+vWhbLLWCD584XGGbLsVxdfe47PBS7HJWWdRHLAkBUeCesT1q0x9Tkf2kDoTztiJocXElhzoahhOYn8ilO/HydLlgFf33YnlPnmZXDqDLoRMzjTAcUey+h4Ho706Sp5EyWpqemA9xU5A1GM/Yomtx4rue++4JbZFIYJWARfxOWZCCD6uL+QW8uxfL2f5+iLLb7Qmzx52CKMv+SsfvfQOswtZ1jv2cEpefKJ3SgkVVE/+Ubz7JMniUl1ffirxyesvMLjWo2FAHfcdcTgb7LsfS6/3Q7747EuWGrUhfipH2suaEwNi12ylZEyHyX6dk0zr4BZTqFmeE+DKcUh+xFv33E/w2RuM2nh1nv7db1nv5JNpnlnmo7e/ZqM/jsPPyo6UBCrF+132qh4ELLFVjyx6Wk8ssXW3xEwCecvhZSYoRcpgCSWkIx8l0ZDlELJpmP0Vd4z9OWPuvBMyy8H0NAwoUswpsro+zoTuKDKku/vfTnsStiFfEimalNg3B4Nq1Yxbbubmsfvz070PYKnttoOUBC3IHlZST9IcJGqOPzAJ4h0kRHR+VK2PLUqwloVESoc4ZQkdlbBAOf06z12/2JqfnnM6A0aMhml1UFemXB/hqNo4yb6KsO48AL33k5bYeq9sF/XILLF1N8JJZZS4HmJc+jEupC8FseJqH3GNxhzeN9O5Ze/t2GviRMgum5yWkifISd5Zv/iwzypStsY4Sg6blsRms01WOQi10Mj9Y/Zlo31+xaCdd0GlYktTIkLlqpybJ4n9BbOfNVdtxq7KQVy8JuE7jvYUrCXERRDPSAp5JOH4OdxGn7t//hM2v2A8A0f8WI41MJGtOteM79SSjpLjIrraD3tftyNgia3bIe0zDVpiWwSilkCRuICFSStPyC0uIRwfryl5YCnUVzOZOHZHdp14J7p+KRPa7vkBYUaCT+ITtKuJ2CqWqJBVozIlm/Ek5UvIpdjIo3vszvr778egHceAG7scJU9Mct3SkhOoheg0BaW7jdhiN28cPGLWFElUpATUy2/E0ejoFGqGzwM7bcnoC09nwBob4WdSpMoanSqbM+XMeXdVtIhYBNOyxzVpia3HiaxqOmyJrZtFIbZCXFJZiuKKyRaX3BDLLbZeIpPg7kqC7tezuHePMex8702EAwYRUmdyzeSzxt3Xiaoa3dz9DpqTRGU5By2iEYd+oYsqSxFrjQpncufYXdjkgL1ZYru9TdiLWE2BI0ndHlnt4ia1PIXsuil2JHHzalLG5ZlEoUotzKQ8mSSdu7qEmt3EAzv8gk3OO4WG9dcmcPrhRJ4Rj+Q+mnzxaorTWbyCrcqnWWKrSrH0iE5ZYutmMcXEJtaCKMykXJiYEqZiRSVgQhKQG3GmTOPvY/bk5/feRrl/fzzqzfE7cmUlOMMQW/WEoMcRiMK4cfB+KojrPgZSwDmawS17/oJNDx7LklvthSM1Mw0JiqWawpXctfhgapNYbk5m6AbspUqoSbZvjbUEpLbKkzNHJDVN476f/ZLNzjmd2g3WxlH1+GTNiDKmvFW8/2ev6kHAElv1yKKn9cQS2/cgMSE4X0pcffspD4z5JTtIJYxBcmSJNkf5SAkqcVcaJuyoXtTi7n8S3Fg5Ys9U+hc6bp7Fw7vtwTqH78fS244BL7u4e7bA58lCw2ucysM/24qNz7mIhvU2JvLkzDmp8Rif7u2Ys+qqJwK1asD7Hjtiie17BL+HP9oS2/cgQEtsixd0S2yLF+/uepoltu5Csu+1Y4nte5C5JbbFC7oltsWLd3c9zRJbdyHZ99qxxPY9yNwS2+IF3RLb4sW7u55mia27kOx77Vhi+x5kbolt8YJuiW3x4t1dT7PE1l1I9r12LLF9DzK3xLZ4QbfEtnjx7q6nWWLrLiT7XjuW2L4HmVtiW7ygW2JbvHh319MssXUXkn2vHUts34PMLbEtXtAtsS1evLvraZbYugvJvteOJbZFJPM4mTk+a9kUd5KTuM2zfCKp2i9lt779L/ft8Ut2uvMB9MClTcURSWrWSpK04zw2VZV5bFISLK73FR+DVkLlm3hg9z1Z77C9WWqbMUSmon9cS9Ic3G1OmpYSyl6Sn9dNwFeq+ycnskuf4jRreZbU+veMJNzGqTz4s23Y5OxzaNhgE3PatDmFO/m0SMmc7GqvqkHAElvViKLHdcQS26IQmRQ5dkq4RrEqSqSJQoecD443lWZnEDUlDY2fcfNeu7L3LQ+i65YhzInaz4MOKTkNhgirrcqTlIUMnRBPEpq1gx8FpIR8ZzZx1+GHsNG+u7DklrtSSGeoCxxUoAgyGl/55LQ2pB2VFW46LhL9nS/hL6FNNzKFpgUxN1QEwUy8dIgf9jfllr3mGdy54zZsfebv6bfudoRuGu06uHLigil75kDKEtt3lkc3NmCJrRvB7GNNWWJbFAI3xFZsOUmtoNNo7VAr57HxDU3eUtSKQi1O5fz99+P4ayZAbhBB2sVRAUoUtM6YnlWVwWYqOkNZallKfayoREnlCPyQXDnPwxedyXrbbc+SI3/ErLRDqpChVmzUVCNF18MpetTmQE6TSWXlrLluuOYiNkcsNCHOVJ5CaSrp7FCCkku2PItrxu7Crqf9lv4jtzBH6gSeQoUlUyfSlUoplte6QSDd14Qltu7Dsq+1ZIltUUhcy7E0QmzxKdqlpORvJl8EbwbfhAMZXCP1CQuoUE6iFl9ZhsDLUFbKlA9OhX5sRTjVU+YpPrZGx4WPvRDfLeOEGVzppyoRFL4kpfpTVBmyqRR+EOGl0gRSXjKlKTRPpSE10Jyonfa66QhVwc6coCD1/OVoIM9YiZrZKLfElFm1DGqoQRXyOGompAKKzlKkfJfpvqJOzmMTy7qoyMoZefaqGgQssVWNKHpcRyyxLQqRGWIrtxBb2ZgCinQQoMMpTHOWoSYV4qgyaal6H4nZ4RA4aUoJsaXDckJs1eOMbNnOCkK045jK+EGg8VyHkooIozJ1KuTvN93Ia40u4w4/iFRZih47NIazqMlkOGLPE7n05vNIuY5Uafzu6LciNp0QG75C61k0BdPAWYEa18VVIThNlFVAwEBy+SJ+LkfR9dHlIv3S9d1jQX73EdkWEgQssdmp0FUELLF1Fbn27jPnjvnmWBSlIgmtMHttmaDEN9+8z+a7/JYXn3+M2lSAEwaE4qL0spQiRUr2nsIIVwW4Su7vBuXfbWMMiSI5DzxlSFtJREzsOEWbE0dlbyviw1dfYLqbZfSotQglEEaJVVpGqYDtNtqNic88SG26uw4aTeJsKhab9tAl6c8stFtk5KgduP36W1lz5MoUMj4+Lmnlcf/55/OVHsJex/6c/m4Wt+zhCfb2qhoELLFVjSh6XEcssS0CkWmtiZSclO0Z5R+4EGhFNszz5dcf89OdT+D1fz1CqlTAcYUoMgROhiDSZFMOQegTOIq0ONacalK2IZMmPc7Iddbk2adepn/9YDbffGNef+Xf/O+zr9l40y2pHeDx7cfvMhPFasN/YNySTzz8JBnlM3rzjdnjx3ty+78eod7pJldkYkZq488NUXImTqiInEbkuJqRa27DrTfezpprDSMvwSFKzskLqGtuIkr3p9ELyGqfjDaRO/aqIgQssVWRMHpYVyyxLQKBiUtM4iEdOYgTTehqQ2yZaDZffvUpP935JN596UGIfG6+9goOPOwYVLqGDz/4gMFDlsLLimKWo2skRaBbQiy6Z5Q6YNMfrcPSaw3jrusfYEB6EKeedRJHH3ssNTojR4/y6YyPuf+ys3h30PKcfuj+jBm7FxNv+zton0OOOZTXH/2SJ976OzVuJf3hO3atFbEZ21GILVBEbhMRTYbYrr96AmN23Yqp5YC33/yAocvVc8v4PzEjsxa/+s1O1MvZcn5G4knsVUUIWGKrImH0sK5YYlsEAhNik+M1HTHVxI7wQgI0maiJL776H1v+/CTeffE+rr72Si655m9ccM5Z+FO+5vAjfsfdTzzD8DVWIhXl8dw0SkkoSZVcUSPbjhrJARfdyQ6bjuL2c49hwrNTueaWmxhU+II1V1qTu9/4iNcnXMnLg5fgsl9syQZj9uGvEx9mw7oc995wJcddOYlXn7uH/tlKvtl3HFtybJ1E4LQQm68kcY1A5Rm59nasPmJtjjtiH9569QPOPftvvDl5ErdfchZ+/Wj2OPCnNGiNF6WtxfYdRdHdt1ti625E+057ltgWgayF2ORSCbFFngQsBKR1M5O//IKtd/4/3n7uVtYZ/VNOPu9StttkXWqD6Zx8whm4S27AcSfuR215Bm4mCyq3CHrYxSbDRrZda03Oe/xVhi1dxxtPXsNdLzdx/O9PoH/zZFZaajj3v/Uhb91yDc94Ln/abitOu/YmzrzgEgaVSzTPnsY2O5/AA0/dTL9UN1lscaCmyQRXOgAtJ3XHxFZWzayxznacfe657LDlxpRnhowauSnPfPwE91x/EcWaDdnvV1tTowO8MIWbqiLruIsi6k23WWLrTdJcvGOxxLYo8JbtHtGRxk0mFS0CiCTKUfHZN9PZfqfdefPF21hnzV25/sY7WHe95dF8znU33Mp7by/B6WcdRMQ0sl4NiioitqiZLdZeg0ufeI3VBqd45d4ruefdgCNP+j8GNk9j1WWW5/63PuD126/iqXQ9f/7J2pz9l+s4/ZZbyGgfpn7DFjuezGPPXE1dyiRDfPdLMI5jWJJvQggDyaWgGDmsNWpjJtx8A6PWWI2wHPCjVVbigTc/4OGbL2N2/QgO328HUlIFxpWAGHtVEwKW2KpJGj2rL5bYFoW8KsRm2pYffKJiE062lk+/mcl2O+zMf/71ANttsRe/2u8IfrnntnjZIltstSW77HQk+x+0H9mcLwWrcKpp40eX2HTUKK565FmGDcrw3lN3c/drMzj8xGOob57N2istw53Pv82/7rqOZ5wa/nbUWLb90dZsfuBR/Gr/Pdhpww2YWRzGfz5+mLQpNtYNVxLuP4fYAiK/GSeVphh6rLXextx0/dVssM6aNM1uZJMRq/DQ2x/z6E1XMrVmBX5z0Bh0MW9kY4mtG+TRjU1YYutGMPtYU5bYFoXAE2KLDQnZBPIpN88iVVPLZ9/MYqcdd+W1F5/lXy8+w9i9xrL2uhtQKvtM+uczfPTJRyyxxBKUyiFZCYmvptIjuswWG23AlRMfY9iS/Xn6/lt55N+f8btTTybdPItVV1iOB59/nZfuu423vBQXHnUwbzz/BmOPPIEvp3zKExPv5oTfXsLdT06gIdtNFlIleKSCNSFBqQk3HRPbOqN+yC233szaI1YnKDXzw1VX4bG3P+TBm69iVt1KHLXfrng6oBQqsilLbYvidehqm5bYuoqcvc8SW3fPgbg8R4ualZ+UuOGisqnEMbWpxF+vuYFTf3M8ym3i36++xA3X30N93ZIcf/wx9B8cUQ48PLceTwqPdItZ012DDCkXiyaRvCblEpYaUZl6JA0vKDaZaiLKy+EFZWak0vSLJJcvRT6M0BmHGuWgSopiRpGWbbDu6FaSS9eSPG4iI8smKjXQHqecfSH77rEbw1ZcAb/UzOV/OZV9jz+Fd195jqbMIDZbf21cHeB6aTyvW3rUHaOybQCW2Ow06CoClti6ityC7kv21cSJ2OJrC32UFCSUgsihMknLsnuG00gYhbhOA2EYJyxrbwZBlMNRSXX8btmI6p5BmlKRQiSRTxiCl0oRhT6OBG44HqVSmWzGIyhHkPHiyitlKYAcEKXSSPVLFWhKXlw2rFuGJlWZxS5WxjY2ZynooITjSqEsj7JW6EgTlUuIQZZ2AspuPWkVMFunyEShqf/velUUfdo94urxrVhi6/Ei/N4GYImtu6E3ijY5LkWKxosCN7+TgomYI2ukzHFKYkpU0WSqtdgukYN28yABI3IeTHJ/d3exq+0JccT18+PqI6bEpY6LNmvlmiNiHLFOdQqtAkLlmkr78r3veGa3UEWSfB67IbvFGJVISDlHISE2U7xM+iAyUClkp1KeIzmBypxIUEI7NebYoKJyDMHKKQzx1S1U21V47X1zIWCJzU6JriJgia2ryC3wvgi0KFUvCfoXxZmEokt2m/l9bJ3FVfxF7cqXoQmQmoZa/tvtHfvODcYBiPG5avKvfMkYjJWUOBal0op8L/8tK/DMkTARYUIiWsZn7uumARpic0z78QlxspCQ34kMYqttzu/l2TE1y99iSpTPJ0cEKOuK/M6TpBsbsMTWjWD2saYssXW7wCvEJuo/UbbmkFGxIuQS60LqLCbcpcTCkVMAXNGwc0LWdeIa6yb93z3DnEPaMSnHh6IKwcWHiEqF/ZQhPzdSBCpsOcwzUppUiHFDZuSQUgmK6Y6xGRKTZ8V2lxCbOSvO/CTWYrzAkEfJIa6V34s7uC3hiQlt3ZHdM0+6pxVLbN2DY19sxRJbt0tdlH/smmshtsRlFweViLWgWuVeNaGExKIMuLGShmaI6qvQOyZjCwhUOiGPMqFKE0ph4YQ0ykrcjBGuFqrzDbHJ3+VE8VQYkU951HYrscnxPoogOSm7LbEZe0wqbCXEFruDhdxkDBVejQlPyNYWi+z21+E7NGiJ7TuA18dvXShiC8OQVVddtY9D1tHwJbw/doNJRX+5jLPRRO/FNoUhtpbLR4k7UipmmAATucQaqkaLLR5bpCQspO04Kz/L38xZBhK0YWylCg7a7DUGjouXRDJ2j8UmlpbQUmwdy1XpS2y/idUW/z4OL5F+S5HqOVU4Zb8t/oDdY+todi/Ov3/wwQe4cuSQ66KqKe1lcYJgn9UlBDpNbFEUEQSBJbYuwWxvsghYBBYWASE2z/NwHMcS28KC18c/3yliE4yE2ORLrLbK93I8S+WyK6o+PpPs8C0C3xEB0SeiR4TI5Esstcr337Fpe3sfQ6DTxCaTzpwzFkXmv61JzXhxrKugj00dO1yLQPciUNEpoksqBFf5vnufZFvr7Qh0mtgEiMrEm5vUejtIdnwWAYvA4kWgslC2C+bFi3tvedpCEVtvGbQdh0XAImARsAj0XgQssfVe2dqRWQQsAhaBPomAJbY+KXY7aIuARcAi0HsRsMTWe2VrR2YRsAhYBPokApbY+qTY7aAtAhYBi0DvRcASW++VrR2ZRcAiYBHokwhYYuuTYreDtghYBCwCvRcBS2y9V7Z2ZBYBi4BFoE8iYImtT4rdDtoiYBGwCPReBCyx9V7Z2pFZBCwCFoE+iYAltj4pdjtoi4BFwCLQexGwxNZ7ZWtHZhGwCFgE+iQCltj6pNjtoC0CFgGLQO9FwBJb75WtHZlFwCJgEeiTCFhi65Nit4O2CFgELAK9FwFLbL1XtnZkFgGLgEWgTyJgia1Pit0O2iJgEbAI9F4ELLH1XtnakVkELAIWgT6JgCW2Pil2O2iLgEXAItB7EbDE1ntla0dmEbAIWAT6JAKW2Pqk2O2gLQIWAYtA70XAElvvla0dmUXAImAR6JMIWGLrk2K3g7YIWAQsAr0XAUtsvVe2dmQWAYuARaBPImCJrU+K3Q7aImARsAj0XgQssfVe2dqRWQQsAhaBPomAJbY+KXY7aIuARcAi0HsRsMTWe2VrR2YRsAhYBPokApbY+qTY7aAtAhYBi0DvRcASW++VrR2ZRcAiYBHokwhYYuuTYreDtghYBCwCvRcBS2y9V7Z2ZBYBi4BFoE8iYImtT4rdDtoiYBGwCPReBCyx9V7Z2pFZBCwCFoE+iYAltj4pdjtoi4BFwCLQexGwxNZ7ZWtHZhGwCFgE+iQCltj6pNjtoC0CFgGLQO9FwBJb75WtHZlFwCJgEeiTCFhi65Nit4O2CFgELAK9FwFLbL1XtnZkFgGLgEWgTyJgia1Pit0O2iJgEbAI9F4ELLH1XtnakVkELAIWgT6JgCW2Pil2O2iLgEXAItB7EbDE1ntla0dmEbAIWAT6JAKW2Pqk2O2gLQIWAYtA70XAElvvla0dmUXAImAR6JMIWGLrk2K3g7YIWAQsAr0XgR5LbO9M2ITXRj3L2BHtC2f2P8dxNicyfrOG7y7FdyawySGXm3YOu6rjZ8Ns/jlue8YxnofGb8b8etC2f+8wYZNDME/YbMH3tB1Ics9hV/FsR2B0AYH2cV7AswWn10Ytkv50PISO8BCZnA0njqc7pkTH/bGfsAhYBBY3Al0jtlYKHjZj/EOLWUnMT3HO/ifjth/HP+dDCJ0lwQ7Bn89zhZi2nzw2UeKxUqVTpBc/bb7EK2Mxunf+ZNhhP7vxA13CbpESW7xYmDw2WViYuSiQj6WDNU6CiiW2bpwetimLQFUisPDEZgjkMbaeh8wS6+SfyTjbWBCtLJE2RNj694d1UjnJPa8xqrUiqxDB2MlsP2HovNbRwhBFe6Q9H4X9zoRxTHhnBGPHj2XEO/9kwmuPwajxjB3RCo95rKnW4xbj7KG2FmWn+zunnXnaaD2Ojqy/dyYwbsqObfog45qy43iG3L8Jrw0dzzvjxiGinWOpzu/Zc80BMxVaLXxa96nLFuY7TBg3gXdGjGX82BG8888JxJALsXUSj7kXYwvCu9NyqMp323bKItBnEVhoYuuca6/tqnhBq/6K8jQuoc6u8tv7nPxtfsRmmu+c67LNTJj7WQsgtilDRzB5yFhGTRHV/xivDRFiS1qa5562Fkd3WGzztjEf8m9viosCv38I48fChHFT2HH8KF4bdz9DzC824ZB3ErfoAizWeVy985WREJK0HVuhXZKHGUPcztARkxkydhQx5K+ZvlYgnwcPsxibzFizGJqPxWaJrc8qQDvw3onAQhNbewrJuOXGVUy2eVfqba2KtlaLgbcTq3h5xv2tiaO1XNohts4RcqI4K/tcc/dpQcS241gm3/8aMIqxo15ra/3Mc09bBb9oiC0mjkMu76SbuEJs0vcJQxk7fgivJSQ0ufWCYD4EMN/+z4/Y2ljCsdA6t08594uX4Dd2MjHkYxn1WmxdVvbM5ulTG4u0FbGRuK/bPOIwrnpoKBPErT337zvt7uydysKOyiLQUxDoErFNGDqX60xG29GqONlPEuKLFdpCWhUJou0SVAfEtkBCbCUtIYSW8XVosc1RksZlJ8EszOXWm7uNuchhURFbPKSKa7AjN29MFqO2BoZM5jVGwYTYuupWYuuOgJIW/IZwf+KSJnGbLojY2mJsLbaeopxsPy0CXUVgoYnNuAznt1nfWmEvcB+udbAEbYMAOjuCLrsi267qF/S41hapsXpoFW04X7di7LJrCVyYe79qfhbbJhMYKnuUicVAl/fYEvpqN/KzM8ES8pn7mbz1UHbcbAj3t97D6orFNj/XXpuFz7zox9Y+HQcitbhN54SKtHFpzy8gp9WCh/k9x7oiO/v22c9ZBHoEAgtPbK0sr3iEFXdXq8CBzcYzfsRjkLiHYrdYgkfrQIZKJGPLn+ZjCc4D4/wsvXndmm3dXG3df+1KpnVI//jxvDNZ9p4SJdpJYotD3WV7KgndTx7Y0qeWZxzGVVeJcdQ2cMNYv52JipwLvzmy6CA4ZT4AzCHxoWbB8djWsSzauJ7nWby0dte1dnu2DiKZ8/sFuqpbLP5xjOgoonS+xJZYy0Pndi3OeXbLHDzsKq5iQhvXZY94U20nLQIWgU4j0CVi63Tri+iDbUPsO35I1wMV5mq7swEuHXep/U90lti+63Oq6n4h48SS7YaUw6oamu2MRcAisFgR6JHEJgh1lqw6HzTSCdxbW3MdWRadaG7ej3QlQbtLD6qqmyqWXNeCSapqKLYzFgGLQBUg0GOJrQqws12wCFgELAIWgSpEwBJbFQrFdskiYBGwCFgEuo6AJbauY2fvtAhYBCwCFoEqRMASWxUKxXbJImARsAhYBLqOgCW2rmNn77QIWAQsAhaBKkTAElsVCsV2ySJgEbAIWAS6joAltq5jZ++0CFgELAIWgSpEwBJbFQrFdskiYBGwCFgEuo6AJbauY2fvtAhYBCwCFoEqRMASWxUKxXbJImARsAhYBLqOgCW2rmNn77QIWAQsAhaBKkTAElsVCsV2ySJgEbAIWAS6joAltq5jZ++0CFgELAIWgSpEwBJbFQrFdskiYBGwCFgEuo6AJbauY2fvtAhYBCwCFoEqRMASWxUKxXbJImARsAhYBLqOgCW2rmNn77QIWAQsAhaBKkTAElsVCsV2ySJgEbAIWAS6joAltq5jZ++0CFgELAIWgSpEYKGITWtthlD5bxWOx3bJImAR6AUIKKXMKCr/7QVDskNYjAh0mtiEzORrpZVWWozds4+yCFgE+ioC//3vfw2xWXLrqzOg6+PuNLFFUYR8rbzyyl1/mr3TImARsAh0EoGPP/4Yx3HMl70sAguDQKeITSw1IbUgCFh11VUXpn37WYuARcAi0CUEPvjgAzzPM8RmrbYuQdhnb+o0sYVhiHxZYuuzc8UO3CKwWBEQYnNd13xZYlus0Pf4hy0UsYnFNnz48B4/aDsAi4BFoPoReP/9943FZomt+mVVbT20xFZtErH9sQhYBAwCltjsROgqApbYuoqcvc8iYBFYpAhYYluk8Pbqxi2x9Wrx2sFZBHouApbYeq7svu+eW2L7viVgn28RsAjMFwFLbHZidBWBLhCbJGg7aO1KXYDk/2XQaXQIytGgypRVkRn4lKllCbKkQ8CVj/uERKBTOMqVFtq/NGh8mtUMmimiGEyOHOkoQCkPT9oKHXCUdKvdS+qm+DrOx3PdZvLMJKSOOt2flFQ68DWR5xAqSMejW/AljcWFWNBKo1WZEkXKONRSgxu2ClGWhjoYaAREkTYfE1RCP0B5syg5GcqqjpygHmlcR3XUVNwvg1sIzhSa6I8mS72IRhLtnShpQ57WcY6Q4KUIzTibVYCPokZnSaFwS44XCwAAIABJREFURK5yxR3vUJjayF4bmYbKZzYBKVxqqceJHOkxvhORxelwnAFllAY3TMs/+KqJPGV8MtQYKTjIZ1xSOB2O00iAKHRwtMwBn5JbJE9IKPMNj/5ax+2o9jET+COtcZH3Qia93FMkIE+jmVk11OgUmQpu7c4zEWREpBwipZDXS74iFRGomUir0EBWZ0nL70Xq8i4gz0+ka+apMvLDYKbM+xrPXfk3QMnYKVJQ8s5mqdU1OFJpyJGWpFWZdyIT+Tfug5lkSYWQjiTflb9bYusKavYeM9v1XPWxPvvss3mQkY9IqH8cFbms0WBay2spUzxCqzxOVI8ug0r5lNW3TPpsEn++7ypq+q3GRXudwg+8pXCNPmg2yoswS0rCeDuSgw7Q4QzunXIvVzx4Hblgdc489DKG6jQ5rfFURFTQOBlRbp0htoBAl3j9iyc5f+LZzFb9OGGnU9lkxfXI+IqSUgQe1HbERfJii05xoBQVcFPNTGUqFz18G0du9muW8ZZECUN6xF8dDNSoHF+TNuSviCIhpf9w3sMPseHWv2FUyiMbEhNbR6BF4Jd8yJSJouf5452vccieJ7CSkEAUErlRQhtGRXUkASIdoqKAvG7ks/Bb/nzTJVx+4GXUaIeMnxC8YJ/qqCkhtJAonE3ZmcW5913MS//7CLcMpxx4HqvkVsZNK4oqoMHQXfsDLZNHRZqUX0eQns7Vz1/NI2/9g2KQ4dhdT+THy/wQh6KhObejySEEFpXwSZMtOTRnpvLXp6/lsbefZ2bR4f/2OIntlh1FjZBkBwKoEJvDLFS5Fh36hDXfcMVjF3P/2/+hvn5FjtjpOH60xOrUdCRLIRcdEiqHQDl4RoYRzUzjikkX8NSbz5Niac499nKWDetxXfmc0FRoxOFpoSRhJwftCP75mJSCOjMnA/POzEYxk4f//SCXPngLesDSHLzl0Wyx+miyKsKRd1AqgJgW43/dUBYC8k3H86ejWbGgv1ti6ypy9r4uENsPhJXQsvLUshIVC6gZV9cJx4E7nWe+eoJxf7+MPdfenkLhax559TMuO/Yalk8PJIg0OXnVyoki7GiVrxt54737OOzJu9hq/W1RX7/Pu19+xe8OvIZRpPEdTegJwbmI/dbuJTrC9/m8+SVOvO5c1hy9NaFu5Pn3XuTUnS5lrf7Lki75OJ4CVximHa0jCicM8HVI5Gny/pdc9+jfmPjOy1x3xJUMq1mRIIS0J6AITh1oMF8sT4hSATPCAn6qhlufOok7X3ydM056iI0iTaaUgkzHlmmIj9gaswvTufjG3Xm9cVX+8tsJrKYhFUVoV6OiBPgOrdyIQlAg58GU/LeMu+10PspP59aj7qDeWFoyHcRyF8w6NNgIyiFKfcbf/n0l1777HPusvgeznBncOOkZzt39NLZaYW1cQlxVk9gGC25TRxHIAsCdweVPnsud0z9iq+U2JKe/5vF/v8yBu57HdkuvT06J9dzB1JB2tOYbJ2LJcBp/ePpkPvp6FpsP+zGO+y33PPMch+x+FT9dehgNHekNEbkPxXQedA2psJE7nr+U2yb/g58M25gCX3Pvx99w6s/Gs12/NTqasmb9JJg4WqxmsQOL3PDkOO77/EM2GLkFYfkjnnjhEU7Z/wlGD1qZmqI2Lgd5N8RISxkOcii78q8samQx4sirS+SWaORT7n39Gh54+SV+tMbu5NOzmPjWY4z72bVsPWRlBgRlCMQr4hGmxWpVqFCWpxG4Ha5mOkJrgX+3xNZl6Pr8jQtPbKsMB+WjjTtGvjRalEKYipWH9y4nP3gBxdU35o8r7QLRB+x/56n8fL0j2G2V7XB9SIuelxVfKlGI7YghYgpn33kYM/ptw1FbH8CS+l1OnHAGP/jZMewz4IfUlZqIjJmTIt2RySAr36iRM//xZ5qiOg7b5vcU+ZjbJp1DlNqVI0fvxOCw2bhlcGo7IKPYZCtGPo3lPOdeMg5/YImnG7/k+kOuYNXcisYFFQXNZDxD5e1PNl9YLaDklJjulPnjNRdS9F5hSrqBX405n10zA8g0ZyDjdUggPgUmlz/h9AtPY5llP+HNwghOOugG1taQFTKQEkWilzphsInbuCmYDWGBE0//LaUVHd5v/Jo7jrmfeqWoNS4vsQgkibZjk7k4pUA0cDLnT/wru+z8O5ZLa2aS5/YPbif/xWCO+8kh9GsOoMbr0MoVyMKmEtmaEhc+/idGbnwga/RfHo/3ufe9Z3j5E5dLtj6GTOI1b1cAkYZCRJR1mV58g3PuvZGfb7M/IwcvQ8CH3PbMDbzz+Y84fa/9GNCR2pC5XYqYlvOoEVKKvuH6R/7G+pvszHINA8ipb9n57tP52Wq/4LiRu3diMSaLwG/kpUHrpcmrPFc/eTE7bLg9/WpWRKt3OfeeUxi45gkcMmwLBjcDYvm6ImRFVlz1CoquUFG8J+AK90XisilRcr/m5kmPM2jpIWw4fE0y1HLue7/n239vwJl7H8aAoIQbpWKrLx0QKg9NgEuAQ7YjNLr8d0tsXYauz9+48MQ2bDg44ppINs1iJzzad1BegHae4/gbL2OT3a9ih3Q/inoWf3l+f5au35axa/yaAbIPlwqIKMQvhWp/xdfMFI69Yy/23OJCRg8eiZf/kDs+eoB7CRi/9jEsrx1cHaAc2fHpyGQoUyh/zIEPXcq6y2/KoaN2Jau+5bn3r+Pcl7JcvO9vWUHnE1eT7Gq1t8yXDQ1xu0JJ+zTO/h+z01PZ7erTueXgq1i9ZnkCWS2reI+nQ2KT1bj28VVAky7z7pefsvxSjRxz41858oDrGYVP/6g2Jo8OrI+yLjAt+IIZ+Wlkal/m2Ote4NRDJjBCa7KyvyUWjKziO7HFJsSW13m8wOd/Mz/hM/drTrnxfO485kHqlaZWRmYsdw+nA/zFpS07rAQlIl/jZWsInYApTf9kzCXnc/Iv/8xWS66PznVsMMub2xyWyeoUenYRPcBHFVOoTJYPS+9z9i2Xs+MWv2aHFUfEy52OXH5mc08WZiKHmUT0o1B2oLbAFN7ivGsuYueN/8CmI0aaXbIOSTKAfPJgN5yF68o+VT+8AoTprzjyrvPZZPUt2Wft7TokNuMJUQGRI7vMHgH/z955wNlVlH//e9q9d1t6QkgRSCDBIJBQ/9IFREBAKaFFegdpIiIEUIEAkV4k9BIJVZoUeUFRBCmCBFAivRlCSM+W206Z9/PMuTfZTXb37t7spuydy2fJlnPmzPyeOc/vaTOToFrIJl+FCi385Odc8PQFjN7yLPYfNo4+4rG5kLEjbMsmKR41kHXjWIutv3wSkY2Vd1GBwpcAjGXhqgDbmsWU139Fev5eHPWjA6hTEqB1tNemXAmLitcoxBaRLI1GKbSMx1Y2QubGthDoPLGNHC0mKMoSLVAw+ZWDCsByxJP7G+fcdSv7TZjKlnaKrJvnoU9+ytzZozhu67Ppl4WoJiJv5UhYiZLKMMM8Tr7nQE744Y1s3Ovb1NjzeODtB3nCX8T1W0+kX9Hpi1QHNkvNkw4+5pBHprDbRntz/Ia74qlv+PuMu7lmRh1XHPJT1stncBwJ9yVLhyIVZEMf5dnY0QLm575i11su4PfHTWFs9fBCBUcexxYN177HllMhgaW02hJ7WIl1bL3NGbffwgHH3sgmOFKCE4dxS8xnsabFa/NJU59/hjPueoXzTriN0VJCoqTIwsIRD0sfC1JCR2vbXPI14p028OrcN7nkgeu5/7THqLEsJGCow5o63Nd+Y6La00Sksj4S7Q2dxbyz6B0mP3Q/48Z+j6O2OZi+oYNrp7EsTZkl+MPXKjpSomLzJIN5fOF+zem3TWHrsbtx/Jb7auJN2jLW9vsWKu1koax6anwJM9cQpBbzUfYdzr7zGvbZ+mAO2uIgeuGWxEwX70Qhyl5MQG/swMaxJLvYRECaF794nlsf/SuTT76SkTWx/9c81d0cR2lKm5A6nBjh23FgMpHNQ8ZFVaf54+dPc8OzD3P10bewQd1AkqEiEnxtMTqsQigSfBGTrgcR67JJF8JEQbUuvpLIekCO0Gvkk2+e5+o/PsZph9zIqJr+VOvkuaONx0DCm4JlFEo5CrZdIvy/ArrXeGwrAF6F39p5YtMemxBbMZYlk1zy2za2xBntf/Kz265i38PvZVuqUG6GK149kaS1Hcd+93hq00Js8hJFJHRCun2F4zOXc+8+jB//+CbG9B5B3+BLHvvvn3j06wXctuu5VPkQJuPqrtKvmE/Gn8kxj13Bthv8gBPG7oOj5vHmR9OY/IrH1UeewnAJSVmSByqVY4s1jigQedldGpnX+CU73nEB9x9/M2MTg2ItIjjp3cnbV9KSchSVlVSRzqcQOuC+w1lTprD/STexoSho5ZDqQCpLW/hid3gZFvtP8tNbX+S8U3/HSCWZ0UB7mVICsKRqrp2XIC6EiAsWQquB1+a8waT7rufeMx6mxvZI6gviUFcpxhXlmdOXZfFoJGQWv3nhN6T7H8/Px+6sQ1tSNTtQZYD+2gts9yP7l6qQRldMgZBe6hPOf34y7sDNOXLc8fQlR42qiyPeJV70DIpGoE7lSflZlFdF3vovVzx9Md6oH3HkBgdgRyF97KoCcu01KF5fFmU1QG4gduCgPJ8Fibd4dsaL3P7YI0w6+R426Tua2mY9K5LbssQmnr8rBTy66spBuZGuwLXVXF749M9c9cQTnH/W9Xw3HCImETgJnfsVMqxqRjzyN0smrPYAfSLHJyvvoLJIqIDIWsw7s9/iwgevZ789LmTvUdvRP8yLE6uJVyWlQtfS1ZxWXuKYMsdKmVnla1hDbOVjV+l3rgCxCXSFSa2EXTytyJX1LmfdPZkfHnojO9IXOzGTC1/8Hd+q3YrDt9gPW+VxLKlRy4GVwCpBRxHzufCuw/nO7hex1dobMTT6hLte/gOf1nyH34zdXxObxJpEt+oq53aVdERTuIhfPv4Lxo7cnoM2PZQqvuGFf03lmXcGcP7Rx1OjAlxbehWXNrf5KVRFShQutBVOlGHB4i/4v99fyEPHTWGcN6BgHneM2ApnuMYV1EJswtTOu5x2880cfOJNbALUFAiklJelTXxhkESedPgsp9z8Ar88/VrWlxJ0FeBrsXWM2LQ3IQa+hJvtBl6f808uvfcG7j3jQaocD08DUJgKpSLBglkO6hMBSTIk8//jzN9fwl47XcbYEWvjOBk85VHjpzqUfxXyluBm1svhq1qq0jP52QNXs882+7Pd+pvQ6EX0jnpLuqkks4l/K4ZFXdoDNyJ0LQL7E35zx7nsf8AUxtX2pdEJdUguVTLk7UtmUtN3KlOjQ39R6mvuee1mHn/vQ84/YDLr9RlKL+w4xFf4tEZsGn+dC8tAIG5YimwKPrMX8uTfLuTlNz7hohNuY1Tt2iSzaayqBDnLIVARKUvks3QGS9m+ntGSc5Mp5inytlQpf43Q9UvT/8JNzz3AgYdfwXfX3pQaJaHmABX4+tGWW6VbkFCsI2BJPNtURVY6h6yW4+88sY2STZAlqBTn1uJ4VhMqrNaWn+V8w50vT+Vv9fM4Z48TyKW/4txbbuX8g89lq6Eb6HJjWVUkoTDE9itllVPP7/9yOffP/4rJB1yAv3gGVz30AIcfej07VPXCc1xZwhSHh0q8ZNLretXIX/5zL3/65wv8/Jhf46k0k6dex8FbnMXYDcfhOgpXRVSVWmNXiBEJ14QSQoyaWLjoC8Y9cAEPH30zWy3x2GICL+nOiBUtbUpJtiXBP6lfe5fTb5/ChGN/xzgsakI3bqaU+yEedCCKK0tj/ml+euvfOO/UG9hAE1tIJEsGCqHIkm0VFasu7qzn1Tn/ZNJ91zHt9IepchwSEobWVkXpsKYeXw7yiTjXk4pyhHYGJ98XErLiLINSNaSEebVbUMJQEeUq6xnFpfCTmgAWpiK8IKJGRQReA3bYH7cDxSOKrHbBrSYpGoqXeWXdBUQqgxsNwQ0tQs/XSxCcUnNWjnlCkSNNIqjGdmbx7IzbmPrV+xy53WSGV9dSS5K+VopaJaHN9nO5SuWxpEDLT+n8aGOiiXvfvZSp/5nOZT++ktHVa5FSLr7lUqMskpI7c5Kx0y791R6aIpBIi1RFSl5awsdikEjOzJ7Dyx/9gcf+/io/Gn8+fXrVsrb49GqoXveYtGPPOGlJILw4k2WGihYoHScpV/MZj61c5Mx9nSe20XLQqIUqlouLEakW4lq99KIYZWf4IvsGx91zAu9Y35BPr83R6x7Ar/Y/j6RySZKXYm5cWVRbOkInKW++WPQWxz18Cl8480jPGsjBmxzFOT88nN6Oh6Mi/NAl4aZK6cF4mYJarPNPp956Ai81/os5yb7sNHgvJh9wLuuo3jiRRV5FJLU2bN//IxRlYYlNS1LVs2Dxl2x6/4U8dNTv+L/UECwdOxKFKQqh/fYkTKRDRTpOJCUb8t27nHbbzRx67I2MtWyqVQJJ/5X6SDvSp5A0DfmnOP32v3L+ybcwWohNr4/TVQQdwn9JKFJJ+LmeV795nUn3X8u9pz9ClS1hKRelXF14UAoxnchJZ/FTIRk7pUOil95wBIfs/SvGrdOfSGfsqnCDCEuScCVcUwnfWmGAF4WSbsLK1fOTqRez/y57ceCILbCjBFZYg07olYiYSXBPezRRFXk70KURHh/x6ynnsvP4G9i+9+B4qbYbE9ESMRSMu6JjpH8v3m0g6/19Eol5fBXM4NipZ/GP/Dd4jkX/XIjlbMoxGx/NmVvvj+d5S3Jsy5KczAbpmQSqk0pyuT6B8zFH/f4A/hHMZFa2F1VBFX3z1ey/9Wmcv91h9JZkmu2S02O2SOoQpiInhTGyQBsXRyXiEKPtM9/6ksNvO4H3oo9o8JoI0j5VocVOdedz3dE/Z2CYwVF6VZwuHoksR69ts/SCb1PuX+p9NH9f+QiUQWzrF3Yeaa5hc/GyTSl4EPKwG/k6P5NP6+cAfdm4/0hqLNnJQKer9f1694MOhIhEA4dkmeN/xWeLZuEwiA0GjKK3Japf6pclW+fi6AKBUp8IsX7ldVzsz+PjhZ/TaFUxos8G9EvIbguuzkFYEtMs2ZgUeIAvuT2poM8pMomF/HP+IsYMGERfO4kl7ZEGbekuVftaH8Q6R3/ijULiX0pCfsmWJizi83kL6dV/PerkOcopGW6N29P7e+gwnYq+4dP5PoMHjqBOds7QilhckqK3XZK+C45kvFtIfVDPrAVzGDloNK4VFxLE+6WU3ttD90wW+9JEFKWwwhRfzfmQfv36U1UtrddpV8kTr0KKUUoIQa+Pj8QDUfiOjC3PBwvn0Ku6hrWTdTjKjXf+6Ig8pXokgrQni59lrxGParWAr+Z9it1vLL1sCUFmdB2gbQkxLJ0iStZy6t7GO4NoYit435bVRDqq579zvqRRCi/sLG4oRsIAhlYPY52afpoo2wxDFnKvIlGZQRJKxqrnw3kfsDBK0yTr/SyHZOQwoHpd1qntR1IDE++gs6RPekcSkbXkMUX+EmyPd6fJ0cQH87+kQdWTi5pIyNo0ZdPHGs3I/mtRLa6w3q1EwuPSd3l/Czm2UhZDqVeynb8bj20FwKvwW8sgNnMe2xI2kgWuukBEYeclVCUWv439zccECRd74Doo2SbLFsJfWuPXGrE147keOyUL+46ggjReaPPxIy8w4Dtj6PPtwShXSmYSWmnKTieJUqHgrkapUL2Trs7pTbjqlIMjBRJhhlzDQpxUFU51gsCt0YukJXel5aj1/TLEVgnC7Gr8W2nPENtKALmHPsIQW7mC1XtgiUOgCNy83rPSSldB4PPJ5LOpGrUOQw4+Bj/shdtsSVxJR7Dc/qwJ9+n9K6VgM4s3833+ftxJrLfdjgz/+fkETo3OBwmemShHVYdCy104aPFyQsglA73Dh4TKdSQ508BrV57HkI03ZvheR0K1kG/BMys8XhyZJcsCl/HGu7CHFdeUIbaKE3mXDdgQW7lQ6uRTXGDmWxnZ3Au7oRfh3A/57PAfYa/dmxF3PAypYXGOp0Nh13I7s4bcVyy4sRpIT7sGa/KlLKrrw5B7n4V1N41L0a08QRTgJkstkO/aMUvoUMgpsCKSceUNssI++HwGM47em36DhzD09mehthZL4pCFEJzmsWbWyrLeeNf2srJaM8RWWfLuytEaYisTzQKvFUoOfKolL5RRNF37C6K77iHv5Kk9/wK8A87G9gp7VRRzaoV/WxQgVEL4SrNHBJ//l1knj2fwp+8jK9YWTTiNoedcjvJSWPlcXOrvJkoWj5QpulZvkwIN6YtkQ5M6xAy2v4C5V5xP6p5byNkJkr++lrofTwAvqXNYstu+zhfHRYdF/63wQ/et7+rKca/ObRliW52ls3r3zRBbufLRm64rXTyStRS1Uvz8yVt8ve9WDFtgESRs/rd+X9a971WoWQvLTaBcyR8p7GYVl8UqOt2Nnh6nlIIDP0149VVkp15Nk1dPrRSNDhhN1d13Y603FqU8QjuH4wjFrDxAAiX1grKhhoQhXVJyjMv7f+Xfx+zFxguz5JXLZ2O+zYZTHsIatI5e4pGJIpLJGtmLZCmx6bWczTOq5U4wc58hNjMHykXAEFu5yOn9McUDkS2qwMu7LLjlMuy7z6dqsU2YjFg8oIq+Z91Gcpc9sauqUQmXSMk2tArHjavSllr6FUBs4q19/Cmf/exEvFnTWViTp24xeL6DfchhrH3qb8jV9aaBLP1cOU1t5RGb7JcozJZLKn0mW3WDz4Ibfkn48PXU5UKU15uFrmLg5bfh7fQDfW5fkEjp9Yb67LhiNaQdVwuW2g6s3GlXSfcZYqskaXftWA2xlYlncX2XlffjwzZnN/L2sRMYNKgBa9ZMrL41LPJD8s6GbHTbHTj9ZU/ACMRr09X2seqrKGILI2Y//BRfvfY443bfkn9eeSMj9x1PlRsx/R/vsflZF+Ft/G1mRvV8y+1d8jy2MkXX+m3irmUhXyvbmUXYH8zkrTOPZ4O6NA2zv4T+w/DCgDcHjGC3K64l0bcX2YSHbKZWJUfAFA5cVY6s85KFy6X3p+zS/vfAxgyx9UChrqQhGWIrE2ghtkX5PHWulIU38Oo9d7BBcm0G7L0T7514IP03GcPah53Ip4+9ROPIDdlkjx/oeoMg8rFlQW6h/KBo6VdEcYkc5/LBl6gRkktbzFuHn0G/vfdgnYP2Bb8W8hFBjUdTTZJeeoPsleixCTHloSnRQK2V42/X3c1G641m4LjRvHTaUQzdbgdGHHgE/3n+Rdx112HUTtvrvFtky8J5Rzbfj0v/HdlzUURtiK3MV2vJbYbYVhTByr3fEFuZso/3gpD14bLqaTFWOA/LGoZPinlH/xhvg/UZcO7F8cLrfLzg1amWLZEUWT9HIikBrILH1sHF0mV2dfW5TZ8GLScPhHj1i3jqkIMZe/RRDN73YHK4eLk0nucShhZuSo40WnldF4cto2QnryZS4Xz8JoWTGoSd9fnTyRNYb7utGH3U6foIAOXnsHrXkncTRJZLSraSMx5blwvLEFuXQ1oxDRpiK1vU8U4c+oBNrYEzBFaV3gnlqwO+T81mW9Jv4uU64Ngi31LY9KNFrUglrX1SEZEVYTcs4JlDxvOdIw5j+I8mEHlV8XEq2hSIj4ZZibym855S7u+FspZOjsORn1zsxib+fOQhDN35u3z7uDPBKRysqRdm64Nb4t1GlnxM8UjZr9QyNxpi6yokK68dQ2xlyzxeoS37JMpuI3L4at7ycKMsM/ffjeottqbveZP1RlMld+Mvuw9r4I3itFkBVsP8ArH9hG/t8xNUojo+4kdTSqGwZiUOT/YO0SUfgYVyZaMpOW/Mwmls4IUjDmXILtuy4bGnQ6KmAqp8ViLw7TzKENvqIYc1sReG2MqWmiG2sqAzxFYWbJV4kyG2SpR614zZEFvZOBpiKws6Q2xlwVaJNxliq0Spd82YDbGVjaMhtrKgM8RWFmyVeJMhtkqUeteM2RBb2TgaYisLOkNsZcFWiTcZYqtEqXfNmA2xlY2jIbayoDPEVhZslXiTIbZKlHrXjNkQW9k4GmIrCzpDbGXBVok3GWKrRKl3zZgNsZWNoyG2sqAzxFYWbJV4kyG2SpR614zZEFuZOManQfs4so5NDmWzQwJbTmXJMXP8D6nbbEsGnHdZvIDbnMWmUdb7BCsILR+vYR7PH3QQo488jOH7Hkzg1ep1YxaR3kez5YZUzVdAd8+ybXmq9NAObdkkRnc2sgKc7CL+9pPDWHvnHRl1wk+J3JqVu4dlmfOzJ9xmiK0nSHHVjMEQW5m4ixrMEeFFFk5ggQORkyMb5Zl50L70HrsZa503CUJP/22lbqNR5pi6+7bCOaP4+FQ1zubF/Sew/pFHMnj8fvhu73hBtKa1EAe3WXdk8XTx0z3nnOmtz/SzhdEcOeYb3/Pxwm948aBjGPK9XRlxyolEdjWeFqj5dDcChti6G+Ge274htjJlWwhE4kURlmzD5MoOI2n8yGLm+L2oG7cZAydeCsqND8zsHkejzN6vmtvEWxPeUFYeu3EOL4z/CaOOOJyhB+xH6PXGjmTzMRXvQGKtXGsg9gmF2OSUUUdvBBq4Pq4/h78dejRDdtyV9U8+AaU9NkNsK2MGGWJbGSj3zGcYYitTrsVNkN0o0Mct51yHlKpHhTV8MX53ajfflP7nX6b3Eoz3izTMVnCKtK9L4zz+dMgRjDn8cNbZdx/wesfHVsthpHIOkC0e28rDrMC52lvUW6SFFpHjY+fn8txhx7DODt9j1AnHQaIOq4U3WeYEMreVRMAQW0mIzAVtIGCIrcypoc9jA5xQjilRNNkedapeDvTik0P2pGaLTRl03iV6z0GXhDl4soizZpAcNC3igcOPZIsJh7P+Pnu0QmwScmzPM4r3duwq8ivK0ybAkqYjF5wAsgt46qijWW+HndjomGMgWStbJZc5a8xtnUHAEFtn0DLXNkfAENu8HRtlAAAgAElEQVQKzId8PiBhK6R2pNFyqQ0bcHJ1vHXUvvTdYmOGn30BEQGelTLEVige0ZyRb8LLN3HbT09l2/3Gs+HuP0BJ8UiosOWAOjsu5Ygkf+m4RHLwp13IrWknbql/1WXEJqk1aTnMxMUhdkLPDCuzkPtOPoENt92ezQ47DJWsA0tOH7CI5ERwOVev2LcVmEvm1uURMMRmZkW5CBhiKxc5IAxDrMDXZ6w1eR6JKCSZ83j7txcycKMRDNpvgt7JPmFXGWIr0NHibJa6hBzO2gi+r72yKJUi51bhREr7QtkgQ9JLYNsuvh9p7IQ8NH8sITY5CUB+6Jp8VzH/F6kmHNtmTkOOfjW9cHMZnr3patYbvRGjdtsNElUU+Ez3SSlliG0F3qH2bjXE1k3AVkCzhthWQMhBkMdVFspW5Ow8DUGSAVL+3zgPUhBV9SXd1ERtba8uC5mtQHdX+a3iZ2XklLMowA3yqDCH4yQJLJucm4AgpNpxCa0IS/kEQUTCq8LPx55RIlEgMX28jfyuVLiy40MWstKnmdtpwkyabFU/cRypzslzhIQjVE0tixqa6N27N5lMhmQyiePIco6Vlwvs+IjW/CsNsa35MlxVIzDEVjbyUiAeEOQj7bVd97vL2WrfY/i/EevhhbIQIA9ONSonJzFLZWTZD+oxNwpvpFVElS+FohE5O8INFH987Enue/ZJ7rvzbr18InRCCHNYlsNOO+3GWT87m3322Sv22HR8sEhsAmrzZQHlQ6XkkfkQJ5XFz2U47/opHLHfT9hoyLooL4sTWaRtj4Xz5/HHxx7lhBNOWPIwE4osH3fjsXUPdpXeqiG2MmeAXqCt8rqCLmxoYOutt+TcaY+zz+bf0b6ELO6tVTYq72BJuqaHE9vSJdQKSxUHG7tBUkQfL722SPs5qpWLshzyLqQihRVGNLkSngxIyTnartznE0aKXXbek3N+cR4//OFuGkPdshUUAptdSGyRikv8VT1BvpH1x23Fg394lm02/g6+HZeLZCyL+V/P5sZrruaSSy/DtS3CIMBNxPm44kevhevpAi/zvenMbcZj6wxa5toW76CSJEGzzxdffLEcQnKJ5JOCIGD06NEGQa1WFb4CJ4pQuQVsMe7/uOCex/jR1t8m7wckRNn5eSxVhe3F5Q5aJ1uQyWaoSiVbqEJRhGsy9wnVyJcni6vzUnxh8+orzzDtgXvZ+6CDOOXYn3PU8ady3s8O47hDjuSldz/hjkf/yBbrD+Uff7yf6/+5iHsnn0Fd5msmHHgQb3w4k9PPPIN7pz7DxPN/wR577qwDjzGGeVCFysQuCgMqlZekKZaVIpOfzfqjN+ORPzzNuE3HQiIgihIEUUCt3Ugmb5NO1FIb+CRcmQRSHBTvmCJydhCPcuWuw+uJL6Uhtp4o1ZUzJuOxlYlzXJcXextBfjHjxm3JZXc+xp5bDGLK7Y9w8cWTmT93JiNHfJvb77ibrbbaDNezCYKwkCtadpuoNZ/YpBREiM3NC/s4vPTCfRx36unsMX4CQ/oOZ8otd/CdkWvx3W22YW59hutvup0vP/+Id5+/n8teC3ni2lN4YPJ53PPHVxh/0Hj+N/N/3HXnU9x9zx3stc+OmvhtWb8txBYJsQmBlinAZW5TKivlQCi/hmz4OWPG7MDBB53IdTdeRjbfyM9Ov5SLLzubBe+/wgkTr+Puxx+hjwp0vjB0U1ICE1dy6lVuhti6QiqG2LoCxcpswxBbuXLXjm4epRx8P2Ds2O9w5R2PsNXgRYzb8QiuvnMa++68Bb/82S947V//4S9/+X84roNSEZYNjt3cP4vXY63JHptsAhlashOVRSqICzuef/I2Lr36Nh574WXqbI9fTzyD1PBNOPPkY7Aa5zB86Eiee+NtZr/+OFPeyHDH5T9l9y3H8fAb7/Gt6hSNDQvZ6Ns7c+11V/Pj/XbWmMXEloOoEN/tImKLZG2dyMD3yAUfMnL099n2e/ty391XMmvOZ2w2elc+mP0pTZ+8xhkX3ciNDzzAWlaE8jOQkN1IDLGV+yq1dZ8htq5GtHLaM8RWrqyF2KI0kZUgE4RssenGXHXHIwxZ/Aq3/eVrzp/8GwZZPlYmyz4HHsE1117LOusOx7alPNzC0iV4xU8PILZIvBRFo+1SrUK9Pdbf/zSVa265j5v+8CyDvIgrzjuRfjufyJ67bEH/xZ8zep2NeOSt91jwxjPc9spXXHbq/uyz7xE8OP0t1iWiNmEzZsz3mHTpxezz452wrW4kNh1ajnDziiD/b9bf5nhuvvluth2zNr36JBi/23guuev31KU/58jTL+GBPz1O7yjAiXwiWapgiK3cN6nN+wyxdTmkFdOgIbZyRS3EpqT60cUPfDbfZGMdihyy+DXu/ftsLrz0AvrINsk+7PHD8dw05SbWGzGsUKauU1A9i9iCQG/d3+B5JIlIqIgX/ziVa2//Azc9+hQDwixTfnMCNdsfy9577kiv+Z+x0YiNuefVt1n8xjPc/dpX3Hr5Geywza78/p//YsOqFPn0QsZu+n2uvf4Kdtt9RzzHLnhsGYhSXRqK9MXjBFJ+llzm34wceyy3PfwY3x87DNvOM2G3vTn39oeoXvwxp194FXc+/gj9JZ+oAkI7aYit3PeonfsMsXUDqBXSpCG2MgVd9LdUEBL69Wy12eacf/sTjO01l30OPZPnX3iewX2q+ODTOeyz13688upL9O1bp3er8LzCuSg9yWPz40pFIbYEiqRS/P3pe7n8xge5+YknGeoG3PCLCayz/YF8/0fjCed8wWZjNuL3r7zL/Nef4c6XvuD+m3/N1RN/ydQXZnDvLVfyz9f/wc/PupQHHrqfPX+4QyHHJt5udxBbXPyS8pvIp99n5NgjuOOxJ/n+pmKM5Dhijx/ys9/dT6/MF5x0zm+575nH6Ksi7MgndAyxlfkatXubIbbuQLUy2jTEVqacdYYtkmKJgHDxTLbYemcmTXuGXTcewPbb7EJ9Q47amiQffzGX8ePHc901V+J6jia1OAzZw0KR4rGhSLtCbLIIG/7+p/u5+tZ7uO3Rp+mdzXP7ZWcwcuMt2OXAY1g07xvGjdmQh154k6/efJ5H/jWLGy/9GYn8Qk447gweeupZTjv9p7z80nucd/4v+MEeO5BwbWxcLFnm3eUem2RMoSrK4C/6iJGbHcRdjz7B9hsN08U+B+/+Ay6f+jj+zLf52cU3cvsTf2CQiohyTVipOuOxlfketXebIbZuALVCmjTEVqag9XlsCpKyGDs9j5um3scOex7C+kN7kbIc7rx7Gl/M+opNNhrLj/bZRytHWSolyj+QMvFE84XFPSDHJiucUeQsl2T8LdgNZIMmmty16Cs/RvP1PovZIIXtJbD8HJaXxIny1JPEI6LaSkOQI3D76KNcgyCB61mEKovnONh43UJsgVJkfZ9qJySfns9Vtz3G+AMPZMTa/fSOJH+Ydhfb7r4fvaIFPPLn19ntkMMYaPm6AjJyTFVkma+R8di6AzjTJobYypwEurRbKZwgi7JCsm4N5EJsJ6MPHs17tXqrrepQttnwyAcQRgEp2YVEr8XqWR6bLH3Q/ykbR+r+bdkKch5WyidjDaA6b+vFzKGliNwUngtBuoHqZIJ8EGEnUzrHFaSbqEnZ+KGH41lEypGdtnBcHykktfVJCV3vsYWyHlGXpQayMyWRDEDF58OFocJ1ItKZkJpkE2mrmrRTRSrbRE3CNTm2Mt+hUrcZj60UQubvbSFgiK3suaFQoRS3K6JIckspegd5AiuDHaVowsO3Lfr5Dfh2LZZjSW2FLhrR5472MGLTu63I6XMyRlmg7YCym4isRvLUkgiriCxL7+Kh15/5AVVOBMontKWqEALLQlYKqEwTiapqbDsil3X0Anfb8XH0ziNCbIVy/y48wFU2IVB6BIpcYFHlKpQmO1fWbeslGraKcKgnZ9fSZCUQn5IwC65sch2X+8sibbNAu+yXqsWNhti6BsdKbMUQ2wpJXSojtWGvFZotzCWEpSytxOW3+ndi/a/Ri9RKg9TC/1zygxBDvKatcDb20h1YNL0JVgolrFHYhaqAVuGBMZaxJxU3Gq/2W7KPS+mOdfIKIbZYWCLRAgkv2cBL+qPpW8s3Pmwg3jKs+cdsqdVJ0Nu43BBb1+BYia0YYqtEqZsxGwTWAAQMsa0BQlpNu2iIbTUVjOmWQaDSETDEVukzoPzxG2IrHztzp0HAINCNCBhi60Zwe3jThth6uIDN8AwCqwMCcgTRonpZ6xh/Ukmbmqr2Tz83xLY6SG7N7IMhtjVTbqbXBoE1CoH5i3zuemIWY0bUkM7GJ6If8P1B7Y7BENsaJeLVqrOG2FYrcZjOGATWbAQyuYiHn/uGr+bKaQlLP0GgaEyH9KmT5ROKBvm+l8d3N+nFTlvI8v3lP4bY1uy5sCp7b4htVaJvnm0Q6GEIzF/sc+FNn9K71sGyLBY1BFQlbZIJWfIB+UCRzoZ6Tad8+vV2ufjkkYbYetg8WNXDMcS2qiVgnm8Q6EEIFIltu3G99WkMMz5tZNf/68+cBXm9McFa/RK8/UED//64SY+6f2+Pi04eYYitB82B1WEohthWBymYPhgEeggCRWIrDmfL7/Qim434z8eNeun7oH4eB35/LW58cKYhth4i89VxGIbYVkepmD4ZBNZQBJYlth0378Mn/8swc87SnNt5x6zLpXd8bohtDZXxmtBtQ2xrgpRMHw0CawgCyxLbZhvWMbCvx59fX6BPtxg3uo6NN6jhnidnG2JbQ2S6JnbTENuaKDXTZ4PAaorAssQmhSM7b9WPEcNS2IVikqdfmse8RXIEhMmxraZiXOO7ZYhtjRehGYBBYPVBYEG9z29u/owgbL4tdtv9W3tAkvOPW7fVC0y5/+oj1zWtJ4bY1jSJmf4aBFZjBPJ+xJvv1bOoUUr6S5Pb+sOrGb1utSG21Vima2LXDLGtiVIzfTYIVAACxmOrACF30xANsXUTsKZZg4BBYMUQMMS2YvhV8t2G2CpZ+mbsBoHVGAFDbKuxcFbzrhliW80FZLpnEKhUBAyxVarkV3zcnSK2MAwZNWrUij/VtGAQMAgYBEog8OGHH+I4jv6SfSfNxyDQUQQ6TGxRFBEEgSG2jiJrrjMIGARWCAEhNtd1sW3bENsKIVl5N3eI2AQWITb5Eq+t+H3zcl5jUVXe5DEjNgh0JQKiT0SPCJHJl3hqxe+78jmmrZ6PQIeJTSadfAmpFb9vDo8htp4/WcwIDQLdiUDRUBZdUiS44vfd+VzTds9DoMPEJkMvTryOLLzseVCZERkEDAIrC4GioWwM5pWFeM96TqeIrWcN3YzGIGAQMAgYBHoiAobYeqJUzZgMAgYBg0AFI2CIrYKFb4ZuEDAIGAR6IgKG2HqiVM2YDAIGAYNABSNgiK2ChW+GbhAwCBgEeiIChth6olTNmAwCBgGDQAUjYIitgoVvhm4QMAgYBHoiAobYeqJUzZgMAgYBg0AFI2CIrYKFb4ZuEDAIGAR6IgKG2HqiVM2YDAIGAYNABSNgiK2ChW+GbhAwCBgEeiIChth6olTNmAwCBgGDQAUjYIitgoVvhm4QMAgYBHoiAobYeqJUzZgMAgYBg0AFI2CIrYKFb4ZuEDAIGAR6IgKG2HqiVM2YDAIGAYNABSNgiK2ChW+GbhAwCBgEeiIChth6olTNmAwCBgGDQAUjYIitgoVvhm4QMAgYBHoiAobYeqJUzZgMAgYBg0AFI2CIrYKFb4ZuEDAIGAR6IgKG2HqiVM2YDAIGAYNABSNgiK2ChW+GbhAwCBgEeiIChth6olTNmAwCBgGDQAUjYIitgoVvhm4QMAgYBHoiAobYeqJUzZgMAgYBg0AFI2CIrYKFb4ZuEDAIGAR6IgKG2HqiVM2YDAIGAYNABSNgiK2ChW+GbhAwCBgEeiIChth6olTNmAwCBgGDQAUjYIitgoVvhm4QMAgYBHoiAobYeqJUzZgMAgYBg0AFI2CIrYKFb4ZuEDAIGAR6IgKG2HqiVM2YDAIGAYNABSNgiK2ChW+GbhAwCBgEeiIChth6olTNmAwCBgGDQAUjYIitgoVvhm4QMAgYBHoiAobYeqJUzZgMAgYBg0AFI2CIrYKFb4ZuEDAIGAR6IgKG2HqiVM2YDAIGAYNABSNgiK2ChW+GbhAwCBgEeiIChth6olTNmAwCBgGDQAUjYIitgoVvhm4QMAgYBHoiAobYeqJUzZgMAgYBg0AFI2CIrYKFb4ZuEDAIGAR6IgKG2HqiVM2YDAIGAYNABSNgiK2ChW+GbhAwCBgEeiIChth6olTNmAwCBgGDQAUjsMYS24xp2zF93MtMGNO+9OpfnMhkzmHSjr1WXMwzprHd8VN0OyfdWvrZUM+LE/dkIpN4ZtKOtNaDlv2bwbTtjkc/Yce272k5kMI9J93Ky6XAaBMB6edkOGcSy8G0ZMw7MumZVv6+4qiucS3I3IunwUnc+vIESkxBSs+DZfCvf5GJe07kxXiirYBcOwJtO7LvyO1Al+GxUsZd+p3s4LDNZasxAuURWzMFD6tA4cnzp49r8cILQew5UasCdpz0TAsi6ygJlpRTW8+dOaHQl5hk6BDpxU9rlXjlBdc80zoZluxnpy8opdxK/b3TD1yjb2htPun5V/Y8aAPfVuZb1wO34rJtC48nB05aYnh26h1cwXGLLMp+dtcDbFpcBQh0nti0VfUcuy1nvRcsoZhblrE0m3kiLYiw+e87av3KPdMZ18JSnsG0iXPZW4hA928mE5r/vTNE0R5pt/LCzZg2kWkzxjBh0gTGzHiRadOfg3HyQjfDYzmru/m4lydiOtzfpe0sS+Y0H0dJ76+g3HYbw8SJ4oosa6y0ovxaYNHy7+0ZGZ2b4y3nlPaSh73IxCcHMqmZd7pUkbWBq+D5JOw2YyLa9umAF9R8DMt6Zq0p6bLmQSkDscMKvo1xz5jGxLnDGDNxYhwFaD7uUs9eVlDtXN85YmvvvSg8tLVx6+eLzVjaQ26b2Drw7M5NUHP1aopAp4mtY6G9loquLWtNlMHcvQvhrY6+xCWva4344nBJR0KXLeS07LPaILa5w8Ywc+AExs0Vrfkc05tZqppgWniX8cs1c0IcyuwKj235NlrHoO05WHjhxxTCXq32eZlQZVvERnPiWTFvoPW5VjRixjF94pMMnDQBms+jJYNshkEhxDVGe9It8e/Ie7lsP9oitk7NgxYGWFd6bM3GrclgRiGEvCweReOvDBktMz86R2ztkFdRGN1GbB14dkcmhLlmtUeg08TWHkG0tHKbWf0Fa6+lV9HSylzey2sdu2WtsWWvaot4O0bI0toy/VrWyl0mBBqT8wRmPjkdGMeEcdOZOHfvpaHQ5V7SZt5lF4UiWxtbnPfoaJi4lRxPi1Boxz22cdOXhoRj2XS0D63Iu5hzaeFhFfA7B56cPJNh5+wNk2OCk1zX0nyPdlFiC38ZD7hDc6F5vmeZ8HabxNaZeaC9qeI8WXFia3XcbRkfMzvw7OXE0fZ70WZotpAaKDbVIi/dnoFa0nhtX6+21EPFAFKznPgKtr/aa3XTQcoitmnDWuawNI4dsECLEy6e4J31KmJptaeUWuY5Wkq3FCEuNRa3Y8n4SnpsSxXSwCcLHiHNlYbWtC09to4o2Q6HIkthUgy9lArzdi2xdVmxTnML/vgphdwpvCie2oRhzAVmzh3IsOemx8QmWE8bVijUWcZDaUbUpedC+1718oq88/Og5TxeQWJra9xtEJsYH0tl1DGPTcbc1nuxUjy2Tijrkjm2VoitBRk2N6RaGDil3qNOdNJc2q0IdJrY4txNK7Hu5sq4zTxcc2ISBbU0JNfhUbZhbWmLlbYryFqEPdt5WPOXdLk2Ww3RLfUWdLMtLPFWiE17hNMYJjlKCdvtORGWKXbpeI6tFLFpU6DtisclOCyfI2tJTq200Uze6MIdGcYkdpzZnFyWBbpAtO1UibYpmmbYiyynsxvjJoxj7rTJPDdjt7jQprl8ms/TFoZCM/zbLJRtPt64z8/tttSYa53YOjkPmpFRC/ya96mjnkVb427HYysaAG0+exlBtPderBRiaxFWLe2xtVs80lFcO6yUzIWrGwKdJ7aC11SsQFwaamqWmN1xEpPGPAeF/FmLMEnzQoZ2wj1tA9WKp7dMO3LvcmHPYnFJKQkUwqZy2UmTJjFjZrNChQ4SW5xTY2npfuGZS0IxS55xErfeCtOahy6L3m9HqiKXG3cx7FeiOGU5DJYp/Gkmo+XCOkv+1jwRP4lJM55bslyg1bBY4Zlxe2M6XASwdJ4ttZZ1G8/tpj2zmS0MmmbjPkn6NDP25JbBqSNLNZaOe0cmTRrDcywNL3eU2ErNgyU4nXQrtzJtab65uae6TOi79enbxrjbIrZezUK2bT172Qe18150jtiWT0EsJ4/WiKdFnrRcYuvAs0vpB/P3NQKBsohtVY+svZBja30rq3Ck9YaWW2bQLVh0MhTZLX3orkZbhM266yHLtNvFeHbZfCo1/DXEs+hyPFodd0c87VKAmr9XCgJrJLGJcDr6MnWoUKCj0m5utXZirVpHm29RuFKyRL/jra4eV3Y039cNve0GYuvcAu1OjmmlLFTuZJ/auXyph76COai2xl147zriaXfdqExLazICayyxrcmgm74bBAwCBgGDQPchYIit+7A1LRsEDAIGAYPAKkDAENsqAN080iBgEDAIGAS6DwFDbN2HrWnZIGAQMAgYBFYBAobYVgHo5pEGAYOAQcAg0H0IGGLrPmxNywYBg4BBwCCwChAwxLYKQDePNAgYBAwCBoHuQ8AQW/dha1o2CBgEDAIGgVWAgCG2VQC6eaRBwCBgEDAIdB8Chti6D1vTskHAIGAQMAisAgQMsa0C0M0jDQIGAYOAQaD7EDDE1n3YmpYNAgYBg4BBYBUgYIhtFYBuHmkQMAgYBAwC3YeAIbbuw9a0bBAwCBgEDAKrAAFDbKsAdPNIg4BBwCBgEOg+BAyxdR+2pmWDgEHAIGAQWAUIGGJbBaCbRxoEDAIGAYNA9yFgiK37sDUtGwQMAgYBg8AqQMAQ2yoA3TzSIGAQMAgYBLoPgU4Rm1JK96T4b/d1y7RsEDAIGATAsiwNQ/Ffg4lBoCMIdJjYhMzka7311utIu+Yag4BBwCDQJQh89tlnmtgMuXUJnBXRSIeJLYoi5GvkyJEVAYwZpEHAILB6IPDJJ59g27b+Mh+DQEcQ6BCxiacmpBYEAaNGjepIu+Yag4BBwCDQJQh8+OGHuK6ric14bV0CaY9vpMPEFoYh8mWIrcfPCTNAg8BqhYAQm+M4+ssQ22olmtW2M50iNvHYRo8evdoOxnTMIGAQ6HkIfPDBB9pjM8TW82TbXSMyxNZdyJp2DQIGgS5BwBBbl8BYUY0YYqsocZvBGgTWPAQMsa15MlvVPTbEtqolYJ5vEDAItIuAITYzQTqLgCG2ziJmrjcIGARWKgKG2FYq3D3iYd1EbCGKCIUn+5RgERJho7BxQ4icCEvZWLKRiRVqIJUFFo5cHn/Jx4pQcpFcixV/j9L/6T8Tr2uxCEDfK8+AyJJnRoBNRLxzgRPJdfripR9LWoufH/ez8Mfi83V7FsrWreq/W9JRIv2MCFf3oNhk/O+Szi/5Vn4TWqH0UPcp1D0vtonGQgNQ7F/zPrYyzaTP0mtpxSbQ2OqWCzgVb9E9aTGkIriCjXwvuNoCc9xz6Ya+xYp/t2RgIgMNrP5dfF3c/3hExY/gXRhGJFhJG4G+QLCKn1gYd1RATtqzpLVYUvIV93IpsrorKpahXCC3ys+6/SLmhR0q4l8We1HsWXHeyJws9DeS/sicitu0VQjyJVKStqzW1kwteWDcyVBuhMCOO+bKz+Tj31kJfYm7zJRrRZz6V9KCDySU4BCAkvnsoAXtypjjOa3nX6t9W9pyjGaII0AFth6S4BLpcRXHuhT/Fu9Eax0sTpvC8KVZ34qblfc5ngRBYb7oh7U1zLJ+b4itLNgq+qZuIjYfRZ5I1WilZZMlp1+DBFWZkKAqjx2msEURuPJCqAKxefEbXlSqthCIj6USBWITgoyVVvySC3GKHvJBydvvEIoS1Vo5po88jlaRycJ7J7qiqLRFQcfqRFoVehCyLWr3SCuWEJfQFlUhI3BxI2kgS2gpAqp126K84j4VVVRBWxYUgfyTt3w8TQwOvuyioJ8X4Ih6LfQ9VhCl9UJEgK9x8EiQ0WNUOCS1sVBQyJq0Yy6ST9wV+X9QIHNRlK5+thMKS0QFPSoo2GhdvWRQBWIrKPLQkVZEowldRTj6mfGXXKJ1cWRhyzd2rOiVSsQ8oI2OEEsaESUt8rLFEBJ5yVyJ/x+jY+tZIxJyFXjyjQN5BzwxVGJ2j8dlFwaqO17sfGxKxD/Hz5Cni2lBkERZLvkC3p5KY4d5oArsxNL2WqiHooYvQJm1idyIJi8Uk42anIxnAcq1SVt99FNrWhB/27pGntwE9FI+jmqEqAaChABNVC385OMqSxsvlFioLLPVJ4sXeFgZF5KxkRi5FoEV4kV5rDAVE2RHeKhoK4SxsZjzIG3FzVZnCjJIpAltwTa11EDsItVqiK2LgKygZrqH2EThiBIqKmk7wrfFwLVJ5esJEzmssB+2kIQrpBZ7ENpjE01cNIxtsTLFI4mVV9HX0UQgSlFMx9jFaM4ssSKzI0JLbF9HK0VHPEXpgw2ebA9WNLiVEIv8PvYZEmIs2zaBndM/ByRIyjXksPCwxQImF2tWvzoeY1F/tjVxCrxQcE4RnS63KUuUeaDHrZSQTAe1YEG/xkOPxxnTVIHECuRStBI0rtrVin3YpXylXan4I0aE/lFoTaz6VgYjuEnbBRGJ96W9KO19LXlEQTQNKJI4USImuGJ7joo9Lq1rlfb+iuQrz7SayVSelbcVXqiwIgvftfS1nhKPKG5STBvtvRWngQa5AGTRSCkOWAsdIuTQvhsAACAASURBVE9kHrOksgTBHBmyImm8qCr2WFvd5GIpscVNxSZbDh+XWmqUGDk+oeUTqpQ2MrTptaRzbWuWEB+fJhwCXKEMVUUgxKu98wxVysVVydhjKzHf4piGmD6hNg4iMSjFEIgaaXLTpHHpR6/C6ymNtb+jhyAqxJvSc3URPh45eiE+aYLF2rRLkyLC00Tetf4aGGKrIEbqoqF2C7FFSrwZsY4VCVHYoXxnayVmWwuZrz2gPlQrm2TB4o45UBhAx6aW6CYJ+YkKko8mqCIjFQlNLHRt8csTPVwhHh1RUoReHOJzJFJpQSCehrY04xbzuHhhHHbLubHCrslD4ELOzuHqEGcNyZw8OABHuxc6vJa1fZKqumNkFDtKSz9FAtPxUem7EIoThxI7ohVkfNKeDK+ZkiveK2MUDzQmzZjybLlQHtfM6VgS9k3InwrsULC3l4b5it0W71k8Zvk4sZdW9JqKylsEpJkPQm8+WZIoVUNSTALNN76wStxv8dQlZGZpetRy1ZxUDG3JFHAg7eRIqBBHOTTZjpgWJCObrJCekFzBrkjo7jd345YxkgQTjYvMhawerx27MvqRIfmCh+iRFIJqVQ4tiS1GRvysCKV6F8J8Mipxs2KPVMagaaOUXAMFeYWqyoKVB1VNzhJ/XFFNmkToY0V1YDsliS222mKDUTk5suKFKqhSTfi2IlTVpMTSFANTm0NFk6h1rSKYSfe8QGHZjbpN7dlqoyIHQR9yjq1fjVQHhtpZ3WWIrbOImeu7hdjExsxpRdFEkt4kIgdLezoSjZyNUIYV9NOhEF+ctsKr5ejTA4oMEFuS8hvfkhcpwlMeliiMosvgBoSOWLoJ8mR0MKuXcnDyrg4zSSTHFV0nt3uQd+PWq5D4iU2OBInA0go1kxBFGdHHD8k4eTJCXNqXSpFKJ3UyQSKfooTFt1tk5ahRVQXV2MxtXBL6KypBUfbicQTkRCmJPS4JCu0WibcVLskv6lBoR+ZkwSmJnByNVpKaqJB/KnjIsTcjpCY+hfgfDlaB2JZ4Ttp9i8NzaTupnQBR6DqDqDsR53PEU4q9KqFKCTFLL10cyaEVo352SOjkyemwsU+VvqFOh5GVLbLwCoHLmNgsK8Kz8rpvYuVLm5rji6k/zZ2+vp8oE5O97RCpBLbMAbwWEWshYR2J1K5bwYopev9FPHUeT1xzGWOGwAmxwyqs0NNRbMvK0WSLb5PEVfaSyGZLcTS3CkSskkcsMLG2MCwix9dZT0tJmDaPpfvTq+Bbti1cFUEk3qSrsCQfq+e4Iu9aJATrMNQhSIHWskq6bLGBIO+T57MIl2olqDWBeH1iXMjzxHPVYfH2PzLfAxXpIEVsGQjOhUSnjjw45Av5u4Qhto68weaabkagW4hN3icht9BqwlI1eHGMi9AN+SZ8h0++noXrpxg8cBS964brqHwyEpUvOahAh+gKZr22eiMrq18mRyWXhL2iSBF488lYGf771SLq87Opqu7LhoM2oF9UhR155DxLv4xOVl5wRd6LA3FJ8lqZ+jh4RWJLRmRUmn5Whq+a5jDjm6/BSrHBsPX4ljUkPqrHi5W9eD9Ndo6qKBl7kDqv0ywcp3lOfIKiJpC81mLeWTiPGq8vI5MDsR3xPRSBzi9auErIZ/mwVWtHBAnFSHiq3p/F9G8cthk+ghqt+IREYr0jV8Q8VwztxvEw8ablD76VRdFAY24RH32j+Pa3RtNL/iQKT7xdlM7piCiUY+liAUFM2pDMl11wfyRUrJwMEuD6eP5nzGmco7EYM2hHBieqcSVsayV0gM3XzBUXvEgYSzxUZdlxUYM8W/c7wLLz5GiiwV/Mx7M+Zb7nYru17DhoNDWhzBYvjimLByY6XvSsTB09xGIo0iISZ962UOIpWjkt33fnfoifW0CjnWDs2lsxIBqgjR+RV9aNSAbiOVuSDl7uI/ulSnpLy8RS5NUiPl70NZ81LsJxFGMHb85AmepRUhcXOVaTLuCwrWqw2veKlJKwYZZF/gL+OfcDLDtiLa8fowZ8h7pcShtVoS2BRZm5cW65zU8xJ6Yy4M7hz1/PAMm3udVsMngL+gUejpPVhCT9KhZhtd2exOdzRMomcBz+1zSTz+d/oqMf6wwYzZCqYVRFYpwobCcuUOnKj/HYuhLNymirW4hNu0XyLkgyRFviEpLJstCZw4lPnsn0Lz4i6SZZz1uf6469iX70JuVbpIpKyJWQl6hkDzsU5Rdbiksq9Zw4d9Bk/5cn3vkDN0x9Gq9vFk8N4Pgjz2H3YTvRO/DIupYEw/CyoSa2wI0Vgvhc8bsfhymVisjaTeTtNFYwlzOuOJsvlM+8wGH7zTbjwr0vJaUVb5Zay8PyXZSbw8onYz7TpmxLYgvCPI4rPpNPpPIszHzEEfddyvidf8Lh6+6iSTMR2/TYllSLFghomWR+cQPq5udSZclSz9dMfeFaXvp6ADdPOIu1/BA7URtXOhaLKkQB6yq6WBELiQhhCQlFViMBc/j9C3fxj+kRN551LQPDONQbukIvkFgiO0uH/eI6wpgs41BlRBilyTtpXvzkJa6adi1f2Q009e7NuozmtlNvYHAo/op42ZIXle6JFyYuknwfK0EhpzjEKZ6BFOY0MCeYzW1/vIv7P5/O/1yfgX2GceZm+3PymL2oDau0gSPNSCGJ9oOLVa9LikfkmCUxLiRLlUZFjdz9jwe46I1bSKQUTWmHbTcczyV7TWLDIKE9IZ1/lUig9E1iast8oihEvrSX4yiefu8uJj1zHR85AU5NDTv23ZabDpxMv6BaE7/kpYTPvCLptktGaZrSM/jFtHN5OHybRjvJSGsM5+x1AQcP3B5Hh9Hjo6MSpXa5LzqW1kwefuEirpj+BN9IuNCu5tDNfsl5Ox9EP7VQLD5s+mlTr32iDCCXJUhU8174IcdcezD1fRewONvIEGdD7jjmETay1iYpRUiSWzDEVhnssRqPsnuIrVA8IlamOGtSSq2Yx5szX+CyF5/gosPOpy85bnrwTgYO+w6HbDuBAVEvoqaQRLWtwzni8dkkcHQVYiZOuEQJHXMTpZxWSeb4r/PrWy5mwqFXMaR/gn+9/Xcemv4mVx51FaNUndajeUtRE8Ql52KhSkJfV0AXysV1gMrOE6pGMlYDD77yKB/PfJ9jDvwp34Rpbr39an6067lsN2IstTr8KEpawml5nZS3pMpPM0mhyk9yeUGILaSm8igr4K13X+Phv/6OJ5jFyQecwWnD9iBUSZIqQdYSi94iERcZLlcf3prH9r/6r3jolVv4y7u/Z+GwCTw84VyGhyHKqYuXRhQcXiS+pWNXsScj4xcru8GvJ7AWcOvTF/P6jL8T1O7OzafewNAwLt8OEkJsEUkdArO1x5azl4Yq45UJQnIBQZRhdtNXXDH1asZuvzlbb7K99gDuePoa3OwWnLL/8SSCPP1daVvya4tB9VpacFJY6SDVs36QJbKzhLbPH19/kpfffplfH3MGrlvDk59O544nnubGky7hO8khZMR/tECo3JVQc7GuXtsXcXgwisT7E8OiiZmz3ufiG29iwumXsNng3jT4H3Pc1GvZ7wcTOGboDlqOAlRO5448UstUaMTemniBMbHNq1/AcQ9cyO67bc9+623O/Px8zpx6ORMOvpRdajdibT/E8kP8KgfHksrc9rV9wCKefPt27n33Pc6dcBHr2BmeeuVBpjV+wZ0/uJJvZfvoPJdwegka0mZbY7SYT+e9zq+nnMWZJ9/Khv02pb7pUc659QF+dvr9rO+mqLESerSlap8kBJ2nkUblcedjF9O77wB2/94J1DOH65//BWs723HKzmfSV8KdXc9rpnhkNSaQ1bVr3UJsUu4hpRw5bfZKzkXWcH3DXU9eyZcDt+PA7/6YweR5a+bLXPXwddx8+u0MZihWvYVXB6H2yKS0w8GRfIAoKuXqlIHmFWshDYHHB7Mf464/3M15pz5F0pmDk53NfndcyXlHXcpO0XpUJ1zqE4pabTuLZ+bpogcp8ZY6B1l6EzgBeTtPwm/Cd0KOvP1CDv3+j9lmvVHUqYCnXnyYN+cM5pgDjmao7ZOS2kyVwFM+i2xRgBEpiXkVyt21B6KX3kXk/TS2G3Hfw3ex0RaDOeutJ9l7i305Y+1dsZxaPOWQLShkCcUuqYpspgOLxCaKVavsMOTdz97jxfceY+jYgN/+M8Wj489mXfFOnJq4SFTasuN8mAAWE6+QXJybkvznS+88zYezX2CDDYfz2z/N5JaTr2fdYCmxSb4xJSX7gY1yLTK2FB/E0zhecygZzYiGxoXU1KRYrNJEthT/C8vM55GXH2TWwuHsv+eJDHAUvchTI5QX5SCsiXM0xeV7lvjOIuMIP8yRjnLYCY+FYQPD7Twqn+WN+nomPnAHvz3mV2xaPZzGQqVeH6EhiVTLNNGx10KZp7IJJTRmS2FHFstOk9bVqQOozs4l487niAduZNut9+LUUbvgSqjNyujsq0UN1bq+r+VHNgHXdaOS67Jgdn4RfRJVuP5C7ESaqx+/kfU2HM92G25LH0KqIsk5ujpEXGrtWSCBSBWQDSI816Y2qGduw5cc9egU7j72egaE1TgyjcUiS7RfxShikpKWdPgF/W0f2x+Bn4/wq5/ll3fdx/iDrmOL2gE4eYuEV/BQ29FQevGAasBSfXHUYhwhd9WPBm8Bf/r4Xv7x9yznH3E2/Z04N9nFDpshttWVPVbjfnUPsUlCXXJglqtzDZ4Ksa3Puf7ec8iOOZlDx+3CWlHEa18/w6VPXsm1R09hHWcDUoUQVag9Bl1igqN/J7kdT5fEh1ZAaC1C0Z+X3pnCS/94lZ8ffzcJN4OV/5g9brmYI3/0cw5b67u6aGRxLylPkHJsydElNLGJ96ErLHMRuURAxgroFYU6tHLwfVdwzO7j2Wv4+lSpufz1zcd58JM+nHPwSaxNhlRko6IUduCzOOWRJCQlTNaM2OSnXJDFlaV1WtH7+Pl57PPYDey+1V6cPXR3nVcTIstKRaKl9JKC4gLu5pqhNY8tJ/kYaw5/++gOLn27N1P3Opb1HQflJePKexmb1aTX4IlXKSXk8RpzT69BFm/YSjSS5xNee/+vXPTXmUw56RrWb0ZsOSuiqkhsjkXaiYktLlgVIpL1awrlS+295B+lCAQWeXO54cXf8M1/E5x/5Hn0S/TTxTyOFCo4UrxQXVzqHlcT6nWOkrssOFrSnufhB0rqHPCYxd+//BdXPfdH9vnefhw0clfqJIclxFaoOEzko0Ldv06WLSkVDXx07kv+s8RYUlmyQZqIeRx//yQGDR/H2d87i6ESg0SxwInomw/0nLNSLf2Y4nmEnufoswn1ifISn5XCnOqAj5pe5Zp7buHs465kuD2ERBRh2VnydhVS7lJcZteWLlBiuGTzhJ5Do9dITbSQx//8EK8nXS7c4SySPiS8OKzt2OKntv0RKOsFkihHdfANkTeExT68Gd7Djff/jYuPvYv1WURVvh+WGxsY7X98VNhIGPbF9+upSilU5DPfnctvH7uGTTY4mP033hkvk8NNJbuc2UyOrZR8zN+XRaCbiC1CiVLUC3BFG0Yo+zNuevw3zFv7IE7aei8G5XK8seCvXPD4ZK495mZGJEbhpi1JPeFLuFETm40rHpvVJIEx7XEpWxSTjx/WMf39qfzpuRc575Q7cRwflf83Bz90HQftfCKH9tlGtDuLqiOqNblIEUFCl4vLIlXJH4mTIGX+uqjfD5nnNzLhjkmcuO9RfG/IEHrb83jqtXt4+tMh/PzQUxhqpakKIsjX6iqLxpTSETDJvy0b0BGFHWeqQpTKEYZf8cOp17DPzkdyyqBtYyM+ikgnZfcLi1RhR5Vlg1ZagUpVpaxVU+KB2PhKijvm8c/3b+fC11I8cNQZDErXo6p66WpFXajjZeKSdiXBpnglm/QlChW25eKHWZzE57zy8WNc8uwcrvrpNaynoFqvdQ8J7ShefqBjybKwV4yBkJwVL5r2pFglUkSORxgKKYfgL+aFT/7Czf95ht/seSkjqmpJONXa29bOlJPXO3LoxfWFgvt4fWK8llBXuxYDY3oYIfPVG5x3621svOV+HLjlrvRXWTwpe1dSXi5hZD82frRyLnjOxUXqkuIV71Wi2JHSBRMBc7nq2am8HzVx9h5nsD6D9JIPmaoLHOgrZBhXGBXc06X/SM5O17nIfFay7k/ML4s54SIuvuUCttxiOw7a+kD65Kt0Hte3M2TcaqqbrTFsUwVFksdKEyVCvnEaePQff+DPf32B8067gTF16+llG26YwZMdSOzlvcnm7UpkQ+/FIx6m08RcO837i2Yz8c7zOXHfX7LHutvQN1oIfi/sZKI0Ecl6wyCkMQpwk3n8YI4O30959kE+/6qeXx9zuc49V0lhUEfyiZ3Uw4bYOgmYuZxuIbZYncv2QJLaKews4szm8od/Rf3wXTj1/w5lLZXlH7P+yoX3X8WtZ9zJMGc41RL2kp0lbAlkShG/W8jLZDQpxQUDjfKKkyfJK+/dzF/+9hpnnXAnrpslDP/Nj383iV+M/xV799tSexD1yYjeUt6tJCeT1MSmV7DpbTBs8pL/EG8pVHwTLeQ3993I9jvsyPdHbEyfaA6P/WsaL88YzBmH/5QBVppeUR7SfXRxQZMrnqCshipVfp0jH/ybve6+nj12OYEzv7UtuSCt8+zZhFTQObpKMN6ETJdmtDs14xVg83hz+u+45PUabj3hDAYhHloNKVk/EVjkq+WqLAkhNlkRrjlDAm2KKKjCFw8g9TnTP3uIyf9vLr866Ur6hjBYCCgoFNvY8YIBqY7U1Z9WlrSVICG/Ey9J/GrHIW871JIGvuS0yeeww6GX8cPho3WJedayaAwD+kkVaBSvJXSUH4+xRKVgRJ7/99E1vP5qPWcePkkbEQlm46n+8Xo4CbHa8UqvkpV9OobaxIL8Fxx1w1X89tSrWCdRoyty40oih0AX+8RFMk5RBoXwqxCjVPxls1kSCcFT0WjN5Yv0V5x04bkcftgJfG/jnRhm96VKPDlhl4RNk/JJ2ctm7JYXb7xaczH5aBGXPX0zr8/9ikuPuppRQry+Q96DqjDevwe3VLGHIt+Qxq1J0OA08devX+Si26/i16fdyNZ1G9Pfl9VrImO9dqADxCZxTcjX1JOxFrA4mMO19/8Or3YEJ/74lwyUGRFEJFwxeqyOrcXshPI1xNYJsMylGoFuITadC9PBOakdj+u4lTWXG5+6kne8JOf+4CzqSPP0O3/ilXf/wyWHXUI/VadL78Vy9l0pzJBAWgJXb9MhbkS84FY5eR26S4c+ny56nsunXMevfvEkqUQ9jYs/5ef3TOHyk69hYwZr3ZL3IqpVNl4sa0kNd6yUihWWUmpuqQDfb9RFExfdcwXrbbo+e47dlZTKc/Wjv2XoWvuwx3Z7M5gcNbLYKFetqyx9N67djP2Rdj4qT5CewR4P3MAeOx3O6YO2J1vn66IWZScI7XhPTQkZxgtm2yc2vaBYzeNf79zN5H9E3HTKGQxU4qHVkBRiCy3yVUViS8UViQViE/qMgpSuxIzsmbz10cNc9sdPueznNzII6J2T/EmElbD0Fkl6J5IisUnerrCNmZCayCiMHNzQxbbz+HzOf+bNwuq7BaPdaqp8RdZR2K6rdwuRLkjhjtRm6tBoifVY4pnPbPwzcxv6scHgrXUFvm3NJqH6QiQhLyE2WbYgu4WUjKfpbdHmB3N4+5t5jFl7Q/oJScuatYK3KFW84mnHlZ+F9orEpr1m4YEQP8jrddKvznqBm5+6ld32PoBNh2wrZgVD6Eu1LxWgCVTOh2oXS0rgS3ykcrOeL7nqoaupGtKbXTf/IYNS32KgGkqNjFVeAS/QkFklDAI98f1GfG8hD7/1CI++9QLH7PdThvZfh7UZTp2q0UVCYh7ilM7/aUc4G6CSGT5oeJNrn5zCJltvz44j96TW7ksdvekdFHb3dAt7bZYacCf+boitE2CZS7uP2JYs33JF6YgvItqhga/9zzl16q/YeJ1xDOk7mBdeeYnj9z+dzYaMpVeUiHcIkVJzOxdvHiKLZSX/Iaa+rseO93qS8JPsvbg4+oApT93Ol/MTbL3Zxrz5nzcY0m80J+1xCtVhQiKReHaEF0qJudwrL3G80bLof70EXMIsspAYKaJv4P1Z7/Hbqdez0x4/oCnj89ab/+GMI37NOr2GI3WWVULUhV1444hXB3YLUT55/3+Mv+sK9vz+Tzh6+HcJvDwpJXsmSqm5Q2TL3iPazy1NbEroaSFv/+dhrn25katPPI3+CGYpvQ5LiC1Iydo5WQIhnm4h3GRLlYVEhlNx+NCdyxv/fYzr/vQhF511Jf0V9NZetiwqVIWtumwcWc+mF25H2LJjhQ0ZRyrlfKrCBAlZ+W6HBMnZ/G3Gvxj6rR0Zkeyty7+lEDLeLjr2DIQs4/0a430h27UH8Plo7vMsWtyHDdfbRtdM2MwlQZ+CxyYL1XJ6664OEZsKqI+aePa/b7PTtzdnYFiFLdiL7aQNMJln2t5bbj9GyavJwvJ40+yQhswizrz/LNL9FJtvsANhzqOf1ZeN196ATdcaTTJMYDnx3pmyi0kpagto/P/tfQl4VdXV9numO2SAgGCrora1RUW0xU/UqtWqFX+tlq+12iri+LSKbe2kRY21OGAVFRwqzsP3VaRaEasWFahopThUi2JLneqnAjKGKbm5w5n+Z619TnIDITfJPTm5Iev6RODmnr33efe5+91r7bXehTn/+j2mzL8fxx19IgY6dbD8wUhW74Lj9zgUO9oJlctmkL+iVGv0jVuP/2QW47Qbz8EhX/8OPlc9HIOtWuhuDfb+/Fex+6DPosbPIknpKyWUR9iX4FHahI0b/nwl3ij8B18ZPgYDnQFIeQZS1o4YO+IgDGQ/ZLp0NEoXF18hti4CJh/vGYstJDbfbITLAdkeK284WhYvr3wWUx+8FxsdH2OPORVnf/UspGEiHcpEWQ48nSw2WvZIazBQYKc2iOTChGiDUnjX4VPnU/zusRlYuPg1jNznIFw/7jdIedXQLOUgJP0+6pstRxZ9VYrpFI3IiicUjAcbeT0Di8WUm/H0kgW4ceZdSNXuiIvHX4nRu30RFAKQ8JNKC4Ulj2hXHrggSxoLLnL2elx0/y046NCjcNLIw+E1bUKqhs7ETM7zIzFLkkDqrMWmoREv/30mfv9GBtf84CcYQOeIehoJMonojCVBi3AWFo8zcF3pOThEaFqaMwE0sxGL33sODy94Hz877xLUURqS7cGiBYqa4aZaXaO077DouJKkrkxKorZR66Vg2nyiBN9ciytvuBpjv38R9t19Dw7QUQYPBa8EuXQ60bdy9JUKMycSeemdR/Hq3z7Cj8+9lOfLddYhZdQp/FkTlDYlSiS75MvzsXLjGvz8wWtxx4+uwCC/Dr5rIFut3I8J3wkSv7eWrbLtPEwKtKDnULOxbPUynHPPj/FpajNyOaBGr0M6m8bJh34LZx97Gmq0KlK1YitPCXd1/HLRhOtmXoI/rXwNm/JZpO0UdH8wElW74MGfTcNeGKhknC2tvdzxNo0TrTnYgOc/+DOuffxGrGqyMbRmFzgbcqgxh+KH43+Fw4cfjBQyqAWdB5bSivSQ85uRL2Rx0X0/xfOfvIbqwbsikTExOFGLnQfshRsumIgBno+0NbBzc1Fyslo/IMTWBbDkoz1osXGCqA9XJyHcWpWLSyK2hTy01CfYAA1NGIAUBqLWt5AisdjA5UNq8KQ8ohwbCV70KdiDXEAmWR4tilsOH84XSFGC/7NQQBV2ytIOshqbTbVw1rKVR4EOZGhpbIWQy5NEz8kBSJKFvBCYpKrusERSRicZomZ2Dg7ETqim4HKb/lULnwJb9CZovlI3UTfX8dNE7Tf7eeS0AidAUMSc5Sfh6BTdp0r5kB1jm2o3XtqSobD/JujGenyKXTAIGlI+LfCWsnCJStj7mKWECXaLqdmmqDqiqgTLN0Fvhq9twgZtMLsraw2DFWCI9WgPQEEtfBm5cTknEEgSsVE1FIukzGwkSZKKTi5JTmvde/Azm+F8bjSaKcLSMFnNX90lbQaoTYvz6QLJ6xIWG6WMrAIwCDqLE1PXzTAowigs08DPChFlyd2FimSEg6bmFUitbkBiyHC4qVo0J4h8iG5t6B6RZOAlaNOmB4/PBsn9akPTySZqRpNGMtvsJEUaaVTBYqUdyr/U+T4D9akSzEZu0hzWYV0wZxY7uNMszbyDX4MUB/X4cEgUuqSFRTZWEyv8Z5AjWWa6M1ioQgIppClphdzLFFTEklolLGf2ENjI+02wKc+Qk3Fo40TBWNUcd0un1yaPWYm4RfkSYosSzf7RVs+csSmqUGKwPmV+BeqzZCVoDazS3ogBbE1UBUryLV8FsprY5aN0FdltyOH+gVYkLdxhAjLXBnNhaxkUNIscbxiUo4RYDU1JRWx01ERBc6pClfJIUn4W5bLRuNhiI+8iBzWoD+QND1ktw0rtVc5g6JTdxPW6auAbpIvYyLlOpFvIC3+J77ESkSUl/CbkP3of3jsfoubob8A3ByJraBxkQ14wCl9PBDKSpR8/WloyaMIgoin+oZypMI2LPJKkfaGsIvIHkpuoWNcwSNrmBZXolhQggzxn3mQEofPBIkVv2ZrP2pq8WlO5BI2kyUzYPkmTNWHVzLvR8M8lGHHpb+EM/gyryLNIsWsjadD5Ie0uEqzjSaRZior4PJA3GCyjHBAbEWSR3lV4wyVbU1GWFLa+YcFc/Oehh3HQ1NuQrduJXcFVvs0bD5MsGBajLnrIGMMwH0G5Itk9R5GZKqZTlfrhskeB2CZbqEGUJolnl3pIWHOywNGW/Dhx+GUouq36CEsulDxj4+8fubmVnIpvNiPLLttaTqkxHEqII2s31fmyNT4dEWzmlBkSNSfRBE+3oPu1gFeAb1AqDmWelrZOMrdU0gAAIABJREFUSz/bbT8hxNZVxOTzPUJstLvjQofkAqP1jy0l9b3Usi78Kop6JFWRogiqkBxYnFAd3/PyyuK7qloaLTi8UJPkBP2aF2CSYlda7QVdQyKrjtFI1JhDRWyWyQsMPS4tiSTlIelBERzWflRNhQEl7PHknXgBGgWKUPAKjyvFxObpmSBgIVxsS1lsgFvwYOZWYv0D92HxAzNx9DNPArW7IVetcrIoKJ+PGDtxHqPuW6ntUwkRwkTVdVOkwxV9uB1CjVoPlxs2pdVgA0WSIMur5QYY9VDov+i2eCGnMzbaJYRCuBTu7hSQIOupaS0+umA8ssv+D1+4/UEk9xqB5vRneP6TPPEBnlTgk4pwdoLYlC0dJr/zKZ+qAMFWaDC4lnIFpWiSLikAmTXYePo5yP3nXQy65SZoR54AizZfhRyyVLSPLBCyZli8mJWq26AQqAur9xiLoglreYbZ7G3dHHANnJJmPSvyh1UbyBnAd0rWEqmyUD5omEJDRNnBi67jcH+KrWEBcNJJJbvNYjUZrjvHBWBJw7ITTMTfDx95jaoMpKCzcGgOsMitTyV2bDimwWWpSp8Qd33RFWLrOmb9/YoeIzZSe7RIS5HjIUgxn7QVTNRmDPhVtOsmpf7gLIer+6o4SuW2DKZFV1YfZ4vRWRTrHTarIowauQ2DwpoBI1GEI3kdXQpkIKV2loQy4FiqxrZJVhO74tS6QwTGlYCVvjF/w10jWDpp58zrE0l8qeVfuVmIqSkCkVUoO+OJDExCG3h3MZafdzb0NQ1ITbwcg793DtyqtJKvoiWbMiM4qqzEY8lVENT5V7FlFYoohyXtWlTvw+aYvekfRZZbyHVkJQf12HgOijiw9ZoguIViLJg8XXi+C6sxj8Lv78OK23+NWspVG3MKPnvFJPg1w+B6SY7ZsXWKciV3L0kpkyRZqZCFttygVPsD8cWt4CnS6uwIukITmp6cicLlv8KgTAarxp6EnabcASQHAl4OBYsiQquV+DNtZlpOAotqBPIYVDiU2ia11q6jzZtKj1QPMP2Wzq/IvVxqSnlDEpTu4XI95O5lZ7xKA6HWOGE+lF0rQWystUOJ+gGl0vcrHJeyM+lZVmedpcYWVndT31AVJat2Py27i2Cf0VL5L9J1VYgtUjj7RWM9RmyEnp4JVMiTNhq5wKGOz+RrYSez7NIggWMVNKG+xFzROdhpMvpkblFQBJUQJsUPqiWlb4SLQep91pkn94eSd6JcNyIqJcflI8HlnE34CaVLr5KySe5frRq+5aFZIxV70kVUC1aOVEk4OJN2xaraNQtMKO0TJDjumhZ4C14Qdr3N/XP4vaexuZvReNklSP7pD9jcuAnY70gM/d8HgKE7MTmwsC4djJFcScmVppXY6EyQxI3pIlpnwkKgITkpt1bwLLesQ0GFO67cHSzarNLPglFM4RT40dYqIouVMFeyXQRtnrBz80i8sxyfXng+Bi1bBEvP4cPEEOxxz//AHHkYYNbA1zWuukznbHSCRbOjJK5LEXhRfTZ6Fvg+2rtKWewB57Q02qJpGRqpG9fjkx+Mx6B/zkVt3sWHVcOw220PwTr8MJKhUV4FRxUaVQKU6hlQkTRbj5VTA1iPM/gdlxJUuXD8+PLGK8C/xJwS6dAGh9IP2IUYvoKdHseQhhu+UlE3AUu6GkUyOrD8ami8g8uwXJ1N4Vo+nceyRE3p542/LJSAT+WbSDBcbfjI16BpVC6qCga1z96TzrRXauLb/l6IrWt4yad7Ko+Nv9q0UAcLguFx0jWRV5WXYMUG3i0ymZCLK7Q+lMXW6l0K5EGCitmhYDGdufAZQpBvpJQsaMdL7hBqiwIBQstPKWfwnr54sWbNQ1U2hlUdgiMlOkJixxGvilRSpdX5RO4+gzUXFVsoQmlnwSPB3KAUC0ipRHPhrHgTa8efgs8sX865Q6vMFFD/M+x84s/g1yaQ04n26/gIvpT8Em/tA4tBC6paFxObWtBbK0u3ITb+XeAq47DHcMUli01ZIJzF1WYhJ0vZZVFnkzYZlB9Iyvqk/7j5U+QfnYdPbrsVO+Q+RB2asXrAYOSOOh5f+OUkoHYnuMkqtkCIMqvYQ6fCBclF3eGrDblyhE27sZTBiZJyuAZVa4ikSXrM0jw+40PWgbtoIRov/hHS2Y+4RuDmxGew5oBD8KVpU4ABQ+AaNWpclGfXMrVq09AesamdRIvJG4DeimHLc9wJs0gVOVJqL/zstVjXaqbbnNGV2vgExKaCsIh8A+8I18ejnqhaOwmCh/V+Si2FHDqsDqJpc8lVBsgSpetV0JLGqjFBYbyS4yvVnxBb1xCST2+JQI9YbP0J5uL1P3SIke6f73owKIuXiM110DhlEpbNugs7+zbqbB2r9QQ2jNwTw6c+DW+wCT3twberoSdItLjyEKQzUzo7NR1Vz4WIjbKGE6vexeunnYeBQ4ZgB3wK44OlaNjnAHywIYcxt9wF7DAM3oDByOrkxKIKAT50Sr+gmyQfZQQvmgO1vJKHOjhnJOIl16CTQdr14G3YjDk/+ylGbvwEdbtUYfPrS1Dzla/h9eWfYPR1V2PQfkfCM6tB9eUMnTZK7RRki2Cs0kTXERCLreuY9fcrhNjKfALaIzbPdWFQcErB5mrHmU+W4bWf/BhfOWQPJHUH9gMPo/bSS/DKrHn48vlXofqIA0C1KH0qh5MgS6bMQfXE5exyU7t9Pl8LhOaXzHkEO2/ajKHf+AYa7p2CxKIFqL33cax+fxmWvPlvHHPuBMCw2B3MR6psIYdVrqMiNkW7LOfEldpJoQbIai4sqmTt2Fiz9F18+torGHXMIVj51ktYcuPNOPaBR7BxYwNeXvIPHDf+p3D9FDwrz1G15GiTV2UgIMRWGfPQl0YhxBbBbLVz/MKisSRYTJFuaz7+CEkzj4E71SH7x8ew9sYp2PGV+TAaDWx6bxMG77s/6yrTMUV1p6IFIxh0V5sgNWFSEjFVTTeLIu7o6MXZBE3Lw0ta2HjHNHz6yB8x8rnXWGuEjmUMnST6AwV59vGqUHl2nZbIx+rsEJUTL6gYHpyNqjNARcapApW+IUuMDvocLJs/Gy9Pvwun3P8QMHgAmu0c0skhfIJKLmHLMLgim7wqAwEhtsqYh740CiG2cmerOHCgqC3fpTNADa7tsFaibzjIktUzcwYabroGda/+HQP0Kng5SlofCN8jV53buajIcsfcnetp7K4Hh4JbgsR2Okp19Bw80wFl/WVvvQ6F51/Cjo/OgWZSjpMPU6OgByUgzGdVxQdPkflcyZJUUZMaF6YlKSsNOV9ZcZbnwrBdeNkC9EQKKxf8Ga9Puxkn/uExuLVJlqoynSTrXuZTdD5KGtclQ1u6g6Jc0w0EhNi6AVo/v0SIrdwHoNhcK44xKM4FK/pMZuaDWH3tpdh98YcwNIoya4JDUWok304Rm6nO1Mcqd9Bdv15ZWZQLRfmHQfKvpiNvstATBfIje8tvkXnmGez29AtwAwKk3wXpxTA4gbwoMKJkdF9nxxkGGdHnqQioyuALoxNZVtoL8vwKeax+djb+MfUmHPfEs/Dr6jjfQ6MDOa218KvYa53Fvuc/J8TW8xhvbz0IsZU7o9sitjC6k9pn9RSlS7n50Xvxn5sux96vfgRDT8DSNnIIvecn4dJ5EAVZVGTwCFfBY4kuk6IMfRIPTiCnOUjx2ZuODTdPRvbZp7HrUy/AtygdQmUhKr1JknQyWVqtRTkmMmJTNf+UyRbml6nU9PBFUZ7sAHUzWPPcI3h56jR854nn4dQM5XM/3aaoS5PL6nC0f7nPhVwfGQJCbJFB2W8aEmIrZ6q3PFzbOo9XtU7h8bRYejY2PXYP3pl6FfZd9BEsPYkENgEsB1bNuXZUQjKy9b6ce9viWjrFInuNE449lePlaEnYmsuVtSnsff0tVzGx7fLkX4EEqYsQh4XJGJTgQaHsyjWpMtsjYnCeh3AyKDVBWW4cjR/cB525sRqHn8GauTPwws3TMG72S8ilhgSSZlQOqagaXiUG8EQ4n32pKSG2vjRblTFWIbZy5qF1LW1Jcm1JCyu22FqW3Sw2P3o3lv12Cka8+iF0ckVaGbbm4FPSrHJDRrTcl3NnW10bZs4RUZF2JhGUS9LBpB8Z5CM23DwJTXOfxu5PLgqKYVLV76CpIEFRBXooFZdAIK38cRblu4VqbC2iGEVJ6yzaUShg9byHsODWaTht9ktw0nWsPKMhj7xuwPJMlcNXibuL8pHqky0IsfXJaevVQQuxlQN/F4iNyItEi+1H7kXDpBux++sf8OLvJAqs4JGienT5oMZJJVoLdK8ULGLSHzZXYyARaFWajk7SfGy89TfYPPfPGPanV6CbCZX0Hh50Ec5Ua0+jRH2y/EggOaIAjWJiC7BTMSpBMj0Fp3Lcig690cfaeQ9j0e9uxNjZLwFVlJRNY8sho+lI+xT00mkl6nKeHrm2kwgIsXUSKPlYCwJCbOU+DMUWSQdthcoS2UfuxeqrJ+ELb3wAJKuhUWoxqUDwfywW2Qn1vnIH3b3rqewLjZKqLXDZE9eEZ3hstZGBs37aVWicOwe7P/U3aGaiVUqwSEWDhJQJC6WHH6Ft2t48FLmKWcyDxm/nsGbOLLx688341pNz4deSPJsSjC5oRLdE2KQWU4m7i+7NW1+/Soitr89g/OMXYosJ81CnPvPIvVg1+dfY4/X34CYGwIINjRXvSYyDKlxTPF6EC36E90duRLJ6tiQ2qpdnQUfD1KvROG8OPv/UQsCsPOUOFhO2m7F2zuN4ZdqtGPvks/AG1LGjWPcpPy8Q8aUEPCoRIa+KQECIrSKmoU8NQogtpukSYosJ6BJWsxBb789DV0cgxNZVxOTzQmwxPQNCbDEBLcTW+0BHPAIhtogB7QfNCbHFNMlCbDEBLcTW+0BHPAIhtogB7QfNCbHFNMlCbDEBLcTW+0BHPAIhtogB7QfNCbHFNMlCbDEBLcTW+0BHPAIhtogB7QfNCbHFNMlCbDEBLcTW+0BHPAIhtogB7QfNCbHFNMlCbDEBLcTW+0BHPAIhtogB7QfNCbFFOcnFichBu5yRVqRZuP6x3+PD6yfhgEVL4CaSnNis+ZTHFhbgrOAE7UAmzNaoEBuVgzG4vprDCdoGPrzjJqz6y3M49JE58A1LaTUGKXmUAK2EikmlxOQK2lFmirXJzw7+wbmBDL4NT9Op/jdMN4sV857BvGnTce7jj8OvTnL9AdO3uM6cQbl6LJcsMshRfjXKaUuIrRz0+ue1QmxlzHsbYX+WbyLRQQMFhypskuQvLZRULsWFR/XBsj7cTz7GuiWvYLdvfRt6mtTvq3ghNVgumCSmKjM5m/nZAxwnD9804WlUjJNEhQvwXR8wEnDtHAzYKPgJ+FYSeqEZfiINXdegZxphsMaWg6bkYFb2qCkD++JLA7UvJiWlekz6KD6yro+koUF316OAJFZrNdhRd5B0HPg26XTm4Vs55P00DC/Jl1q6Dc2nKuYRyX1FdI/9uRkhtv48+927dyG27uHGV7WtWOMBVGVaM7geWM52kTB1ePksqMZmgRZ+w0S6OQPdzyJnVSGV8AG3iotv+oaHAkyQXkelUpvreNB0DwWPFPTJRtOQYEkw0qGy2OokcUjP9bHojbfxtdH7IVvwYSUTXOpG83No3LgOr3/chP333xcDI1KtapfYfB8FTYOTzSLtN+DdVY3IpHbAPjsPRoJMuZwJX2+GZ2Xx3Auv4OADjkBNdRV8N4N0Mi0WWxnfi6gvFWKLGtHtvz0htjLmuH1io+rNOjyf3HPkBsvhuquvwc4HHILjjj8Bdb6NpNOMjWYaAzQHup3m8i2e6ZO4VgUTmwfPzcP1dGhWArl8AVUJE27egWmRa5EozYBj21jf8CnGnHw23l4wC7ZVi4Lto1q3UWi28a+3FuHc+nsx9/lZGBqRt68jYjNoHrx1mHL976B94UBceOrxyG1swoBELagsQWNuDUaMPAD3/89sHHXEaNaJ9D0fhhHR4Mp4vuRShYAQmzwJXUVAiK2riG3x+dazHXWG5BOpkVCw6yChe9DcZky64jdI7H84zvzuSRji2kg5GjZaGqp0G6abYgtP49I1fPSk/l5xLxteYSMcfSAcT0OSCn7beRhGNZxCDskEkHN1+LqFBDLYrNdgYH4tClYdW7FJkj72gH8seBI/vG4W5s5/GEN62GLLazp014VVWInrbrkPmcFfwiVnfRtpKw3NpmoLPlyzkR3BDqphsWakB8OgYq8VOQkV91TEMSAhtjhQ3r76EGIrcz75WI3boPMjRWy250On0mpeDrqfwRWXXQHrkBMwYexxGOJ6WPZ/a7CicS1SKWD48P2g6aoymeX50Kj4ZkWuqTksfftFfO3IM3DbHXdh/Pe+jcMPPRAP/mEOrr/mctx/15349mnn4K777oGXWYGvf+cMLF7wLNx8M+7938dwwQW/xKH77Ib6X1+MidPn4y/zfx8LsVm+C91dh5tuuhMbBn4Rb897DE898QzqL7wMF/3mF4CVw74j98V9Dz+HIw/Zl89FfU+DERHplvl4yeVisckz0A0EhNi6AVqbS8JaYHy+pIiNwkDgOzCRB/xmTJp4ObDPN3DpGSdi/h9m48wfX4GN+RWw4OKM0y7ArXdNQ7PtoTZBkYKB9VbuuCK/Pot/v/UcRh4wDldeNRnfPOa/cObpp2JDvg7XXVuPkcOH4Pun/wq33vNHHLhPCl8bezpenj8Hbzz/NM6cMBF3z/wjBmdW47wzxmH9sKPw6suPY2hE5LEtV2TWB5IUbeqsxbRpd+P6GXNx/5RLUZ2uwynHjcWU227B8Scfjf1HfAUPPP48vn7g3rynoNCTKCM2I5+KftagWGz9bMIjuF0htghAbI0iUcTmcFi8BxMFwMvgmomXYcC+Y/GDE/bD/zvmBJx62fU4/aRvYNlbr+OUY0/DtdPvxtdPOgoUI1kDM9o6ZVHcH7fRhPfefgYjDpiAZZ98jM8OzmPB/Dl44PE3ceftV6HKWocf/egm7HPgNzH+xL0w+rsX4N/zHsL4752KA77+TZx7/o9RbThYOON2THjgNcydPwPDepjYckRQ5IrUGnDddbfjzQ3AQzfUo1DQMP2K3yK96874/ln/jVF774t7Zi/AUaP34jslYpMTtsgenLIbEmIrG8J+14AQW7lTzodsLWYbl9CkfCjNo0woRWzXTrwUgw48HaccNBDHn/RDzHrjZQ4iqW7ciNn3PI23VqzCxTddwkVH0xpVNqtEX2Qj3n1zNvb+r5+jYcM6DKpaj5cWPIs7H1uC++64EgnvA1zw83uw/8HfxfgT9sCXvnkBPp5/J7553Ldx4RU34OjDD4Xr+3hv4UycdPksvLDwcexaLvbB9duy2OiMzfBcmH4Drr32Vvi7fRmXnnkCfKQx4/pbsLkqhVPO+W8ctNd+mD77BRwzei9QIj0VQRVii2hyImhGiC0CEPtZE0Js5U44Jx2HL8pI0+C2EJsHuI24ZuKlcA4+GWfsn8bZZ1yCB156ATvqWSRyjZj8ixugDfosJl79cxhOBlayhi2GynttxjtvPYGRB12Otas+wqDqBsx/5gnMmLsMd/7uciT8f+PCix7Erl88FmeesAfGnDcJr/xxOi6ecCaGffkQ/OAXv0Kd3YTnH74NEx5cjL88/yh272GLjYgtQTPirsO119yM9N5fxU9PORqOl8IjN96MBiuBU3/wHRy89yjcPvsFjBm9Z2B865yjJ6/KQECIrTLmoS+NQoitrNkKhbKUAwu+zgujx0dsLiydIiVzuGLiJag9aCzOGTMSxx99LCbdcieO+uporFy2AscedRIum/QbfP/UE5HQ8tCMSq2g3YT3//ln7DmqHuvWvI/BA5bhrwvm4f5Z63Dn9F8i4f0TF144Hfsdci5OPm53HHHC9/CPv/0FSxfNw3EnnY2LJ/8W1dkNuP/O6cjvPBpzn50ZafAIbS8oHpUdiYEVbXvgHEJ4jZh60+9g7fg5XHjWd2G7Oh6efieWN2bwk5+ej/323AsPPDEXR4weqXLyfMCk6B95VQQCQmwVMQ19ahBCbGVMF9EaJyRzGzr/R4tqpjmL6uoEPC8PII/LL/81Pv+lw3HWWafgvnvuwE9+dAEcR4OVGgrdGoAVK97BwGpahG1oWrJCU7SzWPLmfBw55iq8/+4iDKz5EK++/BoeemwTbphyPtKJZTjv/Ksw+pDxOHbMF3Hayd/FwoV/BfI5LH3vfRw0+jAc/LUj8av6K3Hl1ddj7rOzUJ3oWcvUdV0YhoFsNovbbrsNnufhoosugu/7mDp1Kv/u/PPPx5577olZs2Zh7733RlVVFSxL7LUyvhaRXyrEFjmk232DQmxlTPG2iM3jfDQPrpPlc7O3//Uv1NTtjl13HcaSTa///W/4+JO1SNfsgIMPJcULA5rnwCDtEZNUL3p2we/WLfsOfLcZtjEAvlNA0igAjo+sVQvPdpGiCFAzBQ7Y8FzO4fNdG7qhs+SWblCWmImmnAMrbcHUel6NkQiMyIz+pB9d15HL5VBdXQ2HZLV8H5qm8fv070SCNiPBNkUstm49Jj1xkRBbT6C6fbcpxFbW/IauSNaU4h+y2Eh1xHNtmBapbBV4Ac06adYvTBoOTBNwXB3Nto5E0oRd8Nh60VCoXIuN1L8KBXhJFxqpj+R1Tix3kh4M34Bp63B0H57hQ9dU8EUh3wyfEtUTCbiux8okVjKFgufB1HRYPeztI7IiqywkMLLgiMToFZId/Z7IjsYYEiFZbER48qoMBITYKmMe+tIohNjKnC0/cEQqYmPZR46so/97vs2ivyQl4vhp6GQ5uM0seKxbaeQcIjcPtWkLmluA5+aQTA6oUIsN8F0PjmbD0Gm8ZJbqcDQXumaAjhMJApecs3S06NhImCZrSxIhGroOTyfxZFJl0ZA0dXX+1YMvIqrwRZYYkRX90N+J4ML3CoUCExu9F14jxNaDE9PFpoXYugiYfBxCbGU/BGFUZFvzw+doSfqhpZ5SABIq6dfNQzc0DlJwOWaPlC48JHQKM3cBrVIV/omoPeg+iTyTJZpn+jY0UsUn0ijA84gYTGimTmYrS4wZpKQSxBpyYA25/3RD6TH2sLsvtNRCCy0kNd6ABCRXTH7hoxC6Lct+NKSBSBAQYosExn7ViBBbudPdEu4fEFtghYRWmyI3JRBMMZNktanyNkR2Kj2A3jfDcDyivwp0gxF50Z0Yns5HgGS5sfPVtdhMdXWSDyMHpMVRoa00T3e45St8p4dNtnLnVq6vCASE2CpiGvrUIITYyp2uYol/NgVUg61vK4ojwV0uKkqrfvDydCq6qUjACCtyUgMVuN7TPZCiiqUi6mGrmHpYlI2u+yjoYHLWibe3sMRaboc2AS3/UOJV8hIESiEgxFYKIfn9VltnfwtfzMcff7wVSvQROninw3gKjZZXEQIdEFuoR6KIjjTkNWiUvR0QIBEbhVSQzcaWUEiMFbjeEwE7FPxCZ2s6QMnP9Eo6yvosGGTN0Y8HNtwC1cUQqbCSeJtnpwLvU57tykNAiK3y5qTSRyQWW7kzFB6xtXjXlElDJ2bFxEY2G0llFRObzxabqzLgKp7YPDhwkWTXo4e8zlLPSNiWIjrDg0mq+C7gW0SD4R0rgbAWYiveCPRwVGS5UyvXVwYCQmyVMQ99aRRCbOXO1lYWm3qDiE39GTrc1PsauRyDN6nidPj74vcr0UNHrlS2Oj06AwRcTRGb7qp/e0R0vkp3IMLe0vxsY7G13HS54Mv1/QEBIbb+MMvR3qMQW7R4SmuCgCAQMQJCbBED2g+aE2LrB5MstygI9GUEhNj68uz1ztiF2HoHd+lVEBAEOomAEFsngZKPtSAgxCYPgyAgCFQ0AkJsFT09FTk4IbaKnBYZlCAgCIQICLHJs9BVBITYuoqYfF4QEARiRUCILVa4t4vOhNi2i2mUmxAEtl8EhNi237ntqTsTYuspZKVdQUAQiAQBIbZIYOxXjQix9avplpsVBPoeAkJsfW/OenvEQmy9PQPSvyAgCHSIgBCbPCBdRUCIrauIyecFAUEgVgSE2GKFe7voTIhtu5hGuQlBYPtFQIht+53bnrozIbaeQlbaFQQEgUgQEGKLBMZ+1YgQW7+abrlZQaDvISDE1vfmrLdHLMTW2zMg/QsCgkCHCAixyQPSVQS6RGxURXv48OFd7UM+LwgIAoJAtxF47733YBgG/2ialF3vNpD96MJOE5vneXAcR4itHz0ccquCQCUgQMRmmiZ0XRdiq4QJ6QNj6BSx0X0QsdEPWW3h332/tXy07KT6wGzLEAWBPoAArSu0nhCR0Q9ZauHf+8DwZYgVgECniY0eNvohUgv/Xjx+IbYKmE0ZgiCwHSAQbphpTQkJLvz7dnB7cgsxINBpYqOxhA9csaUWwxilC0FAEOinCIQbZtk499MHoJu33SVi62YfcpkgIAgIAoKAIBAbAkJssUEtHQkCgoAgIAjEgYAQWxwoSx+CgCAgCAgCsSEgxBYb1NKRICAICAKCQBwICLHFgbL0IQgIAoKAIBAbAkJssUEtHQkCgoAgIAjEgYAQWxwoSx+CgCAgCAgCsSEgxBYb1NKRICAICAKCQBwICLHFgbL0IQgIAoKAIBAbAkJssUEtHQkCgoAgIAjEgYAQWxwoSx+CgCAgCAgCsSEgxBYb1NKRICAICAKCQBwICLHFgbL0IQgIAoKAIBAbAkJssUEtHQkCgoAgIAjEgYAQWxwoSx+CgCAgCAgCsSEgxBYb1NKRICAICAKCQBwICLHFgbL0IQgIAoKAIBAbAkJssUEtHQkCgoAgIAjEgYAQWxwoSx+CgCAgCAgCsSEgxBYb1NKRICAICAKCQBwICLHFgbL0IQgIAoKAIBAbAkJssUEtHQkCgoAgIAjEgYAQWxwoSx+CgCAgCAgCsSEgxBYb1NKRICAICAKCQBzSrao6AAAFEklEQVQICLHFgbL0IQgIAoKAIBAbAkJssUEtHQkCgoAgIAjEgYAQWxwoSx+CgCAgCAgCsSEgxBYb1NKRICAICAKCQBwICLHFgbL0IQgIAoKAIBAbAkJssUEtHQkCgoAgIAjEgUAvE9tmvFh/PTBxMo4YsMXtLp2Bw354BybcvRDjRsQBRRl90FgXj8LCrQZK93c86jEZcyYfgfAWN79Yj+PrXwQwAXcvHIfybm8pZhz2Q9wx4e52+qd76gDjzt5yX5qLzt6TfE4QEAS2WwS6R2zBQqdQOQKT57RDTJ2CLIJFt1P99PCHtklsHfVLhLQYo0oSmyLH5eMCgmfs0QVC7AzGSzGjfi1ODMl384tQ+41WMu5hBKV5QUAQEAQiQ6DrxEaL3vFzMaYdMmu1RMgYCS0IWlifAsYsRT1bKQERLlcWWZtXeE0LcW5BmktnoH7tMIyorwdfGX5+i4V46YzDsHhUMREE/WzTqmkdRZtri9ttt+9hyiKj22p5hWMOrDU2zNqzpjpLbEQ6M7B0xDhMHjcCS1+cgcVzgVGTydILrDVCdfIcTC42e7ex+eA5Wj5uC+uuA2Lb1lxE9ghKQ4KAICAIRItAl4mNFsbrMbHtIkpjakMuxVZGsMCPUIt72+s7siba+R0vsksDC7GIGLZJbG0X7DaktQ0cOyK2dvumdjqy2Lb5u64Q21oMG7EcQ8eNwloiyrmLMZSJTb22mhPefCzHOLYGt8aRyW3umCL3aCmLrTNWX7QPprQmCAgCgkB3EegysW2LHLZaXNnCORGTj0Dbc7Q2C303iK3lLKvoWrR1nbWMEVtbhaXO7Doktvb6poOzGIjtxHHL8dRiAKPGYdTieqw9sdX9u23saXDbwLiNS7PV8ms1PIvPBYXYuvsFk+sEAUEgfgS6RWwzhm3h9mrPaqgUYms3qGPbQFccsbVYo0PxVHAmhxkdE1unrGK26uoBdmEuL3HGJsQW/1dTehQEBIHuItBlYmPrpL3gBXp/xrDAvbWlK7Io8nEL62bb7sFtuCLbtZqK3HrFEXzDil1ynYOolRTI0iyKaOzI0uwo2KJcVyS1/dRQPl8LX0tLEBvPUTAX4AhM4q+2Fl40rshSEZmdw1w+JQgIAoJAlAh0ndgC60yFq9OrNcCjOHikNZhhC4LacqEvDnIIgizaBKFwF4FbrANyIYLkWJQjJmPyiHosD4JH2rbViQjOwJLhmI/Jk7F0bhAd2KELtShQpAWPrd17oRu0ZazhTHYU1NIusQXBMUzc9WiNXWm9v5Y+JtyNuzGjxXXZ1eARRYxF0THhXPDYhdii/DJKW4KAIBANAt0itmi6llYEAUFAEBAEBIHoERBiix5TaVEQEAQEAUGgFxEQYutF8KVrQUAQEAQEgegREGKLHlNpURAQBAQBQaAXERBi60XwpWtBQBAQBASB6BEQYoseU2lREBAEBAFBoBcR2IrYVq5ciUKh0ItDkq4FAUFAEBAEBIHuI7AVsTU0NKCpqan7LcqVgoAgIAgIAoJALyKwFbGRtUZWm7wEAUFAEBAEBIG+iMBWxEY3IVZbX5xKGbMgIAgIAoIAIdAusXmehxUrVoD+lJcgIAgIAoKAINCXEGiX2OgGiNTIcmtubu5L9yNjFQQEAUFAEOjnCGyT2EJcMpkMstksR0ratt3P4ZLbFwQEAUFAEKh0BEoSW6XfgIxPEBAEBAFBQBAoRkCITZ4HQUAQEAQEge0Kgf8PGW2dKEBCKeMAAAAASUVORK5CYII=\"/>"
   ]
  },
  {
   "cell_type": "code",
   "execution_count": 55,
   "metadata": {},
   "outputs": [],
   "source": [
    "// Sort the input array, the array is assumed to \n",
    "// have values in {0, 1, 2} \n",
    "static void sort012(int a[], int arr_size) \n",
    "{ \n",
    "    int lo = 0; \n",
    "    int hi = arr_size - 1; \n",
    "    int mid = 0, temp = 0; \n",
    "    while (mid <= hi) { \n",
    "        switch (a[mid]) { \n",
    "        case 0: { \n",
    "            temp = a[lo]; \n",
    "            a[lo] = a[mid]; \n",
    "            a[mid] = temp; \n",
    "            lo++; \n",
    "            mid++; \n",
    "            break; \n",
    "        } \n",
    "        case 1: \n",
    "            mid++; \n",
    "            break; \n",
    "        case 2: { \n",
    "            temp = a[mid]; \n",
    "            a[mid] = a[hi]; \n",
    "            a[hi] = temp; \n",
    "            hi--; \n",
    "            break; \n",
    "        } \n",
    "        } \n",
    "    } \n",
    "} "
   ]
  },
  {
   "cell_type": "code",
   "execution_count": 56,
   "metadata": {},
   "outputs": [],
   "source": [
    "/* Utility function to print array arr[] */\n",
    "static void printArray(int arr[], int arr_size) \n",
    "{ \n",
    "    int i; \n",
    "    for (i = 0; i < arr_size; i++) \n",
    "        System.out.print(arr[i] + \" \"); \n",
    "    System.out.println(\"\"); \n",
    "} "
   ]
  },
  {
   "cell_type": "code",
   "execution_count": 57,
   "metadata": {},
   "outputs": [
    {
     "name": "stdout",
     "output_type": "stream",
     "text": [
      "Array after seggregation \n",
      "0 0 0 0 0 1 1 1 1 1 2 2 \n"
     ]
    }
   ],
   "source": [
    "int arr[] = { 0, 1, 1, 0, 1, 2, 1, 2, 0, 0, 0, 1 }; \n",
    "int arr_size = arr.length; \n",
    "sort012(arr, arr_size); \n",
    "System.out.println(\"Array after seggregation \"); \n",
    "printArray(arr, arr_size);"
   ]
  },
  {
   "cell_type": "markdown",
   "metadata": {},
   "source": [
    "## **24. Merge Overlapping Intervals**\n",
    "https://www.geeksforgeeks.org/merging-intervals/"
   ]
  },
  {
   "cell_type": "code",
   "execution_count": 58,
   "metadata": {},
   "outputs": [],
   "source": [
    "/*\n",
    "Given a set of time intervals in any order, \n",
    "merge all overlapping intervals into one and output the result which should have only mutually exclusive intervals. \n",
    "Let the intervals be represented as pairs of integers for simplicity.\n",
    "For example, \n",
    "let the given set of intervals be {{1,3}, {2,4}, {5,7}, {6,8} }. \n",
    "The intervals {1,3} and {2,4} overlap with each other, so they should be merged and become {1, 4}. \n",
    "Similarly {5, 7} and {6, 8} should be merged and become {5, 8}\n",
    "*/"
   ]
  },
  {
   "cell_type": "code",
   "execution_count": 59,
   "metadata": {},
   "outputs": [],
   "source": [
    "/*\n",
    "A simple approach is to start from the first interval and compare it with all other intervals for overlapping, \n",
    "if it overlaps with any other interval, then remove the other interval from list and merge the other into the first interval. \n",
    "Repeat the same steps for remaining intervals after first. \n",
    "This approach cannot be implemented in better than O(n^2) time.\n",
    "*/"
   ]
  },
  {
   "cell_type": "code",
   "execution_count": 60,
   "metadata": {},
   "outputs": [],
   "source": [
    "/*\n",
    "An efficient approach is to first sort the intervals according to starting time. \n",
    "Once we have the sorted intervals, we can combine all intervals in a linear traversal. \n",
    "The idea is, in sorted array of intervals, \n",
    "if interval[i] doesn’t overlap with interval[i-1], \n",
    "then interval[i+1] cannot overlap with interval[i-1] \n",
    "because starting time of interval[i+1] must be greater than or equal to interval[i]. \n",
    "Following is the detailed step by step algorithm.\n",
    "Time complexity of the method is O(nLogn) which is for sorting. \n",
    "Once the array of intervals is sorted, merging takes linear time.\n",
    "*/"
   ]
  },
  {
   "cell_type": "code",
   "execution_count": 61,
   "metadata": {},
   "outputs": [],
   "source": [
    "/*\n",
    "1. Sort the intervals based on increasing order of \n",
    "    starting time.\n",
    "2. Push the first interval on to a stack.\n",
    "3. For each interval do the following\n",
    "   a. If the current interval does not overlap with the stack \n",
    "       top, push it.\n",
    "   b. If the current interval overlaps with stack top and ending\n",
    "       time of current interval is more than that of stack top, \n",
    "       update stack top with the ending  time of current interval.\n",
    "4. At the end stack contains the merged intervals. \n",
    "*/"
   ]
  },
  {
   "cell_type": "code",
   "execution_count": 62,
   "metadata": {},
   "outputs": [],
   "source": [
    "class Interval \n",
    "{ \n",
    "    int start,end; \n",
    "    Interval(int start, int end) \n",
    "    { \n",
    "        this.start=start; \n",
    "        this.end=end; \n",
    "    } \n",
    "} "
   ]
  },
  {
   "cell_type": "code",
   "execution_count": 63,
   "metadata": {},
   "outputs": [],
   "source": [
    "public void mergeIntervals(Interval arr[])  \n",
    "{  \n",
    "    // Test if the given set has at least one interval  \n",
    "    if (arr.length <= 0)  \n",
    "        return;  \n",
    "\n",
    "    // Create an empty stack of intervals  \n",
    "    Stack<Interval> stack=new Stack<>(); \n",
    "\n",
    "    // sort the intervals in increasing order of start time  \n",
    "    Arrays.sort(arr,new Comparator<Interval>(){ \n",
    "        public int compare(Interval i1,Interval i2) \n",
    "        { \n",
    "            return i1.start-i2.start; \n",
    "        } \n",
    "    }); \n",
    "\n",
    "    // push the first interval to stack  \n",
    "    stack.push(arr[0]);  \n",
    "\n",
    "    // Start from the next interval and merge if necessary  \n",
    "    for (int i = 1 ; i < arr.length; i++)  \n",
    "    {  \n",
    "        // get interval from stack top  \n",
    "        Interval top = stack.peek();  \n",
    "\n",
    "        // if current interval is not overlapping with stack top,  \n",
    "        // push it to the stack  \n",
    "        if (top.end < arr[i].start)  \n",
    "            stack.push(arr[i]);  \n",
    "\n",
    "        // Otherwise update the ending time of top if ending of current  \n",
    "        // interval is more  \n",
    "        else if (top.end < arr[i].end)  \n",
    "        {  \n",
    "            top.end = arr[i].end;  \n",
    "            stack.pop();  \n",
    "            stack.push(top);  \n",
    "        }  \n",
    "    }  \n",
    "\n",
    "    // Print contents of stack  \n",
    "    System.out.print(\"The Merged Intervals are: \"); \n",
    "    while (!stack.isEmpty())  \n",
    "    {  \n",
    "        Interval t = stack.pop();  \n",
    "        System.out.print(\"[\"+t.start+\",\"+t.end+\"] \"); \n",
    "    }   \n",
    "}   "
   ]
  },
  {
   "cell_type": "code",
   "execution_count": 64,
   "metadata": {},
   "outputs": [
    {
     "name": "stdout",
     "output_type": "stream",
     "text": [
      "The Merged Intervals are: [1,9] "
     ]
    }
   ],
   "source": [
    "Interval arr[]=new Interval[4]; \n",
    "arr[0]=new Interval(6,8); \n",
    "arr[1]=new Interval(1,9); \n",
    "arr[2]=new Interval(2,4); \n",
    "arr[3]=new Interval(4,7); \n",
    "mergeIntervals(arr);"
   ]
  },
  {
   "cell_type": "code",
   "execution_count": 65,
   "metadata": {},
   "outputs": [],
   "source": [
    "/*\n",
    "A O(n Log n) and O(1) Extra Space Solution\n",
    "The above solution requires O(n) extra space for stack. \n",
    "We can avoid use of extra space by doing merge operations in-place. Below are detailed steps.\n",
    "\n",
    "1) Sort all intervals in decreasing order of start time.\n",
    "2) Traverse sorted intervals starting from first interval, \n",
    "   do following for every interval.\n",
    "      a) If current interval is not first interval and it \n",
    "         overlaps with previous interval, then merge it with\n",
    "         previous interval. Keep doing it while the interval\n",
    "         overlaps with the previous one.         \n",
    "      b) Else add current interval to output list of intervals.\n",
    "Note that if intervals are sorted by decreasing order of start times, \n",
    "we can quickly check if intervals overlap or not by comparing start time of previous interval with end time of current interval.\n",
    "*/"
   ]
  },
  {
   "cell_type": "markdown",
   "metadata": {},
   "source": [
    "https://youtu.be/WdgAKCnWnwA"
   ]
  },
  {
   "cell_type": "code",
   "execution_count": 66,
   "metadata": {},
   "outputs": [],
   "source": [
    "public static void mergeIntervals(Interval arr[])  \n",
    "{  \n",
    "    // Sort Intervals in decreasing order of  \n",
    "    // start time  \n",
    "    Arrays.sort(arr,new Comparator<Interval>(){ \n",
    "        public int compare(Interval i1,Interval i2) \n",
    "        { \n",
    "            return i2.start - i1.start; \n",
    "        } \n",
    "    }); \n",
    "\n",
    "    int index = 0; // Stores index of last element  \n",
    "    // in output array (modified arr[])  \n",
    "\n",
    "    // Traverse all input Intervals  \n",
    "    for (int i=1; i<arr.length; i++)  \n",
    "    {  \n",
    "        // If this is not first Interval and overlaps  \n",
    "        // with the previous one  \n",
    "        if (arr[index].end >=  arr[i].start)  \n",
    "        {  \n",
    "               // Merge previous and current Intervals  \n",
    "            arr[index].end = Math.max(arr[index].end, arr[i].end);  \n",
    "            arr[index].start = Math.min(arr[index].start, arr[i].start);  \n",
    "        }  \n",
    "        else { \n",
    "            arr[index] = arr[i];  \n",
    "            index++; \n",
    "        }     \n",
    "    } \n",
    "\n",
    "    // Now arr[0..index-1] stores the merged Intervals  \n",
    "    System.out.print(\"The Merged Intervals are: \"); \n",
    "    for (int i = 0; i <= index; i++)  \n",
    "    { \n",
    "        System.out.print(\"[\" + arr[i].start + \",\" \n",
    "                                    + arr[i].end + \"]\");  \n",
    "    } \n",
    "} "
   ]
  },
  {
   "cell_type": "code",
   "execution_count": 67,
   "metadata": {},
   "outputs": [
    {
     "name": "stdout",
     "output_type": "stream",
     "text": [
      "The Merged Intervals are: [1,9]"
     ]
    }
   ],
   "source": [
    "Interval arr[]=new Interval[4]; \n",
    "arr[0]=new Interval(6,8); \n",
    "arr[1]=new Interval(1,9); \n",
    "arr[2]=new Interval(2,4); \n",
    "arr[3]=new Interval(4,7); \n",
    "mergeIntervals(arr);"
   ]
  },
  {
   "cell_type": "markdown",
   "metadata": {},
   "source": [
    "## **25. Maximum profit by buying and selling a share at most twice**\n",
    "https://www.geeksforgeeks.org/maximum-profit-by-buying-and-selling-a-share-at-most-twice/"
   ]
  },
  {
   "cell_type": "code",
   "execution_count": 68,
   "metadata": {},
   "outputs": [],
   "source": [
    "/*\n",
    "In a daily share trading, a buyer buys shares in the morning and sells it on the same day. \n",
    "If the trader is allowed to make at most 2 transactions in a day, \n",
    "whereas the second transaction can only start after the first one is complete (Sell->buy->sell->buy). \n",
    "Given stock prices throughout the day, find out the maximum profit that a share trader could have made.\n",
    "*/"
   ]
  },
  {
   "cell_type": "code",
   "execution_count": 69,
   "metadata": {},
   "outputs": [],
   "source": [
    "/*\n",
    "Examples:\n",
    "\n",
    "Input:   price[] = {10, 22, 5, 75, 65, 80}\n",
    "Output:  87\n",
    "Trader earns 87 as sum of 12 and 75\n",
    "Buy at price 10, sell at 22, buy at 5 and sell at 80\n",
    "\n",
    "Input:   price[] = {2, 30, 15, 10, 8, 25, 80}\n",
    "Output:  100\n",
    "Trader earns 100 as sum of 28 and 72\n",
    "Buy at price 2, sell at 30, buy at 8 and sell at 80\n",
    "\n",
    "Input:   price[] = {100, 30, 15, 10, 8, 25, 80};\n",
    "Output:  72\n",
    "Buy at price 8 and sell at 80.\n",
    "\n",
    "Input:   price[] = {90, 80, 70, 60, 50}\n",
    "Output:  0\n",
    "Not possible to earn.\n",
    "*/"
   ]
  },
  {
   "cell_type": "code",
   "execution_count": 70,
   "metadata": {},
   "outputs": [],
   "source": [
    "/*\n",
    "A Simple Solution is to consider every index ‘i’ and do following\n",
    "Max profit with at most two transactions =\n",
    "       MAX {max profit with one transaction and subarray price[0..i] +\n",
    "            max profit with one transaction and aubarray price[i+1..n-1]  }\n",
    "i varies from 0 to n-1. \n",
    "Maximum possible using one transaction can be calculated using the following O(n) algorithm (P 27.)\n",
    "Time complexity of above simple solution is O(n2).\n",
    "*/"
   ]
  },
  {
   "cell_type": "code",
   "execution_count": 71,
   "metadata": {},
   "outputs": [],
   "source": [
    "/*\n",
    "We can do this O(n) using following Efficient Solution. \n",
    "The idea is to store the maximum possible profit of every subarray and solve the problem in the following two phases.\n",
    "\n",
    "1) Create a table profit[0..n-1] and initialize all values in it 0.\n",
    "2) Traverse price[] from right to left and update profit[i] such that profit[i] stores maximum profit achievable from one transaction in subarray price[i..n-1]\n",
    "3) Traverse price[] from left to right and update profit[i] such that profit[i] stores maximum profit such that profit[i] contains maximum achievable profit from two transactions in subarray price[0..i].\n",
    "4) Return profit[n-1]\n",
    "\n",
    "To do step 2, we need to keep track of the maximum price from right to left side \n",
    "and to do step 3, we need to keep track of the minimum price from left to right. \n",
    "Why we traverse in reverse directions? \n",
    "The idea is to save space, \n",
    "in the third step, we use the same array for both purposes, maximum with 1 transaction and maximum with 2 transactions. \n",
    "After iteration i, the array profit[0..i] contains the maximum profit with 2 transactions and profit[i+1..n-1] contains profit with two transactions.\n",
    "\n",
    "Below are implementations of the above idea.\n",
    "*/"
   ]
  },
  {
   "cell_type": "code",
   "execution_count": 72,
   "metadata": {},
   "outputs": [],
   "source": [
    "// Returns maximum profit with two transactions on a given \n",
    "// list of stock prices, price[0..n-1] \n",
    "static int maxProfit(int price[], int n) \n",
    "{ \n",
    "    // Create profit array and initialize it as 0 \n",
    "    int profit[] = new int[n]; \n",
    "    for (int i=0; i<n; i++) \n",
    "        profit[i] = 0; \n",
    "\n",
    "    /* Get the maximum profit with only one transaction \n",
    "       allowed. After this loop, profit[i] contains maximum \n",
    "       profit from price[i..n-1] using at most one trans. */\n",
    "    int max_price = price[n-1]; \n",
    "    for (int i=n-2;i>=0;i--) \n",
    "    { \n",
    "        // max_price has maximum of price[i..n-1] \n",
    "        if (price[i] > max_price) \n",
    "            max_price = price[i]; \n",
    "\n",
    "        // we can get profit[i] by taking maximum of: \n",
    "        // a) previous maximum, i.e., profit[i+1] \n",
    "        // b) profit by buying at price[i] and selling at \n",
    "        //    max_price \n",
    "        profit[i] = Math.max(profit[i+1], max_price-price[i]); \n",
    "    } \n",
    "\n",
    "    /* Get the maximum profit with two transactions allowed \n",
    "       After this loop, profit[n-1] contains the result */\n",
    "    int min_price = price[0]; \n",
    "    for (int i=1; i<n; i++) \n",
    "    { \n",
    "        // min_price is minimum price in price[0..i] \n",
    "        if (price[i] < min_price) \n",
    "            min_price = price[i]; \n",
    "\n",
    "        // Maximum profit is maximum of: \n",
    "        // a) previous maximum, i.e., profit[i-1] \n",
    "        // b) (Buy, Sell) at (min_price, price[i]) and add \n",
    "        //    profit of other trans. stored in profit[i] \n",
    "        profit[i] = Math.max(profit[i-1], profit[i] + \n",
    "                                    (price[i]-min_price) ); \n",
    "    } \n",
    "    int result = profit[n-1]; \n",
    "    return result; \n",
    "} "
   ]
  },
  {
   "cell_type": "code",
   "execution_count": 73,
   "metadata": {},
   "outputs": [
    {
     "name": "stdout",
     "output_type": "stream",
     "text": [
      "Maximum Profit = 100\n"
     ]
    }
   ],
   "source": [
    "int price[] = {2, 30, 15, 10, 8, 25, 80}; \n",
    "int n = price.length; \n",
    "System.out.println(\"Maximum Profit = \"+ maxProfit(price, n)); "
   ]
  },
  {
   "cell_type": "markdown",
   "metadata": {},
   "source": [
    "## **26. Maximum profit by buying and selling a share at most k times**\n",
    "https://www.geeksforgeeks.org/maximum-profit-by-buying-and-selling-a-share-at-most-k-times/"
   ]
  },
  {
   "cell_type": "code",
   "execution_count": 74,
   "metadata": {},
   "outputs": [],
   "source": [
    "/*\n",
    "In share trading, a buyer buys shares and sells on a future date. \n",
    "Given the stock price of n days, the trader is allowed to make at most k transactions, \n",
    "where a new transaction can only start after the previous transaction is complete, \n",
    "find out the maximum profit that a share trader could have made.\n",
    "*/"
   ]
  },
  {
   "cell_type": "code",
   "execution_count": 75,
   "metadata": {},
   "outputs": [],
   "source": [
    "/*\n",
    "Examples:\n",
    "\n",
    "Input:  \n",
    "Price = [10, 22, 5, 75, 65, 80]\n",
    "    K = 2\n",
    "Output:  87\n",
    "Trader earns 87 as sum of 12 and 75\n",
    "Buy at price 10, sell at 22, buy at \n",
    "5 and sell at 80\n",
    "\n",
    "Input:  \n",
    "Price = [12, 14, 17, 10, 14, 13, 12, 15]\n",
    "    K = 3\n",
    "Output:  12\n",
    "Trader earns 12 as the sum of 5, 4 and 3\n",
    "Buy at price 12, sell at 17, buy at 10 \n",
    "and sell at 14 and buy at 12 and sell\n",
    "at 15\n",
    " \n",
    "Input:  \n",
    "Price = [100, 30, 15, 10, 8, 25, 80]\n",
    "    K = 3\n",
    "Output:  72\n",
    "Only one transaction. Buy at price 8 \n",
    "and sell at 80.\n",
    "\n",
    "Input:  \n",
    "Price = [90, 80, 70, 60, 50]\n",
    "    K = 1\n",
    "Output:  0\n",
    "Not possible to earn. \n",
    "*/"
   ]
  },
  {
   "cell_type": "code",
   "execution_count": 76,
   "metadata": {},
   "outputs": [],
   "source": [
    "/*\n",
    "The problem can be solved by using dynamic programming.\n",
    "*/"
   ]
  },
  {
   "cell_type": "code",
   "execution_count": 77,
   "metadata": {},
   "outputs": [],
   "source": [
    "/*\n",
    "Let profit[t][i] represent maximum profit using at most t transactions up to day i (including day i). \n",
    "Then the relation is:\n",
    "    profit[t][i] = max(profit[t][i-1], max(price[i] – price[j] + profit[t-1][j]))\n",
    "          for all j in range [0, i-1]\n",
    "\n",
    "profit[t][i] will be maximum of –\n",
    "    1. profit[t][i-1] which represents not doing any transaction on the ith day.\n",
    "    2. Maximum profit gained by selling on ith day. \n",
    "       In order to sell shares on ith day, we need to purchase it on any one of [0, i – 1] days. \n",
    "       If we buy shares on jth day and sell it on ith day, max profit will be price[i] – price[j] + profit[t-1][j] where j varies from 0 to i-1. \n",
    "       Here profit[t-1][j] is best we could have done with one less transaction till jth day.\n",
    "Below is Dynamic Programming based implementation.\n",
    "time complexity of O(k.n2)\n",
    "*/"
   ]
  },
  {
   "cell_type": "code",
   "execution_count": 78,
   "metadata": {},
   "outputs": [
    {
     "name": "stdout",
     "output_type": "stream",
     "text": [
      "Maximum profit is: 87\n"
     ]
    }
   ],
   "source": [
    "// Function to find out  \n",
    "// maximum profit by  \n",
    "// buying & selling a  \n",
    "// share atmost k times \n",
    "// given stock price of n days \n",
    "static int maxProfit(int[] price,  \n",
    "                     int n,  \n",
    "                     int k) \n",
    "{ \n",
    "\n",
    "    // table to store results \n",
    "    // of subproblems \n",
    "    // profit[t][i] stores  \n",
    "    // maximum profit using  \n",
    "    // atmost t transactions up \n",
    "    // to day i (including day i) \n",
    "    int[][] profit = new int[k + 1][n + 1]; \n",
    "\n",
    "    // For day 0, you can't  \n",
    "    // earn money irrespective \n",
    "    // of how many times you trade \n",
    "    for (int i = 0; i <= k; i++) \n",
    "        profit[i][0] = 0; \n",
    "\n",
    "    // profit is 0 if we don't \n",
    "    // do any transation \n",
    "    // (i.e. k =0) \n",
    "    for (int j = 0; j <= n; j++) \n",
    "        profit[0][j] = 0; \n",
    "\n",
    "    // fill the table in  \n",
    "    // bottom-up fashion \n",
    "    for (int i = 1; i <= k; i++)  \n",
    "    { \n",
    "        for (int j = 1; j < n; j++) \n",
    "        { \n",
    "            int max_so_far = 0; \n",
    "\n",
    "            for (int m = 0; m < j; m++) \n",
    "            max_so_far = Math.max(max_so_far, price[j] - \n",
    "                         price[m] + profit[i - 1][m]); \n",
    "\n",
    "            profit[i][j] = Math.max(profit[i] [j - 1],  \n",
    "                                          max_so_far); \n",
    "        } \n",
    "    } \n",
    "\n",
    "    return profit[k][n - 1]; \n",
    "}\n",
    "\n",
    "public static void main(String []args) \n",
    "{ \n",
    "    int k = 2;\n",
    "    \n",
    "    int[] price = { 10, 22, 5, 75, 65, 80 }; \n",
    "    int n = price.length; \n",
    "    System.out.println(\"Maximum profit is: \" +  \n",
    "                        maxProfit(price, n, k)); \n",
    "} \n",
    "main(args)\n",
    "    "
   ]
  },
  {
   "cell_type": "code",
   "execution_count": 79,
   "metadata": {},
   "outputs": [],
   "source": [
    "/*\n",
    "The above solution has time complexity of O(k.n2). \n",
    "It can be reduced if we are able to calculate the maximum profit gained by selling shares on the ith day in constant time.\n",
    "\n",
    "profit[t][i] = max(profit [t][i-1], max(price[i] – price[j] + profit[t-1][j]))\n",
    "                            for all j in range [0, i-1]\n",
    "\n",
    "If we carefully notice,\n",
    "    max(price[i] – price[j] + profit[t-1][j])\n",
    "    for all j in range [0, i-1]\n",
    "can be rewritten as,\n",
    "    = price[i] + max(profit[t-1][j] – price[j])\n",
    "      for all j in range [0, i-1]\n",
    "    = price[i] + max(prevDiff, profit[t-1][i-1] – price[i-1])\n",
    "\n",
    "where prevDiff is max(profit[t-1][j] – price[j])\n",
    "                    for all j in range [0, i-2]\n",
    "                    \n",
    "                    \n",
    "So, if we have already calculated max(profit[t-1][j] – price[j]) for all j in range [0, i-2], \n",
    "we can calculate it for j = i – 1 in constant time. \n",
    "In other words, we don’t have to look back in the range [0, i-1] anymore to find out best day to buy. \n",
    "We can determine that in constant time using below revised relation.\n",
    "\n",
    "profit[t][i] = max(profit[t][i-1], price[i] + max(prevDiff, profit [t-1][i-1] – price[i-1])\n",
    "where prevDiff is max(profit[t-1][j] – price[j]) for all j in range [0, i-2]\n",
    "\n",
    "Below is its optimized implementation –\n",
    "*/"
   ]
  },
  {
   "cell_type": "code",
   "execution_count": 80,
   "metadata": {},
   "outputs": [
    {
     "name": "stdout",
     "output_type": "stream",
     "text": [
      "Maximum profit is: 12\n"
     ]
    }
   ],
   "source": [
    "// Function to find out maximum profit by \n",
    "// buying & selling/ a share atmost k times  \n",
    "// given stock price of n days \n",
    "static int maxProfit(int price[],  \n",
    "                     int n, int k) \n",
    "{ \n",
    "\n",
    "    // table to store results of subproblems \n",
    "    // profit[t][i] stores maximum profit \n",
    "    // using atmost t transactions up to day \n",
    "    // i (including day i) \n",
    "    int profit[][] = new int[k + 1][ n + 1]; \n",
    "\n",
    "    // For day 0, you can't earn money \n",
    "    // irrespective of how many times you trade \n",
    "    for (int i = 0; i <= k; i++) \n",
    "        profit[i][0] = 0; \n",
    "\n",
    "    // profit is 0 if we don't do any  \n",
    "    // transation (i.e. k =0) \n",
    "    for (int j = 0; j <= n; j++) \n",
    "        profit[0][j] = 0; \n",
    "\n",
    "    // fill the table in bottom-up fashion \n",
    "    for (int i = 1; i <= k; i++)  \n",
    "    { \n",
    "        int prevDiff = Integer.MIN_VALUE; \n",
    "        for (int j = 1; j < n; j++)  \n",
    "        { \n",
    "            prevDiff = Math.max(prevDiff,  \n",
    "                       profit[i - 1][j - 1] -  \n",
    "                       price[j - 1]); \n",
    "            profit[i][j] = Math.max(profit[i][j - 1],  \n",
    "                           price[j] + prevDiff); \n",
    "        } \n",
    "    } \n",
    "\n",
    "    return profit[k][n - 1]; \n",
    "} \n",
    "\n",
    "// Driver code \n",
    "public static void main (String[] args)  \n",
    "{ \n",
    "    int k = 3; \n",
    "    int price[] = {12, 14, 17, 10, 14, 13, 12, 15}; \n",
    "\n",
    "    int n = price.length; \n",
    "\n",
    "    System.out.println(\"Maximum profit is: \" +  \n",
    "                        maxProfit(price, n, k)); \n",
    "} \n",
    "main(args)"
   ]
  },
  {
   "cell_type": "code",
   "execution_count": 81,
   "metadata": {},
   "outputs": [],
   "source": [
    "/*\n",
    "The time complexity of the above solution is O(kn) and space complexity is O(nk). \n",
    "Space complexity can further be reduced to O(n) as we use the result from the last transaction.\n",
    "*/"
   ]
  },
  {
   "cell_type": "markdown",
   "metadata": {},
   "source": [
    "## **27. Maximum difference between two elements such that larger element appears after the smaller number**\n",
    "https://www.geeksforgeeks.org/maximum-difference-between-two-elements/"
   ]
  },
  {
   "cell_type": "markdown",
   "metadata": {},
   "source": [
    "https://youtu.be/SO0bwMziLlU"
   ]
  },
  {
   "cell_type": "code",
   "execution_count": 82,
   "metadata": {},
   "outputs": [],
   "source": [
    "/*\n",
    "Given an array arr[] of integers, \n",
    "find out the maximum difference between any two elements such that larger element appears after the smaller number.\n",
    "\n",
    "Examples :\n",
    "\n",
    "Input : arr = {2, 3, 10, 6, 4, 8, 1}\n",
    "Output : 8\n",
    "Explanation : The maximum difference is between 10 and 2.\n",
    "\n",
    "Input : arr = {7, 9, 5, 6, 3, 2}\n",
    "Output : 2\n",
    "Explanation : The maximum difference is between 9 and 7.\n",
    "*/"
   ]
  },
  {
   "cell_type": "code",
   "execution_count": 83,
   "metadata": {},
   "outputs": [],
   "source": [
    "/*\n",
    "Method 1 (Simple)\n",
    "Use two loops. \n",
    "In the outer loop, pick elements one by one \n",
    "and in the inner loop calculate the difference of the picked element with every other element in the array \n",
    "and compare the difference with the maximum difference calculated so far. \n",
    "Below is the implementation of the above approach :\n",
    "Time Complexity : O(n^2)\n",
    "Auxiliary Space : O(1)\n",
    "*/"
   ]
  },
  {
   "cell_type": "code",
   "execution_count": 84,
   "metadata": {},
   "outputs": [
    {
     "name": "stdout",
     "output_type": "stream",
     "text": [
      "Maximum differnce is 109\n"
     ]
    }
   ],
   "source": [
    "/* The function assumes that there are at least two \n",
    "   elements in array. \n",
    "   The function returns a negative value if the array is \n",
    "   sorted in decreasing order.  \n",
    "   Returns 0 if elements are equal */\n",
    "int maxDiff(int arr[], int arr_size)  \n",
    "{ \n",
    "    int max_diff = arr[1] - arr[0]; \n",
    "    int i, j; \n",
    "    for (i = 0; i < arr_size; i++)  \n",
    "    { \n",
    "        for (j = i + 1; j < arr_size; j++)  \n",
    "        { \n",
    "            if (arr[j] - arr[i] > max_diff) \n",
    "                max_diff = arr[j] - arr[i]; \n",
    "        } \n",
    "    } \n",
    "    return max_diff; \n",
    "} \n",
    "\n",
    "int arr[] = {1, 2, 90, 10, 110}; \n",
    "System.out.println(\"Maximum differnce is \" +  \n",
    "                        maxDiff(arr, 5)); "
   ]
  },
  {
   "cell_type": "code",
   "execution_count": 85,
   "metadata": {},
   "outputs": [],
   "source": [
    "/*\n",
    "Method 2 (Tricky and Efficient)\n",
    "In this method, instead of taking difference of the picked element with every other element, \n",
    "we take the difference with the minimum element found so far. So we need to keep track of 2 things:\n",
    "1) Maximum difference found so far (max_diff).\n",
    "2) Minimum number visited so far (min_element).\n",
    "\n",
    "Time Complexity : O(n)\n",
    "Auxiliary Space : O(1)\n",
    "*/"
   ]
  },
  {
   "cell_type": "code",
   "execution_count": 86,
   "metadata": {},
   "outputs": [
    {
     "name": "stdout",
     "output_type": "stream",
     "text": [
      "MaximumDifference is 109\n"
     ]
    }
   ],
   "source": [
    "int maxDiff(int arr[], int arr_size)  \n",
    "{ \n",
    "    int max_diff = arr[1] - arr[0]; \n",
    "    int min_element = arr[0]; \n",
    "    int i; \n",
    "    for (i = 1; i < arr_size; i++)  \n",
    "    { \n",
    "        if (arr[i] - min_element > max_diff) \n",
    "            max_diff = arr[i] - min_element; \n",
    "        if (arr[i] < min_element) \n",
    "            min_element = arr[i]; \n",
    "    } \n",
    "    return max_diff; \n",
    "} \n",
    "\n",
    "int arr[] = {1, 2, 90, 10, 110}; \n",
    "int size = arr.length; \n",
    "System.out.println(\"MaximumDifference is \" +  \n",
    "                        maxDiff(arr, size)); "
   ]
  },
  {
   "cell_type": "markdown",
   "metadata": {},
   "source": [
    "## **28. Minimize the maximum difference between the heights**\n",
    "https://www.geeksforgeeks.org/minimize-the-maximum-difference-between-the-heights/"
   ]
  },
  {
   "cell_type": "code",
   "execution_count": 4,
   "metadata": {},
   "outputs": [],
   "source": [
    "/*\n",
    "Given heights of n towers and a value k. \n",
    "We need to either increase or decrease height of every tower by k (only once) where k > 0. \n",
    "The task is to minimize the difference between the heights of the longest and the shortest tower after modifications, and output this difference.\n",
    "*/"
   ]
  },
  {
   "cell_type": "code",
   "execution_count": 88,
   "metadata": {},
   "outputs": [],
   "source": [
    "/*\n",
    "Examples:\n",
    "\n",
    "Input  : arr[] = {1, 15, 10}, k = 6\n",
    "Output :  Maximum difference is 5.\n",
    "Explanation : We change 1 to 6, 15 to \n",
    "9 and 10 to 4. Maximum difference is 5\n",
    "(between 4 and 9). We can't get a lower\n",
    "difference.\n",
    "\n",
    "Input : arr[] = {1, 5, 15, 10} \n",
    "        k = 3   \n",
    "Output : Maximum difference is 8\n",
    "arr[] = {4, 8, 12, 7}\n",
    "\n",
    "Input : arr[] = {4, 6} \n",
    "        k = 10\n",
    "Output : Maximum difference is 2\n",
    "arr[] = {14, 16} OR {-6, -4}\n",
    "\n",
    "Input : arr[] = {6, 10} \n",
    "        k = 3\n",
    "Output : Maximum difference is 2\n",
    "arr[] = {9, 7} \n",
    "\n",
    "Input : arr[] = {1, 10, 14, 14, 14, 15}\n",
    "        k = 6 \n",
    "Output: Maximum difference is 5\n",
    "arr[] = {7, 4, 8, 8, 8, 9} \n",
    "\n",
    "Input : arr[] = {1, 2, 3}\n",
    "        k = 2 \n",
    "Output: Maximum difference is 2\n",
    "arr[] = {3, 4, 5} \n",
    "*/"
   ]
  },
  {
   "cell_type": "code",
   "execution_count": 89,
   "metadata": {},
   "outputs": [],
   "source": [
    "/*\n",
    "The idea is to sort all elements increasing order. \n",
    "And for all elements check if subtract(element-k) and add(element+k) makes any changes or not.\n",
    "\n",
    "Time Complexity: O(n Log n)\n",
    "*/"
   ]
  },
  {
   "cell_type": "markdown",
   "metadata": {},
   "source": [
    "<img src = \"https://media.geeksforgeeks.org/wp-content/cdn-uploads/20190710125831/MinimizeTheMaximumDifference-1024x805.png\"/>"
   ]
  },
  {
   "cell_type": "code",
   "execution_count": 90,
   "metadata": {},
   "outputs": [
    {
     "name": "stdout",
     "output_type": "stream",
     "text": [
      "Maximum difference is 2\n"
     ]
    }
   ],
   "source": [
    "// Modifies the array by subtracting/adding \n",
    "// k to every element such that the difference \n",
    "// between maximum and minimum is minimized \n",
    "static int getMinDiff(int arr[], int n, int k) \n",
    "{ \n",
    "    if (n == 1) \n",
    "    return 0; \n",
    "\n",
    "    // Sort all elements \n",
    "    Arrays.sort(arr); \n",
    "\n",
    "    // Initialize result \n",
    "    int ans = arr[n-1] - arr[0]; \n",
    "\n",
    "    // Handle corner elements \n",
    "    int small = arr[0] + k; \n",
    "    int big = arr[n-1] - k; \n",
    "    int temp = 0; \n",
    "\n",
    "    if (small > big) \n",
    "    { \n",
    "        temp = small; \n",
    "        small = big; \n",
    "        big = temp; \n",
    "    } \n",
    "\n",
    "    // Traverse middle elements \n",
    "    for (int i = 1; i < n-1; i ++) \n",
    "    { \n",
    "        int subtract = arr[i] - k; \n",
    "        int add = arr[i] + k; \n",
    "\n",
    "        // If both subtraction and addition \n",
    "        // do not change diff \n",
    "        if (subtract >= small || add <= big) \n",
    "            continue; \n",
    "\n",
    "        // Either subtraction causes a smaller \n",
    "        // number or addition causes a greater \n",
    "        // number. Update small or big using \n",
    "        // greedy approach (If big - subtract \n",
    "        // causes smaller diff, update small \n",
    "        // Else update big) \n",
    "        if (big - subtract <= add - small) \n",
    "            small = subtract; \n",
    "        else\n",
    "            big = add; \n",
    "    } \n",
    "\n",
    "    return Math.min(ans, big - small); \n",
    "} \n",
    "\n",
    "// Driver function to test the above function \n",
    "public static void main(String[] args) \n",
    "{ \n",
    "    int arr[] = {4, 6}; \n",
    "    int n = arr.length; \n",
    "    int k = 10; \n",
    "    System.out.println(\"Maximum difference is \"+ \n",
    "                        getMinDiff(arr, n, k)); \n",
    "} \n",
    "main(args)"
   ]
  },
  {
   "cell_type": "markdown",
   "metadata": {},
   "source": [
    "## **29. Move all zeroes to end of array**\n",
    "https://www.geeksforgeeks.org/move-zeroes-end-array/"
   ]
  },
  {
   "cell_type": "markdown",
   "metadata": {},
   "source": [
    "https://youtu.be/0jXTju134Hw"
   ]
  },
  {
   "cell_type": "code",
   "execution_count": 91,
   "metadata": {},
   "outputs": [],
   "source": [
    "/*\n",
    "Given an array of random numbers, \n",
    "Push all the zero’s of a given array to the end of the array. \n",
    "For example, \n",
    "    if the given arrays is {1, 9, 8, 4, 0, 0, 2, 7, 0, 6, 0}, \n",
    "    it should be changed to {1, 9, 8, 4, 2, 7, 6, 0, 0, 0, 0}. \n",
    "The order of all other elements should be same. \n",
    "Expected time complexity is O(n) and extra space is O(1).\n",
    "*/"
   ]
  },
  {
   "cell_type": "code",
   "execution_count": 92,
   "metadata": {},
   "outputs": [],
   "source": [
    "/*\n",
    "Traverse the given array ‘arr’ from left to right. \n",
    "While traversing, maintain count of non-zero elements in array. \n",
    "Let the count be ‘count’. \n",
    "For every non-zero element arr[i], put the element at ‘arr[count]’ and increment ‘count’. \n",
    "After complete traversal, all non-zero elements have already been shifted to front end and ‘count’ is set as index of first 0. \n",
    "Now all we need to do is that run a loop which makes all elements zero from ‘count’ till end of the array.\n",
    "*/"
   ]
  },
  {
   "cell_type": "code",
   "execution_count": 93,
   "metadata": {},
   "outputs": [],
   "source": [
    "// Function which pushes all zeros to end of an array. \n",
    "static void pushZerosToEnd(int arr[], int n) \n",
    "{ \n",
    "    int count = 0;  // Count of non-zero elements \n",
    "\n",
    "    // Traverse the array. If element encountered is \n",
    "    // non-zero, then replace the element at index 'count' \n",
    "    // with this element \n",
    "    for (int i = 0; i < n; i++) \n",
    "        if (arr[i] != 0) \n",
    "            arr[count++] = arr[i]; // here count is \n",
    "                                   // incremented \n",
    "\n",
    "    // Now all non-zero elements have been shifted to \n",
    "    // front and 'count' is set as index of first 0. \n",
    "    // Make all elements 0 from count to end. \n",
    "    while (count < n) \n",
    "        arr[count++] = 0; \n",
    "} "
   ]
  },
  {
   "cell_type": "code",
   "execution_count": 94,
   "metadata": {},
   "outputs": [
    {
     "name": "stdout",
     "output_type": "stream",
     "text": [
      "Array after pushing zeros to the back: \n",
      "1 9 8 4 2 7 6 9 0 0 0 0 "
     ]
    }
   ],
   "source": [
    "int arr[] = {1, 9, 8, 4, 0, 0, 2, 7, 0, 6, 0, 9}; \n",
    "int n = arr.length; \n",
    "pushZerosToEnd(arr, n); \n",
    "System.out.println(\"Array after pushing zeros to the back: \"); \n",
    "for (int i=0; i<n; i++) \n",
    "    System.out.print(arr[i]+\" \");"
   ]
  },
  {
   "cell_type": "markdown",
   "metadata": {},
   "source": [
    "## **30. Minimum swaps required to bring all elements less than or equal to k together**\n",
    "https://www.geeksforgeeks.org/minimum-swaps-required-bring-elements-less-equal-k-together/"
   ]
  },
  {
   "cell_type": "code",
   "execution_count": 95,
   "metadata": {},
   "outputs": [],
   "source": [
    "/*\n",
    "Given an array of n positive integers and a number k. \n",
    "Find the minimum number of swaps required to bring all the numbers less than or equal to k together.\n",
    "*/"
   ]
  },
  {
   "cell_type": "code",
   "execution_count": 96,
   "metadata": {},
   "outputs": [],
   "source": [
    "/*\n",
    "Input:  arr[] = {2, 1, 5, 6, 3}, k = 3\n",
    "Output: 1\n",
    "\n",
    "Explanation: \n",
    "To bring elements 2, 1, 3 together, swap \n",
    "element '5' with '3' such that final array\n",
    "will be-\n",
    "arr[] = {2, 1, 3, 6, 5}\n",
    "\n",
    "Input:  arr[] = {2, 7, 9, 5, 8, 7, 4}, k = 5\n",
    "Output: 2\n",
    "*/"
   ]
  },
  {
   "cell_type": "code",
   "execution_count": 97,
   "metadata": {},
   "outputs": [],
   "source": [
    "/*\n",
    "A simple solution is to first count all elements less than or equals to k(say ‘good’). \n",
    "Now traverse for every sub-array and swap those elements whose value is greater than k. \n",
    "Time complexity of this approach is O(n2)\n",
    "*/"
   ]
  },
  {
   "cell_type": "code",
   "execution_count": 98,
   "metadata": {},
   "outputs": [],
   "source": [
    "/*\n",
    "A simple approach is to use two pointer technique and sliding window.\n",
    "\n",
    "Find count of all elements which are less than or equals to ‘k’. Let’s say the count is ‘cnt’\n",
    "Using two pointer technique for window of length ‘cnt’, each time keep track of how many elements in this range are greater than ‘k’. Let’s say the total count is ‘bad’.\n",
    "Repeat step 2, for every window of length ‘cnt’ and take minimum of count ‘bad’ among them. This will be the final answer.\n",
    "*/"
   ]
  },
  {
   "cell_type": "code",
   "execution_count": 99,
   "metadata": {},
   "outputs": [],
   "source": [
    "// Utility function to find minimum swaps \n",
    "// required to club all elements less than \n",
    "// or equals to k together \n",
    "static int minSwap(int arr[], int n, int k) { \n",
    "  \n",
    "    // Find count of elements which are \n",
    "    // less than equals to k \n",
    "    int count = 0; \n",
    "    for (int i = 0; i < n; ++i) \n",
    "    if (arr[i] <= k) \n",
    "        ++count; \n",
    "  \n",
    "    // Find unwanted elements in current \n",
    "    // window of size 'count' \n",
    "    int bad = 0; \n",
    "    for (int i = 0; i < count; ++i) \n",
    "    if (arr[i] > k) \n",
    "        ++bad; \n",
    "  \n",
    "    // Initialize answer with 'bad' value of \n",
    "    // current window \n",
    "    int ans = bad; \n",
    "    for (int i = 0, j = count; j < n; ++i, ++j) { \n",
    "  \n",
    "    // Decrement count of previous window \n",
    "    if (arr[i] > k) \n",
    "        --bad; \n",
    "  \n",
    "    // Increment count of current window \n",
    "    if (arr[j] > k) \n",
    "        ++bad; \n",
    "  \n",
    "    // Update ans if count of 'bad' \n",
    "    // is less in current window \n",
    "    ans = Math.min(ans, bad); \n",
    "    } \n",
    "    return ans; \n",
    "} "
   ]
  },
  {
   "cell_type": "code",
   "execution_count": 100,
   "metadata": {},
   "outputs": [
    {
     "name": "stdout",
     "output_type": "stream",
     "text": [
      "1\n",
      "2"
     ]
    }
   ],
   "source": [
    "int arr[] = {2, 1, 5, 6, 3}; \n",
    "int n = arr.length; \n",
    "int k = 3; \n",
    "System.out.print(minSwap(arr, n, k) + \"\\n\"); \n",
    "\n",
    "int arr1[] = {2, 7, 9, 5, 8, 7, 4}; \n",
    "n = arr1.length; \n",
    "k = 5; \n",
    "System.out.print(minSwap(arr1, n, k)); "
   ]
  },
  {
   "cell_type": "markdown",
   "metadata": {},
   "source": [
    "**------------------------Questions Covered-----------------------------**"
   ]
  },
  {
   "cell_type": "markdown",
   "metadata": {},
   "source": [
    "***1\tArray\thttps://www.geeksforgeeks.org/largest-sum-subarray-least-k-numbers/\tPep_JavaIP_1Arrays_31LargestSubarraySumwithAtleastK\t\n",
    "Sliding Window, Kadanes\n",
    "1\tArray\thttps://www.geeksforgeeks.org/form-minimum-number-from-given-sequence/\tPep_JavaIP_1Arrays_32MinimumNumberDISequence\tMiscellanous\t\t\t\t\t\t\t\t\t\t\t\t\t\t\t\t\t\t\t\t\t\t\n",
    "1\tArray\thttps://www.geeksforgeeks.org/find-smallest-value-represented-sum-subset-given-array/\tPep_JavaIP_1Arrays_33SmalestPossiblePositiveNumber\tMaths\t\t\t\t\t\t\t\t\t\t\t\t\t\t\t\t\t\t\t\t\t\t\t\n",
    "1\tArray\thttps://www.geeksforgeeks.org/generate-all-possible-sorted-arrays-from-alternate-elements-of-two-given-arrays/\tPep_JavaIP_1Arrays_34GenerateAllPossibleSortedArrays\tRecursionInArrays\t\t\t\t\t\t\t\t\t\t\t\t\t\t\t\t\t\t\t\t\t\t\t\n",
    "1\tArray\thttps://leetcode.com/problems/next-permutation/description/\tPep_JavaIP_1Arrays_35NextPermutation\tMiscellanous\t\t\t\t\t\t\t\t\t\t\t\t\t\t\t\t\t\t\t\t\t\t\n",
    "1\tArray\thttps://www.geeksforgeeks.org/given-an-array-arr-find-the-maximum-j-i-such-that-arrj-arri/\tPep_JavaIP_1Arrays_36Maximumjminusi\tLeftRightTraversal\t\t\t\t\t\t\t\t\t\t\t\t\t\t\t\t\t\t\t\t\t\t\n",
    "1\tArray\thttps://leetcode.com/problems/maximum-sum-of-3-non-overlapping-subarrays/description/\tPep_JavaIP_37MaximumSumof3NonOverlappingSubarrays\tLeftRightTraversal\t\t\t\t\t\t\t\t\t\t\t\t\t\t\t\t\t\t\t\t\t\t\t\n",
    "1\tArray\thttps://www.geeksforgeeks.org/number-subarrays-maximum-value-given-range/\tPep_JavaIP_1Arrays_38CountSAsWithMaxInRange\tMaths\t\t\t\t\t\t\t\t\t\t\t\t\t\t\t\t\t\t\t\t\t\t\t\n",
    "1\tArray\thttps://www.geeksforgeeks.org/print-all-possible-combinations-of-r-elements-in-a-given-array-of-size-n/\tPep_JavaIP_1Arrays_39NCRCombinations\tRecursionInArrays\t\t\t\t\t\t\t\t\t\t\t\t\t\t\t\t\t\t\t\t\t\t\t\n",
    "1\tArray\thttps://www.geeksforgeeks.org/longest-subarray-sum-divisible-k/\tPep_JavaIP_1Arrays_40LongestSubArrayDivisibleByK\tSliding Window\t\t\t\t\t\t\t\t\t\t\t\t\t\t\t\t\t\t\t\t\t\t\t\n",
    "1\tArray\thttps://www.geeksforgeeks.org/find-minimum-number-of-merge-operations-to-make-an-array-palindrome/\tPep_JavaIP_1Arrays_41MinimumMergeOpsRequiredToCreatePalindrome\t2 Pointer Method\t\t\t\t\t\t\t\t\t\t\t\t\t\t\t\t\t\t\t\t\t\t\t\n",
    "1\tArray\thttps://www.geeksforgeeks.org/reorder-a-array-according-to-given-indexes/\tPep_JavaIP_1Arrays_42ReorderArrayIndexwise\tReorderArray\t\t\t\t\t\t\t\t\t\t\t\t\t\t\t\t\t\t\t\t\t\t\t\n",
    "1\tArray\thttps://www.codechef.com/JAN18/problems/MAXSC/\tPep_JavaIP_1Arrays_43MaxSCCodeChef\tMiscellanous\t\t\t\t\t\t\t\t\t\t\t\t\t\t\t\t\t\t\t\t\t\t\t\n",
    "1\tArray\thttps://www.geeksforgeeks.org/rearrange-array-maximum-minimum-form-set-2-o1-extra-space/\tPep_JavaIP_1Arrays_44RearrangeMaximumMinimumForm\t2InfoOnSameIndex\t\t\t\t\t\t\t\t\t\t\t\t\t\t\t\t\t\t\t\t\t\t\n",
    "1\tArray\thttps://www.geeksforgeeks.org/given-an-array-of-numbers-arrange-the-numbers-to-form-the-biggest-number/\tPep_JavaIP_45RearrangePrintBiggestNumber***"
   ]
  },
  {
   "cell_type": "code",
   "execution_count": 4,
   "metadata": {
    "run_control": {
     "marked": false
    }
   },
   "outputs": [],
   "source": [
    "import java.util.*;\n",
    "import java.io.*;\n",
    "import java.util.Arrays;\n",
    "String[] args =new String[0];"
   ]
  },
  {
   "cell_type": "markdown",
   "metadata": {},
   "source": [
    "## **31. Largest sum subarray with at-least k numbers**\n",
    "https://www.geeksforgeeks.org/largest-sum-subarray-least-k-numbers/"
   ]
  },
  {
   "cell_type": "code",
   "execution_count": 5,
   "metadata": {
    "run_control": {
     "marked": false
    }
   },
   "outputs": [],
   "source": [
    "/*\n",
    "Given an array, find the subarray (containing at least k numbers) which has the largest sum.\n",
    "\n",
    "Examples:\n",
    "\n",
    "Input : arr[] = {-4, -2, 1, -3} \n",
    "            k = 2\n",
    "Output : -1\n",
    "The sub array is {-2, 1}\n",
    "\n",
    "Input : arr[] = {1, 1, 1, 1, 1, 1} \n",
    "            k = 2\n",
    "Output : 6 \n",
    "The sub array is {1, 1, 1, 1, 1, 1}\n",
    "*/"
   ]
  },
  {
   "cell_type": "code",
   "execution_count": 6,
   "metadata": {
    "run_control": {
     "marked": false
    }
   },
   "outputs": [],
   "source": [
    "/*\n",
    "This problem is an extension of Largest Sum Subarray Problem. (https://www.geeksforgeeks.org/largest-sum-contiguous-subarray/)\n",
    "1) We first compute maximum sum till every index and store it in an array maxSum[].\n",
    "2) After filling the array, we use the sliding window concept of size k. \n",
    "   Keep track of sum of current k elements. \n",
    "   To compute sum of current window, remove first element of previous window and add current element. \n",
    "   After getting the sum of current window, we add the maxSum of the previous window, \n",
    "   if it is greater than current max, then update it else not.\n",
    "\n",
    "Below is the implementation of above approach:\n",
    "Time Complexity: O(n)\n",
    "*/"
   ]
  },
  {
   "cell_type": "code",
   "execution_count": 7,
   "metadata": {
    "run_control": {
     "marked": false
    }
   },
   "outputs": [],
   "source": [
    "// Returns maximum sum of a subarray with at-least \n",
    "// k elements. \n",
    "static int maxSumWithK(int a[], int n, int k) \n",
    "{ \n",
    "    // maxSum[i] is going to store maximum sum \n",
    "    // till index i such that a[i] is part of the \n",
    "    // sum. \n",
    "    int maxSum[] = new int [n]; \n",
    "    maxSum[0] = a[0]; \n",
    "\n",
    "    // We use Kadane's algorithm to fill maxSum[] \n",
    "    // Below code is taken from method 3 of \n",
    "    // https://www.geeksforgeeks.org/largest-sum-contiguous-subarray/ \n",
    "    int curr_max = a[0]; \n",
    "    for (int i = 1; i < n; i++) \n",
    "    { \n",
    "        curr_max = Math.max(a[i], curr_max+a[i]); \n",
    "        maxSum[i] = curr_max; \n",
    "    } \n",
    "\n",
    "    // Sum of first k elements \n",
    "    int sum = 0; \n",
    "    for (int i = 0; i < k; i++) \n",
    "        sum += a[i]; \n",
    "\n",
    "    // Use the concept of sliding window \n",
    "    int result = sum; \n",
    "    for (int i = k; i < n; i++) \n",
    "    { \n",
    "        // Compute sum of k elements ending \n",
    "        // with a[i]. \n",
    "        sum = sum + a[i] - a[i-k]; \n",
    "\n",
    "        // Update result if required \n",
    "        result = Math.max(result, sum); \n",
    "\n",
    "        // Include maximum sum till [i-k] also \n",
    "        // if it increases overall max. \n",
    "        result = Math.max(result, sum + maxSum[i-k]); \n",
    "    } \n",
    "    return result; \n",
    "} "
   ]
  },
  {
   "cell_type": "code",
   "execution_count": 8,
   "metadata": {
    "run_control": {
     "marked": false
    }
   },
   "outputs": [
    {
     "name": "stdout",
     "output_type": "stream",
     "text": [
      "-4\n"
     ]
    }
   ],
   "source": [
    "int arr[] = {1, 2, 3, -10, -3}; \n",
    "int k = 4; \n",
    "System.out.println(maxSumWithK(arr, arr.length, k));"
   ]
  },
  {
   "cell_type": "markdown",
   "metadata": {},
   "source": [
    "## **32. Form minimum number from given sequence**\n",
    "https://www.geeksforgeeks.org/form-minimum-number-from-given-sequence/"
   ]
  },
  {
   "cell_type": "code",
   "execution_count": 9,
   "metadata": {
    "run_control": {
     "marked": false
    }
   },
   "outputs": [],
   "source": [
    "/*\n",
    "Given a pattern containing only I’s and D’s. \n",
    "I for increasing and D for decreasing. Devise an algorithm to print the minimum number following that pattern. \n",
    "Digits from 1-9 and digits can’t repeat.\n",
    "\n",
    "Examples:\n",
    "\n",
    "   Input: D        Output: 21\n",
    "   Input: I        Output: 12\n",
    "   Input: DD       Output: 321\n",
    "   Input: II       Output: 123\n",
    "   Input: DIDI     Output: 21435\n",
    "   Input: IIDDD    Output: 126543\n",
    "   Input: DDIDDIID Output: 321654798 \n",
    "*/"
   ]
  },
  {
   "cell_type": "code",
   "execution_count": 10,
   "metadata": {
    "run_control": {
     "marked": false
    }
   },
   "outputs": [],
   "source": [
    "/*\n",
    "Method 4 (Using two pointers)\n",
    "Observation\n",
    "\n",
    "1. Since we have to find minimum number without repeating digits, maximum length of output can be 9 (using each 1-9 digits once)\n",
    "2. Length of the output will be exactly one greater than input length.\n",
    "3. The idea is to iterate over the string and do the following if current character is ‘I’ or string is ended.\n",
    "        i.Assign count in increasing order to each element from current-1 to the next left index of ‘I’ (or starting index is reached).\n",
    "        ii.Increase the count by 1.\n",
    "\n",
    "Time Complexity : O(N)\n",
    "Auxiliary Space : O(1)\n",
    "*/"
   ]
  },
  {
   "cell_type": "code",
   "execution_count": 11,
   "metadata": {
    "run_control": {
     "marked": false
    }
   },
   "outputs": [],
   "source": [
    "/*\n",
    "Input  :  IDID\n",
    "Output : 13254\n",
    "\n",
    "Input  :  I\n",
    "Output : 12\n",
    "\n",
    "Input  :  DD\n",
    "Output : 321\n",
    "\n",
    "Input  :  II\n",
    "Output : 123\n",
    "\n",
    "Input  :  DIDI\n",
    "Output : 21435\n",
    "\n",
    "Input  :  IIDDD\n",
    "Output : 126543\n",
    "\n",
    "Input  :  DDIDDIID\n",
    "Output : 321654798\n",
    "*/"
   ]
  },
  {
   "cell_type": "code",
   "execution_count": 12,
   "metadata": {
    "run_control": {
     "marked": false
    }
   },
   "outputs": [],
   "source": [
    "// Returns minimum number made from given sequence without repeating digits \n",
    "static String getMinNumberForPattern(String seq) \n",
    "{ \n",
    "    int n = seq.length(); \n",
    "\n",
    "    if (n >= 9) \n",
    "        return \"-1\"; \n",
    "\n",
    "    char result[] = new char[n + 1]; \n",
    "\n",
    "    int count = 1; \n",
    "\n",
    "    // The loop runs for each input character as well as  \n",
    "    // one additional time for assigning rank to each remaining characters \n",
    "    for (int i = 0; i <= n; i++) \n",
    "    { \n",
    "        if (i == n || seq.charAt(i) == 'I') \n",
    "        { \n",
    "            for (int j = i - 1; j >= -1; j--) \n",
    "            { \n",
    "                result[j + 1] = (char) ((int) '0' + count++); \n",
    "                if (j >= 0 && seq.charAt(j) == 'I') \n",
    "                    break; \n",
    "            } \n",
    "        } \n",
    "    } \n",
    "    return new String(result); \n",
    "} "
   ]
  },
  {
   "cell_type": "code",
   "execution_count": 13,
   "metadata": {
    "run_control": {
     "marked": false
    }
   },
   "outputs": [
    {
     "name": "stdout",
     "output_type": "stream",
     "text": [
      "13254\n",
      "12\n",
      "321\n",
      "123\n",
      "21435\n",
      "126543\n",
      "321654798\n"
     ]
    }
   ],
   "source": [
    "String inputs[] = { \"IDID\", \"I\", \"DD\", \"II\", \"DIDI\", \"IIDDD\", \"DDIDDIID\" }; \n",
    "\n",
    "for(String input : inputs) \n",
    "{ \n",
    "    System.out.println(getMinNumberForPattern(input)); \n",
    "} "
   ]
  },
  {
   "cell_type": "markdown",
   "metadata": {},
   "source": [
    "## **33. Find the smallest positive integer value that cannot be represented as sum of any subset of a given array**\n",
    "https://www.geeksforgeeks.org/find-smallest-value-represented-sum-subset-given-array/"
   ]
  },
  {
   "cell_type": "code",
   "execution_count": 14,
   "metadata": {
    "run_control": {
     "marked": false
    }
   },
   "outputs": [],
   "source": [
    "/*\n",
    "Given a sorted array (sorted in non-decreasing order) of positive numbers, \n",
    "find the smallest positive integer value that cannot be represented as sum of elements of any subset of given set.\n",
    "Expected time complexity is O(n).\n",
    "*/"
   ]
  },
  {
   "cell_type": "code",
   "execution_count": 15,
   "metadata": {
    "run_control": {
     "marked": false
    }
   },
   "outputs": [],
   "source": [
    "/*\n",
    "Examples:\n",
    "\n",
    "Input:  arr[] = {1, 3, 6, 10, 11, 15};\n",
    "Output: 2\n",
    "\n",
    "Input:  arr[] = {1, 1, 1, 1};\n",
    "Output: 5\n",
    "\n",
    "Input:  arr[] = {1, 1, 3, 4};\n",
    "Output: 10\n",
    "\n",
    "Input:  arr[] = {1, 2, 5, 10, 20, 40};\n",
    "Output: 4\n",
    "\n",
    "Input:  arr[] = {1, 2, 3, 4, 5, 6};\n",
    "Output: 22\n",
    "*/"
   ]
  },
  {
   "cell_type": "code",
   "execution_count": 16,
   "metadata": {
    "run_control": {
     "marked": false
    }
   },
   "outputs": [],
   "source": [
    "/*\n",
    "A Simple Solution is to start from value 1 and check all values one by one if they can sum to values in the given array. \n",
    "This solution is very inefficient as it reduces to subset sum problem which is a well known NP Complete Problem.\n",
    "*/"
   ]
  },
  {
   "cell_type": "code",
   "execution_count": 17,
   "metadata": {
    "run_control": {
     "marked": false
    }
   },
   "outputs": [],
   "source": [
    "/*\n",
    "We can solve this problem in O(n) time using a simple loop. \n",
    "Let the input array be arr[0..n-1]. \n",
    "We initialize the result as 1 (smallest possible outcome) and traverse the given array. \n",
    "Let the smallest element that cannot be represented by elements at indexes from 0 to (i-1) be ‘res’, \n",
    "there are following two possibilities when we consider element at index i:\n",
    "\n",
    "1) We decide that ‘res’ is the final result: \n",
    "    If arr[i] is greater than ‘res’, \n",
    "    then we found the gap which is ‘res’ because the elements after arr[i] are also going to be greater than ‘res’.\n",
    "\n",
    "2) The value of ‘res’ is incremented after considering arr[i]: \n",
    "    The value of ‘res’ is incremented by arr[i] \n",
    "    (why? If elements from 0 to (i-1) can represent 1 to ‘res-1’, \n",
    "          then elements from 0 to i can represent from 1 to ‘res + arr[i] – 1’ be adding ‘arr[i]’ to all subsets that represent 1 to ‘res’)\n",
    "*/"
   ]
  },
  {
   "cell_type": "code",
   "execution_count": 18,
   "metadata": {
    "run_control": {
     "marked": false
    }
   },
   "outputs": [],
   "source": [
    "// Returns the smallest number that cannot be represented as sum \n",
    "// of subset of elements from set represented by sorted array arr[0..n-1] \n",
    "int findSmallest(int arr[], int n)  \n",
    "{ \n",
    "    int res = 1; // Initialize result \n",
    "\n",
    "    // Traverse the array and increment 'res' if arr[i] is \n",
    "    // smaller than or equal to 'res'. \n",
    "    for (int i = 0; i < n && arr[i] <= res; i++) \n",
    "        res = res + arr[i]; \n",
    "\n",
    "    return res; \n",
    "} "
   ]
  },
  {
   "cell_type": "code",
   "execution_count": 19,
   "metadata": {
    "run_control": {
     "marked": false
    }
   },
   "outputs": [
    {
     "name": "stdout",
     "output_type": "stream",
     "text": [
      "2\n",
      "4\n",
      "5\n",
      "10\n"
     ]
    }
   ],
   "source": [
    "int arr1[] = {1, 3, 4, 5}; \n",
    "int n1 = arr1.length; \n",
    "System.out.println(findSmallest(arr1, n1)); \n",
    "\n",
    "int arr2[] = {1, 2, 6, 10, 11, 15}; \n",
    "int n2 = arr2.length; \n",
    "System.out.println(findSmallest(arr2, n2)); \n",
    "\n",
    "int arr3[] = {1, 1, 1, 1}; \n",
    "int n3 = arr3.length; \n",
    "System.out.println(findSmallest(arr3, n3)); \n",
    "\n",
    "int arr4[] = {1, 1, 3, 4}; \n",
    "int n4 = arr4.length; \n",
    "System.out.println(findSmallest(arr4, n4)); "
   ]
  },
  {
   "cell_type": "markdown",
   "metadata": {},
   "source": [
    "## **34. Generate all possible sorted arrays from alternate elements of two given sorted arrays**\n",
    "https://www.geeksforgeeks.org/generate-all-possible-sorted-arrays-from-alternate-elements-of-two-given-arrays/"
   ]
  },
  {
   "cell_type": "code",
   "execution_count": 20,
   "metadata": {
    "run_control": {
     "marked": false
    }
   },
   "outputs": [],
   "source": [
    "/*\n",
    "Given two sorted arrays A and B, \n",
    "generate all possible arrays such that first element is taken from A then from B then from A and so on in increasing order till the arrays exhausted. \n",
    "The generated arrays should end with an element from B.\n",
    "*/"
   ]
  },
  {
   "cell_type": "code",
   "execution_count": 21,
   "metadata": {
    "run_control": {
     "marked": false
    }
   },
   "outputs": [],
   "source": [
    "/*\n",
    "For Example\n",
    " \n",
    "A = {10, 15, 25}\n",
    "B = {1, 5, 20, 30}\n",
    "\n",
    "The resulting arrays are:\n",
    "  10 20\n",
    "  10 20 25 30\n",
    "  10 30\n",
    "  15 20\n",
    "  15 20 25 30\n",
    "  15 30\n",
    "  25 30\n",
    "*/"
   ]
  },
  {
   "cell_type": "code",
   "execution_count": 22,
   "metadata": {
    "run_control": {
     "marked": false
    }
   },
   "outputs": [],
   "source": [
    "/*\n",
    "The idea is to use recursion. \n",
    "In the recursive function, a flag is passed to indicate whether current element in output should be taken from ‘A’ or ‘B’.\n",
    "*/"
   ]
  },
  {
   "cell_type": "code",
   "execution_count": 23,
   "metadata": {
    "run_control": {
     "marked": false
    }
   },
   "outputs": [],
   "source": [
    "/* Function to generates and prints all sorted arrays from alternate \n",
    "   elements of 'A[i..m-1]' and 'B[j..n-1]' \n",
    "   If 'flag' is true, then current element is to be included from A  \n",
    "   otherwise from B. \n",
    "   'len' is the index in output array C[]. We print output array   \n",
    "   each time before including a character from A only if length of  \n",
    "   output array is greater than 0. We try than all possible  \n",
    "   combinations */\n",
    "void generateUtil(int A[], int B[], int C[], int i, int j, int m, int n, \n",
    "        int len, boolean flag)  \n",
    "{ \n",
    "    if (flag) // Include valid element from A \n",
    "    { \n",
    "        // Print output if there is at least one 'B' in output array 'C' \n",
    "        if (len != 0)  \n",
    "            printArr(C, len + 1); \n",
    "\n",
    "        // Recur for all elements of A after current index \n",
    "        for (int k = i; k < m; k++)  \n",
    "        { \n",
    "            if (len == 0)  \n",
    "            { \n",
    "                /* this block works for the very first call to include \n",
    "                the first element in the output array */\n",
    "                C[len] = A[k]; \n",
    "\n",
    "                // don't increment lem as B is included yet \n",
    "                generateUtil(A, B, C, k + 1, j, m, n, len, !flag); \n",
    "            }  \n",
    "\n",
    "            /* include valid element from A and recur */\n",
    "            else if (A[k] > C[len])  \n",
    "            { \n",
    "                    C[len + 1] = A[k]; \n",
    "                    generateUtil(A, B, C, k + 1, j, m, n, len + 1, !flag); \n",
    "            } \n",
    "        } \n",
    "    }  \n",
    "\n",
    "    /* Include valid element from B and recur */\n",
    "    else\n",
    "    { \n",
    "        for (int l = j; l < n; l++)  \n",
    "        { \n",
    "            if (B[l] > C[len])  \n",
    "            { \n",
    "                C[len + 1] = B[l]; \n",
    "                generateUtil(A, B, C, i, l + 1, m, n, len + 1, !flag); \n",
    "            } \n",
    "        } \n",
    "    } \n",
    "} "
   ]
  },
  {
   "cell_type": "code",
   "execution_count": 24,
   "metadata": {
    "run_control": {
     "marked": false
    }
   },
   "outputs": [
    {
     "name": "stdout",
     "output_type": "stream",
     "text": [
      "10 20 \n",
      "10 20 25 30 \n",
      "10 30 \n",
      "15 20 \n",
      "15 20 25 30 \n",
      "15 30 \n",
      "25 30 \n"
     ]
    }
   ],
   "source": [
    "/* Wrapper function */\n",
    "void generate(int A[], int B[], int m, int n)  \n",
    "{ \n",
    "    int C[] = new int[m + n]; \n",
    "\n",
    "    /* output array */\n",
    "    generateUtil(A, B, C, 0, 0, m, n, 0, true); \n",
    "} \n",
    "\n",
    "// A utility function to print an array \n",
    "void printArr(int arr[], int n)  \n",
    "{ \n",
    "    for (int i = 0; i < n; i++) \n",
    "        System.out.print(arr[i] + \" \"); \n",
    "    System.out.println(\"\"); \n",
    "} \n",
    "\n",
    "public static void main(String[] args)  \n",
    "{  \n",
    "    int A[] = {10, 15, 25}; \n",
    "    int B[] = {5, 20, 30}; \n",
    "    int n = A.length; \n",
    "    int m = B.length; \n",
    "    generate(A, B, n, m); \n",
    "} \n",
    "main(args)"
   ]
  },
  {
   "cell_type": "markdown",
   "metadata": {},
   "source": [
    "## **35. Next Permutation**\n",
    "https://leetcode.com/problems/next-permutation/description/"
   ]
  },
  {
   "cell_type": "code",
   "execution_count": 25,
   "metadata": {
    "run_control": {
     "marked": false
    }
   },
   "outputs": [],
   "source": [
    "/*\n",
    "Implement next permutation, which rearranges numbers into the lexicographically next greater permutation of numbers.\n",
    "If such arrangement is not possible, it must rearrange it as the lowest possible order (ie, sorted in ascending order).\n",
    "The replacement must be in-place and use only constant extra memory.\n",
    "Here are some examples. Inputs are in the left-hand column and its corresponding outputs are in the right-hand column.\n",
    "\n",
    "1,2,3 → 1,3,2\n",
    "3,2,1 → 1,2,3\n",
    "1,1,5 → 1,5,1\n",
    "*/"
   ]
  },
  {
   "cell_type": "markdown",
   "metadata": {},
   "source": [
    "https://leetcode.com/problems/next-permutation/solution/"
   ]
  },
  {
   "cell_type": "markdown",
   "metadata": {},
   "source": [
    "<img src = \"https://leetcode.com/media/original_images/31_Next_Permutation.gif\"/>"
   ]
  },
  {
   "cell_type": "code",
   "execution_count": 26,
   "metadata": {
    "run_control": {
     "marked": false
    }
   },
   "outputs": [],
   "source": [
    "/*\n",
    "Algorithm\n",
    "\n",
    "First, we observe that for any given sequence that is in descending order, no next larger permutation is possible. \n",
    "For example, no next permutation is possible for the following array:\n",
    "[9, 5, 4, 3, 1]\n",
    "\n",
    "We need to find the first pair of two successive numbers a[i] and a[i−1], from the right, which satisfy a[i] > a[i-1]. \n",
    "Now, no rearrangements to the right of a[i-1]a[i−1] can create a larger permutation since that subarray consists of numbers in descending order. \n",
    "Thus, we need to rearrange the numbers to the right of a[i-1]a[i−1] including itself.\n",
    "\n",
    "Now, what kind of rearrangement will produce the next larger number? \n",
    "We want to create the permutation just larger than the current one. \n",
    "Therefore, we need to replace the number a[i-1]a[i−1] with the number which is just larger than itself among the numbers lying to its right section, say a[j]a[j].\n",
    "\n",
    "\n",
    "We swap the numbers a[i-1]a[i−1] and a[j]a[j]. \n",
    "We now have the correct number at index i-1i−1. \n",
    "But still the current permutation isn't the permutation that we are looking for.\n",
    "We need the smallest permutation that can be formed by using the numbers only to the right of a[i-1]a[i−1]. \n",
    "Therefore, we need to place those numbers in ascending order to get their smallest permutation.\n",
    "\n",
    "But, recall that while scanning the numbers from the right, we simply kept decrementing the index until we found the pair a[i]a[i] and a[i-1]a[i−1] where, a[i] > a[i-1]a[i]>a[i−1]. \n",
    "Thus, all numbers to the right of a[i-1]a[i−1] were already sorted in descending order. \n",
    "Furthermore, swapping a[i-1]a[i−1] and a[j]a[j] didn't change that order. \n",
    "Therefore, we simply need to reverse the numbers following a[i-1]a[i−1] to get the next smallest lexicographic permutation.\n",
    "*/"
   ]
  },
  {
   "cell_type": "markdown",
   "metadata": {},
   "source": [
    "<img src = \"https://leetcode.com/media/original_images/31_nums_graph.png\"/>"
   ]
  },
  {
   "cell_type": "code",
   "execution_count": 27,
   "metadata": {
    "run_control": {
     "marked": false
    }
   },
   "outputs": [],
   "source": [
    "public class Solution {\n",
    "    public static void nextPermutation(int[] nums) {\n",
    "        int i = nums.length - 2;\n",
    "        while (i >= 0 && nums[i + 1] <= nums[i]) {\n",
    "            i--;\n",
    "        }\n",
    "        if (i >= 0) {\n",
    "            int j = nums.length - 1;\n",
    "            while (j >= 0 && nums[j] <= nums[i]) {\n",
    "                j--;\n",
    "            }\n",
    "            swap(nums, i, j);\n",
    "        }\n",
    "        reverse(nums, i + 1);\n",
    "    }\n",
    "\n",
    "    private static void reverse(int[] nums, int start) {\n",
    "        int i = start, j = nums.length - 1;\n",
    "        while (i < j) {\n",
    "            swap(nums, i, j);\n",
    "            i++;\n",
    "            j--;\n",
    "        }\n",
    "    }\n",
    "\n",
    "    private static void swap(int[] nums, int i, int j) {\n",
    "        int temp = nums[i];\n",
    "        nums[i] = nums[j];\n",
    "        nums[j] = temp;\n",
    "    }\n",
    "}\n",
    "\n",
    "\n",
    "void printArr(int[] arr){\n",
    "    for(int val:arr){\n",
    "        System.out.print(val+\" \");\n",
    "    }\n",
    "    System.out.println();\n",
    "}"
   ]
  },
  {
   "cell_type": "code",
   "execution_count": 28,
   "metadata": {
    "run_control": {
     "marked": false
    }
   },
   "outputs": [
    {
     "name": "stdout",
     "output_type": "stream",
     "text": [
      "1 3 2 \n",
      "1 2 3 \n",
      "1 5 1 \n"
     ]
    }
   ],
   "source": [
    "int[] arr1 = {1,2,3};\n",
    "int[] arr2 = {3,2,1};\n",
    "int[] arr3 = {1,1,5};\n",
    "Solution.nextPermutation(arr1);\n",
    "Solution.nextPermutation(arr2);\n",
    "Solution.nextPermutation(arr3);\n",
    "printArr(arr1);\n",
    "printArr(arr2);\n",
    "printArr(arr3);"
   ]
  },
  {
   "cell_type": "markdown",
   "metadata": {},
   "source": [
    "## **36. Given an array arr[], find the maximum j – i such that arr[j] > arr[i]**\n",
    "https://www.geeksforgeeks.org/given-an-array-arr-find-the-maximum-j-i-such-that-arrj-arri/"
   ]
  },
  {
   "cell_type": "code",
   "execution_count": 29,
   "metadata": {
    "run_control": {
     "marked": false
    }
   },
   "outputs": [],
   "source": [
    "/*\n",
    "Given an array arr[], find the maximum j – i such that arr[j] > arr[i].\n",
    "Examples :\n",
    "\n",
    "  Input: {34, 8, 10, 3, 2, 80, 30, 33, 1}\n",
    "  Output: 6  (j = 7, i = 1)\n",
    "\n",
    "  Input: {9, 2, 3, 4, 5, 6, 7, 8, 18, 0}\n",
    "  Output: 8 ( j = 8, i = 0)\n",
    "\n",
    "  Input:  {1, 2, 3, 4, 5, 6}\n",
    "  Output: 5  (j = 5, i = 0)\n",
    "\n",
    "  Input:  {6, 5, 4, 3, 2, 1}\n",
    "  Output: -1 \n",
    "*/"
   ]
  },
  {
   "cell_type": "code",
   "execution_count": 30,
   "metadata": {
    "run_control": {
     "marked": false
    }
   },
   "outputs": [],
   "source": [
    "/*\n",
    "Method 1 (Simple but Inefficient)\n",
    "Run two loops. \n",
    "In the outer loop, pick elements one by one from left. \n",
    "In the inner loop, compare the picked element with the elements starting from right side. \n",
    "Stop the inner loop when you see an element greater than the picked element and keep updating the maximum j-i so far.\n",
    "\n",
    "Time Complexity : O(n^2)\n",
    "*/"
   ]
  },
  {
   "cell_type": "code",
   "execution_count": 31,
   "metadata": {
    "run_control": {
     "marked": false
    }
   },
   "outputs": [],
   "source": [
    "/* For a given array arr[], returns the maximum j-i such that \n",
    "   arr[j] > arr[i] */\n",
    "int maxIndexDiff(int arr[], int n)  \n",
    "{ \n",
    "    int maxDiff = -1; \n",
    "    int i, j; \n",
    "\n",
    "    for (i = 0; i < n; ++i)  \n",
    "    { \n",
    "        for (j = n - 1; j > i; --j)  \n",
    "        { \n",
    "            if (arr[j] > arr[i] && maxDiff < (j - i)) \n",
    "                maxDiff = j - i; \n",
    "        } \n",
    "    } \n",
    "\n",
    "    return maxDiff; \n",
    "}"
   ]
  },
  {
   "cell_type": "code",
   "execution_count": 32,
   "metadata": {
    "run_control": {
     "marked": false
    }
   },
   "outputs": [
    {
     "name": "stdout",
     "output_type": "stream",
     "text": [
      "8\n"
     ]
    }
   ],
   "source": [
    "int arr[] = {9, 2, 3, 4, 5, 6, 7, 8, 18, 0}; \n",
    "int n = arr.length; \n",
    "int maxDiff = maxIndexDiff(arr, n); \n",
    "System.out.println(maxDiff); "
   ]
  },
  {
   "cell_type": "code",
   "execution_count": 33,
   "metadata": {
    "run_control": {
     "marked": false
    }
   },
   "outputs": [],
   "source": [
    "/*\n",
    "Method 3 (Efficient)\n",
    "To solve this problem, \n",
    "we need to get two optimum indexes of arr[]: left index i and right index j. \n",
    "For an element arr[i], we do not need to consider arr[i] for left index if there is an element smaller than arr[i] on left side of arr[i]. \n",
    "Similarly, if there is a greater element on right side of arr[j] then we do not need to consider this j for right index. \n",
    "So we construct two auxiliary arrays LMin[] and RMax[] \n",
    "such that LMin[i] holds the smallest element on left side of arr[i] including arr[i], \n",
    "and RMax[j] holds the greatest element on right side of arr[j] including arr[j]. \n",
    "After constructing these two auxiliary arrays, we traverse both of these arrays from left to right. \n",
    "While traversing LMin[] and RMa[] if we see that LMin[i] is greater than RMax[j], \n",
    "then we must move ahead in LMin[] (or do i++) because all elements on left of LMin[i] are greater than or equal to LMin[i]. \n",
    "Otherwise we must move ahead in RMax[j] to look for a greater j – i value.\n",
    "*/"
   ]
  },
  {
   "cell_type": "code",
   "execution_count": 34,
   "metadata": {
    "run_control": {
     "marked": false
    }
   },
   "outputs": [],
   "source": [
    "/* For a given array arr[], returns the maximum j-i such that \n",
    "   arr[j] > arr[i] */\n",
    "int maxIndexDiff(int arr[], int n)  \n",
    "{ \n",
    "    int maxDiff; \n",
    "    int i, j; \n",
    "\n",
    "    int RMax[] = new int[n]; \n",
    "    int LMin[] = new int[n]; \n",
    "\n",
    "    /* Construct LMin[] such that LMin[i] stores the minimum value \n",
    "       from (arr[0], arr[1], ... arr[i]) */\n",
    "    LMin[0] = arr[0]; \n",
    "    for (i = 1; i < n; ++i) \n",
    "        LMin[i] = Math.min(arr[i], LMin[i - 1]); \n",
    "\n",
    "    /* Construct RMax[] such that RMax[j] stores the maximum value \n",
    "       from (arr[j], arr[j+1], ..arr[n-1]) */\n",
    "    RMax[n - 1] = arr[n - 1]; \n",
    "    for (j = n - 2; j >= 0; --j) \n",
    "        RMax[j] = Math.max(arr[j], RMax[j + 1]); \n",
    "\n",
    "    /* Traverse both arrays from left to right to find optimum j - i \n",
    "       This process is similar to merge() of MergeSort */\n",
    "    i = 0; j = 0; maxDiff = -1; \n",
    "    while (j < n && i < n)  \n",
    "    { \n",
    "        if (LMin[i] < RMax[j])  \n",
    "        { \n",
    "            maxDiff = Math.max(maxDiff, j - i); \n",
    "            j = j + 1; \n",
    "        }  \n",
    "        else \n",
    "            i = i + 1; \n",
    "    } \n",
    "\n",
    "    return maxDiff; \n",
    "} "
   ]
  },
  {
   "cell_type": "code",
   "execution_count": 35,
   "metadata": {
    "run_control": {
     "marked": false
    }
   },
   "outputs": [
    {
     "name": "stdout",
     "output_type": "stream",
     "text": [
      "8\n"
     ]
    }
   ],
   "source": [
    "int arr[] = {9, 2, 3, 4, 5, 6, 7, 8, 18, 0}; \n",
    "int n = arr.length; \n",
    "int maxDiff = maxIndexDiff(arr, n); \n",
    "System.out.println(maxDiff); "
   ]
  },
  {
   "cell_type": "markdown",
   "metadata": {},
   "source": [
    "## **37. Maximum Sum of 3 Non-Overlapping Subarrays**\n",
    "https://leetcode.com/problems/maximum-sum-of-3-non-overlapping-subarrays/description/"
   ]
  },
  {
   "cell_type": "code",
   "execution_count": 36,
   "metadata": {
    "run_control": {
     "marked": false
    }
   },
   "outputs": [],
   "source": [
    "/*\n",
    "In a given array nums of positive integers, find three non-overlapping subarrays with maximum sum.\n",
    "\n",
    "Each subarray will be of size k, and we want to maximize the sum of all 3*k entries.\n",
    "\n",
    "Return the result as a list of indices representing the starting position of each interval (0-indexed). \n",
    "If there are multiple answers, return the lexicographically smallest one.\n",
    "*/"
   ]
  },
  {
   "cell_type": "code",
   "execution_count": 37,
   "metadata": {
    "run_control": {
     "marked": false
    }
   },
   "outputs": [],
   "source": [
    "/*\n",
    "Example:\n",
    "\n",
    "Input: [1,2,1,2,6,7,5,1], 2\n",
    "Output: [0, 3, 5]\n",
    "Explanation: Subarrays [1, 2], [2, 6], [7, 5] correspond to the starting indices [0, 3, 5].\n",
    "We could have also taken [2, 1], but an answer of [1, 3, 5] would be lexicographically larger.\n",
    "*/"
   ]
  },
  {
   "cell_type": "code",
   "execution_count": 38,
   "metadata": {
    "run_control": {
     "marked": false
    }
   },
   "outputs": [],
   "source": [
    "/*\n",
    "Approach #1: Ad-Hoc [Accepted]\n",
    "\n",
    "Intuition\n",
    "It is natural to consider an array W of each interval's sum, \n",
    "where each interval is the given length K. \n",
    "To create W, we can either use prefix sums, or manage the sum of the interval as a window slides along the array.\n",
    "\n",
    "From there, we approach the reduced problem: \n",
    "    Given some array W and an integer K, what is the lexicographically smallest tuple of indices (i, j, k) with i + K <= j and j + K <= k that maximizes W[i] + W[j] + W[k]?\n",
    "*/"
   ]
  },
  {
   "cell_type": "code",
   "execution_count": 39,
   "metadata": {
    "run_control": {
     "marked": false
    }
   },
   "outputs": [],
   "source": [
    "/*\n",
    "Algorithm\n",
    "\n",
    "Suppose we fixed j. We would like to know on the intervals i∈[0,j−K] and k∈[j+K,len(W)−1], \n",
    "where the largest value of W[i]W[i] (and respectively W[k]W[k]) occurs first. (Here, first means the smaller index.)\n",
    "\n",
    "We can solve these problems with dynamic programming. \n",
    "For example, \n",
    "if we know that i is where the largest value of W[i]W[i] occurs first on [0,5], then on [0,6] the first occurrence of the largest W[i]W[i] must be either i or 6. \n",
    "If say, 6 is better, then we set best = 6.\n",
    "\n",
    "At the end, \n",
    "left[z] will be the first occurrence of the largest value of W[i] on the interval i∈[0,z], \n",
    "and right[z] will be the same but on the interval i∈[z,len(W)−1]. \n",
    "This means that for some choice j, the candidate answer must be (left[j-K], j, right[j+K]). \n",
    "We take the candidate that produces the maximum W[i] + W[j] + W[k].\n",
    "*/"
   ]
  },
  {
   "cell_type": "code",
   "execution_count": 40,
   "metadata": {
    "run_control": {
     "marked": false
    }
   },
   "outputs": [],
   "source": [
    "class Solution {\n",
    "    public static int[] maxSumOfThreeSubarrays(int[] nums, int K) {\n",
    "        //W is an array of sums of windows\n",
    "        int[] W = new int[nums.length - K + 1];\n",
    "        int sum = 0;\n",
    "        for (int i = 0; i < nums.length; i++) {\n",
    "            sum += nums[i];\n",
    "            if (i >= K) sum -= nums[i-K];\n",
    "            if (i >= K-1) W[i-K+1] = sum;\n",
    "        }\n",
    "\n",
    "        int[] left = new int[W.length];\n",
    "        int best = 0;\n",
    "        for (int i = 0; i < W.length; i++) {\n",
    "            if (W[i] > W[best]) best = i;\n",
    "            left[i] = best;\n",
    "        }\n",
    "\n",
    "        int[] right = new int[W.length];\n",
    "        best = W.length - 1;\n",
    "        for (int i = W.length - 1; i >= 0; i--) {\n",
    "            if (W[i] >= W[best]) best = i;\n",
    "            right[i] = best;\n",
    "        }\n",
    "\n",
    "        int[] ans = new int[]{-1, -1, -1};\n",
    "        for (int j = K; j < W.length - K; j++) {\n",
    "            int i = left[j - K], k = right[j + K];\n",
    "            if (ans[0] == -1 || W[i] + W[j] + W[k] >\n",
    "                    W[ans[0]] + W[ans[1]] + W[ans[2]]) {\n",
    "\n",
    "                ans[0] = i;\n",
    "                ans[1] = j;\n",
    "                ans[2] = k;\n",
    "            }\n",
    "        }\n",
    "        return ans;\n",
    "    }\n",
    "}"
   ]
  },
  {
   "cell_type": "code",
   "execution_count": 41,
   "metadata": {
    "run_control": {
     "marked": false
    }
   },
   "outputs": [
    {
     "name": "stdout",
     "output_type": "stream",
     "text": [
      "0 3 5 "
     ]
    }
   ],
   "source": [
    "int[] arr = {1,2,1,2,6,7,5,1};\n",
    "int[] res = Solution.maxSumOfThreeSubarrays(arr,2);\n",
    "for(int val:res){\n",
    "    System.out.print(val+\" \");\n",
    "}"
   ]
  },
  {
   "cell_type": "markdown",
   "metadata": {},
   "source": [
    "## **38. Number of subarrays with maximum values in given range**\n",
    "https://www.geeksforgeeks.org/number-subarrays-maximum-value-given-range/"
   ]
  },
  {
   "cell_type": "code",
   "execution_count": 42,
   "metadata": {
    "run_control": {
     "marked": false
    }
   },
   "outputs": [],
   "source": [
    "/*\n",
    "Given an array of N elements and L and R, \n",
    "print the number of sub-arrays such that the value of the maximum array element in that subarray is at least L and at most R.\n",
    "\n",
    "Examples:\n",
    "\n",
    "Input : arr[] = {2, 0, 11, 3, 0}\n",
    "          L = 1, R = 10\n",
    "Output : 4 \n",
    "Explanation: the sub-arrays {2}, {2, 0}, {3} \n",
    "and {3, 0} have maximum in range 1-10.\n",
    "\n",
    "Input : arr[] = {3, 4, 1}\n",
    "          L = 2, R = 4 \n",
    "Output : 5\n",
    "Explanation: the sub-arrays are {3}, {4}, \n",
    "{3, 4}, {4, 1} and {3, 4, 1} \n",
    "*/"
   ]
  },
  {
   "cell_type": "code",
   "execution_count": 43,
   "metadata": {
    "run_control": {
     "marked": false
    }
   },
   "outputs": [],
   "source": [
    "/*\n",
    "A naive approach will be to iterate for every sub-array \n",
    "and find the number of sub-arrays with maximum in range L-R. \n",
    "Time complexity of this solution is O(n*n)\n",
    "*/"
   ]
  },
  {
   "cell_type": "code",
   "execution_count": 44,
   "metadata": {
    "run_control": {
     "marked": false
    }
   },
   "outputs": [],
   "source": [
    "/*\n",
    "An efficient approach is based on below facts :\n",
    "\n",
    "Any element > R is never included in any subarray.\n",
    "Any number of elements smaller than L can be included in subarray as long as there is at least one single element between L and R inclusive.\n",
    "The number of all possible subarrays of an array of size N is N * (N + 1)/2. Let countSubarrays(N) = N * (N + 1)/2\n",
    "We keep track of two counts in current subarray.\n",
    "    1) Count of all elements smaller than or equal to R. We call it inc.\n",
    "    2) Count of all elements smaller than L. We call it exc.\n",
    "\n",
    "Our answer for current subarray is countSubarrays(inc) – countSubarrays(exc). \n",
    "We basically remove all those subarrays which are formed by only elements smaller than L.\n",
    "\n",
    "Time Complexity: O(n)\n",
    "*/"
   ]
  },
  {
   "cell_type": "code",
   "execution_count": 45,
   "metadata": {
    "run_control": {
     "marked": false
    }
   },
   "outputs": [],
   "source": [
    "// function to calculate N*(N+1)/2 \n",
    "static long countSubarrys(long n)  \n",
    "{ \n",
    "    return n * (n + 1) / 2; \n",
    "} \n",
    "  \n",
    "// function to count the number of  \n",
    "// sub-arrays with maximum greater \n",
    "// then L and less then R. \n",
    "static long countSubarrays(int a[], int n, \n",
    "                             int L, int R)  \n",
    "{ \n",
    "    long res = 0; \n",
    "  \n",
    "    // exc is going to store count of elements \n",
    "    // smaller than L in current valid subarray. \n",
    "    // inc is going to store count of elements \n",
    "    // smaller than or equal to R. \n",
    "    long exc = 0, inc = 0; \n",
    "  \n",
    "    // traverse through all elements of the array \n",
    "    for (int i = 0; i < n; i++) { \n",
    "  \n",
    "    // If the element is greater than R, \n",
    "    // add current value to result and reset \n",
    "    // values of exc and inc. \n",
    "    if (a[i] > R) { \n",
    "        res += (countSubarrys(inc) - countSubarrys(exc)); \n",
    "        inc = 0; \n",
    "        exc = 0; \n",
    "    } \n",
    "  \n",
    "    // if it is less than L, then it is included \n",
    "    // in the sub-arrays \n",
    "    else if (a[i] < L) { \n",
    "        exc++; \n",
    "        inc++; \n",
    "    } \n",
    "  \n",
    "    // if >= L and <= R, then count of \n",
    "    // subarrays formed by previous chunk \n",
    "    // of elements formed by only smaller \n",
    "    // elements is reduced from result. \n",
    "    else { \n",
    "        res -= countSubarrys(exc); \n",
    "        exc = 0; \n",
    "        inc++; \n",
    "    } \n",
    "    } \n",
    "  \n",
    "    // Update result. \n",
    "    res += (countSubarrys(inc) - countSubarrys(exc)); \n",
    "  \n",
    "    // returns the count of sub-arrays \n",
    "    return res; \n",
    "} "
   ]
  },
  {
   "cell_type": "code",
   "execution_count": 46,
   "metadata": {
    "run_control": {
     "marked": false
    }
   },
   "outputs": [
    {
     "name": "stdout",
     "output_type": "stream",
     "text": [
      "4"
     ]
    }
   ],
   "source": [
    "// Driver code \n",
    "public static void main(String arg[])  \n",
    "{ \n",
    "    int a[] = {2, 0, 11, 3, 0}; \n",
    "    int n = a.length; \n",
    "    int l = 1, r = 10; \n",
    "    System.out.print(countSubarrays(a, n, l, r)); \n",
    "} \n",
    "main(args)"
   ]
  },
  {
   "cell_type": "markdown",
   "metadata": {},
   "source": [
    "## **39. Print all possible combinations of r elements in a given array of size n**\n",
    "https://www.geeksforgeeks.org/print-all-possible-combinations-of-r-elements-in-a-given-array-of-size-n/"
   ]
  },
  {
   "cell_type": "code",
   "execution_count": 47,
   "metadata": {
    "run_control": {
     "marked": false
    }
   },
   "outputs": [],
   "source": [
    "/*\n",
    "Given an array of size n, generate and print all possible combinations of r elements in array. \n",
    "For example, \n",
    "if input array is {1, 2, 3, 4} and r is 2, \n",
    "then output should be {1, 2}, {1, 3}, {1, 4}, {2, 3}, {2, 4} and {3, 4}.\n",
    "*/"
   ]
  },
  {
   "cell_type": "code",
   "execution_count": 48,
   "metadata": {
    "run_control": {
     "marked": false
    }
   },
   "outputs": [],
   "source": [
    "/*\n",
    "Method 1 (Fix Elements and Recur)\n",
    "We create a temporary array ‘data[]’ which stores all outputs one by one. \n",
    "The idea is to start from first index (index = 0) in data[], \n",
    "one by one fix elements at this index and recur for remaining indexes. \n",
    "Let the input array be {1, 2, 3, 4, 5} and r be 3. \n",
    "We first fix 1 at index 0 in data[], \n",
    "then recur for remaining indexes, \n",
    "then we fix 2 at index 0 and recur. \n",
    "Finally, we fix 3 and recur for remaining indexes. \n",
    "When number of elements in data[] becomes equal to r (size of a combination), we print data[].\n",
    "\n",
    "Following diagram shows recursion tree for same input.\n",
    "*/"
   ]
  },
  {
   "cell_type": "markdown",
   "metadata": {},
   "source": [
    "<img src = \"https://media.geeksforgeeks.org/wp-content/uploads/tree12345.png\"/>"
   ]
  },
  {
   "cell_type": "code",
   "execution_count": 49,
   "metadata": {
    "run_control": {
     "marked": false
    }
   },
   "outputs": [],
   "source": [
    "/* arr[]  ---> Input Array \n",
    "data[] ---> Temporary array to store current combination \n",
    "start & end ---> Staring and Ending indexes in arr[] \n",
    "index  ---> Current index in data[] \n",
    "r ---> Size of a combination to be printed */\n",
    "static void combinationUtil(int arr[], int data[], int start, \n",
    "                            int end, int index, int r) \n",
    "{ \n",
    "    // Current combination is ready to be printed, print it \n",
    "    if (index == r) \n",
    "    { \n",
    "        for (int j=0; j<r; j++) \n",
    "            System.out.print(data[j]+\" \"); \n",
    "        System.out.println(\"\"); \n",
    "        return; \n",
    "    } \n",
    "\n",
    "    // replace index with all possible elements. The condition \n",
    "    // \"end-i+1 >= r-index\" makes sure that including one element \n",
    "    // at index will make a combination with remaining elements \n",
    "    // at remaining positions \n",
    "    for (int i=start; i<=end && end-i+1 >= r-index; i++) \n",
    "    { \n",
    "        data[index] = arr[i]; \n",
    "        combinationUtil(arr, data, i+1, end, index+1, r); \n",
    "    } \n",
    "} \n",
    "\n",
    "// The main function that prints all combinations of size r \n",
    "// in arr[] of size n. This function mainly uses combinationUtil() \n",
    "static void printCombination(int arr[], int n, int r) \n",
    "{ \n",
    "    // A temporary array to store all combination one by one \n",
    "    int data[]=new int[r]; \n",
    "\n",
    "    // Print all combination using temprary array 'data[]' \n",
    "    combinationUtil(arr, data, 0, n-1, 0, r); \n",
    "} "
   ]
  },
  {
   "cell_type": "code",
   "execution_count": 50,
   "metadata": {
    "run_control": {
     "marked": false
    }
   },
   "outputs": [
    {
     "name": "stdout",
     "output_type": "stream",
     "text": [
      "1 2 3 \n",
      "1 2 4 \n",
      "1 2 5 \n",
      "1 3 4 \n",
      "1 3 5 \n",
      "1 4 5 \n",
      "2 3 4 \n",
      "2 3 5 \n",
      "2 4 5 \n",
      "3 4 5 \n"
     ]
    }
   ],
   "source": [
    "/*Driver function to check for above function*/\n",
    "public static void main (String[] args) { \n",
    "    int arr[] = {1, 2, 3, 4, 5}; \n",
    "    int r = 3; \n",
    "    int n = arr.length; \n",
    "    printCombination(arr, n, r); \n",
    "} \n",
    "main(args)"
   ]
  },
  {
   "cell_type": "code",
   "execution_count": 51,
   "metadata": {
    "run_control": {
     "marked": false
    }
   },
   "outputs": [],
   "source": [
    "/*\n",
    "Method 2 (Include and Exclude every element)\n",
    "Like the above method, We create a temporary array data[]. \n",
    "The idea here is similar to Subset Sum Problem. (https://www.geeksforgeeks.org/subset-sum-problem-dp-25/)\n",
    "We one by one consider every element of input array, and recur for two cases:\n",
    "\n",
    "1) The element is included in current combination (We put the element in data[] and increment next available index in data[])\n",
    "2) The element is excluded in current combination (We do not put the element and do not change index)\n",
    "\n",
    "When number of elements in data[] become equal to r (size of a combination), we print it.\n",
    "\n",
    "This method is mainly based on Pascal’s Identity, i.e. ncr = n-1cr + n-1cr-1\n",
    "\n",
    "Following is implementation of method 2.\n",
    "*/"
   ]
  },
  {
   "cell_type": "code",
   "execution_count": 52,
   "metadata": {
    "run_control": {
     "marked": false
    }
   },
   "outputs": [],
   "source": [
    "/*\n",
    "PASCAL RULE :\n",
    "\n",
    "In mathematics, Pascal's rule (or Pascal's formula) is a combinatorial identity about binomial coefficients. \n",
    "It states that for positive natural numbers n and k,\n",
    "where right side of = is a binomial coefficient; \n",
    "one interpretation of which is the coefficient of the x^k term in the expansion of (1 + x)^n. \n",
    "There is no restriction on the relative sizes of n and k, since, \n",
    "if n < k the value of the binomial coefficient is zero and the identity remains valid.\n",
    "*/\n"
   ]
  },
  {
   "cell_type": "markdown",
   "metadata": {},
   "source": [
    "<img src = \"https://wikimedia.org/api/rest_v1/media/math/render/svg/50fc81ac7a665ee200b71104e64d7c31d9abcbb0\"/>"
   ]
  },
  {
   "cell_type": "code",
   "execution_count": 53,
   "metadata": {
    "run_control": {
     "marked": false
    }
   },
   "outputs": [],
   "source": [
    "/* arr[]  ---> Input Array \n",
    "data[] ---> Temporary array to store current combination \n",
    "start & end ---> Staring and Ending indexes in arr[] \n",
    "index  ---> Current index in data[] \n",
    "r ---> Size of a combination to be printed */\n",
    "static void combinationUtil(int arr[], int n, int r, int index, \n",
    "                            int data[], int i) \n",
    "{ \n",
    "    // Current combination is ready to be printed, print it \n",
    "    if (index == r) \n",
    "    { \n",
    "        for (int j=0; j<r; j++) \n",
    "            System.out.print(data[j]+\" \"); \n",
    "        System.out.println(\"\"); \n",
    "    return; \n",
    "    } \n",
    "\n",
    "    // When no more elements are there to put in data[] \n",
    "    if (i >= n) \n",
    "    return; \n",
    "\n",
    "    // current is included, put next at next location \n",
    "    data[index] = arr[i]; \n",
    "    combinationUtil(arr, n, r, index+1, data, i+1); \n",
    "\n",
    "    // current is excluded, replace it with next (Note that \n",
    "    // i+1 is passed, but index is not changed) \n",
    "    combinationUtil(arr, n, r, index, data, i+1); \n",
    "} \n",
    "\n",
    "// The main function that prints all combinations of size r \n",
    "// in arr[] of size n. This function mainly uses combinationUtil() \n",
    "static void printCombination(int arr[], int n, int r) \n",
    "{ \n",
    "    // A temporary array to store all combination one by one \n",
    "    int data[]=new int[r]; \n",
    "\n",
    "    // Print all combination using temprary array 'data[]' \n",
    "    combinationUtil(arr, n, r, 0, data, 0); \n",
    "} "
   ]
  },
  {
   "cell_type": "code",
   "execution_count": 54,
   "metadata": {
    "run_control": {
     "marked": false
    }
   },
   "outputs": [
    {
     "name": "stdout",
     "output_type": "stream",
     "text": [
      "1 2 3 \n",
      "1 2 4 \n",
      "1 2 5 \n",
      "1 3 4 \n",
      "1 3 5 \n",
      "1 4 5 \n",
      "2 3 4 \n",
      "2 3 5 \n",
      "2 4 5 \n",
      "3 4 5 \n"
     ]
    }
   ],
   "source": [
    "/*Driver function to check for above function*/\n",
    "public static void main (String[] args) { \n",
    "    int arr[] = {1, 2, 3, 4, 5}; \n",
    "    int r = 3; \n",
    "    int n = arr.length; \n",
    "    printCombination(arr, n, r); \n",
    "}\n",
    "main(args)"
   ]
  },
  {
   "cell_type": "code",
   "execution_count": 55,
   "metadata": {
    "run_control": {
     "marked": false
    }
   },
   "outputs": [],
   "source": [
    "/*\n",
    "How to handle duplicates in method 2?\n",
    "Like method 1, we can following two things to handle duplicates.\n",
    "1) Add code to sort the array before calling combinationUtil() in printCombination()\n",
    "2) Add following lines between two recursive calls of combinationUtil() in combinationUtil()\n",
    "\n",
    "        // Since the elements are sorted, all occurrences of an element\n",
    "        // must be together\n",
    "        while (arr[i] == arr[i+1])\n",
    "             i++; \n",
    "*/"
   ]
  },
  {
   "cell_type": "markdown",
   "metadata": {},
   "source": [
    "## **40. Longest subarray with sum divisible by k**\n",
    "https://www.geeksforgeeks.org/longest-subarray-sum-divisible-k/"
   ]
  },
  {
   "cell_type": "code",
   "execution_count": 56,
   "metadata": {
    "run_control": {
     "marked": false
    }
   },
   "outputs": [],
   "source": [
    "/*\n",
    "Given an arr[] containing n integers and a positive integer k. \n",
    "The problem is to find the length of the longest subarray with sum of the elements divisible by the given value k.\n",
    "\n",
    "Examples:\n",
    "\n",
    "Input : arr[] = {2, 7, 6, 1, 4, 5}, k = 3\n",
    "Output : 4\n",
    "The subarray is {7, 6, 1, 4} with sum 18,\n",
    "which is divisible by 3.\n",
    "\n",
    "Input : arr[] = {-2, 2, -5, 12, -11, -1, 7}\n",
    "Output : 5\n",
    "\n",
    "*/"
   ]
  },
  {
   "cell_type": "code",
   "execution_count": 57,
   "metadata": {
    "run_control": {
     "marked": false
    }
   },
   "outputs": [],
   "source": [
    "/*\n",
    "Method 1 (Naive Approach): \n",
    "Consider all the subarrays and return the length of the subarray with sum divisible by k and has the longest length.\n",
    "Time Complexity: O(n^2).\n",
    "*/"
   ]
  },
  {
   "cell_type": "code",
   "execution_count": 58,
   "metadata": {
    "run_control": {
     "marked": false
    }
   },
   "outputs": [],
   "source": [
    "/*\n",
    "Method 2 (Efficient Approach): \n",
    "Create an array mod_arr[] where mod_arr[i] stores (sum(arr[0]+arr[1]..+arr[i]) % k). \n",
    "Create a hash table having tuple as (ele, idx), \n",
    "where ele represents an element of mod_arr[] and idx represents the element’s index of first occurrence in mod_arr[]. \n",
    "Now, traverse mod_arr[] from i = 0 to n \n",
    "and follow the steps given below.\n",
    "\n",
    "If mod_arr[i] == 0, then update maxLen = (i + 1).\n",
    "Else if mod_arr[i] is not present in the hash table, then create tuple (mod_arr[i], i) in the hash table.\n",
    "Else, get the value associated with mod_arr[i] in the hash table. Let this be idx.\n",
    "If maxLen < (i – idx), then update maxLen = (i – idx).\n",
    "Finally return maxLen.\n",
    "\n",
    "Time Complexity: O(n).\n",
    "Auxiliary Space: O(n^2).\n",
    "*/"
   ]
  },
  {
   "cell_type": "code",
   "execution_count": 59,
   "metadata": {
    "run_control": {
     "marked": false
    }
   },
   "outputs": [],
   "source": [
    "// function to find the longest subarray \n",
    "// with sum divisible by k \n",
    "static int longSubarrWthSumDivByK(int arr[],  \n",
    "                                  int n, int k) \n",
    "{ \n",
    "    // unodered map 'um' implemented as \n",
    "    // hash table \n",
    "    HashMap<Integer, Integer> um= new HashMap<Integer, Integer>(); \n",
    "\n",
    "    // 'mod_arr[i]' stores (sum[0..i] % k) \n",
    "    int mod_arr[]= new int[n]; \n",
    "    int max = 0; \n",
    "    int curr_sum = 0; \n",
    "\n",
    "    // traverse arr[] and build up the \n",
    "    // array 'mod_arr[]' \n",
    "    for (int i = 0; i < n; i++) \n",
    "    { \n",
    "        curr_sum += arr[i]; \n",
    "\n",
    "        // as the sum can be negative,  \n",
    "        // taking modulo twice \n",
    "        mod_arr[i] = ((curr_sum % k) + k) % k;      \n",
    "    }  \n",
    "\n",
    "    for (int i = 0; i < n; i++) \n",
    "    { \n",
    "        // if true then sum(0..i) is  \n",
    "        // divisible by k \n",
    "        if (mod_arr[i] == 0) \n",
    "            // update 'max' \n",
    "            max = i + 1; \n",
    "\n",
    "        // if value 'mod_arr[i]' not present in 'um' \n",
    "        // then store it in 'um' with index of its \n",
    "        // first occurrence      \n",
    "        else if (um.containsKey(mod_arr[i]) == false) \n",
    "            um.put(mod_arr[i] , i); \n",
    "\n",
    "        else\n",
    "            // if true, then update 'max' \n",
    "            if (max < (i - um.get(mod_arr[i]))) \n",
    "                max = i - um.get(mod_arr[i]);          \n",
    "    } \n",
    "\n",
    "    // required length of longest subarray with \n",
    "    // sum divisible by 'k' \n",
    "    return max; \n",
    "} "
   ]
  },
  {
   "cell_type": "code",
   "execution_count": 60,
   "metadata": {
    "run_control": {
     "marked": false
    }
   },
   "outputs": [
    {
     "name": "stdout",
     "output_type": "stream",
     "text": [
      "Length = 4\n"
     ]
    }
   ],
   "source": [
    "public static void main (String[] args)  \n",
    "{ \n",
    "    int arr[] = {2, 7, 6, 1, 4, 5}; \n",
    "    int n = arr.length; \n",
    "    int k = 3; \n",
    "\n",
    "    System.out.println(\"Length = \"+  \n",
    "                        longSubarrWthSumDivByK(arr, n, k)); \n",
    "\n",
    "} \n",
    "main(args)"
   ]
  },
  {
   "cell_type": "markdown",
   "metadata": {},
   "source": [
    "## **41. Find minimum number of merge operations to make an array palindrome**\n",
    "https://www.geeksforgeeks.org/find-minimum-number-of-merge-operations-to-make-an-array-palindrome/"
   ]
  },
  {
   "cell_type": "markdown",
   "metadata": {},
   "source": [
    "https://youtu.be/wBGxPHXAPM4"
   ]
  },
  {
   "cell_type": "code",
   "execution_count": 61,
   "metadata": {
    "run_control": {
     "marked": false
    }
   },
   "outputs": [],
   "source": [
    "/*\n",
    "Given an array of positive integers. \n",
    "We need to make the given array a ‘Palindrome’. \n",
    "Only allowed operation on array is merge. \n",
    "Merging two adjacent elements means replacing them with their sum. \n",
    "The task is to find minimum number of merge operations required to make given array a ‘Palindrome’.\n",
    "\n",
    "To make an array a palindromic, \n",
    "we can simply apply merging operations n-1 times \n",
    "where n is the size of array (Note a single element array is alway palindrome similar to single character string). \n",
    "In that case, \n",
    "size of array will be reduced to 1. \n",
    "But in this problem we are asked to do it in minimum number of operations.\n",
    "\n",
    "Expected time complexity is O(n).\n",
    "*/"
   ]
  },
  {
   "cell_type": "code",
   "execution_count": 62,
   "metadata": {
    "run_control": {
     "marked": false
    }
   },
   "outputs": [],
   "source": [
    "/*\n",
    "Example :\n",
    "\n",
    "Input : arr[] = {15, 4, 15}\n",
    "Output : 0\n",
    "Array is already a palindrome. So we\n",
    "do not need any merge operation.\n",
    "\n",
    "Input : arr[] = {1, 4, 5, 1}\n",
    "Output : 1\n",
    "We can make given array palindrome with\n",
    "minimum one merging (merging 4 and 5 to\n",
    "make 9)\n",
    "\n",
    "Input : arr[] = {11, 14, 15, 99}\n",
    "Output : 3\n",
    "We need to merge all elements to make\n",
    "a palindrome.\n",
    "*/"
   ]
  },
  {
   "cell_type": "code",
   "execution_count": 63,
   "metadata": {
    "run_control": {
     "marked": false
    }
   },
   "outputs": [],
   "source": [
    "/*\n",
    "Let f(i, j) be minimum merging operations to make subarray arr[i..j] a palindrome. \n",
    "If i == j answer is 0. We start i from 0 and j from n-1.\n",
    "\n",
    "If arr[i] == arr[j], then there is no need to do any merging operations at index i or index j. \n",
    "    Our answer in this case will be f(i+1, j-1).\n",
    "Else, we need to do merging operations. Following cases arise.\n",
    "    If arr[i] > arr[j], then we should do merging operation at index j. \n",
    "    We merge index j-1 and j, and update arr[j-1] = arr[j-1] + arr[j]. Our answer in this case will be 1 + f(i, j-1).\n",
    "    \n",
    "    For the case when arr[i] < arr[j], update arr[i+1] = arr[i+1] + arr[i]. Our answer in this case will be 1 + f(i+1, j).\n",
    "    \n",
    "Our answer will be f(0, n-1), where n is size of array arr[].\n",
    "\n",
    "Therefore this problem can be solved iteratively using two pointers \n",
    "(first pointer pointing to start of the array and second pointer pointing to last element of the array) method and keeping count of total merging operations done till now.\n",
    "\n",
    "Below is implementation of above idea.\n",
    "\n",
    "Time complexity for the given program is : O(n)\n",
    "*/"
   ]
  },
  {
   "cell_type": "code",
   "execution_count": 64,
   "metadata": {
    "run_control": {
     "marked": false
    }
   },
   "outputs": [],
   "source": [
    "// Returns minimum number of count operations \n",
    "// required to make arr[] palindrome \n",
    "static int findMinOps(int[] arr, int n) \n",
    "{ \n",
    "    int ans = 0; // Initialize result \n",
    "    // Start from two corners \n",
    "    for (int i=0,j=n-1; i<=j;) \n",
    "    { \n",
    "        // If corner elements are same, \n",
    "        // problem reduces arr[i+1..j-1] \n",
    "        if (arr[i] == arr[j]) \n",
    "        { \n",
    "            i++; \n",
    "            j--; \n",
    "        } \n",
    "        // If left element is greater, then \n",
    "        // we merge right two elements \n",
    "        else if (arr[i] > arr[j]) \n",
    "        { \n",
    "            // need to merge from tail. \n",
    "            j--; \n",
    "            arr[j] += arr[j+1] ; \n",
    "            ans++; \n",
    "        } \n",
    "\n",
    "        // Else we merge left two elements \n",
    "        else\n",
    "        { \n",
    "            i++; \n",
    "            arr[i] += arr[i-1]; \n",
    "            ans++; \n",
    "        } \n",
    "    } \n",
    "    return ans; \n",
    "} "
   ]
  },
  {
   "cell_type": "code",
   "execution_count": 65,
   "metadata": {
    "run_control": {
     "marked": false
    }
   },
   "outputs": [
    {
     "name": "stdout",
     "output_type": "stream",
     "text": [
      "Count of minimum operations is 1\n"
     ]
    }
   ],
   "source": [
    "int arr[] = new int[]{1, 4, 5, 9, 1} ; \n",
    "System.out.println(\"Count of minimum operations is \"+ \n",
    "                        findMinOps(arr, arr.length)); "
   ]
  },
  {
   "cell_type": "markdown",
   "metadata": {},
   "source": [
    "## **42. Reorder an array according to given indexes**\n",
    "https://www.geeksforgeeks.org/reorder-a-array-according-to-given-indexes/"
   ]
  },
  {
   "cell_type": "code",
   "execution_count": 66,
   "metadata": {
    "run_control": {
     "marked": false
    }
   },
   "outputs": [],
   "source": [
    "/*\n",
    "Given two integer arrays of same size, “arr[]” and “index[]”, \n",
    "reorder elements in “arr[]” according to given index array. \n",
    "It is not allowed to given array arr’s length.\n",
    "\n",
    "Expected time complexity O(n) and auxiliary space O(1)\n",
    "*/"
   ]
  },
  {
   "cell_type": "code",
   "execution_count": 67,
   "metadata": {
    "run_control": {
     "marked": false
    }
   },
   "outputs": [],
   "source": [
    "/*\n",
    "Example:\n",
    "\n",
    "Input:  arr[]   = [10, 11, 12];\n",
    "        index[] = [1, 0, 2];\n",
    "Output: arr[]   = [11, 10, 12]\n",
    "        index[] = [0,  1,  2] \n",
    "\n",
    "Input:  arr[]   = [50, 40, 70, 60, 90]\n",
    "        index[] = [3,  0,  4,  1,  2]\n",
    "Output: arr[]   = [40, 60, 90, 50, 70]\n",
    "        index[] = [0,  1,  2,  3,   4] \n",
    "*/"
   ]
  },
  {
   "cell_type": "code",
   "execution_count": 68,
   "metadata": {
    "run_control": {
     "marked": false
    }
   },
   "outputs": [],
   "source": [
    "/*\n",
    "A Simple Solution is to use an auxiliary array temp[] of same size as given arrays. \n",
    "Traverse the given array and put all elements at their correct place in temp[] using index[]. \n",
    "Finally copy temp[] to arr[] and set all values of index[i] as i.\n",
    "*/"
   ]
  },
  {
   "cell_type": "code",
   "execution_count": 69,
   "metadata": {
    "run_control": {
     "marked": false
    }
   },
   "outputs": [
    {
     "name": "stdout",
     "output_type": "stream",
     "text": [
      "Reordered array is: \n",
      "[40, 60, 90, 50, 70]\n",
      "Modified Index array is:\n",
      "[0, 1, 2, 3, 4]\n"
     ]
    }
   ],
   "source": [
    "static int arr[] = new int[]{50, 40, 70, 60, 90}; \n",
    "static int index[] = new int[]{3,  0,  4,  1,  2}; \n",
    "\n",
    "// Method to reorder elements of arr[] according \n",
    "// to index[] \n",
    "static void reorder() \n",
    "{ \n",
    "    int temp[] = new int[arr.length]; \n",
    "\n",
    "    // arr[i] should be present at index[i] index \n",
    "    for (int i=0; i<arr.length; i++) \n",
    "        temp[index[i]] = arr[i]; \n",
    "        \n",
    "    // Copy temp[] to arr[] \n",
    "    for (int i=0; i<arr.length; i++) \n",
    "    {  \n",
    "       arr[i]   = temp[i]; \n",
    "       index[i] = i; \n",
    "    } \n",
    "} \n",
    "\n",
    "// Driver method to test the above function \n",
    "public static void main(String[] args)  \n",
    "{ \n",
    "    reorder(); \n",
    "    System.out.println(\"Reordered array is: \"); \n",
    "    System.out.println(Arrays.toString(arr)); \n",
    "    System.out.println(\"Modified Index array is:\"); \n",
    "    System.out.println(Arrays.toString(index)); \n",
    "\n",
    "} \n",
    "main(args)"
   ]
  },
  {
   "cell_type": "code",
   "execution_count": 70,
   "metadata": {
    "run_control": {
     "marked": false
    }
   },
   "outputs": [],
   "source": [
    "/*\n",
    "We can solve it Without Auxiliary Array. Below is algorithm.\n",
    "\n",
    "1) Do following for every element arr[i]\n",
    "   a) While index[i] is not equal to i\n",
    "       (i)  Store array and index values of the target (or \n",
    "            correct) position where arr[i] should be placed.\n",
    "            The correct position for arr[i] is index[i]\n",
    "       (ii) Place arr[i] at its correct position. Also\n",
    "            update index value of correct position.\n",
    "       (iii) Copy old values of correct position (Stored in\n",
    "            step (i)) to arr[i] and index[i] as the while \n",
    "            loop continues for i.\n",
    "Below is implementation of above algorithm.\n",
    "*/"
   ]
  },
  {
   "cell_type": "code",
   "execution_count": 71,
   "metadata": {
    "run_control": {
     "marked": false
    }
   },
   "outputs": [],
   "source": [
    "static int arr[] = new int[]{50, 40, 70, 60, 90}; \n",
    "static int index[] = new int[]{3,  0,  4,  1,  2}; \n",
    "\n",
    "// Method to reorder elements of arr[] according \n",
    "// to index[] \n",
    "static void reorder() \n",
    "{ \n",
    "    // Fix all elements one by one \n",
    "    for (int i=0; i<arr.length; i++) \n",
    "    { \n",
    "        // While index[i] and arr[i] are not fixed \n",
    "        while (index[i] != i) \n",
    "        { \n",
    "            // Store values of the target (or correct)  \n",
    "            // position before placing arr[i] there \n",
    "            int  oldTargetI  = index[index[i]]; \n",
    "            char oldTargetE  = (char)arr[index[i]]; \n",
    "\n",
    "            // Place arr[i] at its target (or correct) \n",
    "            // position. Also copy corrected index for \n",
    "            // new position \n",
    "            arr[index[i]] = arr[i]; \n",
    "            index[index[i]] = index[i]; \n",
    "\n",
    "            // Copy old target values to arr[i] and \n",
    "            // index[i] \n",
    "            index[i] = oldTargetI; \n",
    "            arr[i]   = oldTargetE; \n",
    "        } \n",
    "    } \n",
    "}"
   ]
  },
  {
   "cell_type": "code",
   "execution_count": 72,
   "metadata": {
    "run_control": {
     "marked": false
    }
   },
   "outputs": [
    {
     "name": "stdout",
     "output_type": "stream",
     "text": [
      "Reordered array is: \n",
      "[40, 60, 90, 50, 70]\n",
      "Modified Index array is:\n",
      "[0, 1, 2, 3, 4]\n"
     ]
    }
   ],
   "source": [
    "public static void main(String[] args)  \n",
    "{ \n",
    "    reorder(); \n",
    "    System.out.println(\"Reordered array is: \"); \n",
    "    System.out.println(Arrays.toString(arr)); \n",
    "    System.out.println(\"Modified Index array is:\"); \n",
    "    System.out.println(Arrays.toString(index)); \n",
    "} \n",
    "main(args)"
   ]
  },
  {
   "cell_type": "markdown",
   "metadata": {},
   "source": [
    "## **43. Maximum Score**\n",
    "https://www.codechef.com/JAN18/problems/MAXSC/"
   ]
  },
  {
   "cell_type": "code",
   "execution_count": 73,
   "metadata": {
    "run_control": {
     "marked": false
    }
   },
   "outputs": [],
   "source": [
    "/*\n",
    "You are given N integer sequences A1, A2, ..., AN. \n",
    "Each of these sequences contains N elements. \n",
    "You should pick N elements, one from each sequence; \n",
    "let's denote the element picked from sequence Ai by Ei. \n",
    "For each i (2 ≤ i ≤ N), Ei should be strictly greater than Ei-1.\n",
    "\n",
    "Compute the maximum possible value of E1 + E2 + ... + EN. \n",
    "If it's impossible to pick the elements E1, E2, ..., EN, print -1 instead.\n",
    "*/"
   ]
  },
  {
   "cell_type": "code",
   "execution_count": 74,
   "metadata": {
    "run_control": {
     "marked": false
    }
   },
   "outputs": [],
   "source": [
    "/*\n",
    "Example\n",
    "Input:\n",
    "\n",
    "1\n",
    "3\n",
    "1 2 3\n",
    "4 5 6\n",
    "7 8 9\n",
    "\n",
    "Output:\n",
    "\n",
    "18\n",
    "Explanation\n",
    "Example case 1: \n",
    "To maximise the score, \n",
    "pick 3 from the first row, 6 from the second row and 9 from the third row. \n",
    "The resulting sum is E1+E2+E3 = 3+6+9 = 18.\n",
    "*/"
   ]
  },
  {
   "cell_type": "code",
   "execution_count": 75,
   "metadata": {
    "run_control": {
     "marked": false
    }
   },
   "outputs": [],
   "source": [
    "public static void main(String[]args){\n",
    "    Scanner sc=new Scanner(System.in);\n",
    "    int t = sc.nextInt();\n",
    "    while(t-->0){\n",
    "        int n = sc.nextInt();\n",
    "        boolean flag2=false;\n",
    "        int[][] ar =new int[n][n];\n",
    "        for(int i=0;i<n;i++)\n",
    "            for(int j=0;j<n;j++)\n",
    "                ar[i][j]=sc.nextInt();\n",
    "        long sum=0;\n",
    "        int max1=Integer.MAX_VALUE;\n",
    "        for(int i=n-1;i>=0;i--) {\n",
    "            boolean flag=false;\n",
    "            int max=Integer.MIN_VALUE;\n",
    "            for(int j=0;j<n;j++) {\n",
    "                if(max<max1 ){\n",
    "                    if(max<ar[i][j] && ar[i][j]<max1){\n",
    "                        max=ar[i][j];\n",
    "                        flag=true;\n",
    "                    }\n",
    "                    //System.out.println(max+\"++\"+ar[i][j]+\" \"+max1);\n",
    "                }\n",
    "            }  \n",
    "            if(!flag){\n",
    "                flag2=true;\n",
    "                break;\n",
    "            }\n",
    "            //System.out.println(max+\"+++\"); \n",
    "            max1=max;\n",
    "            sum+=max;\n",
    "        } \n",
    "        if(!flag2)\n",
    "            System.out.println(sum);\n",
    "        else \n",
    "            System.out.println(-1);\n",
    "    }\n",
    "}"
   ]
  },
  {
   "cell_type": "code",
   "execution_count": 76,
   "metadata": {
    "run_control": {
     "marked": false
    }
   },
   "outputs": [
    {
     "name": "stdout",
     "output_type": "stream",
     "text": [
      "1 3 1 2 3 4 5 6 7 8 9\n",
      "18\n"
     ]
    }
   ],
   "source": [
    "main(args)"
   ]
  },
  {
   "cell_type": "markdown",
   "metadata": {},
   "source": [
    "## **44. Rearrange an array in maximum minimum form | Set 2 (O(1) extra space)**\n",
    "https://www.geeksforgeeks.org/rearrange-array-maximum-minimum-form-set-2-o1-extra-space/"
   ]
  },
  {
   "cell_type": "code",
   "execution_count": 77,
   "metadata": {
    "run_control": {
     "marked": false
    }
   },
   "outputs": [],
   "source": [
    "/*\n",
    "Given a sorted array of positive integers, \n",
    "rearrange the array alternately \n",
    "i.e first element should be the maximum value, second minimum value, third-second max, fourth-second min and so on.\n",
    "*/"
   ]
  },
  {
   "cell_type": "code",
   "execution_count": 78,
   "metadata": {
    "run_control": {
     "marked": false
    }
   },
   "outputs": [],
   "source": [
    "/*\n",
    "Examples:\n",
    "\n",
    "Input: arr[] = {1, 2, 3, 4, 5, 6, 7}\n",
    "Output: arr[] = {7, 1, 6, 2, 5, 3, 4}\n",
    "\n",
    "Input: arr[] = {1, 2, 3, 4, 5, 6}\n",
    "Output: arr[] = {6, 1, 5, 2, 4, 3}\n",
    "*/"
   ]
  },
  {
   "cell_type": "code",
   "execution_count": 79,
   "metadata": {
    "run_control": {
     "marked": false
    }
   },
   "outputs": [],
   "source": [
    "/*\n",
    "A solution that requires O(n) time and O(1) extra space is discussed. \n",
    "The idea is to use multiplication and modular trick to store two elements at an index.\n",
    "*/"
   ]
  },
  {
   "cell_type": "code",
   "execution_count": 80,
   "metadata": {
    "run_control": {
     "marked": false
    }
   },
   "outputs": [],
   "source": [
    "/*\n",
    "even index : remaining maximum element.\n",
    "odd index  : remaining minimum element.\n",
    " \n",
    "max_index : Index of remaining maximum element\n",
    "            (Moves from right to left)\n",
    "min_index : Index of remaining minimum element\n",
    "            (Moves from left to right)\n",
    "\n",
    "Initialize: max_index = 'n-1'\n",
    "            min_index = 0  \n",
    "            max_element = arr[max_index] + 1 //can be any element which is more than the maximum value in array\n",
    "\n",
    "For i = 0 to n-1            \n",
    "    If 'i' is even\n",
    "       arr[i] += arr[max_index] % max_element * max_element \n",
    "       max_index--     \n",
    "    ELSE // if 'i' is odd\n",
    "       arr[i] +=  arr[min_index] % max_element * max_element\n",
    "       min_index++\n",
    "*/"
   ]
  },
  {
   "cell_type": "code",
   "execution_count": 81,
   "metadata": {
    "code_folding": [
     2
    ],
    "run_control": {
     "marked": false
    }
   },
   "outputs": [],
   "source": [
    "/*\n",
    "How does expression “arr[i] += arr[max_index] % max_element * max_element” work ?\n",
    "The purpose of this expression is to store two elements at index arr[i]. \n",
    "arr[max_index] is stored as multiplier and “arr[i]” is stored as remainder. \n",
    "For example in {1 2 3 4 5 6 7 8 9},\n",
    "max_element is 10 and we store 91 at index 0. With 91, \n",
    "we can get original element as 91%10 and new element as 91/10.\n",
    "*/"
   ]
  },
  {
   "cell_type": "code",
   "execution_count": 84,
   "metadata": {
    "run_control": {
     "marked": false
    }
   },
   "outputs": [],
   "source": [
    "// Prints max at first position, min at second \n",
    "// position second max at third position, second \n",
    "// min at fourth position and so on. \n",
    "public static void rearrange(int arr[], int n) \n",
    "{ \n",
    "    // initialize index of first minimum and first \n",
    "    // maximum element \n",
    "    int max_idx = n - 1, min_idx = 0; \n",
    "\n",
    "    // store maximum element of array \n",
    "    int max_elem = arr[n - 1] + 1; \n",
    "\n",
    "    // traverse array elements \n",
    "    for (int i = 0; i < n; i++) { \n",
    "        // at even index : we have to put \n",
    "        // maximum element \n",
    "        if (i % 2 == 0) { \n",
    "            arr[i] += (arr[max_idx] % max_elem) * max_elem; \n",
    "            max_idx--; \n",
    "        } \n",
    "\n",
    "        // at odd index : we have to put minimum element \n",
    "        else { \n",
    "            arr[i] += (arr[min_idx] % max_elem) * max_elem; \n",
    "            min_idx++; \n",
    "        } \n",
    "    } \n",
    "\n",
    "    // array elements back to it's original form \n",
    "    for (int i = 0; i < n; i++) \n",
    "        arr[i] = arr[i] / max_elem; \n",
    "} "
   ]
  },
  {
   "cell_type": "code",
   "execution_count": 94,
   "metadata": {
    "code_folding": [],
    "run_control": {
     "marked": false
    }
   },
   "outputs": [
    {
     "name": "stdout",
     "output_type": "stream",
     "text": [
      "Original Array\n",
      "1 2 3 4 5 6 7 8 9 \n",
      "Modified Array\n",
      "9 1 8 2 7 3 6 4 5 "
     ]
    }
   ],
   "source": [
    "// Driver code \n",
    "public static void main(String args[]) \n",
    "{ \n",
    "    int arr[] = { 1, 2, 3, 4, 5, 6, 7, 8, 9 }; \n",
    "    int n = arr.length; \n",
    "\n",
    "    System.out.println(\"Original Array\"); \n",
    "    for (int i = 0; i < n; i++) \n",
    "        System.out.print(arr[i] + \" \"); \n",
    "\n",
    "    rearrange(arr, n); \n",
    "\n",
    "    System.out.print(\"\\nModified Array\\n\"); \n",
    "    for (int i = 0; i < n; i++) \n",
    "        System.out.print(arr[i] + \" \"); \n",
    "} \n",
    "main(args)"
   ]
  },
  {
   "cell_type": "markdown",
   "metadata": {},
   "source": [
    "## **45. Arrange given numbers to form the biggest number | Set 1**\n",
    "https://www.geeksforgeeks.org/given-an-array-of-numbers-arrange-the-numbers-to-form-the-biggest-number/"
   ]
  },
  {
   "cell_type": "code",
   "execution_count": 87,
   "metadata": {
    "cell_style": "center",
    "run_control": {
     "marked": false
    }
   },
   "outputs": [],
   "source": [
    "/*\n",
    "Given an array of numbers, \n",
    "arrange them in a way that yields the largest value. \n",
    "For example, \n",
    "if the given numbers are {54, 546, 548, 60}, \n",
    "the arrangement 6054854654 gives the largest value. \n",
    "And if the given numbers are {1, 34, 3, 98, 9, 76, 45, 4}, \n",
    "then the arrangement 998764543431 gives the largest value.\n",
    "*/"
   ]
  },
  {
   "cell_type": "code",
   "execution_count": 88,
   "metadata": {
    "cell_style": "center",
    "run_control": {
     "marked": false
    }
   },
   "outputs": [],
   "source": [
    "/*\n",
    "A simple solution \n",
    "that comes to our mind is to sort all numbers in descending order, \n",
    "but simply sorting doesn’t work. \n",
    "For example, 548 is greater than 60, but in output 60 comes before 548. \n",
    "As a second example, 98 is greater than 9, but 9 comes before 98 in output.\n",
    "*/"
   ]
  },
  {
   "cell_type": "code",
   "execution_count": 89,
   "metadata": {
    "run_control": {
     "marked": false
    }
   },
   "outputs": [],
   "source": [
    "/*\n",
    "In the used sorting algorithm, \n",
    "instead of using the default comparison, write a comparison function myCompare() and use it to sort numbers.\n",
    "\n",
    "Given two numbers X and Y,\n",
    "how should myCompare() decide which number to put first – \n",
    "we compare two numbers XY (Y appended at the end of X) and YX (X appended at the end of Y). \n",
    "If XY is larger, then X should come before Y in output, \n",
    "else Y should come before. \n",
    "\n",
    "For example, \n",
    "let X and Y be 542 and 60. \n",
    "To compare X and Y, we compare 54260 and 60542. \n",
    "Since 60542 is greater than 54260,\n",
    "we put Y first.\n",
    "*/"
   ]
  },
  {
   "cell_type": "code",
   "execution_count": 91,
   "metadata": {
    "run_control": {
     "marked": false
    }
   },
   "outputs": [],
   "source": [
    "// The main function that prints the  \n",
    "// arrangement with the largest value. \n",
    "// The function accepts a vector of strings     \n",
    "static void printLargest(Vector<String> arr){ \n",
    "\n",
    "    Collections.sort(arr, new Comparator<String>(){ \n",
    "        // A comparison function which is used by  \n",
    "        // sort() in printLargest() \n",
    "        @Override\n",
    "        public int compare(String X, String Y) { \n",
    "\n",
    "            // first append Y at the end of X \n",
    "            String XY=X + Y; \n",
    "\n",
    "            // then append X at the end of Y \n",
    "            String YX=Y + X; \n",
    "\n",
    "            // Now see which of the two formed numbers is greater \n",
    "            return XY.compareTo(YX) > 0 ? -1:1; \n",
    "        } \n",
    "    }); \n",
    "\n",
    "    Iterator it = arr.iterator(); \n",
    "\n",
    "    while(it.hasNext()) \n",
    "        System.out.print(it.next()); \n",
    "\n",
    "} "
   ]
  },
  {
   "cell_type": "code",
   "execution_count": 93,
   "metadata": {
    "run_control": {
     "marked": false
    }
   },
   "outputs": [
    {
     "name": "stdout",
     "output_type": "stream",
     "text": [
      "6054854654"
     ]
    }
   ],
   "source": [
    "// driver program \n",
    "public static void main (String[] args) { \n",
    "\n",
    "    Vector<String> arr; \n",
    "    arr = new Vector<>(); \n",
    "\n",
    "    //output should be 6054854654 \n",
    "    arr.add(\"54\"); \n",
    "    arr.add(\"546\"); \n",
    "    arr.add(\"548\"); \n",
    "    arr.add(\"60\"); \n",
    "    printLargest(arr); \n",
    "} \n",
    "main(args)"
   ]
  },
  {
   "cell_type": "code",
   "execution_count": null,
   "metadata": {
    "run_control": {
     "marked": false
    }
   },
   "outputs": [],
   "source": []
  },
  {
   "cell_type": "markdown",
   "metadata": {},
   "source": [
    "**------------------------Questions Covered-----------------------------**"
   ]
  },
  {
   "cell_type": "markdown",
   "metadata": {},
   "source": [
    "***1\tArray\thttps://www.geeksforgeeks.org/space-optimization-using-bit-manipulations/\tPep_JavaIP_1Arrays_46SpaceOptimizationUsingBits\tBitManipulation\t\t\t\t\t\t\t\t\t\t\t\t\t\t\t\t\t\t\t\t\t\t\t\n",
    "1\tArray\thttps://www.geeksforgeeks.org/mos-algorithm-query-square-root-decomposition-set-1-introduction/\tSQUARE ROOT DECOMPOSTION (enough said :p)\t\t\t\t\t\t\t\t\t\t\t\t\t\t\t\t\t\t\t\t\t\t\t\t\n",
    "2\tSearching & Sorting\thttps://www.geeksforgeeks.org/majority-element/\tPep_JavaIP_2SnS_48MajorityElement\t\t\t\t\t\t\t\t\t\t\t\t\t\t\t\t\t\t\t\t\t\t\t\t\n",
    "2\tSearching & Sorting\thttps://www.geeksforgeeks.org/searching-array-adjacent-differ-k/\tPep_JavaIP_2SnS_49SearchingInAnArray\t\t\t\t\t\t\t\t\t\t\t\t\t\t\t\t\t\t\t\t\t\t\t\t\n",
    "2\tSearching & Sorting\thttps://www.geeksforgeeks.org/find-a-repeating-and-a-missing-number/\tPep_JavaIP_2SnS_50FindRepeatingAndMissing\t\t\t\t\t\t\t\t\t\t\t\t\t\t\t\t\t\t\t\t\t\t\t\t\n",
    "2\tSearching & Sorting\thttps://www.geeksforgeeks.org/ceiling-in-a-sorted-array/\tPep_JavaIP_2SnS_51Ceiling\t\t\t\t\t\t\t\t\t\t\t\t\t\t\t\t\t\t\t\t\t\t\t\t\n",
    "2\tSearching & Sorting\thttps://www.geeksforgeeks.org/find-a-pair-with-the-given-difference/\tvariation of simple problem\t\t\t\t\t\t\t\t\t\t\t\t\t\t\t\t\t\t\t\t\t\t\t\t\n",
    "2\tSearching & Sorting\thttps://www.geeksforgeeks.org/find-four-elements-that-sum-to-a-given-value-set-2/\tPep_JavaIP_2SnS_53QuadrupletSum\t\t\t\t\t\t\t\t\t\t\t\t\t\t\t\t\t\t\t\t\t\t\t\t\n",
    "2\tSearching & Sorting\thttps://www.geeksforgeeks.org/median-of-two-sorted-arrays-of-different-sizes/\tPep_JavaIP_2SnS_54MedianOfTwoSortedArrays\tbreaker\t\t\t\t\t\t\t\t\t\t\t\t\t\t\t\t\t\t\t\t\t\t\t\n",
    "2\tSearching & Sorting\thttps://www.geeksforgeeks.org/maximum-sum-such-that-no-two-elements-are-adjacent/\tinclusion- exclusion\t\t\t\t\t\t\t\t\t\t\t\t\t\t\t\t\t\t\t\t\t\t\t\t\n",
    "2\tSearching & Sorting\thttps://www.geeksforgeeks.org/find-common-elements-three-sorted-arrays/\tvariation of intersection of arrays\t\t\t\t\t\t\t\t\t\t\t\t\t\t\t\t\t\t\t\t\t\t\t\t\n",
    "2\tSearching & Sorting\thttps://www.geeksforgeeks.org/count-triplets-with-sum-smaller-that-a-given-value/\t\t\t\t\t\t\t\t\t\t\t\t\t\t\t\t\t\t\t\t\t\t\t\t\t\n",
    "2\tSearching & Sorting\thttps://www.geeksforgeeks.org/merge-two-sorted-arrays-o1-extra-space/\tnot so easy to understand\tbreaker\t\t\t\t\t\t\t\t\t\t\t\t\t\t\t\t\t\t\t\t\t\t\t\n",
    "2\tSearching & Sorting\thttps://www.geeksforgeeks.org/3-way-quicksort-dutch-national-flag/\tPep_JavaIP_2SnS_593WayPartition\t\t\t\t\t\t\t\t\t\t\t\t\t\t\t\t\t\t\t\t\t\t\t\t\n",
    "2\tSearching & Sorting\thttps://www.geeksforgeeks.org/counting-sort/\tPep_JavaIP_2SnS_60CountingSort***"
   ]
  },
  {
   "cell_type": "code",
   "execution_count": 1,
   "metadata": {},
   "outputs": [],
   "source": [
    "import java.util.*;\n",
    "import java.io.*;\n",
    "import java.util.Arrays;\n",
    "String[] args =new String[0];"
   ]
  },
  {
   "cell_type": "markdown",
   "metadata": {},
   "source": [
    "## **46. Space optimization using bit manipulations**\n",
    "https://www.geeksforgeeks.org/space-optimization-using-bit-manipulations/"
   ]
  },
  {
   "cell_type": "code",
   "execution_count": 2,
   "metadata": {},
   "outputs": [],
   "source": [
    "/*\n",
    "There are many situations where we use integer values as index in array to see presence or absence, \n",
    "we can use bit manipulations to optimize space in such problems.\n",
    "\n",
    "Let us consider below problem as an example.\n",
    "\n",
    "Given two numbers say a and b, \n",
    "mark the multiples of 2 and 5 between a and b using less than O(|b – a|) space and output each of the multiples.\n",
    "\n",
    "Note : \n",
    "    We have to mark the multiples \n",
    "    i.e save (key, value) pairs in memory such that each key either have value as 1 or 0 representing as multiple of 2 or 5 or not respectively.\n",
    "*/"
   ]
  },
  {
   "cell_type": "code",
   "execution_count": 3,
   "metadata": {},
   "outputs": [],
   "source": [
    "/*\n",
    "Examples :\n",
    "\n",
    "Input : 2 10\n",
    "Output : 2 4 5 6 8 10\n",
    "\n",
    "Input: 60 95\n",
    "Output: 60 62 64 65 66 68 70 72 74 75 76 78 \n",
    "        80 82 84 85 86 88 90 92 94 95\n",
    "*/"
   ]
  },
  {
   "cell_type": "code",
   "execution_count": 4,
   "metadata": {},
   "outputs": [],
   "source": [
    "/*\n",
    "Approach 1 (Simple):\n",
    "Hash the indices in an array from a to b and mark each of the indices as 1 or 0.\n",
    "Space complexity : O(max(a, b))\n",
    "*/"
   ]
  },
  {
   "cell_type": "markdown",
   "metadata": {},
   "source": [
    "<img src = \"https://media.geeksforgeeks.org/wp-content/uploads/Array1.png\"/>"
   ]
  },
  {
   "cell_type": "code",
   "execution_count": 5,
   "metadata": {},
   "outputs": [],
   "source": [
    "/*\n",
    "Approach 2 (Better than simple):\n",
    "Save memory, by translating a to 0th index and b to (b-a)th index.\n",
    "Space complexity : O(|b-a|).\n",
    "\n",
    "Simply hash |b – a| positions of an array as 0 and 1.\n",
    "*/"
   ]
  },
  {
   "cell_type": "markdown",
   "metadata": {},
   "source": [
    "<img src =\"https://media.geeksforgeeks.org/wp-content/uploads/Array_updated.png\"/>"
   ]
  },
  {
   "cell_type": "code",
   "execution_count": 6,
   "metadata": {},
   "outputs": [
    {
     "name": "stdout",
     "output_type": "stream",
     "text": [
      "MULTIPLES of 2 and 5:\n",
      "2 4 5 6 8 10 "
     ]
    }
   ],
   "source": [
    "// Driver code \n",
    "public static void main(String[] args) \n",
    "{ \n",
    "    int a = 2, b = 10; \n",
    "    int size = Math.abs(b - a) + 1; \n",
    "    int array[] = new int[size]; \n",
    "\n",
    "    // Iterate through a to b, If  \n",
    "    // it is a multiple of 2 or 5  \n",
    "    // Mark index in array as 1 \n",
    "    for (int i = a; i <= b; i++) \n",
    "        if (i % 2 == 0 || i % 5 == 0) \n",
    "            array[i - a] = 1; \n",
    "\n",
    "    System.out.println(\"MULTIPLES of 2\"\n",
    "                          + \" and 5:\"); \n",
    "    for (int i = a; i <= b; i++) \n",
    "        if (array[i - a] == 1) \n",
    "            System.out.printf(i + \" \"); \n",
    "} \n",
    "main(args)"
   ]
  },
  {
   "cell_type": "code",
   "execution_count": 7,
   "metadata": {},
   "outputs": [],
   "source": [
    "/*\n",
    "Approach 3 (Using Bit Manipulations):\n",
    "\n",
    "Here is a space optimized which uses bit manipulation technique \n",
    "that can be applied to problems mapping binary values in arrays.\n",
    "Size of int variable in 64-bit compiler is 4 bytes. \n",
    "1 byte is represented by 8 bit positions in memory. \n",
    "So, an integer in memory is represented by 32 bit positions(4 Bytes) \n",
    "these 32 bit positions can be used instead of just one index to hash binary values.\n",
    "*/"
   ]
  },
  {
   "cell_type": "markdown",
   "metadata": {},
   "source": [
    "<img src = \"https://media.geeksforgeeks.org/wp-content/uploads/Array_32bit.png\"/>"
   ]
  },
  {
   "cell_type": "code",
   "execution_count": 8,
   "metadata": {},
   "outputs": [],
   "source": [
    "// index >> 5 corresponds to dividing index by 32  \n",
    "// index & 31 corresponds to modulo operation of  \n",
    "// index by 32  \n",
    "\n",
    "// Function to check value of bit position whether  \n",
    "// it is zero or one  \n",
    "static boolean checkbit(int array[], int index)  \n",
    "{  \n",
    "        int val = array[index >> 5] & (1 << (index & 31)); \n",
    "        if (val == 0) \n",
    "            return false; \n",
    "        return true;  \n",
    "}  \n",
    "\n",
    "// Sets value of bit for corresponding index  \n",
    "static void setbit(int array[], int index)  \n",
    "{  \n",
    "        array[index >> 5] |= (1 << (index & 31));  \n",
    "} "
   ]
  },
  {
   "cell_type": "code",
   "execution_count": 9,
   "metadata": {},
   "outputs": [
    {
     "name": "stdout",
     "output_type": "stream",
     "text": [
      "MULTIPLES of 2 and 5:\n",
      "2 4 5 6 8 10 "
     ]
    }
   ],
   "source": [
    "// Driver code \n",
    "public static void main(String args[]) \n",
    "{ \n",
    "    int a = 2, b = 10;  \n",
    "    int size = Math.abs(b-a); \n",
    "\n",
    "    // Size that will be used is actual_size/32  \n",
    "    // ceil is used to initialize the array with  \n",
    "    // positive number \n",
    "    size = (int)Math.ceil((double)size / 32); \n",
    "\n",
    "    // Array is dynamically initialized as  \n",
    "    // we are calculating size at run time  \n",
    "    int[] array = new int[size]; \n",
    "\n",
    "    // Iterate through every index from a to b and  \n",
    "    // call setbit() if it is a multiple of 2 or 5  \n",
    "    for (int i = a; i <= b; i++)  \n",
    "        if (i % 2 == 0 || i % 5 == 0)  \n",
    "            setbit(array, i - a); \n",
    "\n",
    "    System.out.println(\"MULTIPLES of 2 and 5:\"); \n",
    "    for (int i = a; i <= b; i++)  \n",
    "        if (checkbit(array, i - a))  \n",
    "            System.out.print(i + \" \");  \n",
    "} \n",
    "main(args)"
   ]
  },
  {
   "cell_type": "markdown",
   "metadata": {},
   "source": [
    "## **47. MO’s Algorithm (Query Square Root Decomposition) | Set 1 (Introduction)**\n",
    "https://www.geeksforgeeks.org/mos-algorithm-query-square-root-decomposition-set-1-introduction/"
   ]
  },
  {
   "cell_type": "code",
   "execution_count": 10,
   "metadata": {},
   "outputs": [],
   "source": [
    "/*\n",
    "Let us consider the following problem to understand MO’s Algorithm.\n",
    "\n",
    "We are given an array and a set of query ranges, we are required to find the sum of every query range.\n",
    "*/"
   ]
  },
  {
   "cell_type": "code",
   "execution_count": 11,
   "metadata": {},
   "outputs": [],
   "source": [
    "/*\n",
    "Example:\n",
    "\n",
    "Input:  arr[]   = {1, 1, 2, 1, 3, 4, 5, 2, 8};\n",
    "        query[] = [0, 4], [1, 3] [2, 4]\n",
    "Output: Sum of arr[] elements in range [0, 4] is 8\n",
    "        Sum of arr[] elements in range [1, 3] is 4  \n",
    "        Sum of arr[] elements in range [2, 4] is 6\n",
    "*/"
   ]
  },
  {
   "cell_type": "code",
   "execution_count": 12,
   "metadata": {},
   "outputs": [],
   "source": [
    "/*\n",
    "A Naive Solution is to run a loop from L to R and calculate the sum of elements in given range for every query [L, R].\n",
    "The time complexity of above solution is O(mn).\n",
    "*/"
   ]
  },
  {
   "cell_type": "markdown",
   "metadata": {},
   "source": [
    "**https://ideone.com/xelssq**"
   ]
  },
  {
   "cell_type": "code",
   "execution_count": 13,
   "metadata": {},
   "outputs": [],
   "source": [
    "/*\n",
    "The idea of MO’s algorithm is to pre-process all queries so that result of one query can be used in next query. \n",
    "Below are steps.\n",
    "Let a[0…n-1] be input array and q[0..m-1] be array of queries.\n",
    "\n",
    "1. Sort all queries in a way that queries with L values from 0 to √n – 1 are put together, \n",
    "    then all queries from √n to 2*√n – 1, and so on. \n",
    "    All queries within a block are sorted in increasing order of R values.\n",
    "2. Process all queries one by one in a way that every query uses sum computed in the previous query.\n",
    "    i.   Let ‘sum’ be sum of previous query.\n",
    "    ii.  Remove extra elements of previous query. \n",
    "         For example if previous query is [0, 8] and current query is [3, 9], \n",
    "         then we subtract a[0],a[1] and a[2] from sum\n",
    "    iii. Add new elements of current query. In the same example as above, we add a[9] to sum.\n",
    "*/"
   ]
  },
  {
   "cell_type": "code",
   "execution_count": 14,
   "metadata": {},
   "outputs": [],
   "source": [
    "/*\n",
    "The great thing about this algorithm is, \n",
    "in step 2, \n",
    "index variable for R change at most O(n * √n) times throughout the run \n",
    "and same for L changes its value at most O(m * √n) times \n",
    "(See below, after the code, for details). \n",
    "All these bounds are possible only because the queries are sorted first in blocks of √n size.\n",
    "\n",
    "The preprocessing part takes O(m Log m) time.\n",
    "Processing all queries takes O(n * √n) + O(m * √n) = O((m+n) * √n) time.\n",
    "*/"
   ]
  },
  {
   "cell_type": "markdown",
   "metadata": {},
   "source": [
    "**https://ideone.com/vpW9Yr**"
   ]
  },
  {
   "cell_type": "code",
   "execution_count": 15,
   "metadata": {},
   "outputs": [],
   "source": [
    "/*\n",
    "Important Observations:\n",
    "\n",
    "1. All queries are known beforehead so that they can be preprocessed\n",
    "2. It cannot work for problems where we have update operations also mixed with sum queries.\n",
    "3. MO’s algorithm can only be used for query problems where a query can be computed from results of the previous query. \n",
    "   One more such example is maximum or minimum.\n",
    "*/"
   ]
  },
  {
   "cell_type": "code",
   "execution_count": 16,
   "metadata": {},
   "outputs": [],
   "source": [
    "/*\n",
    "How much currR is moved? \n",
    "    For each block, queries are sorted in increasing order of R. \n",
    "    So, for a block, currR moves in increasing order. \n",
    "    In worst case, before beginning of every block, currR at extreme right and current block moves it back the extreme left. \n",
    "    This means that for every block, currR moves at most O(n). \n",
    "    Since there are O(√n) blocks, total movement of currR is O(n * √n).\n",
    "    \n",
    "How much currL is moved? \n",
    "    Since all queries are sorted in a way that L values are grouped by blocks, \n",
    "    movement is O(√n) when we move from one query to another quert. \n",
    "    For m queries, total movement of currL is O(m * √n)\n",
    "*/"
   ]
  },
  {
   "cell_type": "markdown",
   "metadata": {},
   "source": [
    "***http://blog.anudeep2011.com/mos-algorithm/***"
   ]
  },
  {
   "cell_type": "markdown",
   "metadata": {},
   "source": [
    "## **48. Majority Element**\n",
    "https://www.geeksforgeeks.org/majority-element/"
   ]
  },
  {
   "cell_type": "code",
   "execution_count": 17,
   "metadata": {},
   "outputs": [],
   "source": [
    "/*\n",
    "Write a function which takes an array \n",
    "and prints the majority element (if it exists), \n",
    "otherwise prints “No Majority Element”. \n",
    "A majority element in an array A[] of size n is an element that appears more than n/2 times \n",
    "(and hence there is at most one such element).\n",
    "*/"
   ]
  },
  {
   "cell_type": "code",
   "execution_count": 18,
   "metadata": {},
   "outputs": [],
   "source": [
    "/*\n",
    "Examples :\n",
    "\n",
    "Input : {3, 3, 4, 2, 4, 4, 2, 4, 4}\n",
    "Output : 4 \n",
    "\n",
    "Input : {3, 3, 4, 2, 4, 4, 2, 4}\n",
    "Output : No Majority Element\n",
    "*/"
   ]
  },
  {
   "cell_type": "code",
   "execution_count": 19,
   "metadata": {},
   "outputs": [],
   "source": [
    "/*\n",
    "METHOD 1 (Basic)\n",
    "\n",
    "The basic solution is to have two loops and keep track of maximum count for all different elements. \n",
    "If maximum count becomes greater than n/2 then break the loops and return the element having maximum count. \n",
    "If maximum count doesn’t become more than n/2 then majority element doesn’t exist.\n",
    "\n",
    "Time Complexity : O(n*n).\n",
    "Auxiliary Space : O(1).\n",
    "*/"
   ]
  },
  {
   "cell_type": "code",
   "execution_count": 20,
   "metadata": {},
   "outputs": [],
   "source": [
    "/*\n",
    "METHOD 2 (Using Binary Search Tree)\n",
    "\n",
    "Insert elements in BST one by one and if an element is already present then increment the count of the node. \n",
    "At any stage, if count of a node becomes more than n/2 then return.\n",
    "The method works well for the cases where n/2+1 occurrences of the majority element is present in the starting of the array, \n",
    "for example {1, 1, 1, 1, 1, 2, 3, 4}.\n",
    "\n",
    "Time Complexity : If a Binary Search Tree is used then time complexity will be O(n^2). \n",
    "                  If a self-balancing-binary-search tree is used then O(nlogn)\n",
    "Auxiliary Space : O(n)\n",
    "*/"
   ]
  },
  {
   "cell_type": "code",
   "execution_count": 21,
   "metadata": {},
   "outputs": [],
   "source": [
    "/*\n",
    "METHOD 3 (Using Moore’s Voting Algorithm)\n",
    "Time Complexity: O(n)\n",
    "Auxiliary Space : O(1)\n",
    "\n",
    "This is a two step process.\n",
    "\n",
    "NOTE :  This Method only works when we are given that majority element do exist in the array , \n",
    "        otherwise this method won’t work , \n",
    "        as in the problem definition we said that majority element may or may not exist but for applying this approach you can assume that majority element do exist in the given input array\n",
    "\n",
    "1. The first step gives the element that may be majority element in the array. \n",
    "   If there is a majority element in an array, then this step will definitely return majority element, \n",
    "   otherwise it will return candidate for majority element.\n",
    "2. Check if the element obtained from above step is majority element.\n",
    "   This step is necessary as we are not always sure that element return by first step is majority element.\n",
    "*/"
   ]
  },
  {
   "cell_type": "code",
   "execution_count": 22,
   "metadata": {},
   "outputs": [],
   "source": [
    "/*\n",
    "1. Finding a Candidate :\n",
    "The algorithm for first phase that works in O(n) is known as Moore’s Voting Algorithm. \n",
    "Basic idea of the algorithm is that \n",
    "if we cancel out each occurrence of an element e with all the other elements that are different from e \n",
    "then e will exist till end if it is a majority element.\n",
    "\n",
    "findCandidate(a[], size)\n",
    "1.  Initialize index and count of majority element\n",
    "     maj_index = 0, count = 1\n",
    "2.  Loop for i = 1 to size – 1\n",
    "    (a) If a[maj_index] == a[i]\n",
    "          count++\n",
    "    (b) Else\n",
    "        count--;\n",
    "    (c) If count == 0\n",
    "          maj_index = i;\n",
    "          count = 1\n",
    "3.  Return a[maj_index]\n",
    "\n",
    "Above algorithm loops through each element and maintains a count of a[maj_index]. \n",
    "If the next element is same then increment the count, \n",
    "if the next element is not same then decrement the count, \n",
    "and if the count reaches 0 then changes the maj_index to the current element and set the count again to 1. \n",
    "So, the first phase of the algorithm gives us a candidate element.\n",
    "*/"
   ]
  },
  {
   "cell_type": "code",
   "execution_count": 23,
   "metadata": {},
   "outputs": [],
   "source": [
    "/*\n",
    "2. Check if the element obtained in step 1 is majority element or not :\n",
    "\n",
    "printMajority (a[], size)\n",
    "1.  Find the candidate for majority\n",
    "2.  If candidate is majority. i.e., appears more than n/2 times.\n",
    "       Print the candidate\n",
    "3.  Else\n",
    "       Print \"No Majority Element\"\n",
    "\n",
    "In the second phase we need to check if the candidate is really a majority element. \n",
    "Second phase is simple and can be easily done in O(n). \n",
    "We just need to check if count of the candidate element is greater than n/2.\n",
    "*/"
   ]
  },
  {
   "cell_type": "code",
   "execution_count": 24,
   "metadata": {},
   "outputs": [],
   "source": [
    "/*\n",
    "Example :\n",
    "Let the array be A[] = 2, 2, 3, 5, 2, 2, 6\n",
    "\n",
    "- Initialize maj_index = 0, count = 1\n",
    "- Next element is 2, which is same as a[maj_index] => count = 2\n",
    "- Next element is 3, which is different from a[maj_index] => count = 1\n",
    "- Next element is 5, which is different from a[maj_index] => count = 0\n",
    "- Since count = 0, change candidate for majority element to 5 => maj_index = 3, count = 1\n",
    "- Next element is 2, which is different from a[maj_index] => count = 0\n",
    "- Since count = 0, change candidate for majority element to 2 => maj_index = 4\n",
    "- Next element is 2, which is same as a[maj_index] => count = 2\n",
    "- Next element is 6, which is different from a[maj_index] => count = 1\n",
    "- Finally candidate for majority element is 2.\n",
    "*/"
   ]
  },
  {
   "cell_type": "code",
   "execution_count": 25,
   "metadata": {},
   "outputs": [],
   "source": [
    "/* Function to print Majority Element */\n",
    "void printMajority(int a[], int size)  \n",
    "{ \n",
    "    /* Find the candidate for Majority*/\n",
    "    int cand = findCandidate(a, size); \n",
    "\n",
    "    /* Print the candidate if it is Majority*/\n",
    "    if (isMajority(a, size, cand)) \n",
    "        System.out.println(\" \" + cand + \" \"); \n",
    "    else \n",
    "        System.out.println(\"No Majority Element\"); \n",
    "} "
   ]
  },
  {
   "cell_type": "code",
   "execution_count": 26,
   "metadata": {},
   "outputs": [],
   "source": [
    "/* Function to find the candidate for Majority */\n",
    "int findCandidate(int a[], int size)  \n",
    "{ \n",
    "    int maj_index = 0, count = 1; \n",
    "    int i; \n",
    "    for (i = 1; i < size; i++)  \n",
    "    { \n",
    "        if (a[maj_index] == a[i]) \n",
    "            count++; \n",
    "        else\n",
    "            count--; \n",
    "        if (count == 0) \n",
    "        { \n",
    "            maj_index = i; \n",
    "            count = 1; \n",
    "        } \n",
    "    } \n",
    "    return a[maj_index]; \n",
    "} "
   ]
  },
  {
   "cell_type": "code",
   "execution_count": 27,
   "metadata": {},
   "outputs": [],
   "source": [
    "/* Function to check if the candidate occurs more \n",
    "   than n/2 times */\n",
    "boolean isMajority(int a[], int size, int cand)  \n",
    "{ \n",
    "    int i, count = 0; \n",
    "    for (i = 0; i < size; i++)  \n",
    "    { \n",
    "        if (a[i] == cand) \n",
    "            count++; \n",
    "    } \n",
    "    if (count > size / 2)  \n",
    "        return true; \n",
    "    else\n",
    "        return false; \n",
    "} "
   ]
  },
  {
   "cell_type": "code",
   "execution_count": 28,
   "metadata": {},
   "outputs": [
    {
     "name": "stdout",
     "output_type": "stream",
     "text": [
      "No Majority Element\n"
     ]
    }
   ],
   "source": [
    "/* Driver program to test the above functions */\n",
    "public static void main(String[] args)  \n",
    "{ \n",
    "    int a[] = new int[]{1, 3, 3, 1, 2}; \n",
    "    int size = a.length; \n",
    "    printMajority(a, size); \n",
    "} \n",
    "main(args)"
   ]
  },
  {
   "cell_type": "code",
   "execution_count": 29,
   "metadata": {},
   "outputs": [],
   "source": [
    "/*\n",
    "METHOD 4 (Using Hashmap) :\n",
    "This method is somewhat similar to Moore voting algorithm in terms of time complexity, \n",
    "but in this case there is no need of second step of Moore voting algorithm.\n",
    "But as usual, here space complexity becomes O(n).\n",
    "In Hashmap(key-value pair), at value,\n",
    "maintain a count for each element(key) and whenever count is greater than half of array length, \n",
    "we are just returning that key(majority element).\n",
    "\n",
    "Time Complexity : O(n)\n",
    "Auxiliary Space : O(n)\n",
    "*/"
   ]
  },
  {
   "cell_type": "code",
   "execution_count": 30,
   "metadata": {},
   "outputs": [
    {
     "name": "stdout",
     "output_type": "stream",
     "text": [
      "Majority found :- 2\n"
     ]
    }
   ],
   "source": [
    "private static void findMajority(int[] arr)  \n",
    "{ \n",
    "    HashMap<Integer,Integer> map = new HashMap<Integer, Integer>(); \n",
    "\n",
    "    for(int i = 0; i < arr.length; i++) { \n",
    "        if (map.containsKey(arr[i])) { \n",
    "                int count = map.get(arr[i]) +1; \n",
    "                if (count > arr.length /2) { \n",
    "                    System.out.println(\"Majority found :- \" + arr[i]); \n",
    "                    return; \n",
    "                } else\n",
    "                    map.put(arr[i], count); \n",
    "\n",
    "        } \n",
    "        else\n",
    "            map.put(arr[i],1); \n",
    "        } \n",
    "        System.out.println(\" No Majority element\"); \n",
    "} \n",
    "\n",
    "\n",
    "/* Driver program to test the above functions */\n",
    "public static void main(String[] args)  \n",
    "{ \n",
    "    int a[] = new int[]{2,2,2,2,5,5,2,3,3}; \n",
    "\n",
    "    findMajority(a); \n",
    "} \n",
    "\n",
    "main(args)"
   ]
  },
  {
   "cell_type": "markdown",
   "metadata": {},
   "source": [
    "***https://youtu.be/uwogtyFiDLg***"
   ]
  },
  {
   "cell_type": "markdown",
   "metadata": {},
   "source": [
    "## **49. Searching in an array where adjacent differ by at most k**\n",
    "https://www.geeksforgeeks.org/searching-array-adjacent-differ-k/"
   ]
  },
  {
   "cell_type": "code",
   "execution_count": 31,
   "metadata": {},
   "outputs": [],
   "source": [
    "/*\n",
    "A step array is an array of integer where each element has a difference of at most k with its neighbor. \n",
    "Given a key x, we need to find the index value of x if multiple element exist return the first occurrence of the key.\n",
    "*/"
   ]
  },
  {
   "cell_type": "code",
   "execution_count": 32,
   "metadata": {},
   "outputs": [],
   "source": [
    "/*\n",
    "Examples:\n",
    "\n",
    "Input : arr[] = {4, 5, 6, 7, 6}\n",
    "           k = 1\n",
    "           x = 6\n",
    "Output : 2\n",
    "The first index of 6 is 2.\n",
    "\n",
    "Input : arr[] = {20, 40, 50, 70, 70, 60}  \n",
    "          k = 20\n",
    "          x = 60\n",
    "Output : 5\n",
    "The index of 60 is 5\n",
    "*/"
   ]
  },
  {
   "cell_type": "code",
   "execution_count": 33,
   "metadata": {},
   "outputs": [],
   "source": [
    "/*\n",
    "The above solution can be Optimized using the fact that difference between all adjacent elements is at most k. \n",
    "The idea is to start comparing from the leftmost element and find the difference between current array element and x. \n",
    "Let this difference be ‘diff’. \n",
    "From the given property of array, we always know that x must be at-least ‘diff/k’ away, \n",
    "so instead of searching one by one, we jump ‘diff/k’.\n",
    "*/"
   ]
  },
  {
   "cell_type": "code",
   "execution_count": 34,
   "metadata": {},
   "outputs": [],
   "source": [
    "// x is the element to be searched  \n",
    "// in arr[0..n-1] such that all  \n",
    "// elements differ by at-most k. \n",
    "static int search(int arr[], int n,  \n",
    "                        int x, int k) \n",
    "{ \n",
    "\n",
    "    // Traverse the given array starting \n",
    "    // from leftmost element \n",
    "    int i = 0; \n",
    "\n",
    "    while (i < n) { \n",
    "\n",
    "        // If x is found at index i \n",
    "        if (arr[i] == x) \n",
    "            return i; \n",
    "\n",
    "        // Jump the difference between  \n",
    "        // current array element and x \n",
    "        // divided by k We use max here \n",
    "        // to make sure that i moves  \n",
    "        // at-least one step ahead. \n",
    "        i = i + Math.max(1, Math.abs(arr[i]  \n",
    "                                  - x) / k); \n",
    "    } \n",
    "\n",
    "    System.out.println(\"number is \" +  \n",
    "                            \"not present!\"); \n",
    "    return -1; \n",
    "}"
   ]
  },
  {
   "cell_type": "code",
   "execution_count": 35,
   "metadata": {},
   "outputs": [
    {
     "name": "stdout",
     "output_type": "stream",
     "text": [
      "Element 6 is present at index 5\n"
     ]
    }
   ],
   "source": [
    "// Driver program to test above function \n",
    "public static void main(String[] args) \n",
    "{ \n",
    "\n",
    "    int arr[] = { 2, 4, 5, 7, 7, 6 }; \n",
    "    int x = 6; \n",
    "    int k = 2; \n",
    "    int n = arr.length; \n",
    "\n",
    "    System.out.println(\"Element \" + x + \n",
    "                    \" is present at index \"\n",
    "                    + search(arr, n, x, k)); \n",
    "} \n",
    "main(args);"
   ]
  },
  {
   "cell_type": "markdown",
   "metadata": {},
   "source": [
    "## **50. Find the repeating and the missing | Added 3 new methods**\n",
    "https://www.geeksforgeeks.org/find-a-repeating-and-a-missing-number/"
   ]
  },
  {
   "cell_type": "code",
   "execution_count": 36,
   "metadata": {},
   "outputs": [],
   "source": [
    "/*\n",
    "Given an unsorted array of size n. \n",
    "Array elements are in the range from 1 to n. \n",
    "One number from set {1, 2, …n} is missing and one number occurs twice in the array. \n",
    "Find these two numbers.\n",
    "*/"
   ]
  },
  {
   "cell_type": "code",
   "execution_count": 37,
   "metadata": {},
   "outputs": [],
   "source": [
    "/*\n",
    "Examples:\n",
    "\n",
    "Input: arr[] = {3, 1, 3}\n",
    "Output: Missing = 2, Repeating = 3\n",
    "Explanation: In the array, \n",
    "2 is missing and 3 occurs twice \n",
    "\n",
    "Input: arr[] = {4, 3, 6, 2, 1, 1}\n",
    "Output: Missing = 5, Repeating = 1\n",
    "*/"
   ]
  },
  {
   "cell_type": "code",
   "execution_count": 38,
   "metadata": {},
   "outputs": [],
   "source": [
    "/*\n",
    "Method 5 (Use XOR)\n",
    "Time Complexity: O(n)\n",
    "Approach:\n",
    "\n",
    "Let x and y be the desired output elements.\n",
    "1. Calculate XOR of all the array elements.\n",
    "    xor1 = arr[0]^arr[1]^arr[2]…..arr[n-1]\n",
    "\n",
    "2. XOR the result with all numbers from 1 to n\n",
    "    xor1 = xor1^1^2^…..^n\n",
    "\n",
    "3. In the result xor1, \n",
    "    all elements would nullify each other except x and y. \n",
    "    All the bits that are set in xor1 will be set in either x or y. \n",
    "    So if we take any set bit (We have chosen the rightmost set bit in code) of xor1 and divide the elements of the array in two sets – one set of elements with same bit set and other set with same bit not set. \n",
    "    By doing so, we will get x in one set and y in another set. \n",
    "    Now if we do XOR of all the elements in first set, we will get x, and by doing same in other set we will get y..\n",
    "*/"
   ]
  },
  {
   "cell_type": "code",
   "execution_count": 39,
   "metadata": {},
   "outputs": [],
   "source": [
    "static int x, y; \n",
    "\n",
    "static void getTwoElements(int arr[], int n) \n",
    "{ \n",
    "    /* Will hold xor of all elements \n",
    "   and numbers from 1 to n  */\n",
    "    int xor1; \n",
    "\n",
    "    /* Will have only single set bit of xor1 */\n",
    "    int set_bit_no; \n",
    "\n",
    "    int i; \n",
    "    x = 0; \n",
    "    y = 0; \n",
    "\n",
    "    xor1 = arr[0]; \n",
    "\n",
    "    /* Get the xor of all array elements  */\n",
    "    for (i = 1; i < n; i++) \n",
    "        xor1 = xor1 ^ arr[i]; \n",
    "\n",
    "    /* XOR the previous result with numbers from  \n",
    "   1 to n*/\n",
    "    for (i = 1; i <= n; i++) \n",
    "        xor1 = xor1 ^ i; \n",
    "\n",
    "    /* Get the rightmost set bit in set_bit_no */\n",
    "    set_bit_no = xor1 & ~(xor1 - 1); \n",
    "\n",
    "    /* Now divide elements into two sets by comparing \n",
    "        rightmost set bit of xor1 with the bit at the same  \n",
    "        position in each element. Also, get XORs of two \n",
    "        sets. The two XORs are the output elements. The  \n",
    "        following two for loops serve the purpose */\n",
    "    for (i = 0; i < n; i++) { \n",
    "        if ((arr[i] & set_bit_no) != 0) \n",
    "            /* arr[i] belongs to first set */\n",
    "            x = x ^ arr[i]; \n",
    "\n",
    "        else\n",
    "            /* arr[i] belongs to second set*/\n",
    "            y = y ^ arr[i]; \n",
    "    } \n",
    "    for (i = 1; i <= n; i++) { \n",
    "        if ((i & set_bit_no) != 0) \n",
    "            /* i belongs to first set */\n",
    "            x = x ^ i; \n",
    "\n",
    "        else\n",
    "            /* i belongs to second set*/\n",
    "            y = y ^ i; \n",
    "    } \n",
    "\n",
    "    /* *x and *y hold the desired output elements */\n",
    "} "
   ]
  },
  {
   "cell_type": "code",
   "execution_count": 40,
   "metadata": {},
   "outputs": [
    {
     "name": "stdout",
     "output_type": "stream",
     "text": [
      " The missing element is  7and the repeating number is 1\n"
     ]
    }
   ],
   "source": [
    "/* Driver program to test above function */\n",
    "public static void main(String[] args) \n",
    "{ \n",
    "    int arr[] = { 1, 3, 4, 5, 1, 6, 2 }; \n",
    "\n",
    "    int n = arr.length; \n",
    "    getTwoElements(arr, n); \n",
    "    System.out.println(\" The missing element is  \"\n",
    "                       + x + \"and the \"\n",
    "                       + \"repeating number is \"\n",
    "                       + y); \n",
    "} \n",
    "main(args)"
   ]
  },
  {
   "cell_type": "markdown",
   "metadata": {},
   "source": [
    "## **51. Ceiling in a sorted array**\n",
    "https://www.geeksforgeeks.org/ceiling-in-a-sorted-array/"
   ]
  },
  {
   "cell_type": "code",
   "execution_count": 41,
   "metadata": {},
   "outputs": [],
   "source": [
    "/*\n",
    "Given a sorted array and a value x, \n",
    "the ceiling of x is the smallest element in array greater than or equal to x, \n",
    "and the floor is the greatest element smaller than or equal to x. \n",
    "Assume than the array is sorted in non-decreasing order. \n",
    "Write efficient functions to find floor and ceiling of x.\n",
    "*/"
   ]
  },
  {
   "cell_type": "code",
   "execution_count": 42,
   "metadata": {},
   "outputs": [],
   "source": [
    "/*\n",
    "Examples :\n",
    "\n",
    "For example, let the input array be {1, 2, 8, 10, 10, 12, 19}\n",
    "For x = 0:    floor doesn't exist in array,  ceil  = 1\n",
    "For x = 1:    floor  = 1,  ceil  = 1\n",
    "For x = 5:    floor  = 2,  ceil  = 8\n",
    "For x = 20:   floor  = 19,  ceil doesn't exist in array\n",
    "*/"
   ]
  },
  {
   "cell_type": "code",
   "execution_count": 43,
   "metadata": {},
   "outputs": [],
   "source": [
    "/*\n",
    "Method 1 (Linear Search)\n",
    "Algorithm to search ceiling of x:\n",
    "1) If x is smaller than or equal to the first element in array then return 0(index of first element)\n",
    "2) Else Linearly search for an index i such that x lies between arr[i] and arr[i+1].\n",
    "3) If we do not find an index i in step 2, then return -1\n",
    "*/"
   ]
  },
  {
   "cell_type": "code",
   "execution_count": 44,
   "metadata": {},
   "outputs": [],
   "source": [
    "/*\n",
    "Method 2 (Binary Search)\n",
    "Instead of using linear search, binary search is used here to find out the index. \n",
    "Binary search reduces time complexity to O(Logn).\n",
    "*/"
   ]
  },
  {
   "cell_type": "code",
   "execution_count": 45,
   "metadata": {},
   "outputs": [],
   "source": [
    "/* Function to get index of  \n",
    "   ceiling of x in arr[low..high]*/\n",
    "static int ceilSearch(int arr[], int low, int high, int x) \n",
    "{ \n",
    "  int mid;     \n",
    "\n",
    "  /* If x is smaller than or equal to the  \n",
    "     first element, then return the first element */\n",
    "  if(x <= arr[low]) \n",
    "    return low;  \n",
    "\n",
    "  /* If x is greater than the last  \n",
    "     element, then return -1 */\n",
    "  if(x > arr[high]) \n",
    "    return -1;   \n",
    "\n",
    "  /* get the index of middle element  \n",
    "     of arr[low..high]*/\n",
    "  mid = (low + high)/2;  /* low + (high - low)/2 */\n",
    "\n",
    "  /* If x is same as middle element,  \n",
    "     then return mid */\n",
    "  if(arr[mid] == x) \n",
    "    return mid; \n",
    "\n",
    "  /* If x is greater than arr[mid], then  \n",
    "     either arr[mid + 1] is ceiling of x or  \n",
    "     ceiling lies in arr[mid+1...high] */ \n",
    "  else if(arr[mid] < x) \n",
    "  { \n",
    "    if(mid + 1 <= high && x <= arr[mid+1]) \n",
    "      return mid + 1; \n",
    "    else\n",
    "      return ceilSearch(arr, mid+1, high, x); \n",
    "  } \n",
    "\n",
    "  /* If x is smaller than arr[mid],  \n",
    "     then either arr[mid] is ceiling of x  \n",
    "     or ceiling lies in arr[mid-1...high] */   \n",
    "  else\n",
    "  { \n",
    "    if(mid - 1 >= low && x > arr[mid-1]) \n",
    "      return mid; \n",
    "    else    \n",
    "      return ceilSearch(arr, low, mid - 1, x); \n",
    "  } \n",
    "} "
   ]
  },
  {
   "cell_type": "code",
   "execution_count": 46,
   "metadata": {},
   "outputs": [
    {
     "name": "stdout",
     "output_type": "stream",
     "text": [
      "ceiling of 8 is 8\n"
     ]
    }
   ],
   "source": [
    "/* Driver program to check above functions */\n",
    "public static void main (String[] args) \n",
    "{ \n",
    "   int arr[] = {1, 2, 8, 10, 10, 12, 19}; \n",
    "   int n = arr.length; \n",
    "   int x = 8; \n",
    "   int index = ceilSearch(arr, 0, n-1, x); \n",
    "   if(index == -1) \n",
    "     System.out.println(\"Ceiling of \"+x+\" doesn't exist in array\"); \n",
    "   else \n",
    "     System.out.println(\"ceiling of \"+x+\" is \"+arr[index]); \n",
    "}   \n",
    "main(args)"
   ]
  },
  {
   "cell_type": "markdown",
   "metadata": {},
   "source": [
    "***https://youtu.be/Nzm9emAkSCM***"
   ]
  },
  {
   "cell_type": "markdown",
   "metadata": {},
   "source": [
    "## **52. Find a pair with the given difference**\n",
    "https://www.geeksforgeeks.org/find-a-pair-with-the-given-difference/"
   ]
  },
  {
   "cell_type": "code",
   "execution_count": 47,
   "metadata": {},
   "outputs": [],
   "source": [
    "/*\n",
    "Given an unsorted array and a number n, \n",
    "find if there exists a pair of elements in the array whose difference is n.\n",
    "*/"
   ]
  },
  {
   "cell_type": "code",
   "execution_count": 48,
   "metadata": {},
   "outputs": [],
   "source": [
    "/*\n",
    "Examples:\n",
    "\n",
    "Input: arr[] = {5, 20, 3, 2, 50, 80}, n = 78\n",
    "Output: Pair Found: (2, 80)\n",
    "\n",
    "Input: arr[] = {90, 70, 20, 80, 50}, n = 45\n",
    "Output: No Such Pair\n",
    "*/"
   ]
  },
  {
   "cell_type": "code",
   "execution_count": 49,
   "metadata": {},
   "outputs": [],
   "source": [
    "/*\n",
    "The simplest method is to run two loops, \n",
    "the outer loop picks the first element (smaller element) \n",
    "and the inner loop looks for the element picked by outer loop plus n. \n",
    "Time complexity of this method is O(n^2).\n",
    "*/"
   ]
  },
  {
   "cell_type": "code",
   "execution_count": 50,
   "metadata": {},
   "outputs": [],
   "source": [
    "/*\n",
    "We can use sorting and Binary Search to improve time complexity to O(nLogn). \n",
    "The first step is to sort the array in ascending order. \n",
    "Once the array is sorted, \n",
    "traverse the array from left to right, and for each element arr[i], binary search for arr[i] + n in arr[i+1..n-1]. \n",
    "If the element is found, return the pair.\n",
    "\n",
    "Both first and second steps take O(nLogn). So overall complexity is O(nLogn).\n",
    "*/"
   ]
  },
  {
   "cell_type": "code",
   "execution_count": 51,
   "metadata": {},
   "outputs": [],
   "source": [
    "/*\n",
    "The second step of the above algorithm can be improved to O(n). \n",
    "The first step remain same. \n",
    "The idea for second step is take two index variables i and j, initialize them as 0 and 1 respectively. \n",
    "Now run a linear loop. \n",
    "If arr[j] – arr[i] is smaller than n, we need to look for greater arr[j], so increment j. \n",
    "If arr[j] – arr[i] is greater than n, we need to look for greater arr[i], so increment i. \n",
    "*/"
   ]
  },
  {
   "cell_type": "code",
   "execution_count": 52,
   "metadata": {},
   "outputs": [],
   "source": [
    "/*\n",
    "The following code is only for the second step of the algorithm, it assumes that the array is already sorted.\n",
    "*/"
   ]
  },
  {
   "cell_type": "code",
   "execution_count": 53,
   "metadata": {},
   "outputs": [],
   "source": [
    "// The function assumes that the array is sorted \n",
    "static boolean findPair(int arr[],int n) \n",
    "{ \n",
    "    int size = arr.length; \n",
    "\n",
    "    // Initialize positions of two elements \n",
    "    int i = 0, j = 1; \n",
    "\n",
    "    // Search for a pair \n",
    "    while (i < size && j < size) \n",
    "    { \n",
    "        if (i != j && arr[j]-arr[i] == n) \n",
    "        { \n",
    "            System.out.print(\"Pair Found: \"+ \n",
    "                             \"( \"+arr[i]+\", \"+ arr[j]+\" )\"); \n",
    "            return true; \n",
    "        } \n",
    "        else if (arr[j] - arr[i] < n) \n",
    "            j++; \n",
    "        else\n",
    "            i++; \n",
    "    } \n",
    "\n",
    "    System.out.print(\"No such pair\"); \n",
    "    return false; \n",
    "} "
   ]
  },
  {
   "cell_type": "code",
   "execution_count": 54,
   "metadata": {},
   "outputs": [
    {
     "name": "stdout",
     "output_type": "stream",
     "text": [
      "Pair Found: ( 40, 100 )"
     ]
    }
   ],
   "source": [
    "// Driver program to test above function \n",
    "public static void main (String[] args) \n",
    "{ \n",
    "    int arr[] = {1, 8, 30, 40, 100}; \n",
    "    int n = 60; \n",
    "    findPair(arr,n); \n",
    "} \n",
    "main(args)"
   ]
  },
  {
   "cell_type": "markdown",
   "metadata": {},
   "source": [
    "***https://youtu.be/qODOVGzk6Zc***"
   ]
  },
  {
   "cell_type": "markdown",
   "metadata": {},
   "source": [
    "## **53. Find four elements that sum to a given value | Set 2 ( O(n^2Logn) Solution)**\n",
    "https://www.geeksforgeeks.org/find-four-elements-that-sum-to-a-given-value-set-2/"
   ]
  },
  {
   "cell_type": "code",
   "execution_count": 55,
   "metadata": {},
   "outputs": [],
   "source": [
    "/*\n",
    "Given an array of integers, \n",
    "find any one combination of four elements in the array whose sum is equal to a given value X.\n",
    "For example, \n",
    "    if the given array is {10, 2, 3, 4, 5, 9, 7, 8} and X = 23, \n",
    "    then your function should print “3 5 7 8” (3 + 5 + 7 + 8 = 23).\n",
    "*/"
   ]
  },
  {
   "cell_type": "code",
   "execution_count": 56,
   "metadata": {},
   "outputs": [],
   "source": [
    "/*\n",
    "Let the input array be A[].\n",
    "\n",
    "1. Create an auxiliary array aux[] and store sum of all possible pairs in aux[]. \n",
    "    The size of aux[] will be n*(n-1)/2 where n is the size of A[].\n",
    "2. Sort the auxiliary array aux[].\n",
    "3. Now the problem reduces to find two elements in aux[] with sum equal to X. \n",
    "We can use method 1 of this post to find the two elements efficiently. \n",
    "\n",
    "There is following important point to note though. \n",
    "An element of aux[] represents a pair from A[]. \n",
    "While picking two elements from aux[], we must check whether the two elements have an element of A[] in common. \n",
    "For example, if first element sum of A[1] and A[2], and second element is sum of A[2] and A[4], \n",
    "             then these two elements of aux[] don’t represent four distinct elements of input array A[].\n",
    "*/"
   ]
  },
  {
   "cell_type": "markdown",
   "metadata": {},
   "source": [
    "***https://ideone.com/oci8yN***"
   ]
  },
  {
   "cell_type": "code",
   "execution_count": 57,
   "metadata": {},
   "outputs": [],
   "source": [
    "/*\n",
    "Hashing Based Solution : O(n2Logn)\n",
    "1. Store sums of all pairs in a hash table\n",
    "2. Traverse through all pairs again and search for X – (current pair sum) in the hash table.\n",
    "3. If a pair is found with the required sum, \n",
    "   then make sure that all elements are distinct array elements and an element is not considered more than once.\n",
    "Below image is a dry run of the above approach:\n",
    "*/"
   ]
  },
  {
   "cell_type": "markdown",
   "metadata": {},
   "source": [
    "<img src = \"https://media.geeksforgeeks.org/wp-content/cdn-uploads/20190702113336/FourElementsThatSumToAGivenValue1-1024x474.png\"/>"
   ]
  },
  {
   "cell_type": "code",
   "execution_count": 58,
   "metadata": {},
   "outputs": [],
   "source": [
    "static class pair \n",
    "{  \n",
    "    int first, second;  \n",
    "    public pair(int first, int second)  \n",
    "    {  \n",
    "        this.first = first;  \n",
    "        this.second = second;  \n",
    "    }  \n",
    "} "
   ]
  },
  {
   "cell_type": "code",
   "execution_count": 59,
   "metadata": {},
   "outputs": [],
   "source": [
    "// The function finds four elements  \n",
    "// with given sum X \n",
    "static void findFourElements(int arr[],  \n",
    "                             int n, int X) \n",
    "{ \n",
    "    // Store sums of all pairs in a hash table \n",
    "    HashMap<Integer,         \n",
    "            pair> mp = new HashMap<Integer, \n",
    "                                   pair>(); \n",
    "    for (int i = 0; i < n - 1; i++) \n",
    "        for (int j = i + 1; j < n; j++) \n",
    "            mp.put(arr[i] + arr[j], \n",
    "                    new pair(i, j)); \n",
    "  \n",
    "    // Traverse through all pairs and search \n",
    "    // for X - (current pair sum).  \n",
    "    for (int i = 0; i < n - 1; i++) \n",
    "    { \n",
    "        for (int j = i + 1; j < n; j++) \n",
    "        { \n",
    "            int sum = arr[i] + arr[j]; \n",
    "  \n",
    "            // If X - sum is present in hash table,          \n",
    "            if (mp.containsKey(X - sum)) \n",
    "            { \n",
    "  \n",
    "                // Making sure that all elements are \n",
    "                // distinct array elements and an element \n",
    "                // is not considered more than once. \n",
    "                pair p = mp.get(X - sum); \n",
    "                if (p.first != i && p.first != j && \n",
    "                    p.second != i && p.second != j) \n",
    "                { \n",
    "                    System.out.print(arr[i] + \", \" + arr[j] +  \n",
    "                                              \", \" + arr[p.first] +  \n",
    "                                              \", \" + arr[p.second]); \n",
    "                    return; \n",
    "                } \n",
    "            } \n",
    "        } \n",
    "    } \n",
    "} "
   ]
  },
  {
   "cell_type": "code",
   "execution_count": 60,
   "metadata": {},
   "outputs": [
    {
     "name": "stdout",
     "output_type": "stream",
     "text": [
      "20, 30, 40, 1"
     ]
    }
   ],
   "source": [
    "// Driver Code \n",
    "public static void main(String[] args)  \n",
    "{ \n",
    "    int arr[] = {10, 20, 30, 40, 1, 2}; \n",
    "    int n = arr.length; \n",
    "    int X = 91; \n",
    "    findFourElements(arr, n, X); \n",
    "} \n",
    "main(args)"
   ]
  },
  {
   "cell_type": "markdown",
   "metadata": {},
   "source": [
    "## **54. Median of two sorted arrays of different sizes**\n",
    "https://www.geeksforgeeks.org/median-of-two-sorted-arrays-of-different-sizes/"
   ]
  },
  {
   "cell_type": "code",
   "execution_count": 61,
   "metadata": {},
   "outputs": [],
   "source": [
    "/*\n",
    "This is an extension of median of two sorted arrays of equal size problem. \n",
    "Here we handle arrays of unequal size also.\n",
    "*/"
   ]
  },
  {
   "cell_type": "code",
   "execution_count": 62,
   "metadata": {},
   "outputs": [],
   "source": [
    "/*\n",
    "Method 1: (Linear and Simpler Approach)\n",
    "Here we need to find the median of the two sorted arrays of different sizes\n",
    "so we keep two variables to point to the arrays and one used to count the no of elements read. \n",
    "We used a simple Merge based O(n) solution \n",
    "just we are not merging the array instead we are keeping track of the last element read till we reach the median\n",
    "There are two cases :\n",
    "    Case 1: m+n is odd\n",
    "        Then we will find a clear median at (m+n)/2 index in the array obtained after merging both the arrays \n",
    "        so we just traverse both the arrays and keep the last value in m1 after the loop, \n",
    "        m1 will contain the value of the median\n",
    "    Case 2: m+n is even\n",
    "        Median will be average of elements at index ((m+n)/2 – 1) and (m+n)/2 in the array obtained after merging both the arrays \n",
    "        so we need to keep track of not only the last element but also the second last element (m2 is used for this) \n",
    "        so we traverse both the arrays and keep the last value in m1 and second last value in m2 after the loop, \n",
    "        (m1+m2)/2 will contain the value of the median.\n",
    "*/"
   ]
  },
  {
   "cell_type": "markdown",
   "metadata": {},
   "source": [
    "***https://ideone.com/UjYPXf***"
   ]
  },
  {
   "cell_type": "code",
   "execution_count": 63,
   "metadata": {},
   "outputs": [],
   "source": [
    "/*\n",
    "Method 2: (Effective but a little Complex Approach)\n",
    "Time Complexity: O(LogM + LogN)\n",
    "The approach discussed in this post is similar to method 2 of equal the size post. \n",
    "The basic idea is same, \n",
    "we find the median of two arrays and compare the medians to discard almost half of the elements in both arrays. \n",
    "Since the number of elements may differ here, there are many base cases that need to be handled separately. \n",
    "Before we proceed to complete solution, let us first talk about all base cases.\n",
    "\n",
    "Let the two arrays be A[N] and B[M]. \n",
    "In the following explanation, it is assumed that N is smaller than or equal to M.\n",
    "Base cases:\n",
    "The smaller array has only one element\n",
    "Case 0: N = 0, M = 2\n",
    "Case 1: N = 1, M = 1.\n",
    "Case 2: N = 1, M is odd\n",
    "Case 3: N = 1, M is even\n",
    "The smaller array has only two elements\n",
    "Case 4: N = 2, M = 2\n",
    "Case 5: N = 2, M is odd\n",
    "Case 6: N = 2, M is even\n",
    "*/"
   ]
  },
  {
   "cell_type": "code",
   "execution_count": 64,
   "metadata": {},
   "outputs": [],
   "source": [
    "/*\n",
    "Case 0: \n",
    "    There are no elements in first array, \n",
    "        return median of second array. \n",
    "    If second array is also empty, \n",
    "        return -1.\n",
    "        \n",
    "Case 1: \n",
    "    There is only one element in both arrays, \n",
    "    so output the average of A[0] and B[0].\n",
    "    \n",
    "Case 2: \n",
    "    N = 1, M is odd\n",
    "    Let B[5] = {5, 10, 12, 15, 20}\n",
    "    First find the middle element of B[], which is 12 for above array. \n",
    "    There are following 4 sub-cases.\n",
    "        …2.1 If A[0] is smaller than 10, the median is average of 10 and 12.\n",
    "        …2.2 If A[0] lies between 10 and 12, the median is average of A[0] and 12.\n",
    "        …2.3 If A[0] lies between 12 and 15, the median is average of 12 and A[0].\n",
    "        …2.4 If A[0] is greater than 15, the median is average of 12 and 15.\n",
    "    In all the sub-cases, we find that 12 is fixed. \n",
    "    So, we need to find the median of B[ M / 2 – 1 ], B[ M / 2 + 1], A[ 0 ] and take its average with B[ M / 2 ].\n",
    "    \n",
    "Case 3: \n",
    "    N = 1, M is even\n",
    "    Let B[4] = {5, 10, 12, 15}\n",
    "    First find the middle items in B[], which are 10 and 12 in above example. \n",
    "    There are following 3 sub-cases.\n",
    "        …3.1 If A[0] is smaller than 10, the median is 10.\n",
    "        …3.2 If A[0] lies between 10 and 12, the median is A[0].\n",
    "        …3.3 If A[0] is greater than 12, the median is 12.\n",
    "    So, in this case, find the median of three elements \n",
    "        B[ M / 2 – 1 ], B[ M / 2] and A[ 0 ].\n",
    "    \n",
    "Case 4: \n",
    "    N = 2, M = 2\n",
    "    There are four elements in total. So we find the median of 4 elements.\n",
    "    \n",
    "Case 5: \n",
    "    N = 2, M is odd\n",
    "    Let B[5] = {5, 10, 12, 15, 20}\n",
    "    The median is given by median of following three elements: \n",
    "        B[M/2], max(A[0], B[M/2 – 1]), min(A[1], B[M/2 + 1]).\n",
    "    \n",
    "Case 6: \n",
    "    N = 2, M is even\n",
    "    Let B[4] = {5, 10, 12, 15}\n",
    "    The median is given by median of following four elements: \n",
    "        B[M/2], B[M/2 – 1], max(A[0], B[M/2 – 2]), min(A[1], B[M/2 + 1])\n",
    "        \n",
    "Remaining Cases:\n",
    "    Once we have handled the above base cases, following is the remaining process.\n",
    "        1) Find the middle item of A[] and middle item of B[].\n",
    "            …..1.1) If the middle item of A[] is greater than middle item of B[], \n",
    "                    ignore the last half of A[], let length of ignored part is idx. Also, cut down B[] by idx from the start.\n",
    "            …..1.2) else, \n",
    "                    ignore the first half of A[], let length of ignored part is idx. Also, cut down B[] by idx from the last.\n",
    "*/"
   ]
  },
  {
   "cell_type": "markdown",
   "metadata": {},
   "source": [
    "***https://ideone.com/dZirsb***"
   ]
  },
  {
   "cell_type": "markdown",
   "metadata": {},
   "source": [
    "## **55. Maximum sum such that no two elements are adjacent**\n",
    "https://www.geeksforgeeks.org/maximum-sum-such-that-no-two-elements-are-adjacent/"
   ]
  },
  {
   "cell_type": "code",
   "execution_count": 65,
   "metadata": {},
   "outputs": [],
   "source": [
    "/*\n",
    "Given an array of positive numbers, \n",
    "find the maximum sum of a subsequence with the constraint that no 2 numbers in the sequence should be adjacent in the array. \n",
    "So,\n",
    "3 2 7 10 should return 13 (sum of 3 and 10) \n",
    "or 3 2 5 10 7 should return 15 (sum of 3, 5 and 7).\n",
    "Answer the question in most efficient way.\n",
    "Time Complexity: O(n)\n",
    "*/"
   ]
  },
  {
   "cell_type": "code",
   "execution_count": 66,
   "metadata": {},
   "outputs": [],
   "source": [
    "/*\n",
    "Examples :\n",
    "\n",
    "Input : arr[] = {5, 5, 10, 100, 10, 5}\n",
    "Output : 110\n",
    "\n",
    "Input : arr[] = {1, 2, 3}\n",
    "Output : 4\n",
    "\n",
    "Input : arr[] = {1, 20, 3}\n",
    "Output : 20\n",
    "*/"
   ]
  },
  {
   "cell_type": "code",
   "execution_count": 67,
   "metadata": {},
   "outputs": [],
   "source": [
    "/*\n",
    "Algorithm:\n",
    "Loop for all elements in arr[] \n",
    "and maintain two sums incl and excl \n",
    "where incl = Max sum including the previous element \n",
    "and excl = Max sum excluding the previous element.\n",
    "\n",
    "Max sum excluding the current element will be max(incl, excl) \n",
    "and max sum including the current element will be excl + current element \n",
    "(Note that only excl is considered because elements cannot be adjacent).\n",
    "\n",
    "At the end of the loop return max of incl and excl.\n",
    "*/"
   ]
  },
  {
   "cell_type": "code",
   "execution_count": 68,
   "metadata": {},
   "outputs": [],
   "source": [
    "/*\n",
    "Example:\n",
    "\n",
    "  arr[] = {5,  5, 10, 40, 50, 35}\n",
    "\n",
    "  incl = 5 \n",
    "  excl = 0\n",
    "\n",
    "  For i = 1 (current element is 5)\n",
    "  incl =  (excl + arr[i])  = 5\n",
    "  excl =  max(5, 0) = 5\n",
    "\n",
    "  For i = 2 (current element is 10)\n",
    "  incl =  (excl + arr[i]) = 15\n",
    "  excl =  max(5, 5) = 5\n",
    "\n",
    "  For i = 3 (current element is 40)\n",
    "  incl = (excl + arr[i]) = 45\n",
    "  excl = max(5, 15) = 15\n",
    "\n",
    "  For i = 4 (current element is 50)\n",
    "  incl = (excl + arr[i]) = 65\n",
    "  excl =  max(45, 15) = 45\n",
    "\n",
    "  For i = 5 (current element is 35)\n",
    "  incl =  (excl + arr[i]) = 80\n",
    "  excl =  max(65, 45) = 65\n",
    "\n",
    "And 35 is the last element. So, answer is max(incl, excl) =  80\n",
    "*/"
   ]
  },
  {
   "cell_type": "code",
   "execution_count": 69,
   "metadata": {},
   "outputs": [],
   "source": [
    "/*Function to return max sum such that no two elements \n",
    "  are adjacent */\n",
    "int FindMaxSum(int arr[], int n) \n",
    "{ \n",
    "    int incl = arr[0]; \n",
    "    int excl = 0; \n",
    "    int excl_new; \n",
    "    int i; \n",
    "\n",
    "    for (i = 1; i < n; i++) \n",
    "    { \n",
    "        /* current max excluding i */\n",
    "        excl_new = (incl > excl) ? incl : excl; \n",
    "\n",
    "        /* current max including i */\n",
    "        incl = excl + arr[i]; \n",
    "        excl = excl_new; \n",
    "    } \n",
    "\n",
    "    /* return max of incl and excl */\n",
    "    return ((incl > excl) ? incl : excl); \n",
    "} "
   ]
  },
  {
   "cell_type": "code",
   "execution_count": 70,
   "metadata": {},
   "outputs": [
    {
     "name": "stdout",
     "output_type": "stream",
     "text": [
      "110\n"
     ]
    }
   ],
   "source": [
    "// Driver program to test above functions \n",
    "public static void main(String[] args) \n",
    "{  \n",
    "    int arr[] = new int[]{5, 5, 10, 100, 10, 5}; \n",
    "    System.out.println(FindMaxSum(arr, arr.length)); \n",
    "} \n",
    "main(args);"
   ]
  },
  {
   "cell_type": "markdown",
   "metadata": {},
   "source": [
    "***https://youtu.be/6w60Zi1NtL8***"
   ]
  },
  {
   "cell_type": "markdown",
   "metadata": {},
   "source": [
    "## **56. Find common elements in three sorted arrays**\n",
    "https://www.geeksforgeeks.org/find-common-elements-three-sorted-arrays/"
   ]
  },
  {
   "cell_type": "code",
   "execution_count": 71,
   "metadata": {},
   "outputs": [],
   "source": [
    "/*\n",
    "Given three arrays sorted in non-decreasing order, print all common elements in these arrays.\n",
    "*/"
   ]
  },
  {
   "cell_type": "code",
   "execution_count": 72,
   "metadata": {},
   "outputs": [],
   "source": [
    "/*\n",
    "Examples:\n",
    "\n",
    "Input:\n",
    "ar1[] = {1, 5, 10, 20, 40, 80}\n",
    "ar2[] = {6, 7, 20, 80, 100}\n",
    "ar3[] = {3, 4, 15, 20, 30, 70, 80, 120}\n",
    "Output: 20, 80\n",
    "\n",
    "Input:\n",
    "ar1[] = {1, 5, 5}\n",
    "ar2[] = {3, 4, 5, 5, 10}\n",
    "ar3[] = {5, 5, 10, 20}\n",
    "Output: 5, 5\n",
    "*/"
   ]
  },
  {
   "cell_type": "code",
   "execution_count": 73,
   "metadata": {},
   "outputs": [],
   "source": [
    "/*\n",
    "A simple solution is to first find intersection of two arrays (https://www.geeksforgeeks.org/union-and-intersection-of-two-sorted-arrays-2/) and store the intersection in a temporary array, \n",
    "then find the intersection of third array and temporary array.\n",
    "\n",
    "Time complexity of this solution is O(n1 + n2 + n3) where n1, n2 and n3 are sizes of ar1[], ar2[] and ar3[] respectively.\n",
    "\n",
    "The above solution requires extra space and two loops, \n",
    "we can find the common elements using a single loop and without extra space.\n",
    "*/"
   ]
  },
  {
   "cell_type": "code",
   "execution_count": 74,
   "metadata": {},
   "outputs": [],
   "source": [
    "/*\n",
    "Let the current element traversed in ar1[] be x, in ar2[] be y and in ar3[] be z. \n",
    "\n",
    "We can have following cases inside the loop.\n",
    "    If x, y and z are same, we can simply print any of them as common element and move ahead in all three arrays.\n",
    "    Else If x < y, we can move ahead in ar1[] as x cannot be a common element.\n",
    "    Else If x > z and y > z), we can simply move ahead in ar3[] as z cannot be a common element.\n",
    "Below image is a dry run of the above approach:\n",
    "*/"
   ]
  },
  {
   "cell_type": "markdown",
   "metadata": {},
   "source": [
    "<img src = \"https://media.geeksforgeeks.org/wp-content/cdn-uploads/20190704124815/FindCommonElementsinThreeSortedArrays.png\"/>"
   ]
  },
  {
   "cell_type": "code",
   "execution_count": 75,
   "metadata": {},
   "outputs": [],
   "source": [
    "// This function prints common elements in ar1 \n",
    "void findCommon(int ar1[], int ar2[], int ar3[]) \n",
    "{ \n",
    "    // Initialize starting indexes for ar1[], ar2[] and ar3[] \n",
    "    int i = 0, j = 0, k = 0; \n",
    "\n",
    "    // Iterate through three arrays while all arrays have elements \n",
    "    while (i < ar1.length && j < ar2.length && k < ar3.length) \n",
    "    { \n",
    "         // If x = y and y = z, print any of them and move ahead \n",
    "         // in all arrays \n",
    "         if (ar1[i] == ar2[j] && ar2[j] == ar3[k]) \n",
    "         {   System.out.print(ar1[i]+\" \");   i++; j++; k++; } \n",
    "\n",
    "         // x < y \n",
    "         else if (ar1[i] < ar2[j]) \n",
    "             i++; \n",
    "\n",
    "         // y < z \n",
    "         else if (ar2[j] < ar3[k]) \n",
    "             j++; \n",
    "\n",
    "         // We reach here when x > y and z < y, i.e., z is smallest \n",
    "         else\n",
    "             k++; \n",
    "    } \n",
    "} "
   ]
  },
  {
   "cell_type": "code",
   "execution_count": 76,
   "metadata": {},
   "outputs": [
    {
     "name": "stdout",
     "output_type": "stream",
     "text": [
      "Common elements are 20 80 "
     ]
    }
   ],
   "source": [
    "// Driver code to test above \n",
    "public static void main(String args[]) \n",
    "{ \n",
    "    int ar1[] = {1, 5, 10, 20, 40, 80}; \n",
    "    int ar2[] = {6, 7, 20, 80, 100}; \n",
    "    int ar3[] = {3, 4, 15, 20, 30, 70, 80, 120}; \n",
    "\n",
    "    System.out.print(\"Common elements are \"); \n",
    "    findCommon(ar1, ar2, ar3); \n",
    "} \n",
    "main(args)"
   ]
  },
  {
   "cell_type": "code",
   "execution_count": 77,
   "metadata": {},
   "outputs": [],
   "source": [
    "/*\n",
    "Time complexity of the above solution is O(n1 + n2 + n3). \n",
    "In the worst case, \n",
    "    the largest sized array may have all small elements and middle-sized array has all middle elements.\n",
    "*/"
   ]
  },
  {
   "cell_type": "markdown",
   "metadata": {},
   "source": [
    "***https://youtu.be/ilKK8bimP24***"
   ]
  },
  {
   "cell_type": "markdown",
   "metadata": {},
   "source": [
    "## **57. Count triplets with sum smaller than a given value**\n",
    "https://www.geeksforgeeks.org/count-triplets-with-sum-smaller-that-a-given-value/"
   ]
  },
  {
   "cell_type": "code",
   "execution_count": 78,
   "metadata": {},
   "outputs": [],
   "source": [
    "/*\n",
    "Given an array of distinct integers and a sum value. \n",
    "Find count of triplets with sum smaller than given sum value. \n",
    "Expected Time Complexity is O(n^2).\n",
    "*/"
   ]
  },
  {
   "cell_type": "code",
   "execution_count": 79,
   "metadata": {},
   "outputs": [],
   "source": [
    "/*\n",
    "Examples:\n",
    "\n",
    "Input : arr[] = {-2, 0, 1, 3}\n",
    "        sum = 2.\n",
    "Output : 2\n",
    "Explanation :  Below are triplets with sum less than 2\n",
    "               (-2, 0, 1) and (-2, 0, 3) \n",
    "\n",
    "Input : arr[] = {5, 1, 3, 4, 7}\n",
    "        sum = 12.\n",
    "Output : 4\n",
    "Explanation :  Below are triplets with sum less than 12\n",
    "               (1, 3, 4), (1, 3, 5), (1, 3, 7) and \n",
    "               (1, 4, 5)\n",
    "*/"
   ]
  },
  {
   "cell_type": "code",
   "execution_count": 80,
   "metadata": {},
   "outputs": [],
   "source": [
    "/*\n",
    "A Simple Solution is to run three loops to consider all triplets one by one. \n",
    "For every triplet, \n",
    "    compare the sums and increment count if triplet sum is smaller than given sum.\n",
    "    \n",
    "Time complexity is O(n^3).\n",
    "*/"
   ]
  },
  {
   "cell_type": "code",
   "execution_count": 81,
   "metadata": {},
   "outputs": [
    {
     "name": "stdout",
     "output_type": "stream",
     "text": [
      "4\n"
     ]
    }
   ],
   "source": [
    "static int arr[] = new int[]{5, 1, 3, 4, 7}; \n",
    "\n",
    "static int countTriplets(int n, int sum) \n",
    "{ \n",
    "    // Initialize result \n",
    "    int ans = 0; \n",
    "\n",
    "    // Fix the first element as A[i] \n",
    "    for (int i = 0; i < n-2; i++) \n",
    "    { \n",
    "       // Fix the second element as A[j] \n",
    "       for (int j = i+1; j < n-1; j++) \n",
    "       { \n",
    "           // Now look for the third number \n",
    "           for (int k = j+1; k < n; k++) \n",
    "               if (arr[i] + arr[j] + arr[k] < sum) \n",
    "                   ans++; \n",
    "       } \n",
    "    } \n",
    "\n",
    "    return ans; \n",
    "} \n",
    "\n",
    "// Driver method to test the above function \n",
    "public static void main(String[] args)  \n",
    "{ \n",
    "    int sum = 12;  \n",
    "    System.out.println(countTriplets(arr.length, sum)); \n",
    "} \n",
    "main(args)"
   ]
  },
  {
   "cell_type": "code",
   "execution_count": 82,
   "metadata": {},
   "outputs": [],
   "source": [
    "/*\n",
    "An Efficient Solution can count triplets in O(n^2) by sorting the array first, \n",
    "and then using method 1 of below cell method\n",
    "*/"
   ]
  },
  {
   "cell_type": "code",
   "execution_count": 83,
   "metadata": {},
   "outputs": [],
   "source": [
    "/*\n",
    "Given an array A[] and a number x, check for pair in A[] with sum as x\n",
    "\n",
    "METHOD 1 (Use Sorting)\n",
    "\n",
    "Algorithm :\n",
    "\n",
    "hasArrayTwoCandidates (A[], ar_size, sum)\n",
    "1) Sort the array in non-decreasing order.\n",
    "2) Initialize two index variables to find the candidate \n",
    "   elements in the sorted array.\n",
    "       (a) Initialize first to the leftmost index: l = 0\n",
    "       (b) Initialize second  the rightmost index:  r = ar_size-1\n",
    "3) Loop while l < r.\n",
    "       (a) If (A[l] + A[r] == sum)  then return 1\n",
    "       (b) Else if( A[l] + A[r] <  sum )  then l++\n",
    "       (c) Else r--    \n",
    "4) No candidates in whole array - return 0\n",
    "*/"
   ]
  },
  {
   "cell_type": "code",
   "execution_count": 84,
   "metadata": {},
   "outputs": [],
   "source": [
    "/*\n",
    "1) Sort the input array in increasing order.\n",
    "2) Initialize result as 0.\n",
    "3) Run a loop from i = 0 to n-2.  An iteration of this loop finds all\n",
    "   triplets with arr[i] as first element.\n",
    "     a) Initialize other two elements as corner elements of subarray\n",
    "        arr[i+1..n-1], i.e., j = i+1 and k = n-1\n",
    "     b) Move j and k toward each other until they meet, i.e., while (j = sum), then do k--\n",
    "\n",
    "            // Else for current i and j, there can (k-j) possible third elements\n",
    "            // that satisfy the constraint.\n",
    "            (ii) Else Do ans += (k - j) followed by j++ \n",
    "*/"
   ]
  },
  {
   "cell_type": "code",
   "execution_count": 85,
   "metadata": {},
   "outputs": [],
   "source": [
    "static int arr[] = new int[]{5, 1, 3, 4, 7}; \n",
    "\n",
    "static int countTriplets(int n, int sum) \n",
    "{ \n",
    "    // Sort input array \n",
    "    Arrays.sort(arr); \n",
    "\n",
    "    // Initialize result \n",
    "    int ans = 0; \n",
    "\n",
    "    // Every iteration of loop counts triplet with \n",
    "    // first element as arr[i]. \n",
    "    for (int i = 0; i < n - 2; i++) \n",
    "    { \n",
    "        // Initialize other two elements as corner elements \n",
    "        // of subarray arr[j+1..k] \n",
    "        int j = i + 1, k = n - 1; \n",
    "\n",
    "        // Use Meet in the Middle concept \n",
    "        while (j < k) \n",
    "        { \n",
    "            // If sum of current triplet is more or equal, \n",
    "            // move right corner to look for smaller values \n",
    "            if (arr[i] + arr[j] + arr[k] >= sum) \n",
    "                k--; \n",
    "\n",
    "            // Else move left corner \n",
    "            else\n",
    "            { \n",
    "                // This is important. For current i and j, there \n",
    "                // can be total k-j third elements. \n",
    "                ans += (k - j); \n",
    "                j++; \n",
    "            } \n",
    "        } \n",
    "    } \n",
    "    return ans; \n",
    "} "
   ]
  },
  {
   "cell_type": "code",
   "execution_count": 86,
   "metadata": {},
   "outputs": [
    {
     "name": "stdout",
     "output_type": "stream",
     "text": [
      "4\n"
     ]
    }
   ],
   "source": [
    "// Driver method to test the above function \n",
    "public static void main(String[] args)  \n",
    "{ \n",
    "    int sum = 12;  \n",
    "    System.out.println(countTriplets(arr.length, sum)); \n",
    "} \n",
    "main(args)"
   ]
  },
  {
   "cell_type": "markdown",
   "metadata": {},
   "source": [
    "***https://youtu.be/7nso5Dgc6CI***"
   ]
  },
  {
   "cell_type": "markdown",
   "metadata": {},
   "source": [
    "## **58. Merge two sorted arrays with O(1) extra space**\n",
    "https://www.geeksforgeeks.org/merge-two-sorted-arrays-o1-extra-space/"
   ]
  },
  {
   "cell_type": "code",
   "execution_count": 87,
   "metadata": {},
   "outputs": [],
   "source": [
    "/*\n",
    "We are given two sorted array. \n",
    "We need to merge these two arrays \n",
    "such that the initial numbers (after complete sorting) are in the first array \n",
    "and the remaining numbers are in the second array. \n",
    "Extra space allowed in O(1).\n",
    "*/"
   ]
  },
  {
   "cell_type": "code",
   "execution_count": 88,
   "metadata": {},
   "outputs": [],
   "source": [
    "/*\n",
    "Example:\n",
    "\n",
    "Input: ar1[] = {10};\n",
    "       ar2[] = {2, 3};\n",
    "Output: ar1[] = {2}\n",
    "        ar2[] = {3, 10}  \n",
    "\n",
    "Input: ar1[] = {1, 5, 9, 10, 15, 20};\n",
    "       ar2[] = {2, 3, 8, 13};\n",
    "Output: ar1[] = {1, 2, 3, 5, 8, 9}\n",
    "        ar2[] = {10, 13, 15, 20} \n",
    "*/"
   ]
  },
  {
   "cell_type": "code",
   "execution_count": 89,
   "metadata": {},
   "outputs": [],
   "source": [
    "/*\n",
    "This task is simple and O(m+n) if we are allowed to use extra space. \n",
    "But it becomes really complicated when extra space is not allowed and doesn’t look possible in less than O(m*n) worst case time.\n",
    "*/"
   ]
  },
  {
   "cell_type": "code",
   "execution_count": 90,
   "metadata": {},
   "outputs": [],
   "source": [
    "/*\n",
    "The idea is to begin from last element of ar2[] and search it in ar1[]. \n",
    "If there is a greater element in ar1[], then we move last element of ar1[] to ar2[]. \n",
    "To keep ar1[] and ar2[] sorted, we need to place last element of ar2[] at correct place in ar1[]. \n",
    "We can use Insertion Sort type of insertion for this. \n",
    "Below is algorithm:\n",
    "*/"
   ]
  },
  {
   "cell_type": "code",
   "execution_count": 91,
   "metadata": {},
   "outputs": [],
   "source": [
    "/*\n",
    "1) Iterate through every element of ar2[] starting from last \n",
    "   element. Do following for every element ar2[i]\n",
    "    a) Store last element of ar1[i]: last = ar1[i]\n",
    "    b) Loop from last element of ar1[] while element ar1[j] is \n",
    "       smaller than ar2[i].\n",
    "          ar1[j+1] = ar1[j] // Move element one position ahead\n",
    "          j--\n",
    "    c) If any element of ar1[] was moved or (j != m-1)\n",
    "          ar1[j+1] = ar2[i] \n",
    "          ar2[i] = last  \n",
    "*/"
   ]
  },
  {
   "cell_type": "code",
   "execution_count": 92,
   "metadata": {},
   "outputs": [
    {
     "name": "stdout",
     "output_type": "stream",
     "text": [
      "After Merging nFirst Array: [1, 2, 3, 5, 8, 9]\n",
      "Second Array:  [10, 13, 15, 20]\n"
     ]
    }
   ],
   "source": [
    "static int arr1[] = new int[]{1, 5, 9, 10, 15, 20}; \n",
    "static int arr2[] = new int[]{2, 3, 8, 13}; \n",
    "\n",
    "static void merge(int m, int n) \n",
    "{ \n",
    "    // Iterate through all elements of ar2[] starting from \n",
    "    // the last element \n",
    "    for (int i=n-1; i>=0; i--) \n",
    "    { \n",
    "        /* Find the smallest element greater than ar2[i]. Move all \n",
    "           elements one position ahead till the smallest greater \n",
    "           element is not found */\n",
    "        int j, last = arr1[m-1]; \n",
    "        for (j=m-2; j >= 0 && arr1[j] > arr2[i]; j--) \n",
    "            arr1[j+1] = arr1[j]; \n",
    "\n",
    "        // If there was a greater element \n",
    "        if (j != m-2 || last > arr2[i]) \n",
    "        { \n",
    "            arr1[j+1] = arr2[i]; \n",
    "            arr2[i] = last; \n",
    "        } \n",
    "    } \n",
    "} \n",
    "\n",
    "// Driver method to test the above function \n",
    "public static void main(String[] args)  \n",
    "{ \n",
    "    merge(arr1.length,arr2.length); \n",
    "    System.out.print(\"After Merging nFirst Array: \"); \n",
    "    System.out.println(Arrays.toString(arr1)); \n",
    "    System.out.print(\"Second Array:  \"); \n",
    "    System.out.println(Arrays.toString(arr2)); \n",
    "} \n",
    "main(args)"
   ]
  },
  {
   "cell_type": "code",
   "execution_count": 93,
   "metadata": {},
   "outputs": [],
   "source": [
    "/*\n",
    "Time Complexity: The worst case time complexity of code/algorithm is O(m*n). \n",
    "The worst case occurs when all elements of ar1[] are greater than all elements of ar2[].\n",
    "*/"
   ]
  },
  {
   "cell_type": "markdown",
   "metadata": {},
   "source": [
    "<img src = \"https://media.geeksforgeeks.org/wp-content/cdn-uploads/Merge-two-sorted-Arrays.png\"/>"
   ]
  },
  {
   "cell_type": "markdown",
   "metadata": {},
   "source": [
    "***Efficient Method***\n",
    "***https://www.geeksforgeeks.org/efficiently-merging-two-sorted-arrays-with-o1-extra-space/***"
   ]
  },
  {
   "cell_type": "markdown",
   "metadata": {},
   "source": [
    "## **59. 3-Way QuickSort (Dutch National Flag)**\n",
    "https://www.geeksforgeeks.org/3-way-quicksort-dutch-national-flag/"
   ]
  },
  {
   "cell_type": "code",
   "execution_count": 94,
   "metadata": {},
   "outputs": [],
   "source": [
    "/*\n",
    "n simple QuickSort algorithm, \n",
    "we select an element as pivot, partition the array around pivot and recur for subarrays on left and right of pivot.\n",
    "*/"
   ]
  },
  {
   "cell_type": "code",
   "execution_count": 95,
   "metadata": {},
   "outputs": [],
   "source": [
    "/*\n",
    "Consider an array which has many redundant elements. \n",
    "For example, \n",
    "    {1, 4, 2, 4, 2, 4, 1, 2, 4, 1, 2, 2, 2, 2, 4, 1, 4, 4, 4}. \n",
    "        If 4 is picked as pivot in Simple QuickSort, \n",
    "        we fix only one 4 and recursively process remaining occurrences.\n",
    "*/"
   ]
  },
  {
   "cell_type": "code",
   "execution_count": 96,
   "metadata": {},
   "outputs": [],
   "source": [
    "/*\n",
    "The idea of 3 way QuickSort is to process all occurrences of pivot and is based on Dutch National Flag algorithm.\n",
    "\n",
    "In 3 Way QuickSort, an array arr[l..r] is divided in 3 parts:\n",
    "    a) arr[l..i] elements less than pivot.\n",
    "    b) arr[i+1..j-1] elements equal to pivot.\n",
    "    c) arr[j..r] elements greater than pivot.\n",
    "Below is the implementation of above algorithm.\n",
    "*/"
   ]
  },
  {
   "cell_type": "markdown",
   "metadata": {},
   "source": [
    "***https://ideone.com/JUYB5p***"
   ]
  },
  {
   "cell_type": "code",
   "execution_count": 97,
   "metadata": {},
   "outputs": [],
   "source": [
    "/*\n",
    "Another Implementation using Dutch National Flag Algorithm\n",
    "*/"
   ]
  },
  {
   "cell_type": "code",
   "execution_count": null,
   "metadata": {},
   "outputs": [],
   "source": []
  },
  {
   "cell_type": "markdown",
   "metadata": {},
   "source": [
    "## **60. Counting Sort**\n",
    "https://www.geeksforgeeks.org/counting-sort/"
   ]
  },
  {
   "cell_type": "code",
   "execution_count": 98,
   "metadata": {},
   "outputs": [],
   "source": [
    "/*\n",
    "Counting sort is a sorting technique based on keys between a specific range. \n",
    "It works by counting the number of objects having distinct key values (kind of hashing). \n",
    "Then doing some arithmetic to calculate the position of each object in the output sequence.\n",
    "*/"
   ]
  },
  {
   "cell_type": "code",
   "execution_count": 99,
   "metadata": {},
   "outputs": [],
   "source": [
    "/*\n",
    "Let us understand it with the help of an example.\n",
    "\n",
    "For simplicity, consider the data in the range 0 to 9. \n",
    "Input data: 1, 4, 1, 2, 7, 5, 2\n",
    "  1) Take a count array to store the count of each unique object.\n",
    "  Index:     0  1  2  3  4  5  6  7  8  9\n",
    "  Count:     0  2  2  0   1  1  0  1  0  0\n",
    "\n",
    "  2) Modify the count array such that each element at each index \n",
    "  stores the sum of previous counts. \n",
    "  Index:     0  1  2  3  4  5  6  7  8  9\n",
    "  Count:     0  2  4  4  5  6  6  7  7  7\n",
    "\n",
    "The modified count array indicates the position of each object in \n",
    "the output sequence.\n",
    " \n",
    "  3) Output each object from the input sequence followed by \n",
    "  decreasing its count by 1.\n",
    "  Process the input data: 1, 4, 1, 2, 7, 5, 2. Position of 1 is 2.\n",
    "  Put data 1 at index 2 in output. Decrease count by 1 to place \n",
    "  next data 1 at an index 1 smaller than this index.\n",
    "\n",
    "Time Complexity: O(n+k) where n is the number of elements in input array and k is the range of input.\n",
    "Auxiliary Space: O(n+k)\n",
    "*/"
   ]
  },
  {
   "cell_type": "code",
   "execution_count": 100,
   "metadata": {},
   "outputs": [],
   "source": [
    "void sort(char arr[]) \n",
    "{ \n",
    "    int n = arr.length; \n",
    "\n",
    "    // The output character array that will have sorted arr \n",
    "    char output[] = new char[n]; \n",
    "\n",
    "    // Create a count array to store count of inidividul \n",
    "    // characters and initialize count array as 0 \n",
    "    int count[] = new int[256]; \n",
    "    for (int i=0; i<256; ++i) \n",
    "        count[i] = 0; \n",
    "\n",
    "    // store count of each character \n",
    "    for (int i=0; i<n; ++i) \n",
    "        ++count[arr[i]]; \n",
    "\n",
    "    // Change count[i] so that count[i] now contains actual \n",
    "    // position of this character in output array \n",
    "    for (int i=1; i<=255; ++i) \n",
    "        count[i] += count[i-1]; \n",
    "\n",
    "    // Build the output character array \n",
    "    // To make it stable we are operating in reverse order. \n",
    "    for (int i = n-1; i>=0; i--) \n",
    "    { \n",
    "        output[count[arr[i]]-1] = arr[i]; \n",
    "        --count[arr[i]]; \n",
    "    } \n",
    "\n",
    "    // Copy the output array to arr, so that arr now \n",
    "    // contains sorted characters \n",
    "    for (int i = 0; i<n; ++i) \n",
    "        arr[i] = output[i]; \n",
    "} "
   ]
  },
  {
   "cell_type": "code",
   "execution_count": 101,
   "metadata": {},
   "outputs": [
    {
     "name": "stdout",
     "output_type": "stream",
     "text": [
      "Sorted character array is eeeefggkkorss"
     ]
    }
   ],
   "source": [
    "// Driver method \n",
    "public static void main(String args[]) \n",
    "{ \n",
    "    char arr[] = {'g', 'e', 'e', 'k', 's', 'f', 'o', \n",
    "                'r', 'g', 'e', 'e', 'k', 's'\n",
    "                }; \n",
    "\n",
    "    sort(arr); \n",
    "\n",
    "    System.out.print(\"Sorted character array is \"); \n",
    "    for (int i=0; i<arr.length; ++i) \n",
    "        System.out.print(arr[i]); \n",
    "} \n",
    "main(args)"
   ]
  },
  {
   "cell_type": "code",
   "execution_count": 102,
   "metadata": {},
   "outputs": [],
   "source": [
    "/*\n",
    "The problem with the previous counting sort was that we could not sort the elements if we have negative numbers in it. \n",
    "Because there are no negative array indices. \n",
    "So what we do is, we find the minimum element and we will store count of that minimum element at zero index.\n",
    "*/"
   ]
  },
  {
   "cell_type": "code",
   "execution_count": 103,
   "metadata": {},
   "outputs": [
    {
     "name": "stdout",
     "output_type": "stream",
     "text": [
      "-10 -5 -3 -1 0 5 8 10 \n"
     ]
    }
   ],
   "source": [
    "static void countSort(int[] arr)  \n",
    "{ \n",
    "    int max = Arrays.stream(arr).max().getAsInt(); \n",
    "    int min = Arrays.stream(arr).min().getAsInt(); \n",
    "    int range = max - min + 1; \n",
    "    int count[] = new int[range]; \n",
    "    int output[] = new int[arr.length]; \n",
    "    for (int i = 0; i < arr.length; i++)  \n",
    "    { \n",
    "        count[arr[i] - min]++; \n",
    "    } \n",
    "\n",
    "    for (int i = 1; i < count.length; i++)  \n",
    "    { \n",
    "        count[i] += count[i - 1]; \n",
    "    } \n",
    "\n",
    "    for (int i = arr.length - 1; i >= 0; i--)  \n",
    "    { \n",
    "        output[count[arr[i] - min] - 1] = arr[i]; \n",
    "        count[arr[i] - min]--; \n",
    "    } \n",
    "\n",
    "    for (int i = 0; i < arr.length; i++) \n",
    "    { \n",
    "        arr[i] = output[i]; \n",
    "    } \n",
    "} \n",
    "\n",
    "static void printArray(int[] arr)  \n",
    "{ \n",
    "    for (int i = 0; i < arr.length; i++)  \n",
    "    { \n",
    "        System.out.print(arr[i] + \" \"); \n",
    "    } \n",
    "    System.out.println(\"\"); \n",
    "} \n",
    "\n",
    "// Driver code \n",
    "public static void main(String[] args) \n",
    "{ \n",
    "    int[] arr = {-5, -10, 0, -3, 8, 5, -1, 10}; \n",
    "    countSort(arr); \n",
    "    printArray(arr); \n",
    "} \n",
    "main(args);"
   ]
  },
  {
   "cell_type": "code",
   "execution_count": 104,
   "metadata": {},
   "outputs": [],
   "source": [
    "/*\n",
    "Points to be noted:\n",
    "1. Counting sort is efficient if the range of input data is not significantly greater than the number of objects to be sorted. \n",
    "   Consider the situation where the input sequence is between range 1 to 10K and the data is 10, 5, 10K, 5K.\n",
    "2. It is not a comparison based sorting. It running time complexity is O(n) with space proportional to the range of data.\n",
    "3. It is often used as a sub-routine to another sorting algorithm like radix sort.\n",
    "4. Counting sort uses a partial hashing to count the occurrence of the data object in O(1).\n",
    "5. Counting sort can be extended to work for negative inputs also.\n",
    "*/"
   ]
  },
  {
   "cell_type": "markdown",
   "metadata": {},
   "source": [
    "***https://youtu.be/7zuGmKfUt7s***"
   ]
  },
  {
   "cell_type": "code",
   "execution_count": null,
   "metadata": {},
   "outputs": [],
   "source": []
  },
  {
   "cell_type": "markdown",
   "metadata": {},
   "source": [
    "**------------------------Questions Covered-----------------------------**"
   ]
  },
  {
   "cell_type": "markdown",
   "metadata": {},
   "source": [
    "***2\tSearching & Sorting\thttps://www.geeksforgeeks.org/radix-sort/\tPep_JavaIP_2SnS_61RadixSort\t\t\t\t\t\t\t\t\t\t\t\t\t\t\t\t\t\t\t\t\t\t\t\t\n",
    "2\tSearching & Sorting\thttps://www.geeksforgeeks.org/how-to-efficiently-sort-a-big-list-dates-in-20s/\tPep_JavaIP_2SnS_62SortDates\t\t\t\t\t\t\t\t\t\t\t\t\t\t\t\t\t\t\t\t\t\t\t\t\n",
    "2\tSearching & Sorting\thttps://www.geeksforgeeks.org/median-of-stream-of-integers-running-integers/\tPep_JavaIP_2SnS_63MedianofStreamofIntegers\t\t\t\t\t\t\t\t\t\t\t\t\t\t\t\t\t\t\t\t\t\t\t\t\n",
    "2\tSearching & Sorting\thttps://www.geeksforgeeks.org/make-array-elements-equal-minimum-cost/\tPep_JavaIP_2SnS_64MinimumCostToMakeArrayElements\t\t\t\t\t\t\t\t\t\t\t\t\t\t\t\t\t\t\t\t\t\t\t\t\n",
    "2\tSearching & Sorting\thttps://www.geeksforgeeks.org/check-reversing-sub-array-make-array-sorted/\tPep_JavaIP_2SnS_65ReverseSorted\t\t\t\t\t\t\t\t\t\t\t\t\t\t\t\t\t\t\t\t\t\t\t\t\n",
    "2\tSearching & Sorting\thttps://www.geeksforgeeks.org/print-all-subarrays-with-0-sum/\tPep_JavaIP_2SnS_66PrintAllSubarraysWith0Sum\t\t\t\t\t\t\t\t\t\t\t\t\t\t\t\t\t\t\t\t\t\t\t\t\n",
    "2\tSearching & Sorting\thttps://www.geeksforgeeks.org/nearly-sorted-algorithm/\theap with array, good logic\t\t\t\t\t\t\t\t\t\t\t\t\t\t\t\t\t\t\t\t\t\t\t\t\n",
    "2\tSearching & Sorting\thttps://www.geeksforgeeks.org/a-product-array-puzzle/\tPep_JavaIP_2SnS_68ProductArrayPuzzle\t\t\t\t\t\t\t\t\t\t\t\t\t\t\t\t\t\t\t\t\t\t\t\t\n",
    "2\tSearching & Sorting\thttps://www.geeksforgeeks.org/find-number-pairs-xy-yx/\tPep_JavaIP_2SnS_69CountPairsXY\t\t\t\t\t\t\t\t\t\t\t\t\t\t\t\t\t\t\t\t\t\t\t\t\n",
    "2\tSearching & Sorting\thttps://www.geeksforgeeks.org/find-duplicates-in-on-time-and-constant-extra-space/\tPep_JavaIP_2SnS_70FindDuplicates\t\thttps://www.geeksforgeeks.org/duplicates-array-using-o1-extra-space-set-2/\t\t\t\t\t\t\t\t\t\t\t\t\t\t\t\t\t\t\t\t\t\t\n",
    "2\tSearching & Sorting\thttps://www.geeksforgeeks.org/insert-in-sorted-and-non-overlapping-interval-array/\tPep_JavaIP_2SnS_71InsertionAndMergingIntervals\tbreaker\t\t\t\t\t\t\t\t\t\t\t\t\t\t\t\t\t\t\t\t\t\t\t\n",
    "2\tSearching & Sorting\thttps://www.geeksforgeeks.org/sort-array-according-count-set-bits/\tPep_JavaIP_2SnS_72SortOnCountSetBits\tbreaker\t\t\t\t\t\t\t\t\t\t\t\t\t\t\t\t\t\t\t\t\t\t\t\n",
    "2\tSearching & Sorting\thttps://www.geeksforgeeks.org/minimum-swaps-to-make-two-array-identical/\tPep_JavaIP_2SnS_73MinimumSwaps\t\t\t\t\t\t\t\t\t\t\t\t\t\t\t\t\t\t\t\t\t\t\t\t\n",
    "2\tSearching & Sorting\thttps://www.geeksforgeeks.org/find-largest-multiple-3-array-digits-set-2-time-o1-space/\tPep_JavaIP_2SnS_74MaximumMultipleOf3\tbreaker\t\t\t\t\t\t\t\t\t\t\t\t\t\t\t\t\t\t\t\t\t\t\t\n",
    "2\tSearching & Sorting\thttps://www.geeksforgeeks.org/permute-two-arrays-sum-every-pair-greater-equal-k/\tPep_JavaIP_2SnS_75PermuteTwoArrays***"
   ]
  },
  {
   "cell_type": "code",
   "execution_count": 1,
   "metadata": {},
   "outputs": [],
   "source": [
    "import java.util.*;\n",
    "import java.io.*;\n",
    "import java.util.Arrays;\n",
    "String[] args =new String[0];"
   ]
  },
  {
   "cell_type": "markdown",
   "metadata": {},
   "source": [
    "## **61. Radix Sort**\n",
    "https://www.geeksforgeeks.org/radix-sort/"
   ]
  },
  {
   "cell_type": "code",
   "execution_count": 2,
   "metadata": {},
   "outputs": [],
   "source": [
    "/*\n",
    "The lower bound for Comparison based sorting algorithm (Merge Sort, Heap Sort, Quick-Sort .. etc) is Ω(nLogn), \n",
    "i.e., they cannot do better than nLogn.\n",
    "Counting sort is a linear time sorting algorithm that sort in O(n+k) time when elements are in range from 1 to k.\n",
    "*/"
   ]
  },
  {
   "cell_type": "code",
   "execution_count": 3,
   "metadata": {},
   "outputs": [],
   "source": [
    "/*\n",
    "What if the elements are in range from 1 to n^2?\n",
    "    We can’t use counting sort \n",
    "    because counting sort will take O(n^2) which is worse than comparison based sorting algorithms. \n",
    "\n",
    "Can we sort such an array in linear time?\n",
    "    Radix Sort is the answer. \n",
    "    The idea of Radix Sort is to do digit by digit sort starting from least significant digit to most significant digit. \n",
    "    Radix sort uses counting sort as a subroutine to sort.\n",
    "*/"
   ]
  },
  {
   "cell_type": "code",
   "execution_count": 4,
   "metadata": {},
   "outputs": [],
   "source": [
    "/*\n",
    "The Radix Sort Algorithm\n",
    "1) Do following for each digit i where i varies from least significant digit to the most significant digit.\n",
    "………….a) Sort input array using counting sort (or any stable sort) according to the i’th digit.\n",
    "\n",
    "Example:\n",
    "Original, unsorted list:\n",
    "    170, 45, 75, 90, 802, 24, 2, 66\n",
    "\n",
    "Sorting by least significant digit (1s place) gives: \n",
    "[*Notice that we keep 802 before 2, because 802 occurred before 2 in the original list, and similarly for pairs 170 & 90 and 45 & 75.]\n",
    "    170, 90, 802, 2, 24, 45, 75, 66\n",
    "\n",
    "Sorting by next digit (10s place) gives: \n",
    "[*Notice that 802 again comes before 2 as 802 comes before 2 in the previous list.]\n",
    "    802, 2, 24, 45, 66, 170, 75, 90\n",
    "\n",
    "Sorting by most significant digit (100s place) gives:\n",
    "    2, 24, 45, 66, 75, 90, 170, 802\n",
    "*/"
   ]
  },
  {
   "cell_type": "code",
   "execution_count": 5,
   "metadata": {},
   "outputs": [],
   "source": [
    "/*\n",
    "What is the running time of Radix Sort?\n",
    "    Let there be d digits in input integers. \n",
    "    Radix Sort takes O(d*(n+b)) time where b is the base for representing numbers, \n",
    "    for example, \n",
    "    for decimal system, b is 10. \n",
    "    What is the value of d? \n",
    "        If k is the maximum possible value, \n",
    "        then d would be O(logb(k)). \n",
    "        So overall time complexity is O((n+b) * logb(k)). \n",
    "        Which looks more than the time complexity of comparison based sorting algorithms for a large k. \n",
    "        Let us first limit k. Let k <= nc where c is a constant. \n",
    "        In that case, the complexity becomes O(nLogb(n)). But it still doesn’t beat comparison based sorting algorithms.\n",
    "    What if we make value of b larger?. \n",
    "    What should be the value of b to make the time complexity linear? \n",
    "        If we set b as n, we get the time complexity as O(n). \n",
    "        In other words, we can sort an array of integers with range from 1 to n^c \n",
    "        if the numbers are represented in base n (or every digit takes log2(n) bits).\n",
    "*/"
   ]
  },
  {
   "cell_type": "code",
   "execution_count": 6,
   "metadata": {},
   "outputs": [],
   "source": [
    "/*\n",
    "Is Radix Sort preferable to Comparison based sorting algorithms like Quick-Sort?\n",
    "    If we have log2n bits for every digit, \n",
    "    the running time of Radix appears to be better than Quick Sort for a wide range of input numbers. \n",
    "    The constant factors hidden in asymptotic notation are higher for Radix Sort and Quick-Sort uses hardware caches more effectively. \n",
    "    Also, Radix sort uses counting sort as a subroutine and counting sort takes extra space to sort numbers.\n",
    "*/"
   ]
  },
  {
   "cell_type": "code",
   "execution_count": 7,
   "metadata": {},
   "outputs": [],
   "source": [
    "// A utility function to get maximum value in arr[] \n",
    "static int getMax(int arr[], int n) \n",
    "{ \n",
    "    int mx = arr[0]; \n",
    "    for (int i = 1; i < n; i++) \n",
    "        if (arr[i] > mx) \n",
    "            mx = arr[i]; \n",
    "    return mx; \n",
    "} "
   ]
  },
  {
   "cell_type": "code",
   "execution_count": 8,
   "metadata": {},
   "outputs": [],
   "source": [
    "// A function to do counting sort of arr[] according to \n",
    "// the digit represented by exp. \n",
    "static void countSort(int arr[], int n, int exp) \n",
    "{ \n",
    "    int output[] = new int[n]; // output array \n",
    "    int i; \n",
    "    int count[] = new int[10]; \n",
    "    Arrays.fill(count,0); \n",
    "\n",
    "    // Store count of occurrences in count[] \n",
    "    for (i = 0; i < n; i++) \n",
    "        count[ (arr[i]/exp)%10 ]++; \n",
    "\n",
    "    // Change count[i] so that count[i] now contains \n",
    "    // actual position of this digit in output[] \n",
    "    for (i = 1; i < 10; i++) \n",
    "        count[i] += count[i - 1]; \n",
    "\n",
    "    // Build the output array \n",
    "    for (i = n - 1; i >= 0; i--) \n",
    "    { \n",
    "        output[count[ (arr[i]/exp)%10 ] - 1] = arr[i]; \n",
    "        count[ (arr[i]/exp)%10 ]--; \n",
    "    } \n",
    "\n",
    "    // Copy the output array to arr[], so that arr[] now \n",
    "    // contains sorted numbers according to curent digit \n",
    "    for (i = 0; i < n; i++) \n",
    "        arr[i] = output[i]; \n",
    "} "
   ]
  },
  {
   "cell_type": "code",
   "execution_count": 9,
   "metadata": {},
   "outputs": [],
   "source": [
    "// The main function to that sorts arr[] of size n using \n",
    "// Radix Sort \n",
    "static void radixsort(int arr[], int n) \n",
    "{ \n",
    "    // Find the maximum number to know number of digits \n",
    "    int m = getMax(arr, n); \n",
    "\n",
    "    // Do counting sort for every digit. Note that instead \n",
    "    // of passing digit number, exp is passed. exp is 10^i \n",
    "    // where i is current digit number \n",
    "    for (int exp = 1; m/exp > 0; exp *= 10) \n",
    "        countSort(arr, n, exp); \n",
    "} "
   ]
  },
  {
   "cell_type": "code",
   "execution_count": 10,
   "metadata": {},
   "outputs": [
    {
     "name": "stdout",
     "output_type": "stream",
     "text": [
      "2 24 45 66 75 90 170 802 "
     ]
    }
   ],
   "source": [
    "// A utility function to print an array \n",
    "static void print(int arr[], int n) \n",
    "{ \n",
    "    for (int i=0; i<n; i++) \n",
    "        System.out.print(arr[i]+\" \"); \n",
    "} \n",
    "\n",
    "\n",
    "/*Driver function to check for above function*/\n",
    "public static void main (String[] args) \n",
    "{ \n",
    "    int arr[] = {170, 45, 75, 90, 802, 24, 2, 66}; \n",
    "    int n = arr.length; \n",
    "    radixsort(arr, n); \n",
    "    print(arr, n); \n",
    "}\n",
    "main(args);"
   ]
  },
  {
   "cell_type": "markdown",
   "metadata": {},
   "source": [
    "***https://youtu.be/nu4gDuFabIM***"
   ]
  },
  {
   "cell_type": "markdown",
   "metadata": {},
   "source": [
    "## **62. How to efficiently sort a big list dates in 20’s**\n",
    "https://www.geeksforgeeks.org/how-to-efficiently-sort-a-big-list-dates-in-20s/"
   ]
  },
  {
   "cell_type": "code",
   "execution_count": 11,
   "metadata": {},
   "outputs": [],
   "source": [
    "/*\n",
    "Given a big list of dates in 20’s, how to efficiently sort the list.\n",
    "*/"
   ]
  },
  {
   "cell_type": "code",
   "execution_count": 12,
   "metadata": {},
   "outputs": [],
   "source": [
    "/*\n",
    "Example:\n",
    "\n",
    "Input:\n",
    "       Date arr[] = {{20,  1, 2014},\n",
    "                    {25,  3, 2010},\n",
    "                    { 3, 12, 2000},\n",
    "                    {18, 11, 2001},\n",
    "                    {19,  4, 2015},\n",
    "                    { 9,  7, 2005}}\n",
    "\n",
    "Output:\n",
    "      Date arr[] = {{ 3, 12, 2000},\n",
    "                    {18, 11, 2001},\n",
    "                    { 9,  7, 2005},\n",
    "                    {25,  3, 2010},\n",
    "                    {20,  1, 2014},\n",
    "                    {19,  4, 2015}}\n",
    "*/"
   ]
  },
  {
   "cell_type": "code",
   "execution_count": 13,
   "metadata": {},
   "outputs": [],
   "source": [
    "/*\n",
    "A Simple Solution is to use a O(nLogn) algorithm like Merge Sort.\n",
    "\n",
    "We can sort the list in O(n) time using Radix Sort. \n",
    "In a typical Radix Sort implementation, we first sort by last digit, then by second last digit, and so on. \n",
    "Here we sort in following order.\n",
    "    1) First sort by day using counting sort\n",
    "    2) Then sort by month using counting sort\n",
    "    3) Finally sort by year using counting sort\n",
    "\n",
    "As the number of days, months and years are fixed, all three steps take O(n) time. \n",
    "Therefore, overall time complexity is O(n).\n",
    "*/"
   ]
  },
  {
   "cell_type": "markdown",
   "metadata": {},
   "source": [
    "***https://ideone.com/808Pg5***"
   ]
  },
  {
   "cell_type": "code",
   "execution_count": 14,
   "metadata": {},
   "outputs": [],
   "source": [
    "class Date{\n",
    "    int day;\n",
    "    int month;\n",
    "    int year;\n",
    "    Date(int day,int month,int year){\n",
    "        this.day=day;\n",
    "        this.month=month;\n",
    "        this.year=year;\n",
    "    }\n",
    "    public String toString(){\n",
    "        Formatter fm=new Formatter();\n",
    "        String str= fm.format(\"%3d%3d%5d\",day,month,year).toString();\n",
    "        fm.close();\n",
    "        return str;\n",
    "    }\n",
    "}"
   ]
  },
  {
   "cell_type": "code",
   "execution_count": 15,
   "metadata": {},
   "outputs": [],
   "source": [
    "class MyComp implements Comparator<Date>{\n",
    "    public int compare(Date d1,Date d2){\n",
    "        if(d1.year<d2.year){\n",
    "            return -1;\n",
    "        }else if(d1.year==d2.year){\n",
    "            if(d1.month<d2.month){\n",
    "                return -1;\n",
    "            }else if(d1.month==d2.month){\n",
    "                if(d1.day<=d2.day)return -1;\n",
    "                else return 1;\n",
    "            }else{\n",
    "                return 1;\n",
    "            }\n",
    "        }else{\n",
    "            return 1;\n",
    "        }\n",
    "    }\n",
    "}"
   ]
  },
  {
   "cell_type": "code",
   "execution_count": 16,
   "metadata": {},
   "outputs": [
    {
     "name": "stdout",
     "output_type": "stream",
     "text": [
      "Input Dates\n",
      " 20  1 2014\n",
      " 25  3 2010\n",
      "  3 12 2000\n",
      " 18 11 2001\n",
      " 19  4 2015\n",
      "  9  7 2005\n",
      "\n",
      "Sorted Dates\n",
      "  3 12 2000\n",
      " 18 11 2001\n",
      "  9  7 2005\n",
      " 25  3 2010\n",
      " 20  1 2014\n",
      " 19  4 2015\n"
     ]
    }
   ],
   "source": [
    "public static void main(String[] args){\n",
    "    Date[] date={\n",
    "            new Date(20,  1, 2014),\n",
    "            new Date(25, 3, 2010),\n",
    "            new Date(3, 12, 2000),\n",
    "            new Date(18, 11, 2001),\n",
    "            new Date(19, 4, 2015),\n",
    "            new Date(9, 7, 2005)\n",
    "    };\n",
    "    System.out.println(\"Input Dates\");\n",
    "    for(Date d:date){\n",
    "        System.out.println(d);\n",
    "    }\n",
    "    Arrays.sort(date,new MyComp());\n",
    "    System.out.println(\"\\nSorted Dates\");\n",
    "    for(Date d:date){\n",
    "        System.out.println(d);\n",
    "    }\n",
    "}\n",
    "main(args);"
   ]
  },
  {
   "cell_type": "markdown",
   "metadata": {},
   "source": [
    "## **63. Median in a stream of integers (running integers)**\n",
    "https://www.geeksforgeeks.org/median-of-stream-of-integers-running-integers/"
   ]
  },
  {
   "cell_type": "code",
   "execution_count": 17,
   "metadata": {},
   "outputs": [],
   "source": [
    "/*\n",
    "Given that integers are read from a data stream. \n",
    "Find median of elements read so for in efficient way. \n",
    "For simplicity assume there are no duplicates. \n",
    "\n",
    "For example, let us consider the stream 5, 15, 1, 3 …\n",
    "\n",
    "    After reading 1st element of stream - 5 -> median - 5\n",
    "    After reading 2nd element of stream - 5, 15 -> median - 10\n",
    "    After reading 3rd element of stream - 5, 15, 1 -> median - 5\n",
    "    After reading 4th element of stream - 5, 15, 1, 3 -> median - 4, so on...\n",
    "*/"
   ]
  },
  {
   "cell_type": "code",
   "execution_count": 18,
   "metadata": {},
   "outputs": [],
   "source": [
    "/*\n",
    "Making it clear, \n",
    "when the input size is odd, we take the middle element of sorted data. \n",
    "If the input size is even, we pick average of middle two elements in sorted stream.\n",
    "\n",
    "Note that output is effective median of integers read from the stream so far. \n",
    "Such an algorithm is called online algorithm. \n",
    "Any algorithm that can guarantee output of i-elements after processing i-th element, is said to be online algorithm. \n",
    "Let us discuss three solutions for the above problem.\n",
    "*/"
   ]
  },
  {
   "cell_type": "code",
   "execution_count": 19,
   "metadata": {},
   "outputs": [],
   "source": [
    "/*\n",
    "Method 1: Insertion Sort\n",
    "\n",
    "If we can sort the data as it appears, we can easily locate median element. \n",
    "Insertion Sort is one such online algorithm that sorts the data appeared so far. \n",
    "At any instance of sorting, say after sorting i-th element, the first i elements of array are sorted. \n",
    "The insertion sort doesn’t depend on future data to sort data input till that point. \n",
    "In other words, insertion sort considers data sorted so far while inserting next element. \n",
    "This is the key part of insertion sort that makes it an online algorithm.\n",
    "\n",
    "However, insertion sort takes O(n^2) time to sort n elements. \n",
    "Perhaps we can use binary search on insertion sort to find location of next element in O(log n) time. \n",
    "Yet, we can’t do data movement in O(log n) time. \n",
    "No matter how efficient the implementation is, it takes polynomial time in case of insertion sort.\n",
    "*/"
   ]
  },
  {
   "cell_type": "code",
   "execution_count": 20,
   "metadata": {},
   "outputs": [],
   "source": [
    "/*\n",
    "Method 2: Augmented self balanced binary search tree (AVL, RB, etc…)\n",
    "\n",
    "At every node of BST, maintain number of elements in the subtree rooted at that node. \n",
    "We can use a node as root of simple binary tree, \n",
    "whose left child is self balancing BST with elements less than root and right child is self balancing BST with elements greater than root. \n",
    "The root element always holds effective median.\n",
    "\n",
    "If left and right subtrees contain same number of elements, \n",
    "    root node holds average of left and right subtree root data. \n",
    "Otherwise, root contains same data as the root of subtree which is having more elements. \n",
    "After processing an incoming element, the left and right subtrees (BST) are differed utmost by 1.\n",
    "\n",
    "Self balancing BST is costly in managing balancing factor of BST. \n",
    "However, they provide sorted data which we don’t need. \n",
    "We need median only. The next method make use of Heaps to trace median.\n",
    "*/"
   ]
  },
  {
   "cell_type": "code",
   "execution_count": 21,
   "metadata": {},
   "outputs": [],
   "source": [
    "/*\n",
    "Method 3: Heaps\n",
    "Time Complexity: If we omit the way how stream was read, complexity of median finding is O(N log N), as we need to read the stream, and due to heap insertions/deletions.\n",
    "\n",
    "\n",
    "Similar to balancing BST in Method 2 above, \n",
    "we can use a max heap on left side to represent elements that are less than effective median, \n",
    "and a min heap on right side to represent elements that are greater than effective median.\n",
    "\n",
    "After processing an incoming element, the number of elements in heaps differ utmost by 1 element. \n",
    "When both heaps contain same number of elements, we pick average of heaps root data as effective median. \n",
    "When the heaps are not balanced, we select effective median from the root of heap containing more elements.\n",
    "\n",
    "Given below is implementation of above method. For algorithm to build these heaps, please read the highlighted code.\n",
    "*/"
   ]
  },
  {
   "cell_type": "markdown",
   "metadata": {},
   "source": [
    "***https://ideone.com/SLthBb***"
   ]
  },
  {
   "cell_type": "markdown",
   "metadata": {},
   "source": [
    "***Median of Stream of Running Integers using STL***\n",
    "\n",
    "***https://www.geeksforgeeks.org/median-of-stream-of-running-integers-using-stl/***"
   ]
  },
  {
   "cell_type": "markdown",
   "metadata": {},
   "source": [
    "## **64. Make all array elements equal with minimum cost**\n",
    "https://www.geeksforgeeks.org/make-array-elements-equal-minimum-cost/"
   ]
  },
  {
   "cell_type": "code",
   "execution_count": 22,
   "metadata": {},
   "outputs": [],
   "source": [
    "/*\n",
    "Given an array which contains integer values, \n",
    "we need to make all values of this array equal to some integer value with minimum cost \n",
    "where the cost of changing an array value x to y is abs(x-y).\n",
    "*/"
   ]
  },
  {
   "cell_type": "code",
   "execution_count": 23,
   "metadata": {},
   "outputs": [],
   "source": [
    "/*\n",
    "Examples :\n",
    "\n",
    "Input  : arr[] = [1, 100, 101]\n",
    "Output : 100\n",
    "We can change all its values to 100 with minimum cost,\n",
    "|1 - 100| + |100 - 100| + |101 - 100| = 100\n",
    "\n",
    "Input  : arr[] = [4, 6]\n",
    "Output : 2\n",
    "We can change all its values to 5 with minimum cost,\n",
    "|4 - 5| + |5 - 6| = 2\n",
    "*/"
   ]
  },
  {
   "cell_type": "code",
   "execution_count": 24,
   "metadata": {},
   "outputs": [],
   "source": [
    "/*\n",
    "This problem can be solved by observing the cost while changing the target equal value, \n",
    "i.e. we will see the change in cost when target equal value is changed. \n",
    "It can be observed that, \n",
    "    as we increase the target equal value the total cost decreases up to a limit and then starts increasing \n",
    "    i.e. the cost graph with respect to target equal value is of U-shape \n",
    "    and as cost graph is in U-shape, \n",
    "        the ternary search can be applied to this search space and our goal is to get that bottom most point of the curve which will represent the smallest cost. \n",
    "    We will make smallest and largest value of the array as the limit of our search space \n",
    "    and then we will keep skipping 1/3 part of the search space until we reach to the bottom most point of our U-curve.\n",
    "Please see below code for better understanding,\n",
    "\n",
    "Time Complexity : O (n Log n)\n",
    "*/"
   ]
  },
  {
   "cell_type": "code",
   "execution_count": 25,
   "metadata": {},
   "outputs": [],
   "source": [
    "// Utility method to compute cost, when \n",
    "// all values of array are made equal to X \n",
    "public static int computeCost(int arr[], int N, \n",
    "                              int X) \n",
    "{ \n",
    "    int cost = 0; \n",
    "    for (int i = 0; i < N; i++) \n",
    "        cost += Math.abs(arr[i] - X); \n",
    "    return cost; \n",
    "} "
   ]
  },
  {
   "cell_type": "code",
   "execution_count": 26,
   "metadata": {},
   "outputs": [],
   "source": [
    "// Method to find minimum cost to make all \n",
    "// elements equal \n",
    "public static int minCostToMakeElementEqual(int arr[], \n",
    "                                            int N) \n",
    "{ \n",
    "    int low, high; \n",
    "    low = high = arr[0]; \n",
    "\n",
    "    // setting limits for ternary search by \n",
    "    // smallest and largest element \n",
    "    for (int i = 0; i < N; i++) { \n",
    "        if (low > arr[i]) \n",
    "            low = arr[i]; \n",
    "        if (high < arr[i]) \n",
    "            high = arr[i]; \n",
    "    } \n",
    "\n",
    "    /* loop until difference between low and high \n",
    "       become less than 3, because after that \n",
    "       mid1 and mid2 will start repeating \n",
    "    */\n",
    "    while ((high - low) > 2) { \n",
    "        // mid1 and mid2 are representative array \n",
    "        // equal values of search space \n",
    "        int mid1 = low + (high - low) / 3; \n",
    "        int mid2 = high - (high - low) / 3; \n",
    "\n",
    "        int cost1 = computeCost(arr, N, mid1); \n",
    "        int cost2 = computeCost(arr, N, mid2); \n",
    "\n",
    "        // if mid2 point gives more total cost, \n",
    "        // skip third part \n",
    "        if (cost1 < cost2) \n",
    "            high = mid2; \n",
    "\n",
    "        // if mid1 point gives more total cost, \n",
    "        // skip first part \n",
    "        else\n",
    "            low = mid1; \n",
    "    } \n",
    "\n",
    "    // computeCost gets optimum cost by sending \n",
    "    // average of low and high as X \n",
    "    return computeCost(arr, N, (low + high) / 2); \n",
    "} "
   ]
  },
  {
   "cell_type": "code",
   "execution_count": 27,
   "metadata": {},
   "outputs": [
    {
     "name": "stdout",
     "output_type": "stream",
     "text": [
      "100\n"
     ]
    }
   ],
   "source": [
    "/* Driver program to test above function */\n",
    "public static void main(String[] args) \n",
    "{ \n",
    "    int arr[] = { 1, 100, 101 }; \n",
    "    int N = arr.length; \n",
    "    System.out.println(minCostToMakeElementEqual(arr, N)); \n",
    "} \n",
    "main(args);"
   ]
  },
  {
   "cell_type": "markdown",
   "metadata": {},
   "source": [
    "## **65. Check if reversing a sub array make the array sorted**\n",
    "https://www.geeksforgeeks.org/check-reversing-sub-array-make-array-sorted/"
   ]
  },
  {
   "cell_type": "code",
   "execution_count": 28,
   "metadata": {},
   "outputs": [],
   "source": [
    "/*\n",
    "Given an array of distinct n integers. \n",
    "The task is to check whether reversing one sub-array make the array sorted or not. \n",
    "If the array is already sorted or by reversing a subarray once make it sorted, \n",
    "    print “Yes”, \n",
    "else \n",
    "    print “No”.\n",
    "*/"
   ]
  },
  {
   "cell_type": "code",
   "execution_count": 29,
   "metadata": {},
   "outputs": [],
   "source": [
    "/*\n",
    "Examples:\n",
    "\n",
    "Input : arr [] = {1, 2, 5, 4, 3}\n",
    "Output : Yes\n",
    "By reversing the subarray {5, 4, 3}, \n",
    "the array will be sorted.\n",
    "\n",
    "Input : arr [] = { 1, 2, 4, 5, 3 }\n",
    "Output : No\n",
    "*/"
   ]
  },
  {
   "cell_type": "code",
   "execution_count": 30,
   "metadata": {},
   "outputs": [],
   "source": [
    "/*\n",
    "Method 1 (Simple : O(n2)\n",
    "A simple solution is to consider every subarray one by one. \n",
    "Try reversing every subarray and check if reversing the subarray makes the whole array sorted. \n",
    "If yes, \n",
    "    return true. \n",
    "If reversing any subarray doesn’t make the array sorted, \n",
    "    then return false.\n",
    "*/"
   ]
  },
  {
   "cell_type": "code",
   "execution_count": 31,
   "metadata": {},
   "outputs": [],
   "source": [
    "/*\n",
    "Method 2 (Sorting : O(nlogn)):\n",
    "The idea is to compare the given array with the sorted array. \n",
    "Make a copy of the given array and sort it. \n",
    "Now, find the first index and last index which do not match with sorted array. \n",
    "If no such indices are found, \n",
    "    print “Yes”. \n",
    "Else \n",
    "    check if the elements between the indices are in decreasing order.\n",
    "*/"
   ]
  },
  {
   "cell_type": "code",
   "execution_count": 32,
   "metadata": {},
   "outputs": [],
   "source": [
    "// Return true, if reversing the subarray will  \n",
    "// sort the array, else return false.  \n",
    "static boolean checkReverse(int arr[], int n) { \n",
    "    // Copying the array.  \n",
    "    int temp[] = new int[n]; \n",
    "    for (int i = 0; i < n; i++) { \n",
    "        temp[i] = arr[i]; \n",
    "    } \n",
    "\n",
    "    // Sort the copied array.  \n",
    "    Arrays.sort(temp); \n",
    "\n",
    "    // Finding the first mismatch.  \n",
    "    int front; \n",
    "    for (front = 0; front < n; front++) { \n",
    "        if (temp[front] != arr[front]) { \n",
    "            break; \n",
    "        } \n",
    "    } \n",
    "\n",
    "    // Finding the last mismatch.  \n",
    "    int back; \n",
    "    for (back = n - 1; back >= 0; back--) { \n",
    "        if (temp[back] != arr[back]) { \n",
    "            break; \n",
    "        } \n",
    "    } \n",
    "\n",
    "    // If whole array is sorted  \n",
    "    if (front >= back) { \n",
    "        return true; \n",
    "    } \n",
    "\n",
    "    // Checking subarray is decreasing or not.  \n",
    "    do { \n",
    "        front++; \n",
    "        if (arr[front - 1] < arr[front]) { \n",
    "            return false; \n",
    "        } \n",
    "    } while (front != back); \n",
    "\n",
    "    return true; \n",
    "} "
   ]
  },
  {
   "cell_type": "code",
   "execution_count": 33,
   "metadata": {},
   "outputs": [
    {
     "name": "stdout",
     "output_type": "stream",
     "text": [
      "Yes"
     ]
    }
   ],
   "source": [
    "// Driven Program  \n",
    "public static void main(String[] args) { \n",
    "\n",
    "    int arr[] = {1, 2, 5, 4, 3}; \n",
    "    int n = arr.length; \n",
    "\n",
    "    if (checkReverse(arr, n)) { \n",
    "        System.out.print(\"Yes\"); \n",
    "    } else { \n",
    "        System.out.print(\"No\"); \n",
    "    } \n",
    "} \n",
    "main(args);"
   ]
  },
  {
   "cell_type": "code",
   "execution_count": 34,
   "metadata": {},
   "outputs": [],
   "source": [
    "/*\n",
    "Method 3 (Linear : O(n)):\n",
    "Observe, answer will be “Yes” when the array is sorted or when the array consist of three parts. \n",
    "    1. First part is increasing subarray, then decreasing subarray and then again increasing subarray. \n",
    "        So, we need to check that array contain increasing elements then some decreasing elements and then increasing elements. \n",
    "    2. In all other case, answer will be “No”.\n",
    "*/"
   ]
  },
  {
   "cell_type": "code",
   "execution_count": 35,
   "metadata": {},
   "outputs": [],
   "source": [
    "// Return true, if reversing the subarray will sort t  \n",
    "// he array, else return false.  \n",
    "static boolean checkReverse(int arr[], int n) { \n",
    "    if (n == 1) { \n",
    "        return true; \n",
    "    } \n",
    "\n",
    "    // Find first increasing part  \n",
    "    int i; \n",
    "    for (i = 1; arr[i - 1] < arr[i] && i < n; i++); \n",
    "    if (i == n) { \n",
    "        return true; \n",
    "    } \n",
    "\n",
    "    // Find reversed part  \n",
    "    int j = i++; \n",
    "    while (arr[j] < arr[j - 1]) { \n",
    "        if (i > 1 && arr[j] < arr[i - 2]) { \n",
    "            return false; \n",
    "        } \n",
    "        j++; \n",
    "    } \n",
    "\n",
    "    if (j == n) { \n",
    "        return true; \n",
    "    } \n",
    "\n",
    "    // Find last increasing part  \n",
    "    int k = j; \n",
    "\n",
    "    // To handle cases like {1,2,3,4,20,9,16,17}  \n",
    "    if (arr[k] < arr[i - 1]) { \n",
    "        return false; \n",
    "    } \n",
    "\n",
    "    while (k > 1 && k < n) { \n",
    "        if (arr[k] < arr[k - 1]) { \n",
    "            return false; \n",
    "        } \n",
    "        k++; \n",
    "    } \n",
    "    return true; \n",
    "}"
   ]
  },
  {
   "cell_type": "code",
   "execution_count": 36,
   "metadata": {},
   "outputs": [
    {
     "name": "stdout",
     "output_type": "stream",
     "text": [
      "No"
     ]
    }
   ],
   "source": [
    "// Driven Program  \n",
    "public static void main(String[] args) { \n",
    "\n",
    "    int arr[] = {1, 3, 4, 10, 9, 8}; \n",
    "    int n = arr.length; \n",
    "\n",
    "    if (checkReverse(arr, n)) { \n",
    "        System.out.print(\"Yes\"); \n",
    "    } else { \n",
    "        System.out.print(\"No\"); \n",
    "    } \n",
    "} \n",
    "main(args);"
   ]
  },
  {
   "cell_type": "markdown",
   "metadata": {},
   "source": [
    "## **66. Print all subarrays with 0 sum**\n",
    "https://www.geeksforgeeks.org/print-all-subarrays-with-0-sum/"
   ]
  },
  {
   "cell_type": "code",
   "execution_count": 37,
   "metadata": {},
   "outputs": [],
   "source": [
    "/*\n",
    "Given an array, print all subarrays in the array which has sum 0.\n",
    "*/"
   ]
  },
  {
   "cell_type": "code",
   "execution_count": 38,
   "metadata": {},
   "outputs": [],
   "source": [
    "/*\n",
    "Examples:\n",
    "\n",
    "Input:  arr = [6, 3, -1, -3, 4, -2, 2, 4, 6, -12, -7]\n",
    "Output:  \n",
    "Subarray found from Index 2 to 4\n",
    "Subarray found from Index 2 to 6          \n",
    "Subarray found from Index 5 to 6\n",
    "Subarray found from Index 6 to 9\n",
    "Subarray found from Index 0 to 10\n",
    "*/"
   ]
  },
  {
   "cell_type": "code",
   "execution_count": 39,
   "metadata": {},
   "outputs": [],
   "source": [
    "/*\n",
    "A simple solution is to consider all subarrays one by one and check if sum of every subarray is equal to 0 or not. \n",
    "The complexity of this solution would be O(n^2).\n",
    "*/"
   ]
  },
  {
   "cell_type": "code",
   "execution_count": 40,
   "metadata": {},
   "outputs": [],
   "source": [
    "/*\n",
    "A better approach is to use Hashing.\n",
    "\n",
    "Do following for each element in the array\n",
    "\n",
    "    1. Maintain sum of elements encountered so far in a variable (say sum).\n",
    "    2. If current sum is 0, we found a subarray starting from index 0 and ending at index current index/\n",
    "    3. Check if current sum exists in the hash table or not.\n",
    "    4. If current sum already exists in the hash table \n",
    "       then it indicates that this sum was the sum of some sub-array elements arr[0]…arr[i] \n",
    "       and now the same sum is obtained for the current sub-array arr[0]…arr[j] \n",
    "       which means that the sum of the sub-array arr[i+1]…arr[j] must be 0.\n",
    "    5. Insert current sum into the hash table\n",
    "Below is a dry run of the above approach:\n",
    "*/"
   ]
  },
  {
   "cell_type": "markdown",
   "metadata": {},
   "source": [
    "<img src = \"https://media.geeksforgeeks.org/wp-content/cdn-uploads/20190703111645/ZeroSumSubarrays.png\"/>"
   ]
  },
  {
   "cell_type": "code",
   "execution_count": 41,
   "metadata": {},
   "outputs": [],
   "source": [
    "// User defined pair class \n",
    "class Pair  \n",
    "{ \n",
    "    int first, second; \n",
    "    Pair(int a, int b)  \n",
    "    { \n",
    "        first = a; \n",
    "        second = b; \n",
    "    } \n",
    "} "
   ]
  },
  {
   "cell_type": "code",
   "execution_count": 42,
   "metadata": {},
   "outputs": [],
   "source": [
    "// Function to print all subarrays in the array which  \n",
    "// has sum 0 \n",
    "static ArrayList<Pair> findSubArrays(int[] arr, int n) \n",
    "{ \n",
    "        // create an empty map  \n",
    "        HashMap<Integer,ArrayList<Integer>> map = new HashMap<>(); \n",
    "\n",
    "        // create an empty vector of pairs to store  \n",
    "        // subarray starting and ending index  \n",
    "        ArrayList<Pair> out = new ArrayList<>(); \n",
    "\n",
    "        // Maintains sum of elements so far \n",
    "        int sum = 0; \n",
    "\n",
    "        for (int i = 0; i < n; i++)  \n",
    "        { \n",
    "            // add current element to sum  \n",
    "            sum += arr[i]; \n",
    "\n",
    "            // if sum is 0, we found a subarray starting  \n",
    "            // from index 0 and ending at index i  \n",
    "            if (sum == 0) \n",
    "                out.add(new Pair(0, i)); \n",
    "            ArrayList<Integer> al = new ArrayList<>(); \n",
    "\n",
    "            // If sum already exists in the map there exists  \n",
    "            // at-least one subarray ending at index i with  \n",
    "            // 0 sum  \n",
    "            if (map.containsKey(sum)) \n",
    "            { \n",
    "                // map[sum] stores starting index of all subarrays \n",
    "                al = map.get(sum); \n",
    "                for (int it = 0; it < al.size(); it++) \n",
    "                { \n",
    "                        out.add(new Pair(al.get(it) + 1, i));  \n",
    "                } \n",
    "            } \n",
    "            al.add(i); \n",
    "            map.put(sum, al); \n",
    "        } \n",
    "        return out; \n",
    "}  "
   ]
  },
  {
   "cell_type": "code",
   "execution_count": 43,
   "metadata": {},
   "outputs": [],
   "source": [
    "// Utility function to print all subarrays with sum 0 \n",
    "static void print(ArrayList<Pair> out) \n",
    "{ \n",
    "        for (int i = 0; i < out.size(); i++) \n",
    "        { \n",
    "            Pair p = out.get(i); \n",
    "            System.out.println(\"Subarray found from Index \"\n",
    "                    + p.first + \" to \" + p.second);  \n",
    "        } \n",
    "} "
   ]
  },
  {
   "cell_type": "code",
   "execution_count": 44,
   "metadata": {},
   "outputs": [
    {
     "name": "stdout",
     "output_type": "stream",
     "text": [
      "Subarray found from Index 2 to 4\n",
      "Subarray found from Index 2 to 6\n",
      "Subarray found from Index 5 to 6\n",
      "Subarray found from Index 6 to 9\n",
      "Subarray found from Index 0 to 10\n"
     ]
    }
   ],
   "source": [
    "// Driver code \n",
    "public static void main(String args[]) \n",
    "{ \n",
    "        int[] arr = {6, 3, -1, -3, 4, -2, 2, 4, 6, -12, -7}; \n",
    "        int n = arr.length; \n",
    "\n",
    "        ArrayList<Pair> out = findSubArrays(arr, n); \n",
    "\n",
    "        // if we did not find any subarray with 0 sum,  \n",
    "        // then subarray does not exists  \n",
    "        if (out.size() == 0) \n",
    "            System.out.println(\"No subarray exists\"); \n",
    "        else\n",
    "            print(out); \n",
    "} \n",
    "main(args);"
   ]
  },
  {
   "cell_type": "markdown",
   "metadata": {},
   "source": [
    "## **67. Sort a nearly sorted (or K sorted) array**\n",
    "https://www.geeksforgeeks.org/nearly-sorted-algorithm/"
   ]
  },
  {
   "cell_type": "code",
   "execution_count": 45,
   "metadata": {},
   "outputs": [],
   "source": [
    "/*\n",
    "Given an array of n elements, \n",
    "where each element is at most k away from its target position, \n",
    "devise an algorithm that sorts in O(n log k) time. \n",
    "For example, \n",
    "    let us consider k is 2, an element at index 7 in the sorted array, \n",
    "    can be at indexes 5, 6, 7, 8, 9 in the given array.\n",
    "*/"
   ]
  },
  {
   "cell_type": "code",
   "execution_count": 46,
   "metadata": {},
   "outputs": [],
   "source": [
    "/*\n",
    "Examples:\n",
    "\n",
    "Input : arr[] = {6, 5, 3, 2, 8, 10, 9}\n",
    "            k = 3 \n",
    "Output : arr[] = {2, 3, 5, 6, 8, 9, 10}\n",
    "\n",
    "Input : arr[] = {10, 9, 8, 7, 4, 70, 60, 50}\n",
    "         k = 4\n",
    "Output : arr[] = {4, 7, 8, 9, 10, 50, 60, 70}\n",
    "*/"
   ]
  },
  {
   "cell_type": "code",
   "execution_count": 47,
   "metadata": {},
   "outputs": [],
   "source": [
    "/*\n",
    "We can use Insertion Sort to sort the elements efficiently.\n",
    "\n",
    "The inner loop will run at most k times. \n",
    "To move every element to its correct place, at most k elements need to be moved. \n",
    "So overall complexity will be O(nk)\n",
    "*/"
   ]
  },
  {
   "cell_type": "code",
   "execution_count": 48,
   "metadata": {},
   "outputs": [],
   "source": [
    "/* Function to sort an array using insertion sort*/\n",
    "static void insertionSort(int A[], int size){  \n",
    "    int i, key, j;  \n",
    "    for (i = 1; i < size; i++)  \n",
    "    {  \n",
    "        key = A[i];  \n",
    "        j = i-1;  \n",
    "  \n",
    "        /* Move elements of A[0..i-1], that are greater than key, to one  \n",
    "            position ahead of their current position.  \n",
    "            This loop will run at most k times */\n",
    "        while (j >= 0 && A[j] > key)  \n",
    "        {  \n",
    "            A[j+1] = A[j];  \n",
    "            j = j-1;  \n",
    "        }  \n",
    "        A[j+1] = key;  \n",
    "    }  \n",
    "}  "
   ]
  },
  {
   "cell_type": "code",
   "execution_count": 49,
   "metadata": {},
   "outputs": [],
   "source": [
    "/*\n",
    "We can sort such arrays more efficiently with the help of Heap data structure. \n",
    "Following is the detailed process that uses Heap.\n",
    "    1) Create a Min Heap of size k+1 with first k+1 elements. \n",
    "       This will take O(k) time (See this GFact)\n",
    "    2) One by one remove min element from heap, put it in result array, \n",
    "    and add a new element to heap from remaining elements.\n",
    "\n",
    "Removing an element and adding a new element to min heap will take Logk time. \n",
    "So overall complexity will be O(k) + O((n-k)*logK)\n",
    "*/"
   ]
  },
  {
   "cell_type": "code",
   "execution_count": 50,
   "metadata": {},
   "outputs": [],
   "source": [
    "private static void kSort(int[] arr, int n, int k)  \n",
    "{ \n",
    "\n",
    "    // min heap \n",
    "    PriorityQueue<Integer> priorityQueue = new PriorityQueue<>(); \n",
    "\n",
    "    // add first k + 1 items to the min heap \n",
    "    for(int i = 0; i < k + 1; i++) \n",
    "    { \n",
    "        priorityQueue.add(arr[i]); \n",
    "    } \n",
    "\n",
    "    int index = 0; \n",
    "    for(int i = k + 1; i < n; i++)  \n",
    "    { \n",
    "        arr[index++] = priorityQueue.peek(); \n",
    "        priorityQueue.poll(); \n",
    "        priorityQueue.add(arr[i]); \n",
    "    } \n",
    "\n",
    "    Iterator<Integer> itr = priorityQueue.iterator(); \n",
    "\n",
    "    while(itr.hasNext())  \n",
    "    { \n",
    "        arr[index++] = priorityQueue.peek(); \n",
    "        priorityQueue.poll(); \n",
    "    } \n",
    "\n",
    "} "
   ]
  },
  {
   "cell_type": "code",
   "execution_count": 51,
   "metadata": {},
   "outputs": [
    {
     "name": "stdout",
     "output_type": "stream",
     "text": [
      "Following is sorted array\n",
      "2 3 6 8 12 56 "
     ]
    }
   ],
   "source": [
    "// A utility function to print the array \n",
    "private static void printArray(int[] arr, int n)  \n",
    "{ \n",
    "    for(int i = 0; i < n; i++) \n",
    "        System.out.print(arr[i] + \" \"); \n",
    "} \n",
    "// Driver Code \n",
    "public static void main(String[] args)  \n",
    "{ \n",
    "    int k = 3; \n",
    "    int arr[] = { 2, 6, 3, 12, 56, 8 }; \n",
    "    int n = arr.length; \n",
    "    kSort(arr, n, k); \n",
    "    System.out.println(\"Following is sorted array\"); \n",
    "    printArray(arr, n); \n",
    "} \n",
    "main(args)"
   ]
  },
  {
   "cell_type": "code",
   "execution_count": 52,
   "metadata": {},
   "outputs": [],
   "source": [
    "/*\n",
    "The Min Heap based method takes O(nLogk) time and uses O(k) auxiliary space.\n",
    "\n",
    "We can also use a Balanced Binary Search Tree instead of Heap to store K+1 elements. \n",
    "The insert and delete operations on Balanced BST also take O(Logk) time. \n",
    "So Balanced BST based method will also take O(nLogk) time, \n",
    "but the Heap bassed method seems to be more efficient as the minimum element will always be at root. \n",
    "Also, Heap doesn’t need extra space for left and right pointers.\n",
    "*/"
   ]
  },
  {
   "cell_type": "markdown",
   "metadata": {},
   "source": [
    "## **68. A Product Array Puzzle**\n",
    "https://www.geeksforgeeks.org/a-product-array-puzzle/"
   ]
  },
  {
   "cell_type": "code",
   "execution_count": 53,
   "metadata": {},
   "outputs": [],
   "source": [
    "/*\n",
    "Given an array arr[] of n integers, \n",
    "construct a Product Array prod[] (of same size) such that prod[i] is equal to the product of all the elements of arr[] except arr[i]. \n",
    "Solve it without division operator and in O(n).\n",
    "*/"
   ]
  },
  {
   "cell_type": "code",
   "execution_count": 54,
   "metadata": {},
   "outputs": [],
   "source": [
    "/*\n",
    "Example :\n",
    "arr[] = {10, 3, 5, 6, 2}\n",
    "prod[] = {180, 600, 360, 300, 900}\n",
    "*/"
   ]
  },
  {
   "cell_type": "code",
   "execution_count": 55,
   "metadata": {},
   "outputs": [],
   "source": [
    "/*\n",
    "Time Complexity: O(n)\n",
    "Space Complexity: O(n)\n",
    "Auxiliary Space: O(n)\n",
    "\n",
    "Algorithm:\n",
    "    1) Construct a temporary array left[] such that left[i] contains product of all elements on left of arr[i] excluding arr[i].\n",
    "    2) Construct another temporary array right[] such that right[i] contains product of all elements on on right of arr[i] excluding arr[i].\n",
    "    3) To get prod[], multiply left[] and right[].\n",
    "*/"
   ]
  },
  {
   "cell_type": "code",
   "execution_count": 56,
   "metadata": {},
   "outputs": [
    {
     "name": "stdout",
     "output_type": "stream",
     "text": [
      "The product array is : \n",
      "180 600 360 300 900 "
     ]
    }
   ],
   "source": [
    "/* Function to print product array for a given array  \n",
    "arr[] of size n */\n",
    "void productArray(int arr[], int n) \n",
    "{ \n",
    "\n",
    "    // Base case \n",
    "    if (n == 1) { \n",
    "        System.out.print(0); \n",
    "        return; \n",
    "    } \n",
    "    // Initialize memory to all arrays \n",
    "    int left[] = new int[n]; \n",
    "    int right[] = new int[n]; \n",
    "    int prod[] = new int[n]; \n",
    "\n",
    "    int i, j; \n",
    "\n",
    "    /* Left most element of left array is always 1 */\n",
    "    left[0] = 1; \n",
    "\n",
    "    /* Rightmost most element of right array is always 1 */\n",
    "    right[n - 1] = 1; \n",
    "\n",
    "    /* Construct the left array */\n",
    "    for (i = 1; i < n; i++) \n",
    "        left[i] = arr[i - 1] * left[i - 1]; \n",
    "\n",
    "    /* Construct the right array */\n",
    "    for (j = n - 2; j >= 0; j--) \n",
    "        right[j] = arr[j + 1] * right[j + 1]; \n",
    "\n",
    "    /* Construct the product array using  \n",
    "    left[] and right[] */\n",
    "    for (i = 0; i < n; i++) \n",
    "        prod[i] = left[i] * right[i]; \n",
    "\n",
    "    /* print the constructed prod array */\n",
    "    for (i = 0; i < n; i++) \n",
    "        System.out.print(prod[i] + \" \"); \n",
    "\n",
    "    return; \n",
    "} \n",
    "\n",
    "/* Driver program to test the aboe function */\n",
    "public static void main(String[] args) \n",
    "{  \n",
    "    int arr[] = { 10, 3, 5, 6, 2 }; \n",
    "    int n = arr.length; \n",
    "    System.out.println(\"The product array is : \"); \n",
    "    productArray(arr, n); \n",
    "} \n",
    "main(args);"
   ]
  },
  {
   "cell_type": "code",
   "execution_count": 57,
   "metadata": {},
   "outputs": [],
   "source": [
    "/*\n",
    "The above method can be optimized to work in space complexity O(1).\n",
    "\n",
    "Time Complexity: O(n)\n",
    "Space Complexity: O(n)\n",
    "Auxiliary Space: O(1)\n",
    "*/"
   ]
  },
  {
   "cell_type": "code",
   "execution_count": 58,
   "metadata": {},
   "outputs": [
    {
     "name": "stdout",
     "output_type": "stream",
     "text": [
      "The product array is : \n",
      "180 600 360 300 900 "
     ]
    }
   ],
   "source": [
    "void productArray(int arr[], int n) \n",
    "{ \n",
    "\n",
    "    // Base case \n",
    "    if (n == 1) { \n",
    "        System.out.print(\"0\"); \n",
    "        return; \n",
    "    } \n",
    "\n",
    "    int i, temp = 1; \n",
    "\n",
    "    /* Allocate memory for the product array */\n",
    "    int prod[] = new int[n]; \n",
    "\n",
    "    /* Initialize the product array as 1 */\n",
    "    for (int j = 0; j < n; j++) \n",
    "        prod[j] = 1; \n",
    "\n",
    "    /* In this loop, temp variable contains product of \n",
    "       elements on left side excluding arr[i] */\n",
    "    for (i = 0; i < n; i++) { \n",
    "        prod[i] = temp; \n",
    "        temp *= arr[i]; \n",
    "    } \n",
    "\n",
    "    /* Initialize temp to 1 for product on right side */\n",
    "    temp = 1; \n",
    "\n",
    "    /* In this loop, temp variable contains product of \n",
    "       elements on right side excluding arr[i] */\n",
    "    for (i = n - 1; i >= 0; i--) { \n",
    "        prod[i] *= temp; \n",
    "        temp *= arr[i]; \n",
    "    } \n",
    "\n",
    "    /* print the constructed prod array */\n",
    "    for (i = 0; i < n; i++) \n",
    "        System.out.print(prod[i] + \" \"); \n",
    "\n",
    "    return; \n",
    "} \n",
    "\n",
    "/* Driver program to test above functions */\n",
    "public static void main(String[] args) \n",
    "{ \n",
    "    int arr[] = { 10, 3, 5, 6, 2 }; \n",
    "    int n = arr.length; \n",
    "    System.out.println(\"The product array is : \"); \n",
    "    productArray(arr, n); \n",
    "} \n",
    "main(args);"
   ]
  },
  {
   "cell_type": "markdown",
   "metadata": {},
   "source": [
    "## **69. Find number of pairs (x, y) in an array such that x^y > y^x**\n",
    "https://www.geeksforgeeks.org/find-number-pairs-xy-yx/"
   ]
  },
  {
   "cell_type": "code",
   "execution_count": 59,
   "metadata": {},
   "outputs": [],
   "source": [
    "/*\n",
    "Given two arrays X[] and Y[] of positive integers, \n",
    "find number of pairs such that x^y > y^x \n",
    "where x is an element from X[] and y is an element from Y[].\n",
    "*/"
   ]
  },
  {
   "cell_type": "code",
   "execution_count": 60,
   "metadata": {},
   "outputs": [],
   "source": [
    "/*\n",
    "Examples:\n",
    "\n",
    "Input: X[] = {2, 1, 6}, Y = {1, 5}\n",
    "Output: 3\n",
    "Explanation: There are total 3 pairs where pow(x, y) is greater\n",
    "than pow(y, x) Pairs are (2, 1), (2, 5) and (6, 1)\n",
    "\n",
    "Input: X[] = {10, 19, 18}, Y[] = {11, 15, 9}\n",
    "Output: 2\n",
    "Explanation: There are total 2 pairs where pow(x, y) is greater\n",
    "than pow(y, x) Pairs are (10, 11) and (10, 15)\n",
    "*/"
   ]
  },
  {
   "cell_type": "code",
   "execution_count": 61,
   "metadata": {},
   "outputs": [],
   "source": [
    "/*\n",
    "The brute force solution is to consider each element of X[] and Y[], \n",
    "and check whether the given condition satisfies or not.\n",
    "\n",
    "Following is C++ code based on brute force solution.\n",
    "\n",
    "int countPairsBruteForce(int X[], int Y[], int m, int n) \n",
    "{ \n",
    "    int ans = 0; \n",
    "    for (int i = 0; i < m; i++) \n",
    "       for (int j = 0; j < n; j++) \n",
    "          if (pow(X[i], Y[j]) > pow(Y[j], X[i])) \n",
    "              ans++; \n",
    "    return ans; \n",
    "} \n",
    "\n",
    "Time Complexity: O(M*N) where M and N are sizes of given arrays.\n",
    "*/"
   ]
  },
  {
   "cell_type": "code",
   "execution_count": 62,
   "metadata": {},
   "outputs": [],
   "source": [
    "/*\n",
    "Efficient Solution:\n",
    "The problem can be solved in O(nLogn + mLogn) time. \n",
    "The trick here is, \n",
    "    if y > x then x^y > y^x with some exceptions.\n",
    "\n",
    "Following are simple steps based on this trick.\n",
    "*/"
   ]
  },
  {
   "cell_type": "code",
   "execution_count": 63,
   "metadata": {},
   "outputs": [],
   "source": [
    "/*\n",
    "Sort array Y[].\n",
    "For every x in X[], find the index idx of smallest number greater than x (also called ceil of x) in Y[] using binary search \n",
    "or we can use the inbuilt function upper_bound() in algorithm library.\n",
    "\n",
    "All the numbers after idx satisfy the relation so just add (n-idx) to the count.\n",
    "*/"
   ]
  },
  {
   "cell_type": "code",
   "execution_count": 64,
   "metadata": {},
   "outputs": [],
   "source": [
    "/*\n",
    "Base Cases and Exceptions:\n",
    "Following are exceptions for x from X[] and y from Y[]\n",
    "\n",
    "1. If x = 0, then the count of pairs for this x is 0.\n",
    "2. If x = 1, then the count of pairs for this x is equal to count of 0s in Y[].\n",
    "3. x smaller than y means x^y is greater than y^x.\n",
    "    i.  x = 2, y = 3 or 4\n",
    "    ii. x = 3, y = 2\n",
    "\n",
    "Note that the case where x = 4 and y = 2 is not there\n",
    "\n",
    "Following diagram shows all exceptions in tabular form. \n",
    "The value 1 indicates that the corresponding (x, y) form a valid pair.\n",
    "*/"
   ]
  },
  {
   "cell_type": "markdown",
   "metadata": {},
   "source": [
    "<img src = \"https://media.geeksforgeeks.org/wp-content/uploads/tableNumberOfPairs.png\"/>"
   ]
  },
  {
   "cell_type": "code",
   "execution_count": 65,
   "metadata": {},
   "outputs": [],
   "source": [
    "/*\n",
    "In the following implementation, we pre-process the Y array and count 0, 1, 2, 3 and 4 in it, so that we can handle all exceptions in constant time. \n",
    "The array NoOfY[] is used to store the counts.\n",
    "\n",
    "Time Complexity : \n",
    "    O(nLogn + mLogn), where m and n are the sizes of arrays X[] and Y[] respectively. \n",
    "    The sort step takes O(nLogn) time. \n",
    "    Then every element of X[] is searched in Y[] using binary search. \n",
    "    This step takes O(mLogn) time.\n",
    "*/"
   ]
  },
  {
   "cell_type": "code",
   "execution_count": 66,
   "metadata": {},
   "outputs": [],
   "source": [
    "// Function to return count of pairs with x as one element \n",
    "// of the pair. It mainly looks for all values in Y[] where \n",
    "// x ^ Y[i] > Y[i] ^ x \n",
    "static int count(int x, int Y[], int n, int NoOfY[]) \n",
    "{ \n",
    "    // If x is 0, then there cannot be any value in Y such that \n",
    "    // x^Y[i] > Y[i]^x \n",
    "    if (x == 0) return 0; \n",
    "\n",
    "    // If x is 1, then the number of pais is equal to number of \n",
    "    // zeroes in Y[] \n",
    "    if (x == 1) return NoOfY[0]; \n",
    "\n",
    "    // Find number of elements in Y[] with values greater than x \n",
    "    // getting upperbound of x with binary search \n",
    "    int idx = Arrays.binarySearch(Y, x); \n",
    "    int ans; \n",
    "    if(idx < 0){ \n",
    "        idx = Math.abs(idx+1); \n",
    "        ans = Y.length - idx; \n",
    "    } \n",
    "    else{ \n",
    "        while (idx<n && Y[idx]==x) { \n",
    "            idx++; \n",
    "        } \n",
    "        ans = Y.length - idx; \n",
    "    } \n",
    "\n",
    "    // If we have reached here, then x must be greater than 1, \n",
    "    // increase number of pairs for y=0 and y=1 \n",
    "    ans += (NoOfY[0] + NoOfY[1]); \n",
    "\n",
    "    // Decrease number of pairs for x=2 and (y=4 or y=3) \n",
    "    if (x == 2)  ans -= (NoOfY[3] + NoOfY[4]); \n",
    "\n",
    "    // Increase number of pairs for x=3 and y=2 \n",
    "    if (x == 3)  ans += NoOfY[2]; \n",
    "\n",
    "    return ans; \n",
    "} "
   ]
  },
  {
   "cell_type": "code",
   "execution_count": 67,
   "metadata": {},
   "outputs": [],
   "source": [
    "// Function to returns count of pairs (x, y) such that \n",
    "// x belongs to X[], y belongs to Y[] and x^y > y^x \n",
    "static int countPairs(int X[], int Y[], int m, int n) \n",
    "{ \n",
    "    // To store counts of 0, 1, 2, 3 and 4 in array Y \n",
    "    int NoOfY[] = new int[5]; \n",
    "    for (int i = 0; i < n; i++) \n",
    "        if (Y[i] < 5) \n",
    "            NoOfY[Y[i]]++; \n",
    "\n",
    "    // Sort Y[] so that we can do binary search in it \n",
    "    Arrays.sort(Y); \n",
    "\n",
    "    int total_pairs = 0; // Initialize result \n",
    "\n",
    "    // Take every element of X and count pairs with it \n",
    "    for (int i=0; i<m; i++) \n",
    "        total_pairs += count(X[i], Y, n, NoOfY); \n",
    "\n",
    "    return total_pairs; \n",
    "} "
   ]
  },
  {
   "cell_type": "code",
   "execution_count": 68,
   "metadata": {},
   "outputs": [
    {
     "name": "stdout",
     "output_type": "stream",
     "text": [
      "Total pairs = 3\n"
     ]
    }
   ],
   "source": [
    "// Driver method \n",
    "public static void main(String args[]) \n",
    "{ \n",
    "    int X[] = {2, 1, 6}; \n",
    "    int Y[] = {1, 5}; \n",
    "\n",
    "    System.out.println(\"Total pairs = \" + countPairs(X, Y, X.length, Y.length)); \n",
    "}\n",
    "main(args);"
   ]
  },
  {
   "cell_type": "markdown",
   "metadata": {},
   "source": [
    "***https://youtu.be/chYKJGPNEvg***"
   ]
  },
  {
   "cell_type": "markdown",
   "metadata": {},
   "source": [
    "## **70. Find duplicates in O(n) time and O(1) extra space | Set 1**\n",
    "https://www.geeksforgeeks.org/find-duplicates-in-on-time-and-constant-extra-space/"
   ]
  },
  {
   "cell_type": "code",
   "execution_count": 69,
   "metadata": {},
   "outputs": [],
   "source": [
    "/*\n",
    "Given an array of n elements which contains elements from 0 to n-1, \n",
    "with any of these numbers appearing any number of times. \n",
    "Find these repeating numbers in O(n) and using only constant memory space.\n",
    "For example, \n",
    "    let n be 7 and array be {1, 2, 3, 1, 3, 6, 6}, \n",
    "    the answer should be 1, 3 and 6.\n",
    "*/"
   ]
  },
  {
   "cell_type": "markdown",
   "metadata": {},
   "source": [
    "***Find the two repeating elements in a given array\n",
    "https://www.geeksforgeeks.org/find-the-two-repeating-elements-in-a-given-array/***\n"
   ]
  },
  {
   "cell_type": "code",
   "execution_count": 70,
   "metadata": {},
   "outputs": [],
   "source": [
    "/*\n",
    "Method 5 (Use array elements as index)\n",
    "\n",
    "Traverse the array. Do following for every index i of A[].\n",
    "{\n",
    "check for sign of A[abs(A[i])] ;\n",
    "if positive then\n",
    "   make it negative by   A[abs(A[i])]=-A[abs(A[i])];\n",
    "else  // i.e., A[abs(A[i])] is negative\n",
    "   this   element (ith element of list) is a repetition\n",
    "}\n",
    "*/"
   ]
  },
  {
   "cell_type": "code",
   "execution_count": 71,
   "metadata": {},
   "outputs": [],
   "source": [
    "/*\n",
    "Method 1 and Method 2 of the above link are not applicable as the question says O(n) time complexity and O(1) constant space. \n",
    "Also, \n",
    "Method 3 and Method 4 cannot be applied here because there can be more than 2 repeating elements in this problem. \n",
    "Method 5 can be extended to work for this problem. Below is the solution that is similar to Method 5.\n",
    "*/"
   ]
  },
  {
   "cell_type": "code",
   "execution_count": 72,
   "metadata": {},
   "outputs": [],
   "source": [
    "/*\n",
    "Algorithm:\n",
    "\n",
    "traverse the list for i= 0 to n-1 elements\n",
    "{\n",
    "  check for sign of A[abs(A[i])] ;\n",
    "  if positive then\n",
    "     make it negative by   A[abs(A[i])]=-A[abs(A[i])];\n",
    "  else  // i.e., A[abs(A[i])] is negative\n",
    "     this   element (ith element of list) is a repetition\n",
    "}\n",
    "*/"
   ]
  },
  {
   "cell_type": "code",
   "execution_count": 73,
   "metadata": {},
   "outputs": [
    {
     "name": "stdout",
     "output_type": "stream",
     "text": [
      "The repeating elements are : \n",
      "1 3 6 "
     ]
    }
   ],
   "source": [
    "void printRepeating(int arr[], int size) \n",
    "{ \n",
    "    int i;   \n",
    "    System.out.println(\"The repeating elements are : \"); \n",
    "\n",
    "    for (i = 0; i < size; i++) \n",
    "    { \n",
    "        if (arr[ Math.abs(arr[i])] >= 0) \n",
    "            arr[ Math.abs(arr[i])] = -arr[ Math.abs(arr[i])]; \n",
    "        else\n",
    "            System.out.print(Math.abs(arr[i]) + \" \"); \n",
    "    }          \n",
    "}  \n",
    "\n",
    "// Driver program  \n",
    "public static void main(String[] args)  \n",
    "{ \n",
    "    int arr[] = {1, 2, 3, 1, 3, 6, 6}; \n",
    "    int arr_size = arr.length; \n",
    "\n",
    "    printRepeating(arr, arr_size); \n",
    "} \n",
    "main(args);"
   ]
  },
  {
   "cell_type": "code",
   "execution_count": 74,
   "metadata": {},
   "outputs": [],
   "source": [
    "/*\n",
    "Note: The above program doesn’t handle 0 case (If 0 is present in array). \n",
    "The program can be easily modified to handle that also. It is not handled to keep the code simple.\n",
    "\n",
    "Time Complexity: O(n)\n",
    "Auxiliary Space: O(1)\n",
    "*/"
   ]
  },
  {
   "cell_type": "code",
   "execution_count": 75,
   "metadata": {},
   "outputs": [
    {
     "name": "stdout",
     "output_type": "stream",
     "text": [
      "The repeating elements are : \n",
      "2 \n",
      "3 \n"
     ]
    }
   ],
   "source": [
    "public static void main(String args[]) { \n",
    "    int numRay[] = {0, 4, 3, 2, 7, 8, 2, 3, 1}; \n",
    "\n",
    "    for (int i = 0; i < numRay.length; i++) { \n",
    "        numRay[numRay[i] % 10] = numRay[numRay[i] % 10] + 10; \n",
    "    } \n",
    "    System.out.println(\"The repeating elements are : \"); \n",
    "    for (int i = 0; i < numRay.length; i++) { \n",
    "        if (numRay[i] > 19) { \n",
    "            System.out.println(i + \" \"); \n",
    "        } \n",
    "    } \n",
    "} \n",
    "main(args);"
   ]
  },
  {
   "cell_type": "markdown",
   "metadata": {},
   "source": [
    "## **71. Insert in sorted and non-overlapping interval array**\n",
    "https://www.geeksforgeeks.org/insert-in-sorted-and-non-overlapping-interval-array/"
   ]
  },
  {
   "cell_type": "code",
   "execution_count": 76,
   "metadata": {},
   "outputs": [],
   "source": [
    "/*\n",
    "Given a set of non-overlapping intervals and a new interval, \n",
    "insert the interval at correct position. \n",
    "If the insertion results in overlapping intervals, then merge the overlapping intervals. \n",
    "Assume that the set of non-overlapping intervals is sorted on the basis of start time, to find correct position of insertion.\n",
    "*/"
   ]
  },
  {
   "cell_type": "markdown",
   "metadata": {},
   "source": [
    "<span class=\"mark\">**Prerequisite** : ***Merge Overlapping Intervals https://www.geeksforgeeks.org/merging-intervals/***</span>"
   ]
  },
  {
   "cell_type": "code",
   "execution_count": 77,
   "metadata": {},
   "outputs": [],
   "source": [
    "/*\n",
    "Examples :\n",
    "\n",
    "Input : Set : [1, 3], [6, 9]\n",
    "        New Interval : [2, 5] \n",
    "Output : [1, 5], [6, 9]\n",
    "The correct position to insert new interval \n",
    "[2, 5] is between the two given intervals. \n",
    "The resulting set would have been \n",
    "[1, 3], [2, 5], [6, 9], but the intervals \n",
    "[1, 3], [2, 5] are overlapping. So, they are \n",
    "merged together in one interval [1, 5]. \n",
    "\n",
    "Input : Set : [1, 2], [3, 5], [6, 7], [8, 10], [12, 16]\n",
    "        New Interval : [4, 9]\n",
    "Output : [1, 2], [3, 10], [12, 16]\n",
    "First the interval is inserted between intervals \n",
    "[3, 5] and [6, 7]. Then overlapping intervals are \n",
    "merged together in one interval.\n",
    "*/"
   ]
  },
  {
   "cell_type": "code",
   "execution_count": 78,
   "metadata": {},
   "outputs": [],
   "source": [
    "/*\n",
    "Approach :\n",
    "Let the new interval to be inserted is : [a, b]\n",
    "\n",
    "Case 1 : b < (starting time of first interval in set)\n",
    "In this case simply insert new interval at the beginning of the set.\n",
    "\n",
    "Case 2 : (ending value of last interval in set) < a\n",
    "In this case simply insert new interval at the end of the set.\n",
    "\n",
    "Case 3 : a ≤ (starting value of first interval) and b ≥ (ending value of last interval)\n",
    "In this case the new interval overlaps with all the intervals, i.e., it contains all the intervals. So the final answer is the new interval itself.\n",
    "\n",
    "Case 4 : The new interval does not overlap with any interval in the set and falls between any two intervals in the set\n",
    "In this case simply insert the interval in the correct position in the set. A sample test case for this is :\n",
    "\n",
    "Input : Set : [1, 2], [6, 9]\n",
    "        New interval : [3, 5]\n",
    "Output : [1, 2], [3, 5], [6, 9]\n",
    "\n",
    "Case 5 : The new interval overlaps with the interval(s) of the set.\n",
    "In this case simply merge the new interval with overlapping intervals. \n",
    "\n",
    "To have a better understanding of how to merge overlapping intervals, refer this post : Prerequisite \n",
    "\n",
    "Example 2 of sample test cases above cover this case.\n",
    "\n",
    "Time Complexity : O(n)\n",
    "Auxiliary Space : O(n)\n",
    "*/"
   ]
  },
  {
   "cell_type": "markdown",
   "metadata": {},
   "source": [
    "***https://ideone.com/5EIvXM***"
   ]
  },
  {
   "cell_type": "markdown",
   "metadata": {},
   "source": [
    "***https://www.youtube.com/watch?v=I_ZC4HRG9tI***"
   ]
  },
  {
   "cell_type": "code",
   "execution_count": 79,
   "metadata": {},
   "outputs": [],
   "source": [
    "class Solution {\n",
    "    \n",
    "    private int[] merge(int[] current, int[] newInterval) {\n",
    "        if (newInterval == null) return null;\n",
    "        boolean conflict = (current[0] <= newInterval[0] && newInterval[0] <= current[1]);\n",
    "        conflict = conflict || (current[0] <= newInterval[1] && newInterval[1] <= current[1]);\n",
    "        conflict = conflict || (newInterval[0] <= current[0] && current[0] <= newInterval[1]);\n",
    "        \n",
    "        if (!conflict) {\n",
    "            return null;\n",
    "        }\n",
    "        \n",
    "        return new int[] { Math.min(current[0], newInterval[0]), Math.max(current[1], newInterval[1]) };\n",
    "    }\n",
    "\n",
    "    \n",
    "    public int[][] insert(int[][] intervals, int[] newInterval) {\n",
    "        int[][] final_intervals = new int[intervals.length+1][];\n",
    "        int i = 0;\n",
    "        for (int[] current : intervals) {\n",
    "            int[] merged = merge(current, newInterval);\n",
    "            if (merged == null) {\n",
    "                if (newInterval != null && newInterval[0] < current[0]) {\n",
    "                    final_intervals[i++] = newInterval;\n",
    "                    newInterval = null;\n",
    "                }\n",
    "                final_intervals[i++] = current;\n",
    "            }\n",
    "            else {\n",
    "                newInterval = merged;\n",
    "            }\n",
    "        }\n",
    "        \n",
    "        if (newInterval != null) {\n",
    "            final_intervals[i++] = newInterval;\n",
    "        }\n",
    "        \n",
    "        return Arrays.copyOf(final_intervals, i);\n",
    "    }\n",
    "}"
   ]
  },
  {
   "cell_type": "code",
   "execution_count": 80,
   "metadata": {},
   "outputs": [],
   "source": [
    "/*\n",
    "Above Solution has Complexity  \n",
    "Time Complexity : O(2n)\n",
    "Auxiliary Space : O(2n)\n",
    "\n",
    "Additional Links Are given below\n",
    "*/"
   ]
  },
  {
   "cell_type": "markdown",
   "metadata": {},
   "source": [
    "***https://leetcode.com/problems/insert-interval/***"
   ]
  },
  {
   "cell_type": "markdown",
   "metadata": {},
   "source": [
    "## **72. Sort an array according to count of set bits**\n",
    "https://www.geeksforgeeks.org/sort-array-according-count-set-bits/"
   ]
  },
  {
   "cell_type": "code",
   "execution_count": 81,
   "metadata": {},
   "outputs": [],
   "source": [
    "/*\n",
    "Given an array of positive integers, \n",
    "sort the array in decreasing order of count of set bits in binary representations of array elements.\n",
    "For integers having same number of set bits in their binary representation, \n",
    "sort according to their position in the original array i.e., a stable sort. \n",
    "For example, \n",
    "    if input array is {3, 5}, \n",
    "    then output array should also be {3, 5}. \n",
    "    \n",
    "    Note that both 3 and 5 have same number set bits.\n",
    "*/"
   ]
  },
  {
   "cell_type": "code",
   "execution_count": null,
   "metadata": {},
   "outputs": [],
   "source": []
  },
  {
   "cell_type": "code",
   "execution_count": 82,
   "metadata": {},
   "outputs": [],
   "source": [
    "/*\n",
    "Examples:\n",
    "\n",
    "Input: arr[] = {5, 2, 3, 9, 4, 6, 7, 15, 32};\n",
    "Output: 15 7 5 3 9 6 2 4 32\n",
    "Explanation:\n",
    "The integers in their binary representation are:\n",
    "15 -1111\n",
    "7  -0111\n",
    "5  -0101\n",
    "3  -0011\n",
    "9  -1001\n",
    "6  -0110\n",
    "2  -0010\n",
    "4- -0100\n",
    "32 -10000\n",
    "hence the non-increasing sorted order is:\n",
    "{15}, {7}, {5, 3, 9, 6}, {2, 4, 32}\n",
    "\n",
    "Input: arr[] = {1, 2, 3, 4, 5, 6};\n",
    "Output: 3 5 6 1 2 4\n",
    "Explanation:\n",
    "3  - 0011\n",
    "5  - 0101\n",
    "6  - 0110\n",
    "1  - 0001\n",
    "2  - 0010\n",
    "4  - 0100\n",
    "hence the non-increasing sorted order is\n",
    "{3, 5, 6}, {1, 2, 4}\n",
    "*/"
   ]
  },
  {
   "cell_type": "code",
   "execution_count": 83,
   "metadata": {},
   "outputs": [],
   "source": [
    "/*\n",
    "Method 1: Simple\n",
    "Create an auxiliary array and store the set-bit counts of all integers in the aux array\n",
    "Simultaneously sort both arrays according to the non-increasing order of auxiliary array. \n",
    "(Note that we need to use a stable sort algorithm)\n",
    "\n",
    "Auxiliary Space: O(n)\n",
    "Time complexity: O(n^2)\n",
    "*/"
   ]
  },
  {
   "cell_type": "code",
   "execution_count": 84,
   "metadata": {},
   "outputs": [],
   "source": [
    "/*\n",
    "Before sort:\n",
    "int arr[] = {1, 2, 3, 4, 5, 6};\n",
    "int aux[] = {1, 1, 2, 1, 2, 2}\n",
    "\n",
    "After sort:\n",
    "arr = {3, 5, 6, 1, 2, 4}\n",
    "aux = {2, 2, 2, 1, 1, 1}\n",
    "*/"
   ]
  },
  {
   "cell_type": "code",
   "execution_count": 85,
   "metadata": {},
   "outputs": [
    {
     "name": "stdout",
     "output_type": "stream",
     "text": [
      "3 5 6 1 2 4 "
     ]
    }
   ],
   "source": [
    "// a utility function that  \n",
    "// returns total set bits \n",
    "// count in an integer \n",
    "static int countBits(int a) \n",
    "{ \n",
    "    int count = 0; \n",
    "    while (a > 0) \n",
    "    { \n",
    "        if ((a & 1) > 0) \n",
    "            count+= 1; \n",
    "        a = a >> 1; \n",
    "    } \n",
    "    return count; \n",
    "} \n",
    "  \n",
    "// Function to simultaneously  \n",
    "// sort both arrays using  \n",
    "// insertion sort  \n",
    "// (http://quiz.geeksforgeeks.org/insertion-sort/ ) \n",
    "static void insertionSort(int arr[], \n",
    "                          int aux[], int n) \n",
    "{ \n",
    "    for (int i = 1; i < n; i++) \n",
    "    { \n",
    "        // use 2 keys because we  \n",
    "        // need to sort both \n",
    "        // arrays simultaneously \n",
    "        int key1 = aux[i]; \n",
    "        int key2 = arr[i]; \n",
    "        int j = i - 1; \n",
    "  \n",
    "        /* Move elements of arr[0..i-1]  \n",
    "        and aux[0..i-1], such that  \n",
    "        elements of aux[0..i-1] are \n",
    "        greater than key1, to one  \n",
    "        position ahead of their current \n",
    "        position */\n",
    "        while (j >= 0 && aux[j] < key1) \n",
    "        { \n",
    "            aux[j + 1] = aux[j]; \n",
    "            arr[j + 1] = arr[j]; \n",
    "            j = j - 1; \n",
    "        } \n",
    "        aux[j + 1] = key1; \n",
    "        arr[j + 1] = key2; \n",
    "    } \n",
    "} \n",
    "  \n",
    "// Function to sort according \n",
    "// to bit count using an  \n",
    "// auxiliary array \n",
    "static void sortBySetBitCount(int arr[], \n",
    "                              int n) \n",
    "{ \n",
    "    // Create an array and  \n",
    "    // store count of \n",
    "    // set bits in it. \n",
    "    int aux[] = new int[n]; \n",
    "    for (int i = 0; i < n; i++) \n",
    "        aux[i] = countBits(arr[i]); \n",
    "  \n",
    "    // Sort arr[] according  \n",
    "    // to values in aux[] \n",
    "    insertionSort(arr, aux, n); \n",
    "} \n",
    "  \n",
    "// Utility function \n",
    "// to print an array \n",
    "static void printArr(int arr[], int n) \n",
    "{ \n",
    "    for (int i = 0; i < n; i++) \n",
    "        System.out.print(arr[i] + \" \"); \n",
    "} \n",
    "  \n",
    "// Driver Code \n",
    "public static void main (String[] args)  \n",
    "{ \n",
    "    int arr[] = {1, 2, 3, 4, 5, 6}; \n",
    "    int n = arr.length; \n",
    "    sortBySetBitCount(arr, n); \n",
    "    printArr(arr, n); \n",
    "} \n",
    "\n",
    "main(args);"
   ]
  },
  {
   "cell_type": "code",
   "execution_count": 86,
   "metadata": {},
   "outputs": [],
   "source": [
    "/*\n",
    "Note: Time complexity can be improved to O(nLogn) by using a stable O(nlogn) sorting algorithm.\n",
    "\n",
    "Auxiliary Space : O(1)\n",
    "Time complexity : O(n log n)\n",
    "\n",
    "\n",
    "*/"
   ]
  },
  {
   "cell_type": "code",
   "execution_count": 87,
   "metadata": {},
   "outputs": [
    {
     "name": "stdout",
     "output_type": "stream",
     "text": [
      "3 5 6 1 2 4 \n"
     ]
    }
   ],
   "source": [
    "// Java program to sort an array according to \n",
    "// count of set bits using std::sort() \n",
    "import java.util.Arrays; \n",
    "import java.util.Comparator; \n",
    "\n",
    "public class Test { \n",
    "\n",
    "\tpublic static void main(String[] args) \n",
    "\t{ \n",
    "\t\t// TODO Auto-generated method stub \n",
    "\t\tInteger arr[] = { 1, 2, 3, 4, 5, 6 }; \n",
    "\t\tint n = 6; \n",
    "\t\tsortBySetBitCount(arr, n); \n",
    "\t\tprintArr(arr, n); \n",
    "\t\tSystem.out.println(); \n",
    "\t} \n",
    "\n",
    "\tprivate static void printArr(Integer[] arr, int n) \n",
    "\t{ \n",
    "\t\t// TODO Auto-generated method stub \n",
    "\t\tfor (int i = 0; i < n; i++) \n",
    "\t\t\tSystem.out.print(arr[i] + \" \"); \n",
    "\t\t// cout << arr[i] << \" \"; \n",
    "\t} \n",
    "\n",
    "\tprivate static Integer[] sortBySetBitCount(Integer[] arr, int n) \n",
    "\t{ \n",
    "\t\t// TODO Auto-generated method stub \n",
    "\t\tArrays.sort(arr, new Comparator<Integer>() \n",
    "\t\t{ \n",
    "\n",
    "\t\t\t@Override\n",
    "\t\t\tpublic int compare(Integer arg0, Integer arg1) \n",
    "\t\t\t{ \n",
    "\t\t\t\t// TODO Auto-generated method stub \n",
    "\t\t\t\tint c1 = Integer.bitCount(arg0); \n",
    "\t\t\t\tint c2 = Integer.bitCount(arg1); \n",
    "\t\t\t\tif (c1 <= c2) \n",
    "\t\t\t\t\treturn 1; \n",
    "\t\t\t\telse\n",
    "\t\t\t\t\treturn -1; \n",
    "\t\t\t} \n",
    "\n",
    "\t\t}); \n",
    "\t\treturn arr; \n",
    "\t} \n",
    "} \n",
    "\n",
    "Test.main(args);\n"
   ]
  },
  {
   "cell_type": "code",
   "execution_count": 88,
   "metadata": {},
   "outputs": [],
   "source": [
    "/*\n",
    "Method 3 : Counting Sort based (https://www.geeksforgeeks.org/counting-sort/)\n",
    "\n",
    "This problem can be solved in O(n) time. \n",
    "The idea is similar to counting sort.\n",
    "\n",
    "Note: There can be minimum 1 set-bit and only a maximum of 31set-bits in any integer.\n",
    "*/"
   ]
  },
  {
   "cell_type": "code",
   "execution_count": 89,
   "metadata": {},
   "outputs": [],
   "source": [
    "/*\n",
    "Steps (assuming that an integer takes 32 bits):\n",
    "\n",
    "- Create a vector “count” of size 32. \n",
    "   Each cell of count i.e., count[i] is another vector that stores all the elements whose set-bit-count is i\n",
    "- Traverse the array and do following for each element:\n",
    "        >Count the number set-bits of this element. Let it be ‘setbitcount’\n",
    "        >count[setbitcount].push_back(element)\n",
    "- Traverse ‘count’ in reverse fashion(as we need to sort in non-increasing order) and modify the array.\n",
    "*/"
   ]
  },
  {
   "cell_type": "markdown",
   "metadata": {},
   "source": [
    "<img src = \"https://media.geeksforgeeks.org/wp-content/uploads/count-1.png\"/>"
   ]
  },
  {
   "cell_type": "markdown",
   "metadata": {},
   "source": [
    "***https://ideone.com/XQQmzS***"
   ]
  },
  {
   "cell_type": "markdown",
   "metadata": {},
   "source": [
    "## **73. Minimum swaps to make two arrays identical**\n",
    "https://www.geeksforgeeks.org/minimum-swaps-to-make-two-array-identical/"
   ]
  },
  {
   "cell_type": "code",
   "execution_count": 90,
   "metadata": {},
   "outputs": [],
   "source": [
    "/*\n",
    "Given two arrays which have same values but in different order, \n",
    "we need to make second array same as first array using minimum number of swaps.\n",
    "*/"
   ]
  },
  {
   "cell_type": "code",
   "execution_count": 91,
   "metadata": {},
   "outputs": [],
   "source": [
    "/*\n",
    "Examples:\n",
    "\n",
    "Input  : arrA[] = {3, 6, 4, 8}, \n",
    "         arrB[] = {4, 6, 8, 3}\n",
    "Output : 2\n",
    "we can make arrB to same as arrA in 2 swaps \n",
    "which are shown below,\n",
    "swap 4 with 8,   arrB = {8, 6, 4, 3}\n",
    "swap 8 with 3,   arrB = {3, 6, 4, 8}\n",
    "*/"
   ]
  },
  {
   "cell_type": "code",
   "execution_count": 92,
   "metadata": {},
   "outputs": [],
   "source": [
    "/*\n",
    "This problem can be solved by modifying the array B. \n",
    "We save the index of array A elements in array B \n",
    "i.e. if ith element of array A is at jth position in array B, \n",
    "then we will make arrB[i] = j\n",
    "For above given example, \n",
    "    modified array B will be, arrB = {3, 1, 0, 2}. \n",
    "    This modified array represents distribution of array A element in array B \n",
    "    and our goal is to sort this modified array in minimum number of swaps because after sorting only array B element will be aligned with array A elements.\n",
    "*/"
   ]
  },
  {
   "cell_type": "markdown",
   "metadata": {},
   "source": [
    "***Minimum number of swaps required to sort an array\n",
    "https://www.geeksforgeeks.org/minimum-number-swaps-required-sort-array/***"
   ]
  },
  {
   "cell_type": "code",
   "execution_count": 93,
   "metadata": {},
   "outputs": [],
   "source": [
    "/*\n",
    "Now count of minimum swaps for sorting an array can be found by visualizing the problem as a graph, \n",
    "this problem is already explained in above link.\n",
    "So we count these swaps in modified array and that will be our final answer.\n",
    "*/"
   ]
  },
  {
   "cell_type": "markdown",
   "metadata": {},
   "source": [
    "***https://ideone.com/o8bUwq***"
   ]
  },
  {
   "cell_type": "markdown",
   "metadata": {},
   "source": [
    "## **74. Find the largest multiple of 3 from array of digits | Set 2 (In O(n) time and O(1) space)**\n",
    "https://www.geeksforgeeks.org/find-largest-multiple-3-array-digits-set-2-time-o1-space/"
   ]
  },
  {
   "cell_type": "code",
   "execution_count": 94,
   "metadata": {},
   "outputs": [],
   "source": [
    "/*\n",
    "Given an array of digits (contain elements from 0 to 9). \n",
    "Find the largest number that can be made from some or all digits of array and is divisible by 3. \n",
    "The same element may appear multiple times in the array, but each element in the array may only be used once.\n",
    "*/"
   ]
  },
  {
   "cell_type": "code",
   "execution_count": 95,
   "metadata": {},
   "outputs": [],
   "source": [
    "/*\n",
    "Examples:\n",
    "\n",
    "Input : arr[] = {5, 4, 3, 1, 1} \n",
    "Output : 4311\n",
    "\n",
    "Input : Arr[] = {5, 5, 5, 7} \n",
    "Output : 555 \n",
    "*/"
   ]
  },
  {
   "cell_type": "markdown",
   "metadata": {},
   "source": [
    "***Find the largest multiple of 3 | Set 1 (Using Queue)\n",
    "https://www.geeksforgeeks.org/find-the-largest-number-multiple-of-3/***"
   ]
  },
  {
   "cell_type": "code",
   "execution_count": 96,
   "metadata": {},
   "outputs": [],
   "source": [
    "/*\n",
    "For example, \n",
    "let us consider 555, it is divisible by 3 because sum of digits is 5 + 5 + 5 = 15, which is divisible by 3. \n",
    "If a sum of digits is not divisible by 3 then the remainder should be either 1 or 2.\n",
    "If we get remainder either ‘1’ or ‘2’, we have to remove maximum two digits to make a number that is divisible by 3:\n",
    "\n",
    "If remainder is ‘1’ : \n",
    "    We have to remove single digit that have remainder ‘1’ or we have to remove two digit that have remainder ‘2’ \n",
    "    ( 2 + 2 => 4 % 3 => ‘1’).\n",
    "If remainder is ‘2’ : \n",
    "    We have to remove single digit that have remainder ‘2’ or we have to remove two digit that have remainder ‘1’ \n",
    "    ( 1 + 1 => 2 % 3 => 2 ).\n",
    "    \n",
    "Time Complexity : O(n)\n",
    "*/"
   ]
  },
  {
   "cell_type": "markdown",
   "metadata": {},
   "source": [
    "**Related Link:**\n",
    "\n",
    "***Check if a large number is divisible by 3 or not\n",
    "https://www.geeksforgeeks.org/check-large-number-divisible-3-not/***"
   ]
  },
  {
   "cell_type": "code",
   "execution_count": 97,
   "metadata": {},
   "outputs": [],
   "source": [
    "/*\n",
    "Examples :\n",
    "\n",
    "Input : arr[] = 5, 5, 5, 7 \n",
    "Sum of digits = 5 + 5 + 7 = 22\n",
    "Remainder = 22 % 3 = 1 \n",
    "\n",
    "We remove smallest single digit that \n",
    "has remainder '1'. \n",
    "We remove 7 % 3 = 1 \n",
    "So largest number divisible by 3 is : 555\n",
    "\n",
    "Let's take an another example :\n",
    "Input : arr[]  = 4 , 4 , 1 , 1 , 1 , 3\n",
    "Sum of digits  = 4 + 4 + 1 + 1 + 1 + 3 = 14\n",
    "Reminder = 14 % 3 = 2 \n",
    "\n",
    "We have to remove the smallest digit that \n",
    "has remainder ' 2 ' or two digits that have\n",
    "remainder '1'.\n",
    "Here there is no digit with reminder '2', \n",
    "so we have to remove two smallest digits that have remainder '1'. \n",
    "The digits are : 1, 1. \n",
    "So largest number divisible by 3 is 4 4 3 1 \n",
    "*/"
   ]
  },
  {
   "cell_type": "code",
   "execution_count": 98,
   "metadata": {},
   "outputs": [
    {
     "name": "stdout",
     "output_type": "stream",
     "text": [
      "4431"
     ]
    }
   ],
   "source": [
    "// Number of digits \n",
    "static int MAX_SIZE = 10; \n",
    "\n",
    "// function to sort array of digits using \n",
    "// counts \n",
    "static void sortArrayUsingCounts(int arr[],  \n",
    "                                 int n) \n",
    "{ \n",
    "    // Store count of all elements \n",
    "    int[] count = new int[MAX_SIZE]; \n",
    "    for (int i = 0; i < n; i++)  \n",
    "    { \n",
    "        count[arr[i]]++; \n",
    "    } \n",
    "\n",
    "    // Store \n",
    "    int index = 0; \n",
    "    for (int i = 0; i < MAX_SIZE; i++)  \n",
    "    { \n",
    "        while (count[i] > 0)  \n",
    "        { \n",
    "            arr[index++] = i; \n",
    "            count[i]--; \n",
    "        } \n",
    "    } \n",
    "} \n",
    "\n",
    "// Remove elements from arr[] \n",
    "// at indexes ind1 and ind2 \n",
    "static void removeAndPrintResult(int arr[], int n,  \n",
    "                                 int ind1, int ind2) \n",
    "{ \n",
    "    for (int i = n - 1; i >= 0; i--) \n",
    "    { \n",
    "        if (i != ind1 && i != ind2)  \n",
    "        { \n",
    "            System.out.print(arr[i]); \n",
    "        } \n",
    "    } \n",
    "} \n",
    "\n",
    "// Returns largest multiple of 3  \n",
    "// that can be formed using \n",
    "// arr[] elements. \n",
    "static boolean largest3Multiple(int arr[],  \n",
    "                                int n) \n",
    "{ \n",
    "    // Sum of all array element \n",
    "    int sum = accumulate(arr, 0, n); \n",
    "\n",
    "    // If sum is divisible by 3,  \n",
    "    // no need to delete an element \n",
    "    if (sum % 3 == 0)  \n",
    "    { \n",
    "        return true; \n",
    "    } \n",
    "\n",
    "    // Sort array element in increasing order \n",
    "    sortArrayUsingCounts(arr, n); \n",
    "\n",
    "    // Find reminder \n",
    "    int remainder = sum % 3; \n",
    "\n",
    "    // If remainder is '1', we have to  \n",
    "    // delete either one element of  \n",
    "    // remainder '1' or two elements of  \n",
    "    // remainder '2' \n",
    "    if (remainder == 1) \n",
    "    { \n",
    "        int[] rem_2 = new int[2]; \n",
    "        rem_2[0] = -1; \n",
    "        rem_2[1] = -1; \n",
    "\n",
    "        // Traverse array elements \n",
    "        for (int i = 0; i < n; i++)  \n",
    "        { \n",
    "\n",
    "            // Store first element of remainder '1' \n",
    "            if (arr[i] % 3 == 1) \n",
    "            { \n",
    "                removeAndPrintResult(arr, n, i, -1); \n",
    "                return true; \n",
    "            } \n",
    "\n",
    "            if (arr[i] % 3 == 2) \n",
    "            { \n",
    "\n",
    "                // If this is first occurrence \n",
    "                // of remainder 2 \n",
    "                if (rem_2[0] == -1) \n",
    "                { \n",
    "                    rem_2[0] = i; \n",
    "                } \n",
    "\n",
    "                // If second occurrence \n",
    "                else if (rem_2[1] == -1)  \n",
    "                { \n",
    "                    rem_2[1] = i; \n",
    "                } \n",
    "            } \n",
    "        } \n",
    "\n",
    "        if (rem_2[0] != -1 &&  \n",
    "            rem_2[1] != -1)  \n",
    "        { \n",
    "            removeAndPrintResult(arr, n, rem_2[0],  \n",
    "                                         rem_2[1]); \n",
    "            return true; \n",
    "        } \n",
    "    }  \n",
    "\n",
    "    // If remainder is '2', we have to  \n",
    "    // delete either one element of  \n",
    "    // remainder '2' or two elements of \n",
    "    // remainder '1' \n",
    "    else if (remainder == 2)  \n",
    "    { \n",
    "        int[] rem_1 = new int[2]; \n",
    "        rem_1[0] = -1; \n",
    "        rem_1[1] = -1; \n",
    "\n",
    "        // traverse array elements \n",
    "        for (int i = 0; i < n; i++)  \n",
    "        { \n",
    "\n",
    "            // store first element of remainder '2' \n",
    "            if (arr[i] % 3 == 2)  \n",
    "            { \n",
    "                removeAndPrintResult(arr, n, i, -1); \n",
    "                return true; \n",
    "            } \n",
    "\n",
    "            if (arr[i] % 3 == 1)  \n",
    "            { \n",
    "\n",
    "                // If this is first occurrence \n",
    "                // of remainder 1 \n",
    "                if (rem_1[0] == -1)  \n",
    "                { \n",
    "                    rem_1[0] = i; \n",
    "                }  \n",
    "\n",
    "                // If second occurrence \n",
    "                else if (rem_1[1] == -1)  \n",
    "                { \n",
    "                    rem_1[1] = i; \n",
    "                } \n",
    "            } \n",
    "        } \n",
    "\n",
    "        if (rem_1[0] != -1 &&  \n",
    "            rem_1[1] != -1) \n",
    "        { \n",
    "            removeAndPrintResult(arr, n, rem_1[0],  \n",
    "                                         rem_1[1]); \n",
    "            return true; \n",
    "        } \n",
    "    } \n",
    "    System.out.print(\"Not possible\"); \n",
    "    return false; \n",
    "} \n",
    "\n",
    "static int accumulate(int[] arr, \n",
    "                      int start,  \n",
    "                      int end)  \n",
    "{ \n",
    "    int sum = 0; \n",
    "    for (int i = 0; i < arr.length; i++)  \n",
    "    { \n",
    "        sum += arr[i]; \n",
    "    } \n",
    "    return sum; \n",
    "} \n",
    "\n",
    "// Driver code \n",
    "public static void main(String[] args) \n",
    "{ \n",
    "    int arr[] = {4, 4, 1, 1, 1, 3}; \n",
    "    int n = arr.length; \n",
    "    largest3Multiple(arr, n); \n",
    "}\n",
    "\n",
    "main(args);"
   ]
  },
  {
   "cell_type": "markdown",
   "metadata": {},
   "source": [
    "## **75. Permute two arrays such that sum of every pair is greater or equal to K**\n",
    "https://www.geeksforgeeks.org/permute-two-arrays-sum-every-pair-greater-equal-k/"
   ]
  },
  {
   "cell_type": "code",
   "execution_count": 99,
   "metadata": {},
   "outputs": [],
   "source": [
    "/*\n",
    "Given two arrays of equal size n and an integer k. \n",
    "The task is to permute both arrays such that sum of their corresponding element is greater than or equal to k i.e a[i] + b[i] >= k.\n",
    "The task is print “Yes” if any such permutation exists, otherwise print “No”.\n",
    "\n",
    "Time Complexity: O(n log n).\n",
    "*/"
   ]
  },
  {
   "cell_type": "code",
   "execution_count": 100,
   "metadata": {},
   "outputs": [],
   "source": [
    "/*\n",
    "Examples :\n",
    "\n",
    "Input : a[] = {2, 1, 3}, \n",
    "        b[] = { 7, 8, 9 }, \n",
    "        k = 10. \n",
    "Output : Yes\n",
    "Permutation  a[] = { 1, 2, 3 } and b[] = { 9, 8, 7 } \n",
    "satisfied the condition a[i] + b[i] >= K.\n",
    "\n",
    "Input : a[] = {1, 2, 2, 1}, \n",
    "        b[] = { 3, 3, 3, 4 }, \n",
    "        k = 5. \n",
    "Output : No\n",
    "*/"
   ]
  },
  {
   "cell_type": "markdown",
   "metadata": {},
   "source": [
    "<img src = \"data:image/png;base64,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\"/>"
   ]
  },
  {
   "cell_type": "code",
   "execution_count": 101,
   "metadata": {},
   "outputs": [
    {
     "name": "stdout",
     "output_type": "stream",
     "text": [
      "Yes"
     ]
    }
   ],
   "source": [
    "// Check whether any permutation  \n",
    "// exists which satisfy the condition. \n",
    "static boolean isPossible(Integer a[], int b[], \n",
    "                                  int n, int k)  \n",
    "{ \n",
    "    // Sort the array a[] in decreasing order. \n",
    "    Arrays.sort(a, Collections.reverseOrder()); \n",
    "  \n",
    "    // Sort the array b[] in increasing order. \n",
    "    Arrays.sort(b); \n",
    "  \n",
    "    // Checking condition on each index. \n",
    "    for (int i = 0; i < n; i++) \n",
    "    if (a[i] + b[i] < k) \n",
    "        return false; \n",
    "  \n",
    "    return true; \n",
    "} \n",
    "  \n",
    "// Driver code \n",
    "public static void main(String[] args) { \n",
    "    Integer a[] = {2, 1, 3}; \n",
    "    int b[] = {7, 8, 9}; \n",
    "    int k = 10; \n",
    "    int n = a.length; \n",
    "  \n",
    "    if (isPossible(a, b, n, k)) \n",
    "    System.out.print(\"Yes\"); \n",
    "    else\n",
    "    System.out.print(\"No\"); \n",
    "} \n",
    "\n",
    "main(args);"
   ]
  },
  {
   "cell_type": "code",
   "execution_count": null,
   "metadata": {},
   "outputs": [],
   "source": []
  },
  {
   "cell_type": "code",
   "execution_count": null,
   "metadata": {},
   "outputs": [],
   "source": []
  },
  {
   "cell_type": "markdown",
   "metadata": {},
   "source": [
    "**------------------------Questions Covered-----------------------------**"
   ]
  },
  {
   "cell_type": "markdown",
   "metadata": {},
   "source": [
    "***2\tSearching & Sorting\thttps://www.geeksforgeeks.org/find-pair-with-greatest-product-in-array/\tPep_JavaIP_2SnS_76GreatestProductInArray\t\t\t\t\t\t\t\t\t\t\t\t\t\t\t\t\t\t\t\t\t\t\t\t\n",
    "2\tSearching & Sorting\thttps://www.geeksforgeeks.org/minimum-number-swaps-required-sort-array/\tPep_JavaIP_2SnS_77MinimumSwapsToSortArray\tbreaker\t\t\t\t\t\t\t\t\t\t\t\t\t\t\t\t\t\t\t\t\t\t\t\n",
    "3\tString\thttps://www.geeksforgeeks.org/print-words-together-set-characters/\tPep_JavaIP_3Strings_78GroupWordsofSameSetTogether\t\t\t\t\t\t\t\t\t\t\t\t\t\t\t\t\t\t\t\t\t\t\t\t\n",
    "3\tString\thttps://www.geeksforgeeks.org/generate-all-binary-strings-from-given-pattern/\tPep_JavaIP_3Strings_79GenerateAllBinaryStrings\t\t\t\t\t\t\t\t\t\t\t\t\t\t\t\t\t\t\t\t\t\t\t\t\n",
    "3\tString\thttps://www.geeksforgeeks.org/smallest-window-contains-characters-string/\tPep_JavaIP_3Strings_80SmallestWindow\t\t\t\t\t\t\t\t\t\t\t\t\t\t\t\t\t\t\t\t\t\t\t\t\n",
    "3\tString\thttps://www.geeksforgeeks.org/count-ways-increase-lcs-length-two-strings-one/\tPep_JavaIP_3Strings_81IncreaseLCSby1\t\t\t\t\t\t\t\t\t\t\t\t\t\t\t\t\t\t\t\t\t\t\t\t\n",
    "3\tString\thttps://www.geeksforgeeks.org/given-a-sequence-of-words-print-all-anagrams-together/\tPep_JavaIP_3Strings_82PrintAllAnagramsTogether\t\t\t\t\t\t\t\t\t\t\t\t\t\t\t\t\t\t\t\t\t\t\t\t\n",
    "3\tString\thttps://www.geeksforgeeks.org/anagram-substring-search-search-permutations/\t\t\t\t\t\t\t\t\t\t\t\t\t\t\t\t\t\t\t\t\t\t\t\t\t\n",
    "3\tString\thttps://www.geeksforgeeks.org/check-two-strings-k-anagrams-not/\t\t\t\t\t\t\t\t\t\t\t\t\t\t\t\t\t\t\t\t\t\t\t\t\t\n",
    "3\tString\thttps://www.geeksforgeeks.org/check-binary-representations-two-numbers-anagram/\t\t\t\t\t\t\t\t\t\t\t\t\t\t\t\t\t\t\t\t\t\t\t\t\t\n",
    "3\tString\thttps://www.geeksforgeeks.org/longest-palindromic-substring-set-2/\t\t\t\t\t\t\t\t\t\t\t\t\t\t\t\t\t\t\t\t\t\t\t\t\t\n",
    "3\tString\thttps://www.geeksforgeeks.org/find-the-smallest-window-in-a-string-containing-all-characters-of-another-string/\t\t\t\t\t\t\t\t\t\t\t\t\t\t\t\t\t\t\t\t\t\t\t\t\t\n",
    "3\tString\thttps://www.codechef.com/FEB18/problems/PERMPAL\thash\t\t\t\t\t\t\t\t\t\t\t\t\t\t\t\t\t\t\t\t\t\t\t\t\n",
    "3\tString\thttps://www.geeksforgeeks.org/make-largest-palindrome-changing-k-digits/\tPep_JavaIP_3Strings_89LargestPalindromeBySwappingKDigits\t\t\t\t\t\t\t\t\t\t\t\t\t\t\t\t\t\t\t\t\t\t\t\t\n",
    "3\tString\thttps://www.geeksforgeeks.org/lexicographically-first-palindromic-string/\tPep_JavaIP_3Strings_90LexicographicFirstPalindrome***"
   ]
  },
  {
   "cell_type": "code",
   "execution_count": 1,
   "metadata": {},
   "outputs": [],
   "source": [
    "import java.util.*;\n",
    "import java.io.*;\n",
    "import java.util.Arrays;\n",
    "String[] args =new String[0];"
   ]
  },
  {
   "cell_type": "markdown",
   "metadata": {},
   "source": [
    "## **76. Find pair with greatest product in array**\n",
    "https://www.geeksforgeeks.org/find-pair-with-greatest-product-in-array/"
   ]
  },
  {
   "cell_type": "code",
   "execution_count": 2,
   "metadata": {},
   "outputs": [],
   "source": [
    "/*\n",
    "Given an array of n elements, \n",
    "the task is to find the greatest number such that it is product of two elements of given array. \n",
    "If no such element exists, print -1. Elements are within the range of 1 to 10^5.\n",
    "*/"
   ]
  },
  {
   "cell_type": "code",
   "execution_count": 3,
   "metadata": {},
   "outputs": [],
   "source": [
    "/*\n",
    "Examples :\n",
    "\n",
    "Input :  arr[] = {10, 3, 5, 30, 35}\n",
    "Output:  30\n",
    "Explanation: 30 is the product of 10 and 3.\n",
    "\n",
    "Input :  arr[] = {2, 5, 7, 8}\n",
    "Output:  -1\n",
    "Explanation: Since, no such element exists.\n",
    "\n",
    "Input :  arr[] = {10, 2, 4, 30, 35}\n",
    "Output:  -1\n",
    "\n",
    "Input :  arr[] = {10, 2, 2, 4, 30, 35}\n",
    "Output:  4\n",
    "\n",
    "Input  : arr[] = {17, 2, 1, 35, 30}\n",
    "Output : 35\n",
    "*/"
   ]
  },
  {
   "cell_type": "code",
   "execution_count": 4,
   "metadata": {},
   "outputs": [],
   "source": [
    "/*\n",
    "A naive approach is to pick an element and then check for each pair product \n",
    "if equal to that number and update the max \n",
    "if the number is maximum,repeat until whole array gets traversed takes O(n^3) time.\n",
    "*/"
   ]
  },
  {
   "cell_type": "code",
   "execution_count": 5,
   "metadata": {},
   "outputs": [
    {
     "name": "stdout",
     "output_type": "stream",
     "text": [
      "30\n"
     ]
    }
   ],
   "source": [
    "static int findGreatest( int []arr , int n) \n",
    "{ \n",
    "int result = -1; \n",
    "for (int i = 0; i < n ; i++) \n",
    "    for (int j = 0; j < n-1; j++) \n",
    "        for (int k = j+1 ; k < n ; k++) \n",
    "            if (arr[j] * arr[k] == arr[i]) \n",
    "                result = Math.max(result, arr[i]); \n",
    "return result; \n",
    "} \n",
    "\n",
    "// Driver code \n",
    "static public void main (String[] args) \n",
    "{ \n",
    "    int []arr = {30, 10, 9, 3, 35}; \n",
    "    int n = arr.length; \n",
    "\n",
    "    System.out.println(findGreatest(arr, n)); \n",
    "} \n",
    "main(args)"
   ]
  },
  {
   "cell_type": "code",
   "execution_count": 6,
   "metadata": {},
   "outputs": [],
   "source": [
    "/*\n",
    "Time Complexity : O(nlogn)\n",
    "\n",
    "An efficient method follows below implementation:-\n",
    "\n",
    "1. Create an empty hash table and store all array elements in it.\n",
    "2. Sort the array in ascending order.\n",
    "3. Pick elements one by one from end of the array.\n",
    "4. And check if there exists a pair whose product is equal to that number. \n",
    "   In this efficiency can be achieved. \n",
    "   The idea is to reach till sqrt of that number. \n",
    "   If we don’t get the pair till sqrt that means no such pair exists. \n",
    "   We use hash table to make sure that we can find other element of pair in O(1) time.\n",
    "5. Repeat steps 2 to 3 until we get the element or whole array gets traversed.\n",
    "*/"
   ]
  },
  {
   "cell_type": "code",
   "execution_count": 7,
   "metadata": {},
   "outputs": [],
   "source": [
    "// Function to find greatest number \n",
    "static int findGreatest(int arr[], int n)  \n",
    "{ \n",
    "    // Store occurrences of all  \n",
    "    // elements in hash array \n",
    "    Map<Integer, Integer> m = new HashMap<>(); \n",
    "    for (int i = 0; i < n; i++)  \n",
    "    { \n",
    "        if (m.containsKey(arr[i]))  \n",
    "        { \n",
    "            m.put(arr[i], m.get(arr[i]) + 1); \n",
    "        }  \n",
    "        else \n",
    "        { \n",
    "            m.put(arr[i], m.get(arr[i])); \n",
    "        } \n",
    "    } \n",
    "\n",
    "    // m[arr[i]]++; \n",
    "    // Sort the array and traverse  \n",
    "    // all elements from end. \n",
    "    Arrays.sort(arr); \n",
    "\n",
    "    for (int i = n - 1; i > 1; i--)  \n",
    "    { \n",
    "        // For every element, check if there is another \n",
    "        // element which divides it. \n",
    "        for (int j = 0; j < i &&  \n",
    "            arr[j] <= Math.sqrt(arr[i]); j++)  \n",
    "        { \n",
    "            if (arr[i] % arr[j] == 0)  \n",
    "            { \n",
    "                int result = arr[i] / arr[j]; \n",
    "\n",
    "                // Check if the result value exists in array \n",
    "                // or not if yes the return arr[i] \n",
    "                if (result != arr[j] &&  \n",
    "                    m.get(result) == null|| m.get(result) > 0) \n",
    "                { \n",
    "                    return arr[i]; \n",
    "                }  \n",
    "\n",
    "                // To handle the case like arr[i] = 4 \n",
    "                // and arr[j] = 2 \n",
    "                else if (result == arr[j] && m.get(result) > 1)  \n",
    "                { \n",
    "                    return arr[i]; \n",
    "                } \n",
    "            } \n",
    "        } \n",
    "    } \n",
    "    return -1; \n",
    "} "
   ]
  },
  {
   "cell_type": "code",
   "execution_count": 8,
   "metadata": {},
   "outputs": [
    {
     "name": "stdout",
     "output_type": "stream",
     "text": [
      "30\n"
     ]
    }
   ],
   "source": [
    "// Driver code \n",
    "public static void main(String[] args)  \n",
    "{ \n",
    "    int arr[] = {17, 2, 1, 15, 30}; \n",
    "    int n = arr.length; \n",
    "    System.out.println(findGreatest(arr, n)); \n",
    "} \n",
    "main(args);"
   ]
  },
  {
   "cell_type": "markdown",
   "metadata": {},
   "source": [
    "## **77. Minimum number of swaps required to sort an array**\n",
    "https://www.geeksforgeeks.org/minimum-number-swaps-required-sort-array/"
   ]
  },
  {
   "cell_type": "code",
   "execution_count": 9,
   "metadata": {},
   "outputs": [],
   "source": [
    "/*\n",
    "Given an array of n distinct elements, \n",
    "find the minimum number of swaps required to sort the array.\n",
    "\n",
    "Time Complexity: O(n Log n)\n",
    "Auxiliary Space: O(n)\n",
    "*/"
   ]
  },
  {
   "cell_type": "code",
   "execution_count": 10,
   "metadata": {},
   "outputs": [],
   "source": [
    "/*\n",
    "Examples:\n",
    "\n",
    "Input : {4, 3, 2, 1}\n",
    "Output : 2\n",
    "Explanation : Swap index 0 with 3 and 1 with 2 to \n",
    "              form the sorted array {1, 2, 3, 4}.\n",
    "\n",
    "Input : {1, 5, 4, 3, 2}\n",
    "Output : 2\n",
    "*/"
   ]
  },
  {
   "cell_type": "code",
   "execution_count": 11,
   "metadata": {},
   "outputs": [],
   "source": [
    "/*\n",
    "This can be easily done by visualizing the problem as a graph. \n",
    "We will have n nodes and an edge directed from node i to node j \n",
    "    if the element at i’th index must be present at j’th index in the sorted array.\n",
    "    \n",
    "Graph for {4, 3, 2, 1}\n",
    "*/"
   ]
  },
  {
   "cell_type": "markdown",
   "metadata": {},
   "source": [
    "<img src = \"https://media.geeksforgeeks.org/wp-content/cdn-uploads/a-1.png\"/>"
   ]
  },
  {
   "cell_type": "code",
   "execution_count": 12,
   "metadata": {},
   "outputs": [],
   "source": [
    "/*\n",
    "The graph will now contain many non-intersecting cycles. \n",
    "Now a cycle with 2 nodes will only require 1 swap to reach the correct ordering, \n",
    "similarly a cycle with 3 nodes will only require 2 swap to do so.\n",
    "\n",
    "Graph for {4, 5, 2, 1, 5}\n",
    "*/"
   ]
  },
  {
   "cell_type": "markdown",
   "metadata": {},
   "source": [
    "<img src = \"https://media.geeksforgeeks.org/wp-content/cdn-uploads/b-1.png\"/>"
   ]
  },
  {
   "cell_type": "code",
   "execution_count": 13,
   "metadata": {},
   "outputs": [],
   "source": [
    "/*\n",
    "Hence,\n",
    "\n",
    "ans = Σi = 1^k(cycle_size – 1)\n",
    "where k is the number of cycles\n",
    "*/"
   ]
  },
  {
   "cell_type": "code",
   "execution_count": 14,
   "metadata": {},
   "outputs": [
    {
     "ename": "CompilationException",
     "evalue": "",
     "output_type": "error",
     "traceback": [
      "\u001b[1m\u001b[30m|   \u001b[1m\u001b[30mimport \u001b[0m\u001b[1m\u001b[30m\u001b[41mjavafx.util.Pair\u001b[0m\u001b[1m\u001b[30m;\u001b[0m",
      "\u001b[1m\u001b[31mpackage javafx.util does not exist\u001b[0m",
      ""
     ]
    }
   ],
   "source": [
    "import javafx.util.Pair;\n",
    "\n",
    "// Function returns the minimum number of swaps \n",
    "// required to sort the array \n",
    "public int minSwaps(int[] arr) \n",
    "{ \n",
    "    int n = arr.length; \n",
    "\n",
    "    // Create two arrays and use as pairs where first \n",
    "    // array is element and second array \n",
    "    // is position of first element \n",
    "    ArrayList <Pair <Integer, Integer> > arrpos = \n",
    "              new ArrayList <Pair <Integer, Integer> > (); \n",
    "    for (int i = 0; i < n; i++) \n",
    "         arrpos.add(new Pair <Integer, Integer> (arr[i], i)); \n",
    "\n",
    "    // Sort the array by array element values to \n",
    "    // get right position of every element as the \n",
    "    // elements of second array. \n",
    "    arrpos.sort(new Comparator<Pair<Integer, Integer>>() \n",
    "    { \n",
    "        @Override\n",
    "        public int compare(Pair<Integer, Integer> o1, \n",
    "                           Pair<Integer, Integer> o2) \n",
    "        { \n",
    "            if (o1.getKey() > o2.getKey()) \n",
    "                return -1; \n",
    "\n",
    "            // We can change this to make it then look at the \n",
    "            // words alphabetical order \n",
    "            else if (o1.getKey().equals(o2.getKey())) \n",
    "                return 0; \n",
    "\n",
    "            else\n",
    "                return 1; \n",
    "        } \n",
    "    }); \n",
    "\n",
    "    // To keep track of visited elements. Initialize \n",
    "    // all elements as not visited or false. \n",
    "    Boolean[] vis = new Boolean[n]; \n",
    "    Arrays.fill(vis, false); \n",
    "\n",
    "    // Initialize result \n",
    "    int ans = 0; \n",
    "\n",
    "    // Traverse array elements \n",
    "    for (int i = 0; i < n; i++) \n",
    "    { \n",
    "        // already swapped and corrected or \n",
    "        // already present at correct pos \n",
    "        if (vis[i] || arrpos.get(i).getValue() == i) \n",
    "            continue; \n",
    "\n",
    "        // find out the number of  node in \n",
    "        // this cycle and add in ans \n",
    "        int cycle_size = 0; \n",
    "        int j = i; \n",
    "        while (!vis[j]) \n",
    "        { \n",
    "            vis[j] = true; \n",
    "\n",
    "            // move to next node \n",
    "            j = arrpos.get(j).getValue(); \n",
    "            cycle_size++; \n",
    "        } \n",
    "\n",
    "        // Update answer by adding current cycle. \n",
    "        if(cycle_size > 0) \n",
    "        { \n",
    "            ans += (cycle_size - 1); \n",
    "        } \n",
    "    } \n",
    "\n",
    "    // Return result \n",
    "    return ans; \n",
    "} "
   ]
  },
  {
   "cell_type": "code",
   "execution_count": 15,
   "metadata": {},
   "outputs": [],
   "source": [
    "// Driver program to test the above function \n",
    "public static void main(String[] args) \n",
    "{ \n",
    "    int []a = {1, 5, 4, 3, 2}; \n",
    "    System.out.println(minSwaps(a)); \n",
    "}\n"
   ]
  },
  {
   "cell_type": "markdown",
   "metadata": {},
   "source": [
    "**Additional Link**\n",
    "***https://stackoverflow.com/questions/15152322/compute-the-minimal-number-of-swaps-to-order-a-sequence/15152602#15152602***"
   ]
  },
  {
   "cell_type": "markdown",
   "metadata": {},
   "source": [
    "## **78. Minimum number of swaps required to sort an array**\n",
    "https://www.geeksforgeeks.org/print-words-together-set-characters/"
   ]
  },
  {
   "cell_type": "code",
   "execution_count": 16,
   "metadata": {},
   "outputs": [],
   "source": [
    "/*\n",
    "Given a list of words with lower cases. \n",
    "Implement a function to find all Words that have the same unique character set .\n",
    "*/"
   ]
  },
  {
   "cell_type": "code",
   "execution_count": 17,
   "metadata": {},
   "outputs": [],
   "source": [
    "/*\n",
    "Example:\n",
    "\n",
    "Input: words[] = { \"may\", \"student\", \"students\", \"dog\",\n",
    "                 \"studentssess\", \"god\", \"cat\", \"act\",\n",
    "                 \"tab\", \"bat\", \"flow\", \"wolf\", \"lambs\",\n",
    "                 \"amy\", \"yam\", \"balms\", \"looped\", \n",
    "                 \"poodle\"};\n",
    "Output : \n",
    "looped, poodle, \n",
    "lambs, balms, \n",
    "flow, wolf, \n",
    "tab, bat, \n",
    "may, amy, yam, \n",
    "student, students, studentssess, \n",
    "dog, god, \n",
    "cat, act, \n",
    "\n",
    "All words with same set of characters are printed \n",
    "together in a line.\n",
    "*/"
   ]
  },
  {
   "cell_type": "code",
   "execution_count": 18,
   "metadata": {},
   "outputs": [],
   "source": [
    "/*\n",
    "The idea is to use hashing. \n",
    "We generate a key for all words. \n",
    "The key contains all unique character (Size of key is at most 26 for lower case alphabets). \n",
    "We store indexes of words as values for a key. \n",
    "Once we have filled all keys and values in hash table, we can print the result by traversing the table.\n",
    "\n",
    "Time complexity : O(n*k) where n is number of words in dictionary and k is maximum length of a word.\n",
    "*/"
   ]
  },
  {
   "cell_type": "code",
   "execution_count": 19,
   "metadata": {},
   "outputs": [],
   "source": [
    "import java.util.Map.*;\n",
    "\n",
    "static final int MAX_CHAR = 26; \n",
    "\n",
    "// Generates a key from given string. The key \n",
    "// contains all unique characters of given string \n",
    "// in sorted order consisting of only distinct elements. \n",
    "static String getKey(String str) \n",
    "{ \n",
    "    boolean[] visited = new boolean[MAX_CHAR]; \n",
    "    Arrays.fill(visited, false); \n",
    "\n",
    "    // store all unique characters of current \n",
    "    // word in key \n",
    "    for (int j = 0; j < str.length(); j++) \n",
    "        visited[str.charAt(j) - 'a'] = true ; \n",
    "    String key = \"\"; \n",
    "    for (int j=0; j < MAX_CHAR; j++) \n",
    "        if (visited[j]) \n",
    "            key = key + (char)('a'+j); \n",
    "    return key; \n",
    "} \n",
    "\n",
    "// Print all words together with same character sets. \n",
    "static void wordsWithSameCharSet(String words[], int n) \n",
    "{ \n",
    "    // Stores indexes of all words that have same \n",
    "    // set of unique characters. \n",
    "    //unordered_map <string, vector <int> > Hash; \n",
    "    HashMap<String, ArrayList<Integer>> Hash = new HashMap<>(); \n",
    "\n",
    "    // Traverse all words \n",
    "    for (int i=0; i<n; i++) \n",
    "    { \n",
    "        String key = getKey(words[i]); \n",
    "\n",
    "        // if the key is already in the map \n",
    "        // then get its corresponding value \n",
    "        // and update the list and put it in the map \n",
    "        if(Hash.containsKey(key)) \n",
    "        { \n",
    "            ArrayList<Integer> get_al = Hash.get(key); \n",
    "            get_al.add(i); \n",
    "            Hash.put(key, get_al); \n",
    "        } \n",
    "\n",
    "        // if key is not present in the map \n",
    "        // then create a new list and add \n",
    "        // both key and the list \n",
    "        else\n",
    "        { \n",
    "            ArrayList<Integer> new_al = new ArrayList<>(); \n",
    "            new_al.add(i); \n",
    "            Hash.put(key, new_al); \n",
    "        } \n",
    "    } \n",
    "\n",
    "    // print all words that have the same unique character set \n",
    "    for (Entry<String, ArrayList<Integer>> it : Hash.entrySet()) \n",
    "    { \n",
    "        ArrayList<Integer> get =it.getValue(); \n",
    "        for (Integer v:get) \n",
    "            System.out.print( words[v] + \", \"); \n",
    "        System.out.println(); \n",
    "    } \n",
    "} "
   ]
  },
  {
   "cell_type": "code",
   "execution_count": 20,
   "metadata": {},
   "outputs": [
    {
     "name": "stdout",
     "output_type": "stream",
     "text": [
      "student, students, studentssess, \n",
      "tab, bat, \n",
      "cat, act, \n",
      "lambs, balms, \n",
      "may, amy, yam, \n",
      "looped, poodle, \n",
      "dog, god, \n",
      "flow, wolf, \n"
     ]
    }
   ],
   "source": [
    "// Driver program to test above function \n",
    "public static void main(String args[]) \n",
    "{ \n",
    "    String words[] = { \"may\", \"student\", \"students\", \"dog\", \n",
    "                 \"studentssess\", \"god\", \"cat\", \"act\", \"tab\", \n",
    "                 \"bat\", \"flow\", \"wolf\", \"lambs\", \"amy\", \"yam\", \n",
    "                 \"balms\", \"looped\", \"poodle\"}; \n",
    "    int n = words.length; \n",
    "    wordsWithSameCharSet(words, n); \n",
    "} \n",
    "main(args);"
   ]
  },
  {
   "cell_type": "markdown",
   "metadata": {},
   "source": [
    "## **79. Generate all binary strings from given pattern**\n",
    "https://www.geeksforgeeks.org/generate-all-binary-strings-from-given-pattern/"
   ]
  },
  {
   "cell_type": "code",
   "execution_count": 21,
   "metadata": {},
   "outputs": [],
   "source": [
    "/*\n",
    "Given a string containing of ‘0’, ‘1’ and ‘?’ wildcard characters, \n",
    "generate all binary strings that can be formed by replacing each wildcard character by ‘0’ or ‘1’.\n",
    "*/"
   ]
  },
  {
   "cell_type": "code",
   "execution_count": 22,
   "metadata": {},
   "outputs": [],
   "source": [
    "/*\n",
    "Example :\n",
    "\n",
    "Input str = \"1??0?101\"\n",
    "Output: \n",
    "        10000101\n",
    "        10001101\n",
    "        10100101\n",
    "        10101101\n",
    "        11000101\n",
    "        11001101\n",
    "        11100101\n",
    "        11101101\n",
    "*/"
   ]
  },
  {
   "cell_type": "code",
   "execution_count": 23,
   "metadata": {},
   "outputs": [],
   "source": [
    "/*\n",
    "Method 1 (Using Recursion)\n",
    "We pass index of next character to the recursive function. \n",
    "If the current character is a wildcard character ‘?’, \n",
    "we replace it by ‘0’ or ‘1’ and recurse for remaining characters. \n",
    "We print the string if we reaches its end.\n",
    "\n",
    "Below is recursive the implementation.\n",
    "*/"
   ]
  },
  {
   "cell_type": "code",
   "execution_count": 24,
   "metadata": {},
   "outputs": [],
   "source": [
    "// Recursive function to generate all binary \n",
    "// strings formed by replacing each wildcard \n",
    "// character by 0 or 1  \n",
    "public static void print(char str[], int index) \n",
    "{ \n",
    "    if (index == str.length) \n",
    "    { \n",
    "        System.out.println(str); \n",
    "        return; \n",
    "    } \n",
    "\n",
    "    if (str[index] == '?') \n",
    "    { \n",
    "        // replace '?' by '0' and recurse \n",
    "        str[index] = '0'; \n",
    "        print(str, index + 1); \n",
    "\n",
    "        // replace '?' by '1' and recurse \n",
    "        str[index] = '1'; \n",
    "        print(str, index + 1); \n",
    "\n",
    "        // NOTE: Need to backtrack as string \n",
    "        // is passed by reference to the \n",
    "        // function \n",
    "        str[index] = '?'; \n",
    "    } \n",
    "    else\n",
    "        print(str, index + 1); \n",
    "} "
   ]
  },
  {
   "cell_type": "code",
   "execution_count": 25,
   "metadata": {},
   "outputs": [
    {
     "name": "stdout",
     "output_type": "stream",
     "text": [
      "10000101\n",
      "10001101\n",
      "10100101\n",
      "10101101\n",
      "11000101\n",
      "11001101\n",
      "11100101\n",
      "11101101\n"
     ]
    }
   ],
   "source": [
    "// driver code \n",
    "public static void main (String[] args) \n",
    "{ \n",
    "    String input = \"1??0?101\"; \n",
    "    char[] str = input.toCharArray(); \n",
    "    print(str, 0); \n",
    "} \n",
    "main(args);"
   ]
  },
  {
   "cell_type": "code",
   "execution_count": 26,
   "metadata": {},
   "outputs": [],
   "source": [
    "/*\n",
    "Method 2 (Using Queue)\n",
    "We can also achieve this by using iteration. \n",
    "The idea is to use queue. \n",
    "We find position of first occurrence of wildcard character in the input string and replace it by ‘0’ , then ‘1’ and push both strings into the queue. \n",
    "Then we pop next string from the queue, and repeat the process till queue is empty. \n",
    "If no wildcard characters are left, we simply print the string.\n",
    "*/"
   ]
  },
  {
   "cell_type": "markdown",
   "metadata": {},
   "source": [
    "***https://ideone.com/EsIyEH***"
   ]
  },
  {
   "cell_type": "markdown",
   "metadata": {},
   "source": [
    "## **80. Smallest window that contains all characters of string itself**\n",
    "https://www.geeksforgeeks.org/smallest-window-contains-characters-string/"
   ]
  },
  {
   "cell_type": "code",
   "execution_count": 27,
   "metadata": {},
   "outputs": [],
   "source": [
    "/*\n",
    "Given a string, find the smallest window length with all distinct characters of the given string. \n",
    "For eg. str = “aabcbcdbca”, then the result would be 4 as of the smallest window will be “dbca” \n",
    "*/"
   ]
  },
  {
   "cell_type": "code",
   "execution_count": 28,
   "metadata": {},
   "outputs": [],
   "source": [
    "/*\n",
    "Examples:\n",
    "\n",
    "Input  : aabcbcdbca\n",
    "Output : dbca\n",
    "Explanation : \n",
    "dbca of length 4 is the smallest \n",
    "window with highest number of distinct\n",
    "characters.         \n",
    "\n",
    "Input : aaab\n",
    "Output : ab\n",
    "Explanation : \n",
    "ab of length 2 is the smallest window \n",
    "with highest number of distinct characters.  \n",
    "*/"
   ]
  },
  {
   "cell_type": "code",
   "execution_count": 29,
   "metadata": {},
   "outputs": [],
   "source": [
    "/*\n",
    "Above problem states that we have to find the smallest window that contains all the distinct characters of the given string \n",
    "even if the smallest string contains repeating elements.\n",
    "*/"
   ]
  },
  {
   "cell_type": "code",
   "execution_count": 30,
   "metadata": {},
   "outputs": [],
   "source": [
    "/*\n",
    "For example, in “aabcbcdb”, the smallest string that contains all the characters is “abcbcd”.\n",
    "\n",
    "This problem reduces to Find the smallest window in a string containing all characters of another string.\n",
    "\n",
    "In that problem we find the smallest window that contains all the characters of given pattern.\n",
    "\n",
    "1- Count all distinct characters in given string.\n",
    "\n",
    "2- Now follow the algorithm discussed in below post.\n",
    "\n",
    "https://www.geeksforgeeks.org/find-the-smallest-window-in-a-string-containing-all-characters-of-another-string/\n",
    "\n",
    "We basically maintain a window of characters. \n",
    "Whenever the window contains all characters of given string, \n",
    "we shrink the window from left side to remove extra characters and then compare its length with smallest window fount so far.\n",
    "*/"
   ]
  },
  {
   "cell_type": "code",
   "execution_count": 31,
   "metadata": {},
   "outputs": [],
   "source": [
    "static final int MAX_CHARS = 256; \n",
    "\n",
    "// Function to find smallest window containing \n",
    "// all distinct characters \n",
    "static String findSubString(String str) \n",
    "{ \n",
    "    int n = str.length(); \n",
    "\n",
    "    // Count all distinct characters. \n",
    "    int dist_count = 0; \n",
    "\n",
    "    boolean[] visited = new boolean[MAX_CHARS]; \n",
    "    Arrays.fill(visited, false); \n",
    "    for (int i=0; i<n; i++) \n",
    "    { \n",
    "        if (visited[str.charAt(i)] == false) \n",
    "        { \n",
    "            visited[str.charAt(i)] = true; \n",
    "            dist_count++; \n",
    "        } \n",
    "    } \n",
    "\n",
    "    // Now follow the algorithm discussed in below \n",
    "    // post. We basically maintain a window of characters \n",
    "    // that contains all characters of given string. \n",
    "    // https://www.geeksforgeeks.org/find-the-smallest-window-in-a-string-containing-all-characters-of-another-string/  \n",
    "    int start = 0, start_index = -1; \n",
    "    int min_len = Integer.MAX_VALUE; \n",
    "\n",
    "    int count = 0; \n",
    "    int[] curr_count =  new int[MAX_CHARS]; \n",
    "    for (int j=0; j<n; j++) \n",
    "    { \n",
    "        // Count occurrence of characters of string \n",
    "        curr_count[str.charAt(j)]++; \n",
    "\n",
    "        // If any distinct character matched, \n",
    "        // then increment count \n",
    "        if (curr_count[str.charAt(j)] == 1 ) \n",
    "            count++; \n",
    "\n",
    "        // if all the characters are matched \n",
    "        if (count == dist_count) \n",
    "        { \n",
    "            // Try to minimize the window i.e., check if \n",
    "            // any character is occurring more no. of times \n",
    "            // than its occurrence in pattern, if yes \n",
    "            // then remove it from starting and also remove \n",
    "            // the useless characters. \n",
    "            while (curr_count[str.charAt(start)] > 1) \n",
    "            { \n",
    "                if (curr_count[str.charAt(start)] > 1) \n",
    "                    curr_count[str.charAt(start)]--; \n",
    "                start++; \n",
    "            } \n",
    "\n",
    "            // Update window size \n",
    "            int len_window = j - start + 1; \n",
    "            if (min_len > len_window) \n",
    "            { \n",
    "                min_len = len_window; \n",
    "                start_index = start; \n",
    "            } \n",
    "        } \n",
    "    } \n",
    "    // Return substring starting from start_index \n",
    "    // and length min_len \n",
    "    return str.substring(start_index, start_index+min_len); \n",
    "} "
   ]
  },
  {
   "cell_type": "code",
   "execution_count": 32,
   "metadata": {},
   "outputs": [
    {
     "name": "stdout",
     "output_type": "stream",
     "text": [
      "Smallest window containing all distinct characters is dbca\n"
     ]
    }
   ],
   "source": [
    "// Driver code \n",
    "public static void main(String args[]) \n",
    "{ \n",
    "    String str = \"aabcbcdbca\"; \n",
    "    System.out.println(\"Smallest window containing all distinct\"\n",
    "           + \" characters is \" + findSubString(str)); \n",
    "} \n",
    "main(args);"
   ]
  },
  {
   "cell_type": "markdown",
   "metadata": {},
   "source": [
    "## **81. Count ways to increase LCS length of two strings by one**\n",
    "https://www.geeksforgeeks.org/count-ways-increase-lcs-length-two-strings-one/"
   ]
  },
  {
   "cell_type": "code",
   "execution_count": 33,
   "metadata": {},
   "outputs": [],
   "source": [
    "/*\n",
    "Given two strings of lower alphabet characters, \n",
    "we need to find the number of ways to insert a character in the first string \n",
    "such that length of LCS of both strings increases by one.\n",
    "*/"
   ]
  },
  {
   "cell_type": "code",
   "execution_count": 34,
   "metadata": {},
   "outputs": [],
   "source": [
    "/*\n",
    "Examples:\n",
    "\n",
    "Input : str1 = “abab”, str2 = “abc”\n",
    "Output : 3\n",
    "LCS length of given two strings is 2.\n",
    "There are 3 ways of insertion in str1, \n",
    "to increase the LCS length by one which \n",
    "are enumerated below, \n",
    "str1 = “abcab”    str2 = “abc”  LCS length = 3\n",
    "str1 = “abacb”    str2 = “abc”  LCS length = 3\n",
    "str1 = “ababc”    str2 = “abc”  LCS length = 3\n",
    "\n",
    "Input : str1 = “abcabc”, str2 = “abcd”\n",
    "Output : 4\n",
    "*/"
   ]
  },
  {
   "cell_type": "code",
   "execution_count": 35,
   "metadata": {},
   "outputs": [],
   "source": [
    "/*\n",
    "The idea is try all 26 possible characters at each position of first string, \n",
    "if length of str1 is m then a new character can be inserted in (m + 1) positions, \n",
    "now suppose at any time character c is inserted at ith position in str1 \n",
    "then we will match it with all positions having character c in str2. \n",
    "Suppose one such position is j, then for total LCS length to be one more than previous, \n",
    "below condition should satisfy,\n",
    "\n",
    "Time Complexity : O(mn)\n",
    "Auxiliary Space : O(mn)\n",
    "*/"
   ]
  },
  {
   "cell_type": "code",
   "execution_count": 36,
   "metadata": {},
   "outputs": [],
   "source": [
    "/*\n",
    "LCS(str1[1, m], str2[1, n]) = LCS(str1[1, i],  str2[1, j-1]) + \n",
    "                              LCS(str1[i+1, m], str2[j+1, n])  \n",
    "*/"
   ]
  },
  {
   "cell_type": "code",
   "execution_count": 37,
   "metadata": {},
   "outputs": [],
   "source": [
    "/*\n",
    "Above equation states that sum of LCS of the suffix and prefix substrings at inserted character must be same as total LCS of strings, \n",
    "so that when the same character is inserted in first string it will increase the length of LCS by one.\n",
    "\n",
    "In below code two 2D arrays, lcsl and lcsr are used for storing LCS of prefix and suffix of strings respectively. \n",
    "Method for filling these 2D arrays can be found here.\n",
    "*/"
   ]
  },
  {
   "cell_type": "code",
   "execution_count": 38,
   "metadata": {},
   "outputs": [],
   "source": [
    "static int M = 26; \n",
    "\n",
    "// Method returns total ways to increase  \n",
    "// LCS length by 1 \n",
    "static int waysToIncreaseLCSBy1(String str1, \n",
    "                                String str2)  \n",
    "{ \n",
    "    int m = str1.length(), n = str2.length(); \n",
    "\n",
    "    // Fill positions of each character in vector \n",
    "    Vector<Integer>[] position = new Vector[M]; \n",
    "    for (int i = 0; i < M; i++) \n",
    "        position[i] = new Vector<>(); \n",
    "\n",
    "    for (int i = 1; i <= n; i++) \n",
    "        position[str2.charAt(i - 1) - 'a'].add(i); \n",
    "\n",
    "    int[][] lcsl = new int[m + 2][n + 2]; \n",
    "    int[][] lcsr = new int[m + 2][n + 2]; \n",
    "\n",
    "    // Initializing 2D array by 0 values \n",
    "    for (int i = 0; i <= m + 1; i++) \n",
    "        for (int j = 0; j <= n + 1; j++) \n",
    "            lcsl[i][j] = lcsr[i][j] = 0; \n",
    "\n",
    "    // Filling LCS array for prefix substrings \n",
    "    for (int i = 1; i <= m; i++)  \n",
    "    { \n",
    "        for (int j = 1; j <= n; j++) \n",
    "        { \n",
    "            if (str1.charAt(i - 1) == str2.charAt(j - 1)) \n",
    "                lcsl[i][j] = 1 + lcsl[i - 1][j - 1]; \n",
    "            else\n",
    "                lcsl[i][j] = Math.max(lcsl[i - 1][j],  \n",
    "                                      lcsl[i][j - 1]); \n",
    "        } \n",
    "    } \n",
    "\n",
    "    // Filling LCS array for suffix substrings \n",
    "    for (int i = m; i >= 1; i--)  \n",
    "    { \n",
    "        for (int j = n; j >= 1; j--)  \n",
    "        { \n",
    "            if (str1.charAt(i - 1) == str2.charAt(j - 1)) \n",
    "                lcsr[i][j] = 1 + lcsr[i + 1][j + 1]; \n",
    "            else\n",
    "                lcsr[i][j] = Math.max(lcsr[i + 1][j], \n",
    "                                      lcsr[i][j + 1]); \n",
    "        } \n",
    "    } \n",
    "\n",
    "    // Looping for all possible insertion positions \n",
    "    // in first string \n",
    "    int ways = 0; \n",
    "    for (int i = 0; i <= m; i++)  \n",
    "    { \n",
    "\n",
    "        // Trying all possible lower case characters \n",
    "        for (char d = 0; d < 26; d++)  \n",
    "        { \n",
    "\n",
    "            // Now for each character, loop over same \n",
    "            // character positions in second string \n",
    "            for (int j = 0; j < position[d].size(); j++) \n",
    "            { \n",
    "                int p = position[d].elementAt(j); \n",
    "\n",
    "                // If both, left and right substrings make \n",
    "                // total LCS then increase result by 1 \n",
    "                if (lcsl[i][p - 1] + \n",
    "                    lcsr[i + 1][p + 1] == lcsl[m][n]) \n",
    "                    ways++; \n",
    "            } \n",
    "        } \n",
    "    } \n",
    "    return ways; \n",
    "} "
   ]
  },
  {
   "cell_type": "code",
   "execution_count": 39,
   "metadata": {},
   "outputs": [
    {
     "name": "stdout",
     "output_type": "stream",
     "text": [
      "4\n"
     ]
    }
   ],
   "source": [
    "// Driver Code \n",
    "public static void main(String[] args)  \n",
    "{ \n",
    "    String str1 = \"abcabc\"; \n",
    "    String str2 = \"abcd\"; \n",
    "    System.out.println(waysToIncreaseLCSBy1(str1, str2)); \n",
    "} \n",
    "main(args);"
   ]
  },
  {
   "cell_type": "markdown",
   "metadata": {},
   "source": [
    "## **82. Given a sequence of words, print all anagrams together | Set 1**\n",
    "https://www.geeksforgeeks.org/given-a-sequence-of-words-print-all-anagrams-together/"
   ]
  },
  {
   "cell_type": "markdown",
   "metadata": {},
   "source": [
    "**Related Link:** \n",
    "\n",
    "***Given a sequence of words, print all anagrams together | Set 2 https://www.geeksforgeeks.org/given-a-sequence-of-words-print-all-anagrams-together-set-2/***"
   ]
  },
  {
   "cell_type": "code",
   "execution_count": 40,
   "metadata": {},
   "outputs": [],
   "source": [
    "/*\n",
    "A simple method is to create a Hash Table. \n",
    "Calculate the hash value of each word in such a way that all anagrams have the same hash value. \n",
    "Populate the Hash Table with these hash values. \n",
    "Finally, print those words together with same hash values. \n",
    "A simple hashing mechanism can be modulo sum of all characters. \n",
    "With modulo sum, two non-anagram words may have same hash value. \n",
    "This can be handled by matching individual characters.\n",
    "*/"
   ]
  },
  {
   "cell_type": "code",
   "execution_count": 41,
   "metadata": {},
   "outputs": [],
   "source": [
    "/*\n",
    "Following is another method to print all anagrams together. \n",
    "Take two auxiliary arrays, \n",
    "    index array and word array. \n",
    "Populate the word array with the given sequence of words. \n",
    "Sort each individual word of the word array. \n",
    "\n",
    "Finally, sort the word array and keep track of the corresponding indices. \n",
    "After sorting, all the anagrams cluster together. \n",
    "\n",
    "Use the index array to print the strings from the original array of strings.\n",
    "*/"
   ]
  },
  {
   "cell_type": "code",
   "execution_count": 42,
   "metadata": {},
   "outputs": [],
   "source": [
    "/*\n",
    "Let us understand the steps with following input Sequence of Words:\n",
    "\n",
    "\"cat\", \"dog\", \"tac\", \"god\", \"act\"\n",
    "1) Create two auxiliary arrays index[] and words[]. \n",
    "   Copy all given words to words[] and store the original indexes in index[]\n",
    "\n",
    "index[]:  0   1   2   3   4\n",
    "words[]: cat dog tac god act\n",
    "2) Sort individual words in words[]. Index array doesn’t change.\n",
    "\n",
    "index[]:   0    1    2    3    4\n",
    "words[]:  act  dgo  act  dgo  act\n",
    "3) Sort the words array. Compare individual words using strcmp() to sort\n",
    "\n",
    "index:     0    2    4    1    3\n",
    "words[]:  act  act  act  dgo  dgo\n",
    "4) All anagrams come together. But words are changed in words array. \n",
    "   To print the original words, take index from the index array and use it in the original array. We get\n",
    "\n",
    "\"cat tac act dog god\"\n",
    "\n",
    "Following are the implementations of the above algorithm. \n",
    "In the following program, an array of structure “Word” is used to store both index and word arrays. \n",
    "DupArray is another structure that stores array of structure “Word”.\n",
    "*/"
   ]
  },
  {
   "cell_type": "code",
   "execution_count": 43,
   "metadata": {},
   "outputs": [
    {
     "name": "stdout",
     "output_type": "stream",
     "text": [
      "cat tac act dog god "
     ]
    }
   ],
   "source": [
    "// class for each word of duplicate array \n",
    "static class Word { \n",
    "    String str; // to store word itself \n",
    "    int index; // index of the word in the \n",
    "    // original array \n",
    "\n",
    "    // constructor \n",
    "    Word(String str, int index) \n",
    "    { \n",
    "        this.str = str; \n",
    "        this.index = index; \n",
    "    } \n",
    "} \n",
    "\n",
    "// class to represent duplicate array. \n",
    "static class DupArray { \n",
    "    Word[] array; // Array of words \n",
    "    int size; // Size of array \n",
    "\n",
    "    // constructor \n",
    "    public DupArray(String str[], int size) \n",
    "    { \n",
    "        this.size = size; \n",
    "        array = new Word[size]; \n",
    "\n",
    "        // One by one copy words from the \n",
    "        // given wordArray to dupArray \n",
    "        int i; \n",
    "        for (i = 0; i < size; ++i) { \n",
    "            // create a word Object with the \n",
    "            // str[i] as str and index as i \n",
    "            array[i] = new Word(str[i], i); \n",
    "        } \n",
    "    } \n",
    "} \n",
    "\n",
    "// Compare two words. Used in Arrays.sort() for \n",
    "// sorting an array of words \n",
    "static class compStr implements Comparator<Word> { \n",
    "    public int compare(Word a, Word b) \n",
    "    { \n",
    "        return a.str.compareTo(b.str); \n",
    "    } \n",
    "} \n",
    "\n",
    "// Given a list of words in wordArr[], \n",
    "static void printAnagramsTogether(String wordArr[], \n",
    "                                  int size) \n",
    "{ \n",
    "    // Step 1: Create a copy of all words present \n",
    "    // in given wordArr. The copy will also have \n",
    "    // original indexes of words \n",
    "    DupArray dupArray = new DupArray(wordArr, size); \n",
    "\n",
    "    // Step 2: Iterate through all words in \n",
    "    // dupArray and sort individual words. \n",
    "    int i; \n",
    "    for (i = 0; i < size; ++i) { \n",
    "        char[] char_arr = dupArray.array[i].str.toCharArray(); \n",
    "        Arrays.sort(char_arr); \n",
    "        dupArray.array[i].str = new String(char_arr); \n",
    "    } \n",
    "\n",
    "    // Step 3: Now sort the array of words in \n",
    "    // dupArray \n",
    "    Arrays.sort(dupArray.array, new compStr()); \n",
    "\n",
    "    // Step 4: Now all words in dupArray are together, \n",
    "    // but these words are changed. Use the index \n",
    "    // member of word struct to get the corresponding \n",
    "    // original word \n",
    "    for (i = 0; i < size; ++i) \n",
    "        System.out.print(wordArr[dupArray.array[i].index] + \" \"); \n",
    "} \n",
    "\n",
    "// Driver program to test above functions \n",
    "public static void main(String args[]) \n",
    "{ \n",
    "    String wordArr[] = { \"cat\", \"dog\", \"tac\", \"god\", \"act\" }; \n",
    "    int size = wordArr.length; \n",
    "    printAnagramsTogether(wordArr, size); \n",
    "} \n",
    "main(args);"
   ]
  },
  {
   "cell_type": "code",
   "execution_count": 44,
   "metadata": {},
   "outputs": [],
   "source": [
    "/*\n",
    "Time Complexity: Let there be N words and each word has maximum M characters. \n",
    "The upper bound is O(NMLogM + MNLogN).\n",
    "\n",
    "Step 2 takes O(NMLogM) time. \n",
    "\n",
    "Sorting a word takes maximum O(MLogM) time. So sorting N words takes O(NMLogM) time. \n",
    "step 3 takes O(MNLogN) Sorting array of words takes NLogN comparisons. \n",
    "\n",
    "A comparison may take maximum O(M) time. \n",
    "\n",
    "So time to sort array of words will be O(MNLogN).\n",
    "*/"
   ]
  },
  {
   "cell_type": "code",
   "execution_count": 45,
   "metadata": {},
   "outputs": [],
   "source": [
    "/*\n",
    "Using hashmap\n",
    "\n",
    "Here, \n",
    "we first sort each word, use sorted word as key and then put original word in a map. \n",
    "The value of the map will be a list containing all the words which have same word after sorting.\n",
    "Lastly, \n",
    "we will print all values from the hashmap where size of values will be greater than 1.\n",
    "*/"
   ]
  },
  {
   "cell_type": "code",
   "execution_count": 46,
   "metadata": {},
   "outputs": [
    {
     "name": "stdout",
     "output_type": "stream",
     "text": [
      "[cat, tac, act][dog, god]"
     ]
    }
   ],
   "source": [
    "private static void printAnagrams(String arr[]) \n",
    "{ \n",
    "    HashMap<String, List<String> > map = new HashMap<>(); \n",
    "\n",
    "    // loop over all words \n",
    "    for (int i = 0; i < arr.length; i++) { \n",
    "\n",
    "        // convert to char array, sort and \n",
    "        // then re-convert to string \n",
    "        String word = arr[i]; \n",
    "        char[] letters = word.toCharArray(); \n",
    "        Arrays.sort(letters); \n",
    "        String newWord = new String(letters); \n",
    "\n",
    "        // calculate hashcode of string \n",
    "        // after sorting \n",
    "        if (map.containsKey(newWord)) { \n",
    "\n",
    "            map.get(newWord).add(word); \n",
    "        } \n",
    "        else { \n",
    "\n",
    "            // This is the first time we are \n",
    "            // adding a word for a specific \n",
    "            // hashcode \n",
    "            List<String> words = new ArrayList<>(); \n",
    "            words.add(word); \n",
    "            map.put(newWord, words); \n",
    "        } \n",
    "    } \n",
    "\n",
    "    // print all the values where size is > 1 \n",
    "    // If you want to print non-anagrams, \n",
    "    // just print the values having size = 1 \n",
    "    for (String s : map.keySet()) { \n",
    "        List<String> values = map.get(s); \n",
    "        if (values.size() > 1) { \n",
    "            System.out.print(values); \n",
    "        } \n",
    "    } \n",
    "} \n",
    "\n",
    "public static void main(String[] args) \n",
    "{ \n",
    "\n",
    "    // Driver program \n",
    "    String arr[] = { \"cat\", \"dog\", \"tac\", \"god\", \"act\" }; \n",
    "    printAnagrams(arr); \n",
    "} \n",
    "main(args);"
   ]
  },
  {
   "cell_type": "code",
   "execution_count": 47,
   "metadata": {},
   "outputs": [],
   "source": [
    "/*\n",
    "HashMap with O(NM) Solution\n",
    "\n",
    "In the previous approach, \n",
    "    we were sorting every string in order to maintain a similar key, \n",
    "    but that cost extra time in this approach will take the advantage of another hashmap to maintain the frequency of the characters\n",
    "    which will generate the same hash function for different string having same frequency of characters.\n",
    "\n",
    "Here, we will take HashMap<HashMap, ArrayList>, the inner hashmap will count the frequency of the characters of each string \n",
    "    and the outer HashMap will check whether that hashmap is present or not \n",
    "    if present then it will add that string to the corresponding list.\n",
    "    \n",
    "Time Complexity: Let there be N words and each word has maximum M characters. The upper bound is O(NM).\n",
    "Space Complexity: Let there be N words and each word has maximum M characters. The upper bound is O(N+M).\n",
    "*/"
   ]
  },
  {
   "cell_type": "code",
   "execution_count": 48,
   "metadata": {},
   "outputs": [
    {
     "name": "stdout",
     "output_type": "stream",
     "text": [
      "[[cat, atc], [dog, ogd, god]]\n"
     ]
    }
   ],
   "source": [
    "private static ArrayList<ArrayList<String> > \n",
    "solver( \n",
    "    ArrayList<String> list) \n",
    "{ \n",
    "\n",
    "    // Inner hashmap counts frequency \n",
    "    // of characters in a string. \n",
    "    // Outer hashmap for if same \n",
    "    // frequency characters are present in \n",
    "    // in a string then it will add it to \n",
    "    // the arraylist. \n",
    "    HashMap<HashMap<Character, Integer>, \n",
    "            ArrayList<String> > \n",
    "        map = new HashMap<HashMap<Character, Integer>, \n",
    "                          ArrayList<String> >(); \n",
    "    for (String str : list) { \n",
    "        HashMap<Character, Integer> \n",
    "            tempMap = new HashMap<Character, Integer>(); \n",
    "\n",
    "        // Counting the frequency of the \n",
    "        // characters present in a string \n",
    "        for (int i = 0; i < str.length(); i++) { \n",
    "            if (tempMap.containsKey(str.charAt(i))) { \n",
    "                int x = tempMap.get(str.charAt(i)); \n",
    "                tempMap.put(str.charAt(i), ++x); \n",
    "            } \n",
    "            else { \n",
    "                tempMap.put(str.charAt(i), 1); \n",
    "            } \n",
    "        } \n",
    "\n",
    "        // If the same frequency of chanracters \n",
    "        // are alraedy present then add that \n",
    "        // string into that arraylist otherwise \n",
    "        // created a new arraylist and add that string \n",
    "        if (map.containsKey(tempMap)) \n",
    "            map.get(tempMap).add(str); \n",
    "        else { \n",
    "            ArrayList<String> \n",
    "                tempList = new ArrayList<String>(); \n",
    "            tempList.add(str); \n",
    "            map.put(tempMap, tempList); \n",
    "        } \n",
    "    } \n",
    "\n",
    "    // Stores the result in a arraylist \n",
    "    ArrayList<ArrayList<String> > \n",
    "        result = new ArrayList<>(); \n",
    "    for (HashMap<Character, Integer> \n",
    "             temp : map.keySet()) \n",
    "        result.add(map.get(temp)); \n",
    "    return result; \n",
    "} \n",
    "\n",
    "// Drivers Method \n",
    "public static void main(String[] args) \n",
    "{ \n",
    "    ArrayList<String> list = new ArrayList<>(); \n",
    "    list.add(\"cat\"); \n",
    "    list.add(\"dog\"); \n",
    "    list.add(\"ogd\"); \n",
    "    list.add(\"god\"); \n",
    "    list.add(\"atc\"); \n",
    "\n",
    "    System.out.println(solver(list)); \n",
    "} \n",
    "main(args);"
   ]
  },
  {
   "cell_type": "markdown",
   "metadata": {},
   "source": [
    "## **83. Anagram Substring Search (Or Search for all permutations)**\n",
    "https://www.geeksforgeeks.org/anagram-substring-search-search-permutations/"
   ]
  },
  {
   "cell_type": "code",
   "execution_count": 49,
   "metadata": {},
   "outputs": [],
   "source": [
    "/*\n",
    "Given a text txt[0..n-1] and a pattern pat[0..m-1], \n",
    "write a function search(char pat[], char txt[]) that prints all occurrences of pat[] and its permutations (or anagrams) in txt[]. \n",
    "You may assume that n > m.\n",
    "Expected time complexity is O(n)\n",
    "*/"
   ]
  },
  {
   "cell_type": "code",
   "execution_count": 50,
   "metadata": {},
   "outputs": [],
   "source": [
    "/*\n",
    "Examples:\n",
    "\n",
    "1) Input:  txt[] = \"BACDGABCDA\"  pat[] = \"ABCD\"\n",
    "   Output:   Found at Index 0\n",
    "             Found at Index 5\n",
    "             Found at Index 6\n",
    "2) Input: txt[] =  \"AAABABAA\" pat[] = \"AABA\"\n",
    "   Output:   Found at Index 0\n",
    "             Found at Index 1\n",
    "             Found at Index 4\n",
    "*/"
   ]
  },
  {
   "cell_type": "code",
   "execution_count": 51,
   "metadata": {},
   "outputs": [],
   "source": [
    "/*\n",
    "This problem is slightly different from standard pattern searching problem, here we need to search for anagrams as well. \n",
    "Therefore, we cannot directly apply standard pattern searching algorithms like KMP, Rabin Karp, Boyer Moore, etc.\n",
    "\n",
    "A simple idea is to modify Rabin Karp Algorithm. \n",
    "For example we can keep the hash value as sum of ASCII values of all characters under modulo of a big prime number. \n",
    "For every character of text, we can add the current character to hash value and subtract the first character of previous window. \n",
    "This solution looks good, but like standard Rabin Karp, the worst case time complexity of this solution is O(mn). \n",
    "The worst case occurs when all hash values match and we one by one match all characters.\n",
    "\n",
    "We can achieve O(n) time complexity under the assumption that alphabet size is fixed which is typically true as we have maximum 256 possible characters in ASCII. \n",
    "\n",
    "The idea is to use two count arrays:\n",
    "\n",
    "1) The first count array store frequencies of characters in pattern.\n",
    "2) The second count array stores frequencies of characters in current window of text.\n",
    "\n",
    "The important thing to note is, time complexity to compare two count arrays is O(1) \n",
    "as the number of elements in them are fixed (independent of pattern and text sizes). \n",
    "\n",
    "Following are steps of this algorithm.\n",
    "    1) Store counts of frequencies of pattern in first count array countP[]. \n",
    "       Also store counts of frequencies of characters in first window of text in array countTW[].\n",
    "\n",
    "    2) Now run a loop from i = M to N-1. Do following in loop.\n",
    "        …..a) If the two count arrays are identical, we found an occurrence.\n",
    "        …..b) Increment count of current character of text in countTW[]\n",
    "        …..c) Decrement count of first character in previous window in countWT[]\n",
    "\n",
    "    3) The last window is not checked by above loop, so explicitly check it.\n",
    "\n",
    "Following is the implementation of above algorithm.\n",
    "*/"
   ]
  },
  {
   "cell_type": "code",
   "execution_count": 52,
   "metadata": {},
   "outputs": [],
   "source": [
    "static final int MAX = 256; \n",
    "\n",
    "// This function returns true if contents \n",
    "// of arr1[] and arr2[] are same, otherwise \n",
    "// false. \n",
    "static boolean compare(char arr1[], char arr2[]) \n",
    "{ \n",
    "    for (int i = 0; i < MAX; i++) \n",
    "        if (arr1[i] != arr2[i]) \n",
    "            return false; \n",
    "    return true; \n",
    "} \n",
    "\n",
    "// This function search for all permutations \n",
    "// of pat[] in txt[] \n",
    "static void search(String pat, String txt) \n",
    "{ \n",
    "    int M = pat.length(); \n",
    "    int N = txt.length(); \n",
    "\n",
    "    // countP[]:  Store count of all  \n",
    "    // characters of pattern \n",
    "    // countTW[]: Store count of current \n",
    "    // window of text \n",
    "    char[] countP = new char[MAX]; \n",
    "    char[] countTW = new char[MAX]; \n",
    "    for (int i = 0; i < M; i++) \n",
    "    { \n",
    "        (countP[pat.charAt(i)])++; \n",
    "        (countTW[txt.charAt(i)])++; \n",
    "    } \n",
    "\n",
    "    // Traverse through remaining characters \n",
    "    // of pattern \n",
    "    for (int i = M; i < N; i++) \n",
    "    { \n",
    "        // Compare counts of current window \n",
    "        // of text with counts of pattern[] \n",
    "        if (compare(countP, countTW)) \n",
    "            System.out.println(\"Found at Index \" + \n",
    "                                      (i - M)); \n",
    "\n",
    "        // Add current character to current  \n",
    "        // window \n",
    "        (countTW[txt.charAt(i)])++; \n",
    "\n",
    "        // Remove the first character of previous \n",
    "        // window \n",
    "        countTW[txt.charAt(i-M)]--; \n",
    "    } \n",
    "\n",
    "    // Check for the last window in text \n",
    "    if (compare(countP, countTW)) \n",
    "        System.out.println(\"Found at Index \" +  \n",
    "                                   (N - M)); \n",
    "} "
   ]
  },
  {
   "cell_type": "code",
   "execution_count": 53,
   "metadata": {},
   "outputs": [
    {
     "name": "stdout",
     "output_type": "stream",
     "text": [
      "Found at Index 0\n",
      "Found at Index 5\n",
      "Found at Index 6\n"
     ]
    }
   ],
   "source": [
    "/* Driver program to test above function */\n",
    "public static void main(String args[]) \n",
    "{ \n",
    "    String txt = \"BACDGABCDA\"; \n",
    "    String pat = \"ABCD\"; \n",
    "    search(pat, txt); \n",
    "} \n",
    "main(args);"
   ]
  },
  {
   "cell_type": "markdown",
   "metadata": {},
   "source": [
    "***https://youtu.be/-rcfE1Tj2E0***"
   ]
  },
  {
   "cell_type": "markdown",
   "metadata": {},
   "source": [
    "## **84. Check if two strings are k-anagrams or not**\n",
    "https://www.geeksforgeeks.org/check-two-strings-k-anagrams-not/"
   ]
  },
  {
   "cell_type": "code",
   "execution_count": 54,
   "metadata": {},
   "outputs": [],
   "source": [
    "/*\n",
    "Given two strings of lowercase alphabets and a value k, \n",
    "the task is to find if two strings are K-anagrams of each other or not.\n",
    "\n",
    "Two strings are called k-anagrams if following two conditions are true.\n",
    "\n",
    "1. Both have same number of characters.\n",
    "2. Two strings can become anagram by changing at most k characters in a string.\n",
    "*/"
   ]
  },
  {
   "cell_type": "code",
   "execution_count": 55,
   "metadata": {},
   "outputs": [],
   "source": [
    "/*\n",
    "Examples :\n",
    "\n",
    "Input:  str1 = \"anagram\" , str2 = \"grammar\" , k = 3\n",
    "Output:  Yes\n",
    "Explanation: We can update maximum 3 values and \n",
    "it can be done in changing only 'r' to 'n' \n",
    "and 'm' to 'a' in str2.\n",
    "\n",
    "Input:  str1 = \"geeks\", str2 = \"eggkf\", k = 1\n",
    "Output:  No\n",
    "Explanation: We can update or modify only 1 \n",
    "value but there is a need of modifying 2 characters. \n",
    "i.e. g and f in str 2.\n",
    "*/"
   ]
  },
  {
   "cell_type": "code",
   "execution_count": 56,
   "metadata": {},
   "outputs": [],
   "source": [
    "/*\n",
    "Below is a solution to check if two strings are k-anagrams of each other or not.\n",
    "\n",
    "1. Stores occurrence of all characters of both strings in separate count arrays.\n",
    "2. Count number of different characters in both strings (in this if a strings has 4 a and second has 3 ‘a’ then it will be also count.\n",
    "3. If count of different characters is less than or equal to k, then return true else false.\n",
    "*/"
   ]
  },
  {
   "cell_type": "code",
   "execution_count": 57,
   "metadata": {},
   "outputs": [],
   "source": [
    "static final int MAX_CHAR = 26; \n",
    "\n",
    "// Function to check that string is k-anagram or not \n",
    "static boolean arekAnagrams(String str1, String str2,  \n",
    "                                             int k) \n",
    "{ \n",
    "    // If both strings are not of equal \n",
    "    // length then return false \n",
    "    int n = str1.length(); \n",
    "    if (str2.length() != n) \n",
    "        return false; \n",
    "\n",
    "    int[] count1 = new int[MAX_CHAR]; \n",
    "    int[] count2 = new int[MAX_CHAR]; \n",
    "    int count = 0; \n",
    "\n",
    "    // Store the occurrence of all characters \n",
    "    // in a hash_array \n",
    "    for (int i = 0; i < n; i++) \n",
    "        count1[str1.charAt(i) - 'a']++; \n",
    "    for (int i = 0; i < n; i++) \n",
    "        count2[str2.charAt(i) - 'a']++; \n",
    "\n",
    "    // Count number of characters that are \n",
    "    // different in both strings \n",
    "    for (int i = 0; i < MAX_CHAR; i++) \n",
    "        if (count1[i] > count2[i]) \n",
    "            count = count + Math.abs(count1[i] -  \n",
    "                                      count2[i]); \n",
    "\n",
    "    // Return true if count is less than or \n",
    "    // equal to k \n",
    "    return (count <= k); \n",
    "} "
   ]
  },
  {
   "cell_type": "code",
   "execution_count": 58,
   "metadata": {},
   "outputs": [
    {
     "name": "stdout",
     "output_type": "stream",
     "text": [
      "Yes\n"
     ]
    }
   ],
   "source": [
    "// Driver code \n",
    "public static void main(String args[]) \n",
    "{ \n",
    "    String str1 = \"anagram\"; \n",
    "    String str2 = \"grammar\"; \n",
    "    int k = 2; \n",
    "    if (arekAnagrams(str1, str2, k)) \n",
    "        System.out.println(\"Yes\"); \n",
    "    else\n",
    "        System.out.println(\"No\"); \n",
    "} \n",
    "main(args);"
   ]
  },
  {
   "cell_type": "code",
   "execution_count": 59,
   "metadata": {},
   "outputs": [],
   "source": [
    "/*\n",
    "We can optimize above solution. \n",
    "\n",
    "Here we use only one count array to store counts of characters in str1. \n",
    "We traverse str2 and decrement occurrence of every character in count array that is present in str2. \n",
    "If we find a character that is not there in str1, \n",
    "    we increment count of different characters. \n",
    "If count of different character become more than k, \n",
    "    we return false.\n",
    "*/"
   ]
  },
  {
   "cell_type": "code",
   "execution_count": 60,
   "metadata": {},
   "outputs": [],
   "source": [
    "static final int MAX_CHAR = 26; \n",
    "\n",
    "// Function to check if str1 and str2 are k-anagram \n",
    "// or not \n",
    "static boolean areKAnagrams(String str1, String str2,  \n",
    "                                              int k) \n",
    "{ \n",
    "    // If both strings are not of equal \n",
    "    // length then return false \n",
    "    int n = str1.length(); \n",
    "    if (str2.length() != n) \n",
    "        return false; \n",
    "\n",
    "    int[] hash_str1 = new int[MAX_CHAR]; \n",
    "\n",
    "    // Store the occurrence of all characters \n",
    "    // in a hash_array \n",
    "    for (int i = 0; i < n ; i++) \n",
    "        hash_str1[str1.charAt(i)-'a']++; \n",
    "\n",
    "    // Store the occurrence of all characters \n",
    "    // in a hash_array \n",
    "    int count = 0; \n",
    "    for (int i = 0; i < n ; i++) \n",
    "    { \n",
    "        if (hash_str1[str2.charAt(i)-'a'] > 0) \n",
    "            hash_str1[str2.charAt(i)-'a']--; \n",
    "        else\n",
    "            count++; \n",
    "\n",
    "        if (count > k) \n",
    "            return false; \n",
    "    } \n",
    "\n",
    "    // Return true if count is less than or \n",
    "    // equal to k \n",
    "    return true; \n",
    "} "
   ]
  },
  {
   "cell_type": "code",
   "execution_count": 61,
   "metadata": {},
   "outputs": [
    {
     "name": "stdout",
     "output_type": "stream",
     "text": [
      "Yes\n"
     ]
    }
   ],
   "source": [
    "// Driver code \n",
    "public static void main(String args[]) \n",
    "{ \n",
    "    String str1 = \"fodr\"; \n",
    "    String str2 = \"gork\"; \n",
    "    int k = 2; \n",
    "    if (areKAnagrams(str1, str2, k) == true) \n",
    "        System.out.println(\"Yes\"); \n",
    "    else\n",
    "        System.out.println(\"No\"); \n",
    "} \n",
    "main(args);"
   ]
  },
  {
   "cell_type": "markdown",
   "metadata": {},
   "source": [
    "## **85. Check if binary representations of two numbers are anagram**\n",
    "https://www.geeksforgeeks.org/check-binary-representations-two-numbers-anagram/"
   ]
  },
  {
   "cell_type": "code",
   "execution_count": 62,
   "metadata": {},
   "outputs": [],
   "source": [
    "/*\n",
    "Given two numbers you are required to check whether they are anagrams of each other or not in binary representation.\n",
    "*/"
   ]
  },
  {
   "cell_type": "code",
   "execution_count": 63,
   "metadata": {},
   "outputs": [],
   "source": [
    "/*\n",
    "Examples:\n",
    "\n",
    "Input : a = 8, b = 4 \n",
    "Output : Yes\n",
    "Binary representations of both\n",
    "numbers have same 0s and 1s.\n",
    "\n",
    "Input : a = 4, b = 5\n",
    "Output : No\n",
    "*/"
   ]
  },
  {
   "cell_type": "code",
   "execution_count": 64,
   "metadata": {},
   "outputs": [],
   "source": [
    "/*\n",
    "Simple Approach:\n",
    "\n",
    "Find Binary Representation of ‘a’ and ‘b’ using simple decimal to binary representation technique.\n",
    "Check if two binary representations are anagram\n",
    "\n",
    "Time Complexity : O (n log n)\n",
    "Auxiliary Space : O (1) Although Auxiliary Space is O(1) still SIZE array spaces are getting used to store binary representation of each number.\n",
    "*/"
   ]
  },
  {
   "cell_type": "code",
   "execution_count": 65,
   "metadata": {},
   "outputs": [
    {
     "name": "stdout",
     "output_type": "stream",
     "text": [
      "1\n"
     ]
    }
   ],
   "source": [
    "public static int SIZE = 8; \n",
    "\n",
    "// Function to check if binary representation \n",
    "// of two numbers are anagram \n",
    "static int bit_anagram_check(long a, long b) \n",
    "{ \n",
    "    // Find reverse binary representation of a \n",
    "    // and store it in binary_a[] \n",
    "    int i = 0; \n",
    "    long[] binary_a = new long[SIZE]; \n",
    "    Arrays.fill(binary_a, 0); \n",
    "    while (a > 0)  \n",
    "    { \n",
    "        binary_a[i] = a%2; \n",
    "        a /= 2; \n",
    "        i++; \n",
    "    } \n",
    "\n",
    "    // Find reverse binary representation of b \n",
    "    // and store it in binary_a[] \n",
    "    int j = 0; \n",
    "    long[] binary_b = new long[SIZE]; \n",
    "    Arrays.fill(binary_b, 0); \n",
    "    while (b > 0)  \n",
    "    { \n",
    "        binary_b[j] = b%2; \n",
    "        b /= 2; \n",
    "        j++; \n",
    "    } \n",
    "\n",
    "    // Sort two binary representations \n",
    "    Arrays.sort(binary_a); \n",
    "    Arrays.sort(binary_b); \n",
    "\n",
    "    // Compare two sorted binary representations \n",
    "    for (i = 0; i < SIZE; i++) \n",
    "        if (binary_a[i] != binary_b[i])  \n",
    "            return 0; \n",
    "\n",
    "    return 1; \n",
    "} \n",
    "\n",
    "// driver program \n",
    "public static void main (String[] args)  \n",
    "{ \n",
    "    long a = 8, b = 4; \n",
    "    System.out.println(bit_anagram_check(a, b)); \n",
    "} \n",
    "main(args);"
   ]
  },
  {
   "cell_type": "code",
   "execution_count": 66,
   "metadata": {},
   "outputs": [],
   "source": [
    "/*\n",
    "Efficient Approach:\n",
    "Just measure the number of 1’s present in the bit representation of both the numbers, \n",
    "if number of 1’s present in their bit representation are same then they are anagrams in their bit representation \n",
    "else they are not.\n",
    "\n",
    "Time Complexity : O (1)\n",
    "Auxiliary Space : O (1) No extra space is getting used.\n",
    "*/"
   ]
  },
  {
   "cell_type": "code",
   "execution_count": 67,
   "metadata": {},
   "outputs": [
    {
     "name": "stdout",
     "output_type": "stream",
     "text": [
      "1\n"
     ]
    }
   ],
   "source": [
    "// Function returns true if binary representations of \n",
    "// a and b are anagram \n",
    "static boolean bit_anagram_check(long a, long b) \n",
    "{ \n",
    "    // Long.bitCount(a) gives number of 1's present \n",
    "    // in binary representation of a \n",
    "    return (Long.bitCount(a) == Long.bitCount(b)); \n",
    "} \n",
    "\n",
    "// driver program \n",
    "public static void main (String[] args)  \n",
    "{ \n",
    "    long a = 8, b = 4; \n",
    "    if(bit_anagram_check(a, b)) \n",
    "        System.out.println(\"1\"); \n",
    "    else\n",
    "        System.out.println(\"0\"); \n",
    "} \n",
    "main(args);"
   ]
  },
  {
   "cell_type": "markdown",
   "metadata": {},
   "source": [
    "**Related Link** ***https://www.geeksforgeeks.org/count-set-bits-in-an-integer/***"
   ]
  },
  {
   "cell_type": "markdown",
   "metadata": {},
   "source": [
    "## **86. Longest Palindromic Substring | Set 2**\n",
    "https://www.geeksforgeeks.org/longest-palindromic-substring-set-2/"
   ]
  },
  {
   "cell_type": "code",
   "execution_count": 68,
   "metadata": {},
   "outputs": [],
   "source": [
    "/*\n",
    "Given a string, find the longest substring which is palindrome. \n",
    "For example, \n",
    "    if the given string is “forgeeksskeegfor”, \n",
    "    the output should be “geeksskeeg”.\n",
    "*/"
   ]
  },
  {
   "cell_type": "markdown",
   "metadata": {},
   "source": [
    "***https://www.geeksforgeeks.org/longest-palindrome-substring-set-1/***"
   ]
  },
  {
   "cell_type": "code",
   "execution_count": 69,
   "metadata": {},
   "outputs": [],
   "source": [
    "/*\n",
    "Dynamic programming solution in the Above Link. \n",
    "The time complexity of the Dynamic Programming based solution is O(n^2) and it requires O(n^2) extra space. \n",
    "\n",
    "We can find the longest palindrome substring in (n^2) time with O(1) extra space. \n",
    "The idea is to generate all even length and odd length palindromes and keep track of the longest palindrome seen so far.\n",
    "\n",
    "Time complexity: O ( n^2 ) where n is the length of input string.\n",
    "Auxiliary Space: O ( 1 )\n",
    "*/"
   ]
  },
  {
   "cell_type": "code",
   "execution_count": 70,
   "metadata": {},
   "outputs": [],
   "source": [
    "/*\n",
    "Step to generate odd length palindrome:\n",
    "    Fix a centre and expand in both directions for longer palindromes.\n",
    "\n",
    "Step to generate even length palindrome\n",
    "    Fix two centre ( low and high ) and expand in both directions for longer palindromes.\n",
    "*/"
   ]
  },
  {
   "cell_type": "code",
   "execution_count": 71,
   "metadata": {},
   "outputs": [
    {
     "name": "stdout",
     "output_type": "stream",
     "text": [
      "Longest palindrome substring is: geeksskeeg\n",
      "Length is: 10\n"
     ]
    }
   ],
   "source": [
    "// A utility function to print a substring str[low..high] \n",
    "static void printSubStr(String str, int low, int high) { \n",
    "    System.out.println(str.substring(low, high + 1)); \n",
    "} \n",
    "\n",
    "// This function prints the longest palindrome substring  \n",
    "// (LPS) of str[]. It also returns the length of the   \n",
    "// longest palindrome  \n",
    "static int longestPalSubstr(String str) { \n",
    "    int maxLength = 1; // The result (length of LPS) \n",
    "\n",
    "    int start = 0; \n",
    "    int len = str.length(); \n",
    "\n",
    "    int low, high; \n",
    "\n",
    "    // One by one consider every character as center \n",
    "    // point of even and length palindromes \n",
    "    for (int i = 1; i < len; ++i)  \n",
    "    { \n",
    "        // Find the longest even length palindrome with  \n",
    "        // center points as i-1 and i. \n",
    "        low = i - 1; \n",
    "        high = i; \n",
    "        while (low >= 0 && high < len \n",
    "                && str.charAt(low) == str.charAt(high)) { \n",
    "            if (high - low + 1 > maxLength) { \n",
    "                start = low; \n",
    "                maxLength = high - low + 1; \n",
    "            } \n",
    "            --low; \n",
    "            ++high; \n",
    "        } \n",
    "\n",
    "        // Find the longest odd length palindrome with  \n",
    "        // center point as i \n",
    "        low = i - 1; \n",
    "        high = i + 1; \n",
    "        while (low >= 0 && high < len \n",
    "                && str.charAt(low) == str.charAt(high)) { \n",
    "            if (high - low + 1 > maxLength) { \n",
    "                start = low; \n",
    "                maxLength = high - low + 1; \n",
    "            } \n",
    "            --low; \n",
    "            ++high; \n",
    "        } \n",
    "    } \n",
    "\n",
    "    System.out.print(\"Longest palindrome substring is: \"); \n",
    "    printSubStr(str, start, start + maxLength - 1); \n",
    "\n",
    "    return maxLength; \n",
    "} \n",
    "\n",
    "// Driver program to test above function \n",
    "public static void main(String[] args) { \n",
    "\n",
    "    String str = \"forgeeksskeegfor\"; \n",
    "    System.out.println(\"Length is: \" +  \n",
    "                       longestPalSubstr(str)); \n",
    "}\n",
    "main(args);"
   ]
  },
  {
   "cell_type": "markdown",
   "metadata": {},
   "source": [
    "## **87. Find the smallest window in a string containing all characters of another string**\n",
    "https://www.geeksforgeeks.org/find-the-smallest-window-in-a-string-containing-all-characters-of-another-string/"
   ]
  },
  {
   "cell_type": "code",
   "execution_count": 72,
   "metadata": {},
   "outputs": [],
   "source": [
    "/*\n",
    "Given two strings string1 and string2, \n",
    "the task is to find the smallest substring in string1 containing all characters of string2 efficiently.\n",
    "*/"
   ]
  },
  {
   "cell_type": "code",
   "execution_count": 73,
   "metadata": {},
   "outputs": [],
   "source": [
    "/*\n",
    "Examples:\n",
    "\n",
    "Input: string = “this is a test string”, pattern = “tist”\n",
    "Output: Minimum window is “t stri”\n",
    "Explanation: “t stri” contains all the characters of pattern.\n",
    "\n",
    "Input: string = “geeksforgeeks”, pattern = “ork”\n",
    "Output: Minimum window is “ksfor”\n",
    "*/"
   ]
  },
  {
   "cell_type": "code",
   "execution_count": 74,
   "metadata": {},
   "outputs": [],
   "source": [
    "/*\n",
    "Method 1 ( Brute force solution )\n",
    "    1- Generate all substrings of string1 (“this is a test string”)\n",
    "    2- For each substring, check whether the substring contains all characters of string2 (“tist”)\n",
    "    3- Finally, print the smallest substring containing all characters of string2.\n",
    "*/"
   ]
  },
  {
   "cell_type": "code",
   "execution_count": 75,
   "metadata": {},
   "outputs": [],
   "source": [
    "/*\n",
    "Method 2 ( Efficient Solution )\n",
    "\n",
    "    1. First check if the length of string is less than the length of the given pattern, \n",
    "       if yes then “no such window can exist “.\n",
    "    2. Store the occurrence of characters of the given pattern in a hash_pat[].\n",
    "    3. Start matching the characters of pattern with the characters of string \n",
    "       i.e. increment count if a character matches.\n",
    "    4. Check if (count == length of pattern ) this means a window is found.\n",
    "    5. If such window found, \n",
    "       try to minimize it by removing extra characters from the beginning of the current window.\n",
    "    6. Update min_length.\n",
    "    7. Print the minimum length window.\n",
    "*/"
   ]
  },
  {
   "cell_type": "markdown",
   "metadata": {},
   "source": [
    "**Diagram to explain the above algorithm:**"
   ]
  },
  {
   "cell_type": "markdown",
   "metadata": {},
   "source": [
    "<img src = \"https://media.geeksforgeeks.org/wp-content/cdn-uploads/smallest-window.png\"/>"
   ]
  },
  {
   "cell_type": "code",
   "execution_count": 76,
   "metadata": {},
   "outputs": [],
   "source": [
    "static final int no_of_chars = 256; \n",
    "\n",
    "// Function to find smallest window containing \n",
    "// all characters of 'pat' \n",
    "static String findSubString(String str, String pat) \n",
    "{ \n",
    "    int len1 = str.length(); \n",
    "    int len2 = pat.length(); \n",
    "\n",
    "    // check if string's length is less than pattern's \n",
    "    // length. If yes then no such window can exist \n",
    "    if (len1 < len2) \n",
    "    { \n",
    "        System.out.println(\"No such window exists\"); \n",
    "        return \"\"; \n",
    "    } \n",
    "\n",
    "    int hash_pat[] = new int[no_of_chars]; \n",
    "    int hash_str[] = new int[no_of_chars]; \n",
    "\n",
    "    // store occurrence ofs characters of pattern \n",
    "    for (int i = 0; i < len2; i++) \n",
    "        hash_pat[pat.charAt(i)]++; \n",
    "\n",
    "    int start = 0, start_index = -1, min_len = Integer.MAX_VALUE; \n",
    "\n",
    "    // start traversing the string \n",
    "    int count = 0; // count of characters \n",
    "    for (int j = 0; j < len1 ; j++) \n",
    "    { \n",
    "        // count occurrence of characters of string \n",
    "        hash_str[str.charAt(j)]++; \n",
    "\n",
    "        // If string's char matches with pattern's char \n",
    "        // then increment count \n",
    "        if (hash_pat[str.charAt(j)] != 0 && \n",
    "            hash_str[str.charAt(j)] <= hash_pat[str.charAt(j)] ) \n",
    "            count++; \n",
    "\n",
    "        // if all the characters are matched \n",
    "        if (count == len2) \n",
    "        { \n",
    "            // Try to minimize the window i.e., check if \n",
    "            // any character is occurring more no. of times \n",
    "            // than its occurrence in pattern, if yes \n",
    "            // then remove it from starting and also remove \n",
    "            // the useless characters. \n",
    "            while ( hash_str[str.charAt(start)] > hash_pat[str.charAt(start)] \n",
    "                || hash_pat[str.charAt(start)] == 0) \n",
    "            { \n",
    "\n",
    "                if (hash_str[str.charAt(start)] > hash_pat[str.charAt(start)]) \n",
    "                    hash_str[str.charAt(start)]--; \n",
    "                start++; \n",
    "            } \n",
    "\n",
    "            // update window size \n",
    "            int len_window = j - start + 1; \n",
    "            if (min_len > len_window) \n",
    "            { \n",
    "                min_len = len_window; \n",
    "                start_index = start; \n",
    "            } \n",
    "        } \n",
    "    } \n",
    "\n",
    "    // If no window found \n",
    "    if (start_index == -1) \n",
    "    { \n",
    "    System.out.println(\"No such window exists\"); \n",
    "    return \"\"; \n",
    "    } \n",
    "\n",
    "    // Return substring starting from start_index \n",
    "    // and length min_len \n",
    "    return str.substring(start_index, start_index + min_len); \n",
    "} "
   ]
  },
  {
   "cell_type": "code",
   "execution_count": 77,
   "metadata": {},
   "outputs": [
    {
     "name": "stdout",
     "output_type": "stream",
     "text": [
      "Smallest window is :\n",
      " t stri"
     ]
    }
   ],
   "source": [
    "// Driver Method \n",
    "public static void main(String[] args) \n",
    "{ \n",
    "    String str = \"this is a test string\"; \n",
    "    String pat = \"tist\"; \n",
    "\n",
    "    System.out.print(\"Smallest window is :\\n \" + \n",
    "                    findSubString(str, pat)); \n",
    "}\n",
    "main(args);"
   ]
  },
  {
   "cell_type": "markdown",
   "metadata": {},
   "source": [
    "## **88. Permutation and Palindrome**\n",
    "https://www.codechef.com/FEB18/problems/PERMPAL"
   ]
  },
  {
   "cell_type": "code",
   "execution_count": 78,
   "metadata": {},
   "outputs": [],
   "source": [
    "/*\n",
    "You are given a string s with length n. \n",
    "You should find a permutation P of numbers 1 through n such that if you apply this permutation on the string s, \n",
    "you will get a palindromic string.\n",
    "\n",
    "The result of applying a permutation P on the string s is a string t with length n \n",
    "such that for each i (1 ≤ i ≤ n), the i-th character of t is given as as t[i] = s[Pi].\n",
    "*/"
   ]
  },
  {
   "cell_type": "code",
   "execution_count": 79,
   "metadata": {},
   "outputs": [],
   "source": [
    "/*\n",
    "Example\n",
    "Input\n",
    "\n",
    "4\n",
    "aa\n",
    "baa\n",
    "abc\n",
    "abab\n",
    "\n",
    "Output\n",
    "\n",
    "1 2\n",
    "2 1 3\n",
    "-1\n",
    "1 2 4 3\n",
    "*/"
   ]
  },
  {
   "cell_type": "code",
   "execution_count": 80,
   "metadata": {},
   "outputs": [],
   "source": [
    "/*\n",
    "Explanation\n",
    "Example case 1: The string t obtained using the identity permutation will have t[1] = s[1] and t[2] = s[2]. \n",
    "                That means t = \"aa\", which is a palindrome.\n",
    "\n",
    "Example case 2: The characters of the string t obtained by applying the permutation 2, 1, 3 are t[1] = s[2], t[2] = s[1] and t[3] = s[3]. \n",
    "                Therefore, t = \"aba\", which is a palindrome.\n",
    "\n",
    "Example case 3: There is no way to find a permutation P such that we can obtain a palindrome from s using it.\n",
    "\n",
    "Example case 4: Applying the permutation 1, 2, 4, 3 on s results in t = \"abba\", which is a palindrome. \n",
    "                Another permutation that you may apply is 2, 1, 3, 4; this results in t = \"baab\", which is also a palindrome.\n",
    "*/"
   ]
  },
  {
   "cell_type": "code",
   "execution_count": 81,
   "metadata": {},
   "outputs": [
    {
     "name": "stdout",
     "output_type": "stream",
     "text": [
      "1 2 \n",
      "2 1 3 \n",
      "-1\n",
      "1 2 4 3 \n"
     ]
    }
   ],
   "source": [
    "public static void main (String[] args) throws java.lang.Exception\n",
    "{\n",
    "    int t = 4;\n",
    "    String[] str = new String[t];\n",
    "    str[0] = \"aa\";\n",
    "    str[1] = \"baa\";\n",
    "    str[2] = \"abc\";\n",
    "    str[3] = \"abab\";\n",
    "    int xx = 0;\n",
    "    while(t>0)\n",
    "    {\n",
    "        char c[] = str[xx++].toCharArray();\n",
    "        int i=0;\n",
    "        int a[] = new int[26];\n",
    "        Map<Character,ArrayList<Integer>> map = new HashMap<>();\n",
    "        for(i=0;i<c.length;i++)\n",
    "        {\n",
    "            a[c[i]-'a']++;\n",
    "            if(map.get(c[i])==null)\n",
    "            {\n",
    "                ArrayList<Integer> al = new ArrayList<>();\n",
    "                al.add(i+1);\n",
    "                map.put(c[i], al);\n",
    "            }\n",
    "            else\n",
    "            {\n",
    "                ArrayList<Integer> al = map.get(c[i]);\n",
    "                al.add(i+1);\n",
    "                map.put(c[i], al);\n",
    "            }\n",
    "\n",
    "        }\n",
    "//\t\t\tSystem.out.println(Arrays.toString(a));\n",
    "        int oddcount = 0;\n",
    "        char oddchar = 0;\n",
    "        for(i=0;i<26;i++)\n",
    "        {\n",
    "            if(a[i]%2==1)\n",
    "            {\n",
    "                oddcount++;\n",
    "                oddchar = (char)(i+'a');\n",
    "            }\n",
    "        }\n",
    "        if (oddcount > 1 || oddcount == 1 &&  c.length % 2 == 0)\n",
    "        {\n",
    "            System.out.println(\"-1\");\n",
    "        }\n",
    "        else\n",
    "        {\n",
    "            StringBuilder first = new StringBuilder();\n",
    "            StringBuilder second = new StringBuilder();\n",
    "            for(i=0;i<26;i++)\n",
    "            {\n",
    "                if(a[i]>0)\n",
    "                {\n",
    "                    char[] array = new char[a[i]/2];\n",
    "                    Arrays.fill(array, (char)(i+'a'));\n",
    "                    StringBuilder sb = new StringBuilder(new String(array));\n",
    "                    first = first.append(sb);\n",
    "                    second = sb.append(second);\n",
    "                }\n",
    "\n",
    "            }\n",
    "            String pal = \"\";\n",
    "            if(oddcount==1)\n",
    "            {\n",
    "                 pal = first.toString()+oddchar+second.toString();\n",
    "            }\n",
    "            else\n",
    "            {\n",
    "                 pal = first.toString()+second.toString();\n",
    "            }\n",
    "            int[] counter = new int[26];\n",
    "            for(char cc: pal.toCharArray())\n",
    "            {\n",
    "                System.out.print(map.get(cc).get(counter[cc-'a'])+\" \");\n",
    "                counter[cc-'a']++;\n",
    "            }\n",
    "//\t\t\t\tSystem.out.println(Arrays.toString(counter));\n",
    "                System.out.println();\n",
    "        }\n",
    "        t--;\n",
    "    }\n",
    "}\n",
    "main(args);"
   ]
  },
  {
   "cell_type": "markdown",
   "metadata": {},
   "source": [
    "## **89. Make largest palindrome by changing at most K-digits**\n",
    "https://www.geeksforgeeks.org/make-largest-palindrome-changing-k-digits/"
   ]
  },
  {
   "cell_type": "code",
   "execution_count": 82,
   "metadata": {},
   "outputs": [],
   "source": [
    "/*\n",
    "Given a string containing all digits, \n",
    "we need to convert this string to a palindrome by changing at most K digits. \n",
    "If many solutions are possible then print lexicographically largest one.\n",
    "*/"
   ]
  },
  {
   "cell_type": "code",
   "execution_count": 83,
   "metadata": {},
   "outputs": [],
   "source": [
    "/*\n",
    "Examples:\n",
    "\n",
    "Input   : str = “43435”    \n",
    "          k = 3\n",
    "Output  : \"93939\" \n",
    "Lexicographically largest palindrome \n",
    "after 3 changes is \"93939\" \n",
    "\n",
    "Input :  str = “43435”    \n",
    "         k = 1\n",
    "Output : “53435”\n",
    "Lexicographically largest palindrome \n",
    "after 3 changes is “53435”\n",
    "\n",
    "Input  : str = “12345”    \n",
    "         k = 1\n",
    "Output : \"Not Possible\"\n",
    "It is not possible to make str palindrome\n",
    "after 1 change.\n",
    "*/"
   ]
  },
  {
   "cell_type": "code",
   "execution_count": 84,
   "metadata": {},
   "outputs": [],
   "source": [
    "/*\n",
    "We can solve this problem using two pointers method. \n",
    "We start from left and right and if both digits are not equal then we replace the smaller value with larger value and decrease k by 1. \n",
    "We stop when the left and right pointers cross each other, \n",
    "    after they stop if value of k is negative, \n",
    "    then it is not possible to make string palindrome using k changes. \n",
    "If k is positive, then we can further maximize the string by looping once again in the same manner from left and right \n",
    "and converting both the digits to 9 and decreasing k by 2. \n",
    "If k value remains to 1 and string length is odd then we make the middle character as 9 to maximize whole value.\n",
    "*/"
   ]
  },
  {
   "cell_type": "code",
   "execution_count": 85,
   "metadata": {},
   "outputs": [],
   "source": [
    "// Returns maximum possible palindrome using k changes  \n",
    "static String maximumPalinUsingKChanges(String str, int k) { \n",
    "    char palin[] = str.toCharArray(); \n",
    "    String ans = \"\"; \n",
    "    // Iinitialize l and r by leftmost and  \n",
    "    // rightmost ends  \n",
    "    int l = 0; \n",
    "    int r = str.length() - 1; \n",
    "\n",
    "    // first try to make String palindrome  \n",
    "    while (l < r) { \n",
    "        // Replace left and right character by  \n",
    "        // maximum of both  \n",
    "        if (str.charAt(l) != str.charAt(r)) { \n",
    "            palin[l] = palin[r] = (char) Math.max(str.charAt(l), \n",
    "                                      str.charAt(r)); \n",
    "            k--; \n",
    "        } \n",
    "        l++; \n",
    "        r--; \n",
    "    } \n",
    "\n",
    "    // If k is negative then we can't make  \n",
    "    // String palindrome  \n",
    "    if (k < 0) { \n",
    "        return \"Not possible\"; \n",
    "    } \n",
    "\n",
    "    l = 0; \n",
    "    r = str.length() - 1; \n",
    "\n",
    "    while (l <= r) { \n",
    "        // At mid character, if K>0 then change  \n",
    "        // it to 9  \n",
    "        if (l == r) { \n",
    "            if (k > 0) { \n",
    "                palin[l] = '9'; \n",
    "            } \n",
    "        } \n",
    "\n",
    "        // If character at lth (same as rth) is  \n",
    "        // less than 9  \n",
    "        if (palin[l] < '9') { \n",
    "            /* If none of them is changed in the  \n",
    "        previous loop then subtract 2 from K  \n",
    "        and convert both to 9 */\n",
    "            if (k >= 2 && palin[l] == str.charAt(l) \n",
    "                    && palin[r] == str.charAt(r)) { \n",
    "                k -= 2; \n",
    "                palin[l] = palin[r] = '9'; \n",
    "            } /* If one of them is changed in the previous  \n",
    "            loop then subtract 1 from K (1 more is  \n",
    "            subtracted already) and make them 9 */ \n",
    "           else if (k >= 1 && (palin[l] != str.charAt(l) \n",
    "                    || palin[r] != str.charAt(r))) { \n",
    "                k--; \n",
    "                palin[l] = palin[r] = '9'; \n",
    "            } \n",
    "        } \n",
    "        l++; \n",
    "        r--; \n",
    "    } \n",
    "    for(int i = 0;i<palin.length;i++) \n",
    "        ans+=palin[i]; \n",
    "    return ans; \n",
    "} "
   ]
  },
  {
   "cell_type": "code",
   "execution_count": 86,
   "metadata": {},
   "outputs": [
    {
     "name": "stdout",
     "output_type": "stream",
     "text": [
      "93939\n"
     ]
    }
   ],
   "source": [
    "// Driver code to test above methods  \n",
    "public void main(String[] args) { \n",
    "    String str = \"43435\"; \n",
    "    int k = 3; \n",
    "    System.out.println(maximumPalinUsingKChanges(str, k)); \n",
    "\n",
    "} \n",
    "main(args);"
   ]
  },
  {
   "cell_type": "markdown",
   "metadata": {},
   "source": [
    "## **90. Lexicographically first palindromic string**\n",
    "https://www.geeksforgeeks.org/lexicographically-first-palindromic-string/"
   ]
  },
  {
   "cell_type": "code",
   "execution_count": 87,
   "metadata": {},
   "outputs": [],
   "source": [
    "/*\n",
    "Rearrange the characters of the given string to form a lexicographically first palindromic string. \n",
    "If no such string exists display message “no palindromic string”.\n",
    "*/"
   ]
  },
  {
   "cell_type": "code",
   "execution_count": 88,
   "metadata": {},
   "outputs": [],
   "source": [
    "/*\n",
    "Examples:\n",
    "\n",
    "Input : malayalam\n",
    "Output : aalmymlaa\n",
    "\n",
    "Input : apple\n",
    "Output : no palindromic string\n",
    "*/"
   ]
  },
  {
   "cell_type": "code",
   "execution_count": 89,
   "metadata": {},
   "outputs": [],
   "source": [
    "/*\n",
    "Simple Approach:\n",
    "    1. Sort the string characters in alphabetical(ascending) order.\n",
    "    2. One be one find lexicographically next permutation of the given string.\n",
    "    3. The first permutation which is palindrome is the answer.\n",
    "*/"
   ]
  },
  {
   "cell_type": "code",
   "execution_count": 90,
   "metadata": {},
   "outputs": [],
   "source": [
    "/*\n",
    "Efficient Approach: Properties for palindromic string:\n",
    "    1. If length of string is even, then the frequency of each character in the string must be even.\n",
    "    2. If the length is odd then there should be one character whose frequency is odd \n",
    "       and all other chars must have even frequency and at-least one occurrence of the odd character must be present in the middle of the string.\n",
    "*/"
   ]
  },
  {
   "cell_type": "code",
   "execution_count": 91,
   "metadata": {},
   "outputs": [],
   "source": [
    "/*\n",
    "Algorithm\n",
    "1. Store frequency of each character in the given string\n",
    "2. Check whether a palindromic string can be formed or not using the properties of palindromic string mentioned above.\n",
    "3. If palindromic string cannot be formed, return “No Palindromic String”.\n",
    "4. Else we create three strings and then return front_str + odd_str + rear_str.\n",
    "    --odd_str : It is empty if there is no character with odd frequency. Else it contains all occurrences of odd character.\n",
    "    --front_str : Contains half occurrences of all even occurring characters of string in increasing order.\n",
    "    --rear_str Contains half occurrences of all even occurring characters of string in reverse order of front_str.\n",
    "    \n",
    "Time Complexity : O(n) where n is length of input string. Assuming that size of string alphabet is constant.\n",
    "*/"
   ]
  },
  {
   "cell_type": "code",
   "execution_count": 92,
   "metadata": {},
   "outputs": [
    {
     "name": "stdout",
     "output_type": "stream",
     "text": [
      "aalmymlaa \n"
     ]
    }
   ],
   "source": [
    "static char MAX_CHAR = 26; \n",
    "\n",
    "// Function to count frequency of each char in the \n",
    "// string. freq[0] for 'a',...., freq[25] for 'z' \n",
    "static void countFreq(String str, int freq[], int len) \n",
    "{ \n",
    "    for (int i = 0; i < len; i++) \n",
    "    { \n",
    "        freq[str.charAt(i) - 'a']++; \n",
    "    } \n",
    "} \n",
    "\n",
    "// Cases to check whether a palindr0mic \n",
    "// string can be formed or not \n",
    "static boolean canMakePalindrome(int freq[], int len)  \n",
    "{ \n",
    "    // count_odd to count no of \n",
    "    // chars with odd frequency \n",
    "    int count_odd = 0; \n",
    "    for (int i = 0; i < MAX_CHAR; i++) \n",
    "    { \n",
    "        if (freq[i] % 2 != 0) \n",
    "        { \n",
    "            count_odd++; \n",
    "        } \n",
    "    } \n",
    "\n",
    "    // For even length string \n",
    "    // no odd freq character \n",
    "    if (len % 2 == 0) \n",
    "    { \n",
    "        if (count_odd > 0)  \n",
    "        { \n",
    "            return false; \n",
    "        }  \n",
    "        else\n",
    "        { \n",
    "            return true; \n",
    "        } \n",
    "    } \n",
    "\n",
    "    // For odd length string \n",
    "    // one odd freq character \n",
    "    if (count_odd != 1)  \n",
    "    { \n",
    "        return false; \n",
    "    } \n",
    "\n",
    "    return true; \n",
    "} \n",
    "\n",
    "// Function to find odd freq char and \n",
    "// reducing its freq by 1returns \"\" if odd freq \n",
    "// char is not present \n",
    "static String findOddAndRemoveItsFreq(int freq[])  \n",
    "{ \n",
    "    String odd_str = \"\"; \n",
    "    for (int i = 0; i < MAX_CHAR; i++) \n",
    "    { \n",
    "        if (freq[i] % 2 != 0) \n",
    "        { \n",
    "            freq[i]--; \n",
    "            odd_str = odd_str + (char) (i + 'a'); \n",
    "            return odd_str; \n",
    "        } \n",
    "    } \n",
    "    return odd_str; \n",
    "} \n",
    "\n",
    "// To find lexicographically first palindromic \n",
    "// string. \n",
    "static String findPalindromicString(String str)  \n",
    "{ \n",
    "    int len = str.length(); \n",
    "    int freq[] = new int[MAX_CHAR]; \n",
    "    countFreq(str, freq, len); \n",
    "\n",
    "    if (!canMakePalindrome(freq, len)) \n",
    "    { \n",
    "        return \"No Palindromic String\"; \n",
    "    } \n",
    "\n",
    "    // Assigning odd freq character if present \n",
    "    // else empty string. \n",
    "    String odd_str = findOddAndRemoveItsFreq(freq); \n",
    "\n",
    "    String front_str = \"\", rear_str = \" \"; \n",
    "\n",
    "    // Traverse characters in increasing order \n",
    "    for (int i = 0; i < MAX_CHAR; i++) \n",
    "    { \n",
    "        String temp = \"\"; \n",
    "        if (freq[i] != 0) \n",
    "        { \n",
    "            char ch = (char) (i + 'a'); \n",
    "\n",
    "            // Divide all occurrences into two \n",
    "            // halves. Note that odd character \n",
    "            // is removed by findOddAndRemoveItsFreq() \n",
    "            for (int j = 1; j <= freq[i] / 2; j++)  \n",
    "            { \n",
    "                temp = temp + ch; \n",
    "            } \n",
    "\n",
    "            // creating front string \n",
    "            front_str = front_str + temp; \n",
    "\n",
    "            // creating rear string \n",
    "            rear_str = temp + rear_str; \n",
    "        } \n",
    "    } \n",
    "\n",
    "    // Final palindromic string which is \n",
    "    // lexicographically first \n",
    "    return (front_str + odd_str + rear_str); \n",
    "} \n",
    "\n",
    "// Driver program \n",
    "public static void main(String[] args)  \n",
    "{ \n",
    "    String str = \"malayalam\"; \n",
    "    System.out.println(findPalindromicString(str)); \n",
    "} \n",
    "main(args);"
   ]
  },
  {
   "cell_type": "code",
   "execution_count": null,
   "metadata": {},
   "outputs": [],
   "source": []
  },
  {
   "cell_type": "markdown",
   "metadata": {},
   "source": [
    "**------------------------Questions Covered-----------------------------**"
   ]
  },
  {
   "cell_type": "markdown",
   "metadata": {},
   "source": [
    "***3\tString\thttps://www.geeksforgeeks.org/longest-non-palindromic-substring/\tPep_JavaIP_3Strings_91LongestNonPalindromicSubString\t\t\t\t\t\t\t\t\t\t\t\t\t\t\t\t\t\t\t\t\t\t\t\t\n",
    "3\tString\thttps://www.codechef.com/JAN18/problems/STRMRG\tPep_JavaIP_3Strings_92STRMRG\tbreaker\t\t\t\t\t\t\t\t\t\t\t\t\t\t\t\t\t\t\t\t\t\t\t\n",
    "3\tString\thttps://www.geeksforgeeks.org/find-kth-character-of-decrypted-string/\tPep_JavaIP_3Strings_93EncodedString\t\t\t\t\t\t\t\t\t\t\t\t\t\t\t\t\t\t\t\t\t\t\t\t\n",
    "3\tString\thttps://www.geeksforgeeks.org/count-words-whose-th-letter-either-1-th-th-i1-th-letter-given-word/\tPep_JavaIP_3Strings_94CountWordsWithSpecialArrangement\t\t\t\t\t\t\t\t\t\t\t\t\t\t\t\t\t\t\t\t\t\t\t\t\n",
    "3\tString\thttps://www.geeksforgeeks.org/find-number-distinct-palindromic-sub-strings-given-string/\tPep_JavaIP_3Strings_95DistinctPalindromicSubStrings\t\t\t\t\t\t\t\t\t\t\t\t\t\t\t\t\t\t\t\t\t\t\t\t\n",
    "3\tString\thttps://www.geeksforgeeks.org/print-all-distinct-characters-of-a-string-in-order-3-methods/\tPep_JavaIP_3Strings_96PrintDistinctCharacters\t\t\t\t\t\t\t\t\t\t\t\t\t\t\t\t\t\t\t\t\t\t\t\t\n",
    "3\tString\thttps://www.geeksforgeeks.org/count-total-anagram-substrings/\tPep_JavaIP_3Strings_97CountOfAllAnagramsSubStringPairs\t\t\t\t\t\t\t\t\t\t\t\t\t\t\t\t\t\t\t\t\t\t\t\t\n",
    "3\tString\thttps://www.geeksforgeeks.org/min-flips-of-continuous-characters-to-make-all-characters-same-in-a-string/\t\t\t\t\t\t\t\t\t\t\t\t\t\t\t\t\t\t\t\t\t\t\t\t\t\n",
    "3\tString\thttps://www.geeksforgeeks.org/count-binary-strings-k-times-appearing-adjacent-two-set-bits/\tPep_JavaIP_3Strings_99CountBinaryStringsWithKAdjacentOnes\t\t\t\t\t\t\t\t\t\t\t\t\t\t\t\t\t\t\t\t\t\t\t\t\n",
    "3\tString\thttps://www.geeksforgeeks.org/binary-representation-next-greater-number-number-1s-0s/\tPep_JavaIP_3Strings_100BinaryRepresentationNextGreaterNumber\tbreaker\t\t\t\t\t\t\t\t\t\t\t\t\t\t\t\t\t\t\t\t\t\t\t\n",
    "3\tString\thttps://www.geeksforgeeks.org/print-longest-common-sub-sequences-lexicographical-order/\tPep_JavaIP_3Strings_101PrintAllLongestCommonSubSequencesinLexicoOrder\t\t\t\t\t\t\t\t\t\t\t\t\t\t\t\t\t\t\t\t\t\t\t\t\n",
    "3\tString\thttps://www.geeksforgeeks.org/print-shortest-common-supersequence/\tPep_JavaIP_3Strings_102PrintShortestCommonSuperSequence\t\t\t\t\t\t\t\t\t\t\t\t\t\t\t\t\t\t\t\t\t\t\t\t\n",
    "3\tString\thttps://www.geeksforgeeks.org/given-two-strings-find-first-string-subsequence-second/\tPep_JavaIP_3Strings_103FirstStringSubsequenceofOther\t\t\t\t\t\t\t\t\t\t\t\t\t\t\t\t\t\t\t\t\t\t\t\t\n",
    "3\tString\thttps://www.geeksforgeeks.org/find-largest-word-dictionary-deleting-characters-given-string/\tPep_JavaIP_3Strings_104LargestWordinDictionary\t\t\t\t\t\t\t\t\t\t\t\t\t\t\t\t\t\t\t\t\t\t\t\t\n",
    "3\tString\thttps://www.geeksforgeeks.org/search-a-word-in-a-2d-grid-of-characters/\tPep_JavaIP_3Strings_105SearchAWordInGrid***"
   ]
  },
  {
   "cell_type": "code",
   "execution_count": 1,
   "metadata": {},
   "outputs": [],
   "source": [
    "import java.util.*;\n",
    "import java.io.*;\n",
    "import java.util.Arrays;\n",
    "String[] args =new String[0];"
   ]
  },
  {
   "cell_type": "markdown",
   "metadata": {},
   "source": [
    "## **91. Longest Non-palindromic substring**\n",
    "https://www.geeksforgeeks.org/longest-non-palindromic-substring/"
   ]
  },
  {
   "cell_type": "code",
   "execution_count": 2,
   "metadata": {},
   "outputs": [],
   "source": [
    "/*\n",
    "Given a string of size n. \n",
    "The task is to find the length of the largest substring which is not palindrome.\n",
    "*/"
   ]
  },
  {
   "cell_type": "code",
   "execution_count": 3,
   "metadata": {},
   "outputs": [],
   "source": [
    "/*\n",
    "Examples:\n",
    "\n",
    "Input : abba \n",
    "Output : 3\n",
    "Here maximum length non-palindromic substring is\n",
    "'abb' which is of length '3'. There could be other\n",
    "non-palindromic sub-strings also of length three \n",
    "like 'bba' in this case.\n",
    "\n",
    "Input : a\n",
    "Output : 0\n",
    "*/"
   ]
  },
  {
   "cell_type": "code",
   "execution_count": 4,
   "metadata": {},
   "outputs": [],
   "source": [
    "/*\n",
    "A simple solution is to consider every substring and check if it is palindrome or not. \n",
    "Finally return length of the longest non-palindromic substring.\n",
    "*/"
   ]
  },
  {
   "cell_type": "code",
   "execution_count": 5,
   "metadata": {},
   "outputs": [],
   "source": [
    "/*\n",
    "An efficient solution is based on below approach.\n",
    "Time Complexity: O(n)\n",
    "\n",
    "--Check for the case where all characters of\n",
    "  the string are same or not.\n",
    "    -If yes, \n",
    "        -then answer will be '0'.\n",
    "    -Else \n",
    "        -check whether the given string of size \n",
    "         'n' is palindrome or not. \n",
    "            -If yes, \n",
    "                -then answer will be 'n-1'\n",
    "            -Else \n",
    "                -answer will be 'n' \n",
    "*/"
   ]
  },
  {
   "cell_type": "code",
   "execution_count": 6,
   "metadata": {},
   "outputs": [],
   "source": [
    "// utility function to check whether \n",
    "// a string is palindrome or not \n",
    "static Boolean isPalindrome(String str) \n",
    "{ \n",
    "    int n = str.length(); \n",
    "\n",
    "    // Check for palindrome. \n",
    "    for (int i = 0; i < n/2; i++) \n",
    "        if (str.charAt(i) != str.charAt(n-i-1)) \n",
    "            return false; \n",
    "\n",
    "    // palindrome string \n",
    "    return true; \n",
    "} \n",
    "\n",
    "// function to find maximum length \n",
    "// substring which is not palindrome \n",
    "static int maxLengthNonPalinSubstring(String str) \n",
    "{ \n",
    "    int n = str.length(); \n",
    "    char ch = str.charAt(0); \n",
    "\n",
    "    // to check whether all characters \n",
    "    // of the string are same or not \n",
    "    int i = 1; \n",
    "    for (i = 1; i < n; i++) \n",
    "        if(str.charAt(i) != ch) \n",
    "            break; \n",
    "\n",
    "    // All characters are same, we can't \n",
    "    // make a non-palindromic string. \n",
    "    if (i == n) \n",
    "        return 0; \n",
    "\n",
    "    // If string is palindrome, we can make \n",
    "    // it non-palindrome by removing any \n",
    "    // corner character \n",
    "    if (isPalindrome(str)) \n",
    "        return n-1; \n",
    "\n",
    "    // Complete string is not a palindrome. \n",
    "    return n; \n",
    "} "
   ]
  },
  {
   "cell_type": "code",
   "execution_count": 7,
   "metadata": {},
   "outputs": [
    {
     "name": "stdout",
     "output_type": "stream",
     "text": [
      "Maximum Length = 3\n"
     ]
    }
   ],
   "source": [
    "// Driver Program to test above function \n",
    "public static void main(String args[]) \n",
    "{ \n",
    "    String str = \"abba\"; \n",
    "    System.out.println(\"Maximum Length = \"\n",
    "         + maxLengthNonPalinSubstring(str)); \n",
    "} \n",
    "main(args);"
   ]
  },
  {
   "cell_type": "markdown",
   "metadata": {},
   "source": [
    "## **92. String Merging**\n",
    "https://www.codechef.com/JAN18/problems/STRMRG"
   ]
  },
  {
   "cell_type": "code",
   "execution_count": 8,
   "metadata": {},
   "outputs": [],
   "source": [
    "/*\n",
    "For a string S, \n",
    "let's define a function F(S) as the minimum number of blocks consisting of consecutive identical characters in S. \n",
    "In other words, F(S) is equal to 1 plus the number of valid indices i such that Si ≠ Si+1.\n",
    "\n",
    "You are given two strings A and B with lengths N and M respectively. \n",
    "You should merge these two strings into one string C with length N+M. \n",
    "Specifically, each character of C should come either from A or B; \n",
    "all characters from A should be in the same relative order in C as in A \n",
    "and all characters from B should be in the same relative order in C as in B.\n",
    "\n",
    "Compute the minimum possible value of F(C).\n",
    "*/"
   ]
  },
  {
   "cell_type": "code",
   "execution_count": 9,
   "metadata": {},
   "outputs": [],
   "source": [
    "/*\n",
    "Example\n",
    "Input:\n",
    "1\n",
    "4 4\n",
    "abab\n",
    "baba\n",
    "\n",
    "Output:\n",
    "5\n",
    "\n",
    "Explanation\n",
    "Example case 1: One possible way to choose the string C to get the desired answer is \"abbaabba\".\n",
    "*/"
   ]
  },
  {
   "cell_type": "code",
   "execution_count": 10,
   "metadata": {},
   "outputs": [],
   "source": [
    "public static String compressString(String s) {\n",
    "    StringBuilder sb = new StringBuilder();\n",
    "    sb.append(s.charAt(0));\n",
    "    int i = 1;\n",
    "    while (i < s.length()) {\n",
    "        if (s.charAt(i - 1) != s.charAt(i)) {\n",
    "            sb.append(s.charAt(i));\n",
    "        }\n",
    "        i++;\n",
    "    }\n",
    "    return sb.toString();\n",
    "}"
   ]
  },
  {
   "cell_type": "code",
   "execution_count": 11,
   "metadata": {},
   "outputs": [],
   "source": [
    "public static int lcsmer(String a, String b) {\n",
    "    int[][] m = new int[a.length() + 1][b.length() + 1];\n",
    "\n",
    "    for (int row = 0; row < m.length; row++) {\n",
    "        m[row][0] = row;\n",
    "    }\n",
    "\n",
    "    for (int col = 0; col < m[0].length; col++) {\n",
    "        m[0][col] = col;\n",
    "    }\n",
    "\n",
    "    for (int row = 1; row < m.length; row++) {\n",
    "        for (int col = 1; col < m[0].length; col++) {\n",
    "            if (a.charAt(row - 1) == b.charAt(col - 1)) {\n",
    "                m[row][col] = 1 + m[row - 1][col - 1];\n",
    "            } else {\n",
    "                m[row][col] = 1 + ((m[row - 1][col] < m[row][col - 1]) ? (m[row - 1][col]) : (m[row][col - 1]));\n",
    "            }\n",
    "        }\n",
    "    }\n",
    "\n",
    "    return (m[(m.length - 1)][(m[0].length - 1)]);\n",
    "}"
   ]
  },
  {
   "cell_type": "code",
   "execution_count": 12,
   "metadata": {},
   "outputs": [
    {
     "name": "stdout",
     "output_type": "stream",
     "text": [
      "5\n"
     ]
    }
   ],
   "source": [
    "public static void main(String[] args){\n",
    "    int t = 1;\n",
    "    for (int i = 0; i < t; i++) {\n",
    "        int n = 4;\n",
    "        int m = 4;\n",
    "        String s = \"abab\";\n",
    "        String st = \"baba\";\n",
    "        s = compressString(s);\n",
    "        st = compressString(st);\n",
    "        String temps = (s.length() <= st.length()) ? s : st;\n",
    "        String templ = (s.length() > st.length()) ? s : st;\n",
    "        // int min = strMerge(temps, templ);\n",
    "        // int min = mer(temps, templ, 0, 0, 0);\n",
    "        int min = lcsmer(temps, templ);\n",
    "        System.out.println(\"\"+min);\n",
    "    }\n",
    "\n",
    "}\n",
    "main(args);"
   ]
  },
  {
   "cell_type": "markdown",
   "metadata": {},
   "source": [
    "## **93. Find k’th character of decrypted string | Set 1**\n",
    "https://www.geeksforgeeks.org/find-kth-character-of-decrypted-string/"
   ]
  },
  {
   "cell_type": "code",
   "execution_count": 13,
   "metadata": {},
   "outputs": [],
   "source": [
    "/*\n",
    "Given an encoded string where repetitions of substrings are represented as substring followed by count of substrings. \n",
    "For example, \n",
    "    if encrypted string is “ab2cd2” and k=4 , \n",
    "    so output will be ‘b’ because decrypted string is “ababcdcd” and 4th character is ‘b’.\n",
    "*/"
   ]
  },
  {
   "cell_type": "markdown",
   "metadata": {},
   "source": [
    "**Related Link** ***https://www.geeksforgeeks.org/find-k-th-character-of-decrypted-string-set-2/***"
   ]
  },
  {
   "cell_type": "code",
   "execution_count": 14,
   "metadata": {},
   "outputs": [],
   "source": [
    "/*\n",
    "Note: \n",
    "    Frequency of encrypted substring can be of more than one digit. \n",
    "    For example, in “ab12c3”, ab is repeated 12 times. No leading 0 is present in frequency of substring.\n",
    "*/"
   ]
  },
  {
   "cell_type": "code",
   "execution_count": 15,
   "metadata": {},
   "outputs": [],
   "source": [
    "/*\n",
    "Examples:\n",
    "\n",
    "Input: \"a2b2c3\", k = 5\n",
    "Output: c\n",
    "Decrypted string is \"aabbccc\"\n",
    "\n",
    "Input : \"ab4c2ed3\", k = 9\n",
    "Output : c\n",
    "Decrypted string is \"ababababccededed\"\n",
    "\n",
    "Input: \"ab4c12ed3\", k = 21\n",
    "Output: e\n",
    "Decrypted string is \"ababababccccccccccccededed\"\n",
    "*/"
   ]
  },
  {
   "cell_type": "code",
   "execution_count": 16,
   "metadata": {},
   "outputs": [],
   "source": [
    "/*\n",
    "The idea is simple. \n",
    "Initially take empty decrypted string then decompress the string by reading substring and it’s frequency one by one \n",
    "and append current substring in decrypted string by it’s frequency. \n",
    "Repeat the process till the end of string and print the K’th character from decrypted string.\n",
    "*/"
   ]
  },
  {
   "cell_type": "code",
   "execution_count": 17,
   "metadata": {},
   "outputs": [],
   "source": [
    "// Function to find K'th character in  \n",
    "// Encoded String \n",
    "static char encodedChar(String str,int k) \n",
    "{ \n",
    "    // expand string variable is used to \n",
    "    // store final string after decompressing  \n",
    "    // string str \n",
    "    String expand = \"\"; \n",
    "\n",
    "    String temp = \"\";  // Current substring \n",
    "    int freq = 0; // Count of current substring \n",
    "\n",
    "    for (int i=0; i < str.length() ; ) \n",
    "    { \n",
    "        temp = \"\"; // Current substring \n",
    "        freq = 0; // count frequency of current \n",
    "                  // substring \n",
    "\n",
    "        // read characters until you find a number \n",
    "        // or end of string \n",
    "        while (i < str.length() && str.charAt(i)>='a'\n",
    "                            && str.charAt(i)<='z') \n",
    "        { \n",
    "            // push character in temp \n",
    "            temp += str.charAt(i); \n",
    "            i++; \n",
    "        } \n",
    "\n",
    "        // read number for how many times string temp \n",
    "        // will be repeated in decompressed string \n",
    "        while (i < str.length() && str.charAt(i)>='1'\n",
    "                            && str.charAt(i)<='9') \n",
    "        { \n",
    "            // generating frequency of temp \n",
    "            freq = freq*10 + str.charAt(i) - '0'; \n",
    "            i++; \n",
    "        } \n",
    "\n",
    "        // now append string temp into expand \n",
    "        // equal to its frequency \n",
    "        for (int j=1; j<=freq; j++) \n",
    "             expand += temp; \n",
    "    } \n",
    "\n",
    "    // this condition is to handle the case \n",
    "    // when string str is ended with alphabets \n",
    "    // not with numeric value \n",
    "    if (freq==0) \n",
    "        expand += temp; \n",
    "\n",
    "    return expand.charAt(k-1); \n",
    "} "
   ]
  },
  {
   "cell_type": "code",
   "execution_count": 18,
   "metadata": {},
   "outputs": [
    {
     "name": "stdout",
     "output_type": "stream",
     "text": [
      "e\n"
     ]
    }
   ],
   "source": [
    "// Driver program to test the string \n",
    "public static void main(String args[]) \n",
    "{ \n",
    "    String str = \"ab4c12ed3\"; \n",
    "    int k = 21; \n",
    "    System.out.println(encodedChar(str, k)); \n",
    "} \n",
    "main(args);"
   ]
  },
  {
   "cell_type": "markdown",
   "metadata": {},
   "source": [
    "***https://youtu.be/OrU84a6cdGI***"
   ]
  },
  {
   "cell_type": "markdown",
   "metadata": {},
   "source": [
    "## **94. Count of words whose i-th letter is either (i-1)-th, i-th, or (i+1)-th letter of given word**\n",
    "https://www.geeksforgeeks.org/count-words-whose-th-letter-either-1-th-th-i1-th-letter-given-word/"
   ]
  },
  {
   "cell_type": "code",
   "execution_count": 19,
   "metadata": {},
   "outputs": [],
   "source": [
    "/*\n",
    "Given a string str. \n",
    "The task is to count the words having the same length as str \n",
    "and each letter at the i-th position is either (i-1)-th, i-th, or (i+1)-th position letter of str.\n",
    "\n",
    "Note: \n",
    "    For the first letter consider i-th and (i+1)-th position letter of W. \n",
    "    And for last letter consider (i-1)-th and i-th position letter of str.\n",
    "*/"
   ]
  },
  {
   "cell_type": "code",
   "execution_count": 20,
   "metadata": {},
   "outputs": [],
   "source": [
    "/*\n",
    "Examples:\n",
    "\n",
    "Input : str[] = \"ab\"\n",
    "Output : 4\n",
    "Words that can be formed: aa, ab, ba, bb.\n",
    "\n",
    "Input : str[] = \"x\"\n",
    "Output : 1\n",
    "*/"
   ]
  },
  {
   "cell_type": "code",
   "execution_count": 21,
   "metadata": {},
   "outputs": [],
   "source": [
    "/*\n",
    "Time complexity : O(length of string).\n",
    "\n",
    "For any letter at index i, except first and last letter, \n",
    "    there are three possible letter i.e (i-1)th, ith or (i+1)th letter of given words. \n",
    "        So, if three of them are distinct, we have 3 possibilities. \n",
    "        If two of them are same, we have 2 possibilities. \n",
    "        And if all are same we have only 1 possibility.\n",
    "So, traverse the given words and find the possibility of each letter and multiply them.\n",
    "\n",
    "Similarly, \n",
    "for first letter check the distinct letter at first and second position. \n",
    "And for last position check the distinct letter at last and second last position.\n",
    "*/"
   ]
  },
  {
   "cell_type": "code",
   "execution_count": 22,
   "metadata": {},
   "outputs": [],
   "source": [
    "// Return the count of words. \n",
    "static int countWords(String str, int len) \n",
    "{ \n",
    "    int count = 1; \n",
    "\n",
    "    // If word contain single letter, return 1. \n",
    "    if (len == 1) \n",
    "        return count; \n",
    "\n",
    "    // Checking for first letter. \n",
    "    if (str.charAt(0) == str.charAt(1)) \n",
    "        count *= 1; \n",
    "    else\n",
    "        count *= 2; \n",
    "\n",
    "    // Traversing the string and multiplying \n",
    "    // for combinations. \n",
    "    for (int j = 1; j < len - 1; j++) \n",
    "    { \n",
    "        // If all three letters are same. \n",
    "        if (str.charAt(j) == str.charAt(j - 1) &&  \n",
    "                str.charAt(j) == str.charAt(j + 1)) \n",
    "            count *= 1; \n",
    "\n",
    "        // If two letter are distinct. \n",
    "        else if (str.charAt(j) == str.charAt(j - 1)|| \n",
    "                str.charAt(j) == str.charAt(j + 1) || \n",
    "               str.charAt(j - 1) == str.charAt(j + 1)) \n",
    "            count *= 2; \n",
    "\n",
    "        // If all three letter are distinct. \n",
    "        else\n",
    "            count *= 3; \n",
    "    } \n",
    "\n",
    "    // Checking for last letter. \n",
    "    if (str.charAt(len - 1) == str.charAt(len - 2)) \n",
    "        count *= 1; \n",
    "    else\n",
    "        count *= 2; \n",
    "\n",
    "    return count; \n",
    "} "
   ]
  },
  {
   "cell_type": "code",
   "execution_count": 23,
   "metadata": {},
   "outputs": [
    {
     "name": "stdout",
     "output_type": "stream",
     "text": [
      "12\n"
     ]
    }
   ],
   "source": [
    "// Driven Program \n",
    "public static void main(String args[]) \n",
    "{ \n",
    "    String str = \"abc\"; \n",
    "    int len = str.length(); \n",
    "\n",
    "    System.out.println(countWords(str, len)); \n",
    "} \n",
    "main(args);"
   ]
  },
  {
   "cell_type": "markdown",
   "metadata": {},
   "source": [
    "## **95. Find all distinct palindromic sub-strings of a given string**\n",
    "https://www.geeksforgeeks.org/find-number-distinct-palindromic-sub-strings-given-string/"
   ]
  },
  {
   "cell_type": "code",
   "execution_count": 24,
   "metadata": {},
   "outputs": [],
   "source": [
    "/*\n",
    "Given a string of lowercase ASCII characters, find all distinct continuous palindromic sub-strings of it.\n",
    "*/"
   ]
  },
  {
   "cell_type": "code",
   "execution_count": 25,
   "metadata": {},
   "outputs": [],
   "source": [
    "/*\n",
    "Examples:\n",
    "\n",
    "Input: str = \"abaaa\"\n",
    "Output:  Below are 5 palindrome sub-strings\n",
    "a\n",
    "aa\n",
    "aaa\n",
    "aba\n",
    "b\n",
    "\n",
    "\n",
    "Input: str = \"geek\"\n",
    "Output:  Below are 4 palindrome sub-strings\n",
    "e\n",
    "ee\n",
    "g\n",
    "k\n",
    "*/"
   ]
  },
  {
   "cell_type": "code",
   "execution_count": 26,
   "metadata": {},
   "outputs": [],
   "source": [
    "/*\n",
    "Step 1: \n",
    "Finding all palindromes using modified Manacher’s algorithm:\n",
    "-Considering each character as a pivot, \n",
    "    expand on both sides to find the length of both even and odd length palindromes centered at the pivot character under consideration \n",
    "    and store the length in the 2 arrays (odd & even).\n",
    "-Time complexity for this step is O(n^2)\n",
    "*/"
   ]
  },
  {
   "cell_type": "code",
   "execution_count": 27,
   "metadata": {},
   "outputs": [],
   "source": [
    "/*\n",
    "Step 2: \n",
    "-Inserting all the found palindromes in a HashMap:\n",
    "-Insert all the palindromes found from the previous step into a HashMap. \n",
    "-Also insert all the individual characters from the string into the HashMap (to generate distinct single letter palindromic sub-strings).\n",
    "-Time complexity of this step is O(n^3) assuming that the hash insert search takes O(1) time. \n",
    "-Note that there can be at most O(n^2) palindrome sub-strings of a string. \n",
    "\n",
    "In C++ code ordered hashmap is used where the time complexity of insert and search is O(Logn). \n",
    "In C++, ordered hashmap is implemented using Red Black Tree.\n",
    "*/"
   ]
  },
  {
   "cell_type": "code",
   "execution_count": 28,
   "metadata": {},
   "outputs": [],
   "source": [
    "/*\n",
    "Step 3: Printing the distinct palindromes and number of such distinct palindromes:\n",
    "-The last step is to print all values stored in the HashMap (only distinct elements will be hashed due to the property of HashMap). \n",
    "-The size of the map gives the number of distinct palindromic continuous sub-strings.\n",
    "*/"
   ]
  },
  {
   "cell_type": "code",
   "execution_count": 29,
   "metadata": {},
   "outputs": [],
   "source": [
    "\n",
    "// Function to print all distinct palindrome \n",
    "// sub-strings of s \n",
    "static void palindromeSubStrs(String s) \n",
    "{ \n",
    "    //map<string, int> m; \n",
    "    TreeMap<String , Integer> m = new TreeMap<>(); \n",
    "    int n = s.length(); \n",
    "\n",
    "    // table for storing results (2 rows for odd- \n",
    "    // and even-length palindromes \n",
    "    int[][] R = new int[2][n+1]; \n",
    "\n",
    "    // Find all sub-string palindromes from the \n",
    "    // given input string insert 'guards' to \n",
    "    // iterate easily over s \n",
    "    s = \"@\" + s + \"#\"; \n",
    "\n",
    "    for (int j = 0; j <= 1; j++) \n",
    "    { \n",
    "        int rp = 0; // length of 'palindrome radius' \n",
    "        R[j][0] = 0; \n",
    "\n",
    "        int i = 1; \n",
    "        while (i <= n) \n",
    "        { \n",
    "            // Attempt to expand palindrome centered \n",
    "            // at i \n",
    "            while (s.charAt(i - rp - 1) == s.charAt(i + \n",
    "                                            j + rp)) \n",
    "                rp++; // Incrementing the length of \n",
    "                    // palindromic radius as and \n",
    "                    // when we find vaid palindrome \n",
    "\n",
    "            // Assigning the found palindromic length \n",
    "            // to odd/even length array \n",
    "            R[j][i] = rp; \n",
    "            int k = 1; \n",
    "            while ((R[j][i - k] != rp - k) && (k < rp)) \n",
    "            { \n",
    "                R[j][i + k] = Math.min(R[j][i - k], \n",
    "                                        rp - k); \n",
    "                k++; \n",
    "            } \n",
    "            rp = Math.max(rp - k,0); \n",
    "            i += k; \n",
    "        } \n",
    "    } \n",
    "\n",
    "    // remove 'guards' \n",
    "    s = s.substring(1, s.length()-1); \n",
    "\n",
    "    // Put all obtained palindromes in a hash map to \n",
    "    // find only distinct palindromess \n",
    "    m.put(s.substring(0,1), 1); \n",
    "    for (int i = 1; i < n; i++) \n",
    "    { \n",
    "        for (int j = 0; j <= 1; j++) \n",
    "            for (int rp = R[j][i]; rp > 0; rp--) \n",
    "                m.put(s.substring(i - rp - 1, i - rp - 1\n",
    "                                + 2 * rp + j), 1); \n",
    "        m.put(s.substring(i, i + 1), 1); \n",
    "    } \n",
    "\n",
    "    // printing all distinct palindromes from \n",
    "    // hash map \n",
    "    System.out.println(\"Below are \" + (m.size()) \n",
    "                    + \" palindrome sub-strings\"); \n",
    "\n",
    "    for (Map.Entry<String, Integer> ii:m.entrySet()) \n",
    "        System.out.println(ii.getKey()); \n",
    "} \n"
   ]
  },
  {
   "cell_type": "code",
   "execution_count": 30,
   "metadata": {},
   "outputs": [
    {
     "name": "stdout",
     "output_type": "stream",
     "text": [
      "Below are 5 palindrome sub-strings\n",
      "a\n",
      "aa\n",
      "aaa\n",
      "aba\n",
      "b\n"
     ]
    }
   ],
   "source": [
    "// Driver program \n",
    "public static void main(String args[]) \n",
    "{ \n",
    "    palindromeSubStrs(\"abaaa\"); \n",
    "} \n",
    "main(args);"
   ]
  },
  {
   "cell_type": "markdown",
   "metadata": {},
   "source": [
    "## **96. Print all distinct characters of a string in order (3 Methods)**\n",
    "https://www.geeksforgeeks.org/print-all-distinct-characters-of-a-string-in-order-3-methods/"
   ]
  },
  {
   "cell_type": "code",
   "execution_count": 31,
   "metadata": {},
   "outputs": [],
   "source": [
    "/*\n",
    "Given a string, \n",
    "find the all distinct (or non-repeating characters) in it. \n",
    "\n",
    "For example, \n",
    "    if the input string is “Geeks for Geeks”, \n",
    "    then output should be ‘for’ \n",
    "and if input string is “Geeks Quiz”, \n",
    "    then output should be ‘GksQuiz’.\n",
    "\n",
    "The distinct characters should be printed in same order as they appear in input string.\n",
    "*/"
   ]
  },
  {
   "cell_type": "code",
   "execution_count": 32,
   "metadata": {},
   "outputs": [],
   "source": [
    "/*\n",
    "Examples:\n",
    "\n",
    "Input  : Geeks for Geeks\n",
    "Output : for\n",
    "\n",
    "Input  : Hello Geeks\n",
    "Output : HoGks\n",
    "*/"
   ]
  },
  {
   "cell_type": "code",
   "execution_count": 33,
   "metadata": {},
   "outputs": [],
   "source": [
    "/*\n",
    "Method 1 (Simple : O(n2))\n",
    "\n",
    "A Simple Solution is to run two loops. \n",
    "Start traversing from left side. \n",
    "For every character, check if it repeats or not. \n",
    "If the character doesn’t repeat, increment count of non-repeating characters. \n",
    "When the count becomes 1, return each character.\n",
    "*/"
   ]
  },
  {
   "cell_type": "code",
   "execution_count": 34,
   "metadata": {},
   "outputs": [],
   "source": [
    "/*\n",
    "Method 2 (Efficient but requires two traversals: O(n))\n",
    "\n",
    "1. Create an array count[] to store counts of characters.\n",
    "2. Traverse the input string str and do following for every character x = str[i].\n",
    "   Increment count[x].\n",
    "3. Traverse the input string again and do following for every character str[i]\n",
    "    -If count[x] is 1, then print the unique character\n",
    "    -If count[x] is greater than 1, then ignore the repeated character.\n",
    "*/"
   ]
  },
  {
   "cell_type": "code",
   "execution_count": 35,
   "metadata": {},
   "outputs": [
    {
     "name": "stdout",
     "output_type": "stream",
     "text": [
      "for"
     ]
    }
   ],
   "source": [
    "static final int NO_OF_CHARS = 256; \n",
    "\n",
    "/* Print duplicates present in the passed string */\n",
    "static void printDistinct(String str) \n",
    "{ \n",
    "    // Create an array of size 256 and count of \n",
    "    // every character in it \n",
    "    int[] count = new int[NO_OF_CHARS]; \n",
    "\n",
    "    /* Count array with frequency of characters */\n",
    "    int i; \n",
    "    for (i = 0; i < str.length(); i++) \n",
    "        if(str.charAt(i)!=' ') \n",
    "            count[(int)str.charAt(i)]++; \n",
    "    int n = i; \n",
    "\n",
    "    // Print characters having count more than 0 \n",
    "    for (i = 0; i < n; i++) \n",
    "        if (count[(int)str.charAt(i)] == 1) \n",
    "            System.out.print(str.charAt(i)); \n",
    "} \n",
    "\n",
    "/* Driver program*/\n",
    "public static void main(String args[]) \n",
    "{ \n",
    "    String str = \"GeeksforGeeks\"; \n",
    "    printDistinct(str); \n",
    "} \n",
    "\n",
    "main(args);"
   ]
  },
  {
   "cell_type": "code",
   "execution_count": 36,
   "metadata": {},
   "outputs": [],
   "source": [
    "/*\n",
    "Method 3 (O(n) and requires one traversal)\n",
    "\n",
    "The idea is to use two auxiliary arrays of size 256 (Assuming that characters are stored using 8 bits).\n",
    "\n",
    "1. Initialize all values in count[] as 0 and all values in index[] as n where n is length of string.\n",
    "2. Traverse the input string str and do following for every character c = str[i].\n",
    "    -Increment count[x].\n",
    "    -If count[x] is 1, then store index of x in index[x], i.e., index[x] = i\n",
    "    -If count[x] is 2, then remove x from index[], i.e., index[x] = n\n",
    "3. Now index[] has indexes of all distinct characters. \n",
    "\n",
    "Sort indexes and print characters using it. \n",
    "\n",
    "Note that this step takes O(1) time assuming number of characters are fixed (typically 256)\n",
    "*/"
   ]
  },
  {
   "cell_type": "code",
   "execution_count": 37,
   "metadata": {},
   "outputs": [],
   "source": [
    "static final int MAX_CHAR = 256; \n",
    "\n",
    "// Function to print distinct characters in \n",
    "// given string str[] \n",
    "static void printDistinct(String str) \n",
    "{ \n",
    "    int n = str.length(); \n",
    "\n",
    "    // count[x] is going to store count of \n",
    "    // character 'x' in str. If x is not present, \n",
    "    // then it is going to store 0. \n",
    "    int[] count = new int[MAX_CHAR]; \n",
    "\n",
    "    // index[x] is going to store index of character \n",
    "    // 'x' in str. If x is not present or x is \n",
    "    // more than once, then it is going to store a  \n",
    "    // value (for example, length of string) that  \n",
    "    // cannot be a valid index in str[] \n",
    "    int[] index = new int[MAX_CHAR]; \n",
    "\n",
    "    // Initialize counts of all characters and  \n",
    "    // indexes of distinct characters. \n",
    "    for (int i = 0; i < MAX_CHAR; i++) \n",
    "    { \n",
    "        count[i] = 0; \n",
    "        index[i] = n; // A value more than any  \n",
    "                      // index in str[] \n",
    "    } \n",
    "\n",
    "    // Traverse the input string \n",
    "    for (int i = 0; i < n; i++) \n",
    "    { \n",
    "        // Find current character and increment  \n",
    "        // its count \n",
    "        char x = str.charAt(i); \n",
    "        ++count[x]; \n",
    "\n",
    "        // If this is first occurrence, then set  \n",
    "        // value in index as index of it. \n",
    "        if (count[x] == 1 && x !=' ') \n",
    "            index[x] = i; \n",
    "\n",
    "        // If character repeats, then remove it  \n",
    "        // from index[] \n",
    "        if (count[x] == 2) \n",
    "            index[x] = n; \n",
    "    } \n",
    "\n",
    "    // Since size of index is constant, below  \n",
    "    // operations take constant time. \n",
    "    Arrays.sort(index); \n",
    "\n",
    "    for (int i = 0; i < MAX_CHAR && index[i] != n; \n",
    "                                              i++) \n",
    "       System.out.print(str.charAt(index[i])); \n",
    "} "
   ]
  },
  {
   "cell_type": "code",
   "execution_count": 38,
   "metadata": {},
   "outputs": [
    {
     "name": "stdout",
     "output_type": "stream",
     "text": [
      "for"
     ]
    }
   ],
   "source": [
    "// Driver code \n",
    "public static void main(String args[]) \n",
    "{ \n",
    "    String str = \"GeeksforGeeks\"; \n",
    "    printDistinct(str); \n",
    "} \n",
    "main(args);"
   ]
  },
  {
   "cell_type": "markdown",
   "metadata": {},
   "source": [
    "## **97. Count of total anagram substrings**\n",
    "https://www.geeksforgeeks.org/count-total-anagram-substrings/"
   ]
  },
  {
   "cell_type": "code",
   "execution_count": 39,
   "metadata": {},
   "outputs": [],
   "source": [
    "/*\n",
    "Given a string of lower alphabet characters, \n",
    "count total substring of this string which are anagram to each other.\n",
    "*/"
   ]
  },
  {
   "cell_type": "code",
   "execution_count": 40,
   "metadata": {},
   "outputs": [],
   "source": [
    "/*\n",
    "Examples:\n",
    "\n",
    "Input  : str = “xyyx”\n",
    "Output : 4\n",
    "Total substrings of this string which\n",
    "are anagram to each other are 4 which \n",
    "can be enumerated as,\n",
    "{“x”, “x”}, {\"y\", \"y\"}, {“xy”, “yx”}, \n",
    "{“xyy”, “yyx”}\n",
    "\n",
    "Input  : str = \"geeg\"\n",
    "Output : 4\n",
    "*/"
   ]
  },
  {
   "cell_type": "code",
   "execution_count": 41,
   "metadata": {},
   "outputs": [],
   "source": [
    "/*\n",
    "The idea is to create a map. \n",
    "We use character frequencies as keys and corresponding counts as values. \n",
    "We can solve this problem by iterating over all substrings and counting frequencies of characters in every substring. \n",
    "We can update frequencies of characters while looping over substrings \n",
    "    i.e. there won’t be an extra loop for counting frequency of characters.\n",
    "In below code, \n",
    "    a map of key ‘vector type’ and value ‘int type’ is taken for storing occurrence of ‘frequency array of length 26’ of substring characters. \n",
    "Once occurrence ‘o’ of each frequency array is stored, \n",
    "    total anagrams will be the sum of o*(o-1)/2 for all different frequency arrays \n",
    "    because if a particular substring has ‘o’ anagrams in string total o*(o-1)/2 anagram pairs can be formed.\n",
    "*/"
   ]
  },
  {
   "cell_type": "markdown",
   "metadata": {},
   "source": [
    "***https://ideone.com/cjBbEX***"
   ]
  },
  {
   "cell_type": "markdown",
   "metadata": {},
   "source": [
    "## **98. Min flips of continuous characters to make all characters same in a string**\n",
    "https://www.geeksforgeeks.org/min-flips-of-continuous-characters-to-make-all-characters-same-in-a-string/"
   ]
  },
  {
   "cell_type": "code",
   "execution_count": 42,
   "metadata": {},
   "outputs": [],
   "source": [
    "/*\n",
    "Given a string consisting only of 1’s and 0’s. \n",
    "In one flip we can change any continuous sequence of this string. \n",
    "Find this minimum number of flips so the string consist of same characters only.\n",
    "*/"
   ]
  },
  {
   "cell_type": "code",
   "execution_count": 43,
   "metadata": {},
   "outputs": [],
   "source": [
    "/*\n",
    "Examples:\n",
    "\n",
    "Input : 00011110001110\n",
    "Output : 2\n",
    "We need to convert 1's sequence\n",
    "so string consist of all 0's.\n",
    "\n",
    "Input : 010101100011\n",
    "Output : 4\n",
    "*/"
   ]
  },
  {
   "cell_type": "code",
   "execution_count": 44,
   "metadata": {},
   "outputs": [],
   "source": [
    "/*\n",
    "Time Complexity: O(n)\n",
    "\n",
    "We need to find the min flips in string so all characters are equal. \n",
    "All we have to find numbers of sequence which consisting of 0’s or 1’s only. \n",
    "Then number of flips required will be half of this number as we can change all 0’s or all 1’s.\n",
    "*/"
   ]
  },
  {
   "cell_type": "code",
   "execution_count": 45,
   "metadata": {},
   "outputs": [],
   "source": [
    "// To find min number of flips in binary string \n",
    "static int findFlips(String str, int n) \n",
    "{ \n",
    "    char last = ' '; int res = 0; \n",
    "\n",
    "    for (int i = 0; i < n; i++) { \n",
    "\n",
    "        // If last character is not equal \n",
    "        // to str[i] increase res \n",
    "        if (last != str.charAt(i)) \n",
    "            res++; \n",
    "        last = str.charAt(i); \n",
    "    } \n",
    "\n",
    "    // To return min flips \n",
    "    return res / 2; \n",
    "}"
   ]
  },
  {
   "cell_type": "code",
   "execution_count": 46,
   "metadata": {},
   "outputs": [
    {
     "name": "stdout",
     "output_type": "stream",
     "text": [
      "2\n"
     ]
    }
   ],
   "source": [
    "// Driver program to check findFlips() \n",
    "public static void main(String[] args) \n",
    "{ \n",
    "    String str = \"00011110001110\"; \n",
    "    int n = str.length(); \n",
    "\n",
    "    System.out.println(findFlips(str, n)); \n",
    "} \n",
    "main(args);"
   ]
  },
  {
   "cell_type": "markdown",
   "metadata": {},
   "source": [
    "***https://youtu.be/ZYqT5pDnQt8***"
   ]
  },
  {
   "cell_type": "markdown",
   "metadata": {},
   "source": [
    "## **99. Count binary strings with k times appearing adjacent two set bits**\n",
    "https://www.geeksforgeeks.org/count-binary-strings-k-times-appearing-adjacent-two-set-bits/"
   ]
  },
  {
   "cell_type": "code",
   "execution_count": 47,
   "metadata": {},
   "outputs": [],
   "source": [
    "/*\n",
    "Given two integers n and k, \n",
    "count the number of binary strings of length n with k as number of times adjacent 1’s appear.\n",
    "*/"
   ]
  },
  {
   "cell_type": "code",
   "execution_count": 48,
   "metadata": {},
   "outputs": [],
   "source": [
    "/*\n",
    "Examples:\n",
    "\n",
    "Input  : n = 5, k = 2\n",
    "Output : 6\n",
    "Explanation:\n",
    "Binary strings of length 5 in which k number of times\n",
    "two adjacent set bits appear.\n",
    "00111  \n",
    "01110\n",
    "11100\n",
    "11011\n",
    "10111\n",
    "11101\n",
    "\n",
    "Input  : n = 4, k = 1\n",
    "Output : 3\n",
    "Explanation:\n",
    "Binary strings of length 3 in which k number of times\n",
    "two adjacent set bits appear.\n",
    "0011  \n",
    "1100\n",
    "0110\n",
    "*/"
   ]
  },
  {
   "cell_type": "code",
   "execution_count": 49,
   "metadata": {},
   "outputs": [],
   "source": [
    "/*\n",
    "Lets try writing the recursive function for the above problem statement:\n",
    "\n",
    "1) n = 1, only two binary strings exist with length 1, not having any adjacent 1’s\n",
    "      String 1 : “0”\n",
    "      String 2 : “1”\n",
    "\n",
    "2) For all n > 1 and all k, two cases arise\n",
    "      a) Strings ending with 0 : \n",
    "            String of length n can be created by appending 0 to all strings of length n-1 having k times two adjacent 1’s ending with both 0 and 1 (Having 0 at n’th position will not change the count of adjacent 1’s).\n",
    "      b) Strings ending with 1 : \n",
    "            String of length n can be created by appending 1 to all strings of length n-1 having k times adjacent 1’s and ending with 0 and to all strings of length n-1 having k-1 adjacent 1’s and ending with 1.\n",
    "*/"
   ]
  },
  {
   "cell_type": "code",
   "execution_count": 50,
   "metadata": {},
   "outputs": [],
   "source": [
    "/*\n",
    "Example: \n",
    "    let s = 011 \n",
    "    i.e. a string ending with 1 having adjacent count as 1. \n",
    "    Adding 1 to it, s = 0111 increase the count of adjacent 1.\n",
    "*/"
   ]
  },
  {
   "cell_type": "code",
   "execution_count": 51,
   "metadata": {},
   "outputs": [],
   "source": [
    "/*\n",
    "Time Complexity : O(n2)\n",
    "\n",
    "Let there be an array dp[i][j][2] where dp[i][j][0]\n",
    "denotes number of binary strings with length i having\n",
    "j number of two adjacent 1's and ending with 0.\n",
    "Similarly dp[i][j][1] denotes the same binary strings\n",
    "with length i and j adjacent 1's but ending with 1.\n",
    "Then: \n",
    "    dp[1][0][0] = 1 and dp[1][0][1] = 1\n",
    "    For all other i and j,\n",
    "        dp[i][j][0] = dp[i-1][j][0] + dp[i-1][j][1]\n",
    "        dp[i][j][1] = dp[i-1][j][0] + dp[i-1][j-1][1]\n",
    "\n",
    "Then, output dp[n][k][0] + dp[n][k][1]\n",
    "*/"
   ]
  },
  {
   "cell_type": "code",
   "execution_count": 52,
   "metadata": {},
   "outputs": [],
   "source": [
    "static int countStrings(int n, int k) \n",
    "{ \n",
    "    // dp[i][j][0] stores count of binary \n",
    "    // strings of length i with j consecutive \n",
    "    // 1's and ending at 0. \n",
    "    // dp[i][j][1] stores count of binary \n",
    "    // strings of length i with j consecutive \n",
    "    // 1's and ending at 1. \n",
    "    int dp[][][] = new int[n + 1][k + 1][2]; \n",
    "\n",
    "    // If n = 1 and k = 0. \n",
    "    dp[1][0][0] = 1; \n",
    "    dp[1][0][1] = 1; \n",
    "\n",
    "    for (int i = 2; i <= n; i++) { \n",
    "        // number of adjacent 1's can not exceed i-1 \n",
    "        for (int j = 0; j < i && j < k + 1; j++) { \n",
    "            dp[i][j][0] = dp[i - 1][j][0] + dp[i - 1][j][1]; \n",
    "            dp[i][j][1] = dp[i - 1][j][0]; \n",
    "\n",
    "            if (j - 1 >= 0) { \n",
    "                dp[i][j][1] += dp[i - 1][j - 1][1]; \n",
    "            } \n",
    "        } \n",
    "    } \n",
    "\n",
    "    return dp[n][k][0] + dp[n][k][1]; \n",
    "} "
   ]
  },
  {
   "cell_type": "code",
   "execution_count": 53,
   "metadata": {},
   "outputs": [
    {
     "name": "stdout",
     "output_type": "stream",
     "text": [
      "6\n"
     ]
    }
   ],
   "source": [
    "// Driver code \n",
    "public static void main(String[] args) \n",
    "{ \n",
    "    int n = 5, k = 2; \n",
    "    System.out.println(countStrings(n, k)); \n",
    "} \n",
    "main(args);"
   ]
  },
  {
   "cell_type": "markdown",
   "metadata": {},
   "source": [
    "## **100. Binary representation of next greater number with same number of 1’s and 0’s**\n",
    "https://www.geeksforgeeks.org/binary-representation-next-greater-number-number-1s-0s/"
   ]
  },
  {
   "cell_type": "code",
   "execution_count": 54,
   "metadata": {},
   "outputs": [],
   "source": [
    "/*\n",
    "Given a binary input that represents binary representation of positive number n, \n",
    "find binary representation of smallest number greater than n with same number of 1’s and 0’s as in binary representation of n. \n",
    "If no such number can be formed, print “no greater number”.\n",
    "\n",
    "The binary input may be and may not fit even in unsigned long long int.\n",
    "*/"
   ]
  },
  {
   "cell_type": "code",
   "execution_count": 55,
   "metadata": {},
   "outputs": [],
   "source": [
    "/*\n",
    "Examples:\n",
    "\n",
    "Input : 10010\n",
    "Output : 10100\n",
    "Here n = (18)10 = (10010)2\n",
    "next greater = (20)10 = (10100)2\n",
    "Binary representation of 20 contains same number of\n",
    "1's and 0's as in 18.\n",
    "\n",
    "Input : 111000011100111110\n",
    "Output :  111000011101001111\n",
    "*/"
   ]
  },
  {
   "cell_type": "markdown",
   "metadata": {},
   "source": [
    "**Related Link** ***https://www.geeksforgeeks.org/find-the-next-lexicographically-greater-word-than-a-given-word/***"
   ]
  },
  {
   "cell_type": "code",
   "execution_count": 56,
   "metadata": {},
   "outputs": [],
   "source": [
    "/*\n",
    "Time Complexity : O(n) where n is number of bits in input.\n",
    "\n",
    "This problem simply boils down to finding next permutation of a given string. \n",
    "We can find the next_permutation() of the input binary number.\n",
    "\n",
    "Below is an algorithm to find next permutation in binary string.\n",
    "\n",
    "-Traverse the binary string bstr from the right.\n",
    "-While traversing find the first index i such that bstr[i] = ‘0’ and bstr[i+1] = ‘1’.\n",
    "-Exchange character of at index ‘i’ and ‘i+1’.\n",
    "-Since we need smallest next value, \n",
    "    consider substring from index i+2 to end and move all 1’s in the substring in the end.\n",
    "*/"
   ]
  },
  {
   "cell_type": "code",
   "execution_count": 57,
   "metadata": {},
   "outputs": [],
   "source": [
    "// Function to find the next greater number \n",
    "// with same number of 1's and 0's \n",
    "static String nextGreaterWithSameDigits(char[] bnum) \n",
    "{ \n",
    "    int l = bnum.length; \n",
    "    int i; \n",
    "    for (i = l - 2; i >= 1; i--) \n",
    "    { \n",
    "        // locate first 'i' from end such that \n",
    "        // bnum[i]=='0' and bnum[i+1]=='1' \n",
    "        // swap these value and break; \n",
    "        if (bnum[i] == '0' && \n",
    "        bnum[i+1] == '1') \n",
    "        { \n",
    "            char ch = bnum[i]; \n",
    "            bnum[i] = bnum[i+1]; \n",
    "            bnum[i+1] = ch; \n",
    "            break; \n",
    "        } \n",
    "    } \n",
    "  \n",
    "    // if no swapping performed \n",
    "    if (i == 0) \n",
    "        System.out.println(\"no greater number\"); \n",
    "  \n",
    "    // Since we want the smallest next value, \n",
    "    // shift all 1's at the end in the binary \n",
    "    // substring starting from index 'i+2' \n",
    "    int j = i + 2, k = l - 1; \n",
    "    while (j < k) \n",
    "    { \n",
    "        if (bnum[j] == '1' && bnum[k] == '0') \n",
    "        { \n",
    "            char ch = bnum[j]; \n",
    "            bnum[j] = bnum[k]; \n",
    "            bnum[k] = ch; \n",
    "            j++; \n",
    "            k--; \n",
    "        } \n",
    "  \n",
    "        // special case while swapping if '0' \n",
    "        // occurs then break \n",
    "        else if (bnum[i] == '0') \n",
    "            break; \n",
    "  \n",
    "        else\n",
    "            j++; \n",
    "  \n",
    "    } \n",
    "  \n",
    "    // required next greater number \n",
    "    return String.valueOf(bnum); \n",
    "} "
   ]
  },
  {
   "cell_type": "code",
   "execution_count": 58,
   "metadata": {},
   "outputs": [
    {
     "name": "stdout",
     "output_type": "stream",
     "text": [
      "Binary representation of next greater number = 10100\n"
     ]
    }
   ],
   "source": [
    "// Driver program to test above \n",
    "public static void main(String[] args) \n",
    "{ \n",
    "    char[] bnum = \"10010\".toCharArray(); \n",
    "    System.out.println(\"Binary representation of next greater number = \"\n",
    "        + nextGreaterWithSameDigits(bnum)); \n",
    "}\n",
    "main(args);"
   ]
  },
  {
   "cell_type": "markdown",
   "metadata": {},
   "source": [
    "## **101. Print all longest common sub-sequences in lexicographical order**\n",
    "https://www.geeksforgeeks.org/print-longest-common-sub-sequences-lexicographical-order/"
   ]
  },
  {
   "cell_type": "code",
   "execution_count": 59,
   "metadata": {},
   "outputs": [],
   "source": [
    "/*\n",
    "You are given two strings.\n",
    "Now you have to print all longest common sub-sequences in lexicographical order.\n",
    "*/"
   ]
  },
  {
   "cell_type": "code",
   "execution_count": 60,
   "metadata": {},
   "outputs": [],
   "source": [
    "/*\n",
    "Examples:\n",
    "\n",
    "Input : str1 = \"abcabcaa\", str2 = \"acbacba\"\n",
    "Output: ababa\n",
    "        abaca\n",
    "        abcba\n",
    "        acaba\n",
    "        acaca\n",
    "        acbaa\n",
    "        acbca\n",
    "*/"
   ]
  },
  {
   "cell_type": "code",
   "execution_count": 61,
   "metadata": {},
   "outputs": [],
   "source": [
    "/*\n",
    "This problem is an extension of longest common subsequence. \n",
    "We first find length of LCS and store all LCS in 2D table using Memoization (or Dynamic Programming). \n",
    "Then we search all characters from ‘a’ to ‘z’ (to output sorted order) in both strings. \n",
    "If a character is found in both strings and current positions of character lead to LCS, we recursively search all occurrences with current LCS length plus 1.\n",
    "*/"
   ]
  },
  {
   "cell_type": "markdown",
   "metadata": {},
   "source": [
    "***https://ideone.com/8fAHOW***"
   ]
  },
  {
   "cell_type": "markdown",
   "metadata": {},
   "source": [
    "## **102. Printing Shortest Common Supersequence**\n",
    "https://www.geeksforgeeks.org/print-shortest-common-supersequence/"
   ]
  },
  {
   "cell_type": "code",
   "execution_count": 62,
   "metadata": {},
   "outputs": [],
   "source": [
    "/*\n",
    "Given two strings X and Y, \n",
    "print the shortest string that has both X and Y as subsequences. \n",
    "If multiple shortest supersequence exists, print any one of them.\n",
    "*/"
   ]
  },
  {
   "cell_type": "code",
   "execution_count": 63,
   "metadata": {},
   "outputs": [],
   "source": [
    "/*\n",
    "Examples:\n",
    "\n",
    "Input: X = \"AGGTAB\",  Y = \"GXTXAYB\"\n",
    "Output: \"AGXGTXAYB\" OR \"AGGXTXAYB\" \n",
    "OR Any string that represents shortest\n",
    "supersequence of X and Y\n",
    "\n",
    "Input: X = \"HELLO\",  Y = \"GEEK\"\n",
    "Output: \"GEHEKLLO\" OR \"GHEEKLLO\"\n",
    "OR Any string that represents shortest \n",
    "supersequence of X and Y\n",
    "*/"
   ]
  },
  {
   "cell_type": "markdown",
   "metadata": {},
   "source": [
    "***https://www.geeksforgeeks.org/shortest-common-supersequence/***"
   ]
  },
  {
   "cell_type": "code",
   "execution_count": 64,
   "metadata": {},
   "outputs": [],
   "source": [
    "/*\n",
    "We have discussed how to print length of shortest possible supersequence for two given strings in above link. \n",
    "In this post, we print the shortest supersequence.\n",
    "*/"
   ]
  },
  {
   "cell_type": "code",
   "execution_count": 65,
   "metadata": {},
   "outputs": [],
   "source": [
    "/*\n",
    "We have already discussed below algorithm to find length of shortest supersequence in previous post-\n",
    "\n",
    "Let X[0..m-1] and Y[0..n-1] be two strings and m and be respective \n",
    "lengths.\n",
    "\n",
    "if (m == 0) return n;\n",
    "if (n == 0) return m;\n",
    "\n",
    "// If last characters are same, then add 1 to result and\n",
    "// recur for X[]\n",
    "if (X[m-1] == Y[n-1]) \n",
    "    return 1 + SCS(X, Y, m-1, n-1);\n",
    "\n",
    "// Else find shortest of following two\n",
    "//  a) Remove last character from X and recur\n",
    "//  b) Remove last character from Y and recur\n",
    "else return 1 + min( SCS(X, Y, m-1, n), SCS(X, Y, m, n-1) );\n",
    "*/"
   ]
  },
  {
   "cell_type": "code",
   "execution_count": 66,
   "metadata": {},
   "outputs": [],
   "source": [
    "/*\n",
    "The following table shows steps followed by the above algorithm \n",
    "if we solve it in bottom-up manner using Dynamic Programming for strings X = “AGGTAB” and Y = “GXTXAYB”,\n",
    "*/"
   ]
  },
  {
   "cell_type": "markdown",
   "metadata": {},
   "source": [
    "<img src = \"https://media.geeksforgeeks.org/wp-content/uploads/Shortest-Supersequence.jpg\"/>"
   ]
  },
  {
   "cell_type": "code",
   "execution_count": 67,
   "metadata": {},
   "outputs": [],
   "source": [
    "/*\n",
    "Using the DP solution matrix, we can easily print shortest supersequence of two strings by following below steps –\n",
    "*/"
   ]
  },
  {
   "cell_type": "code",
   "execution_count": 68,
   "metadata": {},
   "outputs": [],
   "source": [
    "/*\n",
    "We start from the bottom-right most cell of the matrix and \n",
    "push characters in output string based on below rules-\n",
    "\n",
    " 1. If the characters corresponding to current cell (i, j) \n",
    "    in X and Y are same, then the character is part of shortest \n",
    "    supersequence. We append it in output string and move \n",
    "    diagonally to next cell (i.e. (i - 1, j - 1)).\n",
    "\n",
    " 2. If the characters corresponding to current cell (i, j)\n",
    "    in X and Y are different, we have two choices -\n",
    "\n",
    "    If matrix[i - 1][j] > matrix[i][j - 1],\n",
    "    we add character corresponding to current \n",
    "    cell (i, j) in string Y in output string \n",
    "    and move to the left cell i.e. (i, j - 1)\n",
    "    else\n",
    "    we add character corresponding to current \n",
    "    cell (i, j) in string X in output string \n",
    "    and move to the top cell i.e. (i - 1, j)\n",
    "\n",
    " 3. If string Y reaches its end i.e. j = 0, we add remaining\n",
    "    characters of string X in the output string\n",
    "    else if string X reaches its end i.e. i = 0, we add \n",
    "    remaining characters of string Y in the output string.\n",
    "*/"
   ]
  },
  {
   "cell_type": "code",
   "execution_count": 69,
   "metadata": {},
   "outputs": [],
   "source": [
    "// returns shortest supersequence of X and Y  \n",
    "static String printShortestSuperSeq(String X, String Y) \n",
    "{ \n",
    "    int m = X.length(); \n",
    "    int n = Y.length(); \n",
    "\n",
    "    // dp[i][j] contains length of  \n",
    "    // shortest supersequence  \n",
    "    // for X[0..i-1] and Y[0..j-1]  \n",
    "    int dp[][] = new int[m + 1][n + 1]; \n",
    "\n",
    "    // Fill table in bottom up manner  \n",
    "    for (int i = 0; i <= m; i++)  \n",
    "    { \n",
    "        for (int j = 0; j <= n; j++)  \n",
    "        { \n",
    "\n",
    "            // Below steps follow recurrence relation  \n",
    "            if (i == 0)  \n",
    "            { \n",
    "                dp[i][j] = j; \n",
    "            }  \n",
    "            else if (j == 0)  \n",
    "            { \n",
    "                dp[i][j] = i; \n",
    "            }  \n",
    "            else if (X.charAt(i - 1) == Y.charAt(j - 1))  \n",
    "            { \n",
    "                dp[i][j] = 1 + dp[i - 1][j - 1]; \n",
    "            } \n",
    "            else \n",
    "            { \n",
    "                dp[i][j] = 1 + Math.min(dp[i - 1][j], dp[i][j - 1]); \n",
    "            } \n",
    "        } \n",
    "    } \n",
    "\n",
    "    // Following code is used to print  \n",
    "    // shortest supersequence dp[m][n] s \n",
    "    // tores the length of the shortest \n",
    "    // supersequence of X and Y  \n",
    "    int index = dp[m][n]; \n",
    "\n",
    "    // string to store the shortest supersequence  \n",
    "    String str = \"\"; \n",
    "\n",
    "    // Start from the bottom right corner and one by one  \n",
    "    // push characters in output string  \n",
    "    int i = m, j = n; \n",
    "    while (i > 0 && j > 0) \n",
    "\n",
    "    { \n",
    "        // If current character in X and Y are same, then  \n",
    "        // current character is part of shortest supersequence  \n",
    "        if (X.charAt(i - 1) == Y.charAt(j - 1))  \n",
    "\n",
    "        { \n",
    "            // Put current character in result  \n",
    "            str += (X.charAt(i - 1)); \n",
    "\n",
    "            // reduce values of i, j and index  \n",
    "            i--; \n",
    "            j--; \n",
    "            index--; \n",
    "        }  \n",
    "\n",
    "        // If current character in X and Y are different  \n",
    "        else if (dp[i - 1][j] > dp[i][j - 1]) \n",
    "        { \n",
    "\n",
    "            // Put current character of Y in result  \n",
    "            str += (Y.charAt(j - 1)); \n",
    "\n",
    "            // reduce values of j and index  \n",
    "            j--; \n",
    "            index--; \n",
    "        }  \n",
    "        else \n",
    "        { \n",
    "\n",
    "            // Put current character of X in result  \n",
    "            str += (X.charAt(i - 1)); \n",
    "\n",
    "            // reduce values of i and index  \n",
    "            i--; \n",
    "            index--; \n",
    "        } \n",
    "    } \n",
    "\n",
    "    // If Y reaches its end, put remaining characters  \n",
    "    // of X in the result string  \n",
    "    while (i > 0)  \n",
    "    { \n",
    "        str += (X.charAt(i - 1)); \n",
    "        i--; \n",
    "        index--; \n",
    "    } \n",
    "\n",
    "    // If X reaches its end, put remaining characters  \n",
    "    // of Y in the result string  \n",
    "    while (j > 0) \n",
    "    { \n",
    "        str += (Y.charAt(j - 1)); \n",
    "        j--; \n",
    "        index--; \n",
    "    } \n",
    "\n",
    "    // reverse the string and return it  \n",
    "    str = reverse(str); \n",
    "    return str; \n",
    "} "
   ]
  },
  {
   "cell_type": "code",
   "execution_count": 70,
   "metadata": {},
   "outputs": [],
   "source": [
    "static String reverse(String input)  \n",
    "{ \n",
    "    char[] temparray = input.toCharArray(); \n",
    "    int left, right = 0; \n",
    "    right = temparray.length - 1; \n",
    "\n",
    "    for (left = 0; left < right; left++, right--) \n",
    "    { \n",
    "        // Swap values of left and right  \n",
    "        char temp = temparray[left]; \n",
    "        temparray[left] = temparray[right]; \n",
    "        temparray[right] = temp; \n",
    "    } \n",
    "    return String.valueOf(temparray); \n",
    "} "
   ]
  },
  {
   "cell_type": "code",
   "execution_count": 71,
   "metadata": {},
   "outputs": [
    {
     "name": "stdout",
     "output_type": "stream",
     "text": [
      "AGXGTXAYB\n"
     ]
    }
   ],
   "source": [
    "// Driver code \n",
    "public static void main(String[] args)  \n",
    "{ \n",
    "    String X = \"AGGTAB\"; \n",
    "    String Y = \"GXTXAYB\"; \n",
    "    System.out.println(printShortestSuperSeq(X, Y)); \n",
    "} \n",
    "main(args);"
   ]
  },
  {
   "cell_type": "code",
   "execution_count": 72,
   "metadata": {},
   "outputs": [],
   "source": [
    "/*\n",
    "Time complexity of above solution is O(n^2).\n",
    "Auxiliary space used by the program is O(n^2).\n",
    "*/"
   ]
  },
  {
   "cell_type": "markdown",
   "metadata": {},
   "source": [
    "## **103. Given two strings, find if first string is a subsequence of second**\n",
    "https://www.geeksforgeeks.org/given-two-strings-find-first-string-subsequence-second/"
   ]
  },
  {
   "cell_type": "code",
   "execution_count": 73,
   "metadata": {},
   "outputs": [],
   "source": [
    "/*\n",
    "Given two strings str1 and str2, \n",
    "find if str1 is a subsequence of str2. \n",
    "\n",
    "A subsequence is a sequence that can be derived from another sequence by deleting some elements without changing the order of the remaining elements (source: wiki). \n",
    "Expected time complexity is linear.\n",
    "*/"
   ]
  },
  {
   "cell_type": "code",
   "execution_count": 74,
   "metadata": {},
   "outputs": [],
   "source": [
    "/*\n",
    "Examples :\n",
    "\n",
    "Input: str1 = \"AXY\", str2 = \"ADXCPY\"\n",
    "Output: True (str1 is a subsequence of str2)\n",
    "\n",
    "Input: str1 = \"AXY\", str2 = \"YADXCP\"\n",
    "Output: False (str1 is not a subsequence of str2)\n",
    "\n",
    "Input: str1 = \"gksrek\", str2 = \"geeksforgeeks\"\n",
    "Output: True (str1 is a subsequence of str2)\n",
    "*/"
   ]
  },
  {
   "cell_type": "code",
   "execution_count": 75,
   "metadata": {},
   "outputs": [],
   "source": [
    "/*\n",
    "The idea is simple, \n",
    "    we traverse both strings from one side to other side (say from rightmost character to leftmost). \n",
    "    If we find a matching character, we move ahead in both strings. \n",
    "    Otherwise we move ahead only in str2.\n",
    "*/"
   ]
  },
  {
   "cell_type": "markdown",
   "metadata": {},
   "source": [
    "**Recursive Approach**"
   ]
  },
  {
   "cell_type": "code",
   "execution_count": 76,
   "metadata": {},
   "outputs": [],
   "source": [
    "// Returns true if str1[] is a subsequence of str2[] \n",
    "// m is length of str1 and n is length of str2 \n",
    "static boolean isSubSequence(String str1, String str2, int m, int n) \n",
    "{ \n",
    "    // Base Cases \n",
    "    if (m == 0)  \n",
    "        return true; \n",
    "    if (n == 0)  \n",
    "        return false; \n",
    "\n",
    "    // If last characters of two strings are matching \n",
    "    if (str1.charAt(m-1) == str2.charAt(n-1)) \n",
    "        return isSubSequence(str1, str2, m-1, n-1); \n",
    "\n",
    "    // If last characters are not matching \n",
    "    return isSubSequence(str1, str2, m, n-1); \n",
    "} "
   ]
  },
  {
   "cell_type": "code",
   "execution_count": 77,
   "metadata": {},
   "outputs": [
    {
     "name": "stdout",
     "output_type": "stream",
     "text": [
      "Yes\n"
     ]
    }
   ],
   "source": [
    "// Driver program \n",
    "public static void main (String[] args)  \n",
    "{ \n",
    "    String str1 = \"gksrek\"; \n",
    "    String str2 = \"geeksforgeeks\"; \n",
    "    int m = str1.length(); \n",
    "    int n = str2.length(); \n",
    "    boolean res = isSubSequence(str1, str2, m, n); \n",
    "    if(res) \n",
    "        System.out.println(\"Yes\"); \n",
    "    else\n",
    "        System.out.println(\"No\"); \n",
    "} \n",
    "main(args);"
   ]
  },
  {
   "cell_type": "markdown",
   "metadata": {},
   "source": [
    "**Iterative Approach**"
   ]
  },
  {
   "cell_type": "code",
   "execution_count": 78,
   "metadata": {},
   "outputs": [],
   "source": [
    "// Returns true if str1[] is a subsequence  \n",
    "// of str2[] m is length of str1 and n is \n",
    "// length of str2 \n",
    "static boolean isSubSequence(String str1,  \n",
    "                String str2, int m, int n) \n",
    "{ \n",
    "    int j = 0; \n",
    "\n",
    "    // Traverse str2 and str1, and compare  \n",
    "    // current character of str2 with first \n",
    "    // unmatched char of str1, if matched  \n",
    "    // then move ahead in str1 \n",
    "    for (int i = 0; i < n && j < m; i++) \n",
    "        if (str1.charAt(j) == str2.charAt(i)) \n",
    "            j++; \n",
    "\n",
    "    // If all characters of str1 were found \n",
    "    // in str2 \n",
    "    return (j == m);  \n",
    "} "
   ]
  },
  {
   "cell_type": "code",
   "execution_count": 79,
   "metadata": {},
   "outputs": [
    {
     "name": "stdout",
     "output_type": "stream",
     "text": [
      "Yes\n"
     ]
    }
   ],
   "source": [
    "// Driver program to test methods of \n",
    "// graph class \n",
    "public static void main (String[] args)  \n",
    "{ \n",
    "    String str1 = \"gksrek\"; \n",
    "    String str2 = \"geeksforgeeks\"; \n",
    "    int m = str1.length(); \n",
    "    int n = str2.length(); \n",
    "    boolean res = isSubSequence(str1, str2, m, n); \n",
    "\n",
    "    if(res) \n",
    "        System.out.println(\"Yes\"); \n",
    "    else\n",
    "        System.out.println(\"No\"); \n",
    "}\n",
    "main(args);"
   ]
  },
  {
   "cell_type": "code",
   "execution_count": 80,
   "metadata": {},
   "outputs": [],
   "source": [
    "/*\n",
    "Time Complexity of both implementations above is O(n) where n is the length of str2.\n",
    "*/"
   ]
  },
  {
   "cell_type": "markdown",
   "metadata": {},
   "source": [
    "## **104. Find largest word in dictionary by deleting some characters of given string**\n",
    "https://www.geeksforgeeks.org/find-largest-word-dictionary-deleting-characters-given-string/"
   ]
  },
  {
   "cell_type": "code",
   "execution_count": 81,
   "metadata": {},
   "outputs": [],
   "source": [
    "/*\n",
    "Giving a dictionary and a string ‘str’, \n",
    "find the longest string in dictionary which can be formed by deleting some characters of the given ‘str’.\n",
    "*/"
   ]
  },
  {
   "cell_type": "code",
   "execution_count": 82,
   "metadata": {},
   "outputs": [],
   "source": [
    "/*\n",
    "Examples:\n",
    "\n",
    "Input : dict = {\"ale\", \"apple\", \"monkey\", \"plea\"}   \n",
    "        str = \"abpcplea\"  \n",
    "Output : apple \n",
    "\n",
    "Input  : dict = {\"pintu\", \"geeksfor\", \"geeksgeeks\", \n",
    "                                        \" forgeek\"} \n",
    "         str = \"geeksforgeeks\"\n",
    "Output : geeksgeeks\n",
    "*/"
   ]
  },
  {
   "cell_type": "code",
   "execution_count": 83,
   "metadata": {},
   "outputs": [],
   "source": [
    "/*\n",
    "This problem reduces to finding \n",
    "if a string is subsequence of another string or not.\n",
    "(https://www.geeksforgeeks.org/dynamic-programming-set-4-longest-common-subsequence/) \n",
    "\n",
    "We traverse all dictionary words and for every word, \n",
    "    we check if it is subsequence of given string and is largest of all such words. \n",
    "    We finally return the longest word with given string as subsequence.\n",
    "\n",
    "Below is the implementation of above idea\n",
    "*/"
   ]
  },
  {
   "cell_type": "code",
   "execution_count": 84,
   "metadata": {},
   "outputs": [],
   "source": [
    "// Returns true if str1[] is a  \n",
    "// subsequence of str2[]. m is  \n",
    "// length of str1 and n is length of str2  \n",
    "static boolean isSubSequence(String str1, \n",
    "                            String str2)  \n",
    "{ \n",
    "    int m = str1.length(), n = str2.length(); \n",
    "\n",
    "    int j = 0; // For index of str1 (or subsequence)  \n",
    "\n",
    "    // Traverse str2 and str1, and compare current  \n",
    "    // character of str2 with first unmatched char  \n",
    "    // of str1, if matched then move ahead in str1  \n",
    "    for (int i = 0; i < n && j < m; i++) \n",
    "    { \n",
    "        if (str1.charAt(j) == str2.charAt(i))  \n",
    "        { \n",
    "            j++; \n",
    "        } \n",
    "    } \n",
    "\n",
    "    // If all characters of str1  \n",
    "    // were found in str2  \n",
    "    return (j == m); \n",
    "} "
   ]
  },
  {
   "cell_type": "code",
   "execution_count": 85,
   "metadata": {},
   "outputs": [],
   "source": [
    "// Returns the longest String  \n",
    "// in dictionary which is a  \n",
    "// subsequence of str.  \n",
    "static String findLongestString(Vector<String> dict,  \n",
    "                                        String str) \n",
    "{ \n",
    "    String result = \"\"; \n",
    "    int length = 0; \n",
    "\n",
    "    // Traverse through all words of dictionary  \n",
    "    for (String word : dict) \n",
    "    { \n",
    "\n",
    "        // If current word is subsequence of str  \n",
    "        // and is largest such word so far.  \n",
    "        if (length < word.length() && \n",
    "            isSubSequence(word, str)) \n",
    "        { \n",
    "            result = word; \n",
    "            length = word.length(); \n",
    "        } \n",
    "    } \n",
    "\n",
    "    // Return longest String  \n",
    "    return result; \n",
    "} "
   ]
  },
  {
   "cell_type": "code",
   "execution_count": 86,
   "metadata": {},
   "outputs": [
    {
     "name": "stdout",
     "output_type": "stream",
     "text": [
      "apple\n"
     ]
    }
   ],
   "source": [
    "// Driver code \n",
    "public static void main(String[] args)  \n",
    "{ \n",
    "    String[] arr = {\"ale\", \"apple\", \"monkey\", \"plea\"}; \n",
    "    Vector dict = new Vector(Arrays.asList(arr)); \n",
    "    String str = \"abpcplea\"; \n",
    "    System.out.println(findLongestString(dict, str)); \n",
    "} \n",
    "main(args);"
   ]
  },
  {
   "cell_type": "code",
   "execution_count": 87,
   "metadata": {},
   "outputs": [],
   "source": [
    "/*\n",
    "Time Complexity : O(N*K*n) \n",
    "    Here N is the length of dictionary \n",
    "    and n is the length of given string ‘str’ \n",
    "    and K – maximum length of words in the dictionary.\n",
    "\n",
    "Auxiliary Space : O(1)\n",
    "*/"
   ]
  },
  {
   "cell_type": "markdown",
   "metadata": {},
   "source": [
    "## **105. Search a Word in a 2D Grid of characters**\n",
    "https://www.geeksforgeeks.org/search-a-word-in-a-2d-grid-of-characters/"
   ]
  },
  {
   "cell_type": "code",
   "execution_count": 88,
   "metadata": {},
   "outputs": [],
   "source": [
    "/*\n",
    "Given a 2D grid of characters and a word, \n",
    "find all occurrences of given word in grid. \n",
    "\n",
    "A word can be matched in all 8 directions at any point. \n",
    "Word is said be found in a direction if all characters match in this direction (not in zig-zag form).\n",
    "\n",
    "The 8 directions are, Horizontally Left, Horizontally Right, Vertically Up and 4 Diagonal directions.\n",
    "*/"
   ]
  },
  {
   "cell_type": "code",
   "execution_count": 89,
   "metadata": {},
   "outputs": [],
   "source": [
    "/*\n",
    "Example:\n",
    "\n",
    "Input:  grid[][] = {\"GEEKSFORGEEKS\",\n",
    "                    \"GEEKSQUIZGEEK\",\n",
    "                    \"IDEQAPRACTICE\"};\n",
    "        word = \"GEEKS\"\n",
    "\n",
    "Output: pattern found at 0, 0\n",
    "        pattern found at 0, 8\n",
    "        pattern found at 1, 0\n",
    "\n",
    "Input:  grid[][] = {\"GEEKSFORGEEKS\",\n",
    "                    \"GEEKSQUIZGEEK\",\n",
    "                    \"IDEQAPRACTICE\"};\n",
    "        word = \"EEE\"\n",
    "\n",
    "Output: pattern found at 0, 2\n",
    "        pattern found at 0, 10\n",
    "        pattern found at 2, 2\n",
    "        pattern found at 2, 12\n",
    "*/"
   ]
  },
  {
   "cell_type": "markdown",
   "metadata": {},
   "source": [
    "<img src = \"https://media.geeksforgeeks.org/wp-content/cdn-uploads/Search_a_Word.png\"/>"
   ]
  },
  {
   "cell_type": "code",
   "execution_count": 90,
   "metadata": {},
   "outputs": [],
   "source": [
    "/*\n",
    "The idea used here is simple, \n",
    "    we check every cell. \n",
    "    If cell has first character, then we one by one try all 8 directions from that cell for a match. \n",
    "    Implementation is interesting though. \n",
    "    We use two arrays x[] and y[] to find next move in all 8 directions.\n",
    "*/"
   ]
  },
  {
   "cell_type": "code",
   "execution_count": 91,
   "metadata": {},
   "outputs": [],
   "source": [
    "// Rows and columns in given grid \n",
    "static int R, C; \n",
    "\n",
    "// For searching in all 8 direction  \n",
    "static int[] x = { -1, -1, -1, 0, 0, 1, 1, 1 };  \n",
    "static int[] y = { -1, 0, 1, -1, 1, -1, 0, 1 };  \n",
    "\n",
    "// This function searches in all 8-direction from point  \n",
    "// (row, col) in grid[][]  \n",
    "static boolean search2D(char[][] grid, int row, \n",
    "                        int col, String word) \n",
    "{ \n",
    "        // If first character of word doesn't match with  \n",
    "        // given starting point in grid.  \n",
    "        if (grid[row][col] != word.charAt(0)) \n",
    "            return false; \n",
    "\n",
    "        int len = word.length(); \n",
    "\n",
    "        // Search word in all 8 directions \n",
    "        // starting from (row,col) \n",
    "        for (int dir = 0; dir < 8; dir++) \n",
    "        { \n",
    "            // Initialize starting point \n",
    "            // for current direction  \n",
    "            int k, rd = row + x[dir], cd = col + y[dir]; \n",
    "\n",
    "            // First character is already checked,  \n",
    "            //  match remaining characters \n",
    "            for (k = 1; k < len; k++) \n",
    "            { \n",
    "                // If out of bound break  \n",
    "                if (rd >= R || rd < 0 || cd >= C || cd < 0) \n",
    "                    break; \n",
    "\n",
    "                // If not matched, break  \n",
    "                if (grid[rd][cd] != word.charAt(k)) \n",
    "                    break; \n",
    "\n",
    "                // Moving in particular direction  \n",
    "                rd += x[dir]; \n",
    "                cd += y[dir]; \n",
    "            }  \n",
    "\n",
    "            // If all character matched, then value of must  \n",
    "            // be equal to length of word \n",
    "            if (k == len) \n",
    "                return true;  \n",
    "        } \n",
    "    return false; \n",
    "} "
   ]
  },
  {
   "cell_type": "code",
   "execution_count": 92,
   "metadata": {},
   "outputs": [],
   "source": [
    "// Searches given word in a given \n",
    "// matrix in all 8 directions \n",
    "static void patternSearch(char[][] grid, String word) \n",
    "{ \n",
    "        // Consider every point as starting  \n",
    "        // point and search given word  \n",
    "        for (int row = 0; row < R; row++)  \n",
    "        { \n",
    "            for (int col = 0; col < C; col++)  \n",
    "            { \n",
    "                if (search2D(grid, row, col, word)) \n",
    "                    System.out.println(\"pattern found at \" + row +  \n",
    "                                                        \", \" + col); \n",
    "            } \n",
    "        } \n",
    "} "
   ]
  },
  {
   "cell_type": "code",
   "execution_count": 93,
   "metadata": {},
   "outputs": [
    {
     "name": "stdout",
     "output_type": "stream",
     "text": [
      "pattern found at 0, 0\n",
      "pattern found at 0, 8\n",
      "pattern found at 1, 0\n",
      "\n",
      "pattern found at 0, 2\n",
      "pattern found at 0, 10\n",
      "pattern found at 2, 2\n",
      "pattern found at 2, 12\n"
     ]
    }
   ],
   "source": [
    "// Driver code \n",
    "public static void main(String args[]) \n",
    "{ \n",
    "        R = 3; \n",
    "        C = 13; \n",
    "        char[][] grid = {{'G','E','E','K','S','F','O','R','G','E','E','K','S'}, \n",
    "                            {'G','E','E','K','S','Q','U','I','Z','G','E','E','K'}, \n",
    "                            {'I','D','E','Q','A','P','R','A','C','T','I','C','E'}}; \n",
    "        patternSearch(grid, \"GEEKS\"); \n",
    "        System.out.println(); \n",
    "        patternSearch(grid, \"EEE\"); \n",
    "} \n",
    "main(args);"
   ]
  },
  {
   "cell_type": "code",
   "execution_count": null,
   "metadata": {},
   "outputs": [],
   "source": []
  },
  {
   "cell_type": "markdown",
   "metadata": {},
   "source": [
    "**------------------------Questions Covered-----------------------------**"
   ]
  },
  {
   "cell_type": "markdown",
   "metadata": {},
   "source": [
    "***3\tString\thttps://www.geeksforgeeks.org/number-subsequences-form-ai-bj-ck/\t\tbreaker\t\t\t\t\t\t\t\t\t\t\t\t\t\t\t\t\t\t\t\t\t\t\t\n",
    "3\tString\thttps://www.geeksforgeeks.org/number-subsequences-string-divisible-n/\tPep_JavaIP_3Strings_107CountSubsequencesDivisibleByN\t\t\t\t\t\t\t\t\t\t\t\t\t\t\t\t\t\t\t\t\t\t\t\t\n",
    "3\tString\thttps://www.geeksforgeeks.org/find-number-times-string-occurs-given-string/\tPep_JavaIP_3Strings_108NumbersofTimesStringOccursInString\t\t\t\t\t\t\t\t\t\t\t\t\t\t\t\t\t\t\t\t\t\t\t\t\n",
    "3\tString\thttps://www.geeksforgeeks.org/count-distinct-subsequences/\t\t\t\t\t\t\t\t\t\t\t\t\t\t\t\t\t\t\t\t\t\t\t\t\t\n",
    "3\tString\thttps://www.geeksforgeeks.org/find-patterns-101-given-string/\tPep_JavaIP_3Strings_110FindPattern\t\t\t\t\t\t\t\t\t\t\t\t\t\t\t\t\t\t\t\t\t\t\t\t\n",
    "3\tString\thttps://www.geeksforgeeks.org/given-a-string-find-its-first-non-repeating-character/\tPep_JavaIP_3Strings_111FindFirstNonRepeatingCharacterInOneTraversal\t\t\t\t\t\t\t\t\t\t\t\t\t\t\t\t\t\t\t\t\t\t\t\t\n",
    "3\tString\thttps://www.geeksforgeeks.org/rearrange-a-string-so-that-all-same-characters-become-at-least-d-distance-away/\tPep_JavaIP_3Strings_112RearrangeCharacters\t\t\t\t\t\t\t\t\t\t\t\t\t\t\t\t\t\t\t\t\t\t\t\t\n",
    "3\tString\thttps://www.geeksforgeeks.org/recursively-remove-adjacent-duplicates-given-string/\tPep_JavaIP_3Strings_113RemoveDuplicates\t\t\t\t\t\t\t\t\t\t\t\t\t\t\t\t\t\t\t\t\t\t\t\t\n",
    "3\tString\thttps://www.geeksforgeeks.org/wildcard-character-matching/\t\t\t\t\t\t\t\t\t\t\t\t\t\t\t\t\t\t\t\t\t\t\t\t\t\n",
    "3\tString\thttps://www.geeksforgeeks.org/lexicographic-rank-of-a-string/\tPep_JavaIP_3Strings_115LexicoRank\t\t\t\t\t\t\t\t\t\t\t\t\t\t\t\t\t\t\t\t\t\t\t\t\n",
    "3\tString\thttps://www.geeksforgeeks.org/print-number-ascending-order-contains-1-2-3-digits/\tPep_JavaIP_3Strings_116SortNumbersContaining123Only\t\t\t\t\t\t\t\t\t\t\t\t\t\t\t\t\t\t\t\t\t\t\t\t\n",
    "3\tString\thttps://www.geeksforgeeks.org/given-sorted-dictionary-find-precedence-characters/\t\t\t\t\t\t\t\t\t\t\t\t\t\t\t\t\t\t\t\t\t\t\t\t\t\n",
    "3\tString\thttps://www.geeksforgeeks.org/find-excel-column-name-given-number/\tPep_JavaIP_3Strings_118FindCorrespondingExcelColumnName\t\t\t\t\t\t\t\t\t\t\t\t\t\t\t\t\t\t\t\t\t\t\t\t\n",
    "3\tString\thttps://www.geeksforgeeks.org/find-the-longest-substring-with-k-unique-characters-in-a-given-string/\tPep_JavaIP_3Strings_119LongestSubstringsContainingKUniqueElements\t\t\t\t\t\t\t\t\t\t\t\t\t\t\t\t\t\t\t\t\t\t\t\t\n",
    "3\tString\thttps://www.geeksforgeeks.org/function-to-find-number-of-customers-who-could-not-get-a-computer/\tPep_JavaIP_3Strings_120ComputerCafeCustomers***"
   ]
  },
  {
   "cell_type": "code",
   "execution_count": 1,
   "metadata": {},
   "outputs": [],
   "source": [
    "import java.util.*;\n",
    "import java.io.*;\n",
    "import java.util.Arrays;\n",
    "String[] args =new String[0];"
   ]
  },
  {
   "cell_type": "markdown",
   "metadata": {},
   "source": [
    "## **106. Number of subsequences of the form a^i b^j c^k**\n",
    "https://www.geeksforgeeks.org/number-subsequences-form-ai-bj-ck/"
   ]
  },
  {
   "cell_type": "code",
   "execution_count": 2,
   "metadata": {},
   "outputs": [],
   "source": [
    "/*\n",
    "Given a string, \n",
    "    count number of subsequences of the form aibjck, \n",
    "    i.e., it consists of i ’a’ characters, \n",
    "             followed by j ’b’ characters, \n",
    "             followed by k ’c’ characters where i >= 1, j >=1 and k >= 1.\n",
    "\n",
    "Note: Two subsequences are considered different if the set of array indexes picked for the 2 subsequences are different.\n",
    "\n",
    "Expected Time Complexity : O(n)\n",
    "*/"
   ]
  },
  {
   "cell_type": "code",
   "execution_count": 3,
   "metadata": {},
   "outputs": [],
   "source": [
    "/*\n",
    "Examples:\n",
    "\n",
    "Input  : abbc\n",
    "Output : 3\n",
    "Subsequences are abc, abc and abbc\n",
    "\n",
    "Input  : abcabc\n",
    "Output : 7\n",
    "Subsequences are abc, abc, abbc, aabc\n",
    "abcc, abc and abc\n",
    "*/"
   ]
  },
  {
   "cell_type": "code",
   "execution_count": 4,
   "metadata": {},
   "outputs": [],
   "source": [
    "/*\n",
    "Time Complexity : O(n)\n",
    "\n",
    "Approach:\n",
    "We traverse given string. For every character encounter, we do the following:\n",
    "\n",
    "1) Initialize counts of different subsequences caused by different combination of ‘a’. Let this count be aCount.\n",
    "\n",
    "2) Initialize counts of different subsequences caused by different combination of ‘b’. Let this count be bCount.\n",
    "\n",
    "3) Initialize counts of different subsequences caused by different combination of ‘c’. Let this count be cCount.\n",
    "\n",
    "4) Traverse all characters of given string. Do following for current character s[i]\n",
    "    If current character is ‘a’, then there are following possibilities :\n",
    "    a) Current character begins a new subsequence.\n",
    "    b) Current character is part of aCount subsequences.\n",
    "    c) Current character is not part of aCount subsequences.\n",
    "    Therefore we do aCount = (1 + 2 * aCount);\n",
    "\n",
    "    If current character is ‘b’, then there are following possibilities :\n",
    "    a) Current character begins a new subsequence of b’s with aCount subsequences.\n",
    "    b) Current character is part of bCount subsequences.\n",
    "    c) Current character is not part of bCount subsequences.\n",
    "    Therefore we do bCount = (aCount + 2 * bCount);\n",
    "\n",
    "    If current character is ‘c’, then there are following possibilities :\n",
    "    a) Current character begins a new subsequence of c’s with bCount subsequences.\n",
    "    b) Current character is part of cCount subsequences.\n",
    "    c) Current character is not part of cCount subsequences.\n",
    "    Therefore we do cCount = (bCount + 2 * cCount);\n",
    "\n",
    "5) Finally we return cCount;\n",
    "*/"
   ]
  },
  {
   "cell_type": "code",
   "execution_count": 5,
   "metadata": {},
   "outputs": [],
   "source": [
    "/*\n",
    "Explanation of approach with help of example:\n",
    "\n",
    "- aCount is the number of subsequences of the letter ‘a’.\n",
    "- Consider this example: aa.\n",
    "- We can see that aCount for this is 3, \n",
    "        because we can choose these possibilities: (xa,ax,aa) (x means we did not use that character). \n",
    "    Note also that this is independent of characters in between, \n",
    "        i.e. the aCount of aa and ccbabbbcac are the same because both have exactly 2 a’s.\n",
    "- Now, adding 1 a, we now have the following new subsequences: \n",
    "        each of the old subsequences, each of the old subsequences + the new a, and the new letter a, alone. \n",
    "        So a total of aCount + aCount + 1 subsequences.\n",
    "- Now, let’s consider bCount, the number of subsequences with some a’s and then some b’s. in ‘aab’, \n",
    "        we see that bCount should be 3 (axb,xab,aab) \n",
    "            because it is just the number of ways we can choose subsequences of the first two a’s, and then b. \n",
    "            So every time we add a b, the number of ways increases by aCount.\n",
    "- Let’s find bCount for ‘aabb’. \n",
    "        We have already determined that aab has 3 subsequences, so certainly we still have those. \n",
    "        Additionally, we can add the new b onto any of these subsequences, to get 3 more. \n",
    "        Finally, we have to count the subsequences that are made without using any other b’s, \n",
    "            and by the logic in the last paragraph, that is just aCount. \n",
    "        So, bCount after this is just the old bCount*2 + aCount;\n",
    "- cCount is similar.\n",
    "*/"
   ]
  },
  {
   "cell_type": "code",
   "execution_count": 6,
   "metadata": {},
   "outputs": [],
   "source": [
    "// Returns count of subsequences of the form \n",
    "// a^i b^j c^k \n",
    "static int countSubsequences(String s) \n",
    "{ \n",
    "    // Initialize counts of different subsequences \n",
    "    // caused by different combination of 'a' \n",
    "    int aCount = 0; \n",
    "\n",
    "    // Initialize counts of different subsequences \n",
    "    // caused by different combination of 'a' and \n",
    "    // different combination of 'b' \n",
    "    int bCount = 0; \n",
    "\n",
    "    // Initialize counts of different subsequences \n",
    "    // caused by different combination of 'a', 'b' \n",
    "    // and 'c'. \n",
    "    int cCount = 0; \n",
    "\n",
    "    // Traverse all characters of given string \n",
    "    for (int i=0; i< s.length(); i++) \n",
    "    { \n",
    "        /* If current character is 'a', then \n",
    "           there are following possibilities : \n",
    "             a) Current character begins a new \n",
    "                subsequence. \n",
    "             b) Current character is part of aCount \n",
    "                subsequences. \n",
    "             c) Current character is not part of \n",
    "                aCount subsequences. */\n",
    "        if (s.charAt(i) == 'a') \n",
    "            aCount = (1 + 2 * aCount); \n",
    "\n",
    "        /* If current character is 'b', then \n",
    "           there are following possibilities : \n",
    "             a) Current character begins a new \n",
    "                subsequence of b's with aCount \n",
    "                subsequences. \n",
    "             b) Current character is part of bCount \n",
    "                subsequences. \n",
    "             c) Current character is not part of \n",
    "                bCount subsequences. */\n",
    "        else if (s.charAt(i) == 'b') \n",
    "            bCount = (aCount + 2 * bCount); \n",
    "\n",
    "        /* If current character is 'c', then \n",
    "           there are following possibilities : \n",
    "             a) Current character begins a new \n",
    "                subsequence of c's with bCount \n",
    "                subsequences. \n",
    "             b) Current character is part of cCount \n",
    "                subsequences. \n",
    "             c) Current character is not part of \n",
    "                cCount subsequences. */\n",
    "        else if (s.charAt(i) == 'c') \n",
    "            cCount = (bCount + 2 * cCount); \n",
    "    } \n",
    "\n",
    "    return cCount; \n",
    "} "
   ]
  },
  {
   "cell_type": "code",
   "execution_count": 7,
   "metadata": {},
   "outputs": [
    {
     "name": "stdout",
     "output_type": "stream",
     "text": [
      "3\n"
     ]
    }
   ],
   "source": [
    "// Driver code \n",
    "public static void main(String args[]) \n",
    "{ \n",
    "    String s = \"abbc\"; \n",
    "    System.out.println(countSubsequences(s)); \n",
    "} \n",
    "main(args);"
   ]
  },
  {
   "cell_type": "markdown",
   "metadata": {},
   "source": [
    "## **107. Number of subsequences in a string divisible by n**\n",
    "https://www.geeksforgeeks.org/number-subsequences-string-divisible-n/"
   ]
  },
  {
   "cell_type": "code",
   "execution_count": 8,
   "metadata": {},
   "outputs": [],
   "source": [
    "/*\n",
    "Given a string consisting of digits 0-9, \n",
    "count the number of subsequences in it divisible by m.\n",
    "*/"
   ]
  },
  {
   "cell_type": "code",
   "execution_count": 9,
   "metadata": {},
   "outputs": [],
   "source": [
    "/*\n",
    "Examples:\n",
    "\n",
    "Input  : str = \"1234\", n = 4\n",
    "Output : 4\n",
    "The subsequences 4, 12, 24 and 124 are \n",
    "divisible by 4.\n",
    " \n",
    "Input  : str = \"330\", n = 6\n",
    "Output : 4\n",
    "The subsequences 30, 30, 330 and 0 are \n",
    "divisible by n.\n",
    "\n",
    "Input  : str = \"676\", n = 6\n",
    "Output : 3\n",
    "The subsequences 6, 6 and 66\n",
    "*/"
   ]
  },
  {
   "cell_type": "code",
   "execution_count": 10,
   "metadata": {},
   "outputs": [],
   "source": [
    "/*\n",
    "This problem can be recursively defined. \n",
    "Let remainder of a string with value x be ‘r’ when divided with n. \n",
    "Adding one more character to this string changes its remainder to (r*10 + newdigit) % n. \n",
    "For every new character, \n",
    "    -we have two choices, either add it in all current subsequences or ignore it. \n",
    "Thus, we have an optimal substructure. \n",
    "Following shows the brute force version of this:\n",
    "*/"
   ]
  },
  {
   "cell_type": "code",
   "execution_count": 11,
   "metadata": {},
   "outputs": [],
   "source": [
    "/*\n",
    "string str = \"330\";\n",
    "int n = 6;\n",
    "\n",
    "// idx is value of current index in str\n",
    "// rem is current remainder\n",
    "int count(int idx, int rem)\n",
    "{\n",
    "    // If last character reached\n",
    "    if (idx == n)\n",
    "        return (rem == 0)? 1 : 0;\n",
    "\n",
    "    int ans = 0;\n",
    "\n",
    "    // we exclude it, thus remainder\n",
    "    // remains the same\n",
    "    ans += count(idx+1, rem);\n",
    "\n",
    "    // we include it and thus new remainder\n",
    "    ans += count(idx+1, (rem*10 + str[idx]-'0')%n);\n",
    "\n",
    "    return ans;\n",
    "}\n",
    "*/"
   ]
  },
  {
   "cell_type": "code",
   "execution_count": 12,
   "metadata": {},
   "outputs": [],
   "source": [
    "/*\n",
    "The above recursive solution has overlapping subproblems as shown in below recursion tree.\n",
    "*/"
   ]
  },
  {
   "cell_type": "code",
   "execution_count": 13,
   "metadata": {},
   "outputs": [],
   "source": [
    "/*\n",
    "input string = \"330\"\n",
    "             (0,0) ===> at 0th index with 0 remainder\n",
    "(exclude 0th /      (include 0th character)\n",
    " character) /      \n",
    "       (1,0)      (1,3) ======> at index 1 with 3 as \n",
    "      (E)/  (I)     /(E)       the current remainder\n",
    "     (2,0)  (2,3)   (2,3)\n",
    "             |-------|\n",
    "     These two subproblems overlap \n",
    "     \n",
    "Thus, we can apply Dynamic Programming\n",
    "\n",
    "Time Complexity : O(len * n)\n",
    "Auxiliary Space : O(len * n)\n",
    "*/"
   ]
  },
  {
   "cell_type": "code",
   "execution_count": 14,
   "metadata": {},
   "outputs": [],
   "source": [
    "// Returns count of subsequences of str \n",
    "// divisible by n. \n",
    "static int countDivisibleSubseq(String str, int n) { \n",
    "    int len = str.length(); \n",
    "\n",
    "    // division by n can leave only n remainder \n",
    "    // [0..n-1]. dp[i][j] indicates number of \n",
    "    // subsequences in string [0..i] which leaves \n",
    "    // remainder j after division by n. \n",
    "    int dp[][] = new int[len][n]; \n",
    "\n",
    "    // Filling value for first digit in str \n",
    "    dp[0][(str.charAt(0) - '0') % n]++; \n",
    "\n",
    "    for (int i = 1; i < len; i++) { \n",
    "        // start a new subsequence with index i \n",
    "        dp[i][(str.charAt(i) - '0') % n]++; \n",
    "\n",
    "        for (int j = 0; j < n; j++) { \n",
    "            // exclude i'th character from all the \n",
    "            // current subsequences of string [0...i-1] \n",
    "            dp[i][j] += dp[i - 1][j]; \n",
    "\n",
    "            // include i'th character in all the current \n",
    "            // subsequences of string [0...i-1] \n",
    "            dp[i][(j * 10 + (str.charAt(i) - '0')) % n] += dp[i - 1][j]; \n",
    "        } \n",
    "    } \n",
    "\n",
    "    return dp[len - 1][0]; \n",
    "} "
   ]
  },
  {
   "cell_type": "code",
   "execution_count": 15,
   "metadata": {},
   "outputs": [
    {
     "name": "stdout",
     "output_type": "stream",
     "text": [
      "4"
     ]
    }
   ],
   "source": [
    "// Driver code \n",
    "public static void main(String[] args) { \n",
    "    String str = \"1234\"; \n",
    "    int n = 4; \n",
    "    System.out.print(countDivisibleSubseq(str, n)); \n",
    "} \n",
    "main(args);"
   ]
  },
  {
   "cell_type": "markdown",
   "metadata": {},
   "source": [
    "## **108. Find number of times a string occurs as a subsequence in given string**\n",
    "https://www.geeksforgeeks.org/find-number-times-string-occurs-given-string/"
   ]
  },
  {
   "cell_type": "code",
   "execution_count": 16,
   "metadata": {},
   "outputs": [],
   "source": [
    "/*\n",
    "Given two strings, \n",
    "    find the number of times the second string occurs in the first string, whether continuous or discontinuous.\n",
    "*/"
   ]
  },
  {
   "cell_type": "code",
   "execution_count": 17,
   "metadata": {},
   "outputs": [],
   "source": [
    "/*\n",
    "Examples:\n",
    "\n",
    "Input:  \n",
    "string a = \"GeeksforGeeks\"\n",
    "string b = \"Gks\"\n",
    "\n",
    "Output: 4\n",
    "\n",
    "Explanation:  \n",
    "The four strings are - (Check characters marked in bold)\n",
    "GeeksforGeeks\n",
    "GeeksforGeeks\n",
    "GeeksforGeeks\n",
    "GeeksforGeeks\n",
    "*/"
   ]
  },
  {
   "cell_type": "code",
   "execution_count": 18,
   "metadata": {},
   "outputs": [],
   "source": [
    "/*\n",
    "If we carefully analyze the given problem, we can see that it can be easily divided into sub-problems. \n",
    "The idea is to process all characters of both strings one by one staring from either from left or right side. \n",
    "Let us traverse from right corner, \n",
    "    there are two possibilities for every pair of character being traversed.\n",
    "*/"
   ]
  },
  {
   "cell_type": "code",
   "execution_count": 19,
   "metadata": {},
   "outputs": [],
   "source": [
    "/*\n",
    "m: Length of str1 (first string)\n",
    "n: Length of str2 (second string)\n",
    "\n",
    "If last characters of two strings are same, \n",
    "   1. We consider last characters and get count for remaining \n",
    "      strings. So we recur for lengths m-1 and n-1. \n",
    "   2. We can ignore last character of first string and \n",
    "      recurse for lengths m-1 and n.\n",
    "else \n",
    "If last characters are not same, \n",
    "   We ignore last character of first string and \n",
    "   recurse for lengths m-1 and n.\n",
    "*/"
   ]
  },
  {
   "cell_type": "code",
   "execution_count": 20,
   "metadata": {},
   "outputs": [],
   "source": [
    "// Recursive function to find the number of times \n",
    "// the second string occurs in the first string, \n",
    "// whether continuous or discontinuous \n",
    "static int count(String a, String b, int m, int n) \n",
    "{ \n",
    "    // If both first and second string is empty, \n",
    "    // or if second string is empty, return 1 \n",
    "    if ((m == 0 && n == 0) || n == 0) \n",
    "        return 1; \n",
    "\n",
    "    // If only first string is empty and  \n",
    "    // second string is not empty, return 0 \n",
    "    if (m == 0) \n",
    "        return 0; \n",
    "\n",
    "    // If last characters are same \n",
    "    // Recur for remaining strings by \n",
    "    // 1. considering last characters of  \n",
    "    // both strings \n",
    "    // 2. ignoring last character of  \n",
    "    // first string \n",
    "    if (a.charAt(m - 1) == b.charAt(n - 1)) \n",
    "        return count(a, b, m - 1, n - 1) + \n",
    "               count(a, b, m - 1, n); \n",
    "    else\n",
    "        // If last characters are different,   \n",
    "        // ignore last char of first string  \n",
    "        // and recur for  remaining string \n",
    "        return count(a, b, m - 1, n); \n",
    "} "
   ]
  },
  {
   "cell_type": "code",
   "execution_count": 21,
   "metadata": {},
   "outputs": [
    {
     "name": "stdout",
     "output_type": "stream",
     "text": [
      "4\n"
     ]
    }
   ],
   "source": [
    "// Driver code \n",
    "public static void main (String[] args)  \n",
    "{ \n",
    "    String a = \"GeeksforGeeks\"; \n",
    "    String b = \"Gks\"; \n",
    "    System.out.println( count(a, b, a.length(), b.length())) ; \n",
    "\n",
    "} \n",
    "main(args);"
   ]
  },
  {
   "cell_type": "code",
   "execution_count": 22,
   "metadata": {},
   "outputs": [],
   "source": [
    "/*\n",
    "The time complexity of above solution is exponential. \n",
    "If we carefully analyze, we can see that many sub-problems are solved again and again. \n",
    "Since same sub-problems are called again, this problem has Overlapping sub-problems property. \n",
    "\n",
    "Like other typical Dynamic Programming problems, \n",
    "    re-computations of same sub-problems can be avoided by constructing a temporary array that stores results of sub-problems.\n",
    "*/"
   ]
  },
  {
   "cell_type": "code",
   "execution_count": 23,
   "metadata": {},
   "outputs": [],
   "source": [
    "// Iterative DP function to  \n",
    "// find the number of times  \n",
    "// the second string occurs \n",
    "// in the first string, whether \n",
    "// continuous or discontinuous \n",
    "static int count(String a, String b) \n",
    "{ \n",
    "    int m = a.length(); \n",
    "    int n = b.length(); \n",
    "  \n",
    "    // Create a table to store \n",
    "    // results of sub-problems \n",
    "    int lookup[][] = new int[m + 1][n + 1]; \n",
    "  \n",
    "    // If first string is empty \n",
    "    for (int i = 0; i <= n; ++i) \n",
    "        lookup[0][i] = 0; \n",
    "  \n",
    "    // If second string is empty \n",
    "    for (int i = 0; i <= m; ++i) \n",
    "        lookup[i][0] = 1; \n",
    "  \n",
    "    // Fill lookup[][] in  \n",
    "    // bottom up manner \n",
    "    for (int i = 1; i <= m; i++) \n",
    "    { \n",
    "        for (int j = 1; j <= n; j++) \n",
    "        { \n",
    "            // If last characters are  \n",
    "            // same, we have two options - \n",
    "            // 1. consider last characters  \n",
    "            //    of both strings in solution \n",
    "            // 2. ignore last character \n",
    "            //    of first string \n",
    "            if (a.charAt(i - 1) == b.charAt(j - 1)) \n",
    "                lookup[i][j] = lookup[i - 1][j - 1] +  \n",
    "                               lookup[i - 1][j]; \n",
    "                  \n",
    "            else\n",
    "                // If last character are  \n",
    "                // different, ignore last \n",
    "                // character of first string \n",
    "                lookup[i][j] = lookup[i - 1][j]; \n",
    "        } \n",
    "    } \n",
    "  \n",
    "    return lookup[m][n]; \n",
    "} "
   ]
  },
  {
   "cell_type": "code",
   "execution_count": 24,
   "metadata": {},
   "outputs": [
    {
     "name": "stdout",
     "output_type": "stream",
     "text": [
      "4\n"
     ]
    }
   ],
   "source": [
    "// Driver Code \n",
    "public static void main (String[] args) \n",
    "{ \n",
    "    String a = \"GeeksforGeeks\"; \n",
    "    String b = \"Gks\"; \n",
    "      \n",
    "    System.out.println(count(a, b)); \n",
    "} \n",
    "main(args);"
   ]
  },
  {
   "cell_type": "code",
   "execution_count": 25,
   "metadata": {},
   "outputs": [],
   "source": [
    "/*\n",
    "Time complexity of above solutions is O(MN).\n",
    "Auxiliary space used by the program is O(MN).\n",
    "*/"
   ]
  },
  {
   "cell_type": "markdown",
   "metadata": {},
   "source": [
    "## **109. Count Distinct Subsequences**\n",
    "https://www.geeksforgeeks.org/count-distinct-subsequences/"
   ]
  },
  {
   "cell_type": "code",
   "execution_count": 26,
   "metadata": {},
   "outputs": [],
   "source": [
    "/*\n",
    "Given a string, find the count of distinct subsequences of it.\n",
    "*/"
   ]
  },
  {
   "cell_type": "code",
   "execution_count": 27,
   "metadata": {},
   "outputs": [],
   "source": [
    "/*\n",
    "Examples:\n",
    "\n",
    "Input  : str = \"gfg\"\n",
    "Output : 7\n",
    "The seven distinct subsequences are \"\", \"g\", \"f\",\n",
    "\"gf\", \"fg\", \"gg\" and \"gfg\" \n",
    "\n",
    "Input  : str = \"ggg\"\n",
    "Output : 4\n",
    "The four distinct subsequences are \"\", \"g\", \"gg\"\n",
    "and \"ggg\" \n",
    "*/"
   ]
  },
  {
   "cell_type": "code",
   "execution_count": 28,
   "metadata": {},
   "outputs": [],
   "source": [
    "/*\n",
    "The problem of counting distinct subsequences is easy if all characters of input string are distinct. \n",
    "The count is equal to nC0 + nC1 + nC2 + … nCn = 2n.\n",
    "\n",
    "How to count distinct subsequences when there can be repetition in input string?\n",
    "    -A Simple Solution to count distinct subsequences in a string with duplicates is to generate all subsequences. \n",
    "     For every subsequence, store it in a hash table if it doesn’t exist already. \n",
    "     Time complexity of this solution is exponential and it requires exponential extra space.\n",
    "*/"
   ]
  },
  {
   "cell_type": "code",
   "execution_count": 29,
   "metadata": {},
   "outputs": [],
   "source": [
    "/*\n",
    "Method 1(Naive Approach): Using a set (without Dynamic Programming)\n",
    "Time Complexity : O(2^n)\n",
    "Auxillary Space : O(n)\n",
    "where n is the length of the string.\n",
    "\n",
    "Approach : Generate all the possible subsequences of a given string. \n",
    "    The subsequences of a string can be generated in the following manner:\n",
    "        a) Include a particular element(say ith) in the output array and recursively call the function for the rest of the input string. \n",
    "           This results in the subsequences of a string having ith character.\n",
    "        b) Exclude a particular element(say ith) and recursively call the function for the rest of the input string. \n",
    "           This contains all the subsequences which don’t have the ith character.\n",
    "           \n",
    "    Once we have generated a subsequence, \n",
    "        in the base case of the function we insert that generated subsequence in an unordered set. \n",
    "        Unordered Set is a Data structure, that stores distinct elements in an unordered manner. \n",
    "        This way we insert all the generated subsequences in the set and print the size of the set as our answer \n",
    "            -because at last, the set will contain only distinct subsequences.\n",
    "*/"
   ]
  },
  {
   "cell_type": "markdown",
   "metadata": {},
   "source": [
    "***https://ideone.com/IrvPGh***"
   ]
  },
  {
   "cell_type": "code",
   "execution_count": 30,
   "metadata": {},
   "outputs": [],
   "source": [
    "/*\n",
    "Method 2(Efficient Approach): Using Dynamic Programming\n",
    "Time Complexity : O(n)\n",
    "Auxiliary Space : O(n)\n",
    "\n",
    "An Efficient Solution doesn’t require the generation of subsequences.\n",
    "\n",
    "Let countSub(n) be count of subsequences of \n",
    "first n characters in input string. We can\n",
    "recursively write it as below. \n",
    "\n",
    "countSub(n) = 2*Count(n-1) - Repetition\n",
    "\n",
    "If current character, i.e., str[n-1] of str has\n",
    "not appeared before, then \n",
    "   Repetition = 0\n",
    "\n",
    "Else:\n",
    "   Repetition  =  Count(m)\n",
    "   Here m is index of previous occurrence of\n",
    "   current character. We basically remove all\n",
    "   counts ending with previous occurrence of\n",
    "   current character.\n",
    "   \n",
    "How does this work?\n",
    "If there are no repetitions, \n",
    "    -then count becomes double of count for n-1 \n",
    "        -because we get count(n-1) more subsequences by adding current character at the end of all subsequences possible with n-1 length.\n",
    "        -If there repetitions, \n",
    "                -then we find count of all distinct subsequences ending with previous occurrence. \n",
    "                     This count can be obtained be recursively calling for index of previous occurrence.\n",
    "\n",
    "Since above recurrence has overlapping subproblems, we can solve it using Dynamic Programming.\n",
    "*/"
   ]
  },
  {
   "cell_type": "code",
   "execution_count": 31,
   "metadata": {},
   "outputs": [],
   "source": [
    "static final int MAX_CHAR = 256; \n",
    "\n",
    "// Returns count of distinct sunsequences of str. \n",
    "static int countSub(String str) \n",
    "{ \n",
    "    // Create an array to store index \n",
    "    // of last \n",
    "    int[] last = new int[MAX_CHAR]; \n",
    "    Arrays.fill(last, -1); \n",
    "\n",
    "    // Length of input string \n",
    "    int n = str.length(); \n",
    "\n",
    "    // dp[i] is going to store count of distinct \n",
    "    // subsequences of length i. \n",
    "    int[] dp = new int[n + 1]; \n",
    "\n",
    "    // Empty substring has only one subsequence \n",
    "    dp[0] = 1; \n",
    "\n",
    "    // Traverse through all lengths from 1 to n. \n",
    "    for (int i = 1; i <= n; i++) { \n",
    "        // Number of subsequences with substring \n",
    "        // str[0..i-1] \n",
    "        dp[i] = 2 * dp[i - 1]; \n",
    "\n",
    "        // If current character has appeared \n",
    "        // before, then remove all subsequences \n",
    "        // ending with previous occurrence. \n",
    "        if (last[(int)str.charAt(i - 1)] != -1) \n",
    "            dp[i] = dp[i] - dp[last[(int)str.charAt(i - 1)]]; \n",
    "\n",
    "        // Mark occurrence of current character \n",
    "        last[(int)str.charAt(i - 1)] = (i - 1); \n",
    "    } \n",
    "\n",
    "    return dp[n]; \n",
    "}"
   ]
  },
  {
   "cell_type": "code",
   "execution_count": 32,
   "metadata": {},
   "outputs": [
    {
     "name": "stdout",
     "output_type": "stream",
     "text": [
      "7\n"
     ]
    }
   ],
   "source": [
    "System.out.println(countSub(\"gfg\"));"
   ]
  },
  {
   "cell_type": "markdown",
   "metadata": {},
   "source": [
    "## **110. Find all the patterns of “1(0+)1” in a given string | SET 1(General Approach)**\n",
    "https://www.geeksforgeeks.org/find-patterns-101-given-string/"
   ]
  },
  {
   "cell_type": "markdown",
   "metadata": {},
   "source": [
    "**Related Link** ***https://www.geeksforgeeks.org/find-patterns-101-given-string-set-2regular-expression-approach/*** "
   ]
  },
  {
   "cell_type": "code",
   "execution_count": 33,
   "metadata": {},
   "outputs": [],
   "source": [
    "/*\n",
    "A string contains patterns of the form 1(0+)1 where (0+) represents any non-empty consecutive sequence of 0’s. \n",
    "Count all such patterns. \n",
    "The patterns are allowed to overlap.\n",
    "*/"
   ]
  },
  {
   "cell_type": "code",
   "execution_count": 34,
   "metadata": {},
   "outputs": [],
   "source": [
    "/*\n",
    "Note : It contains digits and lowercase characters only. \n",
    "       The string is not necessarily a binary. 100201 is not a valid pattern.\n",
    "        One approach to solve the problem is discussed here, other using Regular expressions is given in above Related Link\n",
    "*/"
   ]
  },
  {
   "cell_type": "code",
   "execution_count": 35,
   "metadata": {},
   "outputs": [],
   "source": [
    "/*\n",
    "Examples:\n",
    "\n",
    "Input : 1101001\n",
    "Output : 2\n",
    "\n",
    "Input : 100001abc101\n",
    "Output : 2\n",
    "*/"
   ]
  },
  {
   "cell_type": "code",
   "execution_count": 36,
   "metadata": {},
   "outputs": [],
   "source": [
    "/*\n",
    "Let size of input string be n.\n",
    "1. Iterate through index ‘0’ to ‘n-1’.\n",
    "2. If we encounter a ‘1’, we iterate till the elements are ‘0’.\n",
    "3. After the stream of zeros ends, we check whether we encounter a ‘1’ or not.\n",
    "4. Keep on doing this till we reach the end of string.\n",
    "*/"
   ]
  },
  {
   "cell_type": "code",
   "execution_count": 37,
   "metadata": {},
   "outputs": [],
   "source": [
    "// Function to count patterns  \n",
    "static int patternCount(String str) \n",
    "{ \n",
    "    /* Variable to store the last character*/\n",
    "    char last = str.charAt(0); \n",
    "\n",
    "    int i = 1, counter = 0; \n",
    "    while (i < str.length()) \n",
    "    { \n",
    "        /* We found 0 and last character was '1', \n",
    "        state change*/\n",
    "        if (str.charAt(i) == '0' && last == '1') \n",
    "        { \n",
    "            while (str.charAt(i) == '0') \n",
    "                i++; \n",
    "\n",
    "            // After the stream of 0's, we  \n",
    "            // got a '1',counter incremented \n",
    "            if (str.charAt(i) == '1') \n",
    "                counter++; \n",
    "        } \n",
    "\n",
    "        /* Last character stored */\n",
    "        last = str.charAt(i); \n",
    "        i++; \n",
    "    } \n",
    "\n",
    "    return counter; \n",
    "} "
   ]
  },
  {
   "cell_type": "code",
   "execution_count": 38,
   "metadata": {},
   "outputs": [
    {
     "name": "stdout",
     "output_type": "stream",
     "text": [
      "2\n"
     ]
    }
   ],
   "source": [
    "// Driver Code  \n",
    "public static void main (String[] args) \n",
    "{ \n",
    "    String str = \"1001ab010abc01001\"; \n",
    "    System.out.println(patternCount(str)); \n",
    "\n",
    "}\n",
    "main(args);"
   ]
  },
  {
   "cell_type": "markdown",
   "metadata": {},
   "source": [
    "## **111. Given a string, find its first non-repeating character**\n",
    "https://www.geeksforgeeks.org/given-a-string-find-its-first-non-repeating-character/"
   ]
  },
  {
   "cell_type": "code",
   "execution_count": 39,
   "metadata": {},
   "outputs": [],
   "source": [
    "/*\n",
    "Given a string, find the first non-repeating character in it. \n",
    "For example, \n",
    "    if the input string is “GeeksforGeeks”, \n",
    "        then output should be ‘f’ and \n",
    "    if input string is “GeeksQuiz”, \n",
    "        then output should be ‘G’.\n",
    "*/"
   ]
  },
  {
   "cell_type": "markdown",
   "metadata": {},
   "source": [
    "<img src = \"https://media.geeksforgeeks.org/wp-content/cdn-uploads/find-first-non-repeated-character-in-a-string.png\"/>"
   ]
  },
  {
   "cell_type": "code",
   "execution_count": 40,
   "metadata": {},
   "outputs": [],
   "source": [
    "/*\n",
    "We can use string characters as index and build a count array. Following is the algorithm.\n",
    "\n",
    "1) Scan the string from left to right and construct the count array.\n",
    "2) Again, scan the string from left to right and check for count of eachcharacter, \n",
    "        if you find an element who's count is 1, return it.\n",
    "*/"
   ]
  },
  {
   "cell_type": "code",
   "execution_count": 41,
   "metadata": {},
   "outputs": [],
   "source": [
    "/*\n",
    "Example:\n",
    "\n",
    "Input string: str = geeksforgeeks\n",
    "1: Construct character count array from the input string.\n",
    "   ....\n",
    "  count['e'] = 4\n",
    "  count['f'] = 1\n",
    "  count['g'] = 2\n",
    "  count['k'] = 2\n",
    "  ……\n",
    "2: Get the first character who's count is 1 ('f').\n",
    "*/"
   ]
  },
  {
   "cell_type": "code",
   "execution_count": 42,
   "metadata": {},
   "outputs": [],
   "source": [
    "static final int NO_OF_CHARS = 256; \n",
    "static char count[] = new char[NO_OF_CHARS]; \n",
    "\n",
    "/* calculate count of characters  \n",
    "   in the passed string */\n",
    " static void getCharCountArray(String str)  \n",
    " { \n",
    "     for (int i = 0; i < str.length();  i++) \n",
    "          count[str.charAt(i)]++; \n",
    " } \n",
    "\n",
    "/* The method returns index of first non-repeating \n",
    "   character in a string. If all characters are repeating  \n",
    "   then returns -1 */\n",
    "static int firstNonRepeating(String str) \n",
    "{ \n",
    "    getCharCountArray(str); \n",
    "    int index = -1, i; \n",
    "\n",
    "    for (i = 0; i < str.length();  i++) \n",
    "    { \n",
    "        if (count[str.charAt(i)] == 1) \n",
    "        { \n",
    "            index = i; \n",
    "            break; \n",
    "        }    \n",
    "    }   \n",
    "\n",
    "  return index; \n",
    "} "
   ]
  },
  {
   "cell_type": "code",
   "execution_count": 43,
   "metadata": {},
   "outputs": [
    {
     "name": "stdout",
     "output_type": "stream",
     "text": [
      "First non-repeating character is f\n"
     ]
    }
   ],
   "source": [
    "// Driver method \n",
    "public static void main (String[] args) \n",
    "{ \n",
    "    String str = \"geeksforgeeks\"; \n",
    "    int index =  firstNonRepeating(str); \n",
    "\n",
    "    System.out.println(index == -1 ? \"Either all characters are repeating or string \" + \n",
    "               \"is empty\" : \"First non-repeating character is \" +  str.charAt(index)); \n",
    "} \n",
    "main(args);"
   ]
  },
  {
   "cell_type": "code",
   "execution_count": 44,
   "metadata": {},
   "outputs": [],
   "source": [
    "/*\n",
    "Can we do it by traversing the string only once?\n",
    "\n",
    "The above approach takes O(n) time, but in practice it can be improved. \n",
    "The first part of the algorithm runs through the string to construct the count array (in O(n) time). \n",
    "\n",
    "This is reasonable. \n",
    "    But the second part about running through the string again just to find the first non-repeater is not good in practice. \n",
    "    In real situations, your string is expected to be much larger than your alphabet. \n",
    "    \n",
    "Take DNA sequences for example: \n",
    "    they could be millions of letters long with an alphabet of just 4 letters. \n",
    "    \n",
    "    What happens if the non-repeater is at the end of the string? \n",
    "        Then we would have to scan for a long time (again).\n",
    "\n",
    "We can augment the count array by storing not just counts but also the index of the first time you encountered the character \n",
    "    e.g. (3, 26) for ‘a’ meaning that ‘a’ got counted 3 times and the first time it was seen is at position 26. \n",
    "       So when it comes to finding the first non-repeater, we just have to scan the count array, instead of the string. \n",
    "*/"
   ]
  },
  {
   "cell_type": "code",
   "execution_count": 45,
   "metadata": {},
   "outputs": [],
   "source": [
    "class CountIndex \n",
    "{ \n",
    "    int count,index; \n",
    "      \n",
    "    // constructor for first occurrence \n",
    "    public CountIndex(int index) { \n",
    "        this.count = 1; \n",
    "        this.index = index; \n",
    "    } \n",
    "      \n",
    "    // method for updating count \n",
    "    public void incCount() { \n",
    "        this.count++; \n",
    "    } \n",
    "} "
   ]
  },
  {
   "cell_type": "code",
   "execution_count": 46,
   "metadata": {},
   "outputs": [],
   "source": [
    "static final int NO_OF_CHARS = 256; \n",
    "\n",
    "static HashMap<Character, CountIndex> hm = new HashMap<Character, CountIndex>(NO_OF_CHARS); \n",
    "\n",
    "/* calculate count of characters  \n",
    "   in the passed string */\n",
    "static void getCharCountArray(String str)  \n",
    "{ \n",
    "     for (int i = 0; i < str.length();  i++) \n",
    "     { \n",
    "        // If character already occurred,  \n",
    "         if(hm.containsKey(str.charAt(i))) \n",
    "         { \n",
    "             // updating count \n",
    "             hm.get(str.charAt(i)).incCount(); \n",
    "         } \n",
    "\n",
    "        // If it's first occurrence, then store the index and count = 1 \n",
    "         else\n",
    "         { \n",
    "             hm.put(str.charAt(i), new CountIndex(i)); \n",
    "         } \n",
    "\n",
    "     }     \n",
    "} "
   ]
  },
  {
   "cell_type": "code",
   "execution_count": 47,
   "metadata": {},
   "outputs": [],
   "source": [
    "/* The method returns index of first non-repeating \n",
    "   character in a string. If all characters are repeating  \n",
    "   then returns -1 */\n",
    "static int firstNonRepeating(String str) \n",
    "{ \n",
    "    getCharCountArray(str); \n",
    "    int result = Integer.MAX_VALUE, i; \n",
    "\n",
    "    for (i = 0; i < str.length();  i++) \n",
    "    { \n",
    "         // If this character occurs only once and appears \n",
    "        // before the current result, then update the result \n",
    "        if (hm.get(str.charAt(i)).count == 1 && result > hm.get(str.charAt(i)).index){ \n",
    "             result = hm.get(str.charAt(i)).index; \n",
    "        } \n",
    "\n",
    "    }   \n",
    "\n",
    "  return result; \n",
    "} "
   ]
  },
  {
   "cell_type": "code",
   "execution_count": 48,
   "metadata": {},
   "outputs": [
    {
     "name": "stdout",
     "output_type": "stream",
     "text": [
      "First non-repeating character is f\n"
     ]
    }
   ],
   "source": [
    "// Driver method \n",
    "public static void main (String[] args) \n",
    "{ \n",
    "    String str = \"geeksforgeeks\"; \n",
    "    int index =  firstNonRepeating(str); \n",
    "\n",
    "    System.out.println(index == Integer.MAX_VALUE ? \"Either all characters are repeating \" + \n",
    "          \" or string is empty\" : \"First non-repeating character is \" +  str.charAt(index)); \n",
    "} \n",
    "main(args);"
   ]
  },
  {
   "cell_type": "markdown",
   "metadata": {},
   "source": [
    "**Related Link :** ***https://www.geeksforgeeks.org/kth-non-repeating-character/***"
   ]
  },
  {
   "cell_type": "markdown",
   "metadata": {},
   "source": [
    "## **112. Rearrange a string so that all same characters become d distance away**\n",
    "https://www.geeksforgeeks.org/rearrange-a-string-so-that-all-same-characters-become-at-least-d-distance-away/"
   ]
  },
  {
   "cell_type": "code",
   "execution_count": 49,
   "metadata": {},
   "outputs": [],
   "source": [
    "/*\n",
    "Given a string and a positive integer d. \n",
    "Some characters may be repeated in the given string. \n",
    "\n",
    "Rearrange characters of the given string such that the same characters become d distance away from each other. \n",
    "Note that there can be many possible rearrangements, the output should be one of the possible rearrangements. \n",
    "\n",
    "If no such arrangement is possible, that should also be reported.\n",
    "\n",
    "Expected time complexity is O(n) where n is length of input string.\n",
    "*/"
   ]
  },
  {
   "cell_type": "code",
   "execution_count": 50,
   "metadata": {},
   "outputs": [],
   "source": [
    "/*\n",
    "Examples:\n",
    "Input:  \"abb\", d = 2\n",
    "Output: \"bab\"\n",
    "\n",
    "Input:  \"aacbbc\", d = 3\n",
    "Output: \"abcabc\"\n",
    "\n",
    "Input: \"geeksforgeeks\", d = 3\n",
    "Output: egkegkesfesor\n",
    "\n",
    "Input:  \"aaa\",  d = 2\n",
    "Output: Cannot be rearranged\n",
    "*/"
   ]
  },
  {
   "cell_type": "code",
   "execution_count": 51,
   "metadata": {},
   "outputs": [],
   "source": [
    "/*\n",
    "Hint: Alphabet size may be assumed as constant (256) and extra space may be used.\n",
    "*/"
   ]
  },
  {
   "cell_type": "code",
   "execution_count": 52,
   "metadata": {},
   "outputs": [],
   "source": [
    "/*\n",
    "Solution: \n",
    "\n",
    "The idea is to count frequencies of all characters \n",
    "and consider the most frequent character first and place all occurrences of it as close as possible. \n",
    "After the most frequent character is placed, repeat the same process for remaining characters.\n",
    "\n",
    "1) Let the given string be str and size of string be n\n",
    "\n",
    "2) Traverse str, store all characters and their frequencies in a Max Heap MH. \n",
    "        The value of frequency decides the order in MH, i.e., the most frequent character is at the root of MH.\n",
    "\n",
    "3) Make all characters of str as ‘\\0’.\n",
    "\n",
    "4) Do following while MH is not empty.\n",
    "\n",
    "    …a) Extract the Most frequent character. Let the extracted character be x and its frequency be f.\n",
    "    …b) Find the first available position in str, i.e., find the first ‘\\0’ in str.\n",
    "    …c) Let the first position be p. Fill x at p, p+d,.. p+(f-1)d\n",
    "*/"
   ]
  },
  {
   "cell_type": "code",
   "execution_count": 53,
   "metadata": {},
   "outputs": [],
   "source": [
    "/*\n",
    "Time Complexity: \n",
    "    Time complexity of above implementation is O(n + mLog(MAX)). \n",
    "    Here n is the length of str, \n",
    "         m is count of distinct characters in str[] \n",
    "     and MAX is maximum possible different characters. \n",
    "    MAX is typically 256 (a constant) and m is smaller than MAX. \n",
    "So the time complexity can be considered as O(n).\n",
    "*/"
   ]
  },
  {
   "cell_type": "markdown",
   "metadata": {},
   "source": [
    "***https://ideone.com/fxfKfq***"
   ]
  },
  {
   "cell_type": "markdown",
   "metadata": {},
   "source": [
    "## **113. Recursively remove all adjacent duplicates**\n",
    "https://www.geeksforgeeks.org/recursively-remove-adjacent-duplicates-given-string/"
   ]
  },
  {
   "cell_type": "code",
   "execution_count": 54,
   "metadata": {},
   "outputs": [],
   "source": [
    "/*\n",
    "Given a string, recursively remove adjacent duplicate characters from the string. \n",
    "The output string should not have any adjacent duplicates. See following examples.\n",
    "*/"
   ]
  },
  {
   "cell_type": "code",
   "execution_count": 55,
   "metadata": {},
   "outputs": [],
   "source": [
    "/*\n",
    "Examples:\n",
    "\n",
    "Input: azxxzy\n",
    "Output: ay\n",
    "First “azxxzy” is reduced to “azzy”.\n",
    "The string “azzy” contains duplicates,\n",
    "so it is further reduced to “ay”.\n",
    "\n",
    "\n",
    "\n",
    "Input: geeksforgeeg\n",
    "Output: gksfor\n",
    "First “geeksforgeeg” is reduced to\n",
    "“gksforgg”. The string “gksforgg”\n",
    "contains duplicates, so it is further\n",
    "reduced to “gksfor”.\n",
    "\n",
    "Input: caaabbbaacdddd\n",
    "Output: Empty String\n",
    "\n",
    "Input: acaaabbbacdddd\n",
    "Output: acac\n",
    "*/"
   ]
  },
  {
   "cell_type": "code",
   "execution_count": 56,
   "metadata": {},
   "outputs": [],
   "source": [
    "/*\n",
    "The following approach can be followed to remove duplicates in O(N) time:\n",
    "\n",
    "1. Start from the leftmost character and remove duplicates at left corner if there are any.\n",
    "2. The first character must be different from its adjacent now. \n",
    "   Recur for string of length n-1 (string without first character).\n",
    "3. Let the string obtained after reducing right substring of length n-1 be rem_str. \n",
    "   There are three possible cases\n",
    "    i.   If first character of rem_str matches with the first character of original string, remove the first character from rem_str.\n",
    "    ii.  If remaining string becomes empty and last removed character is same as first character of original string. Return empty string.\n",
    "    iii. Else, append the first character of the original string at the beginning of rem_str.\n",
    "4. Return rem_str.\n",
    "*/"
   ]
  },
  {
   "cell_type": "markdown",
   "metadata": {},
   "source": [
    "<img src = \"https://media.geeksforgeeks.org/wp-content/cdn-uploads/20190620140514/Recursively-remove-all-adjacent-duplicates--768x260.png\"/>"
   ]
  },
  {
   "cell_type": "code",
   "execution_count": 57,
   "metadata": {},
   "outputs": [],
   "source": [
    "// Recursively removes adjacent duplicates from str and returns  \n",
    "// new string. las_removed is a pointer to last_removed character \n",
    "static String removeUtil(String str, char last_removed) \n",
    "{ \n",
    "     // If length of string is 1 or 0  \n",
    "     if (str.length() == 0 || str.length() == 1) \n",
    "         return str; \n",
    "\n",
    "     // Remove leftmost same characters and recur for remaining   \n",
    "     // string  \n",
    "     if (str.charAt(0) == str.charAt(1)) \n",
    "     { \n",
    "         last_removed = str.charAt(0); \n",
    "         while (str.length() > 1 && str.charAt(0) == str.charAt(1)) \n",
    "               str = str.substring(1, str.length()); \n",
    "         str = str.substring(1, str.length()); \n",
    "         return removeUtil(str, last_removed);  \n",
    "     } \n",
    "\n",
    "     // At this point, the first character is definiotely different   \n",
    "     // from its adjacent. Ignore first character and recursively   \n",
    "     // remove characters from remaining string  \n",
    "     String rem_str = removeUtil(str.substring(1,str.length()), last_removed); \n",
    "\n",
    "     // Check if the first character of the rem_string matches with   \n",
    "     // the first character of the original string \n",
    "     if (rem_str.length() != 0 && rem_str.charAt(0) == str.charAt(0)) \n",
    "     { \n",
    "        last_removed = str.charAt(0); \n",
    "        return rem_str.substring(1,rem_str.length()); // Remove first character \n",
    "     }  \n",
    "\n",
    "\n",
    "     // If remaining string becomes empty and last removed character  \n",
    "     // is same as first character of original string. This is needed  \n",
    "     // for a string like \"acbbcddc\"  \n",
    "     if (rem_str.length() == 0 && last_removed == str.charAt(0)) \n",
    "         return rem_str; \n",
    "\n",
    "     // If the two first characters of str and rem_str don't match,   \n",
    "     // append first character of str before the first character of  \n",
    "     // rem_str \n",
    "     return (str.charAt(0) + rem_str); \n",
    "}"
   ]
  },
  {
   "cell_type": "code",
   "execution_count": 58,
   "metadata": {},
   "outputs": [],
   "source": [
    "static String remove(String str)   \n",
    "{ \n",
    "     char last_removed = '\\0'; \n",
    "     return removeUtil(str, last_removed);        \n",
    "} "
   ]
  },
  {
   "cell_type": "code",
   "execution_count": 59,
   "metadata": {},
   "outputs": [
    {
     "name": "stdout",
     "output_type": "stream",
     "text": [
      "gksfor\n",
      "ay\n",
      "\n",
      "g\n",
      "a\n",
      "\n",
      "qrq\n",
      "acac\n"
     ]
    }
   ],
   "source": [
    "// Driver code \n",
    "public static void main(String args[]) \n",
    "{ \n",
    "     String str1 = \"geeksforgeeg\"; \n",
    "     System.out.println(remove(str1)); \n",
    "\n",
    "     String str2 = \"azxxxzy\"; \n",
    "     System.out.println(remove(str2)); \n",
    "\n",
    "     String str3 = \"caaabbbaac\"; \n",
    "     System.out.println(remove(str3)); \n",
    "\n",
    "     String str4 = \"gghhg\"; \n",
    "     System.out.println(remove(str4)); \n",
    "\n",
    "     String str5 = \"aaaacddddcappp\"; \n",
    "     System.out.println(remove(str5)); \n",
    "\n",
    "     String str6 = \"aaaaaaaaaa\"; \n",
    "     System.out.println(remove(str6)); \n",
    "\n",
    "     String str7 = \"qpaaaaadaaaaadprq\"; \n",
    "     System.out.println(remove(str7)); \n",
    "\n",
    "     String str8 = \"acaaabbbacdddd\"; \n",
    "     System.out.println(remove(str8)); \n",
    "\n",
    "} \n",
    "main(args);"
   ]
  },
  {
   "cell_type": "code",
   "execution_count": 60,
   "metadata": {},
   "outputs": [],
   "source": [
    "/*\n",
    "Time Complexity: \n",
    "    The time complexity of the solution can be written as T(n) = T(n-k) + O(k) \n",
    "    where n is length of the input string \n",
    "    and   k is the number of first characters which are same. \n",
    "Solution of the recurrence is O(n)\n",
    "*/"
   ]
  },
  {
   "cell_type": "markdown",
   "metadata": {},
   "source": [
    "## **114. String matching where one string contains wildcard characters**\n",
    "https://www.geeksforgeeks.org/wildcard-character-matching/"
   ]
  },
  {
   "cell_type": "code",
   "execution_count": 61,
   "metadata": {},
   "outputs": [],
   "source": [
    "/*\n",
    "Given two strings where first string may contain wild card characters and second string is a normal string. \n",
    "Write a function that returns true if the two strings match. \n",
    "\n",
    "The following are allowed wild card characters in first string.\n",
    "\n",
    "* --> Matches with 0 or more instances of any character or set of characters.\n",
    "? --> Matches with any one character.\n",
    "*/"
   ]
  },
  {
   "cell_type": "code",
   "execution_count": 62,
   "metadata": {},
   "outputs": [],
   "source": [
    "/*\n",
    "For example, \n",
    "\n",
    "“g*ks” matches with “geeks” match. \n",
    "And string “ge?ks*” matches with “geeksforgeeks” (note ‘*’ at the end of first string). \n",
    "But “g*k” doesn’t match with “gee” as character ‘k’ is not present in second string.\n",
    "*/"
   ]
  },
  {
   "cell_type": "code",
   "execution_count": 63,
   "metadata": {},
   "outputs": [],
   "source": [
    "// The main function that checks if  \n",
    "// two given strings match. The first string  \n",
    "// may contain wildcard characters \n",
    "static boolean match(String first, String second)  \n",
    "{ \n",
    "  \n",
    "    // If we reach at the end of both strings,  \n",
    "    // we are done \n",
    "    if (first.length() == 0 && second.length() == 0) \n",
    "        return true; \n",
    "  \n",
    "    // Make sure that the characters after '*'  \n",
    "    // are present in second string.  \n",
    "    // This function assumes that the first \n",
    "    // string will not contain two consecutive '*' \n",
    "    if (first.length() > 1 && first.charAt(0) == '*' &&  \n",
    "                              second.length() == 0) \n",
    "        return false; \n",
    "  \n",
    "    // If the first string contains '?',  \n",
    "    // or current characters of both strings match \n",
    "    if ((first.length() > 1 && first.charAt(0) == '?') ||  \n",
    "        (first.length() != 0 && second.length() != 0 &&  \n",
    "         first.charAt(0) == second.charAt(0))) \n",
    "        return match(first.substring(1),  \n",
    "                     second.substring(1)); \n",
    "  \n",
    "    // If there is *, then there are two possibilities \n",
    "    // a) We consider current character of second string \n",
    "    // b) We ignore current character of second string. \n",
    "    if (first.length() > 0 && first.charAt(0) == '*') \n",
    "        return match(first.substring(1), second) ||  \n",
    "               match(first, second.substring(1)); \n",
    "    return false; \n",
    "} "
   ]
  },
  {
   "cell_type": "code",
   "execution_count": 64,
   "metadata": {},
   "outputs": [],
   "source": [
    "// A function to run test cases \n",
    "static void test(String first, String second) \n",
    "{ \n",
    "    if (match(first, second)) \n",
    "        System.out.println(\"Yes\"); \n",
    "    else\n",
    "        System.out.println(\"No\"); \n",
    "} "
   ]
  },
  {
   "cell_type": "code",
   "execution_count": 65,
   "metadata": {
    "scrolled": true
   },
   "outputs": [
    {
     "name": "stdout",
     "output_type": "stream",
     "text": [
      "Yes\n",
      "Yes\n",
      "No\n",
      "No\n",
      "Yes\n",
      "No\n",
      "Yes\n",
      "Yes\n"
     ]
    }
   ],
   "source": [
    "// Driver Code \n",
    "public static void main(String[] args)  \n",
    "{ \n",
    "    test(\"g*ks\", \"geeks\"); // Yes \n",
    "    test(\"ge?ks*\", \"geeksforgeeks\"); // Yes \n",
    "    test(\"g*k\", \"gee\"); // No because 'k' is not in second \n",
    "    test(\"*pqrs\", \"pqrst\"); // No because 't' is not in first \n",
    "    test(\"abc*bcd\", \"abcdhghgbcd\"); // Yes \n",
    "    test(\"abc*c?d\", \"abcd\"); // No because second must have 2 \n",
    "                            // instances of 'c' \n",
    "    test(\"*c*d\", \"abcd\"); // Yes \n",
    "    test(\"*?c*d\", \"abcd\"); // Yes \n",
    "} \n",
    "main(args);"
   ]
  },
  {
   "cell_type": "markdown",
   "metadata": {},
   "source": [
    "***https://youtu.be/Q6ZX95GadA8***"
   ]
  },
  {
   "cell_type": "markdown",
   "metadata": {},
   "source": [
    "## **115. Lexicographic rank of a string**\n",
    "https://www.geeksforgeeks.org/lexicographic-rank-of-a-string/"
   ]
  },
  {
   "cell_type": "code",
   "execution_count": 66,
   "metadata": {},
   "outputs": [],
   "source": [
    "/*\n",
    "Given a string, \n",
    "find its rank among all its permutations sorted lexicographically. \n",
    "\n",
    "For example, \n",
    "    rank of “abc” is 1, \n",
    "    rank of “acb” is 2, \n",
    "    and rank of “cba” is 6.\n",
    "    \n",
    "For simplicity, let us assume that the string does not contain any duplicated characters.\n",
    "*/"
   ]
  },
  {
   "cell_type": "code",
   "execution_count": 67,
   "metadata": {},
   "outputs": [],
   "source": [
    "/*\n",
    "Examples:\n",
    "\n",
    "Input : str[] = \"acb\"\n",
    "Output : Rank = 2\n",
    "\n",
    "Input : str[] = \"string\"\n",
    "Output : Rank = 598\n",
    "\n",
    "Input : str[] = \"cba\"\n",
    "Output : Rank = 6\n",
    "*/"
   ]
  },
  {
   "cell_type": "code",
   "execution_count": 68,
   "metadata": {},
   "outputs": [],
   "source": [
    "/*\n",
    "One simple solution is to initialize rank as 1, \n",
    "generate all permutations in lexicographic order. \n",
    "\n",
    "After generating a permutation, \n",
    "check if the generated permutation is same as given string, \n",
    "        if same, \n",
    "            then return rank, \n",
    "        if not, \n",
    "            then increment the rank by 1. \n",
    "            \n",
    "The time complexity of this solution will be exponential in worst case.\n",
    "*/"
   ]
  },
  {
   "cell_type": "code",
   "execution_count": 69,
   "metadata": {},
   "outputs": [],
   "source": [
    "/*\n",
    "Let the given string be “STRING”. \n",
    "In the input string, ‘S’ is the first character. \n",
    "There are total 6 characters and 4 of them are smaller than ‘S’. \n",
    "So there can be 4 * 5! smaller strings where first character is smaller than ‘S’, like following\n",
    "\n",
    "R X X X X X\n",
    "I X X X X X\n",
    "N X X X X X\n",
    "G X X X X X\n",
    "\n",
    "Now let us Fix S’ and find the smaller strings starting with ‘S’.\n",
    "\n",
    "Repeat the same process for T, rank is 4*5! + 4*4! +…\n",
    "\n",
    "Now fix T and repeat the same process for R, rank is 4*5! + 4*4! + 3*3! +…\n",
    "\n",
    "Now fix R and repeat the same process for I, rank is 4*5! + 4*4! + 3*3! + 1*2! +…\n",
    "\n",
    "Now fix I and repeat the same process for N, rank is 4*5! + 4*4! + 3*3! + 1*2! + 1*1! +…\n",
    "\n",
    "Now fix N and repeat the same process for G, rank is 4*5! + 4*4! + 3*3! + 1*2! + 1*1! + 0*0!\n",
    "\n",
    "Rank = 4*5! + 4*4! + 3*3! + 1*2! + 1*1! + 0*0! = 597\n",
    "\n",
    "\n",
    "Note that the above computations find count of smaller strings. \n",
    "Therefore rank of given string is count of smaller strings plus 1. \n",
    "The final rank = 1 + 597 = 598\n",
    "*/"
   ]
  },
  {
   "cell_type": "code",
   "execution_count": 70,
   "metadata": {},
   "outputs": [],
   "source": [
    "// A utility function to find factorial of n \n",
    "static int fact(int n) \n",
    "{ \n",
    "    return (n <= 1) ? 1 : n * fact(n - 1); \n",
    "} "
   ]
  },
  {
   "cell_type": "code",
   "execution_count": 71,
   "metadata": {},
   "outputs": [],
   "source": [
    "// A utility function to count smaller \n",
    "// characters on right of arr[low] \n",
    "static int findSmallerInRight(String str, int low, \n",
    "                              int high) \n",
    "{ \n",
    "    int countRight = 0, i; \n",
    "\n",
    "    for (i = low + 1; i <= high; ++i) \n",
    "        if (str.charAt(i) < str.charAt(low)) \n",
    "            ++countRight; \n",
    "\n",
    "    return countRight; \n",
    "}"
   ]
  },
  {
   "cell_type": "code",
   "execution_count": 72,
   "metadata": {},
   "outputs": [],
   "source": [
    "// A function to find rank of a string in \n",
    "// all permutations of characters \n",
    "static int findRank(String str) \n",
    "{ \n",
    "    int len = str.length(); \n",
    "    int mul = fact(len); \n",
    "    int rank = 1; \n",
    "    int countRight; \n",
    "\n",
    "    for (int i = 0; i < len; ++i) { \n",
    "        mul /= len - i; \n",
    "\n",
    "        // count number of chars smaller \n",
    "        // than str[i] from str[i+1] to \n",
    "        // str[len-1] \n",
    "        countRight = findSmallerInRight(str, i, len - 1); \n",
    "\n",
    "        rank += countRight * mul; \n",
    "    } \n",
    "\n",
    "    return rank; \n",
    "} "
   ]
  },
  {
   "cell_type": "code",
   "execution_count": 73,
   "metadata": {},
   "outputs": [
    {
     "name": "stdout",
     "output_type": "stream",
     "text": [
      "598\n"
     ]
    }
   ],
   "source": [
    "// Driver program to test above function \n",
    "public static void main(String[] args) \n",
    "{ \n",
    "    String str = \"string\"; \n",
    "    System.out.println(findRank(str)); \n",
    "} \n",
    "main(args);"
   ]
  },
  {
   "cell_type": "code",
   "execution_count": 74,
   "metadata": {},
   "outputs": [],
   "source": [
    "/*\n",
    "The time complexity of the above solution is O(n^2). \n",
    "We can reduce the time complexity to O(n) by creating an auxiliary array of size 256. \n",
    "*/"
   ]
  },
  {
   "cell_type": "code",
   "execution_count": 75,
   "metadata": {},
   "outputs": [],
   "source": [
    "static int MAX_CHAR = 256; \n",
    "\n",
    "// A utility function to find factorial of n \n",
    "static int fact(int n) \n",
    "{ \n",
    "    return (n <= 1) ? 1 : n * fact(n - 1); \n",
    "} "
   ]
  },
  {
   "cell_type": "code",
   "execution_count": 76,
   "metadata": {},
   "outputs": [],
   "source": [
    "// Construct a count array where value at every index \n",
    "// contains count of smaller characters in whole string \n",
    "static void populateAndIncreaseCount(int[] count, char[] str) \n",
    "{ \n",
    "    int i; \n",
    "\n",
    "    for (i = 0; i < str.length; ++i) \n",
    "        ++count[str[i]]; \n",
    "\n",
    "    for (i = 1; i < MAX_CHAR; ++i) \n",
    "        count[i] += count[i - 1]; \n",
    "}"
   ]
  },
  {
   "cell_type": "code",
   "execution_count": 77,
   "metadata": {},
   "outputs": [],
   "source": [
    "// Removes a character ch from count[] array \n",
    "// constructed by populateAndIncreaseCount() \n",
    "static void updatecount(int[] count, char ch) \n",
    "{ \n",
    "    int i; \n",
    "    for (i = ch; i < MAX_CHAR; ++i) \n",
    "        --count[i]; \n",
    "} "
   ]
  },
  {
   "cell_type": "code",
   "execution_count": 78,
   "metadata": {},
   "outputs": [],
   "source": [
    "// A function to find rank of a string in all permutations \n",
    "// of characters \n",
    "static int findRank(char[] str) \n",
    "{ \n",
    "    int len = str.length; \n",
    "    int mul = fact(len); \n",
    "    int rank = 1, i; \n",
    "\n",
    "    // all elements of count[] are initialized with 0 \n",
    "    int count[] = new int[MAX_CHAR]; \n",
    "\n",
    "    // Populate the count array such that count[i] \n",
    "    // contains count of characters which are present \n",
    "    // in str and are smaller than i \n",
    "    populateAndIncreaseCount(count, str); \n",
    "\n",
    "    for (i = 0; i < len; ++i) { \n",
    "        mul /= len - i; \n",
    "\n",
    "        // count number of chars smaller than str[i] \n",
    "        // fron str[i+1] to str[len-1] \n",
    "        rank += count[str[i] - 1] * mul; \n",
    "\n",
    "        // Reduce count of characters greater than str[i] \n",
    "        updatecount(count, str[i]); \n",
    "    } \n",
    "\n",
    "    return rank; \n",
    "} "
   ]
  },
  {
   "cell_type": "code",
   "execution_count": 79,
   "metadata": {},
   "outputs": [
    {
     "name": "stdout",
     "output_type": "stream",
     "text": [
      "598\n"
     ]
    }
   ],
   "source": [
    "// Driver code \n",
    "public static void main(String args[]) \n",
    "{ \n",
    "    char str[] = \"string\".toCharArray(); \n",
    "    System.out.println(findRank(str)); \n",
    "} \n",
    "main(args);"
   ]
  },
  {
   "cell_type": "markdown",
   "metadata": {},
   "source": [
    "## **116. Print number in ascending order which contains 1, 2 and 3 in their digits.**\n",
    "https://www.geeksforgeeks.org/print-number-ascending-order-contains-1-2-3-digits/"
   ]
  },
  {
   "cell_type": "code",
   "execution_count": 80,
   "metadata": {},
   "outputs": [],
   "source": [
    "/*\n",
    "Given an array of numbers, \n",
    "    the task is to print those numbers in ascending order separated by commas which have 1, 2 and 3 in their digits. \n",
    "    If no number containing digits 1, 2, and 3 present then print -1.\n",
    "    \n",
    "Time Complexity: Time complexity of the above approach is O(nlg(n)).\n",
    "*/"
   ]
  },
  {
   "cell_type": "code",
   "execution_count": 81,
   "metadata": {},
   "outputs": [],
   "source": [
    "/*\n",
    "Examples:\n",
    "\n",
    "Input : numbers[] = {123, 1232, 456, 234, 32145}\n",
    "Output : 123, 1232, 32145\n",
    "\n",
    "Input : numbers[] = {9821, 627183, 12, 1234}\n",
    "Output : 1234, 627183\n",
    "\n",
    "Input : numbers[] = {12, 232, 456, 234}\n",
    "Output : -1\n",
    "*/"
   ]
  },
  {
   "cell_type": "code",
   "execution_count": 82,
   "metadata": {},
   "outputs": [],
   "source": [
    "/*\n",
    "Approach: \n",
    "\n",
    "First finding all the number in from of array which contains 1, 2 & 3 \n",
    "then sort the number according to 1, 2 and 3 \n",
    "and then print it.\n",
    "*/"
   ]
  },
  {
   "cell_type": "code",
   "execution_count": 83,
   "metadata": {},
   "outputs": [],
   "source": [
    "// convert the number to string and find  \n",
    "// if it contains 1, 2 & 3. \n",
    "private static boolean findContainsOneTwoThree( \n",
    "                                     int number) \n",
    "{ \n",
    "\n",
    "    String str = Integer.toString(number);         \n",
    "    return (str.contains(\"1\") && str.contains(\"2\") &&  \n",
    "                                str.contains(\"3\")); \n",
    "} "
   ]
  },
  {
   "cell_type": "code",
   "execution_count": 84,
   "metadata": {},
   "outputs": [],
   "source": [
    "// prints all the number containing 1, 2, 3  \n",
    "// in any order \n",
    "private String printNumbers(int[] numbers) \n",
    "{ \n",
    "\n",
    "    ArrayList<Integer> array = new ArrayList<>(); \n",
    "    for (int number : numbers) { \n",
    "\n",
    "        // check if the number contains 1,  \n",
    "        // 2 & 3 in any order \n",
    "        if (findContainsOneTwoThree(number)) \n",
    "            array.add(number); \n",
    "    } \n",
    "\n",
    "    // sort all the numbers \n",
    "    Collections.sort(array); \n",
    "\n",
    "    StringBuffer strbuf = new StringBuffer(); \n",
    "    Iterator it = array.iterator();         \n",
    "    while (it.hasNext()) { \n",
    "\n",
    "        int value = (int)it.next(); \n",
    "        if (strbuf.length() > 0) \n",
    "            strbuf.append(\", \"); \n",
    "\n",
    "        strbuf.append(Integer.toString(value)); \n",
    "    } \n",
    "\n",
    "    return (strbuf.length() > 0) ?  \n",
    "                 strbuf.toString() : \"-1\"; \n",
    "} "
   ]
  },
  {
   "cell_type": "code",
   "execution_count": 85,
   "metadata": {},
   "outputs": [
    {
     "name": "stdout",
     "output_type": "stream",
     "text": [
      "123, 1232, 32145\n"
     ]
    }
   ],
   "source": [
    "public static void main(String[] args)  \n",
    "{         \n",
    "    int[] numbers = { 123, 1232, 456, 234, 32145 };         \n",
    "    System.out.println(printNumbers(numbers)); \n",
    "} \n",
    "main(args);"
   ]
  },
  {
   "cell_type": "markdown",
   "metadata": {},
   "source": [
    "## **117. Given a sorted dictionary of an alien language, find order of characters**\n",
    "https://www.geeksforgeeks.org/given-sorted-dictionary-find-precedence-characters/"
   ]
  },
  {
   "cell_type": "code",
   "execution_count": 86,
   "metadata": {},
   "outputs": [],
   "source": [
    "/*\n",
    "Given a sorted dictionary (array of words) of an alien language, find order of characters in the language.\n",
    "*/"
   ]
  },
  {
   "cell_type": "code",
   "execution_count": 87,
   "metadata": {},
   "outputs": [],
   "source": [
    "/*\n",
    "Examples:\n",
    "\n",
    "Input:  words[] = {\"baa\", \"abcd\", \"abca\", \"cab\", \"cad\"}\n",
    "Output: Order of characters is 'b', 'd', 'a', 'c'\n",
    "Note that words are sorted and in the given language \"baa\" \n",
    "comes before \"abcd\", therefore 'b' is before 'a' in output.\n",
    "Similarly we can find other orders.\n",
    "\n",
    "Input:  words[] = {\"caa\", \"aaa\", \"aab\"}\n",
    "Output: Order of characters is 'c', 'a', 'b'\n",
    "*/"
   ]
  },
  {
   "cell_type": "code",
   "execution_count": 88,
   "metadata": {},
   "outputs": [],
   "source": [
    "/*\n",
    "The idea is to create a graph of characters and then find topological sorting of the created graph. \n",
    "\n",
    "Following are the detailed steps.\n",
    "1) Create a graph g with number of vertices equal to the size of alphabet in the given alien language. \n",
    "    For example, \n",
    "        if the alphabet size is 5, \n",
    "        then there can be 5 characters in words. \n",
    "        \n",
    "        Initially there are no edges in graph.\n",
    "\n",
    "2) Do following for every pair of adjacent words in given sorted array.\n",
    "\n",
    "…..a) Let the current pair of words be word1 and word2. \n",
    "      One by one compare characters of both words and find the first mismatching characters.\n",
    "…..b) Create an edge in g from mismatching character of word1 to that of word2.\n",
    "\n",
    "3) Print topological sorting of the above created graph.\n",
    "\n",
    "Following is the implementation of the above algorithm.\n",
    "*/"
   ]
  },
  {
   "cell_type": "markdown",
   "metadata": {},
   "source": [
    "**Topological Sorting** ***https://www.geeksforgeeks.org/topological-sorting/***"
   ]
  },
  {
   "cell_type": "code",
   "execution_count": 89,
   "metadata": {},
   "outputs": [],
   "source": [
    "// Class to represent a graph \n",
    "class Graph \n",
    "{ \n",
    "  \n",
    "    // An array representing the graph as an adjacency list \n",
    "    private final LinkedList<Integer>[] adjacencyList; \n",
    "  \n",
    "    Graph(int nVertices) \n",
    "    { \n",
    "        adjacencyList = new LinkedList[nVertices]; \n",
    "        for (int vertexIndex = 0; vertexIndex < nVertices; vertexIndex++) \n",
    "        { \n",
    "            adjacencyList[vertexIndex] = new LinkedList<>(); \n",
    "        } \n",
    "    } \n",
    "  \n",
    "    // function to add an edge to graph \n",
    "    void addEdge(int startVertex, int endVertex) \n",
    "    { \n",
    "        adjacencyList[startVertex].add(endVertex); \n",
    "    } \n",
    "  \n",
    "    private int getNoOfVertices() \n",
    "    { \n",
    "        return adjacencyList.length; \n",
    "    } \n",
    "  \n",
    "    // A recursive function used by topologicalSort \n",
    "    private void topologicalSortUtil(int currentVertex, boolean[] visited, \n",
    "                                     Stack<Integer> stack) \n",
    "    { \n",
    "        // Mark the current node as visited. \n",
    "        visited[currentVertex] = true; \n",
    "  \n",
    "        // Recur for all the vertices adjacent to this vertex \n",
    "        for (int adjacentVertex : adjacencyList[currentVertex]) \n",
    "        { \n",
    "            if (!visited[adjacentVertex]) \n",
    "            { \n",
    "                topologicalSortUtil(adjacentVertex, visited, stack); \n",
    "            } \n",
    "        } \n",
    "  \n",
    "        // Push current vertex to stack which stores result \n",
    "        stack.push(currentVertex); \n",
    "    } \n",
    "  \n",
    "    // prints a Topological Sort of the complete graph \n",
    "    void topologicalSort() \n",
    "    { \n",
    "        Stack<Integer> stack = new Stack<>(); \n",
    "  \n",
    "        // Mark all the vertices as not visited \n",
    "        boolean[] visited = new boolean[getNoOfVertices()]; \n",
    "        for (int i = 0; i < getNoOfVertices(); i++) \n",
    "        { \n",
    "            visited[i] = false; \n",
    "        } \n",
    "  \n",
    "        // Call the recursive helper function to store Topological  \n",
    "        // Sort starting from all vertices one by one \n",
    "        for (int i = 0; i < getNoOfVertices(); i++) \n",
    "        { \n",
    "            if (!visited[i]) \n",
    "            { \n",
    "                topologicalSortUtil(i, visited, stack); \n",
    "            } \n",
    "        } \n",
    "  \n",
    "        // Print contents of stack \n",
    "        while (!stack.isEmpty()) \n",
    "        { \n",
    "            System.out.print((char)('a' + stack.pop()) + \" \"); \n",
    "        } \n",
    "    } \n",
    "} "
   ]
  },
  {
   "cell_type": "code",
   "execution_count": 90,
   "metadata": {},
   "outputs": [],
   "source": [
    "// This function fidns and prints order \n",
    "// of characer from a sorted array of words. \n",
    "// alpha is number of possible alphabets  \n",
    "// starting from 'a'. For simplicity, this \n",
    "// function is written in a way that only \n",
    "// first 'alpha' characters can be there  \n",
    "// in words array. For example if alpha \n",
    "//  is 7, then words[] should contain words \n",
    "// having only 'a', 'b','c' 'd', 'e', 'f', 'g' \n",
    "private static void printOrder(String[] words, int alpha) \n",
    "{ \n",
    "    // Create a graph with 'aplha' edges \n",
    "    Graph graph = new Graph(alpha); \n",
    "\n",
    "    for (int i = 0; i < words.length - 1; i++) \n",
    "    { \n",
    "        // Take the current two words and find the first mismatching \n",
    "        // character \n",
    "        String word1 = words[i]; \n",
    "        String word2 = words[i+1]; \n",
    "        for (int j = 0; j < Math.min(word1.length(), word2.length()); j++) \n",
    "        { \n",
    "            // If we find a mismatching character, then add an edge \n",
    "            // from character of word1 to that of word2 \n",
    "            if (word1.charAt(j) != word2.charAt(j)) \n",
    "            { \n",
    "                graph.addEdge(word1.charAt(j) - 'a', word2.charAt(j)- 'a'); \n",
    "                break; \n",
    "            } \n",
    "        } \n",
    "    } \n",
    "\n",
    "    // Print topological sort of the above created graph \n",
    "    graph.topologicalSort(); \n",
    "} "
   ]
  },
  {
   "cell_type": "code",
   "execution_count": 91,
   "metadata": {},
   "outputs": [
    {
     "name": "stdout",
     "output_type": "stream",
     "text": [
      "c a b "
     ]
    }
   ],
   "source": [
    "// Driver program to test above functions \n",
    "public static void main(String[] args) \n",
    "{ \n",
    "    String[] words = {\"caa\", \"aaa\", \"aab\"}; \n",
    "    printOrder(words, 3); \n",
    "} \n",
    "main(args);"
   ]
  },
  {
   "cell_type": "code",
   "execution_count": 92,
   "metadata": {},
   "outputs": [],
   "source": [
    "/*\n",
    "Time Complexity: \n",
    "    The first step to create a graph takes O(n + alhpa) time \n",
    "        where n is number of given words \n",
    "        and alpha is number of characters in given alphabet. \n",
    "    \n",
    "    The second step is also topological sorting. \n",
    "    \n",
    "    Note that there would be alpha vertices and at-most (n-1) edges in the graph. \n",
    "    \n",
    "    The time complexity of topological sorting is O(V+E) which is O(n + aplha) here. \n",
    "    \n",
    "So overall time complexity is O(n + aplha) + O(n + aplha) which is O(n + aplha).\n",
    "*/"
   ]
  },
  {
   "cell_type": "markdown",
   "metadata": {},
   "source": [
    "## **118. Find Excel column name from a given column number**\n",
    "https://www.geeksforgeeks.org/find-excel-column-name-given-number/"
   ]
  },
  {
   "cell_type": "code",
   "execution_count": 93,
   "metadata": {},
   "outputs": [],
   "source": [
    "/*\n",
    "MS Excel columns has a pattern like A, B, C, … ,Z, AA, AB, AC,…. ,AZ, BA, BB, … ZZ, AAA, AAB ….. etc. \n",
    "In other words, column 1 is named as “A”, column 2 as “B”, column 27 as “AA”.\n",
    "Given a column number, find its corresponding Excel column name.\n",
    "*/"
   ]
  },
  {
   "cell_type": "code",
   "execution_count": 94,
   "metadata": {},
   "outputs": [],
   "source": [
    "/*\n",
    "Following are more examples.\n",
    "\n",
    "Input          Output\n",
    " 26             Z\n",
    " 51             AY\n",
    " 52             AZ\n",
    " 80             CB\n",
    " 676            YZ\n",
    " 702            ZZ\n",
    " 705            AAC\n",
    " */"
   ]
  },
  {
   "cell_type": "code",
   "execution_count": 95,
   "metadata": {},
   "outputs": [],
   "source": [
    "/*\n",
    "Suppose we have a number n, let’s say 28. \n",
    "    so corresponding to it we need to print the column name. We need to take remainder with 26.\n",
    "\n",
    "If remainder with 26 comes out to be 0 (meaning 26, 52 and so on) \n",
    "    then we put ‘Z’ in the output string \n",
    "    and new n becomes n/26 -1 because here we are considering 26 to be ‘Z’ while in actual it’s 25th with respect to ‘A’.\n",
    "\n",
    "Similarly,\n",
    "if the remainder comes out to be non zero. (like 1, 2, 3 and so on) \n",
    "    then we need to just insert the char accordingly in the string and do n = n/26.\n",
    "\n",
    "Finally we reverse the string and print.\n",
    "*/"
   ]
  },
  {
   "cell_type": "code",
   "execution_count": 96,
   "metadata": {},
   "outputs": [],
   "source": [
    "/*\n",
    "Example:\n",
    "n = 700\n",
    "\n",
    "Remainder (n%26) is 24. \n",
    "    So we put ‘X’ in output string and n becomes n/26 which is 26.\n",
    "\n",
    "Remainder (26%26) is 0. \n",
    "    So we put ‘Z’ in output string and n becomes n/26 -1 which is 0.\n",
    "*/"
   ]
  },
  {
   "cell_type": "code",
   "execution_count": 97,
   "metadata": {},
   "outputs": [],
   "source": [
    "// Function to print Excel column \n",
    "// name for a given column number \n",
    "private static void printString(int columnNumber) \n",
    "{ \n",
    "    // To store result (Excel column name) \n",
    "    StringBuilder columnName = new StringBuilder(); \n",
    "\n",
    "    while (columnNumber > 0) \n",
    "    { \n",
    "        // Find remainder \n",
    "        int rem = columnNumber % 26; \n",
    "\n",
    "        // If remainder is 0, then a  \n",
    "        // 'Z' must be there in output \n",
    "        if (rem == 0) \n",
    "        { \n",
    "            columnName.append(\"Z\"); \n",
    "            columnNumber = (columnNumber / 26) - 1; \n",
    "        } \n",
    "        else // If remainder is non-zero \n",
    "        { \n",
    "            columnName.append((char)((rem - 1) + 'A')); \n",
    "            columnNumber = columnNumber / 26; \n",
    "        } \n",
    "    } \n",
    "\n",
    "    // Reverse the string and print result \n",
    "    System.out.println(columnName.reverse()); \n",
    "} "
   ]
  },
  {
   "cell_type": "code",
   "execution_count": 98,
   "metadata": {},
   "outputs": [
    {
     "name": "stdout",
     "output_type": "stream",
     "text": [
      "Z\n",
      "AY\n",
      "AZ\n",
      "CB\n",
      "YZ\n",
      "ZZ\n",
      "AAC\n"
     ]
    }
   ],
   "source": [
    "// Driver program to test above function \n",
    "public static void main(String[] args) \n",
    "{ \n",
    "    printString(26); \n",
    "    printString(51); \n",
    "    printString(52); \n",
    "    printString(80); \n",
    "    printString(676); \n",
    "    printString(702); \n",
    "    printString(705); \n",
    "} \n",
    "main(args);"
   ]
  },
  {
   "cell_type": "markdown",
   "metadata": {},
   "source": [
    "**Related Link :** ***https://www.geeksforgeeks.org/find-excel-column-number-column-title/***"
   ]
  },
  {
   "cell_type": "markdown",
   "metadata": {},
   "source": [
    "## **119. Find the longest substring with k unique characters in a given string**\n",
    "https://www.geeksforgeeks.org/find-the-longest-substring-with-k-unique-characters-in-a-given-string/"
   ]
  },
  {
   "cell_type": "code",
   "execution_count": 99,
   "metadata": {},
   "outputs": [],
   "source": [
    "/*\n",
    "Given a string you need to print longest possible substring that has exactly M unique characters. \n",
    "If there are more than one substring of longest possible length, then print any one of them.\n",
    "*/"
   ]
  },
  {
   "cell_type": "code",
   "execution_count": 100,
   "metadata": {},
   "outputs": [],
   "source": [
    "/*\n",
    "Examples:\n",
    "\n",
    "\"aabbcc\", k = 1\n",
    "Max substring can be any one from {\"aa\" , \"bb\" , \"cc\"}.\n",
    "\n",
    "\"aabbcc\", k = 2\n",
    "Max substring can be any one from {\"aabb\" , \"bbcc\"}.\n",
    "\n",
    "\"aabbcc\", k = 3\n",
    "There are substrings with exactly 3 unique characters\n",
    "{\"aabbcc\" , \"abbcc\" , \"aabbc\" , \"abbc\" }\n",
    "Max is \"aabbcc\" with length 6.\n",
    "\n",
    "\"aaabbb\", k = 3\n",
    "There are only two unique characters, thus show error message. \n",
    "*/"
   ]
  },
  {
   "cell_type": "code",
   "execution_count": 101,
   "metadata": {},
   "outputs": [],
   "source": [
    "/*\n",
    "Method 1 (Brute Force)\n",
    "\n",
    "If the length of string is n, \n",
    "    then there can be n*(n+1)/2 possible substrings. \n",
    "\n",
    "A simple way is to generate all the substring and check each one whether it has exactly k unique characters or not. \n",
    "If we apply this brute force, it would take O(n^2) to generate all substrings and O(n) to do a check on each one. \n",
    "Thus overall it would go O(n^3).\n",
    "\n",
    "\n",
    "We can further improve this solution by creating a hash table and while generating the substrings, \n",
    "check the number of unique characters using that hash table. \n",
    "Thus it would improve up to O(n^2).\n",
    "*/"
   ]
  },
  {
   "cell_type": "code",
   "execution_count": 102,
   "metadata": {},
   "outputs": [],
   "source": [
    "/*\n",
    "Method 2 (Linear Time)\n",
    "Time Complexity: Considering function “isValid()” takes constant time, time complexity of above solution is O(n).\n",
    "\n",
    "The problem can be solved in O(n). \n",
    "\n",
    "Idea is to maintain a window and add elements to the window till it contains less or equal k, \n",
    "update our result if required while doing so. \n",
    "If unique elements exceeds than required in window, start removing the elements from left side.\n",
    "\n",
    "Below are the implementations of above. \n",
    "The implementations assume that the input string alphabet contains only 26 characters (from ‘a’ to ‘z’). \n",
    "The code can be easily extended to 256 characters.\n",
    "*/"
   ]
  },
  {
   "cell_type": "code",
   "execution_count": 103,
   "metadata": {},
   "outputs": [],
   "source": [
    "final static int MAX_CHARS = 26; \n",
    "\n",
    "// This function calculates number of unique characters \n",
    "// using a associative array count[]. Returns true if \n",
    "// no. of characters are less than required else returns \n",
    "// false. \n",
    "static boolean isValid(int count[], int k) { \n",
    "    int val = 0; \n",
    "    for (int i = 0; i < MAX_CHARS; i++) { \n",
    "        if (count[i] > 0) { \n",
    "            val++; \n",
    "        } \n",
    "    } \n",
    "\n",
    "    // Return true if k is greater than or equal to val \n",
    "    return (k >= val); \n",
    "} "
   ]
  },
  {
   "cell_type": "code",
   "execution_count": 104,
   "metadata": {},
   "outputs": [],
   "source": [
    "// Finds the maximum substring with exactly k unique chars \n",
    "static void kUniques(String s, int k) { \n",
    "    int u = 0; // number of unique characters \n",
    "    int n = s.length(); \n",
    "\n",
    "    // Associative array to store the count of characters \n",
    "    int count[] = new int[MAX_CHARS]; \n",
    "    Arrays.fill(count, 0); \n",
    "    // Traverse the string, Fills the associative array \n",
    "    // count[] and count number of unique characters \n",
    "    for (int i = 0; i < n; i++) { \n",
    "        if (count[s.charAt(i) - 'a'] == 0) { \n",
    "            u++; \n",
    "        } \n",
    "        count[s.charAt(i) - 'a']++; \n",
    "    } \n",
    "\n",
    "    // If there are not enough unique characters, show \n",
    "    // an error message. \n",
    "    if (u < k) { \n",
    "        System.out.print(\"Not enough unique characters\"); \n",
    "        return; \n",
    "    } \n",
    "\n",
    "    // Otherwise take a window with first element in it. \n",
    "    // start and end variables. \n",
    "    int curr_start = 0, curr_end = 0; \n",
    "\n",
    "    // Also initialize values for result longest window \n",
    "    int max_window_size = 1, max_window_start = 0; \n",
    "\n",
    "    // Initialize associative array count[] with zero \n",
    "    Arrays.fill(count, 0); \n",
    "\n",
    "    count[s.charAt(0) - 'a']++;  // put the first character \n",
    "\n",
    "    // Start from the second character and add \n",
    "    // characters in window according to above \n",
    "    // explanation \n",
    "    for (int i = 1; i < n; i++) { \n",
    "        // Add the character 's[i]' to current window \n",
    "        count[s.charAt(i) - 'a']++; \n",
    "        curr_end++; \n",
    "\n",
    "        // If there are more than k unique characters in \n",
    "        // current window, remove from left side \n",
    "        while (!isValid(count, k)) { \n",
    "            count[s.charAt(curr_start) - 'a']--; \n",
    "            curr_start++; \n",
    "        } \n",
    "\n",
    "        // Update the max window size if required \n",
    "        if (curr_end - curr_start + 1 > max_window_size) { \n",
    "            max_window_size = curr_end - curr_start + 1; \n",
    "            max_window_start = curr_start; \n",
    "        } \n",
    "    } \n",
    "\n",
    "    System.out.println(\"Max sustring is : \"\n",
    "            + s.substring(max_window_start, max_window_size) \n",
    "            + \" with length \" + max_window_size); \n",
    "} "
   ]
  },
  {
   "cell_type": "code",
   "execution_count": 105,
   "metadata": {},
   "outputs": [
    {
     "name": "stdout",
     "output_type": "stream",
     "text": [
      "Max sustring is : cbe with length 7\n"
     ]
    }
   ],
   "source": [
    "// Driver function \n",
    "static public void main(String[] args) { \n",
    "    String s = \"aabacbebebe\"; \n",
    "    int k = 3; \n",
    "    kUniques(s, k); \n",
    "} \n",
    "main(args);"
   ]
  },
  {
   "cell_type": "markdown",
   "metadata": {},
   "source": [
    "## **120. Function to find Number of customers who could not get a computer**\n",
    "https://www.geeksforgeeks.org/function-to-find-number-of-customers-who-could-not-get-a-computer/"
   ]
  },
  {
   "cell_type": "code",
   "execution_count": 106,
   "metadata": {},
   "outputs": [],
   "source": [
    "/*\n",
    "Write a function “runCustomerSimulation” that takes following two inputs\n",
    "a) An integer ‘n’: total number of computers in a cafe and\n",
    "b) a string A sequence of uppercase letters ‘seq’.\n",
    "    Letters in the sequence occur in pairs. \n",
    "        The first occurrence indicates the arrival of a customer; \n",
    "        The second indicates the departure of that same customer.\n",
    "        \n",
    "A customer will be serviced if there is an unoccupied computer. No letter will occur more than two times.\n",
    "Customers who leave without using a computer always depart before customers who are currently using the computers. \n",
    "There are at most 20 computers per cafe.\n",
    "\n",
    "For each set of input the function should output a number telling how many customers, if any walked away without using a computer. \n",
    "Return 0 if all the customers were able to use a computer.\n",
    "*/\n"
   ]
  },
  {
   "cell_type": "code",
   "execution_count": 107,
   "metadata": {},
   "outputs": [],
   "source": [
    "/*\n",
    "runCustomerSimulation (2, “ABBAJJKZKZ”) should return 0\n",
    "\n",
    "runCustomerSimulation (3, “GACCBDDBAGEE”) should return 1 as ‘D’ was not able to get any computer\n",
    "\n",
    "runCustomerSimulation (3, “GACCBGDDBAEE”) should return 0\n",
    "\n",
    "runCustomerSimulation (1, “ABCBCA”) should return 2 as ‘B’ and ‘C’ were not able to get any computer.\n",
    "\n",
    "runCustomerSimulation(1, “ABCBCADEED”) should return 3 as ‘B’, ‘C’ and ‘E’ were not able to get any computer.\n",
    "*/"
   ]
  },
  {
   "cell_type": "code",
   "execution_count": 108,
   "metadata": {},
   "outputs": [],
   "source": [
    "/*\n",
    "Below are simple steps to find number of customers who could not get any computer.\n",
    "\n",
    "1) Initialize result as 0.\n",
    "\n",
    "2) Traverse the given sequence. \n",
    "    While traversing, keep track of occupied computers (this can be done by keeping track of characters which have appeared only once and a computer was available when they appeared). \n",
    "    At any point, if count of occupied computers is equal to ‘n’, and there is a new customer, increment result by 1.\n",
    "*/"
   ]
  },
  {
   "cell_type": "code",
   "execution_count": 109,
   "metadata": {},
   "outputs": [],
   "source": [
    "/*\n",
    "The important thing is to keep track of existing customers in cafe in a way that can indicate whether the customer has got a computer or not. \n",
    "\n",
    "Note that in sequence “ABCBCADEED”, customer ‘B’ did not get a seat, but still in cafe as a new customer ‘C’ is next in sequence.\n",
    "*/"
   ]
  },
  {
   "cell_type": "code",
   "execution_count": 110,
   "metadata": {},
   "outputs": [],
   "source": [
    "static int MAX_CHAR = 26;  \n",
    "  \n",
    "// n is number of computers in cafe.  \n",
    "// 'seq' is given sequence of customer entry, exit events  \n",
    "static int runCustomerSimulation(int n, char []seq)  \n",
    "{  \n",
    "    // seen[i] = 0, indicates that customer 'i' is not in cafe  \n",
    "    // seen[1] = 1, indicates that customer 'i' is in cafe but  \n",
    "    //         computer is not assigned yet.  \n",
    "    // seen[2] = 2, indicates that customer 'i' is in cafe and  \n",
    "    //         has occupied a computer.  \n",
    "    char []seen = new char[MAX_CHAR];  \n",
    "  \n",
    "    // Initialize result which is number of customers who could  \n",
    "    // not get any computer.  \n",
    "    int res = 0;  \n",
    "  \n",
    "    int occupied = 0; // To keep track of occupied computers  \n",
    "  \n",
    "    // Traverse the input sequence  \n",
    "    for (int i=0; i< seq.length; i++)  \n",
    "    {  \n",
    "        // Find index of current character in seen[0...25]  \n",
    "        int ind = seq[i] - 'A';  \n",
    "  \n",
    "        // If First occurrence of 'seq[i]'  \n",
    "        if (seen[ind] == 0)  \n",
    "        {  \n",
    "            // set the current character as seen  \n",
    "            seen[ind] = 1;  \n",
    "  \n",
    "            // If number of occupied computers is less than  \n",
    "            // n, then assign a computer to new customer  \n",
    "            if (occupied < n)  \n",
    "            {  \n",
    "                occupied++;  \n",
    "  \n",
    "                // Set the current character as occupying a computer  \n",
    "                seen[ind] = 2;  \n",
    "            }  \n",
    "  \n",
    "            // Else this customer cannot get a computer,  \n",
    "            // increment result  \n",
    "            else\n",
    "                res++;  \n",
    "        }  \n",
    "  \n",
    "        // If this is second occurrence of 'seq[i]'  \n",
    "        else\n",
    "        {  \n",
    "              \n",
    "        // Decrement occupied only if this customer  \n",
    "        // was using a computer  \n",
    "        if (seen[ind] == 2)  \n",
    "            occupied--;  \n",
    "        seen[ind] = 0;  \n",
    "        }  \n",
    "    }  \n",
    "    return res;  \n",
    "}  "
   ]
  },
  {
   "cell_type": "code",
   "execution_count": 111,
   "metadata": {},
   "outputs": [
    {
     "name": "stdout",
     "output_type": "stream",
     "text": [
      "0\n",
      "1\n",
      "0\n",
      "2\n",
      "3\n"
     ]
    }
   ],
   "source": [
    "// Driver program  \n",
    "public static void main(String[] args) \n",
    "{ \n",
    "    System.out.println(runCustomerSimulation(2, \"ABBAJJKZKZ\".toCharArray()));  \n",
    "    System.out.println(runCustomerSimulation(3, \"GACCBDDBAGEE\".toCharArray()));  \n",
    "    System.out.println(runCustomerSimulation(3, \"GACCBGDDBAEE\".toCharArray()));  \n",
    "    System.out.println(runCustomerSimulation(1, \"ABCBCA\".toCharArray()));  \n",
    "    System.out.println(runCustomerSimulation(1, \"ABCBCADEED\".toCharArray()));  \n",
    "} \n",
    "main(args);"
   ]
  },
  {
   "cell_type": "code",
   "execution_count": 112,
   "metadata": {},
   "outputs": [],
   "source": [
    "/*\n",
    "Time complexity of above solution is O(n) and \n",
    "extra space required is O(CHAR_MAX) \n",
    "    where CHAR_MAX is total number of possible characters in given sequence.\n",
    "*/"
   ]
  },
  {
   "cell_type": "code",
   "execution_count": null,
   "metadata": {},
   "outputs": [],
   "source": []
  },
  {
   "cell_type": "markdown",
   "metadata": {},
   "source": [
    "  **------------------------Questions Covered-----------------------------**"
   ]
  },
  {
   "cell_type": "markdown",
   "metadata": {},
   "source": [
    "***3\tString\thttps://www.geeksforgeeks.org/check-given-sentence-given-set-simple-grammer-rules/\tPep_JavaIP_3Strings_121ValidityOfSentences\t\t\t\t\t\t\t\t\t\t\t\t\t\t\t\t\t\t\t\t\t\t\t\t\n",
    "3\tString\thttps://www.geeksforgeeks.org/length-of-the-longest-valid-substring/\t\t\t\t\t\t\t\t\t\t\t\t\t\t\t\t\t\t\t\t\t\t\t\t\t\n",
    "3\tString\thttps://www.geeksforgeeks.org/print-ways-break-string-bracket-form/\tPep_JavaIP_3Strings_123PrintStringInBracketForm\t\t\t\t\t\t\t\t\t\t\t\t\t\t\t\t\t\t\t\t\t\t\t\t\n",
    "3\tString\thttps://www.geeksforgeeks.org/print-concatenation-of-zig-zag-string-form-in-n-rows/\tPep_JavaIP_3Strings_124PrintZigZagFashion\t\t\t\t\t\t\t\t\t\t\t\t\t\t\t\t\t\t\t\t\t\t\t\t\n",
    "3\tString\thttps://www.geeksforgeeks.org/searching-for-patterns-set-2-kmp-algorithm/\t\t\t\t\t\t\t\t\t\t\t\t\t\t\t\t\t\t\t\t\t\t\t\t\t\n",
    "3\tString\thttps://www.geeksforgeeks.org/transform-one-string-to-another-using-minimum-number-of-given-operation/\tPep_JavaIP_3Strings_126TransformOneStringToAnother\t\t\t\t\t\t\t\t\t\t\t\t\t\t\t\t\t\t\t\t\t\t\t\t\n",
    "3\tString\thttps://www.geeksforgeeks.org/repeated-subsequence-length-2/\tPep_JavaIP_3Strings_127RepeatedSubsequenceOfLength2OrMore\t\t\t\t\t\t\t\t\t\t\t\t\t\t\t\t\t\t\t\t\t\t\t\t\n",
    "3\tString\thttps://www.geeksforgeeks.org/check-if-two-given-strings-are-isomorphic-to-each-other/\t\t\t\t\t\t\t\t\t\t\t\t\t\t\t\t\t\t\t\t\t\t\t\t\t\n",
    "3\tString\thttps://www.geeksforgeeks.org/find-given-string-can-represented-substring-iterating-substring-n-times/\t\t\t\t\t\t\t\t\t\t\t\t\t\t\t\t\t\t\t\t\t\t\t\t\t\n",
    "3\tString\thttps://www.geeksforgeeks.org/recursively-print-all-sentences-that-can-be-formed-from-list-of-word-lists/\tPep_JavaIP_3Strings_130PrintAllSentencesPossible\t\t\t\t\t\t\t\t\t\t\t\t\t\t\t\t\t\t\t\t\t\t\t\t\n",
    "3\tString\thttps://www.geeksforgeeks.org/searching-for-patterns-set-3-rabin-karp-algorithm/\tPep_JavaIP_3Strings_131RabinKarpAlgo\t\t\t\t\t\t\t\t\t\t\t\t\t\t\t\t\t\t\t\t\t\t\t\t\n",
    "4\tMatrix\thttps://www.geeksforgeeks.org/zigzag-or-diagonal-traversal-of-matrix/\tPep_JavaIP_4Matrix_132ZigZagTraversal\t\t\t\t\t\t\t\t\t\t\t\t\t\t\t\t\t\t\t\t\t\t\t\t\n",
    "4\tMatrix\thttps://www.geeksforgeeks.org/create-a-matrix-with-alternating-rectangles-of-0-and-x/\tPep_JavaIP_4Matrix_133AlternateXOMatrix\t\t\t\t\t\t\t\t\t\t\t\t\t\t\t\t\t\t\t\t\t\t\t\t\n",
    "4\tMatrix\thttps://www.geeksforgeeks.org/print-elements-sorted-order-row-column-wise-sorted-matrix/\tPep_JavaIP_4Matrix_134SortedRowColumnWiseSortedMatrix\t\t\t\t\t\t\t\t\t\t\t\t\t\t\t\t\t\t\t\t\t\t\t\t\n",
    "4\tMatrix\thttps://www.geeksforgeeks.org/inplace-rotate-square-matrix-by-90-degrees/\tfamous\tbreaker***"
   ]
  },
  {
   "cell_type": "code",
   "execution_count": 1,
   "metadata": {},
   "outputs": [],
   "source": [
    "import java.util.*;\n",
    "import java.io.*;\n",
    "import java.util.Arrays;\n",
    "String[] args =new String[0];"
   ]
  },
  {
   "cell_type": "markdown",
   "metadata": {},
   "source": [
    "## **121. Check a given sentence for a given set of simple grammer rules**\n",
    "https://www.geeksforgeeks.org/check-given-sentence-given-set-simple-grammer-rules/"
   ]
  },
  {
   "cell_type": "code",
   "execution_count": 5,
   "metadata": {},
   "outputs": [],
   "source": [
    "/*\n",
    "A simple sentence if syntactically correct if it fulfills given rules. The following are given rules.\n",
    "\n",
    "1. Sentence must start with a Uppercase character (e.g. Noun/ I/ We/ He etc.)\n",
    "2. Then lowercase character follows.\n",
    "3. There must be spaces between words.\n",
    "4. Then the sentence must end with a full stop(.) after a word.\n",
    "5. Two continuous spaces are not allowed.\n",
    "6. Two continuous upper case characters are not allowed.\n",
    "7. However, the sentence can end after an upper case character.\n",
    "\n",
    "Question: Given a sentence, validate the given sentence for above given rules.\n",
    "*/"
   ]
  },
  {
   "cell_type": "code",
   "execution_count": 6,
   "metadata": {},
   "outputs": [],
   "source": [
    "/*\n",
    "Examples:\n",
    "\n",
    "Correct sentences -\n",
    "   \"My name is Ram.\"\n",
    "   \"The vertex is S.\"\n",
    "   \"I am single.\"\n",
    "   \"I love Geeksquiz and Geeksforgeeks.\"\n",
    "\n",
    "Incorrect sentence - \n",
    "   \"My name is KG.\"\n",
    "   \"I lovE cinema.\"\n",
    "   \"GeeksQuiz. is a quiz site.\"\n",
    "   \"  You are my friend.\"\n",
    "   \"I love cinema\"\n",
    "*/"
   ]
  },
  {
   "cell_type": "code",
   "execution_count": 13,
   "metadata": {},
   "outputs": [],
   "source": [
    "/*\n",
    "Time complexity – O(n), worst case as we have to traverse the full sentence where n is the length of the sentence.\n",
    "Auxiliary space – O(1)\n",
    "\n",
    "The idea is to use an automata for the given set of rules.\n",
    "\n",
    "Algorithm :\n",
    "\n",
    "1. Check for the corner cases\n",
    "    1.a) Check if the first character is uppercase or not in the sentence.\n",
    "    1.b) Check if the last character is a full stop or not.\n",
    "\n",
    "2. For rest of the string, \n",
    "    this problem could be solved by following a state diagram. \n",
    "\n",
    "    Please refer to the below state diagram for that.\n",
    "\n",
    "3. We need to maintain previous and current state of different characters in the string. \n",
    "\n",
    "Based on that we can always validate the sentence of every character traversed.\n",
    "*/"
   ]
  },
  {
   "cell_type": "markdown",
   "metadata": {},
   "source": [
    "<img src = \"https://media.geeksforgeeks.org/wp-content/uploads/statediagram.png\"/>"
   ]
  },
  {
   "cell_type": "code",
   "execution_count": 14,
   "metadata": {},
   "outputs": [],
   "source": [
    "// Method to check a given sentence for given rules \n",
    "static boolean checkSentence(char[] str) \n",
    "{ \n",
    "\n",
    "    // Calculate the length of the string. \n",
    "    int len = str.length; \n",
    "\n",
    "    // Check that the first character lies in [A-Z]. \n",
    "    // Otherwise return false. \n",
    "    if (str[0] < 'A' || str[0] > 'Z') \n",
    "        return false; \n",
    "\n",
    "    // If the last character is not a full stop(.)  \n",
    "    // no need to check further. \n",
    "    if (str[len - 1] != '.') \n",
    "        return false; \n",
    "\n",
    "    // Maintain 2 states. Previous and current state  \n",
    "    // based on which vertex state you are.  \n",
    "    // Initialise both with 0 = start state. \n",
    "    int prev_state = 0, curr_state = 0; \n",
    "\n",
    "    // Keep the index to the next character in the string. \n",
    "    int index = 1; \n",
    "\n",
    "    // Loop to go over the string. \n",
    "    while (index <= str.length)  \n",
    "    { \n",
    "\n",
    "        // Set states according to the input characters  \n",
    "        // in the string and the rule defined in the description. \n",
    "        // If current character is [A-Z]. Set current state as 0. \n",
    "        if (str[index] >= 'A' && str[index] <= 'Z') \n",
    "            curr_state = 0; \n",
    "\n",
    "        // If current character is a space.  \n",
    "        // Set current state as 1. \n",
    "        else if (str[index] == ' ') \n",
    "            curr_state = 1; \n",
    "\n",
    "        // If current character is [a-z].  \n",
    "        // Set current state as 2. \n",
    "        else if (str[index] >= 'a' && str[index] <= 'z') \n",
    "            curr_state = 2; \n",
    "\n",
    "        // If current state is a dot(.). \n",
    "        // Set current state as 3. \n",
    "        else if (str[index] == '.') \n",
    "            curr_state = 3; \n",
    "\n",
    "        // Validates all current state with previous state  \n",
    "        // for the rules in the description of the problem. \n",
    "        if (prev_state == curr_state && curr_state != 2) \n",
    "            return false; \n",
    "\n",
    "        if (prev_state == 2 && curr_state == 0) \n",
    "            return false; \n",
    "\n",
    "        // If we have reached last state and previous state  \n",
    "        // is not 1, then check next character. If next character  \n",
    "        // is '\\0', then return true, else false \n",
    "        if (curr_state == 3 && prev_state != 1) \n",
    "            return (index + 1 == str.length); \n",
    "\n",
    "        index++; \n",
    "\n",
    "        // Set previous state as current state  \n",
    "        // before going over to the next character. \n",
    "        prev_state = curr_state; \n",
    "    } \n",
    "    return false; \n",
    "} "
   ]
  },
  {
   "cell_type": "code",
   "execution_count": 15,
   "metadata": {},
   "outputs": [
    {
     "name": "stdout",
     "output_type": "stream",
     "text": [
      "\"I love cinema.\" is correct\n",
      "\"The vertex is S.\" is correct\n",
      "\"I am single.\" is correct\n",
      "\"My name is KG.\" is incorrect\n",
      "\"I lovE cinema.\" is incorrect\n",
      "\"GeeksQuiz. is a quiz site.\" is incorrect\n",
      "\"I love Geeksquiz and Geeksforgeeks.\" is correct\n",
      "\" You are my friend.\" is incorrect\n",
      "\"I love cinema\" is incorrect\n"
     ]
    }
   ],
   "source": [
    "// Driver Code \n",
    "public static void main(String[] args) \n",
    "{ \n",
    "    String[] str = { \"I love cinema.\", \"The vertex is S.\",  \n",
    "                     \"I am single.\", \"My name is KG.\",  \n",
    "                     \"I lovE cinema.\", \"GeeksQuiz. is a quiz site.\",  \n",
    "                     \"I love Geeksquiz and Geeksforgeeks.\",  \n",
    "                     \" You are my friend.\", \"I love cinema\" }; \n",
    "    int str_size = str.length; \n",
    "\n",
    "    int i = 0; \n",
    "    for (i = 0; i < str_size; i++) \n",
    "    { \n",
    "        if (checkSentence(str[i].toCharArray())) \n",
    "            System.out.println(\"\\\"\" + str[i] +  \n",
    "                               \"\\\"\" + \" is correct\"); \n",
    "        else\n",
    "            System.out.println(\"\\\"\" + str[i] +  \n",
    "                               \"\\\"\" + \" is incorrect\"); \n",
    "    } \n",
    "} \n",
    "main(args);"
   ]
  },
  {
   "cell_type": "markdown",
   "metadata": {},
   "source": [
    "## **122. Length of the longest valid substring**\n",
    "https://www.geeksforgeeks.org/length-of-the-longest-valid-substring/"
   ]
  },
  {
   "cell_type": "code",
   "execution_count": 16,
   "metadata": {},
   "outputs": [],
   "source": [
    "/*\n",
    "Given a string consisting of opening and closing parenthesis, \n",
    "    find length of the longest valid parenthesis substring.\n",
    "*/"
   ]
  },
  {
   "cell_type": "code",
   "execution_count": 17,
   "metadata": {},
   "outputs": [],
   "source": [
    "/*\n",
    "Examples:\n",
    "\n",
    "Input : ((()\n",
    "Output : 2\n",
    "Explanation : ()\n",
    "\n",
    "Input: )()())\n",
    "Output : 4\n",
    "Explanation: ()() \n",
    "\n",
    "Input:  ()(()))))\n",
    "Output: 6\n",
    "Explanation:  ()(())\n",
    "*/"
   ]
  },
  {
   "cell_type": "code",
   "execution_count": 18,
   "metadata": {},
   "outputs": [],
   "source": [
    "/*\n",
    "A Simple Approach \n",
    "    is to find all the substrings of given string. \n",
    "    For every string, check if it is a valid string or not. \n",
    "    If valid and length is more than maximum length so far, then update maximum length. \n",
    "    We can check whether a substring is valid or not in linear time using a stack (See this for details). \n",
    "    \n",
    "Time complexity of this solution is O(n^2).\n",
    "*/"
   ]
  },
  {
   "cell_type": "code",
   "execution_count": null,
   "metadata": {},
   "outputs": [],
   "source": []
  }
 ],
 "metadata": {
  "kernelspec": {
   "display_name": "Java",
   "language": "java",
   "name": "java"
  },
  "language_info": {
   "codemirror_mode": "java",
   "file_extension": ".jshell",
   "mimetype": "text/x-java-source",
   "name": "Java",
   "pygments_lexer": "java",
   "version": "11.0.6+8-LTS"
  },
  "toc": {
   "base_numbering": 1,
   "nav_menu": {},
   "number_sections": false,
   "sideBar": true,
   "skip_h1_title": false,
   "title_cell": "Table of Contents",
   "title_sidebar": "Contents",
   "toc_cell": false,
   "toc_position": {},
   "toc_section_display": true,
   "toc_window_display": true
  }
 },
 "nbformat": 4,
 "nbformat_minor": 2
}
