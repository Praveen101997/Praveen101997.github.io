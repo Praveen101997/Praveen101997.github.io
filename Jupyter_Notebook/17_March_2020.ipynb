{
 "cells": [
  {
   "cell_type": "markdown",
   "metadata": {},
   "source": [
    "**------------------------Questions Covered-----------------------------**"
   ]
  },
  {
   "cell_type": "markdown",
   "metadata": {},
   "source": [
    "***3\tString\thttps://www.geeksforgeeks.org/longest-non-palindromic-substring/\tPep_JavaIP_3Strings_91LongestNonPalindromicSubString\t\t\t\t\t\t\t\t\t\t\t\t\t\t\t\t\t\t\t\t\t\t\t\t\n",
    "3\tString\thttps://www.codechef.com/JAN18/problems/STRMRG\tPep_JavaIP_3Strings_92STRMRG\tbreaker\t\t\t\t\t\t\t\t\t\t\t\t\t\t\t\t\t\t\t\t\t\t\t\n",
    "3\tString\thttps://www.geeksforgeeks.org/find-kth-character-of-decrypted-string/\tPep_JavaIP_3Strings_93EncodedString\t\t\t\t\t\t\t\t\t\t\t\t\t\t\t\t\t\t\t\t\t\t\t\t\n",
    "3\tString\thttps://www.geeksforgeeks.org/count-words-whose-th-letter-either-1-th-th-i1-th-letter-given-word/\tPep_JavaIP_3Strings_94CountWordsWithSpecialArrangement\t\t\t\t\t\t\t\t\t\t\t\t\t\t\t\t\t\t\t\t\t\t\t\t\n",
    "3\tString\thttps://www.geeksforgeeks.org/find-number-distinct-palindromic-sub-strings-given-string/\tPep_JavaIP_3Strings_95DistinctPalindromicSubStrings\t\t\t\t\t\t\t\t\t\t\t\t\t\t\t\t\t\t\t\t\t\t\t\t\n",
    "3\tString\thttps://www.geeksforgeeks.org/print-all-distinct-characters-of-a-string-in-order-3-methods/\tPep_JavaIP_3Strings_96PrintDistinctCharacters\t\t\t\t\t\t\t\t\t\t\t\t\t\t\t\t\t\t\t\t\t\t\t\t\n",
    "3\tString\thttps://www.geeksforgeeks.org/count-total-anagram-substrings/\tPep_JavaIP_3Strings_97CountOfAllAnagramsSubStringPairs\t\t\t\t\t\t\t\t\t\t\t\t\t\t\t\t\t\t\t\t\t\t\t\t\n",
    "3\tString\thttps://www.geeksforgeeks.org/min-flips-of-continuous-characters-to-make-all-characters-same-in-a-string/\t\t\t\t\t\t\t\t\t\t\t\t\t\t\t\t\t\t\t\t\t\t\t\t\t\n",
    "3\tString\thttps://www.geeksforgeeks.org/count-binary-strings-k-times-appearing-adjacent-two-set-bits/\tPep_JavaIP_3Strings_99CountBinaryStringsWithKAdjacentOnes\t\t\t\t\t\t\t\t\t\t\t\t\t\t\t\t\t\t\t\t\t\t\t\t\n",
    "3\tString\thttps://www.geeksforgeeks.org/binary-representation-next-greater-number-number-1s-0s/\tPep_JavaIP_3Strings_100BinaryRepresentationNextGreaterNumber\tbreaker\t\t\t\t\t\t\t\t\t\t\t\t\t\t\t\t\t\t\t\t\t\t\t\n",
    "3\tString\thttps://www.geeksforgeeks.org/print-longest-common-sub-sequences-lexicographical-order/\tPep_JavaIP_3Strings_101PrintAllLongestCommonSubSequencesinLexicoOrder\t\t\t\t\t\t\t\t\t\t\t\t\t\t\t\t\t\t\t\t\t\t\t\t\n",
    "3\tString\thttps://www.geeksforgeeks.org/print-shortest-common-supersequence/\tPep_JavaIP_3Strings_102PrintShortestCommonSuperSequence\t\t\t\t\t\t\t\t\t\t\t\t\t\t\t\t\t\t\t\t\t\t\t\t\n",
    "3\tString\thttps://www.geeksforgeeks.org/given-two-strings-find-first-string-subsequence-second/\tPep_JavaIP_3Strings_103FirstStringSubsequenceofOther\t\t\t\t\t\t\t\t\t\t\t\t\t\t\t\t\t\t\t\t\t\t\t\t\n",
    "3\tString\thttps://www.geeksforgeeks.org/find-largest-word-dictionary-deleting-characters-given-string/\tPep_JavaIP_3Strings_104LargestWordinDictionary\t\t\t\t\t\t\t\t\t\t\t\t\t\t\t\t\t\t\t\t\t\t\t\t\n",
    "3\tString\thttps://www.geeksforgeeks.org/search-a-word-in-a-2d-grid-of-characters/\tPep_JavaIP_3Strings_105SearchAWordInGrid***"
   ]
  },
  {
   "cell_type": "code",
   "execution_count": 1,
   "metadata": {},
   "outputs": [],
   "source": [
    "import java.util.*;\n",
    "import java.io.*;\n",
    "import java.util.Arrays;\n",
    "String[] args =new String[0];"
   ]
  },
  {
   "cell_type": "markdown",
   "metadata": {},
   "source": [
    "## **91. Longest Non-palindromic substring**\n",
    "https://www.geeksforgeeks.org/longest-non-palindromic-substring/"
   ]
  },
  {
   "cell_type": "code",
   "execution_count": 2,
   "metadata": {},
   "outputs": [],
   "source": [
    "/*\n",
    "Given a string of size n. \n",
    "The task is to find the length of the largest substring which is not palindrome.\n",
    "*/"
   ]
  },
  {
   "cell_type": "code",
   "execution_count": 3,
   "metadata": {},
   "outputs": [],
   "source": [
    "/*\n",
    "Examples:\n",
    "\n",
    "Input : abba \n",
    "Output : 3\n",
    "Here maximum length non-palindromic substring is\n",
    "'abb' which is of length '3'. There could be other\n",
    "non-palindromic sub-strings also of length three \n",
    "like 'bba' in this case.\n",
    "\n",
    "Input : a\n",
    "Output : 0\n",
    "*/"
   ]
  },
  {
   "cell_type": "code",
   "execution_count": 4,
   "metadata": {},
   "outputs": [],
   "source": [
    "/*\n",
    "A simple solution is to consider every substring and check if it is palindrome or not. \n",
    "Finally return length of the longest non-palindromic substring.\n",
    "*/"
   ]
  },
  {
   "cell_type": "code",
   "execution_count": 5,
   "metadata": {},
   "outputs": [],
   "source": [
    "/*\n",
    "An efficient solution is based on below approach.\n",
    "Time Complexity: O(n)\n",
    "\n",
    "--Check for the case where all characters of\n",
    "  the string are same or not.\n",
    "    -If yes, \n",
    "        -then answer will be '0'.\n",
    "    -Else \n",
    "        -check whether the given string of size \n",
    "         'n' is palindrome or not. \n",
    "            -If yes, \n",
    "                -then answer will be 'n-1'\n",
    "            -Else \n",
    "                -answer will be 'n' \n",
    "*/"
   ]
  },
  {
   "cell_type": "code",
   "execution_count": 6,
   "metadata": {},
   "outputs": [],
   "source": [
    "// utility function to check whether \n",
    "// a string is palindrome or not \n",
    "static Boolean isPalindrome(String str) \n",
    "{ \n",
    "    int n = str.length(); \n",
    "\n",
    "    // Check for palindrome. \n",
    "    for (int i = 0; i < n/2; i++) \n",
    "        if (str.charAt(i) != str.charAt(n-i-1)) \n",
    "            return false; \n",
    "\n",
    "    // palindrome string \n",
    "    return true; \n",
    "} \n",
    "\n",
    "// function to find maximum length \n",
    "// substring which is not palindrome \n",
    "static int maxLengthNonPalinSubstring(String str) \n",
    "{ \n",
    "    int n = str.length(); \n",
    "    char ch = str.charAt(0); \n",
    "\n",
    "    // to check whether all characters \n",
    "    // of the string are same or not \n",
    "    int i = 1; \n",
    "    for (i = 1; i < n; i++) \n",
    "        if(str.charAt(i) != ch) \n",
    "            break; \n",
    "\n",
    "    // All characters are same, we can't \n",
    "    // make a non-palindromic string. \n",
    "    if (i == n) \n",
    "        return 0; \n",
    "\n",
    "    // If string is palindrome, we can make \n",
    "    // it non-palindrome by removing any \n",
    "    // corner character \n",
    "    if (isPalindrome(str)) \n",
    "        return n-1; \n",
    "\n",
    "    // Complete string is not a palindrome. \n",
    "    return n; \n",
    "} "
   ]
  },
  {
   "cell_type": "code",
   "execution_count": 7,
   "metadata": {},
   "outputs": [
    {
     "name": "stdout",
     "output_type": "stream",
     "text": [
      "Maximum Length = 3\n"
     ]
    }
   ],
   "source": [
    "// Driver Program to test above function \n",
    "public static void main(String args[]) \n",
    "{ \n",
    "    String str = \"abba\"; \n",
    "    System.out.println(\"Maximum Length = \"\n",
    "         + maxLengthNonPalinSubstring(str)); \n",
    "} \n",
    "main(args);"
   ]
  },
  {
   "cell_type": "markdown",
   "metadata": {},
   "source": [
    "## **92. String Merging**\n",
    "https://www.codechef.com/JAN18/problems/STRMRG"
   ]
  },
  {
   "cell_type": "code",
   "execution_count": 8,
   "metadata": {},
   "outputs": [],
   "source": [
    "/*\n",
    "For a string S, \n",
    "let's define a function F(S) as the minimum number of blocks consisting of consecutive identical characters in S. \n",
    "In other words, F(S) is equal to 1 plus the number of valid indices i such that Si ≠ Si+1.\n",
    "\n",
    "You are given two strings A and B with lengths N and M respectively. \n",
    "You should merge these two strings into one string C with length N+M. \n",
    "Specifically, each character of C should come either from A or B; \n",
    "all characters from A should be in the same relative order in C as in A \n",
    "and all characters from B should be in the same relative order in C as in B.\n",
    "\n",
    "Compute the minimum possible value of F(C).\n",
    "*/"
   ]
  },
  {
   "cell_type": "code",
   "execution_count": 9,
   "metadata": {},
   "outputs": [],
   "source": [
    "/*\n",
    "Example\n",
    "Input:\n",
    "1\n",
    "4 4\n",
    "abab\n",
    "baba\n",
    "\n",
    "Output:\n",
    "5\n",
    "\n",
    "Explanation\n",
    "Example case 1: One possible way to choose the string C to get the desired answer is \"abbaabba\".\n",
    "*/"
   ]
  },
  {
   "cell_type": "code",
   "execution_count": 10,
   "metadata": {},
   "outputs": [],
   "source": [
    "public static String compressString(String s) {\n",
    "    StringBuilder sb = new StringBuilder();\n",
    "    sb.append(s.charAt(0));\n",
    "    int i = 1;\n",
    "    while (i < s.length()) {\n",
    "        if (s.charAt(i - 1) != s.charAt(i)) {\n",
    "            sb.append(s.charAt(i));\n",
    "        }\n",
    "        i++;\n",
    "    }\n",
    "    return sb.toString();\n",
    "}"
   ]
  },
  {
   "cell_type": "code",
   "execution_count": 11,
   "metadata": {},
   "outputs": [],
   "source": [
    "public static int lcsmer(String a, String b) {\n",
    "    int[][] m = new int[a.length() + 1][b.length() + 1];\n",
    "\n",
    "    for (int row = 0; row < m.length; row++) {\n",
    "        m[row][0] = row;\n",
    "    }\n",
    "\n",
    "    for (int col = 0; col < m[0].length; col++) {\n",
    "        m[0][col] = col;\n",
    "    }\n",
    "\n",
    "    for (int row = 1; row < m.length; row++) {\n",
    "        for (int col = 1; col < m[0].length; col++) {\n",
    "            if (a.charAt(row - 1) == b.charAt(col - 1)) {\n",
    "                m[row][col] = 1 + m[row - 1][col - 1];\n",
    "            } else {\n",
    "                m[row][col] = 1 + ((m[row - 1][col] < m[row][col - 1]) ? (m[row - 1][col]) : (m[row][col - 1]));\n",
    "            }\n",
    "        }\n",
    "    }\n",
    "\n",
    "    return (m[(m.length - 1)][(m[0].length - 1)]);\n",
    "}"
   ]
  },
  {
   "cell_type": "code",
   "execution_count": 12,
   "metadata": {},
   "outputs": [
    {
     "name": "stdout",
     "output_type": "stream",
     "text": [
      "5\n"
     ]
    }
   ],
   "source": [
    "public static void main(String[] args){\n",
    "    int t = 1;\n",
    "    for (int i = 0; i < t; i++) {\n",
    "        int n = 4;\n",
    "        int m = 4;\n",
    "        String s = \"abab\";\n",
    "        String st = \"baba\";\n",
    "        s = compressString(s);\n",
    "        st = compressString(st);\n",
    "        String temps = (s.length() <= st.length()) ? s : st;\n",
    "        String templ = (s.length() > st.length()) ? s : st;\n",
    "        // int min = strMerge(temps, templ);\n",
    "        // int min = mer(temps, templ, 0, 0, 0);\n",
    "        int min = lcsmer(temps, templ);\n",
    "        System.out.println(\"\"+min);\n",
    "    }\n",
    "\n",
    "}\n",
    "main(args);"
   ]
  },
  {
   "cell_type": "markdown",
   "metadata": {},
   "source": [
    "## **93. Find k’th character of decrypted string | Set 1**\n",
    "https://www.geeksforgeeks.org/find-kth-character-of-decrypted-string/"
   ]
  },
  {
   "cell_type": "code",
   "execution_count": 13,
   "metadata": {},
   "outputs": [],
   "source": [
    "/*\n",
    "Given an encoded string where repetitions of substrings are represented as substring followed by count of substrings. \n",
    "For example, \n",
    "    if encrypted string is “ab2cd2” and k=4 , \n",
    "    so output will be ‘b’ because decrypted string is “ababcdcd” and 4th character is ‘b’.\n",
    "*/"
   ]
  },
  {
   "cell_type": "markdown",
   "metadata": {},
   "source": [
    "**Related Link** ***https://www.geeksforgeeks.org/find-k-th-character-of-decrypted-string-set-2/***"
   ]
  },
  {
   "cell_type": "code",
   "execution_count": 14,
   "metadata": {},
   "outputs": [],
   "source": [
    "/*\n",
    "Note: \n",
    "    Frequency of encrypted substring can be of more than one digit. \n",
    "    For example, in “ab12c3”, ab is repeated 12 times. No leading 0 is present in frequency of substring.\n",
    "*/"
   ]
  },
  {
   "cell_type": "code",
   "execution_count": 15,
   "metadata": {},
   "outputs": [],
   "source": [
    "/*\n",
    "Examples:\n",
    "\n",
    "Input: \"a2b2c3\", k = 5\n",
    "Output: c\n",
    "Decrypted string is \"aabbccc\"\n",
    "\n",
    "Input : \"ab4c2ed3\", k = 9\n",
    "Output : c\n",
    "Decrypted string is \"ababababccededed\"\n",
    "\n",
    "Input: \"ab4c12ed3\", k = 21\n",
    "Output: e\n",
    "Decrypted string is \"ababababccccccccccccededed\"\n",
    "*/"
   ]
  },
  {
   "cell_type": "code",
   "execution_count": 16,
   "metadata": {},
   "outputs": [],
   "source": [
    "/*\n",
    "The idea is simple. \n",
    "Initially take empty decrypted string then decompress the string by reading substring and it’s frequency one by one \n",
    "and append current substring in decrypted string by it’s frequency. \n",
    "Repeat the process till the end of string and print the K’th character from decrypted string.\n",
    "*/"
   ]
  },
  {
   "cell_type": "code",
   "execution_count": 17,
   "metadata": {},
   "outputs": [],
   "source": [
    "// Function to find K'th character in  \n",
    "// Encoded String \n",
    "static char encodedChar(String str,int k) \n",
    "{ \n",
    "    // expand string variable is used to \n",
    "    // store final string after decompressing  \n",
    "    // string str \n",
    "    String expand = \"\"; \n",
    "\n",
    "    String temp = \"\";  // Current substring \n",
    "    int freq = 0; // Count of current substring \n",
    "\n",
    "    for (int i=0; i < str.length() ; ) \n",
    "    { \n",
    "        temp = \"\"; // Current substring \n",
    "        freq = 0; // count frequency of current \n",
    "                  // substring \n",
    "\n",
    "        // read characters until you find a number \n",
    "        // or end of string \n",
    "        while (i < str.length() && str.charAt(i)>='a'\n",
    "                            && str.charAt(i)<='z') \n",
    "        { \n",
    "            // push character in temp \n",
    "            temp += str.charAt(i); \n",
    "            i++; \n",
    "        } \n",
    "\n",
    "        // read number for how many times string temp \n",
    "        // will be repeated in decompressed string \n",
    "        while (i < str.length() && str.charAt(i)>='1'\n",
    "                            && str.charAt(i)<='9') \n",
    "        { \n",
    "            // generating frequency of temp \n",
    "            freq = freq*10 + str.charAt(i) - '0'; \n",
    "            i++; \n",
    "        } \n",
    "\n",
    "        // now append string temp into expand \n",
    "        // equal to its frequency \n",
    "        for (int j=1; j<=freq; j++) \n",
    "             expand += temp; \n",
    "    } \n",
    "\n",
    "    // this condition is to handle the case \n",
    "    // when string str is ended with alphabets \n",
    "    // not with numeric value \n",
    "    if (freq==0) \n",
    "        expand += temp; \n",
    "\n",
    "    return expand.charAt(k-1); \n",
    "} "
   ]
  },
  {
   "cell_type": "code",
   "execution_count": 18,
   "metadata": {},
   "outputs": [
    {
     "name": "stdout",
     "output_type": "stream",
     "text": [
      "e\n"
     ]
    }
   ],
   "source": [
    "// Driver program to test the string \n",
    "public static void main(String args[]) \n",
    "{ \n",
    "    String str = \"ab4c12ed3\"; \n",
    "    int k = 21; \n",
    "    System.out.println(encodedChar(str, k)); \n",
    "} \n",
    "main(args);"
   ]
  },
  {
   "cell_type": "markdown",
   "metadata": {},
   "source": [
    "***https://youtu.be/OrU84a6cdGI***"
   ]
  },
  {
   "cell_type": "markdown",
   "metadata": {},
   "source": [
    "## **94. Count of words whose i-th letter is either (i-1)-th, i-th, or (i+1)-th letter of given word**\n",
    "https://www.geeksforgeeks.org/count-words-whose-th-letter-either-1-th-th-i1-th-letter-given-word/"
   ]
  },
  {
   "cell_type": "code",
   "execution_count": 19,
   "metadata": {},
   "outputs": [],
   "source": [
    "/*\n",
    "Given a string str. \n",
    "The task is to count the words having the same length as str \n",
    "and each letter at the i-th position is either (i-1)-th, i-th, or (i+1)-th position letter of str.\n",
    "\n",
    "Note: \n",
    "    For the first letter consider i-th and (i+1)-th position letter of W. \n",
    "    And for last letter consider (i-1)-th and i-th position letter of str.\n",
    "*/"
   ]
  },
  {
   "cell_type": "code",
   "execution_count": 20,
   "metadata": {},
   "outputs": [],
   "source": [
    "/*\n",
    "Examples:\n",
    "\n",
    "Input : str[] = \"ab\"\n",
    "Output : 4\n",
    "Words that can be formed: aa, ab, ba, bb.\n",
    "\n",
    "Input : str[] = \"x\"\n",
    "Output : 1\n",
    "*/"
   ]
  },
  {
   "cell_type": "code",
   "execution_count": 21,
   "metadata": {},
   "outputs": [],
   "source": [
    "/*\n",
    "Time complexity : O(length of string).\n",
    "\n",
    "For any letter at index i, except first and last letter, \n",
    "    there are three possible letter i.e (i-1)th, ith or (i+1)th letter of given words. \n",
    "        So, if three of them are distinct, we have 3 possibilities. \n",
    "        If two of them are same, we have 2 possibilities. \n",
    "        And if all are same we have only 1 possibility.\n",
    "So, traverse the given words and find the possibility of each letter and multiply them.\n",
    "\n",
    "Similarly, \n",
    "for first letter check the distinct letter at first and second position. \n",
    "And for last position check the distinct letter at last and second last position.\n",
    "*/"
   ]
  },
  {
   "cell_type": "code",
   "execution_count": 22,
   "metadata": {},
   "outputs": [],
   "source": [
    "// Return the count of words. \n",
    "static int countWords(String str, int len) \n",
    "{ \n",
    "    int count = 1; \n",
    "\n",
    "    // If word contain single letter, return 1. \n",
    "    if (len == 1) \n",
    "        return count; \n",
    "\n",
    "    // Checking for first letter. \n",
    "    if (str.charAt(0) == str.charAt(1)) \n",
    "        count *= 1; \n",
    "    else\n",
    "        count *= 2; \n",
    "\n",
    "    // Traversing the string and multiplying \n",
    "    // for combinations. \n",
    "    for (int j = 1; j < len - 1; j++) \n",
    "    { \n",
    "        // If all three letters are same. \n",
    "        if (str.charAt(j) == str.charAt(j - 1) &&  \n",
    "                str.charAt(j) == str.charAt(j + 1)) \n",
    "            count *= 1; \n",
    "\n",
    "        // If two letter are distinct. \n",
    "        else if (str.charAt(j) == str.charAt(j - 1)|| \n",
    "                str.charAt(j) == str.charAt(j + 1) || \n",
    "               str.charAt(j - 1) == str.charAt(j + 1)) \n",
    "            count *= 2; \n",
    "\n",
    "        // If all three letter are distinct. \n",
    "        else\n",
    "            count *= 3; \n",
    "    } \n",
    "\n",
    "    // Checking for last letter. \n",
    "    if (str.charAt(len - 1) == str.charAt(len - 2)) \n",
    "        count *= 1; \n",
    "    else\n",
    "        count *= 2; \n",
    "\n",
    "    return count; \n",
    "} "
   ]
  },
  {
   "cell_type": "code",
   "execution_count": 23,
   "metadata": {},
   "outputs": [
    {
     "name": "stdout",
     "output_type": "stream",
     "text": [
      "12\n"
     ]
    }
   ],
   "source": [
    "// Driven Program \n",
    "public static void main(String args[]) \n",
    "{ \n",
    "    String str = \"abc\"; \n",
    "    int len = str.length(); \n",
    "\n",
    "    System.out.println(countWords(str, len)); \n",
    "} \n",
    "main(args);"
   ]
  },
  {
   "cell_type": "markdown",
   "metadata": {},
   "source": [
    "## **95. Find all distinct palindromic sub-strings of a given string**\n",
    "https://www.geeksforgeeks.org/find-number-distinct-palindromic-sub-strings-given-string/"
   ]
  },
  {
   "cell_type": "code",
   "execution_count": 24,
   "metadata": {},
   "outputs": [],
   "source": [
    "/*\n",
    "Given a string of lowercase ASCII characters, find all distinct continuous palindromic sub-strings of it.\n",
    "*/"
   ]
  },
  {
   "cell_type": "code",
   "execution_count": 25,
   "metadata": {},
   "outputs": [],
   "source": [
    "/*\n",
    "Examples:\n",
    "\n",
    "Input: str = \"abaaa\"\n",
    "Output:  Below are 5 palindrome sub-strings\n",
    "a\n",
    "aa\n",
    "aaa\n",
    "aba\n",
    "b\n",
    "\n",
    "\n",
    "Input: str = \"geek\"\n",
    "Output:  Below are 4 palindrome sub-strings\n",
    "e\n",
    "ee\n",
    "g\n",
    "k\n",
    "*/"
   ]
  },
  {
   "cell_type": "code",
   "execution_count": 26,
   "metadata": {},
   "outputs": [],
   "source": [
    "/*\n",
    "Step 1: \n",
    "Finding all palindromes using modified Manacher’s algorithm:\n",
    "-Considering each character as a pivot, \n",
    "    expand on both sides to find the length of both even and odd length palindromes centered at the pivot character under consideration \n",
    "    and store the length in the 2 arrays (odd & even).\n",
    "-Time complexity for this step is O(n^2)\n",
    "*/"
   ]
  },
  {
   "cell_type": "code",
   "execution_count": 27,
   "metadata": {},
   "outputs": [],
   "source": [
    "/*\n",
    "Step 2: \n",
    "-Inserting all the found palindromes in a HashMap:\n",
    "-Insert all the palindromes found from the previous step into a HashMap. \n",
    "-Also insert all the individual characters from the string into the HashMap (to generate distinct single letter palindromic sub-strings).\n",
    "-Time complexity of this step is O(n^3) assuming that the hash insert search takes O(1) time. \n",
    "-Note that there can be at most O(n^2) palindrome sub-strings of a string. \n",
    "\n",
    "In C++ code ordered hashmap is used where the time complexity of insert and search is O(Logn). \n",
    "In C++, ordered hashmap is implemented using Red Black Tree.\n",
    "*/"
   ]
  },
  {
   "cell_type": "code",
   "execution_count": 28,
   "metadata": {},
   "outputs": [],
   "source": [
    "/*\n",
    "Step 3: Printing the distinct palindromes and number of such distinct palindromes:\n",
    "-The last step is to print all values stored in the HashMap (only distinct elements will be hashed due to the property of HashMap). \n",
    "-The size of the map gives the number of distinct palindromic continuous sub-strings.\n",
    "*/"
   ]
  },
  {
   "cell_type": "code",
   "execution_count": 29,
   "metadata": {},
   "outputs": [],
   "source": [
    "\n",
    "// Function to print all distinct palindrome \n",
    "// sub-strings of s \n",
    "static void palindromeSubStrs(String s) \n",
    "{ \n",
    "    //map<string, int> m; \n",
    "    TreeMap<String , Integer> m = new TreeMap<>(); \n",
    "    int n = s.length(); \n",
    "\n",
    "    // table for storing results (2 rows for odd- \n",
    "    // and even-length palindromes \n",
    "    int[][] R = new int[2][n+1]; \n",
    "\n",
    "    // Find all sub-string palindromes from the \n",
    "    // given input string insert 'guards' to \n",
    "    // iterate easily over s \n",
    "    s = \"@\" + s + \"#\"; \n",
    "\n",
    "    for (int j = 0; j <= 1; j++) \n",
    "    { \n",
    "        int rp = 0; // length of 'palindrome radius' \n",
    "        R[j][0] = 0; \n",
    "\n",
    "        int i = 1; \n",
    "        while (i <= n) \n",
    "        { \n",
    "            // Attempt to expand palindrome centered \n",
    "            // at i \n",
    "            while (s.charAt(i - rp - 1) == s.charAt(i + \n",
    "                                            j + rp)) \n",
    "                rp++; // Incrementing the length of \n",
    "                    // palindromic radius as and \n",
    "                    // when we find vaid palindrome \n",
    "\n",
    "            // Assigning the found palindromic length \n",
    "            // to odd/even length array \n",
    "            R[j][i] = rp; \n",
    "            int k = 1; \n",
    "            while ((R[j][i - k] != rp - k) && (k < rp)) \n",
    "            { \n",
    "                R[j][i + k] = Math.min(R[j][i - k], \n",
    "                                        rp - k); \n",
    "                k++; \n",
    "            } \n",
    "            rp = Math.max(rp - k,0); \n",
    "            i += k; \n",
    "        } \n",
    "    } \n",
    "\n",
    "    // remove 'guards' \n",
    "    s = s.substring(1, s.length()-1); \n",
    "\n",
    "    // Put all obtained palindromes in a hash map to \n",
    "    // find only distinct palindromess \n",
    "    m.put(s.substring(0,1), 1); \n",
    "    for (int i = 1; i < n; i++) \n",
    "    { \n",
    "        for (int j = 0; j <= 1; j++) \n",
    "            for (int rp = R[j][i]; rp > 0; rp--) \n",
    "                m.put(s.substring(i - rp - 1, i - rp - 1\n",
    "                                + 2 * rp + j), 1); \n",
    "        m.put(s.substring(i, i + 1), 1); \n",
    "    } \n",
    "\n",
    "    // printing all distinct palindromes from \n",
    "    // hash map \n",
    "    System.out.println(\"Below are \" + (m.size()) \n",
    "                    + \" palindrome sub-strings\"); \n",
    "\n",
    "    for (Map.Entry<String, Integer> ii:m.entrySet()) \n",
    "        System.out.println(ii.getKey()); \n",
    "} \n"
   ]
  },
  {
   "cell_type": "code",
   "execution_count": 30,
   "metadata": {},
   "outputs": [
    {
     "name": "stdout",
     "output_type": "stream",
     "text": [
      "Below are 5 palindrome sub-strings\n",
      "a\n",
      "aa\n",
      "aaa\n",
      "aba\n",
      "b\n"
     ]
    }
   ],
   "source": [
    "// Driver program \n",
    "public static void main(String args[]) \n",
    "{ \n",
    "    palindromeSubStrs(\"abaaa\"); \n",
    "} \n",
    "main(args);"
   ]
  },
  {
   "cell_type": "markdown",
   "metadata": {},
   "source": [
    "## **96. Print all distinct characters of a string in order (3 Methods)**\n",
    "https://www.geeksforgeeks.org/print-all-distinct-characters-of-a-string-in-order-3-methods/"
   ]
  },
  {
   "cell_type": "code",
   "execution_count": 31,
   "metadata": {},
   "outputs": [],
   "source": [
    "/*\n",
    "Given a string, \n",
    "find the all distinct (or non-repeating characters) in it. \n",
    "\n",
    "For example, \n",
    "    if the input string is “Geeks for Geeks”, \n",
    "    then output should be ‘for’ \n",
    "and if input string is “Geeks Quiz”, \n",
    "    then output should be ‘GksQuiz’.\n",
    "\n",
    "The distinct characters should be printed in same order as they appear in input string.\n",
    "*/"
   ]
  },
  {
   "cell_type": "code",
   "execution_count": 32,
   "metadata": {},
   "outputs": [],
   "source": [
    "/*\n",
    "Examples:\n",
    "\n",
    "Input  : Geeks for Geeks\n",
    "Output : for\n",
    "\n",
    "Input  : Hello Geeks\n",
    "Output : HoGks\n",
    "*/"
   ]
  },
  {
   "cell_type": "code",
   "execution_count": 33,
   "metadata": {},
   "outputs": [],
   "source": [
    "/*\n",
    "Method 1 (Simple : O(n2))\n",
    "\n",
    "A Simple Solution is to run two loops. \n",
    "Start traversing from left side. \n",
    "For every character, check if it repeats or not. \n",
    "If the character doesn’t repeat, increment count of non-repeating characters. \n",
    "When the count becomes 1, return each character.\n",
    "*/"
   ]
  },
  {
   "cell_type": "code",
   "execution_count": 34,
   "metadata": {},
   "outputs": [],
   "source": [
    "/*\n",
    "Method 2 (Efficient but requires two traversals: O(n))\n",
    "\n",
    "1. Create an array count[] to store counts of characters.\n",
    "2. Traverse the input string str and do following for every character x = str[i].\n",
    "   Increment count[x].\n",
    "3. Traverse the input string again and do following for every character str[i]\n",
    "    -If count[x] is 1, then print the unique character\n",
    "    -If count[x] is greater than 1, then ignore the repeated character.\n",
    "*/"
   ]
  },
  {
   "cell_type": "code",
   "execution_count": 35,
   "metadata": {},
   "outputs": [
    {
     "name": "stdout",
     "output_type": "stream",
     "text": [
      "for"
     ]
    }
   ],
   "source": [
    "static final int NO_OF_CHARS = 256; \n",
    "\n",
    "/* Print duplicates present in the passed string */\n",
    "static void printDistinct(String str) \n",
    "{ \n",
    "    // Create an array of size 256 and count of \n",
    "    // every character in it \n",
    "    int[] count = new int[NO_OF_CHARS]; \n",
    "\n",
    "    /* Count array with frequency of characters */\n",
    "    int i; \n",
    "    for (i = 0; i < str.length(); i++) \n",
    "        if(str.charAt(i)!=' ') \n",
    "            count[(int)str.charAt(i)]++; \n",
    "    int n = i; \n",
    "\n",
    "    // Print characters having count more than 0 \n",
    "    for (i = 0; i < n; i++) \n",
    "        if (count[(int)str.charAt(i)] == 1) \n",
    "            System.out.print(str.charAt(i)); \n",
    "} \n",
    "\n",
    "/* Driver program*/\n",
    "public static void main(String args[]) \n",
    "{ \n",
    "    String str = \"GeeksforGeeks\"; \n",
    "    printDistinct(str); \n",
    "} \n",
    "\n",
    "main(args);"
   ]
  },
  {
   "cell_type": "code",
   "execution_count": 36,
   "metadata": {},
   "outputs": [],
   "source": [
    "/*\n",
    "Method 3 (O(n) and requires one traversal)\n",
    "\n",
    "The idea is to use two auxiliary arrays of size 256 (Assuming that characters are stored using 8 bits).\n",
    "\n",
    "1. Initialize all values in count[] as 0 and all values in index[] as n where n is length of string.\n",
    "2. Traverse the input string str and do following for every character c = str[i].\n",
    "    -Increment count[x].\n",
    "    -If count[x] is 1, then store index of x in index[x], i.e., index[x] = i\n",
    "    -If count[x] is 2, then remove x from index[], i.e., index[x] = n\n",
    "3. Now index[] has indexes of all distinct characters. \n",
    "\n",
    "Sort indexes and print characters using it. \n",
    "\n",
    "Note that this step takes O(1) time assuming number of characters are fixed (typically 256)\n",
    "*/"
   ]
  },
  {
   "cell_type": "code",
   "execution_count": 37,
   "metadata": {},
   "outputs": [],
   "source": [
    "static final int MAX_CHAR = 256; \n",
    "\n",
    "// Function to print distinct characters in \n",
    "// given string str[] \n",
    "static void printDistinct(String str) \n",
    "{ \n",
    "    int n = str.length(); \n",
    "\n",
    "    // count[x] is going to store count of \n",
    "    // character 'x' in str. If x is not present, \n",
    "    // then it is going to store 0. \n",
    "    int[] count = new int[MAX_CHAR]; \n",
    "\n",
    "    // index[x] is going to store index of character \n",
    "    // 'x' in str. If x is not present or x is \n",
    "    // more than once, then it is going to store a  \n",
    "    // value (for example, length of string) that  \n",
    "    // cannot be a valid index in str[] \n",
    "    int[] index = new int[MAX_CHAR]; \n",
    "\n",
    "    // Initialize counts of all characters and  \n",
    "    // indexes of distinct characters. \n",
    "    for (int i = 0; i < MAX_CHAR; i++) \n",
    "    { \n",
    "        count[i] = 0; \n",
    "        index[i] = n; // A value more than any  \n",
    "                      // index in str[] \n",
    "    } \n",
    "\n",
    "    // Traverse the input string \n",
    "    for (int i = 0; i < n; i++) \n",
    "    { \n",
    "        // Find current character and increment  \n",
    "        // its count \n",
    "        char x = str.charAt(i); \n",
    "        ++count[x]; \n",
    "\n",
    "        // If this is first occurrence, then set  \n",
    "        // value in index as index of it. \n",
    "        if (count[x] == 1 && x !=' ') \n",
    "            index[x] = i; \n",
    "\n",
    "        // If character repeats, then remove it  \n",
    "        // from index[] \n",
    "        if (count[x] == 2) \n",
    "            index[x] = n; \n",
    "    } \n",
    "\n",
    "    // Since size of index is constant, below  \n",
    "    // operations take constant time. \n",
    "    Arrays.sort(index); \n",
    "\n",
    "    for (int i = 0; i < MAX_CHAR && index[i] != n; \n",
    "                                              i++) \n",
    "       System.out.print(str.charAt(index[i])); \n",
    "} "
   ]
  },
  {
   "cell_type": "code",
   "execution_count": 38,
   "metadata": {},
   "outputs": [
    {
     "name": "stdout",
     "output_type": "stream",
     "text": [
      "for"
     ]
    }
   ],
   "source": [
    "// Driver code \n",
    "public static void main(String args[]) \n",
    "{ \n",
    "    String str = \"GeeksforGeeks\"; \n",
    "    printDistinct(str); \n",
    "} \n",
    "main(args);"
   ]
  },
  {
   "cell_type": "markdown",
   "metadata": {},
   "source": [
    "## **97. Count of total anagram substrings**\n",
    "https://www.geeksforgeeks.org/count-total-anagram-substrings/"
   ]
  },
  {
   "cell_type": "code",
   "execution_count": 39,
   "metadata": {},
   "outputs": [],
   "source": [
    "/*\n",
    "Given a string of lower alphabet characters, \n",
    "count total substring of this string which are anagram to each other.\n",
    "*/"
   ]
  },
  {
   "cell_type": "code",
   "execution_count": 40,
   "metadata": {},
   "outputs": [],
   "source": [
    "/*\n",
    "Examples:\n",
    "\n",
    "Input  : str = “xyyx”\n",
    "Output : 4\n",
    "Total substrings of this string which\n",
    "are anagram to each other are 4 which \n",
    "can be enumerated as,\n",
    "{“x”, “x”}, {\"y\", \"y\"}, {“xy”, “yx”}, \n",
    "{“xyy”, “yyx”}\n",
    "\n",
    "Input  : str = \"geeg\"\n",
    "Output : 4\n",
    "*/"
   ]
  },
  {
   "cell_type": "code",
   "execution_count": 41,
   "metadata": {},
   "outputs": [],
   "source": [
    "/*\n",
    "The idea is to create a map. \n",
    "We use character frequencies as keys and corresponding counts as values. \n",
    "We can solve this problem by iterating over all substrings and counting frequencies of characters in every substring. \n",
    "We can update frequencies of characters while looping over substrings \n",
    "    i.e. there won’t be an extra loop for counting frequency of characters.\n",
    "In below code, \n",
    "    a map of key ‘vector type’ and value ‘int type’ is taken for storing occurrence of ‘frequency array of length 26’ of substring characters. \n",
    "Once occurrence ‘o’ of each frequency array is stored, \n",
    "    total anagrams will be the sum of o*(o-1)/2 for all different frequency arrays \n",
    "    because if a particular substring has ‘o’ anagrams in string total o*(o-1)/2 anagram pairs can be formed.\n",
    "*/"
   ]
  },
  {
   "cell_type": "markdown",
   "metadata": {},
   "source": [
    "***https://ideone.com/cjBbEX***"
   ]
  },
  {
   "cell_type": "markdown",
   "metadata": {},
   "source": [
    "## **98. Min flips of continuous characters to make all characters same in a string**\n",
    "https://www.geeksforgeeks.org/min-flips-of-continuous-characters-to-make-all-characters-same-in-a-string/"
   ]
  },
  {
   "cell_type": "code",
   "execution_count": 42,
   "metadata": {},
   "outputs": [],
   "source": [
    "/*\n",
    "Given a string consisting only of 1’s and 0’s. \n",
    "In one flip we can change any continuous sequence of this string. \n",
    "Find this minimum number of flips so the string consist of same characters only.\n",
    "*/"
   ]
  },
  {
   "cell_type": "code",
   "execution_count": 43,
   "metadata": {},
   "outputs": [],
   "source": [
    "/*\n",
    "Examples:\n",
    "\n",
    "Input : 00011110001110\n",
    "Output : 2\n",
    "We need to convert 1's sequence\n",
    "so string consist of all 0's.\n",
    "\n",
    "Input : 010101100011\n",
    "Output : 4\n",
    "*/"
   ]
  },
  {
   "cell_type": "code",
   "execution_count": 44,
   "metadata": {},
   "outputs": [],
   "source": [
    "/*\n",
    "Time Complexity: O(n)\n",
    "\n",
    "We need to find the min flips in string so all characters are equal. \n",
    "All we have to find numbers of sequence which consisting of 0’s or 1’s only. \n",
    "Then number of flips required will be half of this number as we can change all 0’s or all 1’s.\n",
    "*/"
   ]
  },
  {
   "cell_type": "code",
   "execution_count": 45,
   "metadata": {},
   "outputs": [],
   "source": [
    "// To find min number of flips in binary string \n",
    "static int findFlips(String str, int n) \n",
    "{ \n",
    "    char last = ' '; int res = 0; \n",
    "\n",
    "    for (int i = 0; i < n; i++) { \n",
    "\n",
    "        // If last character is not equal \n",
    "        // to str[i] increase res \n",
    "        if (last != str.charAt(i)) \n",
    "            res++; \n",
    "        last = str.charAt(i); \n",
    "    } \n",
    "\n",
    "    // To return min flips \n",
    "    return res / 2; \n",
    "}"
   ]
  },
  {
   "cell_type": "code",
   "execution_count": 46,
   "metadata": {},
   "outputs": [
    {
     "name": "stdout",
     "output_type": "stream",
     "text": [
      "2\n"
     ]
    }
   ],
   "source": [
    "// Driver program to check findFlips() \n",
    "public static void main(String[] args) \n",
    "{ \n",
    "    String str = \"00011110001110\"; \n",
    "    int n = str.length(); \n",
    "\n",
    "    System.out.println(findFlips(str, n)); \n",
    "} \n",
    "main(args);"
   ]
  },
  {
   "cell_type": "markdown",
   "metadata": {},
   "source": [
    "***https://youtu.be/ZYqT5pDnQt8***"
   ]
  },
  {
   "cell_type": "markdown",
   "metadata": {},
   "source": [
    "## **99. Count binary strings with k times appearing adjacent two set bits**\n",
    "https://www.geeksforgeeks.org/count-binary-strings-k-times-appearing-adjacent-two-set-bits/"
   ]
  },
  {
   "cell_type": "code",
   "execution_count": 47,
   "metadata": {},
   "outputs": [],
   "source": [
    "/*\n",
    "Given two integers n and k, \n",
    "count the number of binary strings of length n with k as number of times adjacent 1’s appear.\n",
    "*/"
   ]
  },
  {
   "cell_type": "code",
   "execution_count": 48,
   "metadata": {},
   "outputs": [],
   "source": [
    "/*\n",
    "Examples:\n",
    "\n",
    "Input  : n = 5, k = 2\n",
    "Output : 6\n",
    "Explanation:\n",
    "Binary strings of length 5 in which k number of times\n",
    "two adjacent set bits appear.\n",
    "00111  \n",
    "01110\n",
    "11100\n",
    "11011\n",
    "10111\n",
    "11101\n",
    "\n",
    "Input  : n = 4, k = 1\n",
    "Output : 3\n",
    "Explanation:\n",
    "Binary strings of length 3 in which k number of times\n",
    "two adjacent set bits appear.\n",
    "0011  \n",
    "1100\n",
    "0110\n",
    "*/"
   ]
  },
  {
   "cell_type": "code",
   "execution_count": 49,
   "metadata": {},
   "outputs": [],
   "source": [
    "/*\n",
    "Lets try writing the recursive function for the above problem statement:\n",
    "\n",
    "1) n = 1, only two binary strings exist with length 1, not having any adjacent 1’s\n",
    "      String 1 : “0”\n",
    "      String 2 : “1”\n",
    "\n",
    "2) For all n > 1 and all k, two cases arise\n",
    "      a) Strings ending with 0 : \n",
    "            String of length n can be created by appending 0 to all strings of length n-1 having k times two adjacent 1’s ending with both 0 and 1 (Having 0 at n’th position will not change the count of adjacent 1’s).\n",
    "      b) Strings ending with 1 : \n",
    "            String of length n can be created by appending 1 to all strings of length n-1 having k times adjacent 1’s and ending with 0 and to all strings of length n-1 having k-1 adjacent 1’s and ending with 1.\n",
    "*/"
   ]
  },
  {
   "cell_type": "code",
   "execution_count": 50,
   "metadata": {},
   "outputs": [],
   "source": [
    "/*\n",
    "Example: \n",
    "    let s = 011 \n",
    "    i.e. a string ending with 1 having adjacent count as 1. \n",
    "    Adding 1 to it, s = 0111 increase the count of adjacent 1.\n",
    "*/"
   ]
  },
  {
   "cell_type": "code",
   "execution_count": 51,
   "metadata": {},
   "outputs": [],
   "source": [
    "/*\n",
    "Time Complexity : O(n2)\n",
    "\n",
    "Let there be an array dp[i][j][2] where dp[i][j][0]\n",
    "denotes number of binary strings with length i having\n",
    "j number of two adjacent 1's and ending with 0.\n",
    "Similarly dp[i][j][1] denotes the same binary strings\n",
    "with length i and j adjacent 1's but ending with 1.\n",
    "Then: \n",
    "    dp[1][0][0] = 1 and dp[1][0][1] = 1\n",
    "    For all other i and j,\n",
    "        dp[i][j][0] = dp[i-1][j][0] + dp[i-1][j][1]\n",
    "        dp[i][j][1] = dp[i-1][j][0] + dp[i-1][j-1][1]\n",
    "\n",
    "Then, output dp[n][k][0] + dp[n][k][1]\n",
    "*/"
   ]
  },
  {
   "cell_type": "code",
   "execution_count": 52,
   "metadata": {},
   "outputs": [],
   "source": [
    "static int countStrings(int n, int k) \n",
    "{ \n",
    "    // dp[i][j][0] stores count of binary \n",
    "    // strings of length i with j consecutive \n",
    "    // 1's and ending at 0. \n",
    "    // dp[i][j][1] stores count of binary \n",
    "    // strings of length i with j consecutive \n",
    "    // 1's and ending at 1. \n",
    "    int dp[][][] = new int[n + 1][k + 1][2]; \n",
    "\n",
    "    // If n = 1 and k = 0. \n",
    "    dp[1][0][0] = 1; \n",
    "    dp[1][0][1] = 1; \n",
    "\n",
    "    for (int i = 2; i <= n; i++) { \n",
    "        // number of adjacent 1's can not exceed i-1 \n",
    "        for (int j = 0; j < i && j < k + 1; j++) { \n",
    "            dp[i][j][0] = dp[i - 1][j][0] + dp[i - 1][j][1]; \n",
    "            dp[i][j][1] = dp[i - 1][j][0]; \n",
    "\n",
    "            if (j - 1 >= 0) { \n",
    "                dp[i][j][1] += dp[i - 1][j - 1][1]; \n",
    "            } \n",
    "        } \n",
    "    } \n",
    "\n",
    "    return dp[n][k][0] + dp[n][k][1]; \n",
    "} "
   ]
  },
  {
   "cell_type": "code",
   "execution_count": 53,
   "metadata": {},
   "outputs": [
    {
     "name": "stdout",
     "output_type": "stream",
     "text": [
      "6\n"
     ]
    }
   ],
   "source": [
    "// Driver code \n",
    "public static void main(String[] args) \n",
    "{ \n",
    "    int n = 5, k = 2; \n",
    "    System.out.println(countStrings(n, k)); \n",
    "} \n",
    "main(args);"
   ]
  },
  {
   "cell_type": "markdown",
   "metadata": {},
   "source": [
    "## **100. Binary representation of next greater number with same number of 1’s and 0’s**\n",
    "https://www.geeksforgeeks.org/binary-representation-next-greater-number-number-1s-0s/"
   ]
  },
  {
   "cell_type": "code",
   "execution_count": 54,
   "metadata": {},
   "outputs": [],
   "source": [
    "/*\n",
    "Given a binary input that represents binary representation of positive number n, \n",
    "find binary representation of smallest number greater than n with same number of 1’s and 0’s as in binary representation of n. \n",
    "If no such number can be formed, print “no greater number”.\n",
    "\n",
    "The binary input may be and may not fit even in unsigned long long int.\n",
    "*/"
   ]
  },
  {
   "cell_type": "code",
   "execution_count": 55,
   "metadata": {},
   "outputs": [],
   "source": [
    "/*\n",
    "Examples:\n",
    "\n",
    "Input : 10010\n",
    "Output : 10100\n",
    "Here n = (18)10 = (10010)2\n",
    "next greater = (20)10 = (10100)2\n",
    "Binary representation of 20 contains same number of\n",
    "1's and 0's as in 18.\n",
    "\n",
    "Input : 111000011100111110\n",
    "Output :  111000011101001111\n",
    "*/"
   ]
  },
  {
   "cell_type": "markdown",
   "metadata": {},
   "source": [
    "**Related Link** ***https://www.geeksforgeeks.org/find-the-next-lexicographically-greater-word-than-a-given-word/***"
   ]
  },
  {
   "cell_type": "code",
   "execution_count": 56,
   "metadata": {},
   "outputs": [],
   "source": [
    "/*\n",
    "Time Complexity : O(n) where n is number of bits in input.\n",
    "\n",
    "This problem simply boils down to finding next permutation of a given string. \n",
    "We can find the next_permutation() of the input binary number.\n",
    "\n",
    "Below is an algorithm to find next permutation in binary string.\n",
    "\n",
    "-Traverse the binary string bstr from the right.\n",
    "-While traversing find the first index i such that bstr[i] = ‘0’ and bstr[i+1] = ‘1’.\n",
    "-Exchange character of at index ‘i’ and ‘i+1’.\n",
    "-Since we need smallest next value, \n",
    "    consider substring from index i+2 to end and move all 1’s in the substring in the end.\n",
    "*/"
   ]
  },
  {
   "cell_type": "code",
   "execution_count": 57,
   "metadata": {},
   "outputs": [],
   "source": [
    "// Function to find the next greater number \n",
    "// with same number of 1's and 0's \n",
    "static String nextGreaterWithSameDigits(char[] bnum) \n",
    "{ \n",
    "    int l = bnum.length; \n",
    "    int i; \n",
    "    for (i = l - 2; i >= 1; i--) \n",
    "    { \n",
    "        // locate first 'i' from end such that \n",
    "        // bnum[i]=='0' and bnum[i+1]=='1' \n",
    "        // swap these value and break; \n",
    "        if (bnum[i] == '0' && \n",
    "        bnum[i+1] == '1') \n",
    "        { \n",
    "            char ch = bnum[i]; \n",
    "            bnum[i] = bnum[i+1]; \n",
    "            bnum[i+1] = ch; \n",
    "            break; \n",
    "        } \n",
    "    } \n",
    "  \n",
    "    // if no swapping performed \n",
    "    if (i == 0) \n",
    "        System.out.println(\"no greater number\"); \n",
    "  \n",
    "    // Since we want the smallest next value, \n",
    "    // shift all 1's at the end in the binary \n",
    "    // substring starting from index 'i+2' \n",
    "    int j = i + 2, k = l - 1; \n",
    "    while (j < k) \n",
    "    { \n",
    "        if (bnum[j] == '1' && bnum[k] == '0') \n",
    "        { \n",
    "            char ch = bnum[j]; \n",
    "            bnum[j] = bnum[k]; \n",
    "            bnum[k] = ch; \n",
    "            j++; \n",
    "            k--; \n",
    "        } \n",
    "  \n",
    "        // special case while swapping if '0' \n",
    "        // occurs then break \n",
    "        else if (bnum[i] == '0') \n",
    "            break; \n",
    "  \n",
    "        else\n",
    "            j++; \n",
    "  \n",
    "    } \n",
    "  \n",
    "    // required next greater number \n",
    "    return String.valueOf(bnum); \n",
    "} "
   ]
  },
  {
   "cell_type": "code",
   "execution_count": 58,
   "metadata": {},
   "outputs": [
    {
     "name": "stdout",
     "output_type": "stream",
     "text": [
      "Binary representation of next greater number = 10100\n"
     ]
    }
   ],
   "source": [
    "// Driver program to test above \n",
    "public static void main(String[] args) \n",
    "{ \n",
    "    char[] bnum = \"10010\".toCharArray(); \n",
    "    System.out.println(\"Binary representation of next greater number = \"\n",
    "        + nextGreaterWithSameDigits(bnum)); \n",
    "}\n",
    "main(args);"
   ]
  },
  {
   "cell_type": "markdown",
   "metadata": {},
   "source": [
    "## **101. Print all longest common sub-sequences in lexicographical order**\n",
    "https://www.geeksforgeeks.org/print-longest-common-sub-sequences-lexicographical-order/"
   ]
  },
  {
   "cell_type": "code",
   "execution_count": 59,
   "metadata": {},
   "outputs": [],
   "source": [
    "/*\n",
    "You are given two strings.\n",
    "Now you have to print all longest common sub-sequences in lexicographical order.\n",
    "*/"
   ]
  },
  {
   "cell_type": "code",
   "execution_count": 60,
   "metadata": {},
   "outputs": [],
   "source": [
    "/*\n",
    "Examples:\n",
    "\n",
    "Input : str1 = \"abcabcaa\", str2 = \"acbacba\"\n",
    "Output: ababa\n",
    "        abaca\n",
    "        abcba\n",
    "        acaba\n",
    "        acaca\n",
    "        acbaa\n",
    "        acbca\n",
    "*/"
   ]
  },
  {
   "cell_type": "code",
   "execution_count": 61,
   "metadata": {},
   "outputs": [],
   "source": [
    "/*\n",
    "This problem is an extension of longest common subsequence. \n",
    "We first find length of LCS and store all LCS in 2D table using Memoization (or Dynamic Programming). \n",
    "Then we search all characters from ‘a’ to ‘z’ (to output sorted order) in both strings. \n",
    "If a character is found in both strings and current positions of character lead to LCS, we recursively search all occurrences with current LCS length plus 1.\n",
    "*/"
   ]
  },
  {
   "cell_type": "markdown",
   "metadata": {},
   "source": [
    "***https://ideone.com/8fAHOW***"
   ]
  },
  {
   "cell_type": "markdown",
   "metadata": {},
   "source": [
    "## **102. Printing Shortest Common Supersequence**\n",
    "https://www.geeksforgeeks.org/print-shortest-common-supersequence/"
   ]
  },
  {
   "cell_type": "code",
   "execution_count": 62,
   "metadata": {},
   "outputs": [],
   "source": [
    "/*\n",
    "Given two strings X and Y, \n",
    "print the shortest string that has both X and Y as subsequences. \n",
    "If multiple shortest supersequence exists, print any one of them.\n",
    "*/"
   ]
  },
  {
   "cell_type": "code",
   "execution_count": 63,
   "metadata": {},
   "outputs": [],
   "source": [
    "/*\n",
    "Examples:\n",
    "\n",
    "Input: X = \"AGGTAB\",  Y = \"GXTXAYB\"\n",
    "Output: \"AGXGTXAYB\" OR \"AGGXTXAYB\" \n",
    "OR Any string that represents shortest\n",
    "supersequence of X and Y\n",
    "\n",
    "Input: X = \"HELLO\",  Y = \"GEEK\"\n",
    "Output: \"GEHEKLLO\" OR \"GHEEKLLO\"\n",
    "OR Any string that represents shortest \n",
    "supersequence of X and Y\n",
    "*/"
   ]
  },
  {
   "cell_type": "markdown",
   "metadata": {},
   "source": [
    "***https://www.geeksforgeeks.org/shortest-common-supersequence/***"
   ]
  },
  {
   "cell_type": "code",
   "execution_count": 64,
   "metadata": {},
   "outputs": [],
   "source": [
    "/*\n",
    "We have discussed how to print length of shortest possible supersequence for two given strings in above link. \n",
    "In this post, we print the shortest supersequence.\n",
    "*/"
   ]
  },
  {
   "cell_type": "code",
   "execution_count": 65,
   "metadata": {},
   "outputs": [],
   "source": [
    "/*\n",
    "We have already discussed below algorithm to find length of shortest supersequence in previous post-\n",
    "\n",
    "Let X[0..m-1] and Y[0..n-1] be two strings and m and be respective \n",
    "lengths.\n",
    "\n",
    "if (m == 0) return n;\n",
    "if (n == 0) return m;\n",
    "\n",
    "// If last characters are same, then add 1 to result and\n",
    "// recur for X[]\n",
    "if (X[m-1] == Y[n-1]) \n",
    "    return 1 + SCS(X, Y, m-1, n-1);\n",
    "\n",
    "// Else find shortest of following two\n",
    "//  a) Remove last character from X and recur\n",
    "//  b) Remove last character from Y and recur\n",
    "else return 1 + min( SCS(X, Y, m-1, n), SCS(X, Y, m, n-1) );\n",
    "*/"
   ]
  },
  {
   "cell_type": "code",
   "execution_count": 66,
   "metadata": {},
   "outputs": [],
   "source": [
    "/*\n",
    "The following table shows steps followed by the above algorithm \n",
    "if we solve it in bottom-up manner using Dynamic Programming for strings X = “AGGTAB” and Y = “GXTXAYB”,\n",
    "*/"
   ]
  },
  {
   "cell_type": "markdown",
   "metadata": {},
   "source": [
    "<img src = \"https://media.geeksforgeeks.org/wp-content/uploads/Shortest-Supersequence.jpg\"/>"
   ]
  },
  {
   "cell_type": "code",
   "execution_count": 67,
   "metadata": {},
   "outputs": [],
   "source": [
    "/*\n",
    "Using the DP solution matrix, we can easily print shortest supersequence of two strings by following below steps –\n",
    "*/"
   ]
  },
  {
   "cell_type": "code",
   "execution_count": 68,
   "metadata": {},
   "outputs": [],
   "source": [
    "/*\n",
    "We start from the bottom-right most cell of the matrix and \n",
    "push characters in output string based on below rules-\n",
    "\n",
    " 1. If the characters corresponding to current cell (i, j) \n",
    "    in X and Y are same, then the character is part of shortest \n",
    "    supersequence. We append it in output string and move \n",
    "    diagonally to next cell (i.e. (i - 1, j - 1)).\n",
    "\n",
    " 2. If the characters corresponding to current cell (i, j)\n",
    "    in X and Y are different, we have two choices -\n",
    "\n",
    "    If matrix[i - 1][j] > matrix[i][j - 1],\n",
    "    we add character corresponding to current \n",
    "    cell (i, j) in string Y in output string \n",
    "    and move to the left cell i.e. (i, j - 1)\n",
    "    else\n",
    "    we add character corresponding to current \n",
    "    cell (i, j) in string X in output string \n",
    "    and move to the top cell i.e. (i - 1, j)\n",
    "\n",
    " 3. If string Y reaches its end i.e. j = 0, we add remaining\n",
    "    characters of string X in the output string\n",
    "    else if string X reaches its end i.e. i = 0, we add \n",
    "    remaining characters of string Y in the output string.\n",
    "*/"
   ]
  },
  {
   "cell_type": "code",
   "execution_count": 69,
   "metadata": {},
   "outputs": [],
   "source": [
    "// returns shortest supersequence of X and Y  \n",
    "static String printShortestSuperSeq(String X, String Y) \n",
    "{ \n",
    "    int m = X.length(); \n",
    "    int n = Y.length(); \n",
    "\n",
    "    // dp[i][j] contains length of  \n",
    "    // shortest supersequence  \n",
    "    // for X[0..i-1] and Y[0..j-1]  \n",
    "    int dp[][] = new int[m + 1][n + 1]; \n",
    "\n",
    "    // Fill table in bottom up manner  \n",
    "    for (int i = 0; i <= m; i++)  \n",
    "    { \n",
    "        for (int j = 0; j <= n; j++)  \n",
    "        { \n",
    "\n",
    "            // Below steps follow recurrence relation  \n",
    "            if (i == 0)  \n",
    "            { \n",
    "                dp[i][j] = j; \n",
    "            }  \n",
    "            else if (j == 0)  \n",
    "            { \n",
    "                dp[i][j] = i; \n",
    "            }  \n",
    "            else if (X.charAt(i - 1) == Y.charAt(j - 1))  \n",
    "            { \n",
    "                dp[i][j] = 1 + dp[i - 1][j - 1]; \n",
    "            } \n",
    "            else \n",
    "            { \n",
    "                dp[i][j] = 1 + Math.min(dp[i - 1][j], dp[i][j - 1]); \n",
    "            } \n",
    "        } \n",
    "    } \n",
    "\n",
    "    // Following code is used to print  \n",
    "    // shortest supersequence dp[m][n] s \n",
    "    // tores the length of the shortest \n",
    "    // supersequence of X and Y  \n",
    "    int index = dp[m][n]; \n",
    "\n",
    "    // string to store the shortest supersequence  \n",
    "    String str = \"\"; \n",
    "\n",
    "    // Start from the bottom right corner and one by one  \n",
    "    // push characters in output string  \n",
    "    int i = m, j = n; \n",
    "    while (i > 0 && j > 0) \n",
    "\n",
    "    { \n",
    "        // If current character in X and Y are same, then  \n",
    "        // current character is part of shortest supersequence  \n",
    "        if (X.charAt(i - 1) == Y.charAt(j - 1))  \n",
    "\n",
    "        { \n",
    "            // Put current character in result  \n",
    "            str += (X.charAt(i - 1)); \n",
    "\n",
    "            // reduce values of i, j and index  \n",
    "            i--; \n",
    "            j--; \n",
    "            index--; \n",
    "        }  \n",
    "\n",
    "        // If current character in X and Y are different  \n",
    "        else if (dp[i - 1][j] > dp[i][j - 1]) \n",
    "        { \n",
    "\n",
    "            // Put current character of Y in result  \n",
    "            str += (Y.charAt(j - 1)); \n",
    "\n",
    "            // reduce values of j and index  \n",
    "            j--; \n",
    "            index--; \n",
    "        }  \n",
    "        else \n",
    "        { \n",
    "\n",
    "            // Put current character of X in result  \n",
    "            str += (X.charAt(i - 1)); \n",
    "\n",
    "            // reduce values of i and index  \n",
    "            i--; \n",
    "            index--; \n",
    "        } \n",
    "    } \n",
    "\n",
    "    // If Y reaches its end, put remaining characters  \n",
    "    // of X in the result string  \n",
    "    while (i > 0)  \n",
    "    { \n",
    "        str += (X.charAt(i - 1)); \n",
    "        i--; \n",
    "        index--; \n",
    "    } \n",
    "\n",
    "    // If X reaches its end, put remaining characters  \n",
    "    // of Y in the result string  \n",
    "    while (j > 0) \n",
    "    { \n",
    "        str += (Y.charAt(j - 1)); \n",
    "        j--; \n",
    "        index--; \n",
    "    } \n",
    "\n",
    "    // reverse the string and return it  \n",
    "    str = reverse(str); \n",
    "    return str; \n",
    "} "
   ]
  },
  {
   "cell_type": "code",
   "execution_count": 70,
   "metadata": {},
   "outputs": [],
   "source": [
    "static String reverse(String input)  \n",
    "{ \n",
    "    char[] temparray = input.toCharArray(); \n",
    "    int left, right = 0; \n",
    "    right = temparray.length - 1; \n",
    "\n",
    "    for (left = 0; left < right; left++, right--) \n",
    "    { \n",
    "        // Swap values of left and right  \n",
    "        char temp = temparray[left]; \n",
    "        temparray[left] = temparray[right]; \n",
    "        temparray[right] = temp; \n",
    "    } \n",
    "    return String.valueOf(temparray); \n",
    "} "
   ]
  },
  {
   "cell_type": "code",
   "execution_count": 71,
   "metadata": {},
   "outputs": [
    {
     "name": "stdout",
     "output_type": "stream",
     "text": [
      "AGXGTXAYB\n"
     ]
    }
   ],
   "source": [
    "// Driver code \n",
    "public static void main(String[] args)  \n",
    "{ \n",
    "    String X = \"AGGTAB\"; \n",
    "    String Y = \"GXTXAYB\"; \n",
    "    System.out.println(printShortestSuperSeq(X, Y)); \n",
    "} \n",
    "main(args);"
   ]
  },
  {
   "cell_type": "code",
   "execution_count": 72,
   "metadata": {},
   "outputs": [],
   "source": [
    "/*\n",
    "Time complexity of above solution is O(n^2).\n",
    "Auxiliary space used by the program is O(n^2).\n",
    "*/"
   ]
  },
  {
   "cell_type": "markdown",
   "metadata": {},
   "source": [
    "## **103. Given two strings, find if first string is a subsequence of second**\n",
    "https://www.geeksforgeeks.org/given-two-strings-find-first-string-subsequence-second/"
   ]
  },
  {
   "cell_type": "code",
   "execution_count": 73,
   "metadata": {},
   "outputs": [],
   "source": [
    "/*\n",
    "Given two strings str1 and str2, \n",
    "find if str1 is a subsequence of str2. \n",
    "\n",
    "A subsequence is a sequence that can be derived from another sequence by deleting some elements without changing the order of the remaining elements (source: wiki). \n",
    "Expected time complexity is linear.\n",
    "*/"
   ]
  },
  {
   "cell_type": "code",
   "execution_count": 74,
   "metadata": {},
   "outputs": [],
   "source": [
    "/*\n",
    "Examples :\n",
    "\n",
    "Input: str1 = \"AXY\", str2 = \"ADXCPY\"\n",
    "Output: True (str1 is a subsequence of str2)\n",
    "\n",
    "Input: str1 = \"AXY\", str2 = \"YADXCP\"\n",
    "Output: False (str1 is not a subsequence of str2)\n",
    "\n",
    "Input: str1 = \"gksrek\", str2 = \"geeksforgeeks\"\n",
    "Output: True (str1 is a subsequence of str2)\n",
    "*/"
   ]
  },
  {
   "cell_type": "code",
   "execution_count": 75,
   "metadata": {},
   "outputs": [],
   "source": [
    "/*\n",
    "The idea is simple, \n",
    "    we traverse both strings from one side to other side (say from rightmost character to leftmost). \n",
    "    If we find a matching character, we move ahead in both strings. \n",
    "    Otherwise we move ahead only in str2.\n",
    "*/"
   ]
  },
  {
   "cell_type": "markdown",
   "metadata": {},
   "source": [
    "**Recursive Approach**"
   ]
  },
  {
   "cell_type": "code",
   "execution_count": 76,
   "metadata": {},
   "outputs": [],
   "source": [
    "// Returns true if str1[] is a subsequence of str2[] \n",
    "// m is length of str1 and n is length of str2 \n",
    "static boolean isSubSequence(String str1, String str2, int m, int n) \n",
    "{ \n",
    "    // Base Cases \n",
    "    if (m == 0)  \n",
    "        return true; \n",
    "    if (n == 0)  \n",
    "        return false; \n",
    "\n",
    "    // If last characters of two strings are matching \n",
    "    if (str1.charAt(m-1) == str2.charAt(n-1)) \n",
    "        return isSubSequence(str1, str2, m-1, n-1); \n",
    "\n",
    "    // If last characters are not matching \n",
    "    return isSubSequence(str1, str2, m, n-1); \n",
    "} "
   ]
  },
  {
   "cell_type": "code",
   "execution_count": 77,
   "metadata": {},
   "outputs": [
    {
     "name": "stdout",
     "output_type": "stream",
     "text": [
      "Yes\n"
     ]
    }
   ],
   "source": [
    "// Driver program \n",
    "public static void main (String[] args)  \n",
    "{ \n",
    "    String str1 = \"gksrek\"; \n",
    "    String str2 = \"geeksforgeeks\"; \n",
    "    int m = str1.length(); \n",
    "    int n = str2.length(); \n",
    "    boolean res = isSubSequence(str1, str2, m, n); \n",
    "    if(res) \n",
    "        System.out.println(\"Yes\"); \n",
    "    else\n",
    "        System.out.println(\"No\"); \n",
    "} \n",
    "main(args);"
   ]
  },
  {
   "cell_type": "markdown",
   "metadata": {},
   "source": [
    "**Iterative Approach**"
   ]
  },
  {
   "cell_type": "code",
   "execution_count": 78,
   "metadata": {},
   "outputs": [],
   "source": [
    "// Returns true if str1[] is a subsequence  \n",
    "// of str2[] m is length of str1 and n is \n",
    "// length of str2 \n",
    "static boolean isSubSequence(String str1,  \n",
    "                String str2, int m, int n) \n",
    "{ \n",
    "    int j = 0; \n",
    "\n",
    "    // Traverse str2 and str1, and compare  \n",
    "    // current character of str2 with first \n",
    "    // unmatched char of str1, if matched  \n",
    "    // then move ahead in str1 \n",
    "    for (int i = 0; i < n && j < m; i++) \n",
    "        if (str1.charAt(j) == str2.charAt(i)) \n",
    "            j++; \n",
    "\n",
    "    // If all characters of str1 were found \n",
    "    // in str2 \n",
    "    return (j == m);  \n",
    "} "
   ]
  },
  {
   "cell_type": "code",
   "execution_count": 79,
   "metadata": {},
   "outputs": [
    {
     "name": "stdout",
     "output_type": "stream",
     "text": [
      "Yes\n"
     ]
    }
   ],
   "source": [
    "// Driver program to test methods of \n",
    "// graph class \n",
    "public static void main (String[] args)  \n",
    "{ \n",
    "    String str1 = \"gksrek\"; \n",
    "    String str2 = \"geeksforgeeks\"; \n",
    "    int m = str1.length(); \n",
    "    int n = str2.length(); \n",
    "    boolean res = isSubSequence(str1, str2, m, n); \n",
    "\n",
    "    if(res) \n",
    "        System.out.println(\"Yes\"); \n",
    "    else\n",
    "        System.out.println(\"No\"); \n",
    "}\n",
    "main(args);"
   ]
  },
  {
   "cell_type": "code",
   "execution_count": 80,
   "metadata": {},
   "outputs": [],
   "source": [
    "/*\n",
    "Time Complexity of both implementations above is O(n) where n is the length of str2.\n",
    "*/"
   ]
  },
  {
   "cell_type": "markdown",
   "metadata": {},
   "source": [
    "## **104. Find largest word in dictionary by deleting some characters of given string**\n",
    "https://www.geeksforgeeks.org/find-largest-word-dictionary-deleting-characters-given-string/"
   ]
  },
  {
   "cell_type": "code",
   "execution_count": 81,
   "metadata": {},
   "outputs": [],
   "source": [
    "/*\n",
    "Giving a dictionary and a string ‘str’, \n",
    "find the longest string in dictionary which can be formed by deleting some characters of the given ‘str’.\n",
    "*/"
   ]
  },
  {
   "cell_type": "code",
   "execution_count": 82,
   "metadata": {},
   "outputs": [],
   "source": [
    "/*\n",
    "Examples:\n",
    "\n",
    "Input : dict = {\"ale\", \"apple\", \"monkey\", \"plea\"}   \n",
    "        str = \"abpcplea\"  \n",
    "Output : apple \n",
    "\n",
    "Input  : dict = {\"pintu\", \"geeksfor\", \"geeksgeeks\", \n",
    "                                        \" forgeek\"} \n",
    "         str = \"geeksforgeeks\"\n",
    "Output : geeksgeeks\n",
    "*/"
   ]
  },
  {
   "cell_type": "code",
   "execution_count": 83,
   "metadata": {},
   "outputs": [],
   "source": [
    "/*\n",
    "This problem reduces to finding \n",
    "if a string is subsequence of another string or not.\n",
    "(https://www.geeksforgeeks.org/dynamic-programming-set-4-longest-common-subsequence/) \n",
    "\n",
    "We traverse all dictionary words and for every word, \n",
    "    we check if it is subsequence of given string and is largest of all such words. \n",
    "    We finally return the longest word with given string as subsequence.\n",
    "\n",
    "Below is the implementation of above idea\n",
    "*/"
   ]
  },
  {
   "cell_type": "code",
   "execution_count": 84,
   "metadata": {},
   "outputs": [],
   "source": [
    "// Returns true if str1[] is a  \n",
    "// subsequence of str2[]. m is  \n",
    "// length of str1 and n is length of str2  \n",
    "static boolean isSubSequence(String str1, \n",
    "                            String str2)  \n",
    "{ \n",
    "    int m = str1.length(), n = str2.length(); \n",
    "\n",
    "    int j = 0; // For index of str1 (or subsequence)  \n",
    "\n",
    "    // Traverse str2 and str1, and compare current  \n",
    "    // character of str2 with first unmatched char  \n",
    "    // of str1, if matched then move ahead in str1  \n",
    "    for (int i = 0; i < n && j < m; i++) \n",
    "    { \n",
    "        if (str1.charAt(j) == str2.charAt(i))  \n",
    "        { \n",
    "            j++; \n",
    "        } \n",
    "    } \n",
    "\n",
    "    // If all characters of str1  \n",
    "    // were found in str2  \n",
    "    return (j == m); \n",
    "} "
   ]
  },
  {
   "cell_type": "code",
   "execution_count": 85,
   "metadata": {},
   "outputs": [],
   "source": [
    "// Returns the longest String  \n",
    "// in dictionary which is a  \n",
    "// subsequence of str.  \n",
    "static String findLongestString(Vector<String> dict,  \n",
    "                                        String str) \n",
    "{ \n",
    "    String result = \"\"; \n",
    "    int length = 0; \n",
    "\n",
    "    // Traverse through all words of dictionary  \n",
    "    for (String word : dict) \n",
    "    { \n",
    "\n",
    "        // If current word is subsequence of str  \n",
    "        // and is largest such word so far.  \n",
    "        if (length < word.length() && \n",
    "            isSubSequence(word, str)) \n",
    "        { \n",
    "            result = word; \n",
    "            length = word.length(); \n",
    "        } \n",
    "    } \n",
    "\n",
    "    // Return longest String  \n",
    "    return result; \n",
    "} "
   ]
  },
  {
   "cell_type": "code",
   "execution_count": 86,
   "metadata": {},
   "outputs": [
    {
     "name": "stdout",
     "output_type": "stream",
     "text": [
      "apple\n"
     ]
    }
   ],
   "source": [
    "// Driver code \n",
    "public static void main(String[] args)  \n",
    "{ \n",
    "    String[] arr = {\"ale\", \"apple\", \"monkey\", \"plea\"}; \n",
    "    Vector dict = new Vector(Arrays.asList(arr)); \n",
    "    String str = \"abpcplea\"; \n",
    "    System.out.println(findLongestString(dict, str)); \n",
    "} \n",
    "main(args);"
   ]
  },
  {
   "cell_type": "code",
   "execution_count": 87,
   "metadata": {},
   "outputs": [],
   "source": [
    "/*\n",
    "Time Complexity : O(N*K*n) \n",
    "    Here N is the length of dictionary \n",
    "    and n is the length of given string ‘str’ \n",
    "    and K – maximum length of words in the dictionary.\n",
    "\n",
    "Auxiliary Space : O(1)\n",
    "*/"
   ]
  },
  {
   "cell_type": "markdown",
   "metadata": {},
   "source": [
    "## **105. Search a Word in a 2D Grid of characters**\n",
    "https://www.geeksforgeeks.org/search-a-word-in-a-2d-grid-of-characters/"
   ]
  },
  {
   "cell_type": "code",
   "execution_count": 88,
   "metadata": {},
   "outputs": [],
   "source": [
    "/*\n",
    "Given a 2D grid of characters and a word, \n",
    "find all occurrences of given word in grid. \n",
    "\n",
    "A word can be matched in all 8 directions at any point. \n",
    "Word is said be found in a direction if all characters match in this direction (not in zig-zag form).\n",
    "\n",
    "The 8 directions are, Horizontally Left, Horizontally Right, Vertically Up and 4 Diagonal directions.\n",
    "*/"
   ]
  },
  {
   "cell_type": "code",
   "execution_count": 89,
   "metadata": {},
   "outputs": [],
   "source": [
    "/*\n",
    "Example:\n",
    "\n",
    "Input:  grid[][] = {\"GEEKSFORGEEKS\",\n",
    "                    \"GEEKSQUIZGEEK\",\n",
    "                    \"IDEQAPRACTICE\"};\n",
    "        word = \"GEEKS\"\n",
    "\n",
    "Output: pattern found at 0, 0\n",
    "        pattern found at 0, 8\n",
    "        pattern found at 1, 0\n",
    "\n",
    "Input:  grid[][] = {\"GEEKSFORGEEKS\",\n",
    "                    \"GEEKSQUIZGEEK\",\n",
    "                    \"IDEQAPRACTICE\"};\n",
    "        word = \"EEE\"\n",
    "\n",
    "Output: pattern found at 0, 2\n",
    "        pattern found at 0, 10\n",
    "        pattern found at 2, 2\n",
    "        pattern found at 2, 12\n",
    "*/"
   ]
  },
  {
   "cell_type": "markdown",
   "metadata": {},
   "source": [
    "<img src = \"https://media.geeksforgeeks.org/wp-content/cdn-uploads/Search_a_Word.png\"/>"
   ]
  },
  {
   "cell_type": "code",
   "execution_count": 90,
   "metadata": {},
   "outputs": [],
   "source": [
    "/*\n",
    "The idea used here is simple, \n",
    "    we check every cell. \n",
    "    If cell has first character, then we one by one try all 8 directions from that cell for a match. \n",
    "    Implementation is interesting though. \n",
    "    We use two arrays x[] and y[] to find next move in all 8 directions.\n",
    "*/"
   ]
  },
  {
   "cell_type": "code",
   "execution_count": 91,
   "metadata": {},
   "outputs": [],
   "source": [
    "// Rows and columns in given grid \n",
    "static int R, C; \n",
    "\n",
    "// For searching in all 8 direction  \n",
    "static int[] x = { -1, -1, -1, 0, 0, 1, 1, 1 };  \n",
    "static int[] y = { -1, 0, 1, -1, 1, -1, 0, 1 };  \n",
    "\n",
    "// This function searches in all 8-direction from point  \n",
    "// (row, col) in grid[][]  \n",
    "static boolean search2D(char[][] grid, int row, \n",
    "                        int col, String word) \n",
    "{ \n",
    "        // If first character of word doesn't match with  \n",
    "        // given starting point in grid.  \n",
    "        if (grid[row][col] != word.charAt(0)) \n",
    "            return false; \n",
    "\n",
    "        int len = word.length(); \n",
    "\n",
    "        // Search word in all 8 directions \n",
    "        // starting from (row,col) \n",
    "        for (int dir = 0; dir < 8; dir++) \n",
    "        { \n",
    "            // Initialize starting point \n",
    "            // for current direction  \n",
    "            int k, rd = row + x[dir], cd = col + y[dir]; \n",
    "\n",
    "            // First character is already checked,  \n",
    "            //  match remaining characters \n",
    "            for (k = 1; k < len; k++) \n",
    "            { \n",
    "                // If out of bound break  \n",
    "                if (rd >= R || rd < 0 || cd >= C || cd < 0) \n",
    "                    break; \n",
    "\n",
    "                // If not matched, break  \n",
    "                if (grid[rd][cd] != word.charAt(k)) \n",
    "                    break; \n",
    "\n",
    "                // Moving in particular direction  \n",
    "                rd += x[dir]; \n",
    "                cd += y[dir]; \n",
    "            }  \n",
    "\n",
    "            // If all character matched, then value of must  \n",
    "            // be equal to length of word \n",
    "            if (k == len) \n",
    "                return true;  \n",
    "        } \n",
    "    return false; \n",
    "} "
   ]
  },
  {
   "cell_type": "code",
   "execution_count": 92,
   "metadata": {},
   "outputs": [],
   "source": [
    "// Searches given word in a given \n",
    "// matrix in all 8 directions \n",
    "static void patternSearch(char[][] grid, String word) \n",
    "{ \n",
    "        // Consider every point as starting  \n",
    "        // point and search given word  \n",
    "        for (int row = 0; row < R; row++)  \n",
    "        { \n",
    "            for (int col = 0; col < C; col++)  \n",
    "            { \n",
    "                if (search2D(grid, row, col, word)) \n",
    "                    System.out.println(\"pattern found at \" + row +  \n",
    "                                                        \", \" + col); \n",
    "            } \n",
    "        } \n",
    "} "
   ]
  },
  {
   "cell_type": "code",
   "execution_count": 93,
   "metadata": {},
   "outputs": [
    {
     "name": "stdout",
     "output_type": "stream",
     "text": [
      "pattern found at 0, 0\n",
      "pattern found at 0, 8\n",
      "pattern found at 1, 0\n",
      "\n",
      "pattern found at 0, 2\n",
      "pattern found at 0, 10\n",
      "pattern found at 2, 2\n",
      "pattern found at 2, 12\n"
     ]
    }
   ],
   "source": [
    "// Driver code \n",
    "public static void main(String args[]) \n",
    "{ \n",
    "        R = 3; \n",
    "        C = 13; \n",
    "        char[][] grid = {{'G','E','E','K','S','F','O','R','G','E','E','K','S'}, \n",
    "                            {'G','E','E','K','S','Q','U','I','Z','G','E','E','K'}, \n",
    "                            {'I','D','E','Q','A','P','R','A','C','T','I','C','E'}}; \n",
    "        patternSearch(grid, \"GEEKS\"); \n",
    "        System.out.println(); \n",
    "        patternSearch(grid, \"EEE\"); \n",
    "} \n",
    "main(args);"
   ]
  },
  {
   "cell_type": "code",
   "execution_count": null,
   "metadata": {},
   "outputs": [],
   "source": []
  }
 ],
 "metadata": {
  "kernelspec": {
   "display_name": "Java",
   "language": "java",
   "name": "java"
  },
  "language_info": {
   "codemirror_mode": "java",
   "file_extension": ".jshell",
   "mimetype": "text/x-java-source",
   "name": "Java",
   "pygments_lexer": "java",
   "version": "11.0.6+8-LTS"
  },
  "toc": {
   "base_numbering": 1,
   "nav_menu": {},
   "number_sections": true,
   "sideBar": true,
   "skip_h1_title": false,
   "title_cell": "Table of Contents",
   "title_sidebar": "Contents",
   "toc_cell": false,
   "toc_position": {},
   "toc_section_display": true,
   "toc_window_display": true
  }
 },
 "nbformat": 4,
 "nbformat_minor": 2
}
