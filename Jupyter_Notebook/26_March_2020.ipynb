{
 "cells": [
  {
   "cell_type": "markdown",
   "metadata": {},
   "source": [
    "**------------------------Questions Covered-----------------------------**"
   ]
  },
  {
   "cell_type": "markdown",
   "metadata": {},
   "source": [
    "***7\tDynamic Programming\thttps://www.geeksforgeeks.org/length-of-the-longest-valid-substring/\tfinished\t\t\t\t\t\t\t\t\t\t\t\t\t\t\t\t\t\t\t\t\t\t\t\t\n",
    "7\tDynamic Programming\thttps://www.geeksforgeeks.org/dynamic-programming-set-37-boolean-parenthesization-problem/\tfinished\tbreaker\t\t\t\t\t\t\t\t\t\t\t\t\t\t\t\t\t\t\t\t\t\t\t\n",
    "7\tDynamic Programming\thttps://www.geeksforgeeks.org/count-possible-decodings-given-digit-sequence/\tfinished\t\t\t\t\t\t\t\t\t\t\t\t\t\t\t\t\t\t\t\t\t\t\t\t\n",
    "7\tDynamic Programming\thttps://www.geeksforgeeks.org/perfect-sum-problem-print-subsets-given-sum/\tfinished\t\t\t\t\t\t\t\t\t\t\t\t\t\t\t\t\t\t\t\t\t\t\t\t\n",
    "7\tDynamic Programming\thttps://www.geeksforgeeks.org/vertex-cover-problem-set-2-dynamic-programming-solution-tree/\tdone\t\t\t\t\t\t\t\t\t\t\t\t\t\t\t\t\t\t\t\t\t\t\t\t\n",
    "7\tDynamic Programming\thttps://www.geeksforgeeks.org/longest-even-length-substring-sum-first-second-half/\ttbd\t\t\t\t\t\t\t\t\t\t\t\t\t\t\t\t\t\t\t\t\t\t\t\t\n",
    "7\tDynamic Programming\thttps://www.geeksforgeeks.org/count-possible-ways-to-construct-buildings/\tfinished\t\t\t\t\t\t\t\t\t\t\t\t\t\t\t\t\t\t\t\t\t\t\t\t\n",
    "7\tDynamic Programming\thttps://www.geeksforgeeks.org/bitmasking-and-dynamic-programming-set-1-count-ways-to-assign-unique-cap-to-every-person/\tfinished\t\t\t\t\t\t\t\t\t\t\t\t\t\t\t\t\t\t\t\t\t\t\t\t\n",
    "7\tDynamic Programming\thttps://www.geeksforgeeks.org/longest-repeating-subsequence/\ttbd\t\t\t\t\t\t\t\t\t\t\t\t\t\t\t\t\t\t\t\t\t\t\t\t\n",
    "7\tDynamic Programming\thttps://www.geeksforgeeks.org/longest-common-increasing-subsequence-lcs-lis/\ttbd\t\t\t\t\t\t\t\t\t\t\t\t\t\t\t\t\t\t\t\t\t\t\t\t\n",
    "7\tDynamic Programming\thttps://www.geeksforgeeks.org/find-if-string-is-k-palindrome-or-not/\tdone\t\t\t\t\t\t\t\t\t\t\t\t\t\t\t\t\t\t\t\t\t\t\t\t\n",
    "7\tDynamic Programming\thttps://www.geeksforgeeks.org/minimum-sum-path-3-d-array/\tdone\t\t\t\t\t\t\t\t\t\t\t\t\t\t\t\t\t\t\t\t\t\t\t\t\n",
    "7\tDynamic Programming\thttps://www.geeksforgeeks.org/count-distinct-subsequences/\ttbd\t\t\t\t\t\t\t\t\t\t\t\t\t\t\t\t\t\t\t\t\t\t\t\t\n",
    "7\tDynamic Programming\thttps://www.geeksforgeeks.org/shortest-uncommon-subsequence/\ttbd\t\t\t\t\t\t\t\t\t\t\t\t\t\t\t\t\t\t\t\t\t\t\t\t\n",
    "7\tDynamic Programming\thttps://www.geeksforgeeks.org/temple-offerings/\tfinished\t\t\t\t\t\t\t\t\t\t\t\t\t\t\t\t\t\t\t\t\t\t\t\t\n",
    "7\tDynamic Programming\thttps://www.geeksforgeeks.org/highway-billboard-problem/\tfinished***"
   ]
  },
  {
   "cell_type": "code",
   "execution_count": 1,
   "metadata": {},
   "outputs": [],
   "source": [
    "import java.util.*;\n",
    "import java.io.*;\n",
    "import java.util.Arrays;\n",
    "String[] args =new String[0];"
   ]
  },
  {
   "cell_type": "markdown",
   "metadata": {},
   "source": [
    "## **226. Length of the longest valid substring**\n",
    "https://www.geeksforgeeks.org/length-of-the-longest-valid-substring/"
   ]
  },
  {
   "cell_type": "code",
   "execution_count": 2,
   "metadata": {},
   "outputs": [],
   "source": [
    "/*\n",
    "Discussed in 19 March 2020\n",
    "*/"
   ]
  },
  {
   "cell_type": "markdown",
   "metadata": {},
   "source": [
    "## **227. Boolean Parenthesization Problem | DP-37**\n",
    "https://www.geeksforgeeks.org/boolean-parenthesization-problem-dp-37/"
   ]
  },
  {
   "cell_type": "code",
   "execution_count": 3,
   "metadata": {},
   "outputs": [],
   "source": [
    "/*\n",
    "Given a boolean expression with following symbols.\n",
    "\n",
    "Symbols\n",
    "    'T' ---> true \n",
    "    'F' ---> false \n",
    "And following operators filled between symbols\n",
    "\n",
    "Operators\n",
    "    &   ---> boolean AND\n",
    "    |   ---> boolean OR\n",
    "    ^   ---> boolean XOR \n",
    "Count the number of ways we can parenthesize the expression so that the value of expression evaluates to true.\n",
    "\n",
    "Let the input be in form of two arrays one contains the symbols (T and F) in order\n",
    "and other contains operators (&, | and ^}\n",
    "*/"
   ]
  },
  {
   "cell_type": "code",
   "execution_count": 4,
   "metadata": {},
   "outputs": [],
   "source": [
    "/*\n",
    "Examples:\n",
    "\n",
    "Input: symbol[]    = {T, F, T}\n",
    "       operator[]  = {^, &}\n",
    "Output: 2\n",
    "The given expression is \"T ^ F & T\", it evaluates true\n",
    "in two ways \"((T ^ F) & T)\" and \"(T ^ (F & T))\"\n",
    "\n",
    "Input: symbol[]    = {T, F, F}\n",
    "       operator[]  = {^, |}\n",
    "Output: 2\n",
    "The given expression is \"T ^ F | F\", it evaluates true\n",
    "in two ways \"( (T ^ F) | F )\" and \"( T ^ (F | F) )\". \n",
    "\n",
    "Input: symbol[]    = {T, T, F, T}\n",
    "       operator[]  = {|, &, ^}\n",
    "Output: 4\n",
    "The given expression is \"T | T & F ^ T\", it evaluates true\n",
    "in 4 ways ((T|T)&(F^T)), (T|(T&(F^T))), (((T|T)&F)^T) \n",
    "and (T|((T&F)^T)). \n",
    "*/"
   ]
  },
  {
   "cell_type": "code",
   "execution_count": 5,
   "metadata": {},
   "outputs": [],
   "source": [
    "/*\n",
    "Solution:\n",
    "Time Complexity: O(n^3)\n",
    "Auxiliary Space: O(n^2)\n",
    "\n",
    "Let T(i, j) represents the number of ways to parenthesize the symbols between i and j (both inclusive) \n",
    "such that the subexpression between i and j evaluates to true.\n",
    "*/"
   ]
  },
  {
   "cell_type": "markdown",
   "metadata": {},
   "source": [
    "<img src = \"https://www.geeksforgeeks.org/wp-content/ql-cache/quicklatex.com-b9d8df57d06423ebb6000181b7352163_l3.svg\"/>"
   ]
  },
  {
   "cell_type": "markdown",
   "metadata": {},
   "source": [
    "<img src = \"https://media.geeksforgeeks.org/wp-content/cdn-uploads/trueeq.png\"/>"
   ]
  },
  {
   "cell_type": "code",
   "execution_count": 6,
   "metadata": {},
   "outputs": [],
   "source": [
    "/*\n",
    "Let F(i, j) represents the number of ways to parenthesize the symbols between i and j (both inclusive) \n",
    "such that the subexpression between i and j evaluates to false.\n",
    "*/"
   ]
  },
  {
   "cell_type": "markdown",
   "metadata": {},
   "source": [
    "<img src = \"https://www.geeksforgeeks.org/wp-content/ql-cache/quicklatex.com-74b2160e6008c436711729ee74921d3a_l3.svg\"/>"
   ]
  },
  {
   "cell_type": "markdown",
   "metadata": {},
   "source": [
    "<img src=  \"https://media.geeksforgeeks.org/wp-content/cdn-uploads/falseeq.png\"/>"
   ]
  },
  {
   "cell_type": "code",
   "execution_count": 7,
   "metadata": {},
   "outputs": [],
   "source": [
    "/*\n",
    "Base Cases:\n",
    "\n",
    "T(i, i) = 1 if symbol[i] = 'T' \n",
    "T(i, i) = 0 if symbol[i] = 'F' \n",
    "\n",
    "F(i, i) = 1 if symbol[i] = 'F' \n",
    "F(i, i) = 0 if symbol[i] = 'T'\n",
    "*/"
   ]
  },
  {
   "cell_type": "code",
   "execution_count": 8,
   "metadata": {},
   "outputs": [],
   "source": [
    "// Returns count of all possible  \n",
    "// parenthesizations that lead to \n",
    "// result true for a boolean  \n",
    "// expression with symbols like true \n",
    "// and false and operators like &, |  \n",
    "// and ^ filled between symbols \n",
    "static int countParenth(char symb[],  \n",
    "                char oper[], int n)     \n",
    "{ \n",
    "    int F[][] = new int[n][n]; \n",
    "    int T[][] = new int[n][n]; \n",
    "\n",
    "    // Fill diaginal entries first \n",
    "    // All diagonal entries in T[i][i]  \n",
    "    // are 1 if symbol[i] is T (true).  \n",
    "    // Similarly, all F[i][i] entries  \n",
    "    // are 1 if symbol[i] is F (False) \n",
    "    for (int i = 0; i < n; i++)  \n",
    "    { \n",
    "        F[i][i] = (symb[i] == 'F') ? 1 : 0; \n",
    "        T[i][i] = (symb[i] == 'T') ? 1 : 0; \n",
    "    } \n",
    "\n",
    "    // Now fill T[i][i+1], T[i][i+2],  \n",
    "    // T[i][i+3]... in order And F[i][i+1], \n",
    "    // F[i][i+2], F[i][i+3]... in order \n",
    "    for (int gap = 1; gap < n; ++gap) \n",
    "    { \n",
    "        for (int i = 0, j = gap; j < n; ++i, ++j)  \n",
    "        { \n",
    "            T[i][j] = F[i][j] = 0; \n",
    "            for (int g = 0; g < gap; g++)  \n",
    "            { \n",
    "                // Find place of parenthesization  \n",
    "                // using current value of gap \n",
    "                int k = i + g; \n",
    "\n",
    "                // Store Total[i][k] and Total[k+1][j] \n",
    "                int tik = T[i][k] + F[i][k]; \n",
    "                int tkj = T[k + 1][j] + F[k + 1][j]; \n",
    "\n",
    "                // Follow the recursive formulas  \n",
    "                // according to the current operator \n",
    "                if (oper[k] == '&')  \n",
    "                { \n",
    "                    T[i][j] += T[i][k] * T[k + 1][j]; \n",
    "                    F[i][j] += (tik * tkj - T[i][k] * T[k + 1][j]); \n",
    "                } \n",
    "                if (oper[k] == '|')  \n",
    "                { \n",
    "                    F[i][j] += F[i][k] * F[k + 1][j]; \n",
    "                    T[i][j] += (tik * tkj - F[i][k] * F[k + 1][j]); \n",
    "                } \n",
    "                if (oper[k] == '^') \n",
    "                { \n",
    "                    T[i][j] += F[i][k] * T[k + 1][j] +  \n",
    "                                T[i][k] * F[k + 1][j]; \n",
    "                    F[i][j] += T[i][k] * T[k + 1][j] +  \n",
    "                                F[i][k] * F[k + 1][j]; \n",
    "                } \n",
    "            } \n",
    "        } \n",
    "    } \n",
    "    return T[0][n - 1]; \n",
    "} "
   ]
  },
  {
   "cell_type": "code",
   "execution_count": 9,
   "metadata": {},
   "outputs": [
    {
     "name": "stdout",
     "output_type": "stream",
     "text": [
      "4\n"
     ]
    }
   ],
   "source": [
    "// Driver code \n",
    "public static void main(String[] args)  \n",
    "{ \n",
    "    char symbols[] = \"TTFT\".toCharArray(); \n",
    "    char operators[] = \"|&^\".toCharArray(); \n",
    "    int n = symbols.length; \n",
    "\n",
    "    // There are 4 ways \n",
    "    // ((T|T)&(F^T)), (T|(T&(F^T))),  \n",
    "    // (((T|T)&F)^T) and (T|((T&F)^T)) \n",
    "    System.out.println(countParenth(symbols, operators, n)); \n",
    "} \n",
    "main(args);"
   ]
  },
  {
   "cell_type": "markdown",
   "metadata": {},
   "source": [
    "## **228. Count Possible Decodings of a given Digit Sequence**\n",
    "https://www.geeksforgeeks.org/count-possible-decodings-given-digit-sequence/"
   ]
  },
  {
   "cell_type": "code",
   "execution_count": 10,
   "metadata": {},
   "outputs": [],
   "source": [
    "/*\n",
    "Let 1 represent ‘A’, \n",
    "    2 represents ‘B’, etc. \n",
    "Given a digit sequence, \n",
    "    count the number of possible decodings of the given digit sequence.\n",
    "    \n",
    "An empty digit sequence is considered to have one decoding. \n",
    "It may be assumed that the input contains valid digits from 0 to 9 \n",
    "and there are no leading 0’s, no extra trailing 0’s and no two or more consecutive 0’s.\n",
    "*/"
   ]
  },
  {
   "cell_type": "code",
   "execution_count": 11,
   "metadata": {},
   "outputs": [],
   "source": [
    "/*\n",
    "Examples:\n",
    "\n",
    "Input:  digits[] = \"121\"\n",
    "Output: 3\n",
    "// The possible decodings are \"ABA\", \"AU\", \"LA\"\n",
    "\n",
    "Input: digits[] = \"1234\"\n",
    "Output: 3\n",
    "// The possible decodings are \"ABCD\", \"LCD\", \"AWD\"\n",
    "*/"
   ]
  },
  {
   "cell_type": "code",
   "execution_count": 12,
   "metadata": {},
   "outputs": [],
   "source": [
    "/*\n",
    "This problem is recursive and can be broken in sub-problems. \n",
    "We start from end of the given digit sequence. \n",
    "We initialize the total count of decodings as 0. \n",
    "\n",
    "We recur for two subproblems.\n",
    "1) If the last digit is non-zero, \n",
    "    recur for remaining (n-1) digits and add the result to total count.\n",
    "2) If the last two digits form a valid character (or smaller than 27), \n",
    "    recur for remaining (n-2) digits and add the result to total count.\n",
    "\n",
    "Following is the implementation of the above approach.\n",
    "*/"
   ]
  },
  {
   "cell_type": "code",
   "execution_count": 13,
   "metadata": {},
   "outputs": [
    {
     "name": "stdout",
     "output_type": "stream",
     "text": [
      "Count is 3"
     ]
    }
   ],
   "source": [
    "// Given a digit sequence of length n, \n",
    "// returns count of possible decodings by \n",
    "// replacing 1 with A, 2 woth B, ... 26 with Z \n",
    "static int countDecoding(char[] digits, int n)  \n",
    "{ \n",
    "    // base cases \n",
    "    if (n == 0 || n == 1) \n",
    "    return 1; \n",
    "    if(digits[0]=='0')   //for base condition \"01123\" should return 0  \n",
    "          return 0; \n",
    "  \n",
    "    // Initialize count \n",
    "    int count = 0;  \n",
    "  \n",
    "    // If the last digit is not 0, then  \n",
    "    // last digit must add to \n",
    "    // the number of words \n",
    "    if (digits[n - 1] > '0') \n",
    "    count = countDecoding(digits, n - 1); \n",
    "  \n",
    "    // If the last two digits form a number \n",
    "    // smaller than or equal to 26, \n",
    "    // then consider last two digits and recur \n",
    "    if (digits[n - 2] == '1' ||  \n",
    "       (digits[n - 2] == '2' && digits[n - 1] < '7')) \n",
    "    count += countDecoding(digits, n - 2); \n",
    "  \n",
    "    return count; \n",
    "} \n",
    "  \n",
    "// Driver program to test above function \n",
    "public static void main(String[] args)  \n",
    "{ \n",
    "    char digits[] = {'1', '2', '3', '4'}; \n",
    "    int n = digits.length; \n",
    "    System.out.printf(\"Count is %d\", countDecoding(digits, n)); \n",
    "} \n",
    "main(args);"
   ]
  },
  {
   "cell_type": "code",
   "execution_count": 14,
   "metadata": {},
   "outputs": [],
   "source": [
    "/*\n",
    "The time complexity of above the code is exponential. \n",
    "If we take a closer look at the above program, \n",
    "    we can observe that the recursive solution is similar to Fibonacci Numbers. \n",
    "\n",
    "Therefore, \n",
    "    we can optimize the above solution to work in O(n) time using Dynamic Programming.\n",
    "*/"
   ]
  },
  {
   "cell_type": "code",
   "execution_count": 15,
   "metadata": {},
   "outputs": [
    {
     "name": "stdout",
     "output_type": "stream",
     "text": [
      "Count is 3\n"
     ]
    }
   ],
   "source": [
    "// A Dynamic Programming based  \n",
    "// function to count decodings \n",
    "static int countDecodingDP(char digits[],  \n",
    "                           int n) \n",
    "{ \n",
    "    // A table to store results of subproblems \n",
    "    int count[] = new int[n + 1];  \n",
    "    count[0] = 1; \n",
    "    count[1] = 1; \n",
    "    if(digits[0]=='0')   //for base condition \"01123\" should return 0  \n",
    "          return 0; \n",
    "    for (int i = 2; i <= n; i++) \n",
    "    { \n",
    "        count[i] = 0; \n",
    "  \n",
    "        // If the last digit is not 0,  \n",
    "        // then last digit must add to \n",
    "        // the number of words \n",
    "        if (digits[i - 1] > '0') \n",
    "            count[i] = count[i - 1]; \n",
    "  \n",
    "        // If second last digit is smaller \n",
    "        // than 2 and last digit is smaller \n",
    "        // than 7, then last two digits  \n",
    "        // form a valid character \n",
    "        if (digits[i - 2] == '1' || \n",
    "           (digits[i - 2] == '2' &&  \n",
    "            digits[i - 1] < '7')) \n",
    "            count[i] += count[i - 2]; \n",
    "    } \n",
    "    return count[n]; \n",
    "} \n",
    "  \n",
    "// Driver Code \n",
    "public static void main (String[] args)  \n",
    "{ \n",
    "    char digits[] = {'1','2','3','4'}; \n",
    "    int n = digits.length; \n",
    "    System.out.println(\"Count is \" +  \n",
    "               countDecodingDP(digits, n)); \n",
    "} \n",
    "main(args);"
   ]
  },
  {
   "cell_type": "code",
   "execution_count": 16,
   "metadata": {},
   "outputs": [],
   "source": [
    "/*\n",
    "Time Complexity of the above solution is O(n) and it requires O(n) auxiliary space. \n",
    "We can reduce auxiliary space to O(1) by using space optimized version \n",
    "discussed in the Fibonacci Number Post (given below link).\n",
    "*/"
   ]
  },
  {
   "cell_type": "markdown",
   "metadata": {},
   "source": [
    "***https://www.geeksforgeeks.org/program-for-nth-fibonacci-number/***"
   ]
  },
  {
   "cell_type": "markdown",
   "metadata": {},
   "source": [
    "## **229. Perfect Sum Problem (Print all subsets with given sum)**\n",
    "https://www.geeksforgeeks.org/perfect-sum-problem-print-subsets-given-sum/"
   ]
  },
  {
   "cell_type": "code",
   "execution_count": 17,
   "metadata": {},
   "outputs": [],
   "source": [
    "/*\n",
    "Given an array of integers and a sum, \n",
    "the task is to print all subsets of given array with sum equal to given sum.\n",
    "\n",
    "Examples:\n",
    "\n",
    "Input : arr[] = {2, 3, 5, 6, 8, 10}\n",
    "        sum = 10\n",
    "Output : 5 2 3\n",
    "         2 8\n",
    "         10\n",
    "\n",
    "Input : arr[] = {1, 2, 3, 4, 5}\n",
    "        sum = 10\n",
    "Output : 4 3 2 1 \n",
    "         5 3 2 \n",
    "         5 4 1 \n",
    "*/"
   ]
  },
  {
   "cell_type": "code",
   "execution_count": 18,
   "metadata": {},
   "outputs": [],
   "source": [
    "/*\n",
    "This problem is mainly an extension of Subset Sum Problem.(Link given below) \n",
    "Here we not only need to find if there is a subset with given sum, \n",
    "    but also need to print all subsets with given sum.\n",
    "\n",
    "Like (In Link given below), we build a 2D array dp[][] \n",
    "such that dp[i][j] stores true if sum j is possible with array elements from 0 to i.\n",
    "After filling dp[][], we recursively traverse it from dp[n-1][sum]. \n",
    "\n",
    "For cell being traversed, we store path before reaching it and consider two possibilities for the element.\n",
    "1) Element is included in current path.\n",
    "2) Element is not included in current path.\n",
    "\n",
    "Whenever sum becomes 0, we stop the recursive calls and print current path.\n",
    "*/"
   ]
  },
  {
   "cell_type": "markdown",
   "metadata": {},
   "source": [
    "***https://www.geeksforgeeks.org/subset-sum-problem-dp-25/***"
   ]
  },
  {
   "cell_type": "code",
   "execution_count": 19,
   "metadata": {},
   "outputs": [],
   "source": [
    "// dp[i][j] is going to store true if sum j is \n",
    "// possible with array elements from 0 to i. \n",
    "static boolean[][] dp; \n",
    "\n",
    "static void display(ArrayList<Integer> v) \n",
    "{ \n",
    "   System.out.println(v); \n",
    "} "
   ]
  },
  {
   "cell_type": "code",
   "execution_count": 20,
   "metadata": {},
   "outputs": [],
   "source": [
    "// A recursive function to print all subsets with the \n",
    "// help of dp[][]. Vector p[] stores current subset. \n",
    "static void printSubsetsRec(int arr[], int i, int sum,  \n",
    "                                     ArrayList<Integer> p) \n",
    "{ \n",
    "    // If we reached end and sum is non-zero. We print \n",
    "    // p[] only if arr[0] is equal to sun OR dp[0][sum] \n",
    "    // is true. \n",
    "    if (i == 0 && sum != 0 && dp[0][sum]) \n",
    "    { \n",
    "        p.add(arr[i]); \n",
    "        display(p); \n",
    "        p.clear(); \n",
    "        return; \n",
    "    } \n",
    "\n",
    "    // If sum becomes 0 \n",
    "    if (i == 0 && sum == 0) \n",
    "    { \n",
    "        display(p); \n",
    "        p.clear(); \n",
    "        return; \n",
    "    } \n",
    "\n",
    "    // If given sum can be achieved after ignoring \n",
    "    // current element. \n",
    "    if (dp[i-1][sum]) \n",
    "    { \n",
    "        // Create a new vector to store path \n",
    "        ArrayList<Integer> b = new ArrayList<>(); \n",
    "        b.addAll(p); \n",
    "        printSubsetsRec(arr, i-1, sum, b); \n",
    "    } \n",
    "\n",
    "    // If given sum can be achieved after considering \n",
    "    // current element. \n",
    "    if (sum >= arr[i] && dp[i-1][sum-arr[i]]) \n",
    "    { \n",
    "        p.add(arr[i]); \n",
    "        printSubsetsRec(arr, i-1, sum-arr[i], p); \n",
    "    } \n",
    "} "
   ]
  },
  {
   "cell_type": "code",
   "execution_count": 21,
   "metadata": {},
   "outputs": [],
   "source": [
    "// Prints all subsets of arr[0..n-1] with sum 0. \n",
    "static void printAllSubsets(int arr[], int n, int sum) \n",
    "{ \n",
    "    if (n == 0 || sum < 0) \n",
    "       return; \n",
    "\n",
    "    // Sum 0 can always be achieved with 0 elements \n",
    "    dp = new boolean[n][sum + 1]; \n",
    "    for (int i=0; i<n; ++i) \n",
    "    { \n",
    "        dp[i][0] = true;   \n",
    "    } \n",
    "\n",
    "    // Sum arr[0] can be achieved with single element \n",
    "    if (arr[0] <= sum) \n",
    "       dp[0][arr[0]] = true; \n",
    "\n",
    "    // Fill rest of the entries in dp[][] \n",
    "    for (int i = 1; i < n; ++i) \n",
    "        for (int j = 0; j < sum + 1; ++j) \n",
    "            dp[i][j] = (arr[i] <= j) ? (dp[i-1][j] || \n",
    "                                       dp[i-1][j-arr[i]]) \n",
    "                                     : dp[i - 1][j]; \n",
    "    if (dp[n-1][sum] == false) \n",
    "    { \n",
    "        System.out.println(\"There are no subsets with\" +  \n",
    "                                              \" sum \"+ sum); \n",
    "        return; \n",
    "    } \n",
    "\n",
    "    // Now recursively traverse dp[][] to find all \n",
    "    // paths from dp[n-1][sum] \n",
    "    ArrayList<Integer> p = new ArrayList<>(); \n",
    "    printSubsetsRec(arr, n-1, sum, p); \n",
    "} "
   ]
  },
  {
   "cell_type": "code",
   "execution_count": 22,
   "metadata": {},
   "outputs": [
    {
     "name": "stdout",
     "output_type": "stream",
     "text": [
      "[4, 3, 2, 1]\n",
      "[5, 3, 2]\n",
      "[5, 4, 1]\n"
     ]
    }
   ],
   "source": [
    "//Driver Program to test above functions \n",
    "public static void main(String args[]) \n",
    "{ \n",
    "    int arr[] = {1, 2, 3, 4, 5}; \n",
    "    int n = arr.length; \n",
    "    int sum = 10; \n",
    "    printAllSubsets(arr, n, sum); \n",
    "} \n",
    "main(args);"
   ]
  },
  {
   "cell_type": "markdown",
   "metadata": {},
   "source": [
    "## **230. Vertex Cover Problem | Set 2 (Dynamic Programming Solution for Tree)**\n",
    "https://www.geeksforgeeks.org/vertex-cover-problem-set-2-dynamic-programming-solution-tree/"
   ]
  },
  {
   "cell_type": "code",
   "execution_count": 23,
   "metadata": {},
   "outputs": [],
   "source": [
    "/*\n",
    "A vertex cover of an undirected graph is a subset of its vertices \n",
    "    such that for every edge (u, v) of the graph, either ‘u’ or ‘v’ is in vertex cover. \n",
    "Although the name is Vertex Cover, the set covers all edges of the given graph.\n",
    "\n",
    "The problem to find minimum size vertex cover of a graph is NP complete. \n",
    "But it can be solved in polynomial time for trees. \n",
    "\n",
    "In this post a solution for Binary Tree is discussed. \n",
    "    The same solution can be extended for n-ary trees.\n",
    "\n",
    "For example, consider the following binary tree. \n",
    "\n",
    "The smallest vertex cover is {20, 50, 30} and size of the vertex cover is 3.\n",
    "*/"
   ]
  },
  {
   "cell_type": "markdown",
   "metadata": {},
   "source": [
    "<img src = \"https://media.geeksforgeeks.org/wp-content/cdn-uploads/LargestIndependentSet11.png\"/>"
   ]
  },
  {
   "cell_type": "code",
   "execution_count": 24,
   "metadata": {},
   "outputs": [],
   "source": [
    "/*\n",
    "The idea is to consider following two possibilities for root and recursively for all nodes down the root.\n",
    "\n",
    "1) Root is part of vertex cover: \n",
    "    In this case \n",
    "        root covers all children edges. \n",
    "    We recursively calculate size of vertex covers for left and right subtrees and add 1 to the result \n",
    "    (for root).\n",
    "\n",
    "2) Root is not part of vertex cover: \n",
    "    In this case, \n",
    "        both children of root must be included in vertex cover to cover all root to children edges. \n",
    "    We recursively calculate size of vertex covers of all grandchildren and number of children to the result \n",
    "    (for two children of root).\n",
    "\n",
    "Below are implementation of above idea.\n",
    "*/"
   ]
  },
  {
   "cell_type": "code",
   "execution_count": 25,
   "metadata": {},
   "outputs": [],
   "source": [
    "/* \n",
    "* A binary tree node has data, pointer \n",
    "to left child and a pointer to right \n",
    "* child \n",
    "*/\n",
    "static class node  \n",
    "{ \n",
    "    int data; \n",
    "    node left, right; \n",
    "}; "
   ]
  },
  {
   "cell_type": "code",
   "execution_count": 26,
   "metadata": {},
   "outputs": [],
   "source": [
    "// The function returns size  \n",
    "// of the minimum vertex cover \n",
    "static int vCover(node root)  \n",
    "{ \n",
    "    // The size of minimum vertex cover \n",
    "    // is zero if tree is empty or there \n",
    "    // is only one node \n",
    "    if (root == null) \n",
    "        return 0; \n",
    "    if (root.left == null && root.right == null) \n",
    "        return 0; \n",
    "\n",
    "    // Calculate size of vertex cover \n",
    "    // when root is part of it \n",
    "    int size_incl = 1 + vCover(root.left) +  \n",
    "                           vCover(root.right); \n",
    "\n",
    "    // Calculate size of vertex cover \n",
    "    // when root is not part of it \n",
    "    int size_excl = 0; \n",
    "    if (root.left != null) \n",
    "        size_excl += 1 + vCover(root.left.left) +  \n",
    "                          vCover(root.left.right); \n",
    "    if (root.right != null) \n",
    "        size_excl += 1 + vCover(root.right.left) +  \n",
    "                            vCover(root.right.right); \n",
    "\n",
    "    // Return the minimum of two sizes \n",
    "    return Math.min(size_incl, size_excl); \n",
    "} "
   ]
  },
  {
   "cell_type": "code",
   "execution_count": 27,
   "metadata": {},
   "outputs": [],
   "source": [
    "// A utility function to create a node \n",
    "static node newNode(int data)  \n",
    "{ \n",
    "    node temp = new node(); \n",
    "    temp.data = data; \n",
    "    temp.left = temp.right = null; \n",
    "    return temp; \n",
    "}"
   ]
  },
  {
   "cell_type": "code",
   "execution_count": 28,
   "metadata": {},
   "outputs": [
    {
     "name": "stdout",
     "output_type": "stream",
     "text": [
      "Size of the smallest vertexcover is 3 "
     ]
    }
   ],
   "source": [
    "// Driver code \n",
    "public static void main(String[] args)  \n",
    "{ \n",
    "    // Let us conthe tree given in the above diagram \n",
    "    node root = newNode(20); \n",
    "    root.left = newNode(8); \n",
    "    root.left.left = newNode(4); \n",
    "    root.left.right = newNode(12); \n",
    "    root.left.right.left = newNode(10); \n",
    "    root.left.right.right = newNode(14); \n",
    "    root.right = newNode(22); \n",
    "    root.right.right = newNode(25); \n",
    "\n",
    "    System.out.printf(\"Size of the smallest vertex\" +  \n",
    "                        \"cover is %d \", vCover(root)); \n",
    "\n",
    "} \n",
    "main(args);"
   ]
  },
  {
   "cell_type": "code",
   "execution_count": 29,
   "metadata": {},
   "outputs": [],
   "source": [
    "/*\n",
    "Time complexity of the above naive recursive approach is exponential. \n",
    "\n",
    "It should be noted that the above function computes the same subproblems again and again. \n",
    "For example, \n",
    "    vCover of node with value 50 is evaluated twice as 50 is grandchild of 10 and child of 20.\n",
    "\n",
    "Since same suproblems are called again, \n",
    "this problem has Overlapping Subprolems property. \n",
    "So Vertex Cover problem has both properties of a dynamic programming problem. \n",
    "Like other typical Dynamic Programming(DP) problems, \n",
    "    re-computations of same subproblems can be avoided by storing the solutions to subproblems \n",
    "    and solving problems in bottom up manner.\n",
    "\n",
    "Following is the implementation of Dynamic Programming based solution. \n",
    "In the following solution, \n",
    "    an additional field ‘vc’ is added to tree nodes. \n",
    "The initial value of ‘vc’ is set as 0 for all nodes. \n",
    "The recursive function vCover() calculates ‘vc’ for a node only if it is not already set.\n",
    "*/"
   ]
  },
  {
   "cell_type": "code",
   "execution_count": 30,
   "metadata": {},
   "outputs": [],
   "source": [
    "/* \n",
    "* A binary tree node has data, pointer  \n",
    "to left child and a pointer to right \n",
    "* child \n",
    "*/\n",
    "static class node  \n",
    "{ \n",
    "    int data; \n",
    "    int vc; \n",
    "    node left, right; \n",
    "};"
   ]
  },
  {
   "cell_type": "code",
   "execution_count": 31,
   "metadata": {},
   "outputs": [],
   "source": [
    "// A memoization based function that returns \n",
    "// size of the minimum vertex cover. \n",
    "static int vCover(node root) \n",
    "{ \n",
    "    // The size of minimum vertex cover is zero \n",
    "    //  if tree is empty or there is only one node \n",
    "    if (root == null) \n",
    "        return 0; \n",
    "    if (root.left == null && root.right == null) \n",
    "        return 0; \n",
    "\n",
    "    // If vertex cover for this node is  \n",
    "    // already evaluated, then return it \n",
    "    // to save recomputation of same subproblem again. \n",
    "    if (root.vc != 0) \n",
    "        return root.vc; \n",
    "\n",
    "    // Calculate size of vertex cover  \n",
    "    // when root is part of it \n",
    "    int size_incl = 1 + vCover(root.left) +  \n",
    "                        vCover(root.right); \n",
    "\n",
    "    // Calculate size of vertex cover \n",
    "    // when root is not part of it \n",
    "    int size_excl = 0; \n",
    "    if (root.left != null) \n",
    "        size_excl += 1 + vCover(root.left.left) +  \n",
    "                            vCover(root.left.right); \n",
    "    if (root.right != null) \n",
    "        size_excl += 1 + vCover(root.right.left) + \n",
    "                            vCover(root.right.right); \n",
    "\n",
    "    // Minimum of two values is vertex cover,  \n",
    "    // store it before returning \n",
    "    root.vc = Math.min(size_incl, size_excl); \n",
    "\n",
    "    return root.vc; \n",
    "} "
   ]
  },
  {
   "cell_type": "code",
   "execution_count": 32,
   "metadata": {},
   "outputs": [],
   "source": [
    "// A utility function to create a node \n",
    "static node newNode(int data) \n",
    "{ \n",
    "    node temp = new node(); \n",
    "    temp.data = data; \n",
    "    temp.left = temp.right = null; \n",
    "    temp.vc = 0; // Set the vertex cover as 0 \n",
    "    return temp; \n",
    "} "
   ]
  },
  {
   "cell_type": "code",
   "execution_count": 33,
   "metadata": {},
   "outputs": [
    {
     "name": "stdout",
     "output_type": "stream",
     "text": [
      "Size of the smallest vertexcover is 3 "
     ]
    }
   ],
   "source": [
    "// Driver code \n",
    "public static void main(String[] args) \n",
    "{ \n",
    "    // Let us conthe tree given in the above diagram \n",
    "    node root = newNode(20); \n",
    "    root.left = newNode(8); \n",
    "    root.left.left = newNode(4); \n",
    "    root.left.right = newNode(12); \n",
    "    root.left.right.left = newNode(10); \n",
    "    root.left.right.right = newNode(14); \n",
    "    root.right = newNode(22); \n",
    "    root.right.right = newNode(25); \n",
    "\n",
    "    System.out.printf(\"Size of the smallest vertex\" +  \n",
    "                        \"cover is %d \", vCover(root)); \n",
    "}\n",
    "main(args);"
   ]
  },
  {
   "cell_type": "markdown",
   "metadata": {},
   "source": [
    "**Reference :**  ***http://courses.csail.mit.edu/6.006/spring11/lectures/lec21.pdf***"
   ]
  },
  {
   "cell_type": "markdown",
   "metadata": {},
   "source": [
    "## **231. Longest Even Length Substring such that Sum of First and Second Half is same**\n",
    "https://www.geeksforgeeks.org/longest-even-length-substring-sum-first-second-half/"
   ]
  },
  {
   "cell_type": "code",
   "execution_count": 34,
   "metadata": {},
   "outputs": [],
   "source": [
    "/*\n",
    "Given a string ‘str’ of digits, \n",
    "find the length of the longest substring of ‘str’, \n",
    "    such that the length of the substring is 2k digits \n",
    "    and sum of left k digits is equal to the sum of right k digits.\n",
    "*/"
   ]
  },
  {
   "cell_type": "code",
   "execution_count": 35,
   "metadata": {},
   "outputs": [],
   "source": [
    "/*\n",
    "Examples :\n",
    "\n",
    "Input: str = \"123123\"\n",
    "Output: 6\n",
    "The complete string is of even length and sum of first and second\n",
    "half digits is same\n",
    "\n",
    "Input: str = \"1538023\"\n",
    "Output: 4\n",
    "The longest substring with same first and second half sum is \"5380\"\n",
    "*/"
   ]
  },
  {
   "cell_type": "code",
   "execution_count": 36,
   "metadata": {},
   "outputs": [],
   "source": [
    "/*\n",
    "Simple Solution [ O(n^3) ]\n",
    "\n",
    "A Simple Solution is to check every substring of even length. \n",
    "The following is the implementation of simple approach.\n",
    "*/"
   ]
  },
  {
   "cell_type": "code",
   "execution_count": 37,
   "metadata": {},
   "outputs": [
    {
     "name": "stdout",
     "output_type": "stream",
     "text": [
      "Length of the substring is 4\n"
     ]
    }
   ],
   "source": [
    "static int findLength(String str) \n",
    "{ \n",
    "    int n = str.length(); \n",
    "    int maxlen = 0; // Initialize result \n",
    "  \n",
    "    // Choose starting point of every  \n",
    "    // substring \n",
    "    for (int i = 0; i < n; i++) \n",
    "    { \n",
    "        // Choose ending point of even  \n",
    "        // length substring \n",
    "        for (int j = i + 1; j < n; j += 2) \n",
    "        {    \n",
    "            // Find length of current substr \n",
    "            int length = j - i + 1; \n",
    "  \n",
    "            // Calculate left & right sums \n",
    "            // for current substr \n",
    "            int leftsum = 0, rightsum = 0; \n",
    "            for (int k = 0; k < length/2; k++) \n",
    "            { \n",
    "                leftsum += (str.charAt(i + k) - '0'); \n",
    "                rightsum += (str.charAt(i + k + length/2) - '0'); \n",
    "            } \n",
    "  \n",
    "            // Update result if needed \n",
    "            if (leftsum == rightsum && maxlen < length) \n",
    "                    maxlen = length; \n",
    "        } \n",
    "    } \n",
    "    return maxlen; \n",
    "} \n",
    "  \n",
    "// Driver program to test above function \n",
    "public static void main(String[] args) \n",
    "{ \n",
    "    String str = \"1538023\"; \n",
    "    System.out.println(\"Length of the substring is \" \n",
    "                       + findLength(str)); \n",
    "} \n",
    "main(args);"
   ]
  },
  {
   "cell_type": "code",
   "execution_count": 38,
   "metadata": {},
   "outputs": [],
   "source": [
    "/*\n",
    "Dynamic Programming [ O(n2) and O(n2) extra space]\n",
    "\n",
    "The above solution can be optimized to work in O(n2) using Dynamic Programming. \n",
    "The idea is to build a 2D table that stores sums of substrings. \n",
    "The following is the implementation of Dynamic Programming approach.\n",
    "*/"
   ]
  },
  {
   "cell_type": "code",
   "execution_count": 39,
   "metadata": {},
   "outputs": [],
   "source": [
    "static int findLength(String str) \n",
    "{ \n",
    "    int n = str.length(); \n",
    "    int maxlen = 0; // Initialize result \n",
    "  \n",
    "    // A 2D table where sum[i][j] stores  \n",
    "    // sum of digits from str[i] to str[j].  \n",
    "    // Only filled entries are the entries \n",
    "    // where j >= i \n",
    "    int sum[][] = new int[n][n]; \n",
    "  \n",
    "    // Fill the diagonal values for  \n",
    "    // substrings of length 1 \n",
    "    for (int i = 0; i < n; i++) \n",
    "        sum[i][i] = str.charAt(i) - '0'; \n",
    "  \n",
    "    // Fill entries for substrings of \n",
    "    // length 2 to n \n",
    "    for (int len = 2; len <= n; len++) \n",
    "    { \n",
    "        // Pick i and j for current substring \n",
    "        for (int i = 0; i < n - len + 1; i++) \n",
    "        { \n",
    "            int j = i + len - 1; \n",
    "            int k = len/2; \n",
    "  \n",
    "            // Calculate value of sum[i][j] \n",
    "            sum[i][j] = sum[i][j-k] + \n",
    "                        sum[j-k+1][j]; \n",
    "  \n",
    "            // Update result if 'len' is even, \n",
    "            // left and right sums are same \n",
    "            // and len is more than maxlen \n",
    "            if (len % 2 == 0 && sum[i][j-k] ==  \n",
    "                sum[(j-k+1)][j] && len > maxlen) \n",
    "                maxlen = len; \n",
    "        } \n",
    "    } \n",
    "    return maxlen; \n",
    "} "
   ]
  },
  {
   "cell_type": "code",
   "execution_count": 40,
   "metadata": {},
   "outputs": [
    {
     "name": "stdout",
     "output_type": "stream",
     "text": [
      "Length of the substring is 4\n"
     ]
    }
   ],
   "source": [
    "// Driver program to test above function \n",
    "public static void main(String[] args) \n",
    "{ \n",
    "    String str = \"153803\"; \n",
    "    System.out.println(\"Length of the substring is \"\n",
    "                       + findLength(str)); \n",
    "} \n",
    "main(args);"
   ]
  },
  {
   "cell_type": "code",
   "execution_count": 41,
   "metadata": {},
   "outputs": [],
   "source": [
    "/*\n",
    "[A O(n^2) and O(n) extra space solution]\n",
    "\n",
    "The idea is to use a single dimensional array to store cumulative sum.\n",
    "*/"
   ]
  },
  {
   "cell_type": "code",
   "execution_count": 42,
   "metadata": {},
   "outputs": [
    {
     "name": "stdout",
     "output_type": "stream",
     "text": [
      "Length of the substring is 6\n"
     ]
    }
   ],
   "source": [
    "static int findLength(String str, int n) \n",
    "{    \n",
    "    // To store cumulative sum from \n",
    "    // first digit to nth digit \n",
    "    int sum[] = new int[ n + 1];  \n",
    "    sum[0] = 0; \n",
    "  \n",
    "    /* Store cumulative sum of digits  \n",
    "    from first to last digit */\n",
    "    for (int i = 1; i <= n; i++) \n",
    "          \n",
    "        /* convert chars to int */\n",
    "        sum[i] = (sum[i-1] + str.charAt(i-1)  \n",
    "                                    - '0');  \n",
    "  \n",
    "    int ans = 0; // initialize result \n",
    "  \n",
    "    /* consider all even length  \n",
    "    substrings one by one */\n",
    "    for (int len = 2; len <= n; len += 2) \n",
    "    { \n",
    "        for (int i = 0; i <= n-len; i++) \n",
    "        { \n",
    "            int j = i + len - 1; \n",
    "  \n",
    "            /* Sum of first and second half  \n",
    "            is same than update ans */\n",
    "            if (sum[i+len/2] - sum[i] == sum[i+len] \n",
    "                                   - sum[i+len/2]) \n",
    "                ans = Math.max(ans, len); \n",
    "        } \n",
    "    } \n",
    "    return ans; \n",
    "} \n",
    "  \n",
    "// Driver program to test above function \n",
    "public static void main(String[] args) \n",
    "{ \n",
    "    String str = \"123123\"; \n",
    "    System.out.println(\"Length of the substring is \" \n",
    "                    + findLength(str, str.length())); \n",
    "} \n",
    "main(args);"
   ]
  },
  {
   "cell_type": "code",
   "execution_count": 43,
   "metadata": {},
   "outputs": [],
   "source": [
    "/*\n",
    "[A O(n2) time and O(1) extra space solution]\n",
    "\n",
    "The idea is to consider all possible mid points (of even length substrings) \n",
    "and keep expanding on both sides to get and update optimal length as the sum of two sides become equal.\n",
    "\n",
    "Below is the implementation of the above idea.\n",
    "*/"
   ]
  },
  {
   "cell_type": "code",
   "execution_count": 44,
   "metadata": {},
   "outputs": [
    {
     "name": "stdout",
     "output_type": "stream",
     "text": [
      "Length of the substring is 6\n"
     ]
    }
   ],
   "source": [
    "static int findLength(String str, int n) { \n",
    "    int ans = 0; // Initialize result \n",
    "\n",
    "    // Consider all possible midpoints one by one \n",
    "    for (int i = 0; i <= n - 2; i++) { \n",
    "        /* For current midpoint 'i', keep expanding substring on \n",
    "       both sides, if sum of both sides becomes equal update \n",
    "       ans */\n",
    "        int l = i, r = i + 1; \n",
    "\n",
    "        /* initialize left and right sum */\n",
    "        int lsum = 0, rsum = 0; \n",
    "\n",
    "        /* move on both sides till indexes go out of bounds */\n",
    "        while (r < n && l >= 0) { \n",
    "            lsum += str.charAt(l) - '0'; \n",
    "            rsum += str.charAt(r) - '0'; \n",
    "            if (lsum == rsum) { \n",
    "                ans = Math.max(ans, r - l + 1); \n",
    "            } \n",
    "            l--; \n",
    "            r++; \n",
    "        } \n",
    "    } \n",
    "    return ans; \n",
    "} \n",
    "\n",
    "// Driver program to test above function \n",
    "static public void main(String[] args) { \n",
    "    String str = \"123123\"; \n",
    "    System.out.println(\"Length of the substring is \"\n",
    "            + findLength(str, str.length())); \n",
    "} \n",
    "main(args);"
   ]
  },
  {
   "cell_type": "markdown",
   "metadata": {},
   "source": [
    "## **232. Count possible ways to construct buildings**\n",
    "https://www.geeksforgeeks.org/count-possible-ways-to-construct-buildings/"
   ]
  },
  {
   "cell_type": "code",
   "execution_count": 45,
   "metadata": {},
   "outputs": [],
   "source": [
    "/*\n",
    "Given an input number of sections and each section has 2 plots on either sides of the road. \n",
    "Find all possible ways to construct buildings in the plots \n",
    "    such that there is a space between any 2 buildings.\n",
    "*/"
   ]
  },
  {
   "cell_type": "code",
   "execution_count": 46,
   "metadata": {},
   "outputs": [],
   "source": [
    "/*\n",
    "Example :\n",
    "\n",
    "N = 1\n",
    "Output = 4\n",
    "Place a building on one side.\n",
    "Place a building on other side\n",
    "Do not place any building.\n",
    "Place a building on both sides.\n",
    "\n",
    "N = 3 \n",
    "Output = 25\n",
    "3 sections, which means possible ways for one side are \n",
    "BSS, BSB, SSS, SBS, SSB where B represents a building \n",
    "and S represents an empty space\n",
    "Total possible ways are 25, because a way to place on \n",
    "one side can correspond to any of 5 ways on other side.\n",
    "\n",
    "N = 4 \n",
    "Output = 64\n",
    "*/"
   ]
  },
  {
   "cell_type": "code",
   "execution_count": 47,
   "metadata": {},
   "outputs": [],
   "source": [
    "/*\n",
    "We can simplify the problem to first calculate for one side only. \n",
    "If we know the result for one side, \n",
    "    we can always do square of the result and get result for two sides.\n",
    "\n",
    "A new building can be placed on a section \n",
    "    if section just before it has space. \n",
    "A space can be placed anywhere (it doesn’t matter whether the previous section has a building or not).\n",
    "*/"
   ]
  },
  {
   "cell_type": "code",
   "execution_count": 48,
   "metadata": {},
   "outputs": [],
   "source": [
    "/*\n",
    "Let countB(i) be count of possible ways with i sections\n",
    "              ending with a building.\n",
    "    countS(i) be count of possible ways with i sections\n",
    "              ending with a space.\n",
    "\n",
    "// A space can be added after a building or after a space.\n",
    "countS(N) = countB(N-1) + countS(N-1)\n",
    "\n",
    "// A building can only be added after a space.\n",
    "countB[N] = countS(N-1)\n",
    "\n",
    "// Result for one side is sum of the above two counts.\n",
    "result1(N) = countS(N) + countB(N)\n",
    "\n",
    "// Result for two sides is square of result1(N)\n",
    "result2(N) = result1(N) * result1(N)\n",
    "*/"
   ]
  },
  {
   "cell_type": "code",
   "execution_count": 49,
   "metadata": {},
   "outputs": [
    {
     "name": "stdout",
     "output_type": "stream",
     "text": [
      "Count of ways for 3 sections is 25\n"
     ]
    }
   ],
   "source": [
    "// Returns count of possible ways for N sections \n",
    "static int countWays(int N) \n",
    "{ \n",
    "    // Base case \n",
    "    if (N == 1) \n",
    "        return 4;  // 2 for one side and 4 for two sides \n",
    "\n",
    "    // countB is count of ways with a building at the end \n",
    "    // countS is count of ways with a space at the end \n",
    "    // prev_countB and prev_countS are previous values of \n",
    "    // countB and countS respectively. \n",
    "\n",
    "    // Initialize countB and countS for one side \n",
    "    int countB=1, countS=1, prev_countB, prev_countS; \n",
    "\n",
    "    // Use the above recursive formula for calculating \n",
    "    // countB and countS using previous values \n",
    "    for (int i=2; i<=N; i++) \n",
    "    { \n",
    "        prev_countB = countB; \n",
    "        prev_countS = countS; \n",
    "\n",
    "        countS = prev_countB + prev_countS; \n",
    "        countB = prev_countS; \n",
    "    } \n",
    "\n",
    "    // Result for one side is sum of ways ending with building \n",
    "    // and ending with space \n",
    "    int result = countS + countB; \n",
    "\n",
    "    // Result for 2 sides is square of result for one side \n",
    "    return (result*result); \n",
    "} \n",
    "\n",
    "\n",
    "public static void main(String args[]) \n",
    "{ \n",
    "    int N = 3; \n",
    "    System.out.println(\"Count of ways for \"+ N+\" sections is \"\n",
    "                                                    +countWays(N)); \n",
    "} \n",
    "main(args);"
   ]
  },
  {
   "cell_type": "code",
   "execution_count": 50,
   "metadata": {},
   "outputs": [],
   "source": [
    "/*\n",
    "Time complexity: O(N)\n",
    "Auxiliary Space: O(1)\n",
    "\n",
    "Optimized Solution:\n",
    "Note that the above solution can be further optimized. \n",
    "If we take closer look at the results, for different values, we can notice that the results for two sides are squares of Fibonacci Numbers.\n",
    "\n",
    "N = 1, result = 4 [result for one side = 2]\n",
    "N = 2, result = 9 [result for one side = 3]\n",
    "N = 3, result = 25 [result for one side = 5]\n",
    "N = 4, result = 64 [result for one side = 8]\n",
    "N = 5, result = 169 [result for one side = 13]\n",
    "…………………….\n",
    "…………………….\n",
    "\n",
    "In general, we can say\n",
    "\n",
    "  result(N) = fib(N+2)^2\n",
    "  \n",
    "  fib(N) is a function that returns N'th Fibonacci Number. \n",
    "   \n",
    "Therefore, we can use O(LogN) implementation of Fibonacci Numbers to find number of ways in O(logN) time.\n",
    "*/"
   ]
  },
  {
   "cell_type": "markdown",
   "metadata": {},
   "source": [
    "## **233. Bitmasking and Dynamic Programming | Set 1 (Count ways to assign unique cap to every person)**\n",
    "https://www.geeksforgeeks.org/bitmasking-and-dynamic-programming-set-1-count-ways-to-assign-unique-cap-to-every-person/"
   ]
  },
  {
   "cell_type": "code",
   "execution_count": 51,
   "metadata": {},
   "outputs": [],
   "source": [
    "/*\n",
    "There are 100 different types of caps each having a unique id from 1 to 100. \n",
    "Also, \n",
    "there are ‘n’ persons each having a collection of a variable number of caps. \n",
    "One day all of these persons decide to go in a party wearing a cap \n",
    "    but to look unique they decided that none of them will wear the same type of cap. \n",
    "So, \n",
    "    count the total number of arrangements or ways such that none of them is wearing the same type of cap.\n",
    "\n",
    "Constraints: 1 <= n <= 10\n",
    "*/"
   ]
  },
  {
   "cell_type": "code",
   "execution_count": 52,
   "metadata": {},
   "outputs": [],
   "source": [
    "/*\n",
    "Example:\n",
    "\n",
    "The first line contains the value of n, next n lines contain collections \n",
    "of all the n persons.\n",
    "Input: \n",
    "3\n",
    "5 100 1     // Collection of the first person.\n",
    "2           // Collection of the second person.\n",
    "5 100       // Collection of the third person.\n",
    "\n",
    "Output:\n",
    "4\n",
    "Explanation: All valid possible ways are (5, 2, 100),  (100, 2, 5),\n",
    "            (1, 2, 5) and  (1, 2, 100)\n",
    "            \n",
    "Since, number of ways could be large, so output modulo 1000000007\n",
    "*/"
   ]
  },
  {
   "cell_type": "code",
   "execution_count": 53,
   "metadata": {},
   "outputs": [],
   "source": [
    "/*\n",
    "A Simple Solution is to try all possible combinations. \n",
    "Start by picking the first element from the first set, \n",
    "    marking it as visited and recur for remaining sets. \n",
    "It is basically a Backtracking based solution.\n",
    "\n",
    "A better solution is to use Bitmasking and DP. \n",
    "Let us first introduce Bitmasking.\n",
    "*/"
   ]
  },
  {
   "cell_type": "code",
   "execution_count": 54,
   "metadata": {},
   "outputs": [],
   "source": [
    "/*\n",
    "What is Bitmasking?\n",
    "\n",
    "Suppose we have a collection of elements which are numbered from 1 to N. \n",
    "If we want to represent a subset of this set \n",
    "    then it can be encoded by a sequence of N bits (we usually call this sequence a “mask”). \n",
    "In our chosen subset the i-th element belongs to it \n",
    "    if and only if the i-th bit of the mask is set \n",
    "        i.e., it equals to 1. \n",
    "For example, \n",
    "    the mask 10000101 means that the subset of the set [1… 8] consists of elements 1, 3 and 8. \n",
    "We know that for a set of N elements there are total 2N subsets \n",
    "    thus 2N masks are possible, one representing each subset. \n",
    "Each mask is, in fact, an integer number written in binary notation.\n",
    "\n",
    "Our main methodology is to assign a value to each mask (and, therefore, to each subset) and \n",
    "thus calculate the values for new masks using values of the already computed masks. \n",
    "Usually our main target is to calculate value/solution for the complete set i.e., for mask 11111111. \n",
    "Normally, to find the value for a subset X we remove an element in every possible way \n",
    "and use values for obtained subsets X’1, X’2… ,X’k to compute the value/solution for X. \n",
    "\n",
    "This means that the values for X’i must have been computed already, \n",
    "    so we need to establish an ordering in which masks will be considered. \n",
    "It’s easy to see that the natural ordering will do: \n",
    "    go over masks in increasing order of corresponding numbers. \n",
    "Also, \n",
    "    We sometimes, start with the empty subset X and we add elements in every possible way \n",
    "    and use the values of obtained subsets X’1, X’2… ,X’k to compute the value/solution for X.\n",
    "*/"
   ]
  },
  {
   "cell_type": "code",
   "execution_count": 55,
   "metadata": {},
   "outputs": [],
   "source": [
    "/*\n",
    "We mostly use the following notations/operations on masks:\n",
    "bit(i, mask) – the i-th bit of mask\n",
    "count(mask) – the number of non-zero bits in the mask\n",
    "first(mask) – the number of the lowest non-zero bit in the mask\n",
    "set(i, mask) – set the ith bit in the mask\n",
    "check(i, mask) – check the ith bit in the mask\n",
    "*/"
   ]
  },
  {
   "cell_type": "code",
   "execution_count": 56,
   "metadata": {},
   "outputs": [],
   "source": [
    "/*\n",
    "How is this problem solved using Bitmasking + DP?\n",
    "\n",
    "The idea is to use the fact that there are upto 10 persons. \n",
    "So we can use an integer variable as a bitmask to store which person is wearing a cap and which is not.\n",
    "\n",
    "Let i be the current cap number (caps from 1 to i-1 are already processed). \n",
    "Let integer variable mask indicates that the persons wearing and not wearing caps.  \n",
    "If i'th bit is set in mask, \n",
    "    then i'th person is wearing a cap, \n",
    "else \n",
    "    not.\n",
    "\n",
    "// consider the case when ith cap is not included in the arrangement\n",
    "    \n",
    "countWays(mask, i) = countWays(mask, i+1) +             \n",
    "                    \n",
    "                    // when ith cap is included in the arrangement\n",
    "                    // so, assign this cap to all possible persons \n",
    "                    // one by one and recur for remaining persons.\n",
    "                    \n",
    "                    ∑ countWays(mask | (1 << j), i+1)\n",
    "                       for every person j that can wear cap i \n",
    " \n",
    "Note that the expression \"mask | (1 << j)\" sets j'th bit in mask.\n",
    "And a person can wear cap i if it is there in the person's cap list provided as input.\n",
    "\n",
    "If we draw the complete recursion tree, \n",
    "    we can observe that many subproblems are solved again and again. \n",
    "    \n",
    "So we use Dynamic Programming. \n",
    "\n",
    "A table dp[][] is used such that in every entry dp[i][j], i is mask and j is cap number.\n",
    "\n",
    "Since we want to access all persons that can wear a given cap, \n",
    "    we use an array of vectors, capList[101]. \n",
    "\n",
    "A value capList[i] indicates the list of persons that can wear cap i.\n",
    "\n",
    "Below is the implementation of above idea.\n",
    "*/"
   ]
  },
  {
   "cell_type": "code",
   "execution_count": 57,
   "metadata": {},
   "outputs": [],
   "source": [
    "static final int MOD = 1000000007; \n",
    "\n",
    "// capList[i]'th vector contains the list of persons having a cap with id i \n",
    "// id is between 1 to 100 so we declared an array of 101 vectors as indexing \n",
    "// starts from 0. \n",
    "static Vector<Integer> capList[] = new Vector[101]; \n",
    "\n",
    "\n",
    "// dp[2^10][101] .. in dp[i][j], i denotes the mask i.e., it tells that \n",
    "// how many and which persons are wearing cap. j denotes the first j caps \n",
    "// used. So, dp[i][j] tells the number ways we assign j caps to mask i \n",
    "// such that none of them wears the same cap \n",
    "static int dp[][] = new int[1025][101]; \n",
    "\n",
    "// This is used for base case, it has all the N bits set \n",
    "// so, it tells whether all N persons are wearing a cap. \n",
    "static int allmask; "
   ]
  },
  {
   "cell_type": "code",
   "execution_count": 58,
   "metadata": {},
   "outputs": [],
   "source": [
    "// Mask is the set of persons, i is cap-id (OR the  \n",
    "// number of caps processed starting from first cap). \n",
    "static long countWaysUtil(int mask, int i) \n",
    "{ \n",
    "    // If all persons are wearing a cap so we \n",
    "    // are done and this is one way so return 1 \n",
    "    if (mask == allmask) return 1; \n",
    "\n",
    "    // If not everyone is wearing a cap and also there are no more \n",
    "    // caps left to process, so there is no way, thus return 0; \n",
    "    if (i > 100) return 0; \n",
    "\n",
    "    // If we already have solved this subproblem, return the answer. \n",
    "    if (dp[mask][i] != -1) return dp[mask][i]; \n",
    "\n",
    "    // Ways, when we don't include this cap in our arrangement \n",
    "    // or solution set. \n",
    "    long ways = countWaysUtil(mask, i+1); \n",
    "\n",
    "    // size is the total number of persons having cap with id i. \n",
    "    int size = capList[i].size(); \n",
    "\n",
    "    // So, assign one by one ith cap to all the possible persons \n",
    "    // and recur for remaining caps. \n",
    "    for (int j = 0; j < size; j++) \n",
    "    { \n",
    "        // if person capList[i][j] is already wearing a cap so continue as \n",
    "        // we cannot assign him this cap \n",
    "        if ((mask & (1 << capList[i].get(j))) != 0) continue; \n",
    "\n",
    "        // Else assign him this cap and recur for remaining caps with \n",
    "        // new updated mask vector \n",
    "        else ways += countWaysUtil(mask | (1 << capList[i].get(j)), i+1); \n",
    "        ways %= MOD; \n",
    "    } \n",
    "\n",
    "    // Save the result and return it. \n",
    "    return dp[mask][i] = (int) ways; \n",
    "} "
   ]
  },
  {
   "cell_type": "code",
   "execution_count": 59,
   "metadata": {},
   "outputs": [],
   "source": [
    "// Reads n lines from standard input for current test case \n",
    "static void countWays(int n) throws Exception \n",
    "{ \n",
    "    //----------- READ INPUT -------------------------- \n",
    "    String str =\"\"; \n",
    "    String split[]; \n",
    "    int x; \n",
    "\n",
    "    for (int i=0; i<n; i++) \n",
    "    { \n",
    "        if(i ==0)\n",
    "            str = \"5 100 1\";\n",
    "        if(i == 1)\n",
    "            str = \"2\";\n",
    "        if(i == 2)\n",
    "            str = \"5 100\";\n",
    "        //str = br.readLine(); \n",
    "        split = str.split(\" \"); \n",
    "\n",
    "        // while there are words in the split[] \n",
    "        for (int j = 0; j < split.length; j++) { \n",
    "             // add the ith person in the list of cap if with id x \n",
    "            x = Integer.parseInt(split[j]); \n",
    "            capList[x].add(i); \n",
    "        } \n",
    "\n",
    "    } \n",
    "    //---------------------------------------------------- \n",
    "\n",
    "    // All mask is used to check of all persons \n",
    "    // are included or not, set all n bits as 1 \n",
    "    allmask = (1 << n) - 1; \n",
    "\n",
    "    // Initialize all entries in dp as -1 \n",
    "    for (int[] is : dp) { \n",
    "        for (int i = 0; i < is.length; i++) { \n",
    "            is[i] = -1; \n",
    "        } \n",
    "    } \n",
    "\n",
    "    // Call recursive function count ways \n",
    "    System.out.println(countWaysUtil(0, 1)); \n",
    "} "
   ]
  },
  {
   "cell_type": "code",
   "execution_count": 60,
   "metadata": {},
   "outputs": [
    {
     "name": "stdout",
     "output_type": "stream",
     "text": [
      "4\n"
     ]
    }
   ],
   "source": [
    "// Driver method \n",
    "public static void main(String args[]) throws Exception \n",
    "{ \n",
    "    int n = 3;   // number of persons in every test case \n",
    "\n",
    "    // initializing vector array \n",
    "    for (int i = 0; i < capList.length; i++) \n",
    "        capList[i] = new Vector<>(); \n",
    "\n",
    "    countWays(n); \n",
    "} \n",
    "main(args);"
   ]
  },
  {
   "cell_type": "markdown",
   "metadata": {},
   "source": [
    "## **234. Longest Repeating Subsequence**\n",
    "https://www.geeksforgeeks.org/longest-repeating-subsequence/"
   ]
  },
  {
   "cell_type": "code",
   "execution_count": 61,
   "metadata": {},
   "outputs": [],
   "source": [
    "/*\n",
    "Given a string, \n",
    "    find length of the longest repeating subseequence \n",
    "    such that the two subsequence don’t have same string character at same position, \n",
    "    i.e., any i’th character in the two subsequences shouldn’t have the same index in the original string.\n",
    "*/"
   ]
  },
  {
   "cell_type": "markdown",
   "metadata": {},
   "source": [
    "<img src = \"https://www.geeksforgeeks.org/wp-content/uploads/longest-repeating-subsequence.jpg\"/>"
   ]
  },
  {
   "cell_type": "code",
   "execution_count": 62,
   "metadata": {},
   "outputs": [],
   "source": [
    "/*\n",
    "Examples:\n",
    "\n",
    "Input: str = \"abc\"\n",
    "Output: 0\n",
    "There is no repeating subsequence\n",
    "\n",
    "Input: str = \"aab\"\n",
    "Output: 1\n",
    "The two subssequence are 'a'(first) and 'a'(second). \n",
    "Note that 'b' cannot be considered as part of subsequence \n",
    "as it would be at same index in both.\n",
    "\n",
    "Input: str = \"aabb\"\n",
    "Output: 2\n",
    "\n",
    "Input: str = \"axxxy\"\n",
    "Output: 2\n",
    "*/"
   ]
  },
  {
   "cell_type": "code",
   "execution_count": 63,
   "metadata": {},
   "outputs": [],
   "source": [
    "/*\n",
    "This problem is just the modification of Longest Common Subsequence problem. \n",
    "The idea is to \n",
    "    find the LCS(str, str) where str is the input string with the restriction that when both the characters are same, \n",
    "    they shouldn’t be on the same index in the two strings.\n",
    "*/"
   ]
  },
  {
   "cell_type": "code",
   "execution_count": 64,
   "metadata": {},
   "outputs": [
    {
     "name": "stdout",
     "output_type": "stream",
     "text": [
      "The length of the largest subsequence that repeats itself is : 2\n"
     ]
    }
   ],
   "source": [
    "// Function to find the longest repeating subsequence \n",
    "static int findLongestRepeatingSubSeq(String str) \n",
    "{ \n",
    "    int n = str.length(); \n",
    "\n",
    "    // Create and initialize DP table \n",
    "    int[][] dp = new int[n+1][n+1]; \n",
    "\n",
    "    // Fill dp table (similar to LCS loops) \n",
    "    for (int i=1; i<=n; i++) \n",
    "    { \n",
    "        for (int j=1; j<=n; j++) \n",
    "        { \n",
    "            // If characters match and indexes are not same \n",
    "            if (str.charAt(i-1) == str.charAt(j-1) && i!=j) \n",
    "                dp[i][j] =  1 + dp[i-1][j-1];           \n",
    "\n",
    "            // If characters do not match \n",
    "            else\n",
    "                dp[i][j] = Math.max(dp[i][j-1], dp[i-1][j]); \n",
    "        } \n",
    "    } \n",
    "    return dp[n][n]; \n",
    "} \n",
    "\n",
    "// driver program to check above function \n",
    "public static void main (String[] args)  \n",
    "{ \n",
    "    String str = \"aabb\"; \n",
    "    System.out.println(\"The length of the largest subsequence that\"\n",
    "        +\" repeats itself is : \"+findLongestRepeatingSubSeq(str)); \n",
    "} \n",
    "main(args);"
   ]
  },
  {
   "cell_type": "code",
   "execution_count": 65,
   "metadata": {},
   "outputs": [],
   "source": [
    "/*\n",
    "Another approach: (Using recursion)\n",
    "*/"
   ]
  },
  {
   "cell_type": "code",
   "execution_count": 66,
   "metadata": {},
   "outputs": [
    {
     "name": "stdout",
     "output_type": "stream",
     "text": [
      "The length of the largest subsequence that repeats itself is : 2\n"
     ]
    }
   ],
   "source": [
    "static int dp[][] = new int[1000][1000]; \n",
    "\n",
    "// This function mainly returns LCS(str, str)  \n",
    "// with a condition that same characters at  \n",
    "// same index are not considered.  \n",
    "static int findLongestRepeatingSubSeq(char X[], int m, int n) { \n",
    "\n",
    "    if (dp[m][n] != -1) { \n",
    "        return dp[m][n]; \n",
    "    } \n",
    "\n",
    "    // return if we have reached the end of either string \n",
    "    if (m == 0 || n == 0) { \n",
    "        return dp[m][n] = 0; \n",
    "    } \n",
    "\n",
    "    // if characters at index m and n matches  \n",
    "    // and index is different \n",
    "    if (X[m - 1] == X[n - 1] && m != n) { \n",
    "        return dp[m][n] = findLongestRepeatingSubSeq(X, \n",
    "                m - 1, n - 1) + 1; \n",
    "    } \n",
    "\n",
    "    // else if characters at index m and n don't match \n",
    "    return dp[m][n] = Math.max(findLongestRepeatingSubSeq(X, m, n - 1), \n",
    "            findLongestRepeatingSubSeq(X, m - 1, n)); \n",
    "} \n",
    "\n",
    "// Longest Repeated Subsequence Problem \n",
    "static public void main(String[] args) { \n",
    "    String str = \"aabb\"; \n",
    "    int m = str.length(); \n",
    "    for (int[] row : dp) { \n",
    "        Arrays.fill(row, -1); \n",
    "    } \n",
    "    System.out.println(\"The length of the largest subsequence that\"\n",
    "            + \" repeats itself is : \"\n",
    "            + findLongestRepeatingSubSeq(str.toCharArray(), m, m)); \n",
    "\n",
    "} \n",
    "main(args);"
   ]
  },
  {
   "cell_type": "markdown",
   "metadata": {},
   "source": [
    "## **235. Longest Common Increasing Subsequence (LCS + LIS)**\n",
    "https://www.geeksforgeeks.org/longest-common-increasing-subsequence-lcs-lis/"
   ]
  },
  {
   "cell_type": "code",
   "execution_count": 67,
   "metadata": {},
   "outputs": [],
   "source": [
    "/*\n",
    "Given two arrays, \n",
    "    find length of the longest common increasing subsequence [LCIS] \n",
    "    and print one of such sequences (multiple sequences may exist)\n",
    "\n",
    "Suppose we consider two arrays –\n",
    "arr1[] = {3, 4, 9, 1} and\n",
    "arr2[] = {5, 3, 8, 9, 10, 2, 1}\n",
    "\n",
    "Our answer would be {3, 9} as this is the longest common subsequence which is increasing also.\n",
    "*/"
   ]
  },
  {
   "cell_type": "code",
   "execution_count": 68,
   "metadata": {},
   "outputs": [],
   "source": [
    "/*\n",
    "The idea is to use dynamic programming here as well. \n",
    "We store the longest common increasing sub-sequence ending at each index of arr2[]. \n",
    "We create an auxiliary array table[] such that table[j] stores length of LCIS ending with arr2[j]. \n",
    "At the end, \n",
    "    we return maximum value from this table. \n",
    "For filling values in this table, \n",
    "    we traverse all elements of arr1[] \n",
    "    and for every element arr1[i], we traverse all elements of arr2[]. \n",
    "    If we find a match, \n",
    "        we update table[j] with length of current LCIS. \n",
    "    To maintain current LCIS, \n",
    "        we keep checking valid table[j] values.\n",
    "\n",
    "Below is the program to find length of LCIS.\n",
    "*/"
   ]
  },
  {
   "cell_type": "code",
   "execution_count": 69,
   "metadata": {},
   "outputs": [],
   "source": [
    "// Returns the length and the LCIS of two \n",
    "// arrays arr1[0..n-1] and arr2[0..m-1] \n",
    "static int LCIS(int arr1[], int n, int arr2[], \n",
    "                                     int m) \n",
    "{ \n",
    "    // table[j] is going to store length of  \n",
    "    // LCIS ending with arr2[j]. We initialize \n",
    "    // it as 0, \n",
    "    int table[] = new int[m]; \n",
    "    for (int j = 0; j < m; j++) \n",
    "        table[j] = 0; \n",
    "\n",
    "    // Traverse all elements of arr1[] \n",
    "    for (int i = 0; i < n; i++) \n",
    "    { \n",
    "        // Initialize current length of LCIS \n",
    "        int current = 0; \n",
    "\n",
    "        // For each element of arr1[], trvarse  \n",
    "        // all elements of arr2[]. \n",
    "        for (int j = 0; j < m; j++) \n",
    "        { \n",
    "            // If both the array have same  \n",
    "            // elements. Note that we don't \n",
    "            // break the loop here. \n",
    "            if (arr1[i] == arr2[j]) \n",
    "                if (current + 1 > table[j]) \n",
    "                    table[j] = current + 1; \n",
    "\n",
    "            /* Now seek for previous smaller \n",
    "            common element for current  \n",
    "            element of arr1 */\n",
    "            if (arr1[i] > arr2[j]) \n",
    "                if (table[j] > current) \n",
    "                    current = table[j]; \n",
    "        } \n",
    "    } \n",
    "\n",
    "    // The maximum value in table[] is out \n",
    "    // result \n",
    "    int result = 0; \n",
    "    for (int i=0; i<m; i++) \n",
    "        if (table[i] > result) \n",
    "        result = table[i]; \n",
    "\n",
    "    return result; \n",
    "}"
   ]
  },
  {
   "cell_type": "code",
   "execution_count": 70,
   "metadata": {},
   "outputs": [
    {
     "name": "stdout",
     "output_type": "stream",
     "text": [
      "Length of LCIS is 2\n"
     ]
    }
   ],
   "source": [
    "/* Driver program to test above function */\n",
    "public static void main(String[] args) \n",
    "{ \n",
    "    int arr1[] = {3, 4, 9, 1}; \n",
    "    int arr2[] = {5, 3, 8, 9, 10, 2, 1}; \n",
    "\n",
    "    int n = arr1.length; \n",
    "    int m = arr2.length; \n",
    "\n",
    "    System.out.println(\"Length of LCIS is \" + \n",
    "                   LCIS(arr1, n, arr2, m)); \n",
    "} \n",
    "main(args);"
   ]
  },
  {
   "cell_type": "markdown",
   "metadata": {},
   "source": [
    "## **236. Find if string is K-Palindrome or not | Set 1**\n",
    "https://www.geeksforgeeks.org/find-if-string-is-k-palindrome-or-not/"
   ]
  },
  {
   "cell_type": "code",
   "execution_count": 71,
   "metadata": {},
   "outputs": [],
   "source": [
    "/*\n",
    "Given a string, \n",
    "find out if the string is K-Palindrome or not. \n",
    "A k-palindrome string transforms into a palindrome on removing at most k characters from it.\n",
    "*/"
   ]
  },
  {
   "cell_type": "markdown",
   "metadata": {},
   "source": [
    "**Related Link :**  ***https://www.geeksforgeeks.org/find-if-string-is-k-palindrome-or-not-set-2/***"
   ]
  },
  {
   "cell_type": "code",
   "execution_count": 72,
   "metadata": {},
   "outputs": [],
   "source": [
    "/*\n",
    "Examples :\n",
    "\n",
    "Input : String - abcdecba, k = 1\n",
    "Output : Yes\n",
    "String can become palindrome by remo-\n",
    "-ving 1 character i.e. either d or e)\n",
    "\n",
    "\n",
    "Input  : String - abcdeca, K = 2\n",
    "Output : Yes\n",
    "Can become palindrome by removing\n",
    "2 characters b and e.\n",
    "\n",
    "Input : String - acdcb, K = 1\n",
    "Output : No\n",
    "String can not become palindrome by\n",
    "removing only one character.\n",
    "*/"
   ]
  },
  {
   "cell_type": "code",
   "execution_count": 73,
   "metadata": {},
   "outputs": [],
   "source": [
    "/*\n",
    "If we carefully analyze the problem, \n",
    "    the task is to transform the given string into its reverse by removing at most K characters from it. \n",
    "    The problem is basically a variation of Edit Distance. \n",
    "\n",
    "We can modify the Edit Distance problem to consider given string \n",
    "and its reverse as input \n",
    "and only operation allowed is deletion. \n",
    "\n",
    "Since given string is compared with its reverse, \n",
    "we will do at most N deletions from first string and N deletions from second string to make them equal. \n",
    "\n",
    "Therefore, \n",
    "    for a string to be k-palindrome, 2*N <= 2*K should hold true.\n",
    "\n",
    "Below are the detailed steps of algorithm –\n",
    "\n",
    "Process all characters one by one staring from either from left or right sides of both strings. \n",
    "Let us traverse from the right corner, \n",
    "\n",
    "there are two possibilities for every pair of character being traversed.\n",
    "\n",
    "1. If last characters of two strings are same, \n",
    "        we ignore last characters and get count for remaining strings. \n",
    "        So we recur for lengths m-1 and n-1 \n",
    "        where \n",
    "            m is length of str1 and n is length of str2.\n",
    "2. If last characters are not same, \n",
    "        we consider remove operation on last character of first string and last character of second string, \n",
    "        recursively compute minimum cost for the operations and take minimum of two values.\n",
    "        > Remove last char from str1: \n",
    "                Recur for m-1 and n.\n",
    "        > Remove last char from str2: \n",
    "                Recur for m and n-1.\n",
    "\n",
    "Below is Naive recursive implementation of above approach.\n",
    "*/"
   ]
  },
  {
   "cell_type": "code",
   "execution_count": 74,
   "metadata": {},
   "outputs": [
    {
     "name": "stdout",
     "output_type": "stream",
     "text": [
      "Yes\n"
     ]
    }
   ],
   "source": [
    "// find if given string is  \n",
    "// K-Palindrome or not  \n",
    "static int isKPalRec(String str1, String str2, int m, int n)  \n",
    "{ \n",
    "    // If first string is empty,  \n",
    "    // the only option is to remove  \n",
    "    // all characters of second string  \n",
    "    if (m == 0)  \n",
    "    { \n",
    "        return n; \n",
    "    } \n",
    "\n",
    "    // If second string is empty, \n",
    "    // the only option is to remove \n",
    "    // all characters of first string  \n",
    "    if (n == 0)  \n",
    "    { \n",
    "        return m; \n",
    "    } \n",
    "\n",
    "    // If last characters of two  \n",
    "    // strings are same, ignore  \n",
    "    // last characters and get  \n",
    "    // count for remaining strings.  \n",
    "    if (str1.charAt(m - 1) ==  str2.charAt(n - 1)) \n",
    "    { \n",
    "        return isKPalRec(str1, str2,  m - 1, n - 1); \n",
    "    } \n",
    "\n",
    "    // If last characters are not same,  \n",
    "    // 1. Remove last char from str1 and \n",
    "    // recur for m-1 and n  \n",
    "    // 2. Remove last char from str2 and \n",
    "    // recur for m and n-1  \n",
    "    // Take minimum of above two operations  \n",
    "    return 1 + Math.min(isKPalRec(str1, str2, m - 1, n), // Remove from str1  \n",
    "            isKPalRec(str1, str2, m, n - 1)); // Remove from str2  \n",
    "} \n",
    "\n",
    "// Returns true if str is k palindrome.  \n",
    "static boolean isKPal(String str, int k)  \n",
    "{ \n",
    "    String revStr = str; \n",
    "    revStr = reverse(revStr); \n",
    "    int len = str.length(); \n",
    "\n",
    "    return (isKPalRec(str, revStr, len, len) <= k * 2); \n",
    "} \n",
    "\n",
    "static String reverse(String input)  \n",
    "{ \n",
    "    char[] temparray = input.toCharArray(); \n",
    "    int left, right = 0; \n",
    "    right = temparray.length - 1; \n",
    "\n",
    "    for (left = 0; left < right; left++, right--) \n",
    "    { \n",
    "        // Swap values of left and right  \n",
    "        char temp = temparray[left]; \n",
    "        temparray[left] = temparray[right]; \n",
    "        temparray[right] = temp; \n",
    "    } \n",
    "    return String.valueOf(temparray); \n",
    "} \n",
    "\n",
    "// Driver code \n",
    "public static void main(String[] args) \n",
    "{ \n",
    "    String str = \"acdcb\"; \n",
    "    int k = 2; \n",
    "    if (isKPal(str, k))  \n",
    "    { \n",
    "        System.out.println(\"Yes\"); \n",
    "    } \n",
    "    else \n",
    "    { \n",
    "        System.out.println(\"No\"); \n",
    "    } \n",
    "} \n",
    "main(args);"
   ]
  },
  {
   "cell_type": "code",
   "execution_count": 75,
   "metadata": {},
   "outputs": [],
   "source": [
    "/*\n",
    "The time complexity of above solution is exponential. \n",
    "In worst case, we may end up doing O(2^n) operations. \n",
    "The worst case happens string contains all distinct characters.\n",
    "\n",
    "Below is Bottom-up (DP) implementation of above recursive approach :\n",
    "*/"
   ]
  },
  {
   "cell_type": "code",
   "execution_count": 76,
   "metadata": {},
   "outputs": [],
   "source": [
    "// find if given string is \n",
    "// K-Palindrome or not \n",
    "static int isKPalDP(String str1, String str2, int m, int n)  \n",
    "{ \n",
    "\n",
    "    // Create a table to store  \n",
    "    // results of subproblems \n",
    "    int dp[][] = new int[m + 1][n + 1]; \n",
    "\n",
    "    // Fill dp[][] in bottom up manner \n",
    "    for (int i = 0; i <= m; i++)  \n",
    "    { \n",
    "        for (int j = 0; j <= n; j++)  \n",
    "        { \n",
    "\n",
    "            // If first string is empty, \n",
    "            // only option is to remove all \n",
    "            // characters of second string \n",
    "            if (i == 0)  \n",
    "            { \n",
    "                // Min. operations = j \n",
    "                dp[i][j] = j;  \n",
    "            }  \n",
    "\n",
    "            // If second string is empty,  \n",
    "            // only option is to remove all \n",
    "            // characters of first string \n",
    "            else if (j == 0)  \n",
    "            { \n",
    "                // Min. operations = i \n",
    "                dp[i][j] = i;  \n",
    "            }  \n",
    "\n",
    "            // If last characters are same,  \n",
    "            // ignore last character and \n",
    "            // recur for remaining string \n",
    "            else if (str1.charAt(i - 1) == \n",
    "                    str2.charAt(j - 1))  \n",
    "            { \n",
    "                dp[i][j] = dp[i - 1][j - 1]; \n",
    "            }  \n",
    "\n",
    "            // If last character are different, \n",
    "            //  remove it and find minimum \n",
    "            else \n",
    "            { \n",
    "                // Remove from str1 \n",
    "                // Remove from str2 \n",
    "                dp[i][j] = 1 + Math.min(dp[i - 1][j],  \n",
    "                        dp[i][j - 1]);  \n",
    "            } \n",
    "        } \n",
    "    } \n",
    "    return dp[m][n]; \n",
    "} "
   ]
  },
  {
   "cell_type": "code",
   "execution_count": 77,
   "metadata": {},
   "outputs": [],
   "source": [
    "// Returns true if str is k palindrome. \n",
    "static boolean isKPal(String str, int k) \n",
    "{ \n",
    "    String revStr = str; \n",
    "    revStr = reverse(revStr); \n",
    "    int len = str.length(); \n",
    "\n",
    "    return (isKPalDP(str, revStr, len, len) <= k * 2); \n",
    "} \n",
    "\n",
    "static String reverse(String str) \n",
    "{ \n",
    "    StringBuilder sb = new StringBuilder(str); \n",
    "    sb.reverse(); \n",
    "    return sb.toString(); \n",
    "} "
   ]
  },
  {
   "cell_type": "code",
   "execution_count": 78,
   "metadata": {},
   "outputs": [
    {
     "name": "stdout",
     "output_type": "stream",
     "text": [
      "Yes\n"
     ]
    }
   ],
   "source": [
    "// Driver program \n",
    "public static void main(String[] args)  \n",
    "{ \n",
    "    String str = \"acdcb\"; \n",
    "    int k = 2; \n",
    "    if (isKPal(str, k))  \n",
    "    { \n",
    "        System.out.println(\"Yes\"); \n",
    "    }  \n",
    "    else \n",
    "    { \n",
    "        System.out.println(\"No\"); \n",
    "    } \n",
    "} \n",
    "main(args);"
   ]
  },
  {
   "cell_type": "code",
   "execution_count": 79,
   "metadata": {},
   "outputs": [],
   "source": [
    "/*\n",
    "Time complexity of above solution is O(m x n). \n",
    "We can improve time complexity by making use of the fact that only k deletions are allowed. \n",
    "Auxiliary space used is O(m x n).\n",
    "*/"
   ]
  },
  {
   "cell_type": "markdown",
   "metadata": {},
   "source": [
    "## **237. Minimum Sum Path In 3-D Array**\n",
    "https://www.geeksforgeeks.org/minimum-sum-path-3-d-array/"
   ]
  },
  {
   "cell_type": "code",
   "execution_count": 80,
   "metadata": {},
   "outputs": [],
   "source": [
    "/*\n",
    "Given a 3-D array arr[l][m][n], \n",
    "the task is to find the minimum path sum from the first cell of array to the last cell of array. \n",
    "We can only traverse to adjacent element, \n",
    "i.e., \n",
    "    from a given cell (i, j, k), cells (i+1, j, k), (i, j+1, k) and (i, j, k+1) can be traversed, \n",
    "    diagonal traversing is not allowed, \n",
    "We may assume that all costs are positive integers.\n",
    "*/"
   ]
  },
  {
   "cell_type": "code",
   "execution_count": 81,
   "metadata": {},
   "outputs": [],
   "source": [
    "/*\n",
    "Examples:\n",
    "\n",
    "Input : arr[][][]= { {{1, 2}, {3, 4}},\n",
    "                     {{4, 8}, {5, 2}} };\n",
    "Output : 9\n",
    "Explanation : arr[0][0][0] + arr[0][0][1] + \n",
    "              arr[0][1][1] + arr[1][1][1]\n",
    "\n",
    "Input : { { {1, 2}, {4, 3}},\n",
    "          { {3, 4}, {2, 1}} };\n",
    "Output : 7\n",
    "Explanation : arr[0][0][0] + arr[0][0][1] + \n",
    "              arr[0][1][1] + arr[1][1][1]\n",
    "*/"
   ]
  },
  {
   "cell_type": "code",
   "execution_count": 82,
   "metadata": {},
   "outputs": [],
   "source": [
    "/*\n",
    "Let us consider a 3-D array arr[2][2][2] represented by a cuboid having values as:\n",
    "\n",
    "arr[][][] = {{{1, 2}, {3, 4}},\n",
    "            { {4, 8}, {5, 2}}};\n",
    "Result = 9 is calculated as:\n",
    "*/"
   ]
  },
  {
   "cell_type": "markdown",
   "metadata": {},
   "source": [
    "<img src = \"https://media.geeksforgeeks.org/wp-content/uploads/SumPathIn3-D.png\"/>"
   ]
  },
  {
   "cell_type": "markdown",
   "metadata": {},
   "source": [
    "***https://www.geeksforgeeks.org/dynamic-programming-set-6-min-cost-path/***"
   ]
  },
  {
   "cell_type": "code",
   "execution_count": 83,
   "metadata": {},
   "outputs": [],
   "source": [
    "/*\n",
    "This problem is similar to Min cost path (above link). and can be solved using Dynamic Programming/\n",
    "\n",
    "\n",
    "// Array for storing result\n",
    "int tSum[l][m][n];\n",
    "\n",
    "tSum[0][0][0] = arr[0][0][0];\n",
    "\n",
    "// Initialize first row of tSum array\n",
    "for (i = 1; i < l; i++)\n",
    "  tSum[i][0][0] = tSum[i-1][0][0] + arr[i][0][0];\n",
    "\n",
    "// Initialize first column of tSum array\n",
    "for (j = 1; j < m; j++)\n",
    "  tSum[0][j][0] = tSum[0][j-1][0] + arr[0][j][0];\n",
    "\n",
    "// Initialize first width of tSum array\n",
    "for (k = 1; k < n; k++)\n",
    "  tSum[0][0][k] = tSum[0][0][k-1] + arr[0][0][k];\n",
    "\n",
    "// Initialize first row- First column of tSum array\n",
    "for (i = 1; i < l; i++)\n",
    "  for (j = 1; j < m; j++)\n",
    "     tSum[i][j][0] = min(tSum[i-1][j][0],\n",
    "                         tSum[i][j-1][0],\n",
    "                         INT_MAX)\n",
    "                        + arr[i][j][0];\n",
    "\n",
    "\n",
    "// Initialize first row- First width of tSum array\n",
    "for (i = 1; i < l; i++)\n",
    "  for (k = 1; k < n; k++)\n",
    "    tSum[i][0][k] = min(tSum[i-1][0][k],\n",
    "                        tSum[i][0][k-1],\n",
    "                        INT_MAX)\n",
    "                     + arr[i][0][k];\n",
    "\n",
    "\n",
    "// Initialize first width- First column of tSum array\n",
    "for (k = 1; k < n; k++)\n",
    "  for (j = 1; j < m; j++)\n",
    "     tSum[0][j][k] = min(tSum[0][j][k-1],\n",
    "                         tSum[0][j-1][k],\n",
    "                         INT_MAX)\n",
    "                      + arr[0][j][k];\n",
    "\n",
    "// Construct rest of the tSum array\n",
    "for (i = 1; i < l; i++)\n",
    "  for (j = 1; j < m; j++)\n",
    "    for (k = 1; k < n; k++)\n",
    "       tSum[i][j][k] = min(tSum[i-1][j][k],\n",
    "                           tSum[i][j-1][k],\n",
    "                           tSum[i][j][k-1])\n",
    "                      + arr[i][j][k];\n",
    "\n",
    "return tSum[l-1][m-1][n-1];\n",
    "\n",
    "*/"
   ]
  },
  {
   "cell_type": "code",
   "execution_count": 84,
   "metadata": {},
   "outputs": [],
   "source": [
    "static int l =3; \n",
    "static int m =3; \n",
    "static int n =3; \n",
    "\n",
    "// A utility function that returns minimum \n",
    "// of 3 integers \n",
    "static int min(int x, int y, int z) \n",
    "{ \n",
    "     return (x < y)? ((x < z)? x : z) : \n",
    "            ((y < z)? y : z); \n",
    "} "
   ]
  },
  {
   "cell_type": "code",
   "execution_count": 85,
   "metadata": {},
   "outputs": [],
   "source": [
    "// function to calculate MIN path sum of 3D array \n",
    "static int minPathSum(int arr[][][]) \n",
    "{ \n",
    "    int i, j, k; \n",
    "    int tSum[][][] =new int[l][m][n]; \n",
    "\n",
    "    tSum[0][0][0] = arr[0][0][0]; \n",
    "\n",
    "    /* Initialize first row of tSum array */\n",
    "    for (i = 1; i < l; i++) \n",
    "        tSum[i][0][0] = tSum[i-1][0][0] + arr[i][0][0]; \n",
    "\n",
    "    /* Initialize first column of tSum array */\n",
    "    for (j = 1; j < m; j++) \n",
    "        tSum[0][j][0] = tSum[0][j-1][0] + arr[0][j][0]; \n",
    "\n",
    "    /* Initialize first width of tSum array */\n",
    "    for (k = 1; k < n; k++) \n",
    "        tSum[0][0][k] = tSum[0][0][k-1] + arr[0][0][k]; \n",
    "\n",
    "    /* Initialize first row- First column of \n",
    "        tSum array */\n",
    "    for (i = 1; i < l; i++) \n",
    "        for (j = 1; j < m; j++) \n",
    "        tSum[i][j][0] = min(tSum[i-1][j][0], \n",
    "                            tSum[i][j-1][0], \n",
    "                            Integer.MAX_VALUE) \n",
    "                        + arr[i][j][0]; \n",
    "\n",
    "\n",
    "    /* Initialize first row- First width of \n",
    "        tSum array */\n",
    "    for (i = 1; i < l; i++) \n",
    "        for (k = 1; k < n; k++) \n",
    "        tSum[i][0][k] = min(tSum[i-1][0][k], \n",
    "                            tSum[i][0][k-1], \n",
    "                            Integer.MAX_VALUE) \n",
    "                        + arr[i][0][k]; \n",
    "\n",
    "\n",
    "    /* Initialize first width- First column of \n",
    "        tSum array */\n",
    "    for (k = 1; k < n; k++) \n",
    "        for (j = 1; j < m; j++) \n",
    "        tSum[0][j][k] = min(tSum[0][j][k-1], \n",
    "                            tSum[0][j-1][k], \n",
    "                            Integer.MAX_VALUE) \n",
    "                        + arr[0][j][k]; \n",
    "\n",
    "    /* Construct rest of the tSum array */\n",
    "    for (i = 1; i < l; i++) \n",
    "        for (j = 1; j < m; j++) \n",
    "        for (k = 1; k < n; k++) \n",
    "            tSum[i][j][k] = min(tSum[i-1][j][k], \n",
    "                                tSum[i][j-1][k], \n",
    "                                tSum[i][j][k-1]) \n",
    "                            + arr[i][j][k]; \n",
    "\n",
    "    return tSum[l-1][m-1][n-1]; \n",
    "\n",
    "} "
   ]
  },
  {
   "cell_type": "code",
   "execution_count": 86,
   "metadata": {},
   "outputs": [
    {
     "name": "stdout",
     "output_type": "stream",
     "text": [
      "20\n"
     ]
    }
   ],
   "source": [
    "// Driver program \n",
    "public static void main (String[] args) \n",
    "{ \n",
    "    int arr[][][] = { { {1, 2, 4}, {3, 4, 5}, {5, 2, 1}}, \n",
    "                      { {4, 8, 3}, {5, 2, 1}, {3, 4, 2}}, \n",
    "                      { {2, 4, 1}, {3, 1, 4}, {6, 3, 8}} \n",
    "                    }; \n",
    "    System.out.println ( minPathSum(arr)); \n",
    "\n",
    "} \n",
    "main(args);"
   ]
  },
  {
   "cell_type": "code",
   "execution_count": 87,
   "metadata": {},
   "outputs": [],
   "source": [
    "/*\n",
    "Time Complexity : O(l*m*n)\n",
    "Auxiliary Space : O(l*m*n)\n",
    "*/"
   ]
  },
  {
   "cell_type": "markdown",
   "metadata": {},
   "source": [
    "## **238. Count Distinct Subsequences**\n",
    "https://www.geeksforgeeks.org/count-distinct-subsequences/"
   ]
  },
  {
   "cell_type": "code",
   "execution_count": 88,
   "metadata": {},
   "outputs": [],
   "source": [
    "/*\n",
    "Discussed Previously in 18 March code\n",
    "*/"
   ]
  },
  {
   "cell_type": "markdown",
   "metadata": {},
   "source": [
    "## **239. Shortest Uncommon Subsequence**\n",
    "https://www.geeksforgeeks.org/shortest-uncommon-subsequence/"
   ]
  },
  {
   "cell_type": "code",
   "execution_count": 89,
   "metadata": {},
   "outputs": [],
   "source": [
    "/*\n",
    "Given two strings S and T, \n",
    "find length of the shortest subsequence in S which is not a subsequence in T. \n",
    "If no such subsequence is possible, \n",
    "    return -1. \n",
    "\n",
    "A subsequence is a sequence that appears in the same relative order, \n",
    "but not necessarily contiguous. \n",
    "\n",
    "A string of length n has 2^n different possible subsequences.\n",
    "\n",
    "String S of length m (1 <= m <= 1000)\n",
    "String T of length n (1 <= n <= 1000)\n",
    "*/"
   ]
  },
  {
   "cell_type": "code",
   "execution_count": 90,
   "metadata": {},
   "outputs": [],
   "source": [
    "/*\n",
    "Examples:\n",
    "\n",
    "Input : S = “babab” T = “babba”\n",
    "Output : 3\n",
    "The subsequence “aab” of length 3 is \n",
    "present in S but not in T.\n",
    "\n",
    "Input :  S = “abb” T = “abab”\n",
    "Output : -1\n",
    "There is no subsequence that is present \n",
    "in S but not in T.\n",
    "*/"
   ]
  },
  {
   "cell_type": "code",
   "execution_count": 91,
   "metadata": {},
   "outputs": [],
   "source": [
    "/*\n",
    "Brute Force Method\n",
    "\n",
    "A simple approach will be to generate all the subsequences of string S \n",
    "and for each subsequence \n",
    "    check if it is present in string T or not. \n",
    "    \n",
    "Consider example 2 in which S = “abb”,\n",
    "    its subsequences are “”, ”a”, ”b”, ”ab”, ”bb”, ”abb” each of which is present in “abab”. \n",
    "\n",
    "The time complexity of this solution will be exponential.\n",
    "*/"
   ]
  },
  {
   "cell_type": "code",
   "execution_count": 92,
   "metadata": {},
   "outputs": [],
   "source": [
    "/*\n",
    "Efficient (Dynamic Programming)\n",
    "\n",
    "1.Optimal substructure : \n",
    "    Consider two strings S and T of length m and n respectively \n",
    "    & let the function to find the shortest uncommon subsequence be shortestSeq (char *S, char *T). \n",
    "    For each character in S, \n",
    "        if it is not present in T \n",
    "            then that character is the answer itself.\n",
    "        Otherwise if it is found at index k \n",
    "            then we have the choice of either including it in the shortest uncommon subsequence or not.\n",
    "\n",
    "    If it is included \n",
    "        answer = 1 + ShortestSeq( S + 1, T + k + 1) \n",
    "    If not included \n",
    "        answer =  ShortestSeq( S + 1, T) \n",
    "\n",
    "    The minimum of the two is the answer.\n",
    "    \n",
    "    Thus we can see that this problem has optimal substructure property \n",
    "        as it can be solved by using solution to sub problems.\n",
    "*/"
   ]
  },
  {
   "cell_type": "code",
   "execution_count": 93,
   "metadata": {},
   "outputs": [],
   "source": [
    "/*\n",
    "2.Overlapping Sub problems\n",
    "\n",
    "Following is a simple recursive implementation of the above problem.\n",
    "*/"
   ]
  },
  {
   "cell_type": "code",
   "execution_count": 94,
   "metadata": {},
   "outputs": [
    {
     "name": "stdout",
     "output_type": "stream",
     "text": [
      "Length of shortest subsequence is: 3\n"
     ]
    }
   ],
   "source": [
    "static final int MAX = 1005; \n",
    "  \n",
    "/* A recursive function to find the length of \n",
    "shortest uncommon subsequence*/\n",
    "static int shortestSeq(char []S, char []T, int m, int n) \n",
    "{ \n",
    "    // S String is empty \n",
    "    if (m == 0) \n",
    "        return MAX; \n",
    "  \n",
    "    // T String is empty \n",
    "    if (n <= 0) \n",
    "        return 1; \n",
    "  \n",
    "    // Loop to search for current character \n",
    "    int k; \n",
    "    for (k = 0; k < n; k++) \n",
    "        if (T[k] == S[0]) \n",
    "            break; \n",
    "  \n",
    "    // char not found in T \n",
    "    if (k == n) \n",
    "        return 1; \n",
    "  \n",
    "    // Return minimum of following two \n",
    "    // Not including current char in answer \n",
    "    // Including current char \n",
    "    return Math.min(shortestSeq(Arrays.copyOfRange(S, 1, S.length), T, m - 1, n), \n",
    "                    1 + shortestSeq(Arrays.copyOfRange(S, 1, S.length),  \n",
    "                    Arrays.copyOfRange(T, k + 1, T.length), m - 1, n - k - 1)); \n",
    "} \n",
    "  \n",
    "// Driver code \n",
    "public static void main(String[] args) \n",
    "{ \n",
    "    char S[] = \"babab\".toCharArray(); \n",
    "    char T[] = \"babba\".toCharArray(); \n",
    "    int m = S.length, n = T.length; \n",
    "    int ans = shortestSeq(S, T, m, n); \n",
    "    if (ans >= MAX) \n",
    "    ans = -1; \n",
    "    System.out.print(\"Length of shortest subsequence is: \"\n",
    "        + ans +\"\\n\"); \n",
    "} \n",
    "main(args);"
   ]
  },
  {
   "cell_type": "code",
   "execution_count": 95,
   "metadata": {},
   "outputs": [],
   "source": [
    "/*\n",
    "If we draw the complete recursion tree, \n",
    "    then we can see that there are many sub problems which are solved again and again. \n",
    "\n",
    "So this problem has Overlapping Substructure property \n",
    "and recomputation of same sub problems can be avoided by either using Memoization or Tabulation. \n",
    "\n",
    "Following is a tabulated implementation for the problem.\n",
    "Time complexity : O(mn^2)\n",
    "Space Complexity : O(mn)\n",
    "*/"
   ]
  },
  {
   "cell_type": "code",
   "execution_count": 96,
   "metadata": {},
   "outputs": [
    {
     "name": "stdout",
     "output_type": "stream",
     "text": [
      "Length of shortestsubsequence is : 3\n"
     ]
    }
   ],
   "source": [
    "static final int MAX = 1005; \n",
    "\n",
    "// Returns length of shortest common subsequence  \n",
    "static int shortestSeq(char[] S, char[] T)  \n",
    "{ \n",
    "    int m = S.length, n = T.length; \n",
    "\n",
    "    // declaring 2D array of m + 1 rows and  \n",
    "    // n + 1 columns dynamically  \n",
    "    int dp[][] = new int[m + 1][n + 1]; \n",
    "\n",
    "    // T string is empty  \n",
    "    for (int i = 0; i <= m; i++)  \n",
    "    { \n",
    "        dp[i][0] = 1; \n",
    "    } \n",
    "\n",
    "    // S string is empty  \n",
    "    for (int i = 0; i <= n; i++) \n",
    "    { \n",
    "        dp[0][i] = MAX; \n",
    "    } \n",
    "\n",
    "    for (int i = 1; i <= m; i++)  \n",
    "    { \n",
    "        for (int j = 1; j <= n; j++)  \n",
    "        { \n",
    "            char ch = S[i - 1]; \n",
    "            int k; \n",
    "            for (k = j - 1; k >= 0; k--) \n",
    "            { \n",
    "                if (T[k] == ch) \n",
    "                { \n",
    "                    break; \n",
    "                } \n",
    "            } \n",
    "\n",
    "            // char not present in T  \n",
    "            if (k == -1)  \n",
    "            { \n",
    "                dp[i][j] = 1; \n",
    "            }  \n",
    "            else\n",
    "            { \n",
    "                dp[i][j] = Math.min(dp[i - 1][j], \n",
    "                                dp[i - 1][k] + 1); \n",
    "            } \n",
    "        } \n",
    "    } \n",
    "\n",
    "    int ans = dp[m][n]; \n",
    "    if (ans >= MAX)  \n",
    "    { \n",
    "        ans = -1; \n",
    "    } \n",
    "    return ans; \n",
    "} \n",
    "\n",
    "// Driver code  \n",
    "public static void main(String[] args)  \n",
    "{ \n",
    "    char S[] = \"babab\".toCharArray(); \n",
    "    char T[] = \"babba\".toCharArray(); \n",
    "    int m = S.length, n = T.length; \n",
    "    System.out.println(\"Length of shortest\" + \n",
    "                        \"subsequence is : \" +  \n",
    "                        shortestSeq(S, T)); \n",
    "} \n",
    "main(args);"
   ]
  },
  {
   "cell_type": "markdown",
   "metadata": {},
   "source": [
    "## **240. Temple Offerings**\n",
    "https://www.geeksforgeeks.org/temple-offerings/"
   ]
  },
  {
   "cell_type": "code",
   "execution_count": 97,
   "metadata": {},
   "outputs": [],
   "source": [
    "/*\n",
    "Consider a devotee wishing to give offerings to temples along a mountain range. \n",
    "The temples are located in a row at different heights. \n",
    "\n",
    "Each temple should receive at least one offering. \n",
    "If two adjacent temples are at different altitudes, \n",
    "    then the temple that is higher up should receive more offerings than the one that is lower down. \n",
    "If two adjacent temples are at the same height, \n",
    "    then their offerings relative to each other does not matter. \n",
    "\n",
    "Given the number of temples and the heights of the temples in order, \n",
    "    find the minimum number of offerings to bring.\n",
    "*/"
   ]
  },
  {
   "cell_type": "code",
   "execution_count": 98,
   "metadata": {},
   "outputs": [],
   "source": [
    "/*\n",
    "Examples:\n",
    "\n",
    "Input  : 3\n",
    "         1 2 2\n",
    "Output : 4\n",
    "All temples must receive at-least one offering.\n",
    "Now, the second temple is at a higher altitude\n",
    "compared to the first one. Thus it receives one\n",
    "extra offering. \n",
    "The second temple and third temple are at the \n",
    "same height, so we do not need to modify the \n",
    "offerings. Offerings given are therefore: 1, 2,\n",
    "1 giving a total of 4.\n",
    "\n",
    "Input  : 6\n",
    "         1 4 3 6 2 1\n",
    "Output : 10\n",
    "We can distribute the offerings in the following\n",
    "way, 1, 2, 1, 3, 2, 1. The second temple has to \n",
    "receive more offerings than the first due to its \n",
    "height being higher. The fourth must receive more\n",
    "than the fifth, which in turn must receive more \n",
    "than the sixth. Thus the total becomes 10.\n",
    "*/"
   ]
  },
  {
   "cell_type": "code",
   "execution_count": 99,
   "metadata": {},
   "outputs": [],
   "source": [
    "/*\n",
    "We notice that each temple can either be above, below, or at the same level as the temple next to it. \n",
    "The offerings required at each temple is equal to the maximum length of the chain of temples at lower height \n",
    "as shown in the image.\n",
    "*/"
   ]
  },
  {
   "cell_type": "markdown",
   "metadata": {},
   "source": [
    "<img src = \"https://media.geeksforgeeks.org/wp-content/uploads/Temples1.png\"/>"
   ]
  },
  {
   "cell_type": "code",
   "execution_count": 100,
   "metadata": {},
   "outputs": [],
   "source": [
    "/*\n",
    "Naive Approach\n",
    "\n",
    "To follow the given rule, a temple must be offered at least x+1 where x is maximum of following two.\n",
    "\n",
    "1. Number of temples on left in increasing order.\n",
    "2. Number of temples on right in increasing order.\n",
    "\n",
    "A naive method of solving this problem would be for each temple, \n",
    "go to the left until altitude increases, \n",
    "and do the same for the right.\n",
    "\n",
    "Time complexity: O(n^2)\n",
    "Space complexity: O(1)\n",
    "*/"
   ]
  },
  {
   "cell_type": "code",
   "execution_count": 101,
   "metadata": {},
   "outputs": [],
   "source": [
    "// Returns minimum \n",
    "// offerings required \n",
    "static int offeringNumber(int n,  \n",
    "                          int templeHeight[]) \n",
    "{ \n",
    "    int sum = 0; // Initialize result \n",
    "  \n",
    "    // Go through all \n",
    "    // temples one by one \n",
    "    for (int i = 0; i < n; ++i) \n",
    "    { \n",
    "        // Go to left while  \n",
    "        // height keeps increasing \n",
    "        int left = 0, right = 0; \n",
    "        for (int j = i - 1; j >= 0; --j) \n",
    "        { \n",
    "            if (templeHeight[j] <  \n",
    "                templeHeight[j + 1]) \n",
    "                ++left; \n",
    "            else\n",
    "                break; \n",
    "        } \n",
    "  \n",
    "        // Go to right while \n",
    "        // height keeps increasing \n",
    "        for (int j = i + 1; j < n; ++j) \n",
    "        { \n",
    "            if (templeHeight[j] <  \n",
    "                templeHeight[j - 1]) \n",
    "                ++right; \n",
    "            else\n",
    "                break; \n",
    "        } \n",
    "  \n",
    "        // This temple should offer \n",
    "        // maximum of two values \n",
    "        // to follow the rule. \n",
    "        sum += Math.max(right, left) + 1; \n",
    "    } \n",
    "  \n",
    "    return sum; \n",
    "} \n"
   ]
  },
  {
   "cell_type": "code",
   "execution_count": 102,
   "metadata": {},
   "outputs": [
    {
     "name": "stdout",
     "output_type": "stream",
     "text": [
      "4\n",
      "10\n"
     ]
    }
   ],
   "source": [
    "// Driver code \n",
    "public static void main (String[] args)  \n",
    "{ \n",
    "    int arr1[] = {1, 2, 2}; \n",
    "    System.out.println(offeringNumber(3, arr1)); \n",
    "    int arr2[] = {1, 4, 3, 6, 2, 1}; \n",
    "    System.out.println(offeringNumber(6, arr2)); \n",
    "} \n",
    "main(args);"
   ]
  },
  {
   "cell_type": "code",
   "execution_count": 103,
   "metadata": {},
   "outputs": [],
   "source": [
    "/*\n",
    "Dynamic Programming Approach\n",
    "Time complexity: O(n)\n",
    "Space complexity: O(n)\n",
    "\n",
    "By using Dynamic Programming, we can improve the time complexity. \n",
    "In this method, \n",
    "    we create a structure of length n which maintains \n",
    "    the maximum decreasing chain to the left of each temple \n",
    "    and \n",
    "    the maximum decreasing chain to the right of each temple. \n",
    "    \n",
    "    We go through once from 0 to N setting the value of left for each temple. \n",
    "    We then go from N to 0 setting the value of right for each temple. \n",
    "    We then compare the two and pick the maximum for each temple.\n",
    "*/"
   ]
  },
  {
   "cell_type": "markdown",
   "metadata": {},
   "source": [
    "***https://ideone.com/7eEz7V***"
   ]
  },
  {
   "cell_type": "markdown",
   "metadata": {},
   "source": [
    "## **241. Highway Billboard Problem**\n",
    "https://www.geeksforgeeks.org/highway-billboard-problem/"
   ]
  },
  {
   "cell_type": "code",
   "execution_count": 104,
   "metadata": {},
   "outputs": [],
   "source": [
    "/*\n",
    "Consider a highway of M miles. \n",
    "The task is to place billboards on the highway such that revenue is maximized. \n",
    "The possible sites for billboards are given by number x1 < x2 < ….. < xn-1 < xn, \n",
    "specifying positions in miles measured from one end of the road. \n",
    "If we place a billboard at position xi, \n",
    "    we receive a revenue of ri > 0. \n",
    "There is a restriction that no two billboards can be placed within t miles or less than it.\n",
    "\n",
    "Note : All possible sites from x1 to xn are in range from 0 to M as need to place billboards on a highway of M miles.\n",
    "*/"
   ]
  },
  {
   "cell_type": "code",
   "execution_count": 105,
   "metadata": {},
   "outputs": [],
   "source": [
    "/*\n",
    "Examples:\n",
    "\n",
    "Input : M = 20\n",
    "        x[]       = {6, 7, 12, 13, 14}\n",
    "        revenue[] = {5, 6, 5,  3,  1}\n",
    "        t = 5\n",
    "Output: 10\n",
    "By placing two billboards at 6 miles and 12\n",
    "miles will produce the maximum revenue of 10.\n",
    "\n",
    "Input : M = 15\n",
    "        x[] = {6, 9, 12, 14}\n",
    "        revenue[] = {5, 6, 3, 7}\n",
    "        t = 2\n",
    "Output : 18  \n",
    "*/"
   ]
  },
  {
   "cell_type": "code",
   "execution_count": 106,
   "metadata": {},
   "outputs": [],
   "source": [
    "/*\n",
    "Let maxRev[i], 1 <= i <= M, be the maximum revenue generated from beginning to i miles on the highway. \n",
    "\n",
    "Now for each mile on the highway, \n",
    "    we need to check whether this mile has the option for any billboard, \n",
    "    if not \n",
    "        then the maximum revenue generated till that mile would be same as maximum revenue generated till one mile before. \n",
    "    But if that mile has the option for billboard \n",
    "        then we have 2 options:\n",
    "            1. Either we will place the billboard, \n",
    "                ignore the billboard in previous t miles, and add the revenue of the billboard placed.\n",
    "            2. Ignore this billboard. \n",
    "                    So maxRev[i] = max(maxRev[i-t-1] + revenue[i], maxRev[i-1])\n",
    "\n",
    "Below is implementation of this approach:\n",
    "\n",
    "Time Complexity: O(M), where M is distance of total Highway.\n",
    "Auxiliary Space: O(M).\n",
    "*/"
   ]
  },
  {
   "cell_type": "code",
   "execution_count": 107,
   "metadata": {},
   "outputs": [],
   "source": [
    "static int maxRevenue(int m, int[] x, int[] revenue, int n, int t)  \n",
    "{  \n",
    "      \n",
    "    // Array to store maximum revenue  \n",
    "    // at each miles.  \n",
    "    int[] maxRev = new int[m + 1];  \n",
    "    for(int i = 0; i < m + 1; i++) \n",
    "        maxRev[i] = 0; \n",
    "  \n",
    "    // actual minimum distance between \n",
    "    // 2 billboards.  \n",
    "    int nxtbb = 0;  \n",
    "    for (int i = 1; i <= m; i++)  \n",
    "    {  \n",
    "        // check if all billboards are  \n",
    "        // already placed.  \n",
    "        if (nxtbb < n)  \n",
    "        {  \n",
    "            // check if we have billboard for  \n",
    "            // that particular mile. If not, \n",
    "            // copy the previous maximum revenue.  \n",
    "            if (x[nxtbb] != i)  \n",
    "                maxRev[i] = maxRev[i - 1];  \n",
    "  \n",
    "            // we do have billboard for this mile.  \n",
    "            else\n",
    "            {  \n",
    "                // We have 2 options, we either take  \n",
    "                // current or we ignore current billboard.  \n",
    "  \n",
    "                // If current position is less than or  \n",
    "                // equal to t, then we can have only  \n",
    "                // one billboard.  \n",
    "                if (i <= t)  \n",
    "                    maxRev[i] = Math.max(maxRev[i - 1],  \n",
    "                                        revenue[nxtbb]);  \n",
    "  \n",
    "                // Else we may have to remove  \n",
    "                // previously placed billboard  \n",
    "                else\n",
    "                    maxRev[i] = Math.max(maxRev[i - t - 1] +  \n",
    "                                        revenue[nxtbb],  \n",
    "                                        maxRev[i - 1]);  \n",
    "  \n",
    "                nxtbb++;  \n",
    "            }  \n",
    "        }  \n",
    "        else\n",
    "            maxRev[i] = maxRev[i - 1];  \n",
    "    }  \n",
    "  \n",
    "    return maxRev[m];  \n",
    "}  "
   ]
  },
  {
   "cell_type": "code",
   "execution_count": 108,
   "metadata": {},
   "outputs": [
    {
     "name": "stdout",
     "output_type": "stream",
     "text": [
      "10\n"
     ]
    }
   ],
   "source": [
    "// Driver Code \n",
    "public static void main(String []args)  \n",
    "{  \n",
    "    int m = 20;  \n",
    "    int[] x = new int[]{6, 7, 12, 13, 14};  \n",
    "    int[] revenue = new int[]{5, 6, 5, 3, 1};  \n",
    "    int n = x.length;  \n",
    "    int t = 5;  \n",
    "    System.out.println(maxRevenue(m, x, revenue, n, t));  \n",
    "} \n",
    "main(args);"
   ]
  },
  {
   "cell_type": "markdown",
   "metadata": {},
   "source": [
    "**Source :**  ***https://courses.cs.washington.edu/courses/cse421/06au/slides/Lecture18/Lecture18.pdf***"
   ]
  },
  {
   "cell_type": "markdown",
   "metadata": {},
   "source": [
    "## **242. Maximum sum alternating subsequence**\n",
    "https://www.geeksforgeeks.org/maximum-sum-alternating-subsequence-sum/"
   ]
  },
  {
   "cell_type": "code",
   "execution_count": 109,
   "metadata": {},
   "outputs": [],
   "source": [
    "/*\n",
    "Given an array, \n",
    "    the task is to find sum of maximum sum alternating subsequence starting with first element. \n",
    "    Here alternating sequence means first decreasing, then increasing, then decreasing,\n",
    "    \n",
    "For example 10, 5, 14, 3 is an alternating sequence.\n",
    "\n",
    "Note that the reverse type of sequence (increasing – decreasing – increasing -…) is not considered alternating here.\n",
    "*/"
   ]
  },
  {
   "cell_type": "code",
   "execution_count": 110,
   "metadata": {},
   "outputs": [],
   "source": [
    "/*\n",
    "Examples:\n",
    "\n",
    "Input :  arr[] = {4, 3, 8, 5, 3, 8}  \n",
    "Output :  28\n",
    "Explanation:\n",
    "The alternating subsequence (starting with first element) \n",
    "that has above maximum sum is {4, 3, 8, 5, 8}\n",
    "\n",
    "Input : arr[] = {4, 8, 2, 5, 6, 8} \n",
    "Output :  14\n",
    "The alternating subsequence (starting with first element) \n",
    "that has above maximum sum is {4, 2, 8}\n",
    "*/"
   ]
  },
  {
   "cell_type": "markdown",
   "metadata": {},
   "source": [
    "**LIS**  ***https://www.geeksforgeeks.org/dynamic-programming-set-3-longest-increasing-subsequence/***"
   ]
  },
  {
   "cell_type": "code",
   "execution_count": 111,
   "metadata": {},
   "outputs": [],
   "source": [
    "/*`\n",
    "This problem is similar to Longest Increasing Subsequence (LIS) problem. and can be solved using Dynamic Programming.\n",
    "\n",
    "Time Complexity : O(n2)\n",
    "Auxiliary Space : O(n)\n",
    "\n",
    "Create two empty array that store result of maximum\n",
    "sum  of alternate sub-sequence\n",
    "inc[] : inc[i] stores results of maximum sum alternating\n",
    "        subsequence ending with arr[i] such that arr[i]\n",
    "        is greater than previous element of the subsequence \n",
    "dec[] : dec[i] stores results of maximum sum alternating\n",
    "        subsequence ending with arr[i] such that arr[i]\n",
    "        is less than previous element of the subsequence \n",
    "\n",
    "Include first element of 'arr' in both inc[] and dec[] \n",
    "inc[0] = dec[0] = arr[0]\n",
    "\n",
    "// Maintain a flag i.e. it will makes the greater\n",
    "// elements count only if the first decreasing element\n",
    "// is counted.\n",
    "flag  = 0 \n",
    "\n",
    "Traversal two loops\n",
    "  i goes from 1 to  n-1 \n",
    "    j goes 0 to i-1\n",
    "      IF arr[j] > arr[i]\n",
    "        dec[i] = max(dec[i], inc[j] + arr[i])\n",
    "    \n",
    "        // Denotes first decreasing is found\n",
    "        flag = 1 \n",
    "  \n",
    "      ELSE IF arr[j] < arr[i] && flag == 1 \n",
    "        inc[i] = max(inc[i], dec[j]+arr[i]);\n",
    "     \n",
    "Final Last Find maximum value inc[] and dec[] .\n",
    "*/"
   ]
  },
  {
   "cell_type": "code",
   "execution_count": 112,
   "metadata": {},
   "outputs": [],
   "source": [
    "// Return sum of maximum sum alternating \n",
    "// sequence starting with arr[0] and is first \n",
    "// decreasing. \n",
    "static int maxAlternateSum(int arr[], int n) \n",
    "{ \n",
    "    if (n == 1) \n",
    "        return arr[0]; \n",
    "\n",
    "   // create two empty array that store result of \n",
    "   // maximum sum of alternate sub-sequence \n",
    "\n",
    "    // stores sum of decreasing and increasing \n",
    "    // sub-sequence \n",
    "    int dec[] = new int[n]; \n",
    "\n",
    "\n",
    "    // store sum of increasing and decreasing sun-sequence \n",
    "    int inc[] = new int[n]; \n",
    "\n",
    "    // As per question, first element must be part \n",
    "    // of solution. \n",
    "    dec[0] = inc[0] = arr[0]; \n",
    "\n",
    "    int flag = 0 ; \n",
    "\n",
    "    // Traverse remaining elements of array \n",
    "    for (int i=1; i<n; i++) \n",
    "    { \n",
    "        for (int j=0; j<i; j++) \n",
    "        { \n",
    "            // IF current sub-sequence is decreasing the \n",
    "            // update dec[j] if needed. dec[i] by current \n",
    "            // inc[j] + arr[i] \n",
    "            if (arr[j] > arr[i]) \n",
    "            { \n",
    "                dec[i] = Math.max(dec[i], inc[j]+arr[i]); \n",
    "\n",
    "                // Revert the flag , if first decreasing \n",
    "                // is found \n",
    "                flag = 1; \n",
    "            } \n",
    "\n",
    "            // If next element is greater but flag should be 1 \n",
    "            // i.e. this element should be counted after the \n",
    "            // first decreasing element gets counted \n",
    "            else if (arr[j] < arr[i] && flag == 1) \n",
    "\n",
    "                // If current sub-sequence is increasing \n",
    "                // then update inc[i] \n",
    "                inc[i] = Math.max(inc[i], dec[j]+arr[i]); \n",
    "        } \n",
    "    } \n",
    "\n",
    "    // find maximum sum in b/w inc[] and dec[] \n",
    "    int result = Integer.MIN_VALUE; \n",
    "    for (int i = 0 ; i < n; i++) \n",
    "    { \n",
    "        if (result < inc[i]) \n",
    "            result = inc[i]; \n",
    "        if (result < dec[i]) \n",
    "            result = dec[i]; \n",
    "    } \n",
    "\n",
    "    // return maximum sum alternate sun-sequence \n",
    "    return result; \n",
    "} "
   ]
  },
  {
   "cell_type": "code",
   "execution_count": 113,
   "metadata": {},
   "outputs": [
    {
     "name": "stdout",
     "output_type": "stream",
     "text": [
      "Maximum sum = 25\n"
     ]
    }
   ],
   "source": [
    "// Driver Method \n",
    "public static void main(String[] args) \n",
    "{ \n",
    "    int arr[]= {8, 2, 3, 5, 7, 9, 10}; \n",
    "    System.out.println(\"Maximum sum = \" + \n",
    "              maxAlternateSum(arr , arr.length)); \n",
    "} \n",
    "main(args);"
   ]
  },
  {
   "cell_type": "markdown",
   "metadata": {},
   "source": [
    "## **243. Minimum and Maximum values of an expression with * and +**\n",
    "https://www.geeksforgeeks.org/minimum-maximum-values-expression/"
   ]
  },
  {
   "cell_type": "code",
   "execution_count": 114,
   "metadata": {},
   "outputs": [],
   "source": [
    "/*\n",
    "Given an expression which contains \n",
    "numbers and two operators ‘+’ and ‘*’, \n",
    "\n",
    "we need to find maximum and minimum value which can be obtained by evaluating this expression by different parenthesization.\n",
    "*/"
   ]
  },
  {
   "cell_type": "code",
   "execution_count": 115,
   "metadata": {},
   "outputs": [],
   "source": [
    "/*\n",
    "Examples:\n",
    "\n",
    "Input  : expr = “1+2*3+4*5” \n",
    "Output : Minimum Value = 27, Maximum Value = 105 \n",
    "\n",
    "Explanation:\n",
    "Minimum evaluated value = 1 + (2*3) + (4*5) = 27\n",
    "Maximum evaluated value = (1 + 2)*(3 + 4)*5 = 105\n",
    "*/"
   ]
  },
  {
   "cell_type": "code",
   "execution_count": 116,
   "metadata": {},
   "outputs": [],
   "source": [
    "/*\n",
    "We can solve this problem by dynamic programming method, \n",
    "\n",
    "we can see that this problem is similar to matrix chain multiplication, \n",
    "\n",
    "here we are trying different parenthesization to maximize and minimize expression value \n",
    "    instead of number of matrix multiplication.\n",
    "\n",
    "In below code first we have separated \n",
    "    the operators and numbers from given expression \n",
    "    then two 2D arrays are taken for storing the intermediate result which are updated similar to matrix chain multiplication \n",
    "    and different parenthesization are tried among the numbers \n",
    "        but according to operators occurring in between them. \n",
    "    At the end last cell of first row will store the final result in both the 2D arrays.\n",
    "*/"
   ]
  },
  {
   "cell_type": "markdown",
   "metadata": {},
   "source": [
    "***https://ideone.com/IihaZj***"
   ]
  },
  {
   "cell_type": "code",
   "execution_count": null,
   "metadata": {},
   "outputs": [],
   "source": []
  }
 ],
 "metadata": {
  "kernelspec": {
   "display_name": "Java",
   "language": "java",
   "name": "java"
  },
  "language_info": {
   "codemirror_mode": "java",
   "file_extension": ".jshell",
   "mimetype": "text/x-java-source",
   "name": "Java",
   "pygments_lexer": "java",
   "version": "11.0.6+8-LTS"
  },
  "toc": {
   "base_numbering": 1,
   "nav_menu": {},
   "number_sections": true,
   "sideBar": true,
   "skip_h1_title": false,
   "title_cell": "Table of Contents",
   "title_sidebar": "Contents",
   "toc_cell": false,
   "toc_position": {},
   "toc_section_display": true,
   "toc_window_display": true
  }
 },
 "nbformat": 4,
 "nbformat_minor": 2
}
