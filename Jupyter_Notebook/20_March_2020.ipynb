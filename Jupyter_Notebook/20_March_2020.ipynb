{
 "cells": [
  {
   "cell_type": "markdown",
   "metadata": {},
   "source": [
    "  **------------------------Questions Covered-----------------------------**"
   ]
  },
  {
   "cell_type": "markdown",
   "metadata": {},
   "source": [
    "***4\tMatrix\thttps://www.geeksforgeeks.org/find-number-of-islands/\tPep_JavaIP_4Matrix_136NumberofIslands\t\t\t\t\t\t\t\t\t\t\t\t\t\t\t\t\t\t\t\t\t\t\t\t\n",
    "4\tMatrix\thttps://www.geeksforgeeks.org/given-matrix-o-x-replace-o-x-surrounded-x/\tPep_JavaIP_4Matrix_137ReplaceOwithX\t\t\t\t\t\t\t\t\t\t\t\t\t\t\t\t\t\t\t\t\t\t\t\t\n",
    "4\tMatrix\thttps://www.geeksforgeeks.org/validity-of-a-given-tic-tac-toe-board-configuration/+\tPep_JavaIP_4Matrix_138ValidityTicTacToe\t\t\t\t\t\t\t\t\t\t\t\t\t\t\t\t\t\t\t\t\t\t\t\t\n",
    "4\tMatrix\thttps://www.geeksforgeeks.org/given-matrix-o-x-find-largest-subsquare-surrounded-x/\tPep_JavaIP_4Matrix_139FindLargestSubSquare\t\t\t\t\t\t\t\t\t\t\t\t\t\t\t\t\t\t\t\t\t\t\t\t\n",
    "4\tMatrix\thttps://www.geeksforgeeks.org/rotate-matrix-elements/\tPep_JavaIP_4Matrix_140RotateMatrixElements\t\t\t\t\t\t\t\t\t\t\t\t\t\t\t\t\t\t\t\t\t\t\t\t\n",
    "4\tMatrix\thttps://www.geeksforgeeks.org/find-common-element-rows-row-wise-sorted-matrix/\tPep_JavaIP_4Matrix_141FindCommonElements\t\t\t\t\t\t\t\t\t\t\t\t\t\t\t\t\t\t\t\t\t\t\t\t\n",
    "4\tMatrix\thttps://www.geeksforgeeks.org/maximum-size-rectangle-binary-sub-matrix-1s/\tPep_JavaIP_4Matrix_142LargestSizeRectangularMatrixStudentFile\t\t\t\t\t\t\t\t\t\t\t\t\t\t\t\t\t\t\t\t\t\t\t\t\n",
    "4\tMatrix\thttps://www.geeksforgeeks.org/common-elements-in-all-rows-of-a-given-matrix/\tPep_JavaIP_4Matrix_143FindAllCommonEleementsInAllRows\t\t\t\t\t\t\t\t\t\t\t\t\t\t\t\t\t\t\t\t\t\t\t\t\n",
    "4\tMatrix\thttps://www.geeksforgeeks.org/find-a-specific-pair-in-matrix/\tPep_JavaIP_4Matrix_144FindSpecificPair\tbreaker\t\t\t\t\t\t\t\t\t\t\t\t\t\t\t\t\t\t\t\t\t\t\t\n",
    "4\tMatrix\thttps://www.geeksforgeeks.org/find-orientation-of-a-pattern-in-a-matrix/\tPep_JavaIP_4Matrix_145FindOrientation\tbreaker\t\t\t\t\t\t\t\t\t\t\t\t\t\t\t\t\t\t\t\t\t\t\t\n",
    "4\tMatrix\thttps://www.geeksforgeeks.org/shortest-path-in-a-binary-maze/\tPep_JavaIP_4Matrix_146ShortestPathInMatrix\t\t\t\t\t\t\t\t\t\t\t\t\t\t\t\t\t\t\t\t\t\t\t\t\n",
    "4\tMatrix\thttps://www.geeksforgeeks.org/inplace-rotate-square-matrix-by-90-degrees/\tvery famous\t\t\t\t\t\t\t\t\t\t\t\t\t\t\t\t\t\t\t\t\t\t\t\t\n",
    "4\tMatrix\thttps://www.geeksforgeeks.org/kth-smallest-element-in-a-row-wise-and-column-wise-sorted-2d-array-set-1/\tPep_JavaIP_4Matrix_148KthSmallest\t\t\t\t\t\t\t\t\t\t\t\t\t\t\t\t\t\t\t\t\t\t\t\t\n",
    "4\tMatrix\thttps://www.geeksforgeeks.org/a-boolean-matrix-question/\tPep_JavaIP_4Matrix_149BooleanMatrixQuestion\t\t\t\t\t\t\t\t\t\t\t\t\t\t\t\t\t\t\t\t\t\t\t\t\n",
    "4\tMatrix\thttps://www.geeksforgeeks.org/search-a-word-in-a-2d-grid-of-characters/\tvery interesting ques + microsoft***"
   ]
  },
  {
   "cell_type": "code",
   "execution_count": 1,
   "metadata": {},
   "outputs": [],
   "source": [
    "import java.util.*;\n",
    "import java.io.*;\n",
    "import java.util.Arrays;\n",
    "String[] args =new String[0];"
   ]
  },
  {
   "cell_type": "markdown",
   "metadata": {},
   "source": [
    "## **136. Find the number of islands | Set 1 (Using DFS)**\n",
    "https://www.geeksforgeeks.org/find-number-of-islands/"
   ]
  },
  {
   "cell_type": "code",
   "execution_count": 2,
   "metadata": {},
   "outputs": [],
   "source": [
    "/*\n",
    "Given a boolean 2D matrix, find the number of islands. \n",
    "A group of connected 1s forms an island. \n",
    "\n",
    "For example, the below matrix contains 5 islands\n",
    "*/"
   ]
  },
  {
   "cell_type": "code",
   "execution_count": 3,
   "metadata": {},
   "outputs": [],
   "source": [
    "/*\n",
    "Example:\n",
    "\n",
    "Input : mat[][] = {{1, 1, 0, 0, 0},\n",
    "                   {0, 1, 0, 0, 1},\n",
    "                   {1, 0, 0, 1, 1},\n",
    "                   {0, 0, 0, 0, 0},\n",
    "                   {1, 0, 1, 0, 1} \n",
    "Output : 5\n",
    "*/"
   ]
  },
  {
   "cell_type": "code",
   "execution_count": 4,
   "metadata": {},
   "outputs": [],
   "source": [
    "/*\n",
    "This is a variation of the standard problem: “Counting the number of connected components in an undirected graph”.\n",
    "*/"
   ]
  },
  {
   "cell_type": "markdown",
   "metadata": {},
   "source": [
    "***https://www.geeksforgeeks.org/connected-components-in-an-undirected-graph/***"
   ]
  },
  {
   "cell_type": "code",
   "execution_count": 5,
   "metadata": {},
   "outputs": [],
   "source": [
    "/*\n",
    "Before we go to the problem, let us understand what is a connected component. \n",
    "A connected component of an undirected graph is a subgraph in which every two vertices are connected to each other by a path(s), \n",
    "and which is connected to no other vertices outside the subgraph.\n",
    "\n",
    "For example, the graph shown below has three connected components.\n",
    "*/"
   ]
  },
  {
   "cell_type": "markdown",
   "metadata": {},
   "source": [
    "<img src = \"https://media.geeksforgeeks.org/wp-content/uploads/connectedcomponents.png\"/>"
   ]
  },
  {
   "cell_type": "code",
   "execution_count": 6,
   "metadata": {},
   "outputs": [],
   "source": [
    "/*\n",
    "A graph where all vertices are connected with each other has exactly one connected component, consisting of the whole graph. \n",
    "Such a graph with only one connected component is called a Strongly Connected Graph.\n",
    "\n",
    "The problem can be easily solved by applying DFS() on each component. \n",
    "In each DFS() call, \n",
    "    a component or a sub-graph is visited. \n",
    "We will call DFS on the next un-visited component. \n",
    "The number of calls to DFS() gives the number of connected components. \n",
    "\n",
    "BFS can also be used.\n",
    "*/"
   ]
  },
  {
   "cell_type": "code",
   "execution_count": 7,
   "metadata": {},
   "outputs": [],
   "source": [
    "/*\n",
    "What is an island?\n",
    "A group of connected 1s forms an island. \n",
    "For example, the below matrix contains 4 islands\n",
    "*/"
   ]
  },
  {
   "cell_type": "markdown",
   "metadata": {},
   "source": [
    "<img src = \"https://media.geeksforgeeks.org/wp-content/cdn-uploads/20190704154734/FindNumberOfIslands-1024x342.png\"/>"
   ]
  },
  {
   "cell_type": "code",
   "execution_count": 8,
   "metadata": {},
   "outputs": [],
   "source": [
    "/*\n",
    "A cell in 2D matrix can be connected to 8 neighbours. \n",
    "So, unlike standard DFS(), where we recursively call for all adjacent vertices, \n",
    "    here we can recursively call for 8 neighbours only. \n",
    "We keep track of the visited 1s so that they are not visited again.\n",
    "*/"
   ]
  },
  {
   "cell_type": "code",
   "execution_count": 9,
   "metadata": {},
   "outputs": [],
   "source": [
    "// No of rows and columns \n",
    "static final int ROW = 5, COL = 5;"
   ]
  },
  {
   "cell_type": "code",
   "execution_count": 10,
   "metadata": {},
   "outputs": [],
   "source": [
    "// A function to check if a given cell (row, col) can \n",
    "// be included in DFS \n",
    "boolean isSafe(int M[][], int row, int col, \n",
    "               boolean visited[][]) \n",
    "{ \n",
    "    // row number is in range, column number is in range \n",
    "    // and value is 1 and not yet visited \n",
    "    return (row >= 0) && (row < ROW) && (col >= 0) && (col < COL) && (M[row][col] == 1 && !visited[row][col]); \n",
    "} "
   ]
  },
  {
   "cell_type": "code",
   "execution_count": 11,
   "metadata": {},
   "outputs": [],
   "source": [
    "// A utility function to do DFS for a 2D boolean matrix. \n",
    "// It only considers the 8 neighbors as adjacent vertices \n",
    "void DFS(int M[][], int row, int col, boolean visited[][]) \n",
    "{ \n",
    "    // These arrays are used to get row and column numbers \n",
    "    // of 8 neighbors of a given cell \n",
    "    int rowNbr[] = new int[] { -1, -1, -1, 0, 0, 1, 1, 1 }; \n",
    "    int colNbr[] = new int[] { -1, 0, 1, -1, 1, -1, 0, 1 }; \n",
    "\n",
    "    // Mark this cell as visited \n",
    "    visited[row][col] = true; \n",
    "\n",
    "    // Recur for all connected neighbours \n",
    "    for (int k = 0; k < 8; ++k) \n",
    "        if (isSafe(M, row + rowNbr[k], col + colNbr[k], visited)) \n",
    "            DFS(M, row + rowNbr[k], col + colNbr[k], visited); \n",
    "} "
   ]
  },
  {
   "cell_type": "code",
   "execution_count": 12,
   "metadata": {},
   "outputs": [],
   "source": [
    "// The main function that returns count of islands in a given \n",
    "// boolean 2D matrix \n",
    "int countIslands(int M[][]) \n",
    "{ \n",
    "    // Make a bool array to mark visited cells. \n",
    "    // Initially all cells are unvisited \n",
    "    boolean visited[][] = new boolean[ROW][COL]; \n",
    "\n",
    "    // Initialize count as 0 and travese through the all cells \n",
    "    // of given matrix \n",
    "    int count = 0; \n",
    "    for (int i = 0; i < ROW; ++i) \n",
    "        for (int j = 0; j < COL; ++j) \n",
    "            if (M[i][j] == 1 && !visited[i][j]) // If a cell with \n",
    "            { // value 1 is not \n",
    "                // visited yet, then new island found, Visit all \n",
    "                // cells in this island and increment island count \n",
    "                DFS(M, i, j, visited); \n",
    "                ++count; \n",
    "            } \n",
    "\n",
    "    return count; \n",
    "} "
   ]
  },
  {
   "cell_type": "code",
   "execution_count": 13,
   "metadata": {},
   "outputs": [
    {
     "name": "stdout",
     "output_type": "stream",
     "text": [
      "Number of islands is: 5\n"
     ]
    }
   ],
   "source": [
    "// Driver method \n",
    "public static void main(String[] args) throws java.lang.Exception \n",
    "{ \n",
    "    int M[][] = new int[][] { { 1, 1, 0, 0, 0 }, \n",
    "                              { 0, 1, 0, 0, 1 }, \n",
    "                              { 1, 0, 0, 1, 1 }, \n",
    "                              { 0, 0, 0, 0, 0 }, \n",
    "                              { 1, 0, 1, 0, 1 } }; \n",
    "    System.out.println(\"Number of islands is: \" + countIslands(M)); \n",
    "} \n",
    "main(args);"
   ]
  },
  {
   "cell_type": "code",
   "execution_count": 14,
   "metadata": {},
   "outputs": [],
   "source": [
    "/*\n",
    "Time complexity: O(ROW x COL)\n",
    "*/"
   ]
  },
  {
   "cell_type": "markdown",
   "metadata": {},
   "source": [
    "**Related Link** \n",
    ">***https://www.geeksforgeeks.org/find-the-number-of-islands-set-2-using-disjoint-set/***\n",
    "\n",
    ">***https://www.geeksforgeeks.org/disjoint-set-data-structures/***"
   ]
  },
  {
   "cell_type": "markdown",
   "metadata": {},
   "source": [
    "## **137. Given a matrix of ‘O’ and ‘X’, replace ‘O’ with ‘X’ if surrounded by ‘X’**\n",
    "https://www.geeksforgeeks.org/given-matrix-o-x-replace-o-x-surrounded-x/"
   ]
  },
  {
   "cell_type": "code",
   "execution_count": 15,
   "metadata": {},
   "outputs": [],
   "source": [
    "/*\n",
    "Given a matrix where every element is either ‘O’ or ‘X’, \n",
    "    replace ‘O’ with ‘X’ if surrounded by ‘X’. \n",
    "A ‘O’ (or a set of ‘O’) is considered to be by surrounded by ‘X’ \n",
    "    if there are ‘X’ at locations just below, just above, just left and just right of it.\n",
    "*/"
   ]
  },
  {
   "cell_type": "code",
   "execution_count": 16,
   "metadata": {},
   "outputs": [],
   "source": [
    "/*\n",
    "Examples:\n",
    "\n",
    "Input: mat[M][N] =  {{'X', 'O', 'X', 'X', 'X', 'X'},\n",
    "                     {'X', 'O', 'X', 'X', 'O', 'X'},\n",
    "                     {'X', 'X', 'X', 'O', 'O', 'X'},\n",
    "                     {'O', 'X', 'X', 'X', 'X', 'X'},\n",
    "                     {'X', 'X', 'X', 'O', 'X', 'O'},\n",
    "                     {'O', 'O', 'X', 'O', 'O', 'O'},\n",
    "                    };\n",
    "Output: mat[M][N] =  {{'X', 'O', 'X', 'X', 'X', 'X'},\n",
    "                      {'X', 'O', 'X', 'X', 'X', 'X'},\n",
    "                      {'X', 'X', 'X', 'X', 'X', 'X'},\n",
    "                      {'O', 'X', 'X', 'X', 'X', 'X'},\n",
    "                      {'X', 'X', 'X', 'O', 'X', 'O'},\n",
    "                      {'O', 'O', 'X', 'O', 'O', 'O'},\n",
    "                    };\n",
    "\n",
    "Input: mat[M][N] =  {{'X', 'X', 'X', 'X'}\n",
    "                     {'X', 'O', 'X', 'X'}\n",
    "                     {'X', 'O', 'O', 'X'}\n",
    "                     {'X', 'O', 'X', 'X'}\n",
    "                     {'X', 'X', 'O', 'O'}\n",
    "                    };\n",
    "Input: mat[M][N] =  {{'X', 'X', 'X', 'X'}\n",
    "                     {'X', 'X', 'X', 'X'}\n",
    "                     {'X', 'X', 'X', 'X'}\n",
    "                     {'X', 'X', 'X', 'X'}\n",
    "                     {'X', 'X', 'O', 'O'}\n",
    "                    };\n",
    "*/"
   ]
  },
  {
   "cell_type": "code",
   "execution_count": 17,
   "metadata": {},
   "outputs": [],
   "source": [
    "/*\n",
    "This is mainly an application of Flood-Fill algorithm. \n",
    "The main difference here is that a ‘O’ is not replaced by ‘X’ if it lies in region that ends on a boundary. \n",
    "\n",
    "Following are simple steps to do this special flood fill.\n",
    "\n",
    "1) Traverse the given matrix and replace all ‘O’ with a special character ‘-‘.\n",
    "\n",
    "2) Traverse four edges of given matrix and call floodFill(‘-‘, ‘O’) for every ‘-‘ on edges. \n",
    "   The remaining ‘-‘ are the characters that indicate ‘O’s (in the original matrix) to be replaced by ‘X’.\n",
    "\n",
    "3) Traverse the matrix and replace all ‘-‘s with ‘X’s.\n",
    "*/"
   ]
  },
  {
   "cell_type": "code",
   "execution_count": 18,
   "metadata": {},
   "outputs": [],
   "source": [
    "/*\n",
    "Let us see steps of above algorithm with an example. Let following be the input matrix.\n",
    "\n",
    "       mat[M][N] =  {{'X', 'O', 'X', 'X', 'X', 'X'},\n",
    "                     {'X', 'O', 'X', 'X', 'O', 'X'},\n",
    "                     {'X', 'X', 'X', 'O', 'O', 'X'},\n",
    "                     {'O', 'X', 'X', 'X', 'X', 'X'},\n",
    "                     {'X', 'X', 'X', 'O', 'X', 'O'},\n",
    "                     {'O', 'O', 'X', 'O', 'O', 'O'},\n",
    "                    };\n",
    "Step 1: Replace all ‘O’ with ‘-‘.\n",
    "\n",
    "       mat[M][N] =  {{'X', '-', 'X', 'X', 'X', 'X'},\n",
    "                     {'X', '-', 'X', 'X', '-', 'X'},\n",
    "                     {'X', 'X', 'X', '-', '-', 'X'},\n",
    "                     {'-', 'X', 'X', 'X', 'X', 'X'},\n",
    "                     {'X', 'X', 'X', '-', 'X', '-'},\n",
    "                     {'-', '-', 'X', '-', '-', '-'},\n",
    "                    };\n",
    "Step 2: Call floodFill(‘-‘, ‘O’) for all edge elements with value equals to ‘-‘\n",
    "\n",
    "       mat[M][N] =  {{'X', 'O', 'X', 'X', 'X', 'X'},\n",
    "                     {'X', 'O', 'X', 'X', '-', 'X'},\n",
    "                     {'X', 'X', 'X', '-', '-', 'X'},\n",
    "                     {'O', 'X', 'X', 'X', 'X', 'X'},\n",
    "                     {'X', 'X', 'X', 'O', 'X', 'O'},\n",
    "                     {'O', 'O', 'X', 'O', 'O', 'O'},\n",
    "                    };\n",
    "Step 3: Replace all ‘-‘ with ‘X’.\n",
    "\n",
    "       mat[M][N] =  {{'X', 'O', 'X', 'X', 'X', 'X'},\n",
    "                     {'X', 'O', 'X', 'X', 'X', 'X'},\n",
    "                     {'X', 'X', 'X', 'X', 'X', 'X'},\n",
    "                     {'O', 'X', 'X', 'X', 'X', 'X'},\n",
    "                     {'X', 'X', 'X', 'O', 'X', 'O'},\n",
    "                     {'O', 'O', 'X', 'O', 'O', 'O'},\n",
    "                    };\n",
    "*/"
   ]
  },
  {
   "cell_type": "code",
   "execution_count": 19,
   "metadata": {},
   "outputs": [],
   "source": [
    "static int M = 6; \n",
    "static int N = 6; \n",
    "static void floodFillUtil(char mat[][], int x,  \n",
    "                          int y, char prevV,  \n",
    "                          char newV) \n",
    "{ \n",
    "    // Base cases \n",
    "    if (x < 0 || x >= M || \n",
    "        y < 0 || y >= N) \n",
    "        return; \n",
    "\n",
    "    if (mat[x][y] != prevV) \n",
    "        return; \n",
    "\n",
    "    // Replace the color at (x, y) \n",
    "    mat[x][y] = newV; \n",
    "\n",
    "    // Recur for north, \n",
    "    // east, south and west \n",
    "    floodFillUtil(mat, x + 1, y,  \n",
    "                  prevV, newV); \n",
    "    floodFillUtil(mat, x - 1, y,  \n",
    "                  prevV, newV); \n",
    "    floodFillUtil(mat, x, y + 1,  \n",
    "                  prevV, newV); \n",
    "    floodFillUtil(mat, x, y - 1,  \n",
    "                  prevV, newV); \n",
    "}"
   ]
  },
  {
   "cell_type": "code",
   "execution_count": 20,
   "metadata": {},
   "outputs": [],
   "source": [
    "// Returns size of maximum  \n",
    "// size subsquare matrix \n",
    "// surrounded by 'X' \n",
    "static void replaceSurrounded(char mat[][]) \n",
    "{ \n",
    "\n",
    "// Step 1: Replace  \n",
    "// all 'O' with '-' \n",
    "for (int i = 0; i < M; i++) \n",
    "    for (int j = 0; j < N; j++) \n",
    "        if (mat[i][j] == 'O') \n",
    "            mat[i][j] = '-'; \n",
    "\n",
    "// Call floodFill for  \n",
    "// all '-' lying on edges \n",
    "for (int i = 0; i < M; i++) // Left side \n",
    "    if (mat[i][0] == '-') \n",
    "        floodFillUtil(mat, i, 0,  \n",
    "                      '-', 'O'); \n",
    "for (int i = 0; i < M; i++) // Right side \n",
    "    if (mat[i][N - 1] == '-') \n",
    "        floodFillUtil(mat, i, N - 1, \n",
    "                      '-', 'O'); \n",
    "for (int i = 0; i < N; i++) // Top side \n",
    "    if (mat[0][i] == '-') \n",
    "        floodFillUtil(mat, 0, i, \n",
    "                      '-', 'O'); \n",
    "for (int i = 0; i < N; i++) // Bottom side \n",
    "    if (mat[M - 1][i] == '-') \n",
    "        floodFillUtil(mat, M - 1,  \n",
    "                      i, '-', 'O'); \n",
    "\n",
    "// Step 3: Replace  \n",
    "// all '-' with 'X' \n",
    "for (int i = 0; i < M; i++) \n",
    "    for (int j = 0; j < N; j++) \n",
    "        if (mat[i][j] == '-') \n",
    "            mat[i][j] = 'X'; \n",
    "} "
   ]
  },
  {
   "cell_type": "code",
   "execution_count": 21,
   "metadata": {},
   "outputs": [
    {
     "name": "stdout",
     "output_type": "stream",
     "text": [
      "X O X O X X \n",
      "X O X X X X \n",
      "X X X X X X \n",
      "O X X X X X \n",
      "X X X O X O \n",
      "O O X O O O \n"
     ]
    }
   ],
   "source": [
    "public static void main (String[] args) \n",
    "{ \n",
    "    char[][] mat = {{'X', 'O', 'X', 'O', 'X', 'X'}, \n",
    "                    {'X', 'O', 'X', 'X', 'O', 'X'}, \n",
    "                    {'X', 'X', 'X', 'O', 'X', 'X'}, \n",
    "                    {'O', 'X', 'X', 'X', 'X', 'X'}, \n",
    "                    {'X', 'X', 'X', 'O', 'X', 'O'}, \n",
    "                    {'O', 'O', 'X', 'O', 'O', 'O'}}; \n",
    "\n",
    "    replaceSurrounded(mat); \n",
    "\n",
    "    for (int i = 0; i < M; i++) \n",
    "    { \n",
    "        for (int j = 0; j < N; j++) \n",
    "            System.out.print(mat[i][j] + \" \");  \n",
    "\n",
    "        System.out.println(\"\"); \n",
    "    } \n",
    "} \n",
    "main(args);"
   ]
  },
  {
   "cell_type": "code",
   "execution_count": 22,
   "metadata": {},
   "outputs": [],
   "source": [
    "/*\n",
    "Time Complexity of the above solution is O(MN). \n",
    "\n",
    "Note that every element of matrix is processed at most three times.\n",
    "*/"
   ]
  },
  {
   "cell_type": "markdown",
   "metadata": {},
   "source": [
    "## **138. Validity of a given Tic-Tac-Toe board configuration**\n",
    "https://www.geeksforgeeks.org/validity-of-a-given-tic-tac-toe-board-configuration/"
   ]
  },
  {
   "cell_type": "code",
   "execution_count": 23,
   "metadata": {},
   "outputs": [],
   "source": [
    "/*\n",
    "A Tic-Tac-Toe board is given after some moves are played. \n",
    "Find out if the given board is valid, i.e., is it possible to reach this board position after some moves or not.\n",
    "\n",
    "Note that every arbitrary filled grid of 9 spaces isn’t valid \n",
    "e.g. a grid filled with 3 X and 6 O isn’t valid situation because each player needs to take alternate turns.\n",
    "*/"
   ]
  },
  {
   "cell_type": "markdown",
   "metadata": {},
   "source": [
    "<img src = \"https://media.geeksforgeeks.org/wp-content/cdn-uploads/tictactoe.png\"/>"
   ]
  },
  {
   "cell_type": "code",
   "execution_count": 24,
   "metadata": {},
   "outputs": [],
   "source": [
    "/*\n",
    "Input is given as a 1D array of size 9.\n",
    "Examples:\n",
    "\n",
    "Input: board[] =  {'X', 'X', 'O', \n",
    "                   'O', 'O', 'X',\n",
    "                   'X', 'O', 'X'};\n",
    "Output: Valid\n",
    "\n",
    "Input: board[] =  {'O', 'X', 'X', \n",
    "                   'O', 'X', 'X',\n",
    "                   'O', 'O', 'X'};\n",
    "Output: Invalid\n",
    "(Both X and O cannot win)\n",
    "\n",
    "Input: board[] =  {'O', 'X', ' ', \n",
    "                   ' ', ' ', ' ',\n",
    "                   ' ', ' ', ' '};\n",
    "Output: Valid\n",
    "(Valid board with only two moves played)\n",
    "*/"
   ]
  },
  {
   "cell_type": "code",
   "execution_count": 25,
   "metadata": {},
   "outputs": [],
   "source": [
    "/*\n",
    "Basically, to find the validity of an input grid, \n",
    "    we can think of the conditions when an input grid is invalid. \n",
    "Let no. of “X”s be countX and no. of “O”s be countO. \n",
    "\n",
    "Since we know that the game starts with X, a given grid of Tic-Tac-Toe game would be definitely invalid \n",
    "if following two conditions meet\n",
    "a) countX != countO AND\n",
    "b) countX != countO + 1\n",
    "\n",
    "Since “X” is always the first move, second condition is also required.\n",
    "\n",
    "Now does it mean that all the remaining board positions are valid one? \n",
    "    The answer is NO. \n",
    "Think of the cases when input grid is such that both X and O are making straight lines. \n",
    "This is also not valid position because the game ends when one player wins. \n",
    "\n",
    "So we need to check the following condition as well\n",
    "    c) If input grid shows that both the players are in winning situation, it’s an invalid position.\n",
    "    d) If input grid shows that the player with O has put a straight-line (i.e. is in win condition) and countX != countO, \n",
    "       it’s an invalid position. The reason is that O plays his move only after X plays his move. \n",
    "       Since X has started the game, O would win when both X and O has played equal no. of moves.\n",
    "    e) If input grid shows that X is in winning condition than xCount must be one greater that oCount.\n",
    "\n",
    "Armed with above conditions i.e. a), b), c) and d), \n",
    "we can now easily formulate an algorithm/program to check the validity of a given Tic-Tac-Toe board position.\n",
    "*/"
   ]
  },
  {
   "cell_type": "code",
   "execution_count": 26,
   "metadata": {},
   "outputs": [],
   "source": [
    "/*\n",
    "1)  countX == countO or countX == countO + 1\n",
    "2)  If O is in win condition then check \n",
    "     a)     If X also wins, not valid\n",
    "     b)     If xbox != obox , not valid\n",
    "3)  If X is in win condition then check if xCount is\n",
    "     one more than oCount or not \n",
    "*/"
   ]
  },
  {
   "cell_type": "code",
   "execution_count": 27,
   "metadata": {},
   "outputs": [],
   "source": [
    "/*\n",
    "Another way to find the validity of a given board is using ‘inverse method’ \n",
    "i.e. rule out all the possibilities when a given board is invalid.\n",
    "*/"
   ]
  },
  {
   "cell_type": "code",
   "execution_count": 28,
   "metadata": {},
   "outputs": [],
   "source": [
    "// This matrix is used to find indexes to check all  \n",
    "// possible wining triplets in board[0..8]  \n",
    "static int win[][] = {{0, 1, 2}, // Check first row.  \n",
    "{3, 4, 5}, // Check second Row  \n",
    "{6, 7, 8}, // Check third Row  \n",
    "{0, 3, 6}, // Check first column  \n",
    "{1, 4, 7}, // Check second Column  \n",
    "{2, 5, 8}, // Check third Column  \n",
    "{0, 4, 8}, // Check first Diagonal  \n",
    "{2, 4, 6}}; // Check second Diagonal  "
   ]
  },
  {
   "cell_type": "code",
   "execution_count": 29,
   "metadata": {},
   "outputs": [],
   "source": [
    "// Returns true if character 'c' wins. c can be either  \n",
    "// 'X' or 'O'  \n",
    "static boolean isCWin(char[] board, char c) { \n",
    "    // Check all possible winning combinations  \n",
    "    for (int i = 0; i < 8; i++) { \n",
    "        if (board[win[i][0]] == c \n",
    "                && board[win[i][1]] == c \n",
    "                && board[win[i][2]] == c) { \n",
    "            return true; \n",
    "        } \n",
    "    } \n",
    "    return false; \n",
    "} "
   ]
  },
  {
   "cell_type": "code",
   "execution_count": 30,
   "metadata": {},
   "outputs": [],
   "source": [
    "// Returns true if given board is valid, else returns false  \n",
    "static boolean isValid(char board[]) { \n",
    "    // Count number of 'X' and 'O' in the given board  \n",
    "    int xCount = 0, oCount = 0; \n",
    "    for (int i = 0; i < 9; i++) { \n",
    "        if (board[i] == 'X') { \n",
    "            xCount++; \n",
    "        } \n",
    "        if (board[i] == 'O') { \n",
    "            oCount++; \n",
    "        } \n",
    "    } \n",
    "\n",
    "    // Board can be valid only if either xCount and oCount  \n",
    "    // is same or xount is one more than oCount  \n",
    "    if (xCount == oCount || xCount == oCount + 1) { \n",
    "        // Check if 'O' is winner  \n",
    "        if (isCWin(board, 'O')) { \n",
    "            // Check if 'X' is also winner, then  \n",
    "            // return false  \n",
    "            if (isCWin(board, 'X')) { \n",
    "                return false; \n",
    "            } \n",
    "\n",
    "            // Else return true xCount and yCount are same  \n",
    "            return (xCount == oCount); \n",
    "        } \n",
    "\n",
    "        // If 'X' wins, then count of X must be greater  \n",
    "        if (isCWin(board, 'X') && xCount != oCount + 1) { \n",
    "            return false; \n",
    "        } \n",
    "\n",
    "        // If 'O' is not winner, then return true  \n",
    "        return true; \n",
    "    } \n",
    "    return false; \n",
    "} "
   ]
  },
  {
   "cell_type": "code",
   "execution_count": 31,
   "metadata": {},
   "outputs": [
    {
     "name": "stdout",
     "output_type": "stream",
     "text": [
      "Given board is valid\n"
     ]
    }
   ],
   "source": [
    "// Driver program  \n",
    "public static void main(String[] args) { \n",
    "    char board[] = {'X', 'X', 'O', 'O', 'O', 'X', 'X', 'O', 'X'}; \n",
    "\n",
    "    if ((isValid(board))) { \n",
    "        System.out.println(\"Given board is valid\"); \n",
    "    } else { \n",
    "        System.out.println(\"Given board is not valid\"); \n",
    "    } \n",
    "}\n",
    "main(args);"
   ]
  },
  {
   "cell_type": "markdown",
   "metadata": {},
   "source": [
    "## **139. Given a matrix of ‘O’ and ‘X’, find the largest subsquare surrounded by ‘X’**\n",
    "https://www.geeksforgeeks.org/given-matrix-o-x-find-largest-subsquare-surrounded-x/"
   ]
  },
  {
   "cell_type": "code",
   "execution_count": 32,
   "metadata": {},
   "outputs": [],
   "source": [
    "/*\n",
    "Given a matrix where every element is either ‘O’ or ‘X’, find the largest subsquare surrounded by ‘X’.\n",
    "In the below article, \n",
    "it is assumed that the given matrix is also square matrix. \n",
    "The code given below can be easily extended for rectangular matrices.\n",
    "*/"
   ]
  },
  {
   "cell_type": "code",
   "execution_count": 33,
   "metadata": {},
   "outputs": [],
   "source": [
    "/*\n",
    "Examples:\n",
    "\n",
    "Input: mat[N][N] = { {'X', 'O', 'X', 'X', 'X'},\n",
    "                     {'X', 'X', 'X', 'X', 'X'},\n",
    "                     {'X', 'X', 'O', 'X', 'O'},\n",
    "                     {'X', 'X', 'X', 'X', 'X'},\n",
    "                     {'X', 'X', 'X', 'O', 'O'},\n",
    "                    };\n",
    "Output: 3\n",
    "The square submatrix starting at (1, 1) is the largest\n",
    "submatrix surrounded by 'X'\n",
    "\n",
    "Input: mat[M][N] = { {'X', 'O', 'X', 'X', 'X', 'X'},\n",
    "                     {'X', 'O', 'X', 'X', 'O', 'X'},\n",
    "                     {'X', 'X', 'X', 'O', 'O', 'X'},\n",
    "                     {'X', 'X', 'X', 'X', 'X', 'X'},\n",
    "                     {'X', 'X', 'X', 'O', 'X', 'O'},\n",
    "                    };\n",
    "Output: 4\n",
    "The square submatrix starting at (0, 2) is the largest\n",
    "submatrix surrounded by 'X'\n",
    "*/"
   ]
  },
  {
   "cell_type": "code",
   "execution_count": 34,
   "metadata": {},
   "outputs": [],
   "source": [
    "/*\n",
    "A Simple Solution is to consider every square submatrix \n",
    "and check whether is has all corner edges filled with ‘X’. \n",
    "\n",
    "The time complexity of this solution is O(N^4).\n",
    "*/"
   ]
  },
  {
   "cell_type": "code",
   "execution_count": 35,
   "metadata": {},
   "outputs": [],
   "source": [
    "/*\n",
    "We can solve this problem in O(N^3) time using extra space. \n",
    "The idea is to create two auxiliary arrays hor[N][N] and ver[N][N]. \n",
    "\n",
    "The value stored in hor[i][j] is the number of horizontal continuous ‘X’ characters till mat[i][j] in mat[][]. \n",
    "\n",
    "Similarly, \n",
    "the value stored in ver[i][j] is the number of vertical continuous ‘X’ characters till mat[i][j] in mat[][]. \n",
    "\n",
    "Following is an example.\n",
    "\n",
    "mat[6][6] =  X  O  X  X  X  X\n",
    "             X  O  X  X  O  X\n",
    "             X  X  X  O  O  X\n",
    "             O  X  X  X  X  X\n",
    "             X  X  X  O  X  O\n",
    "             O  O  X  O  O  O\n",
    "\n",
    "hor[6][6] = 1  0  1  2  3  4\n",
    "            1  0  1  2  0  1\n",
    "            1  2  3  0  0  1\n",
    "            0  1  2  3  4  5\n",
    "            1  2  3  0  1  0\n",
    "            0  0  1  0  0  0\n",
    "\n",
    "ver[6][6] = 1  0  1  1  1  1\n",
    "            2  0  2  2  0  2\n",
    "            3  1  3  0  0  3\n",
    "            0  2  4  1  1  4\n",
    "            1  3  5  0  2  0\n",
    "            0  0  6  0  0  0\n",
    "            \n",
    "Once we have filled values in hor[][] and ver[][], \n",
    "    we start from the bottommost-rightmost corner of matrix and move toward the leftmost-topmost in row by row manner. \n",
    "    For every visited entry mat[i][j], \n",
    "        we compare the values of hor[i][j] and ver[i][j], and pick the smaller of two as we need a square. \n",
    "        Let the smaller of two be ‘small’. \n",
    "        After picking smaller of two, we check if both ver[][] and hor[][] for left and up edges respectively. \n",
    "        If they have entries for the same, then we found a subsquare. Otherwise we try for small-1.\n",
    "*/"
   ]
  },
  {
   "cell_type": "code",
   "execution_count": 36,
   "metadata": {},
   "outputs": [],
   "source": [
    "// Size of given  \n",
    "// matrix is N X N \n",
    "static int N = 6; \n",
    "\n",
    "// A utility function to  \n",
    "// find minimum of two numbers \n",
    "static int getMin(int x, int y) \n",
    "{ \n",
    "    return (x < y) ? x : y; \n",
    "}"
   ]
  },
  {
   "cell_type": "code",
   "execution_count": 37,
   "metadata": {},
   "outputs": [],
   "source": [
    "// Returns size of maximum \n",
    "// size subsquare matrix \n",
    "// surrounded by 'X' \n",
    "static int findSubSquare(int mat[][]) \n",
    "{ \n",
    "    int max = 0; // Initialize result \n",
    "  \n",
    "    // Initialize the left-top  \n",
    "    // value in hor[][] and ver[][] \n",
    "    int hor[][] = new int[N][N]; \n",
    "    int ver[][] = new int[N][N]; \n",
    "    hor[0][0] = ver[0][0] = 'X'; \n",
    "  \n",
    "    // Fill values in  \n",
    "    // hor[][] and ver[][] \n",
    "    for (int i = 0; i < N; i++) \n",
    "    { \n",
    "        for (int j = 0; j < N; j++) \n",
    "        { \n",
    "            if (mat[i][j] == 'O') \n",
    "                ver[i][j] = hor[i][j] = 0; \n",
    "            else\n",
    "            { \n",
    "                hor[i][j] = (j == 0) ? 1 :  \n",
    "                hor[i][j - 1] + 1; \n",
    "                ver[i][j] = (i == 0) ? 1 :  \n",
    "                ver[i - 1][j] + 1; \n",
    "            } \n",
    "        } \n",
    "    } \n",
    "  \n",
    "    // Start from the rightmost- \n",
    "    // bottommost corner element  \n",
    "    // and find the largest  \n",
    "    // subsquare with the help  \n",
    "    // of hor[][] and ver[][] \n",
    "    for (int i = N - 1; i >= 1; i--) \n",
    "    { \n",
    "        for (int j = N - 1; j >= 1; j--) \n",
    "        { \n",
    "            // Find smaller of values in  \n",
    "            // hor[][] and ver[][] A Square  \n",
    "            // can only be made by taking  \n",
    "            // smaller value \n",
    "            int small = getMin(hor[i][j],  \n",
    "                               ver[i][j]); \n",
    "  \n",
    "            // At this point, we are sure  \n",
    "            // that there is a right vertical \n",
    "            // line and bottom horizontal  \n",
    "            // line of length at least 'small'. \n",
    "  \n",
    "            // We found a bigger square  \n",
    "            // if following conditions \n",
    "            // are met: \n",
    "            // 1)If side of square \n",
    "            //   is greater than max. \n",
    "            // 2)There is a left vertical \n",
    "            //   line of length >= 'small' \n",
    "            // 3)There is a top horizontal \n",
    "            //   line of length >= 'small' \n",
    "            while (small > max) \n",
    "            { \n",
    "                if (ver[i][j - small + 1] >= small && \n",
    "                    hor[i - small + 1][j] >= small) \n",
    "                { \n",
    "                    max = small; \n",
    "                } \n",
    "                small--; \n",
    "            } \n",
    "        } \n",
    "    } \n",
    "    return max; \n",
    "} "
   ]
  },
  {
   "cell_type": "code",
   "execution_count": 38,
   "metadata": {},
   "outputs": [
    {
     "name": "stdout",
     "output_type": "stream",
     "text": [
      "4\n"
     ]
    }
   ],
   "source": [
    "// Driver Code \n",
    "public static void main(String[] args)  \n",
    "{ \n",
    "    // TODO Auto-generated method stub \n",
    "\n",
    "    int mat[][] = {{'X', 'O', 'X', 'X', 'X', 'X'}, \n",
    "                   {'X', 'O', 'X', 'X', 'O', 'X'}, \n",
    "                   {'X', 'X', 'X', 'O', 'O', 'X'}, \n",
    "                   {'O', 'X', 'X', 'X', 'X', 'X'}, \n",
    "                     {'X', 'X', 'X', 'O', 'X', 'O'}, \n",
    "                   {'O', 'O', 'X', 'O', 'O', 'O'}}; \n",
    "        System.out.println(findSubSquare(mat)); \n",
    "} \n",
    "main(args);"
   ]
  },
  {
   "cell_type": "markdown",
   "metadata": {},
   "source": [
    "## **140.Rotate Matrix Elements**\n",
    "https://www.geeksforgeeks.org/rotate-matrix-elements/"
   ]
  },
  {
   "cell_type": "code",
   "execution_count": 39,
   "metadata": {},
   "outputs": [],
   "source": [
    "/*\n",
    "Given a matrix, clockwise rotate elements in it.\n",
    "*/"
   ]
  },
  {
   "cell_type": "code",
   "execution_count": 40,
   "metadata": {},
   "outputs": [],
   "source": [
    "/*\n",
    "Examples:\n",
    "\n",
    "Input\n",
    "1    2    3\n",
    "4    5    6\n",
    "7    8    9\n",
    "\n",
    "Output:\n",
    "4    1    2\n",
    "7    5    3\n",
    "8    9    6\n",
    "\n",
    "For 4*4 matrix\n",
    "Input:\n",
    "1    2    3    4    \n",
    "5    6    7    8\n",
    "9    10   11   12\n",
    "13   14   15   16\n",
    "\n",
    "Output:\n",
    "5    1    2    3\n",
    "9    10   6    4\n",
    "13   11   7    8\n",
    "14   15   16   12\n",
    "*/"
   ]
  },
  {
   "cell_type": "markdown",
   "metadata": {},
   "source": [
    "**Related Link** ***https://www.geeksforgeeks.org/print-a-given-matrix-in-spiral-form/***"
   ]
  },
  {
   "cell_type": "code",
   "execution_count": 41,
   "metadata": {},
   "outputs": [],
   "source": [
    "/*\n",
    "The idea is to use loops similar to the program for printing a matrix in spiral form (Above Related Link). \n",
    "One by one rotate all rings of elements, starting from the outermost. To rotate a ring, we need to do following.\n",
    "    1) Move elements of top row.\n",
    "    2) Move elements of last column.\n",
    "    3) Move elements of bottom row.\n",
    "    4) Move elements of first column.\n",
    "Repeat above steps for inner ring while there is an inner ring.\n",
    "*/"
   ]
  },
  {
   "cell_type": "code",
   "execution_count": 42,
   "metadata": {},
   "outputs": [],
   "source": [
    "static int R = 4; \n",
    "static int C = 4;"
   ]
  },
  {
   "cell_type": "code",
   "execution_count": 43,
   "metadata": {},
   "outputs": [],
   "source": [
    "// A function to rotate a matrix  \n",
    "// mat[][] of size R x C. \n",
    "// Initially, m = R and n = C \n",
    "static void rotatematrix(int m, \n",
    "                int n, int mat[][]) \n",
    "{ \n",
    "    int row = 0, col = 0; \n",
    "    int prev, curr; \n",
    "\n",
    "    /* \n",
    "    row - Staring row index \n",
    "    m - ending row index \n",
    "    col - starting column index \n",
    "    n - ending column index \n",
    "    i - iterator \n",
    "    */\n",
    "    while (row < m && col < n) \n",
    "    { \n",
    "\n",
    "        if (row + 1 == m || col + 1 == n) \n",
    "            break; \n",
    "\n",
    "        // Store the first element of next \n",
    "        // row, this element will replace  \n",
    "        // first element of current row \n",
    "        prev = mat[row + 1][col]; \n",
    "\n",
    "        // Move elements of first row  \n",
    "        // from the remaining rows  \n",
    "        for (int i = col; i < n; i++) \n",
    "        { \n",
    "            curr = mat[row][i]; \n",
    "            mat[row][i] = prev; \n",
    "            prev = curr; \n",
    "        } \n",
    "        row++; \n",
    "\n",
    "        // Move elements of last column \n",
    "        // from the remaining columns  \n",
    "        for (int i = row; i < m; i++) \n",
    "        { \n",
    "            curr = mat[i][n-1]; \n",
    "            mat[i][n-1] = prev; \n",
    "            prev = curr; \n",
    "        } \n",
    "        n--; \n",
    "\n",
    "        // Move elements of last row  \n",
    "        // from the remaining rows  \n",
    "        if (row < m) \n",
    "        { \n",
    "            for (int i = n-1; i >= col; i--) \n",
    "            { \n",
    "                curr = mat[m-1][i]; \n",
    "                mat[m-1][i] = prev; \n",
    "                prev = curr; \n",
    "            } \n",
    "        } \n",
    "        m--; \n",
    "\n",
    "        // Move elements of first column \n",
    "        // from the remaining rows  \n",
    "        if (col < n) \n",
    "        { \n",
    "            for (int i = m-1; i >= row; i--) \n",
    "            { \n",
    "                curr = mat[i][col]; \n",
    "                mat[i][col] = prev; \n",
    "                prev = curr; \n",
    "            } \n",
    "        } \n",
    "        col++; \n",
    "    } \n",
    "\n",
    "    // Print rotated matrix \n",
    "    for (int i = 0; i < R; i++) \n",
    "    { \n",
    "        for (int j = 0; j < C; j++) \n",
    "        System.out.print( mat[i][j] + \" \"); \n",
    "        System.out.print(\"\\n\"); \n",
    "    } \n",
    "}"
   ]
  },
  {
   "cell_type": "code",
   "execution_count": 44,
   "metadata": {},
   "outputs": [
    {
     "name": "stdout",
     "output_type": "stream",
     "text": [
      "5 1 2 3 \n",
      "9 10 6 4 \n",
      "13 11 7 8 \n",
      "14 15 16 12 \n"
     ]
    }
   ],
   "source": [
    "/* Driver program to test above functions */\n",
    "public static void main(String[] args)  \n",
    "{ \n",
    "    // Test Case 1 \n",
    "    int a[][] = { {1, 2, 3, 4}, \n",
    "                  {5, 6, 7, 8}, \n",
    "                {9, 10, 11, 12}, \n",
    "                {13, 14, 15, 16} }; \n",
    "\n",
    "    // Tese Case 2 \n",
    "    /* int a[][] = new int {{1, 2, 3}, \n",
    "                            {4, 5, 6}, \n",
    "                            {7, 8, 9}};*/\n",
    "    rotatematrix(R, C, a); \n",
    "\n",
    "} \n",
    "main(args);"
   ]
  },
  {
   "cell_type": "markdown",
   "metadata": {},
   "source": [
    "## **141.Find a common element in all rows of a given row-wise sorted matrix**\n",
    "https://www.geeksforgeeks.org/find-common-element-rows-row-wise-sorted-matrix/"
   ]
  },
  {
   "cell_type": "code",
   "execution_count": 45,
   "metadata": {},
   "outputs": [],
   "source": [
    "/*\n",
    "Given a matrix where every row is sorted in increasing order. \n",
    "Write a function that finds and returns a common element in all rows. \n",
    "If there is no common element, then returns -1.\n",
    "*/"
   ]
  },
  {
   "cell_type": "code",
   "execution_count": 46,
   "metadata": {},
   "outputs": [],
   "source": [
    "/*\n",
    "Example:\n",
    "\n",
    "Input: mat[4][5] = { {1, 2, 3, 4, 5},\n",
    "                    {2, 4, 5, 8, 10},\n",
    "                    {3, 5, 7, 9, 11},\n",
    "                    {1, 3, 5, 7, 9},\n",
    "                  };\n",
    "Output: 5\n",
    "*/"
   ]
  },
  {
   "cell_type": "code",
   "execution_count": 47,
   "metadata": {},
   "outputs": [],
   "source": [
    "/*\n",
    "A O(m*n*n) simple solution is to take every element of first row and search it in all other rows, till we find a common element. \n",
    "Time complexity of this solution is O(m*n*n) \n",
    "    where m is number of rows and \n",
    "          n is number of columns in given matrix. \n",
    "          \n",
    "This can be improved to O(m*n*Logn) if we use Binary Search instead of linear search.\n",
    "*/"
   ]
  },
  {
   "cell_type": "code",
   "execution_count": 48,
   "metadata": {},
   "outputs": [],
   "source": [
    "/*\n",
    "We can solve this problem in O(mn) time using the approach similar to merge of Merge Sort. \n",
    "The idea is to start from the last column of every row. \n",
    "If elements at all last columns are same, \n",
    "    then we found the common element. \n",
    "Otherwise \n",
    "    we find the minimum of all last columns. \n",
    "\n",
    "Once we find a minimum element, \n",
    "    we know that all other elements in last columns cannot be a common element, \n",
    "    so we reduce last column index for all rows except for the row which has minimum value. \n",
    "\n",
    "We keep repeating these steps till either all elements at current last column don’t become same, \n",
    "or a last column index reaches 0.\n",
    "*/"
   ]
  },
  {
   "cell_type": "code",
   "execution_count": 49,
   "metadata": {},
   "outputs": [],
   "source": [
    "// Specify number of rows and columns \n",
    "static final int M = 4; \n",
    "static final int N = 5; "
   ]
  },
  {
   "cell_type": "code",
   "execution_count": 50,
   "metadata": {},
   "outputs": [],
   "source": [
    "// Returns common element in all rows \n",
    "// of mat[M][N]. If there is no \n",
    "// common element, then -1 is \n",
    "// returned \n",
    "static int findCommon(int mat[][]) \n",
    "{ \n",
    "    // An array to store indexes \n",
    "    // of current last column \n",
    "    int column[] = new int[M]; \n",
    "\n",
    "    // To store index of row whose current \n",
    "    // last element is minimum \n",
    "    int min_row; \n",
    "\n",
    "    // Initialize current last element of all rows \n",
    "    int i; \n",
    "    for (i = 0; i < M; i++) \n",
    "        column[i] = N - 1; \n",
    "\n",
    "    // Initialize min_row as first row \n",
    "    min_row = 0; \n",
    "\n",
    "    // Keep finding min_row in current last column, till either \n",
    "    // all elements of last column become same or we hit first column. \n",
    "    while (column[min_row] >= 0) { \n",
    "        // Find minimum in current last column \n",
    "        for (i = 0; i < M; i++) { \n",
    "            if (mat[i][column[i]] < mat[min_row][column[min_row]]) \n",
    "                min_row = i; \n",
    "        } \n",
    "\n",
    "        // eq_count is count of elements equal to minimum in current last \n",
    "        // column. \n",
    "        int eq_count = 0; \n",
    "\n",
    "        // Traverse current last column elements again to update it \n",
    "        for (i = 0; i < M; i++) { \n",
    "            // Decrease last column index of a row whose value is more \n",
    "            // than minimum. \n",
    "            if (mat[i][column[i]] > mat[min_row][column[min_row]]) { \n",
    "                if (column[i] == 0) \n",
    "                    return -1; \n",
    "\n",
    "                // Reduce last column index by 1 \n",
    "                column[i] -= 1; \n",
    "            } \n",
    "            else\n",
    "                eq_count++; \n",
    "        } \n",
    "\n",
    "        // If equal count becomes M, \n",
    "        // return the value \n",
    "        if (eq_count == M) \n",
    "            return mat[min_row][column[min_row]]; \n",
    "    } \n",
    "    return -1; \n",
    "} "
   ]
  },
  {
   "cell_type": "code",
   "execution_count": 51,
   "metadata": {},
   "outputs": [
    {
     "name": "stdout",
     "output_type": "stream",
     "text": [
      "Common element is 5"
     ]
    }
   ],
   "source": [
    "// Driver code \n",
    "public static void main(String[] args) \n",
    "{ \n",
    "    int mat[][] = { { 1, 2, 3, 4, 5 }, \n",
    "                    { 2, 4, 5, 8, 10 }, \n",
    "                    { 3, 5, 7, 9, 11 }, \n",
    "                    { 1, 3, 5, 7, 9 } }; \n",
    "    int result = findCommon(mat); \n",
    "    if (result == -1) \n",
    "        System.out.print(\"No common element\"); \n",
    "    else\n",
    "        System.out.print(\"Common element is \" + result); \n",
    "} \n",
    "main(args);"
   ]
  },
  {
   "cell_type": "code",
   "execution_count": 52,
   "metadata": {},
   "outputs": [],
   "source": [
    "/*\n",
    "Explanation for working of above code\n",
    "Let us understand working of above code for following example.\n",
    "\n",
    "Initially entries in last column array are N-1, i.e., {4, 4, 4, 4}\n",
    "    {1, 2, 3, 4, 5},\n",
    "    {2, 4, 5, 8, 10},\n",
    "    {3, 5, 7, 9, 11},\n",
    "    {1, 3, 5, 7, 9},\n",
    "\n",
    "The value of min_row is 0, so values of last column index for rows with value greater than 5 is reduced by one. \n",
    "So column[] becomes {4, 3, 3, 3}.\n",
    "    {1, 2, 3, 4, 5},\n",
    "    {2, 4, 5, 8, 10},\n",
    "    {3, 5, 7, 9, 11},\n",
    "    {1, 3, 5, 7, 9},\n",
    "\n",
    "The value of min_row remains 0 and and value of last column index for rows with value greater than 5 is reduced by one.\n",
    "So column[] becomes {4, 2, 2, 2}.\n",
    "    {1, 2, 3, 4, 5},\n",
    "    {2, 4, 5, 8, 10},\n",
    "    {3, 5, 7, 9, 11},\n",
    "    {1, 3, 5, 7, 9},\n",
    "\n",
    "The value of min_row remains 0 and value of last column index for rows with value greater than 5 is reduced by one. \n",
    "So colomun[] becomes {4, 2, 1, 2}.\n",
    "    {1, 2, 3, 4, 5},\n",
    "    {2, 4, 5, 8, 10},\n",
    "    {3, 5, 7, 9, 11},\n",
    "    {1, 3, 5, 7, 9},\n",
    "\n",
    "Now all values in current last columns of all rows is same, so 5 is returned.\n",
    "*/"
   ]
  },
  {
   "cell_type": "code",
   "execution_count": 53,
   "metadata": {},
   "outputs": [],
   "source": [
    "/*\n",
    "A Hashing Based Solution\n",
    "\n",
    "We can also use hashing. This solution works even if the rows are not sorted. \n",
    "It can be used to print all common elements.\n",
    "\n",
    "Step1:  Create a Hash Table with all key as distinct elements \n",
    "        of row1. Value for all these will be 0.\n",
    "\n",
    "Step2:  \n",
    "For i = 1 to M-1\n",
    " For j = 0 to N-1\n",
    "  If (mat[i][j] is already present in Hash Table)\n",
    "   If (And this is not a repetition in current row.\n",
    "      This can be checked by comparing HashTable value with\n",
    "      row number)\n",
    "         Update the value of this key in HashTable with current \n",
    "         row number\n",
    "\n",
    "Step3: Iterate over HashTable and print all those keys for \n",
    "       which value = M \n",
    "*/"
   ]
  },
  {
   "cell_type": "code",
   "execution_count": 54,
   "metadata": {},
   "outputs": [],
   "source": [
    "// Specify number of rows and columns \n",
    "static int M = 4; \n",
    "static int N = 5;"
   ]
  },
  {
   "cell_type": "code",
   "execution_count": 55,
   "metadata": {},
   "outputs": [],
   "source": [
    "// Returns common element in all rows of mat[M][N]. \n",
    "// If there is no common element, then -1 is returned \n",
    "static int findCommon(int mat[][]) \n",
    "{ \n",
    "    // A hash map to store count of elements \n",
    "    HashMap<Integer,  \n",
    "            Integer> cnt = new HashMap<Integer,  \n",
    "                                       Integer>(); \n",
    "  \n",
    "    int i, j; \n",
    "  \n",
    "    for (i = 0; i < M; i++)  \n",
    "    { \n",
    "  \n",
    "        // Increment the count of first \n",
    "        // element of the row \n",
    "        if(cnt.containsKey(mat[i][0])) \n",
    "        { \n",
    "            cnt.put(mat[i][0],  \n",
    "            cnt.get(mat[i][0]) + 1); \n",
    "        } \n",
    "        else\n",
    "        { \n",
    "            cnt.put(mat[i][0], 1); \n",
    "        } \n",
    "  \n",
    "        // Starting from the second element \n",
    "        // of the current row \n",
    "        for (j = 1; j < N; j++)  \n",
    "        { \n",
    "  \n",
    "            // If current element is different from \n",
    "            // the previous element i.e. it is appearing \n",
    "            // for the first time in the current row \n",
    "            if (mat[i][j] != mat[i][j - 1]) \n",
    "                if(cnt.containsKey(mat[i][j])) \n",
    "                { \n",
    "                    cnt.put(mat[i][j],  \n",
    "                    cnt.get(mat[i][j]) + 1); \n",
    "                } \n",
    "                else\n",
    "                { \n",
    "                    cnt.put(mat[i][j], 1); \n",
    "                } \n",
    "        } \n",
    "    } \n",
    "  \n",
    "    // Find element having count  \n",
    "    // equal to number of rows \n",
    "    for (Map.Entry<Integer,  \n",
    "                   Integer> ele : cnt.entrySet()) \n",
    "    { \n",
    "        if (ele.getValue() == M) \n",
    "            return ele.getKey(); \n",
    "    } \n",
    "  \n",
    "    // No such element found \n",
    "    return -1; \n",
    "} "
   ]
  },
  {
   "cell_type": "code",
   "execution_count": 56,
   "metadata": {},
   "outputs": [
    {
     "name": "stdout",
     "output_type": "stream",
     "text": [
      "Common element is 5\n"
     ]
    }
   ],
   "source": [
    "// Driver Code \n",
    "public static void main(String[] args)  \n",
    "{ \n",
    "    int mat[][] = {{ 1, 2, 3, 4, 5 }, \n",
    "                   { 2, 4, 5, 8, 10 }, \n",
    "                   { 3, 5, 7, 9, 11 }, \n",
    "                   { 1, 3, 5, 7, 9 }}; \n",
    "    int result = findCommon(mat); \n",
    "    if (result == -1) \n",
    "        System.out.println(\"No common element\"); \n",
    "    else\n",
    "        System.out.println(\"Common element is \" + result); \n",
    "} \n",
    "main(args);"
   ]
  },
  {
   "cell_type": "code",
   "execution_count": 57,
   "metadata": {},
   "outputs": [],
   "source": [
    "/*\n",
    "Time complexity of the above hashing based solution is O(MN) \n",
    "under the assumption that search and insert in HashTable take O(1) time.\n",
    "*/"
   ]
  },
  {
   "cell_type": "markdown",
   "metadata": {},
   "source": [
    "## **142. Maximum size rectangle binary sub-matrix with all 1s**\n",
    "https://www.geeksforgeeks.org/maximum-size-rectangle-binary-sub-matrix-1s/"
   ]
  },
  {
   "cell_type": "code",
   "execution_count": 58,
   "metadata": {},
   "outputs": [],
   "source": [
    "/*\n",
    "Given a binary matrix, find the maximum size rectangle binary-sub-matrix with all 1’s.\n",
    "Example:\n",
    "\n",
    "Input :   0 1 1 0\n",
    "          1 1 1 1\n",
    "          1 1 1 1\n",
    "          1 1 0 0\n",
    "\n",
    "Output :  1 1 1 1\n",
    "          1 1 1 1\n",
    "*/"
   ]
  },
  {
   "cell_type": "markdown",
   "metadata": {},
   "source": [
    "**Related Link :** ***https://www.geeksforgeeks.org/maximum-size-sub-matrix-with-all-1s-in-a-binary-matrix/***"
   ]
  },
  {
   "cell_type": "code",
   "execution_count": 59,
   "metadata": {},
   "outputs": [],
   "source": [
    "/*\n",
    "In this post an interesting method is discussed that uses largest rectangle under histogram (Below Link) as a subroutine. \n",
    "\n",
    "\n",
    "Below are steps. \n",
    "\n",
    "The idea is to update each column of a given row with corresponding column of previous row \n",
    "and find largest histogram area for that row.\n",
    "\n",
    "Step 1: Find maximum area for row[0]\n",
    "Step 2:\n",
    "    for each row in 1 to N - 1\n",
    "        for each column in that row\n",
    "            if A[row][column] == 1\n",
    "              update A[row][column] with\n",
    "                A[row][column] += A[row - 1][column]\n",
    "    find area for that row\n",
    "    and update maximum area so far\n",
    "    \n",
    "Time Complexity: O(R x X)\n",
    "*/"
   ]
  },
  {
   "cell_type": "markdown",
   "metadata": {},
   "source": [
    "***https://www.geeksforgeeks.org/largest-rectangle-under-histogram/***"
   ]
  },
  {
   "cell_type": "code",
   "execution_count": 60,
   "metadata": {},
   "outputs": [],
   "source": [
    "/*\n",
    "step 1:    0 1 1 0  maximum area  = 2\n",
    "step 2:\n",
    "    row 1  1 2 2 1  area = 4, maximum area becomes 4\n",
    "    row 2  2 3 3 2  area = 8, maximum area becomes 8\n",
    "    row 3  3 4 0 0  area = 6, maximum area remains 8\n",
    "*/"
   ]
  },
  {
   "cell_type": "code",
   "execution_count": 61,
   "metadata": {},
   "outputs": [],
   "source": [
    "// Finds the maximum area under the histogram represented \n",
    "// by histogram.  See below article for details. \n",
    "// https://www.geeksforgeeks.org/largest-rectangle-under-histogram/ \n",
    "static int maxHist(int R,int C,int row[]) \n",
    "{ \n",
    "    // Create an empty stack. The stack holds indexes of \n",
    "    // hist[] array/ The bars stored in stack are always \n",
    "    // in increasing order of their heights. \n",
    "    Stack<Integer> result = new Stack<Integer>(); \n",
    "\n",
    "    int top_val;     // Top of stack \n",
    "\n",
    "    int max_area = 0; // Initialize max area in current \n",
    "                      // row (or histogram) \n",
    "\n",
    "    int area = 0;    // Initialize area with current top \n",
    "\n",
    "    // Run through all bars of given histogram (or row) \n",
    "    int i = 0; \n",
    "    while (i < C) \n",
    "    { \n",
    "        // If this bar is higher than the bar on top stack, \n",
    "        // push it to stack \n",
    "        if (result.empty() || row[result.peek()] <= row[i]) \n",
    "            result.push(i++); \n",
    "\n",
    "        else\n",
    "        { \n",
    "            // If this bar is lower than top of stack, then \n",
    "            // calculate area of rectangle with stack top as \n",
    "            // the smallest (or minimum height) bar. 'i' is \n",
    "            // 'right index' for the top and element before \n",
    "            // top in stack is 'left index' \n",
    "            top_val = row[result.peek()]; \n",
    "            result.pop(); \n",
    "            area = top_val * i; \n",
    "\n",
    "            if (!result.empty()) \n",
    "                area = top_val * (i - result.peek() - 1 ); \n",
    "            max_area = Math.max(area, max_area); \n",
    "        } \n",
    "    } \n",
    "\n",
    "    // Now pop the remaining bars from stack and calculate  \n",
    "    // area with every popped bar as the smallest bar \n",
    "    while (!result.empty()) \n",
    "    { \n",
    "        top_val = row[result.peek()]; \n",
    "        result.pop(); \n",
    "        area = top_val * i; \n",
    "        if (!result.empty()) \n",
    "            area = top_val * (i - result.peek() - 1 ); \n",
    "\n",
    "        max_area = Math.max(area, max_area); \n",
    "    } \n",
    "    return max_area; \n",
    "} "
   ]
  },
  {
   "cell_type": "code",
   "execution_count": 62,
   "metadata": {},
   "outputs": [],
   "source": [
    "// Returns area of the largest rectangle with all 1s in  \n",
    "// A[][] \n",
    "static int maxRectangle(int R,int C,int A[][]) \n",
    "{ \n",
    "    // Calculate area for first row and initialize it as \n",
    "    // result \n",
    "    int result = maxHist(R,C,A[0]); \n",
    "\n",
    "    // iterate over row to find maximum rectangular area \n",
    "    // considering each row as histogram \n",
    "    for (int i = 1; i < R; i++) \n",
    "    { \n",
    "\n",
    "        for (int j = 0; j < C; j++) \n",
    "\n",
    "            // if A[i][j] is 1 then add A[i -1][j] \n",
    "            if (A[i][j] == 1) A[i][j] += A[i - 1][j]; \n",
    "\n",
    "\n",
    "        // Update result if area with current row (as last \n",
    "        // row of rectangle) is more \n",
    "        result = Math.max(result, maxHist(R,C,A[i])); \n",
    "    } \n",
    "\n",
    "    return result; \n",
    "} "
   ]
  },
  {
   "cell_type": "code",
   "execution_count": 63,
   "metadata": {},
   "outputs": [
    {
     "name": "stdout",
     "output_type": "stream",
     "text": [
      "Area of maximum rectangle is 8"
     ]
    }
   ],
   "source": [
    "// Driver code \n",
    "public static void main (String[] args)  \n",
    "{ \n",
    "    int R = 4; \n",
    "    int C = 4; \n",
    "\n",
    "    int A[][] = { {0, 1, 1, 0}, \n",
    "                  {1, 1, 1, 1}, \n",
    "                  {1, 1, 1, 1}, \n",
    "                  {1, 1, 0, 0}, \n",
    "                }; \n",
    "    System.out.print(\"Area of maximum rectangle is \" +  \n",
    "                              maxRectangle(R,C,A)); \n",
    "} \n",
    "main(args);"
   ]
  },
  {
   "cell_type": "markdown",
   "metadata": {},
   "source": [
    "## **143. Common elements in all rows of a given matrix**\n",
    "https://www.geeksforgeeks.org/common-elements-in-all-rows-of-a-given-matrix/"
   ]
  },
  {
   "cell_type": "code",
   "execution_count": 64,
   "metadata": {},
   "outputs": [],
   "source": [
    "/*\n",
    "Given an m x n matrix, find all common elements present in all rows in O(mn) time and one traversal of matrix.\n",
    "*/"
   ]
  },
  {
   "cell_type": "code",
   "execution_count": 65,
   "metadata": {},
   "outputs": [],
   "source": [
    "/*\n",
    "Example:\n",
    "\n",
    "Input:\n",
    "mat[4][5] = {{1, 2, 1, 4, 8},\n",
    "             {3, 7, 8, 5, 1},\n",
    "             {8, 7, 7, 3, 1},\n",
    "             {8, 1, 2, 7, 9},\n",
    "            };\n",
    "\n",
    "Output: \n",
    "1 8 or 8 1\n",
    "8 and 1 are present in all rows.\n",
    "*/"
   ]
  },
  {
   "cell_type": "code",
   "execution_count": 66,
   "metadata": {},
   "outputs": [],
   "source": [
    "/*\n",
    "A simple solution is to consider every element and \n",
    "check if it is present in all rows. \n",
    "If present, \n",
    "    then print it.\n",
    "*/"
   ]
  },
  {
   "cell_type": "code",
   "execution_count": 67,
   "metadata": {},
   "outputs": [],
   "source": [
    "/*\n",
    "A better solution is to sort all rows in the matrix and use similar approach as discussed in below Link. \n",
    "Sorting will take O(mnlogn) time \n",
    "and finding common elements will take O(mn) time. \n",
    "So overall time complexity of this solution is O(mnlogn)\n",
    "*/"
   ]
  },
  {
   "cell_type": "markdown",
   "metadata": {},
   "source": [
    "***https://www.geeksforgeeks.org/find-common-element-rows-row-wise-sorted-matrix/***"
   ]
  },
  {
   "cell_type": "code",
   "execution_count": 68,
   "metadata": {},
   "outputs": [],
   "source": [
    "/*\n",
    "Can we do better than O(mnlogn)?\n",
    "The idea is to use maps. \n",
    "We initially insert all elements of the first row in an map. \n",
    "\n",
    "For every other element in remaining rows, \n",
    "we check if it is present in the map. \n",
    "If it is present in the map and is not duplicated in current row, \n",
    "    we increment count of the element in map by 1, \n",
    "else \n",
    "    we ignore the element. \n",
    "\n",
    "If the currently traversed row is the last row, \n",
    "    we print the element if it has appeared m-1 times before.\n",
    "*/"
   ]
  },
  {
   "cell_type": "code",
   "execution_count": 69,
   "metadata": {},
   "outputs": [],
   "source": [
    "// Specify number of rows and columns \n",
    "static int M = 4; \n",
    "static int N =5; "
   ]
  },
  {
   "cell_type": "code",
   "execution_count": 70,
   "metadata": {},
   "outputs": [],
   "source": [
    "// prints common element in all rows of matrix \n",
    "static void printCommonElements(int mat[][]) \n",
    "{ \n",
    "  \n",
    "    Map<Integer,Integer> mp = new HashMap<>(); \n",
    "      \n",
    "    // initalize 1st row elements with value 1 \n",
    "    for (int j = 0; j < N; j++) \n",
    "        mp.put(mat[0][j],1); \n",
    "          \n",
    "    // traverse the matrix \n",
    "    for (int i = 1; i < M; i++) \n",
    "    { \n",
    "        for (int j = 0; j < N; j++) \n",
    "        { \n",
    "            // If element is present in the map and \n",
    "            // is not duplicated in current row. \n",
    "            if (mp.get(mat[i][j]) != null && mp.get(mat[i][j]) == i) \n",
    "            { \n",
    "                // we increment count of the element \n",
    "                // in map by 1 \n",
    "                mp.put(mat[i][j], i + 1); \n",
    "  \n",
    "                // If this is last row \n",
    "                if (i == M - 1) \n",
    "                    System.out.print(mat[i][j] + \" \"); \n",
    "            } \n",
    "        } \n",
    "    } \n",
    "} "
   ]
  },
  {
   "cell_type": "code",
   "execution_count": 71,
   "metadata": {},
   "outputs": [
    {
     "name": "stdout",
     "output_type": "stream",
     "text": [
      "8 1 "
     ]
    }
   ],
   "source": [
    "// Driver code \n",
    "public static void main(String[] args)  \n",
    "{ \n",
    "    int mat[][] = \n",
    "    { \n",
    "        {1, 2, 1, 4, 8}, \n",
    "        {3, 7, 8, 5, 1}, \n",
    "        {8, 7, 7, 3, 1}, \n",
    "        {8, 1, 2, 7, 9}, \n",
    "    }; \n",
    "  \n",
    "    printCommonElements(mat); \n",
    "} \n",
    "main(args);"
   ]
  },
  {
   "cell_type": "code",
   "execution_count": 72,
   "metadata": {},
   "outputs": [],
   "source": [
    "/*\n",
    "The time complexity of this solution is O(m * n) \n",
    "and we are doing only one traversal of the matrix.\n",
    "*/"
   ]
  },
  {
   "cell_type": "markdown",
   "metadata": {},
   "source": [
    "## **144. Find a specific pair in Matrix**\n",
    "https://www.geeksforgeeks.org/find-a-specific-pair-in-matrix/"
   ]
  },
  {
   "cell_type": "code",
   "execution_count": 73,
   "metadata": {},
   "outputs": [],
   "source": [
    "/*\n",
    "Given an n x n matrix mat[n][n] of integers, \n",
    "find the maximum value of mat(c, d) – mat(a, b) over all choices of indexes \n",
    "such that both c > a and d > b.\n",
    "\n",
    "The program should do only ONE traversal of the matrix. \n",
    "i.e. expected time complexity is O(n^2)\n",
    "*/"
   ]
  },
  {
   "cell_type": "code",
   "execution_count": 74,
   "metadata": {},
   "outputs": [],
   "source": [
    "/*\n",
    "Example:\n",
    "\n",
    "Input:\n",
    "mat[N][N] = {{ 1, 2, -1, -4, -20 },\n",
    "             { -8, -3, 4, 2, 1 }, \n",
    "             { 3, 8, 6, 1, 3 },\n",
    "             { -4, -1, 1, 7, -6 },\n",
    "             { 0, -4, 10, -5, 1 }};\n",
    "Output: 18\n",
    "The maximum value is 18 as mat[4][2] - mat[1][0] = 18 has maximum difference. \n",
    "*/"
   ]
  },
  {
   "cell_type": "code",
   "execution_count": 75,
   "metadata": {},
   "outputs": [],
   "source": [
    "/*\n",
    "A simple solution would be to apply Brute-Force. \n",
    "For all values mat(a, b) in the matrix, \n",
    "we find mat(c, d) that has maximum value \n",
    "such that c > a and d > b \n",
    "and keeps on updating maximum value found so far. \n",
    "We finally return the maximum value.\n",
    "*/"
   ]
  },
  {
   "cell_type": "code",
   "execution_count": 76,
   "metadata": {},
   "outputs": [
    {
     "name": "stdout",
     "output_type": "stream",
     "text": [
      "Maximum Value is 18"
     ]
    }
   ],
   "source": [
    "// The function returns maximum value A(d,e) - A(a,b) \n",
    "// over all choices of indexes such that both d > a \n",
    "// and e > b. \n",
    "static int findMaxValue(int N,int mat[][]) \n",
    "{ \n",
    "    // stores maximum value \n",
    "    int maxValue = Integer.MIN_VALUE; \n",
    "\n",
    "    // Consider all possible pairs mat[a][b] and \n",
    "    // mat1[d][e] \n",
    "    for (int a = 0; a < N - 1; a++) \n",
    "      for (int b = 0; b < N - 1; b++) \n",
    "         for (int d = a + 1; d < N; d++) \n",
    "           for (int e = b + 1; e < N; e++) \n",
    "              if (maxValue < (mat[d][e] - mat[a][b])) \n",
    "                  maxValue = mat[d][e] - mat[a][b]; \n",
    "\n",
    "    return maxValue; \n",
    "} \n",
    "\n",
    "// Driver code \n",
    "public static void main (String[] args)  \n",
    "{ \n",
    "    int N = 5; \n",
    "\n",
    "    int mat[][] = { \n",
    "                  { 1, 2, -1, -4, -20 }, \n",
    "                  { -8, -3, 4, 2, 1 }, \n",
    "                  { 3, 8, 6, 1, 3 }, \n",
    "                  { -4, -1, 1, 7, -6 }, \n",
    "                  { 0, -4, 10, -5, 1 } \n",
    "               }; \n",
    "\n",
    "    System.out.print(\"Maximum Value is \" +  \n",
    "                     findMaxValue(N,mat)); \n",
    "} \n",
    "main(args);"
   ]
  },
  {
   "cell_type": "code",
   "execution_count": 77,
   "metadata": {},
   "outputs": [],
   "source": [
    "/*\n",
    "The above program runs in O(n^4) time which is nowhere close to expected time complexity of O(n^2)\n",
    "\n",
    "An efficient solution uses extra space. \n",
    "We pre-process the matrix such that index(i, j) stores max of elements in matrix from (i, j) to (N-1, N-1) \n",
    "and in the process keeps on updating maximum value found so far. \n",
    "We finally return the maximum value.\n",
    "*/"
   ]
  },
  {
   "cell_type": "code",
   "execution_count": 78,
   "metadata": {},
   "outputs": [],
   "source": [
    "// The function returns maximum value A(c,d) - A(a,b) \n",
    "// over all choices of indexes such that both c > a \n",
    "// and d > b. \n",
    "static int findMaxValue(int N,int mat[][]) \n",
    "{ \n",
    "    //stores maximum value \n",
    "    int maxValue = Integer.MIN_VALUE; \n",
    "\n",
    "    // maxArr[i][j] stores max of elements in matrix \n",
    "    // from (i, j) to (N-1, N-1) \n",
    "    int maxArr[][] = new int[N][N]; \n",
    "\n",
    "    // last element of maxArr will be same's as of \n",
    "    // the input matrix \n",
    "    maxArr[N-1][N-1] = mat[N-1][N-1]; \n",
    "\n",
    "    // preprocess last row \n",
    "    int maxv = mat[N-1][N-1];  // Initialize max \n",
    "    for (int j = N - 2; j >= 0; j--) \n",
    "    { \n",
    "        if (mat[N-1][j] > maxv) \n",
    "            maxv = mat[N - 1][j]; \n",
    "        maxArr[N-1][j] = maxv; \n",
    "    } \n",
    "\n",
    "    // preprocess last column \n",
    "    maxv = mat[N - 1][N - 1];  // Initialize max \n",
    "    for (int i = N - 2; i >= 0; i--) \n",
    "    { \n",
    "        if (mat[i][N - 1] > maxv) \n",
    "            maxv = mat[i][N - 1]; \n",
    "        maxArr[i][N - 1] = maxv; \n",
    "    } \n",
    "\n",
    "    // preprocess rest of the matrix from bottom \n",
    "    for (int i = N-2; i >= 0; i--) \n",
    "    { \n",
    "        for (int j = N-2; j >= 0; j--) \n",
    "        { \n",
    "            // Update maxValue \n",
    "            if (maxArr[i+1][j+1] - mat[i][j] > maxValue) \n",
    "                maxValue = maxArr[i + 1][j + 1] - mat[i][j]; \n",
    "\n",
    "            // set maxArr (i, j) \n",
    "            maxArr[i][j] = Math.max(mat[i][j], \n",
    "                               Math.max(maxArr[i][j + 1], \n",
    "                                   maxArr[i + 1][j]) ); \n",
    "        } \n",
    "    } \n",
    "\n",
    "    return maxValue; \n",
    "} "
   ]
  },
  {
   "cell_type": "code",
   "execution_count": 79,
   "metadata": {},
   "outputs": [
    {
     "name": "stdout",
     "output_type": "stream",
     "text": [
      "Maximum Value is 18"
     ]
    }
   ],
   "source": [
    "// Driver code \n",
    "public static void main (String[] args)  \n",
    "{ \n",
    "    int N = 5; \n",
    "\n",
    "    int mat[][] = { \n",
    "                  { 1, 2, -1, -4, -20 }, \n",
    "                  { -8, -3, 4, 2, 1 }, \n",
    "                  { 3, 8, 6, 1, 3 }, \n",
    "                  { -4, -1, 1, 7, -6 }, \n",
    "                  { 0, -4, 10, -5, 1 } \n",
    "               }; \n",
    "\n",
    "    System.out.print(\"Maximum Value is \" +  \n",
    "                       findMaxValue(N,mat)); \n",
    "} \n",
    "main(args);"
   ]
  },
  {
   "cell_type": "markdown",
   "metadata": {},
   "source": [
    "## **145. Find orientation of a pattern in a matrix**\n",
    "https://www.geeksforgeeks.org/find-orientation-of-a-pattern-in-a-matrix/"
   ]
  },
  {
   "cell_type": "code",
   "execution_count": 80,
   "metadata": {},
   "outputs": [],
   "source": [
    "/*\n",
    "Given a matrix of characters and a pattern, \n",
    "find the orientation of pattern in the matrix. \n",
    "In other words, \n",
    "    find if pattern appears in matrix in horizontal or vertical direction. \n",
    "Achieve this in minimum time possible.\n",
    "*/"
   ]
  },
  {
   "cell_type": "code",
   "execution_count": 81,
   "metadata": {},
   "outputs": [],
   "source": [
    "/*\n",
    "Input:\n",
    "mat[N][N] = { {'a', 'b', 'c', 'd', 'e'},\n",
    "              {'f', 'g', 'h', 'i', 'j'},\n",
    "              {'k', 'l', 'm', 'n', 'o'},\n",
    "              {'p', 'q', 'r', 's', 't'},\n",
    "              {'u', 'v', 'w', 'x', 'y'}};\n",
    "pattern = \"pqrs\";\n",
    "\n",
    "Output: Horizontal\n",
    "*/"
   ]
  },
  {
   "cell_type": "markdown",
   "metadata": {},
   "source": [
    "***https://www.geeksforgeeks.org/searching-for-patterns-set-1-naive-pattern-searching/***"
   ]
  },
  {
   "cell_type": "code",
   "execution_count": 82,
   "metadata": {},
   "outputs": [],
   "source": [
    "/*\n",
    "A simple solution is for each row and column, \n",
    "use Naive pattern searching algorithm (Link Given above) to find the orientation of pattern in the matrix. \n",
    "The time complexity of Naive pattern searching algorithm for every row is O(NM) \n",
    "where N is size of the matrix and M is length of the pattern. \n",
    "\n",
    "So, the time complexity of this solution will be O(N*(NM)) as each of N rows and N columns takes O(NM) time.\n",
    "*/"
   ]
  },
  {
   "cell_type": "markdown",
   "metadata": {},
   "source": [
    "***https://www.geeksforgeeks.org/searching-for-patterns-set-2-kmp-algorithm/***"
   ]
  },
  {
   "cell_type": "code",
   "execution_count": 83,
   "metadata": {},
   "outputs": [],
   "source": [
    "/*\n",
    "Can we do better?\n",
    "The idea is to use KMP pattern matching algorithm for each row and column. \n",
    "The KMP matching algorithm improves the worst case to O(N + M). \n",
    "The total cost of a KMP search is linear in the number of characters of string and pattern. \n",
    "For a N x N matrix and pattern of length M, complexity of this solution will be O(N*(N+M)) as each of N rows and N columns will take O(N + M) time.\n",
    "*/"
   ]
  },
  {
   "cell_type": "markdown",
   "metadata": {},
   "source": [
    "***https://ideone.com/uMJIJm***"
   ]
  },
  {
   "cell_type": "markdown",
   "metadata": {},
   "source": [
    "## **146. Shortest path in a Binary Maze**\n",
    "https://www.geeksforgeeks.org/shortest-path-in-a-binary-maze/"
   ]
  },
  {
   "cell_type": "code",
   "execution_count": 84,
   "metadata": {},
   "outputs": [],
   "source": [
    "/*\n",
    "Given a MxN matrix where each element can either be 0 or 1. \n",
    "We need to find the shortest path between a given source cell to a destination cell. \n",
    "The path can only be created out of a cell if its value is 1.\n",
    "\n",
    "Expected time complexity is O(MN).\n",
    "*/"
   ]
  },
  {
   "cell_type": "code",
   "execution_count": 85,
   "metadata": {},
   "outputs": [],
   "source": [
    "/*\n",
    "For example –\n",
    "\n",
    "Input:\n",
    "mat[ROW][COL]  = {{1, 0, 1, 1, 1, 1, 0, 1, 1, 1 },\n",
    "                  {1, 0, 1, 0, 1, 1, 1, 0, 1, 1 },\n",
    "                  {1, 1, 1, 0, 1, 1, 0, 1, 0, 1 },\n",
    "                  {0, 0, 0, 0, 1, 0, 0, 0, 0, 1 },\n",
    "                  {1, 1, 1, 0, 1, 1, 1, 0, 1, 0 },\n",
    "                  {1, 0, 1, 1, 1, 1, 0, 1, 0, 0 },\n",
    "                  {1, 0, 0, 0, 0, 0, 0, 0, 0, 1 },\n",
    "                  {1, 0, 1, 1, 1, 1, 0, 1, 1, 1 },\n",
    "                  {1, 1, 0, 0, 0, 0, 1, 0, 0, 1 }};\n",
    "Source = {0, 0};\n",
    "Destination = {3, 4};\n",
    "\n",
    "Output:\n",
    "Shortest Path is 11 \n",
    "*/"
   ]
  },
  {
   "cell_type": "code",
   "execution_count": 86,
   "metadata": {},
   "outputs": [],
   "source": [
    "/*\n",
    "The idea is inspired from Lee algorithm and uses BFS.\n",
    "\n",
    "1. We start from the source cell and calls BFS procedure.\n",
    "2. We maintain a queue to store the coordinates of the matrix and initialize it with the source cell.\n",
    "3. We also maintain a Boolean array visited of same size as our input matrix and initialize all its elements to false.\n",
    "    i.   We LOOP till queue is not empty\n",
    "    ii.  Dequeue front cell from the queue\n",
    "    iii. Return if the destination coordinates have reached.\n",
    "    iv.  For each of its four adjacent cells, if the value is 1 \n",
    "         and they are not visited yet, we enqueue it in the queue and also mark them as visited.\n",
    "         \n",
    "Note that BFS works here because it doesn’t consider a single path at once. \n",
    "It considers all the paths starting from the source and moves ahead one unit in all those paths at the same time \n",
    "which makes sure that the first time when the destination is visited, it is the shortest path.\n",
    "\n",
    "Below is the implementation of the idea –\n",
    "*/"
   ]
  },
  {
   "cell_type": "code",
   "execution_count": 87,
   "metadata": {},
   "outputs": [],
   "source": [
    "static int ROW = 9; \n",
    "static int COL = 10; \n",
    "  \n",
    "// To store matrix cell cordinates \n",
    "static class Point \n",
    "{ \n",
    "    int x; \n",
    "    int y; \n",
    "  \n",
    "    public Point(int x, int y) \n",
    "    { \n",
    "        this.x = x; \n",
    "        this.y = y; \n",
    "    } \n",
    "}; "
   ]
  },
  {
   "cell_type": "code",
   "execution_count": 88,
   "metadata": {},
   "outputs": [],
   "source": [
    "// A Data Structure for queue used in BFS \n",
    "static class queueNode \n",
    "{ \n",
    "    Point pt; // The cordinates of a cell \n",
    "    int dist; // cell's distance of from the source \n",
    "  \n",
    "    public queueNode(Point pt, int dist) \n",
    "    { \n",
    "        this.pt = pt; \n",
    "        this.dist = dist; \n",
    "    } \n",
    "}; \n"
   ]
  },
  {
   "cell_type": "code",
   "execution_count": 89,
   "metadata": {},
   "outputs": [],
   "source": [
    "// check whether given cell (row, col)  \n",
    "// is a valid cell or not. \n",
    "static boolean isValid(int row, int col) \n",
    "{ \n",
    "    // return true if row number and  \n",
    "    // column number is in range \n",
    "    return (row >= 0) && (row < ROW) && \n",
    "           (col >= 0) && (col < COL); \n",
    "} "
   ]
  },
  {
   "cell_type": "code",
   "execution_count": 90,
   "metadata": {},
   "outputs": [],
   "source": [
    "// These arrays are used to get row and column \n",
    "// numbers of 4 neighbours of a given cell \n",
    "static int rowNum[] = {-1, 0, 0, 1}; \n",
    "static int colNum[] = {0, -1, 1, 0}; "
   ]
  },
  {
   "cell_type": "code",
   "execution_count": 91,
   "metadata": {},
   "outputs": [],
   "source": [
    "// function to find the shortest path between \n",
    "// a given source cell to a destination cell. \n",
    "static int BFS(int mat[][], Point src, \n",
    "                            Point dest) \n",
    "{ \n",
    "    // check source and destination cell \n",
    "    // of the matrix have value 1 \n",
    "    if (mat[src.x][src.y] != 1 ||  \n",
    "        mat[dest.x][dest.y] != 1) \n",
    "        return -1; \n",
    "  \n",
    "    boolean [][]visited = new boolean[ROW][COL]; \n",
    "      \n",
    "    // Mark the source cell as visited \n",
    "    visited[src.x][src.y] = true; \n",
    "  \n",
    "    // Create a queue for BFS \n",
    "    Queue<queueNode> q = new LinkedList<>(); \n",
    "      \n",
    "    // Distance of source cell is 0 \n",
    "    queueNode s = new queueNode(src, 0); \n",
    "    q.add(s); // Enqueue source cell \n",
    "  \n",
    "    // Do a BFS starting from source cell \n",
    "    while (!q.isEmpty()) \n",
    "    { \n",
    "        queueNode curr = q.peek(); \n",
    "        Point pt = curr.pt; \n",
    "  \n",
    "        // If we have reached the destination cell, \n",
    "        // we are done \n",
    "        if (pt.x == dest.x && pt.y == dest.y) \n",
    "            return curr.dist; \n",
    "  \n",
    "        // Otherwise dequeue the front cell  \n",
    "        // in the queue and enqueue \n",
    "        // its adjacent cells \n",
    "        q.remove(); \n",
    "  \n",
    "        for (int i = 0; i < 4; i++) \n",
    "        { \n",
    "            int row = pt.x + rowNum[i]; \n",
    "            int col = pt.y + colNum[i]; \n",
    "              \n",
    "            // if adjacent cell is valid, has path  \n",
    "            // and not visited yet, enqueue it. \n",
    "            if (isValid(row, col) &&  \n",
    "                    mat[row][col] == 1 &&  \n",
    "                    !visited[row][col]) \n",
    "            { \n",
    "                // mark cell as visited and enqueue it \n",
    "                visited[row][col] = true; \n",
    "                queueNode Adjcell = new queueNode(new Point(row, col), \n",
    "                                                      curr.dist + 1 ); \n",
    "                q.add(Adjcell); \n",
    "            } \n",
    "        } \n",
    "    } \n",
    "  \n",
    "    // Return -1 if destination cannot be reached \n",
    "    return -1; \n",
    "} "
   ]
  },
  {
   "cell_type": "code",
   "execution_count": 92,
   "metadata": {},
   "outputs": [
    {
     "name": "stdout",
     "output_type": "stream",
     "text": [
      "Shortest Path is 11\n"
     ]
    }
   ],
   "source": [
    "// Driver Code \n",
    "public static void main(String[] args)  \n",
    "{ \n",
    "    int mat[][] = {{ 1, 0, 1, 1, 1, 1, 0, 1, 1, 1 }, \n",
    "                   { 1, 0, 1, 0, 1, 1, 1, 0, 1, 1 }, \n",
    "                   { 1, 1, 1, 0, 1, 1, 0, 1, 0, 1 }, \n",
    "                   { 0, 0, 0, 0, 1, 0, 0, 0, 0, 1 }, \n",
    "                   { 1, 1, 1, 0, 1, 1, 1, 0, 1, 0 }, \n",
    "                   { 1, 0, 1, 1, 1, 1, 0, 1, 0, 0 }, \n",
    "                   { 1, 0, 0, 0, 0, 0, 0, 0, 0, 1 }, \n",
    "                   { 1, 0, 1, 1, 1, 1, 0, 1, 1, 1 }, \n",
    "                   { 1, 1, 0, 0, 0, 0, 1, 0, 0, 1 }}; \n",
    "  \n",
    "    Point source = new Point(0, 0); \n",
    "    Point dest = new Point(3, 4); \n",
    "  \n",
    "    int dist = BFS(mat, source, dest); \n",
    "  \n",
    "    if (dist != Integer.MAX_VALUE) \n",
    "        System.out.println(\"Shortest Path is \" + dist); \n",
    "    else\n",
    "        System.out.println(\"Shortest Path doesn't exist\"); \n",
    "}\n",
    "main(args);"
   ]
  },
  {
   "cell_type": "markdown",
   "metadata": {},
   "source": [
    "## **147. Inplace rotate square matrix by 90 degrees | Set 1**\n",
    "https://www.geeksforgeeks.org/inplace-rotate-square-matrix-by-90-degrees/"
   ]
  },
  {
   "cell_type": "code",
   "execution_count": 93,
   "metadata": {},
   "outputs": [],
   "source": [
    "/*\n",
    "Previously Discussed\n",
    "*/"
   ]
  },
  {
   "cell_type": "markdown",
   "metadata": {},
   "source": [
    "## **148. Kth smallest element in a row-wise and column-wise sorted 2D array | Set 1**\n",
    "https://www.geeksforgeeks.org/kth-smallest-element-in-a-row-wise-and-column-wise-sorted-2d-array-set-1/"
   ]
  },
  {
   "cell_type": "code",
   "execution_count": 94,
   "metadata": {},
   "outputs": [],
   "source": [
    "/*\n",
    "Given an n x n matrix, \n",
    "where every row and column is sorted in non-decreasing order. \n",
    "\n",
    "Find the kth smallest element in the given 2D array.\n",
    "*/"
   ]
  },
  {
   "cell_type": "code",
   "execution_count": 95,
   "metadata": {},
   "outputs": [],
   "source": [
    "/*\n",
    "For example, consider the following 2D array.\n",
    "\n",
    "        10, 20, 30, 40\n",
    "        15, 25, 35, 45\n",
    "        24, 29, 37, 48\n",
    "        32, 33, 39, 50\n",
    "The 3rd smallest element is 20 and 7th smallest element is 30\n",
    "*/"
   ]
  },
  {
   "cell_type": "code",
   "execution_count": 96,
   "metadata": {},
   "outputs": [],
   "source": [
    "/*\n",
    "The idea is to use min heap. Following are detailed step.\n",
    "1) Build a min heap of elements from first row. A heap entry also stores row number and column number.\n",
    "2) Do following k times.\n",
    "    a) Get minimum element (or root) from min heap.\n",
    "    b) Find row number and column number of the minimum element.\n",
    "    c) Replace root with the next element from same column and min-heapify the root.\n",
    "3) Return the last extracted root.\n",
    "*/"
   ]
  },
  {
   "cell_type": "code",
   "execution_count": 97,
   "metadata": {},
   "outputs": [],
   "source": [
    "/*\n",
    "Time Complexity: The above solution involves following steps.\n",
    "1) Build a min heap which takes O(n) time\n",
    "2) Heapify k times which takes O(kLogn) time.\n",
    "Therefore, overall time complexity is O(n + kLogn) time.\n",
    "\n",
    "The above code can be optimized to build a heap of size k when k is smaller than n. \n",
    "In that case, the kth smallest element must be in first k rows and k columns.\n",
    "*/"
   ]
  },
  {
   "cell_type": "markdown",
   "metadata": {},
   "source": [
    "***https://ideone.com/mZJ5FY***"
   ]
  },
  {
   "cell_type": "markdown",
   "metadata": {},
   "source": [
    "## **149. A Boolean Matrix Question**\n",
    "https://www.geeksforgeeks.org/a-boolean-matrix-question/"
   ]
  },
  {
   "cell_type": "code",
   "execution_count": 98,
   "metadata": {},
   "outputs": [],
   "source": [
    "/*\n",
    "Given a boolean matrix mat[M][N] of size M X N, \n",
    "modify it such that if a matrix cell mat[i][j] is 1 (or true) then make all the cells of ith row and jth column as 1\n",
    "*/"
   ]
  },
  {
   "cell_type": "code",
   "execution_count": 99,
   "metadata": {},
   "outputs": [],
   "source": [
    "/*\n",
    "Example 1\n",
    "The matrix\n",
    "1 0\n",
    "0 0\n",
    "should be changed to following\n",
    "1 1\n",
    "1 0\n",
    "\n",
    "Example 2\n",
    "The matrix\n",
    "0 0 0\n",
    "0 0 1\n",
    "should be changed to following\n",
    "0 0 1\n",
    "1 1 1\n",
    "\n",
    "Example 3\n",
    "The matrix\n",
    "1 0 0 1\n",
    "0 0 1 0\n",
    "0 0 0 0\n",
    "should be changed to following\n",
    "1 1 1 1\n",
    "1 1 1 1\n",
    "1 0 1 1\n",
    "*/"
   ]
  },
  {
   "cell_type": "code",
   "execution_count": 100,
   "metadata": {},
   "outputs": [],
   "source": [
    "/*\n",
    "Method 1 (Use two temporary arrays)\n",
    "1) Create two temporary arrays row[M] and col[N]. \n",
    "   Initialize all values of row[] and col[] as 0.\n",
    "2) Traverse the input matrix mat[M][N]. \n",
    "   If you see an entry mat[i][j] as true, then mark row[i] and col[j] as true.\n",
    "3) Traverse the input matrix mat[M][N] again. \n",
    "   For each entry mat[i][j], check the values of row[i] and col[j]. \n",
    "   If any of the two values (row[i] or col[j]) is true, then mark mat[i][j] as true.\n",
    "*/"
   ]
  },
  {
   "cell_type": "code",
   "execution_count": 101,
   "metadata": {},
   "outputs": [],
   "source": [
    "public static void modifyMatrix(int mat[ ][ ], int R, int C) \n",
    "{ \n",
    "    int row[ ]= new int [R]; \n",
    "    int col[ ]= new int [C]; \n",
    "    int i, j; \n",
    "\n",
    "    /* Initialize all values of row[] as 0 */\n",
    "    for (i = 0; i < R; i++) \n",
    "    { \n",
    "    row[i] = 0; \n",
    "    } \n",
    "\n",
    "\n",
    "    /* Initialize all values of col[] as 0 */\n",
    "    for (i = 0; i < C; i++) \n",
    "    { \n",
    "    col[i] = 0; \n",
    "    } \n",
    "\n",
    "\n",
    "    /* Store the rows and columns to be marked as \n",
    "    1 in row[] and col[] arrays respectively */\n",
    "    for (i = 0; i < R; i++) \n",
    "    { \n",
    "        for (j = 0; j < C; j++) \n",
    "        { \n",
    "            if (mat[i][j] == 1) \n",
    "            { \n",
    "                row[i] = 1; \n",
    "                col[j] = 1; \n",
    "            } \n",
    "        } \n",
    "    } \n",
    "\n",
    "    /* Modify the input matrix mat[] using the \n",
    "    above constructed row[] and col[] arrays */\n",
    "    for (i = 0; i < R; i++) \n",
    "    { \n",
    "        for (j = 0; j < C; j++) \n",
    "        { \n",
    "            if ( row[i] == 1 || col[j] == 1 ) \n",
    "            { \n",
    "                mat[i][j] = 1; \n",
    "            } \n",
    "        } \n",
    "    } \n",
    "} "
   ]
  },
  {
   "cell_type": "code",
   "execution_count": 102,
   "metadata": {},
   "outputs": [],
   "source": [
    "/* A utility function to print a 2D matrix */\n",
    "public static void printMatrix(int mat[ ][ ], int R, int C) \n",
    "{ \n",
    "    int i, j; \n",
    "    for (i = 0; i < R; i++) \n",
    "    { \n",
    "        for (j = 0; j < C; j++) \n",
    "        { \n",
    "            System.out.print(mat[i][j]+ \" \"); \n",
    "        } \n",
    "        System.out.println(); \n",
    "    } \n",
    "} "
   ]
  },
  {
   "cell_type": "code",
   "execution_count": 103,
   "metadata": {},
   "outputs": [
    {
     "name": "stdout",
     "output_type": "stream",
     "text": [
      "Matrix Intially\n",
      "1 0 0 1 \n",
      "0 0 1 0 \n",
      "0 0 0 0 \n",
      "Matrix after modification n\n",
      "1 1 1 1 \n",
      "1 1 1 1 \n",
      "1 0 1 1 \n"
     ]
    }
   ],
   "source": [
    "/* Driver program to test above functions */\n",
    "public static void main(String[] args)  \n",
    "{ \n",
    "    int mat[ ][ ] = { {1, 0, 0, 1}, \n",
    "                      {0, 0, 1, 0}, \n",
    "                      {0, 0, 0, 0},}; \n",
    "\n",
    "            System.out.println(\"Matrix Intially\"); \n",
    "\n",
    "            printMatrix(mat, 3, 4); \n",
    "\n",
    "            modifyMatrix(mat, 3, 4); \n",
    "            System.out.println(\"Matrix after modification n\"); \n",
    "            printMatrix(mat, 3, 4); \n",
    "\n",
    "} \n",
    "main(args);"
   ]
  },
  {
   "cell_type": "code",
   "execution_count": 104,
   "metadata": {},
   "outputs": [],
   "source": [
    "/*\n",
    "Time Complexity: O(M*N)\n",
    "Auxiliary Space: O(M + N)\n",
    "*/"
   ]
  },
  {
   "cell_type": "code",
   "execution_count": 105,
   "metadata": {},
   "outputs": [],
   "source": [
    "/*\n",
    "Method 2 (A Space Optimized Version of Method 1)\n",
    "This method is a space optimized version of above method 1. \n",
    "This method uses the first row and first column of the input matrix in place of the auxiliary arrays row[] and col[] of method 1. \n",
    "So what we do is: \n",
    "    first take care of first row and column and store the info about these two in two flag variables rowFlag and colFlag. \n",
    "Once we have this info, \n",
    "    we can use first row and first column as auxiliary arrays and apply method 1 for submatrix (matrix excluding first row and first column) of size (M-1)*(N-1).\n",
    "\n",
    "1) Scan the first row and set a variable rowFlag to indicate whether we need to set all 1s in first row or not.\n",
    "2) Scan the first column and set a variable colFlag to indicate whether we need to set all 1s in first column or not.\n",
    "3) Use first row and first column as the auxiliary arrays row[] and col[] respectively, \n",
    "   consider the matrix as submatrix starting from second row and second column and apply method 1.\n",
    "4) Finally, using rowFlag and colFlag, update first row and first column if needed.\n",
    "\n",
    "Time Complexity: O(M*N)\n",
    "Auxiliary Space: O(1)\n",
    "*/"
   ]
  },
  {
   "cell_type": "code",
   "execution_count": 106,
   "metadata": {},
   "outputs": [],
   "source": [
    "public static void modifyMatrix(int mat[][]){ \n",
    "\n",
    "    // variables to check if there are any 1  \n",
    "    // in first row and column \n",
    "    boolean row_flag = false; \n",
    "    boolean col_flag = false; \n",
    "\n",
    "    // updating the first row and col if 1 \n",
    "    // is encountered \n",
    "    for (int i = 0; i < mat.length; i++ ){ \n",
    "            for (int j = 0; j < mat[0].length; j++){ \n",
    "                    if (i == 0 && mat[i][j] == 1) \n",
    "                        row_flag = true; \n",
    "\n",
    "                    if (j == 0 && mat[i][j] == 1) \n",
    "                        col_flag = true; \n",
    "\n",
    "                    if (mat[i][j] == 1){ \n",
    "\n",
    "                        mat[0][j] = 1; \n",
    "                        mat[i][0] = 1; \n",
    "                    } \n",
    "\n",
    "                } \n",
    "            } \n",
    "\n",
    "    // Modify the input matrix mat[] using the  \n",
    "    // first row and first column of Matrix mat \n",
    "    for (int i = 1; i < mat.length; i ++){ \n",
    "            for (int j = 1; j < mat[0].length; j ++){ \n",
    "\n",
    "                if (mat[0][j] == 1 || mat[i][0] == 1){ \n",
    "                        mat[i][j] = 1; \n",
    "                    } \n",
    "                } \n",
    "            } \n",
    "\n",
    "    // modify first row if there was any 1 \n",
    "    if (row_flag == true){ \n",
    "        for (int i = 0; i < mat[0].length; i++){ \n",
    "                    mat[0][i] = 1; \n",
    "                } \n",
    "            } \n",
    "\n",
    "    // modify first col if there was any 1 \n",
    "    if (col_flag == true){ \n",
    "        for (int i = 0; i < mat.length; i ++){ \n",
    "                    mat[i][0] = 1; \n",
    "        } \n",
    "    } \n",
    "} "
   ]
  },
  {
   "cell_type": "code",
   "execution_count": 107,
   "metadata": {},
   "outputs": [],
   "source": [
    "/* A utility function to print a 2D matrix */\n",
    "public static void printMatrix(int mat[][]){ \n",
    "    for (int i = 0; i < mat.length; i ++){ \n",
    "        for (int j = 0; j < mat[0].length; j ++){ \n",
    "            System.out.print( mat[i][j] ); \n",
    "        } \n",
    "            System.out.println(\"\"); \n",
    "    } \n",
    "}"
   ]
  },
  {
   "cell_type": "code",
   "execution_count": 108,
   "metadata": {},
   "outputs": [
    {
     "name": "stdout",
     "output_type": "stream",
     "text": [
      "Input Matrix :\n",
      "1001\n",
      "0010\n",
      "0000\n",
      "Matrix After Modification :\n",
      "1111\n",
      "1111\n",
      "1011\n"
     ]
    }
   ],
   "source": [
    "// Driver function to test the above function \n",
    "public static void main(String args[] ){ \n",
    "\n",
    "    int mat[][] = {{1, 0, 0, 1}, \n",
    "            {0, 0, 1, 0}, \n",
    "            {0, 0, 0, 0}}; \n",
    "\n",
    "    System.out.println(\"Input Matrix :\"); \n",
    "    printMatrix(mat); \n",
    "\n",
    "    modifyMatrix(mat); \n",
    "\n",
    "    System.out.println(\"Matrix After Modification :\"); \n",
    "    printMatrix(mat); \n",
    "\n",
    "} \n",
    "main(args);"
   ]
  },
  {
   "cell_type": "markdown",
   "metadata": {},
   "source": [
    "## **150. Search a Word in a 2D Grid of characters**\n",
    "https://www.geeksforgeeks.org/search-a-word-in-a-2d-grid-of-characters/"
   ]
  },
  {
   "cell_type": "code",
   "execution_count": 109,
   "metadata": {},
   "outputs": [],
   "source": [
    "/*\n",
    "Given a 2D grid of characters and a word, \n",
    "find all occurrences of given word in grid. \n",
    "\n",
    "A word can be matched in all 8 directions at any point. \n",
    "Word is said be found in a direction if all characters match in this direction (not in zig-zag form).\n",
    "\n",
    "The 8 directions are, Horizontally Left, Horizontally Right, Vertically Up and 4 Diagonal directions.\n",
    "*/"
   ]
  },
  {
   "cell_type": "code",
   "execution_count": 110,
   "metadata": {},
   "outputs": [],
   "source": [
    "/*\n",
    "Example:\n",
    "\n",
    "Input:  grid[][] = {\"GEEKSFORGEEKS\",\n",
    "                    \"GEEKSQUIZGEEK\",\n",
    "                    \"IDEQAPRACTICE\"};\n",
    "        word = \"GEEKS\"\n",
    "\n",
    "Output: pattern found at 0, 0\n",
    "        pattern found at 0, 8\n",
    "        pattern found at 1, 0\n",
    "\n",
    "Input:  grid[][] = {\"GEEKSFORGEEKS\",\n",
    "                    \"GEEKSQUIZGEEK\",\n",
    "                    \"IDEQAPRACTICE\"};\n",
    "        word = \"EEE\"\n",
    "\n",
    "Output: pattern found at 0, 2\n",
    "        pattern found at 0, 10\n",
    "        pattern found at 2, 2\n",
    "        pattern found at 2, 12\n",
    "*/"
   ]
  },
  {
   "cell_type": "code",
   "execution_count": 111,
   "metadata": {},
   "outputs": [],
   "source": [
    "/*\n",
    "Below diagram shows a bigger grid and presence of different words in it.\n",
    "*/"
   ]
  },
  {
   "cell_type": "markdown",
   "metadata": {},
   "source": [
    "<img src =\"https://media.geeksforgeeks.org/wp-content/cdn-uploads/Search_a_Word.png\"/>"
   ]
  },
  {
   "cell_type": "code",
   "execution_count": 112,
   "metadata": {},
   "outputs": [],
   "source": [
    "/*\n",
    "The idea used here is simple, we check every cell. \n",
    "If cell has first character, \n",
    "    then we one by one try all 8 directions from that cell for a match. \n",
    "    \n",
    "Implementation is interesting though. We use two arrays x[] and y[] to find next move in all 8 directions.\n",
    "Below are implementation of the same.\n",
    "*/"
   ]
  },
  {
   "cell_type": "code",
   "execution_count": 113,
   "metadata": {},
   "outputs": [],
   "source": [
    "// Rows and columns in given grid \n",
    "static int R, C; \n",
    "\n",
    "// For searching in all 8 direction  \n",
    "static int[] x = { -1, -1, -1, 0, 0, 1, 1, 1 };  \n",
    "static int[] y = { -1, 0, 1, -1, 1, -1, 0, 1 };  "
   ]
  },
  {
   "cell_type": "code",
   "execution_count": 114,
   "metadata": {},
   "outputs": [],
   "source": [
    "// This function searches in all 8-direction from point  \n",
    "// (row, col) in grid[][]  \n",
    "static boolean search2D(char[][] grid, int row, \n",
    "                        int col, String word) \n",
    "{ \n",
    "        // If first character of word doesn't match with  \n",
    "        // given starting point in grid.  \n",
    "        if (grid[row][col] != word.charAt(0)) \n",
    "            return false; \n",
    "\n",
    "        int len = word.length(); \n",
    "\n",
    "        // Search word in all 8 directions \n",
    "        // starting from (row,col) \n",
    "        for (int dir = 0; dir < 8; dir++) \n",
    "        { \n",
    "            // Initialize starting point \n",
    "            // for current direction  \n",
    "            int k, rd = row + x[dir], cd = col + y[dir]; \n",
    "\n",
    "            // First character is already checked,  \n",
    "            //  match remaining characters \n",
    "            for (k = 1; k < len; k++) \n",
    "            { \n",
    "                // If out of bound break  \n",
    "                if (rd >= R || rd < 0 || cd >= C || cd < 0) \n",
    "                    break; \n",
    "\n",
    "                // If not matched, break  \n",
    "                if (grid[rd][cd] != word.charAt(k)) \n",
    "                    break; \n",
    "\n",
    "                // Moving in particular direction  \n",
    "                rd += x[dir]; \n",
    "                cd += y[dir]; \n",
    "            }  \n",
    "\n",
    "            // If all character matched, then value of must  \n",
    "            // be equal to length of word \n",
    "            if (k == len) \n",
    "                return true;  \n",
    "        } \n",
    "    return false; \n",
    "} "
   ]
  },
  {
   "cell_type": "code",
   "execution_count": 115,
   "metadata": {},
   "outputs": [],
   "source": [
    "// Searches given word in a given \n",
    "// matrix in all 8 directions \n",
    "static void patternSearch(char[][] grid, String word) \n",
    "{ \n",
    "        // Consider every point as starting  \n",
    "        // point and search given word  \n",
    "        for (int row = 0; row < R; row++)  \n",
    "        { \n",
    "            for (int col = 0; col < C; col++)  \n",
    "            { \n",
    "                if (search2D(grid, row, col, word)) \n",
    "                    System.out.println(\"pattern found at \" + row +  \n",
    "                                                        \", \" + col); \n",
    "            } \n",
    "        } \n",
    "} "
   ]
  },
  {
   "cell_type": "code",
   "execution_count": 116,
   "metadata": {},
   "outputs": [
    {
     "name": "stdout",
     "output_type": "stream",
     "text": [
      "pattern found at 0, 0\n",
      "pattern found at 0, 8\n",
      "pattern found at 1, 0\n",
      "\n",
      "pattern found at 0, 2\n",
      "pattern found at 0, 10\n",
      "pattern found at 2, 2\n",
      "pattern found at 2, 12\n"
     ]
    }
   ],
   "source": [
    "// Driver code \n",
    "public static void main(String args[]) \n",
    "{ \n",
    "        R = 3; \n",
    "        C = 13; \n",
    "        char[][] grid = {{'G','E','E','K','S','F','O','R','G','E','E','K','S'}, \n",
    "                            {'G','E','E','K','S','Q','U','I','Z','G','E','E','K'}, \n",
    "                            {'I','D','E','Q','A','P','R','A','C','T','I','C','E'}}; \n",
    "        patternSearch(grid, \"GEEKS\"); \n",
    "        System.out.println(); \n",
    "        patternSearch(grid, \"EEE\"); \n",
    "} \n",
    "main(args);"
   ]
  },
  {
   "cell_type": "code",
   "execution_count": null,
   "metadata": {},
   "outputs": [],
   "source": []
  }
 ],
 "metadata": {
  "kernelspec": {
   "display_name": "Java",
   "language": "java",
   "name": "java"
  },
  "language_info": {
   "codemirror_mode": "java",
   "file_extension": ".jshell",
   "mimetype": "text/x-java-source",
   "name": "Java",
   "pygments_lexer": "java",
   "version": "11.0.6+8-LTS"
  },
  "toc": {
   "base_numbering": 1,
   "nav_menu": {},
   "number_sections": true,
   "sideBar": true,
   "skip_h1_title": false,
   "title_cell": "Table of Contents",
   "title_sidebar": "Contents",
   "toc_cell": false,
   "toc_position": {
    "height": "calc(100% - 180px)",
    "left": "10px",
    "top": "150px",
    "width": "211.319px"
   },
   "toc_section_display": true,
   "toc_window_display": true
  }
 },
 "nbformat": 4,
 "nbformat_minor": 2
}
