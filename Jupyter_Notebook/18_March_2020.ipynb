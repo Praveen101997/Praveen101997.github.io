{
 "cells": [
  {
   "cell_type": "markdown",
   "metadata": {},
   "source": [
    "**------------------------Questions Covered-----------------------------**"
   ]
  },
  {
   "cell_type": "markdown",
   "metadata": {},
   "source": [
    "***3\tString\thttps://www.geeksforgeeks.org/number-subsequences-form-ai-bj-ck/\t\tbreaker\t\t\t\t\t\t\t\t\t\t\t\t\t\t\t\t\t\t\t\t\t\t\t\n",
    "3\tString\thttps://www.geeksforgeeks.org/number-subsequences-string-divisible-n/\tPep_JavaIP_3Strings_107CountSubsequencesDivisibleByN\t\t\t\t\t\t\t\t\t\t\t\t\t\t\t\t\t\t\t\t\t\t\t\t\n",
    "3\tString\thttps://www.geeksforgeeks.org/find-number-times-string-occurs-given-string/\tPep_JavaIP_3Strings_108NumbersofTimesStringOccursInString\t\t\t\t\t\t\t\t\t\t\t\t\t\t\t\t\t\t\t\t\t\t\t\t\n",
    "3\tString\thttps://www.geeksforgeeks.org/count-distinct-subsequences/\t\t\t\t\t\t\t\t\t\t\t\t\t\t\t\t\t\t\t\t\t\t\t\t\t\n",
    "3\tString\thttps://www.geeksforgeeks.org/find-patterns-101-given-string/\tPep_JavaIP_3Strings_110FindPattern\t\t\t\t\t\t\t\t\t\t\t\t\t\t\t\t\t\t\t\t\t\t\t\t\n",
    "3\tString\thttps://www.geeksforgeeks.org/given-a-string-find-its-first-non-repeating-character/\tPep_JavaIP_3Strings_111FindFirstNonRepeatingCharacterInOneTraversal\t\t\t\t\t\t\t\t\t\t\t\t\t\t\t\t\t\t\t\t\t\t\t\t\n",
    "3\tString\thttps://www.geeksforgeeks.org/rearrange-a-string-so-that-all-same-characters-become-at-least-d-distance-away/\tPep_JavaIP_3Strings_112RearrangeCharacters\t\t\t\t\t\t\t\t\t\t\t\t\t\t\t\t\t\t\t\t\t\t\t\t\n",
    "3\tString\thttps://www.geeksforgeeks.org/recursively-remove-adjacent-duplicates-given-string/\tPep_JavaIP_3Strings_113RemoveDuplicates\t\t\t\t\t\t\t\t\t\t\t\t\t\t\t\t\t\t\t\t\t\t\t\t\n",
    "3\tString\thttps://www.geeksforgeeks.org/wildcard-character-matching/\t\t\t\t\t\t\t\t\t\t\t\t\t\t\t\t\t\t\t\t\t\t\t\t\t\n",
    "3\tString\thttps://www.geeksforgeeks.org/lexicographic-rank-of-a-string/\tPep_JavaIP_3Strings_115LexicoRank\t\t\t\t\t\t\t\t\t\t\t\t\t\t\t\t\t\t\t\t\t\t\t\t\n",
    "3\tString\thttps://www.geeksforgeeks.org/print-number-ascending-order-contains-1-2-3-digits/\tPep_JavaIP_3Strings_116SortNumbersContaining123Only\t\t\t\t\t\t\t\t\t\t\t\t\t\t\t\t\t\t\t\t\t\t\t\t\n",
    "3\tString\thttps://www.geeksforgeeks.org/given-sorted-dictionary-find-precedence-characters/\t\t\t\t\t\t\t\t\t\t\t\t\t\t\t\t\t\t\t\t\t\t\t\t\t\n",
    "3\tString\thttps://www.geeksforgeeks.org/find-excel-column-name-given-number/\tPep_JavaIP_3Strings_118FindCorrespondingExcelColumnName\t\t\t\t\t\t\t\t\t\t\t\t\t\t\t\t\t\t\t\t\t\t\t\t\n",
    "3\tString\thttps://www.geeksforgeeks.org/find-the-longest-substring-with-k-unique-characters-in-a-given-string/\tPep_JavaIP_3Strings_119LongestSubstringsContainingKUniqueElements\t\t\t\t\t\t\t\t\t\t\t\t\t\t\t\t\t\t\t\t\t\t\t\t\n",
    "3\tString\thttps://www.geeksforgeeks.org/function-to-find-number-of-customers-who-could-not-get-a-computer/\tPep_JavaIP_3Strings_120ComputerCafeCustomers***"
   ]
  },
  {
   "cell_type": "code",
   "execution_count": 1,
   "metadata": {},
   "outputs": [],
   "source": [
    "import java.util.*;\n",
    "import java.io.*;\n",
    "import java.util.Arrays;\n",
    "String[] args =new String[0];"
   ]
  },
  {
   "cell_type": "markdown",
   "metadata": {},
   "source": [
    "## **106. Number of subsequences of the form a^i b^j c^k**\n",
    "https://www.geeksforgeeks.org/number-subsequences-form-ai-bj-ck/"
   ]
  },
  {
   "cell_type": "code",
   "execution_count": 2,
   "metadata": {},
   "outputs": [],
   "source": [
    "/*\n",
    "Given a string, \n",
    "    count number of subsequences of the form aibjck, \n",
    "    i.e., it consists of i ’a’ characters, \n",
    "             followed by j ’b’ characters, \n",
    "             followed by k ’c’ characters where i >= 1, j >=1 and k >= 1.\n",
    "\n",
    "Note: Two subsequences are considered different if the set of array indexes picked for the 2 subsequences are different.\n",
    "\n",
    "Expected Time Complexity : O(n)\n",
    "*/"
   ]
  },
  {
   "cell_type": "code",
   "execution_count": 3,
   "metadata": {},
   "outputs": [],
   "source": [
    "/*\n",
    "Examples:\n",
    "\n",
    "Input  : abbc\n",
    "Output : 3\n",
    "Subsequences are abc, abc and abbc\n",
    "\n",
    "Input  : abcabc\n",
    "Output : 7\n",
    "Subsequences are abc, abc, abbc, aabc\n",
    "abcc, abc and abc\n",
    "*/"
   ]
  },
  {
   "cell_type": "code",
   "execution_count": 4,
   "metadata": {},
   "outputs": [],
   "source": [
    "/*\n",
    "Time Complexity : O(n)\n",
    "\n",
    "Approach:\n",
    "We traverse given string. For every character encounter, we do the following:\n",
    "\n",
    "1) Initialize counts of different subsequences caused by different combination of ‘a’. Let this count be aCount.\n",
    "\n",
    "2) Initialize counts of different subsequences caused by different combination of ‘b’. Let this count be bCount.\n",
    "\n",
    "3) Initialize counts of different subsequences caused by different combination of ‘c’. Let this count be cCount.\n",
    "\n",
    "4) Traverse all characters of given string. Do following for current character s[i]\n",
    "    If current character is ‘a’, then there are following possibilities :\n",
    "    a) Current character begins a new subsequence.\n",
    "    b) Current character is part of aCount subsequences.\n",
    "    c) Current character is not part of aCount subsequences.\n",
    "    Therefore we do aCount = (1 + 2 * aCount);\n",
    "\n",
    "    If current character is ‘b’, then there are following possibilities :\n",
    "    a) Current character begins a new subsequence of b’s with aCount subsequences.\n",
    "    b) Current character is part of bCount subsequences.\n",
    "    c) Current character is not part of bCount subsequences.\n",
    "    Therefore we do bCount = (aCount + 2 * bCount);\n",
    "\n",
    "    If current character is ‘c’, then there are following possibilities :\n",
    "    a) Current character begins a new subsequence of c’s with bCount subsequences.\n",
    "    b) Current character is part of cCount subsequences.\n",
    "    c) Current character is not part of cCount subsequences.\n",
    "    Therefore we do cCount = (bCount + 2 * cCount);\n",
    "\n",
    "5) Finally we return cCount;\n",
    "*/"
   ]
  },
  {
   "cell_type": "code",
   "execution_count": 5,
   "metadata": {},
   "outputs": [],
   "source": [
    "/*\n",
    "Explanation of approach with help of example:\n",
    "\n",
    "- aCount is the number of subsequences of the letter ‘a’.\n",
    "- Consider this example: aa.\n",
    "- We can see that aCount for this is 3, \n",
    "        because we can choose these possibilities: (xa,ax,aa) (x means we did not use that character). \n",
    "    Note also that this is independent of characters in between, \n",
    "        i.e. the aCount of aa and ccbabbbcac are the same because both have exactly 2 a’s.\n",
    "- Now, adding 1 a, we now have the following new subsequences: \n",
    "        each of the old subsequences, each of the old subsequences + the new a, and the new letter a, alone. \n",
    "        So a total of aCount + aCount + 1 subsequences.\n",
    "- Now, let’s consider bCount, the number of subsequences with some a’s and then some b’s. in ‘aab’, \n",
    "        we see that bCount should be 3 (axb,xab,aab) \n",
    "            because it is just the number of ways we can choose subsequences of the first two a’s, and then b. \n",
    "            So every time we add a b, the number of ways increases by aCount.\n",
    "- Let’s find bCount for ‘aabb’. \n",
    "        We have already determined that aab has 3 subsequences, so certainly we still have those. \n",
    "        Additionally, we can add the new b onto any of these subsequences, to get 3 more. \n",
    "        Finally, we have to count the subsequences that are made without using any other b’s, \n",
    "            and by the logic in the last paragraph, that is just aCount. \n",
    "        So, bCount after this is just the old bCount*2 + aCount;\n",
    "- cCount is similar.\n",
    "*/"
   ]
  },
  {
   "cell_type": "code",
   "execution_count": 6,
   "metadata": {},
   "outputs": [],
   "source": [
    "// Returns count of subsequences of the form \n",
    "// a^i b^j c^k \n",
    "static int countSubsequences(String s) \n",
    "{ \n",
    "    // Initialize counts of different subsequences \n",
    "    // caused by different combination of 'a' \n",
    "    int aCount = 0; \n",
    "\n",
    "    // Initialize counts of different subsequences \n",
    "    // caused by different combination of 'a' and \n",
    "    // different combination of 'b' \n",
    "    int bCount = 0; \n",
    "\n",
    "    // Initialize counts of different subsequences \n",
    "    // caused by different combination of 'a', 'b' \n",
    "    // and 'c'. \n",
    "    int cCount = 0; \n",
    "\n",
    "    // Traverse all characters of given string \n",
    "    for (int i=0; i< s.length(); i++) \n",
    "    { \n",
    "        /* If current character is 'a', then \n",
    "           there are following possibilities : \n",
    "             a) Current character begins a new \n",
    "                subsequence. \n",
    "             b) Current character is part of aCount \n",
    "                subsequences. \n",
    "             c) Current character is not part of \n",
    "                aCount subsequences. */\n",
    "        if (s.charAt(i) == 'a') \n",
    "            aCount = (1 + 2 * aCount); \n",
    "\n",
    "        /* If current character is 'b', then \n",
    "           there are following possibilities : \n",
    "             a) Current character begins a new \n",
    "                subsequence of b's with aCount \n",
    "                subsequences. \n",
    "             b) Current character is part of bCount \n",
    "                subsequences. \n",
    "             c) Current character is not part of \n",
    "                bCount subsequences. */\n",
    "        else if (s.charAt(i) == 'b') \n",
    "            bCount = (aCount + 2 * bCount); \n",
    "\n",
    "        /* If current character is 'c', then \n",
    "           there are following possibilities : \n",
    "             a) Current character begins a new \n",
    "                subsequence of c's with bCount \n",
    "                subsequences. \n",
    "             b) Current character is part of cCount \n",
    "                subsequences. \n",
    "             c) Current character is not part of \n",
    "                cCount subsequences. */\n",
    "        else if (s.charAt(i) == 'c') \n",
    "            cCount = (bCount + 2 * cCount); \n",
    "    } \n",
    "\n",
    "    return cCount; \n",
    "} "
   ]
  },
  {
   "cell_type": "code",
   "execution_count": 7,
   "metadata": {},
   "outputs": [
    {
     "name": "stdout",
     "output_type": "stream",
     "text": [
      "3\n"
     ]
    }
   ],
   "source": [
    "// Driver code \n",
    "public static void main(String args[]) \n",
    "{ \n",
    "    String s = \"abbc\"; \n",
    "    System.out.println(countSubsequences(s)); \n",
    "} \n",
    "main(args);"
   ]
  },
  {
   "cell_type": "markdown",
   "metadata": {},
   "source": [
    "## **107. Number of subsequences in a string divisible by n**\n",
    "https://www.geeksforgeeks.org/number-subsequences-string-divisible-n/"
   ]
  },
  {
   "cell_type": "code",
   "execution_count": 8,
   "metadata": {},
   "outputs": [],
   "source": [
    "/*\n",
    "Given a string consisting of digits 0-9, \n",
    "count the number of subsequences in it divisible by m.\n",
    "*/"
   ]
  },
  {
   "cell_type": "code",
   "execution_count": 9,
   "metadata": {},
   "outputs": [],
   "source": [
    "/*\n",
    "Examples:\n",
    "\n",
    "Input  : str = \"1234\", n = 4\n",
    "Output : 4\n",
    "The subsequences 4, 12, 24 and 124 are \n",
    "divisible by 4.\n",
    " \n",
    "Input  : str = \"330\", n = 6\n",
    "Output : 4\n",
    "The subsequences 30, 30, 330 and 0 are \n",
    "divisible by n.\n",
    "\n",
    "Input  : str = \"676\", n = 6\n",
    "Output : 3\n",
    "The subsequences 6, 6 and 66\n",
    "*/"
   ]
  },
  {
   "cell_type": "code",
   "execution_count": 10,
   "metadata": {},
   "outputs": [],
   "source": [
    "/*\n",
    "This problem can be recursively defined. \n",
    "Let remainder of a string with value x be ‘r’ when divided with n. \n",
    "Adding one more character to this string changes its remainder to (r*10 + newdigit) % n. \n",
    "For every new character, \n",
    "    -we have two choices, either add it in all current subsequences or ignore it. \n",
    "Thus, we have an optimal substructure. \n",
    "Following shows the brute force version of this:\n",
    "*/"
   ]
  },
  {
   "cell_type": "code",
   "execution_count": 11,
   "metadata": {},
   "outputs": [],
   "source": [
    "/*\n",
    "string str = \"330\";\n",
    "int n = 6;\n",
    "\n",
    "// idx is value of current index in str\n",
    "// rem is current remainder\n",
    "int count(int idx, int rem)\n",
    "{\n",
    "    // If last character reached\n",
    "    if (idx == n)\n",
    "        return (rem == 0)? 1 : 0;\n",
    "\n",
    "    int ans = 0;\n",
    "\n",
    "    // we exclude it, thus remainder\n",
    "    // remains the same\n",
    "    ans += count(idx+1, rem);\n",
    "\n",
    "    // we include it and thus new remainder\n",
    "    ans += count(idx+1, (rem*10 + str[idx]-'0')%n);\n",
    "\n",
    "    return ans;\n",
    "}\n",
    "*/"
   ]
  },
  {
   "cell_type": "code",
   "execution_count": 12,
   "metadata": {},
   "outputs": [],
   "source": [
    "/*\n",
    "The above recursive solution has overlapping subproblems as shown in below recursion tree.\n",
    "*/"
   ]
  },
  {
   "cell_type": "code",
   "execution_count": 13,
   "metadata": {},
   "outputs": [],
   "source": [
    "/*\n",
    "input string = \"330\"\n",
    "             (0,0) ===> at 0th index with 0 remainder\n",
    "(exclude 0th /      (include 0th character)\n",
    " character) /      \n",
    "       (1,0)      (1,3) ======> at index 1 with 3 as \n",
    "      (E)/  (I)     /(E)       the current remainder\n",
    "     (2,0)  (2,3)   (2,3)\n",
    "             |-------|\n",
    "     These two subproblems overlap \n",
    "     \n",
    "Thus, we can apply Dynamic Programming\n",
    "\n",
    "Time Complexity : O(len * n)\n",
    "Auxiliary Space : O(len * n)\n",
    "*/"
   ]
  },
  {
   "cell_type": "code",
   "execution_count": 14,
   "metadata": {},
   "outputs": [],
   "source": [
    "// Returns count of subsequences of str \n",
    "// divisible by n. \n",
    "static int countDivisibleSubseq(String str, int n) { \n",
    "    int len = str.length(); \n",
    "\n",
    "    // division by n can leave only n remainder \n",
    "    // [0..n-1]. dp[i][j] indicates number of \n",
    "    // subsequences in string [0..i] which leaves \n",
    "    // remainder j after division by n. \n",
    "    int dp[][] = new int[len][n]; \n",
    "\n",
    "    // Filling value for first digit in str \n",
    "    dp[0][(str.charAt(0) - '0') % n]++; \n",
    "\n",
    "    for (int i = 1; i < len; i++) { \n",
    "        // start a new subsequence with index i \n",
    "        dp[i][(str.charAt(i) - '0') % n]++; \n",
    "\n",
    "        for (int j = 0; j < n; j++) { \n",
    "            // exclude i'th character from all the \n",
    "            // current subsequences of string [0...i-1] \n",
    "            dp[i][j] += dp[i - 1][j]; \n",
    "\n",
    "            // include i'th character in all the current \n",
    "            // subsequences of string [0...i-1] \n",
    "            dp[i][(j * 10 + (str.charAt(i) - '0')) % n] += dp[i - 1][j]; \n",
    "        } \n",
    "    } \n",
    "\n",
    "    return dp[len - 1][0]; \n",
    "} "
   ]
  },
  {
   "cell_type": "code",
   "execution_count": 15,
   "metadata": {},
   "outputs": [
    {
     "name": "stdout",
     "output_type": "stream",
     "text": [
      "4"
     ]
    }
   ],
   "source": [
    "// Driver code \n",
    "public static void main(String[] args) { \n",
    "    String str = \"1234\"; \n",
    "    int n = 4; \n",
    "    System.out.print(countDivisibleSubseq(str, n)); \n",
    "} \n",
    "main(args);"
   ]
  },
  {
   "cell_type": "markdown",
   "metadata": {},
   "source": [
    "## **108. Find number of times a string occurs as a subsequence in given string**\n",
    "https://www.geeksforgeeks.org/find-number-times-string-occurs-given-string/"
   ]
  },
  {
   "cell_type": "code",
   "execution_count": 16,
   "metadata": {},
   "outputs": [],
   "source": [
    "/*\n",
    "Given two strings, \n",
    "    find the number of times the second string occurs in the first string, whether continuous or discontinuous.\n",
    "*/"
   ]
  },
  {
   "cell_type": "code",
   "execution_count": 17,
   "metadata": {},
   "outputs": [],
   "source": [
    "/*\n",
    "Examples:\n",
    "\n",
    "Input:  \n",
    "string a = \"GeeksforGeeks\"\n",
    "string b = \"Gks\"\n",
    "\n",
    "Output: 4\n",
    "\n",
    "Explanation:  \n",
    "The four strings are - (Check characters marked in bold)\n",
    "GeeksforGeeks\n",
    "GeeksforGeeks\n",
    "GeeksforGeeks\n",
    "GeeksforGeeks\n",
    "*/"
   ]
  },
  {
   "cell_type": "code",
   "execution_count": 18,
   "metadata": {},
   "outputs": [],
   "source": [
    "/*\n",
    "If we carefully analyze the given problem, we can see that it can be easily divided into sub-problems. \n",
    "The idea is to process all characters of both strings one by one staring from either from left or right side. \n",
    "Let us traverse from right corner, \n",
    "    there are two possibilities for every pair of character being traversed.\n",
    "*/"
   ]
  },
  {
   "cell_type": "code",
   "execution_count": 19,
   "metadata": {},
   "outputs": [],
   "source": [
    "/*\n",
    "m: Length of str1 (first string)\n",
    "n: Length of str2 (second string)\n",
    "\n",
    "If last characters of two strings are same, \n",
    "   1. We consider last characters and get count for remaining \n",
    "      strings. So we recur for lengths m-1 and n-1. \n",
    "   2. We can ignore last character of first string and \n",
    "      recurse for lengths m-1 and n.\n",
    "else \n",
    "If last characters are not same, \n",
    "   We ignore last character of first string and \n",
    "   recurse for lengths m-1 and n.\n",
    "*/"
   ]
  },
  {
   "cell_type": "code",
   "execution_count": 20,
   "metadata": {},
   "outputs": [],
   "source": [
    "// Recursive function to find the number of times \n",
    "// the second string occurs in the first string, \n",
    "// whether continuous or discontinuous \n",
    "static int count(String a, String b, int m, int n) \n",
    "{ \n",
    "    // If both first and second string is empty, \n",
    "    // or if second string is empty, return 1 \n",
    "    if ((m == 0 && n == 0) || n == 0) \n",
    "        return 1; \n",
    "\n",
    "    // If only first string is empty and  \n",
    "    // second string is not empty, return 0 \n",
    "    if (m == 0) \n",
    "        return 0; \n",
    "\n",
    "    // If last characters are same \n",
    "    // Recur for remaining strings by \n",
    "    // 1. considering last characters of  \n",
    "    // both strings \n",
    "    // 2. ignoring last character of  \n",
    "    // first string \n",
    "    if (a.charAt(m - 1) == b.charAt(n - 1)) \n",
    "        return count(a, b, m - 1, n - 1) + \n",
    "               count(a, b, m - 1, n); \n",
    "    else\n",
    "        // If last characters are different,   \n",
    "        // ignore last char of first string  \n",
    "        // and recur for  remaining string \n",
    "        return count(a, b, m - 1, n); \n",
    "} "
   ]
  },
  {
   "cell_type": "code",
   "execution_count": 21,
   "metadata": {},
   "outputs": [
    {
     "name": "stdout",
     "output_type": "stream",
     "text": [
      "4\n"
     ]
    }
   ],
   "source": [
    "// Driver code \n",
    "public static void main (String[] args)  \n",
    "{ \n",
    "    String a = \"GeeksforGeeks\"; \n",
    "    String b = \"Gks\"; \n",
    "    System.out.println( count(a, b, a.length(), b.length())) ; \n",
    "\n",
    "} \n",
    "main(args);"
   ]
  },
  {
   "cell_type": "code",
   "execution_count": 22,
   "metadata": {},
   "outputs": [],
   "source": [
    "/*\n",
    "The time complexity of above solution is exponential. \n",
    "If we carefully analyze, we can see that many sub-problems are solved again and again. \n",
    "Since same sub-problems are called again, this problem has Overlapping sub-problems property. \n",
    "\n",
    "Like other typical Dynamic Programming problems, \n",
    "    re-computations of same sub-problems can be avoided by constructing a temporary array that stores results of sub-problems.\n",
    "*/"
   ]
  },
  {
   "cell_type": "code",
   "execution_count": 23,
   "metadata": {},
   "outputs": [],
   "source": [
    "// Iterative DP function to  \n",
    "// find the number of times  \n",
    "// the second string occurs \n",
    "// in the first string, whether \n",
    "// continuous or discontinuous \n",
    "static int count(String a, String b) \n",
    "{ \n",
    "    int m = a.length(); \n",
    "    int n = b.length(); \n",
    "  \n",
    "    // Create a table to store \n",
    "    // results of sub-problems \n",
    "    int lookup[][] = new int[m + 1][n + 1]; \n",
    "  \n",
    "    // If first string is empty \n",
    "    for (int i = 0; i <= n; ++i) \n",
    "        lookup[0][i] = 0; \n",
    "  \n",
    "    // If second string is empty \n",
    "    for (int i = 0; i <= m; ++i) \n",
    "        lookup[i][0] = 1; \n",
    "  \n",
    "    // Fill lookup[][] in  \n",
    "    // bottom up manner \n",
    "    for (int i = 1; i <= m; i++) \n",
    "    { \n",
    "        for (int j = 1; j <= n; j++) \n",
    "        { \n",
    "            // If last characters are  \n",
    "            // same, we have two options - \n",
    "            // 1. consider last characters  \n",
    "            //    of both strings in solution \n",
    "            // 2. ignore last character \n",
    "            //    of first string \n",
    "            if (a.charAt(i - 1) == b.charAt(j - 1)) \n",
    "                lookup[i][j] = lookup[i - 1][j - 1] +  \n",
    "                               lookup[i - 1][j]; \n",
    "                  \n",
    "            else\n",
    "                // If last character are  \n",
    "                // different, ignore last \n",
    "                // character of first string \n",
    "                lookup[i][j] = lookup[i - 1][j]; \n",
    "        } \n",
    "    } \n",
    "  \n",
    "    return lookup[m][n]; \n",
    "} "
   ]
  },
  {
   "cell_type": "code",
   "execution_count": 24,
   "metadata": {},
   "outputs": [
    {
     "name": "stdout",
     "output_type": "stream",
     "text": [
      "4\n"
     ]
    }
   ],
   "source": [
    "// Driver Code \n",
    "public static void main (String[] args) \n",
    "{ \n",
    "    String a = \"GeeksforGeeks\"; \n",
    "    String b = \"Gks\"; \n",
    "      \n",
    "    System.out.println(count(a, b)); \n",
    "} \n",
    "main(args);"
   ]
  },
  {
   "cell_type": "code",
   "execution_count": 25,
   "metadata": {},
   "outputs": [],
   "source": [
    "/*\n",
    "Time complexity of above solutions is O(MN).\n",
    "Auxiliary space used by the program is O(MN).\n",
    "*/"
   ]
  },
  {
   "cell_type": "markdown",
   "metadata": {},
   "source": [
    "## **109. Count Distinct Subsequences**\n",
    "https://www.geeksforgeeks.org/count-distinct-subsequences/"
   ]
  },
  {
   "cell_type": "code",
   "execution_count": 26,
   "metadata": {},
   "outputs": [],
   "source": [
    "/*\n",
    "Given a string, find the count of distinct subsequences of it.\n",
    "*/"
   ]
  },
  {
   "cell_type": "code",
   "execution_count": 27,
   "metadata": {},
   "outputs": [],
   "source": [
    "/*\n",
    "Examples:\n",
    "\n",
    "Input  : str = \"gfg\"\n",
    "Output : 7\n",
    "The seven distinct subsequences are \"\", \"g\", \"f\",\n",
    "\"gf\", \"fg\", \"gg\" and \"gfg\" \n",
    "\n",
    "Input  : str = \"ggg\"\n",
    "Output : 4\n",
    "The four distinct subsequences are \"\", \"g\", \"gg\"\n",
    "and \"ggg\" \n",
    "*/"
   ]
  },
  {
   "cell_type": "code",
   "execution_count": 28,
   "metadata": {},
   "outputs": [],
   "source": [
    "/*\n",
    "The problem of counting distinct subsequences is easy if all characters of input string are distinct. \n",
    "The count is equal to nC0 + nC1 + nC2 + … nCn = 2n.\n",
    "\n",
    "How to count distinct subsequences when there can be repetition in input string?\n",
    "    -A Simple Solution to count distinct subsequences in a string with duplicates is to generate all subsequences. \n",
    "     For every subsequence, store it in a hash table if it doesn’t exist already. \n",
    "     Time complexity of this solution is exponential and it requires exponential extra space.\n",
    "*/"
   ]
  },
  {
   "cell_type": "code",
   "execution_count": 29,
   "metadata": {},
   "outputs": [],
   "source": [
    "/*\n",
    "Method 1(Naive Approach): Using a set (without Dynamic Programming)\n",
    "Time Complexity : O(2^n)\n",
    "Auxillary Space : O(n)\n",
    "where n is the length of the string.\n",
    "\n",
    "Approach : Generate all the possible subsequences of a given string. \n",
    "    The subsequences of a string can be generated in the following manner:\n",
    "        a) Include a particular element(say ith) in the output array and recursively call the function for the rest of the input string. \n",
    "           This results in the subsequences of a string having ith character.\n",
    "        b) Exclude a particular element(say ith) and recursively call the function for the rest of the input string. \n",
    "           This contains all the subsequences which don’t have the ith character.\n",
    "           \n",
    "    Once we have generated a subsequence, \n",
    "        in the base case of the function we insert that generated subsequence in an unordered set. \n",
    "        Unordered Set is a Data structure, that stores distinct elements in an unordered manner. \n",
    "        This way we insert all the generated subsequences in the set and print the size of the set as our answer \n",
    "            -because at last, the set will contain only distinct subsequences.\n",
    "*/"
   ]
  },
  {
   "cell_type": "markdown",
   "metadata": {},
   "source": [
    "***https://ideone.com/IrvPGh***"
   ]
  },
  {
   "cell_type": "code",
   "execution_count": 30,
   "metadata": {},
   "outputs": [],
   "source": [
    "/*\n",
    "Method 2(Efficient Approach): Using Dynamic Programming\n",
    "Time Complexity : O(n)\n",
    "Auxiliary Space : O(n)\n",
    "\n",
    "An Efficient Solution doesn’t require the generation of subsequences.\n",
    "\n",
    "Let countSub(n) be count of subsequences of \n",
    "first n characters in input string. We can\n",
    "recursively write it as below. \n",
    "\n",
    "countSub(n) = 2*Count(n-1) - Repetition\n",
    "\n",
    "If current character, i.e., str[n-1] of str has\n",
    "not appeared before, then \n",
    "   Repetition = 0\n",
    "\n",
    "Else:\n",
    "   Repetition  =  Count(m)\n",
    "   Here m is index of previous occurrence of\n",
    "   current character. We basically remove all\n",
    "   counts ending with previous occurrence of\n",
    "   current character.\n",
    "   \n",
    "How does this work?\n",
    "If there are no repetitions, \n",
    "    -then count becomes double of count for n-1 \n",
    "        -because we get count(n-1) more subsequences by adding current character at the end of all subsequences possible with n-1 length.\n",
    "        -If there repetitions, \n",
    "                -then we find count of all distinct subsequences ending with previous occurrence. \n",
    "                     This count can be obtained be recursively calling for index of previous occurrence.\n",
    "\n",
    "Since above recurrence has overlapping subproblems, we can solve it using Dynamic Programming.\n",
    "*/"
   ]
  },
  {
   "cell_type": "code",
   "execution_count": 31,
   "metadata": {},
   "outputs": [],
   "source": [
    "static final int MAX_CHAR = 256; \n",
    "\n",
    "// Returns count of distinct sunsequences of str. \n",
    "static int countSub(String str) \n",
    "{ \n",
    "    // Create an array to store index \n",
    "    // of last \n",
    "    int[] last = new int[MAX_CHAR]; \n",
    "    Arrays.fill(last, -1); \n",
    "\n",
    "    // Length of input string \n",
    "    int n = str.length(); \n",
    "\n",
    "    // dp[i] is going to store count of distinct \n",
    "    // subsequences of length i. \n",
    "    int[] dp = new int[n + 1]; \n",
    "\n",
    "    // Empty substring has only one subsequence \n",
    "    dp[0] = 1; \n",
    "\n",
    "    // Traverse through all lengths from 1 to n. \n",
    "    for (int i = 1; i <= n; i++) { \n",
    "        // Number of subsequences with substring \n",
    "        // str[0..i-1] \n",
    "        dp[i] = 2 * dp[i - 1]; \n",
    "\n",
    "        // If current character has appeared \n",
    "        // before, then remove all subsequences \n",
    "        // ending with previous occurrence. \n",
    "        if (last[(int)str.charAt(i - 1)] != -1) \n",
    "            dp[i] = dp[i] - dp[last[(int)str.charAt(i - 1)]]; \n",
    "\n",
    "        // Mark occurrence of current character \n",
    "        last[(int)str.charAt(i - 1)] = (i - 1); \n",
    "    } \n",
    "\n",
    "    return dp[n]; \n",
    "}"
   ]
  },
  {
   "cell_type": "code",
   "execution_count": 32,
   "metadata": {},
   "outputs": [
    {
     "name": "stdout",
     "output_type": "stream",
     "text": [
      "7\n"
     ]
    }
   ],
   "source": [
    "System.out.println(countSub(\"gfg\"));"
   ]
  },
  {
   "cell_type": "markdown",
   "metadata": {},
   "source": [
    "## **110. Find all the patterns of “1(0+)1” in a given string | SET 1(General Approach)**\n",
    "https://www.geeksforgeeks.org/find-patterns-101-given-string/"
   ]
  },
  {
   "cell_type": "markdown",
   "metadata": {},
   "source": [
    "**Related Link** ***https://www.geeksforgeeks.org/find-patterns-101-given-string-set-2regular-expression-approach/*** "
   ]
  },
  {
   "cell_type": "code",
   "execution_count": 33,
   "metadata": {},
   "outputs": [],
   "source": [
    "/*\n",
    "A string contains patterns of the form 1(0+)1 where (0+) represents any non-empty consecutive sequence of 0’s. \n",
    "Count all such patterns. \n",
    "The patterns are allowed to overlap.\n",
    "*/"
   ]
  },
  {
   "cell_type": "code",
   "execution_count": 34,
   "metadata": {},
   "outputs": [],
   "source": [
    "/*\n",
    "Note : It contains digits and lowercase characters only. \n",
    "       The string is not necessarily a binary. 100201 is not a valid pattern.\n",
    "        One approach to solve the problem is discussed here, other using Regular expressions is given in above Related Link\n",
    "*/"
   ]
  },
  {
   "cell_type": "code",
   "execution_count": 35,
   "metadata": {},
   "outputs": [],
   "source": [
    "/*\n",
    "Examples:\n",
    "\n",
    "Input : 1101001\n",
    "Output : 2\n",
    "\n",
    "Input : 100001abc101\n",
    "Output : 2\n",
    "*/"
   ]
  },
  {
   "cell_type": "code",
   "execution_count": 36,
   "metadata": {},
   "outputs": [],
   "source": [
    "/*\n",
    "Let size of input string be n.\n",
    "1. Iterate through index ‘0’ to ‘n-1’.\n",
    "2. If we encounter a ‘1’, we iterate till the elements are ‘0’.\n",
    "3. After the stream of zeros ends, we check whether we encounter a ‘1’ or not.\n",
    "4. Keep on doing this till we reach the end of string.\n",
    "*/"
   ]
  },
  {
   "cell_type": "code",
   "execution_count": 37,
   "metadata": {},
   "outputs": [],
   "source": [
    "// Function to count patterns  \n",
    "static int patternCount(String str) \n",
    "{ \n",
    "    /* Variable to store the last character*/\n",
    "    char last = str.charAt(0); \n",
    "\n",
    "    int i = 1, counter = 0; \n",
    "    while (i < str.length()) \n",
    "    { \n",
    "        /* We found 0 and last character was '1', \n",
    "        state change*/\n",
    "        if (str.charAt(i) == '0' && last == '1') \n",
    "        { \n",
    "            while (str.charAt(i) == '0') \n",
    "                i++; \n",
    "\n",
    "            // After the stream of 0's, we  \n",
    "            // got a '1',counter incremented \n",
    "            if (str.charAt(i) == '1') \n",
    "                counter++; \n",
    "        } \n",
    "\n",
    "        /* Last character stored */\n",
    "        last = str.charAt(i); \n",
    "        i++; \n",
    "    } \n",
    "\n",
    "    return counter; \n",
    "} "
   ]
  },
  {
   "cell_type": "code",
   "execution_count": 38,
   "metadata": {},
   "outputs": [
    {
     "name": "stdout",
     "output_type": "stream",
     "text": [
      "2\n"
     ]
    }
   ],
   "source": [
    "// Driver Code  \n",
    "public static void main (String[] args) \n",
    "{ \n",
    "    String str = \"1001ab010abc01001\"; \n",
    "    System.out.println(patternCount(str)); \n",
    "\n",
    "}\n",
    "main(args);"
   ]
  },
  {
   "cell_type": "markdown",
   "metadata": {},
   "source": [
    "## **111. Given a string, find its first non-repeating character**\n",
    "https://www.geeksforgeeks.org/given-a-string-find-its-first-non-repeating-character/"
   ]
  },
  {
   "cell_type": "code",
   "execution_count": 39,
   "metadata": {},
   "outputs": [],
   "source": [
    "/*\n",
    "Given a string, find the first non-repeating character in it. \n",
    "For example, \n",
    "    if the input string is “GeeksforGeeks”, \n",
    "        then output should be ‘f’ and \n",
    "    if input string is “GeeksQuiz”, \n",
    "        then output should be ‘G’.\n",
    "*/"
   ]
  },
  {
   "cell_type": "markdown",
   "metadata": {},
   "source": [
    "<img src = \"https://media.geeksforgeeks.org/wp-content/cdn-uploads/find-first-non-repeated-character-in-a-string.png\"/>"
   ]
  },
  {
   "cell_type": "code",
   "execution_count": 40,
   "metadata": {},
   "outputs": [],
   "source": [
    "/*\n",
    "We can use string characters as index and build a count array. Following is the algorithm.\n",
    "\n",
    "1) Scan the string from left to right and construct the count array.\n",
    "2) Again, scan the string from left to right and check for count of eachcharacter, \n",
    "        if you find an element who's count is 1, return it.\n",
    "*/"
   ]
  },
  {
   "cell_type": "code",
   "execution_count": 41,
   "metadata": {},
   "outputs": [],
   "source": [
    "/*\n",
    "Example:\n",
    "\n",
    "Input string: str = geeksforgeeks\n",
    "1: Construct character count array from the input string.\n",
    "   ....\n",
    "  count['e'] = 4\n",
    "  count['f'] = 1\n",
    "  count['g'] = 2\n",
    "  count['k'] = 2\n",
    "  ……\n",
    "2: Get the first character who's count is 1 ('f').\n",
    "*/"
   ]
  },
  {
   "cell_type": "code",
   "execution_count": 42,
   "metadata": {},
   "outputs": [],
   "source": [
    "static final int NO_OF_CHARS = 256; \n",
    "static char count[] = new char[NO_OF_CHARS]; \n",
    "\n",
    "/* calculate count of characters  \n",
    "   in the passed string */\n",
    " static void getCharCountArray(String str)  \n",
    " { \n",
    "     for (int i = 0; i < str.length();  i++) \n",
    "          count[str.charAt(i)]++; \n",
    " } \n",
    "\n",
    "/* The method returns index of first non-repeating \n",
    "   character in a string. If all characters are repeating  \n",
    "   then returns -1 */\n",
    "static int firstNonRepeating(String str) \n",
    "{ \n",
    "    getCharCountArray(str); \n",
    "    int index = -1, i; \n",
    "\n",
    "    for (i = 0; i < str.length();  i++) \n",
    "    { \n",
    "        if (count[str.charAt(i)] == 1) \n",
    "        { \n",
    "            index = i; \n",
    "            break; \n",
    "        }    \n",
    "    }   \n",
    "\n",
    "  return index; \n",
    "} "
   ]
  },
  {
   "cell_type": "code",
   "execution_count": 43,
   "metadata": {},
   "outputs": [
    {
     "name": "stdout",
     "output_type": "stream",
     "text": [
      "First non-repeating character is f\n"
     ]
    }
   ],
   "source": [
    "// Driver method \n",
    "public static void main (String[] args) \n",
    "{ \n",
    "    String str = \"geeksforgeeks\"; \n",
    "    int index =  firstNonRepeating(str); \n",
    "\n",
    "    System.out.println(index == -1 ? \"Either all characters are repeating or string \" + \n",
    "               \"is empty\" : \"First non-repeating character is \" +  str.charAt(index)); \n",
    "} \n",
    "main(args);"
   ]
  },
  {
   "cell_type": "code",
   "execution_count": 44,
   "metadata": {},
   "outputs": [],
   "source": [
    "/*\n",
    "Can we do it by traversing the string only once?\n",
    "\n",
    "The above approach takes O(n) time, but in practice it can be improved. \n",
    "The first part of the algorithm runs through the string to construct the count array (in O(n) time). \n",
    "\n",
    "This is reasonable. \n",
    "    But the second part about running through the string again just to find the first non-repeater is not good in practice. \n",
    "    In real situations, your string is expected to be much larger than your alphabet. \n",
    "    \n",
    "Take DNA sequences for example: \n",
    "    they could be millions of letters long with an alphabet of just 4 letters. \n",
    "    \n",
    "    What happens if the non-repeater is at the end of the string? \n",
    "        Then we would have to scan for a long time (again).\n",
    "\n",
    "We can augment the count array by storing not just counts but also the index of the first time you encountered the character \n",
    "    e.g. (3, 26) for ‘a’ meaning that ‘a’ got counted 3 times and the first time it was seen is at position 26. \n",
    "       So when it comes to finding the first non-repeater, we just have to scan the count array, instead of the string. \n",
    "*/"
   ]
  },
  {
   "cell_type": "code",
   "execution_count": 45,
   "metadata": {},
   "outputs": [],
   "source": [
    "class CountIndex \n",
    "{ \n",
    "    int count,index; \n",
    "      \n",
    "    // constructor for first occurrence \n",
    "    public CountIndex(int index) { \n",
    "        this.count = 1; \n",
    "        this.index = index; \n",
    "    } \n",
    "      \n",
    "    // method for updating count \n",
    "    public void incCount() { \n",
    "        this.count++; \n",
    "    } \n",
    "} "
   ]
  },
  {
   "cell_type": "code",
   "execution_count": 46,
   "metadata": {},
   "outputs": [],
   "source": [
    "static final int NO_OF_CHARS = 256; \n",
    "\n",
    "static HashMap<Character, CountIndex> hm = new HashMap<Character, CountIndex>(NO_OF_CHARS); \n",
    "\n",
    "/* calculate count of characters  \n",
    "   in the passed string */\n",
    "static void getCharCountArray(String str)  \n",
    "{ \n",
    "     for (int i = 0; i < str.length();  i++) \n",
    "     { \n",
    "        // If character already occurred,  \n",
    "         if(hm.containsKey(str.charAt(i))) \n",
    "         { \n",
    "             // updating count \n",
    "             hm.get(str.charAt(i)).incCount(); \n",
    "         } \n",
    "\n",
    "        // If it's first occurrence, then store the index and count = 1 \n",
    "         else\n",
    "         { \n",
    "             hm.put(str.charAt(i), new CountIndex(i)); \n",
    "         } \n",
    "\n",
    "     }     \n",
    "} "
   ]
  },
  {
   "cell_type": "code",
   "execution_count": 47,
   "metadata": {},
   "outputs": [],
   "source": [
    "/* The method returns index of first non-repeating \n",
    "   character in a string. If all characters are repeating  \n",
    "   then returns -1 */\n",
    "static int firstNonRepeating(String str) \n",
    "{ \n",
    "    getCharCountArray(str); \n",
    "    int result = Integer.MAX_VALUE, i; \n",
    "\n",
    "    for (i = 0; i < str.length();  i++) \n",
    "    { \n",
    "         // If this character occurs only once and appears \n",
    "        // before the current result, then update the result \n",
    "        if (hm.get(str.charAt(i)).count == 1 && result > hm.get(str.charAt(i)).index){ \n",
    "             result = hm.get(str.charAt(i)).index; \n",
    "        } \n",
    "\n",
    "    }   \n",
    "\n",
    "  return result; \n",
    "} "
   ]
  },
  {
   "cell_type": "code",
   "execution_count": 48,
   "metadata": {},
   "outputs": [
    {
     "name": "stdout",
     "output_type": "stream",
     "text": [
      "First non-repeating character is f\n"
     ]
    }
   ],
   "source": [
    "// Driver method \n",
    "public static void main (String[] args) \n",
    "{ \n",
    "    String str = \"geeksforgeeks\"; \n",
    "    int index =  firstNonRepeating(str); \n",
    "\n",
    "    System.out.println(index == Integer.MAX_VALUE ? \"Either all characters are repeating \" + \n",
    "          \" or string is empty\" : \"First non-repeating character is \" +  str.charAt(index)); \n",
    "} \n",
    "main(args);"
   ]
  },
  {
   "cell_type": "markdown",
   "metadata": {},
   "source": [
    "**Related Link :** ***https://www.geeksforgeeks.org/kth-non-repeating-character/***"
   ]
  },
  {
   "cell_type": "markdown",
   "metadata": {},
   "source": [
    "## **112. Rearrange a string so that all same characters become d distance away**\n",
    "https://www.geeksforgeeks.org/rearrange-a-string-so-that-all-same-characters-become-at-least-d-distance-away/"
   ]
  },
  {
   "cell_type": "code",
   "execution_count": 49,
   "metadata": {},
   "outputs": [],
   "source": [
    "/*\n",
    "Given a string and a positive integer d. \n",
    "Some characters may be repeated in the given string. \n",
    "\n",
    "Rearrange characters of the given string such that the same characters become d distance away from each other. \n",
    "Note that there can be many possible rearrangements, the output should be one of the possible rearrangements. \n",
    "\n",
    "If no such arrangement is possible, that should also be reported.\n",
    "\n",
    "Expected time complexity is O(n) where n is length of input string.\n",
    "*/"
   ]
  },
  {
   "cell_type": "code",
   "execution_count": 50,
   "metadata": {},
   "outputs": [],
   "source": [
    "/*\n",
    "Examples:\n",
    "Input:  \"abb\", d = 2\n",
    "Output: \"bab\"\n",
    "\n",
    "Input:  \"aacbbc\", d = 3\n",
    "Output: \"abcabc\"\n",
    "\n",
    "Input: \"geeksforgeeks\", d = 3\n",
    "Output: egkegkesfesor\n",
    "\n",
    "Input:  \"aaa\",  d = 2\n",
    "Output: Cannot be rearranged\n",
    "*/"
   ]
  },
  {
   "cell_type": "code",
   "execution_count": 51,
   "metadata": {},
   "outputs": [],
   "source": [
    "/*\n",
    "Hint: Alphabet size may be assumed as constant (256) and extra space may be used.\n",
    "*/"
   ]
  },
  {
   "cell_type": "code",
   "execution_count": 52,
   "metadata": {},
   "outputs": [],
   "source": [
    "/*\n",
    "Solution: \n",
    "\n",
    "The idea is to count frequencies of all characters \n",
    "and consider the most frequent character first and place all occurrences of it as close as possible. \n",
    "After the most frequent character is placed, repeat the same process for remaining characters.\n",
    "\n",
    "1) Let the given string be str and size of string be n\n",
    "\n",
    "2) Traverse str, store all characters and their frequencies in a Max Heap MH. \n",
    "        The value of frequency decides the order in MH, i.e., the most frequent character is at the root of MH.\n",
    "\n",
    "3) Make all characters of str as ‘\\0’.\n",
    "\n",
    "4) Do following while MH is not empty.\n",
    "\n",
    "    …a) Extract the Most frequent character. Let the extracted character be x and its frequency be f.\n",
    "    …b) Find the first available position in str, i.e., find the first ‘\\0’ in str.\n",
    "    …c) Let the first position be p. Fill x at p, p+d,.. p+(f-1)d\n",
    "*/"
   ]
  },
  {
   "cell_type": "code",
   "execution_count": 53,
   "metadata": {},
   "outputs": [],
   "source": [
    "/*\n",
    "Time Complexity: \n",
    "    Time complexity of above implementation is O(n + mLog(MAX)). \n",
    "    Here n is the length of str, \n",
    "         m is count of distinct characters in str[] \n",
    "     and MAX is maximum possible different characters. \n",
    "    MAX is typically 256 (a constant) and m is smaller than MAX. \n",
    "So the time complexity can be considered as O(n).\n",
    "*/"
   ]
  },
  {
   "cell_type": "markdown",
   "metadata": {},
   "source": [
    "***https://ideone.com/fxfKfq***"
   ]
  },
  {
   "cell_type": "markdown",
   "metadata": {},
   "source": [
    "## **113. Recursively remove all adjacent duplicates**\n",
    "https://www.geeksforgeeks.org/recursively-remove-adjacent-duplicates-given-string/"
   ]
  },
  {
   "cell_type": "code",
   "execution_count": 54,
   "metadata": {},
   "outputs": [],
   "source": [
    "/*\n",
    "Given a string, recursively remove adjacent duplicate characters from the string. \n",
    "The output string should not have any adjacent duplicates. See following examples.\n",
    "*/"
   ]
  },
  {
   "cell_type": "code",
   "execution_count": 55,
   "metadata": {},
   "outputs": [],
   "source": [
    "/*\n",
    "Examples:\n",
    "\n",
    "Input: azxxzy\n",
    "Output: ay\n",
    "First “azxxzy” is reduced to “azzy”.\n",
    "The string “azzy” contains duplicates,\n",
    "so it is further reduced to “ay”.\n",
    "\n",
    "\n",
    "\n",
    "Input: geeksforgeeg\n",
    "Output: gksfor\n",
    "First “geeksforgeeg” is reduced to\n",
    "“gksforgg”. The string “gksforgg”\n",
    "contains duplicates, so it is further\n",
    "reduced to “gksfor”.\n",
    "\n",
    "Input: caaabbbaacdddd\n",
    "Output: Empty String\n",
    "\n",
    "Input: acaaabbbacdddd\n",
    "Output: acac\n",
    "*/"
   ]
  },
  {
   "cell_type": "code",
   "execution_count": 56,
   "metadata": {},
   "outputs": [],
   "source": [
    "/*\n",
    "The following approach can be followed to remove duplicates in O(N) time:\n",
    "\n",
    "1. Start from the leftmost character and remove duplicates at left corner if there are any.\n",
    "2. The first character must be different from its adjacent now. \n",
    "   Recur for string of length n-1 (string without first character).\n",
    "3. Let the string obtained after reducing right substring of length n-1 be rem_str. \n",
    "   There are three possible cases\n",
    "    i.   If first character of rem_str matches with the first character of original string, remove the first character from rem_str.\n",
    "    ii.  If remaining string becomes empty and last removed character is same as first character of original string. Return empty string.\n",
    "    iii. Else, append the first character of the original string at the beginning of rem_str.\n",
    "4. Return rem_str.\n",
    "*/"
   ]
  },
  {
   "cell_type": "markdown",
   "metadata": {},
   "source": [
    "<img src = \"https://media.geeksforgeeks.org/wp-content/cdn-uploads/20190620140514/Recursively-remove-all-adjacent-duplicates--768x260.png\"/>"
   ]
  },
  {
   "cell_type": "code",
   "execution_count": 57,
   "metadata": {},
   "outputs": [],
   "source": [
    "// Recursively removes adjacent duplicates from str and returns  \n",
    "// new string. las_removed is a pointer to last_removed character \n",
    "static String removeUtil(String str, char last_removed) \n",
    "{ \n",
    "     // If length of string is 1 or 0  \n",
    "     if (str.length() == 0 || str.length() == 1) \n",
    "         return str; \n",
    "\n",
    "     // Remove leftmost same characters and recur for remaining   \n",
    "     // string  \n",
    "     if (str.charAt(0) == str.charAt(1)) \n",
    "     { \n",
    "         last_removed = str.charAt(0); \n",
    "         while (str.length() > 1 && str.charAt(0) == str.charAt(1)) \n",
    "               str = str.substring(1, str.length()); \n",
    "         str = str.substring(1, str.length()); \n",
    "         return removeUtil(str, last_removed);  \n",
    "     } \n",
    "\n",
    "     // At this point, the first character is definiotely different   \n",
    "     // from its adjacent. Ignore first character and recursively   \n",
    "     // remove characters from remaining string  \n",
    "     String rem_str = removeUtil(str.substring(1,str.length()), last_removed); \n",
    "\n",
    "     // Check if the first character of the rem_string matches with   \n",
    "     // the first character of the original string \n",
    "     if (rem_str.length() != 0 && rem_str.charAt(0) == str.charAt(0)) \n",
    "     { \n",
    "        last_removed = str.charAt(0); \n",
    "        return rem_str.substring(1,rem_str.length()); // Remove first character \n",
    "     }  \n",
    "\n",
    "\n",
    "     // If remaining string becomes empty and last removed character  \n",
    "     // is same as first character of original string. This is needed  \n",
    "     // for a string like \"acbbcddc\"  \n",
    "     if (rem_str.length() == 0 && last_removed == str.charAt(0)) \n",
    "         return rem_str; \n",
    "\n",
    "     // If the two first characters of str and rem_str don't match,   \n",
    "     // append first character of str before the first character of  \n",
    "     // rem_str \n",
    "     return (str.charAt(0) + rem_str); \n",
    "}"
   ]
  },
  {
   "cell_type": "code",
   "execution_count": 58,
   "metadata": {},
   "outputs": [],
   "source": [
    "static String remove(String str)   \n",
    "{ \n",
    "     char last_removed = '\\0'; \n",
    "     return removeUtil(str, last_removed);        \n",
    "} "
   ]
  },
  {
   "cell_type": "code",
   "execution_count": 59,
   "metadata": {},
   "outputs": [
    {
     "name": "stdout",
     "output_type": "stream",
     "text": [
      "gksfor\n",
      "ay\n",
      "\n",
      "g\n",
      "a\n",
      "\n",
      "qrq\n",
      "acac\n"
     ]
    }
   ],
   "source": [
    "// Driver code \n",
    "public static void main(String args[]) \n",
    "{ \n",
    "     String str1 = \"geeksforgeeg\"; \n",
    "     System.out.println(remove(str1)); \n",
    "\n",
    "     String str2 = \"azxxxzy\"; \n",
    "     System.out.println(remove(str2)); \n",
    "\n",
    "     String str3 = \"caaabbbaac\"; \n",
    "     System.out.println(remove(str3)); \n",
    "\n",
    "     String str4 = \"gghhg\"; \n",
    "     System.out.println(remove(str4)); \n",
    "\n",
    "     String str5 = \"aaaacddddcappp\"; \n",
    "     System.out.println(remove(str5)); \n",
    "\n",
    "     String str6 = \"aaaaaaaaaa\"; \n",
    "     System.out.println(remove(str6)); \n",
    "\n",
    "     String str7 = \"qpaaaaadaaaaadprq\"; \n",
    "     System.out.println(remove(str7)); \n",
    "\n",
    "     String str8 = \"acaaabbbacdddd\"; \n",
    "     System.out.println(remove(str8)); \n",
    "\n",
    "} \n",
    "main(args);"
   ]
  },
  {
   "cell_type": "code",
   "execution_count": 60,
   "metadata": {},
   "outputs": [],
   "source": [
    "/*\n",
    "Time Complexity: \n",
    "    The time complexity of the solution can be written as T(n) = T(n-k) + O(k) \n",
    "    where n is length of the input string \n",
    "    and   k is the number of first characters which are same. \n",
    "Solution of the recurrence is O(n)\n",
    "*/"
   ]
  },
  {
   "cell_type": "markdown",
   "metadata": {},
   "source": [
    "## **114. String matching where one string contains wildcard characters**\n",
    "https://www.geeksforgeeks.org/wildcard-character-matching/"
   ]
  },
  {
   "cell_type": "code",
   "execution_count": 61,
   "metadata": {},
   "outputs": [],
   "source": [
    "/*\n",
    "Given two strings where first string may contain wild card characters and second string is a normal string. \n",
    "Write a function that returns true if the two strings match. \n",
    "\n",
    "The following are allowed wild card characters in first string.\n",
    "\n",
    "* --> Matches with 0 or more instances of any character or set of characters.\n",
    "? --> Matches with any one character.\n",
    "*/"
   ]
  },
  {
   "cell_type": "code",
   "execution_count": 62,
   "metadata": {},
   "outputs": [],
   "source": [
    "/*\n",
    "For example, \n",
    "\n",
    "“g*ks” matches with “geeks” match. \n",
    "And string “ge?ks*” matches with “geeksforgeeks” (note ‘*’ at the end of first string). \n",
    "But “g*k” doesn’t match with “gee” as character ‘k’ is not present in second string.\n",
    "*/"
   ]
  },
  {
   "cell_type": "code",
   "execution_count": 63,
   "metadata": {},
   "outputs": [],
   "source": [
    "// The main function that checks if  \n",
    "// two given strings match. The first string  \n",
    "// may contain wildcard characters \n",
    "static boolean match(String first, String second)  \n",
    "{ \n",
    "  \n",
    "    // If we reach at the end of both strings,  \n",
    "    // we are done \n",
    "    if (first.length() == 0 && second.length() == 0) \n",
    "        return true; \n",
    "  \n",
    "    // Make sure that the characters after '*'  \n",
    "    // are present in second string.  \n",
    "    // This function assumes that the first \n",
    "    // string will not contain two consecutive '*' \n",
    "    if (first.length() > 1 && first.charAt(0) == '*' &&  \n",
    "                              second.length() == 0) \n",
    "        return false; \n",
    "  \n",
    "    // If the first string contains '?',  \n",
    "    // or current characters of both strings match \n",
    "    if ((first.length() > 1 && first.charAt(0) == '?') ||  \n",
    "        (first.length() != 0 && second.length() != 0 &&  \n",
    "         first.charAt(0) == second.charAt(0))) \n",
    "        return match(first.substring(1),  \n",
    "                     second.substring(1)); \n",
    "  \n",
    "    // If there is *, then there are two possibilities \n",
    "    // a) We consider current character of second string \n",
    "    // b) We ignore current character of second string. \n",
    "    if (first.length() > 0 && first.charAt(0) == '*') \n",
    "        return match(first.substring(1), second) ||  \n",
    "               match(first, second.substring(1)); \n",
    "    return false; \n",
    "} "
   ]
  },
  {
   "cell_type": "code",
   "execution_count": 64,
   "metadata": {},
   "outputs": [],
   "source": [
    "// A function to run test cases \n",
    "static void test(String first, String second) \n",
    "{ \n",
    "    if (match(first, second)) \n",
    "        System.out.println(\"Yes\"); \n",
    "    else\n",
    "        System.out.println(\"No\"); \n",
    "} "
   ]
  },
  {
   "cell_type": "code",
   "execution_count": 65,
   "metadata": {
    "scrolled": true
   },
   "outputs": [
    {
     "name": "stdout",
     "output_type": "stream",
     "text": [
      "Yes\n",
      "Yes\n",
      "No\n",
      "No\n",
      "Yes\n",
      "No\n",
      "Yes\n",
      "Yes\n"
     ]
    }
   ],
   "source": [
    "// Driver Code \n",
    "public static void main(String[] args)  \n",
    "{ \n",
    "    test(\"g*ks\", \"geeks\"); // Yes \n",
    "    test(\"ge?ks*\", \"geeksforgeeks\"); // Yes \n",
    "    test(\"g*k\", \"gee\"); // No because 'k' is not in second \n",
    "    test(\"*pqrs\", \"pqrst\"); // No because 't' is not in first \n",
    "    test(\"abc*bcd\", \"abcdhghgbcd\"); // Yes \n",
    "    test(\"abc*c?d\", \"abcd\"); // No because second must have 2 \n",
    "                            // instances of 'c' \n",
    "    test(\"*c*d\", \"abcd\"); // Yes \n",
    "    test(\"*?c*d\", \"abcd\"); // Yes \n",
    "} \n",
    "main(args);"
   ]
  },
  {
   "cell_type": "markdown",
   "metadata": {},
   "source": [
    "***https://youtu.be/Q6ZX95GadA8***"
   ]
  },
  {
   "cell_type": "markdown",
   "metadata": {},
   "source": [
    "## **115. Lexicographic rank of a string**\n",
    "https://www.geeksforgeeks.org/lexicographic-rank-of-a-string/"
   ]
  },
  {
   "cell_type": "code",
   "execution_count": 66,
   "metadata": {},
   "outputs": [],
   "source": [
    "/*\n",
    "Given a string, \n",
    "find its rank among all its permutations sorted lexicographically. \n",
    "\n",
    "For example, \n",
    "    rank of “abc” is 1, \n",
    "    rank of “acb” is 2, \n",
    "    and rank of “cba” is 6.\n",
    "    \n",
    "For simplicity, let us assume that the string does not contain any duplicated characters.\n",
    "*/"
   ]
  },
  {
   "cell_type": "code",
   "execution_count": 67,
   "metadata": {},
   "outputs": [],
   "source": [
    "/*\n",
    "Examples:\n",
    "\n",
    "Input : str[] = \"acb\"\n",
    "Output : Rank = 2\n",
    "\n",
    "Input : str[] = \"string\"\n",
    "Output : Rank = 598\n",
    "\n",
    "Input : str[] = \"cba\"\n",
    "Output : Rank = 6\n",
    "*/"
   ]
  },
  {
   "cell_type": "code",
   "execution_count": 68,
   "metadata": {},
   "outputs": [],
   "source": [
    "/*\n",
    "One simple solution is to initialize rank as 1, \n",
    "generate all permutations in lexicographic order. \n",
    "\n",
    "After generating a permutation, \n",
    "check if the generated permutation is same as given string, \n",
    "        if same, \n",
    "            then return rank, \n",
    "        if not, \n",
    "            then increment the rank by 1. \n",
    "            \n",
    "The time complexity of this solution will be exponential in worst case.\n",
    "*/"
   ]
  },
  {
   "cell_type": "code",
   "execution_count": 69,
   "metadata": {},
   "outputs": [],
   "source": [
    "/*\n",
    "Let the given string be “STRING”. \n",
    "In the input string, ‘S’ is the first character. \n",
    "There are total 6 characters and 4 of them are smaller than ‘S’. \n",
    "So there can be 4 * 5! smaller strings where first character is smaller than ‘S’, like following\n",
    "\n",
    "R X X X X X\n",
    "I X X X X X\n",
    "N X X X X X\n",
    "G X X X X X\n",
    "\n",
    "Now let us Fix S’ and find the smaller strings starting with ‘S’.\n",
    "\n",
    "Repeat the same process for T, rank is 4*5! + 4*4! +…\n",
    "\n",
    "Now fix T and repeat the same process for R, rank is 4*5! + 4*4! + 3*3! +…\n",
    "\n",
    "Now fix R and repeat the same process for I, rank is 4*5! + 4*4! + 3*3! + 1*2! +…\n",
    "\n",
    "Now fix I and repeat the same process for N, rank is 4*5! + 4*4! + 3*3! + 1*2! + 1*1! +…\n",
    "\n",
    "Now fix N and repeat the same process for G, rank is 4*5! + 4*4! + 3*3! + 1*2! + 1*1! + 0*0!\n",
    "\n",
    "Rank = 4*5! + 4*4! + 3*3! + 1*2! + 1*1! + 0*0! = 597\n",
    "\n",
    "\n",
    "Note that the above computations find count of smaller strings. \n",
    "Therefore rank of given string is count of smaller strings plus 1. \n",
    "The final rank = 1 + 597 = 598\n",
    "*/"
   ]
  },
  {
   "cell_type": "code",
   "execution_count": 70,
   "metadata": {},
   "outputs": [],
   "source": [
    "// A utility function to find factorial of n \n",
    "static int fact(int n) \n",
    "{ \n",
    "    return (n <= 1) ? 1 : n * fact(n - 1); \n",
    "} "
   ]
  },
  {
   "cell_type": "code",
   "execution_count": 71,
   "metadata": {},
   "outputs": [],
   "source": [
    "// A utility function to count smaller \n",
    "// characters on right of arr[low] \n",
    "static int findSmallerInRight(String str, int low, \n",
    "                              int high) \n",
    "{ \n",
    "    int countRight = 0, i; \n",
    "\n",
    "    for (i = low + 1; i <= high; ++i) \n",
    "        if (str.charAt(i) < str.charAt(low)) \n",
    "            ++countRight; \n",
    "\n",
    "    return countRight; \n",
    "}"
   ]
  },
  {
   "cell_type": "code",
   "execution_count": 72,
   "metadata": {},
   "outputs": [],
   "source": [
    "// A function to find rank of a string in \n",
    "// all permutations of characters \n",
    "static int findRank(String str) \n",
    "{ \n",
    "    int len = str.length(); \n",
    "    int mul = fact(len); \n",
    "    int rank = 1; \n",
    "    int countRight; \n",
    "\n",
    "    for (int i = 0; i < len; ++i) { \n",
    "        mul /= len - i; \n",
    "\n",
    "        // count number of chars smaller \n",
    "        // than str[i] from str[i+1] to \n",
    "        // str[len-1] \n",
    "        countRight = findSmallerInRight(str, i, len - 1); \n",
    "\n",
    "        rank += countRight * mul; \n",
    "    } \n",
    "\n",
    "    return rank; \n",
    "} "
   ]
  },
  {
   "cell_type": "code",
   "execution_count": 73,
   "metadata": {},
   "outputs": [
    {
     "name": "stdout",
     "output_type": "stream",
     "text": [
      "598\n"
     ]
    }
   ],
   "source": [
    "// Driver program to test above function \n",
    "public static void main(String[] args) \n",
    "{ \n",
    "    String str = \"string\"; \n",
    "    System.out.println(findRank(str)); \n",
    "} \n",
    "main(args);"
   ]
  },
  {
   "cell_type": "code",
   "execution_count": 74,
   "metadata": {},
   "outputs": [],
   "source": [
    "/*\n",
    "The time complexity of the above solution is O(n^2). \n",
    "We can reduce the time complexity to O(n) by creating an auxiliary array of size 256. \n",
    "*/"
   ]
  },
  {
   "cell_type": "code",
   "execution_count": 75,
   "metadata": {},
   "outputs": [],
   "source": [
    "static int MAX_CHAR = 256; \n",
    "\n",
    "// A utility function to find factorial of n \n",
    "static int fact(int n) \n",
    "{ \n",
    "    return (n <= 1) ? 1 : n * fact(n - 1); \n",
    "} "
   ]
  },
  {
   "cell_type": "code",
   "execution_count": 76,
   "metadata": {},
   "outputs": [],
   "source": [
    "// Construct a count array where value at every index \n",
    "// contains count of smaller characters in whole string \n",
    "static void populateAndIncreaseCount(int[] count, char[] str) \n",
    "{ \n",
    "    int i; \n",
    "\n",
    "    for (i = 0; i < str.length; ++i) \n",
    "        ++count[str[i]]; \n",
    "\n",
    "    for (i = 1; i < MAX_CHAR; ++i) \n",
    "        count[i] += count[i - 1]; \n",
    "}"
   ]
  },
  {
   "cell_type": "code",
   "execution_count": 77,
   "metadata": {},
   "outputs": [],
   "source": [
    "// Removes a character ch from count[] array \n",
    "// constructed by populateAndIncreaseCount() \n",
    "static void updatecount(int[] count, char ch) \n",
    "{ \n",
    "    int i; \n",
    "    for (i = ch; i < MAX_CHAR; ++i) \n",
    "        --count[i]; \n",
    "} "
   ]
  },
  {
   "cell_type": "code",
   "execution_count": 78,
   "metadata": {},
   "outputs": [],
   "source": [
    "// A function to find rank of a string in all permutations \n",
    "// of characters \n",
    "static int findRank(char[] str) \n",
    "{ \n",
    "    int len = str.length; \n",
    "    int mul = fact(len); \n",
    "    int rank = 1, i; \n",
    "\n",
    "    // all elements of count[] are initialized with 0 \n",
    "    int count[] = new int[MAX_CHAR]; \n",
    "\n",
    "    // Populate the count array such that count[i] \n",
    "    // contains count of characters which are present \n",
    "    // in str and are smaller than i \n",
    "    populateAndIncreaseCount(count, str); \n",
    "\n",
    "    for (i = 0; i < len; ++i) { \n",
    "        mul /= len - i; \n",
    "\n",
    "        // count number of chars smaller than str[i] \n",
    "        // fron str[i+1] to str[len-1] \n",
    "        rank += count[str[i] - 1] * mul; \n",
    "\n",
    "        // Reduce count of characters greater than str[i] \n",
    "        updatecount(count, str[i]); \n",
    "    } \n",
    "\n",
    "    return rank; \n",
    "} "
   ]
  },
  {
   "cell_type": "code",
   "execution_count": 79,
   "metadata": {},
   "outputs": [
    {
     "name": "stdout",
     "output_type": "stream",
     "text": [
      "598\n"
     ]
    }
   ],
   "source": [
    "// Driver code \n",
    "public static void main(String args[]) \n",
    "{ \n",
    "    char str[] = \"string\".toCharArray(); \n",
    "    System.out.println(findRank(str)); \n",
    "} \n",
    "main(args);"
   ]
  },
  {
   "cell_type": "markdown",
   "metadata": {},
   "source": [
    "## **116. Print number in ascending order which contains 1, 2 and 3 in their digits.**\n",
    "https://www.geeksforgeeks.org/print-number-ascending-order-contains-1-2-3-digits/"
   ]
  },
  {
   "cell_type": "code",
   "execution_count": 80,
   "metadata": {},
   "outputs": [],
   "source": [
    "/*\n",
    "Given an array of numbers, \n",
    "    the task is to print those numbers in ascending order separated by commas which have 1, 2 and 3 in their digits. \n",
    "    If no number containing digits 1, 2, and 3 present then print -1.\n",
    "    \n",
    "Time Complexity: Time complexity of the above approach is O(nlg(n)).\n",
    "*/"
   ]
  },
  {
   "cell_type": "code",
   "execution_count": 81,
   "metadata": {},
   "outputs": [],
   "source": [
    "/*\n",
    "Examples:\n",
    "\n",
    "Input : numbers[] = {123, 1232, 456, 234, 32145}\n",
    "Output : 123, 1232, 32145\n",
    "\n",
    "Input : numbers[] = {9821, 627183, 12, 1234}\n",
    "Output : 1234, 627183\n",
    "\n",
    "Input : numbers[] = {12, 232, 456, 234}\n",
    "Output : -1\n",
    "*/"
   ]
  },
  {
   "cell_type": "code",
   "execution_count": 82,
   "metadata": {},
   "outputs": [],
   "source": [
    "/*\n",
    "Approach: \n",
    "\n",
    "First finding all the number in from of array which contains 1, 2 & 3 \n",
    "then sort the number according to 1, 2 and 3 \n",
    "and then print it.\n",
    "*/"
   ]
  },
  {
   "cell_type": "code",
   "execution_count": 83,
   "metadata": {},
   "outputs": [],
   "source": [
    "// convert the number to string and find  \n",
    "// if it contains 1, 2 & 3. \n",
    "private static boolean findContainsOneTwoThree( \n",
    "                                     int number) \n",
    "{ \n",
    "\n",
    "    String str = Integer.toString(number);         \n",
    "    return (str.contains(\"1\") && str.contains(\"2\") &&  \n",
    "                                str.contains(\"3\")); \n",
    "} "
   ]
  },
  {
   "cell_type": "code",
   "execution_count": 84,
   "metadata": {},
   "outputs": [],
   "source": [
    "// prints all the number containing 1, 2, 3  \n",
    "// in any order \n",
    "private String printNumbers(int[] numbers) \n",
    "{ \n",
    "\n",
    "    ArrayList<Integer> array = new ArrayList<>(); \n",
    "    for (int number : numbers) { \n",
    "\n",
    "        // check if the number contains 1,  \n",
    "        // 2 & 3 in any order \n",
    "        if (findContainsOneTwoThree(number)) \n",
    "            array.add(number); \n",
    "    } \n",
    "\n",
    "    // sort all the numbers \n",
    "    Collections.sort(array); \n",
    "\n",
    "    StringBuffer strbuf = new StringBuffer(); \n",
    "    Iterator it = array.iterator();         \n",
    "    while (it.hasNext()) { \n",
    "\n",
    "        int value = (int)it.next(); \n",
    "        if (strbuf.length() > 0) \n",
    "            strbuf.append(\", \"); \n",
    "\n",
    "        strbuf.append(Integer.toString(value)); \n",
    "    } \n",
    "\n",
    "    return (strbuf.length() > 0) ?  \n",
    "                 strbuf.toString() : \"-1\"; \n",
    "} "
   ]
  },
  {
   "cell_type": "code",
   "execution_count": 85,
   "metadata": {},
   "outputs": [
    {
     "name": "stdout",
     "output_type": "stream",
     "text": [
      "123, 1232, 32145\n"
     ]
    }
   ],
   "source": [
    "public static void main(String[] args)  \n",
    "{         \n",
    "    int[] numbers = { 123, 1232, 456, 234, 32145 };         \n",
    "    System.out.println(printNumbers(numbers)); \n",
    "} \n",
    "main(args);"
   ]
  },
  {
   "cell_type": "markdown",
   "metadata": {},
   "source": [
    "## **117. Given a sorted dictionary of an alien language, find order of characters**\n",
    "https://www.geeksforgeeks.org/given-sorted-dictionary-find-precedence-characters/"
   ]
  },
  {
   "cell_type": "code",
   "execution_count": 86,
   "metadata": {},
   "outputs": [],
   "source": [
    "/*\n",
    "Given a sorted dictionary (array of words) of an alien language, find order of characters in the language.\n",
    "*/"
   ]
  },
  {
   "cell_type": "code",
   "execution_count": 87,
   "metadata": {},
   "outputs": [],
   "source": [
    "/*\n",
    "Examples:\n",
    "\n",
    "Input:  words[] = {\"baa\", \"abcd\", \"abca\", \"cab\", \"cad\"}\n",
    "Output: Order of characters is 'b', 'd', 'a', 'c'\n",
    "Note that words are sorted and in the given language \"baa\" \n",
    "comes before \"abcd\", therefore 'b' is before 'a' in output.\n",
    "Similarly we can find other orders.\n",
    "\n",
    "Input:  words[] = {\"caa\", \"aaa\", \"aab\"}\n",
    "Output: Order of characters is 'c', 'a', 'b'\n",
    "*/"
   ]
  },
  {
   "cell_type": "code",
   "execution_count": 88,
   "metadata": {},
   "outputs": [],
   "source": [
    "/*\n",
    "The idea is to create a graph of characters and then find topological sorting of the created graph. \n",
    "\n",
    "Following are the detailed steps.\n",
    "1) Create a graph g with number of vertices equal to the size of alphabet in the given alien language. \n",
    "    For example, \n",
    "        if the alphabet size is 5, \n",
    "        then there can be 5 characters in words. \n",
    "        \n",
    "        Initially there are no edges in graph.\n",
    "\n",
    "2) Do following for every pair of adjacent words in given sorted array.\n",
    "\n",
    "…..a) Let the current pair of words be word1 and word2. \n",
    "      One by one compare characters of both words and find the first mismatching characters.\n",
    "…..b) Create an edge in g from mismatching character of word1 to that of word2.\n",
    "\n",
    "3) Print topological sorting of the above created graph.\n",
    "\n",
    "Following is the implementation of the above algorithm.\n",
    "*/"
   ]
  },
  {
   "cell_type": "markdown",
   "metadata": {},
   "source": [
    "**Topological Sorting** ***https://www.geeksforgeeks.org/topological-sorting/***"
   ]
  },
  {
   "cell_type": "code",
   "execution_count": 89,
   "metadata": {},
   "outputs": [],
   "source": [
    "// Class to represent a graph \n",
    "class Graph \n",
    "{ \n",
    "  \n",
    "    // An array representing the graph as an adjacency list \n",
    "    private final LinkedList<Integer>[] adjacencyList; \n",
    "  \n",
    "    Graph(int nVertices) \n",
    "    { \n",
    "        adjacencyList = new LinkedList[nVertices]; \n",
    "        for (int vertexIndex = 0; vertexIndex < nVertices; vertexIndex++) \n",
    "        { \n",
    "            adjacencyList[vertexIndex] = new LinkedList<>(); \n",
    "        } \n",
    "    } \n",
    "  \n",
    "    // function to add an edge to graph \n",
    "    void addEdge(int startVertex, int endVertex) \n",
    "    { \n",
    "        adjacencyList[startVertex].add(endVertex); \n",
    "    } \n",
    "  \n",
    "    private int getNoOfVertices() \n",
    "    { \n",
    "        return adjacencyList.length; \n",
    "    } \n",
    "  \n",
    "    // A recursive function used by topologicalSort \n",
    "    private void topologicalSortUtil(int currentVertex, boolean[] visited, \n",
    "                                     Stack<Integer> stack) \n",
    "    { \n",
    "        // Mark the current node as visited. \n",
    "        visited[currentVertex] = true; \n",
    "  \n",
    "        // Recur for all the vertices adjacent to this vertex \n",
    "        for (int adjacentVertex : adjacencyList[currentVertex]) \n",
    "        { \n",
    "            if (!visited[adjacentVertex]) \n",
    "            { \n",
    "                topologicalSortUtil(adjacentVertex, visited, stack); \n",
    "            } \n",
    "        } \n",
    "  \n",
    "        // Push current vertex to stack which stores result \n",
    "        stack.push(currentVertex); \n",
    "    } \n",
    "  \n",
    "    // prints a Topological Sort of the complete graph \n",
    "    void topologicalSort() \n",
    "    { \n",
    "        Stack<Integer> stack = new Stack<>(); \n",
    "  \n",
    "        // Mark all the vertices as not visited \n",
    "        boolean[] visited = new boolean[getNoOfVertices()]; \n",
    "        for (int i = 0; i < getNoOfVertices(); i++) \n",
    "        { \n",
    "            visited[i] = false; \n",
    "        } \n",
    "  \n",
    "        // Call the recursive helper function to store Topological  \n",
    "        // Sort starting from all vertices one by one \n",
    "        for (int i = 0; i < getNoOfVertices(); i++) \n",
    "        { \n",
    "            if (!visited[i]) \n",
    "            { \n",
    "                topologicalSortUtil(i, visited, stack); \n",
    "            } \n",
    "        } \n",
    "  \n",
    "        // Print contents of stack \n",
    "        while (!stack.isEmpty()) \n",
    "        { \n",
    "            System.out.print((char)('a' + stack.pop()) + \" \"); \n",
    "        } \n",
    "    } \n",
    "} "
   ]
  },
  {
   "cell_type": "code",
   "execution_count": 90,
   "metadata": {},
   "outputs": [],
   "source": [
    "// This function fidns and prints order \n",
    "// of characer from a sorted array of words. \n",
    "// alpha is number of possible alphabets  \n",
    "// starting from 'a'. For simplicity, this \n",
    "// function is written in a way that only \n",
    "// first 'alpha' characters can be there  \n",
    "// in words array. For example if alpha \n",
    "//  is 7, then words[] should contain words \n",
    "// having only 'a', 'b','c' 'd', 'e', 'f', 'g' \n",
    "private static void printOrder(String[] words, int alpha) \n",
    "{ \n",
    "    // Create a graph with 'aplha' edges \n",
    "    Graph graph = new Graph(alpha); \n",
    "\n",
    "    for (int i = 0; i < words.length - 1; i++) \n",
    "    { \n",
    "        // Take the current two words and find the first mismatching \n",
    "        // character \n",
    "        String word1 = words[i]; \n",
    "        String word2 = words[i+1]; \n",
    "        for (int j = 0; j < Math.min(word1.length(), word2.length()); j++) \n",
    "        { \n",
    "            // If we find a mismatching character, then add an edge \n",
    "            // from character of word1 to that of word2 \n",
    "            if (word1.charAt(j) != word2.charAt(j)) \n",
    "            { \n",
    "                graph.addEdge(word1.charAt(j) - 'a', word2.charAt(j)- 'a'); \n",
    "                break; \n",
    "            } \n",
    "        } \n",
    "    } \n",
    "\n",
    "    // Print topological sort of the above created graph \n",
    "    graph.topologicalSort(); \n",
    "} "
   ]
  },
  {
   "cell_type": "code",
   "execution_count": 91,
   "metadata": {},
   "outputs": [
    {
     "name": "stdout",
     "output_type": "stream",
     "text": [
      "c a b "
     ]
    }
   ],
   "source": [
    "// Driver program to test above functions \n",
    "public static void main(String[] args) \n",
    "{ \n",
    "    String[] words = {\"caa\", \"aaa\", \"aab\"}; \n",
    "    printOrder(words, 3); \n",
    "} \n",
    "main(args);"
   ]
  },
  {
   "cell_type": "code",
   "execution_count": 92,
   "metadata": {},
   "outputs": [],
   "source": [
    "/*\n",
    "Time Complexity: \n",
    "    The first step to create a graph takes O(n + alhpa) time \n",
    "        where n is number of given words \n",
    "        and alpha is number of characters in given alphabet. \n",
    "    \n",
    "    The second step is also topological sorting. \n",
    "    \n",
    "    Note that there would be alpha vertices and at-most (n-1) edges in the graph. \n",
    "    \n",
    "    The time complexity of topological sorting is O(V+E) which is O(n + aplha) here. \n",
    "    \n",
    "So overall time complexity is O(n + aplha) + O(n + aplha) which is O(n + aplha).\n",
    "*/"
   ]
  },
  {
   "cell_type": "markdown",
   "metadata": {},
   "source": [
    "## **118. Find Excel column name from a given column number**\n",
    "https://www.geeksforgeeks.org/find-excel-column-name-given-number/"
   ]
  },
  {
   "cell_type": "code",
   "execution_count": 93,
   "metadata": {},
   "outputs": [],
   "source": [
    "/*\n",
    "MS Excel columns has a pattern like A, B, C, … ,Z, AA, AB, AC,…. ,AZ, BA, BB, … ZZ, AAA, AAB ….. etc. \n",
    "In other words, column 1 is named as “A”, column 2 as “B”, column 27 as “AA”.\n",
    "Given a column number, find its corresponding Excel column name.\n",
    "*/"
   ]
  },
  {
   "cell_type": "code",
   "execution_count": 94,
   "metadata": {},
   "outputs": [],
   "source": [
    "/*\n",
    "Following are more examples.\n",
    "\n",
    "Input          Output\n",
    " 26             Z\n",
    " 51             AY\n",
    " 52             AZ\n",
    " 80             CB\n",
    " 676            YZ\n",
    " 702            ZZ\n",
    " 705            AAC\n",
    " */"
   ]
  },
  {
   "cell_type": "code",
   "execution_count": 95,
   "metadata": {},
   "outputs": [],
   "source": [
    "/*\n",
    "Suppose we have a number n, let’s say 28. \n",
    "    so corresponding to it we need to print the column name. We need to take remainder with 26.\n",
    "\n",
    "If remainder with 26 comes out to be 0 (meaning 26, 52 and so on) \n",
    "    then we put ‘Z’ in the output string \n",
    "    and new n becomes n/26 -1 because here we are considering 26 to be ‘Z’ while in actual it’s 25th with respect to ‘A’.\n",
    "\n",
    "Similarly,\n",
    "if the remainder comes out to be non zero. (like 1, 2, 3 and so on) \n",
    "    then we need to just insert the char accordingly in the string and do n = n/26.\n",
    "\n",
    "Finally we reverse the string and print.\n",
    "*/"
   ]
  },
  {
   "cell_type": "code",
   "execution_count": 96,
   "metadata": {},
   "outputs": [],
   "source": [
    "/*\n",
    "Example:\n",
    "n = 700\n",
    "\n",
    "Remainder (n%26) is 24. \n",
    "    So we put ‘X’ in output string and n becomes n/26 which is 26.\n",
    "\n",
    "Remainder (26%26) is 0. \n",
    "    So we put ‘Z’ in output string and n becomes n/26 -1 which is 0.\n",
    "*/"
   ]
  },
  {
   "cell_type": "code",
   "execution_count": 97,
   "metadata": {},
   "outputs": [],
   "source": [
    "// Function to print Excel column \n",
    "// name for a given column number \n",
    "private static void printString(int columnNumber) \n",
    "{ \n",
    "    // To store result (Excel column name) \n",
    "    StringBuilder columnName = new StringBuilder(); \n",
    "\n",
    "    while (columnNumber > 0) \n",
    "    { \n",
    "        // Find remainder \n",
    "        int rem = columnNumber % 26; \n",
    "\n",
    "        // If remainder is 0, then a  \n",
    "        // 'Z' must be there in output \n",
    "        if (rem == 0) \n",
    "        { \n",
    "            columnName.append(\"Z\"); \n",
    "            columnNumber = (columnNumber / 26) - 1; \n",
    "        } \n",
    "        else // If remainder is non-zero \n",
    "        { \n",
    "            columnName.append((char)((rem - 1) + 'A')); \n",
    "            columnNumber = columnNumber / 26; \n",
    "        } \n",
    "    } \n",
    "\n",
    "    // Reverse the string and print result \n",
    "    System.out.println(columnName.reverse()); \n",
    "} "
   ]
  },
  {
   "cell_type": "code",
   "execution_count": 98,
   "metadata": {},
   "outputs": [
    {
     "name": "stdout",
     "output_type": "stream",
     "text": [
      "Z\n",
      "AY\n",
      "AZ\n",
      "CB\n",
      "YZ\n",
      "ZZ\n",
      "AAC\n"
     ]
    }
   ],
   "source": [
    "// Driver program to test above function \n",
    "public static void main(String[] args) \n",
    "{ \n",
    "    printString(26); \n",
    "    printString(51); \n",
    "    printString(52); \n",
    "    printString(80); \n",
    "    printString(676); \n",
    "    printString(702); \n",
    "    printString(705); \n",
    "} \n",
    "main(args);"
   ]
  },
  {
   "cell_type": "markdown",
   "metadata": {},
   "source": [
    "**Related Link :** ***https://www.geeksforgeeks.org/find-excel-column-number-column-title/***"
   ]
  },
  {
   "cell_type": "markdown",
   "metadata": {},
   "source": [
    "## **119. Find the longest substring with k unique characters in a given string**\n",
    "https://www.geeksforgeeks.org/find-the-longest-substring-with-k-unique-characters-in-a-given-string/"
   ]
  },
  {
   "cell_type": "code",
   "execution_count": 99,
   "metadata": {},
   "outputs": [],
   "source": [
    "/*\n",
    "Given a string you need to print longest possible substring that has exactly M unique characters. \n",
    "If there are more than one substring of longest possible length, then print any one of them.\n",
    "*/"
   ]
  },
  {
   "cell_type": "code",
   "execution_count": 100,
   "metadata": {},
   "outputs": [],
   "source": [
    "/*\n",
    "Examples:\n",
    "\n",
    "\"aabbcc\", k = 1\n",
    "Max substring can be any one from {\"aa\" , \"bb\" , \"cc\"}.\n",
    "\n",
    "\"aabbcc\", k = 2\n",
    "Max substring can be any one from {\"aabb\" , \"bbcc\"}.\n",
    "\n",
    "\"aabbcc\", k = 3\n",
    "There are substrings with exactly 3 unique characters\n",
    "{\"aabbcc\" , \"abbcc\" , \"aabbc\" , \"abbc\" }\n",
    "Max is \"aabbcc\" with length 6.\n",
    "\n",
    "\"aaabbb\", k = 3\n",
    "There are only two unique characters, thus show error message. \n",
    "*/"
   ]
  },
  {
   "cell_type": "code",
   "execution_count": 101,
   "metadata": {},
   "outputs": [],
   "source": [
    "/*\n",
    "Method 1 (Brute Force)\n",
    "\n",
    "If the length of string is n, \n",
    "    then there can be n*(n+1)/2 possible substrings. \n",
    "\n",
    "A simple way is to generate all the substring and check each one whether it has exactly k unique characters or not. \n",
    "If we apply this brute force, it would take O(n^2) to generate all substrings and O(n) to do a check on each one. \n",
    "Thus overall it would go O(n^3).\n",
    "\n",
    "\n",
    "We can further improve this solution by creating a hash table and while generating the substrings, \n",
    "check the number of unique characters using that hash table. \n",
    "Thus it would improve up to O(n^2).\n",
    "*/"
   ]
  },
  {
   "cell_type": "code",
   "execution_count": 102,
   "metadata": {},
   "outputs": [],
   "source": [
    "/*\n",
    "Method 2 (Linear Time)\n",
    "Time Complexity: Considering function “isValid()” takes constant time, time complexity of above solution is O(n).\n",
    "\n",
    "The problem can be solved in O(n). \n",
    "\n",
    "Idea is to maintain a window and add elements to the window till it contains less or equal k, \n",
    "update our result if required while doing so. \n",
    "If unique elements exceeds than required in window, start removing the elements from left side.\n",
    "\n",
    "Below are the implementations of above. \n",
    "The implementations assume that the input string alphabet contains only 26 characters (from ‘a’ to ‘z’). \n",
    "The code can be easily extended to 256 characters.\n",
    "*/"
   ]
  },
  {
   "cell_type": "code",
   "execution_count": 103,
   "metadata": {},
   "outputs": [],
   "source": [
    "final static int MAX_CHARS = 26; \n",
    "\n",
    "// This function calculates number of unique characters \n",
    "// using a associative array count[]. Returns true if \n",
    "// no. of characters are less than required else returns \n",
    "// false. \n",
    "static boolean isValid(int count[], int k) { \n",
    "    int val = 0; \n",
    "    for (int i = 0; i < MAX_CHARS; i++) { \n",
    "        if (count[i] > 0) { \n",
    "            val++; \n",
    "        } \n",
    "    } \n",
    "\n",
    "    // Return true if k is greater than or equal to val \n",
    "    return (k >= val); \n",
    "} "
   ]
  },
  {
   "cell_type": "code",
   "execution_count": 104,
   "metadata": {},
   "outputs": [],
   "source": [
    "// Finds the maximum substring with exactly k unique chars \n",
    "static void kUniques(String s, int k) { \n",
    "    int u = 0; // number of unique characters \n",
    "    int n = s.length(); \n",
    "\n",
    "    // Associative array to store the count of characters \n",
    "    int count[] = new int[MAX_CHARS]; \n",
    "    Arrays.fill(count, 0); \n",
    "    // Traverse the string, Fills the associative array \n",
    "    // count[] and count number of unique characters \n",
    "    for (int i = 0; i < n; i++) { \n",
    "        if (count[s.charAt(i) - 'a'] == 0) { \n",
    "            u++; \n",
    "        } \n",
    "        count[s.charAt(i) - 'a']++; \n",
    "    } \n",
    "\n",
    "    // If there are not enough unique characters, show \n",
    "    // an error message. \n",
    "    if (u < k) { \n",
    "        System.out.print(\"Not enough unique characters\"); \n",
    "        return; \n",
    "    } \n",
    "\n",
    "    // Otherwise take a window with first element in it. \n",
    "    // start and end variables. \n",
    "    int curr_start = 0, curr_end = 0; \n",
    "\n",
    "    // Also initialize values for result longest window \n",
    "    int max_window_size = 1, max_window_start = 0; \n",
    "\n",
    "    // Initialize associative array count[] with zero \n",
    "    Arrays.fill(count, 0); \n",
    "\n",
    "    count[s.charAt(0) - 'a']++;  // put the first character \n",
    "\n",
    "    // Start from the second character and add \n",
    "    // characters in window according to above \n",
    "    // explanation \n",
    "    for (int i = 1; i < n; i++) { \n",
    "        // Add the character 's[i]' to current window \n",
    "        count[s.charAt(i) - 'a']++; \n",
    "        curr_end++; \n",
    "\n",
    "        // If there are more than k unique characters in \n",
    "        // current window, remove from left side \n",
    "        while (!isValid(count, k)) { \n",
    "            count[s.charAt(curr_start) - 'a']--; \n",
    "            curr_start++; \n",
    "        } \n",
    "\n",
    "        // Update the max window size if required \n",
    "        if (curr_end - curr_start + 1 > max_window_size) { \n",
    "            max_window_size = curr_end - curr_start + 1; \n",
    "            max_window_start = curr_start; \n",
    "        } \n",
    "    } \n",
    "\n",
    "    System.out.println(\"Max sustring is : \"\n",
    "            + s.substring(max_window_start, max_window_size) \n",
    "            + \" with length \" + max_window_size); \n",
    "} "
   ]
  },
  {
   "cell_type": "code",
   "execution_count": 105,
   "metadata": {},
   "outputs": [
    {
     "name": "stdout",
     "output_type": "stream",
     "text": [
      "Max sustring is : cbe with length 7\n"
     ]
    }
   ],
   "source": [
    "// Driver function \n",
    "static public void main(String[] args) { \n",
    "    String s = \"aabacbebebe\"; \n",
    "    int k = 3; \n",
    "    kUniques(s, k); \n",
    "} \n",
    "main(args);"
   ]
  },
  {
   "cell_type": "markdown",
   "metadata": {},
   "source": [
    "## **120. Function to find Number of customers who could not get a computer**\n",
    "https://www.geeksforgeeks.org/function-to-find-number-of-customers-who-could-not-get-a-computer/"
   ]
  },
  {
   "cell_type": "code",
   "execution_count": 106,
   "metadata": {},
   "outputs": [],
   "source": [
    "/*\n",
    "Write a function “runCustomerSimulation” that takes following two inputs\n",
    "a) An integer ‘n’: total number of computers in a cafe and\n",
    "b) a string A sequence of uppercase letters ‘seq’.\n",
    "    Letters in the sequence occur in pairs. \n",
    "        The first occurrence indicates the arrival of a customer; \n",
    "        The second indicates the departure of that same customer.\n",
    "        \n",
    "A customer will be serviced if there is an unoccupied computer. No letter will occur more than two times.\n",
    "Customers who leave without using a computer always depart before customers who are currently using the computers. \n",
    "There are at most 20 computers per cafe.\n",
    "\n",
    "For each set of input the function should output a number telling how many customers, if any walked away without using a computer. \n",
    "Return 0 if all the customers were able to use a computer.\n",
    "*/\n"
   ]
  },
  {
   "cell_type": "code",
   "execution_count": 107,
   "metadata": {},
   "outputs": [],
   "source": [
    "/*\n",
    "runCustomerSimulation (2, “ABBAJJKZKZ”) should return 0\n",
    "\n",
    "runCustomerSimulation (3, “GACCBDDBAGEE”) should return 1 as ‘D’ was not able to get any computer\n",
    "\n",
    "runCustomerSimulation (3, “GACCBGDDBAEE”) should return 0\n",
    "\n",
    "runCustomerSimulation (1, “ABCBCA”) should return 2 as ‘B’ and ‘C’ were not able to get any computer.\n",
    "\n",
    "runCustomerSimulation(1, “ABCBCADEED”) should return 3 as ‘B’, ‘C’ and ‘E’ were not able to get any computer.\n",
    "*/"
   ]
  },
  {
   "cell_type": "code",
   "execution_count": 108,
   "metadata": {},
   "outputs": [],
   "source": [
    "/*\n",
    "Below are simple steps to find number of customers who could not get any computer.\n",
    "\n",
    "1) Initialize result as 0.\n",
    "\n",
    "2) Traverse the given sequence. \n",
    "    While traversing, keep track of occupied computers (this can be done by keeping track of characters which have appeared only once and a computer was available when they appeared). \n",
    "    At any point, if count of occupied computers is equal to ‘n’, and there is a new customer, increment result by 1.\n",
    "*/"
   ]
  },
  {
   "cell_type": "code",
   "execution_count": 109,
   "metadata": {},
   "outputs": [],
   "source": [
    "/*\n",
    "The important thing is to keep track of existing customers in cafe in a way that can indicate whether the customer has got a computer or not. \n",
    "\n",
    "Note that in sequence “ABCBCADEED”, customer ‘B’ did not get a seat, but still in cafe as a new customer ‘C’ is next in sequence.\n",
    "*/"
   ]
  },
  {
   "cell_type": "code",
   "execution_count": 110,
   "metadata": {},
   "outputs": [],
   "source": [
    "static int MAX_CHAR = 26;  \n",
    "  \n",
    "// n is number of computers in cafe.  \n",
    "// 'seq' is given sequence of customer entry, exit events  \n",
    "static int runCustomerSimulation(int n, char []seq)  \n",
    "{  \n",
    "    // seen[i] = 0, indicates that customer 'i' is not in cafe  \n",
    "    // seen[1] = 1, indicates that customer 'i' is in cafe but  \n",
    "    //         computer is not assigned yet.  \n",
    "    // seen[2] = 2, indicates that customer 'i' is in cafe and  \n",
    "    //         has occupied a computer.  \n",
    "    char []seen = new char[MAX_CHAR];  \n",
    "  \n",
    "    // Initialize result which is number of customers who could  \n",
    "    // not get any computer.  \n",
    "    int res = 0;  \n",
    "  \n",
    "    int occupied = 0; // To keep track of occupied computers  \n",
    "  \n",
    "    // Traverse the input sequence  \n",
    "    for (int i=0; i< seq.length; i++)  \n",
    "    {  \n",
    "        // Find index of current character in seen[0...25]  \n",
    "        int ind = seq[i] - 'A';  \n",
    "  \n",
    "        // If First occurrence of 'seq[i]'  \n",
    "        if (seen[ind] == 0)  \n",
    "        {  \n",
    "            // set the current character as seen  \n",
    "            seen[ind] = 1;  \n",
    "  \n",
    "            // If number of occupied computers is less than  \n",
    "            // n, then assign a computer to new customer  \n",
    "            if (occupied < n)  \n",
    "            {  \n",
    "                occupied++;  \n",
    "  \n",
    "                // Set the current character as occupying a computer  \n",
    "                seen[ind] = 2;  \n",
    "            }  \n",
    "  \n",
    "            // Else this customer cannot get a computer,  \n",
    "            // increment result  \n",
    "            else\n",
    "                res++;  \n",
    "        }  \n",
    "  \n",
    "        // If this is second occurrence of 'seq[i]'  \n",
    "        else\n",
    "        {  \n",
    "              \n",
    "        // Decrement occupied only if this customer  \n",
    "        // was using a computer  \n",
    "        if (seen[ind] == 2)  \n",
    "            occupied--;  \n",
    "        seen[ind] = 0;  \n",
    "        }  \n",
    "    }  \n",
    "    return res;  \n",
    "}  "
   ]
  },
  {
   "cell_type": "code",
   "execution_count": 111,
   "metadata": {},
   "outputs": [
    {
     "name": "stdout",
     "output_type": "stream",
     "text": [
      "0\n",
      "1\n",
      "0\n",
      "2\n",
      "3\n"
     ]
    }
   ],
   "source": [
    "// Driver program  \n",
    "public static void main(String[] args) \n",
    "{ \n",
    "    System.out.println(runCustomerSimulation(2, \"ABBAJJKZKZ\".toCharArray()));  \n",
    "    System.out.println(runCustomerSimulation(3, \"GACCBDDBAGEE\".toCharArray()));  \n",
    "    System.out.println(runCustomerSimulation(3, \"GACCBGDDBAEE\".toCharArray()));  \n",
    "    System.out.println(runCustomerSimulation(1, \"ABCBCA\".toCharArray()));  \n",
    "    System.out.println(runCustomerSimulation(1, \"ABCBCADEED\".toCharArray()));  \n",
    "} \n",
    "main(args);"
   ]
  },
  {
   "cell_type": "code",
   "execution_count": 112,
   "metadata": {},
   "outputs": [],
   "source": [
    "/*\n",
    "Time complexity of above solution is O(n) and \n",
    "extra space required is O(CHAR_MAX) \n",
    "    where CHAR_MAX is total number of possible characters in given sequence.\n",
    "*/"
   ]
  },
  {
   "cell_type": "code",
   "execution_count": null,
   "metadata": {},
   "outputs": [],
   "source": []
  }
 ],
 "metadata": {
  "kernelspec": {
   "display_name": "Java",
   "language": "java",
   "name": "java"
  },
  "language_info": {
   "codemirror_mode": "java",
   "file_extension": ".jshell",
   "mimetype": "text/x-java-source",
   "name": "Java",
   "pygments_lexer": "java",
   "version": "11.0.6+8-LTS"
  },
  "toc": {
   "base_numbering": 1,
   "nav_menu": {},
   "number_sections": true,
   "sideBar": true,
   "skip_h1_title": false,
   "title_cell": "Table of Contents",
   "title_sidebar": "Contents",
   "toc_cell": false,
   "toc_position": {
    "height": "calc(100% - 180px)",
    "left": "10px",
    "top": "150px",
    "width": "293.09px"
   },
   "toc_section_display": true,
   "toc_window_display": true
  }
 },
 "nbformat": 4,
 "nbformat_minor": 2
}
