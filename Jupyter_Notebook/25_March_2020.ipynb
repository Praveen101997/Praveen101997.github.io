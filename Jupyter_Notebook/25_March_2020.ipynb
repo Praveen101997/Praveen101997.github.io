{
 "cells": [
  {
   "cell_type": "markdown",
   "metadata": {},
   "source": [
    "**------------------------Questions Covered-----------------------------**"
   ]
  },
  {
   "cell_type": "markdown",
   "metadata": {},
   "source": [
    "***7\tDynamic Programming\thttps://www.geeksforgeeks.org/mobile-numeric-keypad-problem/\tfinished\t\t\t\t\t\t\t\t\t\t\t\t\t\t\t\t\t\t\t\t\t\t\t\t\n",
    "7\tDynamic Programming\thttps://www.geeksforgeeks.org/find-number-of-solutions-of-a-linear-equation-of-n-variables/\tfinished\t\t\t\t\t\t\t\t\t\t\t\t\t\t\t\t\t\t\t\t\t\t\t\t\n",
    "7\tDynamic Programming\thttps://www.geeksforgeeks.org/count-number-ways-tile-floor-size-n-x-m-using-1-x-m-size-tiles/\tdone\t\thttps://www.geeksforgeeks.org/count-number-of-ways-to-fill-a-n-x-4-grid-using-1-x-4-tiles/\t\t\t\t\t\t\t\t\t\t\t\t\t\t\t\t\t\t\t\t\t\t\n",
    "7\tDynamic Programming\thttps://www.geeksforgeeks.org/count-number-binary-strings-without-consecutive-1s/\tfinished\t\t\t\t\t\t\t\t\t\t\t\t\t\t\t\t\t\t\t\t\t\t\t\t\n",
    "7\tDynamic Programming\thttps://www.geeksforgeeks.org/painters-partition-problem/\tdone\t\t\t\t\t\t\t\t\t\t\t\t\t\t\t\t\t\t\t\t\t\t\t\t\n",
    "7\tDynamic Programming\thttps://www.geeksforgeeks.org/check-whether-a-given-string-is-an-interleaving-of-two-other-given-strings-set-2/\ttbd\t\t\t\t\t\t\t\t\t\t\t\t\t\t\t\t\t\t\t\t\t\t\t\t\n",
    "7\tDynamic Programming\thttps://www.geeksforgeeks.org/wildcard-pattern-matching/\tdone\t\t\t\t\t\t\t\t\t\t\t\t\t\t\t\t\t\t\t\t\t\t\t\t\n",
    "7\tDynamic Programming\thttps://www.geeksforgeeks.org/probability-knight-remain-chessboard/\tfinished\tbreaker\t\t\t\t\t\t\t\t\t\t\t\t\t\t\t\t\t\t\t\t\t\t\t\n",
    "7\tDynamic Programming\thttps://www.geeksforgeeks.org/two-water-jug-puzzle/\ttbd\tbreaker\tWhy to be done with extended euclid\t\t\t\t\t\t\t\t\t\t\t\t\t\t\t\t\t\t\t\t\t\t\n",
    "7\tDynamic Programming\thttps://www.geeksforgeeks.org/dynamic-programming-set-18-word-wrap/\tdone\t\t\t\t\t\t\t\t\t\t\t\t\t\t\t\t\t\t\t\t\t\t\t\t\n",
    "7\tDynamic Programming\thttps://www.geeksforgeeks.org/largest-sum-subarray-least-k-numbers/\ttbd\t\t\t\t\t\t\t\t\t\t\t\t\t\t\t\t\t\t\t\t\t\t\t\t\n",
    "7\tDynamic Programming\thttps://www.geeksforgeeks.org/find-water-in-a-glass/\tdone\t\t\t\t\t\t\t\t\t\t\t\t\t\t\t\t\t\t\t\t\t\t\t\t\n",
    "7\tDynamic Programming\thttps://www.geeksforgeeks.org/remove-minimum-elements-either-side-2min-max/\ttbd\t\t\t\t\t\t\t\t\t\t\t\t\t\t\t\t\t\t\t\t\t\t\t\t\n",
    "7\tDynamic Programming\thttps://www.geeksforgeeks.org/number-subsequences-form-ai-bj-ck/\tfinished\t\t\t\t\t\t\t\t\t\t\t\t\t\t\t\t\t\t\t\t\t\t\t\t\n",
    "7\tDynamic Programming\thttps://www.geeksforgeeks.org/unbounded-knapsack-repetition-items-allowed/\tfinished***"
   ]
  },
  {
   "cell_type": "code",
   "execution_count": 1,
   "metadata": {},
   "outputs": [],
   "source": [
    "import java.util.*;\n",
    "import java.io.*;\n",
    "import java.util.Arrays;\n",
    "String[] args =new String[0];"
   ]
  },
  {
   "cell_type": "markdown",
   "metadata": {},
   "source": [
    "## **211. Mobile Numeric Keypad Problem**\n",
    "https://www.geeksforgeeks.org/mobile-numeric-keypad-problem/"
   ]
  },
  {
   "cell_type": "code",
   "execution_count": 2,
   "metadata": {},
   "outputs": [],
   "source": [
    "/*\n",
    "Given the mobile numeric keypad. \n",
    "You can only press buttons that are up, left, right or down to the current button. \n",
    "You are not allowed to press bottom row corner buttons (i.e. * and # ).\n",
    "\n",
    "Given a number N, find out the number of possible numbers of given length.\n",
    "*/"
   ]
  },
  {
   "cell_type": "markdown",
   "metadata": {},
   "source": [
    "<img src = \"https://www.geeksforgeeks.org/wp-content/uploads/Mobile-keypad-267x300.png\"/>"
   ]
  },
  {
   "cell_type": "code",
   "execution_count": 3,
   "metadata": {},
   "outputs": [],
   "source": [
    "/*\n",
    "Examples:\n",
    "For N=1, number of possible numbers would be 10 (0, 1, 2, 3, …., 9)\n",
    "For N=2, number of possible numbers would be 36\n",
    "Possible numbers: 00,08 11,12,14 22,21,23,25 and so on.\n",
    "If we start with 0, valid numbers will be 00, 08 (count: 2)\n",
    "If we start with 1, valid numbers will be 11, 12, 14 (count: 3)\n",
    "If we start with 2, valid numbers will be 22, 21, 23,25 (count: 4)\n",
    "If we start with 3, valid numbers will be 33, 32, 36 (count: 3)\n",
    "If we start with 4, valid numbers will be 44,41,45,47 (count: 4)\n",
    "If we start with 5, valid numbers will be 55,54,52,56,58 (count: 5)\n",
    "………………………………\n",
    "………………………………\n",
    "\n",
    "\n",
    "We need to print the count of possible numbers.\n",
    "*/"
   ]
  },
  {
   "cell_type": "code",
   "execution_count": 4,
   "metadata": {},
   "outputs": [],
   "source": [
    "/*\n",
    "N = 1 is trivial case, \n",
    "    number of possible numbers would be 10 (0, 1, 2, 3, …., 9)\n",
    "For N > 1, \n",
    "we need to start from some button,\n",
    "    then move to any of the four direction (up, left, right or down) which takes to a valid button (should not go to *, #).\n",
    "    Keep doing this until N length number is obtained (depth first traversal).\n",
    "*/"
   ]
  },
  {
   "cell_type": "code",
   "execution_count": 5,
   "metadata": {},
   "outputs": [],
   "source": [
    "/*\n",
    "Recursive Solution:\n",
    "\n",
    "Mobile Keypad is a rectangular grid of 4X3 (4 rows and 3 columns)\n",
    "Lets say Count(i, j, N) represents the count of N length numbers starting from position (i, j)\n",
    "\n",
    "If N = 1\n",
    "  Count(i, j, N) = 10  \n",
    "Else\n",
    "  Count(i, j, N) = Sum of all Count(r, c, N-1) where (r, c) is new \n",
    "                   position after valid move of length 1 from current \n",
    "                   position (i, j)\n",
    "*/"
   ]
  },
  {
   "cell_type": "code",
   "execution_count": 6,
   "metadata": {},
   "outputs": [],
   "source": [
    "// left, up, right, down  \n",
    "// move from current location \n",
    "static int row[] = {0, 0, -1, 0, 1}; \n",
    "static int col[] = {0, -1, 0, 1, 0}; "
   ]
  },
  {
   "cell_type": "code",
   "execution_count": 7,
   "metadata": {},
   "outputs": [],
   "source": [
    "// Returns count of numbers of length \n",
    "// n starting from key position \n",
    "// (i, j) in a numeric keyboard. \n",
    "static int getCountUtil(char keypad[][],  int i, int j, int n) \n",
    "{ \n",
    "    if (keypad == null || n <= 0) \n",
    "        return 0; \n",
    "  \n",
    "    // From a given key, only one  \n",
    "    // number is possible of length 1 \n",
    "    if (n == 1) \n",
    "        return 1; \n",
    "  \n",
    "    int k = 0, move = 0, ro = 0, co = 0, totalCount = 0; \n",
    "  \n",
    "    // move left, up, right, down \n",
    "    // from current location and if \n",
    "    // new location is valid, then  \n",
    "    // get number count of length \n",
    "    // (n-1) from that new position  \n",
    "    // and add in count obtained so far \n",
    "    for (move=0; move<5; move++) \n",
    "    { \n",
    "        ro = i + row[move]; \n",
    "        co = j + col[move]; \n",
    "        if (ro >= 0 && ro <= 3 && co >=0 && co <= 2 && \n",
    "        keypad[ro][co] != '*' && keypad[ro][co] != '#') \n",
    "        { \n",
    "            totalCount += getCountUtil(keypad, ro, co, n - 1); \n",
    "        } \n",
    "    } \n",
    "    return totalCount; \n",
    "} "
   ]
  },
  {
   "cell_type": "code",
   "execution_count": 8,
   "metadata": {},
   "outputs": [],
   "source": [
    "// Return count of all possible numbers of length n \n",
    "// in a given numeric keyboard \n",
    "static int getCount(char keypad[][], int n) \n",
    "{ \n",
    "    // Base cases \n",
    "    if (keypad == null || n <= 0) \n",
    "        return 0; \n",
    "    if (n == 1) \n",
    "        return 10; \n",
    "  \n",
    "    int i = 0, j = 0, totalCount = 0; \n",
    "    for (i = 0; i < 4; i++) // Loop on keypad row \n",
    "    { \n",
    "        for (j=0; j<3; j++) // Loop on keypad column \n",
    "        { \n",
    "            // Process for 0 to 9 digits \n",
    "            if (keypad[i][j] != '*' && keypad[i][j] != '#') \n",
    "            { \n",
    "                // Get count when number is starting from key \n",
    "                // position (i, j) and add in count obtained so far \n",
    "                totalCount += getCountUtil(keypad, i, j, n); \n",
    "            } \n",
    "        } \n",
    "    } \n",
    "    return totalCount; \n",
    "} "
   ]
  },
  {
   "cell_type": "code",
   "execution_count": 9,
   "metadata": {},
   "outputs": [
    {
     "name": "stdout",
     "output_type": "stream",
     "text": [
      "Count for numbers of length 1: 10\n",
      "Count for numbers oflength 2: 36\n",
      "Count for numbers oflength 3: 138\n",
      "Count for numbers oflength 4: 532\n",
      "Count for numbers oflength 5: 2062"
     ]
    }
   ],
   "source": [
    "// Driver code \n",
    "public static void main(String[] args)  \n",
    "{ \n",
    "    char keypad[][] = {{'1','2','3'}, \n",
    "                        {'4','5','6'}, \n",
    "                        {'7','8','9'}, \n",
    "                        {'*','0','#'}}; \n",
    "    System.out.printf(\"Count for numbers of\"+ \n",
    "                    \" length %d: %d\", 1, getCount(keypad, 1)); \n",
    "    System.out.printf(\"\\nCount for numbers of\" +  \n",
    "                    \"length %d: %d\", 2, getCount(keypad, 2)); \n",
    "    System.out.printf(\"\\nCount for numbers of\" +  \n",
    "                    \"length %d: %d\", 3, getCount(keypad, 3)); \n",
    "    System.out.printf(\"\\nCount for numbers of\" +  \n",
    "                    \"length %d: %d\", 4, getCount(keypad, 4)); \n",
    "    System.out.printf(\"\\nCount for numbers of\" +  \n",
    "                    \"length %d: %d\", 5, getCount(keypad, 5)); \n",
    "} \n",
    "main(args);"
   ]
  },
  {
   "cell_type": "code",
   "execution_count": 10,
   "metadata": {},
   "outputs": [],
   "source": [
    "/*\n",
    "Dynamic Programming\n",
    "\n",
    "There are many repeated traversal on smaller paths (traversal for smaller N) \n",
    "to find all possible longer paths (traversal for bigger N). \n",
    "\n",
    "See following two diagrams for example. \n",
    "In this traversal, \n",
    "for N = 4 from two starting positions (buttons ‘4’ and ‘8’), \n",
    "    we can see there are few repeated traversals for N = 2 (e.g. 4 -> 1, 6 -> 3, 8 -> 9, 8 -> 7 etc).\n",
    "*/"
   ]
  },
  {
   "cell_type": "markdown",
   "metadata": {},
   "source": [
    "<img src = \"https://media.geeksforgeeks.org/wp-content/cdn-uploads/mobile2.png\"/>"
   ]
  },
  {
   "cell_type": "markdown",
   "metadata": {
    "cell_style": "split"
   },
   "source": [
    "<img src = \"https://media.geeksforgeeks.org/wp-content/cdn-uploads/mobile3.png\"/>"
   ]
  },
  {
   "cell_type": "code",
   "execution_count": 11,
   "metadata": {},
   "outputs": [],
   "source": [
    "/*\n",
    "Following is the program for dynamic programming implementation.\n",
    "*/"
   ]
  },
  {
   "cell_type": "code",
   "execution_count": 12,
   "metadata": {},
   "outputs": [],
   "source": [
    "// Return count of all possible numbers of length n \n",
    "// in a given numeric keyboard \n",
    "static int getCount(char keypad[][], int n) \n",
    "{ \n",
    "    if(keypad == null || n <= 0) \n",
    "        return 0; \n",
    "    if(n == 1) \n",
    "        return 10; \n",
    "  \n",
    "    // left, up, right, down move from current location \n",
    "    int row[] = {0, 0, -1, 0, 1}; \n",
    "    int col[] = {0, -1, 0, 1, 0}; \n",
    "  \n",
    "    // taking n+1 for simplicity - count[i][j] will store \n",
    "    // number count starting with digit i and length j \n",
    "    int [][]count = new int[10][n + 1]; \n",
    "    int i = 0, j = 0, k = 0, move = 0,  \n",
    "             ro = 0, co = 0, num = 0; \n",
    "    int nextNum = 0, totalCount = 0; \n",
    "  \n",
    "    // count numbers starting with digit i  \n",
    "    // and of lengths 0 and 1 \n",
    "    for (i = 0; i <= 9; i++) \n",
    "    { \n",
    "        count[i][0] = 0; \n",
    "        count[i][1] = 1; \n",
    "    } \n",
    "  \n",
    "    // Bottom up - Get number count of length 2, 3, 4, ... , n \n",
    "    for (k = 2; k <= n; k++) \n",
    "    { \n",
    "        for (i = 0; i < 4; i++) // Loop on keypad row \n",
    "        { \n",
    "            for (j = 0; j < 3; j++) // Loop on keypad column \n",
    "            { \n",
    "                // Process for 0 to 9 digits \n",
    "                if (keypad[i][j] != '*' &&  \n",
    "                    keypad[i][j] != '#') \n",
    "                { \n",
    "                    // Here we are counting the numbers starting with \n",
    "                    // digit keypad[i][j] and of length k keypad[i][j] \n",
    "                    // will become 1st digit, and we need to look for \n",
    "                    // (k-1) more digits \n",
    "                    num = keypad[i][j] - '0'; \n",
    "                    count[num][k] = 0; \n",
    "  \n",
    "                    // move left, up, right, down from current location \n",
    "                    // and if new location is valid, then get number \n",
    "                    // count of length (k-1) from that new digit and \n",
    "                    // add in count we found so far \n",
    "                    for (move = 0; move < 5; move++) \n",
    "                    { \n",
    "                        ro = i + row[move]; \n",
    "                        co = j + col[move]; \n",
    "                        if (ro >= 0 && ro <= 3 && co >= 0 &&  \n",
    "                            co <= 2 && keypad[ro][co] != '*' &&  \n",
    "                                       keypad[ro][co] != '#') \n",
    "                        { \n",
    "                            nextNum = keypad[ro][co] - '0'; \n",
    "                            count[num][k] += count[nextNum][k - 1]; \n",
    "                        } \n",
    "                    } \n",
    "                } \n",
    "            } \n",
    "        } \n",
    "    } \n",
    "  \n",
    "    // Get count of all possible numbers of length \"n\"  \n",
    "    // starting with digit 0, 1, 2, ..., 9 \n",
    "    totalCount = 0; \n",
    "    for (i = 0; i <= 9; i++) \n",
    "        totalCount += count[i][n]; \n",
    "    return totalCount; \n",
    "}"
   ]
  },
  {
   "cell_type": "code",
   "execution_count": 13,
   "metadata": {},
   "outputs": [
    {
     "name": "stdout",
     "output_type": "stream",
     "text": [
      "Count for numbers of length 1: 10\n",
      "Count for numbers of length 2: 36\n",
      "Count for numbers of length 3: 138\n",
      "Count for numbers of length 4: 532\n",
      "Count for numbers of length 5: 2062\n"
     ]
    }
   ],
   "source": [
    "// Driver Code \n",
    "public static void main(String[] args) \n",
    "{ \n",
    "    char keypad[][] = {{'1','2','3'}, \n",
    "                       {'4','5','6'}, \n",
    "                       {'7','8','9'}, \n",
    "                       {'*','0','#'}}; \n",
    "    System.out.printf(\"Count for numbers of length %d: %d\\n\", 1,  \n",
    "                                           getCount(keypad, 1)); \n",
    "    System.out.printf(\"Count for numbers of length %d: %d\\n\", 2, \n",
    "                                           getCount(keypad, 2)); \n",
    "    System.out.printf(\"Count for numbers of length %d: %d\\n\", 3,  \n",
    "                                           getCount(keypad, 3)); \n",
    "    System.out.printf(\"Count for numbers of length %d: %d\\n\", 4,  \n",
    "                                           getCount(keypad, 4)); \n",
    "    System.out.printf(\"Count for numbers of length %d: %d\\n\", 5, \n",
    "                                           getCount(keypad, 5)); \n",
    "} \n",
    "main(args);"
   ]
  },
  {
   "cell_type": "code",
   "execution_count": 14,
   "metadata": {},
   "outputs": [],
   "source": [
    "/*\n",
    "A Space Optimized Solution:\n",
    "\n",
    "The above dynamic programming approach also runs in O(n) time and requires O(n) auxiliary space, \n",
    "    as only one for loop runs n times, other for loops runs for constant time. \n",
    "\n",
    "We can see that nth iteration needs data from (n-1)th iteration only, s\n",
    "    o we need not keep the data from older iterations. \n",
    "We can have a space efficient dynamic programming approach with just two arrays of size 10. \n",
    "*/"
   ]
  },
  {
   "cell_type": "code",
   "execution_count": 15,
   "metadata": {},
   "outputs": [],
   "source": [
    "// Return count of all possible numbers of  \n",
    "// length n in a given numeric keyboard \n",
    "static int getCount(char keypad[][], int n) \n",
    "{ \n",
    "    if(keypad == null || n <= 0) \n",
    "        return 0; \n",
    "    if(n == 1) \n",
    "        return 10; \n",
    "  \n",
    "    // odd[i], even[i] arrays represent count of  \n",
    "    // numbers starting with digit i for any length j \n",
    "    int []odd = new int[10]; \n",
    "    int []even = new int[10]; \n",
    "    int i = 0, j = 0, useOdd = 0, totalCount = 0; \n",
    "  \n",
    "    for (i = 0; i <= 9; i++) \n",
    "        odd[i] = 1; // for j = 1 \n",
    "      \n",
    "    // Bottom Up calculation from j = 2 to n \n",
    "    for (j = 2; j <= n; j++)  \n",
    "    { \n",
    "        useOdd = 1 - useOdd; \n",
    "  \n",
    "        // Here we are explicitly writing lines  \n",
    "        // for each number 0 to 9. But it can always be  \n",
    "        // written as DFS on 4X3 grid using row,  \n",
    "        // column array valid moves \n",
    "        if(useOdd == 1) \n",
    "        { \n",
    "            even[0] = odd[0] + odd[8]; \n",
    "            even[1] = odd[1] + odd[2] + odd[4]; \n",
    "            even[2] = odd[2] + odd[1] + odd[3] + odd[5]; \n",
    "            even[3] = odd[3] + odd[2] + odd[6]; \n",
    "            even[4] = odd[4] + odd[1] + odd[5] + odd[7]; \n",
    "            even[5] = odd[5] + odd[2] + odd[4] + odd[8] + odd[6]; \n",
    "            even[6] = odd[6] + odd[3] + odd[5] + odd[9]; \n",
    "            even[7] = odd[7] + odd[4] + odd[8]; \n",
    "            even[8] = odd[8] + odd[0] + odd[5] + odd[7] + odd[9]; \n",
    "            even[9] = odd[9] + odd[6] + odd[8]; \n",
    "        } \n",
    "        else\n",
    "        { \n",
    "            odd[0] = even[0] + even[8]; \n",
    "            odd[1] = even[1] + even[2] + even[4]; \n",
    "            odd[2] = even[2] + even[1] + even[3] + even[5]; \n",
    "            odd[3] = even[3] + even[2] + even[6]; \n",
    "            odd[4] = even[4] + even[1] + even[5] + even[7]; \n",
    "            odd[5] = even[5] + even[2] + even[4] + even[8] + even[6]; \n",
    "            odd[6] = even[6] + even[3] + even[5] + even[9]; \n",
    "            odd[7] = even[7] + even[4] + even[8]; \n",
    "            odd[8] = even[8] + even[0] + even[5] + even[7] + even[9]; \n",
    "            odd[9] = even[9] + even[6] + even[8]; \n",
    "        } \n",
    "    } \n",
    "  \n",
    "    // Get count of all possible numbers of  \n",
    "    // length \"n\" starting with digit 0, 1, 2, ..., 9 \n",
    "    totalCount = 0; \n",
    "    if(useOdd == 1) \n",
    "    { \n",
    "        for (i = 0; i <= 9; i++) \n",
    "            totalCount += even[i]; \n",
    "    } \n",
    "    else\n",
    "    { \n",
    "        for (i = 0; i <= 9; i++) \n",
    "            totalCount += odd[i]; \n",
    "    } \n",
    "    return totalCount; \n",
    "} "
   ]
  },
  {
   "cell_type": "code",
   "execution_count": 16,
   "metadata": {},
   "outputs": [
    {
     "name": "stdout",
     "output_type": "stream",
     "text": [
      "Count for numbers of length 1: 10\n",
      "Count for numbers of length 2: 36\n",
      "Count for numbers of length 3: 138\n",
      "Count for numbers of length 4: 532\n",
      "Count for numbers of length 5: 2062\n"
     ]
    }
   ],
   "source": [
    "// Driver Code \n",
    "public static void main(String[] args)  \n",
    "{ \n",
    "    char keypad[][] = {{'1','2','3'}, \n",
    "                       {'4','5','6'}, \n",
    "                       {'7','8','9'}, \n",
    "                       {'*','0','#'}}; \n",
    "    System.out.printf(\"Count for numbers of length %d: %d\\n\", 1,  \n",
    "                                           getCount(keypad, 1)); \n",
    "    System.out.printf(\"Count for numbers of length %d: %d\\n\", 2,  \n",
    "                                           getCount(keypad, 2)); \n",
    "    System.out.printf(\"Count for numbers of length %d: %d\\n\", 3, \n",
    "                                           getCount(keypad, 3)); \n",
    "    System.out.printf(\"Count for numbers of length %d: %d\\n\", 4, \n",
    "                                           getCount(keypad, 4)); \n",
    "    System.out.printf(\"Count for numbers of length %d: %d\\n\", 5, \n",
    "                                           getCount(keypad, 5)); \n",
    "} \n",
    "main(args);"
   ]
  },
  {
   "cell_type": "markdown",
   "metadata": {},
   "source": [
    "## **212. Find number of solutions of a linear equation of n variables**\n",
    "https://www.geeksforgeeks.org/find-number-of-solutions-of-a-linear-equation-of-n-variables/"
   ]
  },
  {
   "cell_type": "code",
   "execution_count": 17,
   "metadata": {},
   "outputs": [],
   "source": [
    "/*\n",
    "Given a linear equation of n variables, \n",
    "find number of non-negative integer solutions of it. \n",
    "\n",
    "For example,\n",
    "\n",
    "let the given equation be “x + 2y = 5”, \n",
    "solutions of this equation are “x = 1, y = 2”, “x = 5, y = 0” and “x = 1. \n",
    "\n",
    "It may be assumed that all coefficients in given equation are positive integers.\n",
    "*/"
   ]
  },
  {
   "cell_type": "code",
   "execution_count": 18,
   "metadata": {},
   "outputs": [],
   "source": [
    "/*\n",
    "Example :\n",
    "\n",
    "Input:  coeff[] = {1, 2}, rhs = 5\n",
    "Output: 3\n",
    "The equation \"x + 2y = 5\" has 3 solutions.\n",
    "(x=3,y=1), (x=1,y=2), (x=5,y=0)\n",
    "\n",
    "Input:  coeff[] = {2, 2, 3}, rhs = 4\n",
    "Output: 3\n",
    "The equation \"2x + 2y + 3z = 4\"  has 3 solutions.\n",
    "(x=0,y=2,z=0), (x=2,y=0,z=0), (x=1,y=1,z=0)\n",
    "*/"
   ]
  },
  {
   "cell_type": "code",
   "execution_count": 19,
   "metadata": {},
   "outputs": [],
   "source": [
    "/*\n",
    "We can solve this problem recursively. \n",
    "The idea is to subtract first coefficient from rhs and then recur for remaining value of rhs.\n",
    "\n",
    "If rhs = 0\n",
    "  countSol(coeff, 0, rhs, n-1) = 1\n",
    "Else\n",
    "  countSol(coeff, 0, rhs, n-1) = &Sum;countSol(coeff, i, rhs-coeff[i], m-1) \n",
    "                                 where coeff[i]<=rhs and \n",
    "                                 i varies from 0 to n-1       \n",
    "*/"
   ]
  },
  {
   "cell_type": "code",
   "execution_count": 20,
   "metadata": {},
   "outputs": [
    {
     "name": "stdout",
     "output_type": "stream",
     "text": [
      "3\n"
     ]
    }
   ],
   "source": [
    "// Recursive function that returns  \n",
    "// count of solutions for given \n",
    "// rhs value and coefficients coeff[start..end] \n",
    "static int countSol(int coeff[], int start, int end, int rhs) \n",
    "{ \n",
    "    // Base case \n",
    "    if (rhs == 0) \n",
    "    return 1; \n",
    "\n",
    "    // Initialize count of solutions  \n",
    "    int result = 0;  \n",
    "\n",
    "    // One by subtract all smaller or \n",
    "    // equal coefficiants and recur \n",
    "    for (int i = start; i <= end; i++) \n",
    "    if (coeff[i] <= rhs) \n",
    "        result += countSol(coeff, i, end, rhs - coeff[i]); \n",
    "\n",
    "    return result; \n",
    "} \n",
    "\n",
    "// Driver Code \n",
    "public static void main (String[] args) \n",
    "{ \n",
    "    int coeff[] = {2, 2, 5}; \n",
    "    int rhs = 4; \n",
    "    int n = coeff.length; \n",
    "    System.out.println (countSol(coeff, 0, n - 1, rhs)); \n",
    "\n",
    "} \n",
    "main(args);"
   ]
  },
  {
   "cell_type": "code",
   "execution_count": 21,
   "metadata": {},
   "outputs": [],
   "source": [
    "/*\n",
    "The time complexity of above solution is exponential. \n",
    "\n",
    "We can solve this problem in Pseudo Polynomial Time (time complexity is dependent on numeric value of input) using Dynamic Programming. \n",
    "\n",
    "The idea is similar to Dynamic Programming solution Subset Sum problem. \n",
    "Below is Dynamic Programming based implementation.\n",
    "\n",
    "Time Complexity of is O(n * rhs)\n",
    "*/"
   ]
  },
  {
   "cell_type": "markdown",
   "metadata": {},
   "source": [
    "***https://www.geeksforgeeks.org/dynamic-programming-subset-sum-problem/***"
   ]
  },
  {
   "cell_type": "code",
   "execution_count": 22,
   "metadata": {},
   "outputs": [
    {
     "name": "stdout",
     "output_type": "stream",
     "text": [
      "3"
     ]
    }
   ],
   "source": [
    "// Returns counr of solutions for given  \n",
    "// rhs and coefficients coeff[0..n-1] \n",
    "static int countSol(int coeff[],  \n",
    "                    int n, int rhs) \n",
    "{ \n",
    "\n",
    "    // Create and initialize a table to  \n",
    "    // store results of subproblems \n",
    "    int dp[] = new int[rhs + 1]; \n",
    "    Arrays.fill(dp, 0); \n",
    "    dp[0] = 1; \n",
    "\n",
    "    // Fill table in bottom up manner \n",
    "    for (int i = 0; i < n; i++) \n",
    "    for (int j = coeff[i]; j <= rhs; j++) \n",
    "        dp[j] += dp[j - coeff[i]]; \n",
    "\n",
    "    return dp[rhs]; \n",
    "} \n",
    "\n",
    "// Driver code \n",
    "public static void main (String[] args) \n",
    "{ \n",
    "    int coeff[] = {2, 2, 5}; \n",
    "    int rhs = 4; \n",
    "    int n = coeff.length; \n",
    "    System.out.print(countSol(coeff, n, rhs)); \n",
    "} \n",
    "main(args);"
   ]
  },
  {
   "cell_type": "markdown",
   "metadata": {},
   "source": [
    "## **213. Count the number of ways to tile the floor of size n x m using 1 x m size tiles**\n",
    "https://www.geeksforgeeks.org/count-number-ways-tile-floor-size-n-x-m-using-1-x-m-size-tiles/"
   ]
  },
  {
   "cell_type": "code",
   "execution_count": 23,
   "metadata": {},
   "outputs": [],
   "source": [
    "/*\n",
    "Given a floor of size n x m and tiles of size 1 x m. \n",
    "\n",
    "The problem is to count the number of ways to tile the given floor using 1 x m tiles. \n",
    "A tile can either be placed horizontally or vertically.\n",
    "\n",
    "Both n and m are positive integers and 2 < = m.\n",
    "*/"
   ]
  },
  {
   "cell_type": "code",
   "execution_count": 24,
   "metadata": {},
   "outputs": [],
   "source": [
    "/*\n",
    "Examples:\n",
    "\n",
    "Input : n = 2, m = 3\n",
    "Output : 1\n",
    "Only one combination to place \n",
    "two tiles of size 1 x 3 horizontally\n",
    "on the floor of size 2 x 3. \n",
    "\n",
    "Input :  n = 4, m = 4\n",
    "Output : 2\n",
    "1st combination:\n",
    "All tiles are placed horizontally\n",
    "2nd combination:\n",
    "All tiles are placed vertically.\n",
    "*/"
   ]
  },
  {
   "cell_type": "code",
   "execution_count": 25,
   "metadata": {},
   "outputs": [],
   "source": [
    "/*\n",
    "This problem is mainly a more generalized approach to the Tiling Problem.\n",
    "\n",
    "Approach: For a given value of n and m, the number of ways to tile the floor can be obtained from the following relation.\n",
    "\n",
    "\n",
    "            |  1, 1 < = n < m\n",
    " count(n) = |  2, n = m\n",
    "            | count(n-1) + count(n-m), m < n\n",
    "            \n",
    "Time Complexity: O(n)\n",
    "Auxiliary Space: O(n)\n",
    "*/"
   ]
  },
  {
   "cell_type": "code",
   "execution_count": 26,
   "metadata": {},
   "outputs": [
    {
     "name": "stdout",
     "output_type": "stream",
     "text": [
      "Number of ways = 5\n"
     ]
    }
   ],
   "source": [
    "// function to count the total number of ways \n",
    "static int countWays(int n, int m) \n",
    "{ \n",
    "    // table to store values \n",
    "    // of subproblems \n",
    "    int count[] = new int[n + 1]; \n",
    "    count[0] = 0; \n",
    "\n",
    "    // Fill the table upto value n \n",
    "    int i; \n",
    "    for (i = 1; i <= n; i++) { \n",
    "        // recurrence relation \n",
    "        if (i > m) \n",
    "            count[i] = count[i - 1] + count[i - m]; \n",
    "\n",
    "        // base cases \n",
    "        else if (i < m) \n",
    "            count[i] = 1; \n",
    "\n",
    "        // i = = m \n",
    "        else\n",
    "            count[i] = 2; \n",
    "    } \n",
    "\n",
    "    // required number of ways \n",
    "    return count[n]; \n",
    "} \n",
    "\n",
    "// Driver program \n",
    "public static void main(String[] args) \n",
    "{ \n",
    "    int n = 7; \n",
    "    int m = 4; \n",
    "    System.out.println(\"Number of ways = \"\n",
    "                       + countWays(n, m)); \n",
    "} \n",
    "main(args);"
   ]
  },
  {
   "cell_type": "markdown",
   "metadata": {},
   "source": [
    "## **214. Count number of binary strings without consecutive 1’s**\n",
    "https://www.geeksforgeeks.org/count-number-binary-strings-without-consecutive-1s/"
   ]
  },
  {
   "cell_type": "code",
   "execution_count": 27,
   "metadata": {},
   "outputs": [],
   "source": [
    "/*\n",
    "Given a positive integer N, \n",
    "count all possible distinct binary strings of length N such that there are no consecutive 1’s.\n",
    "*/"
   ]
  },
  {
   "cell_type": "code",
   "execution_count": 28,
   "metadata": {},
   "outputs": [],
   "source": [
    "/*\n",
    "Examples:\n",
    "\n",
    "Input:  N = 2\n",
    "Output: 3\n",
    "// The 3 strings are 00, 01, 10\n",
    "\n",
    "Input: N = 3\n",
    "Output: 5\n",
    "// The 5 strings are 000, 001, 010, 100, 101\n",
    "*/"
   ]
  },
  {
   "cell_type": "code",
   "execution_count": 29,
   "metadata": {},
   "outputs": [],
   "source": [
    "/*\n",
    "This problem can be solved using Dynamic Programming. \n",
    "\n",
    "Let a[i] be the number of binary strings of length i which do not contain any two consecutive 1’s and which end in 0. \n",
    "Similarly, \n",
    "let b[i] be the number of such strings which end in 1. \n",
    "\n",
    "We can append either 0 or 1 to a string ending in 0, but we can only append 0 to a string ending in 1. \n",
    "This yields the recurrence relation:\n",
    "        a[i] = a[i - 1] + b[i - 1]\n",
    "        b[i] = a[i - 1] \n",
    "\n",
    "The base cases of above recurrence are a[1] = b[1] = 1. \n",
    "The total number of strings of length i is just a[i] + b[i].\n",
    "\n",
    "Following is the implementation of above solution. \n",
    "In the following implementation, indexes start from 0. \n",
    "So \n",
    "a[i] represents the number of binary strings for input length i+1. \n",
    "Similarly, \n",
    "b[i] represents binary strings for input length i+1.\n",
    "*/"
   ]
  },
  {
   "cell_type": "code",
   "execution_count": 30,
   "metadata": {},
   "outputs": [
    {
     "name": "stdout",
     "output_type": "stream",
     "text": [
      "5\n"
     ]
    }
   ],
   "source": [
    "static  int countStrings(int n) \n",
    "{ \n",
    "    int a[] = new int [n]; \n",
    "    int b[] = new int [n]; \n",
    "    a[0] = b[0] = 1; \n",
    "    for (int i = 1; i < n; i++) \n",
    "    { \n",
    "        a[i] = a[i-1] + b[i-1]; \n",
    "        b[i] = a[i-1]; \n",
    "    } \n",
    "    return a[n-1] + b[n-1]; \n",
    "} \n",
    "/* Driver program to test above function */ \n",
    "public static void main (String args[]) \n",
    "{ \n",
    "      System.out.println(countStrings(3)); \n",
    "} \n",
    "main(args);"
   ]
  },
  {
   "cell_type": "code",
   "execution_count": 31,
   "metadata": {},
   "outputs": [],
   "source": [
    "/*\n",
    "If we take a closer look at the pattern,\n",
    "we can observe that the count is actually (n+2)’th Fibonacci number for n >= 1. \n",
    "The Fibonacci Numbers are 0, 1, 1, 2, 3, 5, 8, 13, 21, 34, 55, 89, 141, ….\n",
    "\n",
    "n = 1, count = 2  = fib(3)\n",
    "n = 2, count = 3  = fib(4)\n",
    "n = 3, count = 5  = fib(5)\n",
    "n = 4, count = 8  = fib(6)\n",
    "n = 5, count = 13 = fib(7)\n",
    "\n",
    "*/"
   ]
  },
  {
   "cell_type": "markdown",
   "metadata": {},
   "source": [
    "**Related Link :**  ***https://www.geeksforgeeks.org/program-for-nth-fibonacci-number/***\n",
    "\n",
    "***https://www.geeksforgeeks.org/1-to-n-bit-numbers-with-no-consecutive-1s-in-binary-representation/***"
   ]
  },
  {
   "cell_type": "markdown",
   "metadata": {},
   "source": [
    "***https://youtu.be/GLi7yCWsXMo***"
   ]
  },
  {
   "cell_type": "markdown",
   "metadata": {},
   "source": [
    "## **215. The painter’s partition problem**\n",
    "https://www.geeksforgeeks.org/painters-partition-problem/"
   ]
  },
  {
   "cell_type": "code",
   "execution_count": 32,
   "metadata": {},
   "outputs": [],
   "source": [
    "/*\n",
    "We have to paint n boards of length {A1, A2…An}. \n",
    "\n",
    "There are k painters available and each takes 1 unit time to paint 1 unit of board. \n",
    "\n",
    "The problem is to find the minimum time to get this job done under the constraints \n",
    "that any painter will only paint continuous sections of boards, \n",
    "say board {2, 3, 4} or only board {1} or nothing but not board {2, 4, 5}.\n",
    "*/"
   ]
  },
  {
   "cell_type": "code",
   "execution_count": 33,
   "metadata": {},
   "outputs": [],
   "source": [
    "/*\n",
    "Examples:\n",
    "\n",
    "Input : k = 2, A = {10, 10, 10, 10} \n",
    "Output : 20.\n",
    "Here we can divide the boards into 2\n",
    "equal sized partitions, so each painter \n",
    "gets 20 units of board and the total\n",
    "time taken is 20. \n",
    "\n",
    "Input : k = 2, A = {10, 20, 30, 40} \n",
    "Output : 60.\n",
    "Here we can divide first 3 boards for\n",
    "one painter and the last board for \n",
    "second painter.\n",
    "*/"
   ]
  },
  {
   "cell_type": "code",
   "execution_count": 34,
   "metadata": {},
   "outputs": [],
   "source": [
    "/*\n",
    "From the above examples, \n",
    "it is obvious that the strategy of dividing the boards into k equal partitions won’t work for all the cases. \n",
    "\n",
    "We can observe that the problem can be broken down into: \n",
    "    Given an array A of non-negative integers and a positive integer k, we have to divide A into k of fewer partitions \n",
    "    such that the maximum sum of the elements in a partition, overall partitions is minimized. \n",
    "    \n",
    "    So for the second example above, possible divisions are:\n",
    "    * One partition: so time is 100.\n",
    "    * Two partitions: (10) & (20, 30, 40), so time is 90. \n",
    "      Similarly we can put the first divider after 20 (=> time 70) or 30 (=> time 60); \n",
    "      so this means the minimum time: (100, 90, 70, 60) is 60.\n",
    "*/"
   ]
  },
  {
   "cell_type": "code",
   "execution_count": 35,
   "metadata": {},
   "outputs": [],
   "source": [
    "/*\n",
    "A brute force solution is to consider all possible set of contiguous partitions \n",
    "and calculate the maximum sum partition in each case and return the minimum of all these cases.\n",
    "*/"
   ]
  },
  {
   "cell_type": "code",
   "execution_count": 36,
   "metadata": {},
   "outputs": [],
   "source": [
    "/*\n",
    "1) Optimal Substructure:\n",
    "\n",
    "We can implement the naive solution using recursion with the following optimal substructure property:\n",
    "\n",
    "Assuming that we already have k-1 partitions in place (using k-2 dividers), \n",
    "we now have to put the k-1 th divider to get k partitions.\n",
    "\n",
    "How can we do this? \n",
    "    We can put the k-1 th divider between the i th and i+1 th element where i = 1 to n. \n",
    "    Please note that putting it before the first element is the same as putting it after the last element.\n",
    "\n",
    "The total cost of this arrangement can be calculated as the maximum of the following:\n",
    "    a) The cost of the last partition: \n",
    "            sum(Ai..An), where the k-1 th divider is before element i.\n",
    "    b) The maximum cost of any partition already formed to the left of the k-1 th divider.\n",
    "\n",
    "Here \n",
    "    a) can be found out using a simple helper function \n",
    "        to calculate sum of elements between two indices in the array. \n",
    "        \n",
    "How to find out b) ?\n",
    "    We can observe that b) actually is to place the k-2 separators as fairly as possible, \n",
    "    so it is a subproblem of the given problem. \n",
    "\n",
    "Thus we can write the optimal substructure property as the following recurrence relation:\n",
    "\n",
    "The time complexity of the solution is exponential.\n",
    "*/"
   ]
  },
  {
   "cell_type": "markdown",
   "metadata": {},
   "source": [
    "<img src = \"https://media.geeksforgeeks.org/wp-content/uploads/paintersproblem.jpg\"/>"
   ]
  },
  {
   "cell_type": "code",
   "execution_count": 37,
   "metadata": {},
   "outputs": [
    {
     "name": "stdout",
     "output_type": "stream",
     "text": [
      "90\n"
     ]
    }
   ],
   "source": [
    "// function to calculate sum between two indices  \n",
    "// in array \n",
    "static int sum(int arr[], int from, int to) \n",
    "{ \n",
    "    int total = 0; \n",
    "    for (int i = from; i <= to; i++) \n",
    "        total += arr[i]; \n",
    "    return total; \n",
    "} \n",
    "   \n",
    "// for n boards and k partitions \n",
    "static int partition(int arr[], int n, int k) \n",
    "{ \n",
    "    // base cases     \n",
    "    if (k == 1) // one partition \n",
    "        return sum(arr, 0, n - 1);     \n",
    "    if (n == 1)  // one board \n",
    "        return arr[0]; \n",
    "   \n",
    "    int best = Integer.MAX_VALUE; \n",
    "   \n",
    "    // find minimum of all possible maximum \n",
    "    // k-1 partitions to the left of arr[i], \n",
    "    // with i elements, put k-1 th divider  \n",
    "    // between arr[i-1] & arr[i] to get k-th  \n",
    "    // partition \n",
    "    for (int i = 1; i <= n; i++) \n",
    "        best = Math.min(best, Math.max(partition(arr, i, k - 1),  \n",
    "                                sum(arr, i, n - 1))); \n",
    "   \n",
    "    return best; \n",
    "} \n",
    "  \n",
    "// Driver code \n",
    "public static void main(String args[]) \n",
    "{ \n",
    " int arr[] = { 10, 20, 60, 50, 30, 40 }; \n",
    "   \n",
    "    // Calculate size of array. \n",
    "    int n = arr.length; \n",
    "        int k = 3; \n",
    " System.out.println(partition(arr, n, k)); \n",
    "} \n",
    "main(args);"
   ]
  },
  {
   "cell_type": "code",
   "execution_count": 38,
   "metadata": {},
   "outputs": [],
   "source": [
    "/*\n",
    "2) Overlapping subproblems:\n",
    "\n",
    "Following is the partial recursion tree for T(4, 3) in above equation.\n",
    "\n",
    "        T(4, 3)\n",
    "     /    /    \\ ..         \n",
    "T(1, 2)  T(2, 2) T(3, 2) \n",
    "          /..      /..     \n",
    "      T(1, 1)    T(1, 1) \n",
    "\n",
    "We can observe that many subproblems like T(1, 1) in the above problem are being solved again and again. \n",
    "\n",
    "Because of these two properties of this problem, we can solve it using dynamic programming, \n",
    "either by top down memoized method or bottom up tabular method. \n",
    "\n",
    "Following is the bottom up tabular implementation:\n",
    "*/"
   ]
  },
  {
   "cell_type": "code",
   "execution_count": 39,
   "metadata": {},
   "outputs": [
    {
     "name": "stdout",
     "output_type": "stream",
     "text": [
      "90\n"
     ]
    }
   ],
   "source": [
    "// function to calculate sum between two indices \n",
    "// in array \n",
    "static int sum(int arr[], int from, int to) \n",
    "{ \n",
    "    int total = 0; \n",
    "    for (int i = from; i <= to; i++) \n",
    "        total += arr[i]; \n",
    "    return total; \n",
    "} \n",
    "   \n",
    "// bottom up tabular dp \n",
    "static int findMax(int arr[], int n, int k) \n",
    "{ \n",
    "    // initialize table \n",
    "    int dp[][] = new int[k+1][n+1]; \n",
    "   \n",
    "    // base cases \n",
    "    // k=1 \n",
    "    for (int i = 1; i <= n; i++) \n",
    "        dp[1][i] = sum(arr, 0, i - 1); \n",
    "   \n",
    "    // n=1 \n",
    "    for (int i = 1; i <= k; i++) \n",
    "        dp[i][1] = arr[0]; \n",
    "   \n",
    "    // 2 to k partitions \n",
    "    for (int i = 2; i <= k; i++) { // 2 to n boards \n",
    "        for (int j = 2; j <= n; j++) { \n",
    "   \n",
    "            // track minimum \n",
    "            int best = Integer.MAX_VALUE; \n",
    "   \n",
    "            // i-1 th separator before position arr[p=1..j] \n",
    "            for (int p = 1; p <= j; p++)  \n",
    "                best = Math.min(best, Math.max(dp[i - 1][p], \n",
    "                              sum(arr, p, j - 1)));        \n",
    "   \n",
    "            dp[i][j] = best; \n",
    "        } \n",
    "    } \n",
    "   \n",
    "    // required \n",
    "    return dp[k][n]; \n",
    "} \n",
    "  \n",
    "// Driver code \n",
    "public static void main(String args[]) \n",
    "{ \n",
    " int arr[] = { 10, 20, 60, 50, 30, 40 }; \n",
    "   \n",
    "    // Calculate size of array. \n",
    "    int n = arr.length; \n",
    "        int k = 3; \n",
    " System.out.println(findMax(arr, n, k)); \n",
    "} \n",
    "main(args);"
   ]
  },
  {
   "cell_type": "code",
   "execution_count": 40,
   "metadata": {},
   "outputs": [],
   "source": [
    "/*\n",
    "Optimizations:\n",
    "\n",
    "1) The time complexity of the above program is O(k*N^3)\n",
    "   It can be easily brought down to O(k*N^2)\n",
    "       by precomputing the cumulative sums in an array thus avoiding repeated calls to the sum function:\n",
    "       \n",
    "    int sum[n+1] = {0}; \n",
    "\n",
    "    // sum from 1 to i elements of arr \n",
    "    for (int i = 1; i <= n; i++) \n",
    "        sum[i] = sum[i-1] + arr[i-1]; \n",
    "\n",
    "    for (int i = 1; i <= n; i++) \n",
    "        dp[1][i] = sum[i]; \n",
    "\n",
    "    //and using it to calculate the result as: \n",
    "    best = min(best, max(dp[i-1][p], sum[j] - sum[p])); \n",
    "       \n",
    "       \n",
    "2) Though here we consider to divide A into k or fewer partitions, \n",
    "    we can observe that\n",
    "        the optimal case always occurs when we divide A into exactly k partitions. So we can use:\n",
    "    \n",
    "    for (int i = k-1; i <= n; i++) \n",
    "        best = min(best, max( partition(arr, i, k-1), sum(arr, i, n-1))); \n",
    "\n",
    "*/"
   ]
  },
  {
   "cell_type": "markdown",
   "metadata": {},
   "source": [
    "***https://articles.leetcode.com/the-painters-partition-problem/***"
   ]
  },
  {
   "cell_type": "markdown",
   "metadata": {},
   "source": [
    "## **216. Find if a string is interleaved of two other strings | DP-33**\n",
    "https://www.geeksforgeeks.org/find-if-a-string-is-interleaved-of-two-other-strings-dp-33/"
   ]
  },
  {
   "cell_type": "code",
   "execution_count": 41,
   "metadata": {},
   "outputs": [],
   "source": [
    "/*\n",
    "Given three strings A, B and C. \n",
    "Write a function that checks whether C is an interleaving of A and B. \n",
    "\n",
    "C is said to be interleaving A and B, \n",
    "    if it contains all characters of A and B \n",
    "    and order of all characters in individual strings is preserved.\n",
    "*/"
   ]
  },
  {
   "cell_type": "markdown",
   "metadata": {},
   "source": [
    "**Related Link :**  ***https://www.geeksforgeeks.org/check-whether-a-given-string-is-an-interleaving-of-two-other-given-strings/***"
   ]
  },
  {
   "cell_type": "code",
   "execution_count": 42,
   "metadata": {},
   "outputs": [],
   "source": [
    "/*\n",
    "We have discussed a simple solution of this problem in above link. \n",
    "The simple solution doesn’t work if strings A and B have some common characters. \n",
    "\n",
    "For example \n",
    "A = “XXY”, \n",
    "string B = “XXZ” \n",
    "and string C = “XXZXXXY”. \n",
    "To handle all cases, two possibilities need to be considered.\n",
    "\n",
    "a) If first character of C matches with first character of A, \n",
    "    we move one character ahead in A and C and recursively check.\n",
    "\n",
    "b) If first character of C matches with first character of B, \n",
    "    we move one character ahead in B and C and recursively check.\n",
    "\n",
    "If any of the above two cases is true, \n",
    "    we return true, \n",
    "else \n",
    "    false. \n",
    "    \n",
    "Following is simple recursive implementation of this approach\n",
    "*/"
   ]
  },
  {
   "cell_type": "code",
   "execution_count": 43,
   "metadata": {},
   "outputs": [],
   "source": [
    "/*\n",
    "// A simple recursive function to check whether C is an interleaving of A and B \n",
    "bool isInterleaved(char* A, char* B, char* C) \n",
    "{ \n",
    "    // Base Case: If all strings are empty \n",
    "    if (!(*A || *B || *C)) \n",
    "        return true; \n",
    "\n",
    "    // If C is empty and any of the two strings is not empty \n",
    "    if (*C == '\\0') \n",
    "        return false; \n",
    "\n",
    "    // If any of the above mentioned two possibilities is true, \n",
    "    // then return true, otherwise false \n",
    "    return ((*C == *A) && isInterleaved(A + 1, B, C + 1)) \n",
    "        || ((*C == *B) && isInterleaved(A, B + 1, C + 1)); \n",
    "} \n",
    "*/"
   ]
  },
  {
   "cell_type": "code",
   "execution_count": 44,
   "metadata": {},
   "outputs": [],
   "source": [
    "/*\n",
    "Dynamic Programming\n",
    "\n",
    "The worst case time complexity of recursive solution is O(2^n). \n",
    "The above recursive solution certainly has many overlapping subproblems. \n",
    "\n",
    "For example, \n",
    "if wee consider A = “XXX”, B = “XXX” and C = “XXXXXX” and draw recursion tree, \n",
    "there will be many overlapping subproblems.\n",
    "\n",
    "Therefore, \n",
    "    like other typical Dynamic Programming problems, \n",
    "    we can solve it by creating a table and store results of subproblems in bottom up manner. \n",
    "    \n",
    "Time Complexity: O(MN)\n",
    "Auxiliary Space: O(MN)\n",
    "*/"
   ]
  },
  {
   "cell_type": "markdown",
   "metadata": {},
   "source": [
    "***https://ideone.com/4jnFZu***"
   ]
  },
  {
   "cell_type": "markdown",
   "metadata": {},
   "source": [
    "***https://ideone.com/Krilbs***"
   ]
  },
  {
   "cell_type": "markdown",
   "metadata": {},
   "source": [
    "## **217. Wildcard Pattern Matching**\n",
    "https://www.geeksforgeeks.org/wildcard-pattern-matching/"
   ]
  },
  {
   "cell_type": "code",
   "execution_count": 45,
   "metadata": {},
   "outputs": [],
   "source": [
    "/*\n",
    "Given a text and a wildcard pattern, \n",
    "    implement wildcard pattern matching algorithm that finds if wildcard pattern is matched with text. \n",
    "    The matching should cover the entire text (not partial text).\n",
    "\n",
    "The wildcard pattern can include the characters ‘?’ and ‘*’\n",
    "‘?’ – matches any single character\n",
    "‘*’ – Matches any sequence of characters (including the empty sequence)\n",
    "*/"
   ]
  },
  {
   "cell_type": "code",
   "execution_count": 46,
   "metadata": {},
   "outputs": [],
   "source": [
    "/*\n",
    "For example,\n",
    "\n",
    "Text = \"baaabab\",\n",
    "Pattern = “*****ba*****ab\", output : true\n",
    "Pattern = \"baaa?ab\", output : true\n",
    "Pattern = \"ba*a?\", output : true\n",
    "Pattern = \"a*ab\", output : false \n",
    "*/"
   ]
  },
  {
   "cell_type": "markdown",
   "metadata": {},
   "source": [
    "<img src = \"https://media.geeksforgeeks.org/wp-content/cdn-uploads/wildcard-pattern-matching.png\"/>"
   ]
  },
  {
   "cell_type": "code",
   "execution_count": 47,
   "metadata": {},
   "outputs": [],
   "source": [
    "/*\n",
    "Each occurrence of ‘?’ character in wildcard pattern \n",
    "    can be replaced with any other character \n",
    "and each occurrence of ‘*’ \n",
    "    with a sequence of characters \n",
    "\n",
    "such that the wildcard pattern becomes identical to the input string after replacement.\n",
    "\n",
    "Let’s consider any character in the pattern.\n",
    "\n",
    "Case 1: The character is ‘*’\n",
    "    Here two cases arise\n",
    "        1. We can ignore ‘*’ character and move to next character in the Pattern.\n",
    "        2. ‘*’ character matches with one or more characters in Text. \n",
    "            Here we will move to next character in the string.\n",
    "            \n",
    "Case 2: The character is ‘?’\n",
    "    We can ignore current character in Text and move to next character in the Pattern and Text.\n",
    "\n",
    "Case 3: The character is not a wildcard character\n",
    "    If current character in Text matches with current character in Pattern, \n",
    "    we move to next character in the Pattern and Text. \n",
    "    If they do not match, \n",
    "        wildcard pattern and Text do not match.\n",
    "\n",
    "We can use Dynamic Programming to solve this problem –\n",
    "\n",
    "Let T[i][j] is true \n",
    "    if first i characters in given string matches the first j characters of pattern.\n",
    "*/"
   ]
  },
  {
   "cell_type": "code",
   "execution_count": 48,
   "metadata": {},
   "outputs": [],
   "source": [
    "/*\n",
    "DP Initialization:\n",
    "\n",
    "// both text and pattern are null\n",
    "T[0][0] = true; \n",
    "\n",
    "// pattern is null\n",
    "T[i][0] = false; \n",
    "\n",
    "// text is null\n",
    "T[0][j] = T[0][j - 1] if pattern[j – 1] is '*'  \n",
    "*/"
   ]
  },
  {
   "cell_type": "code",
   "execution_count": 49,
   "metadata": {},
   "outputs": [],
   "source": [
    "/*\n",
    "DP relation :\n",
    "\n",
    "// If current characters match, result is same as \n",
    "// result for lengths minus one. Characters match\n",
    "// in two cases:\n",
    "// a) If pattern character is '?' then it matches  \n",
    "//    with any character of text. \n",
    "// b) If current characters in both match\n",
    "if ( pattern[j – 1] == ‘?’) || \n",
    "     (pattern[j – 1] == text[i - 1])\n",
    "    T[i][j] = T[i-1][j-1]   \n",
    " \n",
    "// If we encounter ‘*’, two choices are possible-\n",
    "// a) We ignore ‘*’ character and move to next \n",
    "//    character in the pattern, i.e., ‘*’ \n",
    "//    indicates an empty sequence.\n",
    "// b) '*' character matches with ith character in\n",
    "//     input \n",
    "else if (pattern[j – 1] == ‘*’)\n",
    "    T[i][j] = T[i][j-1] || T[i-1][j]  \n",
    "\n",
    "else // if (pattern[j – 1] != text[i - 1])\n",
    "    T[i][j]  = false \n",
    "*/"
   ]
  },
  {
   "cell_type": "code",
   "execution_count": 50,
   "metadata": {},
   "outputs": [],
   "source": [
    "// Function that matches input str with \n",
    "// given wildcard pattern \n",
    "static boolean strmatch(String str, String pattern, \n",
    "                             int n, int m) \n",
    "{ \n",
    "    // empty pattern can only match with \n",
    "    // empty string \n",
    "    if (m == 0) \n",
    "        return (n == 0); \n",
    "\n",
    "    // lookup table for storing results of \n",
    "    // subproblems \n",
    "    boolean[][] lookup = new boolean[n + 1][m + 1]; \n",
    "\n",
    "    // initailze lookup table to false \n",
    "    for(int i = 0; i < n + 1; i++) \n",
    "        Arrays.fill(lookup[i], false); \n",
    "\n",
    "\n",
    "    // empty pattern can match with empty string \n",
    "    lookup[0][0] = true; \n",
    "\n",
    "    // Only '*' can match with empty string \n",
    "    for (int j = 1; j <= m; j++) \n",
    "        if (pattern.charAt(j - 1) == '*') \n",
    "            lookup[0][j] = lookup[0][j - 1]; \n",
    "\n",
    "    // fill the table in bottom-up fashion \n",
    "    for (int i = 1; i <= n; i++) \n",
    "    { \n",
    "        for (int j = 1; j <= m; j++) \n",
    "        { \n",
    "            // Two cases if we see a '*' \n",
    "            // a) We ignore '*'' character and move \n",
    "            //    to next  character in the pattern, \n",
    "            //     i.e., '*' indicates an empty sequence. \n",
    "            // b) '*' character matches with ith \n",
    "            //     character in input \n",
    "            if (pattern.charAt(j - 1) == '*') \n",
    "                lookup[i][j] = lookup[i][j - 1] || \n",
    "                               lookup[i - 1][j]; \n",
    "\n",
    "            // Current characters are considered as \n",
    "            // matching in two cases \n",
    "            // (a) current character of pattern is '?' \n",
    "            // (b) characters actually match \n",
    "            else if (pattern.charAt(j - 1) == '?' || \n",
    "                str.charAt(i - 1) == pattern.charAt(j - 1)) \n",
    "                lookup[i][j] = lookup[i - 1][j - 1]; \n",
    "\n",
    "            // If characters don't match \n",
    "            else lookup[i][j] = false; \n",
    "        } \n",
    "    } \n",
    "\n",
    "    return lookup[n][m]; \n",
    "} "
   ]
  },
  {
   "cell_type": "code",
   "execution_count": 51,
   "metadata": {},
   "outputs": [
    {
     "name": "stdout",
     "output_type": "stream",
     "text": [
      "Yes\n"
     ]
    }
   ],
   "source": [
    "public static void main(String args[]) \n",
    "{ \n",
    "    String str = \"baaabab\"; \n",
    "    String pattern = \"*****ba*****ab\"; \n",
    "    // String pattern = \"ba*****ab\"; \n",
    "    // String pattern = \"ba*ab\"; \n",
    "    // String pattern = \"a*ab\"; \n",
    "    // String pattern = \"a*****ab\"; \n",
    "    // String pattern = \"*a*****ab\"; \n",
    "    // String pattern = \"ba*ab****\"; \n",
    "    // String pattern = \"****\"; \n",
    "    // String pattern = \"*\"; \n",
    "    // String pattern = \"aa?ab\"; \n",
    "    // String pattern = \"b*b\"; \n",
    "    // String pattern = \"a*a\"; \n",
    "    // String pattern = \"baaabab\"; \n",
    "    // String pattern = \"?baaabab\"; \n",
    "    // String pattern = \"*baaaba*\"; \n",
    "\n",
    "    if (strmatch(str, pattern, str.length(), \n",
    "                         pattern.length())) \n",
    "        System.out.println(\"Yes\"); \n",
    "    else\n",
    "        System.out.println(\"No\"); \n",
    "}\n",
    "main(args);"
   ]
  },
  {
   "cell_type": "code",
   "execution_count": 52,
   "metadata": {},
   "outputs": [],
   "source": [
    "/*\n",
    "Time complexity of above solution is O(m x n). \n",
    "Auxiliary space used is also O(m x n).\n",
    "*/"
   ]
  },
  {
   "cell_type": "markdown",
   "metadata": {},
   "source": [
    "## **218. Probability of Knight to remain in the chessboard**\n",
    "https://www.geeksforgeeks.org/probability-knight-remain-chessboard/"
   ]
  },
  {
   "cell_type": "code",
   "execution_count": 53,
   "metadata": {},
   "outputs": [],
   "source": [
    "/*\n",
    "Given an NxN chessboard and a Knight at position (x,y). \n",
    "The Knight has to take exactly K steps, \n",
    "    where at each step it chooses any of the 8 directions uniformly at random. \n",
    "What is the probability that the Knight remains in the chessboard after taking K steps, \n",
    "    with the condition that it can’t enter the board again once it leaves it.\n",
    "*/"
   ]
  },
  {
   "cell_type": "code",
   "execution_count": 54,
   "metadata": {},
   "outputs": [],
   "source": [
    "/*\n",
    "Examples:\n",
    "\n",
    "Let's take:\n",
    "    8x8 chessboard,\n",
    "initial position of the knight : (0, 0),\n",
    "number of steps : 1\n",
    "At each step, the Knight has 8 different positions to choose from. \n",
    "\n",
    "If it starts from (0, 0), after taking one step it will lie inside the\n",
    "board only at 2 out of 8 positions, and will lie outside at other positions.\n",
    "So, the probability is 2/8 = 0.25\n",
    "*/"
   ]
  },
  {
   "cell_type": "code",
   "execution_count": 55,
   "metadata": {},
   "outputs": [],
   "source": [
    "/*\n",
    "Time Complexity: O(NxNxKx8) which is O(NxNxK), where N is the size of the board and K is the number of steps.\n",
    "Space Complexity: O(NxNxK)\n",
    "\n",
    "One thing that we can observe is that at every step the Knight has 8 choices to choose from. \n",
    "Suppose, \n",
    "    the Knight has to take k steps and after taking the Kth step the knight reaches (x,y). \n",
    "    There are 8 different positions from where the Knight can reach to (x,y) in one step, \n",
    "    and they are: (x+1,y+2), (x+2,y+1), (x+2,y-1), (x+1,y-2), (x-1,y-2), (x-2,y-1), (x-2,y+1), (x-1,y+2).\n",
    "\n",
    "What if we already knew the probabilities of reaching these 8 positions after K-1 steps? \n",
    "Then,\n",
    "    the final probability after K steps will simply be equal to the \n",
    "        (Σ probability of reaching each of these 8 positions after K-1 steps)/8;\n",
    "    Here we are dividing by 8 \n",
    "        because each of these 8 positions have 8 choices and position (x,y) is one of the choice.\n",
    "        \n",
    "For the positions that lie outside the board, \n",
    "    we will either take their probabilities as 0 or simply neglect it.\n",
    "\n",
    "Since, \n",
    "    we need to keep track of the probabilities at each position for every number of steps, \n",
    "    we need Dynamic Programming to solve this problem.\n",
    "        We are going to take an array dp[x][y][steps] \n",
    "            which will store the probability of reaching (x,y) after (steps) number of moves.\n",
    "            \n",
    "Base case : \n",
    "    if number of steps is 0, then the probability that the Knight will remain inside the board is 1.\n",
    "*/"
   ]
  },
  {
   "cell_type": "code",
   "execution_count": 56,
   "metadata": {},
   "outputs": [],
   "source": [
    "// size of the chessboard \n",
    "static final int N = 8; \n",
    "\n",
    "// direction vector for the Knight \n",
    "static int dx[] = { 1, 2, 2, 1,  \n",
    "                 -1, -2, -2, -1 }; \n",
    "\n",
    "static int dy[] = { 2, 1, -1, -2, \n",
    "                   -2, -1, 1, 2 }; \n",
    "\n",
    "// returns true if the knight is  \n",
    "// inside the chessboard \n",
    "static boolean inside(int x, int y) \n",
    "{ \n",
    "    return (x >= 0 && x < N &&  \n",
    "            y >= 0 && y < N); \n",
    "} "
   ]
  },
  {
   "cell_type": "code",
   "execution_count": 57,
   "metadata": {},
   "outputs": [],
   "source": [
    "// Bottom up approach for finding  \n",
    "// the probability to go out of  \n",
    "// chessboard. \n",
    "static double findProb(int start_x,  \n",
    "              int start_y, int steps) \n",
    "{ \n",
    "\n",
    "    // dp array \n",
    "    double dp1[][][] = new double[N][N][N]; \n",
    "\n",
    "    // for 0 number of steps, each position \n",
    "    // will have probability 1 \n",
    "    for (int i = 0; i < N; ++i) \n",
    "        for (int j = 0; j < N; ++j) \n",
    "            dp1[i][j][0] = 1; \n",
    "\n",
    "    // for every number of steps s \n",
    "    for (int s = 1; s <= steps; ++s) { \n",
    "\n",
    "        // for every position (x, y) after \n",
    "        // s number of steps \n",
    "        for (int x = 0; x < N; ++x) { \n",
    "\n",
    "            for (int y = 0; y < N; ++y) { \n",
    "\n",
    "                double prob = 0.0; \n",
    "\n",
    "                // for every position reachable  \n",
    "                // from (x, y) \n",
    "                for (int i = 0; i < 8; ++i) { \n",
    "                    int nx = x + dx[i]; \n",
    "                    int ny = y + dy[i]; \n",
    "\n",
    "                    // if this position lie  \n",
    "                    // inside the board \n",
    "                    if (inside(nx, ny)) \n",
    "                        prob += dp1[nx][ny][s - 1]  \n",
    "                                            / 8.0; \n",
    "                } \n",
    "\n",
    "                // store the result \n",
    "                dp1[x][y][s] = prob; \n",
    "            } \n",
    "        } \n",
    "    } \n",
    "\n",
    "    // return the result \n",
    "    return dp1[start_x][start_y][steps]; \n",
    "} "
   ]
  },
  {
   "cell_type": "code",
   "execution_count": 58,
   "metadata": {},
   "outputs": [
    {
     "name": "stdout",
     "output_type": "stream",
     "text": [
      "0.125\n"
     ]
    }
   ],
   "source": [
    "// Driver code \n",
    "public static void main(String[] args) \n",
    "{ \n",
    "\n",
    "    // number of steps \n",
    "    int K = 3; \n",
    "\n",
    "    System.out.println(findProb(0, 0, K)); \n",
    "} \n",
    "main(args);"
   ]
  },
  {
   "cell_type": "markdown",
   "metadata": {},
   "source": [
    "## **219. The Two Water Jug Puzzle**\n",
    "https://www.geeksforgeeks.org/two-water-jug-puzzle/"
   ]
  },
  {
   "cell_type": "code",
   "execution_count": 59,
   "metadata": {},
   "outputs": [],
   "source": [
    "/*\n",
    "You are at the side of a river. \n",
    "You are given a m litre jug and a n litre jug where 0 < m < n. \n",
    "Both the jugs are initially empty. \n",
    "The jugs don’t have markings to allow measuring smaller quantities. \n",
    "You have to use the jugs to measure d litres of water where d < n. \n",
    "\n",
    "Determine the minimum no of operations to be performed to obtain d litres of water in one of jug.\n",
    "\n",
    "The operations you can perform are:\n",
    "1. Empty a Jug\n",
    "2. Fill a Jug\n",
    "3. Pour water from one jug to the other until one of the jugs is either empty or full.\n",
    "*/"
   ]
  },
  {
   "cell_type": "code",
   "execution_count": 60,
   "metadata": {},
   "outputs": [],
   "source": [
    "/*\n",
    "There are several ways of solving this problem including BFS and DP. \n",
    "\n",
    "In this article an arithmetic approach to solve the problem is discussed. \n",
    "\n",
    "The problem can be modeled by means of Diophantine equation of the form mx + ny = d which is solvable \n",
    "if and only if gcd(m, n) divides d. \n",
    "\n",
    "Also, the solution x,y for which equation is satisfied can be given using the Extended Euclid algorithm for GCD.\n",
    "\n",
    "For example, \n",
    "    if we have a jug J1 of 5 litre (n = 5) and another jug J2 of 3 litre (m = 3) \n",
    "    and we have to measure 1 litre of water using them. \n",
    "    \n",
    "    The associated equation will be 5n + 3m = 1. \n",
    "    First of all this problem can be solved since gcd(3,5) = 1 which divides 1 (See this for detailed explanation). \n",
    "    \n",
    "    Using the Extended Euclid algorithm, \n",
    "        we get values of n and m for which the equation is satisfied which are n = 2 and m = -3. \n",
    "    \n",
    "    These values of n, m also have some meaning like here n = 2 and m = -3 \n",
    "    means that we have to fill J1 twice and empty J2 thrice.\n",
    "    \n",
    "Now to find the minimum no of operations to be performed we have to decide which jug should be filled first. \n",
    "Depending upon which jug is chosen to be filled \n",
    "and which to be emptied we have two different solutions \n",
    "and the minimum among them would be our answer.\n",
    "*/"
   ]
  },
  {
   "cell_type": "code",
   "execution_count": 61,
   "metadata": {},
   "outputs": [],
   "source": [
    "/*\n",
    "Solution 1 (Always pour from m litre jug into n litre jug)\n",
    "\n",
    "1. Fill the m litre jug and empty it into n litre jug.\n",
    "2. Whenever the m litre jug becomes empty fill it.\n",
    "3. Whenever the n litre jug becomes full empty it.\n",
    "4. Repeat steps 1,2,3 till either n litre jug or the m litre jug contains d litres of water.\n",
    "\n",
    "Each of steps 1, 2 and 3 are counted as one operation that we perform. \n",
    "Let us say algorithm 1 achieves the task in C1 no of operations.\n",
    "*/"
   ]
  },
  {
   "cell_type": "code",
   "execution_count": 62,
   "metadata": {},
   "outputs": [],
   "source": [
    "/*\n",
    "Solution 2 (Always pour from n litre jug into m litre jug)\n",
    "\n",
    "1. Fill the n litre jug and empty it into m litre jug.\n",
    "2. Whenever the n litre jug becomes empty fill it.\n",
    "3. Whenever the m litre jug becomes full empty it.\n",
    "4. Repeat steps 1, 2 and 3 till either n litre jug or the m litre jug contains d litres of water.\n",
    "*/"
   ]
  },
  {
   "cell_type": "code",
   "execution_count": 63,
   "metadata": {},
   "outputs": [],
   "source": [
    "/*\n",
    "Let us say solution 2 achieves the task in C2 no of operations.\n",
    "\n",
    "Now our final solution will be minimum of C1 and C2.\n",
    "\n",
    "Now we illustrate how both of the solutions work. \n",
    "\n",
    "Suppose there are a 3 litre jug and a 5 litre jug to measure 4 litres water \n",
    "so m = 3,n = 5 and d = 4. \n",
    "The associated Diophantine equation will be 3m + 5n = 4. \n",
    "\n",
    "We us pair (x, y) to represent amounts of water inside 3 litre jug and 5 litre jug respectively in each pouring step.\n",
    "*/"
   ]
  },
  {
   "cell_type": "code",
   "execution_count": 64,
   "metadata": {},
   "outputs": [],
   "source": [
    "/*\n",
    "Using Solution 1, successive pouring steps are:\n",
    "\n",
    "(0,0)->(3,0)->(0,3)->(3,3)->(1,5)->(1,0)->(0,1)->(3,1)->(0,4)\n",
    "Hence the no of operations you need to perform are 8.\n",
    "\n",
    "Using Solution 2, successive pouring steps are:\n",
    "\n",
    "(0,0)->(0,5)->(3,2)->(0,2)->(2,0)->(2,5)->(3,4)\n",
    "Hence the no of operations you need to perform are 6.\n",
    "\n",
    "Therefore we would use solution 2 to measure 4 liters of water in 6 operations or moves.\n",
    "*/"
   ]
  },
  {
   "cell_type": "code",
   "execution_count": 65,
   "metadata": {},
   "outputs": [],
   "source": [
    "// Utility function to return GCD of 'a' \n",
    "// and 'b'. \n",
    "int gcd(int a, int b) \n",
    "{ \n",
    "    if (b==0) \n",
    "       return a; \n",
    "    return gcd(b, a%b); \n",
    "} \n",
    "\n",
    "public static int swap(int itself, int dummy)\n",
    "{\n",
    "    return itself;\n",
    "}"
   ]
  },
  {
   "cell_type": "code",
   "execution_count": 66,
   "metadata": {},
   "outputs": [],
   "source": [
    "/* fromCap -- Capacity of jug from which \n",
    "              water is poured \n",
    "   toCap   -- Capacity of jug to which \n",
    "              water is poured \n",
    "   d       -- Amount to be measured */\n",
    "int pour(int fromCap, int toCap, int d) \n",
    "{ \n",
    "    // Initialize current amount of water \n",
    "    // in source and destination jugs \n",
    "    int from = fromCap; \n",
    "    int to = 0; \n",
    "  \n",
    "    // Initialize count of steps required \n",
    "    int step = 1; // Needed to fill \"from\" Jug \n",
    "  \n",
    "    // Break the loop when either of the two \n",
    "    // jugs has d litre water \n",
    "    while (from != d && to != d) \n",
    "    { \n",
    "        // Find the maximum amount that can be \n",
    "        // poured \n",
    "        int temp = Math.min(from, toCap - to); \n",
    "  \n",
    "        // Pour \"temp\" litres from \"from\" to \"to\" \n",
    "        to   += temp; \n",
    "        from -= temp; \n",
    "  \n",
    "        // Increment count of steps \n",
    "        step++; \n",
    "  \n",
    "        if (from == d || to == d) \n",
    "            break; \n",
    "  \n",
    "        // If first jug becomes empty, fill it \n",
    "        if (from == 0) \n",
    "        { \n",
    "            from = fromCap; \n",
    "            step++; \n",
    "        } \n",
    "  \n",
    "        // If second jug becomes full, empty it \n",
    "        if (to == toCap) \n",
    "        { \n",
    "            to = 0; \n",
    "            step++; \n",
    "        } \n",
    "    } \n",
    "    return step; \n",
    "} "
   ]
  },
  {
   "cell_type": "code",
   "execution_count": 67,
   "metadata": {},
   "outputs": [],
   "source": [
    "// Returns count of minimum steps needed to \n",
    "// measure d litre \n",
    "int minSteps(int m, int n, int d) \n",
    "{ \n",
    "    // To make sure that m is smaller than n \n",
    "    if (m > n) \n",
    "        m = swap(n, n = m); \n",
    "\n",
    "    // For d > n we cant measure the water \n",
    "    // using the jugs \n",
    "    if (d > n) \n",
    "        return -1; \n",
    "  \n",
    "    // If gcd of n and m does not divide d \n",
    "    // then solution is not possible \n",
    "    if ((d % gcd(n,m)) != 0) \n",
    "        return -1; \n",
    "  \n",
    "    // Return minimum two cases: \n",
    "    // a) Water of n litre jug is poured into \n",
    "    //    m litre jug \n",
    "    // b) Vice versa of \"a\" \n",
    "    return Math.min(pour(n,m,d),   // n to m \n",
    "               pour(m,n,d));  // m to n \n",
    "} "
   ]
  },
  {
   "cell_type": "code",
   "execution_count": 68,
   "metadata": {},
   "outputs": [
    {
     "name": "stdout",
     "output_type": "stream",
     "text": [
      "Minimum number of steps required is 6\n"
     ]
    }
   ],
   "source": [
    "int n = 3, m = 5, d = 4; \n",
    "//System.out.println(minSteps(m, n, d));\n",
    "System.out.println(\"Minimum number of steps required is \"+ minSteps(m, n, d));"
   ]
  },
  {
   "cell_type": "markdown",
   "metadata": {},
   "source": [
    "## **220. Word Wrap Problem | DP-19**\n",
    "https://www.geeksforgeeks.org/word-wrap-problem-dp-19/"
   ]
  },
  {
   "cell_type": "code",
   "execution_count": 69,
   "metadata": {},
   "outputs": [],
   "source": [
    "/*\n",
    "Given a sequence of words, and a limit on the number of characters that can be put in one line (line width). \n",
    "Put line breaks in the given sequence \n",
    "    such that the lines are printed neatly. \n",
    "Assume that the length of each word is smaller than the line width.\n",
    "\n",
    "The word processors like MS Word do task of placing line breaks. \n",
    "The idea is to have balanced lines. \n",
    "\n",
    "In other words, \n",
    "    not have few lines with lots of extra spaces and some lines with small amount of extra spaces.\n",
    "*/"
   ]
  },
  {
   "cell_type": "code",
   "execution_count": 70,
   "metadata": {},
   "outputs": [],
   "source": [
    "/*\n",
    "The extra spaces includes spaces put at the end of every line except the last one.  \n",
    "The problem is to minimize the following total cost.\n",
    " Cost of a line = (Number of extra spaces in the line)^3\n",
    " Total Cost = Sum of costs for all lines\n",
    "\n",
    "For example, consider the following string and line width M = 15\n",
    " \"Geeks for Geeks presents word wrap problem\" \n",
    "     \n",
    "Following is the optimized arrangement of words in 3 lines\n",
    "Geeks for Geeks\n",
    "presents word\n",
    "wrap problem \n",
    "\n",
    "The total extra spaces in line 1, line 2 and line 3 are 0, 2 and 3 respectively. \n",
    "So optimal value of total cost is 0 + 2*2 + 3*3 = 13\n",
    "*/"
   ]
  },
  {
   "cell_type": "code",
   "execution_count": 71,
   "metadata": {},
   "outputs": [],
   "source": [
    "/*\n",
    "Please note that \n",
    "the total cost function is not sum of extra spaces, but sum of cubes (or square is also used) of extra spaces. \n",
    "The idea behind this cost function is to balance the spaces among lines. \n",
    "\n",
    "For example, consider the following two arrangement of same set of words:\n",
    "\n",
    "1) There are 3 lines. \n",
    "    One line has 3 extra spaces and all other lines have 0 extra spaces. \n",
    "    Total extra spaces = 3 + 0 + 0 = 3. \n",
    "    Total cost = 3*3*3 + 0*0*0 + 0*0*0 = 27.\n",
    "\n",
    "2) There are 3 lines. \n",
    "    Each of the 3 lines has one extra space. \n",
    "    Total extra spaces = 1 + 1 + 1 = 3. \n",
    "    Total cost = 1*1*1 + 1*1*1 + 1*1*1 = 3.\n",
    "\n",
    "Total extra spaces are 3 in both scenarios, \n",
    "    but second arrangement should be preferred because extra spaces are balanced in all three lines. \n",
    "The cost function with cubic sum serves the purpose because the value of total cost in second scenario is less.\n",
    "*/"
   ]
  },
  {
   "cell_type": "code",
   "execution_count": 72,
   "metadata": {},
   "outputs": [],
   "source": [
    "/*\n",
    "Method 1 (Greedy Solution)\n",
    "\n",
    "The greedy solution is to place as many words as possible in the first line. \n",
    "Then do the same thing for the second line and so on until all words are placed. \n",
    "\n",
    "This solution gives optimal solution for many cases, but doesn’t give optimal solution in all cases. \n",
    "\n",
    "For example, \n",
    "    consider the following string “aaa bb cc ddddd” and line width as 6. \n",
    "    Greedy method will produce following output.\n",
    "    aaa bb \n",
    "    cc \n",
    "    ddddd\n",
    "    Extra spaces in the above 3 lines are 0, 4 and 1 respectively. \n",
    "    So total cost is 0 + 64 + 1 = 65.\n",
    "\n",
    "But the above solution is not the best solution. \n",
    "Following arrangement has more balanced spaces. Therefore less value of total cost function.\n",
    "    aaa\n",
    "    bb cc\n",
    "    ddddd\n",
    "    Extra spaces in the above 3 lines are 3, 1 and 1 respectively. \n",
    "    So total cost is 27 + 1 + 1 = 29.\n",
    "\n",
    "Despite being sub-optimal in some cases, \n",
    "the greedy approach is used by many word processors like MS Word and OpenOffice.org Writer.\n",
    "*/"
   ]
  },
  {
   "cell_type": "code",
   "execution_count": 73,
   "metadata": {},
   "outputs": [],
   "source": [
    "/*\n",
    "Method 2 (Dynamic Programming)\n",
    "\n",
    "Time Complexity: O(n^2)\n",
    "Auxiliary Space: O(n^2) The auxiliary space used in the above program cane be optimized to O(n) \n",
    "\n",
    "The following Dynamic approach strictly follows the algorithm given in solution of Cormen book. \n",
    "First we compute costs of all possible lines in a 2D table lc[][]. \n",
    "The value lc[i][j] indicates the cost to put words from i to j in a single line \n",
    "    where i and j are indexes of words in the input sequences. \n",
    "If a sequence of words from i to j cannot fit in a single line, \n",
    "    then lc[i][j] is considered infinite (to avoid it from being a part of the solution). \n",
    "Once we have the lc[][] table constructed, \n",
    "    we can calculate total cost using following recursive formula. \n",
    "In the following formula, \n",
    "    C[j] is the optimized total cost for arranging words from 1 to j.\n",
    "*/"
   ]
  },
  {
   "cell_type": "markdown",
   "metadata": {},
   "source": [
    "<img src = \"https://media.geeksforgeeks.org/wp-content/uploads/wordwrapformula.jpg\"/>"
   ]
  },
  {
   "cell_type": "code",
   "execution_count": 74,
   "metadata": {},
   "outputs": [],
   "source": [
    "/*\n",
    "The above recursion has overlapping subproblem property. \n",
    "    For example, \n",
    "    the solution of subproblem c(2) is used by c(3), C(4) and so on. \n",
    "    So Dynamic Programming is used to store the results of subproblems. \n",
    "    The array c[] can be computed from left to right, since each value depends only on earlier values.\n",
    "\n",
    "To print the output, \n",
    "    we keep track of what words go on what lines, \n",
    "    we can keep a parallel p array that points to where each c value came from. \n",
    "    The last line starts at word p[n] and goes through word n. \n",
    "    The previous line starts at word p[p[n]] and goes through word p[n] – 1, etc. \n",
    "    The function printSolution() uses p[] to print the solution.\n",
    "\n",
    "In the below program, \n",
    "    input is an array l[] that represents lengths of words in a sequence. \n",
    "    The value l[i] indicates length of the ith word (i starts from 1) in theinput sequence.\n",
    "*/"
   ]
  },
  {
   "cell_type": "code",
   "execution_count": 75,
   "metadata": {},
   "outputs": [],
   "source": [
    "final int MAX = Integer.MAX_VALUE; \n",
    "\n",
    "// A utility function to print the solution \n",
    "int printSolution (int p[], int n) \n",
    "{ \n",
    "    int k; \n",
    "    if (p[n] == 1) \n",
    "    k = 1; \n",
    "    else\n",
    "    k = printSolution (p, p[n]-1) + 1; \n",
    "    System.out.println(\"Line number\" + \" \" + k + \": \" +  \n",
    "                \"From word no.\" +\" \"+ p[n] + \" \" + \"to\" + \" \" + n); \n",
    "    return k; \n",
    "} "
   ]
  },
  {
   "cell_type": "code",
   "execution_count": 76,
   "metadata": {},
   "outputs": [],
   "source": [
    "// l[] represents lengths of different words in input sequence.  \n",
    "// For example, l[] = {3, 2, 2, 5} is for a sentence like  \n",
    "// \"aaa bb cc ddddd\". n is size of l[] and M is line width  \n",
    "// (maximum no. of characters that can fit in a line)  \n",
    "void solveWordWrap (int l[], int n, int M) \n",
    "{ \n",
    "    // For simplicity, 1 extra space is used in all below arrays \n",
    "\n",
    "    // extras[i][j] will have number of extra spaces if words from i \n",
    "    // to j are put in a single line \n",
    "    int extras[][] = new int[n+1][n+1]; \n",
    "\n",
    "    // lc[i][j] will have cost of a line which has words from \n",
    "    // i to j \n",
    "    int lc[][]= new int[n+1][n+1]; \n",
    "\n",
    "    // c[i] will have total cost of optimal arrangement of words \n",
    "    // from 1 to i \n",
    "    int c[] = new int[n+1]; \n",
    "\n",
    "    // p[] is used to print the solution. \n",
    "    int p[] =new int[n+1]; \n",
    "\n",
    "    // calculate extra spaces in a single line. The value extra[i][j] \n",
    "    // indicates extra spaces if words from word number i to j are \n",
    "    // placed in a single line \n",
    "    for (int i = 1; i <= n; i++) \n",
    "    { \n",
    "        extras[i][i] = M - l[i-1]; \n",
    "        for (int j = i+1; j <= n; j++) \n",
    "        extras[i][j] = extras[i][j-1] - l[j-1] - 1; \n",
    "    } \n",
    "\n",
    "    // Calculate line cost corresponding to the above calculated extra \n",
    "    // spaces. The value lc[i][j] indicates cost of putting words from \n",
    "    // word number i to j in a single line \n",
    "    for (int i = 1; i <= n; i++) \n",
    "    { \n",
    "        for (int j = i; j <= n; j++) \n",
    "        { \n",
    "            if (extras[i][j] < 0) \n",
    "                lc[i][j] = MAX; \n",
    "            else if (j == n && extras[i][j] >= 0) \n",
    "                lc[i][j] = 0; \n",
    "            else\n",
    "                lc[i][j] = extras[i][j]*extras[i][j]; \n",
    "        } \n",
    "    } \n",
    "\n",
    "    // Calculate minimum cost and find minimum cost arrangement. \n",
    "    // The value c[j] indicates optimized cost to arrange words \n",
    "    // from word number 1 to j. \n",
    "    c[0] = 0; \n",
    "    for (int j = 1; j <= n; j++) \n",
    "    { \n",
    "        c[j] = MAX; \n",
    "        for (int i = 1; i <= j; i++) \n",
    "        { \n",
    "            if (c[i-1] != MAX && lc[i][j] != MAX &&  \n",
    "               (c[i-1] + lc[i][j] < c[j])) \n",
    "            { \n",
    "                c[j] = c[i-1] + lc[i][j]; \n",
    "                p[j] = i; \n",
    "            } \n",
    "        } \n",
    "    } \n",
    "\n",
    "    printSolution(p, n); \n",
    "} "
   ]
  },
  {
   "cell_type": "code",
   "execution_count": 77,
   "metadata": {},
   "outputs": [
    {
     "name": "stdout",
     "output_type": "stream",
     "text": [
      "Line number 1: From word no. 1 to 1\n",
      "Line number 2: From word no. 2 to 3\n",
      "Line number 3: From word no. 4 to 4\n"
     ]
    }
   ],
   "source": [
    "public static void main(String args[]) \n",
    "{ \n",
    "    int l[] = {3, 2, 2, 5}; \n",
    "    int n = l.length; \n",
    "    int M = 6; \n",
    "    solveWordWrap (l, n, M); \n",
    "} \n",
    "main(args);"
   ]
  },
  {
   "cell_type": "markdown",
   "metadata": {},
   "source": [
    "**Related Link :**  ***https://www.geeksforgeeks.org/word-wrap-problem-space-optimized-solution/***\n",
    "\n",
    "**Reference :**  ***http://en.wikipedia.org/wiki/Word_wrap***"
   ]
  },
  {
   "cell_type": "markdown",
   "metadata": {},
   "source": [
    "## **221. Largest sum subarray with at-least k numbers**\n",
    "https://www.geeksforgeeks.org/largest-sum-subarray-least-k-numbers/"
   ]
  },
  {
   "cell_type": "code",
   "execution_count": 78,
   "metadata": {},
   "outputs": [],
   "source": [
    "/*\n",
    "Given an array, find the subarray (containing at least k numbers) which has the largest sum.\n",
    "*/"
   ]
  },
  {
   "cell_type": "code",
   "execution_count": 79,
   "metadata": {},
   "outputs": [],
   "source": [
    "/*\n",
    "Examples:\n",
    "\n",
    "Input : arr[] = {-4, -2, 1, -3} \n",
    "            k = 2\n",
    "Output : -1\n",
    "The sub array is {-2, 1}\n",
    "\n",
    "Input : arr[] = {1, 1, 1, 1, 1, 1} \n",
    "            k = 2\n",
    "Output : 6 \n",
    "The sub array is {1, 1, 1, 1, 1, 1}\n",
    "*/"
   ]
  },
  {
   "cell_type": "code",
   "execution_count": 80,
   "metadata": {},
   "outputs": [],
   "source": [
    "/*\n",
    "Time Complexity: O(n)\n",
    "\n",
    "This problem is an extension of Largest Sum Subarray Problem.\n",
    "\n",
    "1) We first compute maximum sum till every index and store it in an array maxSum[].\n",
    "2) After filling the array, \n",
    "        we use the sliding window concept of size k. \n",
    "    Keep track of sum of current k elements. \n",
    "    To compute sum of current window, remove first element of previous window and add current element. \n",
    "    After getting the sum of current window, we add the maxSum of the previous window, \n",
    "    if it is greater than current max, \n",
    "        then update it \n",
    "    else \n",
    "        not.\n",
    "\n",
    "Below is the implementation of above approach:\n",
    "*/"
   ]
  },
  {
   "cell_type": "markdown",
   "metadata": {},
   "source": [
    "**Related Link :**  ***https://www.geeksforgeeks.org/largest-sum-contiguous-subarray/***\n",
    "\n",
    "***https://www.geeksforgeeks.org/sliding-window-maximum-maximum-of-all-subarrays-of-size-k/***"
   ]
  },
  {
   "cell_type": "code",
   "execution_count": 81,
   "metadata": {},
   "outputs": [
    {
     "name": "stdout",
     "output_type": "stream",
     "text": [
      "-4\n"
     ]
    }
   ],
   "source": [
    "// Returns maximum sum of a subarray with at-least \n",
    "// k elements. \n",
    "static int maxSumWithK(int a[], int n, int k) \n",
    "{ \n",
    "    // maxSum[i] is going to store maximum sum \n",
    "    // till index i such that a[i] is part of the \n",
    "    // sum. \n",
    "    int maxSum[] = new int [n]; \n",
    "    maxSum[0] = a[0]; \n",
    "\n",
    "    // We use Kadane's algorithm to fill maxSum[] \n",
    "    // Below code is taken from method 3 of \n",
    "    // https://www.geeksforgeeks.org/largest-sum-contiguous-subarray/ \n",
    "    int curr_max = a[0]; \n",
    "    for (int i = 1; i < n; i++) \n",
    "    { \n",
    "        curr_max = Math.max(a[i], curr_max+a[i]); \n",
    "        maxSum[i] = curr_max; \n",
    "    } \n",
    "\n",
    "    // Sum of first k elements \n",
    "    int sum = 0; \n",
    "    for (int i = 0; i < k; i++) \n",
    "        sum += a[i]; \n",
    "\n",
    "    // Use the concept of sliding window \n",
    "    int result = sum; \n",
    "    for (int i = k; i < n; i++) \n",
    "    { \n",
    "        // Compute sum of k elements ending \n",
    "        // with a[i]. \n",
    "        sum = sum + a[i] - a[i-k]; \n",
    "\n",
    "        // Update result if required \n",
    "        result = Math.max(result, sum); \n",
    "\n",
    "        // Include maximum sum till [i-k] also \n",
    "        // if it increases overall max. \n",
    "        result = Math.max(result, sum + maxSum[i-k]); \n",
    "    } \n",
    "    return result; \n",
    "} \n",
    "\n",
    "// Driver method \n",
    "public static void main(String[] args) \n",
    "{ \n",
    "    int arr[] = {1, 2, 3, -10, -3}; \n",
    "    int k = 4; \n",
    "    System.out.println(maxSumWithK(arr, arr.length, k));; \n",
    "} \n",
    "main(args);"
   ]
  },
  {
   "cell_type": "markdown",
   "metadata": {},
   "source": [
    "## **222. Program to find amount of water in a given glass**\n",
    "https://www.geeksforgeeks.org/find-water-in-a-glass/"
   ]
  },
  {
   "cell_type": "code",
   "execution_count": 82,
   "metadata": {},
   "outputs": [],
   "source": [
    "/*\n",
    "There are some glasses with equal capacity as 1 litre. \n",
    "The glasses are kept as follows:\n",
    "                   1\n",
    "                 2   3\n",
    "              4    5    6\n",
    "            7    8    9   10\n",
    "\n",
    "You can put water to only top glass. \n",
    "If you put more than 1 litre water to 1st glass, water overflows and fills equally in both 2nd and 3rd glasses. \n",
    "Glass 5 will get water from both 2nd glass and 3rd glass and so on.\n",
    "\n",
    "If you have X litre of water and you put that water in top glass, \n",
    "    how much water will be contained by jth glass in ith row?\n",
    "\n",
    "Example. If you will put 2 litre on top.\n",
    "1st – 1 litre\n",
    "2nd – 1/2 litre\n",
    "3rd – 1/2 litre\n",
    "\n",
    "Time Complexity: O(i*(i+1)/2) or O(i^2)\n",
    "Auxiliary Space: O(i*(i+1)/2) or O(i^2)\n",
    "*/"
   ]
  },
  {
   "cell_type": "code",
   "execution_count": 83,
   "metadata": {},
   "outputs": [],
   "source": [
    "/*\n",
    "The approach is similar to Method 2 of the Pascal’s Triangle.\n",
    "If we take a closer look at the problem, the problem boils down to Pascal’s Triangle.\n",
    "\n",
    "                   1   ---------------- 1\n",
    "                 2   3 ---------------- 2\n",
    "              4    5    6  ------------ 3\n",
    "            7    8    9   10  --------- 4\n",
    "\n",
    "Each glass contributes to the two glasses down the glass. \n",
    "Initially, \n",
    "    we put all water in first glass. \n",
    "    Then we keep 1 litre (or less than 1 litre) in it, \n",
    "    and move rest of the water to two glasses down to it. \n",
    "We follow the same process for the two glasses and all other glasses till ith row. \n",
    "There will be i*(i+1)/2 glasses till ith row.\n",
    "*/"
   ]
  },
  {
   "cell_type": "code",
   "execution_count": 84,
   "metadata": {},
   "outputs": [],
   "source": [
    "// Returns the amount of water \n",
    "// in jth glass of ith row \n",
    "static float findWater(int i, int j, float X) \n",
    "{ \n",
    "    // A row number i has maximum i  \n",
    "    // columns. So input column  \n",
    "    // number must be less than i \n",
    "    if (j > i) \n",
    "    { \n",
    "        System.out.println(\"Incorrect Input\"); \n",
    "        System.exit(0); \n",
    "    } \n",
    "\n",
    "    // There will be i*(i+1)/2 glasses  \n",
    "    // till ith row (including ith row) \n",
    "    int ll = Math.round((i * (i + 1) )); \n",
    "    float[] glass = new float[ll + 2]; \n",
    "\n",
    "    // Put all water in first glass \n",
    "    int index = 0; \n",
    "    glass[index] = X; \n",
    "\n",
    "    // Now let the water flow to the  \n",
    "    // downward glasses till the row  \n",
    "    // number is less than or/ equal  \n",
    "    // to i (given row)  \n",
    "    // correction : X can be zero for side  \n",
    "    // glasses as they have lower rate to fill \n",
    "    for (int row = 1; row <= i ; ++row) \n",
    "    { \n",
    "        // Fill glasses in a given row. Number of  \n",
    "        // columns in a row is equal to row number \n",
    "        for (int col = 1;  \n",
    "                 col <= row; ++col, ++index) \n",
    "        { \n",
    "            // Get the water from current glass \n",
    "            X = glass[index]; \n",
    "\n",
    "            // Keep the amount less than or  \n",
    "            // equal to capacity in current glass \n",
    "            glass[index] = (X >= 1.0f) ? 1.0f : X; \n",
    "\n",
    "            // Get the remaining amount \n",
    "            X = (X >= 1.0f) ? (X - 1) : 0.0f; \n",
    "\n",
    "            // Distribute the remaining amount   \n",
    "            // to the down two glasses \n",
    "            glass[index + row] += X / 2; \n",
    "            glass[index + row + 1] += X / 2; \n",
    "        } \n",
    "    } \n",
    "\n",
    "    // The index of jth glass in ith  \n",
    "    // row will be i*(i-1)/2 + j - 1 \n",
    "    return glass[(int)(i * (i - 1) /  \n",
    "                       2 + j - 1)]; \n",
    "} "
   ]
  },
  {
   "cell_type": "code",
   "execution_count": 85,
   "metadata": {},
   "outputs": [
    {
     "name": "stdout",
     "output_type": "stream",
     "text": [
      "Amount of water in jth glass of ith row is: 0.5\n"
     ]
    }
   ],
   "source": [
    "// Driver Code \n",
    "public static void main(String[] args) \n",
    "{ \n",
    "    int i = 2, j = 2; \n",
    "    float X = 2.0f; // Total amount of water \n",
    "    System.out.println(\"Amount of water in jth \" + \n",
    "                         \"glass of ith row is: \" +  \n",
    "                              findWater(i, j, X)); \n",
    "} \n",
    "main(args);"
   ]
  },
  {
   "cell_type": "markdown",
   "metadata": {},
   "source": [
    "## **223. Remove minimum elements from either side such that 2*min becomes more than max**\n",
    "https://www.geeksforgeeks.org/remove-minimum-elements-either-side-2min-max/"
   ]
  },
  {
   "cell_type": "code",
   "execution_count": 86,
   "metadata": {},
   "outputs": [],
   "source": [
    "/*\n",
    "Given an unsorted array, \n",
    "\n",
    "trim the array such that twice of minimum is greater than maximum in the trimmed array. \n",
    "Elements should be removed either end of the array.\n",
    "\n",
    "Number of removals should be minimum.\n",
    "*/"
   ]
  },
  {
   "cell_type": "code",
   "execution_count": 87,
   "metadata": {},
   "outputs": [],
   "source": [
    "/*\n",
    "Examples:\n",
    "\n",
    "arr[] = {4, 5, 100, 9, 10, 11, 12, 15, 200}\n",
    "Output: 4\n",
    "We need to remove 4 elements (4, 5, 100, 200)\n",
    "so that 2*min becomes more than max.\n",
    "\n",
    "\n",
    "arr[] = {4, 7, 5, 6}\n",
    "Output: 0\n",
    "We don't need to remove any element as \n",
    "4*2 > 7 (Note that min = 4, max = 8)\n",
    "\n",
    "arr[] = {20, 7, 5, 6}\n",
    "Output: 1\n",
    "We need to remove 20 so that 2*min becomes\n",
    "more than max\n",
    "\n",
    "arr[] = {20, 4, 1, 3}\n",
    "Output: 3\n",
    "We need to remove any three elements from ends\n",
    "like 20, 4, 1 or 4, 1, 3 or 20, 3, 1 or 20, 4, 1\n",
    "*/"
   ]
  },
  {
   "cell_type": "code",
   "execution_count": 88,
   "metadata": {},
   "outputs": [],
   "source": [
    "/*\n",
    "Naive Solution:\n",
    "A naive solution is to try every possible case using recurrence. \n",
    "Following is the naive recursive algorithm. \n",
    "Note that the algorithm only returns minimum numbers of removals to be made, \n",
    "    it doesn’t print the trimmed array. It can be easily modified to print the trimmed array as well.\n",
    "\n",
    "// Returns minimum number of removals to be made in\n",
    "// arr[l..h]\n",
    "minRemovals(int arr[], int l, int h)\n",
    "1) Find min and max in arr[l..h]\n",
    "2) If 2*min > max, then return 0.\n",
    "3) Else return minimum of \"minRemovals(arr, l+1, h) + 1\"\n",
    "   and \"minRemovals(arr, l, h-1) + 1\"\n",
    "   \n",
    "Time complexity: Time complexity of the above function can be written as following\n",
    "\n",
    "  T(n) = 2T(n-1) + O(n) \n",
    "An upper bound on solution of above recurrence would be O(n x 2n).\n",
    "*/"
   ]
  },
  {
   "cell_type": "code",
   "execution_count": 89,
   "metadata": {},
   "outputs": [],
   "source": [
    "// A utility function to find minimum of two numbers \n",
    "static int min(int a, int b) {return (a < b)? a : b;} \n",
    "  \n",
    "// A utility function to find minimum in arr[l..h] \n",
    "static int min(int arr[], int l, int h) \n",
    "{ \n",
    "    int mn = arr[l]; \n",
    "    for (int i=l+1; i<=h; i++) \n",
    "    if (mn > arr[i]) \n",
    "        mn = arr[i]; \n",
    "    return mn; \n",
    "} \n",
    "  \n",
    "// A utility function to find maximum in arr[l..h] \n",
    "static int max(int arr[], int l, int h) \n",
    "{ \n",
    "    int mx = arr[l]; \n",
    "    for (int i=l+1; i<=h; i++) \n",
    "    if (mx < arr[i]) \n",
    "        mx = arr[i]; \n",
    "    return mx; \n",
    "} "
   ]
  },
  {
   "cell_type": "code",
   "execution_count": 90,
   "metadata": {},
   "outputs": [],
   "source": [
    "// Returns the minimum number of removals from either end \n",
    "// in arr[l..h] so that 2*min becomes greater than max. \n",
    "static int minRemovals(int arr[], int l, int h) \n",
    "{ \n",
    "    // If there is 1 or less elements, return 0 \n",
    "    // For a single element, 2*min > max  \n",
    "    // (Assumption: All elements are positive in arr[]) \n",
    "    if (l >= h) return 0; \n",
    "  \n",
    "    // 1) Find minimum and maximum in arr[l..h] \n",
    "    int mn = min(arr, l, h); \n",
    "    int mx = max(arr, l, h); \n",
    "  \n",
    "    //If the property is followed, no removals needed \n",
    "    if (2*mn > mx) \n",
    "    return 0; \n",
    "  \n",
    "    // Otherwise remove a character from left end and recur, \n",
    "    // then remove a character from right end and recur, take \n",
    "    // the minimum of two is returned \n",
    "    return min(minRemovals(arr, l+1, h), \n",
    "            minRemovals(arr, l, h-1)) + 1; \n",
    "} "
   ]
  },
  {
   "cell_type": "code",
   "execution_count": 91,
   "metadata": {},
   "outputs": [
    {
     "name": "stdout",
     "output_type": "stream",
     "text": [
      "4"
     ]
    }
   ],
   "source": [
    "// Driver Code \n",
    "public static void main(String[] args) \n",
    "{ \n",
    "    int arr[] = {4, 5, 100, 9, 10, 11, 12, 15, 200}; \n",
    "    int n = arr.length; \n",
    "    System.out.print(minRemovals(arr, 0, n-1)); \n",
    "} \n",
    "main(args);"
   ]
  },
  {
   "cell_type": "code",
   "execution_count": 92,
   "metadata": {},
   "outputs": [],
   "source": [
    "/*\n",
    "Dynamic Programming:\n",
    "\n",
    "The above recursive code exhibits many overlapping subproblems. \n",
    "For example \n",
    "    minRemovals(arr, l+1, h-1) is evaluated twice. \n",
    "\n",
    "So Dynamic Programming is the choice to optimize the solution. \n",
    "Following is Dynamic Programming based solution.\n",
    "\n",
    "Time Complexity: O(n3) where n is the number of elements in arr[].\n",
    "*/"
   ]
  },
  {
   "cell_type": "code",
   "execution_count": 93,
   "metadata": {},
   "outputs": [],
   "source": [
    "// A utility function to find minimum of two numbers \n",
    "static int min(int a, int b) { \n",
    "    return (a < b) ? a : b; \n",
    "} \n",
    "\n",
    "// A utility function to find minimum in arr[l..h] \n",
    "static int min(int arr[], int l, int h) { \n",
    "    int mn = arr[l]; \n",
    "    for (int i = l + 1; i <= h; i++) { \n",
    "        if (mn > arr[i]) { \n",
    "            mn = arr[i]; \n",
    "        } \n",
    "    } \n",
    "    return mn; \n",
    "} \n",
    "\n",
    "// A utility function to find maximum in arr[l..h] \n",
    "static int max(int arr[], int l, int h) { \n",
    "    int mx = arr[l]; \n",
    "    for (int i = l + 1; i <= h; i++) { \n",
    "        if (mx < arr[i]) { \n",
    "            mx = arr[i]; \n",
    "        } \n",
    "    } \n",
    "    return mx; \n",
    "} "
   ]
  },
  {
   "cell_type": "code",
   "execution_count": 94,
   "metadata": {},
   "outputs": [],
   "source": [
    "// Returns the minimum number of removals from either end \n",
    "// in arr[l..h] so that 2*min becomes greater than max. \n",
    "static int minRemovalsDP(int arr[], int n) { \n",
    "    // Create a table to store solutions of subproblems \n",
    "    int table[][] = new int[n][n], gap, i, j, mn, mx; \n",
    "\n",
    "    // Fill table using above recursive formula. Note that the table \n",
    "    // is filled in diagonal fashion (similar to http://goo.gl/PQqoS), \n",
    "    // from diagonal elements to table[0][n-1] which is the result. \n",
    "    for (gap = 0; gap < n; ++gap) { \n",
    "        for (i = 0, j = gap; j < n; ++i, ++j) { \n",
    "            mn = min(arr, i, j); \n",
    "            mx = max(arr, i, j); \n",
    "            table[i][j] = (2 * mn > mx) ? 0 : min(table[i][j - 1] + 1, \n",
    "                    table[i + 1][j] + 1); \n",
    "        } \n",
    "    } \n",
    "    return table[0][n - 1]; \n",
    "} "
   ]
  },
  {
   "cell_type": "code",
   "execution_count": 95,
   "metadata": {},
   "outputs": [
    {
     "name": "stdout",
     "output_type": "stream",
     "text": [
      "3\n"
     ]
    }
   ],
   "source": [
    "// Driver program to test above functions \n",
    "public static void main(String[] args) { \n",
    "    int arr[] = {20, 4, 1, 3}; \n",
    "    int n = arr.length; \n",
    "    System.out.println(minRemovalsDP(arr, n)); \n",
    "\n",
    "} \n",
    "main(args);"
   ]
  },
  {
   "cell_type": "code",
   "execution_count": 96,
   "metadata": {},
   "outputs": [],
   "source": [
    "/*\n",
    "Further Optimizations:\n",
    "\n",
    "The above code can be optimized in many ways.\n",
    "1) We can avoid calculation of min() and/or max() when min and/or max is/are not changed by removing corner elements.\n",
    "2) We can pre-process the array and build segment tree in O(n) time. \n",
    "   After the segment tree is built, we can query range minimum and maximum in O(Logn) time. \n",
    "   The overall time complexity is reduced to O(n2Logn) time.\n",
    "\n",
    "A O(n^2) Solution\n",
    "\n",
    "The idea is to find the maximum sized subarray such that 2*min > max. \n",
    "We run two nested loops,\n",
    "    the outer loop chooses a starting point and \n",
    "    the inner loop chooses ending point for the current starting point.\n",
    "We keep track of longest subarray with the given property.\n",
    "*/"
   ]
  },
  {
   "cell_type": "code",
   "execution_count": 97,
   "metadata": {},
   "outputs": [],
   "source": [
    "// Returns the minimum number of removals from either end  \n",
    "// in arr[l..h] so that 2*min becomes greater than max.  \n",
    "static int minRemovalsDP(int arr[], int n) { \n",
    "    // Initialize starting and ending indexes of the maximum  \n",
    "    // sized subarray with property 2*min > max  \n",
    "    int longest_start = -1, longest_end = 0; \n",
    "\n",
    "    // Choose different elements as starting point  \n",
    "    for (int start = 0; start < n; start++) { \n",
    "        // Initialize min and max for the current start  \n",
    "        int min = Integer.MAX_VALUE, max = Integer.MIN_VALUE; \n",
    "\n",
    "        // Choose different ending points for current start  \n",
    "        for (int end = start; end < n; end++) { \n",
    "            // Update min and max if necessary  \n",
    "            int val = arr[end]; \n",
    "            if (val < min) { \n",
    "                min = val; \n",
    "            } \n",
    "            if (val > max) { \n",
    "                max = val; \n",
    "            } \n",
    "\n",
    "            // If the property is violated, then no  \n",
    "            // point to continue for a bigger array  \n",
    "            if (2 * min <= max) { \n",
    "                break; \n",
    "            } \n",
    "\n",
    "            // Update longest_start and longest_end if needed  \n",
    "            if (end - start > longest_end - longest_start \n",
    "                    || longest_start == -1) { \n",
    "                longest_start = start; \n",
    "                longest_end = end; \n",
    "            } \n",
    "        } \n",
    "    } \n",
    "\n",
    "    // If not even a single element follow the property,  \n",
    "    // then return n  \n",
    "    if (longest_start == -1) { \n",
    "        return n; \n",
    "    } \n",
    "\n",
    "    // Return the number of elements to be removed  \n",
    "    return (n - (longest_end - longest_start + 1)); \n",
    "} "
   ]
  },
  {
   "cell_type": "code",
   "execution_count": 98,
   "metadata": {},
   "outputs": [
    {
     "name": "stdout",
     "output_type": "stream",
     "text": [
      "4\n"
     ]
    }
   ],
   "source": [
    "// Driver program to test above functions  \n",
    "public static void main(String[] args) { \n",
    "    int arr[] = {4, 5, 100, 9, 10, 11, 12, 15, 200}; \n",
    "    int n = arr.length; \n",
    "    System.out.println(minRemovalsDP(arr, n)); \n",
    "} \n",
    "main(args);"
   ]
  },
  {
   "cell_type": "markdown",
   "metadata": {},
   "source": [
    "## **224. Number of subsequences of the form a^i b^j c^k**\n",
    "https://www.geeksforgeeks.org/number-subsequences-form-ai-bj-ck/"
   ]
  },
  {
   "cell_type": "code",
   "execution_count": 99,
   "metadata": {},
   "outputs": [],
   "source": [
    "/*\n",
    "Discussed earlier in 18 March 2020 code (1st Problem)\n",
    "*/"
   ]
  },
  {
   "cell_type": "markdown",
   "metadata": {},
   "source": [
    "## **225. Unbounded Knapsack (Repetition of items allowed)**\n",
    "https://www.geeksforgeeks.org/unbounded-knapsack-repetition-items-allowed/"
   ]
  },
  {
   "cell_type": "code",
   "execution_count": 100,
   "metadata": {},
   "outputs": [],
   "source": [
    "/*\n",
    "Given a knapsack weight W and a set of n items with certain value vali and weight wti, \n",
    "we need to calculate minimum amount that could make up this quantity exactly. \n",
    "\n",
    "This is different from classical Knapsack problem, \n",
    "here we are allowed to use unlimited number of instances of an item.\n",
    "*/"
   ]
  },
  {
   "cell_type": "code",
   "execution_count": 101,
   "metadata": {},
   "outputs": [],
   "source": [
    "/*\n",
    "Examples:\n",
    "\n",
    "Input : W = 100\n",
    "       val[]  = {1, 30}\n",
    "       wt[] = {1, 50}\n",
    "Output : 100\n",
    "There are many ways to fill knapsack.\n",
    "1) 2 instances of 50 unit weight item.\n",
    "2) 100 instances of 1 unit weight item.\n",
    "3) 1 instance of 50 unit weight item and 50\n",
    "   instances of 1 unit weight items.\n",
    "We get maximum value with option 2.\n",
    "\n",
    "Input : W = 8\n",
    "       val[] = {10, 40, 50, 70}\n",
    "       wt[]  = {1, 3, 4, 5}       \n",
    "Output : 110 \n",
    "We get maximum value with one unit of\n",
    "weight 5 and one unit of weight 3.\n",
    "*/"
   ]
  },
  {
   "cell_type": "code",
   "execution_count": 102,
   "metadata": {},
   "outputs": [],
   "source": [
    "/*\n",
    "Its an unbounded knapsack problem \n",
    "as we can use 1 or more instances of any resource. \n",
    "\n",
    "A simple 1D array, \n",
    "    say dp[W+1] can be used \n",
    "    such that dp[i] stores the maximum value which can achieved using all items and i capacity of knapsack. \n",
    "\n",
    "Note that we use 1D array here which is different from classical knapsack where we used 2D array. \n",
    "\n",
    "Here number of items never changes. We always have all items available.\n",
    "*/"
   ]
  },
  {
   "cell_type": "code",
   "execution_count": 103,
   "metadata": {},
   "outputs": [],
   "source": [
    "/*\n",
    "We can recursively compute dp[] using below formula\n",
    "\n",
    "dp[i] = 0\n",
    "dp[i] = max(dp[i], dp[i-wt[j]] + val[j] \n",
    "                   where j varies from 0 \n",
    "                   to n-1 such that:\n",
    "                   wt[j] <= i\n",
    "result = d[W]\n",
    "\n",
    "Below is the implementation of above idea.\n",
    "*/"
   ]
  },
  {
   "cell_type": "code",
   "execution_count": 104,
   "metadata": {},
   "outputs": [],
   "source": [
    "// Returns the maximum value with knapsack \n",
    "// of W capacity \n",
    "private static int unboundedKnapsack(int W, int n,  \n",
    "                            int[] val, int[] wt) { \n",
    "\n",
    "    // dp[i] is going to store maximum value \n",
    "    // with knapsack capacity i. \n",
    "    int dp[] = new int[W + 1]; \n",
    "\n",
    "    // Fill dp[] using above recursive formula \n",
    "    for(int i = 0; i <= W; i++){ \n",
    "        for(int j = 0; j < n; j++){ \n",
    "            if(wt[j] <= i){ \n",
    "                dp[i] = Math.max(dp[i], dp[i - wt[j]] +  \n",
    "                            val[j]); \n",
    "            } \n",
    "        } \n",
    "    } \n",
    "    return dp[W]; \n",
    "} "
   ]
  },
  {
   "cell_type": "code",
   "execution_count": 105,
   "metadata": {},
   "outputs": [
    {
     "name": "stdout",
     "output_type": "stream",
     "text": [
      "300\n"
     ]
    }
   ],
   "source": [
    "// Driver program \n",
    "public static void main(String[] args) { \n",
    "    int W = 100; \n",
    "    int val[] = {10, 30, 20}; \n",
    "    int wt[] = {5, 10, 15}; \n",
    "    int n = val.length; \n",
    "    System.out.println(unboundedKnapsack(W, n, val, wt)); \n",
    "} \n",
    "main(args);"
   ]
  },
  {
   "cell_type": "code",
   "execution_count": null,
   "metadata": {},
   "outputs": [],
   "source": []
  }
 ],
 "metadata": {
  "kernelspec": {
   "display_name": "Java",
   "language": "java",
   "name": "java"
  },
  "language_info": {
   "codemirror_mode": "java",
   "file_extension": ".jshell",
   "mimetype": "text/x-java-source",
   "name": "Java",
   "pygments_lexer": "java",
   "version": "11.0.6+8-LTS"
  },
  "toc": {
   "base_numbering": 1,
   "nav_menu": {},
   "number_sections": true,
   "sideBar": true,
   "skip_h1_title": false,
   "title_cell": "Table of Contents",
   "title_sidebar": "Contents",
   "toc_cell": false,
   "toc_position": {
    "height": "calc(100% - 180px)",
    "left": "10px",
    "top": "150px",
    "width": "227.309px"
   },
   "toc_section_display": true,
   "toc_window_display": true
  }
 },
 "nbformat": 4,
 "nbformat_minor": 2
}
