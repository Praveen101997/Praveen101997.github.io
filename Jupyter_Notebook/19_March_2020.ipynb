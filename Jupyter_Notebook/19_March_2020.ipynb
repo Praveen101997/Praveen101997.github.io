{
 "cells": [
  {
   "cell_type": "markdown",
   "metadata": {},
   "source": [
    "  **------------------------Questions Covered-----------------------------**"
   ]
  },
  {
   "cell_type": "markdown",
   "metadata": {},
   "source": [
    "***3\tString\thttps://www.geeksforgeeks.org/check-given-sentence-given-set-simple-grammer-rules/\tPep_JavaIP_3Strings_121ValidityOfSentences\t\t\t\t\t\t\t\t\t\t\t\t\t\t\t\t\t\t\t\t\t\t\t\t\n",
    "3\tString\thttps://www.geeksforgeeks.org/length-of-the-longest-valid-substring/\t\t\t\t\t\t\t\t\t\t\t\t\t\t\t\t\t\t\t\t\t\t\t\t\t\n",
    "3\tString\thttps://www.geeksforgeeks.org/print-ways-break-string-bracket-form/\tPep_JavaIP_3Strings_123PrintStringInBracketForm\t\t\t\t\t\t\t\t\t\t\t\t\t\t\t\t\t\t\t\t\t\t\t\t\n",
    "3\tString\thttps://www.geeksforgeeks.org/print-concatenation-of-zig-zag-string-form-in-n-rows/\tPep_JavaIP_3Strings_124PrintZigZagFashion\t\t\t\t\t\t\t\t\t\t\t\t\t\t\t\t\t\t\t\t\t\t\t\t\n",
    "3\tString\thttps://www.geeksforgeeks.org/searching-for-patterns-set-2-kmp-algorithm/\t\t\t\t\t\t\t\t\t\t\t\t\t\t\t\t\t\t\t\t\t\t\t\t\t\n",
    "3\tString\thttps://www.geeksforgeeks.org/transform-one-string-to-another-using-minimum-number-of-given-operation/\tPep_JavaIP_3Strings_126TransformOneStringToAnother\t\t\t\t\t\t\t\t\t\t\t\t\t\t\t\t\t\t\t\t\t\t\t\t\n",
    "3\tString\thttps://www.geeksforgeeks.org/repeated-subsequence-length-2/\tPep_JavaIP_3Strings_127RepeatedSubsequenceOfLength2OrMore\t\t\t\t\t\t\t\t\t\t\t\t\t\t\t\t\t\t\t\t\t\t\t\t\n",
    "3\tString\thttps://www.geeksforgeeks.org/check-if-two-given-strings-are-isomorphic-to-each-other/\t\t\t\t\t\t\t\t\t\t\t\t\t\t\t\t\t\t\t\t\t\t\t\t\t\n",
    "3\tString\thttps://www.geeksforgeeks.org/find-given-string-can-represented-substring-iterating-substring-n-times/\t\t\t\t\t\t\t\t\t\t\t\t\t\t\t\t\t\t\t\t\t\t\t\t\t\n",
    "3\tString\thttps://www.geeksforgeeks.org/recursively-print-all-sentences-that-can-be-formed-from-list-of-word-lists/\tPep_JavaIP_3Strings_130PrintAllSentencesPossible\t\t\t\t\t\t\t\t\t\t\t\t\t\t\t\t\t\t\t\t\t\t\t\t\n",
    "3\tString\thttps://www.geeksforgeeks.org/searching-for-patterns-set-3-rabin-karp-algorithm/\tPep_JavaIP_3Strings_131RabinKarpAlgo\t\t\t\t\t\t\t\t\t\t\t\t\t\t\t\t\t\t\t\t\t\t\t\t\n",
    "4\tMatrix\thttps://www.geeksforgeeks.org/zigzag-or-diagonal-traversal-of-matrix/\tPep_JavaIP_4Matrix_132ZigZagTraversal\t\t\t\t\t\t\t\t\t\t\t\t\t\t\t\t\t\t\t\t\t\t\t\t\n",
    "4\tMatrix\thttps://www.geeksforgeeks.org/create-a-matrix-with-alternating-rectangles-of-0-and-x/\tPep_JavaIP_4Matrix_133AlternateXOMatrix\t\t\t\t\t\t\t\t\t\t\t\t\t\t\t\t\t\t\t\t\t\t\t\t\n",
    "4\tMatrix\thttps://www.geeksforgeeks.org/print-elements-sorted-order-row-column-wise-sorted-matrix/\tPep_JavaIP_4Matrix_134SortedRowColumnWiseSortedMatrix\t\t\t\t\t\t\t\t\t\t\t\t\t\t\t\t\t\t\t\t\t\t\t\t\n",
    "4\tMatrix\thttps://www.geeksforgeeks.org/inplace-rotate-square-matrix-by-90-degrees/\tfamous\tbreaker***"
   ]
  },
  {
   "cell_type": "code",
   "execution_count": 1,
   "metadata": {},
   "outputs": [],
   "source": [
    "import java.util.*;\n",
    "import java.io.*;\n",
    "import java.util.Arrays;\n",
    "String[] args =new String[0];"
   ]
  },
  {
   "cell_type": "markdown",
   "metadata": {},
   "source": [
    "## **121. Check a given sentence for a given set of simple grammer rules**\n",
    "https://www.geeksforgeeks.org/check-given-sentence-given-set-simple-grammer-rules/"
   ]
  },
  {
   "cell_type": "code",
   "execution_count": 2,
   "metadata": {},
   "outputs": [],
   "source": [
    "/*\n",
    "A simple sentence if syntactically correct if it fulfills given rules. The following are given rules.\n",
    "\n",
    "1. Sentence must start with a Uppercase character (e.g. Noun/ I/ We/ He etc.)\n",
    "2. Then lowercase character follows.\n",
    "3. There must be spaces between words.\n",
    "4. Then the sentence must end with a full stop(.) after a word.\n",
    "5. Two continuous spaces are not allowed.\n",
    "6. Two continuous upper case characters are not allowed.\n",
    "7. However, the sentence can end after an upper case character.\n",
    "\n",
    "Question: Given a sentence, validate the given sentence for above given rules.\n",
    "*/"
   ]
  },
  {
   "cell_type": "code",
   "execution_count": 3,
   "metadata": {},
   "outputs": [],
   "source": [
    "/*\n",
    "Examples:\n",
    "\n",
    "Correct sentences -\n",
    "   \"My name is Ram.\"\n",
    "   \"The vertex is S.\"\n",
    "   \"I am single.\"\n",
    "   \"I love Geeksquiz and Geeksforgeeks.\"\n",
    "\n",
    "Incorrect sentence - \n",
    "   \"My name is KG.\"\n",
    "   \"I lovE cinema.\"\n",
    "   \"GeeksQuiz. is a quiz site.\"\n",
    "   \"  You are my friend.\"\n",
    "   \"I love cinema\"\n",
    "*/"
   ]
  },
  {
   "cell_type": "code",
   "execution_count": 4,
   "metadata": {},
   "outputs": [],
   "source": [
    "/*\n",
    "Time complexity – O(n), worst case as we have to traverse the full sentence where n is the length of the sentence.\n",
    "Auxiliary space – O(1)\n",
    "\n",
    "The idea is to use an automata for the given set of rules.\n",
    "\n",
    "Algorithm :\n",
    "\n",
    "1. Check for the corner cases\n",
    "    1.a) Check if the first character is uppercase or not in the sentence.\n",
    "    1.b) Check if the last character is a full stop or not.\n",
    "\n",
    "2. For rest of the string, \n",
    "    this problem could be solved by following a state diagram. \n",
    "\n",
    "    Please refer to the below state diagram for that.\n",
    "\n",
    "3. We need to maintain previous and current state of different characters in the string. \n",
    "\n",
    "Based on that we can always validate the sentence of every character traversed.\n",
    "*/"
   ]
  },
  {
   "cell_type": "markdown",
   "metadata": {},
   "source": [
    "<img src = \"https://media.geeksforgeeks.org/wp-content/uploads/statediagram.png\"/>"
   ]
  },
  {
   "cell_type": "code",
   "execution_count": 5,
   "metadata": {},
   "outputs": [],
   "source": [
    "// Method to check a given sentence for given rules \n",
    "static boolean checkSentence(char[] str) \n",
    "{ \n",
    "\n",
    "    // Calculate the length of the string. \n",
    "    int len = str.length; \n",
    "\n",
    "    // Check that the first character lies in [A-Z]. \n",
    "    // Otherwise return false. \n",
    "    if (str[0] < 'A' || str[0] > 'Z') \n",
    "        return false; \n",
    "\n",
    "    // If the last character is not a full stop(.)  \n",
    "    // no need to check further. \n",
    "    if (str[len - 1] != '.') \n",
    "        return false; \n",
    "\n",
    "    // Maintain 2 states. Previous and current state  \n",
    "    // based on which vertex state you are.  \n",
    "    // Initialise both with 0 = start state. \n",
    "    int prev_state = 0, curr_state = 0; \n",
    "\n",
    "    // Keep the index to the next character in the string. \n",
    "    int index = 1; \n",
    "\n",
    "    // Loop to go over the string. \n",
    "    while (index <= str.length)  \n",
    "    { \n",
    "\n",
    "        // Set states according to the input characters  \n",
    "        // in the string and the rule defined in the description. \n",
    "        // If current character is [A-Z]. Set current state as 0. \n",
    "        if (str[index] >= 'A' && str[index] <= 'Z') \n",
    "            curr_state = 0; \n",
    "\n",
    "        // If current character is a space.  \n",
    "        // Set current state as 1. \n",
    "        else if (str[index] == ' ') \n",
    "            curr_state = 1; \n",
    "\n",
    "        // If current character is [a-z].  \n",
    "        // Set current state as 2. \n",
    "        else if (str[index] >= 'a' && str[index] <= 'z') \n",
    "            curr_state = 2; \n",
    "\n",
    "        // If current state is a dot(.). \n",
    "        // Set current state as 3. \n",
    "        else if (str[index] == '.') \n",
    "            curr_state = 3; \n",
    "\n",
    "        // Validates all current state with previous state  \n",
    "        // for the rules in the description of the problem. \n",
    "        if (prev_state == curr_state && curr_state != 2) \n",
    "            return false; \n",
    "\n",
    "        if (prev_state == 2 && curr_state == 0) \n",
    "            return false; \n",
    "\n",
    "        // If we have reached last state and previous state  \n",
    "        // is not 1, then check next character. If next character  \n",
    "        // is '\\0', then return true, else false \n",
    "        if (curr_state == 3 && prev_state != 1) \n",
    "            return (index + 1 == str.length); \n",
    "\n",
    "        index++; \n",
    "\n",
    "        // Set previous state as current state  \n",
    "        // before going over to the next character. \n",
    "        prev_state = curr_state; \n",
    "    } \n",
    "    return false; \n",
    "} "
   ]
  },
  {
   "cell_type": "code",
   "execution_count": 6,
   "metadata": {},
   "outputs": [
    {
     "name": "stdout",
     "output_type": "stream",
     "text": [
      "\"I love cinema.\" is correct\n",
      "\"The vertex is S.\" is correct\n",
      "\"I am single.\" is correct\n",
      "\"My name is KG.\" is incorrect\n",
      "\"I lovE cinema.\" is incorrect\n",
      "\"GeeksQuiz. is a quiz site.\" is incorrect\n",
      "\"I love Geeksquiz and Geeksforgeeks.\" is correct\n",
      "\" You are my friend.\" is incorrect\n",
      "\"I love cinema\" is incorrect\n"
     ]
    }
   ],
   "source": [
    "// Driver Code \n",
    "public static void main(String[] args) \n",
    "{ \n",
    "    String[] str = { \"I love cinema.\", \"The vertex is S.\",  \n",
    "                     \"I am single.\", \"My name is KG.\",  \n",
    "                     \"I lovE cinema.\", \"GeeksQuiz. is a quiz site.\",  \n",
    "                     \"I love Geeksquiz and Geeksforgeeks.\",  \n",
    "                     \" You are my friend.\", \"I love cinema\" }; \n",
    "    int str_size = str.length; \n",
    "\n",
    "    int i = 0; \n",
    "    for (i = 0; i < str_size; i++) \n",
    "    { \n",
    "        if (checkSentence(str[i].toCharArray())) \n",
    "            System.out.println(\"\\\"\" + str[i] +  \n",
    "                               \"\\\"\" + \" is correct\"); \n",
    "        else\n",
    "            System.out.println(\"\\\"\" + str[i] +  \n",
    "                               \"\\\"\" + \" is incorrect\"); \n",
    "    } \n",
    "} \n",
    "main(args);"
   ]
  },
  {
   "cell_type": "markdown",
   "metadata": {},
   "source": [
    "## **122. Length of the longest valid substring**\n",
    "https://www.geeksforgeeks.org/length-of-the-longest-valid-substring/"
   ]
  },
  {
   "cell_type": "code",
   "execution_count": 7,
   "metadata": {},
   "outputs": [],
   "source": [
    "/*\n",
    "Given a string consisting of opening and closing parenthesis, \n",
    "    find length of the longest valid parenthesis substring.\n",
    "*/"
   ]
  },
  {
   "cell_type": "code",
   "execution_count": 8,
   "metadata": {},
   "outputs": [],
   "source": [
    "/*\n",
    "Examples:\n",
    "\n",
    "Input : ((()\n",
    "Output : 2\n",
    "Explanation : ()\n",
    "\n",
    "Input: )()())\n",
    "Output : 4\n",
    "Explanation: ()() \n",
    "\n",
    "Input:  ()(()))))\n",
    "Output: 6\n",
    "Explanation:  ()(())\n",
    "*/"
   ]
  },
  {
   "cell_type": "code",
   "execution_count": 9,
   "metadata": {},
   "outputs": [],
   "source": [
    "/*\n",
    "A Simple Approach \n",
    "    is to find all the substrings of given string. \n",
    "    For every string, check if it is a valid string or not. \n",
    "    If valid and length is more than maximum length so far, then update maximum length. \n",
    "    We can check whether a substring is valid or not in linear time using a stack (See below link for details). \n",
    "    \n",
    "Time complexity of this solution is O(n^2).\n",
    "*/"
   ]
  },
  {
   "cell_type": "markdown",
   "metadata": {},
   "source": [
    "***https://www.geeksforgeeks.org/check-for-balanced-parentheses-in-an-expression/***"
   ]
  },
  {
   "cell_type": "code",
   "execution_count": 10,
   "metadata": {},
   "outputs": [],
   "source": [
    "/*\n",
    "An Efficient Solution \n",
    "    can solve this problem in O(n) time. \n",
    "    The idea is to store indexes of previous starting brackets in a stack. \n",
    "    The first element of stack is a special element that provides index before beginning of valid substring (base for next valid string).\n",
    "\n",
    "1) Create an empty stack and push -1 to it. The first element\n",
    "   of stack is used to provide base for next valid string. \n",
    "\n",
    "2) Initialize result as 0.\n",
    "\n",
    "3) If the character is '(' i.e. str[i] == '('), push index \n",
    "   'i' to the stack. \n",
    "   \n",
    "2) Else (if the character is ')')\n",
    "   a) Pop an item from stack (Most of the time an opening bracket)\n",
    "   b) If stack is not empty, then find length of current valid\n",
    "      substring by taking difference between current index and\n",
    "      top of the stack. If current length is more than result,\n",
    "      then update the result.\n",
    "   c) If stack is empty, push current index as base for next\n",
    "      valid substring.\n",
    "\n",
    "3) Return result.\n",
    "*/"
   ]
  },
  {
   "cell_type": "code",
   "execution_count": 11,
   "metadata": {},
   "outputs": [],
   "source": [
    "/*\n",
    "Explanation with example:\n",
    "\n",
    "Input: str = \"(()()\"\n",
    "\n",
    "Initialize result as 0 and stack with one item -1.\n",
    "\n",
    "For i = 0, str[0] = '(', we push 0 in stack\n",
    "\n",
    "For i = 1, str[1] = '(', we push 1 in stack\n",
    "\n",
    "For i = 2, str[2] = ')', currently stack has [-1, 0, 1], we pop\n",
    "from the stack and the stack now is [-1, 0] and length of current\n",
    "valid substring becomes 2 (we get this 2 by subtracting stack top \n",
    "from current index).\n",
    "Since current length is more than current result, we update result.\n",
    "\n",
    "For i = 3, str[3] = '(', we push again, stack is [-1, 0, 3].\n",
    "\n",
    "For i = 4, str[4] = ')', we pop from the stack, stack becomes \n",
    "[-1, 0] and length of current valid substring becomes 4 (we get \n",
    "this 4 by subtracting stack top from current index). \n",
    "Since current length is more than current result, we update result.\n",
    "*/"
   ]
  },
  {
   "cell_type": "code",
   "execution_count": 12,
   "metadata": {},
   "outputs": [],
   "source": [
    "// method to get length of the longest valid \n",
    "static int findMaxLen(String str) \n",
    "{ \n",
    "    int n = str.length(); \n",
    "\n",
    "    // Create a stack and push -1 as initial index to it. \n",
    "    Stack<Integer> stk = new Stack<>(); \n",
    "    stk.push(-1); \n",
    "\n",
    "    // Initialize result \n",
    "    int result = 0; \n",
    "\n",
    "    // Traverse all characters of given string \n",
    "    for (int i=0; i<n; i++) \n",
    "    { \n",
    "        // If opening bracket, push index of it \n",
    "        if (str.charAt(i) == '(') \n",
    "          stk.push(i); \n",
    "\n",
    "        else // If closing bracket, i.e.,str[i] = ')' \n",
    "        { \n",
    "            // Pop the previous opening bracket's index \n",
    "            stk.pop(); \n",
    "\n",
    "            // Check if this length formed with base of \n",
    "            // current valid substring is more than max  \n",
    "            // so far \n",
    "            if (!stk.empty()) \n",
    "                result = Math.max(result, i - stk.peek()); \n",
    "\n",
    "            // If stack is empty. push current index as  \n",
    "            // base for next valid substring (if any) \n",
    "            else stk.push(i); \n",
    "        } \n",
    "    } \n",
    "\n",
    "    return result; \n",
    "} "
   ]
  },
  {
   "cell_type": "code",
   "execution_count": 13,
   "metadata": {},
   "outputs": [
    {
     "name": "stdout",
     "output_type": "stream",
     "text": [
      "4\n",
      "6\n"
     ]
    }
   ],
   "source": [
    "// Driver method \n",
    "public static void main(String[] args)  \n",
    "{ \n",
    "    String str = \"((()()\"; \n",
    "    System.out.println(findMaxLen(str)); \n",
    "\n",
    "    str = \"()(()))))\"; \n",
    "    System.out.println(findMaxLen(str));   \n",
    "} \n",
    "main(args);"
   ]
  },
  {
   "cell_type": "code",
   "execution_count": 14,
   "metadata": {},
   "outputs": [],
   "source": [
    "/*\n",
    "Another Efficient Approach can solve the problem in O(n) time. \n",
    "The idea is to maintain an array which stores the length of longest valid substring ending at that index. \n",
    "We iterate through the array and return the maximum value.\n",
    "\n",
    "1) Create an array longest of length n (size of the input string) initialized to zero.\n",
    "   The array will store\n",
    "   the length of the longest valid substring ending at that index.\n",
    "\n",
    "2) Initialize result as 0.\n",
    "\n",
    "3) Iterate through the string from second character\n",
    "   a) If the character is '(' set longest[i]=0 as no valid sub-string will end with '('.\n",
    "   b) Else\n",
    "      i) if s[i-1] = '('\n",
    "            set longest[i] = longest[i-2] + 2\n",
    "      ii) else\n",
    "            set longest[i] = longest[i-1] + 2 + longest[i-longest[i-1]-2]\n",
    "\n",
    "4) In each iteration update result as the maximum of result and longest[i]\n",
    "\n",
    "5) Return result.\n",
    "*/"
   ]
  },
  {
   "cell_type": "markdown",
   "metadata": {},
   "source": [
    "***https://ideone.com/qcvtCd***"
   ]
  },
  {
   "cell_type": "markdown",
   "metadata": {},
   "source": [
    "***https://youtu.be/AIhyd8lMpIo***"
   ]
  },
  {
   "cell_type": "code",
   "execution_count": 15,
   "metadata": {},
   "outputs": [],
   "source": [
    "// Function to return the length of \n",
    "// the longest valid substring \n",
    "int solve(String s, int n) \n",
    "{ \n",
    "  \n",
    "    // Variables for left and right counter. \n",
    "    // maxlength to store the maximum length found so far \n",
    "    int left = 0, right = 0, maxlength = 0; \n",
    "  \n",
    "    // Iterating the string from left to right \n",
    "    for (int i = 0; i < n; i++) { \n",
    "        // If \"(\" is encountered, \n",
    "        // then left counter is incremented \n",
    "        // else right counter is incremented \n",
    "        if (s.charAt(i) == '(') \n",
    "            left++; \n",
    "        else\n",
    "            right++; \n",
    "  \n",
    "        // Whenever left is equal to right, it signifies \n",
    "        // that the subsequence is valid and \n",
    "        if (left == right) \n",
    "            maxlength = Math.max(maxlength, 2 * right); \n",
    "  \n",
    "        // Reseting the counters when the subsequence \n",
    "        // becomes invalid \n",
    "        else if (right > left) \n",
    "            left = right = 0; \n",
    "    } \n",
    "  \n",
    "    left = right = 0; \n",
    "  \n",
    "    // Iterating the string from right to left \n",
    "    for (int i = n - 1; i >= 0; i--) { \n",
    "  \n",
    "        // If \"(\" is encountered, \n",
    "        // then left counter is incremented \n",
    "        // else right counter is incremented \n",
    "        if (s.charAt(i) == '(') \n",
    "            left++; \n",
    "        else\n",
    "            right++; \n",
    "  \n",
    "        // Whenever left is equal to right, it signifies \n",
    "        // that the subsequence is valid and \n",
    "        if (left == right) \n",
    "            maxlength = Math.max(maxlength, 2 * left); \n",
    "  \n",
    "        // Reseting the counters when the subsequence \n",
    "        // becomes invalid \n",
    "        else if (left > right) \n",
    "            left = right = 0; \n",
    "    } \n",
    "    return maxlength; \n",
    "} "
   ]
  },
  {
   "cell_type": "code",
   "execution_count": 16,
   "metadata": {},
   "outputs": [
    {
     "name": "stdout",
     "output_type": "stream",
     "text": [
      "8\n"
     ]
    }
   ],
   "source": [
    "System.out.println(solve(\"((()()()()(((())\", 16));"
   ]
  },
  {
   "cell_type": "markdown",
   "metadata": {},
   "source": [
    "## **123. Print all ways to break a string in bracket form**\n",
    "https://www.geeksforgeeks.org/print-ways-break-string-bracket-form/"
   ]
  },
  {
   "cell_type": "code",
   "execution_count": 17,
   "metadata": {},
   "outputs": [],
   "source": [
    "/*\n",
    "Given a string, \n",
    "    find all ways to break the given string in bracket form. Enclose each substring within a parenthesis.\n",
    "*/"
   ]
  },
  {
   "cell_type": "code",
   "execution_count": 18,
   "metadata": {},
   "outputs": [],
   "source": [
    "/*\n",
    "Examples:\n",
    "\n",
    "Input : abc\n",
    "Output: (a)(b)(c)\n",
    "        (a)(bc)\n",
    "        (ab)(c)\n",
    "        (abc)\n",
    "\n",
    "\n",
    "Input : abcd\n",
    "Output : (a)(b)(c)(d)\n",
    "         (a)(b)(cd)\n",
    "         (a)(bc)(d)\n",
    "         (a)(bcd)\n",
    "         (ab)(c)(d)\n",
    "         (ab)(cd)\n",
    "         (abc)(d)\n",
    "         (abcd)\n",
    "*/"
   ]
  },
  {
   "cell_type": "code",
   "execution_count": 19,
   "metadata": {},
   "outputs": [],
   "source": [
    "/*\n",
    "The idea is to use recursion. \n",
    "We maintain two parameters – \n",
    "        index of the next character to be processed and \n",
    "        the output string so far. \n",
    "\n",
    "We start from index of next character to be processed, \n",
    "    append substring formed by unprocessed string to the output string and \n",
    "    recurse on remaining string until we process the whole string. \n",
    "    \n",
    "We use std::substr to form the output string. \n",
    "    substr(pos, n) returns a substring of length n that starts at position pos of current string.\n",
    "\n",
    "Below diagram shows recursion tree for input string “abc”. \n",
    "    Each node on the diagram shows processed string (marked by green) and unprocessed string (marked by red).\n",
    "*/"
   ]
  },
  {
   "cell_type": "markdown",
   "metadata": {},
   "source": [
    "<img src = \"https://www.geeksforgeeks.org/wp-content/uploads/image12.png\"/>"
   ]
  },
  {
   "cell_type": "code",
   "execution_count": 20,
   "metadata": {},
   "outputs": [],
   "source": [
    "// find all combinations of non-overlapping \n",
    "// substrings formed by input string str \n",
    "static void findCombinations(String str, int index, \n",
    "                             String out) \n",
    "{ \n",
    "    if (index == str.length()) \n",
    "        System.out.println(out); \n",
    "\n",
    "    for (int i = index; i < str.length(); i++) \n",
    "\n",
    "        // append substring formed by str[index, \n",
    "        // i] to output string \n",
    "        findCombinations(str, i + 1, out + \"(\" + str.substring(index, i+1) + \")\" ); \n",
    "}"
   ]
  },
  {
   "cell_type": "code",
   "execution_count": 21,
   "metadata": {},
   "outputs": [
    {
     "name": "stdout",
     "output_type": "stream",
     "text": [
      "(a)(b)(c)(d)\n",
      "(a)(b)(cd)\n",
      "(a)(bc)(d)\n",
      "(a)(bcd)\n",
      "(ab)(c)(d)\n",
      "(ab)(cd)\n",
      "(abc)(d)\n",
      "(abcd)\n"
     ]
    }
   ],
   "source": [
    "// driver program \n",
    "public static void main (String[] args)  \n",
    "{ \n",
    "    // input string \n",
    "    String str = \"abcd\"; \n",
    "    findCombinations(str, 0, \"\"); \n",
    "} \n",
    "main(args);"
   ]
  },
  {
   "cell_type": "markdown",
   "metadata": {
    "cell_style": "center"
   },
   "source": [
    "## **124. Print Concatenation of Zig-Zag String in ‘n’ Rows**\n",
    "https://www.geeksforgeeks.org/print-concatenation-of-zig-zag-string-form-in-n-rows/"
   ]
  },
  {
   "cell_type": "code",
   "execution_count": 22,
   "metadata": {},
   "outputs": [],
   "source": [
    "/*\n",
    "Given a string and number of rows ‘n’. \n",
    "Print the string formed by concatenating n rows when input string is written in row-wise Zig-Zag fashion.\n",
    "*/"
   ]
  },
  {
   "cell_type": "code",
   "execution_count": 23,
   "metadata": {},
   "outputs": [],
   "source": [
    "/*\n",
    "Examples:\n",
    "\n",
    "Input: str = \"ABCDEFGH\"\n",
    "       n = 2\n",
    "Output: \"ACEGBDFH\"\n",
    "Explanation: Let us write input string in Zig-Zag fashion\n",
    "             in 2 rows.\n",
    "A   C   E   G   \n",
    "  B   D   F   H\n",
    "Now concatenate the two rows and ignore spaces \n",
    "in every row. We get \"ACEGBDFH\"\n",
    "\n",
    "Input: str = \"GEEKSFORGEEKS\"\n",
    "       n = 3\n",
    "Output: GSGSEKFREKEOE\n",
    "Explanation: Let us write input string in Zig-Zag fashion\n",
    "             in 3 rows.\n",
    "G       S       G       S\n",
    "  E   K   F   R   E   K\n",
    "    E       O       E\n",
    "Now concatenate the two rows and ignore spaces \n",
    "in every row. We get \"GSGSEKFREKEOE\"\n",
    "*/"
   ]
  },
  {
   "cell_type": "code",
   "execution_count": 24,
   "metadata": {},
   "outputs": [],
   "source": [
    "/*\n",
    "Time Complexity: O(len) where len is length of input string.\n",
    "Auxiliary Space: O(len)\n",
    "\n",
    "The idea is to traverse the input string. \n",
    "Every character has to go to one of the rows. \n",
    "One by one add all characters to different rows. \n",
    "\n",
    "Below is algorithm:\n",
    "\n",
    "1) Create an array of n strings, arr[n]\n",
    "2) Initialize direction as \"down\" and row as 0. The \n",
    "   direction indicates whether we need to move up or \n",
    "   down in rows. \n",
    "3) Traverse the input string, do following for every\n",
    "   character.\n",
    "   a) Append current character to string of current row.\n",
    "   b) If row number is n-1, then change direction to 'up'\n",
    "   c) If row number is 0, then change direction to 'down'\n",
    "   d) If direction is 'down', do row++.  Else do row--.\n",
    "4) One by one print all strings of arr[]. \n",
    "*/"
   ]
  },
  {
   "cell_type": "code",
   "execution_count": 25,
   "metadata": {},
   "outputs": [],
   "source": [
    "// Prints concatenation  \n",
    "// of all rows of str's  \n",
    "// Zig-Zag fasion \n",
    "static void printZigZagConcat(String str, \n",
    "        int n)  \n",
    "{ \n",
    "\n",
    "    // Corner Case (Only one row) \n",
    "    if (n == 1)  \n",
    "    { \n",
    "        System.out.print(str); \n",
    "        return; \n",
    "    } \n",
    "    char[] str1 = str.toCharArray(); \n",
    "\n",
    "    // Find length of string \n",
    "    int len = str.length(); \n",
    "\n",
    "    // Create an array of \n",
    "    // strings for all n rows \n",
    "    String[] arr = new String[n]; \n",
    "    Arrays.fill(arr, \"\"); \n",
    "\n",
    "    // Initialize index for \n",
    "    // array of strings arr[] \n",
    "    int row = 0; \n",
    "    boolean down = true; // True if we are moving  \n",
    "    // down in rows, else false \n",
    "\n",
    "    // Travers through \n",
    "    // given string \n",
    "    for (int i = 0; i < len; ++i)  \n",
    "    { \n",
    "        // append current character \n",
    "        // to current row \n",
    "        arr[row] += (str1[i]); \n",
    "\n",
    "        // If last row is reached, \n",
    "        // change direction to 'up' \n",
    "        if (row == n - 1)  \n",
    "        { \n",
    "            down = false; \n",
    "        }  \n",
    "\n",
    "        // If 1st row is reached,  \n",
    "        // change direction to 'down' \n",
    "        else if (row == 0)  \n",
    "        { \n",
    "            down = true; \n",
    "        } \n",
    "\n",
    "        // If direction is down,  \n",
    "        // increment, else decrement \n",
    "        if (down) \n",
    "        { \n",
    "            row++; \n",
    "        }  \n",
    "        else \n",
    "        { \n",
    "            row--; \n",
    "        } \n",
    "    } \n",
    "\n",
    "    // Print concatenation \n",
    "    // of all rows \n",
    "    for (int i = 0; i < n; ++i)  \n",
    "    { \n",
    "        System.out.print(arr[i]); \n",
    "    } \n",
    "} "
   ]
  },
  {
   "cell_type": "code",
   "execution_count": 26,
   "metadata": {},
   "outputs": [
    {
     "name": "stdout",
     "output_type": "stream",
     "text": [
      "GSGSEKFREKEOE"
     ]
    }
   ],
   "source": [
    "// Driver Code \n",
    "public static void main(String[] args) \n",
    "{ \n",
    "    String str = \"GEEKSFORGEEKS\"; \n",
    "    int n = 3; \n",
    "    printZigZagConcat(str, n); \n",
    "} \n",
    "main(args);"
   ]
  },
  {
   "cell_type": "markdown",
   "metadata": {},
   "source": [
    "## **125. KMP Algorithm for Pattern Searching**\n",
    "https://www.geeksforgeeks.org/kmp-algorithm-for-pattern-searching/"
   ]
  },
  {
   "cell_type": "code",
   "execution_count": 27,
   "metadata": {},
   "outputs": [],
   "source": [
    "/*\n",
    "PLEASE CHECK QUESTION LINK FOR BETTER UNDERSTANDING\n",
    "*/"
   ]
  },
  {
   "cell_type": "markdown",
   "metadata": {},
   "source": [
    "## **126. Transform One String to Another using Minimum Number of Given Operation**\n",
    "https://www.geeksforgeeks.org/transform-one-string-to-another-using-minimum-number-of-given-operation/"
   ]
  },
  {
   "cell_type": "code",
   "execution_count": 28,
   "metadata": {},
   "outputs": [],
   "source": [
    "/*\n",
    "Given two strings A and B, the task is to convert A to B if possible. \n",
    "The only operation allowed is to put any character from A and insert it at front. \n",
    "\n",
    "Find if it’s possible to convert the string. If yes, then output minimum no. of operations required for transformation.\n",
    "*/"
   ]
  },
  {
   "cell_type": "code",
   "execution_count": 29,
   "metadata": {},
   "outputs": [],
   "source": [
    "/*\n",
    "Examples:\n",
    "\n",
    "Input:  A = \"ABD\", B = \"BAD\"\n",
    "Output: 1\n",
    "Explanation: Pick B and insert it at front.\n",
    "\n",
    "Input:  A = \"EACBD\", B = \"EABCD\"\n",
    "Output: 3\n",
    "Explanation: Pick B and insert at front, EACBD => BEACD\n",
    "             Pick A and insert at front, BEACD => ABECD\n",
    "             Pick E and insert at front, ABECD => EABCD\n",
    "*/"
   ]
  },
  {
   "cell_type": "code",
   "execution_count": 30,
   "metadata": {},
   "outputs": [],
   "source": [
    "/*\n",
    "Checking whether a string can be transformed to another is simple. \n",
    "We need to check whether both strings have same number of characters and same set of characters. \n",
    "This can be easily done by creating a count array for first string \n",
    "    and checking if second string has same count of every character.\n",
    "\n",
    "How to find minimum number of operations when we are sure that we can transform A to B? \n",
    "    The idea is to start matching from last characters of both strings. \n",
    "    If last characters match, \n",
    "        then our task reduces to n-1 characters. \n",
    "    If last characters don’t match, \n",
    "        then find the position of B’s mismatching character in A. \n",
    "    \n",
    "    The difference between two positions indicates that \n",
    "        these many characters of A must be moved before current character of A.\n",
    "*/"
   ]
  },
  {
   "cell_type": "code",
   "execution_count": 31,
   "metadata": {},
   "outputs": [],
   "source": [
    "/*\n",
    "Below is complete algorithm.\n",
    "\n",
    "1) Find if A can be transformed to B or not by first creating a count array for all characters of A, then checking with B if B has same count for every character.\n",
    "2) Initialize result as 0.\n",
    "2) Start traversing from end of both strings.\n",
    "    a) If current characters of A and B match, i.e., A[i] == B[j]\n",
    "            then do i = i-1 and j = j-1\n",
    "    b) If current characters don’t match, \n",
    "            then search B[j] in remaining A. \n",
    "\n",
    "While searching, keep incrementing result as these characters must be moved ahead for A to B transformation.\n",
    "*/"
   ]
  },
  {
   "cell_type": "code",
   "execution_count": 32,
   "metadata": {},
   "outputs": [],
   "source": [
    "// Function to find minimum number of \n",
    "// operations required to transform \n",
    "// A to B. \n",
    "public static int minOps(String A, String B) \n",
    "{ \n",
    "\n",
    "    // This parts checks whether conversion is \n",
    "    // possible or not \n",
    "    if(A.length() != B.length()) \n",
    "        return -1; \n",
    "\n",
    "    int i, j, res = 0; \n",
    "    int count [] = new int [256]; \n",
    "\n",
    "    // count characters in A \n",
    "\n",
    "    // subtract count for every character in B \n",
    "    for(i = 0; i < A.length(); i++) \n",
    "    { \n",
    "        count[A.charAt(i)]++; \n",
    "        count[B.charAt(i)]--; \n",
    "    } \n",
    "\n",
    "    // Check if all counts become 0 \n",
    "    for(i = 0; i < 256; i++) \n",
    "        if(count[i] != 0) \n",
    "            return -1; \n",
    "\n",
    "    i = A.length() - 1; \n",
    "    j = B.length() - 1; \n",
    "\n",
    "    while(i >= 0) \n",
    "    { \n",
    "        // If there is a mismatch, then  \n",
    "        // keep incrementing result 'res' \n",
    "        // until B[j] is not found in A[0..i] \n",
    "        if(A.charAt(i) != B.charAt(j)) \n",
    "            res++; \n",
    "        else\n",
    "            j--; \n",
    "        i--;          \n",
    "    } \n",
    "    return res;      \n",
    "} "
   ]
  },
  {
   "cell_type": "code",
   "execution_count": 33,
   "metadata": {},
   "outputs": [
    {
     "name": "stdout",
     "output_type": "stream",
     "text": [
      "Minimum number of operations required is 3\n"
     ]
    }
   ],
   "source": [
    "// Driver code \n",
    "public static void main(String[] args)  \n",
    "{ \n",
    "    String A = \"EACBD\"; \n",
    "    String B = \"EABCD\";  \n",
    "\n",
    "    System.out.println(\"Minimum number of \"\n",
    "                + \"operations required is \" \n",
    "                             + minOps(A, B)); \n",
    "} \n",
    "main(args);"
   ]
  },
  {
   "cell_type": "code",
   "execution_count": 34,
   "metadata": {},
   "outputs": [],
   "source": [
    "/*\n",
    "Time Complexity: O(n), \n",
    "please note that i is always decremented (in while loop and in if), and the for loop starts from n-1 and runs while i >= 0.\n",
    "*/"
   ]
  },
  {
   "cell_type": "markdown",
   "metadata": {},
   "source": [
    "## **127. Repeated subsequence of length 2 or more**\n",
    "https://www.geeksforgeeks.org/repeated-subsequence-length-2/"
   ]
  },
  {
   "cell_type": "code",
   "execution_count": 35,
   "metadata": {},
   "outputs": [],
   "source": [
    "/*\n",
    "Given a string, \n",
    "\n",
    "find if there is any subsequence of length 2 or more that repeats itself \n",
    "    such that the two subsequences doesn’t have the same character at the same position, \n",
    "    i.e., any 0’th or 1st character in the two subsequences shouldn’t have the same index in the original string.\n",
    "*/"
   ]
  },
  {
   "cell_type": "code",
   "execution_count": 36,
   "metadata": {},
   "outputs": [],
   "source": [
    "/*\n",
    "Example:\n",
    "\n",
    "Input: ABCABD\n",
    "Output: Repeated Subsequence Exists (A B is repeated) \n",
    "\n",
    "Input: ABBB\n",
    "Output: Repeated Subsequence Exists (B B is repeated)\n",
    "\n",
    "Input: AAB\n",
    "Output: Repeated Subsequence Doesn't Exist (Note that \n",
    "A B cannot be considered as repeating because B is at\n",
    "same position in two subsequences).\n",
    "\n",
    "Input: AABBC\n",
    "Output: Repeated Subsequence Exists (A B is repeated)\n",
    "\n",
    "Input: ABCDACB\n",
    "Output: Repeated Subsequence Exists (A B is repeated)\n",
    "\n",
    "Input: ABCD\n",
    "Output: Repeated Subsequence Doesn't Exist\n",
    "*/"
   ]
  },
  {
   "cell_type": "code",
   "execution_count": 37,
   "metadata": {},
   "outputs": [],
   "source": [
    "/*\n",
    "The problem is classic variation of longest common subsequence problem. \n",
    "Dynamic programming solution takes O(n^2) time and space.\n",
    "*/"
   ]
  },
  {
   "cell_type": "markdown",
   "metadata": {},
   "source": [
    "***https://www.geeksforgeeks.org/longest-repeating-subsequence/***"
   ]
  },
  {
   "cell_type": "code",
   "execution_count": 38,
   "metadata": {},
   "outputs": [],
   "source": [
    "/*\n",
    "In this post, O(n) time and space approach is discussed.\n",
    "\n",
    "The idea is to remove all the non-repeated characters from the string and check if the resultant string is palindrome or not. \n",
    "If the remaining string is palindrome \n",
    "    then it is not repeated, \n",
    "else \n",
    "    there is a repetition. \n",
    "\n",
    "One special case we need to handle for inputs like “AAA”, which are palindrome but their repeated subsequence exists. \n",
    "Repeated subsequence exists for a palindrome string \n",
    "    if it is of odd length and its middle letter is same as left(or right) character.\n",
    "*/"
   ]
  },
  {
   "cell_type": "code",
   "execution_count": 39,
   "metadata": {},
   "outputs": [],
   "source": [
    "static int MAX_CHAR = 256; \n",
    "\n",
    "// A function to check  \n",
    "// if a string str is palindrome \n",
    "public static boolean isPalindrome(String str,  \n",
    "                                   int l, int h)  \n",
    "{ \n",
    "\n",
    "    // l and h are leftmost and rightmost corners of str \n",
    "    // Keep comparing characters while they are same \n",
    "    while(h > l) \n",
    "        if (str.charAt(l++) != str.charAt(h--)) \n",
    "            return false; \n",
    "\n",
    "    return true; \n",
    "} "
   ]
  },
  {
   "cell_type": "code",
   "execution_count": 40,
   "metadata": {},
   "outputs": [],
   "source": [
    "// The main function that checks if repeated \n",
    "// subsequence exists in the string \n",
    "public static boolean check(String str) \n",
    "{  \n",
    "\n",
    "    // Find length of input string  \n",
    "    int n = str.length();  \n",
    "\n",
    "    // Create an array to store all characters  \n",
    "    // and their frequencies in str[]  \n",
    "    int[] freq = new int[MAX_CHAR];  \n",
    "\n",
    "    // Traverse the input string and store frequencies  \n",
    "    // of all characters in freq[] array.  \n",
    "    for (int i = 0; i < n; i++)  \n",
    "    {  \n",
    "        freq[str.charAt(i)]++;  \n",
    "\n",
    "        // If the character count is more than 2  \n",
    "        // we found a repetition  \n",
    "        if (freq[str.charAt(i)] > 2)  \n",
    "            return true;  \n",
    "    }  \n",
    "\n",
    "    // In-place remove non-repeating characters  \n",
    "    // from the string  \n",
    "    int k = 0;  \n",
    "    for (int i = 0; i < n; i++)  \n",
    "        if (freq[str.charAt(i)] > 1)  \n",
    "            str.replace(str.charAt(k++),  \n",
    "                        str.charAt(i));  \n",
    "    str.replace(str.charAt(k), '\\0'); \n",
    "\n",
    "    // check if the resultant string is palindrome  \n",
    "    if (isPalindrome(str, 0, k - 1))  \n",
    "    {  \n",
    "\n",
    "        // special case - if length is odd  \n",
    "        // return true if the middle characer is  \n",
    "        // same as previous one  \n",
    "        if ((k & 1) == 1)  \n",
    "        { \n",
    "\n",
    "            // It is checked so that  \n",
    "            // StringIndexOutOfBounds can be avoided \n",
    "            if (k / 2 >= 1) \n",
    "                return (str.charAt(k / 2) ==  \n",
    "                        str.charAt(k / 2 - 1)); \n",
    "        } \n",
    "\n",
    "        // return false if string is a palindrome  \n",
    "        return false;  \n",
    "    }  \n",
    "\n",
    "    // return true if string is not a palindrome  \n",
    "    return true;  \n",
    "} "
   ]
  },
  {
   "cell_type": "code",
   "execution_count": 41,
   "metadata": {},
   "outputs": [
    {
     "name": "stdout",
     "output_type": "stream",
     "text": [
      "Repeated Subsequence Exists\n"
     ]
    }
   ],
   "source": [
    "// Driver Code \n",
    "public static void main(String[] args) \n",
    "{ \n",
    "    String str = \"ABCABD\"; \n",
    "\n",
    "    if (check(str)) \n",
    "        System.out.println(\"Repeated Subsequence Exists\"); \n",
    "    else\n",
    "        System.out.println(\"Repeated Subsequence\" +  \n",
    "                           \" Doesn't Exists\");  \n",
    "} \n",
    "main(args);"
   ]
  },
  {
   "cell_type": "markdown",
   "metadata": {},
   "source": [
    "## **128. Check if two given strings are isomorphic to each other**\n",
    "https://www.geeksforgeeks.org/check-if-two-given-strings-are-isomorphic-to-each-other/"
   ]
  },
  {
   "cell_type": "code",
   "execution_count": 42,
   "metadata": {},
   "outputs": [],
   "source": [
    "/*\n",
    "Two strings str1 and str2 are called isomorphic if there is a one to one mapping possible for every character of str1 to every character of str2. \n",
    "And all occurrences of every character in ‘str1’ map to same character in ‘str2’\n",
    "*/"
   ]
  },
  {
   "cell_type": "code",
   "execution_count": 43,
   "metadata": {},
   "outputs": [],
   "source": [
    "/*\n",
    "Examples:\n",
    "\n",
    "Input:  str1 = \"aab\", str2 = \"xxy\"\n",
    "Output: True\n",
    "'a' is mapped to 'x' and 'b' is mapped to 'y'.\n",
    "\n",
    "Input:  str1 = \"aab\", str2 = \"xyz\"\n",
    "Output: False\n",
    "One occurrence of 'a' in str1 has 'x' in str2 and \n",
    "other occurrence of 'a' has 'y'.\n",
    "*/"
   ]
  },
  {
   "cell_type": "code",
   "execution_count": 44,
   "metadata": {},
   "outputs": [],
   "source": [
    "/*\n",
    "A Simple Solution \n",
    "    is to consider every character of ‘str1’ and check if all occurrences of it map to same character in ‘str2’. \n",
    "    \n",
    "    Time complexity of this solution is O(n*n).\n",
    "*/"
   ]
  },
  {
   "cell_type": "code",
   "execution_count": 45,
   "metadata": {},
   "outputs": [],
   "source": [
    "/*\n",
    "An Efficient Solution \n",
    "    can solve this problem in O(n) time. \n",
    "The idea is to create an array to store mappings of processed characters.\n",
    "\n",
    "1) If lengths of str1 and str2 are not same, return false.\n",
    "2) Do following for every character in str1 and str2\n",
    "   a) If this character is seen first time in str1, \n",
    "      then current of str2 must have not appeared before.\n",
    "      (i) If current character of str2 is seen, return false.\n",
    "          Mark current character of str2 as visited.\n",
    "      (ii) Store mapping of current characters.\n",
    "   b) Else check if previous occurrence of str1[i] mapped\n",
    "      to same character.\n",
    "*/"
   ]
  },
  {
   "cell_type": "code",
   "execution_count": 46,
   "metadata": {},
   "outputs": [],
   "source": [
    "static int size = 256; \n",
    "\n",
    "// Function returns true if str1 and str2 are ismorphic \n",
    "static boolean areIsomorphic(String str1, String str2) \n",
    "{ \n",
    "    int m = str1.length(); \n",
    "    int n = str2.length(); \n",
    "\n",
    "    // Length of both strings must be same for one to one \n",
    "    // corresponance \n",
    "    if(m != n) \n",
    "        return false; \n",
    "\n",
    "    // To mark visited characters in str2 \n",
    "    Boolean[] marked = new Boolean[size]; \n",
    "    Arrays.fill(marked, Boolean.FALSE); \n",
    "\n",
    "    // To store mapping of every character from str1 to \n",
    "    // that of str2. Initialize all entries of map as -1. \n",
    "    int[] map = new int[size]; \n",
    "    Arrays.fill(map, -1); \n",
    "\n",
    "    // Process all characters one by on \n",
    "    for (int i = 0; i < n; i++) \n",
    "    { \n",
    "        // If current character of str1 is seen first \n",
    "        // time in it. \n",
    "        if (map[str1.charAt(i)] == -1) \n",
    "        { \n",
    "            // If current character of str2 is already \n",
    "            // seen, one to one mapping not possible \n",
    "            if (marked[str2.charAt(i)] == true) \n",
    "                return false; \n",
    "\n",
    "            // Mark current character of str2 as visited \n",
    "            marked[str2.charAt(i)] = true; \n",
    "\n",
    "            // Store mapping of current characters \n",
    "            map[str1.charAt(i)] = str2.charAt(i); \n",
    "        } \n",
    "\n",
    "        // If this is not first appearance of current \n",
    "        // character in str1, then check if previous \n",
    "        // appearance mapped to same character of str2 \n",
    "        else if (map[str1.charAt(i)] != str2.charAt(i)) \n",
    "        return false; \n",
    "    } \n",
    "\n",
    "    return true; \n",
    "} "
   ]
  },
  {
   "cell_type": "code",
   "execution_count": 47,
   "metadata": {},
   "outputs": [
    {
     "name": "stdout",
     "output_type": "stream",
     "text": [
      "true\n",
      "false\n"
     ]
    }
   ],
   "source": [
    "// driver program \n",
    "public static void main (String[] args)  \n",
    "{ \n",
    "    boolean res = areIsomorphic(\"aab\", \"xxy\"); \n",
    "    System.out.println(res); \n",
    "\n",
    "    res = areIsomorphic(\"aab\", \"xyz\"); \n",
    "    System.out.println(res); \n",
    "} \n",
    "main(args);"
   ]
  },
  {
   "cell_type": "markdown",
   "metadata": {},
   "source": [
    "## **129. Find if a given string can be represented from a substring by iterating the substring “n” times**\n",
    "https://www.geeksforgeeks.org/find-given-string-can-represented-substring-iterating-substring-n-times/"
   ]
  },
  {
   "cell_type": "code",
   "execution_count": 48,
   "metadata": {},
   "outputs": [],
   "source": [
    "/*\n",
    "Given a string ‘str’, \n",
    "    check if it can be constructed by taking a substring of it and appending multiple copies of the substring together.\n",
    "*/"
   ]
  },
  {
   "cell_type": "code",
   "execution_count": 49,
   "metadata": {},
   "outputs": [],
   "source": [
    "/*\n",
    "Examples:\n",
    "\n",
    "Input: str = \"abcabcabc\"\n",
    "Output: true\n",
    "The given string is 3 times repetition of \"abc\"\n",
    "\n",
    "Input: str = \"abadabad\"\n",
    "Output: true\n",
    "The given string is 2 times repetition of \"abad\"\n",
    "\n",
    "Input: str = \"aabaabaabaab\"\n",
    "Output: true\n",
    "The given string is 4 times repetition of \"aab\"\n",
    "\n",
    "Input: str = \"abcdabc\"\n",
    "Output: false\n",
    "*/"
   ]
  },
  {
   "cell_type": "code",
   "execution_count": 50,
   "metadata": {},
   "outputs": [],
   "source": [
    "/*\n",
    "There can be many solutions to this problem. \n",
    "The challenging part is to solve the problem in O(n) time. \n",
    "\n",
    "Below is a O(n) algorithm.\n",
    "Let the given string be ‘str’ and length of given string be ‘n’.\n",
    "\n",
    "1) Find length of the longest proper prefix of ‘str’ which is also a suffix. \n",
    "    Let the length of the longest proper prefix suffix be ‘len’. \n",
    "        This can be computed in O(n) time using pre-processing step of KMP string matching algorithm.\n",
    "\n",
    "2) If value of ‘n – len’ divides n (or ‘n % (n-len)’ is 0), \n",
    "        then return true, \n",
    "    else \n",
    "        return false.\n",
    "\n",
    "    In case of ‘true’ , \n",
    "        the substring ‘str[0..n-len-1]’ is the substring that repeats n%(n-len) times.\n",
    "*/"
   ]
  },
  {
   "cell_type": "code",
   "execution_count": 51,
   "metadata": {},
   "outputs": [],
   "source": [
    "/*\n",
    "Let us take few examples.\n",
    "\n",
    "Input: str = “ABCDABCD”, n = 8 (Number of characters in ‘str’)\n",
    "The value of len is 4 (“ABCD” is the longest substring which is both prefix and suffix)\n",
    "Since (n-len) divides n, the answer is true.\n",
    "\n",
    "Input: str = “ABCDABC”, n = 7 (Number of characters in ‘str’)\n",
    "The value of len is 3 (“ABC” is the longest substring which is both prefix and suffix)\n",
    "Since (n-len) doesn’t divides n, the answer is false.\n",
    "\n",
    "Input: str = “ABCABCABCABCABC”, n = 15 (Number of characters in ‘str’)\n",
    "The value of len is 12 (“ABCABCABCABC” is the longest substring which is both prefix and suffix)\n",
    "Since (n-len) divides n, the answer is true.\n",
    "*/"
   ]
  },
  {
   "cell_type": "code",
   "execution_count": 52,
   "metadata": {},
   "outputs": [],
   "source": [
    "/*\n",
    "How does this work?\n",
    "\n",
    "    length of longest proper prefix-suffix (or len) is always between 0 to n-1. \n",
    "    If len is n-1, \n",
    "        then all characters in string are same. \n",
    "    \n",
    "For example len is 3 for “AAAA”. \n",
    "    If len is n-2 and n is even, \n",
    "        then two characters in string repeat n/2 times. \n",
    "\n",
    "For example “ABABABAB”, length of lps is 6. \n",
    "    The reason is if the first n-2 characters are same as last n-2 character, \n",
    "        the starting from the first pair, every pair of characters is identical to the next pair. \n",
    "\n",
    "The following diagram demonstrates same for substring of length 4.\n",
    "*/"
   ]
  },
  {
   "cell_type": "markdown",
   "metadata": {},
   "source": [
    "<img src = \"https://www.geeksforgeeks.org/wp-content/uploads/isRepeat.png\"/>"
   ]
  },
  {
   "cell_type": "code",
   "execution_count": 53,
   "metadata": {},
   "outputs": [],
   "source": [
    "// A utility function to fill lps[] or compute  \n",
    "// prefix funcrion used in KMP string matching  \n",
    "// algorithm. Refer \n",
    "// https://www.geeksforgeeks.org/archives/11902  \n",
    "// for details \n",
    "static void computeLPSArray(String str, int M,  \n",
    "                                     int lps[]) \n",
    "{    \n",
    "    // lenght of the previous  \n",
    "    // longest prefix suffix \n",
    "    int len = 0;  \n",
    "      \n",
    "    int i; \n",
    "  \n",
    "    lps[0] = 0; // lps[0] is always 0 \n",
    "    i = 1; \n",
    "  \n",
    "    // the loop calculates lps[i]  \n",
    "    // for i = 1 to M-1 \n",
    "    while (i < M) \n",
    "    {\n",
    "        if (str.charAt(i) == str.charAt(len)) \n",
    "        { \n",
    "            len++; \n",
    "            lps[i] = len; \n",
    "            i++; \n",
    "        } \n",
    "        else // (pat[i] != pat[len]) \n",
    "        { \n",
    "            if (len != 0) \n",
    "            { \n",
    "                // This is tricky. Consider the  \n",
    "                // example AAACAAAA and i = 7. \n",
    "                len = lps[len-1]; \n",
    "  \n",
    "                // Also, note that we do  \n",
    "                // not increment i here \n",
    "            } \n",
    "            else // if (len == 0) \n",
    "            { \n",
    "                lps[i] = 0; \n",
    "                i++; \n",
    "            } \n",
    "        } \n",
    "    } \n",
    "} "
   ]
  },
  {
   "cell_type": "code",
   "execution_count": 54,
   "metadata": {},
   "outputs": [],
   "source": [
    "// Returns true if str is repetition of  \n",
    "// one of its substrings else return false. \n",
    "static boolean isRepeat(String str) \n",
    "{ \n",
    "    // Find length of string and create  \n",
    "    // an array to store lps values used in KMP \n",
    "    int n = str.length(); \n",
    "    int lps[] = new int[n]; \n",
    "  \n",
    "    // Preprocess the pattern (calculate lps[] array) \n",
    "    computeLPSArray(str, n, lps); \n",
    "  \n",
    "    // Find length of longest suffix  \n",
    "    // which is also prefix of str. \n",
    "    int len = lps[n-1]; \n",
    "  \n",
    "    // If there exist a suffix which is also  \n",
    "    // prefix AND Length of the remaining substring \n",
    "    // divides total length, then str[0..n-len-1]  \n",
    "    // is the substring that repeats n/(n-len)   \n",
    "    // times (Readers can print substring and  \n",
    "    // value of n/(n-len) for more clarity. \n",
    "    return (len > 0 && n%(n-len) == 0)? true: false; \n",
    "} "
   ]
  },
  {
   "cell_type": "code",
   "execution_count": 55,
   "metadata": {},
   "outputs": [
    {
     "name": "stdout",
     "output_type": "stream",
     "text": [
      "True\n",
      "True\n",
      "True\n",
      "False\n",
      "True\n",
      "True\n",
      "False\n"
     ]
    }
   ],
   "source": [
    "public static void main(String[] args) \n",
    "{ \n",
    "    String txt[] = {\"ABCABC\", \"ABABAB\", \"ABCDABCD\",  \n",
    "                    \"GEEKSFORGEEKS\", \"GEEKGEEK\",  \n",
    "                    \"AAAACAAAAC\", \"ABCDABC\"}; \n",
    "    int n = txt.length; \n",
    "    for (int i = 0; i < n; i++) { \n",
    "        if(isRepeat(txt[i]) == true) \n",
    "            System.out.println(\"True\"); \n",
    "        else\n",
    "            System.out.println(\"False\"); \n",
    "    } \n",
    "}\n",
    "main(args);"
   ]
  },
  {
   "cell_type": "code",
   "execution_count": 56,
   "metadata": {},
   "outputs": [],
   "source": [
    "/*\n",
    "Time Complexity: \n",
    "Time complexity of the above solution is O(n) \n",
    "    as it uses KMP preprocessing algorithm which is linear time algorithm.\n",
    "*/"
   ]
  },
  {
   "cell_type": "markdown",
   "metadata": {},
   "source": [
    "## **130. Recursively print all sentences that can be formed from list of word lists**\n",
    "https://www.geeksforgeeks.org/recursively-print-all-sentences-that-can-be-formed-from-list-of-word-lists/"
   ]
  },
  {
   "cell_type": "code",
   "execution_count": 57,
   "metadata": {},
   "outputs": [],
   "source": [
    "/*\n",
    "Given a list of word lists How to print all sentences possible taking one word from a list at a time via recursion?\n",
    "*/"
   ]
  },
  {
   "cell_type": "code",
   "execution_count": 58,
   "metadata": {},
   "outputs": [],
   "source": [
    "/*\n",
    "Example:\n",
    "\n",
    "Input: {{\"you\", \"we\"},\n",
    "        {\"have\", \"are\"},\n",
    "        {\"sleep\", \"eat\", \"drink\"}}\n",
    "\n",
    "Output:\n",
    "  you have sleep\n",
    "  you have eat\n",
    "  you have drink\n",
    "  you are sleep\n",
    "  you are eat\n",
    "  you are drink\n",
    "  we have sleep\n",
    "  we have eat\n",
    "  we have drink\n",
    "  we are sleep\n",
    "  we are eat\n",
    "  we are drink \n",
    "*/"
   ]
  },
  {
   "cell_type": "code",
   "execution_count": 59,
   "metadata": {},
   "outputs": [],
   "source": [
    "/*\n",
    "The idea is based on simple depth first traversal. \n",
    "We start from every word of first list as first word of an output sentence, \n",
    "then recur for the remaining lists.\n",
    "*/"
   ]
  },
  {
   "cell_type": "markdown",
   "metadata": {},
   "source": [
    "***https://ideone.com/T8syoO***"
   ]
  },
  {
   "cell_type": "markdown",
   "metadata": {},
   "source": [
    "## **131. Rabin-Karp Algorithm for Pattern Searching**\n",
    "https://www.geeksforgeeks.org/rabin-karp-algorithm-for-pattern-searching/"
   ]
  },
  {
   "cell_type": "code",
   "execution_count": 60,
   "metadata": {},
   "outputs": [],
   "source": [
    "/*\n",
    "PLEASE CHECK QUESTION LINK FOR BETTER UNDERSTANDING\n",
    "*/"
   ]
  },
  {
   "cell_type": "markdown",
   "metadata": {},
   "source": [
    "## **132. Zigzag (or diagonal) traversal of Matrix**\n",
    "https://www.geeksforgeeks.org/zigzag-or-diagonal-traversal-of-matrix/"
   ]
  },
  {
   "cell_type": "code",
   "execution_count": 61,
   "metadata": {},
   "outputs": [],
   "source": [
    "/*\n",
    "Given a 2D matrix, print all elements of the given matrix in diagonal order. \n",
    "For example, consider the following 5 X 4 input matrix.\n",
    "    1     2     3     4\n",
    "    5     6     7     8\n",
    "    9    10    11    12\n",
    "   13    14    15    16\n",
    "   17    18    19    20\n",
    "   \n",
    "Diagonal printing of the above matrix is\n",
    "\n",
    "    1\n",
    "    5     2\n",
    "    9     6     3\n",
    "   13    10     7     4\n",
    "   17    14    11     8\n",
    "   18    15    12\n",
    "   19    16\n",
    "   20\n",
    "*/"
   ]
  },
  {
   "cell_type": "markdown",
   "metadata": {},
   "source": [
    "<img src = \"https://media.geeksforgeeks.org/wp-content/uploads/zigzag-1.png\"/>"
   ]
  },
  {
   "cell_type": "code",
   "execution_count": 62,
   "metadata": {},
   "outputs": [],
   "source": [
    "/*\n",
    "Following is the code for diagonal printing.\n",
    "\n",
    "The diagonal printing of a given matrix “matrix[ROW][COL]” always has “ROW + COL – 1” lines in output.\n",
    "*/"
   ]
  },
  {
   "cell_type": "code",
   "execution_count": 63,
   "metadata": {},
   "outputs": [],
   "source": [
    "static final int ROW = 5; \n",
    "static final int COL = 4; \n",
    "\n",
    "// A utility function to find min  \n",
    "// of two integers \n",
    "static int min(int a, int b) { \n",
    "    return (a < b) ? a : b; \n",
    "} \n",
    "\n",
    "// A utility function to find min \n",
    "// of three integers \n",
    "static int min(int a, int b, int c) { \n",
    "    return min(min(a, b), c); \n",
    "} \n",
    "\n",
    "// A utility function to find max  \n",
    "// of two integers \n",
    "static int max(int a, int b) {  \n",
    "    return (a > b) ? a : b; \n",
    "} "
   ]
  },
  {
   "cell_type": "code",
   "execution_count": 64,
   "metadata": {},
   "outputs": [],
   "source": [
    "// The main function that prints given \n",
    "// matrix in diagonal order \n",
    "static void diagonalOrder(int matrix[][]) { \n",
    "  \n",
    "    // There will be ROW+COL-1 lines in the output \n",
    "    for (int line = 1; line <= (ROW + COL - 1); line++) { \n",
    "  \n",
    "    // Get column index of the first element in this \n",
    "    // line of output.The index is 0 for first ROW \n",
    "    // lines and line - ROW for remaining lines \n",
    "    int start_col = max(0, line - ROW); \n",
    "  \n",
    "    // Get count of elements in this line. The count \n",
    "    // of elements is equal to minimum of line number, \n",
    "    // COL-start_col and ROW  \n",
    "    int count = min(line, (COL - start_col), ROW); \n",
    "  \n",
    "    // Print elements of this line  \n",
    "    for (int j = 0; j < count; j++) \n",
    "        System.out.print(matrix[min(ROW, line) - j - 1] \n",
    "                            [start_col + j] + \" \"); \n",
    "  \n",
    "    // Print elements of next diagonal on next line \n",
    "    System.out.println(); \n",
    "    } \n",
    "} "
   ]
  },
  {
   "cell_type": "code",
   "execution_count": 65,
   "metadata": {},
   "outputs": [],
   "source": [
    "// Utility function to print a matrix \n",
    "static void printMatrix(int matrix[][]) { \n",
    "    for (int i = 0; i < ROW; i++) { \n",
    "    for (int j = 0; j < COL; j++) \n",
    "        System.out.print(matrix[i][j] + \" \"); \n",
    "    System.out.print(\"\\n\"); \n",
    "    } \n",
    "} "
   ]
  },
  {
   "cell_type": "code",
   "execution_count": 66,
   "metadata": {},
   "outputs": [
    {
     "name": "stdout",
     "output_type": "stream",
     "text": [
      "Given matrix is \n",
      "1 2 3 4 \n",
      "5 6 7 8 \n",
      "9 10 11 12 \n",
      "13 14 15 16 \n",
      "17 18 19 20 \n",
      "\n",
      "Diagonal printing of matrix is \n"
     ]
    },
    {
     "ename": "UnresolvedReferenceException",
     "evalue": "Attempt to use definition snippet with unresolved references in MethodSnippet:min/(int,int,int)int- \n\n// A utility function to find min \n// of three integers \nstatic int min(int a, int b, int c) { \n    return min(min(a, b), c); \n}",
     "output_type": "error",
     "traceback": []
    }
   ],
   "source": [
    "// Driver code \n",
    "public static void main(String[] args) { \n",
    "    int M[][] = { \n",
    "        {1, 2, 3, 4},     {5, 6, 7, 8},     {9, 10, 11, 12}, \n",
    "        {13, 14, 15, 16}, {17, 18, 19, 20}, \n",
    "    }; \n",
    "    System.out.print(\"Given matrix is \\n\"); \n",
    "    printMatrix(M); \n",
    "  \n",
    "    System.out.print(\"\\nDiagonal printing of matrix is \\n\"); \n",
    "    diagonalOrder(M); \n",
    "} \n",
    "main(args);"
   ]
  },
  {
   "cell_type": "code",
   "execution_count": 67,
   "metadata": {},
   "outputs": [
    {
     "name": "stdout",
     "output_type": "stream",
     "text": [
      "Given matrix is \n",
      "1 2 3 4 \n",
      "5 6 7 8 \n",
      "9 10 11 12 \n",
      "13 14 15 16 \n",
      "17 18 19 20 \n",
      "\n",
      "Diagonal printing of matrix is \n",
      "1 \n",
      "5 2 \n",
      "9 6 3 \n",
      "13 10 7 4 \n",
      "17 14 11 8 \n",
      "18 15 12 \n",
      "19 16 \n",
      "20 \n"
     ]
    }
   ],
   "source": [
    "class GFG { \n",
    "    static final int ROW = 5; \n",
    "    static final int COL = 4; \n",
    "\n",
    "    // A utility function to find min \n",
    "    // of two integers \n",
    "    static int min(int a, int b) { \n",
    "        return (a < b) ? a : b; \n",
    "    } \n",
    "\n",
    "    // A utility function to find min \n",
    "    // of three integers \n",
    "    static int min(int a, int b, int c) { \n",
    "        return min(min(a, b), c); \n",
    "    } \n",
    "\n",
    "    // A utility function to find max \n",
    "    // of two integers \n",
    "    static int max(int a, int b) { \n",
    "        return (a > b) ? a : b; \n",
    "    } \n",
    "\n",
    "    // The main function that prints given \n",
    "    // matrix in diagonal order \n",
    "    static void diagonalOrder(int matrix[][]) { \n",
    "    // There will be ROW+COL-1 lines in the output \n",
    "        for (int line = 1; line <= (ROW + COL - 1); line++) { \n",
    "            // Get column index of the first element in this \n",
    "            // line of output.The index is 0 for first ROW \n",
    "            // lines and line - ROW for remaining lines \n",
    "            int start_col = max(0, line - ROW); \n",
    "\n",
    "            // Get count of elements in this line. The count \n",
    "            // of elements is equal to minimum of line number, \n",
    "            // COL-start_col and ROW \n",
    "            int count = min(line, (COL - start_col), ROW); \n",
    "\n",
    "            // Print elements of this line \n",
    "            for (int j = 0; j < count; j++) \n",
    "                System.out.print(matrix[min(ROW, line) - j - 1][start_col + j] + \" \"); \n",
    "                // Print elements of next diagonal on next line \n",
    "            System.out.println(); \n",
    "        } \n",
    "    } \n",
    "\n",
    "    // Utility function to print a matrix \n",
    "    static void printMatrix(int matrix[][]) { \n",
    "        for (int i = 0; i < ROW; i++) { \n",
    "            for (int j = 0; j < COL; j++) \n",
    "                System.out.print(matrix[i][j] + \" \"); \n",
    "            System.out.print(\"\\n\"); \n",
    "        } \n",
    "    } \n",
    "\n",
    "    // Driver code \n",
    "    public static void main(String[] args) { \n",
    "        int M[][] = { {1, 2, 3, 4},\n",
    "                      {5, 6, 7, 8},\n",
    "                      {9, 10, 11, 12}, \n",
    "                      {13, 14, 15, 16}, \n",
    "                      {17, 18, 19, 20}}; \n",
    "        System.out.print(\"Given matrix is \\n\"); \n",
    "        printMatrix(M); \n",
    "\n",
    "        System.out.print(\"\\nDiagonal printing of matrix is \\n\"); \n",
    "        diagonalOrder(M); \n",
    "    } \n",
    "} \n",
    " \n",
    "GFG.main(args);"
   ]
  },
  {
   "cell_type": "code",
   "execution_count": 68,
   "metadata": {},
   "outputs": [],
   "source": [
    "/*\n",
    "Below is an Alternate Method to solve the above problem.\n",
    "\n",
    "Matrix =>       1     2     3     4\n",
    "                5     6     7     8\n",
    "                9     10    11   12\n",
    "                13    14    15   16\n",
    "                17    18    19   20 \n",
    "   \n",
    "Observe the sequence\n",
    "          1 /  2 /  3 /  4\n",
    "           / 5  /  6 /  7 /  8\n",
    "               /  9 / 10 / 11 / 12\n",
    "                   / 13 / 14 / 15 / 16\n",
    "                       / 17 / 18 / 19 / 20\n",
    "*/"
   ]
  },
  {
   "cell_type": "code",
   "execution_count": 69,
   "metadata": {},
   "outputs": [],
   "source": [
    "public static  boolean isValid(int i, int j) \n",
    " { \n",
    "     if (i < 0 || i >= R || j >= C || j < 0) return false; \n",
    "     return true; \n",
    " } "
   ]
  },
  {
   "cell_type": "code",
   "execution_count": 70,
   "metadata": {},
   "outputs": [],
   "source": [
    "public static int R,C; \n",
    "       \n",
    "private void diagonalOrder(int[][] arr) {  \n",
    "     /* through this for loop we choose each element \n",
    "     of first column as starting point and print  \n",
    "     diagonal starting at it. arr[0][0], arr[1][0] \n",
    "     ....arr[R-1][0] are all starting points */\n",
    "     for (int k = 0; k < R; k++) \n",
    "     { \n",
    "         System.out.print(arr[k][0] + \" \"); \n",
    "\n",
    "         int i = k - 1;    // set row index for next \n",
    "                           // point in diagonal \n",
    "         int j = 1;       //  set column index for  \n",
    "                          // next point in diagonal \n",
    "\n",
    "         /* Print Diagonally upward */\n",
    "         while (isValid(i, j)) \n",
    "         { \n",
    "             System.out.print(arr[i][j] + \" \"); \n",
    "\n",
    "             i--; \n",
    "             j++;    // move in upright direction \n",
    "         } \n",
    "\n",
    "         System.out.println(\"\"); \n",
    "     } \n",
    "\n",
    "     /* through this for loop we choose each element \n",
    "        of last row as starting point (except the  \n",
    "        [0][c-1] it has already been processed in  \n",
    "        previous for loop) and print diagonal  \n",
    "        starting at it. arr[R-1][0], arr[R-1][1].... \n",
    "        arr[R-1][c-1] are all starting points */\n",
    "\n",
    "     // Note : we start from k = 1 to C-1; \n",
    "     for (int k = 1; k < C; k++) \n",
    "     { \n",
    "         System.out.print(arr[R-1][k] + \" \"); \n",
    "\n",
    "         int i = R - 2; // set row index for next  \n",
    "                        // point in diagonal \n",
    "         int j = k + 1; // set column index for   \n",
    "                        // next point in diagonal \n",
    "\n",
    "         /* Print Diagonally upward */\n",
    "         while (isValid(i, j)) \n",
    "         { \n",
    "             System.out.print(arr[i][j] + \" \"); \n",
    "\n",
    "             i--; \n",
    "             j++; // move in upright direction \n",
    "         } \n",
    "\n",
    "         System.out.println(\"\"); \n",
    "     } \n",
    " } "
   ]
  },
  {
   "cell_type": "code",
   "execution_count": 71,
   "metadata": {},
   "outputs": [
    {
     "name": "stdout",
     "output_type": "stream",
     "text": [
      "1 \n",
      "5 2 \n",
      "9 6 3 \n",
      "13 10 7 4 \n",
      "17 14 11 8 \n",
      "18 15 12 \n",
      "19 16 \n",
      "20 \n"
     ]
    }
   ],
   "source": [
    "// driver program to test above function \n",
    "public static void main(String[] args) { \n",
    "  int arr[][] = { {1, 2, 3, 4}, \n",
    "                  {5, 6, 7, 8}, \n",
    "                  {9, 10, 11, 12}, \n",
    "                  {13, 14, 15, 16}, \n",
    "                  {17, 18, 19, 20}, }; \n",
    "\n",
    "  R=arr.length; \n",
    "  C=arr[0].length; \n",
    "\n",
    "  diagonalOrder(arr); \n",
    "} \n",
    "main(args);"
   ]
  },
  {
   "cell_type": "markdown",
   "metadata": {},
   "source": [
    "**Related Link**\n",
    "\n",
    "***https://www.geeksforgeeks.org/print-matrix-antispiral-form/***\n",
    "\n",
    "***https://www.geeksforgeeks.org/print-a-given-matrix-in-spiral-form/***\n",
    "\n",
    "***https://www.geeksforgeeks.org/print-given-matrix-zigzag-form/***"
   ]
  },
  {
   "cell_type": "markdown",
   "metadata": {},
   "source": [
    "## **133. Create a matrix with alternating rectangles of O and X**\n",
    "https://www.geeksforgeeks.org/create-a-matrix-with-alternating-rectangles-of-0-and-x/"
   ]
  },
  {
   "cell_type": "code",
   "execution_count": 72,
   "metadata": {},
   "outputs": [],
   "source": [
    "/*\n",
    "Write a code which inputs two numbers m and n \n",
    "and creates a matrix of size m x n (m rows and n columns) in which every elements is either X or 0. \n",
    "\n",
    "The Xs and 0s must be filled alternatively, \n",
    "    the matrix should have outermost rectangle of Xs, then a rectangle of 0s, then a rectangle of Xs, and so on.\n",
    "*/"
   ]
  },
  {
   "cell_type": "code",
   "execution_count": 73,
   "metadata": {},
   "outputs": [],
   "source": [
    "/*\n",
    "Examples:\n",
    "\n",
    "Input: m = 3, n = 3\n",
    "Output: Following matrix \n",
    "X X X\n",
    "X 0 X\n",
    "X X X\n",
    "\n",
    "Input: m = 4, n = 5\n",
    "Output: Following matrix\n",
    "X X X X X\n",
    "X 0 0 0 X\n",
    "X 0 0 0 X\n",
    "X X X X X\n",
    "\n",
    "Input:  m = 5, n = 5\n",
    "Output: Following matrix\n",
    "X X X X X\n",
    "X 0 0 0 X\n",
    "X 0 X 0 X\n",
    "X 0 0 0 X\n",
    "X X X X X\n",
    "\n",
    "Input:  m = 6, n = 7\n",
    "Output: Following matrix\n",
    "X X X X X X X\n",
    "X 0 0 0 0 0 X\n",
    "X 0 X X X 0 X\n",
    "X 0 X X X 0 X\n",
    "X 0 0 0 0 0 X\n",
    "X X X X X X X \n",
    "*/"
   ]
  },
  {
   "cell_type": "code",
   "execution_count": 74,
   "metadata": {},
   "outputs": [],
   "source": [
    "/*\n",
    "Time Complexity: O(mn)\n",
    "Auxiliary Space: O(mn)\n",
    "\n",
    "\n",
    "1) Use the code for Printing Matrix in Spiral form.\n",
    "2) Instead of printing the array, inserted the element ‘X’ or ‘0’ alternatively in the array.\n",
    "\n",
    "Following is implementation of the above approach.\n",
    "*/"
   ]
  },
  {
   "cell_type": "markdown",
   "metadata": {},
   "source": [
    "***https://www.geeksforgeeks.org/print-a-given-matrix-in-spiral-form/***"
   ]
  },
  {
   "cell_type": "code",
   "execution_count": 75,
   "metadata": {},
   "outputs": [],
   "source": [
    "// Function to print alternating \n",
    "// rectangles of 0 and X \n",
    " static void fill0X(int m, int n) \n",
    "{ \n",
    "    /* k - starting row index \n",
    "        m - ending row index \n",
    "        l - starting column index \n",
    "        n - ending column index \n",
    "        i - iterator */\n",
    "    int i, k = 0, l = 0; \n",
    "  \n",
    "    // Store given number of rows \n",
    "        // and columns for later use \n",
    "    int r = m, c = n; \n",
    "  \n",
    "    // A 2D array to store \n",
    "        // the output to be printed \n",
    "    char a[][] = new char[m][n]; \n",
    "  \n",
    "        // Iniitialize the character \n",
    "        // to be stoed in a[][] \n",
    "    char x = 'X';  \n",
    "  \n",
    "    // Fill characters in a[][] in spiral \n",
    "        // form. Every iteration fills \n",
    "    // one rectangle of either Xs or Os \n",
    "    while (k < m && l < n) \n",
    "    { \n",
    "        /* Fill the first row from the remaining rows */\n",
    "        for (i = l; i < n; ++i) \n",
    "            a[k][i] = x; \n",
    "        k++; \n",
    "  \n",
    "        /* Fill the last column from the remaining columns */\n",
    "        for (i = k; i < m; ++i) \n",
    "            a[i][n-1] = x; \n",
    "        n--; \n",
    "  \n",
    "        /* Fill the last row from the remaining rows */\n",
    "        if (k < m) \n",
    "        { \n",
    "            for (i = n-1; i >= l; --i) \n",
    "                a[m-1][i] = x; \n",
    "            m--; \n",
    "        } \n",
    "  \n",
    "        /* Print the first column \n",
    "                // from the remaining columns */\n",
    "        if (l < n) \n",
    "        { \n",
    "            for (i = m-1; i >= k; --i) \n",
    "                a[i][l] = x; \n",
    "            l++; \n",
    "        } \n",
    "  \n",
    "        // Flip character for next iteration \n",
    "        x = (x == '0')? 'X': '0'; \n",
    "    } \n",
    "  \n",
    "    // Print the filled matrix \n",
    "    for (i = 0; i < r; i++) \n",
    "    { \n",
    "        for (int j = 0; j < c; j++) \n",
    "            System.out.print(a[i][j] + \" \"); \n",
    "        System.out.println(); \n",
    "    } \n",
    "} "
   ]
  },
  {
   "cell_type": "code",
   "execution_count": 76,
   "metadata": {},
   "outputs": [
    {
     "name": "stdout",
     "output_type": "stream",
     "text": [
      "Output for m = 5, n = 6\n",
      "X X X X X X \n",
      "X 0 0 0 0 X \n",
      "X 0 X X 0 X \n",
      "X 0 0 0 0 X \n",
      "X X X X X X \n",
      "Output for m = 4, n = 4\n",
      "X X X X \n",
      "X 0 0 X \n",
      "X 0 0 X \n",
      "X X X X \n",
      "Output for m = 3, n = 4\n",
      "X X X X \n",
      "X 0 0 X \n",
      "X X X X \n"
     ]
    }
   ],
   "source": [
    "/* Driver program to test above functions */\n",
    "public static void main (String[] args) { \n",
    "  \n",
    "    System.out.println(\"Output for m = 5, n = 6\"); \n",
    "    fill0X(5, 6); \n",
    "  \n",
    "    System.out.println(\"Output for m = 4, n = 4\"); \n",
    "    fill0X(4, 4); \n",
    "  \n",
    "    System.out.println(\"Output for m = 3, n = 4\"); \n",
    "    fill0X(3, 4); \n",
    "          \n",
    "}\n",
    "main(args);"
   ]
  },
  {
   "cell_type": "markdown",
   "metadata": {},
   "source": [
    "## **134. Print all elements in sorted order from row and column wise sorted matrix**\n",
    "https://www.geeksforgeeks.org/print-elements-sorted-order-row-column-wise-sorted-matrix/"
   ]
  },
  {
   "cell_type": "code",
   "execution_count": 77,
   "metadata": {},
   "outputs": [],
   "source": [
    "/*\n",
    "Given an n x n matrix, where every row and column is sorted in non-decreasing order. \n",
    "Print all elements of matrix in sorted order.\n",
    "*/"
   ]
  },
  {
   "cell_type": "code",
   "execution_count": 78,
   "metadata": {},
   "outputs": [],
   "source": [
    "/*\n",
    "Example:\n",
    "\n",
    "Input: mat[][]  =  { {10, 20, 30, 40},\n",
    "                     {15, 25, 35, 45},\n",
    "                     {27, 29, 37, 48},\n",
    "                     {32, 33, 39, 50},\n",
    "                   };\n",
    "\n",
    "Output:\n",
    "Elements of matrix in sorted order\n",
    "10 15 20 25 27 29 30 32 33 35 37 39 40 45 48 50\n",
    "*/"
   ]
  },
  {
   "cell_type": "code",
   "execution_count": 79,
   "metadata": {},
   "outputs": [],
   "source": [
    "/*\n",
    "We can use Young Tableau to solve the above problem. \n",
    "The idea is to consider given 2D array as Young Tableau and call extract minimum O(N)\n",
    "*/"
   ]
  },
  {
   "cell_type": "markdown",
   "metadata": {},
   "source": [
    "***http://en.wikipedia.org/wiki/Young_tableau***"
   ]
  },
  {
   "cell_type": "code",
   "execution_count": 80,
   "metadata": {},
   "outputs": [
    {
     "name": "stdout",
     "output_type": "stream",
     "text": [
      "Elements of matrix in sorted order n\n",
      "10 15 20 25 27 29 30 32 33 35 37 39 40 45 48 50 "
     ]
    }
   ],
   "source": [
    "static final int INF = Integer.MAX_VALUE; \n",
    "static final int N = 4; \n",
    "\n",
    "// A utility function to youngify a Young Tableau.  \n",
    "// This is different from standard youngify.  \n",
    "// It assumes that the value at mat[0][0] is infinite.  \n",
    "static void youngify(int mat[][], int i, int j) \n",
    "{ \n",
    "    // Find the values at down and right sides of mat[i][j]  \n",
    "    int downVal = (i + 1 < N) ?  \n",
    "                mat[i + 1][j] : INF; \n",
    "    int rightVal = (j + 1 < N) ?  \n",
    "                 mat[i][j + 1] : INF; \n",
    "\n",
    "    // If mat[i][j] is the down right corner element,  \n",
    "    // return  \n",
    "    if (downVal == INF && rightVal == INF)  \n",
    "    { \n",
    "        return; \n",
    "    } \n",
    "\n",
    "    // Move the smaller of two values  \n",
    "    // (downVal and rightVal) to mat[i][j]  \n",
    "    // and recur for smaller value  \n",
    "    if (downVal < rightVal) \n",
    "    { \n",
    "        mat[i][j] = downVal; \n",
    "        mat[i + 1][j] = INF; \n",
    "        youngify(mat, i + 1, j); \n",
    "    }  \n",
    "    else \n",
    "    { \n",
    "        mat[i][j] = rightVal; \n",
    "        mat[i][j + 1] = INF; \n",
    "        youngify(mat, i, j + 1); \n",
    "    } \n",
    "} \n",
    "\n",
    "// A utility function to extract  \n",
    "// minimum element from Young tableau  \n",
    "static int extractMin(int mat[][])  \n",
    "{ \n",
    "    int ret = mat[0][0]; \n",
    "    mat[0][0] = INF; \n",
    "    youngify(mat, 0, 0); \n",
    "    return ret; \n",
    "} \n",
    "\n",
    "// This function uses extractMin()  \n",
    "// to print elements in sorted order  \n",
    "static void printSorted(int mat[][])  \n",
    "{ \n",
    "    System.out.println(\"Elements of matrix in sorted order n\"); \n",
    "    for (int i = 0; i < N * N; i++)  \n",
    "    { \n",
    "        System.out.print(extractMin(mat) + \" \"); \n",
    "    } \n",
    "} \n",
    "\n",
    "// Driver Code \n",
    "public static void main(String args[])  \n",
    "{ \n",
    "    int mat[][] = {{10, 20, 30, 40}, \n",
    "                   {15, 25, 35, 45}, \n",
    "                   {27, 29, 37, 48}, \n",
    "                   {32, 33, 39, 50}}; \n",
    "    printSorted(mat); \n",
    "} \n",
    "main(args);"
   ]
  },
  {
   "cell_type": "code",
   "execution_count": 81,
   "metadata": {},
   "outputs": [],
   "source": [
    "/*\n",
    "Time complexity of extract minimum is O(N) and it is called O(N^2) times.\n",
    "Therefore the overall time complexity is O(N^3).\n",
    "*/"
   ]
  },
  {
   "cell_type": "code",
   "execution_count": 82,
   "metadata": {},
   "outputs": [],
   "source": [
    "/*\n",
    "A better solution is to use the approach used for merging k sorted arrays. \n",
    "The idea is to use a Min Heap of size N which stores elements of first column. \n",
    "The do extract minimum.\n",
    "In extract minimum, replace the minimum element with the next element of the row from which the element is extracted. \n",
    "Time complexity of this solution is O(N^2LogN).\n",
    "*/"
   ]
  },
  {
   "cell_type": "markdown",
   "metadata": {},
   "source": [
    "***https://ideone.com/Bp5hL9***"
   ]
  },
  {
   "cell_type": "markdown",
   "metadata": {},
   "source": [
    "## **135. Inplace rotate square matrix by 90 degrees | Set 1**\n",
    "https://www.geeksforgeeks.org/inplace-rotate-square-matrix-by-90-degrees/"
   ]
  },
  {
   "cell_type": "code",
   "execution_count": 83,
   "metadata": {},
   "outputs": [],
   "source": [
    "/*\n",
    "Given an square matrix, turn it by 90 degrees in anti-clockwise direction without using any extra space.\n",
    "*/"
   ]
  },
  {
   "cell_type": "code",
   "execution_count": 84,
   "metadata": {},
   "outputs": [],
   "source": [
    "/*\n",
    "Examples :\n",
    "\n",
    "Input\n",
    " 1  2  3\n",
    " 4  5  6\n",
    " 7  8  9\n",
    "\n",
    "Output:\n",
    " 3  6  9 \n",
    " 2  5  8 \n",
    " 1  4  7 \n",
    "\n",
    "Input:\n",
    " 1  2  3  4 \n",
    " 5  6  7  8 \n",
    " 9 10 11 12 \n",
    "13 14 15 16 \n",
    "\n",
    "Output:\n",
    " 4  8 12 16 \n",
    " 3  7 11 15 \n",
    " 2  6 10 14 \n",
    " 1  5  9 13\n",
    " */"
   ]
  },
  {
   "cell_type": "code",
   "execution_count": 85,
   "metadata": {},
   "outputs": [],
   "source": [
    "/*\n",
    "How to do without extra space?\n",
    "\n",
    "Below are some important observations.\n",
    "\n",
    "First row of source –> First column of destination, elements filled in opposite order\n",
    "Second row of source –> Second column of destination, elements filled in opposite order\n",
    "so … on\n",
    "\n",
    "Last row of source –> Last column of destination, elements filled in opposite order.\n",
    "An N x N matrix will have floor(N/2) square cycles. \n",
    "    For example, a 4 X 4 matrix will have 2 cycles. \n",
    "        The first cycle is formed by its 1st row, last column, last row and 1st column. \n",
    "        The second cycle is formed by 2nd row, second-last column, second-last row and 2nd column.\n",
    "The idea is for each square cycle, \n",
    "    we swap the elements involved with the corresponding cell in the matrix in anti-clockwise direction \n",
    "    i.e. from top to left, left to bottom, bottom to right and from right to top one at a time.\n",
    "We use nothing but a temporary variable to achieve this.\n",
    "*/"
   ]
  },
  {
   "cell_type": "markdown",
   "metadata": {},
   "source": [
    "<img src = \"data:image/png;base64,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\"/>"
   ]
  },
  {
   "cell_type": "code",
   "execution_count": 86,
   "metadata": {},
   "outputs": [],
   "source": [
    "// An Inplace function to rotate a N x N matrix \n",
    "// by 90 degrees in anti-clockwise direction \n",
    "static void rotateMatrix(int N, int mat[][]) \n",
    "{ \n",
    "    // Consider all squares one by one \n",
    "    for (int x = 0; x < N / 2; x++) \n",
    "    { \n",
    "        // Consider elements in group of 4 in  \n",
    "        // current square \n",
    "        for (int y = x; y < N-x-1; y++) \n",
    "        { \n",
    "            // store current cell in temp variable \n",
    "            int temp = mat[x][y]; \n",
    "\n",
    "            // move values from right to top \n",
    "            mat[x][y] = mat[y][N-1-x]; \n",
    "\n",
    "            // move values from bottom to right \n",
    "            mat[y][N-1-x] = mat[N-1-x][N-1-y]; \n",
    "\n",
    "            // move values from left to bottom \n",
    "            mat[N-1-x][N-1-y] = mat[N-1-y][x]; \n",
    "\n",
    "            // assign temp to left \n",
    "            mat[N-1-y][x] = temp; \n",
    "        } \n",
    "    } \n",
    "} "
   ]
  },
  {
   "cell_type": "code",
   "execution_count": 87,
   "metadata": {},
   "outputs": [],
   "source": [
    "// Function to print the matrix \n",
    "static void displayMatrix(int N, int mat[][]) \n",
    "{ \n",
    "    for (int i = 0; i < N; i++) \n",
    "    { \n",
    "        for (int j = 0; j < N; j++) \n",
    "            System.out.print(\" \" + mat[i][j]); \n",
    "\n",
    "        System.out.print(\"\\n\"); \n",
    "    } \n",
    "    System.out.print(\"\\n\"); \n",
    "} "
   ]
  },
  {
   "cell_type": "code",
   "execution_count": 88,
   "metadata": {},
   "outputs": [
    {
     "name": "stdout",
     "output_type": "stream",
     "text": [
      " 4 8 12 16\n",
      " 3 7 11 15\n",
      " 2 6 10 14\n",
      " 1 5 9 13\n",
      "\n"
     ]
    }
   ],
   "source": [
    "/* Driver program to test above functions */\n",
    "public static void main (String[] args)  \n",
    "{ \n",
    "    int N = 4; \n",
    "\n",
    "    // Test Case 1 \n",
    "    int mat[][] = \n",
    "    { \n",
    "        {1, 2, 3, 4}, \n",
    "        {5, 6, 7, 8}, \n",
    "        {9, 10, 11, 12}, \n",
    "        {13, 14, 15, 16} \n",
    "    }; \n",
    "\n",
    "\n",
    "    // Tese Case 2 \n",
    "    /* int mat[][] = { \n",
    "                        {1, 2, 3}, \n",
    "                        {4, 5, 6}, \n",
    "                        {7, 8, 9} \n",
    "                    }; \n",
    "     */\n",
    "\n",
    "    // Tese Case 3 \n",
    "    /*int mat[][] = { \n",
    "                    {1, 2}, \n",
    "                    {4, 5} \n",
    "                };*/\n",
    "\n",
    "    // displayMatrix(mat); \n",
    "\n",
    "    rotateMatrix(N,mat); \n",
    "\n",
    "    // Print rotated matrix \n",
    "    displayMatrix(N,mat); \n",
    "} \n",
    "main(args);"
   ]
  },
  {
   "cell_type": "code",
   "execution_count": 89,
   "metadata": {},
   "outputs": [],
   "source": [
    "/*\n",
    "Another approach is discussed which is much simpler than the above approach.\n",
    "\n",
    "There are two steps :\n",
    "\n",
    "1. Find transpose of matrix.\n",
    "2. Reverse columns of the transpose.\n",
    "\n",
    "Time complexity :O(R*C)\n",
    "Space complexity :O(1)\n",
    "*/"
   ]
  },
  {
   "cell_type": "code",
   "execution_count": 90,
   "metadata": {},
   "outputs": [],
   "source": [
    "/*\n",
    "Illustration of above steps :\n",
    "\n",
    "Let the given matrix be\n",
    "1  2  3  4\n",
    "5  6  7  8\n",
    "9  10 11 12\n",
    "13 14 15 16\n",
    "\n",
    "First we find transpose.\n",
    "1 5 9 13\n",
    "2 6 10 14\n",
    "3 7 11 15\n",
    "4 8 12 16\n",
    "\n",
    "Then we reverse elements of every column.\n",
    "4 8 12 16\n",
    "3 7 11 15\n",
    "2 6 10 14\n",
    "1 5  9 13\n",
    "*/"
   ]
  },
  {
   "cell_type": "code",
   "execution_count": 91,
   "metadata": {},
   "outputs": [
    {
     "name": "stdout",
     "output_type": "stream",
     "text": [
      "4 8 12 16 \n",
      "3 7 11 15 \n",
      "2 6 10 14 \n",
      "1 5 9 13 \n"
     ]
    }
   ],
   "source": [
    "// After transpose we swap elements of \n",
    "// column one by one for finding left \n",
    "// rotation of matrix by 90 degree \n",
    "static void reverseColumns(int arr[][]) \n",
    "{ \n",
    "    for (int i = 0; i < arr[0].length; i++) \n",
    "        for (int j = 0, k = arr[0].length - 1; \n",
    "             j < k; j++, k--) { \n",
    "            int temp = arr[j][i]; \n",
    "            arr[j][i] = arr[k][i]; \n",
    "            arr[k][i] = temp; \n",
    "        } \n",
    "} \n",
    "\n",
    "// Function for do transpose of matrix \n",
    "static void transpose(int arr[][]) \n",
    "{ \n",
    "    for (int i = 0; i < arr.length; i++) \n",
    "        for (int j = i; j < arr[0].length; j++) { \n",
    "            int temp = arr[j][i]; \n",
    "            arr[j][i] = arr[i][j]; \n",
    "            arr[i][j] = temp; \n",
    "        } \n",
    "} \n",
    "\n",
    "// Function for print matrix \n",
    "static void printMatrix(int arr[][]) \n",
    "{ \n",
    "    for (int i = 0; i < arr.length; i++) { \n",
    "        for (int j = 0; j < arr[0].length; j++) \n",
    "            System.out.print(arr[i][j] + \" \"); \n",
    "        System.out.println(\"\"); \n",
    "    } \n",
    "} \n",
    "\n",
    "// Function to anticlockwise rotate \n",
    "// matrix by 90 degree \n",
    "static void rotate90(int arr[][]) \n",
    "{ \n",
    "    transpose(arr); \n",
    "    reverseColumns(arr); \n",
    "} \n",
    "\n",
    "/* Driver program to test above function */\n",
    "public static void main(String[] args) \n",
    "{ \n",
    "    int arr[][] = { { 1, 2, 3, 4 }, \n",
    "                    { 5, 6, 7, 8 }, \n",
    "                    { 9, 10, 11, 12 }, \n",
    "                    { 13, 14, 15, 16 } }; \n",
    "\n",
    "    rotate90(arr); \n",
    "    printMatrix(arr); \n",
    "} \n",
    "main(args);"
   ]
  }
 ],
 "metadata": {
  "kernelspec": {
   "display_name": "Java",
   "language": "java",
   "name": "java"
  },
  "language_info": {
   "codemirror_mode": "java",
   "file_extension": ".jshell",
   "mimetype": "text/x-java-source",
   "name": "Java",
   "pygments_lexer": "java",
   "version": "11.0.6+8-LTS"
  },
  "toc": {
   "base_numbering": 1,
   "nav_menu": {},
   "number_sections": true,
   "sideBar": true,
   "skip_h1_title": true,
   "title_cell": "Table of Contents",
   "title_sidebar": "Contents",
   "toc_cell": false,
   "toc_position": {
    "height": "calc(100% - 180px)",
    "left": "10px",
    "top": "150px",
    "width": "303.542px"
   },
   "toc_section_display": true,
   "toc_window_display": true
  }
 },
 "nbformat": 4,
 "nbformat_minor": 2
}
