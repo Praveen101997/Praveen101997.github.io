{
 "cells": [
  {
   "cell_type": "markdown",
   "metadata": {},
   "source": [
    "**------------------------Questions Covered-----------------------------**"
   ]
  },
  {
   "cell_type": "markdown",
   "metadata": {},
   "source": [
    "***6\tGreedy\thttps://www.geeksforgeeks.org/paper-cut-minimum-number-squares/\t\t\t\t\t\t\t\t\t\t\t\t\t\t\t\t\t\t\t\t\t\t\t\t\t\n",
    "6\tGreedy\thttps://www.geeksforgeeks.org/lexicographically-smallest-array-k-consecutive-swaps/\t\t\t\t\t\t\t\t\t\t\t\t\t\t\t\t\t\t\t\t\t\t\t\t\t\n",
    "6\tGreedy\thttps://www.geeksforgeeks.org/rearrange-characters-string-no-two-adjacent/\t\t\t\t\t\t\t\t\t\t\t\t\t\t\t\t\t\t\t\t\t\t\t\t\t\n",
    "6\tGreedy\thttps://www.geeksforgeeks.org/find-maximum-height-pyramid-from-the-given-array-of-objects/\t\t\t\t\t\t\t\t\t\t\t\t\t\t\t\t\t\t\t\t\t\t\t\t\t\n",
    "6\tGreedy\thttps://www.geeksforgeeks.org/minimum-cost-for-acquiring-all-coins-with-k-extra-coins-allowed-with-every-coin/\t\t\t\t\t\t\t\t\t\t\t\t\t\t\t\t\t\t\t\t\t\t\t\t\t\n",
    "6\tGreedy\thttps://www.geeksforgeeks.org/find-maximum-sum-possible-equal-sum-three-stacks/\t\t\t\t\t\t\t\t\t\t\t\t\t\t\t\t\t\t\t\t\t\t\t\t\t\n",
    "6\tGreedy\thttps://www.geeksforgeeks.org/maximize-array-sun-after-k-negation-operations/\t\t\t\t\t\t\t\t\t\t\t\t\t\t\t\t\t\t\t\t\t\t\t\t\t\n",
    "6\tGreedy\thttps://www.geeksforgeeks.org/minimum-cost-cut-board-squares/\t\t\t\t\t\t\t\t\t\t\t\t\t\t\t\t\t\t\t\t\t\t\t\t\t\n",
    "6\tGreedy\thttps://www.geeksforgeeks.org/minimize-cash-flow-among-given-set-friends-borrowed-money/\t\t\t\t\t\t\t\t\t\t\t\t\t\t\t\t\t\t\t\t\t\t\t\t\t\n",
    "6\tGreedy\thttps://www.geeksforgeeks.org/minimum-edges-reverse-make-path-source-destination/\tgreedy + dp\t\t\t\t\t\t\t\t\t\t\t\t\t\t\t\t\t\t\t\t\t\t\t\t\n",
    "7\tDynamic Programming\thttps://www.geeksforgeeks.org/ugly-numbers/\ttbd\t\t\t\t\t\t\t\t\t\t\t\t\t\t\t\t\t\t\t\t\t\t\t\t\n",
    "7\tDynamic Programming\thttps://www.geeksforgeeks.org/super-ugly-number-number-whose-prime-factors-given-set/\ttbd\t\t\t\t\t\t\t\t\t\t\t\t\t\t\t\t\t\t\t\t\t\t\t\t\n",
    "7\tDynamic Programming\thttps://www.geeksforgeeks.org/maximum-size-sub-matrix-with-all-1s-in-a-binary-matrix/\tfinished\t\t\t\t\t\t\t\t\t\t\t\t\t\t\t\t\t\t\t\t\t\t\t\t\n",
    "7\tDynamic Programming\thttps://www.geeksforgeeks.org/dynamic-programming-subset-sum-problem/\tfinished\t\t\t\t\t\t\t\t\t\t\t\t\t\t\t\t\t\t\t\t\t\t\t\t\n",
    "7\tDynamic Programming\thttps://www.geeksforgeeks.org/minimum-number-of-jumps-to-reach-end-of-a-given-array/\tfinished***"
   ]
  },
  {
   "cell_type": "code",
   "execution_count": 1,
   "metadata": {},
   "outputs": [],
   "source": [
    "import java.util.*;\n",
    "import java.io.*;\n",
    "import java.util.Arrays;\n",
    "String[] args =new String[0];"
   ]
  },
  {
   "cell_type": "markdown",
   "metadata": {},
   "source": [
    "## **181. Paper Cut into Minimum Number of Squares**\n",
    "https://www.geeksforgeeks.org/paper-cut-minimum-number-squares/"
   ]
  },
  {
   "cell_type": "code",
   "execution_count": 2,
   "metadata": {},
   "outputs": [],
   "source": [
    "/*\n",
    "Given a paper of size A x B. \n",
    "Task is to cut the paper into squares of any size. \n",
    "Find the minimum number of squares that can be cut from the paper.\n",
    "*/"
   ]
  },
  {
   "cell_type": "code",
   "execution_count": 3,
   "metadata": {},
   "outputs": [],
   "source": [
    "/*\n",
    "Examples:\n",
    "\n",
    "Input  : 13 x 29\n",
    "Output : 9\n",
    "Explanation : \n",
    "2 (squares of size 13x13) + \n",
    "4 (squares of size 3x3) + \n",
    "3 (squares of size 1x1)=9\n",
    "\n",
    "Input  : 4 x 5\n",
    "Output : 5\n",
    "Explanation : \n",
    "1 (squares of size 4x4) + \n",
    "4 (squares of size 1x1)\n",
    "*/"
   ]
  },
  {
   "cell_type": "code",
   "execution_count": 4,
   "metadata": {},
   "outputs": [],
   "source": [
    "/*\n",
    "We know that \n",
    "if we want to cut minimum number of squares from the paper \n",
    "    then we would have to cut largest square possible from the paper first \n",
    "         and largest square will have same side as smaller side of the paper. \n",
    "         \n",
    "For example \n",
    "    if paper have the size 13 x 29, \n",
    "        then maximum square will be of side 13. \n",
    "        so we can cut 2 square of size 13 x 13 (29/13 = 2). \n",
    "    Now remaining paper will have size 3 x 13. \n",
    "\n",
    "    Similarly we can cut remaining paper by using 4 squares of size 3 x 3 and 3 squares of 1 x 1. \n",
    "    So minimum 9 squares can be cut from the Paper of size 13 x 29.\n",
    "*/"
   ]
  },
  {
   "cell_type": "markdown",
   "metadata": {},
   "source": [
    "<img src = \"https://media.geeksforgeeks.org/wp-content/uploads/PaperCut.png\"/>"
   ]
  },
  {
   "cell_type": "code",
   "execution_count": 5,
   "metadata": {},
   "outputs": [],
   "source": [
    "// To swap two numbers \n",
    "static void swap(int a,int b) \n",
    "{ \n",
    "    int temp = a; \n",
    "    a = b; \n",
    "    b = temp; \n",
    "} "
   ]
  },
  {
   "cell_type": "code",
   "execution_count": 6,
   "metadata": {},
   "outputs": [],
   "source": [
    "// Returns min number of squares needed \n",
    "static int minimumSquare(int a, int b) \n",
    "{ \n",
    "    int result = 0, rem = 0; \n",
    "  \n",
    "    // swap if a is small size side . \n",
    "    if (a < b) \n",
    "        swap(a, b); \n",
    "  \n",
    "    // Iterate until small size side is \n",
    "    // greater then 0 \n",
    "    while (b > 0) \n",
    "    { \n",
    "        // Update result \n",
    "        result += a/b; \n",
    "        rem = a % b; \n",
    "        a = b; \n",
    "        b = rem; \n",
    "    } \n",
    "  \n",
    "    return result; \n",
    "} "
   ]
  },
  {
   "cell_type": "code",
   "execution_count": 7,
   "metadata": {},
   "outputs": [
    {
     "name": "stdout",
     "output_type": "stream",
     "text": [
      "9\n"
     ]
    }
   ],
   "source": [
    "// Driver code \n",
    "public static void main(String[] args) \n",
    "{ \n",
    "    int n = 13, m = 29; \n",
    "    System.out.println(minimumSquare(n, m)); \n",
    "} \n",
    "main(args);"
   ]
  },
  {
   "cell_type": "code",
   "execution_count": 8,
   "metadata": {},
   "outputs": [],
   "source": [
    "/*\n",
    "Note that the above Greedy solution doesn’t always produce optimal result. \n",
    "For example \n",
    "    if input is 36 x 30, \n",
    "        the above algorithm would produce output 6, \n",
    "        but we can cut the paper in 5 squares\n",
    "        1) Three squares of size 12 x 12\n",
    "        2) Two squares of size 18 x 18.\n",
    "*/"
   ]
  },
  {
   "cell_type": "markdown",
   "metadata": {},
   "source": [
    "## **182. Lexicographically smallest array after at-most K consecutive swaps**\n",
    "https://www.geeksforgeeks.org/lexicographically-smallest-array-k-consecutive-swaps/"
   ]
  },
  {
   "cell_type": "code",
   "execution_count": 9,
   "metadata": {},
   "outputs": [],
   "source": [
    "/*\n",
    "Given an array arr[], \n",
    "    find the lexicographically smallest array that can be obtained after performing at maximum of k consecutive swaps.\n",
    "*/"
   ]
  },
  {
   "cell_type": "code",
   "execution_count": 10,
   "metadata": {},
   "outputs": [],
   "source": [
    "/*\n",
    "Examples :\n",
    "\n",
    "Input: arr[] = {7, 6, 9, 2, 1}\n",
    "        k = 3\n",
    "Output: arr[] = {2, 7, 6, 9, 1}\n",
    "Explanation: Array is: 7, 6, 9, 2, 1\n",
    "Swap 1:   7, 6, 2, 9, 1\n",
    "Swap 2:   7, 2, 6, 9, 1\n",
    "Swap 3:   2, 7, 6, 9, 1\n",
    "So Our final array after k = 3 swaps : \n",
    "2, 7, 6, 9, 1\n",
    "\n",
    "Input: arr[] = {7, 6, 9, 2, 1}\n",
    "        k = 1\n",
    "Output: arr[] = {6, 7, 9, 2, 1}\n",
    "*/"
   ]
  },
  {
   "cell_type": "code",
   "execution_count": 11,
   "metadata": {},
   "outputs": [],
   "source": [
    "/*\n",
    "Naive approach \n",
    "    is to generate all the permutation of array and pick the smallest one which satisfy the condition of at-most k swaps. \n",
    "    Time complexity of this approach is Ω(n!), which will definitely time out for large value of n.\n",
    "*/"
   ]
  },
  {
   "cell_type": "code",
   "execution_count": 12,
   "metadata": {},
   "outputs": [],
   "source": [
    "/*\n",
    "An Efficient approach\n",
    "Time complexity: O(N^2)\n",
    "Auxiliary space: O(1)\n",
    "\n",
    "    is to think greedily. \n",
    "    We first pick the smallest element from array a1, a2, a3…(ak or an) [We consider ak when k is smaller, else n]. \n",
    "    We place the smallest element to the a0 position after shifting all these elements by 1 position right. \n",
    "    We subtract number of swaps (number of swaps is number of shifts minus 1) from k. \n",
    "    If still we are left with k > 0 \n",
    "        then we apply the same procedure from the very next starting position \n",
    "        i.e., a2, a3,…(ak or an) \n",
    "        and then place it to the a1 position. \n",
    "So we keep applying the same process until k becomes 0.\n",
    "*/"
   ]
  },
  {
   "cell_type": "code",
   "execution_count": 13,
   "metadata": {},
   "outputs": [],
   "source": [
    "// Modifies arr[0..n-1] to lexicographically \n",
    "// smallest with k swaps. \n",
    "static void minimizeWithKSwaps(int arr[], int n, int k) \n",
    "{ \n",
    "    for (int i = 0; i < n-1 && k > 0; ++i) \n",
    "    { \n",
    "\n",
    "        // Set the position where we want \n",
    "        // to put the smallest integer \n",
    "        int pos = i; \n",
    "        for (int j = i+1; j < n ; ++j) \n",
    "        { \n",
    "\n",
    "            // If we exceed the Max swaps \n",
    "            // then terminate the loop \n",
    "            if (j - i > k) \n",
    "                break; \n",
    "\n",
    "            // Find the minimum value from i+1 to \n",
    "            // max k or n \n",
    "            if (arr[j] < arr[pos]) \n",
    "                pos = j; \n",
    "        } \n",
    "\n",
    "        // Swap the elements from Minimum position \n",
    "        // we found till now to the i index \n",
    "        int temp; \n",
    "\n",
    "        for (int j = pos; j>i; --j) \n",
    "        { \n",
    "            temp=arr[j]; \n",
    "            arr[j]=arr[j-1]; \n",
    "            arr[j-1]=temp; \n",
    "        } \n",
    "\n",
    "        // Set the final value after swapping pos-i \n",
    "        // elements \n",
    "        k -= pos-i; \n",
    "    } \n",
    "} "
   ]
  },
  {
   "cell_type": "code",
   "execution_count": 14,
   "metadata": {},
   "outputs": [
    {
     "name": "stdout",
     "output_type": "stream",
     "text": [
      "2 7 6 9 1 "
     ]
    }
   ],
   "source": [
    "// Driver method \n",
    "public static void main(String[] args) \n",
    "{ \n",
    "\n",
    "    int arr[] = {7, 6, 9, 2, 1}; \n",
    "    int n = arr.length; \n",
    "    int k = 3; \n",
    "\n",
    "    minimizeWithKSwaps(arr, n, k); \n",
    "\n",
    "    //Print the final Array \n",
    "    for (int i=0; i<n; ++i) \n",
    "        System.out.print(arr[i] +\" \"); \n",
    "}\n",
    "main(args);"
   ]
  },
  {
   "cell_type": "markdown",
   "metadata": {},
   "source": [
    "## **183. Rearrange characters in a string such that no two adjacent are same**\n",
    "https://www.geeksforgeeks.org/rearrange-characters-string-no-two-adjacent/"
   ]
  },
  {
   "cell_type": "code",
   "execution_count": 15,
   "metadata": {},
   "outputs": [],
   "source": [
    "/*\n",
    "Given a string with repeated characters, \n",
    "the task is to rearrange characters in a string so that no two adjacent characters are same.\n",
    "\n",
    "Note : It may be assumed that the string has only lowercase English alphabets.\n",
    "*/"
   ]
  },
  {
   "cell_type": "code",
   "execution_count": 16,
   "metadata": {},
   "outputs": [],
   "source": [
    "/*\n",
    "Examples:\n",
    "\n",
    "Input: aaabc \n",
    "Output: abaca \n",
    "\n",
    "Input: aaabb\n",
    "Output: ababa \n",
    "\n",
    "Input: aa \n",
    "Output: Not Possible\n",
    "\n",
    "Input: aaaabc \n",
    "Output: Not Possible\n",
    "*/"
   ]
  },
  {
   "cell_type": "code",
   "execution_count": 17,
   "metadata": {},
   "outputs": [],
   "source": [
    "/*\n",
    "Time complexity : O(nlog(n))\n",
    "\n",
    "The idea is to put the highest frequency character first (a greedy approach). \n",
    "We use a priority queue (Or Binary Max Heap) and put all characters and ordered by their frequencies (highest frequency character at root). \n",
    "We one by one take the highest frequency character from the heap and add it to result.\n",
    "After we add, we decrease the frequency of the character and we temporarily move this character out of priority queue \n",
    "so that it is not picked next time.\n",
    "\n",
    "We have to follow the step to solve this problem, they are:\n",
    "\n",
    "1. Build a Priority_queue or max_heap, pq that stores characters and their frequencies.\n",
    "        Priority_queue or max_heap is built on the bases of the frequency of character.\n",
    "2. Create a temporary Key that will be used as the previously visited element \n",
    "        (the previous element in the resultant string. Initialize it { char = ‘#’ , freq = ‘-1’ }\n",
    "3. While pq is not empty.\n",
    "    Pop an element and add it to the result.\n",
    "    Decrease frequency of the popped element by ‘1’\n",
    "    Push the previous element back into the priority_queue if it’s frequency > ‘0’\n",
    "    Make the current element as the previous element for the next iteration.\n",
    "4. If the length of the resultant string and original string is not equal, \n",
    "        print “not possible”. \n",
    "    Else \n",
    "        print result.\n",
    "\n",
    "Below is the implementation of above idea\n",
    "*/"
   ]
  },
  {
   "cell_type": "code",
   "execution_count": 18,
   "metadata": {},
   "outputs": [],
   "source": [
    "class Key { \n",
    "      int freq; // store frequency of character \n",
    "      char ch; \n",
    "      Key(int val, char c)  \n",
    "      { \n",
    "          freq = val;  \n",
    "          ch = c; \n",
    "      } \n",
    "}"
   ]
  },
  {
   "cell_type": "code",
   "execution_count": 19,
   "metadata": {},
   "outputs": [],
   "source": [
    "class KeyComparator implements Comparator<Key> { \n",
    "  \n",
    "      // Overriding compare()method of Comparator \n",
    "      public int compare(Key k1, Key k2) \n",
    "      { \n",
    "             if (k1.freq < k2.freq) \n",
    "                 return 1; \n",
    "             else if (k1.freq > k2.freq) \n",
    "                 return -1; \n",
    "             return 0; \n",
    "      } \n",
    "} "
   ]
  },
  {
   "cell_type": "code",
   "execution_count": 20,
   "metadata": {},
   "outputs": [],
   "source": [
    "static int MAX_CHAR = 26;"
   ]
  },
  {
   "cell_type": "code",
   "execution_count": 21,
   "metadata": {},
   "outputs": [],
   "source": [
    "// Function to rearrange character of a string \n",
    "// so that no char repeat twice \n",
    "static void rearrangeString(String str) \n",
    "{ \n",
    "     int n = str.length(); \n",
    "\n",
    "     // Store frequencies of all characters in string \n",
    "     int[] count = new int[MAX_CHAR]; \n",
    "\n",
    "     for (int i = 0; i < n; i++) \n",
    "          count[str.charAt(i) - 'a']++; \n",
    "\n",
    "      // Insert all characters with their frequencies \n",
    "      // into a priority_queue  \n",
    "      PriorityQueue<Key> pq = new PriorityQueue<>(new \n",
    "                                                  KeyComparator()); \n",
    "      for (char c = 'a'; c <= 'z'; c++) { \n",
    "           int val = c - 'a'; \n",
    "           if (count[val] > 0) \n",
    "               pq.add(new Key(count[val], c)); \n",
    "      } \n",
    "\n",
    "      // 'str' that will store resultant value \n",
    "      str = \"\" ; \n",
    "\n",
    "      // work as the previous visited element \n",
    "      // initial previous element be. ( '#' and \n",
    "      // it's frequency '-1' ) \n",
    "      Key prev = new Key(-1, '#'); \n",
    "\n",
    "      // traverse queue \n",
    "      while (pq.size() != 0) { \n",
    "\n",
    "             // pop top element from queue and add it \n",
    "             // to string. \n",
    "             Key k = pq.peek(); \n",
    "             pq.poll(); \n",
    "             str = str + k.ch; \n",
    "\n",
    "             // If frequency of previous character is less \n",
    "             // than zero that means it is useless, we \n",
    "             // need not to push it  \n",
    "             if (prev.freq > 0) \n",
    "                 pq.add(prev); \n",
    "\n",
    "             // make current character as the previous 'char' \n",
    "             // decrease frequency by 'one' \n",
    "             (k.freq)--; \n",
    "              prev = k; \n",
    "      } \n",
    "\n",
    "      // If length of the resultant string and original \n",
    "      // string is not same then string is not valid \n",
    "      if (n != str.length()) \n",
    "          System.out.println(\" Not valid String \"); \n",
    "      else\n",
    "          System.out.println(str); \n",
    "} "
   ]
  },
  {
   "cell_type": "code",
   "execution_count": 22,
   "metadata": {},
   "outputs": [
    {
     "name": "stdout",
     "output_type": "stream",
     "text": [
      "babab\n"
     ]
    }
   ],
   "source": [
    "// Driver program to test above function  \n",
    "public static void main(String args[]) \n",
    "{ \n",
    "     String str = \"bbbaa\" ; \n",
    "     rearrangeString(str); \n",
    "} \n",
    "main(args)"
   ]
  },
  {
   "cell_type": "markdown",
   "metadata": {},
   "source": [
    "## **184. Find maximum height pyramid from the given array of objects**\n",
    "https://www.geeksforgeeks.org/find-maximum-height-pyramid-from-the-given-array-of-objects/"
   ]
  },
  {
   "cell_type": "code",
   "execution_count": 23,
   "metadata": {},
   "outputs": [],
   "source": [
    "/*\n",
    "Given n objects, with each object has width wi. We need to arrange them in a pyramidal way such that :\n",
    "\n",
    "    Total width of ith is less than (i + 1)th.\n",
    "    Total number of objects in the ith is less than (i + 1)th.\n",
    "\n",
    "The task is to find the maximum height that can be achieved from given objects.\n",
    "*/"
   ]
  },
  {
   "cell_type": "markdown",
   "metadata": {},
   "source": [
    "<img src= \"https://media.geeksforgeeks.org/wp-content/uploads/maximumHeightPyramid-1.jpg\"/>"
   ]
  },
  {
   "cell_type": "code",
   "execution_count": 24,
   "metadata": {},
   "outputs": [],
   "source": [
    "/*\n",
    "Examples :\n",
    "\n",
    "Input : arr[] = {40, 100, 20, 30}\n",
    "Output : 2\n",
    "Top level : 30.\n",
    "Lower (or bottom) level : 20, 40 and 100\n",
    "Other possibility can be placing\n",
    "20 on the top, and at second level any\n",
    "other 4 objects. Another possibility is\n",
    "to place 40 at top and other three at the\n",
    "bottom.\n",
    "\n",
    "Input : arr[] = {10, 20, 30, 50, 60, 70}\n",
    "Output : 3\n",
    "*/"
   ]
  },
  {
   "cell_type": "code",
   "execution_count": 25,
   "metadata": {},
   "outputs": [],
   "source": [
    "/*\n",
    "Time Complexity : O(n log n)\n",
    "\n",
    "The idea is to use greedy approach by placing the object with the lowest width at the top, \n",
    "the next object at the level right below and so on.\n",
    "\n",
    "To find the maximum number of levels, --->\n",
    "\n",
    "sort the given array and try to form pyramid from top to bottom. \n",
    "Find the smallest element of array \n",
    "    i.e first element of array after sorting, place it on the top. \n",
    "Then try to build levels below it with greater number of objects and greater width.\n",
    "*/"
   ]
  },
  {
   "cell_type": "code",
   "execution_count": 26,
   "metadata": {},
   "outputs": [],
   "source": [
    "// Returns maximum number of pyramidcal \n",
    "// levels n boxes of given widths. \n",
    "static int maxLevel(int []boxes, int n) \n",
    "{ \n",
    "\n",
    "    // Sort objects in increasing order \n",
    "    // of widths \n",
    "    Arrays.sort(boxes); \n",
    "\n",
    "    int ans = 1; // Initialize result \n",
    "\n",
    "    // Total width of previous level  \n",
    "    // and total number of objects in \n",
    "    // previous level \n",
    "    int prev_width = boxes[0]; \n",
    "    int prev_count = 1; \n",
    "\n",
    "    // Number of object in current \n",
    "    // level. \n",
    "    int curr_count = 0; \n",
    "\n",
    "    // Width of current level. \n",
    "    int curr_width = 0; \n",
    "    for (int i = 1; i < n; i++) \n",
    "    { \n",
    "        // Picking the object. So \n",
    "        // increase current width \n",
    "        // and number of object. \n",
    "        curr_width += boxes[i]; \n",
    "        curr_count += 1; \n",
    "\n",
    "        // If current width and  \n",
    "        // number of object \n",
    "        // are greater than previous. \n",
    "        if (curr_width > prev_width && \n",
    "            curr_count > prev_count) \n",
    "        { \n",
    "\n",
    "            // Update previous width, \n",
    "            // number of object on  \n",
    "            // previous level. \n",
    "            prev_width = curr_width; \n",
    "            prev_count = curr_count; \n",
    "\n",
    "            // Reset width of current \n",
    "            // level, number of object  \n",
    "            // on current level. \n",
    "            curr_count = 0; \n",
    "            curr_width = 0; \n",
    "\n",
    "            // Increment number of \n",
    "            // level. \n",
    "            ans++; \n",
    "        } \n",
    "    } \n",
    "\n",
    "    return ans; \n",
    "} "
   ]
  },
  {
   "cell_type": "code",
   "execution_count": 27,
   "metadata": {},
   "outputs": [
    {
     "name": "stdout",
     "output_type": "stream",
     "text": [
      "3\n"
     ]
    }
   ],
   "source": [
    "// Driver Program \n",
    "static public void main (String[] args) \n",
    "{ \n",
    "    int []boxes = {10, 20, 30, 50, 60, 70}; \n",
    "    int n = boxes.length; \n",
    "    System.out.println(maxLevel(boxes, n)); \n",
    "} \n",
    "main(args);"
   ]
  },
  {
   "cell_type": "markdown",
   "metadata": {},
   "source": [
    "**Related Link** ***https://www.geeksforgeeks.org/maximum-height-of-triangular-arrangement-of-array-values/***"
   ]
  },
  {
   "cell_type": "markdown",
   "metadata": {},
   "source": [
    "## **185. Minimum cost for acquiring all coins with k extra coins allowed with every coin**\n",
    "https://www.geeksforgeeks.org/minimum-cost-for-acquiring-all-coins-with-k-extra-coins-allowed-with-every-coin/"
   ]
  },
  {
   "cell_type": "code",
   "execution_count": 28,
   "metadata": {},
   "outputs": [],
   "source": [
    "/*\n",
    "You are given a list of N coins of different denominations. \n",
    "you can pay an amount equivalent to any 1 coin and can acquire that coin. \n",
    "In addition, \n",
    "    once you have paid for a coin, \n",
    "    we can choose at most K more coins and can acquire those for free.\n",
    "    \n",
    "The task is to find the minimum amount required to acquire all the N coins for a given value of K.\n",
    "*/"
   ]
  },
  {
   "cell_type": "code",
   "execution_count": 29,
   "metadata": {},
   "outputs": [],
   "source": [
    "/*\n",
    "Examples :\n",
    "\n",
    "Input : coin[] = {100, 20, 50, 10, 2, 5}, \n",
    "        k = 3\n",
    "Output : 7\n",
    "\n",
    "Input : coin[] = {1, 2, 5, 10, 20, 50}, \n",
    "        k = 3\n",
    "Output : 3\n",
    "*/"
   ]
  },
  {
   "cell_type": "code",
   "execution_count": 30,
   "metadata": {},
   "outputs": [],
   "source": [
    "/*\n",
    "As per question, we can see that at a cost of 1 coin, we can acquire at most K+1 coins. \n",
    "Therefore, in order to acquire all the n coins, we will be choosing ceil(n/(k+1)) coins and \n",
    "the cost of choosing coins will be minimum if we choose smallest ceil(n/(k+1)) ( Greedy approach).\n",
    "\n",
    "Smallest ceil(n/(k+1)) coins can be found by simply sorting all the N values in increasing order.\n",
    "If we should check for time complexity (n log n) is for sorting element and (k) is for adding the total amount. \n",
    "So, finally Time Complexity : O(n log n).\n",
    "*/"
   ]
  },
  {
   "cell_type": "code",
   "execution_count": 31,
   "metadata": {},
   "outputs": [],
   "source": [
    "// function to calculate min cost \n",
    "static int minCost(int coin[],  \n",
    "                   int n, int k) \n",
    "{ \n",
    "\n",
    "    // sort the coins value \n",
    "    Arrays.sort(coin); \n",
    "\n",
    "    // calculate no. of  \n",
    "    // coins needed \n",
    "    int coins_needed = (int)Math.ceil(1.0 * \n",
    "                              n / (k + 1)); \n",
    "\n",
    "    // calculate sum of  \n",
    "    // all selected coins \n",
    "    int ans = 0; \n",
    "\n",
    "    for (int i = 0; i <= coins_needed - 1;  \n",
    "                                      i++) \n",
    "        ans += coin[i]; \n",
    "\n",
    "    return ans; \n",
    "} "
   ]
  },
  {
   "cell_type": "code",
   "execution_count": 32,
   "metadata": {},
   "outputs": [
    {
     "name": "stdout",
     "output_type": "stream",
     "text": [
      "3"
     ]
    }
   ],
   "source": [
    "// Driver code \n",
    "public static void main(String arg[]) \n",
    "{ \n",
    "    int coin[] = { 8, 5, 3, 10,  \n",
    "                   2, 1, 15, 25 }; \n",
    "    int n = coin.length; \n",
    "    int k = 3; \n",
    "\n",
    "    System.out.print(minCost(coin, n, k)); \n",
    "} \n",
    "main(args);"
   ]
  },
  {
   "cell_type": "code",
   "execution_count": 33,
   "metadata": {},
   "outputs": [],
   "source": [
    "/*\n",
    "How to handle multiple queries for a single predefined array?\n",
    "\n",
    "In the case, \n",
    "    if you are asked to find the above answer for many different values of K, \n",
    "    you have to compute it fast and our time complexity got increased as per number of queries for k. \n",
    "For the purpose to serve, \n",
    "    we can maintain a prefix sum array after sorting all the N values and can answer queries easily and quickly.\n",
    "    \n",
    "After preprocessing, every query for a k takes O(1) time.\n",
    "*/"
   ]
  },
  {
   "cell_type": "code",
   "execution_count": 34,
   "metadata": {},
   "outputs": [],
   "source": [
    "// Converts coin[] to prefix sum array \n",
    "static void preprocess(int []coin, int n) \n",
    "{ \n",
    "\n",
    "    // sort the coins value \n",
    "    Arrays.sort(coin); \n",
    "\n",
    "    // Maintain prefix sum array \n",
    "    for (int i = 1; i <= n - 1; i++) \n",
    "        coin[i] += coin[i - 1]; \n",
    "} "
   ]
  },
  {
   "cell_type": "code",
   "execution_count": 35,
   "metadata": {},
   "outputs": [],
   "source": [
    "// Function to calculate min cost when we \n",
    "// can get k extra coins after paying  \n",
    "// cost of one. \n",
    "static int minCost(int []coin, int n, int k) \n",
    "{ \n",
    "\n",
    "    // calculate no. of coins needed \n",
    "    int coins_needed =(int) Math.ceil(1.0 \n",
    "                            * n / (k + 1)); \n",
    "\n",
    "    // return sum of from prefix array \n",
    "    return coin[coins_needed - 1]; \n",
    "} "
   ]
  },
  {
   "cell_type": "code",
   "execution_count": 36,
   "metadata": {},
   "outputs": [
    {
     "name": "stdout",
     "output_type": "stream",
     "text": [
      "3\n",
      "1\n"
     ]
    }
   ],
   "source": [
    "// Driver Code \n",
    "static public void main (String[] args) \n",
    "{ \n",
    "    int []coin = {8, 5, 3, 10, 2, 1, 15, 25}; \n",
    "    int n = coin.length; \n",
    "\n",
    "    preprocess(coin, n); \n",
    "\n",
    "    int k = 3; \n",
    "    System.out.println(minCost(coin, n, k)); \n",
    "\n",
    "    k = 7; \n",
    "    System.out.println( minCost(coin, n, k)); \n",
    "} \n",
    "main(args);"
   ]
  },
  {
   "cell_type": "markdown",
   "metadata": {},
   "source": [
    "## **186. Find maximum sum possible equal sum of three stacks**\n",
    "https://www.geeksforgeeks.org/find-maximum-sum-possible-equal-sum-three-stacks/"
   ]
  },
  {
   "cell_type": "code",
   "execution_count": 37,
   "metadata": {},
   "outputs": [],
   "source": [
    "/*\n",
    "Given three stack of the positive numbers, \n",
    "    the task is to find the possible equal maximum sum of the stacks with removal of top elements allowed. \n",
    "    Stacks are represented as array, and the first index of the array represent the top element of the stack.\n",
    "*/"
   ]
  },
  {
   "cell_type": "code",
   "execution_count": 38,
   "metadata": {},
   "outputs": [],
   "source": [
    "/*\n",
    "Examples:\n",
    "\n",
    "Input : \n",
    "  stack1[] = { 3, 10}\n",
    "  stack2[] = { 4, 5 }\n",
    "  stack3[] = { 2, 1 }\n",
    "Output : 0\n",
    "Sum can only be equal after removing all elements \n",
    "from all stacks.\n",
    "*/"
   ]
  },
  {
   "cell_type": "markdown",
   "metadata": {},
   "source": [
    "<img src = \"https://media.geeksforgeeks.org/wp-content/cdn-uploads/Find-maximum-sum-possible-equal-sum-of-three-stacks-2.png\"/>"
   ]
  },
  {
   "cell_type": "code",
   "execution_count": 39,
   "metadata": {},
   "outputs": [],
   "source": [
    "/*\n",
    "The idea is to compare the sum of each stack, \n",
    "if they are not same, \n",
    "    remove the top element of the stack having the maximum sum.\n",
    "*/"
   ]
  },
  {
   "cell_type": "code",
   "execution_count": 40,
   "metadata": {},
   "outputs": [],
   "source": [
    "/*\n",
    "Algorithm for solving this problem:\n",
    "\n",
    "1. Find sum of all elements of in individual stacks.\n",
    "2. If the sum of all three stacks is same, then this is the maximum sum.\n",
    "3. Else remove the top element of the stack having the maximum sum among three of stacks. Repeat step 1 and step 2.\n",
    "*/"
   ]
  },
  {
   "cell_type": "code",
   "execution_count": 41,
   "metadata": {},
   "outputs": [],
   "source": [
    "/*\n",
    "The approach works because elements are positive. \n",
    "To make sum equal, \n",
    "    we must remove some element from stack having more sum and we can only remove from top.\n",
    "*/"
   ]
  },
  {
   "cell_type": "code",
   "execution_count": 42,
   "metadata": {},
   "outputs": [],
   "source": [
    "// Returns maximum possible equal sum of three  \n",
    "// stacks with removal of top elements allowed \n",
    "public static int maxSum(int stack1[], int stack2[], \n",
    "                        int stack3[], int n1, int n2, \n",
    "                                           int n3) \n",
    "{ \n",
    "  int sum1 = 0, sum2 = 0, sum3 = 0; \n",
    "\n",
    "  // Finding the initial sum of stack1. \n",
    "  for (int i=0; i < n1; i++) \n",
    "      sum1 += stack1[i]; \n",
    "\n",
    "  // Finding the initial sum of stack2. \n",
    "  for (int i=0; i < n2; i++) \n",
    "      sum2 += stack2[i]; \n",
    "\n",
    "  // Finding the initial sum of stack3. \n",
    "  for (int i=0; i < n3; i++) \n",
    "      sum3 += stack3[i]; \n",
    "\n",
    "  // As given in question, first element is top \n",
    "  // of stack.. \n",
    "  int top1 =0, top2 = 0, top3 = 0; \n",
    "  int ans = 0; \n",
    "  while (true) \n",
    "  { \n",
    "      // If any stack is empty \n",
    "      if (top1 == n1 || top2 == n2 || top3 == n3) \n",
    "         return 0; \n",
    "\n",
    "      // If sum of all three stack are equal. \n",
    "      if (sum1 == sum2 && sum2 == sum3) \n",
    "         return sum1; \n",
    "\n",
    "      // Finding the stack with maximum sum and  \n",
    "      // removing its top element. \n",
    "      if (sum1 >= sum2 && sum1 >= sum3) \n",
    "         sum1 -= stack1[top1++]; \n",
    "      else if (sum2 >= sum3 && sum2 >= sum3) \n",
    "         sum2 -= stack2[top2++]; \n",
    "      else if (sum3 >= sum2 && sum3 >= sum1) \n",
    "         sum3 -= stack3[top3++]; \n",
    "   } \n",
    "} "
   ]
  },
  {
   "cell_type": "code",
   "execution_count": 43,
   "metadata": {},
   "outputs": [
    {
     "name": "stdout",
     "output_type": "stream",
     "text": [
      "5\n"
     ]
    }
   ],
   "source": [
    "/* Driver program to test above function */\n",
    "public static void main(String[] args)  \n",
    "{ \n",
    "      int stack1[] = { 3, 2, 1, 1, 1 }; \n",
    "      int stack2[] = { 4, 3, 2 }; \n",
    "      int stack3[] = { 1, 1, 4, 1 }; \n",
    "\n",
    "      int n1 = stack1.length; \n",
    "      int n2 = stack2.length; \n",
    "      int n3 = stack3.length; \n",
    "\n",
    "      System.out.println(maxSum(stack1, stack2,  \n",
    "                           stack3, n1, n2, n3)); \n",
    "} \n",
    "main(args);"
   ]
  },
  {
   "cell_type": "markdown",
   "metadata": {},
   "source": [
    "***https://youtu.be/PZ-TNgKVX-0***"
   ]
  },
  {
   "cell_type": "markdown",
   "metadata": {},
   "source": [
    "## **187. Maximize array sum after K negations | Set 1**\n",
    "https://www.geeksforgeeks.org/maximize-array-sun-after-k-negation-operations/"
   ]
  },
  {
   "cell_type": "code",
   "execution_count": 44,
   "metadata": {},
   "outputs": [],
   "source": [
    "/*\n",
    "Given an array of size n and a number k. \n",
    "We must modify array K number of times. \n",
    "Here modify array means in each operation we can replace any array element arr[i] by -arr[i]. \n",
    "We need to perform this operation in such a way that after K operations, sum of array must be maximum?\n",
    "*/"
   ]
  },
  {
   "cell_type": "markdown",
   "metadata": {},
   "source": [
    "**Related Link** ***https://www.geeksforgeeks.org/maximize-array-sum-k-negations-set-2/***"
   ]
  },
  {
   "cell_type": "code",
   "execution_count": 45,
   "metadata": {},
   "outputs": [],
   "source": [
    "/*\n",
    "Examples :\n",
    "\n",
    "Input : arr[] = {-2, 0, 5, -1, 2} \n",
    "        K = 4\n",
    "Output: 10\n",
    "// Replace (-2) by -(-2), array becomes {2, 0, 5, -1, 2}\n",
    "// Replace (-1) by -(-1), array becomes {2, 0, 5, 1, 2}\n",
    "// Replace (0) by -(0), array becomes {2, 0, 5, 1, 2}\n",
    "// Replace (0) by -(0), array becomes {2, 0, 5, 1, 2}\n",
    "\n",
    "Input : arr[] = {9, 8, 8, 5} \n",
    "        K = 3\n",
    "Output: 20\n",
    "*/"
   ]
  },
  {
   "cell_type": "code",
   "execution_count": 46,
   "metadata": {},
   "outputs": [],
   "source": [
    "/*\n",
    "Time Complexity : O(k*n)\n",
    "Auxiliary Space : O(1)\n",
    "\n",
    "This problem has very simple solution, \n",
    "we just have to replace the minimum element arr[i] in array by -arr[i] for current operation. \n",
    "In this way we can make sum of array maximum after K operations. \n",
    "Once interesting case is, once minimum element becomes 0, we don’t need to make any more changes.\n",
    "*/"
   ]
  },
  {
   "cell_type": "code",
   "execution_count": 47,
   "metadata": {},
   "outputs": [],
   "source": [
    "// This function does k operations  \n",
    "// on array in a way that maximize  \n",
    "// the array sum. index --> stores  \n",
    "// the index of current minimum \n",
    "// element for j'th operation \n",
    "static int maximumSum(int arr[], int n, int k) \n",
    "{ \n",
    "    // Modify array K number of times \n",
    "    for (int i = 1; i <= k; i++) \n",
    "    { \n",
    "        int min = +2147483647; \n",
    "        int index = -1; \n",
    "\n",
    "        // Find minimum element in array for \n",
    "        // current operation and modify it \n",
    "        // i.e; arr[j] --> -arr[j] \n",
    "        for (int j=0; j<n; j++) \n",
    "        { \n",
    "            if (arr[j] < min) \n",
    "            { \n",
    "                min = arr[j]; \n",
    "                index = j; \n",
    "            } \n",
    "        } \n",
    "\n",
    "        // this the condition if we find 0 as \n",
    "        // minimum element, so it will useless to \n",
    "        // replace 0 by -(0) for remaining operations \n",
    "        if (min == 0) \n",
    "            break; \n",
    "\n",
    "        // Modify element of array \n",
    "        arr[index] = -arr[index]; \n",
    "    } \n",
    "\n",
    "    // Calculate sum of array \n",
    "    int sum = 0; \n",
    "    for (int i = 0; i < n; i++) \n",
    "        sum += arr[i]; \n",
    "    return sum; \n",
    "} "
   ]
  },
  {
   "cell_type": "code",
   "execution_count": 48,
   "metadata": {},
   "outputs": [
    {
     "name": "stdout",
     "output_type": "stream",
     "text": [
      "10"
     ]
    }
   ],
   "source": [
    "// Driver program \n",
    "public static void main(String arg[]) \n",
    "{ \n",
    "    int arr[] = {-2, 0, 5, -1, 2}; \n",
    "    int k = 4; \n",
    "    int n = arr.length; \n",
    "    System.out.print(maximumSum(arr, n, k)); \n",
    "} \n",
    "main(args)"
   ]
  },
  {
   "cell_type": "markdown",
   "metadata": {},
   "source": [
    "## **188. Minimum Cost to cut a board into squares**\n",
    "https://www.geeksforgeeks.org/minimum-cost-cut-board-squares/"
   ]
  },
  {
   "cell_type": "code",
   "execution_count": 49,
   "metadata": {},
   "outputs": [],
   "source": [
    "/*\n",
    "A board of length m and width n is given, \n",
    "we need to break this board into m*n squares such that cost of breaking is minimum. \n",
    "cutting cost for each edge will be given for the board. \n",
    "In short we need to choose such a sequence of cutting such that cost is minimized.\n",
    "*/"
   ]
  },
  {
   "cell_type": "markdown",
   "metadata": {},
   "source": [
    "<img src = \"https://media.geeksforgeeks.org/wp-content/cdn-uploads/board.png\"/>"
   ]
  },
  {
   "cell_type": "code",
   "execution_count": 50,
   "metadata": {},
   "outputs": [],
   "source": [
    "/*\n",
    "For above board optimal way to cut into square is:\n",
    "Total minimum cost in above case is 42. It is \n",
    "evaluated using following steps.\n",
    "\n",
    "Initial Value : Total_cost = 0\n",
    "Total_cost = Total_cost + edge_cost * total_pieces\n",
    "\n",
    "Cost 4 Horizontal cut         Cost = 0 + 4*1 = 4\n",
    "Cost 4 Vertical cut        Cost = 4 + 4*2 = 12\n",
    "Cost 3 Vertical cut        Cost = 12 + 3*2 = 18\n",
    "Cost 2 Horizontal cut        Cost = 18 + 2*3 = 24\n",
    "Cost 2 Vertical cut        Cost = 24 + 2*3 = 30\n",
    "Cost 1 Horizontal cut        Cost = 30 + 1*4 = 34\n",
    "Cost 1 Vertical cut        Cost = 34 + 1*4 = 38\n",
    "Cost 1 Vertical cut        Cost = 38 + 1*4 = 42\n",
    "*/"
   ]
  },
  {
   "cell_type": "code",
   "execution_count": 51,
   "metadata": {},
   "outputs": [],
   "source": [
    "/*\n",
    "This problem can be solved using greedy approach, \n",
    "\n",
    "If total cost is denoted by S, \n",
    "    then S = a1w1 + a2w2 … + akwk, where wi is a cost of certain edge cutting and ai is corresponding coefficient, \n",
    "    The coefficient ai is determined by the total number of cuts we have competed using edge wi at the end of the cutting process. \n",
    "    \n",
    "Notice that sum of the coefficients are always constant, \n",
    "    hence we want to find a distribution of ai obtainable such that S is minimum. \n",
    "    \n",
    "To do so we perform cuts on highest cost edge as early as possible, which will reach to optimal S. \n",
    "If we encounter several edges having the same cost, \n",
    "    we can cut any one of them first.\n",
    "\n",
    "Below is the solution using above approach, \n",
    "first we sorted the edge cutting costs in reverse order, \n",
    "then we loop in them from higher cost to lower cost building our solution. \n",
    "Each time we choose an edge, counter part count is incremented by 1, \n",
    "    which is to be multiplied each time with corresponding edge cutting cost.\n",
    "    \n",
    "Notice below used sort method, \n",
    "    sending greater() as 3rd argument to sort method sorts number in non-increasing order, \n",
    "    it is predefined function of the library.\n",
    "*/"
   ]
  },
  {
   "cell_type": "code",
   "execution_count": 52,
   "metadata": {},
   "outputs": [],
   "source": [
    "// method returns minimum cost to break board into \n",
    "// m*n squares \n",
    "static int minimumCostOfBreaking(Integer X[], Integer Y[],  \n",
    "                                             int m, int n) \n",
    "{ \n",
    "    int res = 0; \n",
    "\n",
    "    // sort the horizontal cost in reverse order \n",
    "    Arrays.sort(X, Collections.reverseOrder()); \n",
    "\n",
    "    // sort the vertical cost in reverse order \n",
    "    Arrays.sort(Y, Collections.reverseOrder()); \n",
    "\n",
    "    // initialize current width as 1 \n",
    "    int hzntl = 1, vert = 1; \n",
    "\n",
    "    // loop untill one or both \n",
    "    // cost array are processed \n",
    "    int i = 0, j = 0; \n",
    "    while (i < m && j < n) \n",
    "    { \n",
    "        if (X[i] > Y[j]) \n",
    "        { \n",
    "            res += X[i] * vert; \n",
    "\n",
    "            // increase current horizontal \n",
    "            // part count by 1 \n",
    "            hzntl++; \n",
    "            i++; \n",
    "        } \n",
    "        else\n",
    "        { \n",
    "            res += Y[j] * hzntl; \n",
    "\n",
    "            // increase current vertical  \n",
    "            // part count by 1 \n",
    "            vert++; \n",
    "            j++; \n",
    "        } \n",
    "    } \n",
    "\n",
    "    // loop for horizontal array,  \n",
    "    // if remains \n",
    "    int total = 0; \n",
    "    while (i < m) \n",
    "        total += X[i++]; \n",
    "    res += total * vert; \n",
    "\n",
    "    // loop for vertical array,  \n",
    "    // if remains \n",
    "    total = 0; \n",
    "    while (j < n) \n",
    "        total += Y[j++]; \n",
    "    res += total * hzntl; \n",
    "\n",
    "    return res; \n",
    "} "
   ]
  },
  {
   "cell_type": "code",
   "execution_count": 53,
   "metadata": {},
   "outputs": [
    {
     "name": "stdout",
     "output_type": "stream",
     "text": [
      "42"
     ]
    }
   ],
   "source": [
    "// Driver program \n",
    "public static void main(String arg[]) \n",
    "{ \n",
    "    int m = 6, n = 4; \n",
    "    Integer X[] = {2, 1, 3, 1, 4}; \n",
    "    Integer Y[] = {4, 1, 2}; \n",
    "    System.out.print(minimumCostOfBreaking(X, Y, m-1, n-1)); \n",
    "}\n",
    "main(args);"
   ]
  },
  {
   "cell_type": "markdown",
   "metadata": {},
   "source": [
    "## **189. Minimize Cash Flow among a given set of friends who have borrowed money from each other**\n",
    "https://www.geeksforgeeks.org/minimize-cash-flow-among-given-set-friends-borrowed-money/"
   ]
  },
  {
   "cell_type": "code",
   "execution_count": 54,
   "metadata": {},
   "outputs": [],
   "source": [
    "/*\n",
    "Given a number of friends who have to give or take some amount of money from one another. \n",
    "Design an algorithm by which the total cash flow among all the friends is minimized.\n",
    "*/"
   ]
  },
  {
   "cell_type": "code",
   "execution_count": 55,
   "metadata": {},
   "outputs": [],
   "source": [
    "/*\n",
    "Example:\n",
    "Following 1st diagram shows input debts to be settled.\n",
    "Above debts can be settled in following optimized way (2nd diagram)\n",
    "*/"
   ]
  },
  {
   "cell_type": "markdown",
   "metadata": {},
   "source": [
    "<img src = \"https://media.geeksforgeeks.org/wp-content/cdn-uploads/cashFlow.png\"/>"
   ]
  },
  {
   "cell_type": "markdown",
   "metadata": {},
   "source": [
    "<img src = \"https://media.geeksforgeeks.org/wp-content/cdn-uploads/cashFlow1.png\"/>"
   ]
  },
  {
   "cell_type": "code",
   "execution_count": 56,
   "metadata": {},
   "outputs": [],
   "source": [
    "/*\n",
    "Algorithmic Paradigm: Greedy\n",
    "Time Complexity: O(N^2) where N is the number of persons.\n",
    "\n",
    "The idea is to use Greedy algorithm where at every step, \n",
    "    settle all amounts of one person and recur for remaining n-1 persons.\n",
    "\n",
    "How to pick the first person? \n",
    "\n",
    "To pick the first person, \n",
    "    calculate the net amount for every person \n",
    "    where net amount is obtained by subtracting all debts (amounts to pay) from all credits (amounts to be paid). \n",
    "    Once net amount for every person is evaluated, find two persons with maximum and minimum net amounts. \n",
    "    These two persons are the most creditors and debtors. \n",
    "    The person with minimum of two is our first person to be settled and removed from list. \n",
    "    Let the minimum of two amounts be x. \n",
    "    We pay ‘x’ amount from the maximum debtor to maximum creditor and settle one person. \n",
    "    If x is equal to the maximum debit, \n",
    "        then maximum debtor is settled, \n",
    "    else \n",
    "        maximum creditor is settled.\n",
    "\n",
    "The following is detailed algorithm.\n",
    "\n",
    "Do following for every person Pi where i is from 0 to n-1.\n",
    "\n",
    "1) Compute the net amount for every person. \n",
    "   The net amount for person ‘i’ can be computed be subtracting sum of all debts from sum of all credits.\n",
    "\n",
    "2) Find the two persons that are maximum creditor and maximum debtor. \n",
    "   Let the maximum amount to be credited maximum creditor be maxCredit and \n",
    "           maximum amount to be debited from maximum debtor be maxDebit. \n",
    "   Let the maximum debtor be Pd and maximum creditor be Pc.\n",
    "\n",
    "3) Find the minimum of maxDebit and maxCredit. \n",
    "    Let minimum of two be x. \n",
    "    Debit ‘x’ from Pd and credit this amount to Pc\n",
    "\n",
    "4) If x is equal to maxCredit, \n",
    "        then remove Pc from set of persons and recur for remaining (n-1) persons.\n",
    "\n",
    "5) If x is equal to maxDebit, \n",
    "        then remove Pd from set of persons and recur for remaining (n-1) persons.\n",
    "*/"
   ]
  },
  {
   "cell_type": "code",
   "execution_count": 57,
   "metadata": {},
   "outputs": [],
   "source": [
    "// Number of persons (or vertices in the graph) \n",
    "static final int N = 3; \n",
    "\n",
    "// A utility function that returns  \n",
    "// index of minimum value in arr[] \n",
    "static int getMin(int arr[]) \n",
    "{ \n",
    "    int minInd = 0; \n",
    "    for (int i = 1; i < N; i++) \n",
    "        if (arr[i] < arr[minInd]) \n",
    "            minInd = i; \n",
    "    return minInd; \n",
    "} \n",
    "\n",
    "// A utility function that returns  \n",
    "// index of maximum value in arr[] \n",
    "static int getMax(int arr[]) \n",
    "{ \n",
    "    int maxInd = 0; \n",
    "    for (int i = 1; i < N; i++) \n",
    "        if (arr[i] > arr[maxInd]) \n",
    "            maxInd = i; \n",
    "    return maxInd; \n",
    "} \n",
    "\n",
    "// A utility function to return minimum of 2 values \n",
    "static int minOf2(int x, int y) \n",
    "{ \n",
    "    return (x < y) ? x: y; \n",
    "}"
   ]
  },
  {
   "cell_type": "code",
   "execution_count": 58,
   "metadata": {},
   "outputs": [],
   "source": [
    "// amount[p] indicates the net amount  \n",
    "// to be credited/debited to/from person 'p' \n",
    "// If amount[p] is positive, then  \n",
    "// i'th person will amount[i] \n",
    "// If amount[p] is negative, then  \n",
    "// i'th person will give -amount[i] \n",
    "static void minCashFlowRec(int amount[]) \n",
    "{ \n",
    "    // Find the indexes of minimum and \n",
    "    // maximum values in amount[] \n",
    "    // amount[mxCredit] indicates the maximum amount  \n",
    "    // to be given (or credited) to any person . \n",
    "    // And amount[mxDebit] indicates the maximum amount  \n",
    "    // to be taken(or debited) from any person. \n",
    "    // So if there is a positive value in amount[],  \n",
    "    // then there must be a negative value \n",
    "    int mxCredit = getMax(amount), mxDebit = getMin(amount); \n",
    "\n",
    "    // If both amounts are 0, then  \n",
    "    // all amounts are settled \n",
    "    if (amount[mxCredit] == 0 && amount[mxDebit] == 0) \n",
    "        return; \n",
    "\n",
    "    // Find the minimum of two amounts \n",
    "    int min = minOf2(-amount[mxDebit], amount[mxCredit]); \n",
    "    amount[mxCredit] -= min; \n",
    "    amount[mxDebit] += min; \n",
    "\n",
    "    // If minimum is the maximum amount to be \n",
    "    System.out.println(\"Person \" + mxDebit + \" pays \" + min \n",
    "                            + \" to \" + \"Person \" + mxCredit); \n",
    "\n",
    "    // Recur for the amount array.  \n",
    "    // Note that it is guaranteed that \n",
    "    // the recursion would terminate  \n",
    "    // as either amount[mxCredit]  or  \n",
    "    // amount[mxDebit] becomes 0 \n",
    "    minCashFlowRec(amount); \n",
    "} "
   ]
  },
  {
   "cell_type": "code",
   "execution_count": 59,
   "metadata": {},
   "outputs": [],
   "source": [
    "// Given a set of persons as graph[]  \n",
    "// where graph[i][j] indicates \n",
    "// the amount that person i needs to  \n",
    "// pay person j, this function \n",
    "// finds and prints the minimum  \n",
    "// cash flow to settle all debts. \n",
    "static void minCashFlow(int graph[][]) \n",
    "{ \n",
    "    // Create an array amount[],  \n",
    "    // initialize all value in it as 0. \n",
    "    int amount[]=new int[N]; \n",
    "\n",
    "    // Calculate the net amount to  \n",
    "    // be paid to person 'p', and \n",
    "    // stores it in amount[p]. The  \n",
    "    // value of amount[p] can be \n",
    "    // calculated by subtracting  \n",
    "    // debts of 'p' from credits of 'p' \n",
    "    for (int p = 0; p < N; p++) \n",
    "    for (int i = 0; i < N; i++) \n",
    "        amount[p] += (graph[i][p] - graph[p][i]); \n",
    "\n",
    "    minCashFlowRec(amount); \n",
    "} "
   ]
  },
  {
   "cell_type": "code",
   "execution_count": 60,
   "metadata": {},
   "outputs": [
    {
     "name": "stdout",
     "output_type": "stream",
     "text": [
      "Person 1 pays 4000 to Person 2\n",
      "Person 0 pays 3000 to Person 2\n"
     ]
    }
   ],
   "source": [
    "// Driver code \n",
    "public static void main (String[] args) \n",
    "{ \n",
    "    // graph[i][j] indicates the amount  \n",
    "    // that person i needs to pay person j \n",
    "    int graph[][] = { {0, 1000, 2000}, \n",
    "                        {0, 0, 5000}, \n",
    "                        {0, 0, 0},}; \n",
    "\n",
    "    // Print the solution \n",
    "    minCashFlow(graph); \n",
    "}\n",
    "main(args);"
   ]
  },
  {
   "cell_type": "markdown",
   "metadata": {},
   "source": [
    "## **190. Minimum edges to reverse to make path from a source to a destination**\n",
    "https://www.geeksforgeeks.org/minimum-edges-reverse-make-path-source-destination/"
   ]
  },
  {
   "cell_type": "code",
   "execution_count": 61,
   "metadata": {},
   "outputs": [],
   "source": [
    "/*\n",
    "Given a directed graph and a source node and destination node, \n",
    "\n",
    "we need to find how many edges we need to reverse in order to make at least 1 path from source node to destination node.\n",
    "*/"
   ]
  },
  {
   "cell_type": "markdown",
   "metadata": {},
   "source": [
    "<img src = \"https://media.geeksforgeeks.org/wp-content/uploads/reverseEdge.png\"/>"
   ]
  },
  {
   "cell_type": "code",
   "execution_count": 62,
   "metadata": {},
   "outputs": [],
   "source": [
    "/*\n",
    "In above graph there were two paths from node 0 to node 6,\n",
    "0 -> 1 -> 2 -> 3 -> 6\n",
    "0 -> 1 -> 5 -> 4 -> 6\n",
    "But for first path only two edges need to be reversed, so answer will be 2 only.\n",
    "*/"
   ]
  },
  {
   "cell_type": "code",
   "execution_count": 63,
   "metadata": {},
   "outputs": [],
   "source": [
    "/*\n",
    "This problem can be solved assuming a different version of the given graph. \n",
    "In this version we make a reverse edge corresponding to every edge \n",
    "and we assign that a weight 1 \n",
    "and assign a weight 0 to original edge. \n",
    "After this modification above graph looks something like below,\n",
    "*/"
   ]
  },
  {
   "cell_type": "markdown",
   "metadata": {},
   "source": [
    "<img src = \"https://media.geeksforgeeks.org/wp-content/uploads/modifiedGraph.png\"/>"
   ]
  },
  {
   "cell_type": "code",
   "execution_count": 64,
   "metadata": {},
   "outputs": [],
   "source": [
    "/*\n",
    "Now we can see that we have modified the graph in such a way that, \n",
    "if we move towards original edge, \n",
    "    no cost is incurred, \n",
    "but if we move toward reverse edge \n",
    "    1 cost is added. \n",
    "\n",
    "So if we apply Dijkstra’s shortest path on this modified graph from given source, \n",
    "    then that will give us minimum cost to reach from source to destination \n",
    "    i.e. minimum edge reversal from source to destination.\n",
    "*/"
   ]
  },
  {
   "cell_type": "markdown",
   "metadata": {},
   "source": [
    "***https://ideone.com/zhNTS2***"
   ]
  },
  {
   "cell_type": "markdown",
   "metadata": {},
   "source": [
    "## **191. Ugly Numbers**\n",
    "https://www.geeksforgeeks.org/ugly-numbers/"
   ]
  },
  {
   "cell_type": "code",
   "execution_count": 65,
   "metadata": {},
   "outputs": [],
   "source": [
    "/*\n",
    "Ugly numbers are numbers whose only prime factors are 2, 3 or 5. \n",
    "The sequence 1, 2, 3, 4, 5, 6, 8, 9, 10, 12, 15, … shows the first 11 ugly numbers. \n",
    "By convention, 1 is included.\n",
    "\n",
    "Given a number n, the task is to find n’th Ugly number.\n",
    "*/"
   ]
  },
  {
   "cell_type": "code",
   "execution_count": 66,
   "metadata": {},
   "outputs": [],
   "source": [
    "/*\n",
    "Examples:\n",
    "\n",
    "Input  : n = 7\n",
    "Output : 8\n",
    "\n",
    "Input  : n = 10\n",
    "Output : 12\n",
    "\n",
    "Input  : n = 15\n",
    "Output : 24\n",
    "\n",
    "Input  : n = 150\n",
    "Output : 5832\n",
    "*/"
   ]
  },
  {
   "cell_type": "code",
   "execution_count": 67,
   "metadata": {},
   "outputs": [],
   "source": [
    "/*\n",
    "Method 1 (Simple)\n",
    "This method is not time efficient as it checks for all integers until ugly number count becomes n, \n",
    "but space complexity of this method is O(1)\n",
    "\n",
    "Loop for all positive integers until ugly number count is smaller than n, \n",
    "if an integer is ugly than increment ugly number count.\n",
    "\n",
    "To check if a number is ugly, \n",
    "divide the number by greatest divisible powers of 2, 3 and 5, \n",
    "if the number becomes 1 then it is an ugly number otherwise not.\n",
    "\n",
    "For example, \n",
    "let us see how to check for 300 is ugly or not. \n",
    "Greatest divisible power of 2 is 4, after dividing 300 by 4 we get 75. \n",
    "Greatest divisible power of 3 is 3, after dividing 75 by 3 we get 25. \n",
    "Greatest divisible power of 5 is 25, after dividing 25 by 25 we get 1. \n",
    "Since we get 1 finally, 300 is ugly number.\n",
    "*/"
   ]
  },
  {
   "cell_type": "code",
   "execution_count": 68,
   "metadata": {},
   "outputs": [
    {
     "name": "stdout",
     "output_type": "stream",
     "text": [
      "150th ugly no. is 5832\n"
     ]
    }
   ],
   "source": [
    "/*This function divides a by greatest \n",
    "divisible power of b*/\n",
    "static int maxDivide(int a, int b) \n",
    "{ \n",
    "    while(a % b == 0) \n",
    "        a = a/b; \n",
    "    return a; \n",
    "} \n",
    "\n",
    "/* Function to check if a number  \n",
    "is ugly or not */\n",
    "static int isUgly(int no) \n",
    "{ \n",
    "    no = maxDivide(no, 2); \n",
    "    no = maxDivide(no, 3); \n",
    "    no = maxDivide(no, 5); \n",
    "\n",
    "    return (no == 1)? 1 : 0; \n",
    "} \n",
    "\n",
    "/* Function to get the nth ugly  \n",
    "number*/\n",
    "static int getNthUglyNo(int n) \n",
    "{ \n",
    "    int i = 1; \n",
    "\n",
    "    // ugly number count  \n",
    "    int count = 1;  \n",
    "\n",
    "    // check for all integers  \n",
    "    // until count becomes n  \n",
    "    while(n > count) \n",
    "    { \n",
    "        i++; \n",
    "        if(isUgly(i) == 1) \n",
    "            count++; \n",
    "    } \n",
    "    return i; \n",
    "} \n",
    "\n",
    "/* Driver program to test above \n",
    "functions */\n",
    "public static void main(String args[]) \n",
    "{ \n",
    "    int no = getNthUglyNo(150); \n",
    "    System.out.println(\"150th ugly \"\n",
    "                   + \"no. is \"+ no); \n",
    "} \n",
    "main(args);"
   ]
  },
  {
   "cell_type": "code",
   "execution_count": 69,
   "metadata": {},
   "outputs": [],
   "source": [
    "/*\n",
    "Method 2 (Use Dynamic Programming)\n",
    "\n",
    "Here is a time efficient solution with O(n) extra space. \n",
    "The ugly-number sequence is 1, 2, 3, 4, 5, 6, 8, 9, 10, 12, 15, …\n",
    "\n",
    "because every number can only be divided by 2, 3, 5, \n",
    "one way to look at the sequence is to split the sequence to three groups as below:\n",
    "     (1) 1×2, 2×2, 3×2, 4×2, 5×2, …\n",
    "     (2) 1×3, 2×3, 3×3, 4×3, 5×3, …\n",
    "     (3) 1×5, 2×5, 3×5, 4×5, 5×5, …\n",
    "\n",
    "We can find that every subsequence is the ugly-sequence itself (1, 2, 3, 4, 5, …) multiply 2, 3, 5. \n",
    "Then we use similar merge method as merge sort, \n",
    "    to get every ugly number from the three subsequence. \n",
    "Every step we choose the smallest one, and move one step after.\n",
    "*/"
   ]
  },
  {
   "cell_type": "code",
   "execution_count": 70,
   "metadata": {},
   "outputs": [],
   "source": [
    "/*\n",
    "Time Complexity: O(n)\n",
    "Auxiliary Space: O(n)\n",
    "\n",
    "Algorithm:\n",
    "\n",
    "1 Declare an array for ugly numbers:  ugly[n]\n",
    "2 Initialize first ugly no:  ugly[0] = 1\n",
    "3 Initialize three array index variables i2, i3, i5 to point to \n",
    "   1st element of the ugly array: \n",
    "        i2 = i3 = i5 =0; \n",
    "4 Initialize 3 choices for the next ugly no:\n",
    "         next_mulitple_of_2 = ugly[i2]*2;\n",
    "         next_mulitple_of_3 = ugly[i3]*3\n",
    "         next_mulitple_of_5 = ugly[i5]*5;\n",
    "5 Now go in a loop to fill all ugly numbers till 150:\n",
    "For (i = 1; i < 150; i++ ) \n",
    "{\n",
    "    \n",
    "    next_ugly_no  = Min(next_mulitple_of_2,\n",
    "                        next_mulitple_of_3,\n",
    "                        next_mulitple_of_5); \n",
    "\n",
    "    ugly[i] =  next_ugly_no       \n",
    "\n",
    "    if (next_ugly_no  == next_mulitple_of_2) \n",
    "    {             \n",
    "        i2 = i2 + 1;        \n",
    "        next_mulitple_of_2 = ugly[i2]*2;\n",
    "    } \n",
    "    if (next_ugly_no  == next_mulitple_of_3) \n",
    "    {             \n",
    "        i3 = i3 + 1;        \n",
    "        next_mulitple_of_3 = ugly[i3]*3;\n",
    "     }            \n",
    "     if (next_ugly_no  == next_mulitple_of_5)\n",
    "     {    \n",
    "        i5 = i5 + 1;        \n",
    "        next_mulitple_of_5 = ugly[i5]*5;\n",
    "     } \n",
    "     \n",
    "}\n",
    "6.return next_ugly_no\n",
    "*/"
   ]
  },
  {
   "cell_type": "code",
   "execution_count": 71,
   "metadata": {},
   "outputs": [],
   "source": [
    "/*\n",
    "Example:\n",
    "Let us see how it works\n",
    "\n",
    "initialize\n",
    "   ugly[] =  | 1 |\n",
    "   i2 =  i3 = i5 = 0;\n",
    "\n",
    "First iteration\n",
    "   ugly[1] = Min(ugly[i2]*2, ugly[i3]*3, ugly[i5]*5)\n",
    "            = Min(2, 3, 5)\n",
    "            = 2\n",
    "   ugly[] =  | 1 | 2 |\n",
    "   i2 = 1,  i3 = i5 = 0  (i2 got incremented ) \n",
    "\n",
    "Second iteration\n",
    "    ugly[2] = Min(ugly[i2]*2, ugly[i3]*3, ugly[i5]*5)\n",
    "             = Min(4, 3, 5)\n",
    "             = 3\n",
    "    ugly[] =  | 1 | 2 | 3 |\n",
    "    i2 = 1,  i3 =  1, i5 = 0  (i3 got incremented ) \n",
    "\n",
    "Third iteration\n",
    "    ugly[3] = Min(ugly[i2]*2, ugly[i3]*3, ugly[i5]*5)\n",
    "             = Min(4, 6, 5)\n",
    "             = 4\n",
    "    ugly[] =  | 1 | 2 | 3 |  4 |\n",
    "    i2 = 2,  i3 =  1, i5 = 0  (i2 got incremented )\n",
    "\n",
    "Fourth iteration\n",
    "    ugly[4] = Min(ugly[i2]*2, ugly[i3]*3, ugly[i5]*5)\n",
    "              = Min(6, 6, 5)\n",
    "              = 5\n",
    "    ugly[] =  | 1 | 2 | 3 |  4 | 5 |\n",
    "    i2 = 2,  i3 =  1, i5 = 1  (i5 got incremented )\n",
    "\n",
    "Fifth iteration\n",
    "    ugly[4] = Min(ugly[i2]*2, ugly[i3]*3, ugly[i5]*5)\n",
    "              = Min(6, 6, 10)\n",
    "              = 6\n",
    "    ugly[] =  | 1 | 2 | 3 |  4 | 5 | 6 |\n",
    "    i2 = 3,  i3 =  2, i5 = 1  (i2 and i3 got incremented )\n",
    "\n",
    "Will continue same way till I < 150\n",
    "*/"
   ]
  },
  {
   "cell_type": "code",
   "execution_count": 72,
   "metadata": {},
   "outputs": [],
   "source": [
    "/* Function to get the nth ugly number*/\n",
    "int getNthUglyNo(int n) \n",
    "{ \n",
    "    int ugly[] = new int[n];  // To store ugly numbers \n",
    "    int i2 = 0, i3 = 0, i5 = 0; \n",
    "    int next_multiple_of_2 = 2; \n",
    "    int next_multiple_of_3 = 3; \n",
    "    int next_multiple_of_5 = 5; \n",
    "    int next_ugly_no = 1; \n",
    "\n",
    "    ugly[0] = 1; \n",
    "\n",
    "    for(int i = 1; i < n; i++) \n",
    "    { \n",
    "        next_ugly_no = Math.min(next_multiple_of_2, \n",
    "                              Math.min(next_multiple_of_3, \n",
    "                                    next_multiple_of_5)); \n",
    "\n",
    "        ugly[i] = next_ugly_no; \n",
    "        if (next_ugly_no == next_multiple_of_2) \n",
    "        { \n",
    "           i2 = i2+1; \n",
    "           next_multiple_of_2 = ugly[i2]*2; \n",
    "        } \n",
    "        if (next_ugly_no == next_multiple_of_3) \n",
    "        { \n",
    "           i3 = i3+1; \n",
    "           next_multiple_of_3 = ugly[i3]*3; \n",
    "        } \n",
    "        if (next_ugly_no == next_multiple_of_5) \n",
    "        { \n",
    "           i5 = i5+1; \n",
    "           next_multiple_of_5 = ugly[i5]*5; \n",
    "        } \n",
    "    } /*End of for loop (i=1; i<n; i++) */\n",
    "    return next_ugly_no; \n",
    "} "
   ]
  },
  {
   "cell_type": "code",
   "execution_count": 73,
   "metadata": {},
   "outputs": [
    {
     "name": "stdout",
     "output_type": "stream",
     "text": [
      "5832\n"
     ]
    }
   ],
   "source": [
    "/* Driver program to test above functions */\n",
    "public static void main(String args[]) \n",
    "{ \n",
    "    int n = 150; \n",
    "    System.out.println(getNthUglyNo(n)); \n",
    "} \n",
    "main(args);"
   ]
  },
  {
   "cell_type": "markdown",
   "metadata": {},
   "source": [
    "## **192. Super Ugly Number (Number whose prime factors are in given set)**\n",
    "https://www.geeksforgeeks.org/super-ugly-number-number-whose-prime-factors-given-set/"
   ]
  },
  {
   "cell_type": "code",
   "execution_count": 74,
   "metadata": {},
   "outputs": [],
   "source": [
    "/*\n",
    "Super ugly numbers are positive numbers whose all prime factors are in the given prime list. \n",
    "Given a number n, the task is to find n’th Super Ugly number.\n",
    "\n",
    "It may be assumed that given set of primes is sorted. \n",
    "Also, first Super Ugly number is 1 by convention.\n",
    "*/"
   ]
  },
  {
   "cell_type": "code",
   "execution_count": 75,
   "metadata": {},
   "outputs": [],
   "source": [
    "/*\n",
    "Examples:\n",
    "\n",
    "Input  : primes[] = [2, 5]\n",
    "         n = 5\n",
    "Output : 8\n",
    "Super Ugly numbers with given prime factors \n",
    "are 1, 2, 4, 5, 8, ...\n",
    "Fifth Super Ugly number is 8\n",
    "\n",
    "Input  : primes[] = [2, 3, 5]\n",
    "         n = 50\n",
    "Output : 243\n",
    "\n",
    "Input : primes[] = [3, 5, 7, 11, 13]\n",
    "        n = 9\n",
    "Output: 21\n",
    "*/"
   ]
  },
  {
   "cell_type": "code",
   "execution_count": 76,
   "metadata": {},
   "outputs": [],
   "source": [
    "/*\n",
    "A simple solution for this problem is to one by one pick each number starting from 1 and find its all primes factors, \n",
    "if all prime factors lie in the given set of primes that means number is Super Ugly. \n",
    "Repeat this process until we get n’th Super Ugly Number .\n",
    "*/"
   ]
  },
  {
   "cell_type": "code",
   "execution_count": 77,
   "metadata": {},
   "outputs": [],
   "source": [
    "/*\n",
    "An efficient solution for this problem is similar to Method-2 of Ugly Number. Here is the algorithm :\n",
    "\n",
    "1. Let k be size of given array of prime numbers.\n",
    "2. Declare a set for super ugly numbers.\n",
    "3. Insert first ugly number (which is always 1) into set.\n",
    "4. Initialize array multiple_of[k] of size k with 0. Each element of this array is iterator for corresponding prime in primes[k] array.\n",
    "5. Initialize nextMultipe[k] array with primes[k]. This array behaves like next multiple variables of each prime in given primes[k] array \n",
    "    i.e; nextMultiple[i] = primes[i] * ugly[++multiple_of[i]].\n",
    "6. Now loop until there are n elements in set ugly.\n",
    "    a). Find minimum among current multiples of primes in nextMultiple[] array and insert it in the set of ugly numbers.\n",
    "    b). Then find this current minimum is multiple of which prime .\n",
    "    c). Increase iterator by 1 i.e; ++multiple_Of[i], for next multiple of current selected prime and update nextMultiple for it.\n",
    "*/"
   ]
  },
  {
   "cell_type": "markdown",
   "metadata": {},
   "source": [
    "***https://ideone.com/ltSTp6***"
   ]
  },
  {
   "cell_type": "code",
   "execution_count": 78,
   "metadata": {},
   "outputs": [],
   "source": [
    "/*\n",
    "Time Complexity: O(nlogn)\n",
    "Auxiliary Space: O(n)\n",
    "\n",
    "Another method (using priority_queue)\n",
    "1. Here we use min heap priority_queue.\n",
    "2. The idea is to push the first ugly no. which is 1 into priority_queue \n",
    "   and at every iteration take the top of priority_queue and push all the mulitples of that top into priotiy_queue.\n",
    "3. Assuming a[] = {2, 3, 5},\n",
    "    so at first iteration 1 is top so 1 is popped and 1 * 2, 1 * 3, 1 * 5 is pushed.\n",
    "    At second iteration min is 2, so it is popped and 2 * 2, 2 * 3, 2 * 5 is pushed and so on.\n",
    "*/"
   ]
  },
  {
   "cell_type": "markdown",
   "metadata": {},
   "source": [
    "***https://ideone.com/xFHI49***"
   ]
  },
  {
   "cell_type": "markdown",
   "metadata": {},
   "source": [
    "## **193. Maximum size square sub-matrix with all 1s**\n",
    "https://www.geeksforgeeks.org/maximum-size-sub-matrix-with-all-1s-in-a-binary-matrix/"
   ]
  },
  {
   "cell_type": "code",
   "execution_count": 79,
   "metadata": {},
   "outputs": [],
   "source": [
    "/*\n",
    "Given a binary matrix, find out the maximum size square sub-matrix with all 1s.\n",
    "\n",
    "For example, consider the below binary matrix.\n",
    "*/"
   ]
  },
  {
   "cell_type": "markdown",
   "metadata": {},
   "source": [
    "<img src = \"https://media.geeksforgeeks.org/wp-content/cdn-uploads/Maximum-size-square-sub-matrix-with-all-1s.png\"/>"
   ]
  },
  {
   "cell_type": "code",
   "execution_count": 80,
   "metadata": {},
   "outputs": [],
   "source": [
    "/*\n",
    "Algorithm:\n",
    "\n",
    "Let the given binary matrix be M[R][C]. \n",
    "\n",
    "The idea of the algorithm is to construct an auxiliary size matrix S[][] \n",
    "in which each entry S[i][j] represents size of the square sub-matrix with all 1s including M[i][j] \n",
    "where M[i][j] is the rightmost and bottommost entry in sub-matrix.\n",
    "*/"
   ]
  },
  {
   "cell_type": "code",
   "execution_count": 81,
   "metadata": {},
   "outputs": [],
   "source": [
    "/*\n",
    "1) Construct a sum matrix S[R][C] for the given M[R][C].\n",
    "     a)    Copy first row and first columns as it is from M[][] to S[][]\n",
    "     b)    For other entries, use following expressions to construct S[][]\n",
    "         If M[i][j] is 1 then\n",
    "            S[i][j] = min(S[i][j-1], S[i-1][j], S[i-1][j-1]) + 1\n",
    "         Else //If M[i][j] is 0\n",
    "            S[i][j] = 0\n",
    "2) Find the maximum entry in S[R][C]\n",
    "3) Using the value and coordinates of maximum entry in S[i], print \n",
    "   sub-matrix of M[][]\n",
    "*/"
   ]
  },
  {
   "cell_type": "code",
   "execution_count": 82,
   "metadata": {},
   "outputs": [],
   "source": [
    "/*\n",
    "For the given M[R][C] in above example, constructed S[R][C] would be:\n",
    "\n",
    "   0  1  1  0  1\n",
    "   1  1  0  1  0\n",
    "   0  1  1  1  0\n",
    "   1  1  2  2  0\n",
    "   1  2  2  3  1\n",
    "   0  0  0  0  0\n",
    "*/"
   ]
  },
  {
   "cell_type": "code",
   "execution_count": 83,
   "metadata": {},
   "outputs": [],
   "source": [
    "/*\n",
    "The value of maximum entry in above matrix is 3 and coordinates of the entry are (4, 3). \n",
    "Using the maximum value and its coordinates, \n",
    "    we can find out the required sub-matrix.\n",
    "*/"
   ]
  },
  {
   "cell_type": "code",
   "execution_count": 84,
   "metadata": {},
   "outputs": [],
   "source": [
    "// method for Maximum size square sub-matrix with all 1s \n",
    "static void printMaxSubSquare(int M[][]) \n",
    "{ \n",
    "    int i,j; \n",
    "    int R = M.length;         //no of rows in M[][] \n",
    "    int C = M[0].length;     //no of columns in M[][] \n",
    "    int S[][] = new int[R][C];      \n",
    "\n",
    "    int max_of_s, max_i, max_j;  \n",
    "\n",
    "    /* Set first column of S[][]*/\n",
    "    for(i = 0; i < R; i++) \n",
    "        S[i][0] = M[i][0]; \n",
    "\n",
    "    /* Set first row of S[][]*/\n",
    "    for(j = 0; j < C; j++) \n",
    "        S[0][j] = M[0][j]; \n",
    "\n",
    "    /* Construct other entries of S[][]*/\n",
    "    for(i = 1; i < R; i++) \n",
    "    { \n",
    "        for(j = 1; j < C; j++) \n",
    "        { \n",
    "            if(M[i][j] == 1)  \n",
    "                S[i][j] = Math.min(S[i][j-1], \n",
    "                            Math.min(S[i-1][j], S[i-1][j-1])) + 1; \n",
    "            else\n",
    "                S[i][j] = 0; \n",
    "        }  \n",
    "    }      \n",
    "\n",
    "    /* Find the maximum entry, and indexes of maximum entry  \n",
    "        in S[][] */\n",
    "    max_of_s = S[0][0]; max_i = 0; max_j = 0; \n",
    "    for(i = 0; i < R; i++) \n",
    "    { \n",
    "        for(j = 0; j < C; j++) \n",
    "        { \n",
    "            if(max_of_s < S[i][j]) \n",
    "            { \n",
    "                max_of_s = S[i][j]; \n",
    "                max_i = i;  \n",
    "                max_j = j; \n",
    "            }      \n",
    "        }                  \n",
    "    }      \n",
    "\n",
    "    System.out.println(\"Maximum size sub-matrix is: \"); \n",
    "    for(i = max_i; i > max_i - max_of_s; i--) \n",
    "    { \n",
    "        for(j = max_j; j > max_j - max_of_s; j--) \n",
    "        { \n",
    "            System.out.print(M[i][j] + \" \"); \n",
    "        }  \n",
    "        System.out.println(); \n",
    "    }  \n",
    "} "
   ]
  },
  {
   "cell_type": "code",
   "execution_count": 85,
   "metadata": {},
   "outputs": [
    {
     "name": "stdout",
     "output_type": "stream",
     "text": [
      "Maximum size sub-matrix is: \n",
      "1 1 1 \n",
      "1 1 1 \n",
      "1 1 1 \n"
     ]
    }
   ],
   "source": [
    "// Driver program  \n",
    "public static void main(String[] args)  \n",
    "{ \n",
    "    int M[][] = {{0, 1, 1, 0, 1},  \n",
    "                {1, 1, 0, 1, 0},  \n",
    "                {0, 1, 1, 1, 0}, \n",
    "                {1, 1, 1, 1, 0}, \n",
    "                {1, 1, 1, 1, 1}, \n",
    "                {0, 0, 0, 0, 0}}; \n",
    "\n",
    "    printMaxSubSquare(M); \n",
    "} \n",
    "main(args);"
   ]
  },
  {
   "cell_type": "code",
   "execution_count": 86,
   "metadata": {},
   "outputs": [],
   "source": [
    "/*\n",
    "Time Complexity: O(m*n) where m is number of rows and n is number of columns in the given matrix.\n",
    "Auxiliary Space: O(m*n) where m is number of rows and n is number of columns in the given matrix.\n",
    "*/"
   ]
  },
  {
   "cell_type": "markdown",
   "metadata": {},
   "source": [
    "***https://youtu.be/vI4PE4JdadE***"
   ]
  },
  {
   "cell_type": "markdown",
   "metadata": {},
   "source": [
    "## **194. Subset Sum Problem | DP-25**\n",
    "https://www.geeksforgeeks.org/subset-sum-problem-dp-25/"
   ]
  },
  {
   "cell_type": "code",
   "execution_count": 87,
   "metadata": {},
   "outputs": [],
   "source": [
    "/*\n",
    "Given a set of non-negative integers, and a value sum, \n",
    "determine if there is a subset of the given set with sum equal to given sum.\n",
    "*/"
   ]
  },
  {
   "cell_type": "code",
   "execution_count": 88,
   "metadata": {},
   "outputs": [],
   "source": [
    "/*\n",
    "Example:\n",
    "\n",
    "Input:  set[] = {3, 34, 4, 12, 5, 2}, sum = 9\n",
    "Output:  True  //There is a subset (4, 5) with sum 9.\n",
    "*/"
   ]
  },
  {
   "cell_type": "code",
   "execution_count": 89,
   "metadata": {},
   "outputs": [],
   "source": [
    "/*\n",
    "Let isSubSetSum(int set[], int n, int sum) be the function \n",
    "to find whether there is a subset of set[] with sum equal to sum. n is the number of elements in set[].\n",
    "\n",
    "The isSubsetSum problem can be divided into two subproblems\n",
    "    a) Include the last element, recur for n = n-1, sum = sum – set[n-1]\n",
    "    b) Exclude the last element, recur for n = n-1.\n",
    "If any of the above the above subproblems return true, then return true.\n",
    "*/"
   ]
  },
  {
   "cell_type": "code",
   "execution_count": 90,
   "metadata": {},
   "outputs": [],
   "source": [
    "/*\n",
    "Following is the recursive formula for isSubsetSum() problem.\n",
    "\n",
    "isSubsetSum(set, n, sum) = isSubsetSum(set, n-1, sum) || \n",
    "                           isSubsetSum(set, n-1, sum-set[n-1])\n",
    "Base Cases:\n",
    "isSubsetSum(set, n, sum) = false, if sum > 0 and n == 0\n",
    "isSubsetSum(set, n, sum) = true, if sum == 0 \n",
    "*/"
   ]
  },
  {
   "cell_type": "markdown",
   "metadata": {},
   "source": [
    "<img src = \"https://media.geeksforgeeks.org/wp-content/cdn-uploads/Subset-Sum-Problem1.jpg\"/>"
   ]
  },
  {
   "cell_type": "code",
   "execution_count": 91,
   "metadata": {},
   "outputs": [],
   "source": [
    "/*\n",
    "Following is naive recursive implementation that simply follows the recursive structure mentioned above.\n",
    "*/"
   ]
  },
  {
   "cell_type": "code",
   "execution_count": 92,
   "metadata": {},
   "outputs": [],
   "source": [
    "// Returns true if there is a subset \n",
    "// of set[] with sum equal to given sum \n",
    "static boolean isSubsetSum(int set[], \n",
    "                        int n, int sum) \n",
    "{ \n",
    "    // Base Cases \n",
    "    if (sum == 0) \n",
    "        return true; \n",
    "    if (n == 0 && sum != 0) \n",
    "        return false; \n",
    "\n",
    "    // If last element is greater than  \n",
    "    // sum, then ignore it \n",
    "    if (set[n-1] > sum) \n",
    "        return isSubsetSum(set, n-1, sum); \n",
    "\n",
    "    /* else, check if sum can be obtained  \n",
    "    by any of the following \n",
    "        (a) including the last element \n",
    "        (b) excluding the last element */\n",
    "    return isSubsetSum(set, n-1, sum) ||  \n",
    "        isSubsetSum(set, n-1, sum-set[n-1]); \n",
    "} "
   ]
  },
  {
   "cell_type": "code",
   "execution_count": 93,
   "metadata": {},
   "outputs": [
    {
     "name": "stdout",
     "output_type": "stream",
     "text": [
      "Found a subset with given sum\n"
     ]
    }
   ],
   "source": [
    "/* Driver program to test above function */\n",
    "public static void main (String args[]) \n",
    "{ \n",
    "    int set[] = {3, 34, 4, 12, 5, 2}; \n",
    "    int sum = 9; \n",
    "    int n = set.length; \n",
    "    if (isSubsetSum(set, n, sum) == true) \n",
    "        System.out.println(\"Found a subset\" + \" with given sum\"); \n",
    "    else\n",
    "        System.out.println(\"No subset with\" + \" given sum\"); \n",
    "} \n",
    "main(args);"
   ]
  },
  {
   "cell_type": "code",
   "execution_count": 94,
   "metadata": {},
   "outputs": [],
   "source": [
    "/*\n",
    "Time complexity of the above solution is O(sum*n).\n",
    "\n",
    "The above solution may try all subsets of given set in worst case. \n",
    "Therefore time complexity of the above solution is exponential. \n",
    "The problem is in-fact NP-Complete (There is no known polynomial time solution for this problem).\n",
    "\n",
    "We can solve the problem in Pseudo-polynomial time using Dynamic programming. \n",
    "We create a boolean 2D table subset[][] and fill it in bottom up manner. \n",
    "The value of subset[i][j] will be true \n",
    "    if there is a subset of set[0..j-1] with sum equal to i., \n",
    "otherwise \n",
    "    false. \n",
    "Finally, we return subset[sum][n]\n",
    "*/"
   ]
  },
  {
   "cell_type": "code",
   "execution_count": 95,
   "metadata": {},
   "outputs": [],
   "source": [
    "// Returns true if there is a subset of  \n",
    "// set[] with sun equal to given sum \n",
    "static boolean isSubsetSum(int set[],  \n",
    "                         int n, int sum) \n",
    "{ \n",
    "    // The value of subset[i][j] will be \n",
    "    // true if there is a subset of  \n",
    "    // set[0..j-1] with sum equal to i \n",
    "    boolean subset[][] =  \n",
    "                 new boolean[sum+1][n+1]; \n",
    "\n",
    "    // If sum is 0, then answer is true \n",
    "    for (int i = 0; i <= n; i++) \n",
    "        subset[0][i] = true; \n",
    "\n",
    "    // If sum is not 0 and set is empty, \n",
    "    // then answer is false \n",
    "    for (int i = 1; i <= sum; i++) \n",
    "        subset[i][0] = false; \n",
    "\n",
    "    // Fill the subset table in botton \n",
    "    // up manner \n",
    "    for (int i = 1; i <= sum; i++) \n",
    "    { \n",
    "        for (int j = 1; j <= n; j++) \n",
    "        { \n",
    "            subset[i][j] = subset[i][j-1]; \n",
    "            if (i >= set[j-1]) \n",
    "            subset[i][j] = subset[i][j] ||  \n",
    "                 subset[i - set[j-1]][j-1]; \n",
    "        } \n",
    "    } \n",
    "\n",
    "    /* // uncomment this code to print table \n",
    "    for (int i = 0; i <= sum; i++) \n",
    "    { \n",
    "    for (int j = 0; j <= n; j++) \n",
    "        System.out.println (subset[i][j]); \n",
    "    } */\n",
    "\n",
    "    return subset[sum][n]; \n",
    "} "
   ]
  },
  {
   "cell_type": "code",
   "execution_count": 96,
   "metadata": {},
   "outputs": [
    {
     "name": "stdout",
     "output_type": "stream",
     "text": [
      "Found a subset with given sum\n"
     ]
    }
   ],
   "source": [
    "/* Driver program to test above function */\n",
    "public static void main (String args[]) \n",
    "{ \n",
    "    int set[] = {3, 34, 4, 12, 5, 2}; \n",
    "    int sum = 9; \n",
    "    int n = set.length; \n",
    "    if (isSubsetSum(set, n, sum) == true) \n",
    "        System.out.println(\"Found a subset\" + \" with given sum\"); \n",
    "    else\n",
    "        System.out.println(\"No subset\"+\" with given sum\"); \n",
    "} \n",
    "main(args);"
   ]
  },
  {
   "cell_type": "markdown",
   "metadata": {},
   "source": [
    "**Related Link**\n",
    "\n",
    "***https://www.geeksforgeeks.org/subset-sum-problem-osum-space/***\n",
    "\n",
    "***https://www.geeksforgeeks.org/perfect-sum-problem-print-subsets-given-sum/***"
   ]
  },
  {
   "cell_type": "markdown",
   "metadata": {},
   "source": [
    "## **195. Minimum number of jumps to reach end**\n",
    "https://www.geeksforgeeks.org/minimum-number-of-jumps-to-reach-end-of-a-given-array/"
   ]
  },
  {
   "cell_type": "code",
   "execution_count": 97,
   "metadata": {},
   "outputs": [],
   "source": [
    "/*\n",
    "Given an array of integers \n",
    "where each element represents the max number of steps that can be made forward from that element. \n",
    "\n",
    "Write a function to return the minimum number of jumps to reach the end of the array (starting from the first element). \n",
    "If an element is 0, then cannot move through that element.\n",
    "*/"
   ]
  },
  {
   "cell_type": "markdown",
   "metadata": {},
   "source": [
    "**Relatd Link :**  ***https://www.geeksforgeeks.org/minimum-number-jumps-reach-endset-2on-solution/***"
   ]
  },
  {
   "cell_type": "code",
   "execution_count": 98,
   "metadata": {},
   "outputs": [],
   "source": [
    "/*\n",
    "Example:\n",
    "\n",
    "Input: arr[] = {1, 3, 5, 8, 9, 2, 6, 7, 6, 8, 9}\n",
    "Output: 3 (1-> 3 -> 8 ->9)\n",
    "\n",
    "First element is 1, so can only go to 3. \n",
    "Second element is 3, so can make at most 3 steps \n",
    "eg to 5 or 8 or 9.\n",
    "*/"
   ]
  },
  {
   "cell_type": "code",
   "execution_count": 99,
   "metadata": {},
   "outputs": [],
   "source": [
    "/*\n",
    "Method 1 (Naive Recursive Approach)\n",
    "\n",
    "A naive approach is to start from the first element and recursively call for all the elements reachable from first element. \n",
    "The minimum number of jumps to reach end from first can be calculated \n",
    "    using minimum number of jumps needed to reach end from the elements reachable from first.\n",
    "\n",
    "minJumps(start, end) = Min ( minJumps(k, end) ) for all k reachable from start\n",
    "*/"
   ]
  },
  {
   "cell_type": "code",
   "execution_count": 100,
   "metadata": {},
   "outputs": [
    {
     "name": "stdout",
     "output_type": "stream",
     "text": [
      "Minimum number of jumps to reach end is 4"
     ]
    }
   ],
   "source": [
    "// Returns minimum number of \n",
    "// jumps to reach arr[h] from arr[l] \n",
    "static int minJumps(int arr[], int l, int h) \n",
    "{ \n",
    "    // Base case: when source \n",
    "    // and destination are same \n",
    "    if (h == l) \n",
    "        return 0; \n",
    "\n",
    "    // When nothing is reachable \n",
    "    // from the given source \n",
    "    if (arr[l] == 0) \n",
    "        return Integer.MAX_VALUE; \n",
    "\n",
    "    // Traverse through all the points \n",
    "    // reachable from arr[l]. Recursively \n",
    "    // get the minimum number of jumps \n",
    "    // needed to reach arr[h] from these \n",
    "    // reachable points. \n",
    "    int min = Integer.MAX_VALUE; \n",
    "    for (int i = l + 1; i <= h && i <= l + arr[l]; i++) { \n",
    "        int jumps = minJumps(arr, i, h); \n",
    "        if (jumps != Integer.MAX_VALUE && jumps + 1 < min) \n",
    "            min = jumps + 1; \n",
    "    } \n",
    "    return min; \n",
    "} \n",
    "\n",
    "// Driver code \n",
    "public static void main(String args[]) \n",
    "{ \n",
    "    int arr[] = { 1, 3, 6, 3, 2, 3, 6, 8, 9, 5 }; \n",
    "    int n = arr.length; \n",
    "    System.out.print(\"Minimum number of jumps to reach end is \"\n",
    "                     + minJumps(arr, 0, n - 1)); \n",
    "} \n",
    "main(args);"
   ]
  },
  {
   "cell_type": "code",
   "execution_count": 101,
   "metadata": {},
   "outputs": [],
   "source": [
    "/*\n",
    "If we trace the execution of this method, \n",
    "    we can see that there will be overlapping subproblems. \n",
    "\n",
    "For example, \n",
    "minJumps(3, 9) will be called two times as arr[3] is reachable from arr[1] and arr[2]. \n",
    "So this problem has both properties (optimal substructure and overlapping subproblems) of Dynamic Programming.\n",
    "*/"
   ]
  },
  {
   "cell_type": "code",
   "execution_count": 102,
   "metadata": {},
   "outputs": [],
   "source": [
    "/*\n",
    "Method 2 (Dynamic Programming)\n",
    "Time Complexity: O(n^2)\n",
    "\n",
    "In this method, \n",
    "we build a jumps[] array from left to right \n",
    "    such that jumps[i] indicates the minimum number of jumps needed to reach arr[i] from arr[0]. \n",
    "Finally, we return jumps[n-1].\n",
    "*/"
   ]
  },
  {
   "cell_type": "code",
   "execution_count": 103,
   "metadata": {},
   "outputs": [
    {
     "name": "stdout",
     "output_type": "stream",
     "text": [
      "Minimum number of jumps to reach end is : 3\n"
     ]
    }
   ],
   "source": [
    "private static int minJumps(int[] arr, int n) \n",
    "{ \n",
    "    int jumps[] = new int[n]; // jumps[n-1] will hold the \n",
    "    // result \n",
    "    int i, j; \n",
    "\n",
    "    if (n == 0 || arr[0] == 0) \n",
    "        return Integer.MAX_VALUE; // if first element is 0, \n",
    "    // end cannot be reached \n",
    "\n",
    "    jumps[0] = 0; \n",
    "\n",
    "    // Find the minimum number of jumps to reach arr[i] \n",
    "    // from arr[0], and assign this value to jumps[i] \n",
    "    for (i = 1; i < n; i++) { \n",
    "        jumps[i] = Integer.MAX_VALUE; \n",
    "        for (j = 0; j < i; j++) { \n",
    "            if (i <= j + arr[j] && jumps[j] != Integer.MAX_VALUE) { \n",
    "                jumps[i] = Math.min(jumps[i], jumps[j] + 1); \n",
    "                break; \n",
    "            } \n",
    "        } \n",
    "    } \n",
    "    return jumps[n - 1]; \n",
    "} \n",
    "\n",
    "// driver program to test above function \n",
    "public static void main(String[] args) \n",
    "{ \n",
    "    int arr[] = { 1, 3, 6, 1, 0, 9 }; \n",
    "\n",
    "    System.out.println(\"Minimum number of jumps to reach end is : \" + minJumps(arr, arr.length)); \n",
    "} \n",
    "main(args);"
   ]
  },
  {
   "cell_type": "code",
   "execution_count": 104,
   "metadata": {},
   "outputs": [],
   "source": [
    "/*\n",
    "Method 3 (Dynamic Programming)\n",
    "Time Complexity: O(n^2) in worst case.\n",
    "\n",
    "In this method, \n",
    "    we build jumps[] array from right to left \n",
    "    such that jumps[i] indicates the minimum number of jumps needed to reach arr[n-1] from arr[i]. \n",
    "Finally, we return arr[0].\n",
    "*/"
   ]
  },
  {
   "cell_type": "code",
   "execution_count": 105,
   "metadata": {},
   "outputs": [
    {
     "name": "stdout",
     "output_type": "stream",
     "text": [
      "Minimum number of jumps to reach end is 3\n"
     ]
    }
   ],
   "source": [
    "// Returns Minimum number \n",
    "// of jumps to reach end \n",
    "static int minJumps(int arr[], \n",
    "                    int n) \n",
    "{ \n",
    "    // jumps[0] will \n",
    "    // hold the result \n",
    "    int[] jumps = new int[n]; \n",
    "    int min; \n",
    "\n",
    "    // Minimum number of jumps \n",
    "    // needed to reach last \n",
    "    // element from last elements \n",
    "    // itself is always 0 \n",
    "    jumps[n - 1] = 0; \n",
    "\n",
    "    // Start from the second \n",
    "    // element, move from right \n",
    "    // to left and construct the \n",
    "    // jumps[] array where jumps[i] \n",
    "    // represents minimum number of \n",
    "    // jumps needed to reach arr[m-1] \n",
    "    // from arr[i] \n",
    "    for (int i = n - 2; i >= 0; i--) { \n",
    "        // If arr[i] is 0 then arr[n-1] \n",
    "        // can't be reached from here \n",
    "        if (arr[i] == 0) \n",
    "            jumps[i] = Integer.MAX_VALUE; \n",
    "\n",
    "        // If we can direcly reach to \n",
    "        // the end point from here then \n",
    "        // jumps[i] is 1 \n",
    "        else if (arr[i] >= n - i - 1) \n",
    "            jumps[i] = 1; \n",
    "\n",
    "        // Otherwise, to find out \n",
    "        // the minimum number of \n",
    "        // jumps needed to reach \n",
    "        // arr[n-1], check all the \n",
    "        // points reachable from \n",
    "        // here and jumps[] value \n",
    "        // for those points \n",
    "        else { \n",
    "            // initialize min value \n",
    "            min = Integer.MAX_VALUE; \n",
    "\n",
    "            // following loop checks \n",
    "            // with all reachable points \n",
    "            // and takes the minimum \n",
    "            for (int j = i + 1; j < n && j <= arr[i] + i; j++) { \n",
    "                if (min > jumps[j]) \n",
    "                    min = jumps[j]; \n",
    "            } \n",
    "\n",
    "            // Handle overflow \n",
    "            if (min != Integer.MAX_VALUE) \n",
    "                jumps[i] = min + 1; \n",
    "            else\n",
    "                jumps[i] = min; // or Integer.MAX_VALUE \n",
    "        } \n",
    "    } \n",
    "\n",
    "    return jumps[0]; \n",
    "} \n",
    "\n",
    "// Driver Code \n",
    "public static void main(String[] args) \n",
    "{ \n",
    "    int[] arr = { 1, 3, 6, 1, 0, 9 }; \n",
    "    int size = arr.length; \n",
    "    System.out.println(\"Minimum number of\"\n",
    "                       + \" jumps to reach end is \" + minJumps(arr, size)); \n",
    "} \n",
    "main(args);"
   ]
  },
  {
   "cell_type": "code",
   "execution_count": null,
   "metadata": {},
   "outputs": [],
   "source": []
  }
 ],
 "metadata": {
  "kernelspec": {
   "display_name": "Java",
   "language": "java",
   "name": "java"
  },
  "language_info": {
   "codemirror_mode": "java",
   "file_extension": ".jshell",
   "mimetype": "text/x-java-source",
   "name": "Java",
   "pygments_lexer": "java",
   "version": "11.0.6+8-LTS"
  },
  "toc": {
   "base_numbering": 1,
   "nav_menu": {},
   "number_sections": true,
   "sideBar": true,
   "skip_h1_title": false,
   "title_cell": "Table of Contents",
   "title_sidebar": "Contents",
   "toc_cell": false,
   "toc_position": {},
   "toc_section_display": true,
   "toc_window_display": true
  }
 },
 "nbformat": 4,
 "nbformat_minor": 2
}
